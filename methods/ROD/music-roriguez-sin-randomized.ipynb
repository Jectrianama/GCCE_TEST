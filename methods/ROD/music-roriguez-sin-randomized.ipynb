{
 "cells": [
  {
   "cell_type": "markdown",
   "id": "8648ca3d",
   "metadata": {
    "id": "Cy45HoPn5SpZ",
    "papermill": {
     "duration": 0.010996,
     "end_time": "2023-02-09T15:24:32.057054",
     "exception": false,
     "start_time": "2023-02-09T15:24:32.046058",
     "status": "completed"
    },
    "tags": []
   },
   "source": [
    "# Loss function Rodrigues\n",
    "\n",
    "$𝒟 = \\{ \\mathbf{x}_n, \\mathbf{y}_n\\}$ be a dataset of size $N$\n",
    "\n",
    "$\\mathbf{x}_n \\in \\mathbb{R}^D$\n",
    "\n",
    "${\\mathbf{y}}^r_n\\in[0,1]^K$:   label provided for the r-th annotator in a set of R annotators\n",
    "\n",
    "$𝒛_n$ Latent true class determined by a softmax output layer  of a DNN\n",
    "\n",
    "\n",
    "$\\mathbf{\\sigma}\\in \\mathbb{R} ^Q$: DNN-based feature representation. correspond to the output of a softmax layer\n",
    "\n",
    "$\\hat{\\mathbf{y}}^r_n = f_r(\\sigma)\\in[0,1]^{1 \\times K}$\n",
    "\n",
    "$\\hat{\\mathbf{y}}_n=[\\hat{\\mathbf{y}}^1_n,\\hat{\\mathbf{y}}^2_n,\\dots,\\hat{\\mathbf{y}}^R_n]\\in [0,1]^{1\\times (R\\times K)}$\n",
    "\n",
    "Activation of the crowd layer for each anotator  $ \\mathbf{a}^r = f_r(\\sigma)$, where $f_r$ is an annotator-specific function, and the output of the crowd layer simply as the softmax of the\n",
    "activations $o_c^r = e^{a_c^r}/\\sum_{l=1}^{C}e^{a_l^r}$.\n",
    "\n",
    "\n",
    " $f_r(\\sigma)= \\mathbf{W}^r\\mathbf{\\sigma}$\n",
    "\n",
    " $\\mathbf{W}^r$ is an annotator-specific matrix\n",
    "\n",
    " **Cost function**\n",
    "\n",
    " $E(\\mathbf{o}^r, y^r)$\n",
    " between the expected output of the r-th annotator and its actual label $y^r$,\n",
    "\n",
    "Then, \n",
    "\n",
    "if we make. $\\lambda_n^r(\\theta) = \\mathbf{1}$ in PRI loss\n",
    "\n",
    "\n",
    "\n",
    "$$\\min_\\theta \\sum_n\\left(\\sum_r \\lambda_n^r(\\theta)H({\\mathbf{y}}^r_n;\\hat{\\mathbf{y}}_n(\\theta))\\right)+\\left(H(\\hat{\\mathbf{y}}_n(\\theta))\\sum_r\\left(1-\\lambda_n^r(\\theta)\\right)\\right)$$\n",
    "\n",
    " \n",
    "we can obtain rodriguez\n",
    "\n",
    "\n",
    "$$\\min_\\theta \\sum_n\\left(\\sum_r (\\mathbf{1})H({\\mathbf{y}}^r_n;\\hat{\\mathbf{y}}_n(\\theta))\\right)+\\left(H(\\hat{\\mathbf{y}}_n(\\theta))\\sum_r\\left(1-\\mathbf{1}\\right)\\right)$$"
   ]
  },
  {
   "cell_type": "code",
   "execution_count": 1,
   "id": "2c5643e6",
   "metadata": {
    "execution": {
     "iopub.execute_input": "2023-02-09T15:24:32.079058Z",
     "iopub.status.busy": "2023-02-09T15:24:32.078405Z",
     "iopub.status.idle": "2023-02-09T15:24:32.082799Z",
     "shell.execute_reply": "2023-02-09T15:24:32.082124Z"
    },
    "id": "Htu1kN9-jZO1",
    "papermill": {
     "duration": 0.017315,
     "end_time": "2023-02-09T15:24:32.084573",
     "exception": false,
     "start_time": "2023-02-09T15:24:32.067258",
     "status": "completed"
    },
    "tags": []
   },
   "outputs": [],
   "source": [
    "#!pip install tensorflow==2.7.0\n",
    "#!pip install scikeras "
   ]
  },
  {
   "cell_type": "code",
   "execution_count": 2,
   "id": "56a6aa0f",
   "metadata": {
    "execution": {
     "iopub.execute_input": "2023-02-09T15:24:32.106642Z",
     "iopub.status.busy": "2023-02-09T15:24:32.106053Z",
     "iopub.status.idle": "2023-02-09T15:24:36.893617Z",
     "shell.execute_reply": "2023-02-09T15:24:36.892490Z"
    },
    "id": "Gw-I1LpOjkw3",
    "outputId": "ebc8e065-e200-4131-fc8b-2ae9efe8d1d7",
    "papermill": {
     "duration": 4.801469,
     "end_time": "2023-02-09T15:24:36.896159",
     "exception": false,
     "start_time": "2023-02-09T15:24:32.094690",
     "status": "completed"
    },
    "tags": []
   },
   "outputs": [
    {
     "name": "stdout",
     "output_type": "stream",
     "text": [
      "--2023-02-09 15:24:32--  https://docs.google.com/uc?export=download&confirm=t&id=1SQnWXGROG2Xexs5vn3twuv7SqiWG5njW\r\n",
      "Resolving docs.google.com (docs.google.com)... 173.194.211.101, 173.194.211.102, 173.194.211.139, ...\r\n",
      "Connecting to docs.google.com (docs.google.com)|173.194.211.101|:443... connected.\r\n",
      "HTTP request sent, awaiting response... 303 See Other\r\n",
      "Location: https://doc-00-90-docs.googleusercontent.com/docs/securesc/ha0ro937gcuc7l7deffksulhg5h7mbp1/8qmp9li7flc13npqi9oc2gpsa9k3ub7h/1675956225000/07591141114418430227/*/1SQnWXGROG2Xexs5vn3twuv7SqiWG5njW?e=download&uuid=81189d9b-7e16-4527-9112-2d0551ceb3ac [following]\r\n",
      "Warning: wildcards not supported in HTTP.\r\n",
      "--2023-02-09 15:24:32--  https://doc-00-90-docs.googleusercontent.com/docs/securesc/ha0ro937gcuc7l7deffksulhg5h7mbp1/8qmp9li7flc13npqi9oc2gpsa9k3ub7h/1675956225000/07591141114418430227/*/1SQnWXGROG2Xexs5vn3twuv7SqiWG5njW?e=download&uuid=81189d9b-7e16-4527-9112-2d0551ceb3ac\r\n",
      "Resolving doc-00-90-docs.googleusercontent.com (doc-00-90-docs.googleusercontent.com)... 142.251.162.132, 2607:f8b0:400c:c38::84\r\n",
      "Connecting to doc-00-90-docs.googleusercontent.com (doc-00-90-docs.googleusercontent.com)|142.251.162.132|:443... connected.\r\n",
      "HTTP request sent, awaiting response... 200 OK\r\n",
      "Length: 156530728 (149M) [application/zip]\r\n",
      "Saving to: ‘MADatasets.zip’\r\n",
      "\r\n",
      "MADatasets.zip      100%[===================>] 149.28M   113MB/s    in 1.3s    \r\n",
      "\r\n",
      "2023-02-09 15:24:34 (113 MB/s) - ‘MADatasets.zip’ saved [156530728/156530728]\r\n",
      "\r\n",
      "Archive:  MADatasets.zip\r\n",
      "  inflating: MADatasets/util.py      \r\n",
      "  inflating: MADatasets/Iris1.mat    \r\n",
      "  inflating: MADatasets/Integra_Labels.mat  \r\n",
      "  inflating: MADatasets/MAGenerationClassification.py  \r\n",
      "  inflating: MADatasets/Voice.mat    \r\n",
      "  inflating: MADatasets/Iris.mat     \r\n",
      "  inflating: MADatasets/Sinthetic.mat  \r\n",
      "  inflating: MADatasets/MAGenerationClassification_1.py  \r\n",
      "  inflating: MADatasets/Bupa1.mat    \r\n",
      "  inflating: MADatasets/TicTacToe1.mat  \r\n",
      "  inflating: MADatasets/Wine.mat     \r\n",
      "  inflating: MADatasets/Breast1.mat  \r\n",
      "  inflating: MADatasets/Breast.mat   \r\n",
      "  inflating: MADatasets/Music.mat    \r\n",
      "  inflating: MADatasets/Pima.mat     \r\n",
      "  inflating: MADatasets/Ionosphere.mat  \r\n",
      "  inflating: MADatasets/TicTacToe.mat  \r\n",
      "  inflating: MADatasets/VoiceData.m  \r\n",
      "  inflating: MADatasets/util_1.py    \r\n",
      "  inflating: MADatasets/Ionosphere1.mat  \r\n",
      "  inflating: MADatasets/__pycache__/util_1.cpython-37.pyc  \r\n",
      "  inflating: MADatasets/Bupa.mat     \r\n",
      "  inflating: MADatasets/Wine1.mat    \r\n",
      "  inflating: MADatasets/__pycache__/util.cpython-37.pyc  \r\n",
      "  inflating: MADatasets/Pima1.mat    \r\n",
      "  inflating: MADatasets/Segmentation1.mat  \r\n",
      "  inflating: MADatasets/Western.mat  \r\n",
      "  inflating: MADatasets/Integra_Preprocesamiento_Seg_Caracterizacion_time_frec.mat  \r\n",
      "  inflating: MADatasets/Western1.mat  \r\n",
      "  inflating: MADatasets/Segmentation.mat  \r\n",
      "  inflating: MADatasets/Skin_NonSkin.mat  \r\n",
      "  inflating: MADatasets/Skin_NonSkin1.mat  \r\n",
      "  inflating: MADatasets/Occupancy1.mat  \r\n",
      "  inflating: MADatasets/Polarity.mat  \r\n",
      "  inflating: MADatasets/Occupancy.mat  \r\n",
      "MADatasets  MADatasets.zip  __notebook__.ipynb\r\n"
     ]
    }
   ],
   "source": [
    "#cargar datos desde drive acceso libre\n",
    "FILEID = \"1SQnWXGROG2Xexs5vn3twuv7SqiWG5njW\"\n",
    "#https://drive.google.com/file/d/1SQnWXGROG2Xexs5vn3twuv7SqiWG5njW/view?usp=sharing\n",
    "!wget --load-cookies /tmp/cookies.txt \"https://docs.google.com/uc?export=download&confirm=$(wget --quiet --save-cookies /tmp/cookies.txt --keep-session-cookies --no-check-certificate 'https://docs.google.com/uc?export=download&id='$FILEID -O- | sed -rn 's/.*confirm=([0-9A-Za-z_]+).*/\\1\\n/p')&id=\"$FILEID -O MADatasets.zip && rm -rf /tmp/cookies.txt\n",
    "!unzip -o MADatasets.zip\n",
    "!dir"
   ]
  },
  {
   "cell_type": "markdown",
   "id": "0db6ff47",
   "metadata": {
    "id": "lYGUr8mv4EuV",
    "papermill": {
     "duration": 0.011151,
     "end_time": "2023-02-09T15:24:36.919936",
     "exception": false,
     "start_time": "2023-02-09T15:24:36.908785",
     "status": "completed"
    },
    "tags": []
   },
   "source": [
    "# Subclassing for Crowdlayer Rodriguez"
   ]
  },
  {
   "cell_type": "code",
   "execution_count": 3,
   "id": "632e88b1",
   "metadata": {
    "execution": {
     "iopub.execute_input": "2023-02-09T15:24:36.944978Z",
     "iopub.status.busy": "2023-02-09T15:24:36.944602Z",
     "iopub.status.idle": "2023-02-09T15:24:43.434924Z",
     "shell.execute_reply": "2023-02-09T15:24:43.433894Z"
    },
    "papermill": {
     "duration": 6.505725,
     "end_time": "2023-02-09T15:24:43.437270",
     "exception": false,
     "start_time": "2023-02-09T15:24:36.931545",
     "status": "completed"
    },
    "tags": []
   },
   "outputs": [],
   "source": [
    "\n",
    "import tensorflow as tf\n",
    "import numpy as np\n",
    "from scipy.io import loadmat\n",
    "from sklearn.preprocessing import StandardScaler\n",
    "from scipy.io import savemat\n",
    "from sklearn.metrics import roc_auc_score\n",
    "from sklearn.preprocessing import LabelBinarizer\n",
    "from sklearn.preprocessing import OneHotEncoder\n",
    "from scipy.stats import mode \n",
    "import pandas as pd\n",
    "import matplotlib.pyplot as plt \n",
    "from sklearn.metrics import roc_auc_score\n",
    "from sklearn.decomposition import PCA\n",
    "\n",
    "def ook(t):\n",
    "  lb = LabelBinarizer()\n",
    "  y_ook = lb.fit_transform(t)  \n",
    "\n",
    "  if len(np.unique(t))==2:\n",
    "    y_ook = np.concatenate((1-y_ook.astype(bool), y_ook), axis = 1) \n",
    "\n",
    "  return y_ook\n",
    "\n",
    "\n",
    "def scheduler1(step = 10, ratio = 1.2):\n",
    "  def scheduler(epoch, lr):\n",
    "    if epoch % step == 0 and epoch>1:\n",
    "      return lr/ratio\n",
    "    else:\n",
    "      return lr\n",
    "  return scheduler"
   ]
  },
  {
   "cell_type": "code",
   "execution_count": 4,
   "id": "3ae8e79c",
   "metadata": {
    "execution": {
     "iopub.execute_input": "2023-02-09T15:24:43.461332Z",
     "iopub.status.busy": "2023-02-09T15:24:43.460781Z",
     "iopub.status.idle": "2023-02-09T15:24:46.176807Z",
     "shell.execute_reply": "2023-02-09T15:24:46.175682Z"
    },
    "id": "p5fJiVgC3FKO",
    "papermill": {
     "duration": 2.730546,
     "end_time": "2023-02-09T15:24:46.179158",
     "exception": false,
     "start_time": "2023-02-09T15:24:43.448612",
     "status": "completed"
    },
    "tags": []
   },
   "outputs": [],
   "source": [
    "# -*- coding: utf-8 -*-\n",
    "import tensorflow as tf\n",
    "import matplotlib.pyplot as plt\n",
    "#from tensorflow.keras.wrappers.scikit_learn import KerasClassifier\n",
    "import tensorflow_probability as tfp\n",
    "from tensorflow.keras import regularizers\n",
    "from sklearn.base import  BaseEstimator, TransformerMixin, ClassifierMixin\n",
    "from sklearn.model_selection import train_test_split\n",
    "tf.keras.backend.clear_session()\n",
    "#tf.random.set_seed(42)\n",
    "import types\n",
    "import tempfile\n",
    "class Keras_MA_CrowdL(): #transformer no va\n",
    " #Constructor __init__. Special method: identified by a double underscore at either side of their name\n",
    " #work in the background\n",
    " # initialize data members to the object. lets the class initialize the object’s attributes and serves no other purpose.\n",
    "    def __init__(self,epochs=70,batch_size=30,R=5, K=2, dropout=0.5, learning_rate=1e-3,optimizer='Adam', \n",
    "                  l1_param=0, validation_split=0.3, verbose=0):\n",
    "        #print('init')\n",
    "        self.epochs=epochs\n",
    "        self.dropout=dropout\n",
    "        self.batch_size = batch_size\n",
    "        self.learning_rate=learning_rate \n",
    "        self.l1_param=l1_param \n",
    "        self.l2_param=l1_param\n",
    "        self.validation_split = validation_split\n",
    "        self.verbose = verbose\n",
    "        self.optimizer = optimizer\n",
    "        self.R=R\n",
    "        self.K=K\n",
    "\n",
    "        \n",
    "    \n",
    "    def custom_CLR_loss(self, y_true, y_pred):\n",
    "        #tf.print(y_true.shape)\n",
    "        #tf.print(y_pred.shape)\n",
    "        vec = tf.nn.softmax_cross_entropy_with_logits(logits=y_pred, labels=y_true, axis = 1)\n",
    "        mask = tf.equal(y_true[:,0,:], -1)\n",
    "        zer = tf.zeros_like(vec)\n",
    "        loss = tf.where(mask, x=zer, y=vec)\n",
    "        return loss\n",
    "\n",
    "#     def custom_CLR_loss(self, y_true, y_pred): #ytrue \\in N x R,  ypred \\in N x K x R  ->CrowdLayerRodriguez\n",
    "#        # tf.print(tf.cast(y_true,dtype=tf.int32))\n",
    "#         Y_true_1K = tf.one_hot(tf.cast(y_true,dtype=tf.int32),depth=self.K,axis=1) #samples, classes 1-K, annotators\n",
    "#         #Y_true_1K = tf.one_hot(y_true,depth=self.K,axis=1) #samples, classes 1-K, annotators\n",
    "          \n",
    "        \n",
    "#         #print(vec.shape)\n",
    "#         mask = tf.equal(Y_true_1K[:,0,:], -1)\n",
    "#         tf.print(Y_true_1K[:,0,:])\n",
    "#         vec = tf.nn.softmax_cross_entropy_with_logits(logits=y_pred, labels=Y_true_1K, axis = 1)\n",
    "#         zer = tf.zeros_like(vec)\n",
    "#         loss = tf.where(mask, x=zer, y=vec)\n",
    "#         #tf.print(\"loss\", tf.math.reduce_sum(loss))\n",
    "#         return tf.math.reduce_sum(loss)\n",
    "\n",
    " \n",
    "    def fit(self, X, Y):\n",
    "        P = X.shape[1]\n",
    "        if self.optimizer == \"Adam\":\n",
    "            opt = tf.keras.optimizers.Adam(learning_rate=self.learning_rate)\n",
    "        elif self.optimizer == \"SGD\":\n",
    "            opt = tf.keras.optimizers.SGD(learning_rate=self.learning_rate)\n",
    "        else:\n",
    "            opt=self.optimizer\n",
    "\n",
    "        #capa de entrada\n",
    "        input_l = tf.keras.layers.Input(shape=(X.shape[1]), name='entrada')\n",
    "        #capas densas\n",
    "        h1 = tf.keras.layers.Dense(int(P*1.5*(self.K+self.R)),activation='selu',name='h1',\n",
    "                              kernel_regularizer=tf.keras.regularizers.l1_l2(l1=self.l1_param,l2=self.l2_param))(input_l)#argumento de entrada\n",
    "        h2 = tf.keras.layers.Dense(int(P*(self.K+self.R)),activation='selu',name='h2',\n",
    "                              kernel_regularizer=tf.keras.regularizers.l1_l2(l1=self.l1_param,l2=self.l2_param))(h1)\n",
    "        dout = tf.keras.layers.Dropout(rate=self.dropout)(h2)\n",
    "        output_dense = tf.keras.layers.Dense(self.K,activation=\"softmax\",name='output',\n",
    "                               kernel_regularizer=tf.keras.regularizers.l1_l2(l1=self.l1_param,l2=self.l2_param))(dout)\n",
    "        output= CrowdsClassification(self.K, self.R, conn_type=\"MW\")(output_dense) #Classes x Annotators\n",
    "        self.model = tf.keras.Model(inputs= input_l,outputs=output)\n",
    "        self.model.compile(loss= self.custom_CLR_loss, optimizer=opt)\n",
    "        self.history = self.model.fit(X, Y, epochs=self.epochs, validation_split= self.validation_split,   #\n",
    "                                      batch_size=self.batch_size, verbose=self.verbose)\n",
    "        #model_p  to predict labels in gridsearch  \n",
    "        self.model_p = tf.keras.Model(inputs=self.model.inputs,outputs=self.model.get_layer('output').output) #se accede a capas por nombre\n",
    "        #resumen y gráfica del modelo\n",
    "        #print(self.model.summary())\n",
    "        \n",
    "        return self\n",
    "\n",
    "    def predict2(self, X, *_):\n",
    "      return  np.argmax(self.model_p.predict(X), axis=1)    \n",
    "     \n",
    "    def predict(self, X, *_):\n",
    "\n",
    "       #print('predict') \n",
    "       return  self.model.predict(X) \n",
    "\n",
    "    def fit_predict(self,X,y):\n",
    "        #input X numpy array first dimension samples (N)x features (P)\n",
    "        #input Y numpy array vector len = samples (N) x  annotators (R)\n",
    "        \n",
    "        self.fit(X,y)\n",
    "        return self.predict(X)\n",
    "  \n",
    "     #graphics\n",
    "    def plot_history(self):\n",
    "        pd.DataFrame(self.history.history).plot(figsize=(8, 5))\n",
    "        plt.grid(True)\n",
    "        #plt.gca().set_ylim(0, 1)\n",
    "        #save_fig(\"keras_learning_curves_plot\")\n",
    "        plt.show()\n",
    "        return\n",
    "    \n",
    "    def set_params(self, **parameters):\n",
    "        #print('set_params') \n",
    "        for parameter, value in parameters.items():\n",
    "            setattr(self, parameter, value)\n",
    "\n",
    "        return self\n",
    "    \n",
    "    \n",
    "    \n",
    "    def get_params(self, deep=True):\n",
    "        #print('get_params') \n",
    "        return { 'l1_param':self.l1_param, 'dropout':self.dropout, 'optimizer':self.optimizer,\n",
    "                'learning_rate':self.learning_rate, 'batch_size':self.batch_size,\n",
    "                'epochs':self.epochs, 'verbose':self.verbose, 'validation_split':self.validation_split,\n",
    "                'R':self.R, 'K':self.K\n",
    "                }"
   ]
  },
  {
   "cell_type": "markdown",
   "id": "9b7ac05c",
   "metadata": {
    "id": "b9yV0N4v4U_3",
    "papermill": {
     "duration": 0.010748,
     "end_time": "2023-02-09T15:24:46.201142",
     "exception": false,
     "start_time": "2023-02-09T15:24:46.190394",
     "status": "completed"
    },
    "tags": []
   },
   "source": [
    "# Crowdlayer class"
   ]
  },
  {
   "cell_type": "code",
   "execution_count": 5,
   "id": "255b1d83",
   "metadata": {
    "execution": {
     "iopub.execute_input": "2023-02-09T15:24:46.225799Z",
     "iopub.status.busy": "2023-02-09T15:24:46.225364Z",
     "iopub.status.idle": "2023-02-09T15:24:46.249330Z",
     "shell.execute_reply": "2023-02-09T15:24:46.248346Z"
    },
    "id": "4ysb7umL3FKN",
    "papermill": {
     "duration": 0.039034,
     "end_time": "2023-02-09T15:24:46.251243",
     "exception": false,
     "start_time": "2023-02-09T15:24:46.212209",
     "status": "completed"
    },
    "tags": []
   },
   "outputs": [],
   "source": [
    "import matplotlib.pyplot as plt\n",
    " \n",
    "import numpy as np\n",
    "import tensorflow as tf\n",
    "import tensorflow.keras as keras\n",
    "from tensorflow.keras import backend as K1\n",
    "from tensorflow.keras.layers import Layer\n",
    "#from tensorflow.keras.engine.topology import Layer\n",
    "\n",
    "def init_identities(shape, dtype=None):\n",
    "    out = np.zeros(shape)\n",
    "    for r in range(shape[2]):\n",
    "        for i in range(shape[0]):\n",
    "            out[i,i,r] = 1.0\n",
    "    return out\n",
    "    \n",
    "class CrowdsClassification(Layer):\n",
    "\n",
    "\n",
    "  \n",
    "  #The build() method’s role is to create the layer’s variables, by calling the \n",
    "  #add_weight() method for each weight.  which is often necessary to create some of the weights.\n",
    "  #we need to know the number of neurons in the previous layer in order to create the connection weights matrix (i.e., the \"kernel\"): \n",
    "  #this corresponds to the size of the last dimension of the inputs. \n",
    "   \n",
    "    def __init__(self, output_dim, num_annotators, conn_type=\"MW\", **kwargs):\n",
    "        self.output_dim = output_dim\n",
    "        self.num_annotators = num_annotators\n",
    "        self.conn_type = conn_type\n",
    "        super(CrowdsClassification, self).__init__(**kwargs)\n",
    "\n",
    "\n",
    "\n",
    "    def build(self, input_shape):\n",
    "        if self.conn_type == \"MW\":\n",
    "            # matrix of weights per annotator\n",
    "      #A layer is a callable object that takes as input one or more tensors and that outputs one or more tensors. \n",
    "      #It involves computation, defined in the call() method, and a state (weight variables). \n",
    "      #the method add_weight() offers a shortcut to create weights.\n",
    "\n",
    "            self.kernel = self.add_weight(\"CrowdLayer\", (self.output_dim, self.output_dim, self.num_annotators),\n",
    "                                            initializer=init_identities, #It is the stated initializer instance\n",
    "                                            trainable=True) # trainable weights, updated via backpropagation during training\n",
    "        elif self.conn_type == \"VW\":\n",
    "            # vector of weights (one scale per class) per annotator\n",
    "            self.kernel = self.add_weight(\"CrowdLayer\", (self.output_dim, self.num_annotators),\n",
    "                                            initializer=keras.initializers.Ones(), \n",
    "                                            trainable=True)\n",
    "        elif self.conn_type == \"VB\":\n",
    "            # two vectors of weights (one scale and one bias per class) per annotator\n",
    "            self.kernel = []\n",
    "            self.kernel.append(self.add_weight(\"CrowdLayer\", (self.output_dim, self.num_annotators),\n",
    "                                            initializer=keras.initializers.Zeros(),\n",
    "                                            trainable=True))\n",
    "        elif self.conn_type == \"VW+B\":\n",
    "            # two vectors of weights (one scale and one bias per class) per annotator\n",
    "            self.kernel = []\n",
    "            self.kernel.append(self.add_weight(\"CrowdLayer\", (self.output_dim, self.num_annotators),\n",
    "                                            initializer=keras.initializers.Ones(),\n",
    "                                            trainable=True))\n",
    "            self.kernel.append(self.add_weight(\"CrowdLayer\", (self.output_dim, self.num_annotators),\n",
    "                                            initializer=keras.initializers.Zeros(),\n",
    "                                            trainable=True))\n",
    "        elif self.conn_type == \"SW\":\n",
    "            # single weight value per annotator\n",
    "            self.kernel = self.add_weight(\"CrowdLayer\", (self.num_annotators,1),\n",
    "                                            initializer=keras.initializers.Ones(),\n",
    "                                            trainable=True)\n",
    "        else:\n",
    "            raise Exception(\"Unknown connection type for CrowdsClassification layer!\")\n",
    "    #At the end of the build() method (and only at the end), \n",
    "    #you must call the parent’s build() method: this tells Keras that the layer is built (it just sets self.built = True).\n",
    "        super(CrowdsClassification, self).build(input_shape)  # Be sure to call this somewhere!\n",
    "\n",
    "    def call(self, x):\n",
    "    \n",
    "    #The call() method actually performs the desired operations. In this case, \n",
    "    #we compute the matrix multiplication of the inputs X and the layer’s kernel and \n",
    "    #this gives us the output of the layer.\n",
    "     \n",
    " \n",
    "\n",
    "        if self.conn_type == \"MW\":\n",
    "            res = K1.dot(x, self.kernel)\n",
    "        elif self.conn_type == \"VW\" or self.conn_type == \"VB\" or self.conn_type == \"VW+B\" or self.conn_type == \"SW\":\n",
    "            out = []\n",
    "            for r in range(self.num_annotators):\n",
    "                if self.conn_type == \"VW\":\n",
    "                    out.append(x * self.kernel[:,r])\n",
    "                elif self.conn_type == \"VB\":\n",
    "                    out.append(x + self.kernel[0][:,r])\n",
    "                elif self.conn_type == \"VW+B\":\n",
    "                    out.append(x * self.kernel[0][:,r] + self.kernel[1][:,r])\n",
    "                elif self.conn_type == \"SW\":\n",
    "                    out.append(x * self.kernel[r,0])\n",
    "            res = tf.stack(out)\n",
    "            if len(res.shape) == 3:\n",
    "                res = tf.transpose(res, [1, 2, 0])\n",
    "            elif len(res.shape) == 4:\n",
    "                res = tf.transpose(res, [1, 2, 3, 0])\n",
    "            else:\n",
    "                raise Exception(\"Wrong number of dimensions for output\")\n",
    "        else:\n",
    "            raise Exception(\"Unknown connection type for CrowdsClassification layer!\") \n",
    "        \n",
    "        return res\n",
    " \n",
    "#The compute_output_shape() method simply returns the shape of this layer’s outputs. \n",
    "#In this case, it is the same shape as the inputs, except the last two dimensions is replaced \n",
    "#with the number of clases and # annotators in the layer.  \n",
    " \n",
    "\n",
    "    def compute_output_shape(self, input_shape):\n",
    "        return (input_shape[0], self.output_dim, self.num_annotators)\n",
    "    \n",
    "class MaskedMultiCrossEntropy(object):\n",
    "\n",
    "    def loss(self, y_true, y_pred):\n",
    "        #tf.print(y_true.shape)\n",
    "        #tf.print(y_pred.shape)\n",
    "        vec = tf.nn.softmax_cross_entropy_with_logits(logits=y_pred, labels=y_true, axis = 1)\n",
    "        mask = tf.equal(y_true[:,0,:], -1)\n",
    "        zer = tf.zeros_like(vec)\n",
    "        loss = tf.where(mask, x=zer, y=vec)\n",
    "        return loss\n",
    "\n"
   ]
  },
  {
   "cell_type": "markdown",
   "id": "4bb4a5db",
   "metadata": {
    "id": "xKzPN5lnHO13",
    "papermill": {
     "duration": 0.010839,
     "end_time": "2023-02-09T15:24:46.273863",
     "exception": false,
     "start_time": "2023-02-09T15:24:46.263024",
     "status": "completed"
    },
    "tags": []
   },
   "source": [
    "# Load Data"
   ]
  },
  {
   "cell_type": "code",
   "execution_count": 6,
   "id": "57089ebb",
   "metadata": {
    "execution": {
     "iopub.execute_input": "2023-02-09T15:24:46.297563Z",
     "iopub.status.busy": "2023-02-09T15:24:46.297182Z",
     "iopub.status.idle": "2023-02-09T15:24:46.317126Z",
     "shell.execute_reply": "2023-02-09T15:24:46.315988Z"
    },
    "id": "hA1QFlPBjpbA",
    "outputId": "db5be05d-1fdc-4725-8064-5dc79e7a9a6a",
    "papermill": {
     "duration": 0.034354,
     "end_time": "2023-02-09T15:24:46.319157",
     "exception": false,
     "start_time": "2023-02-09T15:24:46.284803",
     "status": "completed"
    },
    "tags": []
   },
   "outputs": [
    {
     "data": {
      "text/plain": [
       "dict_keys(['__header__', '__version__', '__globals__', 'Xtest', 'Xtrain', 'Ytrain', 'vRef', 'ytest', 'ytrain'])"
      ]
     },
     "execution_count": 6,
     "metadata": {},
     "output_type": "execute_result"
    }
   ],
   "source": [
    "#load data\n",
    "import scipy.io as sio\n",
    "import matplotlib.pyplot as plt\n",
    "import pandas as pd\n",
    "import tensorflow as tf #importar tensorflow\n",
    "from sklearn.model_selection import GridSearchCV, RandomizedSearchCV\n",
    "from sklearn.preprocessing import StandardScaler,MinMaxScaler\n",
    "import numpy as np\n",
    " \n",
    "database = 'Music' #['bupa1', 'breast-cancer-wisconsin1','pima-indians-diabetes1', 'ionosphere1', 'tic-tac-toe1', 'iris1', 'wine1', 'segmentation1']\n",
    "\n",
    "\n",
    "path_ = 'MADatasets/'+ database+ '.mat' \n",
    "Xdata = sio.loadmat(path_)\n",
    "Xdata.keys()"
   ]
  },
  {
   "cell_type": "code",
   "execution_count": 7,
   "id": "00b6ee71",
   "metadata": {
    "execution": {
     "iopub.execute_input": "2023-02-09T15:24:46.344239Z",
     "iopub.status.busy": "2023-02-09T15:24:46.343048Z",
     "iopub.status.idle": "2023-02-09T15:24:46.351679Z",
     "shell.execute_reply": "2023-02-09T15:24:46.350344Z"
    },
    "id": "Hqmwm8kJj7HL",
    "papermill": {
     "duration": 0.023978,
     "end_time": "2023-02-09T15:24:46.354571",
     "exception": false,
     "start_time": "2023-02-09T15:24:46.330593",
     "status": "completed"
    },
    "tags": []
   },
   "outputs": [
    {
     "name": "stdout",
     "output_type": "stream",
     "text": [
      "Xtrain (700, 124) Xtest (300, 124) Y_true_train (700,) Y_train (700, 44) Y_true_test (300,)\n"
     ]
    }
   ],
   "source": [
    "Xtrain = Xdata['Xtrain']\n",
    "Xtest = Xdata['Xtest']\n",
    "Y_train =  Xdata['Ytrain']\n",
    "vref = Xdata['vRef']\n",
    "\n",
    "Y_true_train= Xdata['ytrain'].reshape(-1)\n",
    "Y_true_test  = Xdata['ytest'].reshape(-1)\n",
    "\n",
    "print('Xtrain', Xtrain.shape, 'Xtest',Xtest.shape,  'Y_true_train', Y_true_train.shape, 'Y_train',Y_train.shape, 'Y_true_test',Y_true_test.shape)\n",
    "  \n"
   ]
  },
  {
   "cell_type": "code",
   "execution_count": 8,
   "id": "a75f2df8",
   "metadata": {
    "execution": {
     "iopub.execute_input": "2023-02-09T15:24:46.380282Z",
     "iopub.status.busy": "2023-02-09T15:24:46.379855Z",
     "iopub.status.idle": "2023-02-09T15:24:46.390305Z",
     "shell.execute_reply": "2023-02-09T15:24:46.388471Z"
    },
    "id": "xnqtxG_x3FKL",
    "papermill": {
     "duration": 0.027304,
     "end_time": "2023-02-09T15:24:46.394090",
     "exception": false,
     "start_time": "2023-02-09T15:24:46.366786",
     "status": "completed"
    },
    "tags": []
   },
   "outputs": [
    {
     "name": "stdout",
     "output_type": "stream",
     "text": [
      "643\n",
      "691\n",
      "683\n",
      "697\n",
      "673\n",
      "392\n",
      "650\n",
      "690\n",
      "639\n",
      "421\n",
      "550\n",
      "362\n",
      "695\n",
      "693\n",
      "671\n",
      "669\n",
      "693\n",
      "685\n",
      "397\n",
      "694\n",
      "685\n",
      "695\n",
      "688\n",
      "669\n",
      "673\n",
      "696\n",
      "663\n",
      "695\n",
      "661\n",
      "688\n",
      "690\n",
      "689\n",
      "670\n",
      "567\n",
      "696\n",
      "404\n",
      "697\n",
      "332\n",
      "696\n",
      "595\n",
      "697\n",
      "633\n",
      "690\n",
      "698\n"
     ]
    }
   ],
   "source": [
    "Ytrain_sel = np.zeros((Y_train.shape[0], 9))\n",
    "np.unique(Y_train[:,0].astype(int))\n",
    "k = 0\n",
    "for i in range(Y_train.shape[1]):\n",
    "    elm_count = np.count_nonzero(Y_train[:,i]== -1e+20)\n",
    "    print(elm_count)\n",
    "    if elm_count <= Y_train.shape[0]*0.85:\n",
    "        Ytrain_sel[:,k] = Y_train[:,i]\n",
    "        k=k+1\n",
    "       # print( \"anotador\", str(i), ' aprobo umbral del 15%')"
   ]
  },
  {
   "cell_type": "code",
   "execution_count": 9,
   "id": "cc091489",
   "metadata": {
    "execution": {
     "iopub.execute_input": "2023-02-09T15:24:46.419867Z",
     "iopub.status.busy": "2023-02-09T15:24:46.419518Z",
     "iopub.status.idle": "2023-02-09T15:24:46.426323Z",
     "shell.execute_reply": "2023-02-09T15:24:46.425327Z"
    },
    "papermill": {
     "duration": 0.022253,
     "end_time": "2023-02-09T15:24:46.428693",
     "exception": false,
     "start_time": "2023-02-09T15:24:46.406440",
     "status": "completed"
    },
    "tags": []
   },
   "outputs": [
    {
     "data": {
      "text/plain": [
       "(700, 9)"
      ]
     },
     "execution_count": 9,
     "metadata": {},
     "output_type": "execute_result"
    }
   ],
   "source": [
    "Ytrain_sel.astype('int').shape"
   ]
  },
  {
   "cell_type": "markdown",
   "id": "41c13d00",
   "metadata": {
    "id": "uudDcV4wHiuI",
    "papermill": {
     "duration": 0.01122,
     "end_time": "2023-02-09T15:24:46.451514",
     "exception": false,
     "start_time": "2023-02-09T15:24:46.440294",
     "status": "completed"
    },
    "tags": []
   },
   "source": [
    "# Split data"
   ]
  },
  {
   "cell_type": "code",
   "execution_count": 10,
   "id": "786e9f8d",
   "metadata": {
    "execution": {
     "iopub.execute_input": "2023-02-09T15:24:46.476158Z",
     "iopub.status.busy": "2023-02-09T15:24:46.475734Z",
     "iopub.status.idle": "2023-02-09T15:24:46.490677Z",
     "shell.execute_reply": "2023-02-09T15:24:46.488775Z"
    },
    "papermill": {
     "duration": 0.030324,
     "end_time": "2023-02-09T15:24:46.493416",
     "exception": false,
     "start_time": "2023-02-09T15:24:46.463092",
     "status": "completed"
    },
    "tags": []
   },
   "outputs": [
    {
     "name": "stdout",
     "output_type": "stream",
     "text": [
      "(700,)\n"
     ]
    },
    {
     "data": {
      "text/plain": [
       "array([ 64, 404, 641, 400,   9, 321, 458, 151, 287, 689, 535, 699, 494,\n",
       "       499, 460, 413, 587,  51, 492, 234,  54, 175, 238, 359,  10, 670,\n",
       "        96,  13, 329, 520,  94, 199, 442, 319, 679, 289, 654, 463,  76,\n",
       "       471, 212, 401, 402,  43, 274, 337, 348, 567, 639, 551, 547, 617,\n",
       "       382, 515, 286, 305, 443, 544, 370, 488, 323, 207, 288, 230, 555,\n",
       "       198,  36, 481, 398,   4, 342, 495, 486, 446, 114, 678, 134, 125,\n",
       "       432, 550, 275, 185, 657, 137, 293, 562,  97, 478, 627, 386, 415,\n",
       "        78, 484, 614,  57, 225, 192, 642, 390,  31, 222, 336,  19, 239,\n",
       "        56, 130, 221, 462, 202, 613, 171, 447, 191, 360,  16, 211, 394,\n",
       "       621, 563, 695, 646, 663, 389, 554, 373, 680,  30, 150, 561, 656,\n",
       "       475, 284, 611, 354, 668, 263, 676, 684, 553, 278, 630, 669, 594,\n",
       "       218, 309,  21, 565, 514, 372, 560, 452, 273, 308, 371, 582, 482,\n",
       "       606, 109, 294, 522, 383, 575,  95, 327, 368, 176, 615, 158, 392,\n",
       "       418, 143, 167, 479, 129, 517, 533, 546, 503, 111,  23, 343, 504,\n",
       "        42,   0, 451, 427,  58, 665, 586, 155, 196,  40, 181, 539, 411,\n",
       "       119, 407,  28, 698, 696, 673,   1, 419, 416, 524, 250, 385, 498,\n",
       "        50, 525, 485, 271, 417, 186, 126, 120, 344, 160,  46, 391,  11,\n",
       "       448, 113, 477,  45, 357, 459, 380,  80, 306, 697, 253, 362, 588,\n",
       "        88, 692, 466, 548, 166, 607, 595, 545, 104, 661, 132, 558, 312,\n",
       "        12, 242, 101, 264, 530, 428, 209, 644, 605, 441, 435, 232, 300,\n",
       "       107, 624, 536, 425, 208, 317,  69, 602, 626, 307, 254, 578, 108,\n",
       "       180, 636, 172, 631, 204, 241, 603, 333, 542, 326, 658,  85, 409,\n",
       "       260, 141,   2, 395, 685, 513,  87, 162, 258, 374, 249, 650, 528,\n",
       "       379, 652, 224, 572, 169, 674, 381, 456,  83,  65, 177, 133, 648,\n",
       "       660, 213, 569, 159, 634, 612, 220, 439, 589, 472,  61, 574, 269,\n",
       "       318, 502, 622,  14, 252, 436, 251, 165, 123, 384, 335, 361, 295,\n",
       "       255, 340, 675, 328, 197, 100, 235,  99, 559, 376, 690, 297, 518,\n",
       "       422, 688, 541, 683, 632, 543, 557, 426, 189, 187,  35, 527, 369,\n",
       "       148, 454, 194, 182, 304,  74, 397, 651,  39, 467, 124, 387, 506,\n",
       "       564, 236, 591,  53, 483, 566, 245, 403, 584, 316, 430, 465, 346,\n",
       "       121, 378,  79, 464, 437, 474, 147, 246, 210, 406, 223, 568, 473,\n",
       "       282, 440, 599, 608, 142, 195, 358, 694, 110, 146,  59, 334, 117,\n",
       "        29, 511, 102, 248,  37, 215, 549, 444,  17, 188,  73, 163, 325,\n",
       "       157, 577,  55, 106,  38, 200, 410, 681,  84, 365, 647, 173, 279,\n",
       "       276, 521, 666, 664, 620, 596, 154, 140,  91,  52, 449,  18, 581,\n",
       "       156,  72, 310, 445, 296,  90, 193, 322, 256, 672, 618, 347, 375,\n",
       "       597, 635,  47, 526, 349, 280, 330, 205, 507, 610, 122, 183, 487,\n",
       "       179, 138, 431,  63, 489, 377, 351,  26, 423, 314, 265, 609, 388,\n",
       "        92, 352, 523,  41, 655, 240, 127,  25, 217,  60, 592, 420, 315,\n",
       "       299, 320, 508, 625,  34, 450, 429, 103, 616, 540, 598, 324, 170,\n",
       "       272,  48, 468, 469, 691,   7, 556, 116, 178, 604,  89,  86, 509,\n",
       "       583, 532, 366,  15, 516, 501, 259, 184, 490, 341, 290, 470, 261,\n",
       "       237, 226,   8,  22, 405, 396, 115, 257, 628, 247, 531, 131, 693,\n",
       "       537, 353, 339, 653,  67, 424, 505, 270, 414, 145,  68, 623, 438,\n",
       "       600, 677, 638, 640, 593, 399, 480, 421,  49, 161,  20,  77, 500,\n",
       "       227, 643, 277, 579,  81, 667, 244,  62,  75, 267, 457, 367, 128,\n",
       "       331, 206, 229, 649, 332, 682, 671, 629, 164, 262, 619, 112, 529,\n",
       "       203,  71,   3, 313,  27, 512, 687, 434, 570, 491, 174, 311, 168,\n",
       "       281, 497, 292, 149, 393, 118, 363,  70, 552,  66, 455, 519,  32,\n",
       "       637, 139, 303, 534, 364, 266,  98, 345, 412,  82, 350, 135, 201,\n",
       "       408, 601, 356, 576, 231, 216, 510,  24, 476, 538, 144, 355, 590,\n",
       "       580,  93, 659, 338, 571, 136, 298, 152, 686, 645, 219, 285, 453,\n",
       "       283, 228, 573, 301, 190,   6,  33,  44, 493, 496, 268, 105, 233,\n",
       "       633, 243, 585, 214, 433,   5, 302, 662, 291, 153, 461])"
      ]
     },
     "execution_count": 10,
     "metadata": {},
     "output_type": "execute_result"
    }
   ],
   "source": [
    "N = Y_true_train.shape[0]\n",
    "Nk = 1\n",
    "Ntr = round(N)\n",
    "train_index = np.zeros((Ntr))\n",
    "rng = np.random.default_rng(seed=123)\n",
    " \n",
    "aux = rng.permutation(N, axis=0)\n",
    "train_index = aux[0:Ntr]\n",
    "print(train_index.shape)\n",
    "\n",
    " \n",
    "X_train, Y_train, = Xtrain[train_index,:], Ytrain_sel[train_index,:]\n",
    "Y_true_train = Y_true_train[train_index].reshape(-1,1)\n",
    "train_index"
   ]
  },
  {
   "cell_type": "code",
   "execution_count": 11,
   "id": "25ad9465",
   "metadata": {
    "execution": {
     "iopub.execute_input": "2023-02-09T15:24:46.520059Z",
     "iopub.status.busy": "2023-02-09T15:24:46.519320Z",
     "iopub.status.idle": "2023-02-09T15:24:46.531828Z",
     "shell.execute_reply": "2023-02-09T15:24:46.530553Z"
    },
    "papermill": {
     "duration": 0.029152,
     "end_time": "2023-02-09T15:24:46.534675",
     "exception": false,
     "start_time": "2023-02-09T15:24:46.505523",
     "status": "completed"
    },
    "tags": []
   },
   "outputs": [
    {
     "name": "stdout",
     "output_type": "stream",
     "text": [
      "(300,)\n"
     ]
    },
    {
     "data": {
      "text/plain": [
       "array([273, 192, 169, 162,  91, 120,  38, 251, 195,  65, 290, 249,  99,\n",
       "       296,  46, 239, 258,  72, 134, 189, 116,  53, 280, 246, 205, 247,\n",
       "       113,  87, 151, 278, 240,  80,  18,  54, 129, 245, 132,   2, 196,\n",
       "       283, 202, 224, 145, 130, 263,  74,  52, 127, 104, 126, 212,  51,\n",
       "       241, 235, 250,  31, 262,  95,   9, 138, 114,  28, 101, 238,  41,\n",
       "       185,  60, 167, 259, 161,  43, 256, 204, 163, 265, 157,  45, 203,\n",
       "       217, 140, 277, 171,  16, 109,  84, 223,  23,  35, 260, 257, 267,\n",
       "        90, 270, 103, 284,  39,  50, 184, 170, 287,  79, 194, 292, 123,\n",
       "       227, 122, 148, 188, 299,  48, 210, 264, 117,  15, 176, 165,  63,\n",
       "        56, 106,  85, 197,  69, 166, 154, 295,  96, 220, 248,  42, 175,\n",
       "       146, 115,   1, 293, 206, 172, 215,  97,  83, 281, 275, 159,  14,\n",
       "       218, 234, 160, 236, 213, 181, 143, 102,  49,  34, 180,  86,  77,\n",
       "       242, 279,  21, 211,  81, 269, 186, 229, 298, 193, 252,  62, 230,\n",
       "        11, 111, 128, 131,  75,   4,   8, 208,  37,  19, 182,  20,  92,\n",
       "        76, 286,  12, 237, 164, 272, 155, 285, 207, 112,  17, 198, 294,\n",
       "       142,  71, 183,   3, 173, 119,  57,  27,   0, 289, 141, 178,  58,\n",
       "       209, 174, 110,  67,  55, 168, 274,  25,  36, 276, 266, 149, 137,\n",
       "       244,  88, 200, 107,  30,  29,  70,  40,  66, 199,   7,  32, 125,\n",
       "       139,  47,  22, 221, 158, 124, 108,  10,  98, 261, 118, 156,  82,\n",
       "        94,  13, 135, 201, 177, 271,  89, 226, 100,  64, 231, 179, 216,\n",
       "        24, 253,  26, 144,  78, 222,  68,  93, 147,  59, 136, 152, 288,\n",
       "       133, 232, 187, 191, 297, 282, 255, 225, 254, 228,  61, 190,   6,\n",
       "        33,  44, 268, 105, 233, 121, 243,  73, 214,   5, 150, 219, 291,\n",
       "       153])"
      ]
     },
     "execution_count": 11,
     "metadata": {},
     "output_type": "execute_result"
    }
   ],
   "source": [
    "N = Y_true_test.shape[0]\n",
    "Nk = 1\n",
    "Nte = round(N)\n",
    "test_index = np.zeros((Nte))\n",
    "#test_index = np.zeros((N-Ntr))\n",
    "rng = np.random.default_rng( seed=123)\n",
    "#for i in range(Nk):\n",
    "    \n",
    "aux = rng.permutation(N, axis=0)\n",
    "#print(aux)\n",
    "test_index = aux[0:Nte]\n",
    "#print(idxtr)\n",
    "#test_index= aux[Ntr+1:] \n",
    "print(test_index.shape)\n",
    "\n",
    "  \n",
    "X_test = Xtest[test_index,:]\n",
    "Y_true_test = Y_true_test[test_index].reshape(-1,1)\n",
    "test_index"
   ]
  },
  {
   "cell_type": "code",
   "execution_count": 12,
   "id": "ede1146b",
   "metadata": {
    "execution": {
     "iopub.execute_input": "2023-02-09T15:24:46.560688Z",
     "iopub.status.busy": "2023-02-09T15:24:46.560254Z",
     "iopub.status.idle": "2023-02-09T15:24:46.566953Z",
     "shell.execute_reply": "2023-02-09T15:24:46.565350Z"
    },
    "papermill": {
     "duration": 0.022727,
     "end_time": "2023-02-09T15:24:46.569741",
     "exception": false,
     "start_time": "2023-02-09T15:24:46.547014",
     "status": "completed"
    },
    "tags": []
   },
   "outputs": [],
   "source": [
    "def one_hot(target, n_classes):\n",
    "    targets = np.array([target]).reshape(-1)\n",
    "    one_hot_targets = np.eye(n_classes)[targets]\n",
    "    return one_hot_targets"
   ]
  },
  {
   "cell_type": "markdown",
   "id": "01079cc6",
   "metadata": {
    "id": "kgDMRggXHo0X",
    "papermill": {
     "duration": 0.012672,
     "end_time": "2023-02-09T15:24:46.595243",
     "exception": false,
     "start_time": "2023-02-09T15:24:46.582571",
     "status": "completed"
    },
    "tags": []
   },
   "source": [
    "# Apply MinMaxScaler"
   ]
  },
  {
   "cell_type": "code",
   "execution_count": 13,
   "id": "9e1ab49e",
   "metadata": {
    "execution": {
     "iopub.execute_input": "2023-02-09T15:24:46.621693Z",
     "iopub.status.busy": "2023-02-09T15:24:46.620620Z",
     "iopub.status.idle": "2023-02-09T15:24:46.627456Z",
     "shell.execute_reply": "2023-02-09T15:24:46.626417Z"
    },
    "id": "33XT7bGs3FKN",
    "papermill": {
     "duration": 0.022472,
     "end_time": "2023-02-09T15:24:46.629859",
     "exception": false,
     "start_time": "2023-02-09T15:24:46.607387",
     "status": "completed"
    },
    "tags": []
   },
   "outputs": [],
   "source": [
    "scaler = MinMaxScaler()\n",
    "scaler.fit(X_train)\n",
    "X_train = scaler.transform(X_train)\n",
    "X_test = scaler.transform(X_test)"
   ]
  },
  {
   "cell_type": "code",
   "execution_count": 14,
   "id": "87e4cc9c",
   "metadata": {
    "execution": {
     "iopub.execute_input": "2023-02-09T15:24:46.656261Z",
     "iopub.status.busy": "2023-02-09T15:24:46.655156Z",
     "iopub.status.idle": "2023-02-09T15:24:46.664095Z",
     "shell.execute_reply": "2023-02-09T15:24:46.662271Z"
    },
    "id": "Ce-Lhs1K3FKO",
    "papermill": {
     "duration": 0.024577,
     "end_time": "2023-02-09T15:24:46.666548",
     "exception": false,
     "start_time": "2023-02-09T15:24:46.641971",
     "status": "completed"
    },
    "tags": []
   },
   "outputs": [
    {
     "name": "stdout",
     "output_type": "stream",
     "text": [
      "(700, 124) (700, 9)\n"
     ]
    }
   ],
   "source": [
    "import numpy.matlib as npm\n",
    "#testing PRI as ground truth -> repeat true labels as multiple annotators\n",
    "Y_true_train_K = npm.repmat(Y_true_train,1, Y_train.shape[1])#testing MA as classifier\n",
    "print(X_train.shape,Y_true_train_K.shape)\n",
    "# Y_train_one_hot_targets = tf.one_hot(tf.cast(Y_train , tf.int32), len(np.unique(Y_true_test)), axis = 1, dtype=tf.int32)\n",
    "# Y_train_one_hot_targets.shape"
   ]
  },
  {
   "cell_type": "code",
   "execution_count": 15,
   "id": "0523f8fe",
   "metadata": {
    "execution": {
     "iopub.execute_input": "2023-02-09T15:24:46.692749Z",
     "iopub.status.busy": "2023-02-09T15:24:46.692390Z",
     "iopub.status.idle": "2023-02-09T15:24:46.697870Z",
     "shell.execute_reply": "2023-02-09T15:24:46.697054Z"
    },
    "papermill": {
     "duration": 0.020433,
     "end_time": "2023-02-09T15:24:46.699669",
     "exception": false,
     "start_time": "2023-02-09T15:24:46.679236",
     "status": "completed"
    },
    "tags": []
   },
   "outputs": [],
   "source": [
    "Y_true_train = Y_true_train-1\n",
    "Y_true_test = Y_true_test -1\n",
    "Y_train[Y_train != vref] -= 1\n",
    "Y_train[Y_train == vref] = -1"
   ]
  },
  {
   "cell_type": "code",
   "execution_count": 16,
   "id": "5dcc89b1",
   "metadata": {
    "execution": {
     "iopub.execute_input": "2023-02-09T15:24:46.725357Z",
     "iopub.status.busy": "2023-02-09T15:24:46.724546Z",
     "iopub.status.idle": "2023-02-09T15:24:46.729772Z",
     "shell.execute_reply": "2023-02-09T15:24:46.728751Z"
    },
    "papermill": {
     "duration": 0.020088,
     "end_time": "2023-02-09T15:24:46.731674",
     "exception": false,
     "start_time": "2023-02-09T15:24:46.711586",
     "status": "completed"
    },
    "tags": []
   },
   "outputs": [],
   "source": [
    "Y_true_test1 = Y_true_test"
   ]
  },
  {
   "cell_type": "code",
   "execution_count": 17,
   "id": "06418089",
   "metadata": {
    "execution": {
     "iopub.execute_input": "2023-02-09T15:24:46.757473Z",
     "iopub.status.busy": "2023-02-09T15:24:46.757082Z",
     "iopub.status.idle": "2023-02-09T15:24:46.764540Z",
     "shell.execute_reply": "2023-02-09T15:24:46.763374Z"
    },
    "papermill": {
     "duration": 0.022826,
     "end_time": "2023-02-09T15:24:46.766505",
     "exception": false,
     "start_time": "2023-02-09T15:24:46.743679",
     "status": "completed"
    },
    "tags": []
   },
   "outputs": [
    {
     "data": {
      "text/plain": [
       "array([[ 7., -1., -1., ..., -1.,  2., -1.],\n",
       "       [-1.,  5., -1., ..., -1., -1.,  3.],\n",
       "       [-1., -1., -1., ..., -1.,  4., -1.],\n",
       "       ...,\n",
       "       [-1.,  4.,  4., ..., -1.,  2., -1.],\n",
       "       [-1.,  2.,  2., ...,  6., -1., -1.],\n",
       "       [-1.,  9., -1., ...,  7.,  6., -1.]])"
      ]
     },
     "execution_count": 17,
     "metadata": {},
     "output_type": "execute_result"
    }
   ],
   "source": [
    "Y_train"
   ]
  },
  {
   "cell_type": "code",
   "execution_count": 18,
   "id": "7baae89e",
   "metadata": {
    "execution": {
     "iopub.execute_input": "2023-02-09T15:24:46.793526Z",
     "iopub.status.busy": "2023-02-09T15:24:46.792439Z",
     "iopub.status.idle": "2023-02-09T15:24:46.842353Z",
     "shell.execute_reply": "2023-02-09T15:24:46.841164Z"
    },
    "papermill": {
     "duration": 0.065804,
     "end_time": "2023-02-09T15:24:46.844524",
     "exception": false,
     "start_time": "2023-02-09T15:24:46.778720",
     "status": "completed"
    },
    "tags": []
   },
   "outputs": [
    {
     "name": "stdout",
     "output_type": "stream",
     "text": [
      "\n",
      "Converting to one-hot encoding...\n",
      "(700, 10)\n",
      "(300, 10)\n"
     ]
    },
    {
     "data": {
      "text/plain": [
       "(700, 10, 9)"
      ]
     },
     "execution_count": 18,
     "metadata": {},
     "output_type": "execute_result"
    }
   ],
   "source": [
    "N_CLASSES = len(np.unique(Y_true_test))\n",
    "N_ANNOT = Y_train.shape[1]\n",
    "print (\"\\nConverting to one-hot encoding...\")\n",
    "Y_true_train = one_hot(Y_true_train, N_CLASSES)\n",
    "print (Y_true_train.shape)\n",
    "# Y_train = one_hot(Y_train.astype('int'), N_CLASSES)\n",
    "# print (Y_train.shape)\n",
    "#labels_train_ds_bin = one_hot(labels_train_ds, N_CLASSES)\n",
    "#print (labels_train_ds_bin.shape)\n",
    "Y_true_test = one_hot(Y_true_test, N_CLASSES)\n",
    "print (Y_true_test.shape)\n",
    "\n",
    "Y_train = Y_train.astype('int')\n",
    "answers_bin_missings = []\n",
    "for i in range(Y_train.shape[0] ):\n",
    "    row = []\n",
    "    for r in range(N_ANNOT):\n",
    "        if Y_train[i,r] == -1:\n",
    "            row.append(-1 * np.ones(N_CLASSES))\n",
    "        else:\n",
    "            row.append(one_hot(Y_train[i,r], N_CLASSES)[0,:])\n",
    "    answers_bin_missings.append(row)\n",
    "answers_bin_missings = np.array(answers_bin_missings).swapaxes(1,2)\n",
    "answers_bin_missings.shape"
   ]
  },
  {
   "cell_type": "code",
   "execution_count": 19,
   "id": "c3fc6798",
   "metadata": {
    "execution": {
     "iopub.execute_input": "2023-02-09T15:24:46.873552Z",
     "iopub.status.busy": "2023-02-09T15:24:46.873152Z",
     "iopub.status.idle": "2023-02-09T15:24:46.880945Z",
     "shell.execute_reply": "2023-02-09T15:24:46.879999Z"
    },
    "papermill": {
     "duration": 0.025835,
     "end_time": "2023-02-09T15:24:46.883416",
     "exception": false,
     "start_time": "2023-02-09T15:24:46.857581",
     "status": "completed"
    },
    "tags": []
   },
   "outputs": [],
   "source": [
    " def eval_model(model, test_data, test_labels):\n",
    "    # testset accuracy\n",
    "    preds_test = model.predict(test_data)\n",
    "    preds_test_num = np.argmax(preds_test, axis=1)\n",
    "    accuracy_test = 1.0*np.sum(preds_test_num == test_labels) / len(test_labels)\n",
    "\n",
    "    return accuracy_test"
   ]
  },
  {
   "cell_type": "code",
   "execution_count": 20,
   "id": "6cdacf3c",
   "metadata": {
    "execution": {
     "iopub.execute_input": "2023-02-09T15:24:46.910833Z",
     "iopub.status.busy": "2023-02-09T15:24:46.909996Z",
     "iopub.status.idle": "2023-02-09T15:24:46.915450Z",
     "shell.execute_reply": "2023-02-09T15:24:46.914789Z"
    },
    "papermill": {
     "duration": 0.021261,
     "end_time": "2023-02-09T15:24:46.917343",
     "exception": false,
     "start_time": "2023-02-09T15:24:46.896082",
     "status": "completed"
    },
    "tags": []
   },
   "outputs": [
    {
     "data": {
      "text/plain": [
       "9"
      ]
     },
     "execution_count": 20,
     "metadata": {},
     "output_type": "execute_result"
    }
   ],
   "source": [
    "Y_train.shape[1]"
   ]
  },
  {
   "cell_type": "markdown",
   "id": "2f80be3f",
   "metadata": {
    "id": "pPoaMuiXH-Zm",
    "papermill": {
     "duration": 0.012169,
     "end_time": "2023-02-09T15:24:46.941866",
     "exception": false,
     "start_time": "2023-02-09T15:24:46.929697",
     "status": "completed"
    },
    "tags": []
   },
   "source": [
    "# Testing the Class "
   ]
  },
  {
   "cell_type": "code",
   "execution_count": 21,
   "id": "58b77ddf",
   "metadata": {
    "execution": {
     "iopub.execute_input": "2023-02-09T15:24:46.969057Z",
     "iopub.status.busy": "2023-02-09T15:24:46.968452Z",
     "iopub.status.idle": "2023-02-09T15:24:46.975087Z",
     "shell.execute_reply": "2023-02-09T15:24:46.974375Z"
    },
    "papermill": {
     "duration": 0.023044,
     "end_time": "2023-02-09T15:24:46.977487",
     "exception": false,
     "start_time": "2023-02-09T15:24:46.954443",
     "status": "completed"
    },
    "tags": []
   },
   "outputs": [],
   "source": [
    "from tensorflow.keras.models import Sequential\n",
    "from tensorflow.keras.layers import Activation, Dropout, Flatten, Dense, BatchNormalization\n",
    "import keras  \n",
    "\n",
    "def build_base_model():\n",
    "    base_model = Sequential()\n",
    "    base_model.add(Flatten(input_shape=X_train.shape[1:]))\n",
    "    base_model.add(Dense(128, activation='relu'))\n",
    "    base_model.add(Dropout(0.5))\n",
    "    base_model.add(Dense(N_CLASSES))\n",
    "    base_model.add(Activation(\"softmax\"))\n",
    "    base_model.compile(optimizer='adam', loss='categorical_crossentropy')\n",
    "\n",
    "    return base_model"
   ]
  },
  {
   "cell_type": "code",
   "execution_count": 22,
   "id": "714ca2a8",
   "metadata": {
    "execution": {
     "iopub.execute_input": "2023-02-09T15:24:47.004920Z",
     "iopub.status.busy": "2023-02-09T15:24:47.004269Z",
     "iopub.status.idle": "2023-02-09T15:24:47.011352Z",
     "shell.execute_reply": "2023-02-09T15:24:47.010437Z"
    },
    "papermill": {
     "duration": 0.023067,
     "end_time": "2023-02-09T15:24:47.013227",
     "exception": false,
     "start_time": "2023-02-09T15:24:46.990160",
     "status": "completed"
    },
    "tags": []
   },
   "outputs": [
    {
     "data": {
      "text/plain": [
       "array([5, 6, 3, 3, 0, 9, 3, 9, 4, 8, 4, 4, 2, 3, 9, 0, 0, 0, 1, 0, 4, 8,\n",
       "       7, 0, 0, 8, 1, 7, 2, 7, 6, 3, 2, 7, 0, 1, 2, 2, 0, 9, 5, 5, 4, 9,\n",
       "       0, 3, 0, 6, 9, 9, 9, 6, 6, 4, 0, 3, 3, 7, 8, 0, 1, 8, 8, 4, 3, 4,\n",
       "       2, 8, 4, 7, 5, 8, 6, 0, 0, 2, 9, 1, 7, 8, 8, 6, 2, 8, 4, 3, 5, 7,\n",
       "       5, 7, 4, 0, 5, 5, 2, 6, 0, 4, 4, 8, 7, 7, 2, 3, 1, 2, 9, 1, 4, 6,\n",
       "       7, 5, 6, 5, 3, 4, 2, 3, 7, 7, 9, 2, 4, 5, 0, 5, 3, 6, 2, 2, 8, 4,\n",
       "       8, 9, 2, 7, 5, 0, 5, 6, 2, 5, 3, 9, 0, 2, 1, 6, 7, 1, 1, 0, 6, 6,\n",
       "       5, 0, 5, 6, 7, 5, 1, 9, 7, 8, 2, 5, 9, 4, 4, 1, 1, 3, 8, 5, 1, 4,\n",
       "       1, 7, 3, 3, 4, 4, 0, 6, 7, 4, 3, 3, 3, 2, 7, 7, 4, 9, 9, 6, 8, 4,\n",
       "       6, 7, 6, 2, 2, 1, 4, 8, 5, 1, 9, 5, 9, 4, 1, 7, 7, 8, 8, 9, 4, 8,\n",
       "       5, 5, 4, 6, 1, 3, 4, 7, 9, 0, 5, 3, 2, 0, 5, 7, 9, 7, 7, 8, 0, 1,\n",
       "       2, 8, 9, 5, 9, 0, 7, 6, 4, 4, 8, 0, 7, 3, 8, 4, 8, 1, 7, 4, 0, 8,\n",
       "       9, 0, 6, 3, 8, 2, 3, 3, 7, 1, 3, 7, 1, 8, 5, 9, 4, 1, 0, 6, 0, 7,\n",
       "       9, 2, 1, 8, 9, 5, 7, 1, 6, 1, 0, 4, 4, 1], dtype=uint8)"
      ]
     },
     "execution_count": 22,
     "metadata": {},
     "output_type": "execute_result"
    }
   ],
   "source": [
    "Y_true_test1.ravel()"
   ]
  },
  {
   "cell_type": "code",
   "execution_count": 23,
   "id": "3d955531",
   "metadata": {
    "execution": {
     "iopub.execute_input": "2023-02-09T15:24:47.041392Z",
     "iopub.status.busy": "2023-02-09T15:24:47.040078Z",
     "iopub.status.idle": "2023-02-09T15:27:00.596041Z",
     "shell.execute_reply": "2023-02-09T15:27:00.594869Z"
    },
    "papermill": {
     "duration": 133.573246,
     "end_time": "2023-02-09T15:27:00.599159",
     "exception": false,
     "start_time": "2023-02-09T15:24:47.025913",
     "status": "completed"
    },
    "tags": []
   },
   "outputs": [
    {
     "name": "stderr",
     "output_type": "stream",
     "text": [
      "2023-02-09 15:24:47.081779: I tensorflow/core/common_runtime/process_util.cc:146] Creating new thread pool with default inter op setting: 2. Tune using inter_op_parallelism_threads for best performance.\n",
      "2023-02-09 15:24:47.805312: I tensorflow/compiler/mlir/mlir_graph_optimization_pass.cc:185] None of the MLIR Optimization Passes are enabled (registered 2)\n"
     ]
    },
    {
     "name": "stdout",
     "output_type": "stream",
     "text": [
      "Validation AUC: 0.8396\n",
      "Validation aUc_Sklearn: 0.8845\n",
      "Validation ACC: 0.5600\n",
      "Validation Balanced_ACC: 0.4971\n",
      "Validation MI: 1.1552\n",
      "Validation Normalized MI: 0.5432\n",
      "Validation Adjusted MI: 0.5173\n"
     ]
    },
    {
     "name": "stderr",
     "output_type": "stream",
     "text": [
      "/opt/conda/lib/python3.7/site-packages/sklearn/metrics/_classification.py:1318: UndefinedMetricWarning: Recall and F-score are ill-defined and being set to 0.0 in labels with no true samples. Use `zero_division` parameter to control this behavior.\n",
      "  _warn_prf(average, modifier, msg_start, len(result))\n",
      "/opt/conda/lib/python3.7/site-packages/sklearn/metrics/_classification.py:1318: UndefinedMetricWarning: Recall and F-score are ill-defined and being set to 0.0 in labels with no true samples. Use `zero_division` parameter to control this behavior.\n",
      "  _warn_prf(average, modifier, msg_start, len(result))\n",
      "/opt/conda/lib/python3.7/site-packages/sklearn/metrics/_classification.py:1318: UndefinedMetricWarning: Recall and F-score are ill-defined and being set to 0.0 in labels with no true samples. Use `zero_division` parameter to control this behavior.\n",
      "  _warn_prf(average, modifier, msg_start, len(result))\n"
     ]
    },
    {
     "name": "stdout",
     "output_type": "stream",
     "text": [
      "Validation AUC: 0.7409\n",
      "Validation aUc_Sklearn: 0.9346\n",
      "Validation ACC: 0.5967\n",
      "Validation Balanced_ACC: 0.5435\n",
      "Validation MI: 1.2618\n",
      "Validation Normalized MI: 0.5786\n",
      "Validation Adjusted MI: 0.5511\n"
     ]
    },
    {
     "name": "stderr",
     "output_type": "stream",
     "text": [
      "/opt/conda/lib/python3.7/site-packages/sklearn/metrics/_classification.py:1318: UndefinedMetricWarning: Recall and F-score are ill-defined and being set to 0.0 in labels with no true samples. Use `zero_division` parameter to control this behavior.\n",
      "  _warn_prf(average, modifier, msg_start, len(result))\n",
      "/opt/conda/lib/python3.7/site-packages/sklearn/metrics/_classification.py:1318: UndefinedMetricWarning: Recall and F-score are ill-defined and being set to 0.0 in labels with no true samples. Use `zero_division` parameter to control this behavior.\n",
      "  _warn_prf(average, modifier, msg_start, len(result))\n",
      "/opt/conda/lib/python3.7/site-packages/sklearn/metrics/_classification.py:1318: UndefinedMetricWarning: Recall and F-score are ill-defined and being set to 0.0 in labels with no true samples. Use `zero_division` parameter to control this behavior.\n",
      "  _warn_prf(average, modifier, msg_start, len(result))\n"
     ]
    },
    {
     "name": "stdout",
     "output_type": "stream",
     "text": [
      "Validation AUC: 0.6457\n",
      "Validation aUc_Sklearn: 0.8471\n",
      "Validation ACC: 0.5400\n",
      "Validation Balanced_ACC: 0.4778\n",
      "Validation MI: 1.1686\n",
      "Validation Normalized MI: 0.5578\n",
      "Validation Adjusted MI: 0.5362\n"
     ]
    },
    {
     "name": "stderr",
     "output_type": "stream",
     "text": [
      "/opt/conda/lib/python3.7/site-packages/sklearn/metrics/_classification.py:1318: UndefinedMetricWarning: Recall and F-score are ill-defined and being set to 0.0 in labels with no true samples. Use `zero_division` parameter to control this behavior.\n",
      "  _warn_prf(average, modifier, msg_start, len(result))\n",
      "/opt/conda/lib/python3.7/site-packages/sklearn/metrics/_classification.py:1318: UndefinedMetricWarning: Recall and F-score are ill-defined and being set to 0.0 in labels with no true samples. Use `zero_division` parameter to control this behavior.\n",
      "  _warn_prf(average, modifier, msg_start, len(result))\n",
      "/opt/conda/lib/python3.7/site-packages/sklearn/metrics/_classification.py:1318: UndefinedMetricWarning: Recall and F-score are ill-defined and being set to 0.0 in labels with no true samples. Use `zero_division` parameter to control this behavior.\n",
      "  _warn_prf(average, modifier, msg_start, len(result))\n"
     ]
    },
    {
     "name": "stdout",
     "output_type": "stream",
     "text": [
      "Validation AUC: 0.7827\n",
      "Validation aUc_Sklearn: 0.9229\n",
      "Validation ACC: 0.6100\n",
      "Validation Balanced_ACC: 0.5587\n",
      "Validation MI: 1.3044\n",
      "Validation Normalized MI: 0.5980\n",
      "Validation Adjusted MI: 0.5717\n"
     ]
    },
    {
     "name": "stderr",
     "output_type": "stream",
     "text": [
      "/opt/conda/lib/python3.7/site-packages/sklearn/metrics/_classification.py:1318: UndefinedMetricWarning: Recall and F-score are ill-defined and being set to 0.0 in labels with no true samples. Use `zero_division` parameter to control this behavior.\n",
      "  _warn_prf(average, modifier, msg_start, len(result))\n",
      "/opt/conda/lib/python3.7/site-packages/sklearn/metrics/_classification.py:1318: UndefinedMetricWarning: Recall and F-score are ill-defined and being set to 0.0 in labels with no true samples. Use `zero_division` parameter to control this behavior.\n",
      "  _warn_prf(average, modifier, msg_start, len(result))\n",
      "/opt/conda/lib/python3.7/site-packages/sklearn/metrics/_classification.py:1318: UndefinedMetricWarning: Recall and F-score are ill-defined and being set to 0.0 in labels with no true samples. Use `zero_division` parameter to control this behavior.\n",
      "  _warn_prf(average, modifier, msg_start, len(result))\n"
     ]
    },
    {
     "name": "stdout",
     "output_type": "stream",
     "text": [
      "Validation AUC: 0.6992\n",
      "Validation aUc_Sklearn: 0.8649\n",
      "Validation ACC: 0.5333\n",
      "Validation Balanced_ACC: 0.4717\n",
      "Validation MI: 1.1785\n",
      "Validation Normalized MI: 0.5638\n",
      "Validation Adjusted MI: 0.5425\n"
     ]
    },
    {
     "name": "stderr",
     "output_type": "stream",
     "text": [
      "/opt/conda/lib/python3.7/site-packages/sklearn/metrics/_classification.py:1318: UndefinedMetricWarning: Recall and F-score are ill-defined and being set to 0.0 in labels with no true samples. Use `zero_division` parameter to control this behavior.\n",
      "  _warn_prf(average, modifier, msg_start, len(result))\n",
      "/opt/conda/lib/python3.7/site-packages/sklearn/metrics/_classification.py:1318: UndefinedMetricWarning: Recall and F-score are ill-defined and being set to 0.0 in labels with no true samples. Use `zero_division` parameter to control this behavior.\n",
      "  _warn_prf(average, modifier, msg_start, len(result))\n",
      "/opt/conda/lib/python3.7/site-packages/sklearn/metrics/_classification.py:1318: UndefinedMetricWarning: Recall and F-score are ill-defined and being set to 0.0 in labels with no true samples. Use `zero_division` parameter to control this behavior.\n",
      "  _warn_prf(average, modifier, msg_start, len(result))\n"
     ]
    },
    {
     "name": "stdout",
     "output_type": "stream",
     "text": [
      "Validation AUC: 0.7961\n",
      "Validation aUc_Sklearn: 0.8282\n",
      "Validation ACC: 0.5367\n",
      "Validation Balanced_ACC: 0.4929\n",
      "Validation MI: 1.1995\n",
      "Validation Normalized MI: 0.5621\n",
      "Validation Adjusted MI: 0.5370\n"
     ]
    },
    {
     "name": "stderr",
     "output_type": "stream",
     "text": [
      "/opt/conda/lib/python3.7/site-packages/sklearn/metrics/_classification.py:1318: UndefinedMetricWarning: Recall and F-score are ill-defined and being set to 0.0 in labels with no true samples. Use `zero_division` parameter to control this behavior.\n",
      "  _warn_prf(average, modifier, msg_start, len(result))\n",
      "/opt/conda/lib/python3.7/site-packages/sklearn/metrics/_classification.py:1318: UndefinedMetricWarning: Recall and F-score are ill-defined and being set to 0.0 in labels with no true samples. Use `zero_division` parameter to control this behavior.\n",
      "  _warn_prf(average, modifier, msg_start, len(result))\n",
      "/opt/conda/lib/python3.7/site-packages/sklearn/metrics/_classification.py:1318: UndefinedMetricWarning: Recall and F-score are ill-defined and being set to 0.0 in labels with no true samples. Use `zero_division` parameter to control this behavior.\n",
      "  _warn_prf(average, modifier, msg_start, len(result))\n"
     ]
    },
    {
     "name": "stdout",
     "output_type": "stream",
     "text": [
      "Validation AUC: 0.7011\n",
      "Validation aUc_Sklearn: 0.8874\n",
      "Validation ACC: 0.5567\n",
      "Validation Balanced_ACC: 0.5048\n",
      "Validation MI: 1.2111\n",
      "Validation Normalized MI: 0.5701\n",
      "Validation Adjusted MI: 0.5452\n"
     ]
    },
    {
     "name": "stderr",
     "output_type": "stream",
     "text": [
      "/opt/conda/lib/python3.7/site-packages/sklearn/metrics/_classification.py:1318: UndefinedMetricWarning: Recall and F-score are ill-defined and being set to 0.0 in labels with no true samples. Use `zero_division` parameter to control this behavior.\n",
      "  _warn_prf(average, modifier, msg_start, len(result))\n",
      "/opt/conda/lib/python3.7/site-packages/sklearn/metrics/_classification.py:1318: UndefinedMetricWarning: Recall and F-score are ill-defined and being set to 0.0 in labels with no true samples. Use `zero_division` parameter to control this behavior.\n",
      "  _warn_prf(average, modifier, msg_start, len(result))\n",
      "/opt/conda/lib/python3.7/site-packages/sklearn/metrics/_classification.py:1318: UndefinedMetricWarning: Recall and F-score are ill-defined and being set to 0.0 in labels with no true samples. Use `zero_division` parameter to control this behavior.\n",
      "  _warn_prf(average, modifier, msg_start, len(result))\n"
     ]
    },
    {
     "name": "stdout",
     "output_type": "stream",
     "text": [
      "Validation AUC: 0.8054\n",
      "Validation aUc_Sklearn: 0.9013\n",
      "Validation ACC: 0.6067\n",
      "Validation Balanced_ACC: 0.5520\n",
      "Validation MI: 1.3027\n",
      "Validation Normalized MI: 0.5921\n",
      "Validation Adjusted MI: 0.5658\n"
     ]
    },
    {
     "name": "stderr",
     "output_type": "stream",
     "text": [
      "/opt/conda/lib/python3.7/site-packages/sklearn/metrics/_classification.py:1318: UndefinedMetricWarning: Recall and F-score are ill-defined and being set to 0.0 in labels with no true samples. Use `zero_division` parameter to control this behavior.\n",
      "  _warn_prf(average, modifier, msg_start, len(result))\n",
      "/opt/conda/lib/python3.7/site-packages/sklearn/metrics/_classification.py:1318: UndefinedMetricWarning: Recall and F-score are ill-defined and being set to 0.0 in labels with no true samples. Use `zero_division` parameter to control this behavior.\n",
      "  _warn_prf(average, modifier, msg_start, len(result))\n",
      "/opt/conda/lib/python3.7/site-packages/sklearn/metrics/_classification.py:1318: UndefinedMetricWarning: Recall and F-score are ill-defined and being set to 0.0 in labels with no true samples. Use `zero_division` parameter to control this behavior.\n",
      "  _warn_prf(average, modifier, msg_start, len(result))\n"
     ]
    },
    {
     "name": "stdout",
     "output_type": "stream",
     "text": [
      "Validation AUC: 0.7663\n",
      "Validation aUc_Sklearn: 0.8999\n",
      "Validation ACC: 0.5833\n",
      "Validation Balanced_ACC: 0.5203\n",
      "Validation MI: 1.2470\n",
      "Validation Normalized MI: 0.5772\n",
      "Validation Adjusted MI: 0.5534\n"
     ]
    },
    {
     "name": "stderr",
     "output_type": "stream",
     "text": [
      "/opt/conda/lib/python3.7/site-packages/sklearn/metrics/_classification.py:1318: UndefinedMetricWarning: Recall and F-score are ill-defined and being set to 0.0 in labels with no true samples. Use `zero_division` parameter to control this behavior.\n",
      "  _warn_prf(average, modifier, msg_start, len(result))\n",
      "/opt/conda/lib/python3.7/site-packages/sklearn/metrics/_classification.py:1318: UndefinedMetricWarning: Recall and F-score are ill-defined and being set to 0.0 in labels with no true samples. Use `zero_division` parameter to control this behavior.\n",
      "  _warn_prf(average, modifier, msg_start, len(result))\n",
      "/opt/conda/lib/python3.7/site-packages/sklearn/metrics/_classification.py:1318: UndefinedMetricWarning: Recall and F-score are ill-defined and being set to 0.0 in labels with no true samples. Use `zero_division` parameter to control this behavior.\n",
      "  _warn_prf(average, modifier, msg_start, len(result))\n"
     ]
    },
    {
     "name": "stdout",
     "output_type": "stream",
     "text": [
      "Validation AUC: 0.7758\n",
      "Validation aUc_Sklearn: 0.8914\n",
      "Validation ACC: 0.5900\n",
      "Validation Balanced_ACC: 0.5281\n",
      "Validation MI: 1.2534\n",
      "Validation Normalized MI: 0.5819\n",
      "Validation Adjusted MI: 0.5583\n"
     ]
    },
    {
     "name": "stderr",
     "output_type": "stream",
     "text": [
      "/opt/conda/lib/python3.7/site-packages/sklearn/metrics/_classification.py:1318: UndefinedMetricWarning: Recall and F-score are ill-defined and being set to 0.0 in labels with no true samples. Use `zero_division` parameter to control this behavior.\n",
      "  _warn_prf(average, modifier, msg_start, len(result))\n",
      "/opt/conda/lib/python3.7/site-packages/sklearn/metrics/_classification.py:1318: UndefinedMetricWarning: Recall and F-score are ill-defined and being set to 0.0 in labels with no true samples. Use `zero_division` parameter to control this behavior.\n",
      "  _warn_prf(average, modifier, msg_start, len(result))\n",
      "/opt/conda/lib/python3.7/site-packages/sklearn/metrics/_classification.py:1318: UndefinedMetricWarning: Recall and F-score are ill-defined and being set to 0.0 in labels with no true samples. Use `zero_division` parameter to control this behavior.\n",
      "  _warn_prf(average, modifier, msg_start, len(result))\n"
     ]
    },
    {
     "data": {
      "image/png": "[encoded data removed]",
      "text/plain": [
       "<Figure size 1152x648 with 1 Axes>"
      ]
     },
     "metadata": {
      "needs_background": "light"
     },
     "output_type": "display_data"
    },
    {
     "data": {
      "image/png": "[encoded data removed]",
      "text/plain": [
       "<Figure size 1152x648 with 1 Axes>"
      ]
     },
     "metadata": {
      "needs_background": "light"
     },
     "output_type": "display_data"
    },
    {
     "data": {
      "image/png": "[encoded data removed]",
      "text/plain": [
       "<Figure size 1152x648 with 1 Axes>"
      ]
     },
     "metadata": {
      "needs_background": "light"
     },
     "output_type": "display_data"
    },
    {
     "data": {
      "image/png": "[encoded data removed]",
      "text/plain": [
       "<Figure size 1152x648 with 1 Axes>"
      ]
     },
     "metadata": {
      "needs_background": "light"
     },
     "output_type": "display_data"
    },
    {
     "data": {
      "image/png": "[encoded data removed]",
      "text/plain": [
       "<Figure size 1152x648 with 1 Axes>"
      ]
     },
     "metadata": {
      "needs_background": "light"
     },
     "output_type": "display_data"
    },
    {
     "data": {
      "image/png": "[encoded data removed]",
      "text/plain": [
       "<Figure size 1152x648 with 1 Axes>"
      ]
     },
     "metadata": {
      "needs_background": "light"
     },
     "output_type": "display_data"
    },
    {
     "data": {
      "image/png": "[encoded data removed]",
      "text/plain": [
       "<Figure size 1152x648 with 1 Axes>"
      ]
     },
     "metadata": {
      "needs_background": "light"
     },
     "output_type": "display_data"
    },
    {
     "data": {
      "image/png": "[encoded data removed]",
      "text/plain": [
       "<Figure size 1152x648 with 1 Axes>"
      ]
     },
     "metadata": {
      "needs_background": "light"
     },
     "output_type": "display_data"
    },
    {
     "data": {
      "image/png": "[encoded data removed]",
      "text/plain": [
       "<Figure size 1152x648 with 1 Axes>"
      ]
     },
     "metadata": {
      "needs_background": "light"
     },
     "output_type": "display_data"
    },
    {
     "data": {
      "image/png": "[encoded data removed]",
      "text/plain": [
       "<Figure size 1152x648 with 1 Axes>"
      ]
     },
     "metadata": {
      "needs_background": "light"
     },
     "output_type": "display_data"
    }
   ],
   "source": [
    "from sklearn.metrics import classification_report, balanced_accuracy_score, roc_auc_score\n",
    "from sklearn.metrics import normalized_mutual_info_score, mutual_info_score, adjusted_mutual_info_score\n",
    "NUM_RUNS = 10\n",
    "\n",
    "ACC = np.zeros(NUM_RUNS)\n",
    "AUC = np.zeros(NUM_RUNS)\n",
    "MI = np.zeros(NUM_RUNS)\n",
    "NMI = np.zeros(NUM_RUNS)\n",
    "AMI = np.zeros(NUM_RUNS)\n",
    "BACC = np.zeros(NUM_RUNS)\n",
    "N_EPOCHS = 500\n",
    "#N_ANNOT = 59\n",
    "K= N_CLASSES\n",
    "AUC= np.zeros(NUM_RUNS)\n",
    "res = np.zeros(NUM_RUNS)\n",
    "BATCH_SIZE = 64\n",
    "\n",
    "\n",
    "for i in range(NUM_RUNS):\n",
    "   \n",
    "\n",
    "    model = build_base_model()\n",
    "\n",
    "    # add crowds layer on top of the base model\n",
    "    model.add(CrowdsClassification(N_CLASSES, N_ANNOT, conn_type=\"MW\"))\n",
    "\n",
    "\n",
    "    # instantiate specialized masked loss to handle missing answers\n",
    "    loss = MaskedMultiCrossEntropy().loss\n",
    "\n",
    "    # compile model with masked loss and train\n",
    "    model.compile(optimizer='adam', loss=loss)\n",
    "    trainHistory =  model.fit(X_train, answers_bin_missings, epochs=N_EPOCHS, shuffle=True, batch_size=BATCH_SIZE, verbose=0)\n",
    "\n",
    "    # Create the history figure\n",
    "    plt.figure(figsize=(16,9))\n",
    "    for g in  trainHistory.history:\n",
    "        plt.plot( trainHistory.history[g],label=g)\n",
    "    plt.title('Model history')\n",
    "    plt.legend()\n",
    "    plt.grid()\n",
    "    \n",
    "     \n",
    "    # remove crowds layer before making predictions\n",
    "    model.pop() \n",
    "    model.compile(optimizer='adam', loss='categorical_crossentropy', metrics=['accuracy'])\n",
    "    \n",
    "   \n",
    "\n",
    "#     accuracy_test = eval_model(model, X_test, Y_true_test1)\n",
    "#     print (\"Accuracy: Test: %.3f\" % (accuracy_test,) )\n",
    "    \n",
    "#     val_acc_metric = keras.metrics.CategoricalAccuracy()\n",
    "#     for x_batch_val, y_batch_val in val_batches_MA:\n",
    "#         val_logits = model(x_batch_val, training=False)\n",
    "#         val_acc_metric.update_state(y_batch_val, val_logits)\n",
    "\n",
    "#     val_acc = val_acc_metric.result()\n",
    "#     val_acc_metric.reset_states()\n",
    "#     val_acc = val_acc.numpy()\n",
    "#     print(\"Validation acc: %.4f\" % (float(val_acc),))\n",
    "    #res[i] =  accuracy_test \n",
    "    \n",
    "    #AUC =======================\n",
    "    val_AUC_metric = tf.keras.metrics.AUC( from_logits = True)\n",
    "    val_logits = model(X_test, training=False)\n",
    "    # tf.print(y_batch_val)\n",
    "    val_AUC_metric.update_state(Y_true_test1, val_logits[:,:N_CLASSES].numpy().argmax(axis=1).astype('float'))\n",
    "\n",
    "    val_AUC = val_AUC_metric.result()\n",
    "    val_AUC_metric.reset_states()\n",
    "    val_AUC = val_AUC.numpy()\n",
    "    print(\"Validation AUC: %.4f\" % (float(val_AUC),))\n",
    "    #AUC[i] = val_AUC\n",
    "    val_AUC1 = roc_auc_score(ook(Y_true_test1),  val_logits[:,:N_CLASSES])\n",
    "    print(\"Validation aUc_Sklearn: %.4f\" % (float(val_AUC1),))\n",
    "    AUC[i] = val_AUC1\n",
    "    #===================================================\n",
    "    \n",
    "    report = classification_report(val_logits[:,:N_CLASSES].numpy().argmax(axis=1),Y_true_test1.ravel(),output_dict=True)\n",
    "    ACC[i] = report['accuracy']\n",
    "    \n",
    "    \n",
    "    print(\"Validation ACC: %.4f\" % (float(ACC[i])))\n",
    "    # balanced. Accurcy\n",
    "    BACC[i] = balanced_accuracy_score(Y_true_test1.squeeze(), val_logits[:,:N_CLASSES].numpy().argmax(axis=1).squeeze(), adjusted=True)\n",
    "    print(\"Validation Balanced_ACC: %.4f\" % (float(BACC[i])))\n",
    "\n",
    "    #MI\n",
    "    \n",
    "    MI[i] = mutual_info_score(Y_true_test1.squeeze(), val_logits[:,:N_CLASSES].numpy().argmax(axis=1).squeeze())\n",
    "    print(\"Validation MI: %.4f\" % (float(MI[i]),))\n",
    "    NMI[i] = normalized_mutual_info_score(Y_true_test1.squeeze(), val_logits[:,:N_CLASSES].numpy().argmax(axis=1).squeeze())\n",
    "    print(\"Validation Normalized MI: %.4f\" % (float(NMI[i]),))\n",
    "    AMI[i]= adjusted_mutual_info_score(Y_true_test1.squeeze(), val_logits[:,:N_CLASSES].numpy().argmax(axis=1).squeeze())\n",
    "    print(\"Validation Adjusted MI: %.4f\" % (float(AMI[i]),))\n",
    "\n",
    "\n"
   ]
  },
  {
   "cell_type": "code",
   "execution_count": 24,
   "id": "ebaa210e",
   "metadata": {
    "execution": {
     "iopub.execute_input": "2023-02-09T15:27:00.640335Z",
     "iopub.status.busy": "2023-02-09T15:27:00.639141Z",
     "iopub.status.idle": "2023-02-09T15:27:00.644760Z",
     "shell.execute_reply": "2023-02-09T15:27:00.643485Z"
    },
    "id": "8tZZwcG7ll1t",
    "outputId": "0f7f9c57-fa6d-4e1e-ced2-b514efbe6761",
    "papermill": {
     "duration": 0.028158,
     "end_time": "2023-02-09T15:27:00.646877",
     "exception": false,
     "start_time": "2023-02-09T15:27:00.618719",
     "status": "completed"
    },
    "tags": []
   },
   "outputs": [],
   "source": [
    "# l1 = 0.00001\n",
    "# MA = Keras_MA_CrowdL(epochs=100,batch_size=32, R = Y_train.shape[1], K=10, dropout=0.25, learning_rate=0.01,optimizer='Adam', \n",
    "#                 l1_param=l1, validation_split=0.3, verbose=0)\n",
    "\n",
    "\n",
    "# MA.fit(X_train, answers_bin_missings)\n",
    "# MA.plot_history()\n",
    "# #output_MA_ = MA.predict(X_test)\n",
    "# #output_MA_.shape\n"
   ]
  },
  {
   "cell_type": "code",
   "execution_count": 25,
   "id": "75c39ec9",
   "metadata": {
    "execution": {
     "iopub.execute_input": "2023-02-09T15:27:00.688483Z",
     "iopub.status.busy": "2023-02-09T15:27:00.688144Z",
     "iopub.status.idle": "2023-02-09T15:27:00.695091Z",
     "shell.execute_reply": "2023-02-09T15:27:00.694008Z"
    },
    "papermill": {
     "duration": 0.031115,
     "end_time": "2023-02-09T15:27:00.697877",
     "exception": false,
     "start_time": "2023-02-09T15:27:00.666762",
     "status": "completed"
    },
    "tags": []
   },
   "outputs": [
    {
     "data": {
      "text/plain": [
       "array([0., 0., 0., 0., 0., 0., 0., 0., 0., 0.])"
      ]
     },
     "execution_count": 25,
     "metadata": {},
     "output_type": "execute_result"
    }
   ],
   "source": [
    "res"
   ]
  },
  {
   "cell_type": "code",
   "execution_count": 26,
   "id": "2ef05064",
   "metadata": {
    "execution": {
     "iopub.execute_input": "2023-02-09T15:27:00.738180Z",
     "iopub.status.busy": "2023-02-09T15:27:00.737820Z",
     "iopub.status.idle": "2023-02-09T15:27:00.748273Z",
     "shell.execute_reply": "2023-02-09T15:27:00.747316Z"
    },
    "papermill": {
     "duration": 0.032679,
     "end_time": "2023-02-09T15:27:00.750391",
     "exception": false,
     "start_time": "2023-02-09T15:27:00.717712",
     "status": "completed"
    },
    "tags": []
   },
   "outputs": [],
   "source": [
    "import pickle\n",
    "\n",
    "# create the dictionary with 6 scalar variables\n",
    "Metrics = {\n",
    "    'Accuracy': np.round(ACC.mean(),4)*100,\n",
    "    'Accuracy_std': np.round(np.std( ACC),4)*100,\n",
    "    'AUC': np.round( AUC.mean(),4)*100,\n",
    "    'AUC_std': np.round(np.std( AUC),4)*100,\n",
    "    'Balanced Accuracy': np.round( BACC.mean(),4)*100,\n",
    "    'Balanced Accuracy_std':  np.round(np.std(BACC),4)*100,\n",
    "    'MI': np.round( MI.mean(),4)*100,\n",
    "    'MI_std': np.round(np.std(MI),4)*100,\n",
    "    'Normalized MI': np.round( NMI.mean(),4)*100,\n",
    "    'Normalized MI_std': np.round(np.std(NMI),4)*100,\n",
    "    'Adjusted MI': np.round( AMI.mean(),4)*100,\n",
    "    'Adjusted MI_std': np.round(np.std(NMI),4)*100,\n",
    "}\n",
    "\n",
    "# save the dictionary to a file using pickle\n",
    "with open('data.pickle', 'wb') as handle:\n",
    "    pickle.dump(Metrics, handle, protocol=pickle.HIGHEST_PROTOCOL)\n"
   ]
  },
  {
   "cell_type": "code",
   "execution_count": 27,
   "id": "283e0d40",
   "metadata": {
    "execution": {
     "iopub.execute_input": "2023-02-09T15:27:00.790967Z",
     "iopub.status.busy": "2023-02-09T15:27:00.790623Z",
     "iopub.status.idle": "2023-02-09T15:27:00.796687Z",
     "shell.execute_reply": "2023-02-09T15:27:00.795979Z"
    },
    "papermill": {
     "duration": 0.028376,
     "end_time": "2023-02-09T15:27:00.798305",
     "exception": false,
     "start_time": "2023-02-09T15:27:00.769929",
     "status": "completed"
    },
    "tags": []
   },
   "outputs": [
    {
     "data": {
      "text/plain": [
       "{'Accuracy': 57.13,\n",
       " 'Accuracy_std': 2.8000000000000003,\n",
       " 'AUC': 88.62,\n",
       " 'AUC_std': 3.08,\n",
       " 'Balanced Accuracy': 51.470000000000006,\n",
       " 'Balanced Accuracy_std': 2.91,\n",
       " 'MI': 122.82,\n",
       " 'MI_std': 5.09,\n",
       " 'Normalized MI': 57.25,\n",
       " 'Normalized MI_std': 1.5599999999999998,\n",
       " 'Adjusted MI': 54.790000000000006,\n",
       " 'Adjusted MI_std': 1.5599999999999998}"
      ]
     },
     "execution_count": 27,
     "metadata": {},
     "output_type": "execute_result"
    }
   ],
   "source": [
    "Metrics"
   ]
  },
  {
   "cell_type": "code",
   "execution_count": 28,
   "id": "bfb9a0d8",
   "metadata": {
    "execution": {
     "iopub.execute_input": "2023-02-09T15:27:00.839351Z",
     "iopub.status.busy": "2023-02-09T15:27:00.838980Z",
     "iopub.status.idle": "2023-02-09T15:27:01.111097Z",
     "shell.execute_reply": "2023-02-09T15:27:01.109752Z"
    },
    "papermill": {
     "duration": 0.294737,
     "end_time": "2023-02-09T15:27:01.112736",
     "exception": true,
     "start_time": "2023-02-09T15:27:00.817999",
     "status": "failed"
    },
    "tags": []
   },
   "outputs": [
    {
     "ename": "NameError",
     "evalue": "name 'MA' is not defined",
     "output_type": "error",
     "traceback": [
      "\u001b[0;31m---------------------------------------------------------------------------\u001b[0m",
      "\u001b[0;31mNameError\u001b[0m                                 Traceback (most recent call last)",
      "\u001b[0;32m/tmp/ipykernel_19/655999686.py\u001b[0m in \u001b[0;36m<module>\u001b[0;34m\u001b[0m\n\u001b[0;32m----> 1\u001b[0;31m \u001b[0moutput_MA_\u001b[0m \u001b[0;34m=\u001b[0m \u001b[0mMA\u001b[0m\u001b[0;34m.\u001b[0m\u001b[0mpredict\u001b[0m\u001b[0;34m(\u001b[0m\u001b[0mX_test\u001b[0m\u001b[0;34m)\u001b[0m\u001b[0;34m\u001b[0m\u001b[0;34m\u001b[0m\u001b[0m\n\u001b[0m\u001b[1;32m      2\u001b[0m \u001b[0moutput_MA_\u001b[0m\u001b[0;34m.\u001b[0m\u001b[0mshape\u001b[0m\u001b[0;34m\u001b[0m\u001b[0;34m\u001b[0m\u001b[0m\n\u001b[1;32m      3\u001b[0m \u001b[0;34m\u001b[0m\u001b[0m\n",
      "\u001b[0;31mNameError\u001b[0m: name 'MA' is not defined"
     ]
    }
   ],
   "source": [
    "output_MA_ = MA.predict(X_test)\n",
    "output_MA_.shape\n",
    " "
   ]
  },
  {
   "cell_type": "code",
   "execution_count": null,
   "id": "2b257b43",
   "metadata": {
    "execution": {
     "iopub.status.busy": "2023-02-08T15:47:05.415833Z",
     "iopub.status.idle": "2023-02-08T15:47:05.416640Z",
     "shell.execute_reply": "2023-02-08T15:47:05.416406Z",
     "shell.execute_reply.started": "2023-02-08T15:47:05.416380Z"
    },
    "papermill": {
     "duration": null,
     "end_time": null,
     "exception": null,
     "start_time": null,
     "status": "pending"
    },
    "tags": []
   },
   "outputs": [],
   "source": [
    "pred_2 = MA.predict2(X_test)\n",
    "pred_2"
   ]
  },
  {
   "cell_type": "code",
   "execution_count": null,
   "id": "936f9dae",
   "metadata": {
    "execution": {
     "iopub.status.busy": "2023-02-08T15:47:05.418360Z",
     "iopub.status.idle": "2023-02-08T15:47:05.419296Z",
     "shell.execute_reply": "2023-02-08T15:47:05.419029Z",
     "shell.execute_reply.started": "2023-02-08T15:47:05.418997Z"
    },
    "id": "J16vGdzSdNo7",
    "outputId": "0b435f7a-9ddd-4088-acaa-a1b995b6f7db",
    "papermill": {
     "duration": null,
     "end_time": null,
     "exception": null,
     "start_time": null,
     "status": "pending"
    },
    "tags": []
   },
   "outputs": [],
   "source": [
    "from sklearn.metrics import classification_report\n",
    "pred_2 = MA.predict2(X_test)\n",
    "\n",
    "print(classification_report( pred_2,Y_true_test.argmax(axis=1).ravel()))\n"
   ]
  },
  {
   "cell_type": "markdown",
   "id": "f348a78d",
   "metadata": {
    "id": "WIiD9DqbIUf6",
    "papermill": {
     "duration": null,
     "end_time": null,
     "exception": null,
     "start_time": null,
     "status": "pending"
    },
    "tags": []
   },
   "source": [
    "# Gridsearch "
   ]
  },
  {
   "cell_type": "code",
   "execution_count": null,
   "id": "79cebf03",
   "metadata": {
    "execution": {
     "iopub.status.busy": "2023-02-08T15:47:05.421141Z",
     "iopub.status.idle": "2023-02-08T15:47:05.422105Z",
     "shell.execute_reply": "2023-02-08T15:47:05.421796Z",
     "shell.execute_reply.started": "2023-02-08T15:47:05.421765Z"
    },
    "id": "KCbJ1I4a3FKQ",
    "outputId": "e8d20b8f-08a9-45b8-f0da-a8184f0d3c11",
    "papermill": {
     "duration": null,
     "end_time": null,
     "exception": null,
     "start_time": null,
     "status": "pending"
    },
    "tags": []
   },
   "outputs": [],
   "source": [
    "# import numpy as np \n",
    "# from sklearn.model_selection import  StratifiedShuffleSplit\n",
    "# #from scikeras.wrappers import KerasClassifier\n",
    "# from sklearn.base import BaseEstimator, TransformerMixin\n",
    "# from sklearn.metrics import make_scorer\n",
    "# import joblib\n",
    "# from sklearn.pipeline import Pipeline\n",
    "# from sklearn.metrics import accuracy_score\n",
    "\n",
    "\n",
    "# #https://www.adriangb.com/scikeras/stable/notebooks/DataTransformers.html?highlight=data+processing#3.2-Define-output-data-transformer\n",
    "  \n",
    "# filename = '/kaggle/working/' + database +'_Rodrigues_models'\n",
    "# filename_labels = '/kaggle/working/' + database +'_Rodrigues_labels'\n",
    "\n",
    "# best_parameter = []\n",
    "# cvresults = []\n",
    "# classification_report_r= []\n",
    "# models = []\n",
    "# labels_pred2=[]\n",
    "# labels_Y_true=[]\n",
    "\n",
    "# NUM_RUNS = 10\n",
    "\n",
    "\n",
    "# for i in range(NUM_RUNS): #10\n",
    "   \n",
    "#     print(\"iteration: \" + str(i))\n",
    "#     Ns = 1\n",
    "# #     ss =  ShuffleSplit(n_splits=Ns,test_size=0.3, random_state =123)\n",
    "# #     for train_index, test_index in ss.split(X):\n",
    "# #        # print(test_index)\n",
    "# #         X_train, X_test,Y_train,Y_test = X[train_index,:], X[test_index,:],Y[train_index,:], Y[test_index,:]\n",
    "# #         Y_true_train, Y_true_test = t[train_index].reshape(-1,1), t[test_index].reshape(-1,1)\n",
    "# #     #print(X_train.shape, Y_train.shape, Y_true_train.shape)\n",
    "#     MA = Keras_MA_CrowdL(validation_split= 0.3, R= Y_train.shape[1], K= len(np.unique(Y_true_test)))\n",
    "     \n",
    "#     #================================ GridSearch =============================================\n",
    "#     my_func = make_scorer(lambda y,y_pred: MA.custom_CLR_loss(y,y_pred).numpy(),greater_is_better=False)\n",
    "#     #================== pipeline ===================================== \n",
    "#         #se crean listas de steps (pipelines)\n",
    "#     steps=[('nor', MinMaxScaler()),\n",
    "#             ('cla', Keras_MA_CrowdL(validation_split= 0.3, R= Y_train.shape[1], K=len(np.unique(Y_true_test)), verbose=0))] #Pipeline1\n",
    "        \n",
    "    \n",
    "  \n",
    "#     parameters = [{              \n",
    "#                    'cla__dropout': [0.2,0.25, 0.5, 0.75],#Pipeline1 - hyperparametros\n",
    "#                  'cla__learning_rate': [ 1e-4,1e-3, 1e-2, 1e-1],\n",
    "#                   'cla__l1_param': [1e-4, 1e-3, 1e-2, 1e-1],\n",
    "#                   'cla__batch_size': [32, 64, 128, 256], \n",
    "#                   }]\n",
    "\n",
    "#     label_models = ['model']\n",
    "    \n",
    "    \n",
    "  \n",
    "     \n",
    "#     grid = RandomizedSearchCV( Pipeline(steps), parameters,  n_jobs=2, cv=ss, scoring= my_func,\n",
    "#                         error_score=\"raise\",refit= True,verbose=0, n_iter=15)\n",
    "    \n",
    "#    # Y_train_one_hot_targets = tf.one_hot(tf.cast(Y_train , tf.int32), len(np.unique(Y_true_test)), axis = 1, dtype=tf.int32)\n",
    "#     grid_result = grid.fit(X_train, Y_train)\n",
    "#     best_parameter += [grid_result.best_params_ ]   \n",
    "#     cvresults += [grid_result.cv_results_]\n",
    "\n",
    "#     #estimar etiquetas modelo rodiguez \n",
    "#     preds_test_num = grid.best_estimator_[1].predict2(grid.best_estimator_[0].transform(X_test))\n",
    "#     print(classification_report(Y_true_test,preds_test_num ))\n",
    "\n",
    "#     labels_pred2 += [preds_test_num]\n",
    "#     labels_Y_true +=[Y_true_test.ravel()]\n",
    " \n",
    "#     classification_report_r += [classification_report(preds_test_num,Y_true_test.ravel(), output_dict=True)]\n",
    "     \n",
    "# joblib.dump([best_parameter,cvresults,classification_report_r],filename+\".pkl\")\n",
    "# joblib.dump([labels_pred2,labels_Y_true],filename_labels +\".pkl\")"
   ]
  },
  {
   "cell_type": "code",
   "execution_count": null,
   "id": "7523207a",
   "metadata": {
    "execution": {
     "iopub.status.busy": "2023-02-08T15:47:05.423900Z",
     "iopub.status.idle": "2023-02-08T15:47:05.424848Z",
     "shell.execute_reply": "2023-02-08T15:47:05.424566Z",
     "shell.execute_reply.started": "2023-02-08T15:47:05.424537Z"
    },
    "id": "A8U-B19Sm2d6",
    "outputId": "d0c737d2-b68e-408a-ea6e-65a759d17ca1",
    "papermill": {
     "duration": null,
     "end_time": null,
     "exception": null,
     "start_time": null,
     "status": "pending"
    },
    "tags": []
   },
   "outputs": [],
   "source": [
    "best_parameter"
   ]
  },
  {
   "cell_type": "markdown",
   "id": "67859865",
   "metadata": {
    "id": "aQ3-495gIdJA",
    "papermill": {
     "duration": null,
     "end_time": null,
     "exception": null,
     "start_time": null,
     "status": "pending"
    },
    "tags": []
   },
   "source": [
    "# Computing precision, recall, f1-score  mean values for every class"
   ]
  },
  {
   "cell_type": "code",
   "execution_count": null,
   "id": "cd87aaa8",
   "metadata": {
    "execution": {
     "iopub.status.busy": "2023-02-08T15:47:05.426704Z",
     "iopub.status.idle": "2023-02-08T15:47:05.427324Z",
     "shell.execute_reply": "2023-02-08T15:47:05.427046Z",
     "shell.execute_reply.started": "2023-02-08T15:47:05.427016Z"
    },
    "id": "EltKxZIi3FKQ",
    "outputId": "e9a794c0-e2b3-4fe1-af06-c5aa7ceeba53",
    "papermill": {
     "duration": null,
     "end_time": null,
     "exception": null,
     "start_time": null,
     "status": "pending"
    },
    "tags": []
   },
   "outputs": [],
   "source": [
    "  \n",
    "# val_acc_CrowdL= np.zeros(NUM_RUNS)\n",
    "# val_Precision =  np.zeros((len(classification_report_r),len(classification_report_r[0].keys())-3))\n",
    "# val_recall =  np.zeros((len(classification_report_r),len(classification_report_r[0].keys())-3))\n",
    "# val_f1_score =  np.zeros((len(classification_report_r),len(classification_report_r[0].keys())-3))\n",
    "# for i in range(len(classification_report_r)):\n",
    "    \n",
    "#     for j in range(len(classification_report_r[0].keys())-3):\n",
    "#         val_Precision[i][j] = classification_report_r[i][str(j)]['precision']\n",
    "#         val_recall[i][j] = classification_report_r[i][str(j)]['recall']\n",
    "#         val_f1_score[i][j] = classification_report_r[i][str(j)]['f1-score']\n",
    "        \n",
    "     \n",
    "#     val_acc_CrowdL[i] = classification_report_r[i]['accuracy']\n",
    "# #print(classification_report_r[0]['precision'])'recall'\n",
    "# print('Average precision classes: ',  np.mean(val_Precision, axis=0))\n",
    "# print('Average Recall classes: ', np.mean(val_recall, axis=0))\n",
    "# print('Average f1_score classes: ', np.mean(val_f1_score, axis=0)) "
   ]
  },
  {
   "cell_type": "code",
   "execution_count": null,
   "id": "6e57b9ce",
   "metadata": {
    "execution": {
     "iopub.status.busy": "2023-02-08T15:47:05.428778Z",
     "iopub.status.idle": "2023-02-08T15:47:05.429784Z",
     "shell.execute_reply": "2023-02-08T15:47:05.429595Z",
     "shell.execute_reply.started": "2023-02-08T15:47:05.429572Z"
    },
    "id": "Ipgq4LFG3FKR",
    "outputId": "d2f66028-c176-4515-cfb8-1d9feed83c59",
    "papermill": {
     "duration": null,
     "end_time": null,
     "exception": null,
     "start_time": null,
     "status": "pending"
    },
    "tags": []
   },
   "outputs": [],
   "source": [
    "val_acc_CrowdL"
   ]
  },
  {
   "cell_type": "code",
   "execution_count": null,
   "id": "3ea9555c",
   "metadata": {
    "execution": {
     "iopub.status.busy": "2023-02-08T15:47:05.430896Z",
     "iopub.status.idle": "2023-02-08T15:47:05.431504Z",
     "shell.execute_reply": "2023-02-08T15:47:05.431329Z",
     "shell.execute_reply.started": "2023-02-08T15:47:05.431308Z"
    },
    "id": "VRl4-eGz3FKR",
    "outputId": "1c9fddb2-19c6-4ad7-a268-d69ea5131321",
    "papermill": {
     "duration": null,
     "end_time": null,
     "exception": null,
     "start_time": null,
     "status": "pending"
    },
    "tags": []
   },
   "outputs": [],
   "source": [
    " \n",
    "print('Average Accuracy: ', np.round(np.mean(val_acc_CrowdL),4)*100) \n",
    "print('Average std: ',np.round(np.std(val_acc_CrowdL),4)*100)"
   ]
  },
  {
   "cell_type": "code",
   "execution_count": null,
   "id": "c5a4d9b9",
   "metadata": {
    "execution": {
     "iopub.status.busy": "2023-02-08T15:47:05.432567Z",
     "iopub.status.idle": "2023-02-08T15:47:05.433158Z",
     "shell.execute_reply": "2023-02-08T15:47:05.432971Z",
     "shell.execute_reply.started": "2023-02-08T15:47:05.432944Z"
    },
    "id": "EcQvW_cl3FKR",
    "papermill": {
     "duration": null,
     "end_time": null,
     "exception": null,
     "start_time": null,
     "status": "pending"
    },
    "tags": []
   },
   "outputs": [],
   "source": [
    "best_batch_list = []\n",
    "best_dropout_list = []\n",
    "best_l1_coef_list = []\n",
    "best_l1_coef_list = []\n",
    "best_learning_rate_list = []\n",
    "for i in range(len(best_parameter)):\n",
    "    best_batch_list += [best_parameter[i]['cla__batch_size']]\n",
    "    best_dropout_list += [best_parameter[i]['cla__dropout']]\n",
    "    best_l1_coef_list += [best_parameter[i]['cla__l1_param']]\n",
    "    best_learning_rate_list += [best_parameter[i]['cla__learning_rate']]\n",
    "   # print(best_parameter[i]['cla__batch_size'])\n",
    "\n",
    " "
   ]
  },
  {
   "cell_type": "markdown",
   "id": "ad475295",
   "metadata": {
    "id": "6WBJs6MfInC0",
    "papermill": {
     "duration": null,
     "end_time": null,
     "exception": null,
     "start_time": null,
     "status": "pending"
    },
    "tags": []
   },
   "source": [
    "# Mode  across gridsearch N iteratios parameters"
   ]
  },
  {
   "cell_type": "code",
   "execution_count": null,
   "id": "0c90b43f",
   "metadata": {
    "execution": {
     "iopub.status.busy": "2023-02-08T15:47:05.434182Z",
     "iopub.status.idle": "2023-02-08T15:47:05.434759Z",
     "shell.execute_reply": "2023-02-08T15:47:05.434584Z",
     "shell.execute_reply.started": "2023-02-08T15:47:05.434565Z"
    },
    "id": "AXTHlE3j3FKR",
    "outputId": "5e7b5b62-8678-46b6-fb39-1c63890bdcff",
    "papermill": {
     "duration": null,
     "end_time": null,
     "exception": null,
     "start_time": null,
     "status": "pending"
    },
    "tags": []
   },
   "outputs": [],
   "source": [
    "import numpy as np\n",
    "from scipy import stats\n",
    "  \n",
    "\n",
    "batch_size_mode = np.take(stats.mode(best_batch_list)[0],0)\n",
    "dropout_mode =  np.take(stats.mode(best_dropout_list ) [0],0)\n",
    "l1_coef_mode =   np.take(stats.mode(best_l1_coef_list )[0],0)\n",
    "learning_rate_mode =  np.take(stats.mode(best_learning_rate_list )[0],0)\n",
    "print('batch_size_mode :',batch_size_mode)\n",
    "print('dropout_mode :',dropout_mode )\n",
    "print('l1_coef_mode :', l1_coef_mode)\n",
    "print('learning_rate_mode: ',learning_rate_mode)"
   ]
  },
  {
   "cell_type": "code",
   "execution_count": null,
   "id": "4aadf822",
   "metadata": {
    "execution": {
     "iopub.status.busy": "2023-02-08T15:47:05.435625Z",
     "iopub.status.idle": "2023-02-08T15:47:05.436405Z",
     "shell.execute_reply": "2023-02-08T15:47:05.436209Z",
     "shell.execute_reply.started": "2023-02-08T15:47:05.436186Z"
    },
    "id": "GC2ZsSgY3FKT",
    "papermill": {
     "duration": null,
     "end_time": null,
     "exception": null,
     "start_time": null,
     "status": "pending"
    },
    "tags": []
   },
   "outputs": [],
   "source": [
    "# scaler = MinMaxScaler()\n",
    "# scaler.fit(X_train)\n",
    "# X_train = scaler.transform(X_train)\n",
    "# X_test = scaler.transform(X_test)"
   ]
  },
  {
   "cell_type": "code",
   "execution_count": null,
   "id": "e4529dd1",
   "metadata": {
    "id": "No0pNZFXXd9h",
    "papermill": {
     "duration": null,
     "end_time": null,
     "exception": null,
     "start_time": null,
     "status": "pending"
    },
    "tags": []
   },
   "outputs": [],
   "source": []
  }
 ],
 "metadata": {
  "kernelspec": {
   "display_name": "Python 3",
   "language": "python",
   "name": "python3"
  },
  "language_info": {
   "codemirror_mode": {
    "name": "ipython",
    "version": 3
   },
   "file_extension": ".py",
   "mimetype": "text/x-python",
   "name": "python",
   "nbconvert_exporter": "python",
   "pygments_lexer": "ipython3",
   "version": "3.7.12"
  },
  "papermill": {
   "default_parameters": {},
   "duration": 160.611895,
   "end_time": "2023-02-09T15:27:04.369320",
   "environment_variables": {},
   "exception": true,
   "input_path": "__notebook__.ipynb",
   "output_path": "__notebook__.ipynb",
   "parameters": {},
   "start_time": "2023-02-09T15:24:23.757425",
   "version": "2.3.4"
  }
 },
 "nbformat": 4,
 "nbformat_minor": 5
}
