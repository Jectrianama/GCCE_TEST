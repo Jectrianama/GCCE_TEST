{
 "cells": [
  {
   "cell_type": "markdown",
   "id": "fe501673",
   "metadata": {
    "id": "Cy45HoPn5SpZ",
    "papermill": {
     "duration": 0.009116,
     "end_time": "2023-02-13T08:09:48.646159",
     "exception": false,
     "start_time": "2023-02-13T08:09:48.637043",
     "status": "completed"
    },
    "tags": []
   },
   "source": [
    "# Loss function Rodrigues\n",
    "\n",
    "$𝒟 = \\{ \\mathbf{x}_n, \\mathbf{y}_n\\}$ be a dataset of size $N$\n",
    "\n",
    "$\\mathbf{x}_n \\in \\mathbb{R}^D$\n",
    "\n",
    "${\\mathbf{y}}^r_n\\in[0,1]^K$:   label provided for the r-th annotator in a set of R annotators\n",
    "\n",
    "$𝒛_n$ Latent true class determined by a softmax output layer  of a DNN\n",
    "\n",
    "\n",
    "$\\mathbf{\\sigma}\\in \\mathbb{R} ^Q$: DNN-based feature representation. correspond to the output of a softmax layer\n",
    "\n",
    "$\\hat{\\mathbf{y}}^r_n = f_r(\\sigma)\\in[0,1]^{1 \\times K}$\n",
    "\n",
    "$\\hat{\\mathbf{y}}_n=[\\hat{\\mathbf{y}}^1_n,\\hat{\\mathbf{y}}^2_n,\\dots,\\hat{\\mathbf{y}}^R_n]\\in [0,1]^{1\\times (R\\times K)}$\n",
    "\n",
    "Activation of the crowd layer for each anotator  $ \\mathbf{a}^r = f_r(\\sigma)$, where $f_r$ is an annotator-specific function, and the output of the crowd layer simply as the softmax of the\n",
    "activations $o_c^r = e^{a_c^r}/\\sum_{l=1}^{C}e^{a_l^r}$.\n",
    "\n",
    "\n",
    " $f_r(\\sigma)= \\mathbf{W}^r\\mathbf{\\sigma}$\n",
    "\n",
    " $\\mathbf{W}^r$ is an annotator-specific matrix\n",
    "\n",
    " **Cost function**\n",
    "\n",
    " $E(\\mathbf{o}^r, y^r)$\n",
    " between the expected output of the r-th annotator and its actual label $y^r$,\n",
    "\n",
    "Then, \n",
    "\n",
    "if we make. $\\lambda_n^r(\\theta) = \\mathbf{1}$ in PRI loss\n",
    "\n",
    "\n",
    "\n",
    "$$\\min_\\theta \\sum_n\\left(\\sum_r \\lambda_n^r(\\theta)H({\\mathbf{y}}^r_n;\\hat{\\mathbf{y}}_n(\\theta))\\right)+\\left(H(\\hat{\\mathbf{y}}_n(\\theta))\\sum_r\\left(1-\\lambda_n^r(\\theta)\\right)\\right)$$\n",
    "\n",
    " \n",
    "we can obtain rodriguez\n",
    "\n",
    "\n",
    "$$\\min_\\theta \\sum_n\\left(\\sum_r (\\mathbf{1})H({\\mathbf{y}}^r_n;\\hat{\\mathbf{y}}_n(\\theta))\\right)+\\left(H(\\hat{\\mathbf{y}}_n(\\theta))\\sum_r\\left(1-\\mathbf{1}\\right)\\right)$$"
   ]
  },
  {
   "cell_type": "code",
   "execution_count": 1,
   "id": "849d24a2",
   "metadata": {
    "execution": {
     "iopub.execute_input": "2023-02-13T08:09:48.664672Z",
     "iopub.status.busy": "2023-02-13T08:09:48.663944Z",
     "iopub.status.idle": "2023-02-13T08:09:48.671346Z",
     "shell.execute_reply": "2023-02-13T08:09:48.670113Z"
    },
    "id": "Htu1kN9-jZO1",
    "papermill": {
     "duration": 0.020903,
     "end_time": "2023-02-13T08:09:48.674763",
     "exception": false,
     "start_time": "2023-02-13T08:09:48.653860",
     "status": "completed"
    },
    "tags": []
   },
   "outputs": [],
   "source": [
    "#!pip install tensorflow==2.7.0\n",
    "#!pip install scikeras"
   ]
  },
  {
   "cell_type": "code",
   "execution_count": 2,
   "id": "e8e96a36",
   "metadata": {
    "execution": {
     "iopub.execute_input": "2023-02-13T08:09:48.692587Z",
     "iopub.status.busy": "2023-02-13T08:09:48.692126Z",
     "iopub.status.idle": "2023-02-13T08:09:55.921615Z",
     "shell.execute_reply": "2023-02-13T08:09:55.920214Z"
    },
    "id": "Gw-I1LpOjkw3",
    "outputId": "ebc8e065-e200-4131-fc8b-2ae9efe8d1d7",
    "papermill": {
     "duration": 7.242568,
     "end_time": "2023-02-13T08:09:55.925171",
     "exception": false,
     "start_time": "2023-02-13T08:09:48.682603",
     "status": "completed"
    },
    "tags": []
   },
   "outputs": [],
   "source": [
    "import tensorflow as tf\n",
    "from sklearn.metrics import classification_report, accuracy_score, balanced_accuracy_score, roc_auc_score, mutual_info_score, normalized_mutual_info_score, adjusted_mutual_info_score\n",
    "from sklearn.preprocessing import LabelBinarizer\n",
    "from sklearn.preprocessing import OneHotEncoder\n",
    "from scipy.stats import mode \n",
    "import numpy as np\n",
    "\n",
    "def ook(t):\n",
    "  lb = LabelBinarizer()\n",
    "  y_ook = lb.fit_transform(t)  \n",
    "\n",
    "  if len(np.unique(t))==2:\n",
    "    y_ook = np.concatenate((1-y_ook.astype(bool), y_ook), axis = 1) \n",
    "\n",
    "  return y_ook\n",
    "\n",
    " \n",
    "\n",
    "def evaluation_metrics(y_true, y_pred, print_result=True):\n",
    "    acc = 0\n",
    "    auc = 0\n",
    "    auc_sk = 0\n",
    "    #mi = 0\n",
    "    nmi = 0\n",
    "    #ami = 0\n",
    "    bacc = 0\n",
    "    \n",
    "    # Accuracy\n",
    "    #report = classification_report(y_pred.argmax(axis=1), y_true.ravel(), output_dict=True)\n",
    "    acc = accuracy_score( y_true.ravel(), y_pred.argmax(axis=1))  #report['accuracy']\n",
    "    \n",
    "    # Balanced accuracy\n",
    "    bacc = balanced_accuracy_score(y_true.squeeze(), y_pred.argmax(axis=1).squeeze(), adjusted=True)\n",
    "    \n",
    "   # # Mutual Information\n",
    "   # mi = mutual_info_score(y_true.squeeze(), y_pred.argmax(axis=1).squeeze())\n",
    "    \n",
    "    # Normalized Mutual Information\n",
    "    nmi = normalized_mutual_info_score(y_true.squeeze(), y_pred.argmax(axis=1).squeeze())\n",
    "    \n",
    "    # Adjusted Mutual Information\n",
    "    #ami = adjusted_mutual_info_score(y_true.squeeze(), y_pred.argmax(axis=1).squeeze())\n",
    "    \n",
    "    # AUC (Tensorflow)\n",
    "    auc_metric = tf.keras.metrics.AUC(from_logits=True)\n",
    "    auc_metric.update_state(y_true, y_pred.argmax(axis=1).astype('float'))\n",
    "    auc = auc_metric.result().numpy()\n",
    "    auc_metric.reset_states()\n",
    "    \n",
    "    # AUC (scikit-learn)\n",
    "    auc_sk = roc_auc_score(ook(y_true), y_pred)\n",
    "    \n",
    "    if print_result:\n",
    "        print(\"Accuracy: {:.4f}\".format(acc))\n",
    "        print(\"Balanced Accuracy: {:.4f}\".format(bacc))\n",
    "        print(\"Mutual Information: {:.4f}\".format(mi))\n",
    "        print(\"Normalized Mutual Information: {:.4f}\".format(nmi))\n",
    "        print(\"Adjusted Mutual Information: {:.4f}\".format(ami))\n",
    "        print(\"AUC (Tensorflow): {:.4f}\".format(auc))\n",
    "        print(\"AUC (scikit-learn): {:.4f}\".format(auc_sk))\n",
    "    \n",
    "    return acc, auc, auc_sk, nmi, bacc   # mi, , ami\n",
    "\n",
    "\n"
   ]
  },
  {
   "cell_type": "markdown",
   "id": "45e00c26",
   "metadata": {
    "id": "lYGUr8mv4EuV",
    "papermill": {
     "duration": 0.007131,
     "end_time": "2023-02-13T08:09:55.939858",
     "exception": false,
     "start_time": "2023-02-13T08:09:55.932727",
     "status": "completed"
    },
    "tags": []
   },
   "source": [
    "# Subclassing for Crowdlayer Rodriguez"
   ]
  },
  {
   "cell_type": "code",
   "execution_count": 3,
   "id": "3468ac5e",
   "metadata": {
    "execution": {
     "iopub.execute_input": "2023-02-13T08:09:55.957691Z",
     "iopub.status.busy": "2023-02-13T08:09:55.956873Z",
     "iopub.status.idle": "2023-02-13T08:09:59.209972Z",
     "shell.execute_reply": "2023-02-13T08:09:59.208822Z"
    },
    "id": "p5fJiVgC3FKO",
    "papermill": {
     "duration": 3.265545,
     "end_time": "2023-02-13T08:09:59.212892",
     "exception": false,
     "start_time": "2023-02-13T08:09:55.947347",
     "status": "completed"
    },
    "tags": []
   },
   "outputs": [],
   "source": [
    "# -*- coding: utf-8 -*-\n",
    "import tensorflow as tf\n",
    "import matplotlib.pyplot as plt\n",
    "#from tensorflow.keras.wrappers.scikit_learn import KerasClassifier\n",
    "import tensorflow_probability as tfp\n",
    "from tensorflow.keras import regularizers\n",
    "from sklearn.base import  BaseEstimator, TransformerMixin, ClassifierMixin\n",
    "from sklearn.model_selection import train_test_split\n",
    "tf.keras.backend.clear_session()\n",
    "#tf.random.set_seed(42)\n",
    "import types\n",
    "import tempfile\n",
    "class Keras_MA_CrowdL(): #transformer no va\n",
    " #Constructor __init__. Special method: identified by a double underscore at either side of their name\n",
    " #work in the background\n",
    " # initialize data members to the object. lets the class initialize the object’s attributes and serves no other purpose.\n",
    "    def __init__(self,epochs=100,batch_size=30,R=5, K=2, dropout=0.5, learning_rate=1e-3,optimizer='Adam', \n",
    "                  l1_param=0, validation_split=0.3, verbose=0, neurons=4):\n",
    "        #print('init')\n",
    "        self.epochs=epochs\n",
    "        self.dropout=dropout\n",
    "        self.batch_size = batch_size\n",
    "        self.learning_rate=learning_rate \n",
    "        self.l1_param=l1_param \n",
    "        self.l2_param=l1_param\n",
    "        self.validation_split = validation_split\n",
    "        self.verbose = verbose\n",
    "        self.optimizer = optimizer\n",
    "        self.R=R\n",
    "        self.K=K\n",
    "        self.neurons = neurons\n",
    "\n",
    "    \n",
    " \n",
    "    def custom_CLR_loss(self, y_true, y_pred): #ytrue \\in N x R,  ypred \\in N x K x R  ->CrowdLayerRodriguez\n",
    "        #print(y_true.shape)\n",
    "        Y_true_1K = tf.one_hot(tf.cast(y_true,dtype=tf.int32),depth=self.K,axis=1) #samples, classes 1-K, annotators\n",
    "        #print(Y_true_1K.shape)    \n",
    "        vec = tf.nn.softmax_cross_entropy_with_logits(logits=y_pred, labels=Y_true_1K, axis = 1)\n",
    "        #print(vec.shape)\n",
    "        #mask = tf.equal(Y_true_1K[:,0,:], -1)\n",
    "        #zer = tf.zeros_like(vec)\n",
    "        #loss = tf.where(mask, x=zer, y=vec)\n",
    "        #tf.print(\"loss\", loss)\n",
    "        return tf.math.reduce_sum(vec)\n",
    "    \n",
    "    def fit(self, X, Y):\n",
    "            \n",
    "        def scheduler1(step = 10, ratio = 1.2):\n",
    "          def scheduler(epoch, lr):\n",
    "            if epoch % step == 0 and epoch>1:\n",
    "              return lr/ratio\n",
    "            else:\n",
    "              return lr\n",
    "          return scheduler\n",
    "\n",
    "        initializer = tf.keras.initializers.GlorotNormal(seed=100)\n",
    "        #input X numpy array first dimension samples (N)x features (P)\n",
    "        #input Y numpy array vector len = samples (N) x  annotators (R)\n",
    "        P = X.shape[1]\n",
    "        \n",
    "        if self.optimizer == \"Adam\":\n",
    "            opt = tf.keras.optimizers.Adam(learning_rate=self.learning_rate)\n",
    "        elif self.optimizer == \"SGD\":\n",
    "            opt = tf.keras.optimizers.SGD(learning_rate=self.learning_rate)\n",
    "        elif self.optimizer == \"RMSprop\":\n",
    "            opt = tf.keras.optimizers.RMSprop(learning_rate=self.learning_rate)\n",
    "        elif self.optimizer == \"Adagrad\":\n",
    "            opt = tf.keras.optimizers.Adagrad(learning_rate=self.learning_rate)\n",
    "        else:\n",
    "            opt=self.optimizer\n",
    "\n",
    "\n",
    "#         if self.loss == \"RCDNN\":\n",
    "#           sel_loss = self.custom_RCDNN_loss\n",
    "#         elif  self.loss == \"GCE\":\n",
    "#           sel_loss = self.GCE_MA_loss\n",
    "        \n",
    "        #capa de entrada\n",
    "        input_l = tf.keras.layers.Input(shape=(X.shape[1]), name='entrada')\n",
    "        input_l_b = tf.keras.layers.BatchNormalization()(input_l)        \n",
    "        input_l_do = tf.keras.layers.Dropout(rate=self.dropout)(input_l_b)    \n",
    "        #capas densas\n",
    "        h1 = tf.keras.layers.Dense(int(P*self.neurons*(self.K+self.R)),activation='selu',name='h1', bias_initializer='zeros', kernel_initializer=initializer,\n",
    "                              kernel_regularizer=tf.keras.regularizers.l1_l2(l1=self.l1_param,l2=self.l2_param))(input_l_do)#argumento de entrada\n",
    "       # h1 = tf.keras.layers.BatchNormalization()(h1)        \n",
    "        h1 = tf.keras.layers.AlphaDropout(rate=self.dropout)(h1)      \n",
    "        h2 = tf.keras.layers.Dense(int(P*(self.K+self.R)),activation='selu',name='h2', bias_initializer='zeros', kernel_initializer=initializer,\n",
    "                              kernel_regularizer=tf.keras.regularizers.l1_l2(l1=self.l1_param,l2=self.l2_param))(h1)\n",
    "        #h2 = tf.keras.layers.BatchNormalization()(h2)     \n",
    "        dout = tf.keras.layers.AlphaDropout(rate=self.dropout)(h2)\n",
    "        output_dense = tf.keras.layers.Dense(self.K,activation=\"softmax\",name='output',\n",
    "                               kernel_regularizer=tf.keras.regularizers.l1_l2(l1=self.l1_param,l2=self.l2_param))(dout)\n",
    "        output= CrowdsClassification(self.K, self.R, conn_type=\"MW\")(output_dense) #Classes x Annotators\n",
    "        self.model = tf.keras.Model(inputs= input_l,outputs=output)\n",
    "        self.model.compile(loss= self.custom_CLR_loss, optimizer=opt)\n",
    "        \n",
    "        callback1 = tf.keras.callbacks.TerminateOnNaN()\n",
    "        callback2 = tf.keras.callbacks.LearningRateScheduler(scheduler1(ratio = 1))\n",
    "        #callback2 = tf.keras.callbacks.LearningRateScheduler(scheduler2)\n",
    "        callback3 = tf.keras.callbacks.EarlyStopping(monitor=\"loss\", min_delta=1e-2,\n",
    "                                                 patience=15, verbose=0, mode=\"auto\",\n",
    "                                                 baseline=None, restore_best_weights=True)\n",
    "        \n",
    "        \n",
    "        self.history = self.model.fit(X, Y, epochs=self.epochs, validation_split= self.validation_split, callbacks = [callback1, callback2],     #\n",
    "                                      batch_size=self.batch_size,verbose=self.verbose)\n",
    "        #model_p  to predict labels in gridsearch  \n",
    "        self.model_p = tf.keras.Model(inputs=self.model.inputs,outputs=self.model.get_layer('output').output) #se accede a capas por nombre\n",
    "        #resumen y gráfica del modelo\n",
    "        #print(self.model.summary())\n",
    "        \n",
    "        return self\n",
    " \n",
    " \n",
    "\n",
    "    def predict2(self, X, *_):\n",
    "      return  self.model_p.predict(X)\n",
    "\n",
    "     \n",
    "    def predict(self, X, *_):\n",
    "\n",
    "       #print('predict') \n",
    "       return  self.model.predict(X) \n",
    "\n",
    "    def fit_predict(self,X,y):\n",
    "        #input X numpy array first dimension samples (N)x features (P)\n",
    "        #input Y numpy array vector len = samples (N) x  annotators (R)\n",
    "        \n",
    "        self.fit(X,y)\n",
    "        return self.predict(X)\n",
    "  \n",
    "     #graphics\n",
    "    def plot_history(self):\n",
    "        pd.DataFrame(self.history.history).plot(figsize=(8, 5))\n",
    "        plt.grid(True)\n",
    "        #plt.gca().set_ylim(0, 1)\n",
    "        #save_fig(\"keras_learning_curves_plot\")\n",
    "        plt.show()\n",
    "        return\n",
    "    \n",
    "    def set_params(self, **parameters):\n",
    "        #print('set_params') \n",
    "        for parameter, value in parameters.items():\n",
    "            setattr(self, parameter, value)\n",
    "\n",
    "        return self\n",
    "    \n",
    "    \n",
    "    \n",
    "    def get_params(self, deep=True):\n",
    "        #print('get_params') \n",
    "        return { 'l1_param':self.l1_param, 'dropout':self.dropout, 'optimizer':self.optimizer,\n",
    "                'learning_rate':self.learning_rate, 'batch_size':self.batch_size,\n",
    "                'epochs':self.epochs, 'verbose':self.verbose, 'validation_split':self.validation_split,\n",
    "                'R':self.R, 'K':self.K\n",
    "                }"
   ]
  },
  {
   "cell_type": "markdown",
   "id": "e00497f4",
   "metadata": {
    "id": "b9yV0N4v4U_3",
    "papermill": {
     "duration": 0.007036,
     "end_time": "2023-02-13T08:09:59.227545",
     "exception": false,
     "start_time": "2023-02-13T08:09:59.220509",
     "status": "completed"
    },
    "tags": []
   },
   "source": [
    "# Crowdlayer class"
   ]
  },
  {
   "cell_type": "code",
   "execution_count": 4,
   "id": "d4f0ac1b",
   "metadata": {
    "execution": {
     "iopub.execute_input": "2023-02-13T08:09:59.245582Z",
     "iopub.status.busy": "2023-02-13T08:09:59.244739Z",
     "iopub.status.idle": "2023-02-13T08:09:59.270782Z",
     "shell.execute_reply": "2023-02-13T08:09:59.269550Z"
    },
    "id": "4ysb7umL3FKN",
    "papermill": {
     "duration": 0.038821,
     "end_time": "2023-02-13T08:09:59.273833",
     "exception": false,
     "start_time": "2023-02-13T08:09:59.235012",
     "status": "completed"
    },
    "tags": []
   },
   "outputs": [],
   "source": [
    " \n",
    "import numpy as np\n",
    "import tensorflow as tf\n",
    "import tensorflow.keras as keras\n",
    "from tensorflow.keras import backend as K1\n",
    "from tensorflow.keras.layers import Layer\n",
    "#from tensorflow.keras.engine.topology import Layer\n",
    "\n",
    "def init_identities(shape, dtype=None):\n",
    "    out = np.zeros(shape)\n",
    "    for r in range(shape[2]):\n",
    "        for i in range(shape[0]):\n",
    "            out[i,i,r] = 1.0\n",
    "    return out\n",
    "    \n",
    "class CrowdsClassification(Layer):\n",
    "\n",
    "\n",
    "  \n",
    "  #The build() method’s role is to create the layer’s variables, by calling the \n",
    "  #add_weight() method for each weight.  which is often necessary to create some of the weights.\n",
    "  #we need to know the number of neurons in the previous layer in order to create the connection weights matrix (i.e., the \"kernel\"): \n",
    "  #this corresponds to the size of the last dimension of the inputs. \n",
    "   \n",
    "    def __init__(self, output_dim, num_annotators, conn_type=\"MW\", **kwargs):\n",
    "        self.output_dim = output_dim\n",
    "        self.num_annotators = num_annotators\n",
    "        self.conn_type = conn_type\n",
    "        super(CrowdsClassification, self).__init__(**kwargs)\n",
    "\n",
    "\n",
    "\n",
    "    def build(self, input_shape):\n",
    "        if self.conn_type == \"MW\":\n",
    "            # matrix of weights per annotator\n",
    "      #A layer is a callable object that takes as input one or more tensors and that outputs one or more tensors. \n",
    "      #It involves computation, defined in the call() method, and a state (weight variables). \n",
    "      #the method add_weight() offers a shortcut to create weights.\n",
    "\n",
    "            self.kernel = self.add_weight(\"CrowdLayer\", (self.output_dim, self.output_dim, self.num_annotators),\n",
    "                                            initializer=init_identities, #It is the stated initializer instance\n",
    "                                            trainable=True) # trainable weights, updated via backpropagation during training\n",
    "        elif self.conn_type == \"VW\":\n",
    "            # vector of weights (one scale per class) per annotator\n",
    "            self.kernel = self.add_weight(\"CrowdLayer\", (self.output_dim, self.num_annotators),\n",
    "                                            initializer=keras.initializers.Ones(), \n",
    "                                            trainable=True)\n",
    "        elif self.conn_type == \"VB\":\n",
    "            # two vectors of weights (one scale and one bias per class) per annotator\n",
    "            self.kernel = []\n",
    "            self.kernel.append(self.add_weight(\"CrowdLayer\", (self.output_dim, self.num_annotators),\n",
    "                                            initializer=keras.initializers.Zeros(),\n",
    "                                            trainable=True))\n",
    "        elif self.conn_type == \"VW+B\":\n",
    "            # two vectors of weights (one scale and one bias per class) per annotator\n",
    "            self.kernel = []\n",
    "            self.kernel.append(self.add_weight(\"CrowdLayer\", (self.output_dim, self.num_annotators),\n",
    "                                            initializer=keras.initializers.Ones(),\n",
    "                                            trainable=True))\n",
    "            self.kernel.append(self.add_weight(\"CrowdLayer\", (self.output_dim, self.num_annotators),\n",
    "                                            initializer=keras.initializers.Zeros(),\n",
    "                                            trainable=True))\n",
    "        elif self.conn_type == \"SW\":\n",
    "            # single weight value per annotator\n",
    "            self.kernel = self.add_weight(\"CrowdLayer\", (self.num_annotators,1),\n",
    "                                            initializer=keras.initializers.Ones(),\n",
    "                                            trainable=True)\n",
    "        else:\n",
    "            raise Exception(\"Unknown connection type for CrowdsClassification layer!\")\n",
    "    #At the end of the build() method (and only at the end), \n",
    "    #you must call the parent’s build() method: this tells Keras that the layer is built (it just sets self.built = True).\n",
    "        super(CrowdsClassification, self).build(input_shape)  # Be sure to call this somewhere!\n",
    "\n",
    "    def call(self, x):\n",
    "    \n",
    "    #The call() method actually performs the desired operations. In this case, \n",
    "    #we compute the matrix multiplication of the inputs X and the layer’s kernel and \n",
    "    #this gives us the output of the layer.\n",
    "     \n",
    " \n",
    "\n",
    "        if self.conn_type == \"MW\":\n",
    "            res = K1.dot(x, self.kernel)\n",
    "        elif self.conn_type == \"VW\" or self.conn_type == \"VB\" or self.conn_type == \"VW+B\" or self.conn_type == \"SW\":\n",
    "            out = []\n",
    "            for r in range(self.num_annotators):\n",
    "                if self.conn_type == \"VW\":\n",
    "                    out.append(x * self.kernel[:,r])\n",
    "                elif self.conn_type == \"VB\":\n",
    "                    out.append(x + self.kernel[0][:,r])\n",
    "                elif self.conn_type == \"VW+B\":\n",
    "                    out.append(x * self.kernel[0][:,r] + self.kernel[1][:,r])\n",
    "                elif self.conn_type == \"SW\":\n",
    "                    out.append(x * self.kernel[r,0])\n",
    "            res = tf.stack(out)\n",
    "            if len(res.shape) == 3:\n",
    "                res = tf.transpose(res, [1, 2, 0])\n",
    "            elif len(res.shape) == 4:\n",
    "                res = tf.transpose(res, [1, 2, 3, 0])\n",
    "            else:\n",
    "                raise Exception(\"Wrong number of dimensions for output\")\n",
    "        else:\n",
    "            raise Exception(\"Unknown connection type for CrowdsClassification layer!\") \n",
    "        \n",
    "        return res\n",
    " \n",
    "#The compute_output_shape() method simply returns the shape of this layer’s outputs. \n",
    "#In this case, it is the same shape as the inputs, except the last two dimensions is replaced \n",
    "#with the number of clases and # annotators in the layer.  \n",
    " \n",
    "\n",
    "    def compute_output_shape(self, input_shape):\n",
    "        return (input_shape[0], self.output_dim, self.num_annotators)"
   ]
  },
  {
   "cell_type": "markdown",
   "id": "1c231b0e",
   "metadata": {
    "id": "xKzPN5lnHO13",
    "papermill": {
     "duration": 0.00872,
     "end_time": "2023-02-13T08:09:59.290268",
     "exception": false,
     "start_time": "2023-02-13T08:09:59.281548",
     "status": "completed"
    },
    "tags": []
   },
   "source": [
    "# Load Data"
   ]
  },
  {
   "cell_type": "code",
   "execution_count": 5,
   "id": "45f210df",
   "metadata": {
    "execution": {
     "iopub.execute_input": "2023-02-13T08:09:59.312169Z",
     "iopub.status.busy": "2023-02-13T08:09:59.310788Z",
     "iopub.status.idle": "2023-02-13T08:09:59.392039Z",
     "shell.execute_reply": "2023-02-13T08:09:59.390654Z"
    },
    "id": "hA1QFlPBjpbA",
    "outputId": "db5be05d-1fdc-4725-8064-5dc79e7a9a6a",
    "papermill": {
     "duration": 0.096147,
     "end_time": "2023-02-13T08:09:59.395342",
     "exception": false,
     "start_time": "2023-02-13T08:09:59.299195",
     "status": "completed"
    },
    "tags": []
   },
   "outputs": [
    {
     "name": "stdout",
     "output_type": "stream",
     "text": [
      "X (215, 5) t (215,)\n"
     ]
    }
   ],
   "source": [
    "#load data\n",
    "import scipy.io as sio\n",
    "import matplotlib.pyplot as plt\n",
    "import pandas as pd\n",
    "import tensorflow as tf #importar tensorflow\n",
    "from sklearn.model_selection import GridSearchCV, RandomizedSearchCV\n",
    "from sklearn.preprocessing import StandardScaler,MinMaxScaler\n",
    "from sklearn.preprocessing import LabelEncoder\n",
    "import numpy as np\n",
    "database = 'thyroid' #['bupa1', 'breast-cancer-wisconsin1','pima-indians-diabetes1', 'ionosphere1', 'tic-tac-toe1', 'iris1', 'wine1', 'segmentation1']\n",
    "\n",
    "\n",
    "\n",
    "import pandas as pd\n",
    "from sklearn.preprocessing import LabelEncoder\n",
    "df = pd.read_csv(r'../input/uci-new-thyroid/new-thyroid.csv') \n",
    "df.head()\n",
    "\n",
    "#Dividing X and y\n",
    "t = np.array(LabelEncoder().fit_transform(df['class'].tolist()))\n",
    "X = np.array(df.drop(['class'], axis = 1).values)\n",
    "print('X',X.shape,'t',t.shape)"
   ]
  },
  {
   "cell_type": "code",
   "execution_count": 6,
   "id": "18e8b54e",
   "metadata": {
    "execution": {
     "iopub.execute_input": "2023-02-13T08:09:59.412545Z",
     "iopub.status.busy": "2023-02-13T08:09:59.412057Z",
     "iopub.status.idle": "2023-02-13T08:09:59.423261Z",
     "shell.execute_reply": "2023-02-13T08:09:59.421857Z"
    },
    "id": "xnqtxG_x3FKL",
    "papermill": {
     "duration": 0.022967,
     "end_time": "2023-02-13T08:09:59.425791",
     "exception": false,
     "start_time": "2023-02-13T08:09:59.402824",
     "status": "completed"
    },
    "tags": []
   },
   "outputs": [
    {
     "data": {
      "text/plain": [
       "array([1, 1, 1, 1, 1, 1, 1, 1, 1, 1, 1, 1, 1, 1, 1, 1, 1, 1, 1, 1, 1, 1,\n",
       "       1, 1, 1, 1, 1, 1, 1, 1, 1, 1, 1, 1, 1, 1, 1, 1, 1, 1, 1, 1, 1, 1,\n",
       "       1, 1, 1, 1, 1, 1, 1, 1, 1, 1, 1, 1, 1, 1, 1, 1, 1, 1, 1, 1, 1, 1,\n",
       "       1, 1, 1, 1, 1, 1, 1, 1, 1, 1, 1, 1, 1, 1, 1, 1, 1, 1, 1, 1, 1, 1,\n",
       "       1, 1, 1, 1, 1, 1, 1, 1, 1, 1, 1, 1, 1, 1, 1, 1, 1, 1, 1, 1, 1, 1,\n",
       "       1, 1, 1, 1, 1, 1, 1, 1, 1, 1, 1, 1, 1, 1, 1, 1, 1, 1, 1, 1, 1, 1,\n",
       "       1, 1, 1, 1, 1, 1, 1, 1, 1, 1, 1, 1, 1, 1, 1, 1, 1, 1, 2, 2, 2, 2,\n",
       "       2, 2, 2, 2, 2, 2, 2, 2, 2, 2, 2, 2, 2, 2, 2, 2, 2, 2, 2, 2, 2, 2,\n",
       "       2, 2, 2, 2, 2, 2, 2, 2, 2, 3, 3, 3, 3, 3, 3, 3, 3, 3, 3, 3, 3, 3,\n",
       "       3, 3, 3, 3, 3, 3, 3, 3, 3, 3, 3, 3, 3, 3, 3, 3, 3])"
      ]
     },
     "execution_count": 6,
     "metadata": {},
     "output_type": "execute_result"
    }
   ],
   "source": [
    "t = t+1\n",
    "t"
   ]
  },
  {
   "cell_type": "markdown",
   "id": "82e404db",
   "metadata": {
    "id": "avDA2pJIJgsf",
    "papermill": {
     "duration": 0.00725,
     "end_time": "2023-02-13T08:09:59.440758",
     "exception": false,
     "start_time": "2023-02-13T08:09:59.433508",
     "status": "completed"
    },
    "tags": []
   },
   "source": [
    "# Labels Generation  "
   ]
  },
  {
   "cell_type": "code",
   "execution_count": 7,
   "id": "ad6eb53b",
   "metadata": {
    "execution": {
     "iopub.execute_input": "2023-02-13T08:09:59.459023Z",
     "iopub.status.busy": "2023-02-13T08:09:59.458548Z",
     "iopub.status.idle": "2023-02-13T08:09:59.726105Z",
     "shell.execute_reply": "2023-02-13T08:09:59.724729Z"
    },
    "id": "BupvL7KSocvu",
    "papermill": {
     "duration": 0.280224,
     "end_time": "2023-02-13T08:09:59.729106",
     "exception": false,
     "start_time": "2023-02-13T08:09:59.448882",
     "status": "completed"
    },
    "tags": []
   },
   "outputs": [],
   "source": [
    "import random\n",
    "import warnings\n",
    "import numpy as np\n",
    "#import climin\n",
    "from functools import partial\n",
    "import matplotlib.pyplot as plt\n",
    "from sklearn.preprocessing import StandardScaler\n",
    "from sklearn.cluster import KMeans\n",
    "import matplotlib.pyplot as plt\n",
    "from sklearn.manifold import TSNE\n",
    "\n",
    "#Defining the Sigmoid function and Softmax function\n",
    "def Sigmoid(f_r):\n",
    "    lam_r = 1/(1 + np.exp(-f_r))\n",
    "    return lam_r\n",
    "\n",
    "def MAjVot(Y, K):\n",
    "    N,R = Y.shape\n",
    "    Yhat = np.zeros((N,1))\n",
    "    for n in range(N):\n",
    "        votes = np.zeros((K,1))\n",
    "        for r in range(R):\n",
    "            for k in range(K):\n",
    "                if Y[n,r] == k+1:\n",
    "                    votes[k] = votes[k]+1\n",
    "        Yhat[n] = np.argmax(votes) + 1\n",
    "    return Yhat\n",
    "\n",
    "\n",
    "def  MA_Clas_Gen(Xtrain,ytrain,R,NrP):\n",
    "\n",
    "    N = len(ytrain)\n",
    "    K = len(np.unique(ytrain))\n",
    "    Kn = np.unique(ytrain)\n",
    "    aux = 0\n",
    "    A = np.zeros((K,1))\n",
    "    for k in Kn:\n",
    "        A[aux] = (ytrain == k).sum()\n",
    "        aux = aux + 1\n",
    "    per = np.min(A)\n",
    "    if N < 25000:\n",
    "        Xtrain = TSNE(n_components=1,perplexity=per/2).fit_transform(Xtrain)\n",
    "    else:\n",
    "        Xtrain = np.sum(Xtrain,1)\n",
    "    # Xtrain = Xtrain-Xtrain.min()\n",
    "    # Xtrain = Xtrain/Xtrain.max()\n",
    "    #ytrain = y\n",
    "    # scaler = StandardScaler()\n",
    "    # scalerY = scaler.fit(y)\n",
    "    # ytrain = scaler.fit_transform(y)\n",
    "\n",
    "    \n",
    "    #miny = y.min()\n",
    "    #ytrain = y-miny\n",
    "    #maxy = ytrain.max()\n",
    "    #ytrain = ytrain/maxy\n",
    "  \n",
    "    # Xtrain = np.sum(Xtrain, axis=1)\n",
    "    Xtrain = Xtrain - Xtrain.min()\n",
    "    #print(Xtrain.min(), Xtrain.max())\n",
    "    Xtrain = Xtrain/Xtrain.max()\n",
    "    Xtrain = Xtrain.reshape((N,1))\n",
    "    yprueba = np.ones((N,1))\n",
    "    \n",
    "    \n",
    "    u_q = np.empty((Xtrain.shape[0],3))\n",
    "    u_q[:,0,None] = 4.5*np.cos(2*np.pi*Xtrain + 1.5*np.pi) - \\\n",
    "                               3*np.sin(4.3*np.pi*Xtrain + 0.3*np.pi)\n",
    "                    \n",
    "    u_q[:,1,None] = 4.5*np.cos(1.5*np.pi*Xtrain + 0.5*np.pi) + \\\n",
    "                       5*np.sin(3*np.pi*Xtrain + 1.5*np.pi)\n",
    "    \n",
    "    u_q[:,2,None] = 1\n",
    "    \n",
    "    W = []\n",
    "    # q=1\n",
    "    Wq1 = np.array(([[0.4],[0.7],[-0.5],[0],[-0.7]]))\n",
    "    W.append(Wq1)\n",
    "    # q=2\n",
    "    Wq2 = np.array(([[0.4],[-1.0],[-0.1],[-0.8],[1.0]]))\n",
    "    W.append(Wq2)\n",
    "    Wq3 = np.array(([[3.1],[-1.8],[-0.6],[-1.2],[1.0]]))\n",
    "    W.append(Wq3)\n",
    "\n",
    "    \n",
    "    F_r = []\n",
    "    Lam_r = []\n",
    "    for r in range(R):\n",
    "        f_r = np.zeros((Xtrain.shape[0], 1))\n",
    "        # rho_r = np.zeros((Xtrain.shape[0], 1))\n",
    "        for q in range(3):\n",
    "            f_r += W[q][r].T*u_q[:,q,None]\n",
    "        F_r.append(f_r)\n",
    "        lam_r = Sigmoid(f_r)\n",
    "        lam_r[lam_r>0.5] = 1\n",
    "        lam_r[lam_r<=0.5] = 0\n",
    "        Lam_r.append(lam_r)\n",
    "    plt.plot(Xtrain,Lam_r[2],'rx')\n",
    "    plt.show()\n",
    "    seed = 0\n",
    "    np.random.seed(seed)\n",
    "    Ytrain = np.ones((N, R))\n",
    "    for r in range(R):\n",
    "        aux = ytrain.copy()\n",
    "        for n in range(N):\n",
    "            if Lam_r[r][n] == 0:\n",
    "                labels = np.arange(1, K+1)\n",
    "                a = np.where(labels==ytrain[n])\n",
    "                labels = np.delete(labels, a)\n",
    "                idxlabels = np.random.permutation(K-1)\n",
    "                aux[n] = labels[idxlabels[0]]         \n",
    "        Ytrain[:,r] = aux.flatten()\n",
    "        \n",
    "   # Ytrain = (Ytrain*maxy) + miny\n",
    "        \n",
    "    iAnn = np.zeros((N, R), dtype=int) # this indicates if the annotator r labels the nth sample.\n",
    "    Nr = np.ones((R), dtype=int)*int(np.floor(N*NrP))  \n",
    "    for r in range(R):\n",
    "        if r < R-1:\n",
    "            indexR = np.random.permutation(range(N))[:Nr[r]]\n",
    "            iAnn[indexR,r] = 1\n",
    "        else:\n",
    "            iSimm = np.sum(iAnn, axis=1)\n",
    "            idxZero = np.asarray([i for (i, val) in enumerate(iSimm) if val == 0])\n",
    "            Nzeros = idxZero.shape[0]\n",
    "            idx2Choose = np.arange(N)\n",
    "            if Nzeros == 0:\n",
    "                indexR = np.random.permutation(range(N))[:Nr[r]]\n",
    "                iAnn[indexR,r] = 1\n",
    "            else:\n",
    "                idx2Choose = np.delete(idx2Choose, idxZero)\n",
    "                N2chose = idx2Choose.shape[0]\n",
    "                idxNoZero = np.random.permutation(N2chose)[:(Nr[r] - Nzeros)]\n",
    "                idxTot = np.concatenate((idxZero, idx2Choose[idxNoZero]))\n",
    "                iAnn[idxTot,r] = 1\n",
    "    \n",
    "    # Now, we verify that all the samples were labeled at least once\n",
    "    Nr = (np.sum(iAnn,0))\n",
    "    iSimm = np.sum(iAnn, axis=1)\n",
    "    if np.asarray([i for (i, val) in enumerate(iSimm) if val == 0]).sum() == 0:\n",
    "        ValueError(\"all the samples must be labeled at least once\")\n",
    "\n",
    "    # Finally, if iAnn=0 we assign a reference value to indicate a missing value\n",
    "    Vref = -1e-20\n",
    "    for r in range(R):\n",
    "        Ytrain[iAnn[:,r] == 0, r] = Vref \n",
    "\n",
    "    return Ytrain, iAnn, Lam_r\n",
    "\n",
    "\n",
    "def CrossVal(X, pp, Nk):\n",
    "    N = X.shape[0]\n",
    "    Ntr = int(N*pp)\n",
    "    Nte = N - Ntr\n",
    "    idxtr = np.zeros((Ntr,Nk))\n",
    "    idxte = np.zeros((Nte,Nk))\n",
    "    \n",
    "    for i in range(Nk):\n",
    "        index = np.random.permutation(range(N))\n",
    "        idxtr[:,i] = index[:Ntr]\n",
    "        idxte[:,i] = index[Ntr:]\n",
    "        \n",
    "    return idxtr, idxte\n",
    "    \n",
    "    \n",
    "        \n"
   ]
  },
  {
   "cell_type": "code",
   "execution_count": 8,
   "id": "653e8efa",
   "metadata": {
    "execution": {
     "iopub.execute_input": "2023-02-13T08:09:59.746568Z",
     "iopub.status.busy": "2023-02-13T08:09:59.746045Z",
     "iopub.status.idle": "2023-02-13T08:10:00.502648Z",
     "shell.execute_reply": "2023-02-13T08:10:00.501231Z"
    },
    "id": "tK8MHObF3FKM",
    "outputId": "8f128bab-9644-4526-d91c-a3eb4c94fc10",
    "papermill": {
     "duration": 0.768925,
     "end_time": "2023-02-13T08:10:00.505782",
     "exception": false,
     "start_time": "2023-02-13T08:09:59.736857",
     "status": "completed"
    },
    "tags": []
   },
   "outputs": [
    {
     "name": "stderr",
     "output_type": "stream",
     "text": [
      "/opt/conda/lib/python3.7/site-packages/sklearn/manifold/_t_sne.py:783: FutureWarning: The default initialization in TSNE will change from 'random' to 'pca' in 1.2.\n",
      "  FutureWarning,\n",
      "/opt/conda/lib/python3.7/site-packages/sklearn/manifold/_t_sne.py:793: FutureWarning: The default learning rate in TSNE will change from 200.0 to 'auto' in 1.2.\n",
      "  FutureWarning,\n"
     ]
    },
    {
     "data": {
      "image/png": "[encoded data removed]",
      "text/plain": [
       "<Figure size 432x288 with 1 Axes>"
      ]
     },
     "metadata": {
      "needs_background": "light"
     },
     "output_type": "display_data"
    }
   ],
   "source": [
    "Y, iAnn, Lam_r = MA_Clas_Gen(X ,t, R=5, NrP=1)"
   ]
  },
  {
   "cell_type": "code",
   "execution_count": 9,
   "id": "acf3cd9d",
   "metadata": {
    "execution": {
     "iopub.execute_input": "2023-02-13T08:10:00.526187Z",
     "iopub.status.busy": "2023-02-13T08:10:00.525664Z",
     "iopub.status.idle": "2023-02-13T08:10:00.531445Z",
     "shell.execute_reply": "2023-02-13T08:10:00.530143Z"
    },
    "id": "v0Y8m7E-3FKM",
    "papermill": {
     "duration": 0.020059,
     "end_time": "2023-02-13T08:10:00.534411",
     "exception": false,
     "start_time": "2023-02-13T08:10:00.514352",
     "status": "completed"
    },
    "tags": []
   },
   "outputs": [],
   "source": [
    "  Y = Y - 1\n",
    "  t = t - 1\n",
    "  #YMA = YMA-1"
   ]
  },
  {
   "cell_type": "code",
   "execution_count": 10,
   "id": "184daaa5",
   "metadata": {
    "execution": {
     "iopub.execute_input": "2023-02-13T08:10:00.553052Z",
     "iopub.status.busy": "2023-02-13T08:10:00.552546Z",
     "iopub.status.idle": "2023-02-13T08:10:01.657473Z",
     "shell.execute_reply": "2023-02-13T08:10:01.656036Z"
    },
    "papermill": {
     "duration": 1.118039,
     "end_time": "2023-02-13T08:10:01.660695",
     "exception": false,
     "start_time": "2023-02-13T08:10:00.542656",
     "status": "completed"
    },
    "tags": []
   },
   "outputs": [
    {
     "name": "stdout",
     "output_type": "stream",
     "text": [
      "annotator 1\n",
      "              precision    recall  f1-score   support\n",
      "\n",
      "           0       0.99      0.91      0.94       150\n",
      "           1       0.74      0.80      0.77        35\n",
      "           2       0.74      0.97      0.84        30\n",
      "\n",
      "    accuracy                           0.90       215\n",
      "   macro avg       0.82      0.89      0.85       215\n",
      "weighted avg       0.91      0.90      0.90       215\n",
      "\n",
      "annotator 2\n",
      "              precision    recall  f1-score   support\n",
      "\n",
      "           0       0.85      0.59      0.70       150\n",
      "           1       0.22      0.29      0.25        35\n",
      "           2       0.40      0.87      0.55        30\n",
      "\n",
      "    accuracy                           0.58       215\n",
      "   macro avg       0.49      0.58      0.50       215\n",
      "weighted avg       0.68      0.58      0.60       215\n",
      "\n",
      "annotator 3\n",
      "              precision    recall  f1-score   support\n",
      "\n",
      "           0       0.93      0.59      0.72       150\n",
      "           1       0.41      0.89      0.56        35\n",
      "           2       0.29      0.43      0.35        30\n",
      "\n",
      "    accuracy                           0.61       215\n",
      "   macro avg       0.54      0.64      0.54       215\n",
      "weighted avg       0.75      0.61      0.64       215\n",
      "\n",
      "annotator 4\n",
      "              precision    recall  f1-score   support\n",
      "\n",
      "           0       0.82      0.53      0.65       150\n",
      "           1       0.21      0.29      0.24        35\n",
      "           2       0.31      0.73      0.44        30\n",
      "\n",
      "    accuracy                           0.52       215\n",
      "   macro avg       0.45      0.52      0.44       215\n",
      "weighted avg       0.65      0.52      0.55       215\n",
      "\n",
      "annotator 5\n",
      "              precision    recall  f1-score   support\n",
      "\n",
      "           0       0.62      0.19      0.29       150\n",
      "           1       0.22      0.71      0.34        35\n",
      "           2       0.05      0.10      0.07        30\n",
      "\n",
      "    accuracy                           0.26       215\n",
      "   macro avg       0.30      0.33      0.23       215\n",
      "weighted avg       0.48      0.26      0.27       215\n",
      "\n"
     ]
    },
    {
     "data": {
      "image/png": "[encoded data removed]",
      "text/plain": [
       "<Figure size 432x288 with 1 Axes>"
      ]
     },
     "metadata": {
      "needs_background": "light"
     },
     "output_type": "display_data"
    },
    {
     "data": {
      "image/png": "[encoded data removed]",
      "text/plain": [
       "<Figure size 432x288 with 1 Axes>"
      ]
     },
     "metadata": {
      "needs_background": "light"
     },
     "output_type": "display_data"
    },
    {
     "data": {
      "image/png": "[encoded data removed]",
      "text/plain": [
       "<Figure size 432x288 with 1 Axes>"
      ]
     },
     "metadata": {
      "needs_background": "light"
     },
     "output_type": "display_data"
    },
    {
     "data": {
      "image/png": "[encoded data removed]",
      "text/plain": [
       "<Figure size 432x288 with 1 Axes>"
      ]
     },
     "metadata": {
      "needs_background": "light"
     },
     "output_type": "display_data"
    },
    {
     "data": {
      "image/png": "[encoded data removed]",
      "text/plain": [
       "<Figure size 432x288 with 1 Axes>"
      ]
     },
     "metadata": {
      "needs_background": "light"
     },
     "output_type": "display_data"
    }
   ],
   "source": [
    "from sklearn.metrics import classification_report\n",
    "for i in range(Y.shape[1]):\n",
    "    print('annotator',i+1)\n",
    "    print(classification_report(t,Y[:,i]))\n",
    "    unique, counts = np.unique(Y[:,i], return_counts=True)\n",
    "    plt.figure()\n",
    "    plt.bar(unique, counts)\n",
    "    #     unique, counts = np.unique(Y_test[5], return_counts=True)\n",
    "    #     plt.bar(unique, counts)\n",
    "\n",
    "    plt.title('Class Frequency for Y_true')\n",
    "    plt.xlabel('Class')\n",
    "    plt.ylabel('Frequency')"
   ]
  },
  {
   "cell_type": "markdown",
   "id": "4f3b60db",
   "metadata": {
    "id": "uudDcV4wHiuI",
    "papermill": {
     "duration": 0.009331,
     "end_time": "2023-02-13T08:10:01.681576",
     "exception": false,
     "start_time": "2023-02-13T08:10:01.672245",
     "status": "completed"
    },
    "tags": []
   },
   "source": [
    "# Split data"
   ]
  },
  {
   "cell_type": "code",
   "execution_count": 11,
   "id": "b62862ae",
   "metadata": {
    "execution": {
     "iopub.execute_input": "2023-02-13T08:10:01.703151Z",
     "iopub.status.busy": "2023-02-13T08:10:01.702624Z",
     "iopub.status.idle": "2023-02-13T08:10:01.717022Z",
     "shell.execute_reply": "2023-02-13T08:10:01.715216Z"
    },
    "id": "QCxEhJv_3FKN",
    "outputId": "20cf4b24-fde3-4b21-f26a-2809af8f2c5d",
    "papermill": {
     "duration": 0.029178,
     "end_time": "2023-02-13T08:10:01.720555",
     "exception": false,
     "start_time": "2023-02-13T08:10:01.691377",
     "status": "completed"
    },
    "tags": []
   },
   "outputs": [
    {
     "name": "stdout",
     "output_type": "stream",
     "text": [
      "[167 200  31 128  93 158 165 133 190 139 119  19 107 187  20 122 198 186\n",
      " 193  52 204  71 166 178   4 201  79 197 116 161 172  21 127  53 179  72\n",
      " 206 149  10  42  81  26  11 140  90 150 120  85 183 100  88 143 189  37\n",
      "  50  62 108  77 181  24 175 169  33  23 194]\n",
      "(150, 5) (150, 5) (150, 1)\n"
     ]
    }
   ],
   "source": [
    "import numpy.matlib\n",
    "from sklearn.model_selection import  StratifiedShuffleSplit, ShuffleSplit\n",
    "Ns = 1\n",
    "ss = ShuffleSplit(n_splits=Ns, test_size=0.3, random_state =123)\n",
    "for train_index, test_index in ss.split(X):\n",
    "    print(test_index)\n",
    "    X_train, X_test,Y_train,Y_test = X[train_index,:], X[test_index,:],Y[train_index,:], Y[test_index,:]\n",
    "    Y_true_train, Y_true_test = t[train_index].reshape(-1,1), t[test_index].reshape(-1,1)\n",
    "print(X_train.shape, Y_train.shape, Y_true_train.shape)"
   ]
  },
  {
   "cell_type": "code",
   "execution_count": 12,
   "id": "cfdef298",
   "metadata": {
    "execution": {
     "iopub.execute_input": "2023-02-13T08:10:01.742577Z",
     "iopub.status.busy": "2023-02-13T08:10:01.741655Z",
     "iopub.status.idle": "2023-02-13T08:10:01.999106Z",
     "shell.execute_reply": "2023-02-13T08:10:01.997735Z"
    },
    "papermill": {
     "duration": 0.271657,
     "end_time": "2023-02-13T08:10:02.001997",
     "exception": false,
     "start_time": "2023-02-13T08:10:01.730340",
     "status": "completed"
    },
    "tags": []
   },
   "outputs": [
    {
     "data": {
      "text/plain": [
       "Text(0, 0.5, 'Frequency')"
      ]
     },
     "execution_count": 12,
     "metadata": {},
     "output_type": "execute_result"
    },
    {
     "data": {
      "image/png": "[encoded data removed]",
      "text/plain": [
       "<Figure size 432x288 with 1 Axes>"
      ]
     },
     "metadata": {
      "needs_background": "light"
     },
     "output_type": "display_data"
    }
   ],
   "source": [
    "unique, counts = np.unique(Y_true_train, return_counts=True)\n",
    "plt.bar(unique, counts)\n",
    "unique, counts = np.unique(Y_true_test, return_counts=True)\n",
    "plt.bar(unique, counts)\n",
    "\n",
    "plt.title('Class Frequency for Y_true')\n",
    "plt.xlabel('Class')\n",
    "plt.ylabel('Frequency')\n"
   ]
  },
  {
   "cell_type": "markdown",
   "id": "e33ffad3",
   "metadata": {
    "id": "kgDMRggXHo0X",
    "papermill": {
     "duration": 0.009686,
     "end_time": "2023-02-13T08:10:02.021918",
     "exception": false,
     "start_time": "2023-02-13T08:10:02.012232",
     "status": "completed"
    },
    "tags": []
   },
   "source": [
    "# Apply MinMaxScaler"
   ]
  },
  {
   "cell_type": "code",
   "execution_count": 13,
   "id": "785f0c9a",
   "metadata": {
    "execution": {
     "iopub.execute_input": "2023-02-13T08:10:02.044799Z",
     "iopub.status.busy": "2023-02-13T08:10:02.044288Z",
     "iopub.status.idle": "2023-02-13T08:10:02.051949Z",
     "shell.execute_reply": "2023-02-13T08:10:02.050225Z"
    },
    "id": "33XT7bGs3FKN",
    "papermill": {
     "duration": 0.022932,
     "end_time": "2023-02-13T08:10:02.055066",
     "exception": false,
     "start_time": "2023-02-13T08:10:02.032134",
     "status": "completed"
    },
    "tags": []
   },
   "outputs": [],
   "source": [
    "scaler = MinMaxScaler()\n",
    "scaler.fit(X_train)\n",
    "X_train = scaler.transform(X_train)\n",
    "X_test = scaler.transform(X_test)"
   ]
  },
  {
   "cell_type": "code",
   "execution_count": 14,
   "id": "1c496c47",
   "metadata": {
    "execution": {
     "iopub.execute_input": "2023-02-13T08:10:02.079714Z",
     "iopub.status.busy": "2023-02-13T08:10:02.078495Z",
     "iopub.status.idle": "2023-02-13T08:10:02.087391Z",
     "shell.execute_reply": "2023-02-13T08:10:02.086138Z"
    },
    "id": "8JB57s89xbR3",
    "outputId": "5f7b5561-3e45-498d-9117-bf91a63d2fb9",
    "papermill": {
     "duration": 0.024357,
     "end_time": "2023-02-13T08:10:02.090054",
     "exception": false,
     "start_time": "2023-02-13T08:10:02.065697",
     "status": "completed"
    },
    "tags": []
   },
   "outputs": [
    {
     "data": {
      "text/plain": [
       "3"
      ]
     },
     "execution_count": 14,
     "metadata": {},
     "output_type": "execute_result"
    }
   ],
   "source": [
    "len(np.unique(Y_test))"
   ]
  },
  {
   "cell_type": "code",
   "execution_count": 15,
   "id": "115483ac",
   "metadata": {
    "execution": {
     "iopub.execute_input": "2023-02-13T08:10:02.113953Z",
     "iopub.status.busy": "2023-02-13T08:10:02.113426Z",
     "iopub.status.idle": "2023-02-13T08:10:02.120718Z",
     "shell.execute_reply": "2023-02-13T08:10:02.119017Z"
    },
    "id": "Ce-Lhs1K3FKO",
    "papermill": {
     "duration": 0.022525,
     "end_time": "2023-02-13T08:10:02.123464",
     "exception": false,
     "start_time": "2023-02-13T08:10:02.100939",
     "status": "completed"
    },
    "tags": []
   },
   "outputs": [],
   "source": [
    "#testing PRI as ground truth -> repeat true labels as multiple annotators\n",
    "Y_true_train_K = np.matlib.repmat(Y_true_train,1, Y_train.shape[1])#testing MA as classifier\n",
    "#print(X_train.shape,Y_true_train_K.shape)\n",
    "# Y_train_one_hot_targets = tf.one_hot(tf.cast(Y_train , tf.int32), len(np.unique(Y_true_test)), axis = 1, dtype=tf.int32)\n",
    "# Y_train_one_hot_targets.shape"
   ]
  },
  {
   "cell_type": "markdown",
   "id": "5104b417",
   "metadata": {
    "id": "pPoaMuiXH-Zm",
    "papermill": {
     "duration": 0.009865,
     "end_time": "2023-02-13T08:10:02.143552",
     "exception": false,
     "start_time": "2023-02-13T08:10:02.133687",
     "status": "completed"
    },
    "tags": []
   },
   "source": [
    "# Testing the Class "
   ]
  },
  {
   "cell_type": "code",
   "execution_count": 16,
   "id": "db448d99",
   "metadata": {
    "execution": {
     "iopub.execute_input": "2023-02-13T08:10:02.167961Z",
     "iopub.status.busy": "2023-02-13T08:10:02.166803Z",
     "iopub.status.idle": "2023-02-13T08:10:02.174888Z",
     "shell.execute_reply": "2023-02-13T08:10:02.173561Z"
    },
    "papermill": {
     "duration": 0.023108,
     "end_time": "2023-02-13T08:10:02.177617",
     "exception": false,
     "start_time": "2023-02-13T08:10:02.154509",
     "status": "completed"
    },
    "tags": []
   },
   "outputs": [],
   "source": [
    "# from sklearn.metrics import classification_report, balanced_accuracy_score\n",
    "# from sklearn.metrics import normalized_mutual_info_score, mutual_info_score, adjusted_mutual_info_score\n",
    "\n",
    "# l1 =0.1\n",
    "# NUM_RUNS =10\n",
    "# ACC = np.zeros(NUM_RUNS)\n",
    "# AUC = np.zeros(NUM_RUNS)\n",
    "# MI = np.zeros(NUM_RUNS)\n",
    "# NMI = np.zeros(NUM_RUNS)\n",
    "# AMI = np.zeros(NUM_RUNS)\n",
    "# BACC = np.zeros(NUM_RUNS)\n",
    "# for i in range(NUM_RUNS): #10\n",
    "#     print(\"iteration: \" + str(i))\n",
    "   \n",
    "#     MA = Keras_MA_CrowdL(epochs=100,batch_size=64,R= Y_train.shape[1], K=len(np.unique(Y_true_test)), dropout=0.25, learning_rate=0.01,optimizer='Adam', \n",
    "#                 l1_param=l1,  validation_split=0.3, verbose=0)\n",
    "\n",
    "\n",
    "#     MA.fit(X_train, Y_train)\n",
    "#     #MA.plot_history()\n",
    "  \n",
    "#     #Accuracy  \n",
    "    \n",
    "#     #estimar etiquetas modelo rodiguez \n",
    "#     preds_test_num =  MA.predict2(X_test)\n",
    "    \n",
    "#     #Accuracy\n",
    "#     report = classification_report(Y_true_test,preds_test_num,output_dict=True)\n",
    "#     ACC[i] = report['accuracy']\n",
    "    \n",
    "#     print(\"Validation ACC: %.4f\" % (float(report['accuracy']),))\n",
    "    \n",
    "#     #AUC\n",
    "#     val_AUC_metric = tf.keras.metrics.AUC( from_logits = True)  \n",
    "#    # val_logits =MA.predict(X_test) # model(X_test, training=False)\n",
    "#     # tf.print(y_batch_val)\n",
    "#     val_AUC_metric.update_state(Y_true_test,  preds_test_num.astype('float'))\n",
    "\n",
    "#     val_AUC = val_AUC_metric.result()\n",
    "#     val_AUC_metric.reset_states()\n",
    "#     val_AUC = val_AUC.numpy()\n",
    "#     print(\"Validation aUc: %.4f\" % (float(val_AUC),))\n",
    "#     AUC[i] = val_AUC\n",
    "    \n",
    "\n",
    "\n",
    "\n",
    "#     # balanced. Accurcy\n",
    "#     BACC[i] = balanced_accuracy_score(Y_true_test.squeeze(), preds_test_num.squeeze(), adjusted=True)\n",
    "#     print(\"Validation Balanced_ACC: %.4f\" % (float(BACC[i])))\n",
    "\n",
    "#     #MI\n",
    "    \n",
    "#     MI[i] = mutual_info_score(Y_true_test.squeeze(), preds_test_num.squeeze())\n",
    "#     print(\"Validation MI: %.4f\" % (float(MI[i]),))\n",
    "#     NMI[i] = normalized_mutual_info_score(Y_true_test.squeeze(), preds_test_num.squeeze())\n",
    "#     print(\"Validation Normalized MI: %.4f\" % (float(NMI[i]),))\n",
    "#     AMI[i]= adjusted_mutual_info_score(Y_true_test.squeeze(), preds_test_num.squeeze())\n",
    "#     print(\"Validation Adjusted MI: %.4f\" % (float(AMI[i]),))\n",
    "\n",
    "\n"
   ]
  },
  {
   "cell_type": "code",
   "execution_count": 17,
   "id": "ff2d05a3",
   "metadata": {
    "execution": {
     "iopub.execute_input": "2023-02-13T08:10:02.201074Z",
     "iopub.status.busy": "2023-02-13T08:10:02.200296Z",
     "iopub.status.idle": "2023-02-13T08:11:29.933737Z",
     "shell.execute_reply": "2023-02-13T08:11:29.932119Z"
    },
    "papermill": {
     "duration": 87.749169,
     "end_time": "2023-02-13T08:11:29.937004",
     "exception": false,
     "start_time": "2023-02-13T08:10:02.187835",
     "status": "completed"
    },
    "tags": []
   },
   "outputs": [
    {
     "name": "stdout",
     "output_type": "stream",
     "text": [
      "iteration: 0\n"
     ]
    },
    {
     "name": "stderr",
     "output_type": "stream",
     "text": [
      "2023-02-13 08:10:02.571629: I tensorflow/core/common_runtime/process_util.cc:146] Creating new thread pool with default inter op setting: 2. Tune using inter_op_parallelism_threads for best performance.\n",
      "2023-02-13 08:10:03.201327: I tensorflow/compiler/mlir/mlir_graph_optimization_pass.cc:185] None of the MLIR Optimization Passes are enabled (registered 2)\n"
     ]
    },
    {
     "data": {
      "image/png": "[encoded data removed]",
      "text/plain": [
       "<Figure size 576x360 with 1 Axes>"
      ]
     },
     "metadata": {
      "needs_background": "light"
     },
     "output_type": "display_data"
    },
    {
     "name": "stdout",
     "output_type": "stream",
     "text": [
      "iteration: 1\n"
     ]
    },
    {
     "data": {
      "image/png": "[encoded data removed]",
      "text/plain": [
       "<Figure size 576x360 with 1 Axes>"
      ]
     },
     "metadata": {
      "needs_background": "light"
     },
     "output_type": "display_data"
    },
    {
     "name": "stdout",
     "output_type": "stream",
     "text": [
      "iteration: 2\n"
     ]
    },
    {
     "data": {
      "image/png": "[encoded data removed]",
      "text/plain": [
       "<Figure size 576x360 with 1 Axes>"
      ]
     },
     "metadata": {
      "needs_background": "light"
     },
     "output_type": "display_data"
    },
    {
     "name": "stdout",
     "output_type": "stream",
     "text": [
      "iteration: 3\n"
     ]
    },
    {
     "data": {
      "image/png": "[encoded data removed]",
      "text/plain": [
       "<Figure size 576x360 with 1 Axes>"
      ]
     },
     "metadata": {
      "needs_background": "light"
     },
     "output_type": "display_data"
    },
    {
     "name": "stdout",
     "output_type": "stream",
     "text": [
      "iteration: 4\n"
     ]
    },
    {
     "data": {
      "image/png": "[encoded data removed]",
      "text/plain": [
       "<Figure size 576x360 with 1 Axes>"
      ]
     },
     "metadata": {
      "needs_background": "light"
     },
     "output_type": "display_data"
    },
    {
     "name": "stdout",
     "output_type": "stream",
     "text": [
      "iteration: 5\n"
     ]
    },
    {
     "data": {
      "image/png": "[encoded data removed]",
      "text/plain": [
       "<Figure size 576x360 with 1 Axes>"
      ]
     },
     "metadata": {
      "needs_background": "light"
     },
     "output_type": "display_data"
    },
    {
     "name": "stdout",
     "output_type": "stream",
     "text": [
      "iteration: 6\n"
     ]
    },
    {
     "data": {
      "image/png": "[encoded data removed]",
      "text/plain": [
       "<Figure size 576x360 with 1 Axes>"
      ]
     },
     "metadata": {
      "needs_background": "light"
     },
     "output_type": "display_data"
    },
    {
     "name": "stdout",
     "output_type": "stream",
     "text": [
      "iteration: 7\n"
     ]
    },
    {
     "data": {
      "image/png": "[encoded data removed]",
      "text/plain": [
       "<Figure size 576x360 with 1 Axes>"
      ]
     },
     "metadata": {
      "needs_background": "light"
     },
     "output_type": "display_data"
    },
    {
     "name": "stdout",
     "output_type": "stream",
     "text": [
      "iteration: 8\n"
     ]
    },
    {
     "data": {
      "image/png": "[encoded data removed]",
      "text/plain": [
       "<Figure size 576x360 with 1 Axes>"
      ]
     },
     "metadata": {
      "needs_background": "light"
     },
     "output_type": "display_data"
    },
    {
     "name": "stdout",
     "output_type": "stream",
     "text": [
      "iteration: 9\n"
     ]
    },
    {
     "data": {
      "image/png": "[encoded data removed]",
      "text/plain": [
       "<Figure size 576x360 with 1 Axes>"
      ]
     },
     "metadata": {
      "needs_background": "light"
     },
     "output_type": "display_data"
    },
    {
     "name": "stdout",
     "output_type": "stream",
     "text": [
      "Collecting openpyxl\r\n",
      "  Downloading openpyxl-3.1.0-py2.py3-none-any.whl (250 kB)\r\n",
      "\u001b[2K     \u001b[90m━━━━━━━━━━━━━━━━━━━━━━━━━━━━━━━━━━━━━━━\u001b[0m \u001b[32m250.0/250.0 kB\u001b[0m \u001b[31m1.6 MB/s\u001b[0m eta \u001b[36m0:00:00\u001b[0m\r\n",
      "\u001b[?25hCollecting et-xmlfile\r\n",
      "  Downloading et_xmlfile-1.1.0-py3-none-any.whl (4.7 kB)\r\n",
      "Installing collected packages: et-xmlfile, openpyxl\r\n",
      "Successfully installed et-xmlfile-1.1.0 openpyxl-3.1.0\r\n",
      "\u001b[33mWARNING: Running pip as the 'root' user can result in broken permissions and conflicting behaviour with the system package manager. It is recommended to use a virtual environment instead: https://pip.pypa.io/warnings/venv\u001b[0m\u001b[33m\r\n",
      "\u001b[0m"
     ]
    }
   ],
   "source": [
    "from sklearn.metrics import classification_report, balanced_accuracy_score, roc_auc_score\n",
    "from sklearn.metrics import normalized_mutual_info_score, mutual_info_score, adjusted_mutual_info_score\n",
    "import pandas as pd\n",
    "l1 =0.1\n",
    "NUM_RUNS =10\n",
    "custom_loss = \"Rod\"\n",
    "\n",
    "\n",
    "results = []\n",
    "for i in range(NUM_RUNS):\n",
    "\n",
    "    print(\"iteration: \" + str(i))\n",
    "   \n",
    "    MA = Keras_MA_CrowdL(epochs=100,batch_size=64,R= Y_train.shape[1], K=len(np.unique(Y_true_test)), dropout=0.25, learning_rate=0.01,optimizer='Adam', \n",
    "                l1_param=l1,  validation_split=0.3, verbose=0)\n",
    "    MA.fit(X_train, Y_train)\n",
    "    MA.plot_history()\n",
    "  \n",
    "    # Generate the predictions for the current run\n",
    "    pred_2 = MA.predict2(X_test)\n",
    "     \n",
    "    acc, auc, auc_sk,  nmi,  bacc = evaluation_metrics(Y_true_test,  pred_2, print_result=False)  # mi, ami,\n",
    "    \n",
    "    # Save the results for the current run to the list of dictionaries\n",
    "    results.append({\n",
    "        #'run': i,\n",
    "        'accuracy': acc,\n",
    "        'balanced_accuracy': bacc,\n",
    "       # 'mutual_information': mi,\n",
    "        'normalized_mutual_information': nmi,\n",
    "     #   'adjusted_mutual_information': ami,\n",
    "        'auc_tensorflow': auc,\n",
    "        'auc_scikit_learn': auc_sk,\n",
    "    })\n",
    "    \n",
    "# Convert the list of dictionaries to a DataFrame\n",
    "df = np.round(pd.DataFrame(results)*100, 2)\n",
    "\n",
    "# Calculate the mean and standard deviation of each metric\n",
    "mean = np.round(df.mean(),2)\n",
    "std = np.round(df.std(),2)  \n",
    "\n",
    "\n",
    "\n",
    " \n",
    "\n",
    "result_df = pd.concat([mean.rename('Mean'), std.rename('Std')], axis=1)\n",
    "\n",
    "\n",
    "\n",
    "# Save the DataFrame to an excel file\n",
    "!pip install openpyxl\n",
    "result_df.to_excel('/kaggle/working/'+ database + custom_loss + \".xlsx\")"
   ]
  },
  {
   "cell_type": "code",
   "execution_count": 18,
   "id": "59fe455c",
   "metadata": {
    "execution": {
     "iopub.execute_input": "2023-02-13T08:11:29.972547Z",
     "iopub.status.busy": "2023-02-13T08:11:29.972032Z",
     "iopub.status.idle": "2023-02-13T08:11:29.994945Z",
     "shell.execute_reply": "2023-02-13T08:11:29.993634Z"
    },
    "papermill": {
     "duration": 0.043777,
     "end_time": "2023-02-13T08:11:29.997471",
     "exception": false,
     "start_time": "2023-02-13T08:11:29.953694",
     "status": "completed"
    },
    "tags": []
   },
   "outputs": [
    {
     "data": {
      "text/html": [
       "<div>\n",
       "<style scoped>\n",
       "    .dataframe tbody tr th:only-of-type {\n",
       "        vertical-align: middle;\n",
       "    }\n",
       "\n",
       "    .dataframe tbody tr th {\n",
       "        vertical-align: top;\n",
       "    }\n",
       "\n",
       "    .dataframe thead th {\n",
       "        text-align: right;\n",
       "    }\n",
       "</style>\n",
       "<table border=\"1\" class=\"dataframe\">\n",
       "  <thead>\n",
       "    <tr style=\"text-align: right;\">\n",
       "      <th></th>\n",
       "      <th>accuracy</th>\n",
       "      <th>balanced_accuracy</th>\n",
       "      <th>normalized_mutual_information</th>\n",
       "      <th>auc_tensorflow</th>\n",
       "      <th>auc_scikit_learn</th>\n",
       "    </tr>\n",
       "  </thead>\n",
       "  <tbody>\n",
       "    <tr>\n",
       "      <th>0</th>\n",
       "      <td>92.31</td>\n",
       "      <td>82.08</td>\n",
       "      <td>74.94</td>\n",
       "      <td>91.150002</td>\n",
       "      <td>98.15</td>\n",
       "    </tr>\n",
       "    <tr>\n",
       "      <th>1</th>\n",
       "      <td>95.38</td>\n",
       "      <td>87.82</td>\n",
       "      <td>81.49</td>\n",
       "      <td>94.000000</td>\n",
       "      <td>99.22</td>\n",
       "    </tr>\n",
       "    <tr>\n",
       "      <th>2</th>\n",
       "      <td>95.38</td>\n",
       "      <td>88.14</td>\n",
       "      <td>81.43</td>\n",
       "      <td>94.000000</td>\n",
       "      <td>99.32</td>\n",
       "    </tr>\n",
       "    <tr>\n",
       "      <th>3</th>\n",
       "      <td>96.92</td>\n",
       "      <td>91.99</td>\n",
       "      <td>86.20</td>\n",
       "      <td>96.000000</td>\n",
       "      <td>99.68</td>\n",
       "    </tr>\n",
       "    <tr>\n",
       "      <th>4</th>\n",
       "      <td>95.38</td>\n",
       "      <td>88.14</td>\n",
       "      <td>81.43</td>\n",
       "      <td>94.000000</td>\n",
       "      <td>99.70</td>\n",
       "    </tr>\n",
       "    <tr>\n",
       "      <th>5</th>\n",
       "      <td>90.77</td>\n",
       "      <td>86.67</td>\n",
       "      <td>71.01</td>\n",
       "      <td>93.000000</td>\n",
       "      <td>98.42</td>\n",
       "    </tr>\n",
       "    <tr>\n",
       "      <th>6</th>\n",
       "      <td>96.92</td>\n",
       "      <td>94.58</td>\n",
       "      <td>86.46</td>\n",
       "      <td>97.300003</td>\n",
       "      <td>99.30</td>\n",
       "    </tr>\n",
       "    <tr>\n",
       "      <th>7</th>\n",
       "      <td>96.92</td>\n",
       "      <td>94.58</td>\n",
       "      <td>86.46</td>\n",
       "      <td>97.300003</td>\n",
       "      <td>98.95</td>\n",
       "    </tr>\n",
       "    <tr>\n",
       "      <th>8</th>\n",
       "      <td>96.92</td>\n",
       "      <td>91.99</td>\n",
       "      <td>86.20</td>\n",
       "      <td>96.000000</td>\n",
       "      <td>98.62</td>\n",
       "    </tr>\n",
       "    <tr>\n",
       "      <th>9</th>\n",
       "      <td>96.92</td>\n",
       "      <td>94.58</td>\n",
       "      <td>86.46</td>\n",
       "      <td>97.300003</td>\n",
       "      <td>98.83</td>\n",
       "    </tr>\n",
       "  </tbody>\n",
       "</table>\n",
       "</div>"
      ],
      "text/plain": [
       "   accuracy  balanced_accuracy  normalized_mutual_information  auc_tensorflow  \\\n",
       "0     92.31              82.08                          74.94       91.150002   \n",
       "1     95.38              87.82                          81.49       94.000000   \n",
       "2     95.38              88.14                          81.43       94.000000   \n",
       "3     96.92              91.99                          86.20       96.000000   \n",
       "4     95.38              88.14                          81.43       94.000000   \n",
       "5     90.77              86.67                          71.01       93.000000   \n",
       "6     96.92              94.58                          86.46       97.300003   \n",
       "7     96.92              94.58                          86.46       97.300003   \n",
       "8     96.92              91.99                          86.20       96.000000   \n",
       "9     96.92              94.58                          86.46       97.300003   \n",
       "\n",
       "   auc_scikit_learn  \n",
       "0             98.15  \n",
       "1             99.22  \n",
       "2             99.32  \n",
       "3             99.68  \n",
       "4             99.70  \n",
       "5             98.42  \n",
       "6             99.30  \n",
       "7             98.95  \n",
       "8             98.62  \n",
       "9             98.83  "
      ]
     },
     "execution_count": 18,
     "metadata": {},
     "output_type": "execute_result"
    }
   ],
   "source": [
    "df"
   ]
  },
  {
   "cell_type": "code",
   "execution_count": 19,
   "id": "80e89a7d",
   "metadata": {
    "execution": {
     "iopub.execute_input": "2023-02-13T08:11:30.034367Z",
     "iopub.status.busy": "2023-02-13T08:11:30.033831Z",
     "iopub.status.idle": "2023-02-13T08:11:30.047229Z",
     "shell.execute_reply": "2023-02-13T08:11:30.045651Z"
    },
    "papermill": {
     "duration": 0.035509,
     "end_time": "2023-02-13T08:11:30.050047",
     "exception": false,
     "start_time": "2023-02-13T08:11:30.014538",
     "status": "completed"
    },
    "tags": []
   },
   "outputs": [
    {
     "data": {
      "text/html": [
       "<div>\n",
       "<style scoped>\n",
       "    .dataframe tbody tr th:only-of-type {\n",
       "        vertical-align: middle;\n",
       "    }\n",
       "\n",
       "    .dataframe tbody tr th {\n",
       "        vertical-align: top;\n",
       "    }\n",
       "\n",
       "    .dataframe thead th {\n",
       "        text-align: right;\n",
       "    }\n",
       "</style>\n",
       "<table border=\"1\" class=\"dataframe\">\n",
       "  <thead>\n",
       "    <tr style=\"text-align: right;\">\n",
       "      <th></th>\n",
       "      <th>Mean</th>\n",
       "      <th>Std</th>\n",
       "    </tr>\n",
       "  </thead>\n",
       "  <tbody>\n",
       "    <tr>\n",
       "      <th>accuracy</th>\n",
       "      <td>95.38</td>\n",
       "      <td>2.17</td>\n",
       "    </tr>\n",
       "    <tr>\n",
       "      <th>balanced_accuracy</th>\n",
       "      <td>90.06</td>\n",
       "      <td>4.17</td>\n",
       "    </tr>\n",
       "    <tr>\n",
       "      <th>normalized_mutual_information</th>\n",
       "      <td>82.21</td>\n",
       "      <td>5.44</td>\n",
       "    </tr>\n",
       "    <tr>\n",
       "      <th>auc_tensorflow</th>\n",
       "      <td>95.00</td>\n",
       "      <td>2.10</td>\n",
       "    </tr>\n",
       "    <tr>\n",
       "      <th>auc_scikit_learn</th>\n",
       "      <td>99.02</td>\n",
       "      <td>0.52</td>\n",
       "    </tr>\n",
       "  </tbody>\n",
       "</table>\n",
       "</div>"
      ],
      "text/plain": [
       "                                Mean   Std\n",
       "accuracy                       95.38  2.17\n",
       "balanced_accuracy              90.06  4.17\n",
       "normalized_mutual_information  82.21  5.44\n",
       "auc_tensorflow                 95.00  2.10\n",
       "auc_scikit_learn               99.02  0.52"
      ]
     },
     "execution_count": 19,
     "metadata": {},
     "output_type": "execute_result"
    }
   ],
   "source": [
    "result_df"
   ]
  }
 ],
 "metadata": {
  "kernelspec": {
   "display_name": "Python 3",
   "language": "python",
   "name": "python3"
  },
  "language_info": {
   "codemirror_mode": {
    "name": "ipython",
    "version": 3
   },
   "file_extension": ".py",
   "mimetype": "text/x-python",
   "name": "python",
   "nbconvert_exporter": "python",
   "pygments_lexer": "ipython3",
   "version": "3.7.12"
  },
  "papermill": {
   "default_parameters": {},
   "duration": 114.448499,
   "end_time": "2023-02-13T08:11:33.049349",
   "environment_variables": {},
   "exception": null,
   "input_path": "__notebook__.ipynb",
   "output_path": "__notebook__.ipynb",
   "parameters": {},
   "start_time": "2023-02-13T08:09:38.600850",
   "version": "2.3.4"
  }
 },
 "nbformat": 4,
 "nbformat_minor": 5
}
