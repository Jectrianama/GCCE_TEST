{
  "cells": [
    {
      "cell_type": "markdown",
      "metadata": {
        "id": "view-in-github",
        "colab_type": "text"
      },
      "source": [
        "<a href=\"https://colab.research.google.com/github/Jectrianama/GCCE_TEST/blob/main/Majority_Voting1/mv_fashion_mnist_randose.ipynb\" target=\"_parent\"><img src=\"https://colab.research.google.com/assets/colab-badge.svg\" alt=\"Open In Colab\"/></a>"
      ]
    },
    {
      "cell_type": "code",
      "execution_count": 1,
      "id": "66cc4bef",
      "metadata": {
        "execution": {
          "iopub.execute_input": "2022-10-25T16:30:06.588725Z",
          "iopub.status.busy": "2022-10-25T16:30:06.588110Z",
          "iopub.status.idle": "2022-10-25T16:30:06.594437Z",
          "shell.execute_reply": "2022-10-25T16:30:06.593177Z"
        },
        "id": "66cc4bef",
        "papermill": {
          "duration": 0.025548,
          "end_time": "2022-10-25T16:30:06.597724",
          "exception": false,
          "start_time": "2022-10-25T16:30:06.572176",
          "status": "completed"
        },
        "tags": []
      },
      "outputs": [],
      "source": [
        "import tensorflow as tf\n",
        "from sklearn.metrics import classification_report, accuracy_score, balanced_accuracy_score, roc_auc_score, mutual_info_score, normalized_mutual_info_score, adjusted_mutual_info_score\n",
        "from sklearn.preprocessing import LabelBinarizer\n",
        "from sklearn.preprocessing import OneHotEncoder\n",
        "from scipy.stats import mode \n",
        "import numpy as np\n",
        "\n",
        "def ook(t):\n",
        "  lb = LabelBinarizer()\n",
        "  y_ook = lb.fit_transform(t)  \n",
        "\n",
        "  if len(np.unique(t))==2:\n",
        "    y_ook = np.concatenate((1-y_ook.astype(bool), y_ook), axis = 1) \n",
        "\n",
        "  return y_ook\n",
        "\n",
        "\n",
        "def onehot_encode(df, columns):\n",
        "    df = df.copy()\n",
        "    for column in columns:\n",
        "        dummies = pd.get_dummies(df[column], prefix=column)\n",
        "        df = pd.concat([df, dummies], axis=1)\n",
        "        df = df.drop(column, axis=1)\n",
        "    return df\n",
        "\n",
        "def preprocess_inputs(df):\n",
        "    df = df.copy()\n",
        "    \n",
        "    # Encode label values as numbers\n",
        "    df['V10'] = df['V10'].replace({'negative': 0, 'positive': 1})\n",
        "    \n",
        "    # One-hot encode board space columns\n",
        "    df = onehot_encode(\n",
        "        df,\n",
        "        columns=['V' + str(i) for i in range(1, 10)]\n",
        "    )\n",
        "    \n",
        "    # Split df into X and y\n",
        "    y = df['V10'].copy()\n",
        "    X = df.drop('V10', axis=1).copy()\n",
        "    \n",
        "    # Train-test split\n",
        "   # X_train, X_test, y_train, y_test = train_test_split(X, y, train_size=0.7, random_state=123)\n",
        "    \n",
        "    return X, y\n",
        "\n",
        "\n",
        "\n",
        "def evaluation_metrics(y_true, y_pred, print_result=True):\n",
        "    acc = 0\n",
        "    auc = 0\n",
        "    auc_sk = 0\n",
        "    #mi = 0\n",
        "    nmi = 0\n",
        "    #ami = 0\n",
        "    bacc = 0\n",
        "    \n",
        "    # Accuracy\n",
        "    #report = classification_report(y_pred.argmax(axis=1), y_true.ravel(), output_dict=True)\n",
        "    acc = accuracy_score( y_true.ravel(), y_pred.argmax(axis=1))  #report['accuracy']\n",
        "    \n",
        "    # Balanced accuracy\n",
        "    bacc = balanced_accuracy_score(y_true.squeeze(), y_pred.argmax(axis=1).squeeze(), adjusted=True)\n",
        "    \n",
        "   # # Mutual Information\n",
        "   # mi = mutual_info_score(y_true.squeeze(), y_pred.argmax(axis=1).squeeze())\n",
        "    \n",
        "    # Normalized Mutual Information\n",
        "    nmi = normalized_mutual_info_score(y_true.squeeze(), y_pred.argmax(axis=1).squeeze())\n",
        "    \n",
        "    # Adjusted Mutual Information\n",
        "    #ami = adjusted_mutual_info_score(y_true.squeeze(), y_pred.argmax(axis=1).squeeze())\n",
        "    \n",
        "    # AUC (Tensorflow)\n",
        "    auc_metric = tf.keras.metrics.AUC(from_logits=True)\n",
        "    auc_metric.update_state(y_true, y_pred.argmax(axis=1).astype('float'))\n",
        "    auc = auc_metric.result().numpy()\n",
        "    auc_metric.reset_states()\n",
        "    \n",
        "    # AUC (scikit-learn)\n",
        "    auc_sk = roc_auc_score(ook(y_true), y_pred)\n",
        "    \n",
        "    if print_result:\n",
        "        print(\"Accuracy: {:.4f}\".format(acc))\n",
        "        print(\"Balanced Accuracy: {:.4f}\".format(bacc))\n",
        "        print(\"Mutual Information: {:.4f}\".format(mi))\n",
        "        print(\"Normalized Mutual Information: {:.4f}\".format(nmi))\n",
        "        print(\"Adjusted Mutual Information: {:.4f}\".format(ami))\n",
        "        print(\"AUC (Tensorflow): {:.4f}\".format(auc))\n",
        "        print(\"AUC (scikit-learn): {:.4f}\".format(auc_sk))\n",
        "    \n",
        "    return acc, auc, auc_sk, nmi, bacc   # mi, , ami\n",
        "\n",
        "\n"
      ]
    },
    {
      "cell_type": "markdown",
      "id": "c0ca9b71",
      "metadata": {
        "id": "c0ca9b71",
        "papermill": {
          "duration": 0.00829,
          "end_time": "2022-10-25T16:30:06.615311",
          "exception": false,
          "start_time": "2022-10-25T16:30:06.607021",
          "status": "completed"
        },
        "tags": []
      },
      "source": [
        "# Subclassing for GCCE"
      ]
    },
    {
      "cell_type": "code",
      "source": [
        "# -*- coding: utf-8 -*-\n",
        "import tensorflow as tf\n",
        "import matplotlib.pyplot as plt\n",
        "#from tensorflow.keras.wrappers.scikit_learn import KerasClassifier\n",
        "import tensorflow_probability as tfp\n",
        "from tensorflow.keras import regularizers\n",
        "from sklearn.base import  BaseEstimator, TransformerMixin, ClassifierMixin\n",
        "from sklearn.model_selection import train_test_split\n",
        "tf.keras.backend.clear_session()\n",
        "#tf.random.set_seed(42)\n",
        "import types\n",
        "import tempfile\n",
        "class Keras_MA_GCCE(): #transformer no va\n",
        " #Constructor __init__. Special method: identified by a double underscore at either side of their name\n",
        " #work in the background\n",
        " # initialize data members to the object. lets the class initialize the object’s attributes and serves no other purpose.\n",
        "    def __init__(self,epochs=100,batch_size=30,R=5, K=2, dropout=0.5, learning_rate=1e-3,optimizer='Adam', \n",
        "                  l1_param=0, validation_split=0.3, verbose=1, q = 0.1, neurons=4):\n",
        "        self.epochs=epochs\n",
        "        self.dropout=dropout\n",
        "        self.batch_size = batch_size\n",
        "        self.learning_rate=learning_rate \n",
        "        self.l1_param=l1_param \n",
        "        self.l2_param=l1_param\n",
        "        self.validation_split = validation_split\n",
        "        self.verbose = verbose\n",
        "        self.optimizer = optimizer\n",
        "        self.R=R\n",
        "        self.K=K\n",
        "        self.q = q\n",
        "        self.neurons = neurons\n",
        "\n",
        "    \n",
        " \n",
        "    def GCCE_MA_loss(self, y_true, y_pred):\n",
        "        # print(y_true,y_pred)\n",
        "       # q = 0.1\n",
        "        pred = y_pred[:, self.R:]\n",
        "        pred = tf.clip_by_value(pred, clip_value_min=1e-9, clip_value_max=1)\n",
        "        ann_ = y_pred[:, :self.R]\n",
        "        # ann_ = tf.clip_by_value(ann_, clip_value_min=1e-9, clip_value_max=1-1e-9)\n",
        "        Y_true = tf.one_hot(tf.cast(y_true, dtype=tf.int32), depth=self.K, axis=1)\n",
        "        Y_hat = tf.repeat(tf.expand_dims(pred,-1), self.R, axis = -1)\n",
        "\n",
        "        p_gcce = Y_true*(1 - Y_hat**self.q)/self.q\n",
        "        temp1 = ann_*tf.math.reduce_sum(p_gcce, axis=1)\n",
        "\n",
        "        temp2 = (1 - ann_)*(1-(1/self.K)**self.q)/self.q*tf.reduce_sum(Y_true,axis=1)\n",
        "        return tf.math.reduce_sum((temp1 + temp2))\n",
        "\n",
        " \n",
        "    def PRI_MA_loss(self, y_true, y_pred): #,  -> PRI\n",
        "        #Input ytrue: samples (N) x  annotators (R) \n",
        "        #Input ypred: samples (N) x  annotators+classes (R+K) \n",
        "        #PRI MA\n",
        "        cce_M = tf.keras.losses.CategoricalCrossentropy(reduction='none',axis=-1)\n",
        "        cce_C = tf.keras.losses.CategoricalCrossentropy(reduction='none',axis=1)\n",
        "\n",
        "      \n",
        "\n",
        "        #N = tf.cast(y_true.shape[0],dtype=tf.int32)\n",
        "        N = tf.shape(y_true)[0]\n",
        "        #Ground truth estimation samples (N) x  Classes(K)\n",
        "        y_pred_tf = y_pred[:,self.R:] \n",
        "        # Annotators reliability prediction: samples (N) x  annotators (R)\n",
        "        lambda_R_tf = y_pred[:,:self.R] #tf.ones(shape=(N,R)) \n",
        "        #Y_true 1 K: samples (N) x  Classes(1-K), annotators (R)\n",
        "        Y_true_1K = tf.one_hot(tf.cast(y_true,dtype=tf.int32),depth=self.K,axis=1)  \n",
        "        #Y_pred 1 - K: samples (N) x  Classes(1-K), annotators (R)\n",
        "        Y_hat = tf.repeat(tf.expand_dims(y_pred_tf,-1), self.R, axis = -1) \n",
        "        #marginal entropy\n",
        "        #cce along the K classes -> ypred_tf\n",
        "        Hm_ = cce_M(y_pred_tf,y_pred_tf)\n",
        "        #cross entropy\n",
        "        #cce along the K classes -> Y_hat\n",
        "        Hc_ = cce_C(Y_true_1K,Y_hat)\n",
        "        #PRI MA computation\n",
        "        LH = tf.linalg.matmul(lambda_R_tf,Hc_,transpose_a=True) # \\Lambda^\\top H_c\n",
        "        temp1 = tf.linalg.trace(LH) #trace(LH)\n",
        "        Hm1L = tf.linalg.matmul(tf.ones(shape=(N,self.R))-lambda_R_tf,tf.ones(shape=(self.R,1)))# 1_N 1_R^\\top - Lambda\n",
        "        Hm_t = tf.reshape(Hm_,shape=(N,1))\n",
        "        temp2 = tf.squeeze(tf.linalg.matmul(Hm_t,Hm1L,transpose_a=True)) # Hm^\\top Hm1L\n",
        "        loss_c = temp1+ temp2 #return loss\n",
        "\n",
        "        return loss_c\n",
        "\n",
        " \n",
        "    def fit(self, X, Y):\n",
        "\n",
        "        def scheduler1(step = 10, ratio = 1.2):\n",
        "          def scheduler(epoch, lr):\n",
        "            if epoch % step == 0 and epoch>1:\n",
        "              return lr/ratio\n",
        "            else:\n",
        "              return lr\n",
        "          return scheduler\n",
        "        #input X numpy array first dimension samples (N)x features (P)\n",
        "        #input Y numpy array vector len = samples (N) x  annotators (R)\n",
        "        initializer = tf.keras.initializers.GlorotNormal(seed=100)\n",
        "\n",
        "        P = X.shape[1]\n",
        "        if self.optimizer == \"Adam\":\n",
        "            opt = tf.keras.optimizers.Adam(learning_rate=self.learning_rate, clipnorm=1.0)\n",
        "        elif self.optimizer == \"SGD\":\n",
        "            opt = tf.keras.optimizers.SGD(learning_rate=self.learning_rate, clipnorm=1.0)\n",
        "        else:\n",
        "            opt=self.optimizer\n",
        "\n",
        "        #capa de entrada\n",
        "        input_l = tf.keras.layers.Input(shape=(X.shape[1]), name='entrada')\n",
        "        #capas densas\n",
        "        h1 = tf.keras.layers.Dense(int(200),activation='selu',name='h1',bias_initializer='zeros', kernel_initializer=initializer,\n",
        "                              kernel_regularizer=tf.keras.regularizers.l1_l2(l1=self.l1_param,l2=self.l2_param))(input_l)#argumento de entrada\n",
        "        h2 = tf.keras.layers.Dense(int(50),activation='selu',name='h2', bias_initializer='zeros', kernel_initializer=initializer,\n",
        "                              kernel_regularizer=tf.keras.regularizers.l1_l2(l1=self.l1_param,l2=self.l2_param))(h1)\n",
        "        dout = tf.keras.layers.Dropout(rate=self.dropout)(h2)\n",
        "        #capa de salida\n",
        "        output = tf.keras.layers.Dense(self.K,activation=\"softmax\",name='output', bias_initializer='zeros', kernel_initializer=initializer,\n",
        "                                   kernel_regularizer=tf.keras.regularizers.l1_l2(l1=self.l1_param,l2=self.l2_param))(dout)\n",
        "        self.model = tf.keras.Model(inputs= input_l,outputs=output)\n",
        "        self.model.compile(loss=tf.keras.losses.SparseCategoricalCrossentropy(), optimizer=opt,metrics=\"accuracy\")\n",
        "         \n",
        "        callback1 = tf.keras.callbacks.TerminateOnNaN()\n",
        "        callback2 = tf.keras.callbacks.LearningRateScheduler(scheduler1(ratio = 1))\n",
        "        #callback2 = tf.keras.callbacks.LearningRateScheduler(scheduler2)\n",
        "        callback3 = tf.keras.callbacks.EarlyStopping(monitor=\"loss\", min_delta=1e-2,\n",
        "                                                 patience=15, verbose=0, mode=\"auto\",\n",
        "                                                 baseline=None, restore_best_weights=True)\n",
        "               \n",
        " \n",
        "        self.history = self.model.fit(X, Y, epochs=self.epochs, validation_split=self.validation_split, callbacks = [callback1, callback2],   #\n",
        "                                      batch_size=self.batch_size,verbose=self.verbose)\n",
        " \n",
        "        return self\n",
        " \n",
        "  \n",
        "   \n",
        "    def predict(self, X, *_):\n",
        "       #input X numpy array first dimension samples (N)x features (P)\n",
        "      return  self.model.predict(X) \n",
        " \n",
        " \n",
        "\n",
        "    def fit_predict(self,X,y):\n",
        "        #input X numpy array first dimension samples (N)x features (P)\n",
        "        #input Y numpy array vector len = samples (N) x  annotators (R)\n",
        "        self.fit(X,y)\n",
        "        return self.predict(X)\n",
        "  \n",
        "     #graphics\n",
        "    def plot_history(self):\n",
        "        pd.DataFrame(self.history.history).plot(figsize=(8, 5))\n",
        "        plt.grid(True)\n",
        "        #plt.gca().set_ylim(0, 1)\n",
        "        #save_fig(\"keras_learning_curves_plot\")\n",
        "        plt.show()\n",
        "        return\n",
        "    \n",
        "    def set_params(self, **parameters):\n",
        "        for parameter, value in parameters.items():\n",
        "            setattr(self, parameter, value)\n",
        "\n",
        "        return self\n",
        "    \n",
        "    \n",
        "    \n",
        "    def get_params(self, deep=True):\n",
        "        return { 'l1_param':self.l1_param, 'dropout':self.dropout, 'optimizer':self.optimizer,\n",
        "                'learning_rate':self.learning_rate, 'batch_size':self.batch_size,\n",
        "                'epochs':self.epochs, 'verbose':self.verbose, 'validation_split':self.validation_split,\n",
        "                'R':self.R, 'K':self.K, 'q':self.q, 'neurons': self.neurons\n",
        "                }\n",
        "\n",
        "  \n",
        "        return self\n"
      ],
      "metadata": {
        "id": "ARZLLJ97jSrZ"
      },
      "id": "ARZLLJ97jSrZ",
      "execution_count": 2,
      "outputs": []
    },
    {
      "cell_type": "markdown",
      "id": "99295c63",
      "metadata": {
        "id": "99295c63",
        "papermill": {
          "duration": 0.008625,
          "end_time": "2022-10-25T16:30:16.213513",
          "exception": false,
          "start_time": "2022-10-25T16:30:16.204888",
          "status": "completed"
        },
        "tags": []
      },
      "source": [
        "# Load Data"
      ]
    },
    {
      "cell_type": "code",
      "execution_count": 3,
      "id": "1e4ce651",
      "metadata": {
        "execution": {
          "iopub.execute_input": "2022-10-25T16:30:16.233290Z",
          "iopub.status.busy": "2022-10-25T16:30:16.232328Z",
          "iopub.status.idle": "2022-10-25T16:30:16.270473Z",
          "shell.execute_reply": "2022-10-25T16:30:16.269151Z"
        },
        "id": "1e4ce651",
        "papermill": {
          "duration": 0.051207,
          "end_time": "2022-10-25T16:30:16.273603",
          "exception": false,
          "start_time": "2022-10-25T16:30:16.222396",
          "status": "completed"
        },
        "tags": []
      },
      "outputs": [],
      "source": [
        "#load data\n",
        "import scipy.io as sio\n",
        "import matplotlib.pyplot as plt\n",
        "import pandas as pd\n",
        "import tensorflow as tf #importar tensorflow\n",
        "from sklearn.model_selection import GridSearchCV, RandomizedSearchCV\n",
        "from sklearn.preprocessing import StandardScaler,MinMaxScaler\n",
        "import numpy as np\n",
        "\n",
        "database = 'Fashion_Mnist'\n",
        " "
      ]
    },
    {
      "cell_type": "code",
      "execution_count": 4,
      "id": "f5718199",
      "metadata": {
        "execution": {
          "iopub.execute_input": "2022-10-25T16:30:16.294727Z",
          "iopub.status.busy": "2022-10-25T16:30:16.294047Z",
          "iopub.status.idle": "2022-10-25T16:30:18.538535Z",
          "shell.execute_reply": "2022-10-25T16:30:18.537349Z"
        },
        "papermill": {
          "duration": 2.257534,
          "end_time": "2022-10-25T16:30:18.541560",
          "exception": false,
          "start_time": "2022-10-25T16:30:16.284026",
          "status": "completed"
        },
        "tags": [],
        "id": "f5718199",
        "colab": {
          "base_uri": "https://localhost:8080/"
        },
        "outputId": "30e53cac-004a-4b3d-a8a2-d87734e7ae3c"
      },
      "outputs": [
        {
          "output_type": "stream",
          "name": "stdout",
          "text": [
            "Downloading data from https://storage.googleapis.com/tensorflow/tf-keras-datasets/train-labels-idx1-ubyte.gz\n",
            "29515/29515 [==============================] - 0s 1us/step\n",
            "Downloading data from https://storage.googleapis.com/tensorflow/tf-keras-datasets/train-images-idx3-ubyte.gz\n",
            "26421880/26421880 [==============================] - 2s 0us/step\n",
            "Downloading data from https://storage.googleapis.com/tensorflow/tf-keras-datasets/t10k-labels-idx1-ubyte.gz\n",
            "5148/5148 [==============================] - 0s 0us/step\n",
            "Downloading data from https://storage.googleapis.com/tensorflow/tf-keras-datasets/t10k-images-idx3-ubyte.gz\n",
            "4422102/4422102 [==============================] - 0s 0us/step\n"
          ]
        }
      ],
      "source": [
        "(X, t), _ =  tf.keras.datasets.fashion_mnist.load_data() \n",
        "t=t+1\n",
        "X = X.reshape(len(X),-1)"
      ]
    },
    {
      "cell_type": "markdown",
      "id": "9b8bee10",
      "metadata": {
        "id": "9b8bee10",
        "papermill": {
          "duration": 0.009454,
          "end_time": "2022-10-25T16:30:18.561008",
          "exception": false,
          "start_time": "2022-10-25T16:30:18.551554",
          "status": "completed"
        },
        "tags": []
      },
      "source": [
        "# Labels Generation "
      ]
    },
    {
      "cell_type": "code",
      "execution_count": 5,
      "metadata": {
        "execution": {
          "iopub.execute_input": "2022-10-25T20:32:39.720309Z",
          "iopub.status.busy": "2022-10-25T20:32:39.719514Z",
          "iopub.status.idle": "2022-10-25T20:32:39.980635Z",
          "shell.execute_reply": "2022-10-25T20:32:39.979487Z"
        },
        "id": "841e997f",
        "papermill": {
          "duration": 0.274798,
          "end_time": "2022-10-25T20:32:39.983334",
          "exception": false,
          "start_time": "2022-10-25T20:32:39.708536",
          "status": "completed"
        },
        "tags": []
      },
      "outputs": [],
      "source": [
        "import random\n",
        "import warnings\n",
        "import numpy as np\n",
        "#import climin\n",
        "from functools import partial\n",
        "import matplotlib.pyplot as plt\n",
        "from sklearn.preprocessing import StandardScaler\n",
        "from sklearn.cluster import KMeans\n",
        "import matplotlib.pyplot as plt\n",
        "from sklearn.manifold import TSNE\n",
        "\n",
        "#Defining the Sigmoid function and Softmax function\n",
        "def Sigmoid(f_r):\n",
        "    lam_r = 1/(1 + np.exp(-f_r))\n",
        "    return lam_r\n",
        "\n",
        "def MAjVot(Y, K):\n",
        "    N,R = Y.shape\n",
        "    Yhat = np.zeros((N,1))\n",
        "    for n in range(N):\n",
        "        votes = np.zeros((K,1))\n",
        "        for r in range(R):\n",
        "            for k in range(K):\n",
        "                if Y[n,r] == k+1:\n",
        "                    votes[k] = votes[k]+1\n",
        "        Yhat[n] = np.argmax(votes) + 1\n",
        "    return Yhat\n",
        "\n",
        "\n",
        "def  MA_Clas_Gen(Xtrain,ytrain,R,NrP):\n",
        "\n",
        "    N = len(ytrain)\n",
        "    K = len(np.unique(ytrain))\n",
        "    Kn = np.unique(ytrain)\n",
        "    aux = 0\n",
        "    A = np.zeros((K,1))\n",
        "    for k in Kn:\n",
        "        A[aux] = (ytrain == k).sum()\n",
        "        aux = aux + 1\n",
        "    per = np.min(A)\n",
        "    if N < 25000:\n",
        "        Xtrain = TSNE(n_components=1,perplexity=per/2).fit_transform(Xtrain)\n",
        "    else:\n",
        "        Xtrain = np.sum(Xtrain,1)\n",
        "    # Xtrain = Xtrain-Xtrain.min()\n",
        "    # Xtrain = Xtrain/Xtrain.max()\n",
        "    #ytrain = y\n",
        "    # scaler = StandardScaler()\n",
        "    # scalerY = scaler.fit(y)\n",
        "    # ytrain = scaler.fit_transform(y)\n",
        "\n",
        "    \n",
        "    #miny = y.min()\n",
        "    #ytrain = y-miny\n",
        "    #maxy = ytrain.max()\n",
        "    #ytrain = ytrain/maxy\n",
        "  \n",
        "    # Xtrain = np.sum(Xtrain, axis=1)\n",
        "    Xtrain = Xtrain - Xtrain.min()\n",
        "    #print(Xtrain.min(), Xtrain.max())\n",
        "    Xtrain = Xtrain/Xtrain.max()\n",
        "    Xtrain = Xtrain.reshape((N,1))\n",
        "    yprueba = np.ones((N,1))\n",
        "    \n",
        "    \n",
        "    u_q = np.empty((Xtrain.shape[0],3))\n",
        "    u_q[:,0,None] = 4.5*np.cos(2*np.pi*Xtrain + 1.5*np.pi) - \\\n",
        "                               3*np.sin(4.3*np.pi*Xtrain + 0.3*np.pi)\n",
        "                    \n",
        "    u_q[:,1,None] = 4.5*np.cos(1.5*np.pi*Xtrain + 0.5*np.pi) + \\\n",
        "                       5*np.sin(3*np.pi*Xtrain + 1.5*np.pi)\n",
        "    \n",
        "    u_q[:,2,None] = 1\n",
        "    \n",
        "    W = []\n",
        "    # q=1\n",
        "    Wq1 = np.array(([[0.4],[0.7],[-0.5],[0],[-0.7]]))\n",
        "    W.append(Wq1)\n",
        "    # q=2\n",
        "    Wq2 = np.array(([[0.4],[-1.0],[-0.1],[-0.8],[1.0]]))\n",
        "    W.append(Wq2)\n",
        "    Wq3 = np.array(([[3.1],[-1.8],[-0.6],[-1.2],[1.0]]))\n",
        "    W.append(Wq3)\n",
        "\n",
        "    \n",
        "    F_r = []\n",
        "    Lam_r = []\n",
        "    for r in range(R):\n",
        "        f_r = np.zeros((Xtrain.shape[0], 1))\n",
        "        # rho_r = np.zeros((Xtrain.shape[0], 1))\n",
        "        for q in range(3):\n",
        "            f_r += W[q][r].T*u_q[:,q,None]\n",
        "        F_r.append(f_r)\n",
        "        lam_r = Sigmoid(f_r)\n",
        "        lam_r[lam_r>0.5] = 1\n",
        "        lam_r[lam_r<=0.5] = 0\n",
        "        Lam_r.append(lam_r)\n",
        "    plt.plot(Xtrain,Lam_r[2],'rx')\n",
        "    plt.show()\n",
        "    seed = 0\n",
        "    np.random.seed(seed)\n",
        "    Ytrain = np.ones((N, R))\n",
        "    for r in range(R):\n",
        "        aux = ytrain.copy()\n",
        "        for n in range(N):\n",
        "            if Lam_r[r][n] == 0:\n",
        "                labels = np.arange(1, K+1)\n",
        "                a = np.where(labels==ytrain[n])\n",
        "                labels = np.delete(labels, a)\n",
        "                idxlabels = np.random.permutation(K-1)\n",
        "                aux[n] = labels[idxlabels[0]]         \n",
        "        Ytrain[:,r] = aux.flatten()\n",
        "        \n",
        "   # Ytrain = (Ytrain*maxy) + miny\n",
        "        \n",
        "    iAnn = np.zeros((N, R), dtype=int) # this indicates if the annotator r labels the nth sample.\n",
        "    Nr = np.ones((R), dtype=int)*int(np.floor(N*NrP))  \n",
        "    for r in range(R):\n",
        "        if r < R-1:\n",
        "            indexR = np.random.permutation(range(N))[:Nr[r]]\n",
        "            iAnn[indexR,r] = 1\n",
        "        else:\n",
        "            iSimm = np.sum(iAnn, axis=1)\n",
        "            idxZero = np.asarray([i for (i, val) in enumerate(iSimm) if val == 0])\n",
        "            Nzeros = idxZero.shape[0]\n",
        "            idx2Choose = np.arange(N)\n",
        "            if Nzeros == 0:\n",
        "                indexR = np.random.permutation(range(N))[:Nr[r]]\n",
        "                iAnn[indexR,r] = 1\n",
        "            else:\n",
        "                idx2Choose = np.delete(idx2Choose, idxZero)\n",
        "                N2chose = idx2Choose.shape[0]\n",
        "                idxNoZero = np.random.permutation(N2chose)[:(Nr[r] - Nzeros)]\n",
        "                idxTot = np.concatenate((idxZero, idx2Choose[idxNoZero]))\n",
        "                iAnn[idxTot,r] = 1\n",
        "    \n",
        "    # Now, we verify that all the samples were labeled at least once\n",
        "    Nr = (np.sum(iAnn,0))\n",
        "    iSimm = np.sum(iAnn, axis=1)\n",
        "    if np.asarray([i for (i, val) in enumerate(iSimm) if val == 0]).sum() == 0:\n",
        "        ValueError(\"all the samples must be labeled at least once\")\n",
        "\n",
        "    # Finally, if iAnn=0 we assign a reference value to indicate a missing value\n",
        "    Vref = -1e-20\n",
        "    for r in range(R):\n",
        "        Ytrain[iAnn[:,r] == 0, r] = Vref \n",
        "\n",
        "    return Ytrain, iAnn, Lam_r\n",
        "\n",
        "\n",
        "def CrossVal(X, pp, Nk):\n",
        "    N = X.shape[0]\n",
        "    Ntr = int(N*pp)\n",
        "    Nte = N - Ntr\n",
        "    idxtr = np.zeros((Ntr,Nk))\n",
        "    idxte = np.zeros((Nte,Nk))\n",
        "    \n",
        "    for i in range(Nk):\n",
        "        index = np.random.permutation(range(N))\n",
        "        idxtr[:,i] = index[:Ntr]\n",
        "        idxte[:,i] = index[Ntr:]\n",
        "        \n",
        "    return idxtr, idxte\n",
        "    \n",
        "    \n",
        "        \n"
      ],
      "id": "841e997f"
    },
    {
      "cell_type": "code",
      "execution_count": 6,
      "metadata": {
        "execution": {
          "iopub.execute_input": "2022-10-25T20:32:40.004507Z",
          "iopub.status.busy": "2022-10-25T20:32:40.004043Z",
          "iopub.status.idle": "2022-10-25T20:32:44.649469Z",
          "shell.execute_reply": "2022-10-25T20:32:44.647856Z"
        },
        "id": "4c091476",
        "outputId": "346c7afd-fd7e-428b-b608-a6ae6dd5af64",
        "papermill": {
          "duration": 4.660172,
          "end_time": "2022-10-25T20:32:44.652704",
          "exception": false,
          "start_time": "2022-10-25T20:32:39.992532",
          "status": "completed"
        },
        "tags": [],
        "colab": {
          "base_uri": "https://localhost:8080/",
          "height": 265
        }
      },
      "outputs": [
        {
          "output_type": "display_data",
          "data": {
            "text/plain": [
              "<Figure size 432x288 with 1 Axes>"
            ],
            "image/png": "[encoded data removed]"
          },
          "metadata": {
            "needs_background": "light"
          }
        }
      ],
      "source": [
        "Y, iAnn, Lam_r = MA_Clas_Gen(X ,t, R=5, NrP=1)"
      ],
      "id": "4c091476"
    },
    {
      "cell_type": "code",
      "execution_count": 7,
      "metadata": {
        "execution": {
          "iopub.execute_input": "2022-10-25T20:32:44.675980Z",
          "iopub.status.busy": "2022-10-25T20:32:44.675479Z",
          "iopub.status.idle": "2022-10-25T20:32:44.682095Z",
          "shell.execute_reply": "2022-10-25T20:32:44.681122Z"
        },
        "id": "259fb1d6",
        "papermill": {
          "duration": 0.02125,
          "end_time": "2022-10-25T20:32:44.684425",
          "exception": false,
          "start_time": "2022-10-25T20:32:44.663175",
          "status": "completed"
        },
        "tags": []
      },
      "outputs": [],
      "source": [
        "\n",
        "  Y = Y - 1\n",
        "  t = t - 1\n",
        "  #YMA = YMA-1\n",
        "  "
      ],
      "id": "259fb1d6"
    },
    {
      "cell_type": "code",
      "execution_count": 8,
      "metadata": {
        "execution": {
          "iopub.execute_input": "2022-10-25T20:32:44.706763Z",
          "iopub.status.busy": "2022-10-25T20:32:44.706113Z",
          "iopub.status.idle": "2022-10-25T20:32:51.789826Z",
          "shell.execute_reply": "2022-10-25T20:32:51.788786Z"
        },
        "papermill": {
          "duration": 7.097798,
          "end_time": "2022-10-25T20:32:51.792881",
          "exception": false,
          "start_time": "2022-10-25T20:32:44.695083",
          "status": "completed"
        },
        "tags": [],
        "id": "a5b028cb"
      },
      "outputs": [],
      "source": [
        "import numpy as np\n",
        "from scipy import stats\n",
        "Ytr_mv  = []\n",
        "for i in range(Y.shape[0]):\n",
        "     #print(Y[i])\n",
        "     Ytr_mv   += [np.take(stats.mode(Y[i]),0)]\n",
        "     #print(mode_Y)\n",
        "#Ytr_mv "
      ],
      "id": "a5b028cb"
    },
    {
      "cell_type": "code",
      "execution_count": 9,
      "metadata": {
        "execution": {
          "iopub.execute_input": "2022-10-25T20:32:51.815133Z",
          "iopub.status.busy": "2022-10-25T20:32:51.814371Z",
          "iopub.status.idle": "2022-10-25T20:32:51.826740Z",
          "shell.execute_reply": "2022-10-25T20:32:51.825467Z"
        },
        "papermill": {
          "duration": 0.026498,
          "end_time": "2022-10-25T20:32:51.829371",
          "exception": false,
          "start_time": "2022-10-25T20:32:51.802873",
          "status": "completed"
        },
        "tags": [],
        "colab": {
          "base_uri": "https://localhost:8080/"
        },
        "id": "944e6701",
        "outputId": "72dafc69-e7b9-4734-dd77-9dadd1267b74"
      },
      "outputs": [
        {
          "output_type": "execute_result",
          "data": {
            "text/plain": [
              "(60000, 1)"
            ]
          },
          "metadata": {},
          "execution_count": 9
        }
      ],
      "source": [
        "Ytr_mv = np.array(Ytr_mv).reshape(-1,1) \n",
        "Ytr_mv.shape"
      ],
      "id": "944e6701"
    },
    {
      "cell_type": "code",
      "execution_count": 10,
      "metadata": {
        "execution": {
          "iopub.execute_input": "2022-10-25T20:32:51.851549Z",
          "iopub.status.busy": "2022-10-25T20:32:51.850754Z",
          "iopub.status.idle": "2022-10-25T20:32:52.018837Z",
          "shell.execute_reply": "2022-10-25T20:32:52.017223Z"
        },
        "papermill": {
          "duration": 0.182536,
          "end_time": "2022-10-25T20:32:52.021582",
          "exception": false,
          "start_time": "2022-10-25T20:32:51.839046",
          "status": "completed"
        },
        "tags": [],
        "colab": {
          "base_uri": "https://localhost:8080/"
        },
        "id": "7829a2c6",
        "outputId": "e333ce69-88c3-4374-8b7a-b556a99eea01"
      },
      "outputs": [
        {
          "output_type": "stream",
          "name": "stdout",
          "text": [
            "annotator 1\n",
            "              precision    recall  f1-score   support\n",
            "\n",
            "           0       0.78      0.95      0.86      6000\n",
            "           1       0.82      0.95      0.88      6000\n",
            "           2       0.84      0.93      0.88      6000\n",
            "           3       0.88      0.84      0.86      6000\n",
            "           4       0.90      0.90      0.90      6000\n",
            "           5       0.90      0.96      0.93      6000\n",
            "           6       0.91      0.86      0.88      6000\n",
            "           7       0.93      0.91      0.92      6000\n",
            "           8       0.93      0.80      0.86      6000\n",
            "           9       0.95      0.68      0.79      6000\n",
            "\n",
            "    accuracy                           0.88     60000\n",
            "   macro avg       0.88      0.88      0.88     60000\n",
            "weighted avg       0.88      0.88      0.88     60000\n",
            "\n"
          ]
        }
      ],
      "source": [
        "from sklearn.metrics import classification_report\n",
        "\n",
        "for i in range(Ytr_mv.shape[1]):\n",
        "  print('annotator',i+1)\n",
        "  print(classification_report(t,Ytr_mv))"
      ],
      "id": "7829a2c6"
    },
    {
      "cell_type": "code",
      "execution_count": 11,
      "metadata": {
        "execution": {
          "iopub.execute_input": "2022-10-25T20:32:52.140401Z",
          "iopub.status.busy": "2022-10-25T20:32:52.139309Z",
          "iopub.status.idle": "2022-10-25T20:32:52.201500Z",
          "shell.execute_reply": "2022-10-25T20:32:52.200081Z"
        },
        "id": "f1337f58",
        "outputId": "d8288e4a-87fc-412d-8cda-2b78242a96f7",
        "papermill": {
          "duration": 0.07854,
          "end_time": "2022-10-25T20:32:52.204447",
          "exception": false,
          "start_time": "2022-10-25T20:32:52.125907",
          "status": "completed"
        },
        "tags": [],
        "colab": {
          "base_uri": "https://localhost:8080/"
        }
      },
      "outputs": [
        {
          "output_type": "stream",
          "name": "stdout",
          "text": [
            "[29561 26640 24498 ... 18948 24384 48300]\n",
            "(42000, 784) (42000, 1) (42000, 1)\n"
          ]
        }
      ],
      "source": [
        "import numpy.matlib\n",
        "from sklearn.model_selection import ShuffleSplit, StratifiedShuffleSplit\n",
        "Ns = 1\n",
        "ss = ShuffleSplit(n_splits=Ns, test_size=0.3,random_state =123)\n",
        "for train_index, test_index in ss.split(X):\n",
        "    print(test_index)\n",
        "    X_train, X_test,Y_train,Y_test = X[train_index,:], X[test_index,:],Ytr_mv[train_index,:], Ytr_mv[test_index,:]\n",
        "    Y_true_train, Y_true_test = t[train_index].reshape(-1,1), t[test_index].reshape(-1,1)\n",
        "print(X_train.shape, Y_train.shape, Y_true_train.shape)"
      ],
      "id": "f1337f58"
    },
    {
      "cell_type": "markdown",
      "id": "550cc5c5",
      "metadata": {
        "id": "550cc5c5",
        "papermill": {
          "duration": 0.01001,
          "end_time": "2022-10-25T16:30:29.532437",
          "exception": false,
          "start_time": "2022-10-25T16:30:29.522427",
          "status": "completed"
        },
        "tags": []
      },
      "source": [
        "# Split data"
      ]
    },
    {
      "cell_type": "code",
      "execution_count": 12,
      "id": "aceb569a",
      "metadata": {
        "execution": {
          "iopub.execute_input": "2022-10-25T16:30:29.554700Z",
          "iopub.status.busy": "2022-10-25T16:30:29.554248Z",
          "iopub.status.idle": "2022-10-25T16:30:29.598310Z",
          "shell.execute_reply": "2022-10-25T16:30:29.596512Z"
        },
        "id": "aceb569a",
        "outputId": "8717b072-dd42-4060-ee90-49e1c557f91e",
        "papermill": {
          "duration": 0.058983,
          "end_time": "2022-10-25T16:30:29.601714",
          "exception": false,
          "start_time": "2022-10-25T16:30:29.542731",
          "status": "completed"
        },
        "tags": [],
        "colab": {
          "base_uri": "https://localhost:8080/"
        }
      },
      "outputs": [
        {
          "output_type": "stream",
          "name": "stdout",
          "text": [
            "[29561 26640 24498 ... 18948 24384 48300]\n",
            "(42000, 784) (42000, 1) (42000, 1)\n"
          ]
        }
      ],
      "source": [
        "import numpy.matlib\n",
        "from sklearn.model_selection import ShuffleSplit, StratifiedShuffleSplit\n",
        "Ns = 1\n",
        "ss = ShuffleSplit(n_splits=Ns, test_size=0.3,random_state =123)\n",
        "for train_index, test_index in ss.split(X):\n",
        "    print(test_index)\n",
        "    X_train, X_test,Y_train,Y_test = X[train_index,:], X[test_index,:],Ytr_mv[train_index,:], Ytr_mv[test_index,:]\n",
        "    Y_true_train, Y_true_test = t[train_index].reshape(-1,1), t[test_index].reshape(-1,1)\n",
        "print(X_train.shape, Y_train.shape, Y_true_train.shape)"
      ]
    },
    {
      "cell_type": "markdown",
      "id": "7e8ac8c4",
      "metadata": {
        "id": "7e8ac8c4",
        "papermill": {
          "duration": 0.01048,
          "end_time": "2022-10-25T16:30:29.652991",
          "exception": false,
          "start_time": "2022-10-25T16:30:29.642511",
          "status": "completed"
        },
        "tags": []
      },
      "source": [
        "# Apply MinMaxScaler"
      ]
    },
    {
      "cell_type": "code",
      "execution_count": 13,
      "id": "38226a7c",
      "metadata": {
        "execution": {
          "iopub.execute_input": "2022-10-25T16:30:29.675389Z",
          "iopub.status.busy": "2022-10-25T16:30:29.674975Z",
          "iopub.status.idle": "2022-10-25T16:30:30.124681Z",
          "shell.execute_reply": "2022-10-25T16:30:30.123289Z"
        },
        "id": "38226a7c",
        "papermill": {
          "duration": 0.464038,
          "end_time": "2022-10-25T16:30:30.127585",
          "exception": false,
          "start_time": "2022-10-25T16:30:29.663547",
          "status": "completed"
        },
        "tags": []
      },
      "outputs": [],
      "source": [
        "scaler = MinMaxScaler()\n",
        "scaler.fit(X_train)\n",
        "X_train = scaler.transform(X_train)\n",
        "X_test = scaler.transform(X_test)"
      ]
    },
    {
      "cell_type": "markdown",
      "id": "4e57ec9d",
      "metadata": {
        "id": "4e57ec9d",
        "papermill": {
          "duration": 0.010084,
          "end_time": "2022-10-25T16:30:30.148750",
          "exception": false,
          "start_time": "2022-10-25T16:30:30.138666",
          "status": "completed"
        },
        "tags": []
      },
      "source": [
        "# Testing the Class \n"
      ]
    },
    {
      "cell_type": "code",
      "source": [
        "# from sklearn.metrics import classification_report, balanced_accuracy_score\n",
        "# from sklearn.metrics import normalized_mutual_info_score, mutual_info_score, adjusted_mutual_info_score\n",
        "# l1 =0.0001\n",
        "# NUM_RUNS =10\n",
        "# ACC = np.zeros(NUM_RUNS)\n",
        "# AUC = np.zeros(NUM_RUNS)\n",
        "# MI = np.zeros(NUM_RUNS)\n",
        "# NMI = np.zeros(NUM_RUNS)\n",
        "# AMI = np.zeros(NUM_RUNS)\n",
        "# BACC = np.zeros(NUM_RUNS)\n",
        "# for i in range(NUM_RUNS): #10\n",
        "#     print(\"iteration: \" + str(i))\n",
        "   \n",
        "#     MA = Keras_MA_GCCE(epochs=50,batch_size=128,R=5, K=len(np.unique(Y_true_train)), dropout=0.2, learning_rate=0.0001,optimizer='Adam', \n",
        "#                 l1_param=l1,  validation_split=0.30, verbose=0, q=0.1)\n",
        "    \n",
        "#     MA.fit(X_train,  Y_true_train)\n",
        "#     MA.plot_history()\n",
        "  \n",
        "#     #Accuracy\n",
        "#     pred_2 = MA.predict(X_test)\n",
        " \n",
        "#     report = classification_report( pred_2.argmax(axis=1),Y_true_test.ravel(),output_dict=True)\n",
        "#     ACC[i] = report['accuracy']\n",
        "#     print(\"Validation ACC: %.4f\" % (float(ACC[i])))\n",
        "\n",
        "\n",
        "#     # balanced. Accurcy\n",
        "#     BACC[i] = balanced_accuracy_score(Y_true_test.squeeze(), pred_2.argmax(axis=1).squeeze(), adjusted=True)\n",
        "#     print(\"Validation Balanced_ACC: %.4f\" % (float(BACC[i])))\n",
        "\n",
        "#     #MI\n",
        "    \n",
        "#     MI[i] = mutual_info_score(Y_true_test.squeeze(), pred_2.argmax(axis=1).squeeze())\n",
        "#     print(\"Validation MI: %.4f\" % (float(MI[i]),))\n",
        "#     NMI[i] = normalized_mutual_info_score(Y_true_test.squeeze(), pred_2.argmax(axis=1).squeeze())\n",
        "#     print(\"Validation Normalized MI: %.4f\" % (float(NMI[i]),))\n",
        "#     AMI[i]= adjusted_mutual_info_score(Y_true_test.squeeze(), pred_2.argmax(axis=1).squeeze())\n",
        "#     print(\"Validation Adjusted MI: %.4f\" % (float(AMI[i]),))\n",
        "\n",
        "\n",
        "#     #AUC\n",
        "#     val_AUC_metric = tf.keras.metrics.AUC( from_logits = True)  \n",
        "#    # val_logits =MA.predict(X_test) # model(X_test, training=False)\n",
        "#     # tf.print(y_batch_val)\n",
        "#     val_AUC_metric.update_state(Y_true_test, pred_2.argmax(axis=1).astype('float'))\n",
        "\n",
        "#     val_AUC = val_AUC_metric.result()\n",
        "#     val_AUC_metric.reset_states()\n",
        "#     val_AUC = val_AUC.numpy()\n",
        "#     print(\"Validation aUc: %.4f\" % (float(val_AUC),))\n",
        "#     AUC[i] = val_AUC\n",
        "    "
      ],
      "metadata": {
        "id": "SnUNFrjd8XJK"
      },
      "id": "SnUNFrjd8XJK",
      "execution_count": 14,
      "outputs": []
    },
    {
      "cell_type": "code",
      "source": [],
      "metadata": {
        "id": "eq4aE5pnealj"
      },
      "id": "eq4aE5pnealj",
      "execution_count": 14,
      "outputs": []
    },
    {
      "cell_type": "code",
      "source": [
        "from sklearn.metrics import classification_report, balanced_accuracy_score, roc_auc_score\n",
        "from sklearn.metrics import normalized_mutual_info_score, mutual_info_score, adjusted_mutual_info_score\n",
        "import pandas as pd\n",
        "l1 =0.0001\n",
        "NUM_RUNS =10\n",
        "custom_loss = \"MV\"\n",
        "\n",
        "\n",
        "results = []\n",
        "for i in range(NUM_RUNS):\n",
        "\n",
        "    print(\"iteration: \" + str(i))\n",
        "   \n",
        "    MA = Keras_MA_GCCE(epochs=100,batch_size=32,R=5, K=len(np.unique(Y_true_train)), dropout=0.5, learning_rate=0.0001,optimizer='Adam', \n",
        "                l1_param=l1,  validation_split=0.3, verbose=0)\n",
        "\n",
        "\n",
        "    MA.fit(X_train, Y_train)\n",
        "    MA.plot_history()\n",
        "  \n",
        "    # Generate the predictions for the current run\n",
        "    pred_2 = MA.predict(X_test)\n",
        "     \n",
        "    acc, auc, auc_sk,  nmi,  bacc = evaluation_metrics(Y_true_test,  pred_2, print_result=False)  # mi, ami,\n",
        "    \n",
        "    # Save the results for the current run to the list of dictionaries\n",
        "    results.append({\n",
        "        #'run': i,\n",
        "        'accuracy': acc,\n",
        "        'balanced_accuracy': bacc,\n",
        "       # 'mutual_information': mi,\n",
        "        'normalized_mutual_information': nmi,\n",
        "     #   'adjusted_mutual_information': ami,\n",
        "        'auc_tensorflow': auc,\n",
        "        'auc_scikit_learn': auc_sk,\n",
        "    })\n",
        "    \n",
        "# Convert the list of dictionaries to a DataFrame\n",
        "df = np.round(pd.DataFrame(results)*100, 2)\n",
        "\n",
        "# Calculate the mean and standard deviation of each metric\n",
        "mean = np.round(df.mean(),2)\n",
        "std = np.round(df.std(),2)  \n"
      ],
      "metadata": {
        "id": "mvwIORysX-z4",
        "outputId": "09a0e0c8-d5d0-4dd4-9817-ab6a6ee33977",
        "colab": {
          "base_uri": "https://localhost:8080/",
          "height": 1000
        }
      },
      "execution_count": 15,
      "outputs": [
        {
          "output_type": "stream",
          "name": "stdout",
          "text": [
            "iteration: 0\n"
          ]
        },
        {
          "output_type": "display_data",
          "data": {
            "text/plain": [
              "<Figure size 576x360 with 1 Axes>"
            ],
            "image/png": "[encoded data removed]"
          },
          "metadata": {
            "needs_background": "light"
          }
        },
        {
          "output_type": "stream",
          "name": "stdout",
          "text": [
            "563/563 [==============================] - 1s 2ms/step\n",
            "iteration: 1\n"
          ]
        },
        {
          "output_type": "display_data",
          "data": {
            "text/plain": [
              "<Figure size 576x360 with 1 Axes>"
            ],
            "image/png": "[encoded data removed]"
          },
          "metadata": {
            "needs_background": "light"
          }
        },
        {
          "output_type": "stream",
          "name": "stdout",
          "text": [
            "563/563 [==============================] - 1s 2ms/step\n",
            "iteration: 2\n"
          ]
        },
        {
          "output_type": "display_data",
          "data": {
            "text/plain": [
              "<Figure size 576x360 with 1 Axes>"
            ],
            "image/png": "[encoded data removed]"
          },
          "metadata": {
            "needs_background": "light"
          }
        },
        {
          "output_type": "stream",
          "name": "stdout",
          "text": [
            "563/563 [==============================] - 1s 2ms/step\n",
            "iteration: 3\n"
          ]
        },
        {
          "output_type": "display_data",
          "data": {
            "text/plain": [
              "<Figure size 576x360 with 1 Axes>"
            ],
            "image/png": "[encoded data removed]"
          },
          "metadata": {
            "needs_background": "light"
          }
        },
        {
          "output_type": "stream",
          "name": "stdout",
          "text": [
            "563/563 [==============================] - 2s 3ms/step\n",
            "iteration: 4\n"
          ]
        },
        {
          "output_type": "display_data",
          "data": {
            "text/plain": [
              "<Figure size 576x360 with 1 Axes>"
            ],
            "image/png": "[encoded data removed]"
          },
          "metadata": {
            "needs_background": "light"
          }
        },
        {
          "output_type": "stream",
          "name": "stdout",
          "text": [
            "563/563 [==============================] - 1s 2ms/step\n",
            "iteration: 5\n"
          ]
        },
        {
          "output_type": "display_data",
          "data": {
            "text/plain": [
              "<Figure size 576x360 with 1 Axes>"
            ],
            "image/png": "[encoded data removed]"
          },
          "metadata": {
            "needs_background": "light"
          }
        },
        {
          "output_type": "stream",
          "name": "stdout",
          "text": [
            "563/563 [==============================] - 1s 2ms/step\n",
            "iteration: 6\n"
          ]
        },
        {
          "output_type": "display_data",
          "data": {
            "text/plain": [
              "<Figure size 576x360 with 1 Axes>"
            ],
            "image/png": "[encoded data removed]"
          },
          "metadata": {
            "needs_background": "light"
          }
        },
        {
          "output_type": "stream",
          "name": "stdout",
          "text": [
            "563/563 [==============================] - 2s 3ms/step\n",
            "iteration: 7\n"
          ]
        },
        {
          "output_type": "display_data",
          "data": {
            "text/plain": [
              "<Figure size 576x360 with 1 Axes>"
            ],
            "image/png": "[encoded data removed]"
          },
          "metadata": {
            "needs_background": "light"
          }
        },
        {
          "output_type": "stream",
          "name": "stdout",
          "text": [
            "563/563 [==============================] - 1s 2ms/step\n",
            "iteration: 8\n"
          ]
        },
        {
          "output_type": "display_data",
          "data": {
            "text/plain": [
              "<Figure size 576x360 with 1 Axes>"
            ],
            "image/png": "[encoded data removed]"
          },
          "metadata": {
            "needs_background": "light"
          }
        },
        {
          "output_type": "stream",
          "name": "stdout",
          "text": [
            "563/563 [==============================] - 1s 2ms/step\n",
            "iteration: 9\n"
          ]
        },
        {
          "output_type": "display_data",
          "data": {
            "text/plain": [
              "<Figure size 576x360 with 1 Axes>"
            ],
            "image/png": "[encoded data removed]"
          },
          "metadata": {
            "needs_background": "light"
          }
        },
        {
          "output_type": "stream",
          "name": "stdout",
          "text": [
            "563/563 [==============================] - 2s 3ms/step\n"
          ]
        }
      ],
      "id": "mvwIORysX-z4"
    },
    {
      "cell_type": "code",
      "source": [
        "df"
      ],
      "metadata": {
        "id": "ispxoor_q6DN",
        "colab": {
          "base_uri": "https://localhost:8080/",
          "height": 363
        },
        "outputId": "c8ccee0e-155c-4515-9ccc-c7ae9d5c3e94"
      },
      "execution_count": 22,
      "outputs": [
        {
          "output_type": "execute_result",
          "data": {
            "text/plain": [
              "   accuracy  balanced_accuracy  normalized_mutual_information  auc_tensorflow  \\\n",
              "0     86.49              84.95                          77.20       91.029999   \n",
              "1     86.28              84.75                          76.75       88.529999   \n",
              "2     85.91              84.28                          76.96       92.720001   \n",
              "3     86.19              84.61                          77.06       92.290001   \n",
              "4     86.68              85.18                          77.27       89.690002   \n",
              "5     86.56              85.05                          77.14       87.580002   \n",
              "6     86.09              84.54                          76.64       89.169998   \n",
              "7     85.52              83.88                          76.16       90.900002   \n",
              "8     86.13              84.56                          76.61       88.839996   \n",
              "9     86.53              85.02                          77.12       88.889999   \n",
              "\n",
              "   auc_scikit_learn  \n",
              "0             98.60  \n",
              "1             98.58  \n",
              "2             98.59  \n",
              "3             98.55  \n",
              "4             98.60  \n",
              "5             98.61  \n",
              "6             98.53  \n",
              "7             98.54  \n",
              "8             98.54  \n",
              "9             98.61  "
            ],
            "text/html": [
              "\n",
              "  <div id=\"df-997826b6-35f7-42ed-abd7-0614b3a861ed\">\n",
              "    <div class=\"colab-df-container\">\n",
              "      <div>\n",
              "<style scoped>\n",
              "    .dataframe tbody tr th:only-of-type {\n",
              "        vertical-align: middle;\n",
              "    }\n",
              "\n",
              "    .dataframe tbody tr th {\n",
              "        vertical-align: top;\n",
              "    }\n",
              "\n",
              "    .dataframe thead th {\n",
              "        text-align: right;\n",
              "    }\n",
              "</style>\n",
              "<table border=\"1\" class=\"dataframe\">\n",
              "  <thead>\n",
              "    <tr style=\"text-align: right;\">\n",
              "      <th></th>\n",
              "      <th>accuracy</th>\n",
              "      <th>balanced_accuracy</th>\n",
              "      <th>normalized_mutual_information</th>\n",
              "      <th>auc_tensorflow</th>\n",
              "      <th>auc_scikit_learn</th>\n",
              "    </tr>\n",
              "  </thead>\n",
              "  <tbody>\n",
              "    <tr>\n",
              "      <th>0</th>\n",
              "      <td>86.49</td>\n",
              "      <td>84.95</td>\n",
              "      <td>77.20</td>\n",
              "      <td>91.029999</td>\n",
              "      <td>98.60</td>\n",
              "    </tr>\n",
              "    <tr>\n",
              "      <th>1</th>\n",
              "      <td>86.28</td>\n",
              "      <td>84.75</td>\n",
              "      <td>76.75</td>\n",
              "      <td>88.529999</td>\n",
              "      <td>98.58</td>\n",
              "    </tr>\n",
              "    <tr>\n",
              "      <th>2</th>\n",
              "      <td>85.91</td>\n",
              "      <td>84.28</td>\n",
              "      <td>76.96</td>\n",
              "      <td>92.720001</td>\n",
              "      <td>98.59</td>\n",
              "    </tr>\n",
              "    <tr>\n",
              "      <th>3</th>\n",
              "      <td>86.19</td>\n",
              "      <td>84.61</td>\n",
              "      <td>77.06</td>\n",
              "      <td>92.290001</td>\n",
              "      <td>98.55</td>\n",
              "    </tr>\n",
              "    <tr>\n",
              "      <th>4</th>\n",
              "      <td>86.68</td>\n",
              "      <td>85.18</td>\n",
              "      <td>77.27</td>\n",
              "      <td>89.690002</td>\n",
              "      <td>98.60</td>\n",
              "    </tr>\n",
              "    <tr>\n",
              "      <th>5</th>\n",
              "      <td>86.56</td>\n",
              "      <td>85.05</td>\n",
              "      <td>77.14</td>\n",
              "      <td>87.580002</td>\n",
              "      <td>98.61</td>\n",
              "    </tr>\n",
              "    <tr>\n",
              "      <th>6</th>\n",
              "      <td>86.09</td>\n",
              "      <td>84.54</td>\n",
              "      <td>76.64</td>\n",
              "      <td>89.169998</td>\n",
              "      <td>98.53</td>\n",
              "    </tr>\n",
              "    <tr>\n",
              "      <th>7</th>\n",
              "      <td>85.52</td>\n",
              "      <td>83.88</td>\n",
              "      <td>76.16</td>\n",
              "      <td>90.900002</td>\n",
              "      <td>98.54</td>\n",
              "    </tr>\n",
              "    <tr>\n",
              "      <th>8</th>\n",
              "      <td>86.13</td>\n",
              "      <td>84.56</td>\n",
              "      <td>76.61</td>\n",
              "      <td>88.839996</td>\n",
              "      <td>98.54</td>\n",
              "    </tr>\n",
              "    <tr>\n",
              "      <th>9</th>\n",
              "      <td>86.53</td>\n",
              "      <td>85.02</td>\n",
              "      <td>77.12</td>\n",
              "      <td>88.889999</td>\n",
              "      <td>98.61</td>\n",
              "    </tr>\n",
              "  </tbody>\n",
              "</table>\n",
              "</div>\n",
              "      <button class=\"colab-df-convert\" onclick=\"convertToInteractive('df-997826b6-35f7-42ed-abd7-0614b3a861ed')\"\n",
              "              title=\"Convert this dataframe to an interactive table.\"\n",
              "              style=\"display:none;\">\n",
              "        \n",
              "  <svg xmlns=\"http://www.w3.org/2000/svg\" height=\"24px\"viewBox=\"0 0 24 24\"\n",
              "       width=\"24px\">\n",
              "    <path d=\"M0 0h24v24H0V0z\" fill=\"none\"/>\n",
              "    <path d=\"M18.56 5.44l.94 2.06.94-2.06 2.06-.94-2.06-.94-.94-2.06-.94 2.06-2.06.94zm-11 1L8.5 8.5l.94-2.06 2.06-.94-2.06-.94L8.5 2.5l-.94 2.06-2.06.94zm10 10l.94 2.06.94-2.06 2.06-.94-2.06-.94-.94-2.06-.94 2.06-2.06.94z\"/><path d=\"M17.41 7.96l-1.37-1.37c-.4-.4-.92-.59-1.43-.59-.52 0-1.04.2-1.43.59L10.3 9.45l-7.72 7.72c-.78.78-.78 2.05 0 2.83L4 21.41c.39.39.9.59 1.41.59.51 0 1.02-.2 1.41-.59l7.78-7.78 2.81-2.81c.8-.78.8-2.07 0-2.86zM5.41 20L4 18.59l7.72-7.72 1.47 1.35L5.41 20z\"/>\n",
              "  </svg>\n",
              "      </button>\n",
              "      \n",
              "  <style>\n",
              "    .colab-df-container {\n",
              "      display:flex;\n",
              "      flex-wrap:wrap;\n",
              "      gap: 12px;\n",
              "    }\n",
              "\n",
              "    .colab-df-convert {\n",
              "      background-color: #E8F0FE;\n",
              "      border: none;\n",
              "      border-radius: 50%;\n",
              "      cursor: pointer;\n",
              "      display: none;\n",
              "      fill: #1967D2;\n",
              "      height: 32px;\n",
              "      padding: 0 0 0 0;\n",
              "      width: 32px;\n",
              "    }\n",
              "\n",
              "    .colab-df-convert:hover {\n",
              "      background-color: #E2EBFA;\n",
              "      box-shadow: 0px 1px 2px rgba(60, 64, 67, 0.3), 0px 1px 3px 1px rgba(60, 64, 67, 0.15);\n",
              "      fill: #174EA6;\n",
              "    }\n",
              "\n",
              "    [theme=dark] .colab-df-convert {\n",
              "      background-color: #3B4455;\n",
              "      fill: #D2E3FC;\n",
              "    }\n",
              "\n",
              "    [theme=dark] .colab-df-convert:hover {\n",
              "      background-color: #434B5C;\n",
              "      box-shadow: 0px 1px 3px 1px rgba(0, 0, 0, 0.15);\n",
              "      filter: drop-shadow(0px 1px 2px rgba(0, 0, 0, 0.3));\n",
              "      fill: #FFFFFF;\n",
              "    }\n",
              "  </style>\n",
              "\n",
              "      <script>\n",
              "        const buttonEl =\n",
              "          document.querySelector('#df-997826b6-35f7-42ed-abd7-0614b3a861ed button.colab-df-convert');\n",
              "        buttonEl.style.display =\n",
              "          google.colab.kernel.accessAllowed ? 'block' : 'none';\n",
              "\n",
              "        async function convertToInteractive(key) {\n",
              "          const element = document.querySelector('#df-997826b6-35f7-42ed-abd7-0614b3a861ed');\n",
              "          const dataTable =\n",
              "            await google.colab.kernel.invokeFunction('convertToInteractive',\n",
              "                                                     [key], {});\n",
              "          if (!dataTable) return;\n",
              "\n",
              "          const docLinkHtml = 'Like what you see? Visit the ' +\n",
              "            '<a target=\"_blank\" href=https://colab.research.google.com/notebooks/data_table.ipynb>data table notebook</a>'\n",
              "            + ' to learn more about interactive tables.';\n",
              "          element.innerHTML = '';\n",
              "          dataTable['output_type'] = 'display_data';\n",
              "          await google.colab.output.renderOutput(dataTable, element);\n",
              "          const docLink = document.createElement('div');\n",
              "          docLink.innerHTML = docLinkHtml;\n",
              "          element.appendChild(docLink);\n",
              "        }\n",
              "      </script>\n",
              "    </div>\n",
              "  </div>\n",
              "  "
            ]
          },
          "metadata": {},
          "execution_count": 22
        }
      ],
      "id": "ispxoor_q6DN"
    },
    {
      "cell_type": "code",
      "source": [
        "mean"
      ],
      "metadata": {
        "id": "whTSUvCJq_bf",
        "colab": {
          "base_uri": "https://localhost:8080/"
        },
        "outputId": "c22185d2-273f-4fab-ce1d-99fd01467c7d"
      },
      "execution_count": 23,
      "outputs": [
        {
          "output_type": "execute_result",
          "data": {
            "text/plain": [
              "accuracy                         86.24\n",
              "balanced_accuracy                84.68\n",
              "normalized_mutual_information    76.89\n",
              "auc_tensorflow                   89.96\n",
              "auc_scikit_learn                 98.57\n",
              "dtype: float64"
            ]
          },
          "metadata": {},
          "execution_count": 23
        }
      ],
      "id": "whTSUvCJq_bf"
    },
    {
      "cell_type": "code",
      "source": [
        "std"
      ],
      "metadata": {
        "id": "PH_iucZ1rJDD",
        "colab": {
          "base_uri": "https://localhost:8080/"
        },
        "outputId": "64db3795-b6e6-4f38-ea0e-8fe99f1686b2"
      },
      "execution_count": 24,
      "outputs": [
        {
          "output_type": "execute_result",
          "data": {
            "text/plain": [
              "accuracy                         0.35\n",
              "balanced_accuracy                0.40\n",
              "normalized_mutual_information    0.35\n",
              "auc_tensorflow                   1.70\n",
              "auc_scikit_learn                 0.03\n",
              "dtype: float64"
            ]
          },
          "metadata": {},
          "execution_count": 24
        }
      ],
      "id": "PH_iucZ1rJDD"
    },
    {
      "cell_type": "code",
      "source": [
        "result_df = pd.concat([mean.rename('Mean'), std.rename('Std')], axis=1)"
      ],
      "metadata": {
        "id": "IZWYJ4cZus0i"
      },
      "execution_count": 25,
      "outputs": [],
      "id": "IZWYJ4cZus0i"
    },
    {
      "cell_type": "code",
      "source": [
        "result_df"
      ],
      "metadata": {
        "id": "j5oR79xIvOJf",
        "colab": {
          "base_uri": "https://localhost:8080/",
          "height": 206
        },
        "outputId": "04f47311-7186-42a0-cff3-262641342744"
      },
      "execution_count": 20,
      "outputs": [
        {
          "output_type": "execute_result",
          "data": {
            "text/plain": [
              "                                Mean   Std\n",
              "accuracy                       86.24  0.35\n",
              "balanced_accuracy              84.68  0.40\n",
              "normalized_mutual_information  76.89  0.35\n",
              "auc_tensorflow                 89.96  1.70\n",
              "auc_scikit_learn               98.57  0.03"
            ],
            "text/html": [
              "\n",
              "  <div id=\"df-23ef2e02-0410-4298-b1ce-d9e6976d126f\">\n",
              "    <div class=\"colab-df-container\">\n",
              "      <div>\n",
              "<style scoped>\n",
              "    .dataframe tbody tr th:only-of-type {\n",
              "        vertical-align: middle;\n",
              "    }\n",
              "\n",
              "    .dataframe tbody tr th {\n",
              "        vertical-align: top;\n",
              "    }\n",
              "\n",
              "    .dataframe thead th {\n",
              "        text-align: right;\n",
              "    }\n",
              "</style>\n",
              "<table border=\"1\" class=\"dataframe\">\n",
              "  <thead>\n",
              "    <tr style=\"text-align: right;\">\n",
              "      <th></th>\n",
              "      <th>Mean</th>\n",
              "      <th>Std</th>\n",
              "    </tr>\n",
              "  </thead>\n",
              "  <tbody>\n",
              "    <tr>\n",
              "      <th>accuracy</th>\n",
              "      <td>86.24</td>\n",
              "      <td>0.35</td>\n",
              "    </tr>\n",
              "    <tr>\n",
              "      <th>balanced_accuracy</th>\n",
              "      <td>84.68</td>\n",
              "      <td>0.40</td>\n",
              "    </tr>\n",
              "    <tr>\n",
              "      <th>normalized_mutual_information</th>\n",
              "      <td>76.89</td>\n",
              "      <td>0.35</td>\n",
              "    </tr>\n",
              "    <tr>\n",
              "      <th>auc_tensorflow</th>\n",
              "      <td>89.96</td>\n",
              "      <td>1.70</td>\n",
              "    </tr>\n",
              "    <tr>\n",
              "      <th>auc_scikit_learn</th>\n",
              "      <td>98.57</td>\n",
              "      <td>0.03</td>\n",
              "    </tr>\n",
              "  </tbody>\n",
              "</table>\n",
              "</div>\n",
              "      <button class=\"colab-df-convert\" onclick=\"convertToInteractive('df-23ef2e02-0410-4298-b1ce-d9e6976d126f')\"\n",
              "              title=\"Convert this dataframe to an interactive table.\"\n",
              "              style=\"display:none;\">\n",
              "        \n",
              "  <svg xmlns=\"http://www.w3.org/2000/svg\" height=\"24px\"viewBox=\"0 0 24 24\"\n",
              "       width=\"24px\">\n",
              "    <path d=\"M0 0h24v24H0V0z\" fill=\"none\"/>\n",
              "    <path d=\"M18.56 5.44l.94 2.06.94-2.06 2.06-.94-2.06-.94-.94-2.06-.94 2.06-2.06.94zm-11 1L8.5 8.5l.94-2.06 2.06-.94-2.06-.94L8.5 2.5l-.94 2.06-2.06.94zm10 10l.94 2.06.94-2.06 2.06-.94-2.06-.94-.94-2.06-.94 2.06-2.06.94z\"/><path d=\"M17.41 7.96l-1.37-1.37c-.4-.4-.92-.59-1.43-.59-.52 0-1.04.2-1.43.59L10.3 9.45l-7.72 7.72c-.78.78-.78 2.05 0 2.83L4 21.41c.39.39.9.59 1.41.59.51 0 1.02-.2 1.41-.59l7.78-7.78 2.81-2.81c.8-.78.8-2.07 0-2.86zM5.41 20L4 18.59l7.72-7.72 1.47 1.35L5.41 20z\"/>\n",
              "  </svg>\n",
              "      </button>\n",
              "      \n",
              "  <style>\n",
              "    .colab-df-container {\n",
              "      display:flex;\n",
              "      flex-wrap:wrap;\n",
              "      gap: 12px;\n",
              "    }\n",
              "\n",
              "    .colab-df-convert {\n",
              "      background-color: #E8F0FE;\n",
              "      border: none;\n",
              "      border-radius: 50%;\n",
              "      cursor: pointer;\n",
              "      display: none;\n",
              "      fill: #1967D2;\n",
              "      height: 32px;\n",
              "      padding: 0 0 0 0;\n",
              "      width: 32px;\n",
              "    }\n",
              "\n",
              "    .colab-df-convert:hover {\n",
              "      background-color: #E2EBFA;\n",
              "      box-shadow: 0px 1px 2px rgba(60, 64, 67, 0.3), 0px 1px 3px 1px rgba(60, 64, 67, 0.15);\n",
              "      fill: #174EA6;\n",
              "    }\n",
              "\n",
              "    [theme=dark] .colab-df-convert {\n",
              "      background-color: #3B4455;\n",
              "      fill: #D2E3FC;\n",
              "    }\n",
              "\n",
              "    [theme=dark] .colab-df-convert:hover {\n",
              "      background-color: #434B5C;\n",
              "      box-shadow: 0px 1px 3px 1px rgba(0, 0, 0, 0.15);\n",
              "      filter: drop-shadow(0px 1px 2px rgba(0, 0, 0, 0.3));\n",
              "      fill: #FFFFFF;\n",
              "    }\n",
              "  </style>\n",
              "\n",
              "      <script>\n",
              "        const buttonEl =\n",
              "          document.querySelector('#df-23ef2e02-0410-4298-b1ce-d9e6976d126f button.colab-df-convert');\n",
              "        buttonEl.style.display =\n",
              "          google.colab.kernel.accessAllowed ? 'block' : 'none';\n",
              "\n",
              "        async function convertToInteractive(key) {\n",
              "          const element = document.querySelector('#df-23ef2e02-0410-4298-b1ce-d9e6976d126f');\n",
              "          const dataTable =\n",
              "            await google.colab.kernel.invokeFunction('convertToInteractive',\n",
              "                                                     [key], {});\n",
              "          if (!dataTable) return;\n",
              "\n",
              "          const docLinkHtml = 'Like what you see? Visit the ' +\n",
              "            '<a target=\"_blank\" href=https://colab.research.google.com/notebooks/data_table.ipynb>data table notebook</a>'\n",
              "            + ' to learn more about interactive tables.';\n",
              "          element.innerHTML = '';\n",
              "          dataTable['output_type'] = 'display_data';\n",
              "          await google.colab.output.renderOutput(dataTable, element);\n",
              "          const docLink = document.createElement('div');\n",
              "          docLink.innerHTML = docLinkHtml;\n",
              "          element.appendChild(docLink);\n",
              "        }\n",
              "      </script>\n",
              "    </div>\n",
              "  </div>\n",
              "  "
            ]
          },
          "metadata": {},
          "execution_count": 20
        }
      ],
      "id": "j5oR79xIvOJf"
    },
    {
      "cell_type": "code",
      "source": [
        "# Save the DataFrame to an excel file\n",
        "result_df.to_excel(database + custom_loss + \".xlsx\")"
      ],
      "metadata": {
        "id": "wrsupD_Qshl2"
      },
      "execution_count": 21,
      "outputs": [],
      "id": "wrsupD_Qshl2"
    }
  ],
  "metadata": {
    "kernelspec": {
      "display_name": "Python 3",
      "language": "python",
      "name": "python3"
    },
    "language_info": {
      "codemirror_mode": {
        "name": "ipython",
        "version": 3
      },
      "file_extension": ".py",
      "mimetype": "text/x-python",
      "name": "python",
      "nbconvert_exporter": "python",
      "pygments_lexer": "ipython3",
      "version": "3.7.12"
    },
    "papermill": {
      "default_parameters": {},
      "duration": 17624.184541,
      "end_time": "2022-10-25T21:23:41.892635",
      "environment_variables": {},
      "exception": null,
      "input_path": "__notebook__.ipynb",
      "output_path": "__notebook__.ipynb",
      "parameters": {},
      "start_time": "2022-10-25T16:29:57.708094",
      "version": "2.3.4"
    },
    "colab": {
      "provenance": [],
      "include_colab_link": true
    }
  },
  "nbformat": 4,
  "nbformat_minor": 5
}