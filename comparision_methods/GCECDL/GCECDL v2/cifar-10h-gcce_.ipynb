{
 "cells": [
  {
   "cell_type": "markdown",
   "id": "858c2cb4",
   "metadata": {
    "id": "9rK94t33nwDC",
    "papermill": {
     "duration": 0.006784,
     "end_time": "2023-02-15T06:37:02.046984",
     "exception": false,
     "start_time": "2023-02-15T06:37:02.040200",
     "status": "completed"
    },
    "tags": []
   },
   "source": [
    "## Imports"
   ]
  },
  {
   "cell_type": "code",
   "execution_count": 1,
   "id": "05aba6cb",
   "metadata": {
    "execution": {
     "iopub.execute_input": "2023-02-15T06:37:02.060418Z",
     "iopub.status.busy": "2023-02-15T06:37:02.059719Z",
     "iopub.status.idle": "2023-02-15T06:37:08.573471Z",
     "shell.execute_reply": "2023-02-15T06:37:08.572515Z"
    },
    "id": "zSyMHuCVys-O",
    "papermill": {
     "duration": 6.523724,
     "end_time": "2023-02-15T06:37:08.576391",
     "exception": false,
     "start_time": "2023-02-15T06:37:02.052667",
     "status": "completed"
    },
    "tags": []
   },
   "outputs": [],
   "source": [
    "import tensorflow_datasets as tfds\n",
    "import tensorflow as tf\n",
    "\n",
    "import keras\n",
    "from keras.models import Sequential,Model\n",
    "from keras.layers import Dense,Conv2D,Flatten,MaxPooling2D,GlobalAveragePooling2D\n",
    "from keras.utils.vis_utils import plot_model\n",
    "from tensorflow.keras import regularizers\n",
    "\n",
    "import numpy as np\n",
    "import matplotlib.pyplot as plt\n",
    "import scipy as sp\n",
    "import cv2\n",
    "import os\n",
    "import time\n",
    "import sys\n",
    "\n",
    "import tensorflow_datasets as tfds\n",
    "import tensorflow as tf\n",
    "\n",
    "import keras\n",
    "from keras.models import Sequential,Model\n",
    "from keras.layers import Dense,Conv2D,Flatten,MaxPooling2D,GlobalAveragePooling2D\n",
    "from keras.utils.vis_utils import plot_model\n",
    "import pandas as pd\n",
    "import pickle"
   ]
  },
  {
   "cell_type": "code",
   "execution_count": 2,
   "id": "563d1f5c",
   "metadata": {
    "execution": {
     "iopub.execute_input": "2023-02-15T06:37:08.588869Z",
     "iopub.status.busy": "2023-02-15T06:37:08.588358Z",
     "iopub.status.idle": "2023-02-15T06:37:09.220132Z",
     "shell.execute_reply": "2023-02-15T06:37:09.219200Z"
    },
    "id": "-E1MJt8cxlwg",
    "outputId": "ea43c1c9-075f-44de-d2d8-e135799b6630",
    "papermill": {
     "duration": 0.640582,
     "end_time": "2023-02-15T06:37:09.222608",
     "exception": false,
     "start_time": "2023-02-15T06:37:08.582026",
     "status": "completed"
    },
    "tags": []
   },
   "outputs": [],
   "source": [
    "from sklearn.metrics import classification_report, accuracy_score, balanced_accuracy_score, roc_auc_score, mutual_info_score, normalized_mutual_info_score, adjusted_mutual_info_score\n",
    "import tensorflow as tf\n",
    "import numpy as np\n",
    "from scipy.io import loadmat\n",
    "from sklearn.preprocessing import StandardScaler\n",
    "from scipy.io import savemat\n",
    "from sklearn.metrics import roc_auc_score\n",
    "from sklearn.preprocessing import LabelBinarizer\n",
    "from sklearn.preprocessing import OneHotEncoder\n",
    "from scipy.stats import mode \n",
    "import pandas as pd\n",
    "import matplotlib.pyplot as plt \n",
    "from sklearn.metrics import roc_auc_score\n",
    "from sklearn.decomposition import PCA\n",
    "\n",
    "def ook(t):\n",
    "  lb = LabelBinarizer()\n",
    "  y_ook = lb.fit_transform(t)  \n",
    "\n",
    "  if len(np.unique(t))==2:\n",
    "    y_ook = np.concatenate((1-y_ook.astype(bool), y_ook), axis = 1) \n",
    "\n",
    "  return y_ook\n",
    "\n",
    "\n",
    "def scheduler1(step = 10, ratio = 1.2):\n",
    "  def scheduler(epoch, lr):\n",
    "    if epoch % step == 0 and epoch>1:\n",
    "      return lr/ratio\n",
    "    else:\n",
    "      return lr\n",
    "  return scheduler\n",
    "\n",
    "\n",
    "\n",
    "\n",
    "def evaluation_metrics(y_true, y_pred, print_result=True):\n",
    "    acc = 0\n",
    "    auc = 0\n",
    "    auc_sk = 0\n",
    "    #mi = 0\n",
    "    nmi = 0\n",
    "    #ami = 0\n",
    "    bacc = 0\n",
    "    \n",
    "    # Accuracy\n",
    "    #report = classification_report(y_pred.argmax(axis=1), y_true.ravel(), output_dict=True)\n",
    "    acc = accuracy_score( y_true.ravel(), y_pred.argmax(axis=1))  #report['accuracy']\n",
    "    \n",
    "    # Balanced accuracy\n",
    "    bacc = balanced_accuracy_score(y_true.squeeze(), y_pred.argmax(axis=1).squeeze(), adjusted=True)\n",
    "    \n",
    "   # # Mutual Information\n",
    "   # mi = mutual_info_score(y_true.squeeze(), y_pred.argmax(axis=1).squeeze())\n",
    "    \n",
    "    # Normalized Mutual Information\n",
    "    nmi = normalized_mutual_info_score(y_true.squeeze(), y_pred.argmax(axis=1).squeeze())\n",
    "    \n",
    "    # Adjusted Mutual Information\n",
    "    #ami = adjusted_mutual_info_score(y_true.squeeze(), y_pred.argmax(axis=1).squeeze())\n",
    "    \n",
    "    # AUC (Tensorflow)\n",
    "    auc_metric = tf.keras.metrics.AUC(from_logits=True)\n",
    "    auc_metric.update_state(y_true, y_pred.argmax(axis=1).astype('float'))\n",
    "    auc = auc_metric.result().numpy()\n",
    "    auc_metric.reset_states()\n",
    "    \n",
    "    # AUC (scikit-learn)\n",
    "    auc_sk = roc_auc_score(ook(y_true), y_pred)\n",
    "    \n",
    "    if print_result:\n",
    "        print(\"Accuracy: {:.4f}\".format(acc))\n",
    "        print(\"Balanced Accuracy: {:.4f}\".format(bacc))\n",
    "        print(\"Mutual Information: {:.4f}\".format(mi))\n",
    "        print(\"Normalized Mutual Information: {:.4f}\".format(nmi))\n",
    "        print(\"Adjusted Mutual Information: {:.4f}\".format(ami))\n",
    "        print(\"AUC (Tensorflow): {:.4f}\".format(auc))\n",
    "        print(\"AUC (scikit-learn): {:.4f}\".format(auc_sk))\n",
    "    \n",
    "    return acc, auc, auc_sk, nmi, bacc   # mi, , ami\n"
   ]
  },
  {
   "cell_type": "markdown",
   "id": "4bdaf77d",
   "metadata": {
    "id": "Gw6K2Uey06kh",
    "papermill": {
     "duration": 0.005086,
     "end_time": "2023-02-15T06:37:09.233148",
     "exception": false,
     "start_time": "2023-02-15T06:37:09.228062",
     "status": "completed"
    },
    "tags": []
   },
   "source": [
    "# Multiple annotators model"
   ]
  },
  {
   "cell_type": "code",
   "execution_count": 3,
   "id": "f9f9f209",
   "metadata": {
    "execution": {
     "iopub.execute_input": "2023-02-15T06:37:09.245155Z",
     "iopub.status.busy": "2023-02-15T06:37:09.244859Z",
     "iopub.status.idle": "2023-02-15T06:37:15.962164Z",
     "shell.execute_reply": "2023-02-15T06:37:15.961032Z"
    },
    "id": "xam4REp209Sd",
    "papermill": {
     "duration": 6.725862,
     "end_time": "2023-02-15T06:37:15.964473",
     "exception": false,
     "start_time": "2023-02-15T06:37:09.238611",
     "status": "completed"
    },
    "tags": []
   },
   "outputs": [
    {
     "name": "stdout",
     "output_type": "stream",
     "text": [
      "--2023-02-15 06:37:11--  https://docs.google.com/uc?export=download&confirm=t&id=1zIcnmybob9XUBExCXzhCvqKkVgg4Qw5L\r\n",
      "Resolving docs.google.com (docs.google.com)... 142.251.107.101, 142.251.107.138, 142.251.107.113, ...\r\n",
      "Connecting to docs.google.com (docs.google.com)|142.251.107.101|:443... connected.\r\n",
      "HTTP request sent, awaiting response... 303 See Other\r\n",
      "Location: https://doc-08-90-docs.googleusercontent.com/docs/securesc/ha0ro937gcuc7l7deffksulhg5h7mbp1/ls1h8g8q7j79ni6vg8kk2o8nvedpkq8t/1676442975000/07591141114418430227/*/1zIcnmybob9XUBExCXzhCvqKkVgg4Qw5L?e=download&uuid=6addc5d4-253f-4b86-bfd8-c387eeec9fd4 [following]\r\n",
      "Warning: wildcards not supported in HTTP.\r\n",
      "--2023-02-15 06:37:11--  https://doc-08-90-docs.googleusercontent.com/docs/securesc/ha0ro937gcuc7l7deffksulhg5h7mbp1/ls1h8g8q7j79ni6vg8kk2o8nvedpkq8t/1676442975000/07591141114418430227/*/1zIcnmybob9XUBExCXzhCvqKkVgg4Qw5L?e=download&uuid=6addc5d4-253f-4b86-bfd8-c387eeec9fd4\r\n",
      "Resolving doc-08-90-docs.googleusercontent.com (doc-08-90-docs.googleusercontent.com)... 74.125.31.132, 2607:f8b0:400c:c02::84\r\n",
      "Connecting to doc-08-90-docs.googleusercontent.com (doc-08-90-docs.googleusercontent.com)|74.125.31.132|:443... connected.\r\n",
      "HTTP request sent, awaiting response... 200 OK\r\n",
      "Length: 68469211 (65M) [application/zip]\r\n",
      "Saving to: ‘Cifar-10H.zip’\r\n",
      "\r\n",
      "Cifar-10H.zip       100%[===================>]  65.30M  71.0MB/s    in 0.9s    \r\n",
      "\r\n",
      "2023-02-15 06:37:12 (71.0 MB/s) - ‘Cifar-10H.zip’ saved [68469211/68469211]\r\n",
      "\r\n",
      "Archive:  Cifar-10H.zip\r\n",
      "  inflating: Cifar-10H/DataProcessing.ipynb  \r\n",
      "  inflating: Cifar-10H/batches.meta  \r\n",
      "  inflating: Cifar-10H/Answers_Processed.csv  \r\n",
      "  inflating: Cifar-10H/data_batch_1  \r\n",
      "  inflating: Cifar-10H/cifar10h-raw.csv  \r\n",
      "  inflating: Cifar-10H/test_batch    \r\n",
      "Cifar-10H  Cifar-10H.zip  __notebook__.ipynb\r\n"
     ]
    }
   ],
   "source": [
    "#cargar datos desde drive acceso libre \n",
    "FILEID = \"1zIcnmybob9XUBExCXzhCvqKkVgg4Qw5L\"\n",
    "#https://drive.google.com/file/d/1SQnWXGROG2Xexs5vn3twuv7SqiWG5njW/view?usp=sharing\n",
    "!wget --load-cookies /tmp/cookies.txt \"https://docs.google.com/uc?export=download&confirm=$(wget --quiet --save-cookies /tmp/cookies.txt --keep-session-cookies --no-check-certificate 'https://docs.google.com/uc?export=download&id='$FILEID -O- | sed -rn 's/.*confirm=([0-9A-Za-z_]+).*/\\1\\n/p')&id=\"$FILEID -O Cifar-10H.zip && rm -rf /tmp/cookies.txt\n",
    "!unzip -o Cifar-10H.zip\n",
    "!dir"
   ]
  },
  {
   "cell_type": "code",
   "execution_count": 4,
   "id": "cdb834bd",
   "metadata": {
    "execution": {
     "iopub.execute_input": "2023-02-15T06:37:15.979020Z",
     "iopub.status.busy": "2023-02-15T06:37:15.978058Z",
     "iopub.status.idle": "2023-02-15T06:37:15.983154Z",
     "shell.execute_reply": "2023-02-15T06:37:15.982319Z"
    },
    "id": "D_S0EJ3mFdfK",
    "outputId": "9ed3c2c7-50b4-4445-a01e-c9a3d780c403",
    "papermill": {
     "duration": 0.014396,
     "end_time": "2023-02-15T06:37:15.985268",
     "exception": false,
     "start_time": "2023-02-15T06:37:15.970872",
     "status": "completed"
    },
    "tags": []
   },
   "outputs": [],
   "source": [
    "Data_dir = '/kaggle/working/Cifar-10H/test_batch'\n",
    "labels_dir = '/kaggle/working/Cifar-10H/Answers_Processed.csv'"
   ]
  },
  {
   "cell_type": "code",
   "execution_count": 5,
   "id": "258b6b9d",
   "metadata": {
    "execution": {
     "iopub.execute_input": "2023-02-15T06:37:15.998750Z",
     "iopub.status.busy": "2023-02-15T06:37:15.997965Z",
     "iopub.status.idle": "2023-02-15T06:37:16.003822Z",
     "shell.execute_reply": "2023-02-15T06:37:16.002731Z"
    },
    "papermill": {
     "duration": 0.014886,
     "end_time": "2023-02-15T06:37:16.005925",
     "exception": false,
     "start_time": "2023-02-15T06:37:15.991039",
     "status": "completed"
    },
    "tags": []
   },
   "outputs": [],
   "source": [
    "def unpickle(file):\n",
    "    with open(file, 'rb') as fo:\n",
    "        dict = pickle.load(fo, encoding='bytes')\n",
    "    return dict"
   ]
  },
  {
   "cell_type": "code",
   "execution_count": 6,
   "id": "13fd1c26",
   "metadata": {
    "execution": {
     "iopub.execute_input": "2023-02-15T06:37:16.021242Z",
     "iopub.status.busy": "2023-02-15T06:37:16.020429Z",
     "iopub.status.idle": "2023-02-15T06:37:16.030194Z",
     "shell.execute_reply": "2023-02-15T06:37:16.027735Z"
    },
    "papermill": {
     "duration": 0.021992,
     "end_time": "2023-02-15T06:37:16.033652",
     "exception": false,
     "start_time": "2023-02-15T06:37:16.011660",
     "status": "completed"
    },
    "tags": []
   },
   "outputs": [],
   "source": [
    "def arr_to_im(X):\n",
    "  N = X.shape[0]\n",
    "  X_tr = np.zeros((N,32,32,3))\n",
    "  for i,x in enumerate(X):\n",
    "    aux = x.reshape(3,32,32)/255\n",
    "    aux = aux.transpose(1,2,0)\n",
    "    X_tr[i,:] = cv2.resize(aux, (32,32))\n",
    "  return X_tr"
   ]
  },
  {
   "cell_type": "code",
   "execution_count": 7,
   "id": "fb3e03db",
   "metadata": {
    "execution": {
     "iopub.execute_input": "2023-02-15T06:37:16.075448Z",
     "iopub.status.busy": "2023-02-15T06:37:16.074957Z",
     "iopub.status.idle": "2023-02-15T06:37:16.335949Z",
     "shell.execute_reply": "2023-02-15T06:37:16.334862Z"
    },
    "id": "opk5MXl4IwjC",
    "papermill": {
     "duration": 0.283252,
     "end_time": "2023-02-15T06:37:16.338831",
     "exception": false,
     "start_time": "2023-02-15T06:37:16.055579",
     "status": "completed"
    },
    "tags": []
   },
   "outputs": [],
   "source": [
    "X = unpickle(Data_dir)[b'data']\n",
    "Label = pd.read_csv(labels_dir, header=None)\n",
    "Label = Label.to_numpy()\n",
    "Y = Label[:,:-1]\n",
    "y = Label[:,-1][:,np.newaxis]\n",
    "N, R = Y.shape\n",
    "K = len(np.unique(y))\n",
    "# y = Label[:,np.newaxis]"
   ]
  },
  {
   "cell_type": "code",
   "execution_count": 8,
   "id": "f535a6ba",
   "metadata": {
    "execution": {
     "iopub.execute_input": "2023-02-15T06:37:16.352569Z",
     "iopub.status.busy": "2023-02-15T06:37:16.352266Z",
     "iopub.status.idle": "2023-02-15T06:37:16.726284Z",
     "shell.execute_reply": "2023-02-15T06:37:16.725255Z"
    },
    "id": "-BydcVOQxcVh",
    "outputId": "8c1b4ed2-7c43-4675-f055-f9e4e3f5b3dd",
    "papermill": {
     "duration": 0.383477,
     "end_time": "2023-02-15T06:37:16.728890",
     "exception": false,
     "start_time": "2023-02-15T06:37:16.345413",
     "status": "completed"
    },
    "tags": []
   },
   "outputs": [],
   "source": [
    "# Se eliminan las muestras que no fueron etiquetadas por ningun anotador\n",
    "idx_ = np.sum(Y,axis=1) != R*(-999)\n",
    "X = X[idx_,:]\n",
    "Y = Y[idx_,:]\n",
    "N, R = Y.shape\n",
    "y = y[idx_,:]\n",
    "X = arr_to_im(X)"
   ]
  },
  {
   "cell_type": "markdown",
   "id": "11d791fa",
   "metadata": {
    "papermill": {
     "duration": 0.005743,
     "end_time": "2023-02-15T06:37:16.741213",
     "exception": false,
     "start_time": "2023-02-15T06:37:16.735470",
     "status": "completed"
    },
    "tags": []
   },
   "source": [
    "## Test data"
   ]
  },
  {
   "cell_type": "code",
   "execution_count": 9,
   "id": "77d50fc9",
   "metadata": {
    "execution": {
     "iopub.execute_input": "2023-02-15T06:37:16.754161Z",
     "iopub.status.busy": "2023-02-15T06:37:16.753847Z",
     "iopub.status.idle": "2023-02-15T06:37:16.758642Z",
     "shell.execute_reply": "2023-02-15T06:37:16.757627Z"
    },
    "papermill": {
     "duration": 0.013553,
     "end_time": "2023-02-15T06:37:16.760631",
     "exception": false,
     "start_time": "2023-02-15T06:37:16.747078",
     "status": "completed"
    },
    "tags": []
   },
   "outputs": [],
   "source": [
    "Test_dir = '/kaggle/working/Cifar-10H/data_batch_1'"
   ]
  },
  {
   "cell_type": "code",
   "execution_count": 10,
   "id": "6c4c3a49",
   "metadata": {
    "execution": {
     "iopub.execute_input": "2023-02-15T06:37:16.774123Z",
     "iopub.status.busy": "2023-02-15T06:37:16.773852Z",
     "iopub.status.idle": "2023-02-15T06:37:17.234395Z",
     "shell.execute_reply": "2023-02-15T06:37:17.233363Z"
    },
    "papermill": {
     "duration": 0.469434,
     "end_time": "2023-02-15T06:37:17.236732",
     "exception": false,
     "start_time": "2023-02-15T06:37:16.767298",
     "status": "completed"
    },
    "tags": []
   },
   "outputs": [],
   "source": [
    "X_te = unpickle(Test_dir)[b'data']\n",
    "X_te = arr_to_im(X_te)\n",
    "y_te = np.array(unpickle(Test_dir)[b'labels'])[:,np.newaxis]"
   ]
  },
  {
   "cell_type": "code",
   "execution_count": 11,
   "id": "efb4b9ca",
   "metadata": {
    "execution": {
     "iopub.execute_input": "2023-02-15T06:37:17.251083Z",
     "iopub.status.busy": "2023-02-15T06:37:17.250126Z",
     "iopub.status.idle": "2023-02-15T06:37:20.591224Z",
     "shell.execute_reply": "2023-02-15T06:37:20.590180Z"
    },
    "papermill": {
     "duration": 3.35118,
     "end_time": "2023-02-15T06:37:20.594270",
     "exception": false,
     "start_time": "2023-02-15T06:37:17.243090",
     "status": "completed"
    },
    "tags": []
   },
   "outputs": [
    {
     "name": "stderr",
     "output_type": "stream",
     "text": [
      "2023-02-15 06:37:17.325900: I tensorflow/stream_executor/cuda/cuda_gpu_executor.cc:937] successful NUMA node read from SysFS had negative value (-1), but there must be at least one NUMA node, so returning NUMA node zero\n",
      "2023-02-15 06:37:17.493430: I tensorflow/stream_executor/cuda/cuda_gpu_executor.cc:937] successful NUMA node read from SysFS had negative value (-1), but there must be at least one NUMA node, so returning NUMA node zero\n",
      "2023-02-15 06:37:17.494293: I tensorflow/stream_executor/cuda/cuda_gpu_executor.cc:937] successful NUMA node read from SysFS had negative value (-1), but there must be at least one NUMA node, so returning NUMA node zero\n",
      "2023-02-15 06:37:17.497116: I tensorflow/core/platform/cpu_feature_guard.cc:142] This TensorFlow binary is optimized with oneAPI Deep Neural Network Library (oneDNN) to use the following CPU instructions in performance-critical operations:  AVX2 AVX512F FMA\n",
      "To enable them in other operations, rebuild TensorFlow with the appropriate compiler flags.\n",
      "2023-02-15 06:37:17.497462: I tensorflow/stream_executor/cuda/cuda_gpu_executor.cc:937] successful NUMA node read from SysFS had negative value (-1), but there must be at least one NUMA node, so returning NUMA node zero\n",
      "2023-02-15 06:37:17.498197: I tensorflow/stream_executor/cuda/cuda_gpu_executor.cc:937] successful NUMA node read from SysFS had negative value (-1), but there must be at least one NUMA node, so returning NUMA node zero\n",
      "2023-02-15 06:37:17.498853: I tensorflow/stream_executor/cuda/cuda_gpu_executor.cc:937] successful NUMA node read from SysFS had negative value (-1), but there must be at least one NUMA node, so returning NUMA node zero\n",
      "2023-02-15 06:37:19.744215: I tensorflow/stream_executor/cuda/cuda_gpu_executor.cc:937] successful NUMA node read from SysFS had negative value (-1), but there must be at least one NUMA node, so returning NUMA node zero\n",
      "2023-02-15 06:37:19.745127: I tensorflow/stream_executor/cuda/cuda_gpu_executor.cc:937] successful NUMA node read from SysFS had negative value (-1), but there must be at least one NUMA node, so returning NUMA node zero\n",
      "2023-02-15 06:37:19.745860: I tensorflow/stream_executor/cuda/cuda_gpu_executor.cc:937] successful NUMA node read from SysFS had negative value (-1), but there must be at least one NUMA node, so returning NUMA node zero\n",
      "2023-02-15 06:37:19.746460: I tensorflow/core/common_runtime/gpu/gpu_device.cc:1510] Created device /job:localhost/replica:0/task:0/device:GPU:0 with 15401 MB memory:  -> device: 0, name: Tesla P100-PCIE-16GB, pci bus id: 0000:00:04.0, compute capability: 6.0\n"
     ]
    }
   ],
   "source": [
    "train_batchesMA = tf.data.Dataset.from_tensor_slices((X,y, Y))\n",
    "train_batchesMA = train_batchesMA.shuffle(1024).batch(64)"
   ]
  },
  {
   "cell_type": "code",
   "execution_count": 12,
   "id": "1f7385c3",
   "metadata": {
    "execution": {
     "iopub.execute_input": "2023-02-15T06:37:20.609514Z",
     "iopub.status.busy": "2023-02-15T06:37:20.609160Z",
     "iopub.status.idle": "2023-02-15T06:37:22.151170Z",
     "shell.execute_reply": "2023-02-15T06:37:22.150185Z"
    },
    "papermill": {
     "duration": 1.552456,
     "end_time": "2023-02-15T06:37:22.153578",
     "exception": false,
     "start_time": "2023-02-15T06:37:20.601122",
     "status": "completed"
    },
    "tags": []
   },
   "outputs": [],
   "source": [
    "# -*- coding: utf-8 -*-\n",
    "import tensorflow as tf\n",
    "import matplotlib.pyplot as plt\n",
    "#from tensorflow.keras.wrappers.scikit_learn import KerasClassifier\n",
    "import tensorflow_probability as tfp\n",
    "from tensorflow.keras import regularizers\n",
    "from sklearn.base import  BaseEstimator, TransformerMixin, ClassifierMixin\n",
    "from sklearn.model_selection import train_test_split\n",
    "tf.keras.backend.clear_session()\n",
    "#tf.random.set_seed(42)\n",
    "import types\n",
    "import tempfile\n",
    "class Keras_MA_RCDNN(): #transformer no va\n",
    " #Constructor __init__. Special method: identified by a double underscore at either side of their name\n",
    " #work in the background\n",
    " # initialize data members to the object. lets the class initialize the object’s attributes and serves no other purpose.\n",
    "    def __init__(self,epochs=100,batch_size=30,R=5, K=2, dropout=0.5, learning_rate=1e-3,optimizer='Adam', \n",
    "                  l1_param=0, validation_split=0.3, verbose=1, q = 0.1):\n",
    "        self.epochs=epochs\n",
    "        self.dropout=dropout\n",
    "        self.batch_size = batch_size\n",
    "        self.learning_rate=learning_rate \n",
    "        self.l1_param=l1_param \n",
    "        self.l2_param=l1_param\n",
    "        self.validation_split = validation_split\n",
    "        self.verbose = verbose\n",
    "        self.optimizer = optimizer\n",
    "        self.R=R\n",
    "        self.K=K\n",
    "        self.q = q\n",
    "\n",
    "    \n",
    " \n",
    "    def custom_RCDNN_loss(self, y_true, y_pred):  #ytrue \\in N x R,  ypred \\in N x (R+K) -> PRI->JULI\n",
    "    \n",
    "        #Input ytrue: samples (N) x  annotators (R) \n",
    "        #Input ypred: samples (N) x  annotators+classes (R+K) \n",
    "\n",
    "        #Ground truth estimation samples (N) x  Classes(K)\n",
    "        pred = y_pred[:,self.R:]\n",
    "        pred = tf.clip_by_value(pred, clip_value_min=1e-9, clip_value_max=1-1e-9) #estabilidad numerica de la funcion de costo\n",
    "        # Annotators reliability prediction: samples (N) x  annotators (R)\n",
    "        ann_ = y_pred[:,:self.R]\n",
    "        #Y_true 1-K: samples (N) x  Classes(1-K), annotators (R)\n",
    "        Y_true = tf.one_hot(tf.cast(y_true, dtype=tf.int32), depth=self.K, axis=1)\n",
    "        #Y_pred 1 - K: samples (N) x  Classes(1-K), annotators (R)\n",
    "        Y_hat = tf.repeat(tf.expand_dims(pred,-1), self.R, axis = -1)\n",
    "        #loss computation\n",
    "        p_logreg = tf.math.reduce_prod(tf.math.pow(Y_hat, Y_true), axis=1)\n",
    "        temp1 = ann_*tf.math.log(p_logreg)  \n",
    "        temp2 = (1 - ann_)*tf.math.log(1/self.K)*tf.reduce_sum(Y_true,axis=1)\n",
    "        # temp2 = (tf.ones(tf.shape(ann_)) - ann_)*tf.math.log(1/K)\n",
    "        # print(tf.reduce_mean(Y_true,axis=1).numpy())\n",
    "        return -tf.math.reduce_sum((temp1 + temp2))\n",
    "\n",
    "        \n",
    "    def GCCE_MA_loss(self, y_true, y_pred):\n",
    "        # print(y_true,y_pred)\n",
    "       # q = 0.1\n",
    "        pred = y_pred[:, self.R:]\n",
    "        pred = tf.clip_by_value(pred, clip_value_min=1e-9, clip_value_max=1)\n",
    "        ann_ = y_pred[:, :self.R]\n",
    "        # ann_ = tf.clip_by_value(ann_, clip_value_min=1e-9, clip_value_max=1-1e-9)\n",
    "        Y_true = tf.one_hot(tf.cast(y_true, dtype=tf.int32), depth=self.K, axis=1)\n",
    "        Y_hat = tf.repeat(tf.expand_dims(pred,-1), self.R, axis = -1)\n",
    "\n",
    "        p_gcce = Y_true*(1 - Y_hat**self.q)/self.q\n",
    "        temp1 = ann_*tf.math.reduce_sum(p_gcce, axis=1)\n",
    "\n",
    "        # p_logreg = tf.math.reduce_prod(tf.math.pow(Y_hat, Y_true), axis=1)\n",
    "        # temp1 = ann_*tf.math.log(p_logreg)  \n",
    "        # temp2 = (1 - ann_)*tf.math.log(1/K)*tf.reduce_sum(Y_true,axis=1)\n",
    "        # aux = tf.repeat(tf.reduce_sum(pred*tf.math.log(pred),axis=1,keepdims=True), R, axis = 1)\n",
    "        # tf.print(tf.shape(aux))\n",
    "        # print(tf.shape(aux))\n",
    "        # temp2 = (1 - ann_)*aux*tf.reduce_sum(Y_true,axis=1)\n",
    "        # temp2 = (tf.ones(tf.shape(ann_)) - ann_)*tf.math.log(1/K)\n",
    "        # print(tf.reduce_mean(Y_true,axis=1).numpy())\n",
    "        # Y_true_1 = tf.clip_by_value(Y_true, clip_value_min=1e-9, clip_value_max=1)\n",
    "        # p_logreg_inv = tf.math.reduce_prod(tf.math.pow(Y_true_1, Y_hat), axis=1)\n",
    "        # temp2 = (1 - ann_)*tf.math.log(p_logreg_inv) \n",
    "        temp2 = (1 - ann_)*(1-(1/self.K)**self.q)/self.q*tf.reduce_sum(Y_true,axis=1)\n",
    "        return tf.math.reduce_sum((temp1 + temp2))\n",
    "\n",
    " \n",
    "    def PRI_MA_loss(self, y_true, y_pred): #,  -> PRI\n",
    "        #Input ytrue: samples (N) x  annotators (R) \n",
    "        #Input ypred: samples (N) x  annotators+classes (R+K) \n",
    "        #PRI MA\n",
    "        cce_M = tf.keras.losses.CategoricalCrossentropy(reduction='none',axis=-1)\n",
    "        cce_C = tf.keras.losses.CategoricalCrossentropy(reduction='none',axis=1)\n",
    "\n",
    "      \n",
    "\n",
    "        #N = tf.cast(y_true.shape[0],dtype=tf.int32)\n",
    "        N = tf.shape(y_true)[0]\n",
    "        #Ground truth estimation samples (N) x  Classes(K)\n",
    "        y_pred_tf = y_pred[:,self.R:] \n",
    "        # Annotators reliability prediction: samples (N) x  annotators (R)\n",
    "        lambda_R_tf = y_pred[:,:self.R] #tf.ones(shape=(N,R)) \n",
    "        #Y_true 1 K: samples (N) x  Classes(1-K), annotators (R)\n",
    "        Y_true_1K = tf.one_hot(tf.cast(y_true,dtype=tf.int32),depth=self.K,axis=1)  \n",
    "        #Y_pred 1 - K: samples (N) x  Classes(1-K), annotators (R)\n",
    "        Y_hat = tf.repeat(tf.expand_dims(y_pred_tf,-1), self.R, axis = -1) \n",
    "        #marginal entropy\n",
    "        #cce along the K classes -> ypred_tf\n",
    "        Hm_ = cce_M(y_pred_tf,y_pred_tf)\n",
    "        #cross entropy\n",
    "        #cce along the K classes -> Y_hat\n",
    "        Hc_ = cce_C(Y_true_1K,Y_hat)\n",
    "        #PRI MA computation\n",
    "        LH = tf.linalg.matmul(lambda_R_tf,Hc_,transpose_a=True) # \\Lambda^\\top H_c\n",
    "        temp1 = tf.linalg.trace(LH) #trace(LH)\n",
    "        Hm1L = tf.linalg.matmul(tf.ones(shape=(N,self.R))-lambda_R_tf,tf.ones(shape=(self.R,1)))# 1_N 1_R^\\top - Lambda\n",
    "        Hm_t = tf.reshape(Hm_,shape=(N,1))\n",
    "        temp2 = tf.squeeze(tf.linalg.matmul(Hm_t,Hm1L,transpose_a=True)) # Hm^\\top Hm1L\n",
    "        loss_c = temp1+ temp2 #return loss\n",
    "\n",
    "        return loss_c\n",
    "\n",
    " \n",
    "    def fit(self, X, Y):\n",
    "        #input X numpy array first dimension samples (N)x features (P)\n",
    "        #input Y numpy array vector len = samples (N) x  annotators (R)\n",
    "        P = X.shape[1]\n",
    "        if self.optimizer == \"Adam\":\n",
    "            opt = tf.keras.optimizers.Adam(learning_rate=self.learning_rate, clipnorm=1.0)\n",
    "        elif self.optimizer == \"SGD\":\n",
    "            opt = tf.keras.optimizers.SGD(learning_rate=self.learning_rate, clipnorm=1.0)\n",
    "        else:\n",
    "            opt=self.optimizer\n",
    "         \n",
    "        num_filters2 =32\n",
    "        # Block 1\n",
    "        input_l = tf.keras.layers.Input(shape=(32, 32, 3), name='entrada')\n",
    "        x = keras.layers.Conv2D(num_filters2, (3, 3), activation=\"relu\" , kernel_regularizer=tf.keras.regularizers.l1_l2(l1=self.l1_param, l2= self.l1_param),\n",
    "                            name=\"block1_conv1\")(input_l)\n",
    "        x = keras.layers.BatchNormalization()(x)\n",
    "        x = keras.layers.Conv2D(num_filters2, (3, 3), activation=\"relu\" , kernel_regularizer=tf.keras.regularizers.l1_l2(l1=self.l1_param, l2= self.l1_param),\n",
    "                            name=\"block1_conv2\")(x)\n",
    "        x = keras.layers.BatchNormalization()(x)\n",
    "        x = keras.layers.MaxPooling2D((2, 2),  name=\"block1_pool\")(x)\n",
    "        x = keras.layers.Dropout(self.dropout)(x)\n",
    "\n",
    "#         x = tf.keras.layers.Conv2D(32, (3, 3), activation=\"relu\" , name=\"block1_conv1\")(input_l)\n",
    "#         x = tf.keras.layers.BatchNormalization()(x)\n",
    "        # x = tf.keras.layers.MaxPooling2D((2, 2), strides=(2, 2), name=\"block1_pool\")(x)\n",
    "\n",
    "\n",
    "\n",
    "        # Block 2\n",
    "        #x = keras.layers.BatchNormalization()(x)\n",
    "        x = keras.layers.Conv2D(num_filters2*2, (3, 3), activation=\"relu\", \n",
    "                                kernel_regularizer=tf.keras.regularizers.l1_l2(l1=self.l1_param, l2= self.l1_param), name=\"block2_conv1\")(x)\n",
    "        x = keras.layers.BatchNormalization()(x)\n",
    "        x = keras.layers.Conv2D(num_filters2*2, (3, 3), activation=\"relu\", \n",
    "                                kernel_regularizer=tf.keras.regularizers.l1_l2(l1=self.l1_param, l2= self.l1_param), name=\"block2_conv2\")(x)\n",
    "        x = keras.layers.BatchNormalization()(x)\n",
    "        x = keras.layers.MaxPooling2D((2, 2),  name=\"block2_pool\")(x)\n",
    "        x = keras.layers.Dropout(self.dropout)(x)\n",
    "\n",
    "\n",
    "         # Block 3\n",
    "        #x = keras.layers.BatchNormalization()(x)\n",
    "        x = keras.layers.Conv2D(num_filters2*4, (3, 3), activation=\"relu\", \n",
    "                                kernel_regularizer= tf.keras.regularizers.l1_l2(l1=self.l1_param, l2= self.l1_param), name=\"block3_conv1\")(x)\n",
    "        x = keras.layers.BatchNormalization()(x)\n",
    "        x = keras.layers.Conv2D(num_filters2*4, (3, 3), activation=\"relu\", \n",
    "                                kernel_regularizer= tf.keras.regularizers.l1_l2(l1=self.l1_param, l2= self.l1_param), name=\"block3_conv2\")(x)\n",
    "        x = keras.layers.BatchNormalization()(x)\n",
    "        #x = keras.layers.MaxPooling2D((2, 2), name=\"block2_pool\")(x)\n",
    "        x = keras.layers.Dropout(self.dropout)(x)\n",
    "\n",
    "         \n",
    "        x = tf.keras.layers.Flatten()(x)\n",
    "        x = tf.keras.layers.BatchNormalization()(x)\n",
    "        x = tf.keras.layers.Dense(512,activation=\"relu\")(x)\n",
    "        x = tf.keras.layers.BatchNormalization()(x)\n",
    "        x = tf.keras.layers.Dropout(self.dropout)(x)\n",
    "        output_R = tf.keras.layers.Dense(self.R,activation=\"sigmoid\", \n",
    "                                    kernel_regularizer=tf.keras.regularizers.l1_l2(l1=self.l1_param,l2=self.l2_param), name= 'out_R_GCCE' )(x)\n",
    " \n",
    "        output_K = tf.keras.layers.Dense(self.K,activation=\"softmax\", \n",
    "                                    kernel_regularizer=tf.keras.regularizers.l1_l2(l1=self.l1_param,l2=self.l2_param), name= 'out_K_GCCE')(x)\n",
    " \n",
    "        output = tf.keras.layers.concatenate([output_R, output_K])\n",
    "        self.model = tf.keras.Model(inputs= input_l,outputs=output)\n",
    "        self.model.compile(loss=self.GCCE_MA_loss, optimizer=opt)\n",
    "        \n",
    " \n",
    "        self.history = self.model.fit(X, Y, epochs=self.epochs, validation_split=self.validation_split,   #\n",
    "                                      batch_size=self.batch_size,verbose=self.verbose)\n",
    " \n",
    "        return self\n",
    " \n",
    "  \n",
    "    \n",
    "    def predict(self, X, *_):\n",
    "       #input X numpy array first dimension samples (N)x features (P)\n",
    "      return  self.model.predict(X) \n",
    " \n",
    " \n",
    "\n",
    "    def fit_predict(self,X,y):\n",
    "        #input X numpy array first dimension samples (N)x features (P)\n",
    "        #input Y numpy array vector len = samples (N) x  annotators (R)\n",
    "        self.fit(X,y)\n",
    "        return self.predict(X)\n",
    "  \n",
    "     #graphics\n",
    "    def plot_history(self):\n",
    "        pd.DataFrame(self.history.history).plot(figsize=(8, 5))\n",
    "        plt.grid(True)\n",
    "        #plt.gca().set_ylim(0, 1)\n",
    "        #save_fig(\"keras_learning_curves_plot\")\n",
    "        plt.show()\n",
    "        return\n",
    "    \n",
    "    def set_params(self, **parameters):\n",
    "        for parameter, value in parameters.items():\n",
    "            setattr(self, parameter, value)\n",
    "\n",
    "        return self\n",
    "    \n",
    "    \n",
    "    \n",
    "    def get_params(self, deep=True):\n",
    "        return { 'l1_param':self.l1_param, 'dropout':self.dropout, 'optimizer':self.optimizer,\n",
    "                'learning_rate':self.learning_rate, 'batch_size':self.batch_size,\n",
    "                'epochs':self.epochs, 'verbose':self.verbose, 'validation_split':self.validation_split,\n",
    "                'R':self.R, 'K':self.K, 'q':self.q\n",
    "                }\n",
    "\n",
    "  \n",
    "        return self\n"
   ]
  },
  {
   "cell_type": "code",
   "execution_count": 13,
   "id": "784302f2",
   "metadata": {
    "execution": {
     "iopub.execute_input": "2023-02-15T06:37:22.167488Z",
     "iopub.status.busy": "2023-02-15T06:37:22.167183Z",
     "iopub.status.idle": "2023-02-15T06:37:23.049353Z",
     "shell.execute_reply": "2023-02-15T06:37:23.048337Z"
    },
    "papermill": {
     "duration": 0.891843,
     "end_time": "2023-02-15T06:37:23.051626",
     "exception": false,
     "start_time": "2023-02-15T06:37:22.159783",
     "status": "completed"
    },
    "tags": []
   },
   "outputs": [],
   "source": [
    "train_batches = tf.data.Dataset.from_tensor_slices((X,y))\n",
    "test_batches = tf.data.Dataset.from_tensor_slices((X_te,y_te))"
   ]
  },
  {
   "cell_type": "markdown",
   "id": "ed6b8ceb",
   "metadata": {
    "id": "9AgOHREc1bmd",
    "papermill": {
     "duration": 0.005884,
     "end_time": "2023-02-15T06:37:23.063801",
     "exception": false,
     "start_time": "2023-02-15T06:37:23.057917",
     "status": "completed"
    },
    "tags": []
   },
   "source": [
    "## Build the classifier from multiple annotators"
   ]
  },
  {
   "cell_type": "code",
   "execution_count": 14,
   "id": "b803a5cd",
   "metadata": {
    "execution": {
     "iopub.execute_input": "2023-02-15T06:37:23.076784Z",
     "iopub.status.busy": "2023-02-15T06:37:23.076494Z",
     "iopub.status.idle": "2023-02-15T06:37:23.084734Z",
     "shell.execute_reply": "2023-02-15T06:37:23.083795Z"
    },
    "papermill": {
     "duration": 0.017171,
     "end_time": "2023-02-15T06:37:23.086831",
     "exception": false,
     "start_time": "2023-02-15T06:37:23.069660",
     "status": "completed"
    },
    "tags": []
   },
   "outputs": [],
   "source": [
    "\n",
    "import tensorflow as tf\n",
    "import numpy as np\n",
    "from scipy.io import loadmat\n",
    "from sklearn.preprocessing import StandardScaler\n",
    "from scipy.io import savemat\n",
    "from sklearn.metrics import roc_auc_score\n",
    "from sklearn.preprocessing import LabelBinarizer\n",
    "from sklearn.preprocessing import OneHotEncoder\n",
    "from scipy.stats import mode \n",
    "import pandas as pd\n",
    "import matplotlib.pyplot as plt \n",
    "from sklearn.metrics import roc_auc_score\n",
    "from sklearn.decomposition import PCA\n",
    "\n",
    "def ook(t):\n",
    "  lb = LabelBinarizer()\n",
    "  y_ook = lb.fit_transform(t)  \n",
    "\n",
    "  if len(np.unique(t))==2:\n",
    "    y_ook = np.concatenate((1-y_ook.astype(bool), y_ook), axis = 1) \n",
    "\n",
    "  return y_ook\n",
    "\n",
    "\n",
    "def scheduler1(step = 10, ratio = 1.2):\n",
    "  def scheduler(epoch, lr):\n",
    "    if epoch % step == 0 and epoch>1:\n",
    "      return lr/ratio\n",
    "    else:\n",
    "      return lr\n",
    "  return scheduler"
   ]
  },
  {
   "cell_type": "code",
   "execution_count": 15,
   "id": "6f104e66",
   "metadata": {
    "execution": {
     "iopub.execute_input": "2023-02-15T06:37:23.100028Z",
     "iopub.status.busy": "2023-02-15T06:37:23.099742Z",
     "iopub.status.idle": "2023-02-15T06:53:03.343904Z",
     "shell.execute_reply": "2023-02-15T06:53:03.342865Z"
    },
    "papermill": {
     "duration": 940.253954,
     "end_time": "2023-02-15T06:53:03.346790",
     "exception": false,
     "start_time": "2023-02-15T06:37:23.092836",
     "status": "completed"
    },
    "tags": []
   },
   "outputs": [
    {
     "name": "stdout",
     "output_type": "stream",
     "text": [
      "iteration: 0\n"
     ]
    },
    {
     "name": "stderr",
     "output_type": "stream",
     "text": [
      "2023-02-15 06:37:23.641121: I tensorflow/compiler/mlir/mlir_graph_optimization_pass.cc:185] None of the MLIR Optimization Passes are enabled (registered 2)\n",
      "2023-02-15 06:37:27.228257: I tensorflow/stream_executor/cuda/cuda_dnn.cc:369] Loaded cuDNN version 8005\n"
     ]
    },
    {
     "data": {
      "image/png": "[encoded data removed]",
      "text/plain": [
       "<Figure size 576x360 with 1 Axes>"
      ]
     },
     "metadata": {
      "needs_background": "light"
     },
     "output_type": "display_data"
    },
    {
     "name": "stdout",
     "output_type": "stream",
     "text": [
      "iteration: 1\n"
     ]
    },
    {
     "data": {
      "image/png": "[encoded data removed]",
      "text/plain": [
       "<Figure size 576x360 with 1 Axes>"
      ]
     },
     "metadata": {
      "needs_background": "light"
     },
     "output_type": "display_data"
    },
    {
     "name": "stdout",
     "output_type": "stream",
     "text": [
      "iteration: 2\n"
     ]
    },
    {
     "data": {
      "image/png": "[encoded data removed]",
      "text/plain": [
       "<Figure size 576x360 with 1 Axes>"
      ]
     },
     "metadata": {
      "needs_background": "light"
     },
     "output_type": "display_data"
    },
    {
     "name": "stdout",
     "output_type": "stream",
     "text": [
      "iteration: 3\n"
     ]
    },
    {
     "data": {
      "image/png": "[encoded data removed]",
      "text/plain": [
       "<Figure size 576x360 with 1 Axes>"
      ]
     },
     "metadata": {
      "needs_background": "light"
     },
     "output_type": "display_data"
    },
    {
     "name": "stdout",
     "output_type": "stream",
     "text": [
      "iteration: 4\n"
     ]
    },
    {
     "data": {
      "image/png": "[encoded data removed]",
      "text/plain": [
       "<Figure size 576x360 with 1 Axes>"
      ]
     },
     "metadata": {
      "needs_background": "light"
     },
     "output_type": "display_data"
    },
    {
     "name": "stdout",
     "output_type": "stream",
     "text": [
      "iteration: 5\n"
     ]
    },
    {
     "data": {
      "image/png": "[encoded data removed]",
      "text/plain": [
       "<Figure size 576x360 with 1 Axes>"
      ]
     },
     "metadata": {
      "needs_background": "light"
     },
     "output_type": "display_data"
    },
    {
     "name": "stdout",
     "output_type": "stream",
     "text": [
      "iteration: 6\n"
     ]
    },
    {
     "data": {
      "image/png": "[encoded data removed]",
      "text/plain": [
       "<Figure size 576x360 with 1 Axes>"
      ]
     },
     "metadata": {
      "needs_background": "light"
     },
     "output_type": "display_data"
    },
    {
     "name": "stdout",
     "output_type": "stream",
     "text": [
      "iteration: 7\n"
     ]
    },
    {
     "data": {
      "image/png": "[encoded data removed]",
      "text/plain": [
       "<Figure size 576x360 with 1 Axes>"
      ]
     },
     "metadata": {
      "needs_background": "light"
     },
     "output_type": "display_data"
    },
    {
     "name": "stdout",
     "output_type": "stream",
     "text": [
      "iteration: 8\n"
     ]
    },
    {
     "data": {
      "image/png": "[encoded data removed]",
      "text/plain": [
       "<Figure size 576x360 with 1 Axes>"
      ]
     },
     "metadata": {
      "needs_background": "light"
     },
     "output_type": "display_data"
    },
    {
     "name": "stdout",
     "output_type": "stream",
     "text": [
      "iteration: 9\n"
     ]
    },
    {
     "data": {
      "image/png": "[encoded data removed]",
      "text/plain": [
       "<Figure size 576x360 with 1 Axes>"
      ]
     },
     "metadata": {
      "needs_background": "light"
     },
     "output_type": "display_data"
    }
   ],
   "source": [
    "from sklearn.metrics import classification_report, balanced_accuracy_score\n",
    "from sklearn.metrics import normalized_mutual_info_score, mutual_info_score, adjusted_mutual_info_score\n",
    "l1 =0.0001\n",
    "NUM_RUNS =10\n",
    "\n",
    "  \n",
    "results = []\n",
    "for i in range(NUM_RUNS):\n",
    "\n",
    "    print(\"iteration: \" + str(i))\n",
    "   \n",
    "    MA = Keras_MA_RCDNN(epochs=70,batch_size=64,R=Y.shape[1], K=len(np.unique(y)), dropout=0.5, learning_rate=0.001,optimizer='Adam', \n",
    "                l1_param=l1,  validation_split=0, verbose=0, q=0.01)\n",
    "\n",
    "   \n",
    "    MA.fit(X , Y )\n",
    "    MA.plot_history()\n",
    "    #MA.plot_history()\n",
    "  \n",
    "    # Generate the predictions for the current run\n",
    "    pred_2 = MA.predict(X_te)\n",
    "    Y_true_test = y_te\n",
    "     \n",
    "    acc, auc, auc_sk,  nmi,  bacc = evaluation_metrics(Y_true_test,  pred_2[:,Y.shape[1]:], print_result=False)  # mi, ami,\n",
    "    \n",
    "    # Save the results for the current run to the list of dictionaries\n",
    "    results.append({\n",
    "        #'run': i,\n",
    "        'accuracy': acc,\n",
    "        'balanced_accuracy': bacc,\n",
    "       # 'mutual_information': mi,\n",
    "        'normalized_mutual_information': nmi,\n",
    "     #   'adjusted_mutual_information': ami,\n",
    "        'auc_tensorflow': auc,\n",
    "        'auc_scikit_learn': auc_sk,\n",
    "    })\n",
    "    \n",
    "# Convert the list of dictionaries to a DataFrame\n",
    "df = np.round(pd.DataFrame(results)*100, 2)\n",
    "\n",
    "# Calculate the mean and standard deviation of each metric\n",
    "mean = np.round(df.mean(),2)\n",
    "std = np.round(df.std(),2)  \n"
   ]
  },
  {
   "cell_type": "code",
   "execution_count": 16,
   "id": "42380698",
   "metadata": {
    "execution": {
     "iopub.execute_input": "2023-02-15T06:53:03.369480Z",
     "iopub.status.busy": "2023-02-15T06:53:03.368713Z",
     "iopub.status.idle": "2023-02-15T06:53:03.386375Z",
     "shell.execute_reply": "2023-02-15T06:53:03.385506Z"
    },
    "papermill": {
     "duration": 0.031149,
     "end_time": "2023-02-15T06:53:03.388367",
     "exception": false,
     "start_time": "2023-02-15T06:53:03.357218",
     "status": "completed"
    },
    "tags": []
   },
   "outputs": [
    {
     "data": {
      "text/html": [
       "<div>\n",
       "<style scoped>\n",
       "    .dataframe tbody tr th:only-of-type {\n",
       "        vertical-align: middle;\n",
       "    }\n",
       "\n",
       "    .dataframe tbody tr th {\n",
       "        vertical-align: top;\n",
       "    }\n",
       "\n",
       "    .dataframe thead th {\n",
       "        text-align: right;\n",
       "    }\n",
       "</style>\n",
       "<table border=\"1\" class=\"dataframe\">\n",
       "  <thead>\n",
       "    <tr style=\"text-align: right;\">\n",
       "      <th></th>\n",
       "      <th>accuracy</th>\n",
       "      <th>balanced_accuracy</th>\n",
       "      <th>normalized_mutual_information</th>\n",
       "      <th>auc_tensorflow</th>\n",
       "      <th>auc_scikit_learn</th>\n",
       "    </tr>\n",
       "  </thead>\n",
       "  <tbody>\n",
       "    <tr>\n",
       "      <th>0</th>\n",
       "      <td>67.82</td>\n",
       "      <td>64.30</td>\n",
       "      <td>49.37</td>\n",
       "      <td>81.730003</td>\n",
       "      <td>94.72</td>\n",
       "    </tr>\n",
       "    <tr>\n",
       "      <th>1</th>\n",
       "      <td>70.05</td>\n",
       "      <td>66.82</td>\n",
       "      <td>51.45</td>\n",
       "      <td>82.040001</td>\n",
       "      <td>95.24</td>\n",
       "    </tr>\n",
       "    <tr>\n",
       "      <th>2</th>\n",
       "      <td>69.45</td>\n",
       "      <td>66.10</td>\n",
       "      <td>51.50</td>\n",
       "      <td>82.690002</td>\n",
       "      <td>95.06</td>\n",
       "    </tr>\n",
       "    <tr>\n",
       "      <th>3</th>\n",
       "      <td>69.72</td>\n",
       "      <td>66.47</td>\n",
       "      <td>51.84</td>\n",
       "      <td>80.639999</td>\n",
       "      <td>95.28</td>\n",
       "    </tr>\n",
       "    <tr>\n",
       "      <th>4</th>\n",
       "      <td>69.52</td>\n",
       "      <td>66.20</td>\n",
       "      <td>50.86</td>\n",
       "      <td>86.510002</td>\n",
       "      <td>94.93</td>\n",
       "    </tr>\n",
       "    <tr>\n",
       "      <th>5</th>\n",
       "      <td>69.62</td>\n",
       "      <td>66.31</td>\n",
       "      <td>50.87</td>\n",
       "      <td>83.709999</td>\n",
       "      <td>95.14</td>\n",
       "    </tr>\n",
       "    <tr>\n",
       "      <th>6</th>\n",
       "      <td>69.34</td>\n",
       "      <td>65.94</td>\n",
       "      <td>51.14</td>\n",
       "      <td>82.720001</td>\n",
       "      <td>95.02</td>\n",
       "    </tr>\n",
       "    <tr>\n",
       "      <th>7</th>\n",
       "      <td>69.15</td>\n",
       "      <td>65.85</td>\n",
       "      <td>50.98</td>\n",
       "      <td>82.750000</td>\n",
       "      <td>94.90</td>\n",
       "    </tr>\n",
       "    <tr>\n",
       "      <th>8</th>\n",
       "      <td>69.40</td>\n",
       "      <td>65.94</td>\n",
       "      <td>51.59</td>\n",
       "      <td>82.019997</td>\n",
       "      <td>95.11</td>\n",
       "    </tr>\n",
       "    <tr>\n",
       "      <th>9</th>\n",
       "      <td>68.32</td>\n",
       "      <td>64.85</td>\n",
       "      <td>49.88</td>\n",
       "      <td>81.980003</td>\n",
       "      <td>94.73</td>\n",
       "    </tr>\n",
       "  </tbody>\n",
       "</table>\n",
       "</div>"
      ],
      "text/plain": [
       "   accuracy  balanced_accuracy  normalized_mutual_information  auc_tensorflow  \\\n",
       "0     67.82              64.30                          49.37       81.730003   \n",
       "1     70.05              66.82                          51.45       82.040001   \n",
       "2     69.45              66.10                          51.50       82.690002   \n",
       "3     69.72              66.47                          51.84       80.639999   \n",
       "4     69.52              66.20                          50.86       86.510002   \n",
       "5     69.62              66.31                          50.87       83.709999   \n",
       "6     69.34              65.94                          51.14       82.720001   \n",
       "7     69.15              65.85                          50.98       82.750000   \n",
       "8     69.40              65.94                          51.59       82.019997   \n",
       "9     68.32              64.85                          49.88       81.980003   \n",
       "\n",
       "   auc_scikit_learn  \n",
       "0             94.72  \n",
       "1             95.24  \n",
       "2             95.06  \n",
       "3             95.28  \n",
       "4             94.93  \n",
       "5             95.14  \n",
       "6             95.02  \n",
       "7             94.90  \n",
       "8             95.11  \n",
       "9             94.73  "
      ]
     },
     "execution_count": 16,
     "metadata": {},
     "output_type": "execute_result"
    }
   ],
   "source": [
    "df"
   ]
  },
  {
   "cell_type": "code",
   "execution_count": 17,
   "id": "926a74d4",
   "metadata": {
    "execution": {
     "iopub.execute_input": "2023-02-15T06:53:03.410532Z",
     "iopub.status.busy": "2023-02-15T06:53:03.409556Z",
     "iopub.status.idle": "2023-02-15T06:53:03.417693Z",
     "shell.execute_reply": "2023-02-15T06:53:03.416785Z"
    },
    "papermill": {
     "duration": 0.021619,
     "end_time": "2023-02-15T06:53:03.419998",
     "exception": false,
     "start_time": "2023-02-15T06:53:03.398379",
     "status": "completed"
    },
    "tags": []
   },
   "outputs": [
    {
     "data": {
      "text/plain": [
       "accuracy                         69.24\n",
       "balanced_accuracy                65.88\n",
       "normalized_mutual_information    50.95\n",
       "auc_tensorflow                   82.68\n",
       "auc_scikit_learn                 95.01\n",
       "dtype: float64"
      ]
     },
     "execution_count": 17,
     "metadata": {},
     "output_type": "execute_result"
    }
   ],
   "source": [
    "mean"
   ]
  },
  {
   "cell_type": "code",
   "execution_count": 18,
   "id": "8aee08f9",
   "metadata": {
    "execution": {
     "iopub.execute_input": "2023-02-15T06:53:03.441805Z",
     "iopub.status.busy": "2023-02-15T06:53:03.441544Z",
     "iopub.status.idle": "2023-02-15T06:53:03.449448Z",
     "shell.execute_reply": "2023-02-15T06:53:03.448352Z"
    },
    "papermill": {
     "duration": 0.021374,
     "end_time": "2023-02-15T06:53:03.451716",
     "exception": false,
     "start_time": "2023-02-15T06:53:03.430342",
     "status": "completed"
    },
    "tags": []
   },
   "outputs": [
    {
     "data": {
      "text/plain": [
       "accuracy                         0.67\n",
       "balanced_accuracy                0.76\n",
       "normalized_mutual_information    0.78\n",
       "auc_tensorflow                   1.57\n",
       "auc_scikit_learn                 0.19\n",
       "dtype: float64"
      ]
     },
     "execution_count": 18,
     "metadata": {},
     "output_type": "execute_result"
    }
   ],
   "source": [
    "std"
   ]
  },
  {
   "cell_type": "code",
   "execution_count": 19,
   "id": "91699ead",
   "metadata": {
    "execution": {
     "iopub.execute_input": "2023-02-15T06:53:03.473004Z",
     "iopub.status.busy": "2023-02-15T06:53:03.472307Z",
     "iopub.status.idle": "2023-02-15T06:53:03.482869Z",
     "shell.execute_reply": "2023-02-15T06:53:03.481942Z"
    },
    "papermill": {
     "duration": 0.023326,
     "end_time": "2023-02-15T06:53:03.484887",
     "exception": false,
     "start_time": "2023-02-15T06:53:03.461561",
     "status": "completed"
    },
    "tags": []
   },
   "outputs": [
    {
     "data": {
      "text/html": [
       "<div>\n",
       "<style scoped>\n",
       "    .dataframe tbody tr th:only-of-type {\n",
       "        vertical-align: middle;\n",
       "    }\n",
       "\n",
       "    .dataframe tbody tr th {\n",
       "        vertical-align: top;\n",
       "    }\n",
       "\n",
       "    .dataframe thead th {\n",
       "        text-align: right;\n",
       "    }\n",
       "</style>\n",
       "<table border=\"1\" class=\"dataframe\">\n",
       "  <thead>\n",
       "    <tr style=\"text-align: right;\">\n",
       "      <th></th>\n",
       "      <th>Mean</th>\n",
       "      <th>Std</th>\n",
       "    </tr>\n",
       "  </thead>\n",
       "  <tbody>\n",
       "    <tr>\n",
       "      <th>accuracy</th>\n",
       "      <td>69.24</td>\n",
       "      <td>0.67</td>\n",
       "    </tr>\n",
       "    <tr>\n",
       "      <th>balanced_accuracy</th>\n",
       "      <td>65.88</td>\n",
       "      <td>0.76</td>\n",
       "    </tr>\n",
       "    <tr>\n",
       "      <th>normalized_mutual_information</th>\n",
       "      <td>50.95</td>\n",
       "      <td>0.78</td>\n",
       "    </tr>\n",
       "    <tr>\n",
       "      <th>auc_tensorflow</th>\n",
       "      <td>82.68</td>\n",
       "      <td>1.57</td>\n",
       "    </tr>\n",
       "    <tr>\n",
       "      <th>auc_scikit_learn</th>\n",
       "      <td>95.01</td>\n",
       "      <td>0.19</td>\n",
       "    </tr>\n",
       "  </tbody>\n",
       "</table>\n",
       "</div>"
      ],
      "text/plain": [
       "                                Mean   Std\n",
       "accuracy                       69.24  0.67\n",
       "balanced_accuracy              65.88  0.76\n",
       "normalized_mutual_information  50.95  0.78\n",
       "auc_tensorflow                 82.68  1.57\n",
       "auc_scikit_learn               95.01  0.19"
      ]
     },
     "execution_count": 19,
     "metadata": {},
     "output_type": "execute_result"
    }
   ],
   "source": [
    "\n",
    "\n",
    "result_df = pd.concat([mean.rename('Mean'), std.rename('Std')], axis=1)\n",
    "\n",
    "result_df\n"
   ]
  },
  {
   "cell_type": "code",
   "execution_count": 20,
   "id": "e664b2f2",
   "metadata": {
    "execution": {
     "iopub.execute_input": "2023-02-15T06:53:03.506155Z",
     "iopub.status.busy": "2023-02-15T06:53:03.505543Z",
     "iopub.status.idle": "2023-02-15T06:53:03.509163Z",
     "shell.execute_reply": "2023-02-15T06:53:03.508275Z"
    },
    "papermill": {
     "duration": 0.016164,
     "end_time": "2023-02-15T06:53:03.511139",
     "exception": false,
     "start_time": "2023-02-15T06:53:03.494975",
     "status": "completed"
    },
    "tags": []
   },
   "outputs": [],
   "source": [
    "\n",
    "# # Save the DataFrame to an excel file\n",
    "# result_df.to_excel(database + custom_loss + \".xlsx\")"
   ]
  }
 ],
 "metadata": {
  "kernelspec": {
   "display_name": "Python 3",
   "language": "python",
   "name": "python3"
  },
  "language_info": {
   "codemirror_mode": {
    "name": "ipython",
    "version": 3
   },
   "file_extension": ".py",
   "mimetype": "text/x-python",
   "name": "python",
   "nbconvert_exporter": "python",
   "pygments_lexer": "ipython3",
   "version": "3.7.12"
  },
  "papermill": {
   "default_parameters": {},
   "duration": 973.811412,
   "end_time": "2023-02-15T06:53:07.592350",
   "environment_variables": {},
   "exception": null,
   "input_path": "__notebook__.ipynb",
   "output_path": "__notebook__.ipynb",
   "parameters": {},
   "start_time": "2023-02-15T06:36:53.780938",
   "version": "2.3.4"
  }
 },
 "nbformat": 4,
 "nbformat_minor": 5
}
