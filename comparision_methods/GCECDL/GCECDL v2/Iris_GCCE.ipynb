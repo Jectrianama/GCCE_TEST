{
  "cells": [
    {
      "cell_type": "markdown",
      "metadata": {
        "id": "view-in-github",
        "colab_type": "text"
      },
      "source": [
        "<a href=\"https://colab.research.google.com/github/Jectrianama/GCCE_TEST/blob/main/GCECDL1/Iris_GCCE.ipynb\" target=\"_parent\"><img src=\"https://colab.research.google.com/assets/colab-badge.svg\" alt=\"Open In Colab\"/></a>"
      ]
    },
    {
      "cell_type": "code",
      "execution_count": 1,
      "id": "86321f42",
      "metadata": {
        "execution": {
          "iopub.execute_input": "2022-10-21T09:40:11.554958Z",
          "iopub.status.busy": "2022-10-21T09:40:11.554337Z",
          "iopub.status.idle": "2022-10-21T09:40:11.559686Z",
          "shell.execute_reply": "2022-10-21T09:40:11.558399Z"
        },
        "id": "86321f42",
        "papermill": {
          "duration": 0.018425,
          "end_time": "2022-10-21T09:40:11.562286",
          "exception": false,
          "start_time": "2022-10-21T09:40:11.543861",
          "status": "completed"
        },
        "tags": []
      },
      "outputs": [],
      "source": [
        "#!pip install tensorflow==2.7.0\n",
        "#!pip install scikeras"
      ]
    },
    {
      "cell_type": "code",
      "execution_count": 2,
      "metadata": {
        "id": "ejpVLiOhQ6iK"
      },
      "outputs": [],
      "source": [
        "import tensorflow as tf\n",
        "from sklearn.metrics import classification_report, accuracy_score, balanced_accuracy_score, roc_auc_score, mutual_info_score, normalized_mutual_info_score, adjusted_mutual_info_score\n",
        "from sklearn.preprocessing import LabelBinarizer\n",
        "from sklearn.preprocessing import OneHotEncoder\n",
        "from scipy.stats import mode \n",
        "import numpy as np\n",
        "\n",
        "def ook(t):\n",
        "  lb = LabelBinarizer()\n",
        "  y_ook = lb.fit_transform(t)  \n",
        "\n",
        "  if len(np.unique(t))==2:\n",
        "    y_ook = np.concatenate((1-y_ook.astype(bool), y_ook), axis = 1) \n",
        "\n",
        "  return y_ook\n",
        "\n",
        " \n",
        "\n",
        "def evaluation_metrics(y_true, y_pred, print_result=True):\n",
        "    acc = 0\n",
        "    auc = 0\n",
        "    auc_sk = 0\n",
        "    #mi = 0\n",
        "    nmi = 0\n",
        "    #ami = 0\n",
        "    bacc = 0\n",
        "    \n",
        "    # Accuracy\n",
        "    #report = classification_report(y_pred.argmax(axis=1), y_true.ravel(), output_dict=True)\n",
        "    acc = accuracy_score( y_true.ravel(), y_pred.argmax(axis=1))  #report['accuracy']\n",
        "    \n",
        "    # Balanced accuracy\n",
        "    bacc = balanced_accuracy_score(y_true.squeeze(), y_pred.argmax(axis=1).squeeze(), adjusted=True)\n",
        "    \n",
        "   # # Mutual Information\n",
        "   # mi = mutual_info_score(y_true.squeeze(), y_pred.argmax(axis=1).squeeze())\n",
        "    \n",
        "    # Normalized Mutual Information\n",
        "    nmi = normalized_mutual_info_score(y_true.squeeze(), y_pred.argmax(axis=1).squeeze())\n",
        "    \n",
        "    # Adjusted Mutual Information\n",
        "    #ami = adjusted_mutual_info_score(y_true.squeeze(), y_pred.argmax(axis=1).squeeze())\n",
        "    \n",
        "    # AUC (Tensorflow)\n",
        "    auc_metric = tf.keras.metrics.AUC(from_logits=True)\n",
        "    auc_metric.update_state(y_true, y_pred.argmax(axis=1).astype('float'))\n",
        "    auc = auc_metric.result().numpy()\n",
        "    auc_metric.reset_states()\n",
        "    \n",
        "    # AUC (scikit-learn)\n",
        "    auc_sk = roc_auc_score(ook(y_true), y_pred)\n",
        "    \n",
        "    if print_result:\n",
        "        print(\"Accuracy: {:.4f}\".format(acc))\n",
        "        print(\"Balanced Accuracy: {:.4f}\".format(bacc))\n",
        "        print(\"Mutual Information: {:.4f}\".format(mi))\n",
        "        print(\"Normalized Mutual Information: {:.4f}\".format(nmi))\n",
        "        print(\"Adjusted Mutual Information: {:.4f}\".format(ami))\n",
        "        print(\"AUC (Tensorflow): {:.4f}\".format(auc))\n",
        "        print(\"AUC (scikit-learn): {:.4f}\".format(auc_sk))\n",
        "    \n",
        "    return acc, auc, auc_sk, nmi, bacc   # mi, , ami\n",
        "\n",
        "\n"
      ],
      "id": "ejpVLiOhQ6iK"
    },
    {
      "cell_type": "code",
      "source": [
        "!git clone https://github.com/Jectrianama/GCCE_TEST.git"
      ],
      "metadata": {
        "colab": {
          "base_uri": "https://localhost:8080/"
        },
        "id": "byULw2lxP5bt",
        "outputId": "a104315b-acc7-4208-bcd0-e2bb27ae376d"
      },
      "execution_count": 3,
      "outputs": [
        {
          "output_type": "stream",
          "name": "stdout",
          "text": [
            "Cloning into 'GCCE_TEST'...\n",
            "remote: Enumerating objects: 865, done.\u001b[K\n",
            "remote: Counting objects: 100% (458/458), done.\u001b[K\n",
            "remote: Compressing objects: 100% (242/242), done.\u001b[K\n",
            "remote: Total 865 (delta 241), reused 397 (delta 210), pack-reused 407\u001b[K\n",
            "Receiving objects: 100% (865/865), 38.98 MiB | 12.33 MiB/s, done.\n",
            "Resolving deltas: 100% (409/409), done.\n",
            "Updating files: 100% (149/149), done.\n"
          ]
        }
      ],
      "id": "byULw2lxP5bt"
    },
    {
      "cell_type": "code",
      "source": [
        "import os\n",
        "os.chdir('/content/GCCE_TEST/Models')\n",
        "from  keras_ma_gcce import *\n",
        "from labels_generation import MA_Clas_Gen\n",
        "os.chdir('../../')"
      ],
      "metadata": {
        "id": "4h9KwfCKQAlr"
      },
      "execution_count": 4,
      "outputs": [],
      "id": "4h9KwfCKQAlr"
    },
    {
      "cell_type": "markdown",
      "id": "13b0308c",
      "metadata": {
        "id": "13b0308c",
        "papermill": {
          "duration": 0.008652,
          "end_time": "2022-10-21T09:40:11.580238",
          "exception": false,
          "start_time": "2022-10-21T09:40:11.571586",
          "status": "completed"
        },
        "tags": []
      },
      "source": [
        "# Subclassing for RCDNN"
      ]
    },
    {
      "cell_type": "code",
      "source": [
        "#cargar datos desde drive otros dataset\n",
        "FILEID = \"1AU8pTtCLihBjCZjWITaAzpnEuL4RO436\"\n",
        "#https://drive.google.com/file/d/1AU8pTtCLihBjCZjWITaAzpnEuL4RO436/view?usp=sharing\n",
        "!wget --load-cookies /tmp/cookies.txt \"https://docs.google.com/uc?export=download&confirm=$(wget --quiet --save-cookies /tmp/cookies.txt --keep-session-cookies --no-check-certificate 'https://docs.google.com/uc?export=download&id='$FILEID -O- | sed -rn 's/.*confirm=([0-9A-Za-z_]+).*/\\1\\n/p')&id=\"$FILEID -O  DataGCCE.zip && rm -rf /tmp/cookies.txt\n",
        "!unzip -o DataGCCE.zip\n",
        "!dir"
      ],
      "metadata": {
        "id": "AklUNYNDWVv2",
        "colab": {
          "base_uri": "https://localhost:8080/"
        },
        "outputId": "0f8145f6-8f15-488c-a887-aed8db85cdfc"
      },
      "id": "AklUNYNDWVv2",
      "execution_count": 5,
      "outputs": [
        {
          "output_type": "stream",
          "name": "stdout",
          "text": [
            "--2023-02-13 17:38:12--  https://docs.google.com/uc?export=download&confirm=&id=1AU8pTtCLihBjCZjWITaAzpnEuL4RO436\n",
            "Resolving docs.google.com (docs.google.com)... 142.251.16.100, 142.251.16.113, 142.251.16.139, ...\n",
            "Connecting to docs.google.com (docs.google.com)|142.251.16.100|:443... connected.\n",
            "HTTP request sent, awaiting response... 303 See Other\n",
            "Location: https://doc-00-90-docs.googleusercontent.com/docs/securesc/ha0ro937gcuc7l7deffksulhg5h7mbp1/ho5ppsisc7n1e7m0dglmiir9ndd47h2j/1676309850000/07591141114418430227/*/1AU8pTtCLihBjCZjWITaAzpnEuL4RO436?e=download&uuid=07358ca9-0c8c-4308-a12f-4ad93f4afb58 [following]\n",
            "Warning: wildcards not supported in HTTP.\n",
            "--2023-02-13 17:38:13--  https://doc-00-90-docs.googleusercontent.com/docs/securesc/ha0ro937gcuc7l7deffksulhg5h7mbp1/ho5ppsisc7n1e7m0dglmiir9ndd47h2j/1676309850000/07591141114418430227/*/1AU8pTtCLihBjCZjWITaAzpnEuL4RO436?e=download&uuid=07358ca9-0c8c-4308-a12f-4ad93f4afb58\n",
            "Resolving doc-00-90-docs.googleusercontent.com (doc-00-90-docs.googleusercontent.com)... 172.253.62.132, 2607:f8b0:4004:c07::84\n",
            "Connecting to doc-00-90-docs.googleusercontent.com (doc-00-90-docs.googleusercontent.com)|172.253.62.132|:443... connected.\n",
            "HTTP request sent, awaiting response... 200 OK\n",
            "Length: 38377 (37K) [application/x-zip-compressed]\n",
            "Saving to: ‘DataGCCE.zip’\n",
            "\n",
            "DataGCCE.zip        100%[===================>]  37.48K  --.-KB/s    in 0s      \n",
            "\n",
            "2023-02-13 17:38:13 (78.3 MB/s) - ‘DataGCCE.zip’ saved [38377/38377]\n",
            "\n",
            "Archive:  DataGCCE.zip\n",
            "  inflating: new-thyroid.csv         \n",
            "  inflating: tic-tac-toe-endgame.csv  \n",
            "  inflating: balance-scale.csv       \n",
            "  inflating: file.csv                \n",
            "balance-scale.csv  file.csv   new-thyroid.csv  tic-tac-toe-endgame.csv\n",
            "DataGCCE.zip\t   GCCE_TEST  sample_data\n"
          ]
        }
      ]
    },
    {
      "cell_type": "code",
      "execution_count": 6,
      "id": "4f2c39a8",
      "metadata": {
        "execution": {
          "iopub.execute_input": "2022-10-21T09:40:20.545517Z",
          "iopub.status.busy": "2022-10-21T09:40:20.544349Z",
          "iopub.status.idle": "2022-10-21T09:40:25.706818Z",
          "shell.execute_reply": "2022-10-21T09:40:25.705680Z"
        },
        "id": "4f2c39a8",
        "outputId": "59e9116f-9887-4c88-8d8d-76213fbc6908",
        "papermill": {
          "duration": 5.175274,
          "end_time": "2022-10-21T09:40:25.709154",
          "exception": false,
          "start_time": "2022-10-21T09:40:20.533880",
          "status": "completed"
        },
        "tags": [],
        "colab": {
          "base_uri": "https://localhost:8080/"
        }
      },
      "outputs": [
        {
          "output_type": "stream",
          "name": "stdout",
          "text": [
            "--2023-02-13 17:38:14--  https://docs.google.com/uc?export=download&confirm=t&id=1SQnWXGROG2Xexs5vn3twuv7SqiWG5njW\n",
            "Resolving docs.google.com (docs.google.com)... 142.251.16.100, 142.251.16.113, 142.251.16.139, ...\n",
            "Connecting to docs.google.com (docs.google.com)|142.251.16.100|:443... connected.\n",
            "HTTP request sent, awaiting response... 303 See Other\n",
            "Location: https://doc-00-90-docs.googleusercontent.com/docs/securesc/ha0ro937gcuc7l7deffksulhg5h7mbp1/ticufmsgdo05mnl740es3o8dinm0qrcl/1676309850000/07591141114418430227/*/1SQnWXGROG2Xexs5vn3twuv7SqiWG5njW?e=download&uuid=06826a33-dcf6-4a8b-848f-3cda7efdea0c [following]\n",
            "Warning: wildcards not supported in HTTP.\n",
            "--2023-02-13 17:38:14--  https://doc-00-90-docs.googleusercontent.com/docs/securesc/ha0ro937gcuc7l7deffksulhg5h7mbp1/ticufmsgdo05mnl740es3o8dinm0qrcl/1676309850000/07591141114418430227/*/1SQnWXGROG2Xexs5vn3twuv7SqiWG5njW?e=download&uuid=06826a33-dcf6-4a8b-848f-3cda7efdea0c\n",
            "Resolving doc-00-90-docs.googleusercontent.com (doc-00-90-docs.googleusercontent.com)... 172.253.62.132, 2607:f8b0:4004:c07::84\n",
            "Connecting to doc-00-90-docs.googleusercontent.com (doc-00-90-docs.googleusercontent.com)|172.253.62.132|:443... connected.\n",
            "HTTP request sent, awaiting response... 200 OK\n",
            "Length: 156530728 (149M) [application/zip]\n",
            "Saving to: ‘MADatasets.zip’\n",
            "\n",
            "MADatasets.zip      100%[===================>] 149.28M  59.8MB/s    in 2.5s    \n",
            "\n",
            "2023-02-13 17:38:17 (59.8 MB/s) - ‘MADatasets.zip’ saved [156530728/156530728]\n",
            "\n",
            "Archive:  MADatasets.zip\n",
            "  inflating: MADatasets/util.py      \n",
            "  inflating: MADatasets/Iris1.mat    \n",
            "  inflating: MADatasets/Integra_Labels.mat  \n",
            "  inflating: MADatasets/MAGenerationClassification.py  \n",
            "  inflating: MADatasets/Voice.mat    \n",
            "  inflating: MADatasets/Iris.mat     \n",
            "  inflating: MADatasets/Sinthetic.mat  \n",
            "  inflating: MADatasets/MAGenerationClassification_1.py  \n",
            "  inflating: MADatasets/Bupa1.mat    \n",
            "  inflating: MADatasets/TicTacToe1.mat  \n",
            "  inflating: MADatasets/Wine.mat     \n",
            "  inflating: MADatasets/Breast1.mat  \n",
            "  inflating: MADatasets/Breast.mat   \n",
            "  inflating: MADatasets/Music.mat    \n",
            "  inflating: MADatasets/Pima.mat     \n",
            "  inflating: MADatasets/Ionosphere.mat  \n",
            "  inflating: MADatasets/TicTacToe.mat  \n",
            "  inflating: MADatasets/VoiceData.m  \n",
            "  inflating: MADatasets/util_1.py    \n",
            "  inflating: MADatasets/Ionosphere1.mat  \n",
            "  inflating: MADatasets/__pycache__/util_1.cpython-37.pyc  \n",
            "  inflating: MADatasets/Bupa.mat     \n",
            "  inflating: MADatasets/Wine1.mat    \n",
            "  inflating: MADatasets/__pycache__/util.cpython-37.pyc  \n",
            "  inflating: MADatasets/Pima1.mat    \n",
            "  inflating: MADatasets/Segmentation1.mat  \n",
            "  inflating: MADatasets/Western.mat  \n",
            "  inflating: MADatasets/Integra_Preprocesamiento_Seg_Caracterizacion_time_frec.mat  \n",
            "  inflating: MADatasets/Western1.mat  \n",
            "  inflating: MADatasets/Segmentation.mat  \n",
            "  inflating: MADatasets/Skin_NonSkin.mat  \n",
            "  inflating: MADatasets/Skin_NonSkin1.mat  \n",
            "  inflating: MADatasets/Occupancy1.mat  \n",
            "  inflating: MADatasets/Polarity.mat  \n",
            "  inflating: MADatasets/Occupancy.mat  \n",
            "balance-scale.csv  GCCE_TEST\t   new-thyroid.csv\n",
            "DataGCCE.zip\t   MADatasets\t   sample_data\n",
            "file.csv\t   MADatasets.zip  tic-tac-toe-endgame.csv\n"
          ]
        }
      ],
      "source": [
        "#cargar datos desde drive acceso libre\n",
        "FILEID = \"1SQnWXGROG2Xexs5vn3twuv7SqiWG5njW\"\n",
        "#https://drive.google.com/file/d/1SQnWXGROG2Xexs5vn3twuv7SqiWG5njW/view?usp=sharing\n",
        "!wget --load-cookies /tmp/cookies.txt \"https://docs.google.com/uc?export=download&confirm=$(wget --quiet --save-cookies /tmp/cookies.txt --keep-session-cookies --no-check-certificate 'https://docs.google.com/uc?export=download&id='$FILEID -O- | sed -rn 's/.*confirm=([0-9A-Za-z_]+).*/\\1\\n/p')&id=\"$FILEID -O MADatasets.zip && rm -rf /tmp/cookies.txt\n",
        "!unzip -o MADatasets.zip\n",
        "!dir"
      ]
    },
    {
      "cell_type": "markdown",
      "id": "5b055b86",
      "metadata": {
        "id": "5b055b86",
        "papermill": {
          "duration": 0.009727,
          "end_time": "2022-10-21T09:40:25.729080",
          "exception": false,
          "start_time": "2022-10-21T09:40:25.719353",
          "status": "completed"
        },
        "tags": []
      },
      "source": [
        "# Load Data"
      ]
    },
    {
      "cell_type": "code",
      "execution_count": 7,
      "id": "b28bee07",
      "metadata": {
        "execution": {
          "iopub.execute_input": "2022-10-21T09:40:25.751821Z",
          "iopub.status.busy": "2022-10-21T09:40:25.751397Z",
          "iopub.status.idle": "2022-10-21T09:40:25.809906Z",
          "shell.execute_reply": "2022-10-21T09:40:25.808796Z"
        },
        "id": "b28bee07",
        "papermill": {
          "duration": 0.072775,
          "end_time": "2022-10-21T09:40:25.812197",
          "exception": false,
          "start_time": "2022-10-21T09:40:25.739422",
          "status": "completed"
        },
        "tags": [],
        "colab": {
          "base_uri": "https://localhost:8080/"
        },
        "outputId": "21c471ad-7f32-48e9-97bb-0e15a71182ec"
      },
      "outputs": [
        {
          "output_type": "execute_result",
          "data": {
            "text/plain": [
              "dict_keys(['__header__', '__version__', '__globals__', 'X', 'y', 'Y', 'iAnn', 'Exp', 'idxtr', 'idxte'])"
            ]
          },
          "metadata": {},
          "execution_count": 7
        }
      ],
      "source": [
        "#load data\n",
        "import scipy.io as sio\n",
        "import matplotlib.pyplot as plt\n",
        "import pandas as pd\n",
        "import tensorflow as tf #importar tensorflow\n",
        "from sklearn.model_selection import GridSearchCV\n",
        "from sklearn.preprocessing import StandardScaler,MinMaxScaler\n",
        "import numpy as np\n",
        "database = 'Iris' #['bupa1', 'breast-cancer-wisconsin1','pima-indians-diabetes1', 'ionosphere1', 'tic-tac-toe1', 'iris1', 'wine1', 'segmentation1']\n",
        "\n",
        "\n",
        "path_ = 'MADatasets/'+ database+ '.mat' \n",
        "Xdata = sio.loadmat(path_)\n",
        "Xdata.keys()\n"
      ]
    },
    {
      "cell_type": "code",
      "source": [
        "X = Xdata['X']\n",
        "# Xte = Xdata['Xte']\n",
        "Y = Xdata['Y']\n",
        "t = Xdata['y'].reshape(-1)\n",
        "print('X',X.shape,'t',t.shape,'Y',Y.shape)\n",
        " "
      ],
      "metadata": {
        "colab": {
          "base_uri": "https://localhost:8080/"
        },
        "id": "Vk53uHwAdyDi",
        "outputId": "e2676162-8a92-4405-cf24-33d472faacba"
      },
      "id": "Vk53uHwAdyDi",
      "execution_count": 8,
      "outputs": [
        {
          "output_type": "stream",
          "name": "stdout",
          "text": [
            "X (150, 4) t (150,) Y (150, 5)\n"
          ]
        }
      ]
    },
    {
      "cell_type": "markdown",
      "id": "d41f9909",
      "metadata": {
        "id": "d41f9909",
        "papermill": {
          "duration": 0.01016,
          "end_time": "2022-10-21T09:40:26.084903",
          "exception": false,
          "start_time": "2022-10-21T09:40:26.074743",
          "status": "completed"
        },
        "tags": []
      },
      "source": [
        "# Labels Generation"
      ]
    },
    {
      "cell_type": "code",
      "execution_count": 9,
      "id": "5bfb3a90",
      "metadata": {
        "execution": {
          "iopub.execute_input": "2022-10-21T09:40:26.395359Z",
          "iopub.status.busy": "2022-10-21T09:40:26.394512Z",
          "iopub.status.idle": "2022-10-21T09:40:29.947474Z",
          "shell.execute_reply": "2022-10-21T09:40:29.946156Z"
        },
        "id": "5bfb3a90",
        "outputId": "66346b55-3e60-4c8e-d426-68f53dd0e6ef",
        "papermill": {
          "duration": 3.56657,
          "end_time": "2022-10-21T09:40:29.950251",
          "exception": false,
          "start_time": "2022-10-21T09:40:26.383681",
          "status": "completed"
        },
        "tags": [],
        "colab": {
          "base_uri": "https://localhost:8080/",
          "height": 354
        }
      },
      "outputs": [
        {
          "output_type": "stream",
          "name": "stderr",
          "text": [
            "/usr/local/lib/python3.8/dist-packages/sklearn/manifold/_t_sne.py:780: FutureWarning: The default initialization in TSNE will change from 'random' to 'pca' in 1.2.\n",
            "  warnings.warn(\n",
            "/usr/local/lib/python3.8/dist-packages/sklearn/manifold/_t_sne.py:790: FutureWarning: The default learning rate in TSNE will change from 200.0 to 'auto' in 1.2.\n",
            "  warnings.warn(\n"
          ]
        },
        {
          "output_type": "display_data",
          "data": {
            "text/plain": [
              "<Figure size 432x288 with 1 Axes>"
            ],
            "image/png": "[encoded data removed]"
          },
          "metadata": {
            "needs_background": "light"
          }
        }
      ],
      "source": [
        "Y, iAnn, Lam_r = MA_Clas_Gen(X ,t, R=5, NrP=1)"
      ]
    },
    {
      "cell_type": "code",
      "execution_count": 10,
      "id": "125deea6",
      "metadata": {
        "execution": {
          "iopub.execute_input": "2022-10-21T09:40:29.974424Z",
          "iopub.status.busy": "2022-10-21T09:40:29.973261Z",
          "iopub.status.idle": "2022-10-21T09:40:29.978787Z",
          "shell.execute_reply": "2022-10-21T09:40:29.977685Z"
        },
        "id": "125deea6",
        "papermill": {
          "duration": 0.019384,
          "end_time": "2022-10-21T09:40:29.980704",
          "exception": false,
          "start_time": "2022-10-21T09:40:29.961320",
          "status": "completed"
        },
        "tags": []
      },
      "outputs": [],
      "source": [
        "\n",
        "Y = Y - 1\n",
        "t = t - 1\n",
        "#YMA = YMA-1\n"
      ]
    },
    {
      "cell_type": "code",
      "execution_count": 11,
      "id": "f665a11b",
      "metadata": {
        "execution": {
          "iopub.execute_input": "2022-10-21T09:40:30.003317Z",
          "iopub.status.busy": "2022-10-21T09:40:30.002550Z",
          "iopub.status.idle": "2022-10-21T09:40:30.717675Z",
          "shell.execute_reply": "2022-10-21T09:40:30.716732Z"
        },
        "papermill": {
          "duration": 0.728333,
          "end_time": "2022-10-21T09:40:30.719509",
          "exception": false,
          "start_time": "2022-10-21T09:40:29.991176",
          "status": "completed"
        },
        "tags": [],
        "id": "f665a11b",
        "outputId": "232e8e36-8ae1-4ce7-b39b-4c935fc76a71",
        "colab": {
          "base_uri": "https://localhost:8080/",
          "height": 1000
        }
      },
      "outputs": [
        {
          "output_type": "stream",
          "name": "stdout",
          "text": [
            "annotator 1\n",
            "              precision    recall  f1-score   support\n",
            "\n",
            "           0       1.00      1.00      1.00        50\n",
            "           1       1.00      1.00      1.00        50\n",
            "           2       1.00      1.00      1.00        50\n",
            "\n",
            "    accuracy                           1.00       150\n",
            "   macro avg       1.00      1.00      1.00       150\n",
            "weighted avg       1.00      1.00      1.00       150\n",
            "\n",
            "annotator 2\n",
            "              precision    recall  f1-score   support\n",
            "\n",
            "           0       0.00      0.00      0.00        50\n",
            "           1       0.62      1.00      0.76        50\n",
            "           2       0.71      0.98      0.82        50\n",
            "\n",
            "    accuracy                           0.66       150\n",
            "   macro avg       0.44      0.66      0.53       150\n",
            "weighted avg       0.44      0.66      0.53       150\n",
            "\n",
            "annotator 3\n",
            "              precision    recall  f1-score   support\n",
            "\n",
            "           0       0.53      0.98      0.69        50\n",
            "           1       0.14      0.06      0.08        50\n",
            "           2       0.37      0.26      0.31        50\n",
            "\n",
            "    accuracy                           0.43       150\n",
            "   macro avg       0.34      0.43      0.36       150\n",
            "weighted avg       0.34      0.43      0.36       150\n",
            "\n",
            "annotator 4\n",
            "              precision    recall  f1-score   support\n",
            "\n",
            "           0       0.00      0.00      0.00        50\n",
            "           1       0.21      0.12      0.15        50\n",
            "           2       0.47      0.96      0.63        50\n",
            "\n",
            "    accuracy                           0.36       150\n",
            "   macro avg       0.22      0.36      0.26       150\n",
            "weighted avg       0.22      0.36      0.26       150\n",
            "\n",
            "annotator 5\n",
            "              precision    recall  f1-score   support\n",
            "\n",
            "           0       0.46      1.00      0.63        50\n",
            "           1       0.00      0.00      0.00        50\n",
            "           2       0.00      0.00      0.00        50\n",
            "\n",
            "    accuracy                           0.33       150\n",
            "   macro avg       0.15      0.33      0.21       150\n",
            "weighted avg       0.15      0.33      0.21       150\n",
            "\n"
          ]
        },
        {
          "output_type": "stream",
          "name": "stderr",
          "text": [
            "/usr/local/lib/python3.8/dist-packages/sklearn/metrics/_classification.py:1318: UndefinedMetricWarning: Precision and F-score are ill-defined and being set to 0.0 in labels with no predicted samples. Use `zero_division` parameter to control this behavior.\n",
            "  _warn_prf(average, modifier, msg_start, len(result))\n",
            "/usr/local/lib/python3.8/dist-packages/sklearn/metrics/_classification.py:1318: UndefinedMetricWarning: Precision and F-score are ill-defined and being set to 0.0 in labels with no predicted samples. Use `zero_division` parameter to control this behavior.\n",
            "  _warn_prf(average, modifier, msg_start, len(result))\n",
            "/usr/local/lib/python3.8/dist-packages/sklearn/metrics/_classification.py:1318: UndefinedMetricWarning: Precision and F-score are ill-defined and being set to 0.0 in labels with no predicted samples. Use `zero_division` parameter to control this behavior.\n",
            "  _warn_prf(average, modifier, msg_start, len(result))\n"
          ]
        },
        {
          "output_type": "display_data",
          "data": {
            "text/plain": [
              "<Figure size 432x288 with 1 Axes>"
            ],
            "image/png": "[encoded data removed]"
          },
          "metadata": {
            "needs_background": "light"
          }
        },
        {
          "output_type": "display_data",
          "data": {
            "text/plain": [
              "<Figure size 432x288 with 1 Axes>"
            ],
            "image/png": "[encoded data removed]"
          },
          "metadata": {
            "needs_background": "light"
          }
        },
        {
          "output_type": "display_data",
          "data": {
            "text/plain": [
              "<Figure size 432x288 with 1 Axes>"
            ],
            "image/png": "[encoded data removed]"
          },
          "metadata": {
            "needs_background": "light"
          }
        },
        {
          "output_type": "display_data",
          "data": {
            "text/plain": [
              "<Figure size 432x288 with 1 Axes>"
            ],
            "image/png": "[encoded data removed]"
          },
          "metadata": {
            "needs_background": "light"
          }
        },
        {
          "output_type": "display_data",
          "data": {
            "text/plain": [
              "<Figure size 432x288 with 1 Axes>"
            ],
            "image/png": "[encoded data removed]"
          },
          "metadata": {
            "needs_background": "light"
          }
        }
      ],
      "source": [
        "from sklearn.metrics import classification_report\n",
        "for i in range(Y.shape[1]):\n",
        "    print('annotator',i+1)\n",
        "    print(classification_report(t,Y[:,i]))\n",
        "    unique, counts = np.unique(Y[:,i], return_counts=True)\n",
        "    plt.figure()\n",
        "    plt.bar(unique, counts)\n",
        "#     unique, counts = np.unique(Y_test[5], return_counts=True)\n",
        "#     plt.bar(unique, counts)\n",
        "\n",
        "    plt.title('Class Frequency for Y_true')\n",
        "    plt.xlabel('Class')\n",
        "    plt.ylabel('Frequency')\n"
      ]
    },
    {
      "cell_type": "markdown",
      "id": "4978b7ce",
      "metadata": {
        "id": "4978b7ce",
        "papermill": {
          "duration": 0.010888,
          "end_time": "2022-10-21T09:40:30.771661",
          "exception": false,
          "start_time": "2022-10-21T09:40:30.760773",
          "status": "completed"
        },
        "tags": []
      },
      "source": [
        "# Split data"
      ]
    },
    {
      "cell_type": "code",
      "execution_count": 12,
      "id": "7b92d005",
      "metadata": {
        "execution": {
          "iopub.execute_input": "2022-10-21T09:40:30.796163Z",
          "iopub.status.busy": "2022-10-21T09:40:30.795807Z",
          "iopub.status.idle": "2022-10-21T09:40:30.807398Z",
          "shell.execute_reply": "2022-10-21T09:40:30.805886Z"
        },
        "id": "7b92d005",
        "outputId": "9598346d-1601-483c-f006-75786c5f603e",
        "papermill": {
          "duration": 0.027805,
          "end_time": "2022-10-21T09:40:30.810618",
          "exception": false,
          "start_time": "2022-10-21T09:40:30.782813",
          "status": "completed"
        },
        "tags": [],
        "colab": {
          "base_uri": "https://localhost:8080/"
        }
      },
      "outputs": [
        {
          "output_type": "stream",
          "name": "stdout",
          "text": [
            "[ 72 112 132  88  37 138  87  42   8  90 141  33  59 116 135 104  36  13\n",
            "  63  45  28 133  24 127  46  20  31 121 117   4 130 119  29   0  62  93\n",
            " 131   5  16  82  60  35 143 145 142]\n",
            "(105, 4) (105, 5) (105, 1)\n"
          ]
        }
      ],
      "source": [
        "import numpy.matlib\n",
        "from sklearn.model_selection import ShuffleSplit, StratifiedShuffleSplit\n",
        "Ns = 1\n",
        "ss = ShuffleSplit(n_splits=Ns, test_size=0.3,random_state =123)\n",
        "for train_index, test_index in ss.split(X):\n",
        "    print(test_index)\n",
        "    X_train, X_test,Y_train,Y_test = X[train_index,:], X[test_index,:],Y[train_index,:], Y[test_index,:]\n",
        "    Y_true_train, Y_true_test = t[train_index].reshape(-1,1), t[test_index].reshape(-1,1)\n",
        "print(X_train.shape, Y_train.shape, Y_true_train.shape)"
      ]
    },
    {
      "cell_type": "markdown",
      "id": "6c5da01e",
      "metadata": {
        "id": "6c5da01e",
        "papermill": {
          "duration": 0.011145,
          "end_time": "2022-10-21T09:40:30.864372",
          "exception": false,
          "start_time": "2022-10-21T09:40:30.853227",
          "status": "completed"
        },
        "tags": []
      },
      "source": [
        "# Apply MinMaxScaler"
      ]
    },
    {
      "cell_type": "code",
      "execution_count": 13,
      "id": "f600859c",
      "metadata": {
        "execution": {
          "iopub.execute_input": "2022-10-21T09:40:30.889275Z",
          "iopub.status.busy": "2022-10-21T09:40:30.888867Z",
          "iopub.status.idle": "2022-10-21T09:40:30.895274Z",
          "shell.execute_reply": "2022-10-21T09:40:30.894338Z"
        },
        "id": "f600859c",
        "papermill": {
          "duration": 0.021746,
          "end_time": "2022-10-21T09:40:30.897566",
          "exception": false,
          "start_time": "2022-10-21T09:40:30.875820",
          "status": "completed"
        },
        "tags": []
      },
      "outputs": [],
      "source": [
        "scaler = MinMaxScaler()\n",
        "scaler.fit(X_train)\n",
        "X_train = scaler.transform(X_train)\n",
        "X_test = scaler.transform(X_test)"
      ]
    },
    {
      "cell_type": "markdown",
      "id": "714a7a07",
      "metadata": {
        "id": "714a7a07",
        "papermill": {
          "duration": 0.012019,
          "end_time": "2022-10-21T09:40:30.921549",
          "exception": false,
          "start_time": "2022-10-21T09:40:30.909530",
          "status": "completed"
        },
        "tags": []
      },
      "source": [
        "# Testing the Class \n"
      ]
    },
    {
      "cell_type": "code",
      "source": [
        "from sklearn.metrics import classification_report, balanced_accuracy_score, roc_auc_score\n",
        "from sklearn.metrics import normalized_mutual_info_score, mutual_info_score, adjusted_mutual_info_score\n",
        "import pandas as pd\n",
        "l1 =0.0001\n",
        "NUM_RUNS =10\n",
        "custom_loss = \"GCE\"\n",
        "\n",
        "\n",
        "results = []\n",
        "for i in range(NUM_RUNS):\n",
        "\n",
        "    print(\"iteration: \" + str(i))\n",
        "   \n",
        "    MA = Keras_MA_GCCE(epochs=100,batch_size=32,R=5, K=len(np.unique(Y_true_train)), dropout=0.2, learning_rate=0.001,optimizer='Adam', \n",
        "                 l1_param=l1,  validation_split=0, verbose=0, q=0.3, neurons=4, loss = custom_loss )\n",
        "    \n",
        "    MA.fit(X_train, Y_train)\n",
        "    MA.plot_history()\n",
        "  \n",
        "    # Generate the predictions for the current run\n",
        "    pred_2 = MA.predict(X_test)\n",
        "     \n",
        "    acc, auc, auc_sk,  nmi,  bacc = evaluation_metrics(Y_true_test,  pred_2[:,Y.shape[1]:], print_result=False)  # mi, ami,\n",
        "    \n",
        "    # Save the results for the current run to the list of dictionaries\n",
        "    results.append({\n",
        "        #'run': i,\n",
        "        'accuracy': acc,\n",
        "        'balanced_accuracy': bacc,\n",
        "       # 'mutual_information': mi,\n",
        "        'normalized_mutual_information': nmi,\n",
        "     #   'adjusted_mutual_information': ami,\n",
        "        'auc_tensorflow': auc,\n",
        "        'auc_scikit_learn': auc_sk,\n",
        "    })\n",
        "    \n",
        "# Convert the list of dictionaries to a DataFrame\n",
        "df = np.round(pd.DataFrame(results)*100, 2)\n",
        "\n",
        "# Calculate the mean and standard deviation of each metric\n",
        "mean = np.round(df.mean(),2)\n",
        "std = np.round(df.std(),2)  \n",
        "\n",
        "\n"
      ],
      "metadata": {
        "colab": {
          "base_uri": "https://localhost:8080/",
          "height": 1000
        },
        "id": "du8C7Syro2p7",
        "outputId": "26fdaf7f-0f15-49dc-dcf5-ad53743eabeb"
      },
      "execution_count": 14,
      "outputs": [
        {
          "output_type": "stream",
          "name": "stdout",
          "text": [
            "iteration: 0\n"
          ]
        },
        {
          "output_type": "display_data",
          "data": {
            "text/plain": [
              "<Figure size 576x360 with 1 Axes>"
            ],
            "image/png": "[encoded data removed]"
          },
          "metadata": {
            "needs_background": "light"
          }
        },
        {
          "output_type": "stream",
          "name": "stdout",
          "text": [
            "2/2 [==============================] - 0s 6ms/step\n",
            "iteration: 1\n"
          ]
        },
        {
          "output_type": "display_data",
          "data": {
            "text/plain": [
              "<Figure size 576x360 with 1 Axes>"
            ],
            "image/png": "[encoded data removed]"
          },
          "metadata": {
            "needs_background": "light"
          }
        },
        {
          "output_type": "stream",
          "name": "stdout",
          "text": [
            "2/2 [==============================] - 0s 5ms/step\n",
            "iteration: 2\n"
          ]
        },
        {
          "output_type": "display_data",
          "data": {
            "text/plain": [
              "<Figure size 576x360 with 1 Axes>"
            ],
            "image/png": "[encoded data removed]"
          },
          "metadata": {
            "needs_background": "light"
          }
        },
        {
          "output_type": "stream",
          "name": "stdout",
          "text": [
            "2/2 [==============================] - 0s 7ms/step\n",
            "iteration: 3\n"
          ]
        },
        {
          "output_type": "display_data",
          "data": {
            "text/plain": [
              "<Figure size 576x360 with 1 Axes>"
            ],
            "image/png": "[encoded data removed]"
          },
          "metadata": {
            "needs_background": "light"
          }
        },
        {
          "output_type": "stream",
          "name": "stdout",
          "text": [
            "2/2 [==============================] - 0s 5ms/step\n",
            "iteration: 4\n"
          ]
        },
        {
          "output_type": "display_data",
          "data": {
            "text/plain": [
              "<Figure size 576x360 with 1 Axes>"
            ],
            "image/png": "[encoded data removed]"
          },
          "metadata": {
            "needs_background": "light"
          }
        },
        {
          "output_type": "stream",
          "name": "stderr",
          "text": [
            "WARNING:tensorflow:5 out of the last 9 calls to <function Model.make_predict_function.<locals>.predict_function at 0x7f32c5f8aa60> triggered tf.function retracing. Tracing is expensive and the excessive number of tracings could be due to (1) creating @tf.function repeatedly in a loop, (2) passing tensors with different shapes, (3) passing Python objects instead of tensors. For (1), please define your @tf.function outside of the loop. For (2), @tf.function has reduce_retracing=True option that can avoid unnecessary retracing. For (3), please refer to https://www.tensorflow.org/guide/function#controlling_retracing and https://www.tensorflow.org/api_docs/python/tf/function for  more details.\n"
          ]
        },
        {
          "output_type": "stream",
          "name": "stdout",
          "text": [
            "2/2 [==============================] - 0s 6ms/step\n",
            "iteration: 5\n"
          ]
        },
        {
          "output_type": "display_data",
          "data": {
            "text/plain": [
              "<Figure size 576x360 with 1 Axes>"
            ],
            "image/png": "[encoded data removed]"
          },
          "metadata": {
            "needs_background": "light"
          }
        },
        {
          "output_type": "stream",
          "name": "stderr",
          "text": [
            "WARNING:tensorflow:6 out of the last 11 calls to <function Model.make_predict_function.<locals>.predict_function at 0x7f32c691ba60> triggered tf.function retracing. Tracing is expensive and the excessive number of tracings could be due to (1) creating @tf.function repeatedly in a loop, (2) passing tensors with different shapes, (3) passing Python objects instead of tensors. For (1), please define your @tf.function outside of the loop. For (2), @tf.function has reduce_retracing=True option that can avoid unnecessary retracing. For (3), please refer to https://www.tensorflow.org/guide/function#controlling_retracing and https://www.tensorflow.org/api_docs/python/tf/function for  more details.\n"
          ]
        },
        {
          "output_type": "stream",
          "name": "stdout",
          "text": [
            "2/2 [==============================] - 0s 7ms/step\n",
            "iteration: 6\n"
          ]
        },
        {
          "output_type": "display_data",
          "data": {
            "text/plain": [
              "<Figure size 576x360 with 1 Axes>"
            ],
            "image/png": "[encoded data removed]"
          },
          "metadata": {
            "needs_background": "light"
          }
        },
        {
          "output_type": "stream",
          "name": "stdout",
          "text": [
            "2/2 [==============================] - 0s 5ms/step\n",
            "iteration: 7\n"
          ]
        },
        {
          "output_type": "display_data",
          "data": {
            "text/plain": [
              "<Figure size 576x360 with 1 Axes>"
            ],
            "image/png": "[encoded data removed]"
          },
          "metadata": {
            "needs_background": "light"
          }
        },
        {
          "output_type": "stream",
          "name": "stdout",
          "text": [
            "2/2 [==============================] - 0s 6ms/step\n",
            "iteration: 8\n"
          ]
        },
        {
          "output_type": "display_data",
          "data": {
            "text/plain": [
              "<Figure size 576x360 with 1 Axes>"
            ],
            "image/png": "[encoded data removed]"
          },
          "metadata": {
            "needs_background": "light"
          }
        },
        {
          "output_type": "stream",
          "name": "stdout",
          "text": [
            "2/2 [==============================] - 0s 4ms/step\n",
            "iteration: 9\n"
          ]
        },
        {
          "output_type": "display_data",
          "data": {
            "text/plain": [
              "<Figure size 576x360 with 1 Axes>"
            ],
            "image/png": "[encoded data removed]"
          },
          "metadata": {
            "needs_background": "light"
          }
        },
        {
          "output_type": "stream",
          "name": "stdout",
          "text": [
            "2/2 [==============================] - 0s 5ms/step\n"
          ]
        }
      ],
      "id": "du8C7Syro2p7"
    },
    {
      "cell_type": "code",
      "source": [
        "df"
      ],
      "metadata": {
        "colab": {
          "base_uri": "https://localhost:8080/",
          "height": 363
        },
        "id": "ispxoor_q6DN",
        "outputId": "4a1dc209-ec3b-4885-8f04-31bde5dbf97b"
      },
      "execution_count": 15,
      "outputs": [
        {
          "output_type": "execute_result",
          "data": {
            "text/plain": [
              "   accuracy  balanced_accuracy  normalized_mutual_information  auc_tensorflow  \\\n",
              "0     95.56              92.06                          85.33           100.0   \n",
              "1     97.78              97.06                          92.60           100.0   \n",
              "2     97.78              97.06                          92.60           100.0   \n",
              "3     97.78              97.06                          92.60           100.0   \n",
              "4     95.56              92.06                          85.33           100.0   \n",
              "5     97.78              97.06                          92.60           100.0   \n",
              "6     97.78              97.06                          92.60           100.0   \n",
              "7     97.78              97.06                          92.60           100.0   \n",
              "8     97.78              97.06                          92.60           100.0   \n",
              "9     97.78              97.06                          92.60           100.0   \n",
              "\n",
              "   auc_scikit_learn  \n",
              "0             99.83  \n",
              "1             99.67  \n",
              "2             99.83  \n",
              "3             99.67  \n",
              "4             99.67  \n",
              "5             99.67  \n",
              "6             99.67  \n",
              "7             99.83  \n",
              "8             99.67  \n",
              "9             99.67  "
            ],
            "text/html": [
              "\n",
              "  <div id=\"df-45ea1fa4-0661-4545-b52f-651c4374ac62\">\n",
              "    <div class=\"colab-df-container\">\n",
              "      <div>\n",
              "<style scoped>\n",
              "    .dataframe tbody tr th:only-of-type {\n",
              "        vertical-align: middle;\n",
              "    }\n",
              "\n",
              "    .dataframe tbody tr th {\n",
              "        vertical-align: top;\n",
              "    }\n",
              "\n",
              "    .dataframe thead th {\n",
              "        text-align: right;\n",
              "    }\n",
              "</style>\n",
              "<table border=\"1\" class=\"dataframe\">\n",
              "  <thead>\n",
              "    <tr style=\"text-align: right;\">\n",
              "      <th></th>\n",
              "      <th>accuracy</th>\n",
              "      <th>balanced_accuracy</th>\n",
              "      <th>normalized_mutual_information</th>\n",
              "      <th>auc_tensorflow</th>\n",
              "      <th>auc_scikit_learn</th>\n",
              "    </tr>\n",
              "  </thead>\n",
              "  <tbody>\n",
              "    <tr>\n",
              "      <th>0</th>\n",
              "      <td>95.56</td>\n",
              "      <td>92.06</td>\n",
              "      <td>85.33</td>\n",
              "      <td>100.0</td>\n",
              "      <td>99.83</td>\n",
              "    </tr>\n",
              "    <tr>\n",
              "      <th>1</th>\n",
              "      <td>97.78</td>\n",
              "      <td>97.06</td>\n",
              "      <td>92.60</td>\n",
              "      <td>100.0</td>\n",
              "      <td>99.67</td>\n",
              "    </tr>\n",
              "    <tr>\n",
              "      <th>2</th>\n",
              "      <td>97.78</td>\n",
              "      <td>97.06</td>\n",
              "      <td>92.60</td>\n",
              "      <td>100.0</td>\n",
              "      <td>99.83</td>\n",
              "    </tr>\n",
              "    <tr>\n",
              "      <th>3</th>\n",
              "      <td>97.78</td>\n",
              "      <td>97.06</td>\n",
              "      <td>92.60</td>\n",
              "      <td>100.0</td>\n",
              "      <td>99.67</td>\n",
              "    </tr>\n",
              "    <tr>\n",
              "      <th>4</th>\n",
              "      <td>95.56</td>\n",
              "      <td>92.06</td>\n",
              "      <td>85.33</td>\n",
              "      <td>100.0</td>\n",
              "      <td>99.67</td>\n",
              "    </tr>\n",
              "    <tr>\n",
              "      <th>5</th>\n",
              "      <td>97.78</td>\n",
              "      <td>97.06</td>\n",
              "      <td>92.60</td>\n",
              "      <td>100.0</td>\n",
              "      <td>99.67</td>\n",
              "    </tr>\n",
              "    <tr>\n",
              "      <th>6</th>\n",
              "      <td>97.78</td>\n",
              "      <td>97.06</td>\n",
              "      <td>92.60</td>\n",
              "      <td>100.0</td>\n",
              "      <td>99.67</td>\n",
              "    </tr>\n",
              "    <tr>\n",
              "      <th>7</th>\n",
              "      <td>97.78</td>\n",
              "      <td>97.06</td>\n",
              "      <td>92.60</td>\n",
              "      <td>100.0</td>\n",
              "      <td>99.83</td>\n",
              "    </tr>\n",
              "    <tr>\n",
              "      <th>8</th>\n",
              "      <td>97.78</td>\n",
              "      <td>97.06</td>\n",
              "      <td>92.60</td>\n",
              "      <td>100.0</td>\n",
              "      <td>99.67</td>\n",
              "    </tr>\n",
              "    <tr>\n",
              "      <th>9</th>\n",
              "      <td>97.78</td>\n",
              "      <td>97.06</td>\n",
              "      <td>92.60</td>\n",
              "      <td>100.0</td>\n",
              "      <td>99.67</td>\n",
              "    </tr>\n",
              "  </tbody>\n",
              "</table>\n",
              "</div>\n",
              "      <button class=\"colab-df-convert\" onclick=\"convertToInteractive('df-45ea1fa4-0661-4545-b52f-651c4374ac62')\"\n",
              "              title=\"Convert this dataframe to an interactive table.\"\n",
              "              style=\"display:none;\">\n",
              "        \n",
              "  <svg xmlns=\"http://www.w3.org/2000/svg\" height=\"24px\"viewBox=\"0 0 24 24\"\n",
              "       width=\"24px\">\n",
              "    <path d=\"M0 0h24v24H0V0z\" fill=\"none\"/>\n",
              "    <path d=\"M18.56 5.44l.94 2.06.94-2.06 2.06-.94-2.06-.94-.94-2.06-.94 2.06-2.06.94zm-11 1L8.5 8.5l.94-2.06 2.06-.94-2.06-.94L8.5 2.5l-.94 2.06-2.06.94zm10 10l.94 2.06.94-2.06 2.06-.94-2.06-.94-.94-2.06-.94 2.06-2.06.94z\"/><path d=\"M17.41 7.96l-1.37-1.37c-.4-.4-.92-.59-1.43-.59-.52 0-1.04.2-1.43.59L10.3 9.45l-7.72 7.72c-.78.78-.78 2.05 0 2.83L4 21.41c.39.39.9.59 1.41.59.51 0 1.02-.2 1.41-.59l7.78-7.78 2.81-2.81c.8-.78.8-2.07 0-2.86zM5.41 20L4 18.59l7.72-7.72 1.47 1.35L5.41 20z\"/>\n",
              "  </svg>\n",
              "      </button>\n",
              "      \n",
              "  <style>\n",
              "    .colab-df-container {\n",
              "      display:flex;\n",
              "      flex-wrap:wrap;\n",
              "      gap: 12px;\n",
              "    }\n",
              "\n",
              "    .colab-df-convert {\n",
              "      background-color: #E8F0FE;\n",
              "      border: none;\n",
              "      border-radius: 50%;\n",
              "      cursor: pointer;\n",
              "      display: none;\n",
              "      fill: #1967D2;\n",
              "      height: 32px;\n",
              "      padding: 0 0 0 0;\n",
              "      width: 32px;\n",
              "    }\n",
              "\n",
              "    .colab-df-convert:hover {\n",
              "      background-color: #E2EBFA;\n",
              "      box-shadow: 0px 1px 2px rgba(60, 64, 67, 0.3), 0px 1px 3px 1px rgba(60, 64, 67, 0.15);\n",
              "      fill: #174EA6;\n",
              "    }\n",
              "\n",
              "    [theme=dark] .colab-df-convert {\n",
              "      background-color: #3B4455;\n",
              "      fill: #D2E3FC;\n",
              "    }\n",
              "\n",
              "    [theme=dark] .colab-df-convert:hover {\n",
              "      background-color: #434B5C;\n",
              "      box-shadow: 0px 1px 3px 1px rgba(0, 0, 0, 0.15);\n",
              "      filter: drop-shadow(0px 1px 2px rgba(0, 0, 0, 0.3));\n",
              "      fill: #FFFFFF;\n",
              "    }\n",
              "  </style>\n",
              "\n",
              "      <script>\n",
              "        const buttonEl =\n",
              "          document.querySelector('#df-45ea1fa4-0661-4545-b52f-651c4374ac62 button.colab-df-convert');\n",
              "        buttonEl.style.display =\n",
              "          google.colab.kernel.accessAllowed ? 'block' : 'none';\n",
              "\n",
              "        async function convertToInteractive(key) {\n",
              "          const element = document.querySelector('#df-45ea1fa4-0661-4545-b52f-651c4374ac62');\n",
              "          const dataTable =\n",
              "            await google.colab.kernel.invokeFunction('convertToInteractive',\n",
              "                                                     [key], {});\n",
              "          if (!dataTable) return;\n",
              "\n",
              "          const docLinkHtml = 'Like what you see? Visit the ' +\n",
              "            '<a target=\"_blank\" href=https://colab.research.google.com/notebooks/data_table.ipynb>data table notebook</a>'\n",
              "            + ' to learn more about interactive tables.';\n",
              "          element.innerHTML = '';\n",
              "          dataTable['output_type'] = 'display_data';\n",
              "          await google.colab.output.renderOutput(dataTable, element);\n",
              "          const docLink = document.createElement('div');\n",
              "          docLink.innerHTML = docLinkHtml;\n",
              "          element.appendChild(docLink);\n",
              "        }\n",
              "      </script>\n",
              "    </div>\n",
              "  </div>\n",
              "  "
            ]
          },
          "metadata": {},
          "execution_count": 15
        }
      ],
      "id": "ispxoor_q6DN"
    },
    {
      "cell_type": "code",
      "source": [
        "mean"
      ],
      "metadata": {
        "colab": {
          "base_uri": "https://localhost:8080/"
        },
        "id": "whTSUvCJq_bf",
        "outputId": "58744d9e-746f-4a0f-a9ab-fbaed6cf65ae"
      },
      "execution_count": 16,
      "outputs": [
        {
          "output_type": "execute_result",
          "data": {
            "text/plain": [
              "accuracy                          97.34\n",
              "balanced_accuracy                 96.06\n",
              "normalized_mutual_information     91.15\n",
              "auc_tensorflow                   100.00\n",
              "auc_scikit_learn                  99.72\n",
              "dtype: float64"
            ]
          },
          "metadata": {},
          "execution_count": 16
        }
      ],
      "id": "whTSUvCJq_bf"
    },
    {
      "cell_type": "code",
      "source": [
        "std"
      ],
      "metadata": {
        "colab": {
          "base_uri": "https://localhost:8080/"
        },
        "id": "PH_iucZ1rJDD",
        "outputId": "b64e66f8-adaa-48b1-e51b-b16eab236cfd"
      },
      "execution_count": 17,
      "outputs": [
        {
          "output_type": "execute_result",
          "data": {
            "text/plain": [
              "accuracy                         0.94\n",
              "balanced_accuracy                2.11\n",
              "normalized_mutual_information    3.07\n",
              "auc_tensorflow                   0.00\n",
              "auc_scikit_learn                 0.08\n",
              "dtype: float64"
            ]
          },
          "metadata": {},
          "execution_count": 17
        }
      ],
      "id": "PH_iucZ1rJDD"
    },
    {
      "cell_type": "code",
      "source": [
        "result_df = pd.concat([mean.rename('Mean'), std.rename('Std')], axis=1)"
      ],
      "metadata": {
        "id": "IZWYJ4cZus0i"
      },
      "execution_count": 18,
      "outputs": [],
      "id": "IZWYJ4cZus0i"
    },
    {
      "cell_type": "code",
      "source": [
        "result_df"
      ],
      "metadata": {
        "colab": {
          "base_uri": "https://localhost:8080/",
          "height": 206
        },
        "id": "j5oR79xIvOJf",
        "outputId": "cd2a0b26-e3bb-49ac-b100-090db75760c7"
      },
      "execution_count": 19,
      "outputs": [
        {
          "output_type": "execute_result",
          "data": {
            "text/plain": [
              "                                 Mean   Std\n",
              "accuracy                        97.34  0.94\n",
              "balanced_accuracy               96.06  2.11\n",
              "normalized_mutual_information   91.15  3.07\n",
              "auc_tensorflow                 100.00  0.00\n",
              "auc_scikit_learn                99.72  0.08"
            ],
            "text/html": [
              "\n",
              "  <div id=\"df-91ea545a-9c45-46fe-bfe1-11a22452a4f4\">\n",
              "    <div class=\"colab-df-container\">\n",
              "      <div>\n",
              "<style scoped>\n",
              "    .dataframe tbody tr th:only-of-type {\n",
              "        vertical-align: middle;\n",
              "    }\n",
              "\n",
              "    .dataframe tbody tr th {\n",
              "        vertical-align: top;\n",
              "    }\n",
              "\n",
              "    .dataframe thead th {\n",
              "        text-align: right;\n",
              "    }\n",
              "</style>\n",
              "<table border=\"1\" class=\"dataframe\">\n",
              "  <thead>\n",
              "    <tr style=\"text-align: right;\">\n",
              "      <th></th>\n",
              "      <th>Mean</th>\n",
              "      <th>Std</th>\n",
              "    </tr>\n",
              "  </thead>\n",
              "  <tbody>\n",
              "    <tr>\n",
              "      <th>accuracy</th>\n",
              "      <td>97.34</td>\n",
              "      <td>0.94</td>\n",
              "    </tr>\n",
              "    <tr>\n",
              "      <th>balanced_accuracy</th>\n",
              "      <td>96.06</td>\n",
              "      <td>2.11</td>\n",
              "    </tr>\n",
              "    <tr>\n",
              "      <th>normalized_mutual_information</th>\n",
              "      <td>91.15</td>\n",
              "      <td>3.07</td>\n",
              "    </tr>\n",
              "    <tr>\n",
              "      <th>auc_tensorflow</th>\n",
              "      <td>100.00</td>\n",
              "      <td>0.00</td>\n",
              "    </tr>\n",
              "    <tr>\n",
              "      <th>auc_scikit_learn</th>\n",
              "      <td>99.72</td>\n",
              "      <td>0.08</td>\n",
              "    </tr>\n",
              "  </tbody>\n",
              "</table>\n",
              "</div>\n",
              "      <button class=\"colab-df-convert\" onclick=\"convertToInteractive('df-91ea545a-9c45-46fe-bfe1-11a22452a4f4')\"\n",
              "              title=\"Convert this dataframe to an interactive table.\"\n",
              "              style=\"display:none;\">\n",
              "        \n",
              "  <svg xmlns=\"http://www.w3.org/2000/svg\" height=\"24px\"viewBox=\"0 0 24 24\"\n",
              "       width=\"24px\">\n",
              "    <path d=\"M0 0h24v24H0V0z\" fill=\"none\"/>\n",
              "    <path d=\"M18.56 5.44l.94 2.06.94-2.06 2.06-.94-2.06-.94-.94-2.06-.94 2.06-2.06.94zm-11 1L8.5 8.5l.94-2.06 2.06-.94-2.06-.94L8.5 2.5l-.94 2.06-2.06.94zm10 10l.94 2.06.94-2.06 2.06-.94-2.06-.94-.94-2.06-.94 2.06-2.06.94z\"/><path d=\"M17.41 7.96l-1.37-1.37c-.4-.4-.92-.59-1.43-.59-.52 0-1.04.2-1.43.59L10.3 9.45l-7.72 7.72c-.78.78-.78 2.05 0 2.83L4 21.41c.39.39.9.59 1.41.59.51 0 1.02-.2 1.41-.59l7.78-7.78 2.81-2.81c.8-.78.8-2.07 0-2.86zM5.41 20L4 18.59l7.72-7.72 1.47 1.35L5.41 20z\"/>\n",
              "  </svg>\n",
              "      </button>\n",
              "      \n",
              "  <style>\n",
              "    .colab-df-container {\n",
              "      display:flex;\n",
              "      flex-wrap:wrap;\n",
              "      gap: 12px;\n",
              "    }\n",
              "\n",
              "    .colab-df-convert {\n",
              "      background-color: #E8F0FE;\n",
              "      border: none;\n",
              "      border-radius: 50%;\n",
              "      cursor: pointer;\n",
              "      display: none;\n",
              "      fill: #1967D2;\n",
              "      height: 32px;\n",
              "      padding: 0 0 0 0;\n",
              "      width: 32px;\n",
              "    }\n",
              "\n",
              "    .colab-df-convert:hover {\n",
              "      background-color: #E2EBFA;\n",
              "      box-shadow: 0px 1px 2px rgba(60, 64, 67, 0.3), 0px 1px 3px 1px rgba(60, 64, 67, 0.15);\n",
              "      fill: #174EA6;\n",
              "    }\n",
              "\n",
              "    [theme=dark] .colab-df-convert {\n",
              "      background-color: #3B4455;\n",
              "      fill: #D2E3FC;\n",
              "    }\n",
              "\n",
              "    [theme=dark] .colab-df-convert:hover {\n",
              "      background-color: #434B5C;\n",
              "      box-shadow: 0px 1px 3px 1px rgba(0, 0, 0, 0.15);\n",
              "      filter: drop-shadow(0px 1px 2px rgba(0, 0, 0, 0.3));\n",
              "      fill: #FFFFFF;\n",
              "    }\n",
              "  </style>\n",
              "\n",
              "      <script>\n",
              "        const buttonEl =\n",
              "          document.querySelector('#df-91ea545a-9c45-46fe-bfe1-11a22452a4f4 button.colab-df-convert');\n",
              "        buttonEl.style.display =\n",
              "          google.colab.kernel.accessAllowed ? 'block' : 'none';\n",
              "\n",
              "        async function convertToInteractive(key) {\n",
              "          const element = document.querySelector('#df-91ea545a-9c45-46fe-bfe1-11a22452a4f4');\n",
              "          const dataTable =\n",
              "            await google.colab.kernel.invokeFunction('convertToInteractive',\n",
              "                                                     [key], {});\n",
              "          if (!dataTable) return;\n",
              "\n",
              "          const docLinkHtml = 'Like what you see? Visit the ' +\n",
              "            '<a target=\"_blank\" href=https://colab.research.google.com/notebooks/data_table.ipynb>data table notebook</a>'\n",
              "            + ' to learn more about interactive tables.';\n",
              "          element.innerHTML = '';\n",
              "          dataTable['output_type'] = 'display_data';\n",
              "          await google.colab.output.renderOutput(dataTable, element);\n",
              "          const docLink = document.createElement('div');\n",
              "          docLink.innerHTML = docLinkHtml;\n",
              "          element.appendChild(docLink);\n",
              "        }\n",
              "      </script>\n",
              "    </div>\n",
              "  </div>\n",
              "  "
            ]
          },
          "metadata": {},
          "execution_count": 19
        }
      ],
      "id": "j5oR79xIvOJf"
    },
    {
      "cell_type": "code",
      "source": [
        "# Save the DataFrame to an excel file\n",
        "result_df.to_excel(database + custom_loss + \".xlsx\")"
      ],
      "metadata": {
        "id": "wrsupD_Qshl2"
      },
      "execution_count": 20,
      "outputs": [],
      "id": "wrsupD_Qshl2"
    }
  ],
  "metadata": {
    "kernelspec": {
      "display_name": "Python 3",
      "language": "python",
      "name": "python3"
    },
    "language_info": {
      "codemirror_mode": {
        "name": "ipython",
        "version": 3
      },
      "file_extension": ".py",
      "mimetype": "text/x-python",
      "name": "python",
      "nbconvert_exporter": "python",
      "pygments_lexer": "ipython3",
      "version": "3.7.12"
    },
    "papermill": {
      "default_parameters": {},
      "duration": 3097.445153,
      "end_time": "2022-10-21T10:31:41.407966",
      "environment_variables": {},
      "exception": null,
      "input_path": "__notebook__.ipynb",
      "output_path": "__notebook__.ipynb",
      "parameters": {},
      "start_time": "2022-10-21T09:40:03.962813",
      "version": "2.3.4"
    },
    "colab": {
      "provenance": [],
      "include_colab_link": true
    }
  },
  "nbformat": 4,
  "nbformat_minor": 5
}