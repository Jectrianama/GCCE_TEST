{
  "cells": [
    {
      "cell_type": "markdown",
      "metadata": {
        "id": "view-in-github",
        "colab_type": "text"
      },
      "source": [
        "<a href=\"https://colab.research.google.com/github/Jectrianama/GCCE_TEST/blob/main/GoldStandard1/golds_Voice_randose.ipynb\" target=\"_parent\"><img src=\"https://colab.research.google.com/assets/colab-badge.svg\" alt=\"Open In Colab\"/></a>"
      ]
    },
    {
      "cell_type": "markdown",
      "metadata": {
        "id": "e01bde71"
      },
      "source": [
        "# Subclassing for GCCE"
      ],
      "id": "e01bde71"
    },
    {
      "cell_type": "code",
      "source": [
        "import tensorflow as tf\n",
        "from sklearn.metrics import classification_report, accuracy_score, balanced_accuracy_score, roc_auc_score, mutual_info_score, normalized_mutual_info_score, adjusted_mutual_info_score\n",
        "from sklearn.preprocessing import LabelBinarizer\n",
        "from sklearn.preprocessing import OneHotEncoder\n",
        "from scipy.stats import mode \n",
        "import numpy as np\n",
        "\n",
        "def ook(t):\n",
        "  lb = LabelBinarizer()\n",
        "  y_ook = lb.fit_transform(t)  \n",
        "\n",
        "  if len(np.unique(t))==2:\n",
        "    y_ook = np.concatenate((1-y_ook.astype(bool), y_ook), axis = 1) \n",
        "\n",
        "  return y_ook\n",
        "\n",
        "\n",
        "def onehot_encode(df, columns):\n",
        "    df = df.copy()\n",
        "    for column in columns:\n",
        "        dummies = pd.get_dummies(df[column], prefix=column)\n",
        "        df = pd.concat([df, dummies], axis=1)\n",
        "        df = df.drop(column, axis=1)\n",
        "    return df\n",
        "\n",
        "def preprocess_inputs(df):\n",
        "    df = df.copy()\n",
        "    \n",
        "    # Encode label values as numbers\n",
        "    df['V10'] = df['V10'].replace({'negative': 0, 'positive': 1})\n",
        "    \n",
        "    # One-hot encode board space columns\n",
        "    df = onehot_encode(\n",
        "        df,\n",
        "        columns=['V' + str(i) for i in range(1, 10)]\n",
        "    )\n",
        "    \n",
        "    # Split df into X and y\n",
        "    y = df['V10'].copy()\n",
        "    X = df.drop('V10', axis=1).copy()\n",
        "    \n",
        "    # Train-test split\n",
        "   # X_train, X_test, y_train, y_test = train_test_split(X, y, train_size=0.7, random_state=123)\n",
        "    \n",
        "    return X, y\n",
        "\n",
        "\n",
        "\n",
        "def evaluation_metrics(y_true, y_pred, print_result=True):\n",
        "    acc = 0\n",
        "    auc = 0\n",
        "    auc_sk = 0\n",
        "    #mi = 0\n",
        "    nmi = 0\n",
        "    #ami = 0\n",
        "    bacc = 0\n",
        "    \n",
        "    # Accuracy\n",
        "    #report = classification_report(y_pred.argmax(axis=1), y_true.ravel(), output_dict=True)\n",
        "    acc = accuracy_score( y_true.ravel(), y_pred.argmax(axis=1))  #report['accuracy']\n",
        "    \n",
        "    # Balanced accuracy\n",
        "    bacc = balanced_accuracy_score(y_true.squeeze(), y_pred.argmax(axis=1).squeeze(), adjusted=True)\n",
        "    \n",
        "   # # Mutual Information\n",
        "   # mi = mutual_info_score(y_true.squeeze(), y_pred.argmax(axis=1).squeeze())\n",
        "    \n",
        "    # Normalized Mutual Information\n",
        "    nmi = normalized_mutual_info_score(y_true.squeeze(), y_pred.argmax(axis=1).squeeze())\n",
        "    \n",
        "    # Adjusted Mutual Information\n",
        "    #ami = adjusted_mutual_info_score(y_true.squeeze(), y_pred.argmax(axis=1).squeeze())\n",
        "    \n",
        "    # AUC (Tensorflow)\n",
        "    auc_metric = tf.keras.metrics.AUC(from_logits=True)\n",
        "    auc_metric.update_state(y_true, y_pred.argmax(axis=1).astype('float'))\n",
        "    auc = auc_metric.result().numpy()\n",
        "    auc_metric.reset_states()\n",
        "    \n",
        "    # AUC (scikit-learn)\n",
        "    auc_sk = roc_auc_score(ook(y_true), y_pred)\n",
        "    \n",
        "    if print_result:\n",
        "        print(\"Accuracy: {:.4f}\".format(acc))\n",
        "        print(\"Balanced Accuracy: {:.4f}\".format(bacc))\n",
        "       # print(\"Mutual Information: {:.4f}\".format(mi))\n",
        "        print(\"Normalized Mutual Information: {:.4f}\".format(nmi))\n",
        "       # print(\"Adjusted Mutual Information: {:.4f}\".format(ami))\n",
        "        print(\"AUC (Tensorflow): {:.4f}\".format(auc))\n",
        "        print(\"AUC (scikit-learn): {:.4f}\".format(auc_sk))\n",
        "    \n",
        "    return acc, auc, auc_sk, nmi, bacc   # mi, , ami\n",
        "\n",
        "\n"
      ],
      "metadata": {
        "id": "uGFCIyuiWaiF"
      },
      "id": "uGFCIyuiWaiF",
      "execution_count": 17,
      "outputs": []
    },
    {
      "cell_type": "code",
      "execution_count": 18,
      "metadata": {
        "id": "e484b300"
      },
      "outputs": [],
      "source": [
        "# -*- coding: utf-8 -*-\n",
        "import tensorflow as tf\n",
        "import matplotlib.pyplot as plt\n",
        "#from tensorflow.keras.wrappers.scikit_learn import KerasClassifier\n",
        "import tensorflow_probability as tfp\n",
        "from tensorflow.keras import regularizers\n",
        "from sklearn.base import  BaseEstimator, TransformerMixin, ClassifierMixin\n",
        "from sklearn.model_selection import train_test_split\n",
        "tf.keras.backend.clear_session()\n",
        "#tf.random.set_seed(42)\n",
        "import types\n",
        "import tempfile\n",
        "class Keras_MA_GCCE(): #transformer no va\n",
        " #Constructor __init__. Special method: identified by a double underscore at either side of their name\n",
        " #work in the background\n",
        " # initialize data members to the object. lets the class initialize the object’s attributes and serves no other purpose.\n",
        "    def __init__(self,epochs=100,batch_size=30,R=5, K=2, dropout=0.5, learning_rate=1e-3,optimizer='Adam', \n",
        "                  l1_param=0, validation_split=0.3, verbose=1, q = 0.1):\n",
        "        self.epochs=epochs\n",
        "        self.dropout=dropout\n",
        "        self.batch_size = batch_size\n",
        "        self.learning_rate=learning_rate \n",
        "        self.l1_param=l1_param \n",
        "        self.l2_param=l1_param\n",
        "        self.validation_split = validation_split\n",
        "        self.verbose = verbose\n",
        "        self.optimizer = optimizer\n",
        "        self.R=R\n",
        "        self.K=K\n",
        "        self.q = q\n",
        "\n",
        "    \n",
        " \n",
        "    def GCCE_MA_loss(self, y_true, y_pred):\n",
        "        # print(y_true,y_pred)\n",
        "       # q = 0.1\n",
        "        pred = y_pred[:, self.R:]\n",
        "        pred = tf.clip_by_value(pred, clip_value_min=1e-9, clip_value_max=1)\n",
        "        ann_ = y_pred[:, :self.R]\n",
        "        # ann_ = tf.clip_by_value(ann_, clip_value_min=1e-9, clip_value_max=1-1e-9)\n",
        "        Y_true = tf.one_hot(tf.cast(y_true, dtype=tf.int32), depth=self.K, axis=1)\n",
        "        Y_hat = tf.repeat(tf.expand_dims(pred,-1), self.R, axis = -1)\n",
        "\n",
        "        p_gcce = Y_true*(1 - Y_hat**self.q)/self.q\n",
        "        temp1 = ann_*tf.math.reduce_sum(p_gcce, axis=1)\n",
        "\n",
        "        # p_logreg = tf.math.reduce_prod(tf.math.pow(Y_hat, Y_true), axis=1)\n",
        "        # temp1 = ann_*tf.math.log(p_logreg)  \n",
        "        # temp2 = (1 - ann_)*tf.math.log(1/K)*tf.reduce_sum(Y_true,axis=1)\n",
        "        # aux = tf.repeat(tf.reduce_sum(pred*tf.math.log(pred),axis=1,keepdims=True), R, axis = 1)\n",
        "        # tf.print(tf.shape(aux))\n",
        "        # print(tf.shape(aux))\n",
        "        # temp2 = (1 - ann_)*aux*tf.reduce_sum(Y_true,axis=1)\n",
        "        # temp2 = (tf.ones(tf.shape(ann_)) - ann_)*tf.math.log(1/K)\n",
        "        # print(tf.reduce_mean(Y_true,axis=1).numpy())\n",
        "        # Y_true_1 = tf.clip_by_value(Y_true, clip_value_min=1e-9, clip_value_max=1)\n",
        "        # p_logreg_inv = tf.math.reduce_prod(tf.math.pow(Y_true_1, Y_hat), axis=1)\n",
        "        # temp2 = (1 - ann_)*tf.math.log(p_logreg_inv) \n",
        "        temp2 = (1 - ann_)*(1-(1/self.K)**self.q)/self.q*tf.reduce_sum(Y_true,axis=1)\n",
        "        return tf.math.reduce_sum((temp1 + temp2))\n",
        "\n",
        " \n",
        "    def PRI_MA_loss(self, y_true, y_pred): #,  -> PRI\n",
        "        #Input ytrue: samples (N) x  annotators (R) \n",
        "        #Input ypred: samples (N) x  annotators+classes (R+K) \n",
        "        #PRI MA\n",
        "        cce_M = tf.keras.losses.CategoricalCrossentropy(reduction='none',axis=-1)\n",
        "        cce_C = tf.keras.losses.CategoricalCrossentropy(reduction='none',axis=1)\n",
        "\n",
        "      \n",
        "\n",
        "        #N = tf.cast(y_true.shape[0],dtype=tf.int32)\n",
        "        N = tf.shape(y_true)[0]\n",
        "        #Ground truth estimation samples (N) x  Classes(K)\n",
        "        y_pred_tf = y_pred[:,self.R:] \n",
        "        # Annotators reliability prediction: samples (N) x  annotators (R)\n",
        "        lambda_R_tf = y_pred[:,:self.R] #tf.ones(shape=(N,R)) \n",
        "        #Y_true 1 K: samples (N) x  Classes(1-K), annotators (R)\n",
        "        Y_true_1K = tf.one_hot(tf.cast(y_true,dtype=tf.int32),depth=self.K,axis=1)  \n",
        "        #Y_pred 1 - K: samples (N) x  Classes(1-K), annotators (R)\n",
        "        Y_hat = tf.repeat(tf.expand_dims(y_pred_tf,-1), self.R, axis = -1) \n",
        "        #marginal entropy\n",
        "        #cce along the K classes -> ypred_tf\n",
        "        Hm_ = cce_M(y_pred_tf,y_pred_tf)\n",
        "        #cross entropy\n",
        "        #cce along the K classes -> Y_hat\n",
        "        Hc_ = cce_C(Y_true_1K,Y_hat)\n",
        "        #PRI MA computation\n",
        "        LH = tf.linalg.matmul(lambda_R_tf,Hc_,transpose_a=True) # \\Lambda^\\top H_c\n",
        "        temp1 = tf.linalg.trace(LH) #trace(LH)\n",
        "        Hm1L = tf.linalg.matmul(tf.ones(shape=(N,self.R))-lambda_R_tf,tf.ones(shape=(self.R,1)))# 1_N 1_R^\\top - Lambda\n",
        "        Hm_t = tf.reshape(Hm_,shape=(N,1))\n",
        "        temp2 = tf.squeeze(tf.linalg.matmul(Hm_t,Hm1L,transpose_a=True)) # Hm^\\top Hm1L\n",
        "        loss_c = temp1+ temp2 #return loss\n",
        "\n",
        "        return loss_c\n",
        "\n",
        " \n",
        "    def fit(self, X, Y):\n",
        "\n",
        "        initializer = tf.keras.initializers.GlorotNormal(seed=100)\n",
        "        #input X numpy array first dimension samples (N)x features (P)\n",
        "        #input Y numpy array vector len = samples (N) x  annotators (R)\n",
        "        P = X.shape[1]\n",
        "        if self.optimizer == \"Adam\":\n",
        "            opt = tf.keras.optimizers.Adam(learning_rate=self.learning_rate, clipnorm=1.0)\n",
        "        elif self.optimizer == \"SGD\":\n",
        "            opt = tf.keras.optimizers.SGD(learning_rate=self.learning_rate, clipnorm=1.0)\n",
        "        elif self.optimizer == \"RMS\":\n",
        "            opt = tf.keras.optimizers.RMSprop(learning_rate=self.learning_rate, clipnorm=1.0)\n",
        "        else:\n",
        "            opt=self.optimizer\n",
        "\n",
        "        #capa de entrada\n",
        "        input_l = tf.keras.layers.Input(shape=(X_train.shape[1]), name='entrada')\n",
        "        input_l_b = tf.keras.layers.BatchNormalization()(input_l)        \n",
        "        input_l_do = tf.keras.layers.Dropout(rate=self.dropout)(input_l_b)   \n",
        "        #capas densas\n",
        "        h1 = tf.keras.layers.Dense(int(P*1*(self.K+self.R)),activation='selu',name='h1',  bias_initializer='zeros', kernel_initializer=initializer,\n",
        "                              kernel_regularizer=tf.keras.regularizers.l1_l2(l1=self.l1_param,l2=self.l2_param))(input_l_do)#argumento de entrada\n",
        "        #h1 = tf.keras.layers.BatchNormalization()(h1)        \n",
        "        h1 = tf.keras.layers.AlphaDropout(rate=self.dropout)(h1)      \n",
        "        h2 = tf.keras.layers.Dense(int(P*(self.K+self.R)),activation='selu',name='h2',  bias_initializer='zeros', kernel_initializer=initializer,\n",
        "                              kernel_regularizer=tf.keras.regularizers.l1_l2(l1=self.l1_param,l2=self.l2_param))(h1)\n",
        "        #h2 = tf.keras.layers.BatchNormalization()(h2)     \n",
        "        dout = tf.keras.layers.AlphaDropout(rate=self.dropout)(h2)\n",
        "        #capa de salida\n",
        "        \n",
        "        output = tf.keras.layers.Dense(self.K,activation=\"softmax\",name='output',  bias_initializer='zeros', kernel_initializer=initializer,\n",
        "                                   kernel_regularizer=tf.keras.regularizers.l1_l2(l1=self.l1_param,l2=self.l2_param))(dout)\n",
        "        self.model = tf.keras.Model(inputs= input_l,outputs=output)\n",
        "        self.model.compile(loss=tf.keras.losses.SparseCategoricalCrossentropy(), optimizer=opt,metrics=\"accuracy\")\n",
        "         \n",
        "            \n",
        "        callback1 = tf.keras.callbacks.TerminateOnNaN()\n",
        "        callback2 = tf.keras.callbacks.LearningRateScheduler(scheduler1(ratio = 1))\n",
        "        #callback2 = tf.keras.callbacks.LearningRateScheduler(scheduler2)\n",
        "        callback3 = tf.keras.callbacks.EarlyStopping(monitor=\"loss\", min_delta=1e-2,\n",
        "                                                 patience=15, verbose=0, mode=\"auto\",\n",
        "                                                 baseline=None, restore_best_weights=True)\n",
        "            \n",
        "        self.history = self.model.fit(X, Y, epochs=self.epochs, validation_split=self.validation_split, callbacks = [callback1, callback2],\n",
        "                                      batch_size=self.batch_size,verbose=self.verbose)\n",
        "        \n",
        "\n",
        "        self.model.summary() \n",
        "        return self\n",
        " \n",
        "  \n",
        "   \n",
        "    def predict(self, X, *_):\n",
        "       #input X numpy array first dimension samples (N)x features (P)\n",
        "      return  self.model.predict(X) \n",
        " \n",
        "    \n",
        "    def predict_proba(self, X, num_samples):\n",
        "        preds = [self.model(X, training=True) for _ in range(num_samples)]\n",
        "        return np.stack(preds).mean(axis=0)\n",
        "\n",
        "    def fit_predict(self,X,y):\n",
        "        #input X numpy array first dimension samples (N)x features (P)\n",
        "        #input Y numpy array vector len = samples (N) x  annotators (R)\n",
        "        self.fit(X,y)\n",
        "        return self.predict(X)\n",
        "  \n",
        "     #graphics\n",
        "    def plot_history(self):\n",
        "        pd.DataFrame(self.history.history).plot(figsize=(8, 5))\n",
        "        plt.grid(True)\n",
        "        #plt.gca().set_ylim(0, 1)\n",
        "        #save_fig(\"keras_learning_curves_plot\")\n",
        "        plt.show()\n",
        "        return\n",
        "    \n",
        "    def set_params(self, **parameters):\n",
        "        for parameter, value in parameters.items():\n",
        "            setattr(self, parameter, value)\n",
        "\n",
        "        return self\n",
        "    \n",
        "    \n",
        "    \n",
        "    def get_params(self, deep=True):\n",
        "        return { 'l1_param':self.l1_param, 'dropout':self.dropout, 'optimizer':self.optimizer,\n",
        "                'learning_rate':self.learning_rate, 'batch_size':self.batch_size,\n",
        "                'epochs':self.epochs, 'verbose':self.verbose, 'validation_split':self.validation_split,\n",
        "                'R':self.R, 'K':self.K, 'q':self.q\n",
        "                }\n",
        "\n",
        "  \n",
        "        return self\n"
      ],
      "id": "e484b300"
    },
    {
      "cell_type": "code",
      "execution_count": 19,
      "metadata": {
        "colab": {
          "base_uri": "https://localhost:8080/"
        },
        "id": "2109ab08",
        "outputId": "1a3829cd-f037-4d6b-d757-281c130dde05"
      },
      "outputs": [
        {
          "output_type": "stream",
          "name": "stdout",
          "text": [
            "--2023-02-13 20:42:54--  https://docs.google.com/uc?export=download&confirm=t&id=1SQnWXGROG2Xexs5vn3twuv7SqiWG5njW\n",
            "Resolving docs.google.com (docs.google.com)... 142.250.159.101, 142.250.159.139, 142.250.159.113, ...\n",
            "Connecting to docs.google.com (docs.google.com)|142.250.159.101|:443... connected.\n",
            "HTTP request sent, awaiting response... 303 See Other\n",
            "Location: https://doc-00-90-docs.googleusercontent.com/docs/securesc/ha0ro937gcuc7l7deffksulhg5h7mbp1/k51cpj54ipjojtfjagero1rg105caili/1676320950000/07591141114418430227/*/1SQnWXGROG2Xexs5vn3twuv7SqiWG5njW?e=download&uuid=69111f0b-f9db-459b-ae42-85fa69ba6ab8 [following]\n",
            "Warning: wildcards not supported in HTTP.\n",
            "--2023-02-13 20:42:54--  https://doc-00-90-docs.googleusercontent.com/docs/securesc/ha0ro937gcuc7l7deffksulhg5h7mbp1/k51cpj54ipjojtfjagero1rg105caili/1676320950000/07591141114418430227/*/1SQnWXGROG2Xexs5vn3twuv7SqiWG5njW?e=download&uuid=69111f0b-f9db-459b-ae42-85fa69ba6ab8\n",
            "Resolving doc-00-90-docs.googleusercontent.com (doc-00-90-docs.googleusercontent.com)... 142.250.136.132, 2607:f8b0:4001:c34::84\n",
            "Connecting to doc-00-90-docs.googleusercontent.com (doc-00-90-docs.googleusercontent.com)|142.250.136.132|:443... connected.\n",
            "HTTP request sent, awaiting response... 200 OK\n",
            "Length: 156530728 (149M) [application/zip]\n",
            "Saving to: ‘MADatasets.zip’\n",
            "\n",
            "MADatasets.zip      100%[===================>] 149.28M   173MB/s    in 0.9s    \n",
            "\n",
            "2023-02-13 20:42:55 (173 MB/s) - ‘MADatasets.zip’ saved [156530728/156530728]\n",
            "\n",
            "Archive:  MADatasets.zip\n",
            "  inflating: MADatasets/util.py      \n",
            "  inflating: MADatasets/Iris1.mat    \n",
            "  inflating: MADatasets/Integra_Labels.mat  \n",
            "  inflating: MADatasets/MAGenerationClassification.py  \n",
            "  inflating: MADatasets/Voice.mat    \n",
            "  inflating: MADatasets/Iris.mat     \n",
            "  inflating: MADatasets/Sinthetic.mat  \n",
            "  inflating: MADatasets/MAGenerationClassification_1.py  \n",
            "  inflating: MADatasets/Bupa1.mat    \n",
            "  inflating: MADatasets/TicTacToe1.mat  \n",
            "  inflating: MADatasets/Wine.mat     \n",
            "  inflating: MADatasets/Breast1.mat  \n",
            "  inflating: MADatasets/Breast.mat   \n",
            "  inflating: MADatasets/Music.mat    \n",
            "  inflating: MADatasets/Pima.mat     \n",
            "  inflating: MADatasets/Ionosphere.mat  \n",
            "  inflating: MADatasets/TicTacToe.mat  \n",
            "  inflating: MADatasets/VoiceData.m  \n",
            "  inflating: MADatasets/util_1.py    \n",
            "  inflating: MADatasets/Ionosphere1.mat  \n",
            "  inflating: MADatasets/__pycache__/util_1.cpython-37.pyc  \n",
            "  inflating: MADatasets/Bupa.mat     \n",
            "  inflating: MADatasets/Wine1.mat    \n",
            "  inflating: MADatasets/__pycache__/util.cpython-37.pyc  \n",
            "  inflating: MADatasets/Pima1.mat    \n",
            "  inflating: MADatasets/Segmentation1.mat  \n",
            "  inflating: MADatasets/Western.mat  \n",
            "  inflating: MADatasets/Integra_Preprocesamiento_Seg_Caracterizacion_time_frec.mat  \n",
            "  inflating: MADatasets/Western1.mat  \n",
            "  inflating: MADatasets/Segmentation.mat  \n",
            "  inflating: MADatasets/Skin_NonSkin.mat  \n",
            "  inflating: MADatasets/Skin_NonSkin1.mat  \n",
            "  inflating: MADatasets/Occupancy1.mat  \n",
            "  inflating: MADatasets/Polarity.mat  \n",
            "  inflating: MADatasets/Occupancy.mat  \n",
            "MADatasets  MADatasets.zip  sample_data\n"
          ]
        }
      ],
      "source": [
        "#cargar datos desde drive acceso libre\n",
        "FILEID = \"1SQnWXGROG2Xexs5vn3twuv7SqiWG5njW\"\n",
        "#https://drive.google.com/file/d/1SQnWXGROG2Xexs5vn3twuv7SqiWG5njW/view?usp=sharing\n",
        "!wget --load-cookies /tmp/cookies.txt \"https://docs.google.com/uc?export=download&confirm=$(wget --quiet --save-cookies /tmp/cookies.txt --keep-session-cookies --no-check-certificate 'https://docs.google.com/uc?export=download&id='$FILEID -O- | sed -rn 's/.*confirm=([0-9A-Za-z_]+).*/\\1\\n/p')&id=\"$FILEID -O MADatasets.zip && rm -rf /tmp/cookies.txt\n",
        "!unzip -o MADatasets.zip\n",
        "!dir"
      ],
      "id": "2109ab08"
    },
    {
      "cell_type": "code",
      "source": [
        "\n",
        "import tensorflow as tf\n",
        "import numpy as np\n",
        "from scipy.io import loadmat\n",
        "from sklearn.preprocessing import StandardScaler\n",
        "from scipy.io import savemat\n",
        "from sklearn.metrics import roc_auc_score\n",
        "from sklearn.preprocessing import LabelBinarizer\n",
        "from sklearn.preprocessing import OneHotEncoder\n",
        "from scipy.stats import mode \n",
        "import pandas as pd\n",
        "import matplotlib.pyplot as plt \n",
        "from sklearn.metrics import roc_auc_score\n",
        "from sklearn.decomposition import PCA\n",
        "\n",
        "def ook(t):\n",
        "  lb = LabelBinarizer()\n",
        "  y_ook = lb.fit_transform(t)  \n",
        "\n",
        "  if len(np.unique(t))==2:\n",
        "    y_ook = np.concatenate((1-y_ook.astype(bool), y_ook), axis = 1) \n",
        "\n",
        "  return y_ook\n",
        "\n",
        "\n",
        "def scheduler1(step = 10, ratio = 1.2):\n",
        "  def scheduler(epoch, lr):\n",
        "    if epoch % step == 0 and epoch>1:\n",
        "      return lr/ratio\n",
        "    else:\n",
        "      return lr\n",
        "  return scheduler"
      ],
      "metadata": {
        "id": "SP9vN5-q8Wv1"
      },
      "id": "SP9vN5-q8Wv1",
      "execution_count": 20,
      "outputs": []
    },
    {
      "cell_type": "markdown",
      "metadata": {
        "id": "d32c7c41"
      },
      "source": [
        "# Load Data"
      ],
      "id": "d32c7c41"
    },
    {
      "cell_type": "code",
      "execution_count": 21,
      "metadata": {
        "colab": {
          "base_uri": "https://localhost:8080/"
        },
        "id": "e0c06840",
        "outputId": "34d6a8ae-d1c8-42bc-bec9-8f45439e7747"
      },
      "outputs": [
        {
          "output_type": "execute_result",
          "data": {
            "text/plain": [
              "dict_keys(['__header__', '__version__', '__globals__', 'X1', 'X2', 'X3', 'YA', 'YB', 'YG', 'YR', 'YS', 'y', 'idxte', 'idxtr'])"
            ]
          },
          "metadata": {},
          "execution_count": 21
        }
      ],
      "source": [
        "#load data\n",
        "import scipy.io as sio\n",
        "import matplotlib.pyplot as plt\n",
        "import pandas as pd\n",
        "import tensorflow as tf #importar tensorflow\n",
        "from sklearn.model_selection import GridSearchCV, RandomizedSearchCV\n",
        "from sklearn.preprocessing import StandardScaler,MinMaxScaler\n",
        "import numpy as np\n",
        "database = 'Voice' #['bupa1', 'breast-cancer-wisconsin1','pima-indians-diabetes1', 'ionosphere1', 'tic-tac-toe1', 'iris1', 'wine1', 'segmentation1']\n",
        "\n",
        "\n",
        "path_ = 'MADatasets/'+ database+ '.mat' \n",
        "Xdata = sio.loadmat(path_)\n",
        "Xdata.keys()"
      ],
      "id": "e0c06840"
    },
    {
      "cell_type": "code",
      "execution_count": 22,
      "metadata": {
        "colab": {
          "base_uri": "https://localhost:8080/"
        },
        "id": "Vk53uHwAdyDi",
        "outputId": "3e5706df-1387-4c3d-d1b4-6378474cdb19"
      },
      "outputs": [
        {
          "output_type": "stream",
          "name": "stdout",
          "text": [
            "X1train (218, 13) X2train (218, 26) X3train (218, 39)\n",
            "YA (218, 4) YB (218, 4) YG (218, 3) YR (218, 4) YS (218, 4)\n",
            "Ytrue (218, 1)\n"
          ]
        }
      ],
      "source": [
        "\n",
        "X1train = Xdata['X1']\n",
        "X2train = Xdata['X2']\n",
        "X3train = Xdata['X3']\n",
        "\n",
        "Ytrue =  Xdata['y']\n",
        "YA =  Xdata['YA']\n",
        "YB =  Xdata['YB']\n",
        "YR=  Xdata['YR']\n",
        "YG =  Xdata['YG']\n",
        "YS =  Xdata['YS']\n",
        " \n",
        "print('X1train',X1train.shape, 'X2train',X2train.shape, 'X3train',X3train.shape)\n",
        "print('YA',YA.shape, 'YB',YB.shape, 'YG',YG.shape,'YR',YR.shape, 'YS',YS.shape)  #,    'Ytrain',Ytrain.shape, 'Ytest',Ytest.shape)\n",
        "print('Ytrue', Ytrue.shape)\n",
        " "
      ],
      "id": "Vk53uHwAdyDi"
    },
    {
      "cell_type": "code",
      "execution_count": 23,
      "metadata": {
        "id": "9qPn7wFwDpGf"
      },
      "outputs": [],
      "source": [
        "YR[YR>=1] =1\n",
        "Y = YR \n",
        "\n",
        "X = X1train\n",
        "#regresor logistico"
      ],
      "id": "9qPn7wFwDpGf"
    },
    {
      "cell_type": "code",
      "execution_count": 24,
      "metadata": {
        "id": "3TbvMXp9vunp"
      },
      "outputs": [],
      "source": [
        "test_index = Xdata['idxte']\n",
        "train_index = Xdata['idxtr']"
      ],
      "id": "3TbvMXp9vunp"
    },
    {
      "cell_type": "code",
      "execution_count": 25,
      "metadata": {
        "id": "DZJ6sjhDwDwi"
      },
      "outputs": [],
      "source": [
        " \n",
        "X_train, X_test,Y_train,Y_test = X[train_index[:,2],:], X[test_index[:,2],:],Y[train_index[:,2],:], Y[test_index[:,2],:]\n",
        "Y_true_train, Y_true_test = Ytrue[train_index[:,2]].reshape(-1,1), Ytrue[test_index[:,2]].reshape(-1,1)"
      ],
      "id": "DZJ6sjhDwDwi"
    },
    {
      "cell_type": "code",
      "execution_count": 26,
      "metadata": {
        "id": "K6mH8-Dil6Zj"
      },
      "outputs": [],
      "source": [
        "scaler = StandardScaler()\n",
        "scaler.fit(X_train)\n",
        "X_train = scaler.transform(X_train)\n",
        "X_test = scaler.transform(X_test)"
      ],
      "id": "K6mH8-Dil6Zj"
    },
    {
      "cell_type": "code",
      "execution_count": 27,
      "metadata": {
        "colab": {
          "base_uri": "https://localhost:8080/"
        },
        "id": "Uni77N-wlKdU",
        "outputId": "d9ac60c7-be9e-4a0b-c67f-750a00a22cc7"
      },
      "outputs": [
        {
          "output_type": "execute_result",
          "data": {
            "text/plain": [
              "0.9230769230769231"
            ]
          },
          "metadata": {},
          "execution_count": 27
        }
      ],
      "source": [
        "\n",
        "from sklearn.linear_model import LogisticRegression\n",
        " \n",
        "clf = LogisticRegression(random_state=0).fit(X_train, Y_true_train.ravel())\n",
        " \n",
        "clf.score(X_test, Y_true_test.ravel())\n"
      ],
      "id": "Uni77N-wlKdU"
    },
    {
      "cell_type": "markdown",
      "metadata": {
        "id": "19dbcd92"
      },
      "source": [
        "# Split data"
      ],
      "id": "19dbcd92"
    },
    {
      "cell_type": "code",
      "execution_count": 28,
      "metadata": {
        "id": "31dd59f5"
      },
      "outputs": [],
      "source": [
        "import numpy.matlib\n",
        "# from sklearn.model_selection import ShuffleSplit, StratifiedShuffleSplit\n",
        "# Ns = 1\n",
        "# ss =StratifiedShuffleSplit(n_splits=Ns, test_size=0.3,random_state =123)\n",
        "# for train_index, test_index in ss.split(X,Ytrue):\n",
        "#     print(test_index)\n",
        "#     X_train, X_test,Y_train,Y_test = X[train_index,:], X[test_index,:],Y[train_index,:], Y[test_index,:]\n",
        "#     Y_true_train, Y_true_test = Ytrue[train_index].reshape(-1,1), Ytrue[test_index].reshape(-1,1)\n",
        "# print(X_train.shape, Y_train.shape, Y_true_train.shape)"
      ],
      "id": "31dd59f5"
    },
    {
      "cell_type": "code",
      "execution_count": 29,
      "metadata": {
        "id": "83e12625"
      },
      "outputs": [],
      "source": [
        "# for i in range(Y.shape[1]):\n",
        "#     print('annotator',i+1)\n",
        "   \n",
        "#     unique, counts = np.unique(Y_train[:,i], return_counts=True)\n",
        "#     plt.figure()\n",
        "#     plt.bar(unique, counts)\n",
        "#     unique, counts = np.unique(Y_test[:,i], return_counts=True)\n",
        "#     plt.bar(unique, counts)\n",
        "\n",
        "#     plt.title('Class Frequency for Y_true')\n",
        "#     plt.xlabel('Class')\n",
        "#     plt.ylabel('Frequency')\n"
      ],
      "id": "83e12625"
    },
    {
      "cell_type": "markdown",
      "metadata": {
        "id": "63e48f84"
      },
      "source": [
        "# Apply MinMaxScaler"
      ],
      "id": "63e48f84"
    },
    {
      "cell_type": "code",
      "execution_count": 30,
      "metadata": {
        "id": "e92f90b4"
      },
      "outputs": [],
      "source": [
        "# scaler = StandardScaler()\n",
        "# scaler.fit(X_train)\n",
        "# X_train = scaler.transform(X_train)\n",
        "# X_test = scaler.transform(X_test)"
      ],
      "id": "e92f90b4"
    },
    {
      "cell_type": "markdown",
      "metadata": {
        "id": "a27a1684"
      },
      "source": [
        "# Testing the Class \n"
      ],
      "id": "a27a1684"
    },
    {
      "cell_type": "code",
      "execution_count": 31,
      "metadata": {
        "id": "3edbed70"
      },
      "outputs": [],
      "source": [
        "# from sklearn.metrics import classification_report, balanced_accuracy_score, roc_auc_score, accuracy_score\n",
        "# from sklearn.metrics import normalized_mutual_info_score, mutual_info_score, adjusted_mutual_info_score\n",
        "# l1 =  0.01\n",
        "# NUM_RUNS =10\n",
        "# ACC = np.zeros(NUM_RUNS)\n",
        "# AUC = np.zeros(NUM_RUNS)\n",
        "# MI = np.zeros(NUM_RUNS)\n",
        "# NMI = np.zeros(NUM_RUNS)\n",
        "# AMI = np.zeros(NUM_RUNS)\n",
        "# BACC = np.zeros(NUM_RUNS)\n",
        "# for i in range(NUM_RUNS): #10\n",
        "#     print(\"iteration: \" + str(i))\n",
        "#     MA = Keras_MA_GCCE(epochs=300,batch_size=32,R=1, K=len(np.unique(Y_true_train)), dropout=0.2, learning_rate=0.001,optimizer='Adam', \n",
        "#                 l1_param=l1,  validation_split=0, verbose=0, q=0.7)\n",
        "\n",
        "\n",
        "#     MA.fit(X_train, Y_true_train)\n",
        "#     MA.plot_history()\n",
        "  \n",
        "\n",
        "#     #Accuracy montecarlo Dropout ======================\n",
        "#     y_pred = MA.predict_proba(X_test, 200)\n",
        "#     acc = accuracy_score(y_pred.argmax(axis=1),Y_true_test.ravel())\n",
        "#     ACC[i] = acc\n",
        "#     print(\"Validation montecarlo ACC: %.4f\" % (float(acc)))\n",
        " \n",
        "#     #Accuracy ===============================================================\n",
        "#     pred_2 = MA.predict(X_test)\n",
        "#     report = classification_report(Y_true_test.ravel(), pred_2.argmax(axis=1),output_dict=True)\n",
        "#     ACC[i] = report['accuracy']\n",
        "#     print(\"Validation ACC: %.4f\" % (float(ACC[i])))\n",
        " \n",
        "#     #AUC ================================================================================\n",
        "#     val_AUC_metric = tf.keras.metrics.AUC(num_thresholds=3, from_logits = True)  \n",
        "#     #val_logits =MA.predict(X_test) # model(X_test, training=False)\n",
        "#     # tf.print(y_batch_val)\n",
        "#     val_AUC_metric.update_state(Y_true_test, pred_2.argmax(axis=1).squeeze().astype('float'))\n",
        "#     val_AUC1 = roc_auc_score(ook(Y_true_test), pred_2)\n",
        "#     print(\"Validation aUc_Sklearn: %.4f\" % (float(val_AUC1),))\n",
        "#     AUC[i] = val_AUC1\n",
        "\n",
        "\n",
        "\n",
        "#     # balanced. Accurcy\n",
        "#     BACC[i] = balanced_accuracy_score(Y_true_test.squeeze(), pred_2.argmax(axis=1).squeeze(), adjusted=True)\n",
        "#     print(\"Validation Balanced_ACC: %.4f\" % (float(BACC[i])))\n",
        "\n",
        "#     #MI\n",
        "    \n",
        "#     # MI[i] = mutual_info_score(Y_true_test.squeeze(), pred_2.argmax(axis=1).squeeze())\n",
        "#     # print(\"Validation MI: %.4f\" % (float(MI[i]),))\n",
        "#     NMI[i] = normalized_mutual_info_score(Y_true_test.squeeze(), pred_2.argmax(axis=1).squeeze())\n",
        "#     print(\"Validation Normalized MI: %.4f\" % (float(NMI[i]),))\n",
        "#     AMI[i]= adjusted_mutual_info_score(Y_true_test.squeeze(), pred_2.argmax(axis=1).squeeze())\n",
        "#     print(\"Validation Adjusted MI: %.4f\" % (float(AMI[i]),))\n",
        "\n",
        "#     val_AUC = val_AUC_metric.result()\n",
        "#     val_AUC_metric.reset_states()\n",
        "#     val_AUC = val_AUC.numpy()\n",
        "#     print(\"Validation aUc: %.4f\" % (float(val_AUC),))\n",
        "#     #AUC[i] = val_AUC"
      ],
      "id": "3edbed70"
    },
    {
      "cell_type": "code",
      "source": [],
      "metadata": {
        "id": "3tLRdZZ5z2ZP"
      },
      "id": "3tLRdZZ5z2ZP",
      "execution_count": 31,
      "outputs": []
    },
    {
      "cell_type": "code",
      "source": [
        "from sklearn.metrics import classification_report, balanced_accuracy_score, roc_auc_score\n",
        "from sklearn.metrics import normalized_mutual_info_score, mutual_info_score, adjusted_mutual_info_score\n",
        "import pandas as pd\n",
        "l1 =0.01\n",
        "NUM_RUNS =10\n",
        "custom_loss = \"GOLD\"\n",
        "\n",
        "\n",
        "results = []\n",
        "for i in range(NUM_RUNS):\n",
        "\n",
        "    print(\"iteration: \" + str(i))\n",
        "   \n",
        "    MA = Keras_MA_GCCE(epochs=300,batch_size=32,R=1, K=len(np.unique(Y_true_train)), dropout=0.2, learning_rate=0.001,optimizer='Adam', \n",
        "                l1_param=l1,  validation_split=0, verbose=0, q=0.7)\n",
        "\n",
        "\n",
        "    MA.fit(X_train, Y_true_train)\n",
        "    MA.plot_history()\n",
        "  \n",
        "    # Generate the predictions for the current run\n",
        "    pred_2 = MA.predict(X_test)\n",
        "     \n",
        "    acc, auc, auc_sk,  nmi,  bacc = evaluation_metrics(Y_true_test,  pred_2, print_result=False)  # mi, ami,\n",
        "    \n",
        "    # Save the results for the current run to the list of dictionaries\n",
        "    results.append({\n",
        "        #'run': i,\n",
        "        'accuracy': acc,\n",
        "        'balanced_accuracy': bacc,\n",
        "       # 'mutual_information': mi,\n",
        "        'normalized_mutual_information': nmi,\n",
        "     #   'adjusted_mutual_information': ami,\n",
        "        'auc_tensorflow': auc,\n",
        "        'auc_scikit_learn': auc_sk,\n",
        "    })\n",
        "    \n",
        "# Convert the list of dictionaries to a DataFrame\n",
        "df = np.round(pd.DataFrame(results)*100, 2)\n",
        "\n",
        "# Calculate the mean and standard deviation of each metric\n",
        "mean = np.round(df.mean(),2)\n",
        "std = np.round(df.std(),2)  \n"
      ],
      "metadata": {
        "id": "mvwIORysX-z4",
        "outputId": "88b98da9-c47c-4e30-e623-430545457a4c",
        "colab": {
          "base_uri": "https://localhost:8080/",
          "height": 1000
        }
      },
      "execution_count": 32,
      "outputs": [
        {
          "output_type": "stream",
          "name": "stdout",
          "text": [
            "iteration: 0\n",
            "Model: \"model\"\n",
            "_________________________________________________________________\n",
            " Layer (type)                Output Shape              Param #   \n",
            "=================================================================\n",
            " entrada (InputLayer)        [(None, 13)]              0         \n",
            "                                                                 \n",
            " batch_normalization (BatchN  (None, 13)               52        \n",
            " ormalization)                                                   \n",
            "                                                                 \n",
            " dropout (Dropout)           (None, 13)                0         \n",
            "                                                                 \n",
            " h1 (Dense)                  (None, 39)                546       \n",
            "                                                                 \n",
            " alpha_dropout (AlphaDropout  (None, 39)               0         \n",
            " )                                                               \n",
            "                                                                 \n",
            " h2 (Dense)                  (None, 39)                1560      \n",
            "                                                                 \n",
            " alpha_dropout_1 (AlphaDropo  (None, 39)               0         \n",
            " ut)                                                             \n",
            "                                                                 \n",
            " output (Dense)              (None, 2)                 80        \n",
            "                                                                 \n",
            "=================================================================\n",
            "Total params: 2,238\n",
            "Trainable params: 2,212\n",
            "Non-trainable params: 26\n",
            "_________________________________________________________________\n"
          ]
        },
        {
          "output_type": "display_data",
          "data": {
            "text/plain": [
              "<Figure size 576x360 with 1 Axes>"
            ],
            "image/png": "[encoded data removed]"
          },
          "metadata": {
            "needs_background": "light"
          }
        },
        {
          "output_type": "stream",
          "name": "stdout",
          "text": [
            "3/3 [==============================] - 0s 4ms/step\n",
            "iteration: 1\n",
            "Model: \"model_1\"\n",
            "_________________________________________________________________\n",
            " Layer (type)                Output Shape              Param #   \n",
            "=================================================================\n",
            " entrada (InputLayer)        [(None, 13)]              0         \n",
            "                                                                 \n",
            " batch_normalization_1 (Batc  (None, 13)               52        \n",
            " hNormalization)                                                 \n",
            "                                                                 \n",
            " dropout_1 (Dropout)         (None, 13)                0         \n",
            "                                                                 \n",
            " h1 (Dense)                  (None, 39)                546       \n",
            "                                                                 \n",
            " alpha_dropout_2 (AlphaDropo  (None, 39)               0         \n",
            " ut)                                                             \n",
            "                                                                 \n",
            " h2 (Dense)                  (None, 39)                1560      \n",
            "                                                                 \n",
            " alpha_dropout_3 (AlphaDropo  (None, 39)               0         \n",
            " ut)                                                             \n",
            "                                                                 \n",
            " output (Dense)              (None, 2)                 80        \n",
            "                                                                 \n",
            "=================================================================\n",
            "Total params: 2,238\n",
            "Trainable params: 2,212\n",
            "Non-trainable params: 26\n",
            "_________________________________________________________________\n"
          ]
        },
        {
          "output_type": "display_data",
          "data": {
            "text/plain": [
              "<Figure size 576x360 with 1 Axes>"
            ],
            "image/png": "[encoded data removed]"
          },
          "metadata": {
            "needs_background": "light"
          }
        },
        {
          "output_type": "stream",
          "name": "stdout",
          "text": [
            "3/3 [==============================] - 0s 4ms/step\n",
            "iteration: 2\n",
            "Model: \"model_2\"\n",
            "_________________________________________________________________\n",
            " Layer (type)                Output Shape              Param #   \n",
            "=================================================================\n",
            " entrada (InputLayer)        [(None, 13)]              0         \n",
            "                                                                 \n",
            " batch_normalization_2 (Batc  (None, 13)               52        \n",
            " hNormalization)                                                 \n",
            "                                                                 \n",
            " dropout_2 (Dropout)         (None, 13)                0         \n",
            "                                                                 \n",
            " h1 (Dense)                  (None, 39)                546       \n",
            "                                                                 \n",
            " alpha_dropout_4 (AlphaDropo  (None, 39)               0         \n",
            " ut)                                                             \n",
            "                                                                 \n",
            " h2 (Dense)                  (None, 39)                1560      \n",
            "                                                                 \n",
            " alpha_dropout_5 (AlphaDropo  (None, 39)               0         \n",
            " ut)                                                             \n",
            "                                                                 \n",
            " output (Dense)              (None, 2)                 80        \n",
            "                                                                 \n",
            "=================================================================\n",
            "Total params: 2,238\n",
            "Trainable params: 2,212\n",
            "Non-trainable params: 26\n",
            "_________________________________________________________________\n"
          ]
        },
        {
          "output_type": "display_data",
          "data": {
            "text/plain": [
              "<Figure size 576x360 with 1 Axes>"
            ],
            "image/png": "[encoded data removed]"
          },
          "metadata": {
            "needs_background": "light"
          }
        },
        {
          "output_type": "stream",
          "name": "stdout",
          "text": [
            "3/3 [==============================] - 0s 3ms/step\n",
            "iteration: 3\n",
            "Model: \"model_3\"\n",
            "_________________________________________________________________\n",
            " Layer (type)                Output Shape              Param #   \n",
            "=================================================================\n",
            " entrada (InputLayer)        [(None, 13)]              0         \n",
            "                                                                 \n",
            " batch_normalization_3 (Batc  (None, 13)               52        \n",
            " hNormalization)                                                 \n",
            "                                                                 \n",
            " dropout_3 (Dropout)         (None, 13)                0         \n",
            "                                                                 \n",
            " h1 (Dense)                  (None, 39)                546       \n",
            "                                                                 \n",
            " alpha_dropout_6 (AlphaDropo  (None, 39)               0         \n",
            " ut)                                                             \n",
            "                                                                 \n",
            " h2 (Dense)                  (None, 39)                1560      \n",
            "                                                                 \n",
            " alpha_dropout_7 (AlphaDropo  (None, 39)               0         \n",
            " ut)                                                             \n",
            "                                                                 \n",
            " output (Dense)              (None, 2)                 80        \n",
            "                                                                 \n",
            "=================================================================\n",
            "Total params: 2,238\n",
            "Trainable params: 2,212\n",
            "Non-trainable params: 26\n",
            "_________________________________________________________________\n"
          ]
        },
        {
          "output_type": "display_data",
          "data": {
            "text/plain": [
              "<Figure size 576x360 with 1 Axes>"
            ],
            "image/png": "[encoded data removed]"
          },
          "metadata": {
            "needs_background": "light"
          }
        },
        {
          "output_type": "stream",
          "name": "stderr",
          "text": [
            "WARNING:tensorflow:5 out of the last 13 calls to <function Model.make_predict_function.<locals>.predict_function at 0x7f28bdf80280> triggered tf.function retracing. Tracing is expensive and the excessive number of tracings could be due to (1) creating @tf.function repeatedly in a loop, (2) passing tensors with different shapes, (3) passing Python objects instead of tensors. For (1), please define your @tf.function outside of the loop. For (2), @tf.function has reduce_retracing=True option that can avoid unnecessary retracing. For (3), please refer to https://www.tensorflow.org/guide/function#controlling_retracing and https://www.tensorflow.org/api_docs/python/tf/function for  more details.\n"
          ]
        },
        {
          "output_type": "stream",
          "name": "stdout",
          "text": [
            "3/3 [==============================] - 0s 3ms/step\n",
            "iteration: 4\n",
            "Model: \"model_4\"\n",
            "_________________________________________________________________\n",
            " Layer (type)                Output Shape              Param #   \n",
            "=================================================================\n",
            " entrada (InputLayer)        [(None, 13)]              0         \n",
            "                                                                 \n",
            " batch_normalization_4 (Batc  (None, 13)               52        \n",
            " hNormalization)                                                 \n",
            "                                                                 \n",
            " dropout_4 (Dropout)         (None, 13)                0         \n",
            "                                                                 \n",
            " h1 (Dense)                  (None, 39)                546       \n",
            "                                                                 \n",
            " alpha_dropout_8 (AlphaDropo  (None, 39)               0         \n",
            " ut)                                                             \n",
            "                                                                 \n",
            " h2 (Dense)                  (None, 39)                1560      \n",
            "                                                                 \n",
            " alpha_dropout_9 (AlphaDropo  (None, 39)               0         \n",
            " ut)                                                             \n",
            "                                                                 \n",
            " output (Dense)              (None, 2)                 80        \n",
            "                                                                 \n",
            "=================================================================\n",
            "Total params: 2,238\n",
            "Trainable params: 2,212\n",
            "Non-trainable params: 26\n",
            "_________________________________________________________________\n"
          ]
        },
        {
          "output_type": "display_data",
          "data": {
            "text/plain": [
              "<Figure size 576x360 with 1 Axes>"
            ],
            "image/png": "[encoded data removed]"
          },
          "metadata": {
            "needs_background": "light"
          }
        },
        {
          "output_type": "stream",
          "name": "stderr",
          "text": [
            "WARNING:tensorflow:5 out of the last 13 calls to <function Model.make_predict_function.<locals>.predict_function at 0x7f28cd305b80> triggered tf.function retracing. Tracing is expensive and the excessive number of tracings could be due to (1) creating @tf.function repeatedly in a loop, (2) passing tensors with different shapes, (3) passing Python objects instead of tensors. For (1), please define your @tf.function outside of the loop. For (2), @tf.function has reduce_retracing=True option that can avoid unnecessary retracing. For (3), please refer to https://www.tensorflow.org/guide/function#controlling_retracing and https://www.tensorflow.org/api_docs/python/tf/function for  more details.\n"
          ]
        },
        {
          "output_type": "stream",
          "name": "stdout",
          "text": [
            "3/3 [==============================] - 0s 4ms/step\n",
            "iteration: 5\n",
            "Model: \"model_5\"\n",
            "_________________________________________________________________\n",
            " Layer (type)                Output Shape              Param #   \n",
            "=================================================================\n",
            " entrada (InputLayer)        [(None, 13)]              0         \n",
            "                                                                 \n",
            " batch_normalization_5 (Batc  (None, 13)               52        \n",
            " hNormalization)                                                 \n",
            "                                                                 \n",
            " dropout_5 (Dropout)         (None, 13)                0         \n",
            "                                                                 \n",
            " h1 (Dense)                  (None, 39)                546       \n",
            "                                                                 \n",
            " alpha_dropout_10 (AlphaDrop  (None, 39)               0         \n",
            " out)                                                            \n",
            "                                                                 \n",
            " h2 (Dense)                  (None, 39)                1560      \n",
            "                                                                 \n",
            " alpha_dropout_11 (AlphaDrop  (None, 39)               0         \n",
            " out)                                                            \n",
            "                                                                 \n",
            " output (Dense)              (None, 2)                 80        \n",
            "                                                                 \n",
            "=================================================================\n",
            "Total params: 2,238\n",
            "Trainable params: 2,212\n",
            "Non-trainable params: 26\n",
            "_________________________________________________________________\n"
          ]
        },
        {
          "output_type": "display_data",
          "data": {
            "text/plain": [
              "<Figure size 576x360 with 1 Axes>"
            ],
            "image/png": "[encoded data removed]"
          },
          "metadata": {
            "needs_background": "light"
          }
        },
        {
          "output_type": "stream",
          "name": "stdout",
          "text": [
            "3/3 [==============================] - 0s 4ms/step\n",
            "iteration: 6\n",
            "Model: \"model_6\"\n",
            "_________________________________________________________________\n",
            " Layer (type)                Output Shape              Param #   \n",
            "=================================================================\n",
            " entrada (InputLayer)        [(None, 13)]              0         \n",
            "                                                                 \n",
            " batch_normalization_6 (Batc  (None, 13)               52        \n",
            " hNormalization)                                                 \n",
            "                                                                 \n",
            " dropout_6 (Dropout)         (None, 13)                0         \n",
            "                                                                 \n",
            " h1 (Dense)                  (None, 39)                546       \n",
            "                                                                 \n",
            " alpha_dropout_12 (AlphaDrop  (None, 39)               0         \n",
            " out)                                                            \n",
            "                                                                 \n",
            " h2 (Dense)                  (None, 39)                1560      \n",
            "                                                                 \n",
            " alpha_dropout_13 (AlphaDrop  (None, 39)               0         \n",
            " out)                                                            \n",
            "                                                                 \n",
            " output (Dense)              (None, 2)                 80        \n",
            "                                                                 \n",
            "=================================================================\n",
            "Total params: 2,238\n",
            "Trainable params: 2,212\n",
            "Non-trainable params: 26\n",
            "_________________________________________________________________\n"
          ]
        },
        {
          "output_type": "display_data",
          "data": {
            "text/plain": [
              "<Figure size 576x360 with 1 Axes>"
            ],
            "image/png": "[encoded data removed]"
          },
          "metadata": {
            "needs_background": "light"
          }
        },
        {
          "output_type": "stream",
          "name": "stdout",
          "text": [
            "3/3 [==============================] - 0s 4ms/step\n",
            "iteration: 7\n",
            "Model: \"model_7\"\n",
            "_________________________________________________________________\n",
            " Layer (type)                Output Shape              Param #   \n",
            "=================================================================\n",
            " entrada (InputLayer)        [(None, 13)]              0         \n",
            "                                                                 \n",
            " batch_normalization_7 (Batc  (None, 13)               52        \n",
            " hNormalization)                                                 \n",
            "                                                                 \n",
            " dropout_7 (Dropout)         (None, 13)                0         \n",
            "                                                                 \n",
            " h1 (Dense)                  (None, 39)                546       \n",
            "                                                                 \n",
            " alpha_dropout_14 (AlphaDrop  (None, 39)               0         \n",
            " out)                                                            \n",
            "                                                                 \n",
            " h2 (Dense)                  (None, 39)                1560      \n",
            "                                                                 \n",
            " alpha_dropout_15 (AlphaDrop  (None, 39)               0         \n",
            " out)                                                            \n",
            "                                                                 \n",
            " output (Dense)              (None, 2)                 80        \n",
            "                                                                 \n",
            "=================================================================\n",
            "Total params: 2,238\n",
            "Trainable params: 2,212\n",
            "Non-trainable params: 26\n",
            "_________________________________________________________________\n"
          ]
        },
        {
          "output_type": "display_data",
          "data": {
            "text/plain": [
              "<Figure size 576x360 with 1 Axes>"
            ],
            "image/png": "[encoded data removed]"
          },
          "metadata": {
            "needs_background": "light"
          }
        },
        {
          "output_type": "stream",
          "name": "stdout",
          "text": [
            "3/3 [==============================] - 0s 2ms/step\n",
            "iteration: 8\n",
            "Model: \"model_8\"\n",
            "_________________________________________________________________\n",
            " Layer (type)                Output Shape              Param #   \n",
            "=================================================================\n",
            " entrada (InputLayer)        [(None, 13)]              0         \n",
            "                                                                 \n",
            " batch_normalization_8 (Batc  (None, 13)               52        \n",
            " hNormalization)                                                 \n",
            "                                                                 \n",
            " dropout_8 (Dropout)         (None, 13)                0         \n",
            "                                                                 \n",
            " h1 (Dense)                  (None, 39)                546       \n",
            "                                                                 \n",
            " alpha_dropout_16 (AlphaDrop  (None, 39)               0         \n",
            " out)                                                            \n",
            "                                                                 \n",
            " h2 (Dense)                  (None, 39)                1560      \n",
            "                                                                 \n",
            " alpha_dropout_17 (AlphaDrop  (None, 39)               0         \n",
            " out)                                                            \n",
            "                                                                 \n",
            " output (Dense)              (None, 2)                 80        \n",
            "                                                                 \n",
            "=================================================================\n",
            "Total params: 2,238\n",
            "Trainable params: 2,212\n",
            "Non-trainable params: 26\n",
            "_________________________________________________________________\n"
          ]
        },
        {
          "output_type": "display_data",
          "data": {
            "text/plain": [
              "<Figure size 576x360 with 1 Axes>"
            ],
            "image/png": "[encoded data removed]"
          },
          "metadata": {
            "needs_background": "light"
          }
        },
        {
          "output_type": "stream",
          "name": "stdout",
          "text": [
            "3/3 [==============================] - 0s 2ms/step\n",
            "iteration: 9\n",
            "Model: \"model_9\"\n",
            "_________________________________________________________________\n",
            " Layer (type)                Output Shape              Param #   \n",
            "=================================================================\n",
            " entrada (InputLayer)        [(None, 13)]              0         \n",
            "                                                                 \n",
            " batch_normalization_9 (Batc  (None, 13)               52        \n",
            " hNormalization)                                                 \n",
            "                                                                 \n",
            " dropout_9 (Dropout)         (None, 13)                0         \n",
            "                                                                 \n",
            " h1 (Dense)                  (None, 39)                546       \n",
            "                                                                 \n",
            " alpha_dropout_18 (AlphaDrop  (None, 39)               0         \n",
            " out)                                                            \n",
            "                                                                 \n",
            " h2 (Dense)                  (None, 39)                1560      \n",
            "                                                                 \n",
            " alpha_dropout_19 (AlphaDrop  (None, 39)               0         \n",
            " out)                                                            \n",
            "                                                                 \n",
            " output (Dense)              (None, 2)                 80        \n",
            "                                                                 \n",
            "=================================================================\n",
            "Total params: 2,238\n",
            "Trainable params: 2,212\n",
            "Non-trainable params: 26\n",
            "_________________________________________________________________\n"
          ]
        },
        {
          "output_type": "display_data",
          "data": {
            "text/plain": [
              "<Figure size 576x360 with 1 Axes>"
            ],
            "image/png": "[encoded data removed]"
          },
          "metadata": {
            "needs_background": "light"
          }
        },
        {
          "output_type": "stream",
          "name": "stdout",
          "text": [
            "3/3 [==============================] - 0s 3ms/step\n"
          ]
        }
      ],
      "id": "mvwIORysX-z4"
    },
    {
      "cell_type": "code",
      "source": [
        "df"
      ],
      "metadata": {
        "id": "ispxoor_q6DN",
        "colab": {
          "base_uri": "https://localhost:8080/",
          "height": 363
        },
        "outputId": "29b46f1c-b652-459f-f66c-ea26260af062"
      },
      "execution_count": 33,
      "outputs": [
        {
          "output_type": "execute_result",
          "data": {
            "text/plain": [
              "   accuracy  balanced_accuracy  normalized_mutual_information  auc_tensorflow  \\\n",
              "0     90.77              72.73                          39.84       86.360001   \n",
              "1     92.31              90.91                          58.26       95.449997   \n",
              "2     92.31              82.73                          49.44       91.360001   \n",
              "3     92.31              82.73                          49.44       91.360001   \n",
              "4     92.31              82.73                          49.44       91.360001   \n",
              "5     92.31              82.73                          49.44       91.360001   \n",
              "6     92.31              82.73                          49.44       91.360001   \n",
              "7     93.85              92.73                          63.23       96.360001   \n",
              "8     92.31              82.73                          49.44       91.360001   \n",
              "9     92.31              82.73                          49.44       91.360001   \n",
              "\n",
              "   auc_scikit_learn  \n",
              "0             95.82  \n",
              "1             95.45  \n",
              "2             96.00  \n",
              "3             96.00  \n",
              "4             96.00  \n",
              "5             96.00  \n",
              "6             96.00  \n",
              "7             96.00  \n",
              "8             95.64  \n",
              "9             95.64  "
            ],
            "text/html": [
              "\n",
              "  <div id=\"df-9e2790ae-46b5-436b-ac8d-571c78afd4f4\">\n",
              "    <div class=\"colab-df-container\">\n",
              "      <div>\n",
              "<style scoped>\n",
              "    .dataframe tbody tr th:only-of-type {\n",
              "        vertical-align: middle;\n",
              "    }\n",
              "\n",
              "    .dataframe tbody tr th {\n",
              "        vertical-align: top;\n",
              "    }\n",
              "\n",
              "    .dataframe thead th {\n",
              "        text-align: right;\n",
              "    }\n",
              "</style>\n",
              "<table border=\"1\" class=\"dataframe\">\n",
              "  <thead>\n",
              "    <tr style=\"text-align: right;\">\n",
              "      <th></th>\n",
              "      <th>accuracy</th>\n",
              "      <th>balanced_accuracy</th>\n",
              "      <th>normalized_mutual_information</th>\n",
              "      <th>auc_tensorflow</th>\n",
              "      <th>auc_scikit_learn</th>\n",
              "    </tr>\n",
              "  </thead>\n",
              "  <tbody>\n",
              "    <tr>\n",
              "      <th>0</th>\n",
              "      <td>90.77</td>\n",
              "      <td>72.73</td>\n",
              "      <td>39.84</td>\n",
              "      <td>86.360001</td>\n",
              "      <td>95.82</td>\n",
              "    </tr>\n",
              "    <tr>\n",
              "      <th>1</th>\n",
              "      <td>92.31</td>\n",
              "      <td>90.91</td>\n",
              "      <td>58.26</td>\n",
              "      <td>95.449997</td>\n",
              "      <td>95.45</td>\n",
              "    </tr>\n",
              "    <tr>\n",
              "      <th>2</th>\n",
              "      <td>92.31</td>\n",
              "      <td>82.73</td>\n",
              "      <td>49.44</td>\n",
              "      <td>91.360001</td>\n",
              "      <td>96.00</td>\n",
              "    </tr>\n",
              "    <tr>\n",
              "      <th>3</th>\n",
              "      <td>92.31</td>\n",
              "      <td>82.73</td>\n",
              "      <td>49.44</td>\n",
              "      <td>91.360001</td>\n",
              "      <td>96.00</td>\n",
              "    </tr>\n",
              "    <tr>\n",
              "      <th>4</th>\n",
              "      <td>92.31</td>\n",
              "      <td>82.73</td>\n",
              "      <td>49.44</td>\n",
              "      <td>91.360001</td>\n",
              "      <td>96.00</td>\n",
              "    </tr>\n",
              "    <tr>\n",
              "      <th>5</th>\n",
              "      <td>92.31</td>\n",
              "      <td>82.73</td>\n",
              "      <td>49.44</td>\n",
              "      <td>91.360001</td>\n",
              "      <td>96.00</td>\n",
              "    </tr>\n",
              "    <tr>\n",
              "      <th>6</th>\n",
              "      <td>92.31</td>\n",
              "      <td>82.73</td>\n",
              "      <td>49.44</td>\n",
              "      <td>91.360001</td>\n",
              "      <td>96.00</td>\n",
              "    </tr>\n",
              "    <tr>\n",
              "      <th>7</th>\n",
              "      <td>93.85</td>\n",
              "      <td>92.73</td>\n",
              "      <td>63.23</td>\n",
              "      <td>96.360001</td>\n",
              "      <td>96.00</td>\n",
              "    </tr>\n",
              "    <tr>\n",
              "      <th>8</th>\n",
              "      <td>92.31</td>\n",
              "      <td>82.73</td>\n",
              "      <td>49.44</td>\n",
              "      <td>91.360001</td>\n",
              "      <td>95.64</td>\n",
              "    </tr>\n",
              "    <tr>\n",
              "      <th>9</th>\n",
              "      <td>92.31</td>\n",
              "      <td>82.73</td>\n",
              "      <td>49.44</td>\n",
              "      <td>91.360001</td>\n",
              "      <td>95.64</td>\n",
              "    </tr>\n",
              "  </tbody>\n",
              "</table>\n",
              "</div>\n",
              "      <button class=\"colab-df-convert\" onclick=\"convertToInteractive('df-9e2790ae-46b5-436b-ac8d-571c78afd4f4')\"\n",
              "              title=\"Convert this dataframe to an interactive table.\"\n",
              "              style=\"display:none;\">\n",
              "        \n",
              "  <svg xmlns=\"http://www.w3.org/2000/svg\" height=\"24px\"viewBox=\"0 0 24 24\"\n",
              "       width=\"24px\">\n",
              "    <path d=\"M0 0h24v24H0V0z\" fill=\"none\"/>\n",
              "    <path d=\"M18.56 5.44l.94 2.06.94-2.06 2.06-.94-2.06-.94-.94-2.06-.94 2.06-2.06.94zm-11 1L8.5 8.5l.94-2.06 2.06-.94-2.06-.94L8.5 2.5l-.94 2.06-2.06.94zm10 10l.94 2.06.94-2.06 2.06-.94-2.06-.94-.94-2.06-.94 2.06-2.06.94z\"/><path d=\"M17.41 7.96l-1.37-1.37c-.4-.4-.92-.59-1.43-.59-.52 0-1.04.2-1.43.59L10.3 9.45l-7.72 7.72c-.78.78-.78 2.05 0 2.83L4 21.41c.39.39.9.59 1.41.59.51 0 1.02-.2 1.41-.59l7.78-7.78 2.81-2.81c.8-.78.8-2.07 0-2.86zM5.41 20L4 18.59l7.72-7.72 1.47 1.35L5.41 20z\"/>\n",
              "  </svg>\n",
              "      </button>\n",
              "      \n",
              "  <style>\n",
              "    .colab-df-container {\n",
              "      display:flex;\n",
              "      flex-wrap:wrap;\n",
              "      gap: 12px;\n",
              "    }\n",
              "\n",
              "    .colab-df-convert {\n",
              "      background-color: #E8F0FE;\n",
              "      border: none;\n",
              "      border-radius: 50%;\n",
              "      cursor: pointer;\n",
              "      display: none;\n",
              "      fill: #1967D2;\n",
              "      height: 32px;\n",
              "      padding: 0 0 0 0;\n",
              "      width: 32px;\n",
              "    }\n",
              "\n",
              "    .colab-df-convert:hover {\n",
              "      background-color: #E2EBFA;\n",
              "      box-shadow: 0px 1px 2px rgba(60, 64, 67, 0.3), 0px 1px 3px 1px rgba(60, 64, 67, 0.15);\n",
              "      fill: #174EA6;\n",
              "    }\n",
              "\n",
              "    [theme=dark] .colab-df-convert {\n",
              "      background-color: #3B4455;\n",
              "      fill: #D2E3FC;\n",
              "    }\n",
              "\n",
              "    [theme=dark] .colab-df-convert:hover {\n",
              "      background-color: #434B5C;\n",
              "      box-shadow: 0px 1px 3px 1px rgba(0, 0, 0, 0.15);\n",
              "      filter: drop-shadow(0px 1px 2px rgba(0, 0, 0, 0.3));\n",
              "      fill: #FFFFFF;\n",
              "    }\n",
              "  </style>\n",
              "\n",
              "      <script>\n",
              "        const buttonEl =\n",
              "          document.querySelector('#df-9e2790ae-46b5-436b-ac8d-571c78afd4f4 button.colab-df-convert');\n",
              "        buttonEl.style.display =\n",
              "          google.colab.kernel.accessAllowed ? 'block' : 'none';\n",
              "\n",
              "        async function convertToInteractive(key) {\n",
              "          const element = document.querySelector('#df-9e2790ae-46b5-436b-ac8d-571c78afd4f4');\n",
              "          const dataTable =\n",
              "            await google.colab.kernel.invokeFunction('convertToInteractive',\n",
              "                                                     [key], {});\n",
              "          if (!dataTable) return;\n",
              "\n",
              "          const docLinkHtml = 'Like what you see? Visit the ' +\n",
              "            '<a target=\"_blank\" href=https://colab.research.google.com/notebooks/data_table.ipynb>data table notebook</a>'\n",
              "            + ' to learn more about interactive tables.';\n",
              "          element.innerHTML = '';\n",
              "          dataTable['output_type'] = 'display_data';\n",
              "          await google.colab.output.renderOutput(dataTable, element);\n",
              "          const docLink = document.createElement('div');\n",
              "          docLink.innerHTML = docLinkHtml;\n",
              "          element.appendChild(docLink);\n",
              "        }\n",
              "      </script>\n",
              "    </div>\n",
              "  </div>\n",
              "  "
            ]
          },
          "metadata": {},
          "execution_count": 33
        }
      ],
      "id": "ispxoor_q6DN"
    },
    {
      "cell_type": "code",
      "source": [
        "mean"
      ],
      "metadata": {
        "id": "whTSUvCJq_bf",
        "colab": {
          "base_uri": "https://localhost:8080/"
        },
        "outputId": "43024fe5-18dc-41b0-8cda-1169682c8b9c"
      },
      "execution_count": 34,
      "outputs": [
        {
          "output_type": "execute_result",
          "data": {
            "text/plain": [
              "accuracy                         92.31\n",
              "balanced_accuracy                83.55\n",
              "normalized_mutual_information    50.74\n",
              "auc_tensorflow                   91.77\n",
              "auc_scikit_learn                 95.85\n",
              "dtype: float64"
            ]
          },
          "metadata": {},
          "execution_count": 34
        }
      ],
      "id": "whTSUvCJq_bf"
    },
    {
      "cell_type": "code",
      "source": [
        "std"
      ],
      "metadata": {
        "id": "PH_iucZ1rJDD",
        "colab": {
          "base_uri": "https://localhost:8080/"
        },
        "outputId": "21d648c9-4271-4b89-8433-be8a3f383e65"
      },
      "execution_count": 35,
      "outputs": [
        {
          "output_type": "execute_result",
          "data": {
            "text/plain": [
              "accuracy                         0.73\n",
              "balanced_accuracy                5.38\n",
              "normalized_mutual_information    6.18\n",
              "auc_tensorflow                   2.69\n",
              "auc_scikit_learn                 0.21\n",
              "dtype: float64"
            ]
          },
          "metadata": {},
          "execution_count": 35
        }
      ],
      "id": "PH_iucZ1rJDD"
    },
    {
      "cell_type": "code",
      "source": [
        "result_df = pd.concat([mean.rename('Mean'), std.rename('Std')], axis=1)"
      ],
      "metadata": {
        "id": "IZWYJ4cZus0i"
      },
      "execution_count": 36,
      "outputs": [],
      "id": "IZWYJ4cZus0i"
    },
    {
      "cell_type": "code",
      "source": [
        "result_df"
      ],
      "metadata": {
        "id": "j5oR79xIvOJf",
        "colab": {
          "base_uri": "https://localhost:8080/",
          "height": 206
        },
        "outputId": "3a179f1b-2212-4433-b5f8-944ad96d40dd"
      },
      "execution_count": 37,
      "outputs": [
        {
          "output_type": "execute_result",
          "data": {
            "text/plain": [
              "                                Mean   Std\n",
              "accuracy                       92.31  0.73\n",
              "balanced_accuracy              83.55  5.38\n",
              "normalized_mutual_information  50.74  6.18\n",
              "auc_tensorflow                 91.77  2.69\n",
              "auc_scikit_learn               95.85  0.21"
            ],
            "text/html": [
              "\n",
              "  <div id=\"df-7f307a49-bc21-4fc5-952e-01048adb01ba\">\n",
              "    <div class=\"colab-df-container\">\n",
              "      <div>\n",
              "<style scoped>\n",
              "    .dataframe tbody tr th:only-of-type {\n",
              "        vertical-align: middle;\n",
              "    }\n",
              "\n",
              "    .dataframe tbody tr th {\n",
              "        vertical-align: top;\n",
              "    }\n",
              "\n",
              "    .dataframe thead th {\n",
              "        text-align: right;\n",
              "    }\n",
              "</style>\n",
              "<table border=\"1\" class=\"dataframe\">\n",
              "  <thead>\n",
              "    <tr style=\"text-align: right;\">\n",
              "      <th></th>\n",
              "      <th>Mean</th>\n",
              "      <th>Std</th>\n",
              "    </tr>\n",
              "  </thead>\n",
              "  <tbody>\n",
              "    <tr>\n",
              "      <th>accuracy</th>\n",
              "      <td>92.31</td>\n",
              "      <td>0.73</td>\n",
              "    </tr>\n",
              "    <tr>\n",
              "      <th>balanced_accuracy</th>\n",
              "      <td>83.55</td>\n",
              "      <td>5.38</td>\n",
              "    </tr>\n",
              "    <tr>\n",
              "      <th>normalized_mutual_information</th>\n",
              "      <td>50.74</td>\n",
              "      <td>6.18</td>\n",
              "    </tr>\n",
              "    <tr>\n",
              "      <th>auc_tensorflow</th>\n",
              "      <td>91.77</td>\n",
              "      <td>2.69</td>\n",
              "    </tr>\n",
              "    <tr>\n",
              "      <th>auc_scikit_learn</th>\n",
              "      <td>95.85</td>\n",
              "      <td>0.21</td>\n",
              "    </tr>\n",
              "  </tbody>\n",
              "</table>\n",
              "</div>\n",
              "      <button class=\"colab-df-convert\" onclick=\"convertToInteractive('df-7f307a49-bc21-4fc5-952e-01048adb01ba')\"\n",
              "              title=\"Convert this dataframe to an interactive table.\"\n",
              "              style=\"display:none;\">\n",
              "        \n",
              "  <svg xmlns=\"http://www.w3.org/2000/svg\" height=\"24px\"viewBox=\"0 0 24 24\"\n",
              "       width=\"24px\">\n",
              "    <path d=\"M0 0h24v24H0V0z\" fill=\"none\"/>\n",
              "    <path d=\"M18.56 5.44l.94 2.06.94-2.06 2.06-.94-2.06-.94-.94-2.06-.94 2.06-2.06.94zm-11 1L8.5 8.5l.94-2.06 2.06-.94-2.06-.94L8.5 2.5l-.94 2.06-2.06.94zm10 10l.94 2.06.94-2.06 2.06-.94-2.06-.94-.94-2.06-.94 2.06-2.06.94z\"/><path d=\"M17.41 7.96l-1.37-1.37c-.4-.4-.92-.59-1.43-.59-.52 0-1.04.2-1.43.59L10.3 9.45l-7.72 7.72c-.78.78-.78 2.05 0 2.83L4 21.41c.39.39.9.59 1.41.59.51 0 1.02-.2 1.41-.59l7.78-7.78 2.81-2.81c.8-.78.8-2.07 0-2.86zM5.41 20L4 18.59l7.72-7.72 1.47 1.35L5.41 20z\"/>\n",
              "  </svg>\n",
              "      </button>\n",
              "      \n",
              "  <style>\n",
              "    .colab-df-container {\n",
              "      display:flex;\n",
              "      flex-wrap:wrap;\n",
              "      gap: 12px;\n",
              "    }\n",
              "\n",
              "    .colab-df-convert {\n",
              "      background-color: #E8F0FE;\n",
              "      border: none;\n",
              "      border-radius: 50%;\n",
              "      cursor: pointer;\n",
              "      display: none;\n",
              "      fill: #1967D2;\n",
              "      height: 32px;\n",
              "      padding: 0 0 0 0;\n",
              "      width: 32px;\n",
              "    }\n",
              "\n",
              "    .colab-df-convert:hover {\n",
              "      background-color: #E2EBFA;\n",
              "      box-shadow: 0px 1px 2px rgba(60, 64, 67, 0.3), 0px 1px 3px 1px rgba(60, 64, 67, 0.15);\n",
              "      fill: #174EA6;\n",
              "    }\n",
              "\n",
              "    [theme=dark] .colab-df-convert {\n",
              "      background-color: #3B4455;\n",
              "      fill: #D2E3FC;\n",
              "    }\n",
              "\n",
              "    [theme=dark] .colab-df-convert:hover {\n",
              "      background-color: #434B5C;\n",
              "      box-shadow: 0px 1px 3px 1px rgba(0, 0, 0, 0.15);\n",
              "      filter: drop-shadow(0px 1px 2px rgba(0, 0, 0, 0.3));\n",
              "      fill: #FFFFFF;\n",
              "    }\n",
              "  </style>\n",
              "\n",
              "      <script>\n",
              "        const buttonEl =\n",
              "          document.querySelector('#df-7f307a49-bc21-4fc5-952e-01048adb01ba button.colab-df-convert');\n",
              "        buttonEl.style.display =\n",
              "          google.colab.kernel.accessAllowed ? 'block' : 'none';\n",
              "\n",
              "        async function convertToInteractive(key) {\n",
              "          const element = document.querySelector('#df-7f307a49-bc21-4fc5-952e-01048adb01ba');\n",
              "          const dataTable =\n",
              "            await google.colab.kernel.invokeFunction('convertToInteractive',\n",
              "                                                     [key], {});\n",
              "          if (!dataTable) return;\n",
              "\n",
              "          const docLinkHtml = 'Like what you see? Visit the ' +\n",
              "            '<a target=\"_blank\" href=https://colab.research.google.com/notebooks/data_table.ipynb>data table notebook</a>'\n",
              "            + ' to learn more about interactive tables.';\n",
              "          element.innerHTML = '';\n",
              "          dataTable['output_type'] = 'display_data';\n",
              "          await google.colab.output.renderOutput(dataTable, element);\n",
              "          const docLink = document.createElement('div');\n",
              "          docLink.innerHTML = docLinkHtml;\n",
              "          element.appendChild(docLink);\n",
              "        }\n",
              "      </script>\n",
              "    </div>\n",
              "  </div>\n",
              "  "
            ]
          },
          "metadata": {},
          "execution_count": 37
        }
      ],
      "id": "j5oR79xIvOJf"
    },
    {
      "cell_type": "code",
      "source": [
        "# Save the DataFrame to an excel file\n",
        "result_df.to_excel(database + custom_loss + \".xlsx\")"
      ],
      "metadata": {
        "id": "wrsupD_Qshl2"
      },
      "execution_count": 38,
      "outputs": [],
      "id": "wrsupD_Qshl2"
    }
  ],
  "metadata": {
    "colab": {
      "provenance": [],
      "include_colab_link": true
    },
    "gpuClass": "standard",
    "kernelspec": {
      "display_name": "Python 3",
      "language": "python",
      "name": "python3"
    },
    "language_info": {
      "codemirror_mode": {
        "name": "ipython",
        "version": 3
      },
      "file_extension": ".py",
      "mimetype": "text/x-python",
      "name": "python",
      "nbconvert_exporter": "python",
      "pygments_lexer": "ipython3",
      "version": "3.7.12"
    },
    "papermill": {
      "default_parameters": {},
      "duration": 1924.690371,
      "end_time": "2022-10-25T15:59:03.470599",
      "environment_variables": {},
      "exception": null,
      "input_path": "__notebook__.ipynb",
      "output_path": "__notebook__.ipynb",
      "parameters": {},
      "start_time": "2022-10-25T15:26:58.780228",
      "version": "2.3.4"
    }
  },
  "nbformat": 4,
  "nbformat_minor": 5
}