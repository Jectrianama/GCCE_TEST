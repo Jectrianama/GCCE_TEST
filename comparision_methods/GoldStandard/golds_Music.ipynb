{
  "cells": [
    {
      "cell_type": "markdown",
      "metadata": {
        "id": "view-in-github",
        "colab_type": "text"
      },
      "source": [
        "<a href=\"https://colab.research.google.com/github/Jectrianama/GCCE_TEST/blob/main/GoldStandard1/golds_Music.ipynb\" target=\"_parent\"><img src=\"https://colab.research.google.com/assets/colab-badge.svg\" alt=\"Open In Colab\"/></a>"
      ]
    },
    {
      "cell_type": "markdown",
      "id": "e01bde71",
      "metadata": {
        "id": "e01bde71",
        "papermill": {
          "duration": 0.00834,
          "end_time": "2022-10-25T15:27:07.170215",
          "exception": false,
          "start_time": "2022-10-25T15:27:07.161875",
          "status": "completed"
        },
        "tags": []
      },
      "source": [
        "# Subclassing for GS"
      ]
    },
    {
      "cell_type": "code",
      "source": [
        "\n",
        "import tensorflow as tf\n",
        "import numpy as np\n",
        "from scipy.io import loadmat\n",
        "from sklearn.preprocessing import StandardScaler\n",
        "from scipy.io import savemat\n",
        "from sklearn.metrics import roc_auc_score\n",
        "from sklearn.preprocessing import LabelBinarizer\n",
        "from sklearn.preprocessing import OneHotEncoder\n",
        "from scipy.stats import mode \n",
        "import pandas as pd\n",
        "import matplotlib.pyplot as plt \n",
        "from sklearn.metrics import roc_auc_score\n",
        "from sklearn.decomposition import PCA\n",
        "\n",
        "def ook(t):\n",
        "  lb = LabelBinarizer()\n",
        "  y_ook = lb.fit_transform(t)  \n",
        "\n",
        "  if len(np.unique(t))==2:\n",
        "    y_ook = np.concatenate((1-y_ook.astype(bool), y_ook), axis = 1) \n",
        "\n",
        "  return y_ook\n",
        "\n",
        "\n",
        "def scheduler1(step = 10, ratio = 1.2):\n",
        "  def scheduler(epoch, lr):\n",
        "    if epoch % step == 0 and epoch>1:\n",
        "      return lr/ratio\n",
        "    else:\n",
        "      return lr\n",
        "  return scheduler"
      ],
      "metadata": {
        "id": "uFx5IvCwjPjP"
      },
      "id": "uFx5IvCwjPjP",
      "execution_count": null,
      "outputs": []
    },
    {
      "cell_type": "code",
      "execution_count": null,
      "id": "e484b300",
      "metadata": {
        "execution": {
          "iopub.execute_input": "2022-10-25T15:27:07.189914Z",
          "iopub.status.busy": "2022-10-25T15:27:07.188975Z",
          "iopub.status.idle": "2022-10-25T15:27:15.723519Z",
          "shell.execute_reply": "2022-10-25T15:27:15.722413Z"
        },
        "id": "e484b300",
        "papermill": {
          "duration": 8.548096,
          "end_time": "2022-10-25T15:27:15.726247",
          "exception": false,
          "start_time": "2022-10-25T15:27:07.178151",
          "status": "completed"
        },
        "tags": []
      },
      "outputs": [],
      "source": [
        "# -*- coding: utf-8 -*-\n",
        "import tensorflow as tf\n",
        "import matplotlib.pyplot as plt\n",
        "#from tensorflow.keras.wrappers.scikit_learn import KerasClassifier\n",
        "import tensorflow_probability as tfp\n",
        "from tensorflow.keras import regularizers\n",
        "from sklearn.base import  BaseEstimator, TransformerMixin, ClassifierMixin\n",
        "from sklearn.model_selection import train_test_split\n",
        "tf.keras.backend.clear_session()\n",
        "#tf.random.set_seed(42)\n",
        "import types\n",
        "import tempfile\n",
        "class Keras_MA_GCCE(): #transformer no va\n",
        " #Constructor __init__. Special method: identified by a double underscore at either side of their name\n",
        " #work in the background\n",
        " # initialize data members to the object. lets the class initialize the object’s attributes and serves no other purpose.\n",
        "    def __init__(self,epochs=100,batch_size=30,R=5, K=2, dropout=0.5, learning_rate=1e-3,optimizer='Adam', \n",
        "                  l1_param=0, validation_split=0.3, verbose=1, q = 0.1):\n",
        "        self.epochs=epochs\n",
        "        self.dropout=dropout\n",
        "        self.batch_size = batch_size\n",
        "        self.learning_rate=learning_rate \n",
        "        self.l1_param=l1_param \n",
        "        self.l2_param=l1_param\n",
        "        self.validation_split = validation_split\n",
        "        self.verbose = verbose\n",
        "        self.optimizer = optimizer\n",
        "        self.R=R\n",
        "        self.K=K\n",
        "        self.q = q\n",
        "\n",
        "    \n",
        " \n",
        "    def GCCE_MA_loss(self, y_true, y_pred):\n",
        "        # print(y_true,y_pred)\n",
        "       # q = 0.1\n",
        "        pred = y_pred[:, self.R:]\n",
        "        pred = tf.clip_by_value(pred, clip_value_min=1e-9, clip_value_max=1)\n",
        "        ann_ = y_pred[:, :self.R]\n",
        "        # ann_ = tf.clip_by_value(ann_, clip_value_min=1e-9, clip_value_max=1-1e-9)\n",
        "        Y_true = tf.one_hot(tf.cast(y_true, dtype=tf.int32), depth=self.K, axis=1)\n",
        "        Y_hat = tf.repeat(tf.expand_dims(pred,-1), self.R, axis = -1)\n",
        "\n",
        "        p_gcce = Y_true*(1 - Y_hat**self.q)/self.q\n",
        "        temp1 = ann_*tf.math.reduce_sum(p_gcce, axis=1)\n",
        "\n",
        "        # p_logreg = tf.math.reduce_prod(tf.math.pow(Y_hat, Y_true), axis=1)\n",
        "        # temp1 = ann_*tf.math.log(p_logreg)  \n",
        "        # temp2 = (1 - ann_)*tf.math.log(1/K)*tf.reduce_sum(Y_true,axis=1)\n",
        "        # aux = tf.repeat(tf.reduce_sum(pred*tf.math.log(pred),axis=1,keepdims=True), R, axis = 1)\n",
        "        # tf.print(tf.shape(aux))\n",
        "        # print(tf.shape(aux))\n",
        "        # temp2 = (1 - ann_)*aux*tf.reduce_sum(Y_true,axis=1)\n",
        "        # temp2 = (tf.ones(tf.shape(ann_)) - ann_)*tf.math.log(1/K)\n",
        "        # print(tf.reduce_mean(Y_true,axis=1).numpy())\n",
        "        # Y_true_1 = tf.clip_by_value(Y_true, clip_value_min=1e-9, clip_value_max=1)\n",
        "        # p_logreg_inv = tf.math.reduce_prod(tf.math.pow(Y_true_1, Y_hat), axis=1)\n",
        "        # temp2 = (1 - ann_)*tf.math.log(p_logreg_inv) \n",
        "        temp2 = (1 - ann_)*(1-(1/self.K)**self.q)/self.q*tf.reduce_sum(Y_true,axis=1)\n",
        "        return tf.math.reduce_sum((temp1 + temp2))\n",
        "\n",
        " \n",
        "    def PRI_MA_loss(self, y_true, y_pred): #,  -> PRI\n",
        "        #Input ytrue: samples (N) x  annotators (R) \n",
        "        #Input ypred: samples (N) x  annotators+classes (R+K) \n",
        "        #PRI MA\n",
        "        cce_M = tf.keras.losses.CategoricalCrossentropy(reduction='none',axis=-1)\n",
        "        cce_C = tf.keras.losses.CategoricalCrossentropy(reduction='none',axis=1)\n",
        "\n",
        "      \n",
        "\n",
        "        #N = tf.cast(y_true.shape[0],dtype=tf.int32)\n",
        "        N = tf.shape(y_true)[0]\n",
        "        #Ground truth estimation samples (N) x  Classes(K)\n",
        "        y_pred_tf = y_pred[:,self.R:] \n",
        "        # Annotators reliability prediction: samples (N) x  annotators (R)\n",
        "        lambda_R_tf = y_pred[:,:self.R] #tf.ones(shape=(N,R)) \n",
        "        #Y_true 1 K: samples (N) x  Classes(1-K), annotators (R)\n",
        "        Y_true_1K = tf.one_hot(tf.cast(y_true,dtype=tf.int32),depth=self.K,axis=1)  \n",
        "        #Y_pred 1 - K: samples (N) x  Classes(1-K), annotators (R)\n",
        "        Y_hat = tf.repeat(tf.expand_dims(y_pred_tf,-1), self.R, axis = -1) \n",
        "        #marginal entropy\n",
        "        #cce along the K classes -> ypred_tf\n",
        "        Hm_ = cce_M(y_pred_tf,y_pred_tf)\n",
        "        #cross entropy\n",
        "        #cce along the K classes -> Y_hat\n",
        "        Hc_ = cce_C(Y_true_1K,Y_hat)\n",
        "        #PRI MA computation\n",
        "        LH = tf.linalg.matmul(lambda_R_tf,Hc_,transpose_a=True) # \\Lambda^\\top H_c\n",
        "        temp1 = tf.linalg.trace(LH) #trace(LH)\n",
        "        Hm1L = tf.linalg.matmul(tf.ones(shape=(N,self.R))-lambda_R_tf,tf.ones(shape=(self.R,1)))# 1_N 1_R^\\top - Lambda\n",
        "        Hm_t = tf.reshape(Hm_,shape=(N,1))\n",
        "        temp2 = tf.squeeze(tf.linalg.matmul(Hm_t,Hm1L,transpose_a=True)) # Hm^\\top Hm1L\n",
        "        loss_c = temp1+ temp2 #return loss\n",
        "\n",
        "        return loss_c\n",
        "\n",
        " \n",
        "    def fit(self, X, Y):\n",
        "        #input X numpy array first dimension samples (N)x features (P)\n",
        "        #input Y numpy array vector len = samples (N) x  annotators (R)\n",
        "        P = X.shape[1]\n",
        "        if self.optimizer == \"Adam\":\n",
        "            opt = tf.keras.optimizers.Adam(learning_rate=self.learning_rate)\n",
        "        elif self.optimizer == \"SGD\":\n",
        "            opt = tf.keras.optimizers.SGD(learning_rate=self.learning_rate)\n",
        "        elif self.optimizer == \"RMSprop\":\n",
        "            opt = tf.keras.optimizers.RMSprop(learning_rate=self.learning_rate)\n",
        "        elif self.optimizer == \"Adagrad\":\n",
        "            opt = tf.keras.optimizers.Adagrad(learning_rate=self.learning_rate)\n",
        "        else:\n",
        "            opt=self.optimizer\n",
        "\n",
        "            #capa de entrada\n",
        "        input_l = tf.keras.layers.Input(shape=(X_train.shape[1]), name='entrada')\n",
        "        input_l_b = tf.keras.layers.BatchNormalization()(input_l)        \n",
        "        input_l_do = tf.keras.layers.Dropout(rate=self.dropout)(input_l_b)    \n",
        "        #capas densas\n",
        "        h1 = tf.keras.layers.Dense(int(P*1.5*(self.K+self.R)),activation='selu',name='h1', \n",
        "                              kernel_regularizer=tf.keras.regularizers.l1_l2(l1=self.l1_param,l2=self.l2_param))(input_l_do)#argumento de entrada\n",
        "        #h1 = tf.keras.layers.BatchNormalization()(h1)        \n",
        "        h1 = tf.keras.layers.Dropout(rate=self.dropout)(h1)      \n",
        "        h2 = tf.keras.layers.Dense(int(P*(self.K+self.R)),activation='selu',name='h2',\n",
        "                              kernel_regularizer=tf.keras.regularizers.l1_l2(l1=self.l1_param,l2=self.l2_param))(h1)\n",
        "       # h2 = tf.keras.layers.BatchNormalization()(h2)     \n",
        "        dout = tf.keras.layers.Dropout(rate=self.dropout)(h2)\n",
        "        #capa de salida\n",
        "        output = tf.keras.layers.Dense(self.K,activation=\"softmax\",name='output',\n",
        "                                   kernel_regularizer=tf.keras.regularizers.l1_l2(l1=self.l1_param,l2=self.l2_param))(dout)\n",
        "        self.model = tf.keras.Model(inputs= input_l,outputs=output)\n",
        "        self.model.compile(loss=tf.keras.losses.SparseCategoricalCrossentropy(), optimizer=opt,metrics=\"accuracy\")\n",
        "         \n",
        "            \n",
        " \n",
        "        self.history = self.model.fit(X, Y, epochs=self.epochs, validation_split=self.validation_split,   #\n",
        "                                      batch_size=self.batch_size,verbose=self.verbose, shuffle=True)\n",
        " \n",
        "        return self\n",
        " \n",
        "       \n",
        "    def model_MC(self, X, *_):\n",
        "       #input X numpy array first dimension samples (N)x features (P)\n",
        "        return  self.model(X, training=True) \n",
        " \n",
        "  \n",
        "   \n",
        "    def predict(self, X, *_):\n",
        "       #input X numpy array first dimension samples (N)x features (P)\n",
        "      return  self.model.predict(X) \n",
        " \n",
        " \n",
        "\n",
        "    def fit_predict(self,X,y):\n",
        "        #input X numpy array first dimension samples (N)x features (P)\n",
        "        #input Y numpy array vector len = samples (N) x  annotators (R)\n",
        "        self.fit(X,y)\n",
        "        return self.predict(X)\n",
        "  \n",
        "     #graphics\n",
        "    def plot_history(self):\n",
        "        pd.DataFrame(self.history.history).plot(figsize=(8, 5))\n",
        "        plt.grid(True)\n",
        "        #plt.gca().set_ylim(0, 1)\n",
        "        #save_fig(\"keras_learning_curves_plot\")\n",
        "        plt.show()\n",
        "        return\n",
        "    \n",
        "    def set_params(self, **parameters):\n",
        "        for parameter, value in parameters.items():\n",
        "            setattr(self, parameter, value)\n",
        "\n",
        "        return self\n",
        "    \n",
        "    \n",
        "    \n",
        "    def get_params(self, deep=True):\n",
        "        return { 'l1_param':self.l1_param, 'dropout':self.dropout, 'optimizer':self.optimizer,\n",
        "                'learning_rate':self.learning_rate, 'batch_size':self.batch_size,\n",
        "                'epochs':self.epochs, 'verbose':self.verbose, 'validation_split':self.validation_split,\n",
        "                'R':self.R, 'K':self.K, 'q':self.q\n",
        "                }\n",
        "\n",
        "  \n",
        "        return self\n"
      ]
    },
    {
      "cell_type": "code",
      "execution_count": null,
      "id": "2109ab08",
      "metadata": {
        "execution": {
          "iopub.execute_input": "2022-10-25T15:27:15.744079Z",
          "iopub.status.busy": "2022-10-25T15:27:15.743469Z",
          "iopub.status.idle": "2022-10-25T15:27:23.538064Z",
          "shell.execute_reply": "2022-10-25T15:27:23.536790Z"
        },
        "id": "2109ab08",
        "outputId": "f6fc7ae2-b560-4723-cedd-7868da7e7cf0",
        "papermill": {
          "duration": 7.806291,
          "end_time": "2022-10-25T15:27:23.540591",
          "exception": false,
          "start_time": "2022-10-25T15:27:15.734300",
          "status": "completed"
        },
        "tags": [],
        "colab": {
          "base_uri": "https://localhost:8080/"
        }
      },
      "outputs": [
        {
          "output_type": "stream",
          "name": "stdout",
          "text": [
            "--2023-02-09 14:22:37--  https://docs.google.com/uc?export=download&confirm=t&id=1SQnWXGROG2Xexs5vn3twuv7SqiWG5njW\n",
            "Resolving docs.google.com (docs.google.com)... 108.177.127.100, 108.177.127.139, 108.177.127.138, ...\n",
            "Connecting to docs.google.com (docs.google.com)|108.177.127.100|:443... connected.\n",
            "HTTP request sent, awaiting response... 303 See Other\n",
            "Location: https://doc-00-90-docs.googleusercontent.com/docs/securesc/ha0ro937gcuc7l7deffksulhg5h7mbp1/lqenbkhnvvvlc3jqtln8v4kq538jcl1h/1675952550000/07591141114418430227/*/1SQnWXGROG2Xexs5vn3twuv7SqiWG5njW?e=download&uuid=f68916e7-974b-4746-9f30-e720ddfdc6db [following]\n",
            "Warning: wildcards not supported in HTTP.\n",
            "--2023-02-09 14:22:38--  https://doc-00-90-docs.googleusercontent.com/docs/securesc/ha0ro937gcuc7l7deffksulhg5h7mbp1/lqenbkhnvvvlc3jqtln8v4kq538jcl1h/1675952550000/07591141114418430227/*/1SQnWXGROG2Xexs5vn3twuv7SqiWG5njW?e=download&uuid=f68916e7-974b-4746-9f30-e720ddfdc6db\n",
            "Resolving doc-00-90-docs.googleusercontent.com (doc-00-90-docs.googleusercontent.com)... 108.177.119.132, 2a00:1450:4013:c00::84\n",
            "Connecting to doc-00-90-docs.googleusercontent.com (doc-00-90-docs.googleusercontent.com)|108.177.119.132|:443... connected.\n",
            "HTTP request sent, awaiting response... 200 OK\n",
            "Length: 156530728 (149M) [application/zip]\n",
            "Saving to: ‘MADatasets.zip’\n",
            "\n",
            "MADatasets.zip      100%[===================>] 149.28M  60.0MB/s    in 2.5s    \n",
            "\n",
            "2023-02-09 14:22:41 (60.0 MB/s) - ‘MADatasets.zip’ saved [156530728/156530728]\n",
            "\n",
            "Archive:  MADatasets.zip\n",
            "  inflating: MADatasets/util.py      \n",
            "  inflating: MADatasets/Iris1.mat    \n",
            "  inflating: MADatasets/Integra_Labels.mat  \n",
            "  inflating: MADatasets/MAGenerationClassification.py  \n",
            "  inflating: MADatasets/Voice.mat    \n",
            "  inflating: MADatasets/Iris.mat     \n",
            "  inflating: MADatasets/Sinthetic.mat  \n",
            "  inflating: MADatasets/MAGenerationClassification_1.py  \n",
            "  inflating: MADatasets/Bupa1.mat    \n",
            "  inflating: MADatasets/TicTacToe1.mat  \n",
            "  inflating: MADatasets/Wine.mat     \n",
            "  inflating: MADatasets/Breast1.mat  \n",
            "  inflating: MADatasets/Breast.mat   \n",
            "  inflating: MADatasets/Music.mat    \n",
            "  inflating: MADatasets/Pima.mat     \n",
            "  inflating: MADatasets/Ionosphere.mat  \n",
            "  inflating: MADatasets/TicTacToe.mat  \n",
            "  inflating: MADatasets/VoiceData.m  \n",
            "  inflating: MADatasets/util_1.py    \n",
            "  inflating: MADatasets/Ionosphere1.mat  \n",
            "  inflating: MADatasets/__pycache__/util_1.cpython-37.pyc  \n",
            "  inflating: MADatasets/Bupa.mat     \n",
            "  inflating: MADatasets/Wine1.mat    \n",
            "  inflating: MADatasets/__pycache__/util.cpython-37.pyc  \n",
            "  inflating: MADatasets/Pima1.mat    \n",
            "  inflating: MADatasets/Segmentation1.mat  \n",
            "  inflating: MADatasets/Western.mat  \n",
            "  inflating: MADatasets/Integra_Preprocesamiento_Seg_Caracterizacion_time_frec.mat  \n",
            "  inflating: MADatasets/Western1.mat  \n",
            "  inflating: MADatasets/Segmentation.mat  \n",
            "  inflating: MADatasets/Skin_NonSkin.mat  \n",
            "  inflating: MADatasets/Skin_NonSkin1.mat  \n",
            "  inflating: MADatasets/Occupancy1.mat  \n",
            "  inflating: MADatasets/Polarity.mat  \n",
            "  inflating: MADatasets/Occupancy.mat  \n",
            "MADatasets  MADatasets.zip  sample_data\n"
          ]
        }
      ],
      "source": [
        "#cargar datos desde drive acceso libre\n",
        "FILEID = \"1SQnWXGROG2Xexs5vn3twuv7SqiWG5njW\"\n",
        "#https://drive.google.com/file/d/1SQnWXGROG2Xexs5vn3twuv7SqiWG5njW/view?usp=sharing\n",
        "!wget --load-cookies /tmp/cookies.txt \"https://docs.google.com/uc?export=download&confirm=$(wget --quiet --save-cookies /tmp/cookies.txt --keep-session-cookies --no-check-certificate 'https://docs.google.com/uc?export=download&id='$FILEID -O- | sed -rn 's/.*confirm=([0-9A-Za-z_]+).*/\\1\\n/p')&id=\"$FILEID -O MADatasets.zip && rm -rf /tmp/cookies.txt\n",
        "!unzip -o MADatasets.zip\n",
        "!dir"
      ]
    },
    {
      "cell_type": "markdown",
      "id": "d32c7c41",
      "metadata": {
        "id": "d32c7c41",
        "papermill": {
          "duration": 0.008424,
          "end_time": "2022-10-25T15:27:23.558032",
          "exception": false,
          "start_time": "2022-10-25T15:27:23.549608",
          "status": "completed"
        },
        "tags": []
      },
      "source": [
        "# Load Data"
      ]
    },
    {
      "cell_type": "code",
      "execution_count": null,
      "id": "e0c06840",
      "metadata": {
        "execution": {
          "iopub.execute_input": "2022-10-25T15:27:23.579757Z",
          "iopub.status.busy": "2022-10-25T15:27:23.578533Z",
          "iopub.status.idle": "2022-10-25T15:27:23.623422Z",
          "shell.execute_reply": "2022-10-25T15:27:23.622015Z"
        },
        "id": "e0c06840",
        "outputId": "4528b9c5-8033-414a-98a7-2a7843e85ce8",
        "papermill": {
          "duration": 0.057538,
          "end_time": "2022-10-25T15:27:23.625812",
          "exception": false,
          "start_time": "2022-10-25T15:27:23.568274",
          "status": "completed"
        },
        "tags": [],
        "colab": {
          "base_uri": "https://localhost:8080/"
        }
      },
      "outputs": [
        {
          "output_type": "execute_result",
          "data": {
            "text/plain": [
              "dict_keys(['__header__', '__version__', '__globals__', 'Xtest', 'Xtrain', 'Ytrain', 'vRef', 'ytest', 'ytrain'])"
            ]
          },
          "metadata": {},
          "execution_count": 4
        }
      ],
      "source": [
        "#load data\n",
        "import scipy.io as sio\n",
        "import matplotlib.pyplot as plt\n",
        "import pandas as pd\n",
        "import tensorflow as tf #importar tensorflow\n",
        "from sklearn.model_selection import GridSearchCV, RandomizedSearchCV\n",
        "from sklearn.preprocessing import StandardScaler,MinMaxScaler\n",
        "import numpy as np\n",
        "database = 'Music' #['bupa1', 'breast-cancer-wisconsin1','pima-indians-diabetes1', 'ionosphere1', 'tic-tac-toe1', 'iris1', 'wine1', 'segmentation1']\n",
        "\n",
        "\n",
        "path_ = 'MADatasets/'+ database+ '.mat' \n",
        "Xdata = sio.loadmat(path_)\n",
        "Xdata.keys()"
      ]
    },
    {
      "cell_type": "code",
      "execution_count": null,
      "id": "e9f6101b",
      "metadata": {
        "execution": {
          "iopub.execute_input": "2022-10-25T15:27:23.645709Z",
          "iopub.status.busy": "2022-10-25T15:27:23.645254Z",
          "iopub.status.idle": "2022-10-25T15:27:23.652187Z",
          "shell.execute_reply": "2022-10-25T15:27:23.650924Z"
        },
        "id": "e9f6101b",
        "outputId": "089cc5a8-5624-4822-9ab7-452ab0869d93",
        "papermill": {
          "duration": 0.019354,
          "end_time": "2022-10-25T15:27:23.654313",
          "exception": false,
          "start_time": "2022-10-25T15:27:23.634959",
          "status": "completed"
        },
        "tags": [],
        "colab": {
          "base_uri": "https://localhost:8080/"
        }
      },
      "outputs": [
        {
          "output_type": "stream",
          "name": "stdout",
          "text": [
            "Xtrain (700, 124) Xtest (300, 124) Y_true_train (700,) Y_train (700, 44) Y_true_test (300,)\n"
          ]
        }
      ],
      "source": [
        "\n",
        "Xtrain = Xdata['Xtrain']\n",
        "Xtest = Xdata['Xtest']\n",
        "Y_train =  Xdata['Ytrain']\n",
        "\n",
        "\n",
        "Y_true_train= Xdata['ytrain'].reshape(-1)\n",
        "Y_true_test  = Xdata['ytest'].reshape(-1)\n",
        "print('Xtrain',Xtrain.shape, 'Xtest',Xtest.shape,  'Y_true_train', Y_true_train.shape, 'Y_train',Y_train.shape, 'Y_true_test',Y_true_test.shape)\n",
        "  \n",
        " "
      ]
    },
    {
      "cell_type": "markdown",
      "id": "19dbcd92",
      "metadata": {
        "id": "19dbcd92",
        "papermill": {
          "duration": 0.009333,
          "end_time": "2022-10-25T15:27:23.753863",
          "exception": false,
          "start_time": "2022-10-25T15:27:23.744530",
          "status": "completed"
        },
        "tags": []
      },
      "source": [
        "# Split data"
      ]
    },
    {
      "cell_type": "code",
      "source": [
        " \n",
        "N = Y_true_train.shape[0]\n",
        "Nk = 1\n",
        "Ntr = round(N)\n",
        "train_index = np.zeros((Ntr))\n",
        "rng = np.random.default_rng(seed=123)\n",
        " \n",
        "aux = rng.permutation(N, axis=0)\n",
        "train_index = aux[0:Ntr]\n",
        "print(train_index.shape)\n",
        "\n",
        " \n",
        "X_train, Y_train, = Xtrain[train_index,:], Y_train[train_index,:]\n",
        "Y_true_train = Y_true_train[train_index].reshape(-1,1)\n",
        "train_index"
      ],
      "metadata": {
        "colab": {
          "base_uri": "https://localhost:8080/"
        },
        "id": "vzahuphKfnQk",
        "outputId": "ce69e370-5315-4d8d-dd07-582f9d97176a"
      },
      "id": "vzahuphKfnQk",
      "execution_count": null,
      "outputs": [
        {
          "output_type": "stream",
          "name": "stdout",
          "text": [
            "(700,)\n"
          ]
        },
        {
          "output_type": "execute_result",
          "data": {
            "text/plain": [
              "array([ 64, 404, 641, 400,   9, 321, 458, 151, 287, 689, 535, 699, 494,\n",
              "       499, 460, 413, 587,  51, 492, 234,  54, 175, 238, 359,  10, 670,\n",
              "        96,  13, 329, 520,  94, 199, 442, 319, 679, 289, 654, 463,  76,\n",
              "       471, 212, 401, 402,  43, 274, 337, 348, 567, 639, 551, 547, 617,\n",
              "       382, 515, 286, 305, 443, 544, 370, 488, 323, 207, 288, 230, 555,\n",
              "       198,  36, 481, 398,   4, 342, 495, 486, 446, 114, 678, 134, 125,\n",
              "       432, 550, 275, 185, 657, 137, 293, 562,  97, 478, 627, 386, 415,\n",
              "        78, 484, 614,  57, 225, 192, 642, 390,  31, 222, 336,  19, 239,\n",
              "        56, 130, 221, 462, 202, 613, 171, 447, 191, 360,  16, 211, 394,\n",
              "       621, 563, 695, 646, 663, 389, 554, 373, 680,  30, 150, 561, 656,\n",
              "       475, 284, 611, 354, 668, 263, 676, 684, 553, 278, 630, 669, 594,\n",
              "       218, 309,  21, 565, 514, 372, 560, 452, 273, 308, 371, 582, 482,\n",
              "       606, 109, 294, 522, 383, 575,  95, 327, 368, 176, 615, 158, 392,\n",
              "       418, 143, 167, 479, 129, 517, 533, 546, 503, 111,  23, 343, 504,\n",
              "        42,   0, 451, 427,  58, 665, 586, 155, 196,  40, 181, 539, 411,\n",
              "       119, 407,  28, 698, 696, 673,   1, 419, 416, 524, 250, 385, 498,\n",
              "        50, 525, 485, 271, 417, 186, 126, 120, 344, 160,  46, 391,  11,\n",
              "       448, 113, 477,  45, 357, 459, 380,  80, 306, 697, 253, 362, 588,\n",
              "        88, 692, 466, 548, 166, 607, 595, 545, 104, 661, 132, 558, 312,\n",
              "        12, 242, 101, 264, 530, 428, 209, 644, 605, 441, 435, 232, 300,\n",
              "       107, 624, 536, 425, 208, 317,  69, 602, 626, 307, 254, 578, 108,\n",
              "       180, 636, 172, 631, 204, 241, 603, 333, 542, 326, 658,  85, 409,\n",
              "       260, 141,   2, 395, 685, 513,  87, 162, 258, 374, 249, 650, 528,\n",
              "       379, 652, 224, 572, 169, 674, 381, 456,  83,  65, 177, 133, 648,\n",
              "       660, 213, 569, 159, 634, 612, 220, 439, 589, 472,  61, 574, 269,\n",
              "       318, 502, 622,  14, 252, 436, 251, 165, 123, 384, 335, 361, 295,\n",
              "       255, 340, 675, 328, 197, 100, 235,  99, 559, 376, 690, 297, 518,\n",
              "       422, 688, 541, 683, 632, 543, 557, 426, 189, 187,  35, 527, 369,\n",
              "       148, 454, 194, 182, 304,  74, 397, 651,  39, 467, 124, 387, 506,\n",
              "       564, 236, 591,  53, 483, 566, 245, 403, 584, 316, 430, 465, 346,\n",
              "       121, 378,  79, 464, 437, 474, 147, 246, 210, 406, 223, 568, 473,\n",
              "       282, 440, 599, 608, 142, 195, 358, 694, 110, 146,  59, 334, 117,\n",
              "        29, 511, 102, 248,  37, 215, 549, 444,  17, 188,  73, 163, 325,\n",
              "       157, 577,  55, 106,  38, 200, 410, 681,  84, 365, 647, 173, 279,\n",
              "       276, 521, 666, 664, 620, 596, 154, 140,  91,  52, 449,  18, 581,\n",
              "       156,  72, 310, 445, 296,  90, 193, 322, 256, 672, 618, 347, 375,\n",
              "       597, 635,  47, 526, 349, 280, 330, 205, 507, 610, 122, 183, 487,\n",
              "       179, 138, 431,  63, 489, 377, 351,  26, 423, 314, 265, 609, 388,\n",
              "        92, 352, 523,  41, 655, 240, 127,  25, 217,  60, 592, 420, 315,\n",
              "       299, 320, 508, 625,  34, 450, 429, 103, 616, 540, 598, 324, 170,\n",
              "       272,  48, 468, 469, 691,   7, 556, 116, 178, 604,  89,  86, 509,\n",
              "       583, 532, 366,  15, 516, 501, 259, 184, 490, 341, 290, 470, 261,\n",
              "       237, 226,   8,  22, 405, 396, 115, 257, 628, 247, 531, 131, 693,\n",
              "       537, 353, 339, 653,  67, 424, 505, 270, 414, 145,  68, 623, 438,\n",
              "       600, 677, 638, 640, 593, 399, 480, 421,  49, 161,  20,  77, 500,\n",
              "       227, 643, 277, 579,  81, 667, 244,  62,  75, 267, 457, 367, 128,\n",
              "       331, 206, 229, 649, 332, 682, 671, 629, 164, 262, 619, 112, 529,\n",
              "       203,  71,   3, 313,  27, 512, 687, 434, 570, 491, 174, 311, 168,\n",
              "       281, 497, 292, 149, 393, 118, 363,  70, 552,  66, 455, 519,  32,\n",
              "       637, 139, 303, 534, 364, 266,  98, 345, 412,  82, 350, 135, 201,\n",
              "       408, 601, 356, 576, 231, 216, 510,  24, 476, 538, 144, 355, 590,\n",
              "       580,  93, 659, 338, 571, 136, 298, 152, 686, 645, 219, 285, 453,\n",
              "       283, 228, 573, 301, 190,   6,  33,  44, 493, 496, 268, 105, 233,\n",
              "       633, 243, 585, 214, 433,   5, 302, 662, 291, 153, 461])"
            ]
          },
          "metadata": {},
          "execution_count": 6
        }
      ]
    },
    {
      "cell_type": "code",
      "source": [
        "N = Y_true_test.shape[0]\n",
        "Nk = 1\n",
        "Nte = round(N)\n",
        "test_index = np.zeros((Nte))\n",
        "#test_index = np.zeros((N-Ntr))\n",
        "rng = np.random.default_rng( seed=123)\n",
        "#for i in range(Nk):\n",
        "    \n",
        "aux = rng.permutation(N, axis=0)\n",
        "#print(aux)\n",
        "test_index = aux[0:Nte]\n",
        "#print(idxtr)\n",
        "#test_index= aux[Ntr+1:] \n",
        "print(test_index.shape)\n",
        "\n",
        "  \n",
        "X_test = Xtest[test_index,:]\n",
        "Y_true_test = Y_true_test[test_index].reshape(-1,1)\n",
        "test_index"
      ],
      "metadata": {
        "colab": {
          "base_uri": "https://localhost:8080/"
        },
        "id": "I3jtyPAGhChA",
        "outputId": "31859c68-ead2-4fc7-ee9c-6ca2db82e774"
      },
      "id": "I3jtyPAGhChA",
      "execution_count": null,
      "outputs": [
        {
          "output_type": "stream",
          "name": "stdout",
          "text": [
            "(300,)\n"
          ]
        },
        {
          "output_type": "execute_result",
          "data": {
            "text/plain": [
              "array([273, 192, 169, 162,  91, 120,  38, 251, 195,  65, 290, 249,  99,\n",
              "       296,  46, 239, 258,  72, 134, 189, 116,  53, 280, 246, 205, 247,\n",
              "       113,  87, 151, 278, 240,  80,  18,  54, 129, 245, 132,   2, 196,\n",
              "       283, 202, 224, 145, 130, 263,  74,  52, 127, 104, 126, 212,  51,\n",
              "       241, 235, 250,  31, 262,  95,   9, 138, 114,  28, 101, 238,  41,\n",
              "       185,  60, 167, 259, 161,  43, 256, 204, 163, 265, 157,  45, 203,\n",
              "       217, 140, 277, 171,  16, 109,  84, 223,  23,  35, 260, 257, 267,\n",
              "        90, 270, 103, 284,  39,  50, 184, 170, 287,  79, 194, 292, 123,\n",
              "       227, 122, 148, 188, 299,  48, 210, 264, 117,  15, 176, 165,  63,\n",
              "        56, 106,  85, 197,  69, 166, 154, 295,  96, 220, 248,  42, 175,\n",
              "       146, 115,   1, 293, 206, 172, 215,  97,  83, 281, 275, 159,  14,\n",
              "       218, 234, 160, 236, 213, 181, 143, 102,  49,  34, 180,  86,  77,\n",
              "       242, 279,  21, 211,  81, 269, 186, 229, 298, 193, 252,  62, 230,\n",
              "        11, 111, 128, 131,  75,   4,   8, 208,  37,  19, 182,  20,  92,\n",
              "        76, 286,  12, 237, 164, 272, 155, 285, 207, 112,  17, 198, 294,\n",
              "       142,  71, 183,   3, 173, 119,  57,  27,   0, 289, 141, 178,  58,\n",
              "       209, 174, 110,  67,  55, 168, 274,  25,  36, 276, 266, 149, 137,\n",
              "       244,  88, 200, 107,  30,  29,  70,  40,  66, 199,   7,  32, 125,\n",
              "       139,  47,  22, 221, 158, 124, 108,  10,  98, 261, 118, 156,  82,\n",
              "        94,  13, 135, 201, 177, 271,  89, 226, 100,  64, 231, 179, 216,\n",
              "        24, 253,  26, 144,  78, 222,  68,  93, 147,  59, 136, 152, 288,\n",
              "       133, 232, 187, 191, 297, 282, 255, 225, 254, 228,  61, 190,   6,\n",
              "        33,  44, 268, 105, 233, 121, 243,  73, 214,   5, 150, 219, 291,\n",
              "       153])"
            ]
          },
          "metadata": {},
          "execution_count": 7
        }
      ]
    },
    {
      "cell_type": "code",
      "source": [
        "Y_true_train = Y_true_train-1\n",
        "Y_true_test = Y_true_test -1"
      ],
      "metadata": {
        "id": "jtUM8azqiagP"
      },
      "id": "jtUM8azqiagP",
      "execution_count": null,
      "outputs": []
    },
    {
      "cell_type": "code",
      "source": [
        "\n",
        "unique, counts = np.unique(Y_true_train, return_counts=True)\n",
        "plt.figure()\n",
        "plt.bar(unique, counts)\n",
        "unique, counts = np.unique(Y_true_test, return_counts=True)\n",
        "plt.bar(unique, counts)\n",
        "\n",
        "plt.title('Class Frequency for Y_true')\n",
        "plt.xlabel('Class')\n",
        "plt.ylabel('Frequency')"
      ],
      "metadata": {
        "colab": {
          "base_uri": "https://localhost:8080/",
          "height": 313
        },
        "id": "QZ-DgUmJhFnr",
        "outputId": "7a07c520-5a87-4e54-c4de-1052c0c47259"
      },
      "id": "QZ-DgUmJhFnr",
      "execution_count": null,
      "outputs": [
        {
          "output_type": "execute_result",
          "data": {
            "text/plain": [
              "Text(0, 0.5, 'Frequency')"
            ]
          },
          "metadata": {},
          "execution_count": 9
        },
        {
          "output_type": "display_data",
          "data": {
            "text/plain": [
              "<Figure size 432x288 with 1 Axes>"
            ],
            "image/png": "[encoded data removed]"
          },
          "metadata": {
            "needs_background": "light"
          }
        }
      ]
    },
    {
      "cell_type": "code",
      "execution_count": null,
      "id": "83e12625",
      "metadata": {
        "execution": {
          "iopub.execute_input": "2022-10-25T15:27:23.807703Z",
          "iopub.status.busy": "2022-10-25T15:27:23.807036Z",
          "iopub.status.idle": "2022-10-25T15:27:23.811181Z",
          "shell.execute_reply": "2022-10-25T15:27:23.810485Z"
        },
        "papermill": {
          "duration": 0.016814,
          "end_time": "2022-10-25T15:27:23.813361",
          "exception": false,
          "start_time": "2022-10-25T15:27:23.796547",
          "status": "completed"
        },
        "tags": [],
        "id": "83e12625"
      },
      "outputs": [],
      "source": [
        "# for i in range(Y.shape[1]):\n",
        "#     print('annotator',i+1)\n",
        "   \n",
        "#     unique, counts = np.unique(Y_train[:,i], return_counts=True)\n",
        "#     plt.figure()\n",
        "#     plt.bar(unique, counts)\n",
        "#     unique, counts = np.unique(Y_test[:,i], return_counts=True)\n",
        "#     plt.bar(unique, counts)\n",
        "\n",
        "#     plt.title('Class Frequency for Y_true')\n",
        "#     plt.xlabel('Class')\n",
        "#     plt.ylabel('Frequency')\n"
      ]
    },
    {
      "cell_type": "markdown",
      "id": "63e48f84",
      "metadata": {
        "id": "63e48f84",
        "papermill": {
          "duration": 0.008803,
          "end_time": "2022-10-25T15:27:23.831508",
          "exception": false,
          "start_time": "2022-10-25T15:27:23.822705",
          "status": "completed"
        },
        "tags": []
      },
      "source": [
        "# Apply MinMaxScaler"
      ]
    },
    {
      "cell_type": "code",
      "execution_count": null,
      "id": "e92f90b4",
      "metadata": {
        "execution": {
          "iopub.execute_input": "2022-10-25T15:27:23.851559Z",
          "iopub.status.busy": "2022-10-25T15:27:23.850925Z",
          "iopub.status.idle": "2022-10-25T15:27:23.857306Z",
          "shell.execute_reply": "2022-10-25T15:27:23.855971Z"
        },
        "id": "e92f90b4",
        "papermill": {
          "duration": 0.018945,
          "end_time": "2022-10-25T15:27:23.859554",
          "exception": false,
          "start_time": "2022-10-25T15:27:23.840609",
          "status": "completed"
        },
        "tags": []
      },
      "outputs": [],
      "source": [
        "scaler = MinMaxScaler()\n",
        "scaler.fit(X_train)\n",
        "X_train = scaler.transform(X_train)\n",
        "X_test = scaler.transform(X_test)"
      ]
    },
    {
      "cell_type": "code",
      "execution_count": null,
      "id": "31dd59f5",
      "metadata": {
        "execution": {
          "iopub.execute_input": "2022-10-25T15:27:23.773709Z",
          "iopub.status.busy": "2022-10-25T15:27:23.773225Z",
          "iopub.status.idle": "2022-10-25T15:27:23.784887Z",
          "shell.execute_reply": "2022-10-25T15:27:23.783592Z"
        },
        "id": "31dd59f5",
        "outputId": "5cbad68c-ebd3-473a-9374-c8e649a75119",
        "papermill": {
          "duration": 0.024293,
          "end_time": "2022-10-25T15:27:23.787281",
          "exception": false,
          "start_time": "2022-10-25T15:27:23.762988",
          "status": "completed"
        },
        "tags": [],
        "colab": {
          "base_uri": "https://localhost:8080/"
        }
      },
      "outputs": [
        {
          "output_type": "stream",
          "name": "stderr",
          "text": [
            "/usr/local/lib/python3.8/dist-packages/sklearn/linear_model/_logistic.py:814: ConvergenceWarning: lbfgs failed to converge (status=1):\n",
            "STOP: TOTAL NO. of ITERATIONS REACHED LIMIT.\n",
            "\n",
            "Increase the number of iterations (max_iter) or scale the data as shown in:\n",
            "    https://scikit-learn.org/stable/modules/preprocessing.html\n",
            "Please also refer to the documentation for alternative solver options:\n",
            "    https://scikit-learn.org/stable/modules/linear_model.html#logistic-regression\n",
            "  n_iter_i = _check_optimize_result(\n"
          ]
        },
        {
          "output_type": "execute_result",
          "data": {
            "text/plain": [
              "0.71"
            ]
          },
          "metadata": {},
          "execution_count": 12
        }
      ],
      "source": [
        " \n",
        "from sklearn.linear_model import LogisticRegression\n",
        "#scaler = preprocessing.StandardScaler().fit(X_train)\n",
        "clf = LogisticRegression(random_state=0).fit(X_train, Y_true_train.ravel())\n",
        " \n",
        "clf.score(X_test, Y_true_test.ravel())\n"
      ]
    },
    {
      "cell_type": "markdown",
      "id": "a27a1684",
      "metadata": {
        "id": "a27a1684",
        "papermill": {
          "duration": 0.009041,
          "end_time": "2022-10-25T15:27:23.877954",
          "exception": false,
          "start_time": "2022-10-25T15:27:23.868913",
          "status": "completed"
        },
        "tags": []
      },
      "source": [
        "# Testing the Class \n"
      ]
    },
    {
      "cell_type": "code",
      "source": [
        "from sklearn.metrics import classification_report, balanced_accuracy_score, roc_auc_score\n",
        "from sklearn.metrics import normalized_mutual_info_score, mutual_info_score, adjusted_mutual_info_score\n",
        "l1 =0.001\n",
        "NUM_RUNS =10\n",
        "ACC = np.zeros(NUM_RUNS)\n",
        "AUC = np.zeros(NUM_RUNS)\n",
        "MI = np.zeros(NUM_RUNS)\n",
        "NMI = np.zeros(NUM_RUNS)\n",
        "AMI = np.zeros(NUM_RUNS)\n",
        "BACC = np.zeros(NUM_RUNS)\n",
        "for i in range(NUM_RUNS): #10\n",
        "    print(\"iteration: \" + str(i))\n",
        "   \n",
        "   \n",
        "    MA = Keras_MA_GCCE(epochs=200,batch_size=64,R=1, K=len(np.unique(Y_true_train)), dropout=0.25, learning_rate=0.001,optimizer='Adam', \n",
        "                l1_param=l1,  verbose=0, q=0.1) #, neurons=.5)\n",
        "\n",
        "    MA.fit(X_train,Y_true_train)\n",
        "    MA.plot_history()\n",
        "  \n",
        "    #Accuracy\n",
        "    pred_2 = MA.predict(X_test)\n",
        " \n",
        "    report = classification_report( pred_2.argmax(axis=1),Y_true_test.ravel(),output_dict=True)\n",
        "    ACC[i] = report['accuracy']\n",
        "    print(\"Validation ACC: %.4f\" % (float(ACC[i])))\n",
        "\n",
        "\n",
        "    # balanced. Accurcy\n",
        "    BACC[i] = balanced_accuracy_score(Y_true_test.squeeze(), pred_2.argmax(axis=1).squeeze(), adjusted=True)\n",
        "    print(\"Validation Balanced_ACC: %.4f\" % (float(BACC[i])))\n",
        "\n",
        "    #MI\n",
        "    \n",
        "    MI[i] = mutual_info_score(Y_true_test.squeeze(), pred_2.argmax(axis=1).squeeze())\n",
        "    print(\"Validation MI: %.4f\" % (float(MI[i]),))\n",
        "    NMI[i] = normalized_mutual_info_score(Y_true_test.squeeze(), pred_2.argmax(axis=1).squeeze())\n",
        "    print(\"Validation Normalized MI: %.4f\" % (float(NMI[i]),))\n",
        "    AMI[i]= adjusted_mutual_info_score(Y_true_test.squeeze(), pred_2.argmax(axis=1).squeeze())\n",
        "    print(\"Validation Adjusted MI: %.4f\" % (float(AMI[i]),))\n",
        "\n",
        "\n",
        "    #AUC\n",
        "    val_AUC_metric = tf.keras.metrics.AUC( from_logits = True)  \n",
        "   # val_logits =MA.predict(X_test) # model(X_test, training=False)\n",
        "    # tf.print(y_batch_val)\n",
        "    val_AUC_metric.update_state(Y_true_test, pred_2.argmax(axis=1).astype('float'))\n",
        "\n",
        "    val_AUC = val_AUC_metric.result()\n",
        "    val_AUC_metric.reset_states()\n",
        "    val_AUC = val_AUC.numpy()\n",
        "    print(\"Validation aUc: %.4f\" % (float(val_AUC),))\n",
        "    AUC[i] = val_AUC\n",
        "    val_AUC1 = roc_auc_score(ook(Y_true_test), pred_2)\n",
        "    print(\"Validation aUc_Sklearn: %.4f\" % (float(val_AUC1),))\n",
        "    AUC[i] = val_AUC1\n",
        "    \n",
        "\n",
        "    # y_model = MA.model_MC(X_test)\n",
        "    # y_model = y_model\n",
        "    # y_probas = np.stack([y_model # se activa training en True para que el Dropout se aplique\n",
        "    #                     for sample in range(100)])\n",
        "    # y_proba = y_probas.mean(axis=0)\n",
        "    # y_std = y_probas.std(axis=0)\n",
        "    # y_pred = np.argmax(y_proba, axis=1)\n",
        "\n",
        "    # from sklearn.metrics import accuracy_score\n",
        "    # accuracy_score(Y_true_test, y_pred)\n",
        "    # print(\"Validation  montecarlo ACC: %.4f\" % (float(accuracy_score(Y_true_test, y_pred)),))\n",
        "\n",
        "\n",
        "    # #AUC ================================================================================\n",
        "    # val_AUC_metric = tf.keras.metrics.AUC( from_logits = True)  \n",
        "    # #val_logits =MA.predict(X_test) # model(X_test, training=False)\n",
        "    # # tf.print(y_batch_val)\n",
        "    # val_AUC_metric.update_state(Y_true_test, y_pred.astype('float'))\n",
        "\n",
        "    # val_AUC = val_AUC_metric.result()\n",
        "    # val_AUC_metric.reset_states()\n",
        "    # val_AUC = val_AUC.numpy()\n",
        "    # print(\"Validation montecarlo aUc: %.4f\" % (float(val_AUC),))"
      ],
      "metadata": {
        "colab": {
          "base_uri": "https://localhost:8080/",
          "height": 1000
        },
        "id": "OGsq0CzeCIBa",
        "outputId": "104629f4-8137-45ea-fe6f-e8409aff9cd4"
      },
      "id": "OGsq0CzeCIBa",
      "execution_count": null,
      "outputs": [
        {
          "output_type": "stream",
          "name": "stdout",
          "text": [
            "iteration: 0\n"
          ]
        },
        {
          "output_type": "display_data",
          "data": {
            "text/plain": [
              "<Figure size 576x360 with 1 Axes>"
            ],
            "image/png": "[encoded data removed]"
          },
          "metadata": {
            "needs_background": "light"
          }
        },
        {
          "output_type": "stream",
          "name": "stdout",
          "text": [
            "10/10 [==============================] - 0s 3ms/step\n",
            "Validation ACC: 0.7700\n",
            "Validation Balanced_ACC: 0.7504\n",
            "Validation MI: 1.5217\n",
            "Validation Normalized MI: 0.6640\n",
            "Validation Adjusted MI: 0.6404\n",
            "Validation aUc: 0.8135\n",
            "Validation aUc_Sklearn: 0.9647\n",
            "iteration: 1\n"
          ]
        },
        {
          "output_type": "display_data",
          "data": {
            "text/plain": [
              "<Figure size 576x360 with 1 Axes>"
            ],
            "image/png": "[encoded data removed]"
          },
          "metadata": {
            "needs_background": "light"
          }
        },
        {
          "output_type": "stream",
          "name": "stdout",
          "text": [
            "10/10 [==============================] - 0s 3ms/step\n",
            "Validation ACC: 0.7533\n",
            "Validation Balanced_ACC: 0.7337\n",
            "Validation MI: 1.4950\n",
            "Validation Normalized MI: 0.6524\n",
            "Validation Adjusted MI: 0.6280\n",
            "Validation aUc: 0.8092\n",
            "Validation aUc_Sklearn: 0.9612\n",
            "iteration: 2\n"
          ]
        },
        {
          "output_type": "display_data",
          "data": {
            "text/plain": [
              "<Figure size 576x360 with 1 Axes>"
            ],
            "image/png": "[encoded data removed]"
          },
          "metadata": {
            "needs_background": "light"
          }
        },
        {
          "output_type": "stream",
          "name": "stdout",
          "text": [
            "10/10 [==============================] - 0s 3ms/step\n",
            "Validation ACC: 0.7600\n",
            "Validation Balanced_ACC: 0.7362\n",
            "Validation MI: 1.4875\n",
            "Validation Normalized MI: 0.6485\n",
            "Validation Adjusted MI: 0.6239\n",
            "Validation aUc: 0.8334\n",
            "Validation aUc_Sklearn: 0.9621\n",
            "iteration: 3\n"
          ]
        },
        {
          "output_type": "display_data",
          "data": {
            "text/plain": [
              "<Figure size 576x360 with 1 Axes>"
            ],
            "image/png": "[encoded data removed]"
          },
          "metadata": {
            "needs_background": "light"
          }
        },
        {
          "output_type": "stream",
          "name": "stdout",
          "text": [
            "10/10 [==============================] - 0s 2ms/step\n",
            "Validation ACC: 0.7700\n",
            "Validation Balanced_ACC: 0.7520\n",
            "Validation MI: 1.5310\n",
            "Validation Normalized MI: 0.6690\n",
            "Validation Adjusted MI: 0.6457\n",
            "Validation aUc: 0.8328\n",
            "Validation aUc_Sklearn: 0.9634\n",
            "iteration: 4\n"
          ]
        },
        {
          "output_type": "display_data",
          "data": {
            "text/plain": [
              "<Figure size 576x360 with 1 Axes>"
            ],
            "image/png": "[encoded data removed]"
          },
          "metadata": {
            "needs_background": "light"
          }
        },
        {
          "output_type": "stream",
          "name": "stdout",
          "text": [
            "10/10 [==============================] - 0s 2ms/step\n",
            "Validation ACC: 0.7733\n",
            "Validation Balanced_ACC: 0.7518\n",
            "Validation MI: 1.5458\n",
            "Validation Normalized MI: 0.6734\n",
            "Validation Adjusted MI: 0.6505\n",
            "Validation aUc: 0.8088\n",
            "Validation aUc_Sklearn: 0.9654\n",
            "iteration: 5\n"
          ]
        },
        {
          "output_type": "display_data",
          "data": {
            "text/plain": [
              "<Figure size 576x360 with 1 Axes>"
            ],
            "image/png": "[encoded data removed]"
          },
          "metadata": {
            "needs_background": "light"
          }
        },
        {
          "output_type": "stream",
          "name": "stdout",
          "text": [
            "10/10 [==============================] - 0s 2ms/step\n",
            "Validation ACC: 0.7567\n",
            "Validation Balanced_ACC: 0.7356\n",
            "Validation MI: 1.4871\n",
            "Validation Normalized MI: 0.6486\n",
            "Validation Adjusted MI: 0.6240\n",
            "Validation aUc: 0.8282\n",
            "Validation aUc_Sklearn: 0.9630\n",
            "iteration: 6\n"
          ]
        },
        {
          "output_type": "display_data",
          "data": {
            "text/plain": [
              "<Figure size 576x360 with 1 Axes>"
            ],
            "image/png": "[encoded data removed]"
          },
          "metadata": {
            "needs_background": "light"
          }
        },
        {
          "output_type": "stream",
          "name": "stdout",
          "text": [
            "10/10 [==============================] - 0s 2ms/step\n",
            "Validation ACC: 0.7467\n",
            "Validation Balanced_ACC: 0.7256\n",
            "Validation MI: 1.4559\n",
            "Validation Normalized MI: 0.6346\n",
            "Validation Adjusted MI: 0.6090\n",
            "Validation aUc: 0.7998\n",
            "Validation aUc_Sklearn: 0.9624\n",
            "iteration: 7\n"
          ]
        },
        {
          "output_type": "display_data",
          "data": {
            "text/plain": [
              "<Figure size 576x360 with 1 Axes>"
            ],
            "image/png": "[encoded data removed]"
          },
          "metadata": {
            "needs_background": "light"
          }
        },
        {
          "output_type": "stream",
          "name": "stdout",
          "text": [
            "10/10 [==============================] - 0s 2ms/step\n",
            "Validation ACC: 0.7733\n",
            "Validation Balanced_ACC: 0.7522\n",
            "Validation MI: 1.5342\n",
            "Validation Normalized MI: 0.6688\n",
            "Validation Adjusted MI: 0.6456\n",
            "Validation aUc: 0.8328\n",
            "Validation aUc_Sklearn: 0.9633\n",
            "iteration: 8\n"
          ]
        },
        {
          "output_type": "display_data",
          "data": {
            "text/plain": [
              "<Figure size 576x360 with 1 Axes>"
            ],
            "image/png": "[encoded data removed]"
          },
          "metadata": {
            "needs_background": "light"
          }
        },
        {
          "output_type": "stream",
          "name": "stdout",
          "text": [
            "10/10 [==============================] - 0s 2ms/step\n",
            "Validation ACC: 0.7700\n",
            "Validation Balanced_ACC: 0.7482\n",
            "Validation MI: 1.5285\n",
            "Validation Normalized MI: 0.6666\n",
            "Validation Adjusted MI: 0.6432\n",
            "Validation aUc: 0.8408\n",
            "Validation aUc_Sklearn: 0.9649\n",
            "iteration: 9\n"
          ]
        },
        {
          "output_type": "display_data",
          "data": {
            "text/plain": [
              "<Figure size 576x360 with 1 Axes>"
            ],
            "image/png": "[encoded data removed]"
          },
          "metadata": {
            "needs_background": "light"
          }
        },
        {
          "output_type": "stream",
          "name": "stdout",
          "text": [
            "10/10 [==============================] - 0s 2ms/step\n",
            "Validation ACC: 0.7667\n",
            "Validation Balanced_ACC: 0.7464\n",
            "Validation MI: 1.5132\n",
            "Validation Normalized MI: 0.6606\n",
            "Validation Adjusted MI: 0.6368\n",
            "Validation aUc: 0.8303\n",
            "Validation aUc_Sklearn: 0.9636\n"
          ]
        }
      ]
    },
    {
      "cell_type": "code",
      "execution_count": null,
      "metadata": {
        "execution": {
          "iopub.execute_input": "2022-10-25T16:26:20.535351Z",
          "iopub.status.busy": "2022-10-25T16:26:20.534704Z",
          "iopub.status.idle": "2022-10-25T16:26:20.638582Z",
          "shell.execute_reply": "2022-10-25T16:26:20.636858Z"
        },
        "id": "a7972f6e",
        "papermill": {
          "duration": 0.120287,
          "end_time": "2022-10-25T16:26:20.642336",
          "exception": false,
          "start_time": "2022-10-25T16:26:20.522049",
          "status": "completed"
        },
        "tags": [],
        "colab": {
          "base_uri": "https://localhost:8080/"
        },
        "outputId": "f0c97ae9-8392-42ad-f83a-d0af504a3f2d"
      },
      "outputs": [
        {
          "output_type": "execute_result",
          "data": {
            "text/plain": [
              "array([0.77      , 0.75333333, 0.76      , 0.77      , 0.77333333,\n",
              "       0.75666667, 0.74666667, 0.77333333, 0.77      , 0.76666667])"
            ]
          },
          "metadata": {},
          "execution_count": 16
        }
      ],
      "source": [
        "ACC"
      ],
      "id": "a7972f6e"
    },
    {
      "cell_type": "code",
      "source": [
        "\n",
        "AUC"
      ],
      "metadata": {
        "id": "bAgG_knDzvlM",
        "colab": {
          "base_uri": "https://localhost:8080/"
        },
        "outputId": "725fa5fa-fa12-4e51-f1ff-ab771d266c55"
      },
      "execution_count": null,
      "outputs": [
        {
          "output_type": "execute_result",
          "data": {
            "text/plain": [
              "array([0.96469346, 0.96117309, 0.96212402, 0.96341361, 0.96539074,\n",
              "       0.96296858, 0.96235288, 0.96329623, 0.96492465, 0.96362224])"
            ]
          },
          "metadata": {},
          "execution_count": 17
        }
      ],
      "id": "bAgG_knDzvlM"
    },
    {
      "cell_type": "markdown",
      "source": [
        "# Metrics Results"
      ],
      "metadata": {
        "id": "lsN8TxQCz8ck"
      },
      "id": "lsN8TxQCz8ck"
    },
    {
      "cell_type": "code",
      "source": [
        "print('Average Accuracy: ', np.round( ACC.mean(),4)*100) \n",
        "print('Average std: ',np.round(np.std( ACC),4)*100)\n",
        "print('==============================================')\n",
        "print('Average AUC: ', np.round( AUC.mean(),4)*100) \n",
        "print('Average AUC std: ',np.round(np.std( AUC),4)*100)\n",
        "print('==============================================')\n",
        "print('Average Balanced Accuracy: ', np.round( BACC.mean(),4)*100) \n",
        "print('Average std: ',np.round(np.std( BACC),4)*100)\n",
        "print('==============================================')\n",
        "print('Average MI: ', np.round( MI.mean(),4)*100) \n",
        "print('Average std: ',np.round(np.std(MI),4)*100)\n",
        "print('==============================================')\n",
        "print('Average Normalized MI: ', np.round( NMI.mean(),4)*100) \n",
        "print('Average std: ',np.round(np.std(NMI),4)*100)\n",
        "print('==============================================')\n",
        "print('Average Ajdusted MI: ', np.round( AMI.mean(),4)*100) \n",
        "print('Average std: ',np.round(np.std(AMI),4)*100)"
      ],
      "metadata": {
        "id": "xVbobowTkMYG",
        "colab": {
          "base_uri": "https://localhost:8080/"
        },
        "outputId": "7a9c8254-de4b-4e99-9330-e35ea732d95c"
      },
      "id": "xVbobowTkMYG",
      "execution_count": null,
      "outputs": [
        {
          "output_type": "stream",
          "name": "stdout",
          "text": [
            "Average Accuracy:  76.4\n",
            "Average std:  0.88\n",
            "==============================================\n",
            "Average AUC:  96.34\n",
            "Average AUC std:  0.13\n",
            "==============================================\n",
            "Average Balanced Accuracy:  74.32\n",
            "Average std:  0.91\n",
            "==============================================\n",
            "Average MI:  151.0\n",
            "Average std:  2.64\n",
            "==============================================\n",
            "Average Normalized MI:  65.86999999999999\n",
            "Average std:  1.16\n",
            "==============================================\n",
            "Average Ajdusted MI:  63.470000000000006\n",
            "Average std:  1.24\n"
          ]
        }
      ]
    },
    {
      "cell_type": "code",
      "source": [],
      "metadata": {
        "id": "Qh6TaOwnxll2"
      },
      "id": "Qh6TaOwnxll2",
      "execution_count": null,
      "outputs": []
    }
  ],
  "metadata": {
    "kernelspec": {
      "display_name": "Python 3",
      "language": "python",
      "name": "python3"
    },
    "language_info": {
      "codemirror_mode": {
        "name": "ipython",
        "version": 3
      },
      "file_extension": ".py",
      "mimetype": "text/x-python",
      "name": "python",
      "nbconvert_exporter": "python",
      "pygments_lexer": "ipython3",
      "version": "3.7.12"
    },
    "papermill": {
      "default_parameters": {},
      "duration": 1924.690371,
      "end_time": "2022-10-25T15:59:03.470599",
      "environment_variables": {},
      "exception": null,
      "input_path": "__notebook__.ipynb",
      "output_path": "__notebook__.ipynb",
      "parameters": {},
      "start_time": "2022-10-25T15:26:58.780228",
      "version": "2.3.4"
    },
    "colab": {
      "provenance": [],
      "include_colab_link": true
    },
    "accelerator": "GPU",
    "gpuClass": "standard"
  },
  "nbformat": 4,
  "nbformat_minor": 5
}