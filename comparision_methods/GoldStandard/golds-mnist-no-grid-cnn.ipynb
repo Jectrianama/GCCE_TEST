{
 "cells": [
  {
   "cell_type": "code",
   "execution_count": 1,
   "id": "cb4cc596",
   "metadata": {
    "execution": {
     "iopub.execute_input": "2023-02-04T00:05:38.914165Z",
     "iopub.status.busy": "2023-02-04T00:05:38.913667Z",
     "iopub.status.idle": "2023-02-04T00:05:38.919147Z",
     "shell.execute_reply": "2023-02-04T00:05:38.918210Z"
    },
    "id": "34985e74",
    "papermill": {
     "duration": 0.015838,
     "end_time": "2023-02-04T00:05:38.921126",
     "exception": false,
     "start_time": "2023-02-04T00:05:38.905288",
     "status": "completed"
    },
    "tags": []
   },
   "outputs": [],
   "source": [
    "#!pip install tensorflow==2.7.0\n",
    "#!pip install scikeras"
   ]
  },
  {
   "cell_type": "markdown",
   "id": "2b75dd4d",
   "metadata": {
    "id": "Z__1s6fLGH91",
    "papermill": {
     "duration": 0.005037,
     "end_time": "2023-02-04T00:05:38.931600",
     "exception": false,
     "start_time": "2023-02-04T00:05:38.926563",
     "status": "completed"
    },
    "tags": []
   },
   "source": [
    "# Subclassing for GCCE"
   ]
  },
  {
   "cell_type": "code",
   "execution_count": 2,
   "id": "196b0475",
   "metadata": {
    "execution": {
     "iopub.execute_input": "2023-02-04T00:05:38.943649Z",
     "iopub.status.busy": "2023-02-04T00:05:38.943360Z",
     "iopub.status.idle": "2023-02-04T00:05:46.078681Z",
     "shell.execute_reply": "2023-02-04T00:05:46.077721Z"
    },
    "id": "02acc86d",
    "papermill": {
     "duration": 7.144303,
     "end_time": "2023-02-04T00:05:46.081078",
     "exception": false,
     "start_time": "2023-02-04T00:05:38.936775",
     "status": "completed"
    },
    "tags": []
   },
   "outputs": [],
   "source": [
    "# -*- coding: utf-8 -*-\n",
    "import tensorflow as tf\n",
    "import matplotlib.pyplot as plt\n",
    "#from tensorflow.keras.wrappers.scikit_learn import KerasClassifier\n",
    "import tensorflow_probability as tfp\n",
    "from tensorflow.keras import regularizers\n",
    "from sklearn.base import  BaseEstimator, TransformerMixin, ClassifierMixin\n",
    "from sklearn.model_selection import train_test_split\n",
    "from keras.models import Sequential\n",
    "\n",
    "from keras.layers import Conv2D, MaxPooling2D, GlobalAveragePooling2D\n",
    "from keras.layers import Activation, Dropout, Flatten, Dense, Input\n",
    "from keras.layers import BatchNormalization\n",
    "from tensorflow.keras import regularizers\n",
    "\n",
    "tf.keras.backend.clear_session()\n",
    "#tf.random.set_seed(42)\n",
    "import types\n",
    "import tempfile\n",
    "class Keras_MA_CNN(): #transformer no va\n",
    " #Constructor __init__. Special method: identified by a double underscore at either side of their name\n",
    " #work in the background\n",
    " # initialize data members to the object. lets the class initialize the object’s attributes and serves no other purpose.\n",
    "    def __init__(self,epochs=70,batch_size=30,R=5, K=2, dropout=0.5, learning_rate=1e-3,optimizer='Adam', \n",
    "                  l1_param=0, validation_split=0.3, verbose=1, q = 0.1):\n",
    "        self.epochs=epochs\n",
    "        self.dropout=dropout\n",
    "        self.batch_size = batch_size\n",
    "        self.learning_rate=learning_rate \n",
    "        self.l1_param=l1_param \n",
    "        self.l2_param=l1_param\n",
    "        self.validation_split = validation_split\n",
    "        self.verbose = verbose\n",
    "        self.optimizer = optimizer\n",
    "        self.R=R\n",
    "        self.K=K\n",
    "        self.q = q\n",
    "\n",
    "    \n",
    " \n",
    "    def GCCE_MA_loss(self, y_true, y_pred):\n",
    "        # print(y_true,y_pred)\n",
    "       # q = 0.1\n",
    "        pred = y_pred[:, self.R:]\n",
    "        pred = tf.clip_by_value(pred, clip_value_min=1e-9, clip_value_max=1)\n",
    "        ann_ = y_pred[:, :self.R]\n",
    "        # ann_ = tf.clip_by_value(ann_, clip_value_min=1e-9, clip_value_max=1-1e-9)\n",
    "        Y_true = tf.one_hot(tf.cast(y_true, dtype=tf.int32), depth=self.K, axis=1)\n",
    "        Y_hat = tf.repeat(tf.expand_dims(pred,-1), self.R, axis = -1)\n",
    "\n",
    "        p_gcce = Y_true*(1 - Y_hat**self.q)/self.q\n",
    "        temp1 = ann_*tf.math.reduce_sum(p_gcce, axis=1)\n",
    "\n",
    "        # p_logreg = tf.math.reduce_prod(tf.math.pow(Y_hat, Y_true), axis=1)\n",
    "        # temp1 = ann_*tf.math.log(p_logreg)  \n",
    "        # temp2 = (1 - ann_)*tf.math.log(1/K)*tf.reduce_sum(Y_true,axis=1)\n",
    "        # aux = tf.repeat(tf.reduce_sum(pred*tf.math.log(pred),axis=1,keepdims=True), R, axis = 1)\n",
    "        # tf.print(tf.shape(aux))\n",
    "        # print(tf.shape(aux))\n",
    "        # temp2 = (1 - ann_)*aux*tf.reduce_sum(Y_true,axis=1)\n",
    "        # temp2 = (tf.ones(tf.shape(ann_)) - ann_)*tf.math.log(1/K)\n",
    "        # print(tf.reduce_mean(Y_true,axis=1).numpy())\n",
    "        # Y_true_1 = tf.clip_by_value(Y_true, clip_value_min=1e-9, clip_value_max=1)\n",
    "        # p_logreg_inv = tf.math.reduce_prod(tf.math.pow(Y_true_1, Y_hat), axis=1)\n",
    "        # temp2 = (1 - ann_)*tf.math.log(p_logreg_inv) \n",
    "        temp2 = (1 - ann_)*(1-(1/self.K)**self.q)/self.q*tf.reduce_sum(Y_true,axis=1)\n",
    "        return tf.math.reduce_sum((temp1 + temp2))\n",
    "\n",
    " \n",
    "    def PRI_MA_loss(self, y_true, y_pred): #,  -> PRI\n",
    "        #Input ytrue: samples (N) x  annotators (R) \n",
    "        #Input ypred: samples (N) x  annotators+classes (R+K) \n",
    "        #PRI MA\n",
    "        cce_M = tf.keras.losses.CategoricalCrossentropy(reduction='none',axis=-1)\n",
    "        cce_C = tf.keras.losses.CategoricalCrossentropy(reduction='none',axis=1)\n",
    "\n",
    "      \n",
    "\n",
    "        #N = tf.cast(y_true.shape[0],dtype=tf.int32)\n",
    "        N = tf.shape(y_true)[0]\n",
    "        #Ground truth estimation samples (N) x  Classes(K)\n",
    "        y_pred_tf = y_pred[:,self.R:] \n",
    "        # Annotators reliability prediction: samples (N) x  annotators (R)\n",
    "        lambda_R_tf = y_pred[:,:self.R] #tf.ones(shape=(N,R)) \n",
    "        #Y_true 1 K: samples (N) x  Classes(1-K), annotators (R)\n",
    "        Y_true_1K = tf.one_hot(tf.cast(y_true,dtype=tf.int32),depth=self.K,axis=1)  \n",
    "        #Y_pred 1 - K: samples (N) x  Classes(1-K), annotators (R)\n",
    "        Y_hat = tf.repeat(tf.expand_dims(y_pred_tf,-1), self.R, axis = -1) \n",
    "        #marginal entropy\n",
    "        #cce along the K classes -> ypred_tf\n",
    "        Hm_ = cce_M(y_pred_tf,y_pred_tf)\n",
    "        #cross entropy\n",
    "        #cce along the K classes -> Y_hat\n",
    "        Hc_ = cce_C(Y_true_1K,Y_hat)\n",
    "        #PRI MA computation\n",
    "        LH = tf.linalg.matmul(lambda_R_tf,Hc_,transpose_a=True) # \\Lambda^\\top H_c\n",
    "        temp1 = tf.linalg.trace(LH) #trace(LH)\n",
    "        Hm1L = tf.linalg.matmul(tf.ones(shape=(N,self.R))-lambda_R_tf,tf.ones(shape=(self.R,1)))# 1_N 1_R^\\top - Lambda\n",
    "        Hm_t = tf.reshape(Hm_,shape=(N,1))\n",
    "        temp2 = tf.squeeze(tf.linalg.matmul(Hm_t,Hm1L,transpose_a=True)) # Hm^\\top Hm1L\n",
    "        loss_c = temp1+ temp2 #return loss\n",
    "\n",
    "        return loss_c\n",
    "\n",
    " \n",
    "    def fit(self, X, Y):\n",
    "        #input X numpy array first dimension samples (N)x features (P)\n",
    "        #input Y numpy array vector len = samples (N) x  annotators (R)\n",
    "        P = X.shape[1]\n",
    "        if self.optimizer == \"Adam\":\n",
    "            opt = tf.keras.optimizers.Adam(learning_rate=self.learning_rate, clipnorm=1.0)\n",
    "        elif self.optimizer == \"SGD\":\n",
    "            opt = tf.keras.optimizers.SGD(learning_rate=self.learning_rate, clipnorm=1.0)\n",
    "        else:\n",
    "            opt=self.optimizer\n",
    "\n",
    "            \n",
    "\n",
    "        self.model = Sequential()\n",
    "\n",
    "        self.model.add(Conv2D(32, (3, 3), input_shape=(28,28,1)))\n",
    "        self.model.add(BatchNormalization(axis=-1))\n",
    "        self.model.add(Activation('relu'))\n",
    "        self.model.add(Conv2D(32, (3, 3)))\n",
    "        self.model.add(BatchNormalization(axis=-1))\n",
    "        self.model.add(Activation('relu'))\n",
    "        self.model.add(MaxPooling2D(pool_size=(2,2)))\n",
    "\n",
    "        self.model.add(Conv2D(64,(3, 3)))\n",
    "        self.model.add(BatchNormalization(axis=-1))\n",
    "        self.model.add(Activation('relu'))\n",
    "        self.model.add(Conv2D(64, (3, 3)))\n",
    "        self.model.add(BatchNormalization(axis=-1))\n",
    "        self.model.add(Activation('relu'))\n",
    "        self.model.add(MaxPooling2D(pool_size=(2,2)))\n",
    "\n",
    "        self.model.add(Flatten())\n",
    "\n",
    "        # Fully connected layer\n",
    "        self.model.add(Dense(512))\n",
    "        self.model.add(BatchNormalization())\n",
    "        self.model.add(Activation('relu'))\n",
    "        self.model.add(Dropout(0.2))\n",
    "        self.model.add(Dense(10))\n",
    "\n",
    "        self.model.add(Activation('softmax'))\n",
    "\n",
    "\n",
    "\n",
    "        self.model.compile(optimizer=tf.keras.optimizers.Adam(learning_rate=1e-3, clipnorm = 1.0), loss='sparse_categorical_crossentropy', metrics=['accuracy'])\n",
    "    \n",
    "     \n",
    "#         #capa de entrada\n",
    "#         input_l = tf.keras.layers.Input(shape=(X_train.shape[1]), name='entrada')\n",
    "#         #capas densas\n",
    "#         h1 = tf.keras.layers.Dense(200,activation='selu',name='h1',\n",
    "#                               kernel_regularizer=tf.keras.regularizers.l1_l2(l1=self.l1_param,l2=self.l2_param))(input_l)#argumento de entrada\n",
    "#         h2 = tf.keras.layers.Dense(50,activation='selu',name='h2',\n",
    "#                               kernel_regularizer=tf.keras.regularizers.l1_l2(l1=self.l1_param,l2=self.l2_param))(h1)\n",
    "#         dout = tf.keras.layers.Dropout(rate=self.dropout)(h2)\n",
    "#        #capa de salida\n",
    "#         output = tf.keras.layers.Dense(self.K,activation=\"softmax\",name='output',\n",
    "#                                    kernel_regularizer=tf.keras.regularizers.l1_l2(l1=self.l1_param,l2=self.l2_param))(dout)\n",
    "#         self.model = tf.keras.Model(inputs= input_l,outputs=output)\n",
    "#         self.model.compile(loss=tf.keras.losses.SparseCategoricalCrossentropy(), optimizer=opt,metrics=[\"accuracy\"])\n",
    "         \n",
    "            \n",
    " \n",
    "        self.history = self.model.fit(X, Y, epochs=self.epochs, validation_split=self.validation_split,   #\n",
    "                                      batch_size=self.batch_size,verbose=self.verbose)\n",
    " \n",
    "        return self\n",
    " \n",
    "  \n",
    "    \n",
    "    def predict(self, X, *_):\n",
    "       #input X numpy array first dimension samples (N)x features (P)\n",
    "      return  self.model.predict(X) \n",
    " \n",
    " \n",
    "\n",
    "    def fit_predict(self,X,y):\n",
    "        #input X numpy array first dimension samples (N)x features (P)\n",
    "        #input Y numpy array vector len = samples (N) x  annotators (R)\n",
    "        self.fit(X,y)\n",
    "        return self.predict(X)\n",
    "  \n",
    "     #graphics\n",
    "    def plot_history(self):\n",
    "        pd.DataFrame(self.history.history).plot(figsize=(8, 5))\n",
    "        plt.grid(True)\n",
    "        #plt.gca().set_ylim(0, 1)\n",
    "        #save_fig(\"keras_learning_curves_plot\")\n",
    "        plt.show()\n",
    "        return\n",
    "    \n",
    "    def set_params(self, **parameters):\n",
    "        for parameter, value in parameters.items():\n",
    "            setattr(self, parameter, value)\n",
    "\n",
    "        return self\n",
    "    \n",
    "    \n",
    "    \n",
    "    def get_params(self, deep=True):\n",
    "        return { 'l1_param':self.l1_param, 'dropout':self.dropout, 'optimizer':self.optimizer,\n",
    "                'learning_rate':self.learning_rate, 'batch_size':self.batch_size,\n",
    "                'epochs':self.epochs, 'verbose':self.verbose, 'validation_split':self.validation_split,\n",
    "                'R':self.R, 'K':self.K, 'q':self.q\n",
    "                }\n",
    "\n",
    "  \n",
    "        return self\n"
   ]
  },
  {
   "cell_type": "markdown",
   "id": "1e67f2d9",
   "metadata": {
    "id": "H9AUwX45JeIz",
    "papermill": {
     "duration": 0.005087,
     "end_time": "2023-02-04T00:05:46.091793",
     "exception": false,
     "start_time": "2023-02-04T00:05:46.086706",
     "status": "completed"
    },
    "tags": []
   },
   "source": [
    "# Load Data"
   ]
  },
  {
   "cell_type": "code",
   "execution_count": 3,
   "id": "e091ba53",
   "metadata": {
    "execution": {
     "iopub.execute_input": "2023-02-04T00:05:46.104095Z",
     "iopub.status.busy": "2023-02-04T00:05:46.103608Z",
     "iopub.status.idle": "2023-02-04T00:05:46.128609Z",
     "shell.execute_reply": "2023-02-04T00:05:46.127775Z"
    },
    "id": "1fab8832",
    "outputId": "fbece975-c047-42f4-cabd-125968c742be",
    "papermill": {
     "duration": 0.033385,
     "end_time": "2023-02-04T00:05:46.130647",
     "exception": false,
     "start_time": "2023-02-04T00:05:46.097262",
     "status": "completed"
    },
    "tags": []
   },
   "outputs": [],
   "source": [
    "#load data\n",
    "import scipy.io as sio\n",
    "import matplotlib.pyplot as plt\n",
    "import pandas as pd\n",
    "import tensorflow as tf #importar tensorflow\n",
    "from sklearn.model_selection import GridSearchCV, RandomizedSearchCV\n",
    "from sklearn.preprocessing import StandardScaler,MinMaxScaler\n",
    "import numpy as np\n",
    "\n",
    "database = 'Fashion_Mnist'\n",
    " "
   ]
  },
  {
   "cell_type": "code",
   "execution_count": 4,
   "id": "12dfa8ca",
   "metadata": {
    "execution": {
     "iopub.execute_input": "2023-02-04T00:05:46.142698Z",
     "iopub.status.busy": "2023-02-04T00:05:46.142402Z",
     "iopub.status.idle": "2023-02-04T00:05:47.494173Z",
     "shell.execute_reply": "2023-02-04T00:05:47.493218Z"
    },
    "papermill": {
     "duration": 1.36071,
     "end_time": "2023-02-04T00:05:47.497001",
     "exception": false,
     "start_time": "2023-02-04T00:05:46.136291",
     "status": "completed"
    },
    "tags": []
   },
   "outputs": [
    {
     "name": "stdout",
     "output_type": "stream",
     "text": [
      "Downloading data from https://storage.googleapis.com/tensorflow/tf-keras-datasets/mnist.npz\n",
      "11493376/11490434 [==============================] - 1s 0us/step\n",
      "11501568/11490434 [==============================] - 1s 0us/step\n"
     ]
    }
   ],
   "source": [
    "mnist = tf.keras.datasets.mnist\n",
    "(x_train, Y_true_train), (x_test, Y_true_test) = mnist.load_data()"
   ]
  },
  {
   "cell_type": "code",
   "execution_count": 5,
   "id": "fba1b1b3",
   "metadata": {
    "execution": {
     "iopub.execute_input": "2023-02-04T00:05:47.511063Z",
     "iopub.status.busy": "2023-02-04T00:05:47.510764Z",
     "iopub.status.idle": "2023-02-04T00:05:47.658243Z",
     "shell.execute_reply": "2023-02-04T00:05:47.657325Z"
    },
    "papermill": {
     "duration": 0.15723,
     "end_time": "2023-02-04T00:05:47.660745",
     "exception": false,
     "start_time": "2023-02-04T00:05:47.503515",
     "status": "completed"
    },
    "tags": []
   },
   "outputs": [],
   "source": [
    "input_shape = (28, 28, 1)\n",
    "\n",
    "X_train=x_train.reshape(x_train.shape[0], x_train.shape[1], x_train.shape[2], 1)\n",
    "X_train=X_train / 255.0\n",
    "X_test = x_test.reshape(x_test.shape[0], x_test.shape[1], x_test.shape[2], 1)\n",
    "X_test=X_test/255.0"
   ]
  },
  {
   "cell_type": "code",
   "execution_count": 6,
   "id": "29a934e5",
   "metadata": {
    "execution": {
     "iopub.execute_input": "2023-02-04T00:05:47.674916Z",
     "iopub.status.busy": "2023-02-04T00:05:47.674582Z",
     "iopub.status.idle": "2023-02-04T00:05:47.892820Z",
     "shell.execute_reply": "2023-02-04T00:05:47.891959Z"
    },
    "papermill": {
     "duration": 0.22773,
     "end_time": "2023-02-04T00:05:47.895052",
     "exception": false,
     "start_time": "2023-02-04T00:05:47.667322",
     "status": "completed"
    },
    "tags": []
   },
   "outputs": [
    {
     "name": "stdout",
     "output_type": "stream",
     "text": [
      "5\n"
     ]
    },
    {
     "data": {
      "image/png": "[encoded data removed]",
      "text/plain": [
       "<Figure size 432x288 with 1 Axes>"
      ]
     },
     "metadata": {
      "needs_background": "light"
     },
     "output_type": "display_data"
    }
   ],
   "source": [
    "plt.imshow(X_train[0])\n",
    "print(Y_true_train[100])"
   ]
  },
  {
   "cell_type": "markdown",
   "id": "7713b653",
   "metadata": {
    "id": "ZoZrCmL-Jo2P",
    "papermill": {
     "duration": 0.006253,
     "end_time": "2023-02-04T00:05:47.908025",
     "exception": false,
     "start_time": "2023-02-04T00:05:47.901772",
     "status": "completed"
    },
    "tags": []
   },
   "source": [
    "# Labels Generation \n"
   ]
  },
  {
   "cell_type": "code",
   "execution_count": 7,
   "id": "434af44c",
   "metadata": {
    "execution": {
     "iopub.execute_input": "2023-02-04T00:05:47.922246Z",
     "iopub.status.busy": "2023-02-04T00:05:47.921952Z",
     "iopub.status.idle": "2023-02-04T00:05:48.114383Z",
     "shell.execute_reply": "2023-02-04T00:05:48.113483Z"
    },
    "id": "63d32a8f",
    "papermill": {
     "duration": 0.202757,
     "end_time": "2023-02-04T00:05:48.117005",
     "exception": false,
     "start_time": "2023-02-04T00:05:47.914248",
     "status": "completed"
    },
    "tags": []
   },
   "outputs": [],
   "source": [
    "import random\n",
    "import warnings\n",
    "import numpy as np\n",
    "#import climin\n",
    "from functools import partial\n",
    "import matplotlib.pyplot as plt\n",
    "from sklearn.preprocessing import StandardScaler\n",
    "from sklearn.cluster import KMeans\n",
    "import matplotlib.pyplot as plt\n",
    "from sklearn.manifold import TSNE\n",
    "\n",
    "#Defining the Sigmoid function and Softmax function\n",
    "def Sigmoid(f_r):\n",
    "    lam_r = 1/(1 + np.exp(-f_r))\n",
    "    return lam_r\n",
    "\n",
    "def MAjVot(Y, K):\n",
    "    N,R = Y.shape\n",
    "    Yhat = np.zeros((N,1))\n",
    "    for n in range(N):\n",
    "        votes = np.zeros((K,1))\n",
    "        for r in range(R):\n",
    "            for k in range(K):\n",
    "                if Y[n,r] == k+1:\n",
    "                    votes[k] = votes[k]+1\n",
    "        Yhat[n] = np.argmax(votes) + 1\n",
    "    return Yhat\n",
    "\n",
    "\n",
    "def  MA_Clas_Gen(Xtrain,ytrain,R,NrP):\n",
    "\n",
    "    N = len(ytrain)\n",
    "    K = len(np.unique(ytrain))\n",
    "    Kn = np.unique(ytrain)\n",
    "    aux = 0\n",
    "    A = np.zeros((K,1))\n",
    "    for k in Kn:\n",
    "        A[aux] = (ytrain == k).sum()\n",
    "        aux = aux + 1\n",
    "    per = np.min(A)\n",
    "    if N < 25000:\n",
    "        Xtrain = TSNE(n_components=1,perplexity=per/2).fit_transform(Xtrain)\n",
    "    else:\n",
    "        Xtrain = np.sum(Xtrain,1)\n",
    "    # Xtrain = Xtrain-Xtrain.min()\n",
    "    # Xtrain = Xtrain/Xtrain.max()\n",
    "    #ytrain = y\n",
    "    # scaler = StandardScaler()\n",
    "    # scalerY = scaler.fit(y)\n",
    "    # ytrain = scaler.fit_transform(y)\n",
    "\n",
    "    \n",
    "    #miny = y.min()\n",
    "    #ytrain = y-miny\n",
    "    #maxy = ytrain.max()\n",
    "    #ytrain = ytrain/maxy\n",
    "  \n",
    "    # Xtrain = np.sum(Xtrain, axis=1)\n",
    "    Xtrain = Xtrain - Xtrain.min()\n",
    "    #print(Xtrain.min(), Xtrain.max())\n",
    "    Xtrain = Xtrain/Xtrain.max()\n",
    "    Xtrain = Xtrain.reshape((N,1))\n",
    "    yprueba = np.ones((N,1))\n",
    "    \n",
    "    \n",
    "    u_q = np.empty((Xtrain.shape[0],3))\n",
    "    u_q[:,0,None] = 4.5*np.cos(2*np.pi*Xtrain + 1.5*np.pi) - \\\n",
    "                               3*np.sin(4.3*np.pi*Xtrain + 0.3*np.pi)\n",
    "                    \n",
    "    u_q[:,1,None] = 4.5*np.cos(1.5*np.pi*Xtrain + 0.5*np.pi) + \\\n",
    "                       5*np.sin(3*np.pi*Xtrain + 1.5*np.pi)\n",
    "    \n",
    "    u_q[:,2,None] = 1\n",
    "    \n",
    "    W = []\n",
    "    # q=1\n",
    "    Wq1 = np.array(([[0.4],[0.7],[-0.5],[0],[-0.7]]))\n",
    "    W.append(Wq1)\n",
    "    # q=2\n",
    "    Wq2 = np.array(([[0.4],[-1.0],[-0.1],[-0.8],[1.0]]))\n",
    "    W.append(Wq2)\n",
    "    Wq3 = np.array(([[3.1],[-1.8],[-0.6],[-1.2],[1.0]]))\n",
    "    W.append(Wq3)\n",
    "\n",
    "    \n",
    "    F_r = []\n",
    "    Lam_r = []\n",
    "    for r in range(R):\n",
    "        f_r = np.zeros((Xtrain.shape[0], 1))\n",
    "        # rho_r = np.zeros((Xtrain.shape[0], 1))\n",
    "        for q in range(3):\n",
    "            f_r += W[q][r].T*u_q[:,q,None]\n",
    "        F_r.append(f_r)\n",
    "        lam_r = Sigmoid(f_r)\n",
    "        lam_r[lam_r>0.5] = 1\n",
    "        lam_r[lam_r<=0.5] = 0\n",
    "        Lam_r.append(lam_r)\n",
    "    plt.plot(Xtrain,Lam_r[2],'rx')\n",
    "    plt.show()\n",
    "    seed = 0\n",
    "    np.random.seed(seed)\n",
    "    Ytrain = np.ones((N, R))\n",
    "    for r in range(R):\n",
    "        aux = ytrain.copy()\n",
    "        for n in range(N):\n",
    "            if Lam_r[r][n] == 0:\n",
    "                labels = np.arange(1, K+1)\n",
    "                a = np.where(labels==ytrain[n])\n",
    "                labels = np.delete(labels, a)\n",
    "                idxlabels = np.random.permutation(K-1)\n",
    "                aux[n] = labels[idxlabels[0]]         \n",
    "        Ytrain[:,r] = aux.flatten()\n",
    "        \n",
    "   # Ytrain = (Ytrain*maxy) + miny\n",
    "        \n",
    "    iAnn = np.zeros((N, R), dtype=int) # this indicates if the annotator r labels the nth sample.\n",
    "    Nr = np.ones((R), dtype=int)*int(np.floor(N*NrP))  \n",
    "    for r in range(R):\n",
    "        if r < R-1:\n",
    "            indexR = np.random.permutation(range(N))[:Nr[r]]\n",
    "            iAnn[indexR,r] = 1\n",
    "        else:\n",
    "            iSimm = np.sum(iAnn, axis=1)\n",
    "            idxZero = np.asarray([i for (i, val) in enumerate(iSimm) if val == 0])\n",
    "            Nzeros = idxZero.shape[0]\n",
    "            idx2Choose = np.arange(N)\n",
    "            if Nzeros == 0:\n",
    "                indexR = np.random.permutation(range(N))[:Nr[r]]\n",
    "                iAnn[indexR,r] = 1\n",
    "            else:\n",
    "                idx2Choose = np.delete(idx2Choose, idxZero)\n",
    "                N2chose = idx2Choose.shape[0]\n",
    "                idxNoZero = np.random.permutation(N2chose)[:(Nr[r] - Nzeros)]\n",
    "                idxTot = np.concatenate((idxZero, idx2Choose[idxNoZero]))\n",
    "                iAnn[idxTot,r] = 1\n",
    "    \n",
    "    # Now, we verify that all the samples were labeled at least once\n",
    "    Nr = (np.sum(iAnn,0))\n",
    "    iSimm = np.sum(iAnn, axis=1)\n",
    "    if np.asarray([i for (i, val) in enumerate(iSimm) if val == 0]).sum() == 0:\n",
    "        ValueError(\"all the samples must be labeled at least once\")\n",
    "\n",
    "    # Finally, if iAnn=0 we assign a reference value to indicate a missing value\n",
    "    Vref = -1e-20\n",
    "    for r in range(R):\n",
    "        Ytrain[iAnn[:,r] == 0, r] = Vref \n",
    "\n",
    "    return Ytrain, iAnn, Lam_r\n",
    "\n",
    "\n",
    "def CrossVal(X, pp, Nk):\n",
    "    N = X.shape[0]\n",
    "    Ntr = int(N*pp)\n",
    "    Nte = N - Ntr\n",
    "    idxtr = np.zeros((Ntr,Nk))\n",
    "    idxte = np.zeros((Nte,Nk))\n",
    "    \n",
    "    for i in range(Nk):\n",
    "        index = np.random.permutation(range(N))\n",
    "        idxtr[:,i] = index[:Ntr]\n",
    "        idxte[:,i] = index[Ntr:]\n",
    "        \n",
    "    return idxtr, idxte\n",
    "    \n",
    "    \n",
    "        \n"
   ]
  },
  {
   "cell_type": "markdown",
   "id": "9276ea1a",
   "metadata": {
    "id": "dTQ-zl_OJ9pM",
    "papermill": {
     "duration": 0.006125,
     "end_time": "2023-02-04T00:05:48.130501",
     "exception": false,
     "start_time": "2023-02-04T00:05:48.124376",
     "status": "completed"
    },
    "tags": []
   },
   "source": [
    "# Testing the Class \n"
   ]
  },
  {
   "cell_type": "code",
   "execution_count": 8,
   "id": "a260e15e",
   "metadata": {
    "execution": {
     "iopub.execute_input": "2023-02-04T00:05:48.144717Z",
     "iopub.status.busy": "2023-02-04T00:05:48.144420Z",
     "iopub.status.idle": "2023-02-04T00:27:28.481885Z",
     "shell.execute_reply": "2023-02-04T00:27:28.480007Z"
    },
    "papermill": {
     "duration": 1300.347126,
     "end_time": "2023-02-04T00:27:28.484093",
     "exception": false,
     "start_time": "2023-02-04T00:05:48.136967",
     "status": "completed"
    },
    "tags": []
   },
   "outputs": [
    {
     "name": "stdout",
     "output_type": "stream",
     "text": [
      "iteration: 0\n"
     ]
    },
    {
     "name": "stderr",
     "output_type": "stream",
     "text": [
      "2023-02-04 00:05:48.232790: I tensorflow/stream_executor/cuda/cuda_gpu_executor.cc:937] successful NUMA node read from SysFS had negative value (-1), but there must be at least one NUMA node, so returning NUMA node zero\n",
      "2023-02-04 00:05:48.476907: I tensorflow/stream_executor/cuda/cuda_gpu_executor.cc:937] successful NUMA node read from SysFS had negative value (-1), but there must be at least one NUMA node, so returning NUMA node zero\n",
      "2023-02-04 00:05:48.477760: I tensorflow/stream_executor/cuda/cuda_gpu_executor.cc:937] successful NUMA node read from SysFS had negative value (-1), but there must be at least one NUMA node, so returning NUMA node zero\n",
      "2023-02-04 00:05:48.480198: I tensorflow/core/platform/cpu_feature_guard.cc:142] This TensorFlow binary is optimized with oneAPI Deep Neural Network Library (oneDNN) to use the following CPU instructions in performance-critical operations:  AVX2 AVX512F FMA\n",
      "To enable them in other operations, rebuild TensorFlow with the appropriate compiler flags.\n",
      "2023-02-04 00:05:48.480597: I tensorflow/stream_executor/cuda/cuda_gpu_executor.cc:937] successful NUMA node read from SysFS had negative value (-1), but there must be at least one NUMA node, so returning NUMA node zero\n",
      "2023-02-04 00:05:48.481603: I tensorflow/stream_executor/cuda/cuda_gpu_executor.cc:937] successful NUMA node read from SysFS had negative value (-1), but there must be at least one NUMA node, so returning NUMA node zero\n",
      "2023-02-04 00:05:48.482552: I tensorflow/stream_executor/cuda/cuda_gpu_executor.cc:937] successful NUMA node read from SysFS had negative value (-1), but there must be at least one NUMA node, so returning NUMA node zero\n",
      "2023-02-04 00:05:50.672579: I tensorflow/stream_executor/cuda/cuda_gpu_executor.cc:937] successful NUMA node read from SysFS had negative value (-1), but there must be at least one NUMA node, so returning NUMA node zero\n",
      "2023-02-04 00:05:50.673411: I tensorflow/stream_executor/cuda/cuda_gpu_executor.cc:937] successful NUMA node read from SysFS had negative value (-1), but there must be at least one NUMA node, so returning NUMA node zero\n",
      "2023-02-04 00:05:50.674117: I tensorflow/stream_executor/cuda/cuda_gpu_executor.cc:937] successful NUMA node read from SysFS had negative value (-1), but there must be at least one NUMA node, so returning NUMA node zero\n",
      "2023-02-04 00:05:50.674749: I tensorflow/core/common_runtime/gpu/gpu_device.cc:1510] Created device /job:localhost/replica:0/task:0/device:GPU:0 with 15401 MB memory:  -> device: 0, name: Tesla P100-PCIE-16GB, pci bus id: 0000:00:04.0, compute capability: 6.0\n",
      "2023-02-04 00:05:51.759418: I tensorflow/compiler/mlir/mlir_graph_optimization_pass.cc:185] None of the MLIR Optimization Passes are enabled (registered 2)\n",
      "2023-02-04 00:05:54.242297: I tensorflow/stream_executor/cuda/cuda_dnn.cc:369] Loaded cuDNN version 8005\n"
     ]
    },
    {
     "data": {
      "image/png": "[encoded data removed]",
      "text/plain": [
       "<Figure size 576x360 with 1 Axes>"
      ]
     },
     "metadata": {
      "needs_background": "light"
     },
     "output_type": "display_data"
    },
    {
     "name": "stdout",
     "output_type": "stream",
     "text": [
      "Validation ACC: 0.9936\n",
      "Validation Balanced_ACC: 0.9928\n",
      "Validation MI: 2.2562\n",
      "Validation Normalized MI: 0.9806\n",
      "Validation Adjusted MI: 0.9805\n",
      "Validation aUc: 0.9993\n",
      "iteration: 1\n"
     ]
    },
    {
     "data": {
      "image/png": "[encoded data removed]",
      "text/plain": [
       "<Figure size 576x360 with 1 Axes>"
      ]
     },
     "metadata": {
      "needs_background": "light"
     },
     "output_type": "display_data"
    },
    {
     "name": "stdout",
     "output_type": "stream",
     "text": [
      "Validation ACC: 0.9928\n",
      "Validation Balanced_ACC: 0.9920\n",
      "Validation MI: 2.2503\n",
      "Validation Normalized MI: 0.9780\n",
      "Validation Adjusted MI: 0.9780\n",
      "Validation aUc: 0.9980\n",
      "iteration: 2\n"
     ]
    },
    {
     "data": {
      "image/png": "[encoded data removed]",
      "text/plain": [
       "<Figure size 576x360 with 1 Axes>"
      ]
     },
     "metadata": {
      "needs_background": "light"
     },
     "output_type": "display_data"
    },
    {
     "name": "stdout",
     "output_type": "stream",
     "text": [
      "Validation ACC: 0.9936\n",
      "Validation Balanced_ACC: 0.9928\n",
      "Validation MI: 2.2557\n",
      "Validation Normalized MI: 0.9804\n",
      "Validation Adjusted MI: 0.9804\n",
      "Validation aUc: 0.9972\n",
      "iteration: 3\n"
     ]
    },
    {
     "data": {
      "image/png": "[encoded data removed]",
      "text/plain": [
       "<Figure size 576x360 with 1 Axes>"
      ]
     },
     "metadata": {
      "needs_background": "light"
     },
     "output_type": "display_data"
    },
    {
     "name": "stdout",
     "output_type": "stream",
     "text": [
      "Validation ACC: 0.9932\n",
      "Validation Balanced_ACC: 0.9923\n",
      "Validation MI: 2.2535\n",
      "Validation Normalized MI: 0.9794\n",
      "Validation Adjusted MI: 0.9794\n",
      "Validation aUc: 0.9979\n",
      "iteration: 4\n"
     ]
    },
    {
     "data": {
      "image/png": "[encoded data removed]",
      "text/plain": [
       "<Figure size 576x360 with 1 Axes>"
      ]
     },
     "metadata": {
      "needs_background": "light"
     },
     "output_type": "display_data"
    },
    {
     "name": "stdout",
     "output_type": "stream",
     "text": [
      "Validation ACC: 0.9933\n",
      "Validation Balanced_ACC: 0.9924\n",
      "Validation MI: 2.2539\n",
      "Validation Normalized MI: 0.9796\n",
      "Validation Adjusted MI: 0.9796\n",
      "Validation aUc: 0.9980\n",
      "iteration: 5\n"
     ]
    },
    {
     "data": {
      "image/png": "[encoded data removed]",
      "text/plain": [
       "<Figure size 576x360 with 1 Axes>"
      ]
     },
     "metadata": {
      "needs_background": "light"
     },
     "output_type": "display_data"
    },
    {
     "name": "stdout",
     "output_type": "stream",
     "text": [
      "Validation ACC: 0.9944\n",
      "Validation Balanced_ACC: 0.9937\n",
      "Validation MI: 2.2609\n",
      "Validation Normalized MI: 0.9826\n",
      "Validation Adjusted MI: 0.9826\n",
      "Validation aUc: 0.9980\n",
      "iteration: 6\n"
     ]
    },
    {
     "data": {
      "image/png": "[encoded data removed]",
      "text/plain": [
       "<Figure size 576x360 with 1 Axes>"
      ]
     },
     "metadata": {
      "needs_background": "light"
     },
     "output_type": "display_data"
    },
    {
     "name": "stdout",
     "output_type": "stream",
     "text": [
      "Validation ACC: 0.9921\n",
      "Validation Balanced_ACC: 0.9911\n",
      "Validation MI: 2.2476\n",
      "Validation Normalized MI: 0.9769\n",
      "Validation Adjusted MI: 0.9769\n",
      "Validation aUc: 0.9972\n",
      "iteration: 7\n"
     ]
    },
    {
     "data": {
      "image/png": "[encoded data removed]",
      "text/plain": [
       "<Figure size 576x360 with 1 Axes>"
      ]
     },
     "metadata": {
      "needs_background": "light"
     },
     "output_type": "display_data"
    },
    {
     "name": "stdout",
     "output_type": "stream",
     "text": [
      "Validation ACC: 0.9931\n",
      "Validation Balanced_ACC: 0.9923\n",
      "Validation MI: 2.2528\n",
      "Validation Normalized MI: 0.9791\n",
      "Validation Adjusted MI: 0.9791\n",
      "Validation aUc: 0.9973\n",
      "iteration: 8\n"
     ]
    },
    {
     "data": {
      "image/png": "[encoded data removed]",
      "text/plain": [
       "<Figure size 576x360 with 1 Axes>"
      ]
     },
     "metadata": {
      "needs_background": "light"
     },
     "output_type": "display_data"
    },
    {
     "name": "stdout",
     "output_type": "stream",
     "text": [
      "Validation ACC: 0.9928\n",
      "Validation Balanced_ACC: 0.9919\n",
      "Validation MI: 2.2534\n",
      "Validation Normalized MI: 0.9794\n",
      "Validation Adjusted MI: 0.9793\n",
      "Validation aUc: 0.9986\n",
      "iteration: 9\n"
     ]
    },
    {
     "data": {
      "image/png": "[encoded data removed]",
      "text/plain": [
       "<Figure size 576x360 with 1 Axes>"
      ]
     },
     "metadata": {
      "needs_background": "light"
     },
     "output_type": "display_data"
    },
    {
     "name": "stdout",
     "output_type": "stream",
     "text": [
      "Validation ACC: 0.9927\n",
      "Validation Balanced_ACC: 0.9918\n",
      "Validation MI: 2.2514\n",
      "Validation Normalized MI: 0.9785\n",
      "Validation Adjusted MI: 0.9785\n",
      "Validation aUc: 0.9996\n"
     ]
    }
   ],
   "source": [
    "from sklearn.metrics import classification_report, balanced_accuracy_score\n",
    "from sklearn.metrics import normalized_mutual_info_score, mutual_info_score, adjusted_mutual_info_score\n",
    "l1 =  0.0001\n",
    "NUM_RUNS =10\n",
    "ACC = np.zeros(NUM_RUNS)\n",
    "AUC = np.zeros(NUM_RUNS)\n",
    "MI = np.zeros(NUM_RUNS)\n",
    "NMI = np.zeros(NUM_RUNS)\n",
    "AMI = np.zeros(NUM_RUNS)\n",
    "BACC = np.zeros(NUM_RUNS)\n",
    "for i in range(NUM_RUNS): #10\n",
    "    print(\"iteration: \" + str(i))\n",
    "   \n",
    "    MA = Keras_MA_CNN(epochs=30,batch_size=64,R=5, K=len(np.unique(Y_true_train)), dropout=0.5, learning_rate=0.01,optimizer='Adam', \n",
    "                l1_param=l1,  validation_split=0.30, verbose=0, q=0.1)\n",
    "    \n",
    "    MA.fit(X_train, Y_true_train)\n",
    "    MA.plot_history()\n",
    "  \n",
    "    #Accuracy\n",
    "    pred_2 = MA.predict(X_test)\n",
    " \n",
    "    report = classification_report( pred_2.argmax(axis=1),Y_true_test.ravel(),output_dict=True)\n",
    "    ACC[i] = report['accuracy']\n",
    "    print(\"Validation ACC: %.4f\" % (float(ACC[i])))\n",
    "\n",
    "\n",
    "    # balanced. Accurcy\n",
    "    BACC[i] = balanced_accuracy_score(Y_true_test.squeeze(), pred_2.argmax(axis=1).squeeze(), adjusted=True)\n",
    "    print(\"Validation Balanced_ACC: %.4f\" % (float(BACC[i])))\n",
    "\n",
    "    #MI\n",
    "    \n",
    "    MI[i] = mutual_info_score(Y_true_test.squeeze(), pred_2.argmax(axis=1).squeeze())\n",
    "    print(\"Validation MI: %.4f\" % (float(MI[i]),))\n",
    "    NMI[i] = normalized_mutual_info_score(Y_true_test.squeeze(), pred_2.argmax(axis=1).squeeze())\n",
    "    print(\"Validation Normalized MI: %.4f\" % (float(NMI[i]),))\n",
    "    AMI[i]= adjusted_mutual_info_score(Y_true_test.squeeze(), pred_2.argmax(axis=1).squeeze())\n",
    "    print(\"Validation Adjusted MI: %.4f\" % (float(AMI[i]),))\n",
    "\n",
    "\n",
    "    #AUC\n",
    "    val_AUC_metric = tf.keras.metrics.AUC( from_logits = True)  \n",
    "   # val_logits =MA.predict(X_test) # model(X_test, training=False)\n",
    "    # tf.print(y_batch_val)\n",
    "    val_AUC_metric.update_state(Y_true_test, pred_2.argmax(axis=1).astype('float'))\n",
    "\n",
    "    val_AUC = val_AUC_metric.result()\n",
    "    val_AUC_metric.reset_states()\n",
    "    val_AUC = val_AUC.numpy()\n",
    "    print(\"Validation aUc: %.4f\" % (float(val_AUC),))\n",
    "    AUC[i] = val_AUC\n",
    "    "
   ]
  },
  {
   "cell_type": "code",
   "execution_count": 9,
   "id": "6d4e9bc3",
   "metadata": {
    "execution": {
     "iopub.execute_input": "2023-02-04T00:27:28.506804Z",
     "iopub.status.busy": "2023-02-04T00:27:28.506469Z",
     "iopub.status.idle": "2023-02-04T00:27:28.510771Z",
     "shell.execute_reply": "2023-02-04T00:27:28.509758Z"
    },
    "id": "ac87c1ac",
    "papermill": {
     "duration": 0.01807,
     "end_time": "2023-02-04T00:27:28.512801",
     "exception": false,
     "start_time": "2023-02-04T00:27:28.494731",
     "status": "completed"
    },
    "tags": []
   },
   "outputs": [],
   "source": [
    "# l1 =1\n",
    "# MA = Keras_MA_CNN(epochs=30,batch_size=64,R=5, K=len(np.unique(Y_true_train)), dropout=0.5, learning_rate=0.01,optimizer='Adam', \n",
    "#                 l1_param=l1,  validation_split=0.30, verbose=0, q=0.1)\n",
    "\n",
    "# MA.fit(X_train, Y_true_train)\n",
    "# MA.plot_history()\n",
    "# output_MA_ = MA.predict(X_test)\n"
   ]
  },
  {
   "cell_type": "code",
   "execution_count": 10,
   "id": "806673a3",
   "metadata": {
    "execution": {
     "iopub.execute_input": "2023-02-04T00:27:28.534481Z",
     "iopub.status.busy": "2023-02-04T00:27:28.534196Z",
     "iopub.status.idle": "2023-02-04T00:27:28.544401Z",
     "shell.execute_reply": "2023-02-04T00:27:28.543505Z"
    },
    "papermill": {
     "duration": 0.023428,
     "end_time": "2023-02-04T00:27:28.546591",
     "exception": false,
     "start_time": "2023-02-04T00:27:28.523163",
     "status": "completed"
    },
    "tags": []
   },
   "outputs": [
    {
     "name": "stdout",
     "output_type": "stream",
     "text": [
      "Average Accuracy:  99.32\n",
      "Average std:  0.06\n",
      "==============================================\n",
      "Average AUC:  99.81\n",
      "Average AUC std:  0.08\n",
      "==============================================\n",
      "Average Balanced Accuracy:  99.22999999999999\n",
      "Average std:  0.06999999999999999\n",
      "==============================================\n",
      "Average MI:  225.36\n",
      "Average std:  0.33999999999999997\n",
      "==============================================\n",
      "Average Normalized MI:  97.95\n",
      "Average std:  0.15\n",
      "==============================================\n",
      "Average Ajdusted MI:  97.94\n",
      "Average std:  0.15\n"
     ]
    }
   ],
   "source": [
    "print('Average Accuracy: ', np.round( ACC.mean(),4)*100) \n",
    "print('Average std: ',np.round(np.std( ACC),4)*100)\n",
    "print('==============================================')\n",
    "print('Average AUC: ', np.round( AUC.mean(),4)*100) \n",
    "print('Average AUC std: ',np.round(np.std( AUC),4)*100)\n",
    "print('==============================================')\n",
    "print('Average Balanced Accuracy: ', np.round( BACC.mean(),4)*100) \n",
    "print('Average std: ',np.round(np.std( BACC),4)*100)\n",
    "print('==============================================')\n",
    "print('Average MI: ', np.round( MI.mean(),4)*100) \n",
    "print('Average std: ',np.round(np.std(MI),4)*100)\n",
    "print('==============================================')\n",
    "print('Average Normalized MI: ', np.round( NMI.mean(),4)*100) \n",
    "print('Average std: ',np.round(np.std(NMI),4)*100)\n",
    "print('==============================================')\n",
    "print('Average Ajdusted MI: ', np.round( AMI.mean(),4)*100) \n",
    "print('Average std: ',np.round(np.std(AMI),4)*100)"
   ]
  },
  {
   "cell_type": "markdown",
   "id": "fbc76ce8",
   "metadata": {
    "id": "NH-cUjP-KCVW",
    "papermill": {
     "duration": 0.009983,
     "end_time": "2023-02-04T00:27:28.567674",
     "exception": false,
     "start_time": "2023-02-04T00:27:28.557691",
     "status": "completed"
    },
    "tags": []
   },
   "source": [
    "# Gridsearch "
   ]
  },
  {
   "cell_type": "code",
   "execution_count": 11,
   "id": "8e8219e2",
   "metadata": {
    "execution": {
     "iopub.execute_input": "2023-02-04T00:27:28.589702Z",
     "iopub.status.busy": "2023-02-04T00:27:28.589405Z",
     "iopub.status.idle": "2023-02-04T00:27:28.921277Z",
     "shell.execute_reply": "2023-02-04T00:27:28.919847Z"
    },
    "id": "d6fe90b9",
    "outputId": "b99eb7e2-7710-4a7c-9047-f1662df981bd",
    "papermill": {
     "duration": 0.344839,
     "end_time": "2023-02-04T00:27:28.922885",
     "exception": true,
     "start_time": "2023-02-04T00:27:28.578046",
     "status": "failed"
    },
    "tags": []
   },
   "outputs": [
    {
     "name": "stdout",
     "output_type": "stream",
     "text": [
      "iteration: 0\n"
     ]
    },
    {
     "ename": "IndexError",
     "evalue": "tuple index out of range",
     "output_type": "error",
     "traceback": [
      "\u001b[0;31m---------------------------------------------------------------------------\u001b[0m",
      "\u001b[0;31mIndexError\u001b[0m                                Traceback (most recent call last)",
      "\u001b[0;32m/tmp/ipykernel_23/4047502948.py\u001b[0m in \u001b[0;36m<module>\u001b[0;34m\u001b[0m\n\u001b[1;32m     44\u001b[0m \u001b[0;31m#             plt.ylabel('Frequency')\u001b[0m\u001b[0;34m\u001b[0m\u001b[0;34m\u001b[0m\u001b[0;34m\u001b[0m\u001b[0m\n\u001b[1;32m     45\u001b[0m \u001b[0;31m#\u001b[0m\u001b[0;34m\u001b[0m\u001b[0;34m\u001b[0m\u001b[0;34m\u001b[0m\u001b[0m\n\u001b[0;32m---> 46\u001b[0;31m     \u001b[0mMA\u001b[0m \u001b[0;34m=\u001b[0m \u001b[0mKeras_MA_CNN\u001b[0m\u001b[0;34m(\u001b[0m\u001b[0mvalidation_split\u001b[0m\u001b[0;34m=\u001b[0m \u001b[0;36m0.3\u001b[0m\u001b[0;34m,\u001b[0m \u001b[0mR\u001b[0m\u001b[0;34m=\u001b[0m \u001b[0mY_true_test\u001b[0m\u001b[0;34m.\u001b[0m\u001b[0mshape\u001b[0m\u001b[0;34m[\u001b[0m\u001b[0;36m1\u001b[0m\u001b[0;34m]\u001b[0m\u001b[0;34m,\u001b[0m \u001b[0mK\u001b[0m\u001b[0;34m=\u001b[0m\u001b[0mlen\u001b[0m\u001b[0;34m(\u001b[0m\u001b[0mnp\u001b[0m\u001b[0;34m.\u001b[0m\u001b[0munique\u001b[0m\u001b[0;34m(\u001b[0m\u001b[0mY_true_test\u001b[0m\u001b[0;34m)\u001b[0m\u001b[0;34m)\u001b[0m\u001b[0;34m)\u001b[0m\u001b[0;34m\u001b[0m\u001b[0;34m\u001b[0m\u001b[0m\n\u001b[0m\u001b[1;32m     47\u001b[0m \u001b[0;34m\u001b[0m\u001b[0m\n\u001b[1;32m     48\u001b[0m \u001b[0;34m\u001b[0m\u001b[0m\n",
      "\u001b[0;31mIndexError\u001b[0m: tuple index out of range"
     ]
    }
   ],
   "source": [
    "import numpy as np \n",
    "from sklearn.model_selection import  StratifiedShuffleSplit, ShuffleSplit\n",
    "#from scikeras.wrappers import KerasClassifier\n",
    "from sklearn.base import BaseEstimator, TransformerMixin\n",
    "from sklearn.metrics import make_scorer\n",
    "import joblib\n",
    "from sklearn.pipeline import Pipeline\n",
    "from sklearn.metrics import accuracy_score\n",
    "\n",
    "#https://www.adriangb.com/scikeras/stable/notebooks/DataTransformers.html?highlight=data+processing#3.2-Define-output-data-transformer\n",
    "\n",
    "filename = '/kaggle/working/' + database +'_models_GCCE'\n",
    "filename_labels = '/kaggle/working/' + database +'_GCCE_labels'\n",
    " \n",
    "\n",
    "best_parameter = []\n",
    "cvresults = []\n",
    "classification_report_r= []\n",
    "models = []\n",
    "labels_pred2=[]\n",
    "labels_Y_true=[]\n",
    "NUM_RUNS =5\n",
    "\n",
    "for i in range(NUM_RUNS): #10\n",
    "    print(\"iteration: \" + str(i))\n",
    "    #Ns = 1\n",
    "    cv = 10 #cantidad de iteraciones\n",
    "#     ss = ShuffleSplit(n_splits=cv, test_size=0.3,random_state =123)\n",
    "#     for train_index, test_index in ss.split(X):\n",
    "#        # print(test_index)\n",
    "#         X_train, X_test,Y_train,Y_test = X[train_index,:], X[test_index,:] ,Ytr_mv[train_index,:], Ytr_mv[test_index,:]\n",
    "#         Y_true_train, Y_true_test = t[train_index].reshape(-1,1), t[test_index].reshape(-1,1)\n",
    "#         for i in range(Y.shape[1]):\n",
    "#             #print('annotator',i+1)\n",
    "\n",
    "#             unique, counts = np.unique(Y_train[:,i], return_counts=True)\n",
    "#             plt.figure()\n",
    "#             plt.bar(unique, counts)\n",
    "#             unique, counts = np.unique(Y_test[:,i], return_counts=True)\n",
    "#             plt.bar(unique, counts)\n",
    "\n",
    "#             plt.title('Class Frequency for Y_true')\n",
    "#             plt.xlabel('Class')\n",
    "#             plt.ylabel('Frequency')\n",
    "#       \n",
    "    MA = Keras_MA_CNN(validation_split= 0.3, R= Y_true_test.shape[1], K=len(np.unique(Y_true_test)))\n",
    "\n",
    "    \n",
    "    \n",
    "    scce = tf.keras.losses.SparseCategoricalCrossentropy()\n",
    "\n",
    "    #================================ GridSearch =============================================\n",
    "    my_func = make_scorer(lambda y,y_pred: scce(y,y_pred).numpy(),greater_is_better=False)\n",
    "    #================== pipeline ===================================== \n",
    "        #se crean listas de steps (pipelines)\n",
    "    steps=[('nor', MinMaxScaler()),\n",
    "            ('cla', Keras_MA_CNN(validation_split= 0.3,R= Y_true_test.shape[1], K=len(np.unique(Y_true_test)), verbose=0))] #Pipeline1\n",
    "        \n",
    "    \n",
    "    parameters = [{              \n",
    "                  'cla__dropout': [0.25, 0.5, 0.75, 0.2],#Pipeline1 - hyperparametros\n",
    "                  #'cla__learning_rate': [1e-4, 1e-3, 1e-2, 1e-1],\n",
    "                  #'cla__l1_param': [1e-4, 1e-3, 1e-2, 1e-1],\n",
    "                  'cla__batch_size': [32, 64, 128, 256], \n",
    "                  #'cla__q': [0.01]\n",
    "        \n",
    "                 #'cla__loss': [GCCE_MA_loss]\n",
    "                      \n",
    "                  }]\n",
    "\n",
    "    label_models = ['model']\n",
    "    \n",
    "    \n",
    "  \n",
    "    #param_grid = dict(model__dropout_rate=dropout_rate)\n",
    "    grid = RandomizedSearchCV( Pipeline(steps), parameters,  n_jobs=-1, cv=ss, scoring= my_func, #-1\n",
    "                        error_score=\"raise\",refit= True,verbose=0, n_iter=10)\n",
    "    grid_result = grid.fit(X_train, Y_true_train)\n",
    "\n",
    "\n",
    "\n",
    "    best_parameter += [grid_result.best_params_ ]   \n",
    "    cvresults += [grid_result.cv_results_]\n",
    "    pred_2 = grid.predict(X_test)\n",
    "    labels_pred2 += [pred_2]\n",
    "    labels_Y_true +=[Y_true_test.ravel()]\n",
    "    classification_report_r += [classification_report( pred_2.argmax(axis=1),Y_true_test.ravel(),output_dict=True)]\n",
    "    #accuracy_score(Y_true_test,grid.predict(X_test))]\n",
    "    #models += [grid] #guardar modelos\n",
    "joblib.dump([best_parameter,cvresults,classification_report_r],filename+\".pkl\")\n",
    "joblib.dump([labels_pred2,labels_Y_true],filename_labels +\".pkl\")"
   ]
  },
  {
   "cell_type": "markdown",
   "id": "7b766779",
   "metadata": {
    "id": "FVPsz6l1KRQu",
    "papermill": {
     "duration": null,
     "end_time": null,
     "exception": null,
     "start_time": null,
     "status": "pending"
    },
    "tags": []
   },
   "source": [
    "# computing precision, recall, f1-score  mean values for every class"
   ]
  },
  {
   "cell_type": "code",
   "execution_count": null,
   "id": "24eb8e7a",
   "metadata": {
    "execution": {
     "iopub.status.busy": "2023-02-03T23:46:32.234214Z",
     "iopub.status.idle": "2023-02-03T23:46:32.234609Z",
     "shell.execute_reply": "2023-02-03T23:46:32.234428Z",
     "shell.execute_reply.started": "2023-02-03T23:46:32.234407Z"
    },
    "id": "9c4ba4e9",
    "outputId": "7b97939d-ab2b-4cb5-f0c4-a3a52abf7f86",
    "papermill": {
     "duration": null,
     "end_time": null,
     "exception": null,
     "start_time": null,
     "status": "pending"
    },
    "tags": []
   },
   "outputs": [],
   "source": [
    "val_acc_GCCE  = np.zeros(NUM_RUNS)\n",
    "val_Precision =  np.zeros((len(classification_report_r),len(classification_report_r[0].keys())-3))\n",
    "val_recall =  np.zeros((len(classification_report_r),len(classification_report_r[0].keys())-3))\n",
    "val_f1_score =  np.zeros((len(classification_report_r),len(classification_report_r[0].keys())-3))\n",
    "for i in range(len(classification_report_r)):\n",
    "    \n",
    "    for j in range(len(classification_report_r[0].keys())-3):\n",
    "        val_Precision[i][j] = classification_report_r[i][str(j)]['precision']\n",
    "        val_recall[i][j] = classification_report_r[i][str(j)]['recall']\n",
    "        val_f1_score[i][j] = classification_report_r[i][str(j)]['f1-score']\n",
    "        \n",
    "     \n",
    "    val_acc_GCCE[i] = classification_report_r[i]['accuracy']\n",
    "#print(classification_report_r[0]['precision'])'recall'\n",
    "print('Average precision classes: ',  np.mean(val_Precision, axis=0))\n",
    "print('Average Recall classes: ', np.mean(val_recall, axis=0))\n",
    "print('Average f1_score classes: ', np.mean(val_f1_score, axis=0)) \n"
   ]
  },
  {
   "cell_type": "code",
   "execution_count": null,
   "id": "d25121c0",
   "metadata": {
    "execution": {
     "iopub.status.busy": "2023-02-03T23:46:32.236166Z",
     "iopub.status.idle": "2023-02-03T23:46:32.236577Z",
     "shell.execute_reply": "2023-02-03T23:46:32.236408Z",
     "shell.execute_reply.started": "2023-02-03T23:46:32.236387Z"
    },
    "id": "05da431d",
    "outputId": "38f9be0a-bca9-4383-9fba-7c3cef25183d",
    "papermill": {
     "duration": null,
     "end_time": null,
     "exception": null,
     "start_time": null,
     "status": "pending"
    },
    "tags": []
   },
   "outputs": [],
   "source": [
    "val_acc_GCCE"
   ]
  },
  {
   "cell_type": "code",
   "execution_count": null,
   "id": "5ff127e1",
   "metadata": {
    "execution": {
     "iopub.status.busy": "2023-02-03T23:46:32.238082Z",
     "iopub.status.idle": "2023-02-03T23:46:32.238530Z",
     "shell.execute_reply": "2023-02-03T23:46:32.238347Z",
     "shell.execute_reply.started": "2023-02-03T23:46:32.238326Z"
    },
    "id": "5ab569f2",
    "outputId": "6e31e2c6-0776-4595-c277-356a1c304eda",
    "papermill": {
     "duration": null,
     "end_time": null,
     "exception": null,
     "start_time": null,
     "status": "pending"
    },
    "tags": []
   },
   "outputs": [],
   "source": [
    " \n",
    "print('Average Accuracy: ', np.round(val_acc_GCCE.mean(),4)*100) \n",
    "print('Average std: ',np.round(np.std(val_acc_GCCE),4)*100)"
   ]
  },
  {
   "cell_type": "code",
   "execution_count": null,
   "id": "ab2fcffe",
   "metadata": {
    "execution": {
     "iopub.status.busy": "2023-02-03T23:46:32.239793Z",
     "iopub.status.idle": "2023-02-03T23:46:32.240215Z",
     "shell.execute_reply": "2023-02-03T23:46:32.240018Z",
     "shell.execute_reply.started": "2023-02-03T23:46:32.239996Z"
    },
    "id": "56285d07",
    "papermill": {
     "duration": null,
     "end_time": null,
     "exception": null,
     "start_time": null,
     "status": "pending"
    },
    "tags": []
   },
   "outputs": [],
   "source": [
    "best_batch_list = []\n",
    "best_dropout_list = []\n",
    "best_l1_coef_list = []\n",
    "best_l1_coef_list = []\n",
    "best_learning_rate_list = []\n",
    "best_q = []\n",
    "for i in range(len(best_parameter)):\n",
    "    best_batch_list += [best_parameter[i]['cla__batch_size']]\n",
    "    best_dropout_list += [best_parameter[i]['cla__dropout']]\n",
    "    best_l1_coef_list += [best_parameter[i]['cla__l1_param']]\n",
    "    best_learning_rate_list += [best_parameter[i]['cla__learning_rate']]\n",
    "    best_q += [best_parameter[i]['cla__q']]\n",
    "   # print(best_parameter[i]['cla__batch_size'])\n",
    "   # print(best_parameter[i]['cla__batch_size'])\n",
    "\n",
    " "
   ]
  },
  {
   "cell_type": "code",
   "execution_count": null,
   "id": "8da1afe2",
   "metadata": {
    "execution": {
     "iopub.status.busy": "2023-02-03T23:46:32.241066Z",
     "iopub.status.idle": "2023-02-03T23:46:32.241489Z",
     "shell.execute_reply": "2023-02-03T23:46:32.241315Z",
     "shell.execute_reply.started": "2023-02-03T23:46:32.241294Z"
    },
    "papermill": {
     "duration": null,
     "end_time": null,
     "exception": null,
     "start_time": null,
     "status": "pending"
    },
    "tags": []
   },
   "outputs": [],
   "source": [
    "best_q"
   ]
  },
  {
   "cell_type": "markdown",
   "id": "0a23f627",
   "metadata": {
    "id": "1KJIsbsVKjty",
    "papermill": {
     "duration": null,
     "end_time": null,
     "exception": null,
     "start_time": null,
     "status": "pending"
    },
    "tags": []
   },
   "source": [
    "# Mode  across gridsearch N iteratios parameters"
   ]
  },
  {
   "cell_type": "code",
   "execution_count": null,
   "id": "4d7621af",
   "metadata": {
    "execution": {
     "iopub.status.busy": "2023-02-03T23:46:32.242420Z",
     "iopub.status.idle": "2023-02-03T23:46:32.242819Z",
     "shell.execute_reply": "2023-02-03T23:46:32.242636Z",
     "shell.execute_reply.started": "2023-02-03T23:46:32.242616Z"
    },
    "id": "ac67ebab",
    "outputId": "748ecff0-f97e-4302-a6bd-813915ef0a26",
    "papermill": {
     "duration": null,
     "end_time": null,
     "exception": null,
     "start_time": null,
     "status": "pending"
    },
    "tags": []
   },
   "outputs": [],
   "source": [
    "import numpy as np\n",
    "from scipy import stats\n",
    "  \n",
    "batch_size_mode = np.take(stats.mode(best_batch_list)[0],0)\n",
    "dropout_mode =  np.take(stats.mode(best_dropout_list ) [0],0)\n",
    "l1_coef_mode =   np.take(stats.mode(best_l1_coef_list )[0],0)\n",
    "learning_rate_mode =  np.take(stats.mode(best_learning_rate_list )[0],0)\n",
    "q_param =  np.take(stats.mode(best_q )[0],0)\n",
    "print('batch_size_mode :',batch_size_mode)\n",
    "print('dropout_mode :',dropout_mode )\n",
    "print('l1_coef_mode :', l1_coef_mode)\n",
    "print('learning_rate_mode: ',learning_rate_mode)\n",
    "print('q_parameter: ',q_param)"
   ]
  },
  {
   "cell_type": "code",
   "execution_count": null,
   "id": "eea40f79",
   "metadata": {
    "papermill": {
     "duration": null,
     "end_time": null,
     "exception": null,
     "start_time": null,
     "status": "pending"
    },
    "tags": []
   },
   "outputs": [],
   "source": []
  }
 ],
 "metadata": {
  "kernelspec": {
   "display_name": "Python 3",
   "language": "python",
   "name": "python3"
  },
  "language_info": {
   "codemirror_mode": {
    "name": "ipython",
    "version": 3
   },
   "file_extension": ".py",
   "mimetype": "text/x-python",
   "name": "python",
   "nbconvert_exporter": "python",
   "pygments_lexer": "ipython3",
   "version": "3.7.12"
  },
  "papermill": {
   "default_parameters": {},
   "duration": 1320.865277,
   "end_time": "2023-02-04T00:27:32.320032",
   "environment_variables": {},
   "exception": true,
   "input_path": "__notebook__.ipynb",
   "output_path": "__notebook__.ipynb",
   "parameters": {},
   "start_time": "2023-02-04T00:05:31.454755",
   "version": "2.3.4"
  }
 },
 "nbformat": 4,
 "nbformat_minor": 5
}
