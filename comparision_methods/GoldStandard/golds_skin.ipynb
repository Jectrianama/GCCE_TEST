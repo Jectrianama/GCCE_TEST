{
  "cells": [
    {
      "cell_type": "markdown",
      "metadata": {
        "id": "view-in-github",
        "colab_type": "text"
      },
      "source": [
        "<a href=\"https://colab.research.google.com/github/Jectrianama/GCCE_TEST/blob/main/GoldStandard1/golds_skin.ipynb\" target=\"_parent\"><img src=\"https://colab.research.google.com/assets/colab-badge.svg\" alt=\"Open In Colab\"/></a>"
      ]
    },
    {
      "cell_type": "markdown",
      "id": "e01bde71",
      "metadata": {
        "id": "e01bde71",
        "papermill": {
          "duration": 0.00834,
          "end_time": "2022-10-25T15:27:07.170215",
          "exception": false,
          "start_time": "2022-10-25T15:27:07.161875",
          "status": "completed"
        },
        "tags": []
      },
      "source": [
        "# Subclassing for GS"
      ]
    },
    {
      "cell_type": "code",
      "source": [
        "import tensorflow as tf\n",
        "from sklearn.metrics import classification_report, accuracy_score, balanced_accuracy_score, roc_auc_score, mutual_info_score, normalized_mutual_info_score, adjusted_mutual_info_score\n",
        "from sklearn.preprocessing import LabelBinarizer\n",
        "from sklearn.preprocessing import OneHotEncoder\n",
        "from scipy.stats import mode \n",
        "import numpy as np\n",
        "\n",
        "def ook(t):\n",
        "  lb = LabelBinarizer()\n",
        "  y_ook = lb.fit_transform(t)  \n",
        "\n",
        "  if len(np.unique(t))==2:\n",
        "    y_ook = np.concatenate((1-y_ook.astype(bool), y_ook), axis = 1) \n",
        "\n",
        "  return y_ook\n",
        "\n",
        "\n",
        "def onehot_encode(df, columns):\n",
        "    df = df.copy()\n",
        "    for column in columns:\n",
        "        dummies = pd.get_dummies(df[column], prefix=column)\n",
        "        df = pd.concat([df, dummies], axis=1)\n",
        "        df = df.drop(column, axis=1)\n",
        "    return df\n",
        "\n",
        "def preprocess_inputs(df):\n",
        "    df = df.copy()\n",
        "    \n",
        "    # Encode label values as numbers\n",
        "    df['V10'] = df['V10'].replace({'negative': 0, 'positive': 1})\n",
        "    \n",
        "    # One-hot encode board space columns\n",
        "    df = onehot_encode(\n",
        "        df,\n",
        "        columns=['V' + str(i) for i in range(1, 10)]\n",
        "    )\n",
        "    \n",
        "    # Split df into X and y\n",
        "    y = df['V10'].copy()\n",
        "    X = df.drop('V10', axis=1).copy()\n",
        "    \n",
        "    # Train-test split\n",
        "   # X_train, X_test, y_train, y_test = train_test_split(X, y, train_size=0.7, random_state=123)\n",
        "    \n",
        "    return X, y\n",
        "\n",
        "\n",
        "\n",
        "def evaluation_metrics(y_true, y_pred, print_result=True):\n",
        "    acc = 0\n",
        "    auc = 0\n",
        "    auc_sk = 0\n",
        "    #mi = 0\n",
        "    nmi = 0\n",
        "    #ami = 0\n",
        "    bacc = 0\n",
        "    \n",
        "    # Accuracy\n",
        "    #report = classification_report(y_pred.argmax(axis=1), y_true.ravel(), output_dict=True)\n",
        "    acc = accuracy_score( y_true.ravel(), y_pred.argmax(axis=1))  #report['accuracy']\n",
        "    \n",
        "    # Balanced accuracy\n",
        "    bacc = balanced_accuracy_score(y_true.squeeze(), y_pred.argmax(axis=1).squeeze(), adjusted=True)\n",
        "    \n",
        "   # # Mutual Information\n",
        "   # mi = mutual_info_score(y_true.squeeze(), y_pred.argmax(axis=1).squeeze())\n",
        "    \n",
        "    # Normalized Mutual Information\n",
        "    nmi = normalized_mutual_info_score(y_true.squeeze(), y_pred.argmax(axis=1).squeeze())\n",
        "    \n",
        "    # Adjusted Mutual Information\n",
        "    #ami = adjusted_mutual_info_score(y_true.squeeze(), y_pred.argmax(axis=1).squeeze())\n",
        "    \n",
        "    # AUC (Tensorflow)\n",
        "    auc_metric = tf.keras.metrics.AUC(from_logits=True)\n",
        "    auc_metric.update_state(y_true, y_pred.argmax(axis=1).astype('float'))\n",
        "    auc = auc_metric.result().numpy()\n",
        "    auc_metric.reset_states()\n",
        "    \n",
        "    # AUC (scikit-learn)\n",
        "    auc_sk = roc_auc_score(ook(y_true), y_pred)\n",
        "    \n",
        "    if print_result:\n",
        "        print(\"Accuracy: {:.4f}\".format(acc))\n",
        "        print(\"Balanced Accuracy: {:.4f}\".format(bacc))\n",
        "        #print(\"Mutual Information: {:.4f}\".format(mi))\n",
        "        print(\"Normalized Mutual Information: {:.4f}\".format(nmi))\n",
        "        #print(\"Adjusted Mutual Information: {:.4f}\".format(ami))\n",
        "        print(\"AUC (Tensorflow): {:.4f}\".format(auc))\n",
        "        print(\"AUC (scikit-learn): {:.4f}\".format(auc_sk))\n",
        "    \n",
        "    return acc, auc, auc_sk, nmi, bacc   # mi, , ami\n",
        "\n",
        "\n"
      ],
      "metadata": {
        "id": "lODmI8erWmO5"
      },
      "id": "lODmI8erWmO5",
      "execution_count": 23,
      "outputs": []
    },
    {
      "cell_type": "code",
      "execution_count": 24,
      "id": "e484b300",
      "metadata": {
        "execution": {
          "iopub.execute_input": "2022-10-25T15:27:07.189914Z",
          "iopub.status.busy": "2022-10-25T15:27:07.188975Z",
          "iopub.status.idle": "2022-10-25T15:27:15.723519Z",
          "shell.execute_reply": "2022-10-25T15:27:15.722413Z"
        },
        "id": "e484b300",
        "papermill": {
          "duration": 8.548096,
          "end_time": "2022-10-25T15:27:15.726247",
          "exception": false,
          "start_time": "2022-10-25T15:27:07.178151",
          "status": "completed"
        },
        "tags": []
      },
      "outputs": [],
      "source": [
        "# -*- coding: utf-8 -*-\n",
        "import tensorflow as tf\n",
        "import matplotlib.pyplot as plt\n",
        "#from tensorflow.keras.wrappers.scikit_learn import KerasClassifier\n",
        "import tensorflow_probability as tfp\n",
        "from tensorflow.keras import regularizers\n",
        "from sklearn.base import  BaseEstimator, TransformerMixin, ClassifierMixin\n",
        "from sklearn.model_selection import train_test_split\n",
        "tf.keras.backend.clear_session()\n",
        "#tf.random.set_seed(42)\n",
        "import types\n",
        "import tempfile\n",
        "class Keras_MA_GCCE(): #transformer no va\n",
        " #Constructor __init__. Special method: identified by a double underscore at either side of their name\n",
        " #work in the background\n",
        " # initialize data members to the object. lets the class initialize the object’s attributes and serves no other purpose.\n",
        "    def __init__(self,epochs=100,batch_size=30,R=5, K=2, dropout=0.5, learning_rate=1e-3,optimizer='Adam', \n",
        "                  l1_param=0, validation_split=0.3, verbose=1, q = 0.1, neurons=4):\n",
        "        self.epochs=epochs\n",
        "        self.dropout=dropout\n",
        "        self.batch_size = batch_size\n",
        "        self.learning_rate=learning_rate \n",
        "        self.l1_param=l1_param \n",
        "        self.l2_param=l1_param\n",
        "        self.validation_split = validation_split\n",
        "        self.verbose = verbose\n",
        "        self.optimizer = optimizer\n",
        "        self.R=R\n",
        "        self.K=K\n",
        "        self.q = q\n",
        "        self.neurons = neurons\n",
        "\n",
        "    \n",
        " \n",
        "    def GCCE_MA_loss(self, y_true, y_pred):\n",
        "        # print(y_true,y_pred)\n",
        "       # q = 0.1\n",
        "        pred = y_pred[:, self.R:]\n",
        "        pred = tf.clip_by_value(pred, clip_value_min=1e-9, clip_value_max=1)\n",
        "        ann_ = y_pred[:, :self.R]\n",
        "        # ann_ = tf.clip_by_value(ann_, clip_value_min=1e-9, clip_value_max=1-1e-9)\n",
        "        Y_true = tf.one_hot(tf.cast(y_true, dtype=tf.int32), depth=self.K, axis=1)\n",
        "        Y_hat = tf.repeat(tf.expand_dims(pred,-1), self.R, axis = -1)\n",
        "\n",
        "        p_gcce = Y_true*(1 - Y_hat**self.q)/self.q\n",
        "        temp1 = ann_*tf.math.reduce_sum(p_gcce, axis=1)\n",
        "\n",
        "        temp2 = (1 - ann_)*(1-(1/self.K)**self.q)/self.q*tf.reduce_sum(Y_true,axis=1)\n",
        "        return tf.math.reduce_sum((temp1 + temp2))\n",
        "\n",
        " \n",
        "    def PRI_MA_loss(self, y_true, y_pred): #,  -> PRI\n",
        "        #Input ytrue: samples (N) x  annotators (R) \n",
        "        #Input ypred: samples (N) x  annotators+classes (R+K) \n",
        "        #PRI MA\n",
        "        cce_M = tf.keras.losses.CategoricalCrossentropy(reduction='none',axis=-1)\n",
        "        cce_C = tf.keras.losses.CategoricalCrossentropy(reduction='none',axis=1)\n",
        "\n",
        "      \n",
        "\n",
        "        #N = tf.cast(y_true.shape[0],dtype=tf.int32)\n",
        "        N = tf.shape(y_true)[0]\n",
        "        #Ground truth estimation samples (N) x  Classes(K)\n",
        "        y_pred_tf = y_pred[:,self.R:] \n",
        "        # Annotators reliability prediction: samples (N) x  annotators (R)\n",
        "        lambda_R_tf = y_pred[:,:self.R] #tf.ones(shape=(N,R)) \n",
        "        #Y_true 1 K: samples (N) x  Classes(1-K), annotators (R)\n",
        "        Y_true_1K = tf.one_hot(tf.cast(y_true,dtype=tf.int32),depth=self.K,axis=1)  \n",
        "        #Y_pred 1 - K: samples (N) x  Classes(1-K), annotators (R)\n",
        "        Y_hat = tf.repeat(tf.expand_dims(y_pred_tf,-1), self.R, axis = -1) \n",
        "        #marginal entropy\n",
        "        #cce along the K classes -> ypred_tf\n",
        "        Hm_ = cce_M(y_pred_tf,y_pred_tf)\n",
        "        #cross entropy\n",
        "        #cce along the K classes -> Y_hat\n",
        "        Hc_ = cce_C(Y_true_1K,Y_hat)\n",
        "        #PRI MA computation\n",
        "        LH = tf.linalg.matmul(lambda_R_tf,Hc_,transpose_a=True) # \\Lambda^\\top H_c\n",
        "        temp1 = tf.linalg.trace(LH) #trace(LH)\n",
        "        Hm1L = tf.linalg.matmul(tf.ones(shape=(N,self.R))-lambda_R_tf,tf.ones(shape=(self.R,1)))# 1_N 1_R^\\top - Lambda\n",
        "        Hm_t = tf.reshape(Hm_,shape=(N,1))\n",
        "        temp2 = tf.squeeze(tf.linalg.matmul(Hm_t,Hm1L,transpose_a=True)) # Hm^\\top Hm1L\n",
        "        loss_c = temp1+ temp2 #return loss\n",
        "\n",
        "        return loss_c\n",
        "\n",
        " \n",
        "    def fit(self, X, Y):\n",
        "\n",
        "        def scheduler1(step = 10, ratio = 1.2):\n",
        "          def scheduler(epoch, lr):\n",
        "            if epoch % step == 0 and epoch>1:\n",
        "              return lr/ratio\n",
        "            else:\n",
        "              return lr\n",
        "          return scheduler\n",
        "        #input X numpy array first dimension samples (N)x features (P)\n",
        "        #input Y numpy array vector len = samples (N) x  annotators (R)\n",
        "        initializer = tf.keras.initializers.GlorotNormal(seed=100)\n",
        "\n",
        "        P = X.shape[1]\n",
        "        if self.optimizer == \"Adam\":\n",
        "            opt = tf.keras.optimizers.Adam(learning_rate=self.learning_rate, clipnorm=1.0)\n",
        "        elif self.optimizer == \"SGD\":\n",
        "            opt = tf.keras.optimizers.SGD(learning_rate=self.learning_rate, clipnorm=1.0)\n",
        "        else:\n",
        "            opt=self.optimizer\n",
        "\n",
        "        #capa de entrada\n",
        "        input_l = tf.keras.layers.Input(shape=(X.shape[1]), name='entrada')\n",
        "        #capas densas\n",
        "        h1 = tf.keras.layers.Dense(int(P*self.neurons*(self.K+self.R)),activation='selu',name='h1',bias_initializer='zeros', kernel_initializer=initializer,\n",
        "                              kernel_regularizer=tf.keras.regularizers.l1_l2(l1=self.l1_param,l2=self.l2_param))(input_l)#argumento de entrada\n",
        "        h2 = tf.keras.layers.Dense(int(P*(self.K+self.R)),activation='selu',name='h2', bias_initializer='zeros', kernel_initializer=initializer,\n",
        "                              kernel_regularizer=tf.keras.regularizers.l1_l2(l1=self.l1_param,l2=self.l2_param))(h1)\n",
        "        dout = tf.keras.layers.Dropout(rate=self.dropout)(h2)\n",
        "        #capa de salida\n",
        "        output = tf.keras.layers.Dense(self.K,activation=\"softmax\",name='output', bias_initializer='zeros', kernel_initializer=initializer,\n",
        "                                   kernel_regularizer=tf.keras.regularizers.l1_l2(l1=self.l1_param,l2=self.l2_param))(dout)\n",
        "        self.model = tf.keras.Model(inputs= input_l,outputs=output)\n",
        "        self.model.compile(loss=tf.keras.losses.SparseCategoricalCrossentropy(), optimizer=opt,metrics=\"accuracy\")\n",
        "         \n",
        "        callback1 = tf.keras.callbacks.TerminateOnNaN()\n",
        "        callback2 = tf.keras.callbacks.LearningRateScheduler(scheduler1(ratio = 1))\n",
        "        #callback2 = tf.keras.callbacks.LearningRateScheduler(scheduler2)\n",
        "        callback3 = tf.keras.callbacks.EarlyStopping(monitor=\"loss\", min_delta=1e-2,\n",
        "                                                 patience=15, verbose=0, mode=\"auto\",\n",
        "                                                 baseline=None, restore_best_weights=True)\n",
        "               \n",
        " \n",
        "        self.history = self.model.fit(X, Y, epochs=self.epochs, validation_split=self.validation_split, callbacks = [callback1, callback2],   #\n",
        "                                      batch_size=self.batch_size,verbose=self.verbose)\n",
        " \n",
        "        return self\n",
        " \n",
        "  \n",
        "   \n",
        "    def predict(self, X, *_):\n",
        "       #input X numpy array first dimension samples (N)x features (P)\n",
        "      return  self.model.predict(X) \n",
        " \n",
        " \n",
        "\n",
        "    def fit_predict(self,X,y):\n",
        "        #input X numpy array first dimension samples (N)x features (P)\n",
        "        #input Y numpy array vector len = samples (N) x  annotators (R)\n",
        "        self.fit(X,y)\n",
        "        return self.predict(X)\n",
        "  \n",
        "     #graphics\n",
        "    def plot_history(self):\n",
        "        pd.DataFrame(self.history.history).plot(figsize=(8, 5))\n",
        "        plt.grid(True)\n",
        "        #plt.gca().set_ylim(0, 1)\n",
        "        #save_fig(\"keras_learning_curves_plot\")\n",
        "        plt.show()\n",
        "        return\n",
        "    \n",
        "    def set_params(self, **parameters):\n",
        "        for parameter, value in parameters.items():\n",
        "            setattr(self, parameter, value)\n",
        "\n",
        "        return self\n",
        "    \n",
        "    \n",
        "    \n",
        "    def get_params(self, deep=True):\n",
        "        return { 'l1_param':self.l1_param, 'dropout':self.dropout, 'optimizer':self.optimizer,\n",
        "                'learning_rate':self.learning_rate, 'batch_size':self.batch_size,\n",
        "                'epochs':self.epochs, 'verbose':self.verbose, 'validation_split':self.validation_split,\n",
        "                'R':self.R, 'K':self.K, 'q':self.q, 'neurons': self.neurons\n",
        "                }\n",
        "\n",
        "  \n",
        "        return self\n"
      ]
    },
    {
      "cell_type": "code",
      "execution_count": 25,
      "id": "2109ab08",
      "metadata": {
        "execution": {
          "iopub.execute_input": "2022-10-25T15:27:15.744079Z",
          "iopub.status.busy": "2022-10-25T15:27:15.743469Z",
          "iopub.status.idle": "2022-10-25T15:27:23.538064Z",
          "shell.execute_reply": "2022-10-25T15:27:23.536790Z"
        },
        "id": "2109ab08",
        "outputId": "0ead9276-7d01-4f22-ee92-9ea009d00569",
        "papermill": {
          "duration": 7.806291,
          "end_time": "2022-10-25T15:27:23.540591",
          "exception": false,
          "start_time": "2022-10-25T15:27:15.734300",
          "status": "completed"
        },
        "tags": [],
        "colab": {
          "base_uri": "https://localhost:8080/"
        }
      },
      "outputs": [
        {
          "output_type": "stream",
          "name": "stdout",
          "text": [
            "--2023-02-13 21:44:41--  https://docs.google.com/uc?export=download&confirm=t&id=1SQnWXGROG2Xexs5vn3twuv7SqiWG5njW\n",
            "Resolving docs.google.com (docs.google.com)... 142.250.4.113, 142.250.4.102, 142.250.4.139, ...\n",
            "Connecting to docs.google.com (docs.google.com)|142.250.4.113|:443... connected.\n",
            "HTTP request sent, awaiting response... 303 See Other\n",
            "Location: https://doc-00-90-docs.googleusercontent.com/docs/securesc/ha0ro937gcuc7l7deffksulhg5h7mbp1/ck8rajnqvimphl4ar7v5qep7btkltrtd/1676324625000/07591141114418430227/*/1SQnWXGROG2Xexs5vn3twuv7SqiWG5njW?e=download&uuid=2f55e321-3e24-457c-be10-7eeba96447e6 [following]\n",
            "Warning: wildcards not supported in HTTP.\n",
            "--2023-02-13 21:44:42--  https://doc-00-90-docs.googleusercontent.com/docs/securesc/ha0ro937gcuc7l7deffksulhg5h7mbp1/ck8rajnqvimphl4ar7v5qep7btkltrtd/1676324625000/07591141114418430227/*/1SQnWXGROG2Xexs5vn3twuv7SqiWG5njW?e=download&uuid=2f55e321-3e24-457c-be10-7eeba96447e6\n",
            "Resolving doc-00-90-docs.googleusercontent.com (doc-00-90-docs.googleusercontent.com)... 172.253.118.132, 2404:6800:4003:c05::84\n",
            "Connecting to doc-00-90-docs.googleusercontent.com (doc-00-90-docs.googleusercontent.com)|172.253.118.132|:443... connected.\n",
            "HTTP request sent, awaiting response... 200 OK\n",
            "Length: 156530728 (149M) [application/zip]\n",
            "Saving to: ‘MADatasets.zip’\n",
            "\n",
            "MADatasets.zip      100%[===================>] 149.28M   287MB/s    in 0.5s    \n",
            "\n",
            "2023-02-13 21:44:42 (287 MB/s) - ‘MADatasets.zip’ saved [156530728/156530728]\n",
            "\n",
            "Archive:  MADatasets.zip\n",
            "  inflating: MADatasets/util.py      \n",
            "  inflating: MADatasets/Iris1.mat    \n",
            "  inflating: MADatasets/Integra_Labels.mat  \n",
            "  inflating: MADatasets/MAGenerationClassification.py  \n",
            "  inflating: MADatasets/Voice.mat    \n",
            "  inflating: MADatasets/Iris.mat     \n",
            "  inflating: MADatasets/Sinthetic.mat  \n",
            "  inflating: MADatasets/MAGenerationClassification_1.py  \n",
            "  inflating: MADatasets/Bupa1.mat    \n",
            "  inflating: MADatasets/TicTacToe1.mat  \n",
            "  inflating: MADatasets/Wine.mat     \n",
            "  inflating: MADatasets/Breast1.mat  \n",
            "  inflating: MADatasets/Breast.mat   \n",
            "  inflating: MADatasets/Music.mat    \n",
            "  inflating: MADatasets/Pima.mat     \n",
            "  inflating: MADatasets/Ionosphere.mat  \n",
            "  inflating: MADatasets/TicTacToe.mat  \n",
            "  inflating: MADatasets/VoiceData.m  \n",
            "  inflating: MADatasets/util_1.py    \n",
            "  inflating: MADatasets/Ionosphere1.mat  \n",
            "  inflating: MADatasets/__pycache__/util_1.cpython-37.pyc  \n",
            "  inflating: MADatasets/Bupa.mat     \n",
            "  inflating: MADatasets/Wine1.mat    \n",
            "  inflating: MADatasets/__pycache__/util.cpython-37.pyc  \n",
            "  inflating: MADatasets/Pima1.mat    \n",
            "  inflating: MADatasets/Segmentation1.mat  \n",
            "  inflating: MADatasets/Western.mat  \n",
            "  inflating: MADatasets/Integra_Preprocesamiento_Seg_Caracterizacion_time_frec.mat  \n",
            "  inflating: MADatasets/Western1.mat  \n",
            "  inflating: MADatasets/Segmentation.mat  \n",
            "  inflating: MADatasets/Skin_NonSkin.mat  \n",
            "  inflating: MADatasets/Skin_NonSkin1.mat  \n",
            "  inflating: MADatasets/Occupancy1.mat  \n",
            "  inflating: MADatasets/Polarity.mat  \n",
            "  inflating: MADatasets/Occupancy.mat  \n",
            "MADatasets  MADatasets.zip  sample_data\n"
          ]
        }
      ],
      "source": [
        "#cargar datos desde drive acceso libre\n",
        "FILEID = \"1SQnWXGROG2Xexs5vn3twuv7SqiWG5njW\"\n",
        "#https://drive.google.com/file/d/1SQnWXGROG2Xexs5vn3twuv7SqiWG5njW/view?usp=sharing\n",
        "!wget --load-cookies /tmp/cookies.txt \"https://docs.google.com/uc?export=download&confirm=$(wget --quiet --save-cookies /tmp/cookies.txt --keep-session-cookies --no-check-certificate 'https://docs.google.com/uc?export=download&id='$FILEID -O- | sed -rn 's/.*confirm=([0-9A-Za-z_]+).*/\\1\\n/p')&id=\"$FILEID -O MADatasets.zip && rm -rf /tmp/cookies.txt\n",
        "!unzip -o MADatasets.zip\n",
        "!dir"
      ]
    },
    {
      "cell_type": "markdown",
      "id": "d32c7c41",
      "metadata": {
        "id": "d32c7c41",
        "papermill": {
          "duration": 0.008424,
          "end_time": "2022-10-25T15:27:23.558032",
          "exception": false,
          "start_time": "2022-10-25T15:27:23.549608",
          "status": "completed"
        },
        "tags": []
      },
      "source": [
        "# Load Data"
      ]
    },
    {
      "cell_type": "code",
      "execution_count": 26,
      "id": "e0c06840",
      "metadata": {
        "execution": {
          "iopub.execute_input": "2022-10-25T15:27:23.579757Z",
          "iopub.status.busy": "2022-10-25T15:27:23.578533Z",
          "iopub.status.idle": "2022-10-25T15:27:23.623422Z",
          "shell.execute_reply": "2022-10-25T15:27:23.622015Z"
        },
        "id": "e0c06840",
        "outputId": "8002e60f-0b6e-494c-a6bb-c3972b035764",
        "papermill": {
          "duration": 0.057538,
          "end_time": "2022-10-25T15:27:23.625812",
          "exception": false,
          "start_time": "2022-10-25T15:27:23.568274",
          "status": "completed"
        },
        "tags": [],
        "colab": {
          "base_uri": "https://localhost:8080/"
        }
      },
      "outputs": [
        {
          "output_type": "execute_result",
          "data": {
            "text/plain": [
              "dict_keys(['__header__', '__version__', '__globals__', 'X', 'y', 'Y', 'iAnn', 'Exp', 'idxtr', 'idxte'])"
            ]
          },
          "metadata": {},
          "execution_count": 26
        }
      ],
      "source": [
        "#load data\n",
        "import scipy.io as sio\n",
        "import matplotlib.pyplot as plt\n",
        "import pandas as pd\n",
        "import tensorflow as tf #importar tensorflow\n",
        "from sklearn.model_selection import GridSearchCV, RandomizedSearchCV\n",
        "from sklearn.preprocessing import StandardScaler,MinMaxScaler\n",
        "import numpy as np\n",
        "database = 'Skin_NonSkin' #['bupa1', 'breast-cancer-wisconsin1','pima-indians-diabetes1', 'ionosphere1', 'tic-tac-toe1', 'iris1', 'wine1', 'segmentation1']\n",
        "\n",
        "\n",
        "path_ = 'MADatasets/'+ database+ '.mat' \n",
        "Xdata = sio.loadmat(path_)\n",
        "Xdata.keys()"
      ]
    },
    {
      "cell_type": "code",
      "execution_count": 27,
      "id": "e9f6101b",
      "metadata": {
        "execution": {
          "iopub.execute_input": "2022-10-25T15:27:23.645709Z",
          "iopub.status.busy": "2022-10-25T15:27:23.645254Z",
          "iopub.status.idle": "2022-10-25T15:27:23.652187Z",
          "shell.execute_reply": "2022-10-25T15:27:23.650924Z"
        },
        "id": "e9f6101b",
        "outputId": "7d821851-66dd-47cd-fff9-092e77be0a2a",
        "papermill": {
          "duration": 0.019354,
          "end_time": "2022-10-25T15:27:23.654313",
          "exception": false,
          "start_time": "2022-10-25T15:27:23.634959",
          "status": "completed"
        },
        "tags": [],
        "colab": {
          "base_uri": "https://localhost:8080/"
        }
      },
      "outputs": [
        {
          "output_type": "stream",
          "name": "stdout",
          "text": [
            "X (245057, 3) t (245057,) Y (245057, 5)\n"
          ]
        }
      ],
      "source": [
        "\n",
        "\n",
        "X = Xdata['X']\n",
        "# Xte = Xdata['Xte']\n",
        "Y = Xdata['Y']\n",
        "t = Xdata['y'].reshape(-1)\n",
        "print('X',X.shape,'t',t.shape,'Y',Y.shape)\n",
        " "
      ]
    },
    {
      "cell_type": "code",
      "execution_count": 28,
      "id": "727122d5",
      "metadata": {
        "execution": {
          "iopub.execute_input": "2022-10-25T15:27:23.674217Z",
          "iopub.status.busy": "2022-10-25T15:27:23.673560Z",
          "iopub.status.idle": "2022-10-25T15:27:23.681176Z",
          "shell.execute_reply": "2022-10-25T15:27:23.680399Z"
        },
        "papermill": {
          "duration": 0.019753,
          "end_time": "2022-10-25T15:27:23.683248",
          "exception": false,
          "start_time": "2022-10-25T15:27:23.663495",
          "status": "completed"
        },
        "tags": [],
        "colab": {
          "base_uri": "https://localhost:8080/"
        },
        "id": "727122d5",
        "outputId": "f7081f39-7066-4a9b-dd7a-2fc3db6a3e56"
      },
      "outputs": [
        {
          "output_type": "execute_result",
          "data": {
            "text/plain": [
              "array([1, 1, 1, ..., 2, 2, 2])"
            ]
          },
          "metadata": {},
          "execution_count": 28
        }
      ],
      "source": [
        "t "
      ]
    },
    {
      "cell_type": "code",
      "execution_count": 29,
      "id": "9fb70f28",
      "metadata": {
        "execution": {
          "iopub.execute_input": "2022-10-25T15:27:23.728555Z",
          "iopub.status.busy": "2022-10-25T15:27:23.727916Z",
          "iopub.status.idle": "2022-10-25T15:27:23.732290Z",
          "shell.execute_reply": "2022-10-25T15:27:23.731297Z"
        },
        "id": "9fb70f28",
        "papermill": {
          "duration": 0.016767,
          "end_time": "2022-10-25T15:27:23.734441",
          "exception": false,
          "start_time": "2022-10-25T15:27:23.717674",
          "status": "completed"
        },
        "tags": []
      },
      "outputs": [],
      "source": [
        "t = t - 1"
      ]
    },
    {
      "cell_type": "markdown",
      "id": "19dbcd92",
      "metadata": {
        "id": "19dbcd92",
        "papermill": {
          "duration": 0.009333,
          "end_time": "2022-10-25T15:27:23.753863",
          "exception": false,
          "start_time": "2022-10-25T15:27:23.744530",
          "status": "completed"
        },
        "tags": []
      },
      "source": [
        "# Split data"
      ]
    },
    {
      "cell_type": "code",
      "execution_count": 30,
      "id": "31dd59f5",
      "metadata": {
        "execution": {
          "iopub.execute_input": "2022-10-25T15:27:23.773709Z",
          "iopub.status.busy": "2022-10-25T15:27:23.773225Z",
          "iopub.status.idle": "2022-10-25T15:27:23.784887Z",
          "shell.execute_reply": "2022-10-25T15:27:23.783592Z"
        },
        "id": "31dd59f5",
        "outputId": "67ef0978-516d-405b-ee9a-ec4e42808d21",
        "papermill": {
          "duration": 0.024293,
          "end_time": "2022-10-25T15:27:23.787281",
          "exception": false,
          "start_time": "2022-10-25T15:27:23.762988",
          "status": "completed"
        },
        "tags": [],
        "colab": {
          "base_uri": "https://localhost:8080/"
        }
      },
      "outputs": [
        {
          "output_type": "stream",
          "name": "stdout",
          "text": [
            "[180274  23506 163905 ... 224310 148007  21836]\n",
            "(171539, 3) (171539, 5) (171539, 1)\n"
          ]
        }
      ],
      "source": [
        "import numpy.matlib\n",
        "from sklearn.model_selection import ShuffleSplit, StratifiedShuffleSplit\n",
        "Ns = 1\n",
        "ss = ShuffleSplit(n_splits=Ns, test_size=0.3,random_state =123)\n",
        "for train_index, test_index in ss.split(X):\n",
        "    print(test_index)\n",
        "    X_train, X_test,Y_train,Y_test = X[train_index,:], X[test_index,:],Y[train_index,:], Y[test_index,:]\n",
        "    Y_true_train, Y_true_test = t[train_index].reshape(-1,1), t[test_index].reshape(-1,1)\n",
        "print(X_train.shape, Y_train.shape, Y_true_train.shape)"
      ]
    },
    {
      "cell_type": "markdown",
      "id": "63e48f84",
      "metadata": {
        "id": "63e48f84",
        "papermill": {
          "duration": 0.008803,
          "end_time": "2022-10-25T15:27:23.831508",
          "exception": false,
          "start_time": "2022-10-25T15:27:23.822705",
          "status": "completed"
        },
        "tags": []
      },
      "source": [
        "# Apply MinMaxScaler"
      ]
    },
    {
      "cell_type": "code",
      "execution_count": 31,
      "id": "e92f90b4",
      "metadata": {
        "execution": {
          "iopub.execute_input": "2022-10-25T15:27:23.851559Z",
          "iopub.status.busy": "2022-10-25T15:27:23.850925Z",
          "iopub.status.idle": "2022-10-25T15:27:23.857306Z",
          "shell.execute_reply": "2022-10-25T15:27:23.855971Z"
        },
        "id": "e92f90b4",
        "papermill": {
          "duration": 0.018945,
          "end_time": "2022-10-25T15:27:23.859554",
          "exception": false,
          "start_time": "2022-10-25T15:27:23.840609",
          "status": "completed"
        },
        "tags": []
      },
      "outputs": [],
      "source": [
        "scaler = MinMaxScaler()\n",
        "scaler.fit(X_train)\n",
        "X_train = scaler.transform(X_train)\n",
        "X_test = scaler.transform(X_test)"
      ]
    },
    {
      "cell_type": "markdown",
      "id": "a27a1684",
      "metadata": {
        "id": "a27a1684",
        "papermill": {
          "duration": 0.009041,
          "end_time": "2022-10-25T15:27:23.877954",
          "exception": false,
          "start_time": "2022-10-25T15:27:23.868913",
          "status": "completed"
        },
        "tags": []
      },
      "source": [
        "# Testing the Class \n"
      ]
    },
    {
      "cell_type": "code",
      "source": [
        "# from sklearn.metrics import classification_report, balanced_accuracy_score\n",
        "# from sklearn.metrics import normalized_mutual_info_score, mutual_info_score, adjusted_mutual_info_score\n",
        "# l1 =0.0001\n",
        "# NUM_RUNS =10\n",
        "# ACC = np.zeros(NUM_RUNS)\n",
        "# AUC = np.zeros(NUM_RUNS)\n",
        "# MI = np.zeros(NUM_RUNS)\n",
        "# NMI = np.zeros(NUM_RUNS)\n",
        "# AMI = np.zeros(NUM_RUNS)\n",
        "# BACC = np.zeros(NUM_RUNS)\n",
        "# for i in range(NUM_RUNS): #10\n",
        "#     print(\"iteration: \" + str(i))\n",
        "   \n",
        "#     MA = Keras_MA_GCCE(epochs=100,batch_size=256,R=5, K=len(np.unique(Y_true_train)), dropout=0.5, learning_rate=0.001,optimizer='Adam', \n",
        "#                 l1_param=l1,  validation_split=0.30, verbose=0, q=0.1)\n",
        "     \n",
        "#     MA.fit(X_train,  Y_true_train)\n",
        "#     MA.plot_history()\n",
        "  \n",
        "#     #Accuracy\n",
        "#     pred_2 = MA.predict(X_test)\n",
        " \n",
        "#     report = classification_report( pred_2.argmax(axis=1),Y_true_test.ravel(),output_dict=True)\n",
        "#     ACC[i] = report['accuracy']\n",
        "#     print(\"Validation ACC: %.4f\" % (float(ACC[i])))\n",
        "\n",
        "\n",
        "#     # balanced. Accurcy\n",
        "#     BACC[i] = balanced_accuracy_score(Y_true_test.squeeze(), pred_2.argmax(axis=1).squeeze(), adjusted=True)\n",
        "#     print(\"Validation Balanced_ACC: %.4f\" % (float(BACC[i])))\n",
        "\n",
        "#     #MI\n",
        "    \n",
        "#     MI[i] = mutual_info_score(Y_true_test.squeeze(), pred_2.argmax(axis=1).squeeze())\n",
        "#     print(\"Validation MI: %.4f\" % (float(MI[i]),))\n",
        "#     NMI[i] = normalized_mutual_info_score(Y_true_test.squeeze(), pred_2.argmax(axis=1).squeeze())\n",
        "#     print(\"Validation Normalized MI: %.4f\" % (float(NMI[i]),))\n",
        "#     AMI[i]= adjusted_mutual_info_score(Y_true_test.squeeze(), pred_2.argmax(axis=1).squeeze())\n",
        "#     print(\"Validation Adjusted MI: %.4f\" % (float(AMI[i]),))\n",
        "\n",
        "\n",
        "#     #AUC\n",
        "#     val_AUC_metric = tf.keras.metrics.AUC( from_logits = True)  \n",
        "#    # val_logits =MA.predict(X_test) # model(X_test, training=False)\n",
        "#     # tf.print(y_batch_val)\n",
        "#     val_AUC_metric.update_state(Y_true_test, pred_2.argmax(axis=1).astype('float'))\n",
        "\n",
        "#     val_AUC = val_AUC_metric.result()\n",
        "#     val_AUC_metric.reset_states()\n",
        "#     val_AUC = val_AUC.numpy()\n",
        "#     print(\"Validation aUc: %.4f\" % (float(val_AUC),))\n",
        "#     AUC[i] = val_AUC\n",
        "    "
      ],
      "metadata": {
        "id": "bICSrgdQ2A9m"
      },
      "id": "bICSrgdQ2A9m",
      "execution_count": 32,
      "outputs": []
    },
    {
      "cell_type": "code",
      "source": [],
      "metadata": {
        "id": "1GfWOtUcfEPu"
      },
      "id": "1GfWOtUcfEPu",
      "execution_count": 32,
      "outputs": []
    },
    {
      "cell_type": "code",
      "source": [
        "from sklearn.metrics import classification_report, balanced_accuracy_score, roc_auc_score\n",
        "from sklearn.metrics import normalized_mutual_info_score, mutual_info_score, adjusted_mutual_info_score\n",
        "import pandas as pd\n",
        "l1 =0.0001\n",
        "NUM_RUNS =10\n",
        "custom_loss = \"GOLD\"\n",
        "\n",
        "\n",
        "results = []\n",
        "for i in range(NUM_RUNS):\n",
        "\n",
        "    print(\"iteration: \" + str(i))\n",
        "   \n",
        "    MA = Keras_MA_GCCE(epochs=100,batch_size=256,R=5, K=len(np.unique(Y_true_train)), dropout=0.5, learning_rate=0.001,optimizer='Adam', \n",
        "                l1_param=l1,  validation_split=0.30, verbose=0, q=0.1)\n",
        "\n",
        "\n",
        "    MA.fit(X_train, Y_true_train)\n",
        "    MA.plot_history()\n",
        "  \n",
        "    # Generate the predictions for the current run\n",
        "    pred_2 = MA.predict(X_test)\n",
        "     \n",
        "    acc, auc, auc_sk,  nmi,  bacc = evaluation_metrics(Y_true_test,  pred_2, print_result=True)  # mi, ami,\n",
        "    \n",
        "    # Save the results for the current run to the list of dictionaries\n",
        "    results.append({\n",
        "        #'run': i,\n",
        "        'accuracy': acc,\n",
        "        'balanced_accuracy': bacc,\n",
        "       # 'mutual_information': mi,\n",
        "        'normalized_mutual_information': nmi,\n",
        "     #   'adjusted_mutual_information': ami,\n",
        "        'auc_tensorflow': auc,\n",
        "        'auc_scikit_learn': auc_sk,\n",
        "    })\n",
        "    \n",
        "# Convert the list of dictionaries to a DataFrame\n",
        "df = np.round(pd.DataFrame(results)*100, 2)\n",
        "\n",
        "# Calculate the mean and standard deviation of each metric\n",
        "mean = np.round(df.mean(),2)\n",
        "std = np.round(df.std(),2)  \n"
      ],
      "metadata": {
        "id": "mvwIORysX-z4",
        "outputId": "113f9884-44aa-4906-8d49-1b7f0f2e8a52",
        "colab": {
          "base_uri": "https://localhost:8080/",
          "height": 1000
        }
      },
      "execution_count": 33,
      "outputs": [
        {
          "output_type": "stream",
          "name": "stdout",
          "text": [
            "iteration: 0\n"
          ]
        },
        {
          "output_type": "display_data",
          "data": {
            "text/plain": [
              "<Figure size 576x360 with 1 Axes>"
            ],
            "image/png": "[encoded data removed]"
          },
          "metadata": {
            "needs_background": "light"
          }
        },
        {
          "output_type": "stream",
          "name": "stdout",
          "text": [
            "2298/2298 [==============================] - 3s 1ms/step\n",
            "Accuracy: 0.9979\n",
            "Balanced Accuracy: 0.9967\n",
            "Normalized Mutual Information: 0.9735\n",
            "AUC (Tensorflow): 0.9984\n",
            "AUC (scikit-learn): 0.9998\n",
            "iteration: 1\n"
          ]
        },
        {
          "output_type": "display_data",
          "data": {
            "text/plain": [
              "<Figure size 576x360 with 1 Axes>"
            ],
            "image/png": "[encoded data removed]"
          },
          "metadata": {
            "needs_background": "light"
          }
        },
        {
          "output_type": "stream",
          "name": "stdout",
          "text": [
            "2298/2298 [==============================] - 5s 2ms/step\n",
            "Accuracy: 0.9978\n",
            "Balanced Accuracy: 0.9952\n",
            "Normalized Mutual Information: 0.9712\n",
            "AUC (Tensorflow): 0.9976\n",
            "AUC (scikit-learn): 0.9998\n",
            "iteration: 2\n"
          ]
        },
        {
          "output_type": "display_data",
          "data": {
            "text/plain": [
              "<Figure size 576x360 with 1 Axes>"
            ],
            "image/png": "[encoded data removed]"
          },
          "metadata": {
            "needs_background": "light"
          }
        },
        {
          "output_type": "stream",
          "name": "stdout",
          "text": [
            "2298/2298 [==============================] - 3s 1ms/step\n",
            "Accuracy: 0.9981\n",
            "Balanced Accuracy: 0.9966\n",
            "Normalized Mutual Information: 0.9748\n",
            "AUC (Tensorflow): 0.9983\n",
            "AUC (scikit-learn): 0.9998\n",
            "iteration: 3\n"
          ]
        },
        {
          "output_type": "display_data",
          "data": {
            "text/plain": [
              "<Figure size 576x360 with 1 Axes>"
            ],
            "image/png": "[encoded data removed]"
          },
          "metadata": {
            "needs_background": "light"
          }
        },
        {
          "output_type": "stream",
          "name": "stdout",
          "text": [
            "2298/2298 [==============================] - 3s 1ms/step\n",
            "Accuracy: 0.9977\n",
            "Balanced Accuracy: 0.9955\n",
            "Normalized Mutual Information: 0.9705\n",
            "AUC (Tensorflow): 0.9978\n",
            "AUC (scikit-learn): 0.9998\n",
            "iteration: 4\n"
          ]
        },
        {
          "output_type": "display_data",
          "data": {
            "text/plain": [
              "<Figure size 576x360 with 1 Axes>"
            ],
            "image/png": "[encoded data removed]"
          },
          "metadata": {
            "needs_background": "light"
          }
        },
        {
          "output_type": "stream",
          "name": "stdout",
          "text": [
            "2298/2298 [==============================] - 3s 1ms/step\n",
            "Accuracy: 0.9981\n",
            "Balanced Accuracy: 0.9966\n",
            "Normalized Mutual Information: 0.9748\n",
            "AUC (Tensorflow): 0.9983\n",
            "AUC (scikit-learn): 0.9998\n",
            "iteration: 5\n"
          ]
        },
        {
          "output_type": "display_data",
          "data": {
            "text/plain": [
              "<Figure size 576x360 with 1 Axes>"
            ],
            "image/png": "[encoded data removed]"
          },
          "metadata": {
            "needs_background": "light"
          }
        },
        {
          "output_type": "stream",
          "name": "stdout",
          "text": [
            "2298/2298 [==============================] - 4s 2ms/step\n",
            "Accuracy: 0.9974\n",
            "Balanced Accuracy: 0.9965\n",
            "Normalized Mutual Information: 0.9684\n",
            "AUC (Tensorflow): 0.9982\n",
            "AUC (scikit-learn): 0.9998\n",
            "iteration: 6\n"
          ]
        },
        {
          "output_type": "display_data",
          "data": {
            "text/plain": [
              "<Figure size 576x360 with 1 Axes>"
            ],
            "image/png": "[encoded data removed]"
          },
          "metadata": {
            "needs_background": "light"
          }
        },
        {
          "output_type": "stream",
          "name": "stdout",
          "text": [
            "2298/2298 [==============================] - 3s 1ms/step\n",
            "Accuracy: 0.9979\n",
            "Balanced Accuracy: 0.9967\n",
            "Normalized Mutual Information: 0.9729\n",
            "AUC (Tensorflow): 0.9983\n",
            "AUC (scikit-learn): 0.9998\n",
            "iteration: 7\n"
          ]
        },
        {
          "output_type": "display_data",
          "data": {
            "text/plain": [
              "<Figure size 576x360 with 1 Axes>"
            ],
            "image/png": "[encoded data removed]"
          },
          "metadata": {
            "needs_background": "light"
          }
        },
        {
          "output_type": "stream",
          "name": "stdout",
          "text": [
            "2298/2298 [==============================] - 4s 2ms/step\n",
            "Accuracy: 0.9977\n",
            "Balanced Accuracy: 0.9967\n",
            "Normalized Mutual Information: 0.9713\n",
            "AUC (Tensorflow): 0.9983\n",
            "AUC (scikit-learn): 0.9998\n",
            "iteration: 8\n"
          ]
        },
        {
          "output_type": "display_data",
          "data": {
            "text/plain": [
              "<Figure size 576x360 with 1 Axes>"
            ],
            "image/png": "[encoded data removed]"
          },
          "metadata": {
            "needs_background": "light"
          }
        },
        {
          "output_type": "stream",
          "name": "stdout",
          "text": [
            "2298/2298 [==============================] - 3s 1ms/step\n",
            "Accuracy: 0.9979\n",
            "Balanced Accuracy: 0.9971\n",
            "Normalized Mutual Information: 0.9733\n",
            "AUC (Tensorflow): 0.9985\n",
            "AUC (scikit-learn): 0.9998\n",
            "iteration: 9\n"
          ]
        },
        {
          "output_type": "display_data",
          "data": {
            "text/plain": [
              "<Figure size 576x360 with 1 Axes>"
            ],
            "image/png": "[encoded data removed]"
          },
          "metadata": {
            "needs_background": "light"
          }
        },
        {
          "output_type": "stream",
          "name": "stdout",
          "text": [
            "2298/2298 [==============================] - 3s 1ms/step\n",
            "Accuracy: 0.9979\n",
            "Balanced Accuracy: 0.9965\n",
            "Normalized Mutual Information: 0.9728\n",
            "AUC (Tensorflow): 0.9983\n",
            "AUC (scikit-learn): 0.9998\n"
          ]
        }
      ],
      "id": "mvwIORysX-z4"
    },
    {
      "cell_type": "code",
      "source": [
        "df"
      ],
      "metadata": {
        "id": "ispxoor_q6DN",
        "outputId": "c8146d5c-5c0c-4a4b-9905-3079082c58b7",
        "colab": {
          "base_uri": "https://localhost:8080/",
          "height": 363
        }
      },
      "execution_count": 34,
      "outputs": [
        {
          "output_type": "execute_result",
          "data": {
            "text/plain": [
              "   accuracy  balanced_accuracy  normalized_mutual_information  auc_tensorflow  \\\n",
              "0     99.79              99.67                          97.35       99.839996   \n",
              "1     99.78              99.52                          97.12       99.760002   \n",
              "2     99.81              99.66                          97.48       99.830002   \n",
              "3     99.77              99.55                          97.05       99.779999   \n",
              "4     99.81              99.66                          97.48       99.830002   \n",
              "5     99.74              99.65                          96.84       99.820000   \n",
              "6     99.79              99.67                          97.29       99.830002   \n",
              "7     99.77              99.67                          97.13       99.830002   \n",
              "8     99.79              99.71                          97.33       99.849998   \n",
              "9     99.79              99.65                          97.28       99.830002   \n",
              "\n",
              "   auc_scikit_learn  \n",
              "0             99.98  \n",
              "1             99.98  \n",
              "2             99.98  \n",
              "3             99.98  \n",
              "4             99.98  \n",
              "5             99.98  \n",
              "6             99.98  \n",
              "7             99.98  \n",
              "8             99.98  \n",
              "9             99.98  "
            ],
            "text/html": [
              "\n",
              "  <div id=\"df-0183e661-c13e-4277-9624-a78c8da0c46f\">\n",
              "    <div class=\"colab-df-container\">\n",
              "      <div>\n",
              "<style scoped>\n",
              "    .dataframe tbody tr th:only-of-type {\n",
              "        vertical-align: middle;\n",
              "    }\n",
              "\n",
              "    .dataframe tbody tr th {\n",
              "        vertical-align: top;\n",
              "    }\n",
              "\n",
              "    .dataframe thead th {\n",
              "        text-align: right;\n",
              "    }\n",
              "</style>\n",
              "<table border=\"1\" class=\"dataframe\">\n",
              "  <thead>\n",
              "    <tr style=\"text-align: right;\">\n",
              "      <th></th>\n",
              "      <th>accuracy</th>\n",
              "      <th>balanced_accuracy</th>\n",
              "      <th>normalized_mutual_information</th>\n",
              "      <th>auc_tensorflow</th>\n",
              "      <th>auc_scikit_learn</th>\n",
              "    </tr>\n",
              "  </thead>\n",
              "  <tbody>\n",
              "    <tr>\n",
              "      <th>0</th>\n",
              "      <td>99.79</td>\n",
              "      <td>99.67</td>\n",
              "      <td>97.35</td>\n",
              "      <td>99.839996</td>\n",
              "      <td>99.98</td>\n",
              "    </tr>\n",
              "    <tr>\n",
              "      <th>1</th>\n",
              "      <td>99.78</td>\n",
              "      <td>99.52</td>\n",
              "      <td>97.12</td>\n",
              "      <td>99.760002</td>\n",
              "      <td>99.98</td>\n",
              "    </tr>\n",
              "    <tr>\n",
              "      <th>2</th>\n",
              "      <td>99.81</td>\n",
              "      <td>99.66</td>\n",
              "      <td>97.48</td>\n",
              "      <td>99.830002</td>\n",
              "      <td>99.98</td>\n",
              "    </tr>\n",
              "    <tr>\n",
              "      <th>3</th>\n",
              "      <td>99.77</td>\n",
              "      <td>99.55</td>\n",
              "      <td>97.05</td>\n",
              "      <td>99.779999</td>\n",
              "      <td>99.98</td>\n",
              "    </tr>\n",
              "    <tr>\n",
              "      <th>4</th>\n",
              "      <td>99.81</td>\n",
              "      <td>99.66</td>\n",
              "      <td>97.48</td>\n",
              "      <td>99.830002</td>\n",
              "      <td>99.98</td>\n",
              "    </tr>\n",
              "    <tr>\n",
              "      <th>5</th>\n",
              "      <td>99.74</td>\n",
              "      <td>99.65</td>\n",
              "      <td>96.84</td>\n",
              "      <td>99.820000</td>\n",
              "      <td>99.98</td>\n",
              "    </tr>\n",
              "    <tr>\n",
              "      <th>6</th>\n",
              "      <td>99.79</td>\n",
              "      <td>99.67</td>\n",
              "      <td>97.29</td>\n",
              "      <td>99.830002</td>\n",
              "      <td>99.98</td>\n",
              "    </tr>\n",
              "    <tr>\n",
              "      <th>7</th>\n",
              "      <td>99.77</td>\n",
              "      <td>99.67</td>\n",
              "      <td>97.13</td>\n",
              "      <td>99.830002</td>\n",
              "      <td>99.98</td>\n",
              "    </tr>\n",
              "    <tr>\n",
              "      <th>8</th>\n",
              "      <td>99.79</td>\n",
              "      <td>99.71</td>\n",
              "      <td>97.33</td>\n",
              "      <td>99.849998</td>\n",
              "      <td>99.98</td>\n",
              "    </tr>\n",
              "    <tr>\n",
              "      <th>9</th>\n",
              "      <td>99.79</td>\n",
              "      <td>99.65</td>\n",
              "      <td>97.28</td>\n",
              "      <td>99.830002</td>\n",
              "      <td>99.98</td>\n",
              "    </tr>\n",
              "  </tbody>\n",
              "</table>\n",
              "</div>\n",
              "      <button class=\"colab-df-convert\" onclick=\"convertToInteractive('df-0183e661-c13e-4277-9624-a78c8da0c46f')\"\n",
              "              title=\"Convert this dataframe to an interactive table.\"\n",
              "              style=\"display:none;\">\n",
              "        \n",
              "  <svg xmlns=\"http://www.w3.org/2000/svg\" height=\"24px\"viewBox=\"0 0 24 24\"\n",
              "       width=\"24px\">\n",
              "    <path d=\"M0 0h24v24H0V0z\" fill=\"none\"/>\n",
              "    <path d=\"M18.56 5.44l.94 2.06.94-2.06 2.06-.94-2.06-.94-.94-2.06-.94 2.06-2.06.94zm-11 1L8.5 8.5l.94-2.06 2.06-.94-2.06-.94L8.5 2.5l-.94 2.06-2.06.94zm10 10l.94 2.06.94-2.06 2.06-.94-2.06-.94-.94-2.06-.94 2.06-2.06.94z\"/><path d=\"M17.41 7.96l-1.37-1.37c-.4-.4-.92-.59-1.43-.59-.52 0-1.04.2-1.43.59L10.3 9.45l-7.72 7.72c-.78.78-.78 2.05 0 2.83L4 21.41c.39.39.9.59 1.41.59.51 0 1.02-.2 1.41-.59l7.78-7.78 2.81-2.81c.8-.78.8-2.07 0-2.86zM5.41 20L4 18.59l7.72-7.72 1.47 1.35L5.41 20z\"/>\n",
              "  </svg>\n",
              "      </button>\n",
              "      \n",
              "  <style>\n",
              "    .colab-df-container {\n",
              "      display:flex;\n",
              "      flex-wrap:wrap;\n",
              "      gap: 12px;\n",
              "    }\n",
              "\n",
              "    .colab-df-convert {\n",
              "      background-color: #E8F0FE;\n",
              "      border: none;\n",
              "      border-radius: 50%;\n",
              "      cursor: pointer;\n",
              "      display: none;\n",
              "      fill: #1967D2;\n",
              "      height: 32px;\n",
              "      padding: 0 0 0 0;\n",
              "      width: 32px;\n",
              "    }\n",
              "\n",
              "    .colab-df-convert:hover {\n",
              "      background-color: #E2EBFA;\n",
              "      box-shadow: 0px 1px 2px rgba(60, 64, 67, 0.3), 0px 1px 3px 1px rgba(60, 64, 67, 0.15);\n",
              "      fill: #174EA6;\n",
              "    }\n",
              "\n",
              "    [theme=dark] .colab-df-convert {\n",
              "      background-color: #3B4455;\n",
              "      fill: #D2E3FC;\n",
              "    }\n",
              "\n",
              "    [theme=dark] .colab-df-convert:hover {\n",
              "      background-color: #434B5C;\n",
              "      box-shadow: 0px 1px 3px 1px rgba(0, 0, 0, 0.15);\n",
              "      filter: drop-shadow(0px 1px 2px rgba(0, 0, 0, 0.3));\n",
              "      fill: #FFFFFF;\n",
              "    }\n",
              "  </style>\n",
              "\n",
              "      <script>\n",
              "        const buttonEl =\n",
              "          document.querySelector('#df-0183e661-c13e-4277-9624-a78c8da0c46f button.colab-df-convert');\n",
              "        buttonEl.style.display =\n",
              "          google.colab.kernel.accessAllowed ? 'block' : 'none';\n",
              "\n",
              "        async function convertToInteractive(key) {\n",
              "          const element = document.querySelector('#df-0183e661-c13e-4277-9624-a78c8da0c46f');\n",
              "          const dataTable =\n",
              "            await google.colab.kernel.invokeFunction('convertToInteractive',\n",
              "                                                     [key], {});\n",
              "          if (!dataTable) return;\n",
              "\n",
              "          const docLinkHtml = 'Like what you see? Visit the ' +\n",
              "            '<a target=\"_blank\" href=https://colab.research.google.com/notebooks/data_table.ipynb>data table notebook</a>'\n",
              "            + ' to learn more about interactive tables.';\n",
              "          element.innerHTML = '';\n",
              "          dataTable['output_type'] = 'display_data';\n",
              "          await google.colab.output.renderOutput(dataTable, element);\n",
              "          const docLink = document.createElement('div');\n",
              "          docLink.innerHTML = docLinkHtml;\n",
              "          element.appendChild(docLink);\n",
              "        }\n",
              "      </script>\n",
              "    </div>\n",
              "  </div>\n",
              "  "
            ]
          },
          "metadata": {},
          "execution_count": 34
        }
      ],
      "id": "ispxoor_q6DN"
    },
    {
      "cell_type": "code",
      "source": [
        "mean"
      ],
      "metadata": {
        "id": "whTSUvCJq_bf",
        "outputId": "69118a68-f22f-4ebf-c69d-46672d0641de",
        "colab": {
          "base_uri": "https://localhost:8080/"
        }
      },
      "execution_count": 35,
      "outputs": [
        {
          "output_type": "execute_result",
          "data": {
            "text/plain": [
              "accuracy                         99.78\n",
              "balanced_accuracy                99.64\n",
              "normalized_mutual_information    97.24\n",
              "auc_tensorflow                   99.82\n",
              "auc_scikit_learn                 99.98\n",
              "dtype: float64"
            ]
          },
          "metadata": {},
          "execution_count": 35
        }
      ],
      "id": "whTSUvCJq_bf"
    },
    {
      "cell_type": "code",
      "source": [
        "std"
      ],
      "metadata": {
        "id": "PH_iucZ1rJDD",
        "outputId": "7840a3b4-7b80-427c-bfff-c36534a80f25",
        "colab": {
          "base_uri": "https://localhost:8080/"
        }
      },
      "execution_count": 36,
      "outputs": [
        {
          "output_type": "execute_result",
          "data": {
            "text/plain": [
              "accuracy                         0.02\n",
              "balanced_accuracy                0.06\n",
              "normalized_mutual_information    0.20\n",
              "auc_tensorflow                   0.03\n",
              "auc_scikit_learn                 0.00\n",
              "dtype: float64"
            ]
          },
          "metadata": {},
          "execution_count": 36
        }
      ],
      "id": "PH_iucZ1rJDD"
    },
    {
      "cell_type": "code",
      "source": [
        "result_df = pd.concat([mean.rename('Mean'), std.rename('Std')], axis=1)"
      ],
      "metadata": {
        "id": "IZWYJ4cZus0i"
      },
      "execution_count": 37,
      "outputs": [],
      "id": "IZWYJ4cZus0i"
    },
    {
      "cell_type": "code",
      "source": [
        "result_df"
      ],
      "metadata": {
        "id": "j5oR79xIvOJf",
        "outputId": "1f4dac6b-34d1-4179-c7d7-6214a8b10a97",
        "colab": {
          "base_uri": "https://localhost:8080/",
          "height": 206
        }
      },
      "execution_count": 38,
      "outputs": [
        {
          "output_type": "execute_result",
          "data": {
            "text/plain": [
              "                                Mean   Std\n",
              "accuracy                       99.78  0.02\n",
              "balanced_accuracy              99.64  0.06\n",
              "normalized_mutual_information  97.24  0.20\n",
              "auc_tensorflow                 99.82  0.03\n",
              "auc_scikit_learn               99.98  0.00"
            ],
            "text/html": [
              "\n",
              "  <div id=\"df-768bac7e-b353-4b15-83e0-d98295c3e106\">\n",
              "    <div class=\"colab-df-container\">\n",
              "      <div>\n",
              "<style scoped>\n",
              "    .dataframe tbody tr th:only-of-type {\n",
              "        vertical-align: middle;\n",
              "    }\n",
              "\n",
              "    .dataframe tbody tr th {\n",
              "        vertical-align: top;\n",
              "    }\n",
              "\n",
              "    .dataframe thead th {\n",
              "        text-align: right;\n",
              "    }\n",
              "</style>\n",
              "<table border=\"1\" class=\"dataframe\">\n",
              "  <thead>\n",
              "    <tr style=\"text-align: right;\">\n",
              "      <th></th>\n",
              "      <th>Mean</th>\n",
              "      <th>Std</th>\n",
              "    </tr>\n",
              "  </thead>\n",
              "  <tbody>\n",
              "    <tr>\n",
              "      <th>accuracy</th>\n",
              "      <td>99.78</td>\n",
              "      <td>0.02</td>\n",
              "    </tr>\n",
              "    <tr>\n",
              "      <th>balanced_accuracy</th>\n",
              "      <td>99.64</td>\n",
              "      <td>0.06</td>\n",
              "    </tr>\n",
              "    <tr>\n",
              "      <th>normalized_mutual_information</th>\n",
              "      <td>97.24</td>\n",
              "      <td>0.20</td>\n",
              "    </tr>\n",
              "    <tr>\n",
              "      <th>auc_tensorflow</th>\n",
              "      <td>99.82</td>\n",
              "      <td>0.03</td>\n",
              "    </tr>\n",
              "    <tr>\n",
              "      <th>auc_scikit_learn</th>\n",
              "      <td>99.98</td>\n",
              "      <td>0.00</td>\n",
              "    </tr>\n",
              "  </tbody>\n",
              "</table>\n",
              "</div>\n",
              "      <button class=\"colab-df-convert\" onclick=\"convertToInteractive('df-768bac7e-b353-4b15-83e0-d98295c3e106')\"\n",
              "              title=\"Convert this dataframe to an interactive table.\"\n",
              "              style=\"display:none;\">\n",
              "        \n",
              "  <svg xmlns=\"http://www.w3.org/2000/svg\" height=\"24px\"viewBox=\"0 0 24 24\"\n",
              "       width=\"24px\">\n",
              "    <path d=\"M0 0h24v24H0V0z\" fill=\"none\"/>\n",
              "    <path d=\"M18.56 5.44l.94 2.06.94-2.06 2.06-.94-2.06-.94-.94-2.06-.94 2.06-2.06.94zm-11 1L8.5 8.5l.94-2.06 2.06-.94-2.06-.94L8.5 2.5l-.94 2.06-2.06.94zm10 10l.94 2.06.94-2.06 2.06-.94-2.06-.94-.94-2.06-.94 2.06-2.06.94z\"/><path d=\"M17.41 7.96l-1.37-1.37c-.4-.4-.92-.59-1.43-.59-.52 0-1.04.2-1.43.59L10.3 9.45l-7.72 7.72c-.78.78-.78 2.05 0 2.83L4 21.41c.39.39.9.59 1.41.59.51 0 1.02-.2 1.41-.59l7.78-7.78 2.81-2.81c.8-.78.8-2.07 0-2.86zM5.41 20L4 18.59l7.72-7.72 1.47 1.35L5.41 20z\"/>\n",
              "  </svg>\n",
              "      </button>\n",
              "      \n",
              "  <style>\n",
              "    .colab-df-container {\n",
              "      display:flex;\n",
              "      flex-wrap:wrap;\n",
              "      gap: 12px;\n",
              "    }\n",
              "\n",
              "    .colab-df-convert {\n",
              "      background-color: #E8F0FE;\n",
              "      border: none;\n",
              "      border-radius: 50%;\n",
              "      cursor: pointer;\n",
              "      display: none;\n",
              "      fill: #1967D2;\n",
              "      height: 32px;\n",
              "      padding: 0 0 0 0;\n",
              "      width: 32px;\n",
              "    }\n",
              "\n",
              "    .colab-df-convert:hover {\n",
              "      background-color: #E2EBFA;\n",
              "      box-shadow: 0px 1px 2px rgba(60, 64, 67, 0.3), 0px 1px 3px 1px rgba(60, 64, 67, 0.15);\n",
              "      fill: #174EA6;\n",
              "    }\n",
              "\n",
              "    [theme=dark] .colab-df-convert {\n",
              "      background-color: #3B4455;\n",
              "      fill: #D2E3FC;\n",
              "    }\n",
              "\n",
              "    [theme=dark] .colab-df-convert:hover {\n",
              "      background-color: #434B5C;\n",
              "      box-shadow: 0px 1px 3px 1px rgba(0, 0, 0, 0.15);\n",
              "      filter: drop-shadow(0px 1px 2px rgba(0, 0, 0, 0.3));\n",
              "      fill: #FFFFFF;\n",
              "    }\n",
              "  </style>\n",
              "\n",
              "      <script>\n",
              "        const buttonEl =\n",
              "          document.querySelector('#df-768bac7e-b353-4b15-83e0-d98295c3e106 button.colab-df-convert');\n",
              "        buttonEl.style.display =\n",
              "          google.colab.kernel.accessAllowed ? 'block' : 'none';\n",
              "\n",
              "        async function convertToInteractive(key) {\n",
              "          const element = document.querySelector('#df-768bac7e-b353-4b15-83e0-d98295c3e106');\n",
              "          const dataTable =\n",
              "            await google.colab.kernel.invokeFunction('convertToInteractive',\n",
              "                                                     [key], {});\n",
              "          if (!dataTable) return;\n",
              "\n",
              "          const docLinkHtml = 'Like what you see? Visit the ' +\n",
              "            '<a target=\"_blank\" href=https://colab.research.google.com/notebooks/data_table.ipynb>data table notebook</a>'\n",
              "            + ' to learn more about interactive tables.';\n",
              "          element.innerHTML = '';\n",
              "          dataTable['output_type'] = 'display_data';\n",
              "          await google.colab.output.renderOutput(dataTable, element);\n",
              "          const docLink = document.createElement('div');\n",
              "          docLink.innerHTML = docLinkHtml;\n",
              "          element.appendChild(docLink);\n",
              "        }\n",
              "      </script>\n",
              "    </div>\n",
              "  </div>\n",
              "  "
            ]
          },
          "metadata": {},
          "execution_count": 38
        }
      ],
      "id": "j5oR79xIvOJf"
    },
    {
      "cell_type": "code",
      "source": [
        "# Save the DataFrame to an excel file\n",
        "result_df.to_excel(database + custom_loss + \".xlsx\")"
      ],
      "metadata": {
        "id": "wrsupD_Qshl2"
      },
      "execution_count": 39,
      "outputs": [],
      "id": "wrsupD_Qshl2"
    }
  ],
  "metadata": {
    "kernelspec": {
      "display_name": "Python 3",
      "language": "python",
      "name": "python3"
    },
    "language_info": {
      "codemirror_mode": {
        "name": "ipython",
        "version": 3
      },
      "file_extension": ".py",
      "mimetype": "text/x-python",
      "name": "python",
      "nbconvert_exporter": "python",
      "pygments_lexer": "ipython3",
      "version": "3.7.12"
    },
    "papermill": {
      "default_parameters": {},
      "duration": 1924.690371,
      "end_time": "2022-10-25T15:59:03.470599",
      "environment_variables": {},
      "exception": null,
      "input_path": "__notebook__.ipynb",
      "output_path": "__notebook__.ipynb",
      "parameters": {},
      "start_time": "2022-10-25T15:26:58.780228",
      "version": "2.3.4"
    },
    "colab": {
      "provenance": [],
      "include_colab_link": true
    },
    "accelerator": "GPU",
    "gpuClass": "standard"
  },
  "nbformat": 4,
  "nbformat_minor": 5
}