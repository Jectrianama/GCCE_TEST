{
  "cells": [
    {
      "cell_type": "markdown",
      "metadata": {
        "id": "view-in-github",
        "colab_type": "text"
      },
      "source": [
        "<a href=\"https://colab.research.google.com/github/Jectrianama/GCCE_TEST/blob/main/RCDNN1/fft_western_RCDNN.ipynb\" target=\"_parent\"><img src=\"https://colab.research.google.com/assets/colab-badge.svg\" alt=\"Open In Colab\"/></a>"
      ]
    },
    {
      "cell_type": "markdown",
      "id": "80943ca4",
      "metadata": {
        "id": "80943ca4",
        "papermill": {
          "duration": 0.012239,
          "end_time": "2022-10-24T23:56:35.509614",
          "exception": false,
          "start_time": "2022-10-24T23:56:35.497375",
          "status": "completed"
        },
        "tags": []
      },
      "source": [
        "# Multiscale Permutation Entropy using feature relevance analysis for vibration-based condition monitoring\n",
        "\n",
        "## Case Western Reserve Experiments\n",
        "\n",
        "Database link: https://engineering.case.edu/bearingdatacenter\n",
        "\n",
        "Vibration signals were collected according to the following conditions (classes): i) Normal bearing (Nor), fault in the internal train (IR1), fault in the external train (IR2), and fault in the rolling element-ball (BE). Moreover, the failure states were produced with three levels of severity (0.007′′, 0.014′′, and 0.021′′) and three operating speeds (1730, 1750, 1772, and 1797 [rpm]). Each experiment was repeated three times, and the data was collected at 12 kHz for 5 seconds. Each signal was divided into ten sub-signals. \n",
        "\n",
        "Accordingly, $F_s=12k$ [Hz], $N = 1200$, $T = 4096$, $C = 10$."
      ]
    },
    {
      "cell_type": "code",
      "source": [
        "import tensorflow as tf\n",
        "from sklearn.metrics import classification_report, accuracy_score, balanced_accuracy_score, roc_auc_score, mutual_info_score, normalized_mutual_info_score, adjusted_mutual_info_score\n",
        "from sklearn.preprocessing import LabelBinarizer\n",
        "from sklearn.preprocessing import OneHotEncoder\n",
        "from scipy.stats import mode \n",
        "import numpy as np\n",
        "\n",
        "def ook(t):\n",
        "  lb = LabelBinarizer()\n",
        "  y_ook = lb.fit_transform(t)  \n",
        "\n",
        "  if len(np.unique(t))==2:\n",
        "    y_ook = np.concatenate((1-y_ook.astype(bool), y_ook), axis = 1) \n",
        "\n",
        "  return y_ook\n",
        "\n",
        " \n",
        "\n",
        "def evaluation_metrics(y_true, y_pred, print_result=True):\n",
        "    acc = 0\n",
        "    auc = 0\n",
        "    auc_sk = 0\n",
        "    #mi = 0\n",
        "    nmi = 0\n",
        "    #ami = 0\n",
        "    bacc = 0\n",
        "    \n",
        "    # Accuracy\n",
        "    #report = classification_report(y_pred.argmax(axis=1), y_true.ravel(), output_dict=True)\n",
        "    acc = accuracy_score( y_true.ravel(), y_pred.argmax(axis=1))  #report['accuracy']\n",
        "    \n",
        "    # Balanced accuracy\n",
        "    bacc = balanced_accuracy_score(y_true.squeeze(), y_pred.argmax(axis=1).squeeze(), adjusted=True)\n",
        "    \n",
        "   # # Mutual Information\n",
        "   # mi = mutual_info_score(y_true.squeeze(), y_pred.argmax(axis=1).squeeze())\n",
        "    \n",
        "    # Normalized Mutual Information\n",
        "    nmi = normalized_mutual_info_score(y_true.squeeze(), y_pred.argmax(axis=1).squeeze())\n",
        "    \n",
        "    # Adjusted Mutual Information\n",
        "    #ami = adjusted_mutual_info_score(y_true.squeeze(), y_pred.argmax(axis=1).squeeze())\n",
        "    \n",
        "    # AUC (Tensorflow)\n",
        "    auc_metric = tf.keras.metrics.AUC(from_logits=True)\n",
        "    auc_metric.update_state(y_true, y_pred.argmax(axis=1).astype('float'))\n",
        "    auc = auc_metric.result().numpy()\n",
        "    auc_metric.reset_states()\n",
        "    \n",
        "    # AUC (scikit-learn)\n",
        "    auc_sk = roc_auc_score(ook(y_true), y_pred)\n",
        "    \n",
        "    if print_result:\n",
        "        print(\"Accuracy: {:.4f}\".format(acc))\n",
        "        print(\"Balanced Accuracy: {:.4f}\".format(bacc))\n",
        "        print(\"Mutual Information: {:.4f}\".format(mi))\n",
        "        print(\"Normalized Mutual Information: {:.4f}\".format(nmi))\n",
        "        print(\"Adjusted Mutual Information: {:.4f}\".format(ami))\n",
        "        print(\"AUC (Tensorflow): {:.4f}\".format(auc))\n",
        "        print(\"AUC (scikit-learn): {:.4f}\".format(auc_sk))\n",
        "    \n",
        "    return acc, auc, auc_sk, nmi, bacc   # mi, , ami\n",
        "\n",
        "\n"
      ],
      "metadata": {
        "id": "SZdi3-zQHEq6"
      },
      "id": "SZdi3-zQHEq6",
      "execution_count": 1,
      "outputs": []
    },
    {
      "cell_type": "code",
      "source": [
        "!git clone https://github.com/Jectrianama/GCCE_TEST.git"
      ],
      "metadata": {
        "colab": {
          "base_uri": "https://localhost:8080/"
        },
        "id": "byULw2lxP5bt",
        "outputId": "de67be25-e088-4896-f6b9-69ad13cb73f1"
      },
      "execution_count": 2,
      "outputs": [
        {
          "output_type": "stream",
          "name": "stdout",
          "text": [
            "Cloning into 'GCCE_TEST'...\n",
            "remote: Enumerating objects: 749, done.\u001b[K\n",
            "remote: Counting objects: 100% (342/342), done.\u001b[K\n",
            "remote: Compressing objects: 100% (214/214), done.\u001b[K\n",
            "remote: Total 749 (delta 184), reused 215 (delta 122), pack-reused 407\u001b[K\n",
            "Receiving objects: 100% (749/749), 33.62 MiB | 7.30 MiB/s, done.\n",
            "Resolving deltas: 100% (352/352), done.\n",
            "Updating files: 100% (137/137), done.\n"
          ]
        }
      ],
      "id": "byULw2lxP5bt"
    },
    {
      "cell_type": "code",
      "source": [
        "import os\n",
        "os.chdir('/content/GCCE_TEST/Models')\n",
        "from  keras_ma_gcce import *\n",
        "from labels_generation import MA_Clas_Gen\n",
        "os.chdir('../../')"
      ],
      "metadata": {
        "id": "4h9KwfCKQAlr"
      },
      "execution_count": 3,
      "outputs": [],
      "id": "4h9KwfCKQAlr"
    },
    {
      "cell_type": "code",
      "execution_count": 4,
      "id": "36d7ca57",
      "metadata": {
        "execution": {
          "iopub.execute_input": "2022-10-24T23:56:43.750481Z",
          "iopub.status.busy": "2022-10-24T23:56:43.749813Z",
          "iopub.status.idle": "2022-10-24T23:56:43.956137Z",
          "shell.execute_reply": "2022-10-24T23:56:43.955226Z"
        },
        "papermill": {
          "duration": 0.221398,
          "end_time": "2022-10-24T23:56:43.959042",
          "exception": false,
          "start_time": "2022-10-24T23:56:43.737644",
          "status": "completed"
        },
        "tags": [],
        "id": "36d7ca57"
      },
      "outputs": [],
      "source": [
        "import random\n",
        "import warnings\n",
        "import numpy as np\n",
        "#import climin\n",
        "from functools import partial\n",
        "import matplotlib.pyplot as plt\n",
        "from sklearn.preprocessing import StandardScaler\n",
        "from sklearn.cluster import KMeans\n",
        "import matplotlib.pyplot as plt\n",
        "from sklearn.manifold import TSNE\n",
        "\n",
        "\n",
        "#Defining the Sigmoid function and Softmax function\n",
        "def Sigmoid(f_r):\n",
        "    lam_r = 1/(1 + np.exp(-f_r))\n",
        "    return lam_r\n",
        "\n",
        "def MAjVot(Y, K):\n",
        "    N,R = Y.shape\n",
        "    Yhat = np.zeros((N,1))\n",
        "    for n in range(N):\n",
        "        votes = np.zeros((K,1))\n",
        "        for r in range(R):\n",
        "            for k in range(K):\n",
        "                if Y[n,r] == k+1:\n",
        "                    votes[k] = votes[k]+1\n",
        "        Yhat[n] = np.argmax(votes) + 1\n",
        "    return Yhat\n",
        "\n",
        "\n",
        "def  MA_Clas_Gen(Xtrain,ytrain,R,NrP):\n",
        "\n",
        "    N = len(ytrain)\n",
        "    K = len(np.unique(ytrain))\n",
        "    Kn = np.unique(ytrain)\n",
        "    aux = 0\n",
        "    A = np.zeros((K,1))\n",
        "    for k in Kn:\n",
        "        A[aux] = (ytrain == k).sum()\n",
        "        aux = aux + 1\n",
        "    per = np.min(A)\n",
        "    if N < 25000:\n",
        "        Xtrain = TSNE(n_components=1,perplexity=per/2).fit_transform(Xtrain)\n",
        "    else:\n",
        "        Xtrain = np.sum(Xtrain,1)\n",
        "    # Xtrain = Xtrain-Xtrain.min()\n",
        "    # Xtrain = Xtrain/Xtrain.max()\n",
        "    #ytrain = y\n",
        "    # scaler = StandardScaler()\n",
        "    # scalerY = scaler.fit(y)\n",
        "    # ytrain = scaler.fit_transform(y)\n",
        "\n",
        "    \n",
        "    #miny = y.min()\n",
        "    #ytrain = y-miny\n",
        "    #maxy = ytrain.max()\n",
        "    #ytrain = ytrain/maxy\n",
        "  \n",
        "    # Xtrain = np.sum(Xtrain, axis=1)\n",
        "    Xtrain = Xtrain - Xtrain.min()\n",
        "    #print(Xtrain.min(), Xtrain.max())\n",
        "    Xtrain = Xtrain/Xtrain.max()\n",
        "    Xtrain = Xtrain.reshape((N,1))\n",
        "    yprueba = np.ones((N,1))\n",
        "    \n",
        "    \n",
        "    u_q = np.empty((Xtrain.shape[0],3))\n",
        "    u_q[:,0,None] = 4.5*np.cos(2*np.pi*Xtrain + 1.5*np.pi) - \\\n",
        "                               3*np.sin(4.3*np.pi*Xtrain + 0.3*np.pi)\n",
        "                    \n",
        "    u_q[:,1,None] = 4.5*np.cos(1.5*np.pi*Xtrain + 0.5*np.pi) + \\\n",
        "                       5*np.sin(3*np.pi*Xtrain + 1.5*np.pi)\n",
        "    \n",
        "    u_q[:,2,None] = 1\n",
        "    \n",
        "    W = []\n",
        "    # q=1\n",
        "    Wq1 = np.array(([[0.4],[0.7],[-0.5],[0],[-0.7]]))\n",
        "    W.append(Wq1)\n",
        "    # q=2\n",
        "    Wq2 = np.array(([[0.4],[-1.0],[-0.1],[-0.8],[1.0]]))\n",
        "    W.append(Wq2)\n",
        "    Wq3 = np.array(([[3.1],[-1.8],[-0.6],[-1.2],[1.0]]))\n",
        "    W.append(Wq3)\n",
        "\n",
        "    \n",
        "    F_r = []\n",
        "    Lam_r = []\n",
        "    for r in range(R):\n",
        "        f_r = np.zeros((Xtrain.shape[0], 1))\n",
        "        # rho_r = np.zeros((Xtrain.shape[0], 1))\n",
        "        for q in range(3):\n",
        "            f_r += W[q][r].T*u_q[:,q,None]\n",
        "        F_r.append(f_r)\n",
        "        lam_r = Sigmoid(f_r)\n",
        "        lam_r[lam_r>0.5] = 1\n",
        "        lam_r[lam_r<=0.5] = 0\n",
        "        Lam_r.append(lam_r)\n",
        "    plt.plot(Xtrain,Lam_r[2],'rx')\n",
        "    plt.show()\n",
        "    seed = 0\n",
        "    np.random.seed(seed)\n",
        "    Ytrain = np.ones((N, R))\n",
        "    for r in range(R):\n",
        "        aux = ytrain.copy()\n",
        "        for n in range(N):\n",
        "            if Lam_r[r][n] == 0:\n",
        "                labels = np.arange(1, K+1)\n",
        "                a = np.where(labels==ytrain[n])\n",
        "                labels = np.delete(labels, a)\n",
        "                idxlabels = np.random.permutation(K-1)\n",
        "                aux[n] = labels[idxlabels[0]]         \n",
        "        Ytrain[:,r] = aux.flatten()\n",
        "        \n",
        "   # Ytrain = (Ytrain*maxy) + miny\n",
        "        \n",
        "    iAnn = np.zeros((N, R), dtype=int) # this indicates if the annotator r labels the nth sample.\n",
        "    Nr = np.ones((R), dtype=int)*int(np.floor(N*NrP))  \n",
        "    for r in range(R):\n",
        "        if r < R-1:\n",
        "            indexR = np.random.permutation(range(N))[:Nr[r]]\n",
        "            iAnn[indexR,r] = 1\n",
        "        else:\n",
        "            iSimm = np.sum(iAnn, axis=1)\n",
        "            idxZero = np.asarray([i for (i, val) in enumerate(iSimm) if val == 0])\n",
        "            Nzeros = idxZero.shape[0]\n",
        "            idx2Choose = np.arange(N)\n",
        "            if Nzeros == 0:\n",
        "                indexR = np.random.permutation(range(N))[:Nr[r]]\n",
        "                iAnn[indexR,r] = 1\n",
        "            else:\n",
        "                idx2Choose = np.delete(idx2Choose, idxZero)\n",
        "                N2chose = idx2Choose.shape[0]\n",
        "                idxNoZero = np.random.permutation(N2chose)[:(Nr[r] - Nzeros)]\n",
        "                idxTot = np.concatenate((idxZero, idx2Choose[idxNoZero]))\n",
        "                iAnn[idxTot,r] = 1\n",
        "    \n",
        "    # Now, we verify that all the samples were labeled at least once\n",
        "    Nr = (np.sum(iAnn,0))\n",
        "    iSimm = np.sum(iAnn, axis=1)\n",
        "    if np.asarray([i for (i, val) in enumerate(iSimm) if val == 0]).sum() == 0:\n",
        "        ValueError(\"all the samples must be labeled at least once\")\n",
        "\n",
        "    # Finally, if iAnn=0 we assign a reference value to indicate a missing value\n",
        "    Vref = -1e-20\n",
        "    for r in range(R):\n",
        "        Ytrain[iAnn[:,r] == 0, r] = Vref \n",
        "\n",
        "    return Ytrain, iAnn, Lam_r\n",
        "\n",
        "\n",
        "def CrossVal(X, pp, Nk):\n",
        "    N = X.shape[0]\n",
        "    Ntr = int(N*pp)\n",
        "    Nte = N - Ntr\n",
        "    idxtr = np.zeros((Ntr,Nk))\n",
        "    idxte = np.zeros((Nte,Nk))\n",
        "    \n",
        "    for i in range(Nk):\n",
        "        index = np.random.permutation(range(N))\n",
        "        idxtr[:,i] = index[:Ntr]\n",
        "        idxte[:,i] = index[Ntr:]\n",
        "        \n",
        "    return idxtr, idxte\n",
        "    "
      ]
    },
    {
      "cell_type": "code",
      "execution_count": 5,
      "id": "7868d91e",
      "metadata": {
        "execution": {
          "iopub.execute_input": "2022-10-24T23:56:43.984866Z",
          "iopub.status.busy": "2022-10-24T23:56:43.984098Z",
          "iopub.status.idle": "2022-10-24T23:56:50.485034Z",
          "shell.execute_reply": "2022-10-24T23:56:50.483427Z"
        },
        "id": "7868d91e",
        "outputId": "fab605c6-dd77-4d75-e809-220c8b773bfe",
        "papermill": {
          "duration": 6.516173,
          "end_time": "2022-10-24T23:56:50.487796",
          "exception": false,
          "start_time": "2022-10-24T23:56:43.971623",
          "status": "completed"
        },
        "tags": [],
        "colab": {
          "base_uri": "https://localhost:8080/"
        }
      },
      "outputs": [
        {
          "output_type": "stream",
          "name": "stdout",
          "text": [
            "--2023-02-13 06:12:09--  https://docs.google.com/uc?export=download&confirm=t&id=1IC11LrPCZIo_Am5eXP2p2tDAlrGTlPjn\n",
            "Resolving docs.google.com (docs.google.com)... 142.251.111.101, 142.251.111.100, 142.251.111.102, ...\n",
            "Connecting to docs.google.com (docs.google.com)|142.251.111.101|:443... connected.\n",
            "HTTP request sent, awaiting response... 303 See Other\n",
            "Location: https://doc-10-0s-docs.googleusercontent.com/docs/securesc/ha0ro937gcuc7l7deffksulhg5h7mbp1/lrqd7kpsj2cijltdp8da8eicjbdrag9h/1676268675000/09173029842254050324/*/1IC11LrPCZIo_Am5eXP2p2tDAlrGTlPjn?e=download&uuid=fc545bfa-5c13-41bf-a367-c0d7df1fdf93 [following]\n",
            "Warning: wildcards not supported in HTTP.\n",
            "--2023-02-13 06:12:09--  https://doc-10-0s-docs.googleusercontent.com/docs/securesc/ha0ro937gcuc7l7deffksulhg5h7mbp1/lrqd7kpsj2cijltdp8da8eicjbdrag9h/1676268675000/09173029842254050324/*/1IC11LrPCZIo_Am5eXP2p2tDAlrGTlPjn?e=download&uuid=fc545bfa-5c13-41bf-a367-c0d7df1fdf93\n",
            "Resolving doc-10-0s-docs.googleusercontent.com (doc-10-0s-docs.googleusercontent.com)... 172.253.63.132, 2607:f8b0:4004:c08::84\n",
            "Connecting to doc-10-0s-docs.googleusercontent.com (doc-10-0s-docs.googleusercontent.com)|172.253.63.132|:443... connected.\n",
            "HTTP request sent, awaiting response... 200 OK\n",
            "Length: 125624679 (120M) [application/zip]\n",
            "Saving to: ‘datos.zip’\n",
            "\n",
            "datos.zip           100%[===================>] 119.80M  77.4MB/s    in 1.5s    \n",
            "\n",
            "2023-02-13 06:12:11 (77.4 MB/s) - ‘datos.zip’ saved [125624679/125624679]\n",
            "\n",
            "Archive:  datos.zip\n",
            "  inflating: Vibra.mat               \n",
            "  inflating: __MACOSX/._Vibra.mat    \n",
            "  inflating: CaractCE.mat            \n",
            "  inflating: __MACOSX/._CaractCE.mat  \n",
            "CaractCE.mat  datos.zip  GCCE_TEST  __MACOSX  sample_data  Vibra.mat\n"
          ]
        }
      ],
      "source": [
        "#data downloaded for google drive\n",
        "FILEID = \"1IC11LrPCZIo_Am5eXP2p2tDAlrGTlPjn\"\n",
        "!wget --load-cookies /tmp/cookies.txt \"https://docs.google.com/uc?export=download&confirm=$(wget --quiet --save-cookies /tmp/cookies.txt --keep-session-cookies --no-check-certificate 'https://docs.google.com/uc?export=download&id='$FILEID -O- | sed -rn 's/.*confirm=([0-9A-Za-z_]+).*/\\1\\n/p')&id=\"$FILEID -O datos.zip && rm -rf /tmp/cookies.txt\n",
        "!unzip -o datos.zip\n",
        "!dir\n",
        "database = 'Western'"
      ]
    },
    {
      "cell_type": "code",
      "execution_count": 6,
      "id": "5583c0ce",
      "metadata": {
        "execution": {
          "iopub.execute_input": "2022-10-24T23:56:50.513309Z",
          "iopub.status.busy": "2022-10-24T23:56:50.512849Z",
          "iopub.status.idle": "2022-10-24T23:56:50.831598Z",
          "shell.execute_reply": "2022-10-24T23:56:50.830547Z"
        },
        "id": "5583c0ce",
        "papermill": {
          "duration": 0.334414,
          "end_time": "2022-10-24T23:56:50.834105",
          "exception": false,
          "start_time": "2022-10-24T23:56:50.499691",
          "status": "completed"
        },
        "tags": []
      },
      "outputs": [],
      "source": [
        "#main libraries and functions\n",
        "import scipy.io as sio\n",
        "from sklearn.decomposition import PCA\n",
        "from sklearn.manifold import TSNE\n",
        "from sklearn.preprocessing import MinMaxScaler, StandardScaler\n",
        "import numpy as np\n",
        "import matplotlib.pyplot as plt\n",
        "from matplotlib.ticker import FormatStrFormatter\n",
        "import warnings\n",
        "#compute centroid index \n",
        "from sklearn.metrics import pairwise_distances\n",
        "import matplotlib\n",
        "\n",
        "warnings.filterwarnings('ignore')\n",
        "\n",
        "\n",
        "def centroid_(X):\n",
        "  mean_X = X.mean(axis=0)#computing mean along samples\n",
        "  D = pairwise_distances(mean_X.reshape(1,-1),X)\n",
        "  return np.argmin(D)#return centroid index\n",
        "\n",
        "\n",
        "#loading data\n",
        "path_ = 'CaractCE.mat'#Case Western Database\n",
        "dicX = sio.loadmat(path_)"
      ]
    },
    {
      "cell_type": "code",
      "execution_count": 7,
      "id": "0bdb906c",
      "metadata": {
        "execution": {
          "iopub.execute_input": "2022-10-24T23:56:50.859125Z",
          "iopub.status.busy": "2022-10-24T23:56:50.858367Z",
          "iopub.status.idle": "2022-10-24T23:56:50.868176Z",
          "shell.execute_reply": "2022-10-24T23:56:50.867130Z"
        },
        "id": "0bdb906c",
        "outputId": "12ed40bc-685e-43e0-89be-8b851fb2036a",
        "papermill": {
          "duration": 0.024388,
          "end_time": "2022-10-24T23:56:50.870443",
          "exception": false,
          "start_time": "2022-10-24T23:56:50.846055",
          "status": "completed"
        },
        "tags": [],
        "colab": {
          "base_uri": "https://localhost:8080/"
        }
      },
      "outputs": [
        {
          "output_type": "execute_result",
          "data": {
            "text/plain": [
              "dict_keys(['__header__', '__version__', '__globals__', 'CE', 'E', 'F'])"
            ]
          },
          "metadata": {},
          "execution_count": 7
        }
      ],
      "source": [
        "dicX.keys()\n"
      ]
    },
    {
      "cell_type": "code",
      "execution_count": 8,
      "id": "e282ec25",
      "metadata": {
        "execution": {
          "iopub.execute_input": "2022-10-24T23:56:50.895639Z",
          "iopub.status.busy": "2022-10-24T23:56:50.894786Z",
          "iopub.status.idle": "2022-10-24T23:56:50.901656Z",
          "shell.execute_reply": "2022-10-24T23:56:50.900468Z"
        },
        "id": "e282ec25",
        "outputId": "e6905933-19b1-4045-d92c-804968fe3088",
        "papermill": {
          "duration": 0.021695,
          "end_time": "2022-10-24T23:56:50.903719",
          "exception": false,
          "start_time": "2022-10-24T23:56:50.882024",
          "status": "completed"
        },
        "tags": [],
        "colab": {
          "base_uri": "https://localhost:8080/"
        }
      },
      "outputs": [
        {
          "output_type": "stream",
          "name": "stdout",
          "text": [
            "Xt shape: (1200, 4000)\n",
            "Time length [s] 0.3333333333333333\n"
          ]
        }
      ],
      "source": [
        "Xt = dicX['F'] #time segments\n",
        "Fs = 12000 #sampling frequency\n",
        "Tl = Xt.shape[1]/Fs\n",
        "print('Xt shape:',Xt.shape)\n",
        "print('Time length [s]', Tl)"
      ]
    },
    {
      "cell_type": "markdown",
      "id": "6407591c",
      "metadata": {
        "id": "6407591c",
        "papermill": {
          "duration": 0.01141,
          "end_time": "2022-10-24T23:56:50.926959",
          "exception": false,
          "start_time": "2022-10-24T23:56:50.915549",
          "status": "completed"
        },
        "tags": []
      },
      "source": [
        "Multiscale permutation entropy was calculated for each time segment, fixing the delay within [xx,xx] and the embedding time within the range [xx,xxx]. See MPEVA.py for details."
      ]
    },
    {
      "cell_type": "markdown",
      "id": "88960cdc",
      "metadata": {
        "id": "88960cdc",
        "papermill": {
          "duration": 0.011322,
          "end_time": "2022-10-24T23:56:50.949798",
          "exception": false,
          "start_time": "2022-10-24T23:56:50.938476",
          "status": "completed"
        },
        "tags": []
      },
      "source": [
        "## Loading MPE features, time segments, and labels"
      ]
    },
    {
      "cell_type": "code",
      "execution_count": 9,
      "id": "8d3a2320",
      "metadata": {
        "execution": {
          "iopub.execute_input": "2022-10-24T23:56:50.975170Z",
          "iopub.status.busy": "2022-10-24T23:56:50.974629Z",
          "iopub.status.idle": "2022-10-24T23:56:50.982861Z",
          "shell.execute_reply": "2022-10-24T23:56:50.981991Z"
        },
        "id": "8d3a2320",
        "outputId": "32bcc42c-4453-4198-a9e3-8529a930e314",
        "papermill": {
          "duration": 0.024037,
          "end_time": "2022-10-24T23:56:50.985326",
          "exception": false,
          "start_time": "2022-10-24T23:56:50.961289",
          "status": "completed"
        },
        "tags": [],
        "colab": {
          "base_uri": "https://localhost:8080/"
        }
      },
      "outputs": [
        {
          "output_type": "stream",
          "name": "stdout",
          "text": [
            "MPE feature matriz shape: (1200, 125)\n"
          ]
        }
      ],
      "source": [
        "#loading precalculated MPE features\n",
        "X = dicX['CE']\n",
        "print('MPE feature matriz shape:',X.shape)"
      ]
    },
    {
      "cell_type": "code",
      "execution_count": 10,
      "id": "e06bde0f",
      "metadata": {
        "execution": {
          "iopub.execute_input": "2022-10-24T23:56:51.010753Z",
          "iopub.status.busy": "2022-10-24T23:56:51.010362Z",
          "iopub.status.idle": "2022-10-24T23:56:51.247720Z",
          "shell.execute_reply": "2022-10-24T23:56:51.246513Z"
        },
        "id": "e06bde0f",
        "outputId": "cc856022-1658-4463-d421-3f9fec98c8c6",
        "papermill": {
          "duration": 0.253106,
          "end_time": "2022-10-24T23:56:51.250134",
          "exception": false,
          "start_time": "2022-10-24T23:56:50.997028",
          "status": "completed"
        },
        "tags": [],
        "colab": {
          "base_uri": "https://localhost:8080/",
          "height": 306
        }
      },
      "outputs": [
        {
          "output_type": "display_data",
          "data": {
            "text/plain": [
              "<Figure size 432x288 with 1 Axes>"
            ],
            "image/png": "[encoded data removed]"
          },
          "metadata": {
            "needs_background": "light"
          }
        }
      ],
      "source": [
        "Y = dicX['E']\n",
        "Ytrue = Y[:,2] #target classes\n",
        "\n",
        "labels_ = ['NOR','IR1_0.007´´','IR1_0.014´´','IR1_0.021´´',\n",
        "           'IR2_0.007´´','IR2_0.014´´','IR2_0.021´´',\n",
        "           'BE_0.007´´','BE_0.014´´','BE_0.021´´'\n",
        "           ] #classes name\n",
        "\n",
        "#histogram\n",
        "unique_elements, counts_elements = np.unique(Ytrue, return_counts=True)\n",
        "plt.bar(unique_elements,100*counts_elements/X.shape[0])\n",
        "plt.xticks(unique_elements)\n",
        "plt.ylabel('Samples percentange [%]')\n",
        "plt.gca().set_xticklabels(labels_,rotation=45)\n",
        "plt.show()"
      ]
    },
    {
      "cell_type": "code",
      "execution_count": 11,
      "id": "f052f121",
      "metadata": {
        "execution": {
          "iopub.execute_input": "2022-10-24T23:56:51.275882Z",
          "iopub.status.busy": "2022-10-24T23:56:51.275521Z",
          "iopub.status.idle": "2022-10-24T23:56:51.281597Z",
          "shell.execute_reply": "2022-10-24T23:56:51.280816Z"
        },
        "id": "f052f121",
        "papermill": {
          "duration": 0.021412,
          "end_time": "2022-10-24T23:56:51.283602",
          "exception": false,
          "start_time": "2022-10-24T23:56:51.262190",
          "status": "completed"
        },
        "tags": []
      },
      "outputs": [],
      "source": [
        "#rpm labels\n",
        "nrpm = 30\n",
        "Yrpm_b = np.r_[0*np.ones(nrpm),np.ones(nrpm),2*np.ones(nrpm),3*np.ones(nrpm)]\n",
        "Yrpm_b.shape\n",
        "Yrpm = Yrpm_b\n",
        "for i in range(len(labels_)-1):\n",
        "  Yrpm = np.r_[Yrpm,Yrpm_b]\n",
        "\n"
      ]
    },
    {
      "cell_type": "code",
      "execution_count": 12,
      "id": "bf1de226",
      "metadata": {
        "execution": {
          "iopub.execute_input": "2022-10-24T23:56:51.309512Z",
          "iopub.status.busy": "2022-10-24T23:56:51.308786Z",
          "iopub.status.idle": "2022-10-24T23:56:51.313623Z",
          "shell.execute_reply": "2022-10-24T23:56:51.312589Z"
        },
        "id": "bf1de226",
        "papermill": {
          "duration": 0.020248,
          "end_time": "2022-10-24T23:56:51.315883",
          "exception": false,
          "start_time": "2022-10-24T23:56:51.295635",
          "status": "completed"
        },
        "tags": []
      },
      "outputs": [],
      "source": [
        "Y = np.c_[Y,Yrpm]"
      ]
    },
    {
      "cell_type": "code",
      "execution_count": 13,
      "id": "421e2ec1",
      "metadata": {
        "execution": {
          "iopub.execute_input": "2022-10-24T23:56:51.341473Z",
          "iopub.status.busy": "2022-10-24T23:56:51.341085Z",
          "iopub.status.idle": "2022-10-24T23:56:51.408956Z",
          "shell.execute_reply": "2022-10-24T23:56:51.407861Z"
        },
        "id": "421e2ec1",
        "outputId": "3c4821dc-db6b-4e1c-a352-84a7153104db",
        "papermill": {
          "duration": 0.083293,
          "end_time": "2022-10-24T23:56:51.411132",
          "exception": false,
          "start_time": "2022-10-24T23:56:51.327839",
          "status": "completed"
        },
        "tags": [],
        "colab": {
          "base_uri": "https://localhost:8080/"
        }
      },
      "outputs": [
        {
          "output_type": "execute_result",
          "data": {
            "text/plain": [
              "['CasaWestern_data.pkl']"
            ]
          },
          "metadata": {},
          "execution_count": 13
        }
      ],
      "source": [
        "import joblib\n",
        "\n",
        "CaseWestern_data = {'Xdata_time' : Xt, 'Fs' : Fs,\n",
        "                    'Xdata_MPE' : X, 'Y_labels' : Y}\n",
        "\n",
        "joblib.dump(CaseWestern_data,\"CasaWestern_data.pkl\")"
      ]
    },
    {
      "cell_type": "code",
      "execution_count": 14,
      "id": "8e535001",
      "metadata": {
        "execution": {
          "iopub.execute_input": "2022-10-24T23:56:51.437211Z",
          "iopub.status.busy": "2022-10-24T23:56:51.436793Z",
          "iopub.status.idle": "2022-10-24T23:56:51.443450Z",
          "shell.execute_reply": "2022-10-24T23:56:51.442445Z"
        },
        "id": "8e535001",
        "outputId": "324fa260-be51-469d-e0e1-0c17f6edb6b7",
        "papermill": {
          "duration": 0.022068,
          "end_time": "2022-10-24T23:56:51.445508",
          "exception": false,
          "start_time": "2022-10-24T23:56:51.423440",
          "status": "completed"
        },
        "tags": [],
        "colab": {
          "base_uri": "https://localhost:8080/"
        }
      },
      "outputs": [
        {
          "output_type": "execute_result",
          "data": {
            "text/plain": [
              "(1200, 4)"
            ]
          },
          "metadata": {},
          "execution_count": 14
        }
      ],
      "source": [
        "Y.shape"
      ]
    },
    {
      "cell_type": "code",
      "execution_count": 15,
      "id": "56a6b89f",
      "metadata": {
        "execution": {
          "iopub.execute_input": "2022-10-24T23:56:51.471450Z",
          "iopub.status.busy": "2022-10-24T23:56:51.471066Z",
          "iopub.status.idle": "2022-10-24T23:56:51.478013Z",
          "shell.execute_reply": "2022-10-24T23:56:51.476980Z"
        },
        "id": "56a6b89f",
        "outputId": "3b3587b5-5b48-486f-fb48-dde4e729c780",
        "papermill": {
          "duration": 0.022594,
          "end_time": "2022-10-24T23:56:51.480193",
          "exception": false,
          "start_time": "2022-10-24T23:56:51.457599",
          "status": "completed"
        },
        "tags": [],
        "colab": {
          "base_uri": "https://localhost:8080/"
        }
      },
      "outputs": [
        {
          "output_type": "execute_result",
          "data": {
            "text/plain": [
              "array([[ 0.,  0.,  1.,  0.],\n",
              "       [ 0.,  0.,  1.,  0.],\n",
              "       [ 0.,  0.,  1.,  0.],\n",
              "       ...,\n",
              "       [ 1.,  3., 10.,  3.],\n",
              "       [ 1.,  3., 10.,  3.],\n",
              "       [ 1.,  3., 10.,  3.]])"
            ]
          },
          "metadata": {},
          "execution_count": 15
        }
      ],
      "source": [
        "Y"
      ]
    },
    {
      "cell_type": "markdown",
      "id": "983885a4",
      "metadata": {
        "id": "983885a4",
        "papermill": {
          "duration": 0.012068,
          "end_time": "2022-10-24T23:56:51.504767",
          "exception": false,
          "start_time": "2022-10-24T23:56:51.492699",
          "status": "completed"
        },
        "tags": []
      },
      "source": [
        "# Interpretability results"
      ]
    },
    {
      "cell_type": "code",
      "execution_count": 16,
      "id": "a27a9d10",
      "metadata": {
        "execution": {
          "iopub.execute_input": "2022-10-24T23:56:51.531077Z",
          "iopub.status.busy": "2022-10-24T23:56:51.530656Z",
          "iopub.status.idle": "2022-10-24T23:56:51.536752Z",
          "shell.execute_reply": "2022-10-24T23:56:51.535747Z"
        },
        "id": "a27a9d10",
        "outputId": "3b8b029a-cc3d-4718-e109-94154220a681",
        "papermill": {
          "duration": 0.021893,
          "end_time": "2022-10-24T23:56:51.538928",
          "exception": false,
          "start_time": "2022-10-24T23:56:51.517035",
          "status": "completed"
        },
        "tags": [],
        "colab": {
          "base_uri": "https://localhost:8080/"
        }
      },
      "outputs": [
        {
          "output_type": "execute_result",
          "data": {
            "text/plain": [
              "(1200, 4000)"
            ]
          },
          "metadata": {},
          "execution_count": 16
        }
      ],
      "source": [
        "Xt.shape"
      ]
    },
    {
      "cell_type": "code",
      "execution_count": 17,
      "id": "6af6ba55",
      "metadata": {
        "execution": {
          "iopub.execute_input": "2022-10-24T23:56:51.565568Z",
          "iopub.status.busy": "2022-10-24T23:56:51.564796Z",
          "iopub.status.idle": "2022-10-24T23:57:01.299041Z",
          "shell.execute_reply": "2022-10-24T23:57:01.298039Z"
        },
        "id": "6af6ba55",
        "outputId": "b8cf3af9-882c-4be3-8d44-f762b431b987",
        "papermill": {
          "duration": 9.750548,
          "end_time": "2022-10-24T23:57:01.301837",
          "exception": false,
          "start_time": "2022-10-24T23:56:51.551289",
          "status": "completed"
        },
        "tags": [],
        "colab": {
          "base_uri": "https://localhost:8080/",
          "height": 513
        }
      },
      "outputs": [
        {
          "output_type": "display_data",
          "data": {
            "text/plain": [
              "<Figure size 1152x576 with 17 Axes>"
            ],
            "image/png": "[encoded data removed]"
          },
          "metadata": {
            "needs_background": "light"
          }
        }
      ],
      "source": [
        "#scatter plots\n",
        "scar = StandardScaler()\n",
        "sca = MinMaxScaler()\n",
        "red = TSNE(perplexity = 10,n_components=2,random_state=123)\n",
        "vt = np.arange(0,Tl,1/Fs)\n",
        "Ytrue_f = Y[:,1] # labels = [Normal, Internal, External, Ball]\n",
        "labels_f = ['NOR', 'IR1', 'IR2', 'BE']\n",
        "#scatter along fault lables\n",
        "fig, axs = plt.subplots(len(labels_f),4,figsize=(16, 8))\n",
        "j=0\n",
        "vf = np.fft.rfftfreq(Xt.shape[1],1/Fs) #freq vector\n",
        "Xw = 20*np.log10(abs(np.fft.rfft(Xt))) # FFT\n",
        "\n",
        "marker_s = ['2','v','x','*'] # RPM1, RPM2, RPM3, RPM4 as marker changes\n",
        "\n",
        "for i in np.unique(Ytrue_f):\n",
        "  X_ = Xt[Ytrue_f==i]\n",
        "  Xw_ = Xw[Ytrue_f==i]\n",
        "  XE_ = X[Ytrue_f==i]\n",
        "  Z_ = scar.fit_transform(red.fit_transform(sca.fit_transform(Xw_)))\n",
        "  Z_e = scar.fit_transform(red.fit_transform(sca.fit_transform(XE_)))\n",
        "   \n",
        "  #identify centroid RPM1 \n",
        "  ind = centroid_(Z_[Yrpm[Ytrue_f==i] == 0])\n",
        "  #time plots\n",
        "  axs[j,0].plot(vt,X_[ind])\n",
        "  axs[j,0].set_ylim([-2.3,2.3])\n",
        "  axs[j,0].yaxis.set_major_formatter(FormatStrFormatter('%.2f'))\n",
        "  axs[j,0].set_ylabel(labels_f[j]+' \\n Amp. [V]')\n",
        "  if j!=len(labels_f)-1: axs[j,0].set_xticklabels([])\n",
        "\n",
        "  #frequency plots\n",
        "  axs[j,1].plot(vf,Xw_[ind])\n",
        "  axs[j,1].set_ylim([-45,55])\n",
        "  axs[j,1].yaxis.set_major_formatter(FormatStrFormatter('%.2f'))\n",
        "  axs[j,1].set_ylabel('dBV')\n",
        "  if j!=len(labels_f)-1: axs[j,1].set_xticklabels([])\n",
        "\n",
        "  #scatter plots\n",
        "  cc = Ytrue[Ytrue_f==i]\n",
        "  #FFT-based features scatter plot\n",
        "  for ii in np.unique(Yrpm): \n",
        "      ind_ = Yrpm[Ytrue_f==i] == ii\n",
        "      im = axs[j,2].scatter(Z_[ind_,0],Z_[ind_,1],c=cc[ind_],marker=marker_s[int(ii)])\n",
        "      #axs[j,2].scatter(Z_[ind,0],Z_[ind,1],c='r',marker='v')\n",
        "      axs[j,2].set_xticklabels([])\n",
        "      axs[j,2].set_yticklabels([])\n",
        "\n",
        "      #MPE-based features scatter plot\n",
        "      im = axs[j,3].scatter(Z_e[ind_,0],Z_e[ind_,1],c=cc[ind_],marker=marker_s[int(ii)])\n",
        "      #axs[j,3].scatter(Z_e[ind,0],Z_e[ind,1],c='r',marker='v')\n",
        "      axs[j,3].set_xticklabels([])\n",
        "      axs[j,3].set_yticklabels([])\n",
        "  j+=1\n",
        "\n",
        "cax = fig.add_axes([0.925, 0.15, 0.01, 0.7])\n",
        "norm = matplotlib.colors.Normalize(vmin=0,vmax=2)\n",
        "sm = plt.cm.ScalarMappable(cmap=None, norm=norm)\n",
        "sm.set_array([])\n",
        "cbar = plt.colorbar(sm,cax=cax,ticks=[0, 1, 2])\n",
        "cbar.ax.set_yticklabels(['0.007´´', '0.014´´', '0.021´´'])\n",
        "\n",
        "axs[-1,0].set_xlabel('time [s]')\n",
        "axs[-1,1].set_xlabel('Frequency [Hz]')  \n",
        "axs[0,0].set_title('Vibration signal')\n",
        "axs[0,1].set_title('FFT')\n",
        "axs[0,2].set_title('tSNE from FFT')\n",
        "axs[0,3].set_title('tSNE from MPE')\n",
        "\n",
        "\n",
        "fig.subplots_adjust(wspace=0.4, hspace=0.25)\n",
        "plt.show()\n",
        "\n"
      ]
    },
    {
      "cell_type": "code",
      "execution_count": 18,
      "id": "9d63dd87",
      "metadata": {
        "execution": {
          "iopub.execute_input": "2022-10-24T23:57:01.333987Z",
          "iopub.status.busy": "2022-10-24T23:57:01.332965Z",
          "iopub.status.idle": "2022-10-24T23:57:01.337214Z",
          "shell.execute_reply": "2022-10-24T23:57:01.336341Z"
        },
        "id": "9d63dd87",
        "papermill": {
          "duration": 0.022102,
          "end_time": "2022-10-24T23:57:01.339222",
          "exception": false,
          "start_time": "2022-10-24T23:57:01.317120",
          "status": "completed"
        },
        "tags": []
      },
      "outputs": [],
      "source": [
        "#X.shape"
      ]
    },
    {
      "cell_type": "code",
      "execution_count": 19,
      "id": "c8d6fd55",
      "metadata": {
        "execution": {
          "iopub.execute_input": "2022-10-24T23:57:01.370743Z",
          "iopub.status.busy": "2022-10-24T23:57:01.369664Z",
          "iopub.status.idle": "2022-10-24T23:57:01.376944Z",
          "shell.execute_reply": "2022-10-24T23:57:01.375756Z"
        },
        "papermill": {
          "duration": 0.025163,
          "end_time": "2022-10-24T23:57:01.379072",
          "exception": false,
          "start_time": "2022-10-24T23:57:01.353909",
          "status": "completed"
        },
        "tags": [],
        "colab": {
          "base_uri": "https://localhost:8080/"
        },
        "id": "c8d6fd55",
        "outputId": "011a1b89-414d-4b82-b301-a1031e881aa9"
      },
      "outputs": [
        {
          "output_type": "execute_result",
          "data": {
            "text/plain": [
              "1"
            ]
          },
          "metadata": {},
          "execution_count": 19
        }
      ],
      "source": [
        "Ytrue.min()\n",
        "#X = Xw\n"
      ]
    },
    {
      "cell_type": "code",
      "execution_count": 20,
      "id": "fd9f1cf8",
      "metadata": {
        "execution": {
          "iopub.execute_input": "2022-10-24T23:57:01.410876Z",
          "iopub.status.busy": "2022-10-24T23:57:01.410217Z",
          "iopub.status.idle": "2022-10-24T23:57:01.416808Z",
          "shell.execute_reply": "2022-10-24T23:57:01.415978Z"
        },
        "papermill": {
          "duration": 0.025179,
          "end_time": "2022-10-24T23:57:01.419078",
          "exception": false,
          "start_time": "2022-10-24T23:57:01.393899",
          "status": "completed"
        },
        "tags": [],
        "colab": {
          "base_uri": "https://localhost:8080/"
        },
        "id": "fd9f1cf8",
        "outputId": "81c6ed86-feb9-46ff-ef1b-e4a590871694"
      },
      "outputs": [
        {
          "output_type": "execute_result",
          "data": {
            "text/plain": [
              "(1200, 125)"
            ]
          },
          "metadata": {},
          "execution_count": 20
        }
      ],
      "source": [
        "X.shape"
      ]
    },
    {
      "cell_type": "code",
      "execution_count": 21,
      "id": "16a86b06",
      "metadata": {
        "execution": {
          "iopub.execute_input": "2022-10-24T23:57:01.450267Z",
          "iopub.status.busy": "2022-10-24T23:57:01.449852Z",
          "iopub.status.idle": "2022-10-24T23:57:06.170672Z",
          "shell.execute_reply": "2022-10-24T23:57:06.169408Z"
        },
        "papermill": {
          "duration": 4.739411,
          "end_time": "2022-10-24T23:57:06.173213",
          "exception": false,
          "start_time": "2022-10-24T23:57:01.433802",
          "status": "completed"
        },
        "tags": [],
        "colab": {
          "base_uri": "https://localhost:8080/",
          "height": 265
        },
        "id": "16a86b06",
        "outputId": "7822e2f2-b526-4676-9a39-b44df4ee9505"
      },
      "outputs": [
        {
          "output_type": "display_data",
          "data": {
            "text/plain": [
              "<Figure size 432x288 with 1 Axes>"
            ],
            "image/png": "[encoded data removed]"
          },
          "metadata": {
            "needs_background": "light"
          }
        }
      ],
      "source": [
        "Y, iAnn, Lam_r = MA_Clas_Gen(X ,Ytrue, R=5, NrP=1)"
      ]
    },
    {
      "cell_type": "code",
      "execution_count": 22,
      "id": "e645cea3",
      "metadata": {
        "execution": {
          "iopub.execute_input": "2022-10-24T23:57:06.205685Z",
          "iopub.status.busy": "2022-10-24T23:57:06.204909Z",
          "iopub.status.idle": "2022-10-24T23:57:06.210228Z",
          "shell.execute_reply": "2022-10-24T23:57:06.209172Z"
        },
        "papermill": {
          "duration": 0.0239,
          "end_time": "2022-10-24T23:57:06.212419",
          "exception": false,
          "start_time": "2022-10-24T23:57:06.188519",
          "status": "completed"
        },
        "tags": [],
        "id": "e645cea3"
      },
      "outputs": [],
      "source": [
        "Y = Y - 1\n",
        "t = Ytrue- 1"
      ]
    },
    {
      "cell_type": "code",
      "execution_count": 23,
      "id": "5c151ed5",
      "metadata": {
        "execution": {
          "iopub.execute_input": "2022-10-24T23:57:06.244334Z",
          "iopub.status.busy": "2022-10-24T23:57:06.243891Z",
          "iopub.status.idle": "2022-10-24T23:57:07.236149Z",
          "shell.execute_reply": "2022-10-24T23:57:07.235097Z"
        },
        "papermill": {
          "duration": 1.010693,
          "end_time": "2022-10-24T23:57:07.238251",
          "exception": false,
          "start_time": "2022-10-24T23:57:06.227558",
          "status": "completed"
        },
        "tags": [],
        "colab": {
          "base_uri": "https://localhost:8080/",
          "height": 1000
        },
        "id": "5c151ed5",
        "outputId": "15d0fef9-51a2-499d-954a-5e4b4313706c"
      },
      "outputs": [
        {
          "output_type": "stream",
          "name": "stdout",
          "text": [
            "annotator 1\n",
            "              precision    recall  f1-score   support\n",
            "\n",
            "           0       0.82      1.00      0.90       120\n",
            "           1       0.83      1.00      0.91       120\n",
            "           2       0.79      0.42      0.55       120\n",
            "           3       0.84      0.89      0.86       120\n",
            "           4       0.80      1.00      0.89       120\n",
            "           5       0.89      0.99      0.94       120\n",
            "           6       0.00      0.00      0.00       120\n",
            "           7       0.81      1.00      0.90       120\n",
            "           8       0.86      1.00      0.92       120\n",
            "           9       0.87      1.00      0.93       120\n",
            "\n",
            "    accuracy                           0.83      1200\n",
            "   macro avg       0.75      0.83      0.78      1200\n",
            "weighted avg       0.75      0.83      0.78      1200\n",
            "\n",
            "annotator 2\n",
            "              precision    recall  f1-score   support\n",
            "\n",
            "           0       0.00      0.00      0.00       120\n",
            "           1       0.73      0.97      0.84       120\n",
            "           2       0.70      0.84      0.76       120\n",
            "           3       0.27      0.14      0.19       120\n",
            "           4       0.69      0.76      0.72       120\n",
            "           5       0.69      0.76      0.72       120\n",
            "           6       0.79      1.00      0.89       120\n",
            "           7       0.71      1.00      0.83       120\n",
            "           8       0.03      0.01      0.01       120\n",
            "           9       0.67      1.00      0.81       120\n",
            "\n",
            "    accuracy                           0.65      1200\n",
            "   macro avg       0.53      0.65      0.58      1200\n",
            "weighted avg       0.53      0.65      0.58      1200\n",
            "\n",
            "annotator 3\n",
            "              precision    recall  f1-score   support\n",
            "\n",
            "           0       0.69      1.00      0.82       120\n",
            "           1       0.00      0.00      0.00       120\n",
            "           2       0.68      0.98      0.81       120\n",
            "           3       0.53      0.33      0.40       120\n",
            "           4       0.76      1.00      0.87       120\n",
            "           5       0.52      0.25      0.34       120\n",
            "           6       0.69      1.00      0.82       120\n",
            "           7       0.70      1.00      0.82       120\n",
            "           8       0.74      0.93      0.82       120\n",
            "           9       0.00      0.00      0.00       120\n",
            "\n",
            "    accuracy                           0.65      1200\n",
            "   macro avg       0.53      0.65      0.57      1200\n",
            "weighted avg       0.53      0.65      0.57      1200\n",
            "\n",
            "annotator 4\n",
            "              precision    recall  f1-score   support\n",
            "\n",
            "           0       0.00      0.00      0.00       120\n",
            "           1       0.00      0.00      0.00       120\n",
            "           2       0.64      0.98      0.77       120\n",
            "           3       0.52      0.53      0.52       120\n",
            "           4       0.68      1.00      0.81       120\n",
            "           5       0.38      0.25      0.30       120\n",
            "           6       0.76      1.00      0.87       120\n",
            "           7       0.66      1.00      0.79       120\n",
            "           8       0.03      0.01      0.01       120\n",
            "           9       0.67      1.00      0.80       120\n",
            "\n",
            "    accuracy                           0.58      1200\n",
            "   macro avg       0.43      0.58      0.49      1200\n",
            "weighted avg       0.43      0.58      0.49      1200\n",
            "\n",
            "annotator 5\n",
            "              precision    recall  f1-score   support\n",
            "\n",
            "           0       0.54      1.00      0.70       120\n",
            "           1       0.00      0.00      0.00       120\n",
            "           2       0.00      0.00      0.00       120\n",
            "           3       0.00      0.00      0.00       120\n",
            "           4       0.03      0.03      0.03       120\n",
            "           5       0.00      0.00      0.00       120\n",
            "           6       0.00      0.00      0.00       120\n",
            "           7       0.00      0.00      0.00       120\n",
            "           8       0.51      0.99      0.67       120\n",
            "           9       0.00      0.00      0.00       120\n",
            "\n",
            "    accuracy                           0.20      1200\n",
            "   macro avg       0.11      0.20      0.14      1200\n",
            "weighted avg       0.11      0.20      0.14      1200\n",
            "\n"
          ]
        },
        {
          "output_type": "display_data",
          "data": {
            "text/plain": [
              "<Figure size 432x288 with 1 Axes>"
            ],
            "image/png": "[encoded data removed]"
          },
          "metadata": {
            "needs_background": "light"
          }
        },
        {
          "output_type": "display_data",
          "data": {
            "text/plain": [
              "<Figure size 432x288 with 1 Axes>"
            ],
            "image/png": "[encoded data removed]"
          },
          "metadata": {
            "needs_background": "light"
          }
        },
        {
          "output_type": "display_data",
          "data": {
            "text/plain": [
              "<Figure size 432x288 with 1 Axes>"
            ],
            "image/png": "[encoded data removed]"
          },
          "metadata": {
            "needs_background": "light"
          }
        },
        {
          "output_type": "display_data",
          "data": {
            "text/plain": [
              "<Figure size 432x288 with 1 Axes>"
            ],
            "image/png": "[encoded data removed]"
          },
          "metadata": {
            "needs_background": "light"
          }
        },
        {
          "output_type": "display_data",
          "data": {
            "text/plain": [
              "<Figure size 432x288 with 1 Axes>"
            ],
            "image/png": "[encoded data removed]"
          },
          "metadata": {
            "needs_background": "light"
          }
        }
      ],
      "source": [
        "import pandas as pd\n",
        "from sklearn.metrics import classification_report\n",
        "for i in range(Y.shape[1]):\n",
        "    print('annotator',i+1)\n",
        "    print(classification_report(t,Y[:,i]))\n",
        "    unique, counts = np.unique(Y[:,i], return_counts=True)\n",
        "    plt.figure()\n",
        "    plt.bar(unique, counts)\n",
        "#     unique, counts = np.unique(Y_test[5], return_counts=True)\n",
        "#     plt.bar(unique, counts)\n",
        "\n",
        "    plt.title('Class Frequency for Y_true')\n",
        "    plt.xlabel('Class')\n",
        "    plt.ylabel('Frequency')\n"
      ]
    },
    {
      "cell_type": "code",
      "execution_count": 24,
      "id": "7b0b5089",
      "metadata": {
        "execution": {
          "iopub.execute_input": "2022-10-24T23:57:07.273091Z",
          "iopub.status.busy": "2022-10-24T23:57:07.272375Z",
          "iopub.status.idle": "2022-10-24T23:57:07.286512Z",
          "shell.execute_reply": "2022-10-24T23:57:07.285004Z"
        },
        "papermill": {
          "duration": 0.034002,
          "end_time": "2022-10-24T23:57:07.288773",
          "exception": false,
          "start_time": "2022-10-24T23:57:07.254771",
          "status": "completed"
        },
        "tags": [],
        "colab": {
          "base_uri": "https://localhost:8080/"
        },
        "id": "7b0b5089",
        "outputId": "c5eb1222-fdc1-4ec3-fa55-f516f882ce79"
      },
      "outputs": [
        {
          "output_type": "stream",
          "name": "stdout",
          "text": [
            "[ 156  920  971  897   35  599  567  553  891 1010  524  440 1141  579\n",
            "  138  566 1186  172  961  610  662  186  134  418  427  245  571  226\n",
            "  348 1071  637  203 1136  210  701  879  314  448 1088  406  375 1011\n",
            "  972  694  167  654 1069  678  982 1026  591 1195 1105  690  528  800\n",
            "  987  568  935   42  476  693  758  486   97  299  746  305    5  490\n",
            "  336  310  600  968  511  565   72  587  702  656   18   13  774  807\n",
            "  960  895  802 1117 1044  279  664   67  512  921  136 1157  150 1085\n",
            "   69  923  384 1106  964  456  825  204  318  196  362  887  417   85\n",
            " 1051  278  209  499 1019  154  779  844  351  739   98  560  462   86\n",
            "   45  590  304  228  898  332  103  882  688  429  178  319 1043  822\n",
            " 1182  294  188  943  229 1114   68  177  621  677 1123  507  376 1007\n",
            "  787  810  141  756 1033  163  120  240  976  252   95  529  352  431\n",
            "  617  309  437  870  161  902  772  627  681  266  861  206  909  725\n",
            "  221 1130 1116 1148  801  768  948  580  754  805 1119  373  973  594\n",
            "  839   84 1055  409 1135 1045  182  624  710  307  249  714  603  586\n",
            "  184  536  119  444  280 1154 1151  326  260  989  316  856 1100  733\n",
            " 1178  502 1198  198  145  685  812  674  453   31  811 1015  250  282\n",
            "  651   43 1048  738   15  777  171  933  543 1066  129  200  367 1013\n",
            " 1075  875  263 1072   50  723  986 1073  251  306  394  831  611  883\n",
            "  396  558  643  776  541 1171  244  372  109 1173  303  657    9  842\n",
            "  683  157  147   65  190  243  289  820    7  112  789  131 1127  164\n",
            " 1074  794  613  235  684  452  682  906  124  647  876  917  176  916\n",
            " 1050   90  905   57   40 1101  292  267  965  646 1125  421 1056  130\n",
            "  110  670   33 1124  966  668  208  114 1077 1143  706  399  212   52\n",
            " 1115  904 1049   41  300  907  614  764  705  854  261  598  616  663\n",
            "  491  388  732  727  274  356  869  317 1145  497]\n",
            "(840, 125) (840, 5) (840, 1)\n"
          ]
        }
      ],
      "source": [
        "import numpy.matlib\n",
        "from sklearn.model_selection import ShuffleSplit, StratifiedShuffleSplit\n",
        "Ns = 1\n",
        "ss = ShuffleSplit(n_splits=Ns, test_size=0.3,random_state =123)\n",
        "for train_index, test_index in ss.split(X):\n",
        "    print(test_index)\n",
        "    X_train, X_test,Y_train,Y_test = X[train_index,:], X[test_index,:],Y[train_index,:], Y[test_index,:]\n",
        "    Y_true_train, Y_true_test = t[train_index].reshape(-1,1), t[test_index].reshape(-1,1)\n",
        "print(X_train.shape, Y_train.shape, Y_true_train.shape)"
      ]
    },
    {
      "cell_type": "code",
      "execution_count": 25,
      "id": "432a810b",
      "metadata": {
        "execution": {
          "iopub.execute_input": "2022-10-24T23:57:07.323646Z",
          "iopub.status.busy": "2022-10-24T23:57:07.323052Z",
          "iopub.status.idle": "2022-10-24T23:57:07.329119Z",
          "shell.execute_reply": "2022-10-24T23:57:07.328309Z"
        },
        "papermill": {
          "duration": 0.025709,
          "end_time": "2022-10-24T23:57:07.331085",
          "exception": false,
          "start_time": "2022-10-24T23:57:07.305376",
          "status": "completed"
        },
        "tags": [],
        "id": "432a810b"
      },
      "outputs": [],
      "source": [
        "scaler = MinMaxScaler()\n",
        "scaler.fit(X_train)\n",
        "X_train = scaler.transform(X_train)\n",
        "X_test = scaler.transform(X_test)"
      ]
    },
    {
      "cell_type": "code",
      "source": [],
      "metadata": {
        "id": "H9ektn5BIvXi"
      },
      "id": "H9ektn5BIvXi",
      "execution_count": 25,
      "outputs": []
    },
    {
      "cell_type": "code",
      "source": [
        "from sklearn.metrics import classification_report, balanced_accuracy_score, roc_auc_score\n",
        "from sklearn.metrics import normalized_mutual_info_score, mutual_info_score, adjusted_mutual_info_score\n",
        "import pandas as pd\n",
        "l1 =0.1\n",
        "NUM_RUNS =10\n",
        "custom_loss = \"RCDNN\"\n",
        "\n",
        "\n",
        "results = []\n",
        "for i in range(NUM_RUNS):\n",
        "\n",
        "    print(\"iteration: \" + str(i))\n",
        "   \n",
        "    MA = Keras_MA_GCCE(epochs=100,batch_size=64,R=5, K=len(np.unique(Y_true_train)), dropout=0.25, learning_rate=0.001,optimizer='Adam', \n",
        "                l1_param=l1,  validation_split=0, verbose=0, q=0.01, neurons=4, loss = custom_loss )\n",
        "    \n",
        "    MA.fit(X_train, Y_train)\n",
        "    MA.plot_history()\n",
        "  \n",
        "    # Generate the predictions for the current run\n",
        "    pred_2 = MA.predict(X_test)\n",
        "     \n",
        "    acc, auc, auc_sk,  nmi,  bacc = evaluation_metrics(Y_true_test,  pred_2[:,Y.shape[1]:], print_result=False)  # mi, ami,\n",
        "    \n",
        "    # Save the results for the current run to the list of dictionaries\n",
        "    results.append({\n",
        "        #'run': i,\n",
        "        'accuracy': acc,\n",
        "        'balanced_accuracy': bacc,\n",
        "       # 'mutual_information': mi,\n",
        "        'normalized_mutual_information': nmi,\n",
        "     #   'adjusted_mutual_information': ami,\n",
        "        'auc_tensorflow': auc,\n",
        "        'auc_scikit_learn': auc_sk,\n",
        "    })\n",
        "    \n",
        "# Convert the list of dictionaries to a DataFrame\n",
        "df = np.round(pd.DataFrame(results)*100, 2)\n",
        "\n",
        "# Calculate the mean and standard deviation of each metric\n",
        "mean = np.round(df.mean(),2)\n",
        "std = np.round(df.std(),2)  \n",
        "\n",
        "\n"
      ],
      "metadata": {
        "colab": {
          "base_uri": "https://localhost:8080/",
          "height": 1000
        },
        "id": "du8C7Syro2p7",
        "outputId": "10a3afdc-4eec-4791-aa63-0c774d2f4b68"
      },
      "execution_count": 26,
      "outputs": [
        {
          "output_type": "stream",
          "name": "stdout",
          "text": [
            "iteration: 0\n"
          ]
        },
        {
          "output_type": "display_data",
          "data": {
            "text/plain": [
              "<Figure size 576x360 with 1 Axes>"
            ],
            "image/png": "[encoded data removed]"
          },
          "metadata": {
            "needs_background": "light"
          }
        },
        {
          "output_type": "stream",
          "name": "stdout",
          "text": [
            "12/12 [==============================] - 0s 29ms/step\n",
            "iteration: 1\n"
          ]
        },
        {
          "output_type": "display_data",
          "data": {
            "text/plain": [
              "<Figure size 576x360 with 1 Axes>"
            ],
            "image/png": "[encoded data removed]"
          },
          "metadata": {
            "needs_background": "light"
          }
        },
        {
          "output_type": "stream",
          "name": "stdout",
          "text": [
            "12/12 [==============================] - 1s 56ms/step\n",
            "iteration: 2\n"
          ]
        },
        {
          "output_type": "display_data",
          "data": {
            "text/plain": [
              "<Figure size 576x360 with 1 Axes>"
            ],
            "image/png": "[encoded data removed]"
          },
          "metadata": {
            "needs_background": "light"
          }
        },
        {
          "output_type": "stream",
          "name": "stdout",
          "text": [
            "12/12 [==============================] - 0s 31ms/step\n",
            "iteration: 3\n"
          ]
        },
        {
          "output_type": "display_data",
          "data": {
            "text/plain": [
              "<Figure size 576x360 with 1 Axes>"
            ],
            "image/png": "[encoded data removed]"
          },
          "metadata": {
            "needs_background": "light"
          }
        },
        {
          "output_type": "stream",
          "name": "stdout",
          "text": [
            "12/12 [==============================] - 0s 29ms/step\n",
            "iteration: 4\n"
          ]
        },
        {
          "output_type": "display_data",
          "data": {
            "text/plain": [
              "<Figure size 576x360 with 1 Axes>"
            ],
            "image/png": "[encoded data removed]"
          },
          "metadata": {
            "needs_background": "light"
          }
        },
        {
          "output_type": "stream",
          "name": "stdout",
          "text": [
            "12/12 [==============================] - 0s 30ms/step\n",
            "iteration: 5\n"
          ]
        },
        {
          "output_type": "display_data",
          "data": {
            "text/plain": [
              "<Figure size 576x360 with 1 Axes>"
            ],
            "image/png": "[encoded data removed]"
          },
          "metadata": {
            "needs_background": "light"
          }
        },
        {
          "output_type": "stream",
          "name": "stdout",
          "text": [
            "12/12 [==============================] - 0s 28ms/step\n",
            "iteration: 6\n"
          ]
        },
        {
          "output_type": "display_data",
          "data": {
            "text/plain": [
              "<Figure size 576x360 with 1 Axes>"
            ],
            "image/png": "[encoded data removed]"
          },
          "metadata": {
            "needs_background": "light"
          }
        },
        {
          "output_type": "stream",
          "name": "stdout",
          "text": [
            "12/12 [==============================] - 0s 30ms/step\n",
            "iteration: 7\n"
          ]
        },
        {
          "output_type": "display_data",
          "data": {
            "text/plain": [
              "<Figure size 576x360 with 1 Axes>"
            ],
            "image/png": "[encoded data removed]"
          },
          "metadata": {
            "needs_background": "light"
          }
        },
        {
          "output_type": "stream",
          "name": "stdout",
          "text": [
            "12/12 [==============================] - 0s 30ms/step\n",
            "iteration: 8\n"
          ]
        },
        {
          "output_type": "display_data",
          "data": {
            "text/plain": [
              "<Figure size 576x360 with 1 Axes>"
            ],
            "image/png": "[encoded data removed]"
          },
          "metadata": {
            "needs_background": "light"
          }
        },
        {
          "output_type": "stream",
          "name": "stdout",
          "text": [
            "12/12 [==============================] - 1s 61ms/step\n",
            "iteration: 9\n"
          ]
        },
        {
          "output_type": "display_data",
          "data": {
            "text/plain": [
              "<Figure size 576x360 with 1 Axes>"
            ],
            "image/png": "[encoded data removed]"
          },
          "metadata": {
            "needs_background": "light"
          }
        },
        {
          "output_type": "stream",
          "name": "stdout",
          "text": [
            "12/12 [==============================] - 0s 30ms/step\n"
          ]
        }
      ],
      "id": "du8C7Syro2p7"
    },
    {
      "cell_type": "code",
      "source": [
        "df"
      ],
      "metadata": {
        "colab": {
          "base_uri": "https://localhost:8080/",
          "height": 363
        },
        "id": "ispxoor_q6DN",
        "outputId": "569c92f2-4b56-4651-a7cf-62812420680a"
      },
      "execution_count": 27,
      "outputs": [
        {
          "output_type": "execute_result",
          "data": {
            "text/plain": [
              "   accuracy  balanced_accuracy  normalized_mutual_information  auc_tensorflow  \\\n",
              "0     97.22              96.30                          96.67           100.0   \n",
              "1     98.06              97.49                          97.27           100.0   \n",
              "2     98.06              97.49                          97.27           100.0   \n",
              "3     97.78              97.09                          97.05           100.0   \n",
              "4     98.06              97.49                          97.27           100.0   \n",
              "5     98.33              97.88                          97.52           100.0   \n",
              "6     97.22              96.30                          96.67           100.0   \n",
              "7     98.06              97.49                          97.27           100.0   \n",
              "8     97.78              97.09                          97.05           100.0   \n",
              "9     98.33              97.88                          97.52           100.0   \n",
              "\n",
              "   auc_scikit_learn  \n",
              "0             99.99  \n",
              "1            100.00  \n",
              "2             99.98  \n",
              "3            100.00  \n",
              "4             99.98  \n",
              "5            100.00  \n",
              "6             99.99  \n",
              "7            100.00  \n",
              "8             99.98  \n",
              "9            100.00  "
            ],
            "text/html": [
              "\n",
              "  <div id=\"df-647cf5a8-457f-4f40-87a3-b79248b4fa59\">\n",
              "    <div class=\"colab-df-container\">\n",
              "      <div>\n",
              "<style scoped>\n",
              "    .dataframe tbody tr th:only-of-type {\n",
              "        vertical-align: middle;\n",
              "    }\n",
              "\n",
              "    .dataframe tbody tr th {\n",
              "        vertical-align: top;\n",
              "    }\n",
              "\n",
              "    .dataframe thead th {\n",
              "        text-align: right;\n",
              "    }\n",
              "</style>\n",
              "<table border=\"1\" class=\"dataframe\">\n",
              "  <thead>\n",
              "    <tr style=\"text-align: right;\">\n",
              "      <th></th>\n",
              "      <th>accuracy</th>\n",
              "      <th>balanced_accuracy</th>\n",
              "      <th>normalized_mutual_information</th>\n",
              "      <th>auc_tensorflow</th>\n",
              "      <th>auc_scikit_learn</th>\n",
              "    </tr>\n",
              "  </thead>\n",
              "  <tbody>\n",
              "    <tr>\n",
              "      <th>0</th>\n",
              "      <td>97.22</td>\n",
              "      <td>96.30</td>\n",
              "      <td>96.67</td>\n",
              "      <td>100.0</td>\n",
              "      <td>99.99</td>\n",
              "    </tr>\n",
              "    <tr>\n",
              "      <th>1</th>\n",
              "      <td>98.06</td>\n",
              "      <td>97.49</td>\n",
              "      <td>97.27</td>\n",
              "      <td>100.0</td>\n",
              "      <td>100.00</td>\n",
              "    </tr>\n",
              "    <tr>\n",
              "      <th>2</th>\n",
              "      <td>98.06</td>\n",
              "      <td>97.49</td>\n",
              "      <td>97.27</td>\n",
              "      <td>100.0</td>\n",
              "      <td>99.98</td>\n",
              "    </tr>\n",
              "    <tr>\n",
              "      <th>3</th>\n",
              "      <td>97.78</td>\n",
              "      <td>97.09</td>\n",
              "      <td>97.05</td>\n",
              "      <td>100.0</td>\n",
              "      <td>100.00</td>\n",
              "    </tr>\n",
              "    <tr>\n",
              "      <th>4</th>\n",
              "      <td>98.06</td>\n",
              "      <td>97.49</td>\n",
              "      <td>97.27</td>\n",
              "      <td>100.0</td>\n",
              "      <td>99.98</td>\n",
              "    </tr>\n",
              "    <tr>\n",
              "      <th>5</th>\n",
              "      <td>98.33</td>\n",
              "      <td>97.88</td>\n",
              "      <td>97.52</td>\n",
              "      <td>100.0</td>\n",
              "      <td>100.00</td>\n",
              "    </tr>\n",
              "    <tr>\n",
              "      <th>6</th>\n",
              "      <td>97.22</td>\n",
              "      <td>96.30</td>\n",
              "      <td>96.67</td>\n",
              "      <td>100.0</td>\n",
              "      <td>99.99</td>\n",
              "    </tr>\n",
              "    <tr>\n",
              "      <th>7</th>\n",
              "      <td>98.06</td>\n",
              "      <td>97.49</td>\n",
              "      <td>97.27</td>\n",
              "      <td>100.0</td>\n",
              "      <td>100.00</td>\n",
              "    </tr>\n",
              "    <tr>\n",
              "      <th>8</th>\n",
              "      <td>97.78</td>\n",
              "      <td>97.09</td>\n",
              "      <td>97.05</td>\n",
              "      <td>100.0</td>\n",
              "      <td>99.98</td>\n",
              "    </tr>\n",
              "    <tr>\n",
              "      <th>9</th>\n",
              "      <td>98.33</td>\n",
              "      <td>97.88</td>\n",
              "      <td>97.52</td>\n",
              "      <td>100.0</td>\n",
              "      <td>100.00</td>\n",
              "    </tr>\n",
              "  </tbody>\n",
              "</table>\n",
              "</div>\n",
              "      <button class=\"colab-df-convert\" onclick=\"convertToInteractive('df-647cf5a8-457f-4f40-87a3-b79248b4fa59')\"\n",
              "              title=\"Convert this dataframe to an interactive table.\"\n",
              "              style=\"display:none;\">\n",
              "        \n",
              "  <svg xmlns=\"http://www.w3.org/2000/svg\" height=\"24px\"viewBox=\"0 0 24 24\"\n",
              "       width=\"24px\">\n",
              "    <path d=\"M0 0h24v24H0V0z\" fill=\"none\"/>\n",
              "    <path d=\"M18.56 5.44l.94 2.06.94-2.06 2.06-.94-2.06-.94-.94-2.06-.94 2.06-2.06.94zm-11 1L8.5 8.5l.94-2.06 2.06-.94-2.06-.94L8.5 2.5l-.94 2.06-2.06.94zm10 10l.94 2.06.94-2.06 2.06-.94-2.06-.94-.94-2.06-.94 2.06-2.06.94z\"/><path d=\"M17.41 7.96l-1.37-1.37c-.4-.4-.92-.59-1.43-.59-.52 0-1.04.2-1.43.59L10.3 9.45l-7.72 7.72c-.78.78-.78 2.05 0 2.83L4 21.41c.39.39.9.59 1.41.59.51 0 1.02-.2 1.41-.59l7.78-7.78 2.81-2.81c.8-.78.8-2.07 0-2.86zM5.41 20L4 18.59l7.72-7.72 1.47 1.35L5.41 20z\"/>\n",
              "  </svg>\n",
              "      </button>\n",
              "      \n",
              "  <style>\n",
              "    .colab-df-container {\n",
              "      display:flex;\n",
              "      flex-wrap:wrap;\n",
              "      gap: 12px;\n",
              "    }\n",
              "\n",
              "    .colab-df-convert {\n",
              "      background-color: #E8F0FE;\n",
              "      border: none;\n",
              "      border-radius: 50%;\n",
              "      cursor: pointer;\n",
              "      display: none;\n",
              "      fill: #1967D2;\n",
              "      height: 32px;\n",
              "      padding: 0 0 0 0;\n",
              "      width: 32px;\n",
              "    }\n",
              "\n",
              "    .colab-df-convert:hover {\n",
              "      background-color: #E2EBFA;\n",
              "      box-shadow: 0px 1px 2px rgba(60, 64, 67, 0.3), 0px 1px 3px 1px rgba(60, 64, 67, 0.15);\n",
              "      fill: #174EA6;\n",
              "    }\n",
              "\n",
              "    [theme=dark] .colab-df-convert {\n",
              "      background-color: #3B4455;\n",
              "      fill: #D2E3FC;\n",
              "    }\n",
              "\n",
              "    [theme=dark] .colab-df-convert:hover {\n",
              "      background-color: #434B5C;\n",
              "      box-shadow: 0px 1px 3px 1px rgba(0, 0, 0, 0.15);\n",
              "      filter: drop-shadow(0px 1px 2px rgba(0, 0, 0, 0.3));\n",
              "      fill: #FFFFFF;\n",
              "    }\n",
              "  </style>\n",
              "\n",
              "      <script>\n",
              "        const buttonEl =\n",
              "          document.querySelector('#df-647cf5a8-457f-4f40-87a3-b79248b4fa59 button.colab-df-convert');\n",
              "        buttonEl.style.display =\n",
              "          google.colab.kernel.accessAllowed ? 'block' : 'none';\n",
              "\n",
              "        async function convertToInteractive(key) {\n",
              "          const element = document.querySelector('#df-647cf5a8-457f-4f40-87a3-b79248b4fa59');\n",
              "          const dataTable =\n",
              "            await google.colab.kernel.invokeFunction('convertToInteractive',\n",
              "                                                     [key], {});\n",
              "          if (!dataTable) return;\n",
              "\n",
              "          const docLinkHtml = 'Like what you see? Visit the ' +\n",
              "            '<a target=\"_blank\" href=https://colab.research.google.com/notebooks/data_table.ipynb>data table notebook</a>'\n",
              "            + ' to learn more about interactive tables.';\n",
              "          element.innerHTML = '';\n",
              "          dataTable['output_type'] = 'display_data';\n",
              "          await google.colab.output.renderOutput(dataTable, element);\n",
              "          const docLink = document.createElement('div');\n",
              "          docLink.innerHTML = docLinkHtml;\n",
              "          element.appendChild(docLink);\n",
              "        }\n",
              "      </script>\n",
              "    </div>\n",
              "  </div>\n",
              "  "
            ]
          },
          "metadata": {},
          "execution_count": 27
        }
      ],
      "id": "ispxoor_q6DN"
    },
    {
      "cell_type": "code",
      "source": [
        "mean"
      ],
      "metadata": {
        "colab": {
          "base_uri": "https://localhost:8080/"
        },
        "id": "whTSUvCJq_bf",
        "outputId": "5b1938c0-4d63-4afe-e048-d9243e85c6c7"
      },
      "execution_count": 28,
      "outputs": [
        {
          "output_type": "execute_result",
          "data": {
            "text/plain": [
              "accuracy                          97.89\n",
              "balanced_accuracy                 97.25\n",
              "normalized_mutual_information     97.16\n",
              "auc_tensorflow                   100.00\n",
              "auc_scikit_learn                  99.99\n",
              "dtype: float64"
            ]
          },
          "metadata": {},
          "execution_count": 28
        }
      ],
      "id": "whTSUvCJq_bf"
    },
    {
      "cell_type": "code",
      "source": [
        "std"
      ],
      "metadata": {
        "colab": {
          "base_uri": "https://localhost:8080/"
        },
        "id": "PH_iucZ1rJDD",
        "outputId": "7ec27dcf-031c-4592-d467-beaf1f4d22a5"
      },
      "execution_count": 29,
      "outputs": [
        {
          "output_type": "execute_result",
          "data": {
            "text/plain": [
              "accuracy                         0.40\n",
              "balanced_accuracy                0.57\n",
              "normalized_mutual_information    0.30\n",
              "auc_tensorflow                   0.00\n",
              "auc_scikit_learn                 0.01\n",
              "dtype: float64"
            ]
          },
          "metadata": {},
          "execution_count": 29
        }
      ],
      "id": "PH_iucZ1rJDD"
    },
    {
      "cell_type": "code",
      "source": [
        "result_df = pd.concat([mean.rename('Mean'), std.rename('Std')], axis=1)"
      ],
      "metadata": {
        "id": "IZWYJ4cZus0i"
      },
      "execution_count": 30,
      "outputs": [],
      "id": "IZWYJ4cZus0i"
    },
    {
      "cell_type": "code",
      "source": [
        "result_df"
      ],
      "metadata": {
        "colab": {
          "base_uri": "https://localhost:8080/",
          "height": 206
        },
        "id": "j5oR79xIvOJf",
        "outputId": "1cb335bb-807b-49e4-8570-70f2132a6cea"
      },
      "execution_count": 31,
      "outputs": [
        {
          "output_type": "execute_result",
          "data": {
            "text/plain": [
              "                                 Mean   Std\n",
              "accuracy                        97.89  0.40\n",
              "balanced_accuracy               97.25  0.57\n",
              "normalized_mutual_information   97.16  0.30\n",
              "auc_tensorflow                 100.00  0.00\n",
              "auc_scikit_learn                99.99  0.01"
            ],
            "text/html": [
              "\n",
              "  <div id=\"df-b03b76d5-cab1-40dc-926f-9c0a46ca4d64\">\n",
              "    <div class=\"colab-df-container\">\n",
              "      <div>\n",
              "<style scoped>\n",
              "    .dataframe tbody tr th:only-of-type {\n",
              "        vertical-align: middle;\n",
              "    }\n",
              "\n",
              "    .dataframe tbody tr th {\n",
              "        vertical-align: top;\n",
              "    }\n",
              "\n",
              "    .dataframe thead th {\n",
              "        text-align: right;\n",
              "    }\n",
              "</style>\n",
              "<table border=\"1\" class=\"dataframe\">\n",
              "  <thead>\n",
              "    <tr style=\"text-align: right;\">\n",
              "      <th></th>\n",
              "      <th>Mean</th>\n",
              "      <th>Std</th>\n",
              "    </tr>\n",
              "  </thead>\n",
              "  <tbody>\n",
              "    <tr>\n",
              "      <th>accuracy</th>\n",
              "      <td>97.89</td>\n",
              "      <td>0.40</td>\n",
              "    </tr>\n",
              "    <tr>\n",
              "      <th>balanced_accuracy</th>\n",
              "      <td>97.25</td>\n",
              "      <td>0.57</td>\n",
              "    </tr>\n",
              "    <tr>\n",
              "      <th>normalized_mutual_information</th>\n",
              "      <td>97.16</td>\n",
              "      <td>0.30</td>\n",
              "    </tr>\n",
              "    <tr>\n",
              "      <th>auc_tensorflow</th>\n",
              "      <td>100.00</td>\n",
              "      <td>0.00</td>\n",
              "    </tr>\n",
              "    <tr>\n",
              "      <th>auc_scikit_learn</th>\n",
              "      <td>99.99</td>\n",
              "      <td>0.01</td>\n",
              "    </tr>\n",
              "  </tbody>\n",
              "</table>\n",
              "</div>\n",
              "      <button class=\"colab-df-convert\" onclick=\"convertToInteractive('df-b03b76d5-cab1-40dc-926f-9c0a46ca4d64')\"\n",
              "              title=\"Convert this dataframe to an interactive table.\"\n",
              "              style=\"display:none;\">\n",
              "        \n",
              "  <svg xmlns=\"http://www.w3.org/2000/svg\" height=\"24px\"viewBox=\"0 0 24 24\"\n",
              "       width=\"24px\">\n",
              "    <path d=\"M0 0h24v24H0V0z\" fill=\"none\"/>\n",
              "    <path d=\"M18.56 5.44l.94 2.06.94-2.06 2.06-.94-2.06-.94-.94-2.06-.94 2.06-2.06.94zm-11 1L8.5 8.5l.94-2.06 2.06-.94-2.06-.94L8.5 2.5l-.94 2.06-2.06.94zm10 10l.94 2.06.94-2.06 2.06-.94-2.06-.94-.94-2.06-.94 2.06-2.06.94z\"/><path d=\"M17.41 7.96l-1.37-1.37c-.4-.4-.92-.59-1.43-.59-.52 0-1.04.2-1.43.59L10.3 9.45l-7.72 7.72c-.78.78-.78 2.05 0 2.83L4 21.41c.39.39.9.59 1.41.59.51 0 1.02-.2 1.41-.59l7.78-7.78 2.81-2.81c.8-.78.8-2.07 0-2.86zM5.41 20L4 18.59l7.72-7.72 1.47 1.35L5.41 20z\"/>\n",
              "  </svg>\n",
              "      </button>\n",
              "      \n",
              "  <style>\n",
              "    .colab-df-container {\n",
              "      display:flex;\n",
              "      flex-wrap:wrap;\n",
              "      gap: 12px;\n",
              "    }\n",
              "\n",
              "    .colab-df-convert {\n",
              "      background-color: #E8F0FE;\n",
              "      border: none;\n",
              "      border-radius: 50%;\n",
              "      cursor: pointer;\n",
              "      display: none;\n",
              "      fill: #1967D2;\n",
              "      height: 32px;\n",
              "      padding: 0 0 0 0;\n",
              "      width: 32px;\n",
              "    }\n",
              "\n",
              "    .colab-df-convert:hover {\n",
              "      background-color: #E2EBFA;\n",
              "      box-shadow: 0px 1px 2px rgba(60, 64, 67, 0.3), 0px 1px 3px 1px rgba(60, 64, 67, 0.15);\n",
              "      fill: #174EA6;\n",
              "    }\n",
              "\n",
              "    [theme=dark] .colab-df-convert {\n",
              "      background-color: #3B4455;\n",
              "      fill: #D2E3FC;\n",
              "    }\n",
              "\n",
              "    [theme=dark] .colab-df-convert:hover {\n",
              "      background-color: #434B5C;\n",
              "      box-shadow: 0px 1px 3px 1px rgba(0, 0, 0, 0.15);\n",
              "      filter: drop-shadow(0px 1px 2px rgba(0, 0, 0, 0.3));\n",
              "      fill: #FFFFFF;\n",
              "    }\n",
              "  </style>\n",
              "\n",
              "      <script>\n",
              "        const buttonEl =\n",
              "          document.querySelector('#df-b03b76d5-cab1-40dc-926f-9c0a46ca4d64 button.colab-df-convert');\n",
              "        buttonEl.style.display =\n",
              "          google.colab.kernel.accessAllowed ? 'block' : 'none';\n",
              "\n",
              "        async function convertToInteractive(key) {\n",
              "          const element = document.querySelector('#df-b03b76d5-cab1-40dc-926f-9c0a46ca4d64');\n",
              "          const dataTable =\n",
              "            await google.colab.kernel.invokeFunction('convertToInteractive',\n",
              "                                                     [key], {});\n",
              "          if (!dataTable) return;\n",
              "\n",
              "          const docLinkHtml = 'Like what you see? Visit the ' +\n",
              "            '<a target=\"_blank\" href=https://colab.research.google.com/notebooks/data_table.ipynb>data table notebook</a>'\n",
              "            + ' to learn more about interactive tables.';\n",
              "          element.innerHTML = '';\n",
              "          dataTable['output_type'] = 'display_data';\n",
              "          await google.colab.output.renderOutput(dataTable, element);\n",
              "          const docLink = document.createElement('div');\n",
              "          docLink.innerHTML = docLinkHtml;\n",
              "          element.appendChild(docLink);\n",
              "        }\n",
              "      </script>\n",
              "    </div>\n",
              "  </div>\n",
              "  "
            ]
          },
          "metadata": {},
          "execution_count": 31
        }
      ],
      "id": "j5oR79xIvOJf"
    },
    {
      "cell_type": "code",
      "source": [
        "# Save the DataFrame to an excel file\n",
        "df.to_excel(database + custom_loss + \".xlsx\")"
      ],
      "metadata": {
        "id": "wrsupD_Qshl2"
      },
      "execution_count": 32,
      "outputs": [],
      "id": "wrsupD_Qshl2"
    }
  ],
  "metadata": {
    "kernelspec": {
      "display_name": "Python 3",
      "language": "python",
      "name": "python3"
    },
    "language_info": {
      "codemirror_mode": {
        "name": "ipython",
        "version": 3
      },
      "file_extension": ".py",
      "mimetype": "text/x-python",
      "name": "python",
      "nbconvert_exporter": "python",
      "pygments_lexer": "ipython3",
      "version": "3.7.12"
    },
    "papermill": {
      "default_parameters": {},
      "duration": 3238.520813,
      "end_time": "2022-10-25T00:50:24.487759",
      "environment_variables": {},
      "exception": null,
      "input_path": "__notebook__.ipynb",
      "output_path": "__notebook__.ipynb",
      "parameters": {},
      "start_time": "2022-10-24T23:56:25.966946",
      "version": "2.3.4"
    },
    "colab": {
      "provenance": [],
      "include_colab_link": true
    }
  },
  "nbformat": 4,
  "nbformat_minor": 5
}