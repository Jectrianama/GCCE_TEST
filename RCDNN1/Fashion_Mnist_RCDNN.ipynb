{
  "cells": [
    {
      "cell_type": "markdown",
      "metadata": {
        "id": "view-in-github",
        "colab_type": "text"
      },
      "source": [
        "<a href=\"https://colab.research.google.com/github/Jectrianama/GCCE_TEST/blob/main/RCDNN1/Fashion_Mnist_RCDNN.ipynb\" target=\"_parent\"><img src=\"https://colab.research.google.com/assets/colab-badge.svg\" alt=\"Open In Colab\"/></a>"
      ]
    },
    {
      "cell_type": "code",
      "execution_count": 1,
      "metadata": {
        "id": "86321f42"
      },
      "outputs": [],
      "source": [
        "import tensorflow as tf\n",
        "from sklearn.metrics import classification_report, accuracy_score, balanced_accuracy_score, roc_auc_score, mutual_info_score, normalized_mutual_info_score, adjusted_mutual_info_score\n",
        "from sklearn.preprocessing import LabelBinarizer\n",
        "from sklearn.preprocessing import OneHotEncoder\n",
        "from scipy.stats import mode \n",
        "import numpy as np\n",
        "\n",
        "def ook(t):\n",
        "  lb = LabelBinarizer()\n",
        "  y_ook = lb.fit_transform(t)  \n",
        "\n",
        "  if len(np.unique(t))==2:\n",
        "    y_ook = np.concatenate((1-y_ook.astype(bool), y_ook), axis = 1) \n",
        "\n",
        "  return y_ook\n",
        "\n",
        " \n",
        "\n",
        "def evaluation_metrics(y_true, y_pred, print_result=True):\n",
        "    acc = 0\n",
        "    auc = 0\n",
        "    auc_sk = 0\n",
        "    #mi = 0\n",
        "    nmi = 0\n",
        "    #ami = 0\n",
        "    bacc = 0\n",
        "    \n",
        "    # Accuracy\n",
        "    #report = classification_report(y_pred.argmax(axis=1), y_true.ravel(), output_dict=True)\n",
        "    acc = accuracy_score( y_true.ravel(), y_pred.argmax(axis=1))  #report['accuracy']\n",
        "    \n",
        "    # Balanced accuracy\n",
        "    bacc = balanced_accuracy_score(y_true.squeeze(), y_pred.argmax(axis=1).squeeze(), adjusted=True)\n",
        "    \n",
        "   # # Mutual Information\n",
        "   # mi = mutual_info_score(y_true.squeeze(), y_pred.argmax(axis=1).squeeze())\n",
        "    \n",
        "    # Normalized Mutual Information\n",
        "    nmi = normalized_mutual_info_score(y_true.squeeze(), y_pred.argmax(axis=1).squeeze())\n",
        "    \n",
        "    # Adjusted Mutual Information\n",
        "    #ami = adjusted_mutual_info_score(y_true.squeeze(), y_pred.argmax(axis=1).squeeze())\n",
        "    \n",
        "    # AUC (Tensorflow)\n",
        "    auc_metric = tf.keras.metrics.AUC(from_logits=True)\n",
        "    auc_metric.update_state(y_true, y_pred.argmax(axis=1).astype('float'))\n",
        "    auc = auc_metric.result().numpy()\n",
        "    auc_metric.reset_states()\n",
        "    \n",
        "    # AUC (scikit-learn)\n",
        "    auc_sk = roc_auc_score(ook(y_true), y_pred)\n",
        "    \n",
        "    if print_result:\n",
        "        print(\"Accuracy: {:.4f}\".format(acc))\n",
        "        print(\"Balanced Accuracy: {:.4f}\".format(bacc))\n",
        "        print(\"Mutual Information: {:.4f}\".format(mi))\n",
        "        print(\"Normalized Mutual Information: {:.4f}\".format(nmi))\n",
        "        print(\"Adjusted Mutual Information: {:.4f}\".format(ami))\n",
        "        print(\"AUC (Tensorflow): {:.4f}\".format(auc))\n",
        "        print(\"AUC (scikit-learn): {:.4f}\".format(auc_sk))\n",
        "    \n",
        "    return acc, auc, auc_sk, nmi, bacc   # mi, , ami\n",
        "\n",
        "\n"
      ],
      "id": "86321f42"
    },
    {
      "cell_type": "markdown",
      "metadata": {
        "id": "13b0308c"
      },
      "source": [
        "# Subclassing for RCDNN"
      ],
      "id": "13b0308c"
    },
    {
      "cell_type": "code",
      "source": [
        "# -*- coding: utf-8 -*-\n",
        "import tensorflow as tf\n",
        "import matplotlib.pyplot as plt\n",
        "#from tensorflow.keras.wrappers.scikit_learn import KerasClassifier\n",
        "import tensorflow_probability as tfp\n",
        "from tensorflow.keras import regularizers\n",
        "from sklearn.base import  BaseEstimator, TransformerMixin, ClassifierMixin\n",
        "from sklearn.model_selection import train_test_split\n",
        "tf.keras.backend.clear_session()\n",
        "#tf.random.set_seed(42)\n",
        "import types\n",
        "import tempfile\n",
        "class Keras_MA_GCCE():  \n",
        " #Constructor __init__. Special method: identified by a double underscore at either side of their name\n",
        " #work in the background\n",
        " # initialize data members to the object. lets the class initialize the object’s attributes and serves no other purpose.\n",
        "    def __init__(self,epochs=100,batch_size=30,R=5, K=2, dropout=0.5, learning_rate=1e-3,optimizer='Adam', \n",
        "                  l1_param=0, validation_split=0.3, verbose=1, q = 0.1, neurons=1.5, loss = \"GCE\" ):\n",
        "        self.epochs=epochs\n",
        "        self.dropout=dropout\n",
        "        self.batch_size = batch_size\n",
        "        self.learning_rate=learning_rate \n",
        "        self.l1_param=l1_param \n",
        "        self.l2_param=l1_param\n",
        "        self.validation_split = validation_split\n",
        "        self.verbose = verbose\n",
        "        self.optimizer = optimizer\n",
        "        self.R=R\n",
        "        self.K=K\n",
        "        self.q = q\n",
        "        self.neurons = neurons\n",
        "        self.loss = loss\n",
        "    \n",
        "\n",
        "    \n",
        " \n",
        "    def GCE_MA_loss(self, y_true, y_pred):\n",
        "        # print(y_true,y_pred)\n",
        "       # q = 0.1\n",
        "        pred = y_pred[:, self.R:]\n",
        "        pred = tf.clip_by_value(pred, clip_value_min=1e-9, clip_value_max=1)\n",
        "        ann_ = y_pred[:, :self.R]\n",
        "        # ann_ = tf.clip_by_value(ann_, clip_value_min=1e-9, clip_value_max=1-1e-9)\n",
        "        Y_true = tf.one_hot(tf.cast(y_true, dtype=tf.int32), depth=self.K, axis=1)\n",
        "        #tf.print(tf.reduce_sum(Y_true[1,:,0]))\n",
        "        #tf.print(y_true[1,0])\n",
        "        Y_hat = tf.repeat(tf.expand_dims(pred,-1), self.R, axis = -1)\n",
        "\n",
        "        p_gcce = Y_true*(1 - Y_hat**self.q)/self.q\n",
        "        temp1 = ann_*tf.math.reduce_sum(p_gcce, axis=1)\n",
        "        temp2 = (1 - ann_)*(1-(1/self.K)**self.q)/self.q*tf.reduce_sum(Y_true,axis=1)\n",
        "        return tf.math.reduce_sum((temp1 + temp2))\n",
        "    \n",
        "    \n",
        "    def custom_RCDNN_loss(self, y_true, y_pred):  #ytrue \\in N x R,  ypred \\in N x (R+K) -> PRI->JULI\n",
        "    \n",
        "        #Input ytrue: samples (N) x  annotators (R) \n",
        "        #Input ypred: samples (N) x  annotators+classes (R+K) \n",
        "\n",
        "        #Ground truth estimation samples (N) x  Classes(K)\n",
        "        pred = y_pred[:,self.R:]\n",
        "        pred = tf.clip_by_value(pred, clip_value_min=1e-9, clip_value_max=1-1e-9) #estabilidad numerica de la funcion de costo\n",
        "        # Annotators reliability prediction: samples (N) x  annotators (R)\n",
        "        ann_ = y_pred[:,:self.R]\n",
        "        #Y_true 1-K: samples (N) x  Classes(1-K), annotators (R)\n",
        "        Y_true = tf.one_hot(tf.cast(y_true, dtype=tf.int32), depth=self.K, axis=1)\n",
        "        #Y_pred 1 - K: samples (N) x  Classes(1-K), annotators (R)\n",
        "        Y_hat = tf.repeat(tf.expand_dims(pred,-1), self.R, axis = -1)\n",
        "        #loss computation\n",
        "        p_logreg = tf.math.reduce_prod(tf.math.pow(Y_hat, Y_true), axis=1)\n",
        "        temp1 = ann_*tf.math.log(p_logreg)  \n",
        "        temp2 = (1 - ann_)*tf.math.log(1/self.K)*tf.reduce_sum(Y_true,axis=1)\n",
        "        # temp2 = (tf.ones(tf.shape(ann_)) - ann_)*tf.math.log(1/K)\n",
        "        # print(tf.reduce_mean(Y_true,axis=1).numpy())\n",
        "        return -tf.math.reduce_sum((temp1 + temp2))\n",
        "\n",
        " \n",
        "    def PRI_MA_loss(self, y_true, y_pred): #,  -> PRI\n",
        "        #Input ytrue: samples (N) x  annotators (R) \n",
        "        #Input ypred: samples (N) x  annotators+classes (R+K) \n",
        "        #PRI MA\n",
        "        cce_M = tf.keras.losses.CategoricalCrossentropy(reduction='none',axis=-1)\n",
        "        cce_C = tf.keras.losses.CategoricalCrossentropy(reduction='none',axis=1)\n",
        "\n",
        "      \n",
        "\n",
        "        #N = tf.cast(y_true.shape[0],dtype=tf.int32)\n",
        "        N = tf.shape(y_true)[0]\n",
        "        #Ground truth estimation samples (N) x  Classes(K)\n",
        "        y_pred_tf = y_pred[:,self.R:] \n",
        "        # Annotators reliability prediction: samples (N) x  annotators (R)\n",
        "        lambda_R_tf = y_pred[:,:self.R] #tf.ones(shape=(N,R)) \n",
        "        #Y_true 1 K: samples (N) x  Classes(1-K), annotators (R)\n",
        "        Y_true_1K = tf.one_hot(tf.cast(y_true,dtype=tf.int32),depth=self.K,axis=1)  \n",
        "        #Y_pred 1 - K: samples (N) x  Classes(1-K), annotators (R)\n",
        "        Y_hat = tf.repeat(tf.expand_dims(y_pred_tf,-1), self.R, axis = -1) \n",
        "        #marginal entropy\n",
        "        #cce along the K classes -> ypred_tf\n",
        "        Hm_ = cce_M(y_pred_tf,y_pred_tf)\n",
        "        #cross entropy\n",
        "        #cce along the K classes -> Y_hat\n",
        "        Hc_ = cce_C(Y_true_1K,Y_hat)\n",
        "        #PRI MA computation\n",
        "        LH = tf.linalg.matmul(lambda_R_tf,Hc_,transpose_a=True) # \\Lambda^\\top H_c\n",
        "        temp1 = tf.linalg.trace(LH) #trace(LH)\n",
        "        Hm1L = tf.linalg.matmul(tf.ones(shape=(N,self.R))-lambda_R_tf,tf.ones(shape=(self.R,1)))# 1_N 1_R^\\top - Lambda\n",
        "        Hm_t = tf.reshape(Hm_,shape=(N,1))\n",
        "        temp2 = tf.squeeze(tf.linalg.matmul(Hm_t,Hm1L,transpose_a=True)) # Hm^\\top Hm1L\n",
        "        loss_c = temp1+ temp2 #return loss\n",
        "\n",
        "        return loss_c\n",
        "\n",
        "    def fit(self, X, Y):\n",
        "        \n",
        "        def scheduler1(step = 10, ratio = 1.2):\n",
        "            def scheduler(epoch, lr):\n",
        "                if epoch % step == 0 and epoch>1:\n",
        "                    return lr/ratio\n",
        "                else:\n",
        "                    return lr\n",
        "            return scheduler\n",
        "\n",
        "        initializer = tf.keras.initializers.GlorotNormal(seed=100)\n",
        "        #input X numpy array first dimension samples (N)x features (P)\n",
        "        #input Y numpy array vector len = samples (N) x  annotators (R)\n",
        "        P = X.shape[1]\n",
        "        \n",
        "        if self.optimizer == \"Adam\":\n",
        "            opt = tf.keras.optimizers.Adam(learning_rate=self.learning_rate)\n",
        "        elif self.optimizer == \"SGD\":\n",
        "            opt = tf.keras.optimizers.SGD(learning_rate=self.learning_rate)\n",
        "        elif self.optimizer == \"RMSprop\":\n",
        "            opt = tf.keras.optimizers.RMSprop(learning_rate=self.learning_rate)\n",
        "        elif self.optimizer == \"Adagrad\":\n",
        "            opt = tf.keras.optimizers.Adagrad(learning_rate=self.learning_rate)\n",
        "        else:\n",
        "            opt=self.optimizer\n",
        "\n",
        "\n",
        "        if self.loss == \"RCDNN\":\n",
        "          sel_loss = self.custom_RCDNN_loss\n",
        "        elif  self.loss == \"GCE\":\n",
        "          sel_loss = self.GCE_MA_loss\n",
        "        \n",
        "        #capa de entrada\n",
        "        input_l = tf.keras.layers.Input(shape=(X_train.shape[1]), name='entrada')\n",
        "        input_l_b = tf.keras.layers.BatchNormalization()(input_l)        \n",
        "        input_l_do = tf.keras.layers.Dropout(rate=self.dropout)(input_l_b)    \n",
        "        #capas densas\n",
        "        h1 = tf.keras.layers.Dense(int(200),activation='selu',name='h1', bias_initializer='zeros', kernel_initializer=initializer,\n",
        "                              kernel_regularizer=tf.keras.regularizers.l1_l2(l1=self.l1_param,l2=self.l2_param))(input_l_do)#argumento de entrada\n",
        "       # h1 = tf.keras.layers.BatchNormalization()(h1)        \n",
        "        h1 = tf.keras.layers.AlphaDropout(rate=self.dropout)(h1)      \n",
        "        h2 = tf.keras.layers.Dense(int(50),activation='selu',name='h2', bias_initializer='zeros', kernel_initializer=initializer,\n",
        "                              kernel_regularizer=tf.keras.regularizers.l1_l2(l1=self.l1_param,l2=self.l2_param))(h1)\n",
        "        #h2 = tf.keras.layers.BatchNormalization()(h2)     \n",
        "        dout = tf.keras.layers.AlphaDropout(rate=self.dropout)(h2)\n",
        "        output_R = tf.keras.layers.Dense(self.R,activation=\"sigmoid\", bias_initializer='zeros', kernel_initializer=initializer,\n",
        "                                    kernel_regularizer=tf.keras.regularizers.l1_l2(l1=self.l1_param,l2=self.l2_param), name= 'out_R_GCCE' )(dout)\n",
        " \n",
        "        output_K = tf.keras.layers.Dense(self.K,activation=\"softmax\", bias_initializer='zeros', kernel_initializer=initializer,\n",
        "                                    kernel_regularizer=tf.keras.regularizers.l1_l2(l1=self.l1_param,l2=self.l2_param), name= 'out_K_GCCE')(dout)\n",
        " \n",
        "        output = tf.keras.layers.concatenate([output_R, output_K])\n",
        "        self.model = tf.keras.Model(inputs= input_l,outputs=output)\n",
        "        self.model.compile(loss=sel_loss, optimizer=opt)\n",
        "\n",
        "        callback1 = tf.keras.callbacks.TerminateOnNaN()\n",
        "        callback2 = tf.keras.callbacks.LearningRateScheduler(scheduler1(ratio = 1))\n",
        "        #callback2 = tf.keras.callbacks.LearningRateScheduler(scheduler2)\n",
        "        callback3 = tf.keras.callbacks.EarlyStopping(monitor=\"loss\", min_delta=1e-2,\n",
        "                                                 patience=15, verbose=0, mode=\"auto\",\n",
        "                                                 baseline=None, restore_best_weights=True)\n",
        "            \n",
        " \n",
        "        self.history = self.model.fit(X, Y, epochs=self.epochs, validation_split=self.validation_split, callbacks = [callback1, callback2],   #\n",
        "                                      batch_size=self.batch_size,verbose=self.verbose, shuffle = True)\n",
        " \n",
        "        return self\n",
        " \n",
        "  \n",
        "  \n",
        "    \n",
        "    def predict(self, X, *_):\n",
        "       #input X numpy array first dimension samples (N)x features (P)\n",
        "      return  self.model.predict(X) \n",
        " \n",
        " \n",
        "\n",
        "    def fit_predict(self,X,y):\n",
        "        #input X numpy array first dimension samples (N)x features (P)\n",
        "        #input Y numpy array vector len = samples (N) x  annotators (R)\n",
        "        self.fit(X,y)\n",
        "        return self.predict(X)\n",
        "    \n",
        "    def model_MC(self, X, *_):\n",
        "       #input X numpy array first dimension samples (N)x features (P)\n",
        "        return  self.model(X, training=True) \n",
        " \n",
        "  \n",
        "     #graphics\n",
        "    def plot_history(self):\n",
        "        pd.DataFrame(self.history.history).plot(figsize=(8, 5))\n",
        "        plt.grid(True)\n",
        "        #plt.gca().set_ylim(0, 1)\n",
        "        #save_fig(\"keras_learning_curves_plot\")\n",
        "        plt.show()\n",
        "        return\n",
        "    \n",
        "    def set_params(self, **parameters):\n",
        "        for parameter, value in parameters.items():\n",
        "            setattr(self, parameter, value)\n",
        "\n",
        "        return self\n",
        "    \n",
        "    \n",
        "    \n",
        "    def get_params(self, deep=True):\n",
        "        return { 'l1_param':self.l1_param, 'dropout':self.dropout, 'optimizer':self.optimizer,\n",
        "                'learning_rate':self.learning_rate, 'batch_size':self.batch_size,\n",
        "                'epochs':self.epochs, 'verbose':self.verbose, 'validation_split':self.validation_split,\n",
        "                'R':self.R, 'K':self.K, 'q':self.q\n",
        "                }\n",
        "\n",
        "  \n",
        "        return self\n"
      ],
      "metadata": {
        "id": "ktLzywatJ8TP"
      },
      "id": "ktLzywatJ8TP",
      "execution_count": 2,
      "outputs": []
    },
    {
      "cell_type": "code",
      "source": [
        "!git clone https://github.com/Jectrianama/GCCE_TEST.git"
      ],
      "metadata": {
        "colab": {
          "base_uri": "https://localhost:8080/"
        },
        "id": "byULw2lxP5bt",
        "outputId": "00902cde-9fa7-4823-ccb8-d780abe16814"
      },
      "execution_count": 3,
      "outputs": [
        {
          "output_type": "stream",
          "name": "stdout",
          "text": [
            "Cloning into 'GCCE_TEST'...\n",
            "remote: Enumerating objects: 720, done.\u001b[K\n",
            "remote: Counting objects: 100% (313/313), done.\u001b[K\n",
            "remote: Compressing objects: 100% (185/185), done.\u001b[K\n",
            "remote: Total 720 (delta 170), reused 215 (delta 122), pack-reused 407\u001b[K\n",
            "Receiving objects: 100% (720/720), 32.47 MiB | 12.51 MiB/s, done.\n",
            "Resolving deltas: 100% (338/338), done.\n"
          ]
        }
      ],
      "id": "byULw2lxP5bt"
    },
    {
      "cell_type": "code",
      "source": [
        "import os\n",
        "os.chdir('/content/GCCE_TEST/Models')\n",
        "#from  keras_ma_gcce import *\n",
        "from labels_generation import MA_Clas_Gen\n",
        "os.chdir('../../')"
      ],
      "metadata": {
        "id": "4h9KwfCKQAlr"
      },
      "execution_count": 4,
      "outputs": [],
      "id": "4h9KwfCKQAlr"
    },
    {
      "cell_type": "markdown",
      "metadata": {
        "id": "5b055b86"
      },
      "source": [
        "# Load Data"
      ],
      "id": "5b055b86"
    },
    {
      "cell_type": "code",
      "execution_count": 5,
      "metadata": {
        "id": "b28bee07"
      },
      "outputs": [],
      "source": [
        "#load data\n",
        "import scipy.io as sio\n",
        "import matplotlib.pyplot as plt\n",
        "import pandas as pd\n",
        "import tensorflow as tf #importar tensorflow\n",
        "from sklearn.model_selection import GridSearchCV\n",
        "from sklearn.preprocessing import StandardScaler,MinMaxScaler\n",
        "import numpy as np\n",
        "database = 'Fashion-Mnist' #['bupa1', 'breast-cancer-wisconsin1','pima-indians-diabetes1', 'ionosphere1', 'tic-tac-toe1', 'iris1', 'wine1', 'segmentation1']\n",
        "\n",
        "\n",
        "# path_ = 'MADatasets/'+ database+ '.mat' \n",
        "# Xdata = sio.loadmat(path_)\n",
        "# Xdata.keys()\n"
      ],
      "id": "b28bee07"
    },
    {
      "cell_type": "code",
      "execution_count": 6,
      "metadata": {
        "id": "Vk53uHwAdyDi",
        "colab": {
          "base_uri": "https://localhost:8080/"
        },
        "outputId": "14c85463-120c-4dbf-f4a8-ed30efbe869b"
      },
      "outputs": [
        {
          "output_type": "stream",
          "name": "stdout",
          "text": [
            "Downloading data from https://storage.googleapis.com/tensorflow/tf-keras-datasets/train-labels-idx1-ubyte.gz\n",
            "29515/29515 [==============================] - 0s 0us/step\n",
            "Downloading data from https://storage.googleapis.com/tensorflow/tf-keras-datasets/train-images-idx3-ubyte.gz\n",
            "26421880/26421880 [==============================] - 1s 0us/step\n",
            "Downloading data from https://storage.googleapis.com/tensorflow/tf-keras-datasets/t10k-labels-idx1-ubyte.gz\n",
            "5148/5148 [==============================] - 0s 0us/step\n",
            "Downloading data from https://storage.googleapis.com/tensorflow/tf-keras-datasets/t10k-images-idx3-ubyte.gz\n",
            "4422102/4422102 [==============================] - 0s 0us/step\n"
          ]
        }
      ],
      "source": [
        "(X, t), _ = tf.keras.datasets.fashion_mnist.load_data()\n",
        "t=t+1\n",
        "X = X.reshape(len(X),-1)"
      ],
      "id": "Vk53uHwAdyDi"
    },
    {
      "cell_type": "markdown",
      "metadata": {
        "id": "d41f9909"
      },
      "source": [
        "# Labels Generation  "
      ],
      "id": "d41f9909"
    },
    {
      "cell_type": "code",
      "execution_count": 7,
      "metadata": {
        "colab": {
          "base_uri": "https://localhost:8080/",
          "height": 265
        },
        "id": "5bfb3a90",
        "outputId": "b1d2143c-4373-4be2-8219-6f26a009bea7"
      },
      "outputs": [
        {
          "output_type": "display_data",
          "data": {
            "text/plain": [
              "<Figure size 432x288 with 1 Axes>"
            ],
            "image/png": "[encoded data removed]"
          },
          "metadata": {
            "needs_background": "light"
          }
        }
      ],
      "source": [
        "Y, iAnn, Lam_r = MA_Clas_Gen(X ,t, R=5, NrP=1)"
      ],
      "id": "5bfb3a90"
    },
    {
      "cell_type": "code",
      "execution_count": 8,
      "metadata": {
        "id": "125deea6"
      },
      "outputs": [],
      "source": [
        "\n",
        "Y = Y - 1\n",
        "t = t - 1\n",
        "#YMA = YMA-1\n"
      ],
      "id": "125deea6"
    },
    {
      "cell_type": "code",
      "execution_count": 9,
      "metadata": {
        "colab": {
          "base_uri": "https://localhost:8080/",
          "height": 1000
        },
        "id": "f665a11b",
        "outputId": "8986a05e-81f1-451a-ecda-4c9b03e6b47c"
      },
      "outputs": [
        {
          "output_type": "stream",
          "name": "stdout",
          "text": [
            "annotator 1\n",
            "              precision    recall  f1-score   support\n",
            "\n",
            "           0       0.84      0.76      0.80      6000\n",
            "           1       0.86      0.99      0.92      6000\n",
            "           2       0.84      0.70      0.76      6000\n",
            "           3       0.86      0.97      0.91      6000\n",
            "           4       0.84      0.61      0.70      6000\n",
            "           5       0.86      1.00      0.92      6000\n",
            "           6       0.84      0.78      0.81      6000\n",
            "           7       0.86      1.00      0.92      6000\n",
            "           8       0.84      0.77      0.81      6000\n",
            "           9       0.86      0.92      0.89      6000\n",
            "\n",
            "    accuracy                           0.85     60000\n",
            "   macro avg       0.85      0.85      0.85     60000\n",
            "weighted avg       0.85      0.85      0.85     60000\n",
            "\n",
            "annotator 2\n",
            "              precision    recall  f1-score   support\n",
            "\n",
            "           0       0.75      0.65      0.70      6000\n",
            "           1       0.79      0.96      0.87      6000\n",
            "           2       0.76      0.70      0.72      6000\n",
            "           3       0.77      0.77      0.77      6000\n",
            "           4       0.75      0.64      0.69      6000\n",
            "           5       0.79      0.99      0.88      6000\n",
            "           6       0.75      0.70      0.73      6000\n",
            "           7       0.80      0.99      0.89      6000\n",
            "           8       0.75      0.62      0.68      6000\n",
            "           9       0.75      0.66      0.70      6000\n",
            "\n",
            "    accuracy                           0.77     60000\n",
            "   macro avg       0.77      0.77      0.76     60000\n",
            "weighted avg       0.77      0.77      0.76     60000\n",
            "\n",
            "annotator 3\n",
            "              precision    recall  f1-score   support\n",
            "\n",
            "           0       0.42      0.47      0.44      6000\n",
            "           1       0.04      0.03      0.03      6000\n",
            "           2       0.47      0.61      0.53      6000\n",
            "           3       0.19      0.15      0.16      6000\n",
            "           4       0.50      0.69      0.58      6000\n",
            "           5       0.25      0.22      0.23      6000\n",
            "           6       0.41      0.47      0.44      6000\n",
            "           7       0.05      0.04      0.04      6000\n",
            "           8       0.42      0.50      0.46      6000\n",
            "           9       0.27      0.24      0.26      6000\n",
            "\n",
            "    accuracy                           0.34     60000\n",
            "   macro avg       0.30      0.34      0.32     60000\n",
            "weighted avg       0.30      0.34      0.32     60000\n",
            "\n",
            "annotator 4\n",
            "              precision    recall  f1-score   support\n",
            "\n",
            "           0       0.57      0.59      0.58      6000\n",
            "           1       0.35      0.23      0.28      6000\n",
            "           2       0.59      0.67      0.63      6000\n",
            "           3       0.44      0.35      0.39      6000\n",
            "           4       0.60      0.75      0.67      6000\n",
            "           5       0.63      0.80      0.70      6000\n",
            "           6       0.56      0.59      0.58      6000\n",
            "           7       0.57      0.63      0.60      6000\n",
            "           8       0.55      0.54      0.54      6000\n",
            "           9       0.40      0.29      0.34      6000\n",
            "\n",
            "    accuracy                           0.54     60000\n",
            "   macro avg       0.53      0.54      0.53     60000\n",
            "weighted avg       0.53      0.54      0.53     60000\n",
            "\n",
            "annotator 5\n",
            "              precision    recall  f1-score   support\n",
            "\n",
            "           0       0.01      0.01      0.01      6000\n",
            "           1       0.00      0.00      0.00      6000\n",
            "           2       0.04      0.04      0.04      6000\n",
            "           3       0.00      0.00      0.00      6000\n",
            "           4       0.01      0.01      0.01      6000\n",
            "           5       0.00      0.00      0.00      6000\n",
            "           6       0.02      0.02      0.02      6000\n",
            "           7       0.00      0.00      0.00      6000\n",
            "           8       0.04      0.04      0.04      6000\n",
            "           9       0.00      0.00      0.00      6000\n",
            "\n",
            "    accuracy                           0.01     60000\n",
            "   macro avg       0.01      0.01      0.01     60000\n",
            "weighted avg       0.01      0.01      0.01     60000\n",
            "\n"
          ]
        },
        {
          "output_type": "display_data",
          "data": {
            "text/plain": [
              "<Figure size 432x288 with 1 Axes>"
            ],
            "image/png": "[encoded data removed]"
          },
          "metadata": {
            "needs_background": "light"
          }
        },
        {
          "output_type": "display_data",
          "data": {
            "text/plain": [
              "<Figure size 432x288 with 1 Axes>"
            ],
            "image/png": "[encoded data removed]"
          },
          "metadata": {
            "needs_background": "light"
          }
        },
        {
          "output_type": "display_data",
          "data": {
            "text/plain": [
              "<Figure size 432x288 with 1 Axes>"
            ],
            "image/png": "[encoded data removed]"
          },
          "metadata": {
            "needs_background": "light"
          }
        },
        {
          "output_type": "display_data",
          "data": {
            "text/plain": [
              "<Figure size 432x288 with 1 Axes>"
            ],
            "image/png": "[encoded data removed]"
          },
          "metadata": {
            "needs_background": "light"
          }
        },
        {
          "output_type": "display_data",
          "data": {
            "text/plain": [
              "<Figure size 432x288 with 1 Axes>"
            ],
            "image/png": "[encoded data removed]"
          },
          "metadata": {
            "needs_background": "light"
          }
        }
      ],
      "source": [
        "from sklearn.metrics import classification_report\n",
        "for i in range(Y.shape[1]):\n",
        "    print('annotator',i+1)\n",
        "    print(classification_report(t,Y[:,i]))\n",
        "    unique, counts = np.unique(Y[:,i], return_counts=True)\n",
        "    plt.figure()\n",
        "    plt.bar(unique, counts)\n",
        "#     unique, counts = np.unique(Y_test[5], return_counts=True)\n",
        "#     plt.bar(unique, counts)\n",
        "\n",
        "    plt.title('Class Frequency for Y_true')\n",
        "    plt.xlabel('Class')\n",
        "    plt.ylabel('Frequency')\n"
      ],
      "id": "f665a11b"
    },
    {
      "cell_type": "markdown",
      "metadata": {
        "id": "4978b7ce"
      },
      "source": [
        "# Split data"
      ],
      "id": "4978b7ce"
    },
    {
      "cell_type": "code",
      "execution_count": 10,
      "metadata": {
        "colab": {
          "base_uri": "https://localhost:8080/"
        },
        "id": "7b92d005",
        "outputId": "a343a8ed-69af-44e7-f03f-5d0b5403f482"
      },
      "outputs": [
        {
          "output_type": "stream",
          "name": "stdout",
          "text": [
            "[29561 26640 24498 ... 18948 24384 48300]\n",
            "(42000, 784) (42000, 5) (42000, 1)\n"
          ]
        }
      ],
      "source": [
        "import numpy.matlib\n",
        "from sklearn.model_selection import ShuffleSplit, StratifiedShuffleSplit\n",
        "Ns = 1\n",
        "ss = ShuffleSplit(n_splits=Ns, test_size=0.3,random_state =123)\n",
        "for train_index, test_index in ss.split(X):\n",
        "    print(test_index)\n",
        "    X_train, X_test,Y_train,Y_test = X[train_index,:], X[test_index,:],Y[train_index,:], Y[test_index,:]\n",
        "    Y_true_train, Y_true_test = t[train_index].reshape(-1,1), t[test_index].reshape(-1,1)\n",
        "print(X_train.shape, Y_train.shape, Y_true_train.shape)"
      ],
      "id": "7b92d005"
    },
    {
      "cell_type": "markdown",
      "metadata": {
        "id": "6c5da01e"
      },
      "source": [
        "# Apply MinMaxScaler"
      ],
      "id": "6c5da01e"
    },
    {
      "cell_type": "code",
      "execution_count": 11,
      "metadata": {
        "id": "f600859c"
      },
      "outputs": [],
      "source": [
        "scaler = MinMaxScaler()\n",
        "scaler.fit(X_train)\n",
        "X_train = scaler.transform(X_train)\n",
        "X_test = scaler.transform(X_test)"
      ],
      "id": "f600859c"
    },
    {
      "cell_type": "markdown",
      "metadata": {
        "id": "714a7a07"
      },
      "source": [
        "# Testing the Class \n"
      ],
      "id": "714a7a07"
    },
    {
      "cell_type": "code",
      "source": [
        "from sklearn.metrics import classification_report, balanced_accuracy_score, roc_auc_score\n",
        "from sklearn.metrics import normalized_mutual_info_score, mutual_info_score, adjusted_mutual_info_score\n",
        "import pandas as pd\n",
        "l1 =0.001\n",
        "NUM_RUNS =10\n",
        "custom_loss = \"RCDNN\"\n",
        "\n",
        "\n",
        "results = []\n",
        "for i in range(NUM_RUNS):\n",
        "\n",
        "    print(\"iteration: \" + str(i))\n",
        "   \n",
        "    MA = Keras_MA_GCCE(epochs=100,batch_size=128,R=5, K=len(np.unique(Y_true_train)), dropout=0.25, learning_rate=0.01,optimizer='Adam', \n",
        "                l1_param=l1,  validation_split=0, verbose=0, q=0.1, neurons=4, loss = custom_loss )\n",
        "    \n",
        "    MA.fit(X_train, Y_train)\n",
        "    MA.plot_history()\n",
        "  \n",
        "    # Generate the predictions for the current run\n",
        "    pred_2 = MA.predict(X_test)\n",
        "     \n",
        "    acc, auc, auc_sk,  nmi,  bacc = evaluation_metrics(Y_true_test,  pred_2[:,Y.shape[1]:], print_result=False)  # mi, ami,\n",
        "    \n",
        "    # Save the results for the current run to the list of dictionaries\n",
        "    results.append({\n",
        "        #'run': i,\n",
        "        'accuracy': acc,\n",
        "        'balanced_accuracy': bacc,\n",
        "       # 'mutual_information': mi,\n",
        "        'normalized_mutual_information': nmi,\n",
        "     #   'adjusted_mutual_information': ami,\n",
        "        'auc_tensorflow': auc,\n",
        "        'auc_scikit_learn': auc_sk,\n",
        "    })\n",
        "    \n",
        "# Convert the list of dictionaries to a DataFrame\n",
        "df = np.round(pd.DataFrame(results)*100, 2)\n",
        "\n",
        "# Calculate the mean and standard deviation of each metric\n",
        "mean = np.round(df.mean(),2)\n",
        "std = np.round(df.std(),2)  \n",
        "\n",
        "\n"
      ],
      "metadata": {
        "colab": {
          "base_uri": "https://localhost:8080/",
          "height": 1000
        },
        "id": "du8C7Syro2p7",
        "outputId": "088112a6-5304-4dd6-ae9d-5122264e01fb"
      },
      "execution_count": 12,
      "outputs": [
        {
          "output_type": "stream",
          "name": "stdout",
          "text": [
            "iteration: 0\n"
          ]
        },
        {
          "output_type": "display_data",
          "data": {
            "text/plain": [
              "<Figure size 576x360 with 1 Axes>"
            ],
            "image/png": "[encoded data removed]"
          },
          "metadata": {
            "needs_background": "light"
          }
        },
        {
          "output_type": "stream",
          "name": "stdout",
          "text": [
            "563/563 [==============================] - 1s 2ms/step\n",
            "iteration: 1\n"
          ]
        },
        {
          "output_type": "display_data",
          "data": {
            "text/plain": [
              "<Figure size 576x360 with 1 Axes>"
            ],
            "image/png": "[encoded data removed]"
          },
          "metadata": {
            "needs_background": "light"
          }
        },
        {
          "output_type": "stream",
          "name": "stdout",
          "text": [
            "563/563 [==============================] - 1s 2ms/step\n",
            "iteration: 2\n"
          ]
        },
        {
          "output_type": "display_data",
          "data": {
            "text/plain": [
              "<Figure size 576x360 with 1 Axes>"
            ],
            "image/png": "[encoded data removed]"
          },
          "metadata": {
            "needs_background": "light"
          }
        },
        {
          "output_type": "stream",
          "name": "stdout",
          "text": [
            "563/563 [==============================] - 1s 2ms/step\n",
            "iteration: 3\n"
          ]
        },
        {
          "output_type": "display_data",
          "data": {
            "text/plain": [
              "<Figure size 576x360 with 1 Axes>"
            ],
            "image/png": "[encoded data removed]"
          },
          "metadata": {
            "needs_background": "light"
          }
        },
        {
          "output_type": "stream",
          "name": "stdout",
          "text": [
            "563/563 [==============================] - 1s 2ms/step\n",
            "iteration: 4\n"
          ]
        },
        {
          "output_type": "display_data",
          "data": {
            "text/plain": [
              "<Figure size 576x360 with 1 Axes>"
            ],
            "image/png": "[encoded data removed]"
          },
          "metadata": {
            "needs_background": "light"
          }
        },
        {
          "output_type": "stream",
          "name": "stdout",
          "text": [
            "563/563 [==============================] - 2s 2ms/step\n",
            "iteration: 5\n"
          ]
        },
        {
          "output_type": "display_data",
          "data": {
            "text/plain": [
              "<Figure size 576x360 with 1 Axes>"
            ],
            "image/png": "[encoded data removed]"
          },
          "metadata": {
            "needs_background": "light"
          }
        },
        {
          "output_type": "stream",
          "name": "stdout",
          "text": [
            "563/563 [==============================] - 1s 2ms/step\n",
            "iteration: 6\n"
          ]
        },
        {
          "output_type": "display_data",
          "data": {
            "text/plain": [
              "<Figure size 576x360 with 1 Axes>"
            ],
            "image/png": "[encoded data removed]"
          },
          "metadata": {
            "needs_background": "light"
          }
        },
        {
          "output_type": "stream",
          "name": "stdout",
          "text": [
            "563/563 [==============================] - 1s 2ms/step\n",
            "iteration: 7\n"
          ]
        },
        {
          "output_type": "display_data",
          "data": {
            "text/plain": [
              "<Figure size 576x360 with 1 Axes>"
            ],
            "image/png": "[encoded data removed]"
          },
          "metadata": {
            "needs_background": "light"
          }
        },
        {
          "output_type": "stream",
          "name": "stdout",
          "text": [
            "563/563 [==============================] - 1s 2ms/step\n",
            "iteration: 8\n"
          ]
        },
        {
          "output_type": "display_data",
          "data": {
            "text/plain": [
              "<Figure size 576x360 with 1 Axes>"
            ],
            "image/png": "[encoded data removed]"
          },
          "metadata": {
            "needs_background": "light"
          }
        },
        {
          "output_type": "stream",
          "name": "stdout",
          "text": [
            "563/563 [==============================] - 2s 3ms/step\n",
            "iteration: 9\n"
          ]
        },
        {
          "output_type": "display_data",
          "data": {
            "text/plain": [
              "<Figure size 576x360 with 1 Axes>"
            ],
            "image/png": "[encoded data removed]"
          },
          "metadata": {
            "needs_background": "light"
          }
        },
        {
          "output_type": "stream",
          "name": "stdout",
          "text": [
            "563/563 [==============================] - 1s 2ms/step\n"
          ]
        }
      ],
      "id": "du8C7Syro2p7"
    },
    {
      "cell_type": "code",
      "source": [
        "df"
      ],
      "metadata": {
        "colab": {
          "base_uri": "https://localhost:8080/",
          "height": 363
        },
        "id": "ispxoor_q6DN",
        "outputId": "60f4f1c1-c5f8-4dcd-da1f-35849cba76ba"
      },
      "execution_count": 13,
      "outputs": [
        {
          "output_type": "execute_result",
          "data": {
            "text/plain": [
              "   accuracy  balanced_accuracy  normalized_mutual_information  auc_tensorflow  \\\n",
              "0     85.49              83.85                          76.60       88.080002   \n",
              "1     84.58              82.82                          75.59       88.589996   \n",
              "2     85.56              83.94                          76.62       85.309998   \n",
              "3     85.28              83.59                          76.57       91.410004   \n",
              "4     84.99              83.28                          76.16       87.599998   \n",
              "5     85.46              83.80                          76.26       87.739998   \n",
              "6     83.84              82.01                          74.85       90.339996   \n",
              "7     85.01              83.28                          75.99       89.739998   \n",
              "8     84.83              83.10                          75.70       84.309998   \n",
              "9     85.65              84.01                          76.95       90.910004   \n",
              "\n",
              "   auc_scikit_learn  \n",
              "0             98.01  \n",
              "1             97.95  \n",
              "2             97.94  \n",
              "3             98.09  \n",
              "4             98.09  \n",
              "5             98.07  \n",
              "6             97.92  \n",
              "7             98.00  \n",
              "8             98.15  \n",
              "9             98.26  "
            ],
            "text/html": [
              "\n",
              "  <div id=\"df-0252ba11-d3d4-4a22-a3cb-e5cb015f4ca5\">\n",
              "    <div class=\"colab-df-container\">\n",
              "      <div>\n",
              "<style scoped>\n",
              "    .dataframe tbody tr th:only-of-type {\n",
              "        vertical-align: middle;\n",
              "    }\n",
              "\n",
              "    .dataframe tbody tr th {\n",
              "        vertical-align: top;\n",
              "    }\n",
              "\n",
              "    .dataframe thead th {\n",
              "        text-align: right;\n",
              "    }\n",
              "</style>\n",
              "<table border=\"1\" class=\"dataframe\">\n",
              "  <thead>\n",
              "    <tr style=\"text-align: right;\">\n",
              "      <th></th>\n",
              "      <th>accuracy</th>\n",
              "      <th>balanced_accuracy</th>\n",
              "      <th>normalized_mutual_information</th>\n",
              "      <th>auc_tensorflow</th>\n",
              "      <th>auc_scikit_learn</th>\n",
              "    </tr>\n",
              "  </thead>\n",
              "  <tbody>\n",
              "    <tr>\n",
              "      <th>0</th>\n",
              "      <td>85.49</td>\n",
              "      <td>83.85</td>\n",
              "      <td>76.60</td>\n",
              "      <td>88.080002</td>\n",
              "      <td>98.01</td>\n",
              "    </tr>\n",
              "    <tr>\n",
              "      <th>1</th>\n",
              "      <td>84.58</td>\n",
              "      <td>82.82</td>\n",
              "      <td>75.59</td>\n",
              "      <td>88.589996</td>\n",
              "      <td>97.95</td>\n",
              "    </tr>\n",
              "    <tr>\n",
              "      <th>2</th>\n",
              "      <td>85.56</td>\n",
              "      <td>83.94</td>\n",
              "      <td>76.62</td>\n",
              "      <td>85.309998</td>\n",
              "      <td>97.94</td>\n",
              "    </tr>\n",
              "    <tr>\n",
              "      <th>3</th>\n",
              "      <td>85.28</td>\n",
              "      <td>83.59</td>\n",
              "      <td>76.57</td>\n",
              "      <td>91.410004</td>\n",
              "      <td>98.09</td>\n",
              "    </tr>\n",
              "    <tr>\n",
              "      <th>4</th>\n",
              "      <td>84.99</td>\n",
              "      <td>83.28</td>\n",
              "      <td>76.16</td>\n",
              "      <td>87.599998</td>\n",
              "      <td>98.09</td>\n",
              "    </tr>\n",
              "    <tr>\n",
              "      <th>5</th>\n",
              "      <td>85.46</td>\n",
              "      <td>83.80</td>\n",
              "      <td>76.26</td>\n",
              "      <td>87.739998</td>\n",
              "      <td>98.07</td>\n",
              "    </tr>\n",
              "    <tr>\n",
              "      <th>6</th>\n",
              "      <td>83.84</td>\n",
              "      <td>82.01</td>\n",
              "      <td>74.85</td>\n",
              "      <td>90.339996</td>\n",
              "      <td>97.92</td>\n",
              "    </tr>\n",
              "    <tr>\n",
              "      <th>7</th>\n",
              "      <td>85.01</td>\n",
              "      <td>83.28</td>\n",
              "      <td>75.99</td>\n",
              "      <td>89.739998</td>\n",
              "      <td>98.00</td>\n",
              "    </tr>\n",
              "    <tr>\n",
              "      <th>8</th>\n",
              "      <td>84.83</td>\n",
              "      <td>83.10</td>\n",
              "      <td>75.70</td>\n",
              "      <td>84.309998</td>\n",
              "      <td>98.15</td>\n",
              "    </tr>\n",
              "    <tr>\n",
              "      <th>9</th>\n",
              "      <td>85.65</td>\n",
              "      <td>84.01</td>\n",
              "      <td>76.95</td>\n",
              "      <td>90.910004</td>\n",
              "      <td>98.26</td>\n",
              "    </tr>\n",
              "  </tbody>\n",
              "</table>\n",
              "</div>\n",
              "      <button class=\"colab-df-convert\" onclick=\"convertToInteractive('df-0252ba11-d3d4-4a22-a3cb-e5cb015f4ca5')\"\n",
              "              title=\"Convert this dataframe to an interactive table.\"\n",
              "              style=\"display:none;\">\n",
              "        \n",
              "  <svg xmlns=\"http://www.w3.org/2000/svg\" height=\"24px\"viewBox=\"0 0 24 24\"\n",
              "       width=\"24px\">\n",
              "    <path d=\"M0 0h24v24H0V0z\" fill=\"none\"/>\n",
              "    <path d=\"M18.56 5.44l.94 2.06.94-2.06 2.06-.94-2.06-.94-.94-2.06-.94 2.06-2.06.94zm-11 1L8.5 8.5l.94-2.06 2.06-.94-2.06-.94L8.5 2.5l-.94 2.06-2.06.94zm10 10l.94 2.06.94-2.06 2.06-.94-2.06-.94-.94-2.06-.94 2.06-2.06.94z\"/><path d=\"M17.41 7.96l-1.37-1.37c-.4-.4-.92-.59-1.43-.59-.52 0-1.04.2-1.43.59L10.3 9.45l-7.72 7.72c-.78.78-.78 2.05 0 2.83L4 21.41c.39.39.9.59 1.41.59.51 0 1.02-.2 1.41-.59l7.78-7.78 2.81-2.81c.8-.78.8-2.07 0-2.86zM5.41 20L4 18.59l7.72-7.72 1.47 1.35L5.41 20z\"/>\n",
              "  </svg>\n",
              "      </button>\n",
              "      \n",
              "  <style>\n",
              "    .colab-df-container {\n",
              "      display:flex;\n",
              "      flex-wrap:wrap;\n",
              "      gap: 12px;\n",
              "    }\n",
              "\n",
              "    .colab-df-convert {\n",
              "      background-color: #E8F0FE;\n",
              "      border: none;\n",
              "      border-radius: 50%;\n",
              "      cursor: pointer;\n",
              "      display: none;\n",
              "      fill: #1967D2;\n",
              "      height: 32px;\n",
              "      padding: 0 0 0 0;\n",
              "      width: 32px;\n",
              "    }\n",
              "\n",
              "    .colab-df-convert:hover {\n",
              "      background-color: #E2EBFA;\n",
              "      box-shadow: 0px 1px 2px rgba(60, 64, 67, 0.3), 0px 1px 3px 1px rgba(60, 64, 67, 0.15);\n",
              "      fill: #174EA6;\n",
              "    }\n",
              "\n",
              "    [theme=dark] .colab-df-convert {\n",
              "      background-color: #3B4455;\n",
              "      fill: #D2E3FC;\n",
              "    }\n",
              "\n",
              "    [theme=dark] .colab-df-convert:hover {\n",
              "      background-color: #434B5C;\n",
              "      box-shadow: 0px 1px 3px 1px rgba(0, 0, 0, 0.15);\n",
              "      filter: drop-shadow(0px 1px 2px rgba(0, 0, 0, 0.3));\n",
              "      fill: #FFFFFF;\n",
              "    }\n",
              "  </style>\n",
              "\n",
              "      <script>\n",
              "        const buttonEl =\n",
              "          document.querySelector('#df-0252ba11-d3d4-4a22-a3cb-e5cb015f4ca5 button.colab-df-convert');\n",
              "        buttonEl.style.display =\n",
              "          google.colab.kernel.accessAllowed ? 'block' : 'none';\n",
              "\n",
              "        async function convertToInteractive(key) {\n",
              "          const element = document.querySelector('#df-0252ba11-d3d4-4a22-a3cb-e5cb015f4ca5');\n",
              "          const dataTable =\n",
              "            await google.colab.kernel.invokeFunction('convertToInteractive',\n",
              "                                                     [key], {});\n",
              "          if (!dataTable) return;\n",
              "\n",
              "          const docLinkHtml = 'Like what you see? Visit the ' +\n",
              "            '<a target=\"_blank\" href=https://colab.research.google.com/notebooks/data_table.ipynb>data table notebook</a>'\n",
              "            + ' to learn more about interactive tables.';\n",
              "          element.innerHTML = '';\n",
              "          dataTable['output_type'] = 'display_data';\n",
              "          await google.colab.output.renderOutput(dataTable, element);\n",
              "          const docLink = document.createElement('div');\n",
              "          docLink.innerHTML = docLinkHtml;\n",
              "          element.appendChild(docLink);\n",
              "        }\n",
              "      </script>\n",
              "    </div>\n",
              "  </div>\n",
              "  "
            ]
          },
          "metadata": {},
          "execution_count": 13
        }
      ],
      "id": "ispxoor_q6DN"
    },
    {
      "cell_type": "code",
      "source": [
        "mean"
      ],
      "metadata": {
        "colab": {
          "base_uri": "https://localhost:8080/"
        },
        "id": "whTSUvCJq_bf",
        "outputId": "09a65483-66ea-4bd0-e5c4-dfe8bed58162"
      },
      "execution_count": 14,
      "outputs": [
        {
          "output_type": "execute_result",
          "data": {
            "text/plain": [
              "accuracy                         85.07\n",
              "balanced_accuracy                83.37\n",
              "normalized_mutual_information    76.13\n",
              "auc_tensorflow                   88.40\n",
              "auc_scikit_learn                 98.05\n",
              "dtype: float64"
            ]
          },
          "metadata": {},
          "execution_count": 14
        }
      ],
      "id": "whTSUvCJq_bf"
    },
    {
      "cell_type": "code",
      "source": [
        "std"
      ],
      "metadata": {
        "colab": {
          "base_uri": "https://localhost:8080/"
        },
        "id": "PH_iucZ1rJDD",
        "outputId": "47e4a92c-eaaf-4b92-bbd1-209c443518ba"
      },
      "execution_count": 15,
      "outputs": [
        {
          "output_type": "execute_result",
          "data": {
            "text/plain": [
              "accuracy                         0.55\n",
              "balanced_accuracy                0.62\n",
              "normalized_mutual_information    0.62\n",
              "auc_tensorflow                   2.32\n",
              "auc_scikit_learn                 0.11\n",
              "dtype: float64"
            ]
          },
          "metadata": {},
          "execution_count": 15
        }
      ],
      "id": "PH_iucZ1rJDD"
    },
    {
      "cell_type": "code",
      "source": [
        "result_df = pd.concat([mean.rename('Mean'), std.rename('Std')], axis=1)"
      ],
      "metadata": {
        "id": "IZWYJ4cZus0i"
      },
      "execution_count": 16,
      "outputs": [],
      "id": "IZWYJ4cZus0i"
    },
    {
      "cell_type": "code",
      "source": [
        "result_df"
      ],
      "metadata": {
        "colab": {
          "base_uri": "https://localhost:8080/",
          "height": 206
        },
        "id": "j5oR79xIvOJf",
        "outputId": "fa88ca9e-6df4-4be7-a078-02bbceebee5d"
      },
      "execution_count": 17,
      "outputs": [
        {
          "output_type": "execute_result",
          "data": {
            "text/plain": [
              "                                Mean   Std\n",
              "accuracy                       85.07  0.55\n",
              "balanced_accuracy              83.37  0.62\n",
              "normalized_mutual_information  76.13  0.62\n",
              "auc_tensorflow                 88.40  2.32\n",
              "auc_scikit_learn               98.05  0.11"
            ],
            "text/html": [
              "\n",
              "  <div id=\"df-2833ce15-998d-4eca-85b2-ad431edf01ac\">\n",
              "    <div class=\"colab-df-container\">\n",
              "      <div>\n",
              "<style scoped>\n",
              "    .dataframe tbody tr th:only-of-type {\n",
              "        vertical-align: middle;\n",
              "    }\n",
              "\n",
              "    .dataframe tbody tr th {\n",
              "        vertical-align: top;\n",
              "    }\n",
              "\n",
              "    .dataframe thead th {\n",
              "        text-align: right;\n",
              "    }\n",
              "</style>\n",
              "<table border=\"1\" class=\"dataframe\">\n",
              "  <thead>\n",
              "    <tr style=\"text-align: right;\">\n",
              "      <th></th>\n",
              "      <th>Mean</th>\n",
              "      <th>Std</th>\n",
              "    </tr>\n",
              "  </thead>\n",
              "  <tbody>\n",
              "    <tr>\n",
              "      <th>accuracy</th>\n",
              "      <td>85.07</td>\n",
              "      <td>0.55</td>\n",
              "    </tr>\n",
              "    <tr>\n",
              "      <th>balanced_accuracy</th>\n",
              "      <td>83.37</td>\n",
              "      <td>0.62</td>\n",
              "    </tr>\n",
              "    <tr>\n",
              "      <th>normalized_mutual_information</th>\n",
              "      <td>76.13</td>\n",
              "      <td>0.62</td>\n",
              "    </tr>\n",
              "    <tr>\n",
              "      <th>auc_tensorflow</th>\n",
              "      <td>88.40</td>\n",
              "      <td>2.32</td>\n",
              "    </tr>\n",
              "    <tr>\n",
              "      <th>auc_scikit_learn</th>\n",
              "      <td>98.05</td>\n",
              "      <td>0.11</td>\n",
              "    </tr>\n",
              "  </tbody>\n",
              "</table>\n",
              "</div>\n",
              "      <button class=\"colab-df-convert\" onclick=\"convertToInteractive('df-2833ce15-998d-4eca-85b2-ad431edf01ac')\"\n",
              "              title=\"Convert this dataframe to an interactive table.\"\n",
              "              style=\"display:none;\">\n",
              "        \n",
              "  <svg xmlns=\"http://www.w3.org/2000/svg\" height=\"24px\"viewBox=\"0 0 24 24\"\n",
              "       width=\"24px\">\n",
              "    <path d=\"M0 0h24v24H0V0z\" fill=\"none\"/>\n",
              "    <path d=\"M18.56 5.44l.94 2.06.94-2.06 2.06-.94-2.06-.94-.94-2.06-.94 2.06-2.06.94zm-11 1L8.5 8.5l.94-2.06 2.06-.94-2.06-.94L8.5 2.5l-.94 2.06-2.06.94zm10 10l.94 2.06.94-2.06 2.06-.94-2.06-.94-.94-2.06-.94 2.06-2.06.94z\"/><path d=\"M17.41 7.96l-1.37-1.37c-.4-.4-.92-.59-1.43-.59-.52 0-1.04.2-1.43.59L10.3 9.45l-7.72 7.72c-.78.78-.78 2.05 0 2.83L4 21.41c.39.39.9.59 1.41.59.51 0 1.02-.2 1.41-.59l7.78-7.78 2.81-2.81c.8-.78.8-2.07 0-2.86zM5.41 20L4 18.59l7.72-7.72 1.47 1.35L5.41 20z\"/>\n",
              "  </svg>\n",
              "      </button>\n",
              "      \n",
              "  <style>\n",
              "    .colab-df-container {\n",
              "      display:flex;\n",
              "      flex-wrap:wrap;\n",
              "      gap: 12px;\n",
              "    }\n",
              "\n",
              "    .colab-df-convert {\n",
              "      background-color: #E8F0FE;\n",
              "      border: none;\n",
              "      border-radius: 50%;\n",
              "      cursor: pointer;\n",
              "      display: none;\n",
              "      fill: #1967D2;\n",
              "      height: 32px;\n",
              "      padding: 0 0 0 0;\n",
              "      width: 32px;\n",
              "    }\n",
              "\n",
              "    .colab-df-convert:hover {\n",
              "      background-color: #E2EBFA;\n",
              "      box-shadow: 0px 1px 2px rgba(60, 64, 67, 0.3), 0px 1px 3px 1px rgba(60, 64, 67, 0.15);\n",
              "      fill: #174EA6;\n",
              "    }\n",
              "\n",
              "    [theme=dark] .colab-df-convert {\n",
              "      background-color: #3B4455;\n",
              "      fill: #D2E3FC;\n",
              "    }\n",
              "\n",
              "    [theme=dark] .colab-df-convert:hover {\n",
              "      background-color: #434B5C;\n",
              "      box-shadow: 0px 1px 3px 1px rgba(0, 0, 0, 0.15);\n",
              "      filter: drop-shadow(0px 1px 2px rgba(0, 0, 0, 0.3));\n",
              "      fill: #FFFFFF;\n",
              "    }\n",
              "  </style>\n",
              "\n",
              "      <script>\n",
              "        const buttonEl =\n",
              "          document.querySelector('#df-2833ce15-998d-4eca-85b2-ad431edf01ac button.colab-df-convert');\n",
              "        buttonEl.style.display =\n",
              "          google.colab.kernel.accessAllowed ? 'block' : 'none';\n",
              "\n",
              "        async function convertToInteractive(key) {\n",
              "          const element = document.querySelector('#df-2833ce15-998d-4eca-85b2-ad431edf01ac');\n",
              "          const dataTable =\n",
              "            await google.colab.kernel.invokeFunction('convertToInteractive',\n",
              "                                                     [key], {});\n",
              "          if (!dataTable) return;\n",
              "\n",
              "          const docLinkHtml = 'Like what you see? Visit the ' +\n",
              "            '<a target=\"_blank\" href=https://colab.research.google.com/notebooks/data_table.ipynb>data table notebook</a>'\n",
              "            + ' to learn more about interactive tables.';\n",
              "          element.innerHTML = '';\n",
              "          dataTable['output_type'] = 'display_data';\n",
              "          await google.colab.output.renderOutput(dataTable, element);\n",
              "          const docLink = document.createElement('div');\n",
              "          docLink.innerHTML = docLinkHtml;\n",
              "          element.appendChild(docLink);\n",
              "        }\n",
              "      </script>\n",
              "    </div>\n",
              "  </div>\n",
              "  "
            ]
          },
          "metadata": {},
          "execution_count": 17
        }
      ],
      "id": "j5oR79xIvOJf"
    },
    {
      "cell_type": "code",
      "source": [
        "# Save the DataFrame to an excel file\n",
        "df.to_excel(database + custom_loss + \".xlsx\")"
      ],
      "metadata": {
        "id": "wrsupD_Qshl2"
      },
      "execution_count": 18,
      "outputs": [],
      "id": "wrsupD_Qshl2"
    }
  ],
  "metadata": {
    "colab": {
      "provenance": [],
      "include_colab_link": true
    },
    "gpuClass": "standard",
    "kernelspec": {
      "display_name": "Python 3",
      "language": "python",
      "name": "python3"
    },
    "language_info": {
      "codemirror_mode": {
        "name": "ipython",
        "version": 3
      },
      "file_extension": ".py",
      "mimetype": "text/x-python",
      "name": "python",
      "nbconvert_exporter": "python",
      "pygments_lexer": "ipython3",
      "version": "3.7.12"
    },
    "papermill": {
      "default_parameters": {},
      "duration": 3097.445153,
      "end_time": "2022-10-21T10:31:41.407966",
      "environment_variables": {},
      "exception": null,
      "input_path": "__notebook__.ipynb",
      "output_path": "__notebook__.ipynb",
      "parameters": {},
      "start_time": "2022-10-21T09:40:03.962813",
      "version": "2.3.4"
    },
    "accelerator": "GPU"
  },
  "nbformat": 4,
  "nbformat_minor": 5
}