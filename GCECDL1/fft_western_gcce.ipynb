{
  "cells": [
    {
      "cell_type": "markdown",
      "metadata": {
        "id": "view-in-github",
        "colab_type": "text"
      },
      "source": [
        "<a href=\"https://colab.research.google.com/github/Jectrianama/GCCE_TEST/blob/main/GCECDL1/fft_western_gcce.ipynb\" target=\"_parent\"><img src=\"https://colab.research.google.com/assets/colab-badge.svg\" alt=\"Open In Colab\"/></a>"
      ]
    },
    {
      "cell_type": "markdown",
      "id": "80943ca4",
      "metadata": {
        "id": "80943ca4",
        "papermill": {
          "duration": 0.012239,
          "end_time": "2022-10-24T23:56:35.509614",
          "exception": false,
          "start_time": "2022-10-24T23:56:35.497375",
          "status": "completed"
        },
        "tags": []
      },
      "source": [
        "# Multiscale Permutation Entropy using feature relevance analysis for vibration-based condition monitoring\n",
        "\n",
        "## Case Western Reserve Experiments\n",
        "\n",
        "Database link: https://engineering.case.edu/bearingdatacenter\n",
        "\n",
        "Vibration signals were collected according to the following conditions (classes): i) Normal bearing (Nor), fault in the internal train (IR1), fault in the external train (IR2), and fault in the rolling element-ball (BE). Moreover, the failure states were produced with three levels of severity (0.007′′, 0.014′′, and 0.021′′) and three operating speeds (1730, 1750, 1772, and 1797 [rpm]). Each experiment was repeated three times, and the data was collected at 12 kHz for 5 seconds. Each signal was divided into ten sub-signals. \n",
        "\n",
        "Accordingly, $F_s=12k$ [Hz], $N = 1200$, $T = 4096$, $C = 10$."
      ]
    },
    {
      "cell_type": "code",
      "source": [
        "!git clone https://github.com/Jectrianama/GCCE_TEST.git"
      ],
      "metadata": {
        "colab": {
          "base_uri": "https://localhost:8080/"
        },
        "id": "byULw2lxP5bt",
        "outputId": "311a36b3-1415-43e7-fa5c-04f71873d273"
      },
      "execution_count": 1,
      "outputs": [
        {
          "output_type": "stream",
          "name": "stdout",
          "text": [
            "Cloning into 'GCCE_TEST'...\n",
            "remote: Enumerating objects: 667, done.\u001b[K\n",
            "remote: Counting objects: 100% (260/260), done.\u001b[K\n",
            "remote: Compressing objects: 100% (133/133), done.\u001b[K\n",
            "remote: Total 667 (delta 145), reused 216 (delta 122), pack-reused 407\u001b[K\n",
            "Receiving objects: 100% (667/667), 30.26 MiB | 20.60 MiB/s, done.\n",
            "Resolving deltas: 100% (313/313), done.\n"
          ]
        }
      ],
      "id": "byULw2lxP5bt"
    },
    {
      "cell_type": "code",
      "source": [
        "import os\n",
        "os.chdir('/content/GCCE_TEST/Models')\n",
        "from  keras_ma_gcce import *\n",
        "from labels_generation import MA_Clas_Gen"
      ],
      "metadata": {
        "id": "4h9KwfCKQAlr"
      },
      "execution_count": 2,
      "outputs": [],
      "id": "4h9KwfCKQAlr"
    },
    {
      "cell_type": "markdown",
      "source": [
        "# Loading Data"
      ],
      "metadata": {
        "id": "DJznUzdFtac5"
      },
      "id": "DJznUzdFtac5"
    },
    {
      "cell_type": "code",
      "execution_count": 3,
      "id": "7868d91e",
      "metadata": {
        "execution": {
          "iopub.execute_input": "2022-10-24T23:56:43.984866Z",
          "iopub.status.busy": "2022-10-24T23:56:43.984098Z",
          "iopub.status.idle": "2022-10-24T23:56:50.485034Z",
          "shell.execute_reply": "2022-10-24T23:56:50.483427Z"
        },
        "id": "7868d91e",
        "outputId": "41313bc9-6c32-4414-ce7a-403981c2fb89",
        "papermill": {
          "duration": 6.516173,
          "end_time": "2022-10-24T23:56:50.487796",
          "exception": false,
          "start_time": "2022-10-24T23:56:43.971623",
          "status": "completed"
        },
        "tags": [],
        "colab": {
          "base_uri": "https://localhost:8080/"
        }
      },
      "outputs": [
        {
          "output_type": "stream",
          "name": "stdout",
          "text": [
            "--2023-02-11 04:26:51--  https://docs.google.com/uc?export=download&confirm=t&id=1IC11LrPCZIo_Am5eXP2p2tDAlrGTlPjn\n",
            "Resolving docs.google.com (docs.google.com)... 209.85.200.138, 209.85.200.113, 209.85.200.102, ...\n",
            "Connecting to docs.google.com (docs.google.com)|209.85.200.138|:443... connected.\n",
            "HTTP request sent, awaiting response... 303 See Other\n",
            "Location: https://doc-10-0s-docs.googleusercontent.com/docs/securesc/ha0ro937gcuc7l7deffksulhg5h7mbp1/jum5fqu5e4ivgd2f1d2gjjohge7eapv9/1676089575000/09173029842254050324/*/1IC11LrPCZIo_Am5eXP2p2tDAlrGTlPjn?e=download&uuid=2518ba7e-7d0b-454e-ad38-ee769322aa53 [following]\n",
            "Warning: wildcards not supported in HTTP.\n",
            "--2023-02-11 04:26:51--  https://doc-10-0s-docs.googleusercontent.com/docs/securesc/ha0ro937gcuc7l7deffksulhg5h7mbp1/jum5fqu5e4ivgd2f1d2gjjohge7eapv9/1676089575000/09173029842254050324/*/1IC11LrPCZIo_Am5eXP2p2tDAlrGTlPjn?e=download&uuid=2518ba7e-7d0b-454e-ad38-ee769322aa53\n",
            "Resolving doc-10-0s-docs.googleusercontent.com (doc-10-0s-docs.googleusercontent.com)... 172.253.114.132, 2607:f8b0:4001:c22::84\n",
            "Connecting to doc-10-0s-docs.googleusercontent.com (doc-10-0s-docs.googleusercontent.com)|172.253.114.132|:443... connected.\n",
            "HTTP request sent, awaiting response... 200 OK\n",
            "Length: 125624679 (120M) [application/zip]\n",
            "Saving to: ‘datos.zip’\n",
            "\n",
            "datos.zip           100%[===================>] 119.80M  42.3MB/s    in 2.8s    \n",
            "\n",
            "2023-02-11 04:26:55 (42.3 MB/s) - ‘datos.zip’ saved [125624679/125624679]\n",
            "\n",
            "Archive:  datos.zip\n",
            "  inflating: Vibra.mat               \n",
            "  inflating: __MACOSX/._Vibra.mat    \n",
            "  inflating: CaractCE.mat            \n",
            "  inflating: __MACOSX/._CaractCE.mat  \n",
            "CaractCE.mat  keras_ma_gcce.py\t    __MACOSX\t Vibra.mat\n",
            "datos.zip     labels_generation.py  __pycache__\n"
          ]
        }
      ],
      "source": [
        "#data downloaded for google drive\n",
        "FILEID = \"1IC11LrPCZIo_Am5eXP2p2tDAlrGTlPjn\"\n",
        "!wget --load-cookies /tmp/cookies.txt \"https://docs.google.com/uc?export=download&confirm=$(wget --quiet --save-cookies /tmp/cookies.txt --keep-session-cookies --no-check-certificate 'https://docs.google.com/uc?export=download&id='$FILEID -O- | sed -rn 's/.*confirm=([0-9A-Za-z_]+).*/\\1\\n/p')&id=\"$FILEID -O datos.zip && rm -rf /tmp/cookies.txt\n",
        "!unzip -o datos.zip\n",
        "!dir\n",
        "database = 'Western'"
      ]
    },
    {
      "cell_type": "code",
      "execution_count": 4,
      "id": "5583c0ce",
      "metadata": {
        "execution": {
          "iopub.execute_input": "2022-10-24T23:56:50.513309Z",
          "iopub.status.busy": "2022-10-24T23:56:50.512849Z",
          "iopub.status.idle": "2022-10-24T23:56:50.831598Z",
          "shell.execute_reply": "2022-10-24T23:56:50.830547Z"
        },
        "id": "5583c0ce",
        "papermill": {
          "duration": 0.334414,
          "end_time": "2022-10-24T23:56:50.834105",
          "exception": false,
          "start_time": "2022-10-24T23:56:50.499691",
          "status": "completed"
        },
        "tags": []
      },
      "outputs": [],
      "source": [
        "#main libraries and functions\n",
        "import scipy.io as sio\n",
        "from sklearn.decomposition import PCA\n",
        "from sklearn.manifold import TSNE\n",
        "from sklearn.preprocessing import MinMaxScaler, StandardScaler\n",
        "import numpy as np\n",
        "import matplotlib.pyplot as plt\n",
        "from matplotlib.ticker import FormatStrFormatter\n",
        "import warnings\n",
        "#compute centroid index \n",
        "from sklearn.metrics import pairwise_distances\n",
        "import matplotlib\n",
        "\n",
        "warnings.filterwarnings('ignore')\n",
        "\n",
        "\n",
        "def centroid_(X):\n",
        "  mean_X = X.mean(axis=0)#computing mean along samples\n",
        "  D = pairwise_distances(mean_X.reshape(1,-1),X)\n",
        "  return np.argmin(D)#return centroid index\n",
        "\n",
        "\n",
        "#loading data\n",
        "path_ = 'CaractCE.mat'#Case Western Database\n",
        "dicX = sio.loadmat(path_)"
      ]
    },
    {
      "cell_type": "code",
      "execution_count": 5,
      "id": "0bdb906c",
      "metadata": {
        "execution": {
          "iopub.execute_input": "2022-10-24T23:56:50.859125Z",
          "iopub.status.busy": "2022-10-24T23:56:50.858367Z",
          "iopub.status.idle": "2022-10-24T23:56:50.868176Z",
          "shell.execute_reply": "2022-10-24T23:56:50.867130Z"
        },
        "id": "0bdb906c",
        "outputId": "daa3c7a1-6391-44cd-813c-a073f2c98985",
        "papermill": {
          "duration": 0.024388,
          "end_time": "2022-10-24T23:56:50.870443",
          "exception": false,
          "start_time": "2022-10-24T23:56:50.846055",
          "status": "completed"
        },
        "tags": [],
        "colab": {
          "base_uri": "https://localhost:8080/"
        }
      },
      "outputs": [
        {
          "output_type": "execute_result",
          "data": {
            "text/plain": [
              "dict_keys(['__header__', '__version__', '__globals__', 'CE', 'E', 'F'])"
            ]
          },
          "metadata": {},
          "execution_count": 5
        }
      ],
      "source": [
        "dicX.keys()\n"
      ]
    },
    {
      "cell_type": "code",
      "execution_count": 6,
      "id": "e282ec25",
      "metadata": {
        "execution": {
          "iopub.execute_input": "2022-10-24T23:56:50.895639Z",
          "iopub.status.busy": "2022-10-24T23:56:50.894786Z",
          "iopub.status.idle": "2022-10-24T23:56:50.901656Z",
          "shell.execute_reply": "2022-10-24T23:56:50.900468Z"
        },
        "id": "e282ec25",
        "outputId": "cb461821-bb8a-45e4-878f-278e6fd4fcd6",
        "papermill": {
          "duration": 0.021695,
          "end_time": "2022-10-24T23:56:50.903719",
          "exception": false,
          "start_time": "2022-10-24T23:56:50.882024",
          "status": "completed"
        },
        "tags": [],
        "colab": {
          "base_uri": "https://localhost:8080/"
        }
      },
      "outputs": [
        {
          "output_type": "stream",
          "name": "stdout",
          "text": [
            "Xt shape: (1200, 4000)\n",
            "Time length [s] 0.3333333333333333\n"
          ]
        }
      ],
      "source": [
        "Xt = dicX['F'] #time segments\n",
        "Fs = 12000 #sampling frequency\n",
        "Tl = Xt.shape[1]/Fs\n",
        "print('Xt shape:',Xt.shape)\n",
        "print('Time length [s]', Tl)"
      ]
    },
    {
      "cell_type": "markdown",
      "id": "6407591c",
      "metadata": {
        "id": "6407591c",
        "papermill": {
          "duration": 0.01141,
          "end_time": "2022-10-24T23:56:50.926959",
          "exception": false,
          "start_time": "2022-10-24T23:56:50.915549",
          "status": "completed"
        },
        "tags": []
      },
      "source": [
        "Multiscale permutation entropy was calculated for each time segment, fixing the delay within [xx,xx] and the embedding time within the range [xx,xxx]. See MPEVA.py for details."
      ]
    },
    {
      "cell_type": "markdown",
      "id": "88960cdc",
      "metadata": {
        "id": "88960cdc",
        "papermill": {
          "duration": 0.011322,
          "end_time": "2022-10-24T23:56:50.949798",
          "exception": false,
          "start_time": "2022-10-24T23:56:50.938476",
          "status": "completed"
        },
        "tags": []
      },
      "source": [
        "## Loading MPE features, time segments, and labels"
      ]
    },
    {
      "cell_type": "code",
      "execution_count": 7,
      "id": "8d3a2320",
      "metadata": {
        "execution": {
          "iopub.execute_input": "2022-10-24T23:56:50.975170Z",
          "iopub.status.busy": "2022-10-24T23:56:50.974629Z",
          "iopub.status.idle": "2022-10-24T23:56:50.982861Z",
          "shell.execute_reply": "2022-10-24T23:56:50.981991Z"
        },
        "id": "8d3a2320",
        "outputId": "67d60546-cd58-4c9c-f4ab-f60484ad5428",
        "papermill": {
          "duration": 0.024037,
          "end_time": "2022-10-24T23:56:50.985326",
          "exception": false,
          "start_time": "2022-10-24T23:56:50.961289",
          "status": "completed"
        },
        "tags": [],
        "colab": {
          "base_uri": "https://localhost:8080/"
        }
      },
      "outputs": [
        {
          "output_type": "stream",
          "name": "stdout",
          "text": [
            "MPE feature matriz shape: (1200, 125)\n"
          ]
        }
      ],
      "source": [
        "#loading precalculated MPE features\n",
        "X = dicX['CE']\n",
        "print('MPE feature matriz shape:',X.shape)"
      ]
    },
    {
      "cell_type": "code",
      "execution_count": 8,
      "id": "e06bde0f",
      "metadata": {
        "execution": {
          "iopub.execute_input": "2022-10-24T23:56:51.010753Z",
          "iopub.status.busy": "2022-10-24T23:56:51.010362Z",
          "iopub.status.idle": "2022-10-24T23:56:51.247720Z",
          "shell.execute_reply": "2022-10-24T23:56:51.246513Z"
        },
        "id": "e06bde0f",
        "outputId": "bb2bac1f-3b7f-4b34-eafc-346ae14c921f",
        "papermill": {
          "duration": 0.253106,
          "end_time": "2022-10-24T23:56:51.250134",
          "exception": false,
          "start_time": "2022-10-24T23:56:50.997028",
          "status": "completed"
        },
        "tags": [],
        "colab": {
          "base_uri": "https://localhost:8080/",
          "height": 306
        }
      },
      "outputs": [
        {
          "output_type": "display_data",
          "data": {
            "text/plain": [
              "<Figure size 432x288 with 1 Axes>"
            ],
            "image/png": "[encoded data removed]"
          },
          "metadata": {
            "needs_background": "light"
          }
        }
      ],
      "source": [
        "Y = dicX['E']\n",
        "Ytrue = Y[:,2] #target classes\n",
        "\n",
        "labels_ = ['NOR','IR1_0.007´´','IR1_0.014´´','IR1_0.021´´',\n",
        "           'IR2_0.007´´','IR2_0.014´´','IR2_0.021´´',\n",
        "           'BE_0.007´´','BE_0.014´´','BE_0.021´´'\n",
        "           ] #classes name\n",
        "\n",
        "#histogram\n",
        "unique_elements, counts_elements = np.unique(Ytrue, return_counts=True)\n",
        "plt.bar(unique_elements,100*counts_elements/X.shape[0])\n",
        "plt.xticks(unique_elements)\n",
        "plt.ylabel('Samples percentange [%]')\n",
        "plt.gca().set_xticklabels(labels_,rotation=45)\n",
        "plt.show()"
      ]
    },
    {
      "cell_type": "code",
      "execution_count": 9,
      "id": "f052f121",
      "metadata": {
        "execution": {
          "iopub.execute_input": "2022-10-24T23:56:51.275882Z",
          "iopub.status.busy": "2022-10-24T23:56:51.275521Z",
          "iopub.status.idle": "2022-10-24T23:56:51.281597Z",
          "shell.execute_reply": "2022-10-24T23:56:51.280816Z"
        },
        "id": "f052f121",
        "papermill": {
          "duration": 0.021412,
          "end_time": "2022-10-24T23:56:51.283602",
          "exception": false,
          "start_time": "2022-10-24T23:56:51.262190",
          "status": "completed"
        },
        "tags": []
      },
      "outputs": [],
      "source": [
        "#rpm labels\n",
        "nrpm = 30\n",
        "Yrpm_b = np.r_[0*np.ones(nrpm),np.ones(nrpm),2*np.ones(nrpm),3*np.ones(nrpm)]\n",
        "Yrpm_b.shape\n",
        "Yrpm = Yrpm_b\n",
        "for i in range(len(labels_)-1):\n",
        "  Yrpm = np.r_[Yrpm,Yrpm_b]\n",
        "\n"
      ]
    },
    {
      "cell_type": "code",
      "execution_count": 10,
      "id": "bf1de226",
      "metadata": {
        "execution": {
          "iopub.execute_input": "2022-10-24T23:56:51.309512Z",
          "iopub.status.busy": "2022-10-24T23:56:51.308786Z",
          "iopub.status.idle": "2022-10-24T23:56:51.313623Z",
          "shell.execute_reply": "2022-10-24T23:56:51.312589Z"
        },
        "id": "bf1de226",
        "papermill": {
          "duration": 0.020248,
          "end_time": "2022-10-24T23:56:51.315883",
          "exception": false,
          "start_time": "2022-10-24T23:56:51.295635",
          "status": "completed"
        },
        "tags": []
      },
      "outputs": [],
      "source": [
        "Y = np.c_[Y,Yrpm]"
      ]
    },
    {
      "cell_type": "code",
      "execution_count": 11,
      "id": "421e2ec1",
      "metadata": {
        "execution": {
          "iopub.execute_input": "2022-10-24T23:56:51.341473Z",
          "iopub.status.busy": "2022-10-24T23:56:51.341085Z",
          "iopub.status.idle": "2022-10-24T23:56:51.408956Z",
          "shell.execute_reply": "2022-10-24T23:56:51.407861Z"
        },
        "id": "421e2ec1",
        "outputId": "e636775c-4641-4bb3-87e0-7819c024b3c3",
        "papermill": {
          "duration": 0.083293,
          "end_time": "2022-10-24T23:56:51.411132",
          "exception": false,
          "start_time": "2022-10-24T23:56:51.327839",
          "status": "completed"
        },
        "tags": [],
        "colab": {
          "base_uri": "https://localhost:8080/"
        }
      },
      "outputs": [
        {
          "output_type": "execute_result",
          "data": {
            "text/plain": [
              "['CasaWestern_data.pkl']"
            ]
          },
          "metadata": {},
          "execution_count": 11
        }
      ],
      "source": [
        "import joblib\n",
        "\n",
        "CaseWestern_data = {'Xdata_time' : Xt, 'Fs' : Fs,\n",
        "                    'Xdata_MPE' : X, 'Y_labels' : Y}\n",
        "\n",
        "joblib.dump(CaseWestern_data,\"CasaWestern_data.pkl\")"
      ]
    },
    {
      "cell_type": "code",
      "execution_count": 12,
      "id": "8e535001",
      "metadata": {
        "execution": {
          "iopub.execute_input": "2022-10-24T23:56:51.437211Z",
          "iopub.status.busy": "2022-10-24T23:56:51.436793Z",
          "iopub.status.idle": "2022-10-24T23:56:51.443450Z",
          "shell.execute_reply": "2022-10-24T23:56:51.442445Z"
        },
        "id": "8e535001",
        "outputId": "d407e5fc-7187-46a5-e21a-4851324fc060",
        "papermill": {
          "duration": 0.022068,
          "end_time": "2022-10-24T23:56:51.445508",
          "exception": false,
          "start_time": "2022-10-24T23:56:51.423440",
          "status": "completed"
        },
        "tags": [],
        "colab": {
          "base_uri": "https://localhost:8080/"
        }
      },
      "outputs": [
        {
          "output_type": "execute_result",
          "data": {
            "text/plain": [
              "(1200, 4)"
            ]
          },
          "metadata": {},
          "execution_count": 12
        }
      ],
      "source": [
        "Y.shape"
      ]
    },
    {
      "cell_type": "code",
      "execution_count": 13,
      "id": "56a6b89f",
      "metadata": {
        "execution": {
          "iopub.execute_input": "2022-10-24T23:56:51.471450Z",
          "iopub.status.busy": "2022-10-24T23:56:51.471066Z",
          "iopub.status.idle": "2022-10-24T23:56:51.478013Z",
          "shell.execute_reply": "2022-10-24T23:56:51.476980Z"
        },
        "id": "56a6b89f",
        "outputId": "b6ff5110-e124-40ce-b0d5-89ba07217db4",
        "papermill": {
          "duration": 0.022594,
          "end_time": "2022-10-24T23:56:51.480193",
          "exception": false,
          "start_time": "2022-10-24T23:56:51.457599",
          "status": "completed"
        },
        "tags": [],
        "colab": {
          "base_uri": "https://localhost:8080/"
        }
      },
      "outputs": [
        {
          "output_type": "execute_result",
          "data": {
            "text/plain": [
              "array([[ 0.,  0.,  1.,  0.],\n",
              "       [ 0.,  0.,  1.,  0.],\n",
              "       [ 0.,  0.,  1.,  0.],\n",
              "       ...,\n",
              "       [ 1.,  3., 10.,  3.],\n",
              "       [ 1.,  3., 10.,  3.],\n",
              "       [ 1.,  3., 10.,  3.]])"
            ]
          },
          "metadata": {},
          "execution_count": 13
        }
      ],
      "source": [
        "Y"
      ]
    },
    {
      "cell_type": "markdown",
      "id": "983885a4",
      "metadata": {
        "id": "983885a4",
        "papermill": {
          "duration": 0.012068,
          "end_time": "2022-10-24T23:56:51.504767",
          "exception": false,
          "start_time": "2022-10-24T23:56:51.492699",
          "status": "completed"
        },
        "tags": []
      },
      "source": [
        "# Interpretability results"
      ]
    },
    {
      "cell_type": "code",
      "execution_count": 14,
      "id": "a27a9d10",
      "metadata": {
        "execution": {
          "iopub.execute_input": "2022-10-24T23:56:51.531077Z",
          "iopub.status.busy": "2022-10-24T23:56:51.530656Z",
          "iopub.status.idle": "2022-10-24T23:56:51.536752Z",
          "shell.execute_reply": "2022-10-24T23:56:51.535747Z"
        },
        "id": "a27a9d10",
        "outputId": "4a09db5e-2733-4b20-9ecb-8a1325b54ba9",
        "papermill": {
          "duration": 0.021893,
          "end_time": "2022-10-24T23:56:51.538928",
          "exception": false,
          "start_time": "2022-10-24T23:56:51.517035",
          "status": "completed"
        },
        "tags": [],
        "colab": {
          "base_uri": "https://localhost:8080/"
        }
      },
      "outputs": [
        {
          "output_type": "execute_result",
          "data": {
            "text/plain": [
              "(1200, 4000)"
            ]
          },
          "metadata": {},
          "execution_count": 14
        }
      ],
      "source": [
        "Xt.shape"
      ]
    },
    {
      "cell_type": "code",
      "execution_count": 15,
      "id": "6af6ba55",
      "metadata": {
        "execution": {
          "iopub.execute_input": "2022-10-24T23:56:51.565568Z",
          "iopub.status.busy": "2022-10-24T23:56:51.564796Z",
          "iopub.status.idle": "2022-10-24T23:57:01.299041Z",
          "shell.execute_reply": "2022-10-24T23:57:01.298039Z"
        },
        "id": "6af6ba55",
        "outputId": "92598bea-c2c8-45a1-eb3b-da600f07f92b",
        "papermill": {
          "duration": 9.750548,
          "end_time": "2022-10-24T23:57:01.301837",
          "exception": false,
          "start_time": "2022-10-24T23:56:51.551289",
          "status": "completed"
        },
        "tags": [],
        "colab": {
          "base_uri": "https://localhost:8080/",
          "height": 513
        }
      },
      "outputs": [
        {
          "output_type": "display_data",
          "data": {
            "text/plain": [
              "<Figure size 1152x576 with 17 Axes>"
            ],
            "image/png": "[encoded data removed]"
          },
          "metadata": {
            "needs_background": "light"
          }
        }
      ],
      "source": [
        "#scatter plots\n",
        "scar = StandardScaler()\n",
        "sca = MinMaxScaler()\n",
        "red = TSNE(perplexity = 10,n_components=2,random_state=123)\n",
        "vt = np.arange(0,Tl,1/Fs)\n",
        "Ytrue_f = Y[:,1] # labels = [Normal, Internal, External, Ball]\n",
        "labels_f = ['NOR', 'IR1', 'IR2', 'BE']\n",
        "#scatter along fault lables\n",
        "fig, axs = plt.subplots(len(labels_f),4,figsize=(16, 8))\n",
        "j=0\n",
        "vf = np.fft.rfftfreq(Xt.shape[1],1/Fs) #freq vector\n",
        "Xw = 20*np.log10(abs(np.fft.rfft(Xt))) # FFT\n",
        "\n",
        "marker_s = ['2','v','x','*'] # RPM1, RPM2, RPM3, RPM4 as marker changes\n",
        "\n",
        "for i in np.unique(Ytrue_f):\n",
        "  X_ = Xt[Ytrue_f==i]\n",
        "  Xw_ = Xw[Ytrue_f==i]\n",
        "  XE_ = X[Ytrue_f==i]\n",
        "  Z_ = scar.fit_transform(red.fit_transform(sca.fit_transform(Xw_)))\n",
        "  Z_e = scar.fit_transform(red.fit_transform(sca.fit_transform(XE_)))\n",
        "   \n",
        "  #identify centroid RPM1 \n",
        "  ind = centroid_(Z_[Yrpm[Ytrue_f==i] == 0])\n",
        "  #time plots\n",
        "  axs[j,0].plot(vt,X_[ind])\n",
        "  axs[j,0].set_ylim([-2.3,2.3])\n",
        "  axs[j,0].yaxis.set_major_formatter(FormatStrFormatter('%.2f'))\n",
        "  axs[j,0].set_ylabel(labels_f[j]+' \\n Amp. [V]')\n",
        "  if j!=len(labels_f)-1: axs[j,0].set_xticklabels([])\n",
        "\n",
        "  #frequency plots\n",
        "  axs[j,1].plot(vf,Xw_[ind])\n",
        "  axs[j,1].set_ylim([-45,55])\n",
        "  axs[j,1].yaxis.set_major_formatter(FormatStrFormatter('%.2f'))\n",
        "  axs[j,1].set_ylabel('dBV')\n",
        "  if j!=len(labels_f)-1: axs[j,1].set_xticklabels([])\n",
        "\n",
        "  #scatter plots\n",
        "  cc = Ytrue[Ytrue_f==i]\n",
        "  #FFT-based features scatter plot\n",
        "  for ii in np.unique(Yrpm): \n",
        "      ind_ = Yrpm[Ytrue_f==i] == ii\n",
        "      im = axs[j,2].scatter(Z_[ind_,0],Z_[ind_,1],c=cc[ind_],marker=marker_s[int(ii)])\n",
        "      #axs[j,2].scatter(Z_[ind,0],Z_[ind,1],c='r',marker='v')\n",
        "      axs[j,2].set_xticklabels([])\n",
        "      axs[j,2].set_yticklabels([])\n",
        "\n",
        "      #MPE-based features scatter plot\n",
        "      im = axs[j,3].scatter(Z_e[ind_,0],Z_e[ind_,1],c=cc[ind_],marker=marker_s[int(ii)])\n",
        "      #axs[j,3].scatter(Z_e[ind,0],Z_e[ind,1],c='r',marker='v')\n",
        "      axs[j,3].set_xticklabels([])\n",
        "      axs[j,3].set_yticklabels([])\n",
        "  j+=1\n",
        "\n",
        "cax = fig.add_axes([0.925, 0.15, 0.01, 0.7])\n",
        "norm = matplotlib.colors.Normalize(vmin=0,vmax=2)\n",
        "sm = plt.cm.ScalarMappable(cmap=None, norm=norm)\n",
        "sm.set_array([])\n",
        "cbar = plt.colorbar(sm,cax=cax,ticks=[0, 1, 2])\n",
        "cbar.ax.set_yticklabels(['0.007´´', '0.014´´', '0.021´´'])\n",
        "\n",
        "axs[-1,0].set_xlabel('time [s]')\n",
        "axs[-1,1].set_xlabel('Frequency [Hz]')  \n",
        "axs[0,0].set_title('Vibration signal')\n",
        "axs[0,1].set_title('FFT')\n",
        "axs[0,2].set_title('tSNE from FFT')\n",
        "axs[0,3].set_title('tSNE from MPE')\n",
        "\n",
        "\n",
        "fig.subplots_adjust(wspace=0.4, hspace=0.25)\n",
        "plt.show()\n",
        "\n"
      ]
    },
    {
      "cell_type": "code",
      "execution_count": 16,
      "id": "9d63dd87",
      "metadata": {
        "execution": {
          "iopub.execute_input": "2022-10-24T23:57:01.333987Z",
          "iopub.status.busy": "2022-10-24T23:57:01.332965Z",
          "iopub.status.idle": "2022-10-24T23:57:01.337214Z",
          "shell.execute_reply": "2022-10-24T23:57:01.336341Z"
        },
        "id": "9d63dd87",
        "papermill": {
          "duration": 0.022102,
          "end_time": "2022-10-24T23:57:01.339222",
          "exception": false,
          "start_time": "2022-10-24T23:57:01.317120",
          "status": "completed"
        },
        "tags": []
      },
      "outputs": [],
      "source": [
        "#X.shape"
      ]
    },
    {
      "cell_type": "code",
      "execution_count": 17,
      "id": "c8d6fd55",
      "metadata": {
        "execution": {
          "iopub.execute_input": "2022-10-24T23:57:01.370743Z",
          "iopub.status.busy": "2022-10-24T23:57:01.369664Z",
          "iopub.status.idle": "2022-10-24T23:57:01.376944Z",
          "shell.execute_reply": "2022-10-24T23:57:01.375756Z"
        },
        "papermill": {
          "duration": 0.025163,
          "end_time": "2022-10-24T23:57:01.379072",
          "exception": false,
          "start_time": "2022-10-24T23:57:01.353909",
          "status": "completed"
        },
        "tags": [],
        "colab": {
          "base_uri": "https://localhost:8080/"
        },
        "id": "c8d6fd55",
        "outputId": "c6c6ce4f-c629-4842-9216-5b28ebad9e54"
      },
      "outputs": [
        {
          "output_type": "execute_result",
          "data": {
            "text/plain": [
              "1"
            ]
          },
          "metadata": {},
          "execution_count": 17
        }
      ],
      "source": [
        "Ytrue.min()\n",
        "#X = Xw\n"
      ]
    },
    {
      "cell_type": "code",
      "execution_count": 18,
      "id": "fd9f1cf8",
      "metadata": {
        "execution": {
          "iopub.execute_input": "2022-10-24T23:57:01.410876Z",
          "iopub.status.busy": "2022-10-24T23:57:01.410217Z",
          "iopub.status.idle": "2022-10-24T23:57:01.416808Z",
          "shell.execute_reply": "2022-10-24T23:57:01.415978Z"
        },
        "papermill": {
          "duration": 0.025179,
          "end_time": "2022-10-24T23:57:01.419078",
          "exception": false,
          "start_time": "2022-10-24T23:57:01.393899",
          "status": "completed"
        },
        "tags": [],
        "colab": {
          "base_uri": "https://localhost:8080/"
        },
        "id": "fd9f1cf8",
        "outputId": "1eb08b93-68d5-4f20-e2b5-2f2609e42407"
      },
      "outputs": [
        {
          "output_type": "execute_result",
          "data": {
            "text/plain": [
              "(1200, 125)"
            ]
          },
          "metadata": {},
          "execution_count": 18
        }
      ],
      "source": [
        "X.shape"
      ]
    },
    {
      "cell_type": "code",
      "execution_count": 19,
      "id": "16a86b06",
      "metadata": {
        "execution": {
          "iopub.execute_input": "2022-10-24T23:57:01.450267Z",
          "iopub.status.busy": "2022-10-24T23:57:01.449852Z",
          "iopub.status.idle": "2022-10-24T23:57:06.170672Z",
          "shell.execute_reply": "2022-10-24T23:57:06.169408Z"
        },
        "papermill": {
          "duration": 4.739411,
          "end_time": "2022-10-24T23:57:06.173213",
          "exception": false,
          "start_time": "2022-10-24T23:57:01.433802",
          "status": "completed"
        },
        "tags": [],
        "colab": {
          "base_uri": "https://localhost:8080/",
          "height": 265
        },
        "id": "16a86b06",
        "outputId": "eff56983-4524-4d1d-ff27-5c96adb4424e"
      },
      "outputs": [
        {
          "output_type": "display_data",
          "data": {
            "text/plain": [
              "<Figure size 432x288 with 1 Axes>"
            ],
            "image/png": "[encoded data removed]"
          },
          "metadata": {
            "needs_background": "light"
          }
        }
      ],
      "source": [
        "Y, iAnn, Lam_r = MA_Clas_Gen(X ,Ytrue, R=5, NrP=1)"
      ]
    },
    {
      "cell_type": "code",
      "execution_count": 20,
      "id": "e645cea3",
      "metadata": {
        "execution": {
          "iopub.execute_input": "2022-10-24T23:57:06.205685Z",
          "iopub.status.busy": "2022-10-24T23:57:06.204909Z",
          "iopub.status.idle": "2022-10-24T23:57:06.210228Z",
          "shell.execute_reply": "2022-10-24T23:57:06.209172Z"
        },
        "papermill": {
          "duration": 0.0239,
          "end_time": "2022-10-24T23:57:06.212419",
          "exception": false,
          "start_time": "2022-10-24T23:57:06.188519",
          "status": "completed"
        },
        "tags": [],
        "id": "e645cea3"
      },
      "outputs": [],
      "source": [
        "Y = Y - 1\n",
        "t = Ytrue- 1"
      ]
    },
    {
      "cell_type": "code",
      "execution_count": 21,
      "id": "5c151ed5",
      "metadata": {
        "execution": {
          "iopub.execute_input": "2022-10-24T23:57:06.244334Z",
          "iopub.status.busy": "2022-10-24T23:57:06.243891Z",
          "iopub.status.idle": "2022-10-24T23:57:07.236149Z",
          "shell.execute_reply": "2022-10-24T23:57:07.235097Z"
        },
        "papermill": {
          "duration": 1.010693,
          "end_time": "2022-10-24T23:57:07.238251",
          "exception": false,
          "start_time": "2022-10-24T23:57:06.227558",
          "status": "completed"
        },
        "tags": [],
        "colab": {
          "base_uri": "https://localhost:8080/",
          "height": 1000
        },
        "id": "5c151ed5",
        "outputId": "55256710-90d2-4b4f-d658-8e5f78c3daa4"
      },
      "outputs": [
        {
          "output_type": "stream",
          "name": "stdout",
          "text": [
            "annotator 1\n",
            "              precision    recall  f1-score   support\n",
            "\n",
            "           0       0.82      1.00      0.90       120\n",
            "           1       0.86      1.00      0.93       120\n",
            "           2       0.88      0.98      0.93       120\n",
            "           3       0.85      1.00      0.92       120\n",
            "           4       0.85      1.00      0.92       120\n",
            "           5       0.79      0.25      0.38       120\n",
            "           6       0.84      1.00      0.91       120\n",
            "           7       0.85      1.00      0.92       120\n",
            "           8       0.78      0.27      0.40       120\n",
            "           9       0.89      1.00      0.94       120\n",
            "\n",
            "    accuracy                           0.85      1200\n",
            "   macro avg       0.84      0.85      0.81      1200\n",
            "weighted avg       0.84      0.85      0.81      1200\n",
            "\n",
            "annotator 2\n",
            "              precision    recall  f1-score   support\n",
            "\n",
            "           0       0.71      1.00      0.83       120\n",
            "           1       0.00      0.00      0.00       120\n",
            "           2       0.12      0.05      0.07       120\n",
            "           3       0.32      0.21      0.25       120\n",
            "           4       0.68      0.94      0.79       120\n",
            "           5       0.57      0.61      0.59       120\n",
            "           6       0.74      1.00      0.85       120\n",
            "           7       0.00      0.00      0.00       120\n",
            "           8       0.67      1.00      0.80       120\n",
            "           9       0.63      1.00      0.78       120\n",
            "\n",
            "    accuracy                           0.58      1200\n",
            "   macro avg       0.45      0.58      0.50      1200\n",
            "weighted avg       0.45      0.58      0.50      1200\n",
            "\n",
            "annotator 3\n",
            "              precision    recall  f1-score   support\n",
            "\n",
            "           0       0.00      0.00      0.00       120\n",
            "           1       0.71      1.00      0.83       120\n",
            "           2       0.62      0.69      0.66       120\n",
            "           3       0.71      0.89      0.79       120\n",
            "           4       0.00      0.00      0.00       120\n",
            "           5       0.77      1.00      0.87       120\n",
            "           6       0.00      0.00      0.00       120\n",
            "           7       0.63      0.77      0.69       120\n",
            "           8       0.74      1.00      0.85       120\n",
            "           9       0.66      1.00      0.79       120\n",
            "\n",
            "    accuracy                           0.64      1200\n",
            "   macro avg       0.49      0.64      0.55      1200\n",
            "weighted avg       0.49      0.64      0.55      1200\n",
            "\n",
            "annotator 4\n",
            "              precision    recall  f1-score   support\n",
            "\n",
            "           0       0.66      1.00      0.79       120\n",
            "           1       0.00      0.00      0.00       120\n",
            "           2       0.62      0.75      0.68       120\n",
            "           3       0.47      0.47      0.47       120\n",
            "           4       0.00      0.00      0.00       120\n",
            "           5       0.64      1.00      0.78       120\n",
            "           6       0.00      0.00      0.00       120\n",
            "           7       0.00      0.00      0.00       120\n",
            "           8       0.67      1.00      0.80       120\n",
            "           9       0.65      1.00      0.79       120\n",
            "\n",
            "    accuracy                           0.52      1200\n",
            "   macro avg       0.37      0.52      0.43      1200\n",
            "weighted avg       0.37      0.52      0.43      1200\n",
            "\n",
            "annotator 5\n",
            "              precision    recall  f1-score   support\n",
            "\n",
            "           0       0.00      0.00      0.00       120\n",
            "           1       0.55      1.00      0.71       120\n",
            "           2       0.00      0.00      0.00       120\n",
            "           3       0.36      0.45      0.40       120\n",
            "           4       0.00      0.00      0.00       120\n",
            "           5       0.00      0.00      0.00       120\n",
            "           6       0.00      0.00      0.00       120\n",
            "           7       0.53      1.00      0.69       120\n",
            "           8       0.00      0.00      0.00       120\n",
            "           9       0.00      0.00      0.00       120\n",
            "\n",
            "    accuracy                           0.24      1200\n",
            "   macro avg       0.14      0.25      0.18      1200\n",
            "weighted avg       0.14      0.24      0.18      1200\n",
            "\n"
          ]
        },
        {
          "output_type": "display_data",
          "data": {
            "text/plain": [
              "<Figure size 432x288 with 1 Axes>"
            ],
            "image/png": "[encoded data removed]"
          },
          "metadata": {
            "needs_background": "light"
          }
        },
        {
          "output_type": "display_data",
          "data": {
            "text/plain": [
              "<Figure size 432x288 with 1 Axes>"
            ],
            "image/png": "[encoded data removed]"
          },
          "metadata": {
            "needs_background": "light"
          }
        },
        {
          "output_type": "display_data",
          "data": {
            "text/plain": [
              "<Figure size 432x288 with 1 Axes>"
            ],
            "image/png": "[encoded data removed]"
          },
          "metadata": {
            "needs_background": "light"
          }
        },
        {
          "output_type": "display_data",
          "data": {
            "text/plain": [
              "<Figure size 432x288 with 1 Axes>"
            ],
            "image/png": "[encoded data removed]"
          },
          "metadata": {
            "needs_background": "light"
          }
        },
        {
          "output_type": "display_data",
          "data": {
            "text/plain": [
              "<Figure size 432x288 with 1 Axes>"
            ],
            "image/png": "[encoded data removed]"
          },
          "metadata": {
            "needs_background": "light"
          }
        }
      ],
      "source": [
        "import pandas as pd\n",
        "from sklearn.metrics import classification_report\n",
        "for i in range(Y.shape[1]):\n",
        "    print('annotator',i+1)\n",
        "    print(classification_report(t,Y[:,i]))\n",
        "    unique, counts = np.unique(Y[:,i], return_counts=True)\n",
        "    plt.figure()\n",
        "    plt.bar(unique, counts)\n",
        "#     unique, counts = np.unique(Y_test[5], return_counts=True)\n",
        "#     plt.bar(unique, counts)\n",
        "\n",
        "    plt.title('Class Frequency for Y_true')\n",
        "    plt.xlabel('Class')\n",
        "    plt.ylabel('Frequency')\n"
      ]
    },
    {
      "cell_type": "code",
      "execution_count": 22,
      "id": "7b0b5089",
      "metadata": {
        "execution": {
          "iopub.execute_input": "2022-10-24T23:57:07.273091Z",
          "iopub.status.busy": "2022-10-24T23:57:07.272375Z",
          "iopub.status.idle": "2022-10-24T23:57:07.286512Z",
          "shell.execute_reply": "2022-10-24T23:57:07.285004Z"
        },
        "papermill": {
          "duration": 0.034002,
          "end_time": "2022-10-24T23:57:07.288773",
          "exception": false,
          "start_time": "2022-10-24T23:57:07.254771",
          "status": "completed"
        },
        "tags": [],
        "colab": {
          "base_uri": "https://localhost:8080/"
        },
        "id": "7b0b5089",
        "outputId": "a47d3acd-7cb9-4ec0-96d0-f9851ce16dda"
      },
      "outputs": [
        {
          "output_type": "stream",
          "name": "stdout",
          "text": [
            "[ 156  920  971  897   35  599  567  553  891 1010  524  440 1141  579\n",
            "  138  566 1186  172  961  610  662  186  134  418  427  245  571  226\n",
            "  348 1071  637  203 1136  210  701  879  314  448 1088  406  375 1011\n",
            "  972  694  167  654 1069  678  982 1026  591 1195 1105  690  528  800\n",
            "  987  568  935   42  476  693  758  486   97  299  746  305    5  490\n",
            "  336  310  600  968  511  565   72  587  702  656   18   13  774  807\n",
            "  960  895  802 1117 1044  279  664   67  512  921  136 1157  150 1085\n",
            "   69  923  384 1106  964  456  825  204  318  196  362  887  417   85\n",
            " 1051  278  209  499 1019  154  779  844  351  739   98  560  462   86\n",
            "   45  590  304  228  898  332  103  882  688  429  178  319 1043  822\n",
            " 1182  294  188  943  229 1114   68  177  621  677 1123  507  376 1007\n",
            "  787  810  141  756 1033  163  120  240  976  252   95  529  352  431\n",
            "  617  309  437  870  161  902  772  627  681  266  861  206  909  725\n",
            "  221 1130 1116 1148  801  768  948  580  754  805 1119  373  973  594\n",
            "  839   84 1055  409 1135 1045  182  624  710  307  249  714  603  586\n",
            "  184  536  119  444  280 1154 1151  326  260  989  316  856 1100  733\n",
            " 1178  502 1198  198  145  685  812  674  453   31  811 1015  250  282\n",
            "  651   43 1048  738   15  777  171  933  543 1066  129  200  367 1013\n",
            " 1075  875  263 1072   50  723  986 1073  251  306  394  831  611  883\n",
            "  396  558  643  776  541 1171  244  372  109 1173  303  657    9  842\n",
            "  683  157  147   65  190  243  289  820    7  112  789  131 1127  164\n",
            " 1074  794  613  235  684  452  682  906  124  647  876  917  176  916\n",
            " 1050   90  905   57   40 1101  292  267  965  646 1125  421 1056  130\n",
            "  110  670   33 1124  966  668  208  114 1077 1143  706  399  212   52\n",
            " 1115  904 1049   41  300  907  614  764  705  854  261  598  616  663\n",
            "  491  388  732  727  274  356  869  317 1145  497]\n",
            "(840, 125) (840, 5) (840, 1)\n"
          ]
        }
      ],
      "source": [
        "import numpy.matlib\n",
        "from sklearn.model_selection import ShuffleSplit, StratifiedShuffleSplit\n",
        "Ns = 1\n",
        "ss = ShuffleSplit(n_splits=Ns, test_size=0.3,random_state =123)\n",
        "for train_index, test_index in ss.split(X):\n",
        "    print(test_index)\n",
        "    X_train, X_test,Y_train,Y_test = X[train_index,:], X[test_index,:],Y[train_index,:], Y[test_index,:]\n",
        "    Y_true_train, Y_true_test = t[train_index].reshape(-1,1), t[test_index].reshape(-1,1)\n",
        "print(X_train.shape, Y_train.shape, Y_true_train.shape)"
      ]
    },
    {
      "cell_type": "code",
      "execution_count": 23,
      "id": "432a810b",
      "metadata": {
        "execution": {
          "iopub.execute_input": "2022-10-24T23:57:07.323646Z",
          "iopub.status.busy": "2022-10-24T23:57:07.323052Z",
          "iopub.status.idle": "2022-10-24T23:57:07.329119Z",
          "shell.execute_reply": "2022-10-24T23:57:07.328309Z"
        },
        "papermill": {
          "duration": 0.025709,
          "end_time": "2022-10-24T23:57:07.331085",
          "exception": false,
          "start_time": "2022-10-24T23:57:07.305376",
          "status": "completed"
        },
        "tags": [],
        "id": "432a810b"
      },
      "outputs": [],
      "source": [
        "scaler = MinMaxScaler()\n",
        "scaler.fit(X_train)\n",
        "X_train = scaler.transform(X_train)\n",
        "X_test = scaler.transform(X_test)"
      ]
    },
    {
      "cell_type": "code",
      "source": [
        "from sklearn.metrics import classification_report, balanced_accuracy_score,  roc_auc_score\n",
        "from sklearn.metrics import normalized_mutual_info_score, mutual_info_score, adjusted_mutual_info_score\n",
        "l1 =0.01\n",
        "NUM_RUNS =10\n",
        "ACC = np.zeros(NUM_RUNS)\n",
        "AUC = np.zeros(NUM_RUNS)\n",
        "MI = np.zeros(NUM_RUNS)\n",
        "NMI = np.zeros(NUM_RUNS)\n",
        "AMI = np.zeros(NUM_RUNS)\n",
        "BACC = np.zeros(NUM_RUNS)\n",
        "for i in range(NUM_RUNS): #10\n",
        "    print(\"iteration: \" + str(i))\n",
        "   \n",
        "    MA = Keras_MA_GCCE(epochs=100,batch_size=64,R=5, K=len(np.unique(Y_true_train)), dropout=0.25, learning_rate=0.001,optimizer='Adam', \n",
        "                l1_param=l1,  validation_split=0.30, verbose=0, q=0.01)\n",
        "\n",
        "    MA.fit(X_train, Y_train)\n",
        "    MA.plot_history()\n",
        "  \n",
        "    #Accuracy\n",
        "    pred_2 = MA.predict(X_test)\n",
        " \n",
        "    report = classification_report( pred_2[:,Y.shape[1]:].argmax(axis=1),Y_true_test.ravel(),output_dict=True)\n",
        "    ACC[i] = report['accuracy']\n",
        "    print(\"Validation ACC: %.4f\" % (float(ACC[i])))\n",
        "\n",
        "\n",
        "    # balanced. Accurcy\n",
        "    BACC[i] = balanced_accuracy_score(Y_true_test.squeeze(), pred_2[:,Y.shape[1]:].argmax(axis=1).squeeze(), adjusted=True)\n",
        "    print(\"Validation Balanced_ACC: %.4f\" % (float(BACC[i])))\n",
        "\n",
        "    #MI\n",
        "    \n",
        "    MI[i] = mutual_info_score(Y_true_test.squeeze(), pred_2[:,Y.shape[1]:].argmax(axis=1).squeeze())\n",
        "    print(\"Validation MI: %.4f\" % (float(MI[i]),))\n",
        "    NMI[i] = normalized_mutual_info_score(Y_true_test.squeeze(), pred_2[:,Y.shape[1]:].argmax(axis=1).squeeze())\n",
        "    print(\"Validation Normalized MI: %.4f\" % (float(NMI[i]),))\n",
        "    AMI[i]= adjusted_mutual_info_score(Y_true_test.squeeze(), pred_2[:,Y.shape[1]:].argmax(axis=1).squeeze())\n",
        "    print(\"Validation Adjusted MI: %.4f\" % (float(AMI[i]),))\n",
        "\n",
        "\n",
        "    #AUC\n",
        "    val_AUC_metric = tf.keras.metrics.AUC( from_logits = True)  \n",
        "   # val_logits =MA.predict(X_test) # model(X_test, training=False)\n",
        "    # tf.print(y_batch_val)\n",
        "    val_AUC_metric.update_state(Y_true_test, pred_2[:,Y.shape[1]:].argmax(axis=1).astype('float'))\n",
        "\n",
        "    val_AUC = val_AUC_metric.result()\n",
        "    val_AUC_metric.reset_states()\n",
        "    val_AUC = val_AUC.numpy()\n",
        "    print(\"Validation aUc: %.4f\" % (float(val_AUC),))\n",
        "    AUC[i] = val_AUC"
      ],
      "metadata": {
        "colab": {
          "base_uri": "https://localhost:8080/",
          "height": 863
        },
        "id": "6Cdj6lXhAxg1",
        "outputId": "2bde7632-08a5-46cd-aa45-8cd310c9fcaf"
      },
      "id": "6Cdj6lXhAxg1",
      "execution_count": 24,
      "outputs": [
        {
          "output_type": "stream",
          "name": "stdout",
          "text": [
            "iteration: 0\n"
          ]
        },
        {
          "output_type": "display_data",
          "data": {
            "text/plain": [
              "<Figure size 576x360 with 1 Axes>"
            ],
            "image/png": "[encoded data removed]"
          },
          "metadata": {
            "needs_background": "light"
          }
        },
        {
          "output_type": "stream",
          "name": "stdout",
          "text": [
            "12/12 [==============================] - 0s 14ms/step\n",
            "Validation ACC: 0.9722\n",
            "Validation Balanced_ACC: 0.9630\n",
            "Validation MI: 2.2094\n",
            "Validation Normalized MI: 0.9667\n",
            "Validation Adjusted MI: 0.9649\n",
            "Validation aUc: 1.0000\n",
            "iteration: 1\n"
          ]
        },
        {
          "output_type": "error",
          "ename": "KeyboardInterrupt",
          "evalue": "ignored",
          "traceback": [
            "\u001b[0;31m---------------------------------------------------------------------------\u001b[0m",
            "\u001b[0;31mKeyboardInterrupt\u001b[0m                         Traceback (most recent call last)",
            "\u001b[0;32m<ipython-input-24-b298495a1c52>\u001b[0m in \u001b[0;36m<module>\u001b[0;34m\u001b[0m\n\u001b[1;32m     15\u001b[0m                 l1_param=l1,  validation_split=0.30, verbose=0, q=0.01)\n\u001b[1;32m     16\u001b[0m \u001b[0;34m\u001b[0m\u001b[0m\n\u001b[0;32m---> 17\u001b[0;31m     \u001b[0mMA\u001b[0m\u001b[0;34m.\u001b[0m\u001b[0mfit\u001b[0m\u001b[0;34m(\u001b[0m\u001b[0mX_train\u001b[0m\u001b[0;34m,\u001b[0m \u001b[0mY_train\u001b[0m\u001b[0;34m)\u001b[0m\u001b[0;34m\u001b[0m\u001b[0;34m\u001b[0m\u001b[0m\n\u001b[0m\u001b[1;32m     18\u001b[0m     \u001b[0mMA\u001b[0m\u001b[0;34m.\u001b[0m\u001b[0mplot_history\u001b[0m\u001b[0;34m(\u001b[0m\u001b[0;34m)\u001b[0m\u001b[0;34m\u001b[0m\u001b[0;34m\u001b[0m\u001b[0m\n\u001b[1;32m     19\u001b[0m \u001b[0;34m\u001b[0m\u001b[0m\n",
            "\u001b[0;32m/content/GCCE_TEST/Models/keras_ma_gcce.py\u001b[0m in \u001b[0;36mfit\u001b[0;34m(self, X, Y)\u001b[0m\n\u001b[1;32m    184\u001b[0m \u001b[0;34m\u001b[0m\u001b[0m\n\u001b[1;32m    185\u001b[0m \u001b[0;34m\u001b[0m\u001b[0m\n\u001b[0;32m--> 186\u001b[0;31m         self.history = self.model.fit(X, Y, epochs=self.epochs, validation_split=self.validation_split, callbacks = [callback1, callback2],   #\n\u001b[0m\u001b[1;32m    187\u001b[0m                                       batch_size=self.batch_size,verbose=self.verbose, shuffle = True)\n\u001b[1;32m    188\u001b[0m \u001b[0;34m\u001b[0m\u001b[0m\n",
            "\u001b[0;32m/usr/local/lib/python3.8/dist-packages/keras/utils/traceback_utils.py\u001b[0m in \u001b[0;36merror_handler\u001b[0;34m(*args, **kwargs)\u001b[0m\n\u001b[1;32m     63\u001b[0m         \u001b[0mfiltered_tb\u001b[0m \u001b[0;34m=\u001b[0m \u001b[0;32mNone\u001b[0m\u001b[0;34m\u001b[0m\u001b[0;34m\u001b[0m\u001b[0m\n\u001b[1;32m     64\u001b[0m         \u001b[0;32mtry\u001b[0m\u001b[0;34m:\u001b[0m\u001b[0;34m\u001b[0m\u001b[0;34m\u001b[0m\u001b[0m\n\u001b[0;32m---> 65\u001b[0;31m             \u001b[0;32mreturn\u001b[0m \u001b[0mfn\u001b[0m\u001b[0;34m(\u001b[0m\u001b[0;34m*\u001b[0m\u001b[0margs\u001b[0m\u001b[0;34m,\u001b[0m \u001b[0;34m**\u001b[0m\u001b[0mkwargs\u001b[0m\u001b[0;34m)\u001b[0m\u001b[0;34m\u001b[0m\u001b[0;34m\u001b[0m\u001b[0m\n\u001b[0m\u001b[1;32m     66\u001b[0m         \u001b[0;32mexcept\u001b[0m \u001b[0mException\u001b[0m \u001b[0;32mas\u001b[0m \u001b[0me\u001b[0m\u001b[0;34m:\u001b[0m\u001b[0;34m\u001b[0m\u001b[0;34m\u001b[0m\u001b[0m\n\u001b[1;32m     67\u001b[0m             \u001b[0mfiltered_tb\u001b[0m \u001b[0;34m=\u001b[0m \u001b[0m_process_traceback_frames\u001b[0m\u001b[0;34m(\u001b[0m\u001b[0me\u001b[0m\u001b[0;34m.\u001b[0m\u001b[0m__traceback__\u001b[0m\u001b[0;34m)\u001b[0m\u001b[0;34m\u001b[0m\u001b[0;34m\u001b[0m\u001b[0m\n",
            "\u001b[0;32m/usr/local/lib/python3.8/dist-packages/keras/engine/training.py\u001b[0m in \u001b[0;36mfit\u001b[0;34m(self, x, y, batch_size, epochs, verbose, callbacks, validation_split, validation_data, shuffle, class_weight, sample_weight, initial_epoch, steps_per_epoch, validation_steps, validation_batch_size, validation_freq, max_queue_size, workers, use_multiprocessing)\u001b[0m\n\u001b[1;32m   1648\u001b[0m                         ):\n\u001b[1;32m   1649\u001b[0m                             \u001b[0mcallbacks\u001b[0m\u001b[0;34m.\u001b[0m\u001b[0mon_train_batch_begin\u001b[0m\u001b[0;34m(\u001b[0m\u001b[0mstep\u001b[0m\u001b[0;34m)\u001b[0m\u001b[0;34m\u001b[0m\u001b[0;34m\u001b[0m\u001b[0m\n\u001b[0;32m-> 1650\u001b[0;31m                             \u001b[0mtmp_logs\u001b[0m \u001b[0;34m=\u001b[0m \u001b[0mself\u001b[0m\u001b[0;34m.\u001b[0m\u001b[0mtrain_function\u001b[0m\u001b[0;34m(\u001b[0m\u001b[0miterator\u001b[0m\u001b[0;34m)\u001b[0m\u001b[0;34m\u001b[0m\u001b[0;34m\u001b[0m\u001b[0m\n\u001b[0m\u001b[1;32m   1651\u001b[0m                             \u001b[0;32mif\u001b[0m \u001b[0mdata_handler\u001b[0m\u001b[0;34m.\u001b[0m\u001b[0mshould_sync\u001b[0m\u001b[0;34m:\u001b[0m\u001b[0;34m\u001b[0m\u001b[0;34m\u001b[0m\u001b[0m\n\u001b[1;32m   1652\u001b[0m                                 \u001b[0mcontext\u001b[0m\u001b[0;34m.\u001b[0m\u001b[0masync_wait\u001b[0m\u001b[0;34m(\u001b[0m\u001b[0;34m)\u001b[0m\u001b[0;34m\u001b[0m\u001b[0;34m\u001b[0m\u001b[0m\n",
            "\u001b[0;32m/usr/local/lib/python3.8/dist-packages/tensorflow/python/util/traceback_utils.py\u001b[0m in \u001b[0;36merror_handler\u001b[0;34m(*args, **kwargs)\u001b[0m\n\u001b[1;32m    148\u001b[0m     \u001b[0mfiltered_tb\u001b[0m \u001b[0;34m=\u001b[0m \u001b[0;32mNone\u001b[0m\u001b[0;34m\u001b[0m\u001b[0;34m\u001b[0m\u001b[0m\n\u001b[1;32m    149\u001b[0m     \u001b[0;32mtry\u001b[0m\u001b[0;34m:\u001b[0m\u001b[0;34m\u001b[0m\u001b[0;34m\u001b[0m\u001b[0m\n\u001b[0;32m--> 150\u001b[0;31m       \u001b[0;32mreturn\u001b[0m \u001b[0mfn\u001b[0m\u001b[0;34m(\u001b[0m\u001b[0;34m*\u001b[0m\u001b[0margs\u001b[0m\u001b[0;34m,\u001b[0m \u001b[0;34m**\u001b[0m\u001b[0mkwargs\u001b[0m\u001b[0;34m)\u001b[0m\u001b[0;34m\u001b[0m\u001b[0;34m\u001b[0m\u001b[0m\n\u001b[0m\u001b[1;32m    151\u001b[0m     \u001b[0;32mexcept\u001b[0m \u001b[0mException\u001b[0m \u001b[0;32mas\u001b[0m \u001b[0me\u001b[0m\u001b[0;34m:\u001b[0m\u001b[0;34m\u001b[0m\u001b[0;34m\u001b[0m\u001b[0m\n\u001b[1;32m    152\u001b[0m       \u001b[0mfiltered_tb\u001b[0m \u001b[0;34m=\u001b[0m \u001b[0m_process_traceback_frames\u001b[0m\u001b[0;34m(\u001b[0m\u001b[0me\u001b[0m\u001b[0;34m.\u001b[0m\u001b[0m__traceback__\u001b[0m\u001b[0;34m)\u001b[0m\u001b[0;34m\u001b[0m\u001b[0;34m\u001b[0m\u001b[0m\n",
            "\u001b[0;32m/usr/local/lib/python3.8/dist-packages/tensorflow/python/eager/polymorphic_function/polymorphic_function.py\u001b[0m in \u001b[0;36m__call__\u001b[0;34m(self, *args, **kwds)\u001b[0m\n\u001b[1;32m    878\u001b[0m \u001b[0;34m\u001b[0m\u001b[0m\n\u001b[1;32m    879\u001b[0m       \u001b[0;32mwith\u001b[0m \u001b[0mOptionalXlaContext\u001b[0m\u001b[0;34m(\u001b[0m\u001b[0mself\u001b[0m\u001b[0;34m.\u001b[0m\u001b[0m_jit_compile\u001b[0m\u001b[0;34m)\u001b[0m\u001b[0;34m:\u001b[0m\u001b[0;34m\u001b[0m\u001b[0;34m\u001b[0m\u001b[0m\n\u001b[0;32m--> 880\u001b[0;31m         \u001b[0mresult\u001b[0m \u001b[0;34m=\u001b[0m \u001b[0mself\u001b[0m\u001b[0;34m.\u001b[0m\u001b[0m_call\u001b[0m\u001b[0;34m(\u001b[0m\u001b[0;34m*\u001b[0m\u001b[0margs\u001b[0m\u001b[0;34m,\u001b[0m \u001b[0;34m**\u001b[0m\u001b[0mkwds\u001b[0m\u001b[0;34m)\u001b[0m\u001b[0;34m\u001b[0m\u001b[0;34m\u001b[0m\u001b[0m\n\u001b[0m\u001b[1;32m    881\u001b[0m \u001b[0;34m\u001b[0m\u001b[0m\n\u001b[1;32m    882\u001b[0m       \u001b[0mnew_tracing_count\u001b[0m \u001b[0;34m=\u001b[0m \u001b[0mself\u001b[0m\u001b[0;34m.\u001b[0m\u001b[0mexperimental_get_tracing_count\u001b[0m\u001b[0;34m(\u001b[0m\u001b[0;34m)\u001b[0m\u001b[0;34m\u001b[0m\u001b[0;34m\u001b[0m\u001b[0m\n",
            "\u001b[0;32m/usr/local/lib/python3.8/dist-packages/tensorflow/python/eager/polymorphic_function/polymorphic_function.py\u001b[0m in \u001b[0;36m_call\u001b[0;34m(self, *args, **kwds)\u001b[0m\n\u001b[1;32m    910\u001b[0m       \u001b[0;31m# In this case we have created variables on the first call, so we run the\u001b[0m\u001b[0;34m\u001b[0m\u001b[0;34m\u001b[0m\u001b[0;34m\u001b[0m\u001b[0m\n\u001b[1;32m    911\u001b[0m       \u001b[0;31m# defunned version which is guaranteed to never create variables.\u001b[0m\u001b[0;34m\u001b[0m\u001b[0;34m\u001b[0m\u001b[0;34m\u001b[0m\u001b[0m\n\u001b[0;32m--> 912\u001b[0;31m       \u001b[0;32mreturn\u001b[0m \u001b[0mself\u001b[0m\u001b[0;34m.\u001b[0m\u001b[0m_no_variable_creation_fn\u001b[0m\u001b[0;34m(\u001b[0m\u001b[0;34m*\u001b[0m\u001b[0margs\u001b[0m\u001b[0;34m,\u001b[0m \u001b[0;34m**\u001b[0m\u001b[0mkwds\u001b[0m\u001b[0;34m)\u001b[0m  \u001b[0;31m# pylint: disable=not-callable\u001b[0m\u001b[0;34m\u001b[0m\u001b[0;34m\u001b[0m\u001b[0m\n\u001b[0m\u001b[1;32m    913\u001b[0m     \u001b[0;32melif\u001b[0m \u001b[0mself\u001b[0m\u001b[0;34m.\u001b[0m\u001b[0m_variable_creation_fn\u001b[0m \u001b[0;32mis\u001b[0m \u001b[0;32mnot\u001b[0m \u001b[0;32mNone\u001b[0m\u001b[0;34m:\u001b[0m\u001b[0;34m\u001b[0m\u001b[0;34m\u001b[0m\u001b[0m\n\u001b[1;32m    914\u001b[0m       \u001b[0;31m# Release the lock early so that multiple threads can perform the call\u001b[0m\u001b[0;34m\u001b[0m\u001b[0;34m\u001b[0m\u001b[0;34m\u001b[0m\u001b[0m\n",
            "\u001b[0;32m/usr/local/lib/python3.8/dist-packages/tensorflow/python/eager/polymorphic_function/tracing_compiler.py\u001b[0m in \u001b[0;36m__call__\u001b[0;34m(self, *args, **kwargs)\u001b[0m\n\u001b[1;32m    132\u001b[0m       (concrete_function,\n\u001b[1;32m    133\u001b[0m        filtered_flat_args) = self._maybe_define_function(args, kwargs)\n\u001b[0;32m--> 134\u001b[0;31m     return concrete_function._call_flat(\n\u001b[0m\u001b[1;32m    135\u001b[0m         filtered_flat_args, captured_inputs=concrete_function.captured_inputs)  # pylint: disable=protected-access\n\u001b[1;32m    136\u001b[0m \u001b[0;34m\u001b[0m\u001b[0m\n",
            "\u001b[0;32m/usr/local/lib/python3.8/dist-packages/tensorflow/python/eager/polymorphic_function/monomorphic_function.py\u001b[0m in \u001b[0;36m_call_flat\u001b[0;34m(self, args, captured_inputs, cancellation_manager)\u001b[0m\n\u001b[1;32m   1743\u001b[0m         and executing_eagerly):\n\u001b[1;32m   1744\u001b[0m       \u001b[0;31m# No tape is watching; skip to running the function.\u001b[0m\u001b[0;34m\u001b[0m\u001b[0;34m\u001b[0m\u001b[0;34m\u001b[0m\u001b[0m\n\u001b[0;32m-> 1745\u001b[0;31m       return self._build_call_outputs(self._inference_function.call(\n\u001b[0m\u001b[1;32m   1746\u001b[0m           ctx, args, cancellation_manager=cancellation_manager))\n\u001b[1;32m   1747\u001b[0m     forward_backward = self._select_forward_and_backward_functions(\n",
            "\u001b[0;32m/usr/local/lib/python3.8/dist-packages/tensorflow/python/eager/polymorphic_function/monomorphic_function.py\u001b[0m in \u001b[0;36mcall\u001b[0;34m(self, ctx, args, cancellation_manager)\u001b[0m\n\u001b[1;32m    376\u001b[0m       \u001b[0;32mwith\u001b[0m \u001b[0m_InterpolateFunctionError\u001b[0m\u001b[0;34m(\u001b[0m\u001b[0mself\u001b[0m\u001b[0;34m)\u001b[0m\u001b[0;34m:\u001b[0m\u001b[0;34m\u001b[0m\u001b[0;34m\u001b[0m\u001b[0m\n\u001b[1;32m    377\u001b[0m         \u001b[0;32mif\u001b[0m \u001b[0mcancellation_manager\u001b[0m \u001b[0;32mis\u001b[0m \u001b[0;32mNone\u001b[0m\u001b[0;34m:\u001b[0m\u001b[0;34m\u001b[0m\u001b[0;34m\u001b[0m\u001b[0m\n\u001b[0;32m--> 378\u001b[0;31m           outputs = execute.execute(\n\u001b[0m\u001b[1;32m    379\u001b[0m               \u001b[0mstr\u001b[0m\u001b[0;34m(\u001b[0m\u001b[0mself\u001b[0m\u001b[0;34m.\u001b[0m\u001b[0msignature\u001b[0m\u001b[0;34m.\u001b[0m\u001b[0mname\u001b[0m\u001b[0;34m)\u001b[0m\u001b[0;34m,\u001b[0m\u001b[0;34m\u001b[0m\u001b[0;34m\u001b[0m\u001b[0m\n\u001b[1;32m    380\u001b[0m               \u001b[0mnum_outputs\u001b[0m\u001b[0;34m=\u001b[0m\u001b[0mself\u001b[0m\u001b[0;34m.\u001b[0m\u001b[0m_num_outputs\u001b[0m\u001b[0;34m,\u001b[0m\u001b[0;34m\u001b[0m\u001b[0;34m\u001b[0m\u001b[0m\n",
            "\u001b[0;32m/usr/local/lib/python3.8/dist-packages/tensorflow/python/eager/execute.py\u001b[0m in \u001b[0;36mquick_execute\u001b[0;34m(op_name, num_outputs, inputs, attrs, ctx, name)\u001b[0m\n\u001b[1;32m     50\u001b[0m   \u001b[0;32mtry\u001b[0m\u001b[0;34m:\u001b[0m\u001b[0;34m\u001b[0m\u001b[0;34m\u001b[0m\u001b[0m\n\u001b[1;32m     51\u001b[0m     \u001b[0mctx\u001b[0m\u001b[0;34m.\u001b[0m\u001b[0mensure_initialized\u001b[0m\u001b[0;34m(\u001b[0m\u001b[0;34m)\u001b[0m\u001b[0;34m\u001b[0m\u001b[0;34m\u001b[0m\u001b[0m\n\u001b[0;32m---> 52\u001b[0;31m     tensors = pywrap_tfe.TFE_Py_Execute(ctx._handle, device_name, op_name,\n\u001b[0m\u001b[1;32m     53\u001b[0m                                         inputs, attrs, num_outputs)\n\u001b[1;32m     54\u001b[0m   \u001b[0;32mexcept\u001b[0m \u001b[0mcore\u001b[0m\u001b[0;34m.\u001b[0m\u001b[0m_NotOkStatusException\u001b[0m \u001b[0;32mas\u001b[0m \u001b[0me\u001b[0m\u001b[0;34m:\u001b[0m\u001b[0;34m\u001b[0m\u001b[0;34m\u001b[0m\u001b[0m\n",
            "\u001b[0;31mKeyboardInterrupt\u001b[0m: "
          ]
        }
      ]
    },
    {
      "cell_type": "code",
      "execution_count": null,
      "metadata": {
        "execution": {
          "iopub.execute_input": "2022-10-25T16:26:01.902569Z",
          "iopub.status.busy": "2022-10-25T16:26:01.902170Z",
          "iopub.status.idle": "2022-10-25T16:26:20.506723Z",
          "shell.execute_reply": "2022-10-25T16:26:20.505052Z"
        },
        "id": "2251089a",
        "papermill": {
          "duration": 18.622195,
          "end_time": "2022-10-25T16:26:20.510089",
          "exception": false,
          "start_time": "2022-10-25T16:26:01.887894",
          "status": "completed"
        },
        "tags": []
      },
      "outputs": [],
      "source": [
        "# from sklearn.metrics import classification_report\n",
        "\n",
        "# l1 =0.01\n",
        "# NUM_RUNS =10\n",
        "# ACC = np.zeros(NUM_RUNS)\n",
        "# AUC = np.zeros(NUM_RUNS)\n",
        "# for i in range(NUM_RUNS): #10\n",
        "#     print(\"iteration: \" + str(i))\n",
        "   \n",
        "#     MA = Keras_MA_GCCE(epochs=100,batch_size=64,R=5, K=len(np.unique(Y_true_train)), dropout=0.25, learning_rate=0.01,optimizer='Adam', \n",
        "#                 l1_param=l1,  validation_split=0.30, verbose=0, q=0.01)\n",
        "\n",
        "#     MA.fit(X_train, Y_train)\n",
        "#     #MA.plot_history()\n",
        "  \n",
        "#     #Accuracy\n",
        "#     pred_2 = MA.predict(X_test)\n",
        " \n",
        "#     report = classification_report( pred_2[:,Y.shape[1]:].argmax(axis=1),Y_true_test.ravel(),output_dict=True)\n",
        "#     ACC[i] = report['accuracy']\n",
        "#     #AUC\n",
        "#     val_AUC_metric = tf.keras.metrics.AUC(num_thresholds=3, from_logits = True)  \n",
        "#     val_logits =MA.predict(X_test) # model(X_test, training=False)\n",
        "#     # tf.print(y_batch_val)\n",
        "#     val_AUC_metric.update_state(Y_true_test, val_logits[:,Y.shape[1]:].argmax(axis=1).astype('float'))\n",
        "\n",
        "#     val_AUC = val_AUC_metric.result()\n",
        "#     val_AUC_metric.reset_states()\n",
        "#     val_AUC = val_AUC.numpy()\n",
        "#     print(\"Validation aUc: %.4f\" % (float(val_AUC),))\n",
        "#     AUC[i] = val_AUC\n",
        "    \n",
        "  "
      ],
      "id": "2251089a"
    },
    {
      "cell_type": "code",
      "execution_count": null,
      "metadata": {
        "execution": {
          "iopub.execute_input": "2022-10-25T16:26:20.535351Z",
          "iopub.status.busy": "2022-10-25T16:26:20.534704Z",
          "iopub.status.idle": "2022-10-25T16:26:20.638582Z",
          "shell.execute_reply": "2022-10-25T16:26:20.636858Z"
        },
        "id": "a7972f6e",
        "papermill": {
          "duration": 0.120287,
          "end_time": "2022-10-25T16:26:20.642336",
          "exception": false,
          "start_time": "2022-10-25T16:26:20.522049",
          "status": "completed"
        },
        "tags": []
      },
      "outputs": [],
      "source": [
        "\n",
        "ACC"
      ],
      "id": "a7972f6e"
    },
    {
      "cell_type": "code",
      "source": [
        "\n",
        "AUC"
      ],
      "metadata": {
        "id": "bAgG_knDzvlM"
      },
      "execution_count": null,
      "outputs": [],
      "id": "bAgG_knDzvlM"
    },
    {
      "cell_type": "code",
      "execution_count": null,
      "metadata": {
        "execution": {
          "iopub.execute_input": "2022-10-25T16:26:20.669590Z",
          "iopub.status.busy": "2022-10-25T16:26:20.669121Z",
          "iopub.status.idle": "2022-10-25T16:26:20.673772Z",
          "shell.execute_reply": "2022-10-25T16:26:20.672863Z"
        },
        "id": "297b5917",
        "papermill": {
          "duration": 0.020783,
          "end_time": "2022-10-25T16:26:20.675918",
          "exception": false,
          "start_time": "2022-10-25T16:26:20.655135",
          "status": "completed"
        },
        "tags": []
      },
      "outputs": [],
      "source": [
        "print('Average Accuracy: ', np.round( ACC.mean(),4)*100) \n",
        "print('Average std: ',np.round(np.std( ACC),4)*100)"
      ],
      "id": "297b5917"
    },
    {
      "cell_type": "code",
      "source": [
        "print('Average Accuracy: ', np.round( AUC.mean(),4)*100) \n",
        "print('Average std: ',np.round(np.std( AUC),4)*100)"
      ],
      "metadata": {
        "id": "IsM5jKAAzx-l"
      },
      "execution_count": null,
      "outputs": [],
      "id": "IsM5jKAAzx-l"
    },
    {
      "cell_type": "code",
      "source": [
        "print('Average Accuracy: ', np.round( ACC.mean(),4)*100) \n",
        "print('Average std: ',np.round(np.std( ACC),4)*100)\n",
        "print('==============================================')\n",
        "print('Average AUC: ', np.round( AUC.mean(),4)*100) \n",
        "print('Average AUC std: ',np.round(np.std( AUC),4)*100)\n",
        "print('==============================================')\n",
        "print('Average Balanced Accuracy: ', np.round( BACC.mean(),4)*100) \n",
        "print('Average std: ',np.round(np.std( BACC),4)*100)\n",
        "print('==============================================')\n",
        "print('Average MI: ', np.round( MI.mean(),4)*100) \n",
        "print('Average std: ',np.round(np.std(MI),4)*100)\n",
        "print('==============================================')\n",
        "print('Average Normalized MI: ', np.round( NMI.mean(),4)*100) \n",
        "print('Average std: ',np.round(np.std(NMI),4)*100)\n",
        "print('==============================================')\n",
        "print('Average Ajdusted MI: ', np.round( AMI.mean(),4)*100) \n",
        "print('Average std: ',np.round(np.std(AMI),4)*100)"
      ],
      "metadata": {
        "id": "Kz24vVzZAf5O"
      },
      "id": "Kz24vVzZAf5O",
      "execution_count": null,
      "outputs": []
    },
    {
      "cell_type": "code",
      "source": [
        "import pickle\n",
        "\n",
        "# create the dictionary with 6 scalar variables\n",
        "Metrics = {\n",
        "    'Accuracy': np.round( ACC.mean(),4)*100,\n",
        "    'Accuracy_std': np.round(np.std( ACC),4)*100,\n",
        "    'AUC': np.round( AUC.mean(),4)*100,\n",
        "    'AUC_std': np.round(np.std( AUC),4)*100,\n",
        "    'Balanced Accuracy': np.round( BACC.mean(),4)*100,\n",
        "    'Balanced Accuracy_std':  np.round(np.std(BACC),4)*100,\n",
        "    'MI': np.round( MI.mean(),4)*100,\n",
        "    'MI_std': np.round(np.std(MI),4)*100,\n",
        "    'Normalized MI': np.round( NMI.mean(),4)*100,\n",
        "    'Normalized MI_std': np.round(np.std(NMI),4)*100,\n",
        "    'Adjusted MI': np.round( AMI.mean(),4)*100,\n",
        "    'Adjusted MI_std': np.round(np.std(NMI),4)*100,\n",
        "}\n",
        "\n",
        "# save the dictionary to a file using pickle\n",
        "with open('data.pickle', 'wb') as handle:\n",
        "    pickle.dump(Metrics, handle, protocol=pickle.HIGHEST_PROTOCOL)"
      ],
      "metadata": {
        "id": "R_DvJTpWuMvj"
      },
      "id": "R_DvJTpWuMvj",
      "execution_count": null,
      "outputs": []
    }
  ],
  "metadata": {
    "kernelspec": {
      "display_name": "Python 3",
      "language": "python",
      "name": "python3"
    },
    "language_info": {
      "codemirror_mode": {
        "name": "ipython",
        "version": 3
      },
      "file_extension": ".py",
      "mimetype": "text/x-python",
      "name": "python",
      "nbconvert_exporter": "python",
      "pygments_lexer": "ipython3",
      "version": "3.7.12"
    },
    "papermill": {
      "default_parameters": {},
      "duration": 3238.520813,
      "end_time": "2022-10-25T00:50:24.487759",
      "environment_variables": {},
      "exception": null,
      "input_path": "__notebook__.ipynb",
      "output_path": "__notebook__.ipynb",
      "parameters": {},
      "start_time": "2022-10-24T23:56:25.966946",
      "version": "2.3.4"
    },
    "colab": {
      "provenance": [],
      "include_colab_link": true
    }
  },
  "nbformat": 4,
  "nbformat_minor": 5
}