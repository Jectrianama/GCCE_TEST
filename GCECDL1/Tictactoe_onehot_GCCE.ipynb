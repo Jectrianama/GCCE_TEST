{
  "cells": [
    {
      "cell_type": "markdown",
      "metadata": {
        "id": "view-in-github",
        "colab_type": "text"
      },
      "source": [
        "<a href=\"https://colab.research.google.com/github/Jectrianama/GCCE_TEST/blob/main/GCECDL1/Tictactoe_onehot_GCCE.ipynb\" target=\"_parent\"><img src=\"https://colab.research.google.com/assets/colab-badge.svg\" alt=\"Open In Colab\"/></a>"
      ]
    },
    {
      "cell_type": "code",
      "execution_count": 26,
      "id": "86321f42",
      "metadata": {
        "execution": {
          "iopub.execute_input": "2022-10-21T09:40:11.554958Z",
          "iopub.status.busy": "2022-10-21T09:40:11.554337Z",
          "iopub.status.idle": "2022-10-21T09:40:11.559686Z",
          "shell.execute_reply": "2022-10-21T09:40:11.558399Z"
        },
        "id": "86321f42",
        "papermill": {
          "duration": 0.018425,
          "end_time": "2022-10-21T09:40:11.562286",
          "exception": false,
          "start_time": "2022-10-21T09:40:11.543861",
          "status": "completed"
        },
        "tags": []
      },
      "outputs": [],
      "source": [
        "import tensorflow as tf\n",
        "from sklearn.metrics import classification_report, accuracy_score, balanced_accuracy_score, roc_auc_score, mutual_info_score, normalized_mutual_info_score, adjusted_mutual_info_score\n",
        "from sklearn.preprocessing import LabelBinarizer\n",
        "from sklearn.preprocessing import OneHotEncoder\n",
        "from scipy.stats import mode \n",
        "import numpy as np\n",
        "\n",
        "def ook(t):\n",
        "  lb = LabelBinarizer()\n",
        "  y_ook = lb.fit_transform(t)  \n",
        "\n",
        "  if len(np.unique(t))==2:\n",
        "    y_ook = np.concatenate((1-y_ook.astype(bool), y_ook), axis = 1) \n",
        "\n",
        "  return y_ook\n",
        "\n",
        " \n",
        "\n",
        "def evaluation_metrics(y_true, y_pred, print_result=True):\n",
        "    acc = 0\n",
        "    auc = 0\n",
        "    auc_sk = 0\n",
        "    #mi = 0\n",
        "    nmi = 0\n",
        "    #ami = 0\n",
        "    bacc = 0\n",
        "    \n",
        "    # Accuracy\n",
        "    #report = classification_report(y_pred.argmax(axis=1), y_true.ravel(), output_dict=True)\n",
        "    acc = accuracy_score( y_true.ravel(), y_pred.argmax(axis=1))  #report['accuracy']\n",
        "    \n",
        "    # Balanced accuracy\n",
        "    bacc = balanced_accuracy_score(y_true.squeeze(), y_pred.argmax(axis=1).squeeze(), adjusted=True)\n",
        "    \n",
        "   # # Mutual Information\n",
        "   # mi = mutual_info_score(y_true.squeeze(), y_pred.argmax(axis=1).squeeze())\n",
        "    \n",
        "    # Normalized Mutual Information\n",
        "    nmi = normalized_mutual_info_score(y_true.squeeze(), y_pred.argmax(axis=1).squeeze())\n",
        "    \n",
        "    # Adjusted Mutual Information\n",
        "    #ami = adjusted_mutual_info_score(y_true.squeeze(), y_pred.argmax(axis=1).squeeze())\n",
        "    \n",
        "    # AUC (Tensorflow)\n",
        "    auc_metric = tf.keras.metrics.AUC(from_logits=True)\n",
        "    auc_metric.update_state(y_true, y_pred.argmax(axis=1).astype('float'))\n",
        "    auc = auc_metric.result().numpy()\n",
        "    auc_metric.reset_states()\n",
        "    \n",
        "    # AUC (scikit-learn)\n",
        "    auc_sk = roc_auc_score(ook(y_true), y_pred)\n",
        "    \n",
        "    if print_result:\n",
        "        print(\"Accuracy: {:.4f}\".format(acc))\n",
        "        print(\"Balanced Accuracy: {:.4f}\".format(bacc))\n",
        "        print(\"Mutual Information: {:.4f}\".format(mi))\n",
        "        print(\"Normalized Mutual Information: {:.4f}\".format(nmi))\n",
        "        print(\"Adjusted Mutual Information: {:.4f}\".format(ami))\n",
        "        print(\"AUC (Tensorflow): {:.4f}\".format(auc))\n",
        "        print(\"AUC (scikit-learn): {:.4f}\".format(auc_sk))\n",
        "    \n",
        "    return acc, auc, auc_sk, nmi, bacc   # mi, , ami\n",
        "\n",
        "\n"
      ]
    },
    {
      "cell_type": "markdown",
      "id": "13b0308c",
      "metadata": {
        "id": "13b0308c",
        "papermill": {
          "duration": 0.008652,
          "end_time": "2022-10-21T09:40:11.580238",
          "exception": false,
          "start_time": "2022-10-21T09:40:11.571586",
          "status": "completed"
        },
        "tags": []
      },
      "source": [
        "# Subclassing for RCDNN"
      ]
    },
    {
      "cell_type": "code",
      "source": [
        "!git clone https://github.com/Jectrianama/GCCE_TEST.git"
      ],
      "metadata": {
        "colab": {
          "base_uri": "https://localhost:8080/"
        },
        "id": "byULw2lxP5bt",
        "outputId": "1bd830e2-e415-47ea-cc34-1c0ea91a567f"
      },
      "execution_count": 27,
      "outputs": [
        {
          "output_type": "stream",
          "name": "stdout",
          "text": [
            "fatal: destination path 'GCCE_TEST' already exists and is not an empty directory.\n"
          ]
        }
      ],
      "id": "byULw2lxP5bt"
    },
    {
      "cell_type": "code",
      "source": [
        "import os\n",
        "os.chdir('/content/GCCE_TEST/Models')\n",
        "#from  keras_ma_gcce import *\n",
        "from labels_generation import MA_Clas_Gen\n",
        "os.chdir('../../')"
      ],
      "metadata": {
        "id": "4h9KwfCKQAlr"
      },
      "execution_count": 28,
      "outputs": [],
      "id": "4h9KwfCKQAlr"
    },
    {
      "cell_type": "code",
      "source": [
        "#cargar datos desde drive otros dataset\n",
        "FILEID = \"1AU8pTtCLihBjCZjWITaAzpnEuL4RO436\"\n",
        "#https://drive.google.com/file/d/1AU8pTtCLihBjCZjWITaAzpnEuL4RO436/view?usp=sharing\n",
        "!wget --load-cookies /tmp/cookies.txt \"https://docs.google.com/uc?export=download&confirm=$(wget --quiet --save-cookies /tmp/cookies.txt --keep-session-cookies --no-check-certificate 'https://docs.google.com/uc?export=download&id='$FILEID -O- | sed -rn 's/.*confirm=([0-9A-Za-z_]+).*/\\1\\n/p')&id=\"$FILEID -O  DataGCCE.zip && rm -rf /tmp/cookies.txt\n",
        "!unzip -o DataGCCE.zip\n",
        "!dir"
      ],
      "metadata": {
        "id": "AklUNYNDWVv2",
        "colab": {
          "base_uri": "https://localhost:8080/"
        },
        "outputId": "1a220d5f-4367-4125-ad42-d1150e28352c"
      },
      "id": "AklUNYNDWVv2",
      "execution_count": 29,
      "outputs": [
        {
          "output_type": "stream",
          "name": "stdout",
          "text": [
            "--2023-02-13 18:02:29--  https://docs.google.com/uc?export=download&confirm=&id=1AU8pTtCLihBjCZjWITaAzpnEuL4RO436\n",
            "Resolving docs.google.com (docs.google.com)... 142.250.31.138, 142.250.31.101, 142.250.31.139, ...\n",
            "Connecting to docs.google.com (docs.google.com)|142.250.31.138|:443... connected.\n",
            "HTTP request sent, awaiting response... 303 See Other\n",
            "Location: https://doc-00-90-docs.googleusercontent.com/docs/securesc/ha0ro937gcuc7l7deffksulhg5h7mbp1/4mt4p83toi1h4bbj8vlhp2kk640g74o2/1676311350000/07591141114418430227/*/1AU8pTtCLihBjCZjWITaAzpnEuL4RO436?e=download&uuid=e8cca8b8-d89a-4c92-bbed-8ed4752549a9 [following]\n",
            "Warning: wildcards not supported in HTTP.\n",
            "--2023-02-13 18:02:30--  https://doc-00-90-docs.googleusercontent.com/docs/securesc/ha0ro937gcuc7l7deffksulhg5h7mbp1/4mt4p83toi1h4bbj8vlhp2kk640g74o2/1676311350000/07591141114418430227/*/1AU8pTtCLihBjCZjWITaAzpnEuL4RO436?e=download&uuid=e8cca8b8-d89a-4c92-bbed-8ed4752549a9\n",
            "Resolving doc-00-90-docs.googleusercontent.com (doc-00-90-docs.googleusercontent.com)... 142.251.163.132, 2607:f8b0:4004:c1b::84\n",
            "Connecting to doc-00-90-docs.googleusercontent.com (doc-00-90-docs.googleusercontent.com)|142.251.163.132|:443... connected.\n",
            "HTTP request sent, awaiting response... 200 OK\n",
            "Length: 38377 (37K) [application/x-zip-compressed]\n",
            "Saving to: ‘DataGCCE.zip’\n",
            "\n",
            "DataGCCE.zip        100%[===================>]  37.48K  --.-KB/s    in 0.001s  \n",
            "\n",
            "2023-02-13 18:02:30 (55.8 MB/s) - ‘DataGCCE.zip’ saved [38377/38377]\n",
            "\n",
            "Archive:  DataGCCE.zip\n",
            "  inflating: new-thyroid.csv         \n",
            "  inflating: tic-tac-toe-endgame.csv  \n",
            "  inflating: balance-scale.csv       \n",
            "  inflating: file.csv                \n",
            "balance-scale.csv  GCCE_TEST\t   new-thyroid.csv\t    TicTacToeGCE.xlsx\n",
            "DataGCCE.zip\t   MADatasets\t   sample_data\n",
            "file.csv\t   MADatasets.zip  tic-tac-toe-endgame.csv\n"
          ]
        }
      ]
    },
    {
      "cell_type": "code",
      "source": [
        "# -*- coding: utf-8 -*-\n",
        "import tensorflow as tf\n",
        "import matplotlib.pyplot as plt\n",
        "#from tensorflow.keras.wrappers.scikit_learn import KerasClassifier\n",
        "import tensorflow_probability as tfp\n",
        "from tensorflow.keras import regularizers\n",
        "from sklearn.base import  BaseEstimator, TransformerMixin, ClassifierMixin\n",
        "from sklearn.model_selection import train_test_split\n",
        "tf.keras.backend.clear_session()\n",
        "#tf.random.set_seed(42)\n",
        "import types\n",
        "import tempfile\n",
        "class Keras_MA_RCDNN(): #transformer no va\n",
        " #Constructor __init__. Special method: identified by a double underscore at either side of their name\n",
        " #work in the background\n",
        " # initialize data members to the object. lets the class initialize the object’s attributes and serves no other purpose.\n",
        "    def __init__(self,epochs=100,batch_size=30,R=5, K=2, dropout=0.5, learning_rate=1e-3,optimizer='Adam', \n",
        "                  l1_param=0, validation_split=0.3, verbose=1, q = 0.1):\n",
        "        self.epochs=epochs\n",
        "        self.dropout=dropout\n",
        "        self.batch_size = batch_size\n",
        "        self.learning_rate=learning_rate \n",
        "        self.l1_param=l1_param \n",
        "        self.l2_param=l1_param\n",
        "        self.validation_split = validation_split\n",
        "        self.verbose = verbose\n",
        "        self.optimizer = optimizer\n",
        "        self.R=R\n",
        "        self.K=K\n",
        "        self.q = q\n",
        "\n",
        "    \n",
        " \n",
        "    def custom_RCDNN_loss(self, y_true, y_pred):  #ytrue \\in N x R,  ypred \\in N x (R+K) -> PRI->JULI\n",
        "    \n",
        "        #Input ytrue: samples (N) x  annotators (R) \n",
        "        #Input ypred: samples (N) x  annotators+classes (R+K) \n",
        "\n",
        "        #Ground truth estimation samples (N) x  Classes(K)\n",
        "        pred = y_pred[:,self.R:]\n",
        "        pred = tf.clip_by_value(pred, clip_value_min=1e-9, clip_value_max=1-1e-9) #estabilidad numerica de la funcion de costo\n",
        "        # Annotators reliability prediction: samples (N) x  annotators (R)\n",
        "        ann_ = y_pred[:,:self.R]\n",
        "        #Y_true 1-K: samples (N) x  Classes(1-K), annotators (R)\n",
        "        Y_true = tf.one_hot(tf.cast(y_true, dtype=tf.int32), depth=self.K, axis=1)\n",
        "        #Y_pred 1 - K: samples (N) x  Classes(1-K), annotators (R)\n",
        "        Y_hat = tf.repeat(tf.expand_dims(pred,-1), self.R, axis = -1)\n",
        "        #loss computation\n",
        "        p_logreg = tf.math.reduce_prod(tf.math.pow(Y_hat, Y_true), axis=1)\n",
        "        temp1 = ann_*tf.math.log(p_logreg)  \n",
        "        temp2 = (1 - ann_)*tf.math.log(1/self.K)*tf.reduce_sum(Y_true,axis=1)\n",
        "        # temp2 = (tf.ones(tf.shape(ann_)) - ann_)*tf.math.log(1/K)\n",
        "        # print(tf.reduce_mean(Y_true,axis=1).numpy())\n",
        "        return -tf.math.reduce_sum((temp1 + temp2))\n",
        "\n",
        "        \n",
        "    def GCCE_MA_loss(self, y_true, y_pred):\n",
        "        # print(y_true,y_pred)\n",
        "       # q = 0.1\n",
        "        pred = y_pred[:, self.R:]\n",
        "        pred = tf.clip_by_value(pred, clip_value_min=1e-9, clip_value_max=1)\n",
        "        ann_ = y_pred[:, :self.R]\n",
        "        # ann_ = tf.clip_by_value(ann_, clip_value_min=1e-9, clip_value_max=1-1e-9)\n",
        "        Y_true = tf.one_hot(tf.cast(y_true, dtype=tf.int32), depth=self.K, axis=1)\n",
        "        Y_hat = tf.repeat(tf.expand_dims(pred,-1), self.R, axis = -1)\n",
        "\n",
        "        p_gcce = Y_true*(1 - Y_hat**self.q)/self.q\n",
        "        temp1 = ann_*tf.math.reduce_sum(p_gcce, axis=1)\n",
        "\n",
        "        # p_logreg = tf.math.reduce_prod(tf.math.pow(Y_hat, Y_true), axis=1)\n",
        "        # temp1 = ann_*tf.math.log(p_logreg)  \n",
        "        # temp2 = (1 - ann_)*tf.math.log(1/K)*tf.reduce_sum(Y_true,axis=1)\n",
        "        # aux = tf.repeat(tf.reduce_sum(pred*tf.math.log(pred),axis=1,keepdims=True), R, axis = 1)\n",
        "        # tf.print(tf.shape(aux))\n",
        "        # print(tf.shape(aux))\n",
        "        # temp2 = (1 - ann_)*aux*tf.reduce_sum(Y_true,axis=1)\n",
        "        # temp2 = (tf.ones(tf.shape(ann_)) - ann_)*tf.math.log(1/K)\n",
        "        # print(tf.reduce_mean(Y_true,axis=1).numpy())\n",
        "        # Y_true_1 = tf.clip_by_value(Y_true, clip_value_min=1e-9, clip_value_max=1)\n",
        "        # p_logreg_inv = tf.math.reduce_prod(tf.math.pow(Y_true_1, Y_hat), axis=1)\n",
        "        # temp2 = (1 - ann_)*tf.math.log(p_logreg_inv) \n",
        "        temp2 = (1 - ann_)*(1-(1/self.K)**self.q)/self.q*tf.reduce_sum(Y_true,axis=1)\n",
        "        return tf.math.reduce_sum((temp1 + temp2))\n",
        "\n",
        " \n",
        "    def PRI_MA_loss(self, y_true, y_pred): #,  -> PRI\n",
        "        #Input ytrue: samples (N) x  annotators (R) \n",
        "        #Input ypred: samples (N) x  annotators+classes (R+K) \n",
        "        #PRI MA\n",
        "        cce_M = tf.keras.losses.CategoricalCrossentropy(reduction='none',axis=-1)\n",
        "        cce_C = tf.keras.losses.CategoricalCrossentropy(reduction='none',axis=1)\n",
        "\n",
        "      \n",
        "\n",
        "        #N = tf.cast(y_true.shape[0],dtype=tf.int32)\n",
        "        N = tf.shape(y_true)[0]\n",
        "        #Ground truth estimation samples (N) x  Classes(K)\n",
        "        y_pred_tf = y_pred[:,self.R:] \n",
        "        # Annotators reliability prediction: samples (N) x  annotators (R)\n",
        "        lambda_R_tf = y_pred[:,:self.R] #tf.ones(shape=(N,R)) \n",
        "        #Y_true 1 K: samples (N) x  Classes(1-K), annotators (R)\n",
        "        Y_true_1K = tf.one_hot(tf.cast(y_true,dtype=tf.int32),depth=self.K,axis=1)  \n",
        "        #Y_pred 1 - K: samples (N) x  Classes(1-K), annotators (R)\n",
        "        Y_hat = tf.repeat(tf.expand_dims(y_pred_tf,-1), self.R, axis = -1) \n",
        "        #marginal entropy\n",
        "        #cce along the K classes -> ypred_tf\n",
        "        Hm_ = cce_M(y_pred_tf,y_pred_tf)\n",
        "        #cross entropy\n",
        "        #cce along the K classes -> Y_hat\n",
        "        Hc_ = cce_C(Y_true_1K,Y_hat)\n",
        "        #PRI MA computation\n",
        "        LH = tf.linalg.matmul(lambda_R_tf,Hc_,transpose_a=True) # \\Lambda^\\top H_c\n",
        "        temp1 = tf.linalg.trace(LH) #trace(LH)\n",
        "        Hm1L = tf.linalg.matmul(tf.ones(shape=(N,self.R))-lambda_R_tf,tf.ones(shape=(self.R,1)))# 1_N 1_R^\\top - Lambda\n",
        "        Hm_t = tf.reshape(Hm_,shape=(N,1))\n",
        "        temp2 = tf.squeeze(tf.linalg.matmul(Hm_t,Hm1L,transpose_a=True)) # Hm^\\top Hm1L\n",
        "        loss_c = temp1+ temp2 #return loss\n",
        "\n",
        "        return loss_c\n",
        "\n",
        " \n",
        "    def fit(self, X, Y):\n",
        "        #input X numpy array first dimension samples (N)x features (P)\n",
        "        #input Y numpy array vector len = samples (N) x  annotators (R)\n",
        "        P = X.shape[1]\n",
        "        if self.optimizer == \"Adam\":\n",
        "            opt = tf.keras.optimizers.Adam(learning_rate=self.learning_rate, clipnorm=1.0)\n",
        "        elif self.optimizer == \"SGD\":\n",
        "            opt = tf.keras.optimizers.SGD(learning_rate=self.learning_rate, clipnorm=1.0)\n",
        "        else:\n",
        "            opt=self.optimizer\n",
        "\n",
        "        #capa de entrada\n",
        "        input_l = tf.keras.layers.Input(shape=(X_train.shape[1]), name='entrada')\n",
        "        #capas densas\n",
        "        h1 = tf.keras.layers.Dense(int(P*4*(self.K+self.R)),activation='selu',name='h1',\n",
        "                              kernel_regularizer=tf.keras.regularizers.l1_l2(l1=self.l1_param,l2=self.l2_param))(input_l)#argumento de entrada\n",
        "        h2 = tf.keras.layers.Dense(int(P*(self.K+self.R)),activation='selu',name='h2',\n",
        "                              kernel_regularizer=tf.keras.regularizers.l1_l2(l1=self.l1_param,l2=self.l2_param))(h1)\n",
        "        dout = tf.keras.layers.Dropout(rate=self.dropout)(h2)\n",
        "        output_R = tf.keras.layers.Dense(self.R,activation=\"sigmoid\", \n",
        "                                    kernel_regularizer=tf.keras.regularizers.l1_l2(l1=self.l1_param,l2=self.l2_param), name= 'out_R_RCDNN' )(dout)\n",
        " \n",
        "        output_K = tf.keras.layers.Dense(self.K,activation=\"softmax\", \n",
        "                                    kernel_regularizer=tf.keras.regularizers.l1_l2(l1=self.l1_param,l2=self.l2_param), name= 'out_K_RCDNN')(dout)\n",
        " \n",
        "        output = tf.keras.layers.concatenate([output_R, output_K])\n",
        "        self.model = tf.keras.Model(inputs= input_l,outputs=output)\n",
        "        self.model.compile(loss=self.GCCE_MA_loss, optimizer=opt)\n",
        " \n",
        "        self.history = self.model.fit(X, Y, epochs=self.epochs, validation_split=self.validation_split,   #\n",
        "                                      batch_size=self.batch_size,verbose=self.verbose)\n",
        " \n",
        "        return self\n",
        " \n",
        "  \n",
        "    \n",
        "    def predict(self, X, *_):\n",
        "       #input X numpy array first dimension samples (N)x features (P)\n",
        "      return  self.model.predict(X) \n",
        " \n",
        " \n",
        "\n",
        "    def fit_predict(self,X,y):\n",
        "        #input X numpy array first dimension samples (N)x features (P)\n",
        "        #input Y numpy array vector len = samples (N) x  annotators (R)\n",
        "        self.fit(X,y)\n",
        "        return self.predict(X)\n",
        "  \n",
        "     #graphics\n",
        "    def plot_history(self):\n",
        "        pd.DataFrame(self.history.history).plot(figsize=(8, 5))\n",
        "        plt.grid(True)\n",
        "        #plt.gca().set_ylim(0, 1)\n",
        "        #save_fig(\"keras_learning_curves_plot\")\n",
        "        plt.show()\n",
        "        return\n",
        "    \n",
        "    def set_params(self, **parameters):\n",
        "        for parameter, value in parameters.items():\n",
        "            setattr(self, parameter, value)\n",
        "\n",
        "        return self\n",
        "    \n",
        "    \n",
        "    \n",
        "    def get_params(self, deep=True):\n",
        "        return { 'l1_param':self.l1_param, 'dropout':self.dropout, 'optimizer':self.optimizer,\n",
        "                'learning_rate':self.learning_rate, 'batch_size':self.batch_size,\n",
        "                'epochs':self.epochs, 'verbose':self.verbose, 'validation_split':self.validation_split,\n",
        "                'R':self.R, 'K':self.K, 'q':self.q\n",
        "                }\n",
        "\n",
        "  \n",
        "        return self"
      ],
      "metadata": {
        "id": "92YzAgFHY2y2"
      },
      "id": "92YzAgFHY2y2",
      "execution_count": 30,
      "outputs": []
    },
    {
      "cell_type": "code",
      "execution_count": 31,
      "id": "4f2c39a8",
      "metadata": {
        "execution": {
          "iopub.execute_input": "2022-10-21T09:40:20.545517Z",
          "iopub.status.busy": "2022-10-21T09:40:20.544349Z",
          "iopub.status.idle": "2022-10-21T09:40:25.706818Z",
          "shell.execute_reply": "2022-10-21T09:40:25.705680Z"
        },
        "id": "4f2c39a8",
        "outputId": "9f901a89-81e7-41cd-ba88-6b0fda85478d",
        "papermill": {
          "duration": 5.175274,
          "end_time": "2022-10-21T09:40:25.709154",
          "exception": false,
          "start_time": "2022-10-21T09:40:20.533880",
          "status": "completed"
        },
        "tags": [],
        "colab": {
          "base_uri": "https://localhost:8080/"
        }
      },
      "outputs": [
        {
          "output_type": "stream",
          "name": "stdout",
          "text": [
            "--2023-02-13 18:02:30--  https://docs.google.com/uc?export=download&confirm=t&id=1SQnWXGROG2Xexs5vn3twuv7SqiWG5njW\n",
            "Resolving docs.google.com (docs.google.com)... 142.250.31.138, 142.250.31.101, 142.250.31.139, ...\n",
            "Connecting to docs.google.com (docs.google.com)|142.250.31.138|:443... connected.\n",
            "HTTP request sent, awaiting response... 303 See Other\n",
            "Location: https://doc-00-90-docs.googleusercontent.com/docs/securesc/ha0ro937gcuc7l7deffksulhg5h7mbp1/aeiaeb4i20a9ib11lrj243e5c9n8n7gi/1676311350000/07591141114418430227/*/1SQnWXGROG2Xexs5vn3twuv7SqiWG5njW?e=download&uuid=fbb4c475-bcbd-4f96-81e5-4c98e20935e7 [following]\n",
            "Warning: wildcards not supported in HTTP.\n",
            "--2023-02-13 18:02:30--  https://doc-00-90-docs.googleusercontent.com/docs/securesc/ha0ro937gcuc7l7deffksulhg5h7mbp1/aeiaeb4i20a9ib11lrj243e5c9n8n7gi/1676311350000/07591141114418430227/*/1SQnWXGROG2Xexs5vn3twuv7SqiWG5njW?e=download&uuid=fbb4c475-bcbd-4f96-81e5-4c98e20935e7\n",
            "Resolving doc-00-90-docs.googleusercontent.com (doc-00-90-docs.googleusercontent.com)... 142.251.163.132, 2607:f8b0:4004:c1b::84\n",
            "Connecting to doc-00-90-docs.googleusercontent.com (doc-00-90-docs.googleusercontent.com)|142.251.163.132|:443... connected.\n",
            "HTTP request sent, awaiting response... 200 OK\n",
            "Length: 156530728 (149M) [application/zip]\n",
            "Saving to: ‘MADatasets.zip’\n",
            "\n",
            "MADatasets.zip      100%[===================>] 149.28M   116MB/s    in 1.3s    \n",
            "\n",
            "2023-02-13 18:02:32 (116 MB/s) - ‘MADatasets.zip’ saved [156530728/156530728]\n",
            "\n",
            "Archive:  MADatasets.zip\n",
            "  inflating: MADatasets/util.py      \n",
            "  inflating: MADatasets/Iris1.mat    \n",
            "  inflating: MADatasets/Integra_Labels.mat  \n",
            "  inflating: MADatasets/MAGenerationClassification.py  \n",
            "  inflating: MADatasets/Voice.mat    \n",
            "  inflating: MADatasets/Iris.mat     \n",
            "  inflating: MADatasets/Sinthetic.mat  \n",
            "  inflating: MADatasets/MAGenerationClassification_1.py  \n",
            "  inflating: MADatasets/Bupa1.mat    \n",
            "  inflating: MADatasets/TicTacToe1.mat  \n",
            "  inflating: MADatasets/Wine.mat     \n",
            "  inflating: MADatasets/Breast1.mat  \n",
            "  inflating: MADatasets/Breast.mat   \n",
            "  inflating: MADatasets/Music.mat    \n",
            "  inflating: MADatasets/Pima.mat     \n",
            "  inflating: MADatasets/Ionosphere.mat  \n",
            "  inflating: MADatasets/TicTacToe.mat  \n",
            "  inflating: MADatasets/VoiceData.m  \n",
            "  inflating: MADatasets/util_1.py    \n",
            "  inflating: MADatasets/Ionosphere1.mat  \n",
            "  inflating: MADatasets/__pycache__/util_1.cpython-37.pyc  \n",
            "  inflating: MADatasets/Bupa.mat     \n",
            "  inflating: MADatasets/Wine1.mat    \n",
            "  inflating: MADatasets/__pycache__/util.cpython-37.pyc  \n",
            "  inflating: MADatasets/Pima1.mat    \n",
            "  inflating: MADatasets/Segmentation1.mat  \n",
            "  inflating: MADatasets/Western.mat  \n",
            "  inflating: MADatasets/Integra_Preprocesamiento_Seg_Caracterizacion_time_frec.mat  \n",
            "  inflating: MADatasets/Western1.mat  \n",
            "  inflating: MADatasets/Segmentation.mat  \n",
            "  inflating: MADatasets/Skin_NonSkin.mat  \n",
            "  inflating: MADatasets/Skin_NonSkin1.mat  \n",
            "  inflating: MADatasets/Occupancy1.mat  \n",
            "  inflating: MADatasets/Polarity.mat  \n",
            "  inflating: MADatasets/Occupancy.mat  \n",
            "balance-scale.csv  GCCE_TEST\t   new-thyroid.csv\t    TicTacToeGCE.xlsx\n",
            "DataGCCE.zip\t   MADatasets\t   sample_data\n",
            "file.csv\t   MADatasets.zip  tic-tac-toe-endgame.csv\n"
          ]
        }
      ],
      "source": [
        "#cargar datos desde drive acceso libre\n",
        "FILEID = \"1SQnWXGROG2Xexs5vn3twuv7SqiWG5njW\"\n",
        "#https://drive.google.com/file/d/1SQnWXGROG2Xexs5vn3twuv7SqiWG5njW/view?usp=sharing\n",
        "!wget --load-cookies /tmp/cookies.txt \"https://docs.google.com/uc?export=download&confirm=$(wget --quiet --save-cookies /tmp/cookies.txt --keep-session-cookies --no-check-certificate 'https://docs.google.com/uc?export=download&id='$FILEID -O- | sed -rn 's/.*confirm=([0-9A-Za-z_]+).*/\\1\\n/p')&id=\"$FILEID -O MADatasets.zip && rm -rf /tmp/cookies.txt\n",
        "!unzip -o MADatasets.zip\n",
        "!dir"
      ]
    },
    {
      "cell_type": "markdown",
      "id": "5b055b86",
      "metadata": {
        "id": "5b055b86",
        "papermill": {
          "duration": 0.009727,
          "end_time": "2022-10-21T09:40:25.729080",
          "exception": false,
          "start_time": "2022-10-21T09:40:25.719353",
          "status": "completed"
        },
        "tags": []
      },
      "source": [
        "# Load Data"
      ]
    },
    {
      "cell_type": "code",
      "execution_count": 32,
      "id": "b28bee07",
      "metadata": {
        "execution": {
          "iopub.execute_input": "2022-10-21T09:40:25.751821Z",
          "iopub.status.busy": "2022-10-21T09:40:25.751397Z",
          "iopub.status.idle": "2022-10-21T09:40:25.809906Z",
          "shell.execute_reply": "2022-10-21T09:40:25.808796Z"
        },
        "id": "b28bee07",
        "papermill": {
          "duration": 0.072775,
          "end_time": "2022-10-21T09:40:25.812197",
          "exception": false,
          "start_time": "2022-10-21T09:40:25.739422",
          "status": "completed"
        },
        "tags": []
      },
      "outputs": [],
      "source": [
        "#load data\n",
        "import scipy.io as sio\n",
        "import matplotlib.pyplot as plt\n",
        "import pandas as pd\n",
        "import tensorflow as tf #importar tensorflow\n",
        "from sklearn.model_selection import GridSearchCV, RandomizedSearchCV\n",
        "from sklearn.preprocessing import StandardScaler,MinMaxScaler\n",
        "import numpy as np\n",
        "database = 'TicTacToe'\n",
        "data = pd.read_csv('/content/tic-tac-toe-endgame.csv')\n"
      ]
    },
    {
      "cell_type": "code",
      "execution_count": 33,
      "id": "802a61da",
      "metadata": {
        "execution": {
          "iopub.execute_input": "2022-10-21T09:40:25.834037Z",
          "iopub.status.busy": "2022-10-21T09:40:25.833685Z",
          "iopub.status.idle": "2022-10-21T09:40:25.841850Z",
          "shell.execute_reply": "2022-10-21T09:40:25.840671Z"
        },
        "papermill": {
          "duration": 0.021613,
          "end_time": "2022-10-21T09:40:25.843953",
          "exception": false,
          "start_time": "2022-10-21T09:40:25.822340",
          "status": "completed"
        },
        "tags": [],
        "id": "802a61da"
      },
      "outputs": [],
      "source": [
        "def onehot_encode(df, columns):\n",
        "    df = df.copy()\n",
        "    for column in columns:\n",
        "        dummies = pd.get_dummies(df[column], prefix=column)\n",
        "        df = pd.concat([df, dummies], axis=1)\n",
        "        df = df.drop(column, axis=1)\n",
        "    return df\n",
        "\n",
        "def preprocess_inputs(df):\n",
        "    df = df.copy()\n",
        "    \n",
        "    # Encode label values as numbers\n",
        "    df['V10'] = df['V10'].replace({'negative': 0, 'positive': 1})\n",
        "    \n",
        "    # One-hot encode board space columns\n",
        "    df = onehot_encode(\n",
        "        df,\n",
        "        columns=['V' + str(i) for i in range(1, 10)]\n",
        "    )\n",
        "    \n",
        "    # Split df into X and y\n",
        "    y = df['V10'].copy()\n",
        "    X = df.drop('V10', axis=1).copy()\n",
        "    \n",
        "    # Train-test split\n",
        "   # X_train, X_test, y_train, y_test = train_test_split(X, y, train_size=0.7, random_state=123)\n",
        "    \n",
        "    return X, y"
      ]
    },
    {
      "cell_type": "code",
      "execution_count": 34,
      "id": "30becbc4",
      "metadata": {
        "execution": {
          "iopub.execute_input": "2022-10-21T09:40:25.865427Z",
          "iopub.status.busy": "2022-10-21T09:40:25.865082Z",
          "iopub.status.idle": "2022-10-21T09:40:25.898126Z",
          "shell.execute_reply": "2022-10-21T09:40:25.897153Z"
        },
        "papermill": {
          "duration": 0.046418,
          "end_time": "2022-10-21T09:40:25.900452",
          "exception": false,
          "start_time": "2022-10-21T09:40:25.854034",
          "status": "completed"
        },
        "tags": [],
        "id": "30becbc4"
      },
      "outputs": [],
      "source": [
        "X, t = preprocess_inputs(data)"
      ]
    },
    {
      "cell_type": "code",
      "execution_count": 35,
      "id": "0efd040a",
      "metadata": {
        "execution": {
          "iopub.execute_input": "2022-10-21T09:40:25.921507Z",
          "iopub.status.busy": "2022-10-21T09:40:25.921164Z",
          "iopub.status.idle": "2022-10-21T09:40:25.931292Z",
          "shell.execute_reply": "2022-10-21T09:40:25.930416Z"
        },
        "papermill": {
          "duration": 0.022623,
          "end_time": "2022-10-21T09:40:25.932990",
          "exception": false,
          "start_time": "2022-10-21T09:40:25.910367",
          "status": "completed"
        },
        "tags": [],
        "id": "0efd040a",
        "outputId": "0c5c5ea2-20af-4e99-8091-be80fd6df013",
        "colab": {
          "base_uri": "https://localhost:8080/"
        }
      },
      "outputs": [
        {
          "output_type": "execute_result",
          "data": {
            "text/plain": [
              "array([[0, 0, 1, ..., 0, 1, 0],\n",
              "       [0, 0, 1, ..., 0, 1, 0],\n",
              "       [0, 0, 1, ..., 0, 0, 1],\n",
              "       ...,\n",
              "       [0, 1, 0, ..., 0, 0, 1],\n",
              "       [0, 1, 0, ..., 0, 0, 1],\n",
              "       [0, 1, 0, ..., 0, 0, 1]], dtype=uint8)"
            ]
          },
          "metadata": {},
          "execution_count": 35
        }
      ],
      "source": [
        "X = np.array(X.values)\n",
        "X"
      ]
    },
    {
      "cell_type": "code",
      "execution_count": 36,
      "id": "b66b4038",
      "metadata": {
        "execution": {
          "iopub.execute_input": "2022-10-21T09:40:25.954051Z",
          "iopub.status.busy": "2022-10-21T09:40:25.953719Z",
          "iopub.status.idle": "2022-10-21T09:40:25.962435Z",
          "shell.execute_reply": "2022-10-21T09:40:25.961331Z"
        },
        "papermill": {
          "duration": 0.02228,
          "end_time": "2022-10-21T09:40:25.965038",
          "exception": false,
          "start_time": "2022-10-21T09:40:25.942758",
          "status": "completed"
        },
        "tags": [],
        "id": "b66b4038",
        "outputId": "1f99f685-cc2a-4d54-dc45-936cb3de6a3b",
        "colab": {
          "base_uri": "https://localhost:8080/"
        }
      },
      "outputs": [
        {
          "output_type": "execute_result",
          "data": {
            "text/plain": [
              "array([1, 1, 1, 1, 1, 1, 1, 1, 1, 1, 1, 1, 1, 1, 1, 1, 1, 1, 1, 1, 1, 1,\n",
              "       1, 1, 1, 1, 1, 1, 1, 1, 1, 1, 1, 1, 1, 1, 1, 1, 1, 1, 1, 1, 1, 1,\n",
              "       1, 1, 1, 1, 1, 1, 1, 1, 1, 1, 1, 1, 1, 1, 1, 1, 1, 1, 1, 1, 1, 1,\n",
              "       1, 1, 1, 1, 1, 1, 1, 1, 1, 1, 1, 1, 1, 1, 1, 1, 1, 1, 1, 1, 1, 1,\n",
              "       1, 1, 1, 1, 1, 1, 1, 1, 1, 1, 1, 1, 1, 1, 1, 1, 1, 1, 1, 1, 1, 1,\n",
              "       1, 1, 1, 1, 1, 1, 1, 1, 1, 1, 1, 1, 1, 1, 1, 1, 1, 1, 1, 1, 1, 1,\n",
              "       1, 1, 1, 1, 1, 1, 1, 1, 1, 1, 1, 1, 1, 1, 1, 1, 1, 1, 1, 1, 1, 1,\n",
              "       1, 1, 1, 1, 1, 1, 1, 1, 1, 1, 1, 1, 1, 1, 1, 1, 1, 1, 1, 1, 1, 1,\n",
              "       1, 1, 1, 1, 1, 1, 1, 1, 1, 1, 1, 1, 1, 1, 1, 1, 1, 1, 1, 1, 1, 1,\n",
              "       1, 1, 1, 1, 1, 1, 1, 1, 1, 1, 1, 1, 1, 1, 1, 1, 1, 1, 1, 1, 1, 1,\n",
              "       1, 1, 1, 1, 1, 1, 1, 1, 1, 1, 1, 1, 1, 1, 1, 1, 1, 1, 1, 1, 1, 1,\n",
              "       1, 1, 1, 1, 1, 1, 1, 1, 1, 1, 1, 1, 1, 1, 1, 1, 1, 1, 1, 1, 1, 1,\n",
              "       1, 1, 1, 1, 1, 1, 1, 1, 1, 1, 1, 1, 1, 1, 1, 1, 1, 1, 1, 1, 1, 1,\n",
              "       1, 1, 1, 1, 1, 1, 1, 1, 1, 1, 1, 1, 1, 1, 1, 1, 1, 1, 1, 1, 1, 1,\n",
              "       1, 1, 1, 1, 1, 1, 1, 1, 1, 1, 1, 1, 1, 1, 1, 1, 1, 1, 1, 1, 1, 1,\n",
              "       1, 1, 1, 1, 1, 1, 1, 1, 1, 1, 1, 1, 1, 1, 1, 1, 1, 1, 1, 1, 1, 1,\n",
              "       1, 1, 1, 1, 1, 1, 1, 1, 1, 1, 1, 1, 1, 1, 1, 1, 1, 1, 1, 1, 1, 1,\n",
              "       1, 1, 1, 1, 1, 1, 1, 1, 1, 1, 1, 1, 1, 1, 1, 1, 1, 1, 1, 1, 1, 1,\n",
              "       1, 1, 1, 1, 1, 1, 1, 1, 1, 1, 1, 1, 1, 1, 1, 1, 1, 1, 1, 1, 1, 1,\n",
              "       1, 1, 1, 1, 1, 1, 1, 1, 1, 1, 1, 1, 1, 1, 1, 1, 1, 1, 1, 1, 1, 1,\n",
              "       1, 1, 1, 1, 1, 1, 1, 1, 1, 1, 1, 1, 1, 1, 1, 1, 1, 1, 1, 1, 1, 1,\n",
              "       1, 1, 1, 1, 1, 1, 1, 1, 1, 1, 1, 1, 1, 1, 1, 1, 1, 1, 1, 1, 1, 1,\n",
              "       1, 1, 1, 1, 1, 1, 1, 1, 1, 1, 1, 1, 1, 1, 1, 1, 1, 1, 1, 1, 1, 1,\n",
              "       1, 1, 1, 1, 1, 1, 1, 1, 1, 1, 1, 1, 1, 1, 1, 1, 1, 1, 1, 1, 1, 1,\n",
              "       1, 1, 1, 1, 1, 1, 1, 1, 1, 1, 1, 1, 1, 1, 1, 1, 1, 1, 1, 1, 1, 1,\n",
              "       1, 1, 1, 1, 1, 1, 1, 1, 1, 1, 1, 1, 1, 1, 1, 1, 1, 1, 1, 1, 1, 1,\n",
              "       1, 1, 1, 1, 1, 1, 1, 1, 1, 1, 1, 1, 1, 1, 1, 1, 1, 1, 1, 1, 1, 1,\n",
              "       1, 1, 1, 1, 1, 1, 1, 1, 1, 1, 1, 1, 1, 1, 1, 1, 1, 1, 1, 1, 1, 1,\n",
              "       1, 1, 1, 1, 1, 1, 1, 1, 1, 1, 0, 0, 0, 0, 0, 0, 0, 0, 0, 0, 0, 0,\n",
              "       0, 0, 0, 0, 0, 0, 0, 0, 0, 0, 0, 0, 0, 0, 0, 0, 0, 0, 0, 0, 0, 0,\n",
              "       0, 0, 0, 0, 0, 0, 0, 0, 0, 0, 0, 0, 0, 0, 0, 0, 0, 0, 0, 0, 0, 0,\n",
              "       0, 0, 0, 0, 0, 0, 0, 0, 0, 0, 0, 0, 0, 0, 0, 0, 0, 0, 0, 0, 0, 0,\n",
              "       0, 0, 0, 0, 0, 0, 0, 0, 0, 0, 0, 0, 0, 0, 0, 0, 0, 0, 0, 0, 0, 0,\n",
              "       0, 0, 0, 0, 0, 0, 0, 0, 0, 0, 0, 0, 0, 0, 0, 0, 0, 0, 0, 0, 0, 0,\n",
              "       0, 0, 0, 0, 0, 0, 0, 0, 0, 0, 0, 0, 0, 0, 0, 0, 0, 0, 0, 0, 0, 0,\n",
              "       0, 0, 0, 0, 0, 0, 0, 0, 0, 0, 0, 0, 0, 0, 0, 0, 0, 0, 0, 0, 0, 0,\n",
              "       0, 0, 0, 0, 0, 0, 0, 0, 0, 0, 0, 0, 0, 0, 0, 0, 0, 0, 0, 0, 0, 0,\n",
              "       0, 0, 0, 0, 0, 0, 0, 0, 0, 0, 0, 0, 0, 0, 0, 0, 0, 0, 0, 0, 0, 0,\n",
              "       0, 0, 0, 0, 0, 0, 0, 0, 0, 0, 0, 0, 0, 0, 0, 0, 0, 0, 0, 0, 0, 0,\n",
              "       0, 0, 0, 0, 0, 0, 0, 0, 0, 0, 0, 0, 0, 0, 0, 0, 0, 0, 0, 0, 0, 0,\n",
              "       0, 0, 0, 0, 0, 0, 0, 0, 0, 0, 0, 0, 0, 0, 0, 0, 0, 0, 0, 0, 0, 0,\n",
              "       0, 0, 0, 0, 0, 0, 0, 0, 0, 0, 0, 0, 0, 0, 0, 0, 0, 0, 0, 0, 0, 0,\n",
              "       0, 0, 0, 0, 0, 0, 0, 0, 0, 0, 0, 0, 0, 0, 0, 0, 0, 0, 0, 0, 0, 0,\n",
              "       0, 0, 0, 0, 0, 0, 0, 0, 0, 0, 0, 0])"
            ]
          },
          "metadata": {},
          "execution_count": 36
        }
      ],
      "source": [
        "t = np.array(t.values)\n",
        "t"
      ]
    },
    {
      "cell_type": "code",
      "execution_count": 37,
      "id": "c6bbaf07",
      "metadata": {
        "execution": {
          "iopub.execute_input": "2022-10-21T09:40:25.986502Z",
          "iopub.status.busy": "2022-10-21T09:40:25.986170Z",
          "iopub.status.idle": "2022-10-21T09:40:25.994632Z",
          "shell.execute_reply": "2022-10-21T09:40:25.993697Z"
        },
        "id": "c6bbaf07",
        "outputId": "e6b41a86-fc2b-46df-da07-0e756c94aa97",
        "papermill": {
          "duration": 0.021299,
          "end_time": "2022-10-21T09:40:25.996528",
          "exception": false,
          "start_time": "2022-10-21T09:40:25.975229",
          "status": "completed"
        },
        "tags": [],
        "colab": {
          "base_uri": "https://localhost:8080/"
        }
      },
      "outputs": [
        {
          "output_type": "execute_result",
          "data": {
            "text/plain": [
              "array([2, 2, 2, 2, 2, 2, 2, 2, 2, 2, 2, 2, 2, 2, 2, 2, 2, 2, 2, 2, 2, 2,\n",
              "       2, 2, 2, 2, 2, 2, 2, 2, 2, 2, 2, 2, 2, 2, 2, 2, 2, 2, 2, 2, 2, 2,\n",
              "       2, 2, 2, 2, 2, 2, 2, 2, 2, 2, 2, 2, 2, 2, 2, 2, 2, 2, 2, 2, 2, 2,\n",
              "       2, 2, 2, 2, 2, 2, 2, 2, 2, 2, 2, 2, 2, 2, 2, 2, 2, 2, 2, 2, 2, 2,\n",
              "       2, 2, 2, 2, 2, 2, 2, 2, 2, 2, 2, 2, 2, 2, 2, 2, 2, 2, 2, 2, 2, 2,\n",
              "       2, 2, 2, 2, 2, 2, 2, 2, 2, 2, 2, 2, 2, 2, 2, 2, 2, 2, 2, 2, 2, 2,\n",
              "       2, 2, 2, 2, 2, 2, 2, 2, 2, 2, 2, 2, 2, 2, 2, 2, 2, 2, 2, 2, 2, 2,\n",
              "       2, 2, 2, 2, 2, 2, 2, 2, 2, 2, 2, 2, 2, 2, 2, 2, 2, 2, 2, 2, 2, 2,\n",
              "       2, 2, 2, 2, 2, 2, 2, 2, 2, 2, 2, 2, 2, 2, 2, 2, 2, 2, 2, 2, 2, 2,\n",
              "       2, 2, 2, 2, 2, 2, 2, 2, 2, 2, 2, 2, 2, 2, 2, 2, 2, 2, 2, 2, 2, 2,\n",
              "       2, 2, 2, 2, 2, 2, 2, 2, 2, 2, 2, 2, 2, 2, 2, 2, 2, 2, 2, 2, 2, 2,\n",
              "       2, 2, 2, 2, 2, 2, 2, 2, 2, 2, 2, 2, 2, 2, 2, 2, 2, 2, 2, 2, 2, 2,\n",
              "       2, 2, 2, 2, 2, 2, 2, 2, 2, 2, 2, 2, 2, 2, 2, 2, 2, 2, 2, 2, 2, 2,\n",
              "       2, 2, 2, 2, 2, 2, 2, 2, 2, 2, 2, 2, 2, 2, 2, 2, 2, 2, 2, 2, 2, 2,\n",
              "       2, 2, 2, 2, 2, 2, 2, 2, 2, 2, 2, 2, 2, 2, 2, 2, 2, 2, 2, 2, 2, 2,\n",
              "       2, 2, 2, 2, 2, 2, 2, 2, 2, 2, 2, 2, 2, 2, 2, 2, 2, 2, 2, 2, 2, 2,\n",
              "       2, 2, 2, 2, 2, 2, 2, 2, 2, 2, 2, 2, 2, 2, 2, 2, 2, 2, 2, 2, 2, 2,\n",
              "       2, 2, 2, 2, 2, 2, 2, 2, 2, 2, 2, 2, 2, 2, 2, 2, 2, 2, 2, 2, 2, 2,\n",
              "       2, 2, 2, 2, 2, 2, 2, 2, 2, 2, 2, 2, 2, 2, 2, 2, 2, 2, 2, 2, 2, 2,\n",
              "       2, 2, 2, 2, 2, 2, 2, 2, 2, 2, 2, 2, 2, 2, 2, 2, 2, 2, 2, 2, 2, 2,\n",
              "       2, 2, 2, 2, 2, 2, 2, 2, 2, 2, 2, 2, 2, 2, 2, 2, 2, 2, 2, 2, 2, 2,\n",
              "       2, 2, 2, 2, 2, 2, 2, 2, 2, 2, 2, 2, 2, 2, 2, 2, 2, 2, 2, 2, 2, 2,\n",
              "       2, 2, 2, 2, 2, 2, 2, 2, 2, 2, 2, 2, 2, 2, 2, 2, 2, 2, 2, 2, 2, 2,\n",
              "       2, 2, 2, 2, 2, 2, 2, 2, 2, 2, 2, 2, 2, 2, 2, 2, 2, 2, 2, 2, 2, 2,\n",
              "       2, 2, 2, 2, 2, 2, 2, 2, 2, 2, 2, 2, 2, 2, 2, 2, 2, 2, 2, 2, 2, 2,\n",
              "       2, 2, 2, 2, 2, 2, 2, 2, 2, 2, 2, 2, 2, 2, 2, 2, 2, 2, 2, 2, 2, 2,\n",
              "       2, 2, 2, 2, 2, 2, 2, 2, 2, 2, 2, 2, 2, 2, 2, 2, 2, 2, 2, 2, 2, 2,\n",
              "       2, 2, 2, 2, 2, 2, 2, 2, 2, 2, 2, 2, 2, 2, 2, 2, 2, 2, 2, 2, 2, 2,\n",
              "       2, 2, 2, 2, 2, 2, 2, 2, 2, 2, 1, 1, 1, 1, 1, 1, 1, 1, 1, 1, 1, 1,\n",
              "       1, 1, 1, 1, 1, 1, 1, 1, 1, 1, 1, 1, 1, 1, 1, 1, 1, 1, 1, 1, 1, 1,\n",
              "       1, 1, 1, 1, 1, 1, 1, 1, 1, 1, 1, 1, 1, 1, 1, 1, 1, 1, 1, 1, 1, 1,\n",
              "       1, 1, 1, 1, 1, 1, 1, 1, 1, 1, 1, 1, 1, 1, 1, 1, 1, 1, 1, 1, 1, 1,\n",
              "       1, 1, 1, 1, 1, 1, 1, 1, 1, 1, 1, 1, 1, 1, 1, 1, 1, 1, 1, 1, 1, 1,\n",
              "       1, 1, 1, 1, 1, 1, 1, 1, 1, 1, 1, 1, 1, 1, 1, 1, 1, 1, 1, 1, 1, 1,\n",
              "       1, 1, 1, 1, 1, 1, 1, 1, 1, 1, 1, 1, 1, 1, 1, 1, 1, 1, 1, 1, 1, 1,\n",
              "       1, 1, 1, 1, 1, 1, 1, 1, 1, 1, 1, 1, 1, 1, 1, 1, 1, 1, 1, 1, 1, 1,\n",
              "       1, 1, 1, 1, 1, 1, 1, 1, 1, 1, 1, 1, 1, 1, 1, 1, 1, 1, 1, 1, 1, 1,\n",
              "       1, 1, 1, 1, 1, 1, 1, 1, 1, 1, 1, 1, 1, 1, 1, 1, 1, 1, 1, 1, 1, 1,\n",
              "       1, 1, 1, 1, 1, 1, 1, 1, 1, 1, 1, 1, 1, 1, 1, 1, 1, 1, 1, 1, 1, 1,\n",
              "       1, 1, 1, 1, 1, 1, 1, 1, 1, 1, 1, 1, 1, 1, 1, 1, 1, 1, 1, 1, 1, 1,\n",
              "       1, 1, 1, 1, 1, 1, 1, 1, 1, 1, 1, 1, 1, 1, 1, 1, 1, 1, 1, 1, 1, 1,\n",
              "       1, 1, 1, 1, 1, 1, 1, 1, 1, 1, 1, 1, 1, 1, 1, 1, 1, 1, 1, 1, 1, 1,\n",
              "       1, 1, 1, 1, 1, 1, 1, 1, 1, 1, 1, 1, 1, 1, 1, 1, 1, 1, 1, 1, 1, 1,\n",
              "       1, 1, 1, 1, 1, 1, 1, 1, 1, 1, 1, 1])"
            ]
          },
          "metadata": {},
          "execution_count": 37
        }
      ],
      "source": [
        "t =t+1\n",
        "t"
      ]
    },
    {
      "cell_type": "markdown",
      "id": "d41f9909",
      "metadata": {
        "id": "d41f9909",
        "papermill": {
          "duration": 0.01016,
          "end_time": "2022-10-21T09:40:26.084903",
          "exception": false,
          "start_time": "2022-10-21T09:40:26.074743",
          "status": "completed"
        },
        "tags": []
      },
      "source": [
        "# Labels Generation"
      ]
    },
    {
      "cell_type": "code",
      "execution_count": 38,
      "id": "921a7097",
      "metadata": {
        "execution": {
          "iopub.execute_input": "2022-10-21T09:40:26.107714Z",
          "iopub.status.busy": "2022-10-21T09:40:26.106826Z",
          "iopub.status.idle": "2022-10-21T09:40:26.370903Z",
          "shell.execute_reply": "2022-10-21T09:40:26.369579Z"
        },
        "id": "921a7097",
        "papermill": {
          "duration": 0.277948,
          "end_time": "2022-10-21T09:40:26.373335",
          "exception": false,
          "start_time": "2022-10-21T09:40:26.095387",
          "status": "completed"
        },
        "tags": []
      },
      "outputs": [],
      "source": [
        "import random\n",
        "import warnings\n",
        "import numpy as np\n",
        "#import climin\n",
        "from functools import partial\n",
        "import matplotlib.pyplot as plt\n",
        "from sklearn.preprocessing import StandardScaler\n",
        "from sklearn.cluster import KMeans\n",
        "import matplotlib.pyplot as plt\n",
        "from sklearn.manifold import TSNE\n",
        "\n",
        "#Defining the Sigmoid function and Softmax function\n",
        "def Sigmoid(f_r):\n",
        "    lam_r = 1/(1 + np.exp(-f_r))\n",
        "    return lam_r\n",
        "\n",
        "def MAjVot(Y, K):\n",
        "    N,R = Y.shape\n",
        "    Yhat = np.zeros((N,1))\n",
        "    for n in range(N):\n",
        "        votes = np.zeros((K,1))\n",
        "        for r in range(R):\n",
        "            for k in range(K):\n",
        "                if Y[n,r] == k+1:\n",
        "                    votes[k] = votes[k]+1\n",
        "        Yhat[n] = np.argmax(votes) + 1\n",
        "    return Yhat\n",
        "\n",
        "\n",
        "def  MA_Clas_Gen(Xtrain,ytrain,R,NrP):\n",
        "\n",
        "    N = len(ytrain)\n",
        "    K = len(np.unique(ytrain))\n",
        "    Kn = np.unique(ytrain)\n",
        "    aux = 0\n",
        "    A = np.zeros((K,1))\n",
        "    for k in Kn:\n",
        "        A[aux] = (ytrain == k).sum()\n",
        "        aux = aux + 1\n",
        "    per = np.min(A)\n",
        "    if N < 25000:\n",
        "        Xtrain = TSNE(n_components=1,perplexity=per/2).fit_transform(Xtrain)\n",
        "    else:\n",
        "        Xtrain = np.sum(Xtrain,1)\n",
        "    # Xtrain = Xtrain-Xtrain.min()\n",
        "    # Xtrain = Xtrain/Xtrain.max()\n",
        "    #ytrain = y\n",
        "    # scaler = StandardScaler()\n",
        "    # scalerY = scaler.fit(y)\n",
        "    # ytrain = scaler.fit_transform(y)\n",
        "\n",
        "    \n",
        "    #miny = y.min()\n",
        "    #ytrain = y-miny\n",
        "    #maxy = ytrain.max()\n",
        "    #ytrain = ytrain/maxy\n",
        "  \n",
        "    # Xtrain = np.sum(Xtrain, axis=1)\n",
        "    Xtrain = Xtrain - Xtrain.min()\n",
        "    #print(Xtrain.min(), Xtrain.max())\n",
        "    Xtrain = Xtrain/Xtrain.max()\n",
        "    Xtrain = Xtrain.reshape((N,1))\n",
        "    yprueba = np.ones((N,1))\n",
        "    \n",
        "    \n",
        "    u_q = np.empty((Xtrain.shape[0],3))\n",
        "    u_q[:,0,None] = 4.5*np.cos(2*np.pi*Xtrain + 1.5*np.pi) - \\\n",
        "                               3*np.sin(4.3*np.pi*Xtrain + 0.3*np.pi)\n",
        "                    \n",
        "    u_q[:,1,None] = 4.5*np.cos(1.5*np.pi*Xtrain + 0.5*np.pi) + \\\n",
        "                       5*np.sin(3*np.pi*Xtrain + 1.5*np.pi)\n",
        "    \n",
        "    u_q[:,2,None] = 1\n",
        "    \n",
        "    W = []\n",
        "    # q=1\n",
        "    Wq1 = np.array(([[0.4],[0.7],[-0.5],[0],[-0.7]]))\n",
        "    W.append(Wq1)\n",
        "    # q=2\n",
        "    Wq2 = np.array(([[0.4],[-1.0],[-0.1],[-0.8],[1.0]]))\n",
        "    W.append(Wq2)\n",
        "    Wq3 = np.array(([[3.1],[-1.8],[-0.6],[-1.2],[1.0]]))\n",
        "    W.append(Wq3)\n",
        "\n",
        "    \n",
        "    F_r = []\n",
        "    Lam_r = []\n",
        "    for r in range(R):\n",
        "        f_r = np.zeros((Xtrain.shape[0], 1))\n",
        "        # rho_r = np.zeros((Xtrain.shape[0], 1))\n",
        "        for q in range(3):\n",
        "            f_r += W[q][r].T*u_q[:,q,None]\n",
        "        F_r.append(f_r)\n",
        "        lam_r = Sigmoid(f_r)\n",
        "        lam_r[lam_r>0.5] = 1\n",
        "        lam_r[lam_r<=0.5] = 0\n",
        "        Lam_r.append(lam_r)\n",
        "    plt.plot(Xtrain,Lam_r[2],'rx')\n",
        "    plt.show()\n",
        "    seed = 0\n",
        "    np.random.seed(seed)\n",
        "    Ytrain = np.ones((N, R))\n",
        "    for r in range(R):\n",
        "        aux = ytrain.copy()\n",
        "        for n in range(N):\n",
        "            if Lam_r[r][n] == 0:\n",
        "                labels = np.arange(1, K+1)\n",
        "                a = np.where(labels==ytrain[n])\n",
        "                labels = np.delete(labels, a)\n",
        "                idxlabels = np.random.permutation(K-1)\n",
        "                aux[n] = labels[idxlabels[0]]         \n",
        "        Ytrain[:,r] = aux.flatten()\n",
        "        \n",
        "   # Ytrain = (Ytrain*maxy) + miny\n",
        "        \n",
        "    iAnn = np.zeros((N, R), dtype=int) # this indicates if the annotator r labels the nth sample.\n",
        "    Nr = np.ones((R), dtype=int)*int(np.floor(N*NrP))  \n",
        "    for r in range(R):\n",
        "        if r < R-1:\n",
        "            indexR = np.random.permutation(range(N))[:Nr[r]]\n",
        "            iAnn[indexR,r] = 1\n",
        "        else:\n",
        "            iSimm = np.sum(iAnn, axis=1)\n",
        "            idxZero = np.asarray([i for (i, val) in enumerate(iSimm) if val == 0])\n",
        "            Nzeros = idxZero.shape[0]\n",
        "            idx2Choose = np.arange(N)\n",
        "            if Nzeros == 0:\n",
        "                indexR = np.random.permutation(range(N))[:Nr[r]]\n",
        "                iAnn[indexR,r] = 1\n",
        "            else:\n",
        "                idx2Choose = np.delete(idx2Choose, idxZero)\n",
        "                N2chose = idx2Choose.shape[0]\n",
        "                idxNoZero = np.random.permutation(N2chose)[:(Nr[r] - Nzeros)]\n",
        "                idxTot = np.concatenate((idxZero, idx2Choose[idxNoZero]))\n",
        "                iAnn[idxTot,r] = 1\n",
        "    \n",
        "    # Now, we verify that all the samples were labeled at least once\n",
        "    Nr = (np.sum(iAnn,0))\n",
        "    iSimm = np.sum(iAnn, axis=1)\n",
        "    if np.asarray([i for (i, val) in enumerate(iSimm) if val == 0]).sum() == 0:\n",
        "        ValueError(\"all the samples must be labeled at least once\")\n",
        "\n",
        "    # Finally, if iAnn=0 we assign a reference value to indicate a missing value\n",
        "    Vref = -1e-20\n",
        "    for r in range(R):\n",
        "        Ytrain[iAnn[:,r] == 0, r] = Vref \n",
        "\n",
        "    return Ytrain, iAnn, Lam_r\n",
        "\n",
        "\n",
        "def CrossVal(X, pp, Nk):\n",
        "    N = X.shape[0]\n",
        "    Ntr = int(N*pp)\n",
        "    Nte = N - Ntr\n",
        "    idxtr = np.zeros((Ntr,Nk))\n",
        "    idxte = np.zeros((Nte,Nk))\n",
        "    \n",
        "    for i in range(Nk):\n",
        "        index = np.random.permutation(range(N))\n",
        "        idxtr[:,i] = index[:Ntr]\n",
        "        idxte[:,i] = index[Ntr:]\n",
        "        \n",
        "    return idxtr, idxte\n",
        "    \n",
        "    \n",
        "        \n"
      ]
    },
    {
      "cell_type": "code",
      "execution_count": 39,
      "id": "5bfb3a90",
      "metadata": {
        "execution": {
          "iopub.execute_input": "2022-10-21T09:40:26.395359Z",
          "iopub.status.busy": "2022-10-21T09:40:26.394512Z",
          "iopub.status.idle": "2022-10-21T09:40:29.947474Z",
          "shell.execute_reply": "2022-10-21T09:40:29.946156Z"
        },
        "id": "5bfb3a90",
        "outputId": "e5751926-b79c-48d1-caa4-da66cb0c1c5b",
        "papermill": {
          "duration": 3.56657,
          "end_time": "2022-10-21T09:40:29.950251",
          "exception": false,
          "start_time": "2022-10-21T09:40:26.383681",
          "status": "completed"
        },
        "tags": [],
        "colab": {
          "base_uri": "https://localhost:8080/",
          "height": 354
        }
      },
      "outputs": [
        {
          "output_type": "stream",
          "name": "stderr",
          "text": [
            "/usr/local/lib/python3.8/dist-packages/sklearn/manifold/_t_sne.py:780: FutureWarning: The default initialization in TSNE will change from 'random' to 'pca' in 1.2.\n",
            "  warnings.warn(\n",
            "/usr/local/lib/python3.8/dist-packages/sklearn/manifold/_t_sne.py:790: FutureWarning: The default learning rate in TSNE will change from 200.0 to 'auto' in 1.2.\n",
            "  warnings.warn(\n"
          ]
        },
        {
          "output_type": "display_data",
          "data": {
            "text/plain": [
              "<Figure size 432x288 with 1 Axes>"
            ],
            "image/png": "[encoded data removed]"
          },
          "metadata": {
            "needs_background": "light"
          }
        }
      ],
      "source": [
        "Y, iAnn, Lam_r = MA_Clas_Gen(X ,t, R=5, NrP=1)"
      ]
    },
    {
      "cell_type": "code",
      "execution_count": 40,
      "id": "125deea6",
      "metadata": {
        "execution": {
          "iopub.execute_input": "2022-10-21T09:40:29.974424Z",
          "iopub.status.busy": "2022-10-21T09:40:29.973261Z",
          "iopub.status.idle": "2022-10-21T09:40:29.978787Z",
          "shell.execute_reply": "2022-10-21T09:40:29.977685Z"
        },
        "id": "125deea6",
        "papermill": {
          "duration": 0.019384,
          "end_time": "2022-10-21T09:40:29.980704",
          "exception": false,
          "start_time": "2022-10-21T09:40:29.961320",
          "status": "completed"
        },
        "tags": []
      },
      "outputs": [],
      "source": [
        "\n",
        "Y = Y - 1\n",
        "t = t - 1\n",
        "\n",
        "  "
      ]
    },
    {
      "cell_type": "code",
      "execution_count": 41,
      "id": "f665a11b",
      "metadata": {
        "execution": {
          "iopub.execute_input": "2022-10-21T09:40:30.003317Z",
          "iopub.status.busy": "2022-10-21T09:40:30.002550Z",
          "iopub.status.idle": "2022-10-21T09:40:30.717675Z",
          "shell.execute_reply": "2022-10-21T09:40:30.716732Z"
        },
        "papermill": {
          "duration": 0.728333,
          "end_time": "2022-10-21T09:40:30.719509",
          "exception": false,
          "start_time": "2022-10-21T09:40:29.991176",
          "status": "completed"
        },
        "tags": [],
        "id": "f665a11b",
        "outputId": "8483d1e1-8022-4111-f448-5a7af3513322",
        "colab": {
          "base_uri": "https://localhost:8080/",
          "height": 1000
        }
      },
      "outputs": [
        {
          "output_type": "stream",
          "name": "stdout",
          "text": [
            "annotator 1\n",
            "              precision    recall  f1-score   support\n",
            "\n",
            "           0       0.79      0.80      0.80       332\n",
            "           1       0.89      0.89      0.89       626\n",
            "\n",
            "    accuracy                           0.86       958\n",
            "   macro avg       0.84      0.85      0.84       958\n",
            "weighted avg       0.86      0.86      0.86       958\n",
            "\n",
            "annotator 2\n",
            "              precision    recall  f1-score   support\n",
            "\n",
            "           0       0.44      0.73      0.55       332\n",
            "           1       0.78      0.50      0.61       626\n",
            "\n",
            "    accuracy                           0.58       958\n",
            "   macro avg       0.61      0.62      0.58       958\n",
            "weighted avg       0.66      0.58      0.59       958\n",
            "\n",
            "annotator 3\n",
            "              precision    recall  f1-score   support\n",
            "\n",
            "           0       0.47      0.54      0.50       332\n",
            "           1       0.73      0.67      0.70       626\n",
            "\n",
            "    accuracy                           0.63       958\n",
            "   macro avg       0.60      0.61      0.60       958\n",
            "weighted avg       0.64      0.63      0.63       958\n",
            "\n",
            "annotator 4\n",
            "              precision    recall  f1-score   support\n",
            "\n",
            "           0       0.37      0.50      0.43       332\n",
            "           1       0.68      0.55      0.60       626\n",
            "\n",
            "    accuracy                           0.53       958\n",
            "   macro avg       0.52      0.53      0.52       958\n",
            "weighted avg       0.57      0.53      0.54       958\n",
            "\n",
            "annotator 5\n",
            "              precision    recall  f1-score   support\n",
            "\n",
            "           0       0.11      0.16      0.13       332\n",
            "           1       0.38      0.27      0.31       626\n",
            "\n",
            "    accuracy                           0.23       958\n",
            "   macro avg       0.24      0.22      0.22       958\n",
            "weighted avg       0.28      0.23      0.25       958\n",
            "\n"
          ]
        },
        {
          "output_type": "display_data",
          "data": {
            "text/plain": [
              "<Figure size 432x288 with 1 Axes>"
            ],
            "image/png": "[encoded data removed]"
          },
          "metadata": {
            "needs_background": "light"
          }
        },
        {
          "output_type": "display_data",
          "data": {
            "text/plain": [
              "<Figure size 432x288 with 1 Axes>"
            ],
            "image/png": "[encoded data removed]"
          },
          "metadata": {
            "needs_background": "light"
          }
        },
        {
          "output_type": "display_data",
          "data": {
            "text/plain": [
              "<Figure size 432x288 with 1 Axes>"
            ],
            "image/png": "[encoded data removed]"
          },
          "metadata": {
            "needs_background": "light"
          }
        },
        {
          "output_type": "display_data",
          "data": {
            "text/plain": [
              "<Figure size 432x288 with 1 Axes>"
            ],
            "image/png": "[encoded data removed]"
          },
          "metadata": {
            "needs_background": "light"
          }
        },
        {
          "output_type": "display_data",
          "data": {
            "text/plain": [
              "<Figure size 432x288 with 1 Axes>"
            ],
            "image/png": "[encoded data removed]"
          },
          "metadata": {
            "needs_background": "light"
          }
        }
      ],
      "source": [
        "from sklearn.metrics import classification_report\n",
        "for i in range(Y.shape[1]):\n",
        "    print('annotator',i+1)\n",
        "    print(classification_report(t,Y[:,i]))\n",
        "    unique, counts = np.unique(Y[:,i], return_counts=True)\n",
        "    plt.figure()\n",
        "    plt.bar(unique, counts)\n",
        "#     unique, counts = np.unique(Y_test[5], return_counts=True)\n",
        "#     plt.bar(unique, counts)\n",
        "\n",
        "    plt.title('Class Frequency for Y_true')\n",
        "    plt.xlabel('Class')\n",
        "    plt.ylabel('Frequency')\n"
      ]
    },
    {
      "cell_type": "markdown",
      "id": "4978b7ce",
      "metadata": {
        "id": "4978b7ce",
        "papermill": {
          "duration": 0.010888,
          "end_time": "2022-10-21T09:40:30.771661",
          "exception": false,
          "start_time": "2022-10-21T09:40:30.760773",
          "status": "completed"
        },
        "tags": []
      },
      "source": [
        "# Split data"
      ]
    },
    {
      "cell_type": "code",
      "execution_count": 42,
      "id": "7b92d005",
      "metadata": {
        "execution": {
          "iopub.execute_input": "2022-10-21T09:40:30.796163Z",
          "iopub.status.busy": "2022-10-21T09:40:30.795807Z",
          "iopub.status.idle": "2022-10-21T09:40:30.807398Z",
          "shell.execute_reply": "2022-10-21T09:40:30.805886Z"
        },
        "id": "7b92d005",
        "outputId": "f1f8c3e2-2742-4abc-ca93-7d8a9ab385a9",
        "papermill": {
          "duration": 0.027805,
          "end_time": "2022-10-21T09:40:30.810618",
          "exception": false,
          "start_time": "2022-10-21T09:40:30.782813",
          "status": "completed"
        },
        "tags": [],
        "colab": {
          "base_uri": "https://localhost:8080/"
        }
      },
      "outputs": [
        {
          "output_type": "stream",
          "name": "stdout",
          "text": [
            "[246 188 392 518 854 291 802 164 674 861 863 606 138   7 203 525 204 770\n",
            " 343 185 591 663 774 914 270 455 900 161 261 353 396 260 210 524 752 147\n",
            " 605 907 925 363 453 316 735 566 883 818 568 318 684  85 267 370 252 773\n",
            " 789 683 376 660 715 565 878   5 677 571 167  41 184 200 272 814 732 893\n",
            " 731 719 458 689  48 795 131 701 172 775 195 955  35 832 613 134 885 426\n",
            "   4 753 478 415 381 650 399 430  50 888 882 617 328 560 280 227 274 388\n",
            " 546 598  57 687 926 338 417  52 279 913 303  55 384  28 336 314 145 758\n",
            " 103 114 500 706 345 811 512  54 117 619 171 462 348 221  31 444 610  36\n",
            " 804 727 421 643 844 327 100 884 897 162 644 275 483 809 892 738 760  78\n",
            " 463 659 306  79 177 369 310 904 351 346 229  91 170 920  90  75 372 929\n",
            " 299 855 521 874 273 859 239 898 694 236 678 209 335 196 648 776  13  74\n",
            " 889 249 461  59 690 456 437 151 567  11 858 769 856 285 692 733  95 797\n",
            " 623 833 754 798 726 877 793 269 368 903 387 739 266 551 235 317 729 182\n",
            " 374 666 107 482  97 767 538  43 908 944 781 226 156 447 953 805 352 416\n",
            " 825 927 662 102 710 389 641 810 918 294 298 931 237 397 425 875 849 896\n",
            " 693 240 947 725 561 178 699 243 548 202 545 230 166 624 724 263 300 232]\n",
            "(670, 27) (670, 5) (670, 1)\n"
          ]
        }
      ],
      "source": [
        "import numpy.matlib\n",
        "from sklearn.model_selection import ShuffleSplit, StratifiedShuffleSplit\n",
        "Ns = 1\n",
        "ss = ShuffleSplit(n_splits=Ns, test_size=0.3,random_state =123)\n",
        "for train_index, test_index in ss.split(X):\n",
        "    print(test_index)\n",
        "    X_train, X_test,Y_train,Y_test = X[train_index,:], X[test_index,:],Y[train_index,:], Y[test_index,:]\n",
        "    Y_true_train, Y_true_test = t[train_index].reshape(-1,1), t[test_index].reshape(-1,1)\n",
        "print(X_train.shape, Y_train.shape, Y_true_train.shape)"
      ]
    },
    {
      "cell_type": "markdown",
      "id": "6c5da01e",
      "metadata": {
        "id": "6c5da01e",
        "papermill": {
          "duration": 0.011145,
          "end_time": "2022-10-21T09:40:30.864372",
          "exception": false,
          "start_time": "2022-10-21T09:40:30.853227",
          "status": "completed"
        },
        "tags": []
      },
      "source": [
        "# Apply MinMaxScaler"
      ]
    },
    {
      "cell_type": "code",
      "execution_count": 43,
      "id": "f600859c",
      "metadata": {
        "execution": {
          "iopub.execute_input": "2022-10-21T09:40:30.889275Z",
          "iopub.status.busy": "2022-10-21T09:40:30.888867Z",
          "iopub.status.idle": "2022-10-21T09:40:30.895274Z",
          "shell.execute_reply": "2022-10-21T09:40:30.894338Z"
        },
        "id": "f600859c",
        "papermill": {
          "duration": 0.021746,
          "end_time": "2022-10-21T09:40:30.897566",
          "exception": false,
          "start_time": "2022-10-21T09:40:30.875820",
          "status": "completed"
        },
        "tags": []
      },
      "outputs": [],
      "source": [
        "scaler = MinMaxScaler()\n",
        "scaler.fit(X_train)\n",
        "X_train = scaler.transform(X_train)\n",
        "X_test = scaler.transform(X_test)"
      ]
    },
    {
      "cell_type": "markdown",
      "id": "714a7a07",
      "metadata": {
        "id": "714a7a07",
        "papermill": {
          "duration": 0.012019,
          "end_time": "2022-10-21T09:40:30.921549",
          "exception": false,
          "start_time": "2022-10-21T09:40:30.909530",
          "status": "completed"
        },
        "tags": []
      },
      "source": [
        "# Testing the Class \n"
      ]
    },
    {
      "cell_type": "code",
      "source": [
        "from sklearn.metrics import classification_report, balanced_accuracy_score, roc_auc_score\n",
        "from sklearn.metrics import normalized_mutual_info_score, mutual_info_score, adjusted_mutual_info_score\n",
        "import pandas as pd\n",
        "l1 =0.1\n",
        "NUM_RUNS =10\n",
        "custom_loss = \"GCE\"\n",
        "\n",
        "\n",
        "results = []\n",
        "for i in range(NUM_RUNS):\n",
        "\n",
        "    print(\"iteration: \" + str(i))\n",
        "  \n",
        "    MA = Keras_MA_RCDNN(epochs=100,batch_size=64,R=5, K=len(np.unique(Y_true_train)), dropout=0.5, learning_rate=0.001,optimizer='Adam', \n",
        "                l1_param=l1,  validation_split=0.30, verbose=0, q=0.1)\n",
        "    #   MA = Keras_MA_GCCE(epochs=100,batch_size=32,R=5, K=len(np.unique(Y_true_train)), dropout=0.25, learning_rate=0.01,optimizer='Adam', \n",
        "    #             l1_param=l1,  validation_split=0, verbose=0, q=0.1, neurons=4, loss = custom_loss )\n",
        "    \n",
        "    \n",
        "    MA.fit(X_train, Y_train)\n",
        "    MA.plot_history()\n",
        "  \n",
        "    # Generate the predictions for the current run\n",
        "    pred_2 = MA.predict(X_test)\n",
        "     \n",
        "    acc, auc, auc_sk,  nmi,  bacc = evaluation_metrics(Y_true_test,  pred_2[:,Y.shape[1]:], print_result=False)  # mi, ami,\n",
        "    \n",
        "    # Save the results for the current run to the list of dictionaries\n",
        "    results.append({\n",
        "        #'run': i,\n",
        "        'accuracy': acc,\n",
        "        'balanced_accuracy': bacc,\n",
        "       # 'mutual_information': mi,\n",
        "        'normalized_mutual_information': nmi,\n",
        "     #   'adjusted_mutual_information': ami,\n",
        "        'auc_tensorflow': auc,\n",
        "        'auc_scikit_learn': auc_sk,\n",
        "    })\n",
        "    \n",
        "# Convert the list of dictionaries to a DataFrame\n",
        "df = np.round(pd.DataFrame(results)*100, 2)\n",
        "\n",
        "# Calculate the mean and standard deviation of each metric\n",
        "mean = np.round(df.mean(),2)\n",
        "std = np.round(df.std(),2)  \n",
        "\n",
        "\n"
      ],
      "metadata": {
        "colab": {
          "base_uri": "https://localhost:8080/",
          "height": 1000
        },
        "id": "du8C7Syro2p7",
        "outputId": "b6c42cf5-c3cd-4fb9-f910-595a0c91c4c3"
      },
      "execution_count": 51,
      "outputs": [
        {
          "output_type": "stream",
          "name": "stdout",
          "text": [
            "iteration: 0\n"
          ]
        },
        {
          "output_type": "display_data",
          "data": {
            "text/plain": [
              "<Figure size 576x360 with 1 Axes>"
            ],
            "image/png": "[encoded data removed]"
          },
          "metadata": {
            "needs_background": "light"
          }
        },
        {
          "output_type": "stream",
          "name": "stdout",
          "text": [
            "9/9 [==============================] - 0s 2ms/step\n",
            "iteration: 1\n"
          ]
        },
        {
          "output_type": "display_data",
          "data": {
            "text/plain": [
              "<Figure size 576x360 with 1 Axes>"
            ],
            "image/png": "[encoded data removed]"
          },
          "metadata": {
            "needs_background": "light"
          }
        },
        {
          "output_type": "stream",
          "name": "stdout",
          "text": [
            "9/9 [==============================] - 0s 3ms/step\n",
            "iteration: 2\n"
          ]
        },
        {
          "output_type": "display_data",
          "data": {
            "text/plain": [
              "<Figure size 576x360 with 1 Axes>"
            ],
            "image/png": "[encoded data removed]"
          },
          "metadata": {
            "needs_background": "light"
          }
        },
        {
          "output_type": "stream",
          "name": "stdout",
          "text": [
            "9/9 [==============================] - 0s 3ms/step\n",
            "iteration: 3\n"
          ]
        },
        {
          "output_type": "display_data",
          "data": {
            "text/plain": [
              "<Figure size 576x360 with 1 Axes>"
            ],
            "image/png": "[encoded data removed]"
          },
          "metadata": {
            "needs_background": "light"
          }
        },
        {
          "output_type": "stream",
          "name": "stdout",
          "text": [
            "9/9 [==============================] - 0s 2ms/step\n",
            "iteration: 4\n"
          ]
        },
        {
          "output_type": "display_data",
          "data": {
            "text/plain": [
              "<Figure size 576x360 with 1 Axes>"
            ],
            "image/png": "[encoded data removed]"
          },
          "metadata": {
            "needs_background": "light"
          }
        },
        {
          "output_type": "stream",
          "name": "stdout",
          "text": [
            "9/9 [==============================] - 0s 3ms/step\n",
            "iteration: 5\n"
          ]
        },
        {
          "output_type": "display_data",
          "data": {
            "text/plain": [
              "<Figure size 576x360 with 1 Axes>"
            ],
            "image/png": "[encoded data removed]"
          },
          "metadata": {
            "needs_background": "light"
          }
        },
        {
          "output_type": "stream",
          "name": "stdout",
          "text": [
            "9/9 [==============================] - 0s 3ms/step\n",
            "iteration: 6\n"
          ]
        },
        {
          "output_type": "display_data",
          "data": {
            "text/plain": [
              "<Figure size 576x360 with 1 Axes>"
            ],
            "image/png": "[encoded data removed]"
          },
          "metadata": {
            "needs_background": "light"
          }
        },
        {
          "output_type": "stream",
          "name": "stdout",
          "text": [
            "9/9 [==============================] - 0s 2ms/step\n",
            "iteration: 7\n"
          ]
        },
        {
          "output_type": "display_data",
          "data": {
            "text/plain": [
              "<Figure size 576x360 with 1 Axes>"
            ],
            "image/png": "[encoded data removed]"
          },
          "metadata": {
            "needs_background": "light"
          }
        },
        {
          "output_type": "stream",
          "name": "stdout",
          "text": [
            "9/9 [==============================] - 0s 3ms/step\n",
            "iteration: 8\n"
          ]
        },
        {
          "output_type": "display_data",
          "data": {
            "text/plain": [
              "<Figure size 576x360 with 1 Axes>"
            ],
            "image/png": "[encoded data removed]"
          },
          "metadata": {
            "needs_background": "light"
          }
        },
        {
          "output_type": "stream",
          "name": "stdout",
          "text": [
            "9/9 [==============================] - 0s 3ms/step\n",
            "iteration: 9\n"
          ]
        },
        {
          "output_type": "display_data",
          "data": {
            "text/plain": [
              "<Figure size 576x360 with 1 Axes>"
            ],
            "image/png": "[encoded data removed]"
          },
          "metadata": {
            "needs_background": "light"
          }
        },
        {
          "output_type": "stream",
          "name": "stdout",
          "text": [
            "9/9 [==============================] - 0s 3ms/step\n"
          ]
        }
      ],
      "id": "du8C7Syro2p7"
    },
    {
      "cell_type": "code",
      "source": [
        "df"
      ],
      "metadata": {
        "colab": {
          "base_uri": "https://localhost:8080/",
          "height": 363
        },
        "id": "ispxoor_q6DN",
        "outputId": "bc12bf76-c69b-4031-a006-6182fbdf5754"
      },
      "execution_count": 52,
      "outputs": [
        {
          "output_type": "execute_result",
          "data": {
            "text/plain": [
              "   accuracy  balanced_accuracy  normalized_mutual_information  auc_tensorflow  \\\n",
              "0     84.72              70.75                          38.74       85.379997   \n",
              "1     88.89              73.87                          48.58       86.940002   \n",
              "2     90.28              76.46                          53.77       88.230003   \n",
              "3     89.93              80.93                          53.16       90.459999   \n",
              "4     81.25              56.56                          28.21       78.279999   \n",
              "5     85.42              73.31                          42.16       86.650002   \n",
              "6     92.01              84.28                          59.20       92.139999   \n",
              "7     90.28              78.62                          52.35       89.309998   \n",
              "8     94.10              86.56                          66.65       93.279999   \n",
              "9     93.75              85.64                          65.32       92.820000   \n",
              "\n",
              "   auc_scikit_learn  \n",
              "0             93.95  \n",
              "1             93.99  \n",
              "2             94.26  \n",
              "3             95.38  \n",
              "4             89.12  \n",
              "5             95.08  \n",
              "6             95.74  \n",
              "7             94.57  \n",
              "8             95.66  \n",
              "9             95.70  "
            ],
            "text/html": [
              "\n",
              "  <div id=\"df-2e29a96a-94ec-4115-a410-c41913b3b6b4\">\n",
              "    <div class=\"colab-df-container\">\n",
              "      <div>\n",
              "<style scoped>\n",
              "    .dataframe tbody tr th:only-of-type {\n",
              "        vertical-align: middle;\n",
              "    }\n",
              "\n",
              "    .dataframe tbody tr th {\n",
              "        vertical-align: top;\n",
              "    }\n",
              "\n",
              "    .dataframe thead th {\n",
              "        text-align: right;\n",
              "    }\n",
              "</style>\n",
              "<table border=\"1\" class=\"dataframe\">\n",
              "  <thead>\n",
              "    <tr style=\"text-align: right;\">\n",
              "      <th></th>\n",
              "      <th>accuracy</th>\n",
              "      <th>balanced_accuracy</th>\n",
              "      <th>normalized_mutual_information</th>\n",
              "      <th>auc_tensorflow</th>\n",
              "      <th>auc_scikit_learn</th>\n",
              "    </tr>\n",
              "  </thead>\n",
              "  <tbody>\n",
              "    <tr>\n",
              "      <th>0</th>\n",
              "      <td>84.72</td>\n",
              "      <td>70.75</td>\n",
              "      <td>38.74</td>\n",
              "      <td>85.379997</td>\n",
              "      <td>93.95</td>\n",
              "    </tr>\n",
              "    <tr>\n",
              "      <th>1</th>\n",
              "      <td>88.89</td>\n",
              "      <td>73.87</td>\n",
              "      <td>48.58</td>\n",
              "      <td>86.940002</td>\n",
              "      <td>93.99</td>\n",
              "    </tr>\n",
              "    <tr>\n",
              "      <th>2</th>\n",
              "      <td>90.28</td>\n",
              "      <td>76.46</td>\n",
              "      <td>53.77</td>\n",
              "      <td>88.230003</td>\n",
              "      <td>94.26</td>\n",
              "    </tr>\n",
              "    <tr>\n",
              "      <th>3</th>\n",
              "      <td>89.93</td>\n",
              "      <td>80.93</td>\n",
              "      <td>53.16</td>\n",
              "      <td>90.459999</td>\n",
              "      <td>95.38</td>\n",
              "    </tr>\n",
              "    <tr>\n",
              "      <th>4</th>\n",
              "      <td>81.25</td>\n",
              "      <td>56.56</td>\n",
              "      <td>28.21</td>\n",
              "      <td>78.279999</td>\n",
              "      <td>89.12</td>\n",
              "    </tr>\n",
              "    <tr>\n",
              "      <th>5</th>\n",
              "      <td>85.42</td>\n",
              "      <td>73.31</td>\n",
              "      <td>42.16</td>\n",
              "      <td>86.650002</td>\n",
              "      <td>95.08</td>\n",
              "    </tr>\n",
              "    <tr>\n",
              "      <th>6</th>\n",
              "      <td>92.01</td>\n",
              "      <td>84.28</td>\n",
              "      <td>59.20</td>\n",
              "      <td>92.139999</td>\n",
              "      <td>95.74</td>\n",
              "    </tr>\n",
              "    <tr>\n",
              "      <th>7</th>\n",
              "      <td>90.28</td>\n",
              "      <td>78.62</td>\n",
              "      <td>52.35</td>\n",
              "      <td>89.309998</td>\n",
              "      <td>94.57</td>\n",
              "    </tr>\n",
              "    <tr>\n",
              "      <th>8</th>\n",
              "      <td>94.10</td>\n",
              "      <td>86.56</td>\n",
              "      <td>66.65</td>\n",
              "      <td>93.279999</td>\n",
              "      <td>95.66</td>\n",
              "    </tr>\n",
              "    <tr>\n",
              "      <th>9</th>\n",
              "      <td>93.75</td>\n",
              "      <td>85.64</td>\n",
              "      <td>65.32</td>\n",
              "      <td>92.820000</td>\n",
              "      <td>95.70</td>\n",
              "    </tr>\n",
              "  </tbody>\n",
              "</table>\n",
              "</div>\n",
              "      <button class=\"colab-df-convert\" onclick=\"convertToInteractive('df-2e29a96a-94ec-4115-a410-c41913b3b6b4')\"\n",
              "              title=\"Convert this dataframe to an interactive table.\"\n",
              "              style=\"display:none;\">\n",
              "        \n",
              "  <svg xmlns=\"http://www.w3.org/2000/svg\" height=\"24px\"viewBox=\"0 0 24 24\"\n",
              "       width=\"24px\">\n",
              "    <path d=\"M0 0h24v24H0V0z\" fill=\"none\"/>\n",
              "    <path d=\"M18.56 5.44l.94 2.06.94-2.06 2.06-.94-2.06-.94-.94-2.06-.94 2.06-2.06.94zm-11 1L8.5 8.5l.94-2.06 2.06-.94-2.06-.94L8.5 2.5l-.94 2.06-2.06.94zm10 10l.94 2.06.94-2.06 2.06-.94-2.06-.94-.94-2.06-.94 2.06-2.06.94z\"/><path d=\"M17.41 7.96l-1.37-1.37c-.4-.4-.92-.59-1.43-.59-.52 0-1.04.2-1.43.59L10.3 9.45l-7.72 7.72c-.78.78-.78 2.05 0 2.83L4 21.41c.39.39.9.59 1.41.59.51 0 1.02-.2 1.41-.59l7.78-7.78 2.81-2.81c.8-.78.8-2.07 0-2.86zM5.41 20L4 18.59l7.72-7.72 1.47 1.35L5.41 20z\"/>\n",
              "  </svg>\n",
              "      </button>\n",
              "      \n",
              "  <style>\n",
              "    .colab-df-container {\n",
              "      display:flex;\n",
              "      flex-wrap:wrap;\n",
              "      gap: 12px;\n",
              "    }\n",
              "\n",
              "    .colab-df-convert {\n",
              "      background-color: #E8F0FE;\n",
              "      border: none;\n",
              "      border-radius: 50%;\n",
              "      cursor: pointer;\n",
              "      display: none;\n",
              "      fill: #1967D2;\n",
              "      height: 32px;\n",
              "      padding: 0 0 0 0;\n",
              "      width: 32px;\n",
              "    }\n",
              "\n",
              "    .colab-df-convert:hover {\n",
              "      background-color: #E2EBFA;\n",
              "      box-shadow: 0px 1px 2px rgba(60, 64, 67, 0.3), 0px 1px 3px 1px rgba(60, 64, 67, 0.15);\n",
              "      fill: #174EA6;\n",
              "    }\n",
              "\n",
              "    [theme=dark] .colab-df-convert {\n",
              "      background-color: #3B4455;\n",
              "      fill: #D2E3FC;\n",
              "    }\n",
              "\n",
              "    [theme=dark] .colab-df-convert:hover {\n",
              "      background-color: #434B5C;\n",
              "      box-shadow: 0px 1px 3px 1px rgba(0, 0, 0, 0.15);\n",
              "      filter: drop-shadow(0px 1px 2px rgba(0, 0, 0, 0.3));\n",
              "      fill: #FFFFFF;\n",
              "    }\n",
              "  </style>\n",
              "\n",
              "      <script>\n",
              "        const buttonEl =\n",
              "          document.querySelector('#df-2e29a96a-94ec-4115-a410-c41913b3b6b4 button.colab-df-convert');\n",
              "        buttonEl.style.display =\n",
              "          google.colab.kernel.accessAllowed ? 'block' : 'none';\n",
              "\n",
              "        async function convertToInteractive(key) {\n",
              "          const element = document.querySelector('#df-2e29a96a-94ec-4115-a410-c41913b3b6b4');\n",
              "          const dataTable =\n",
              "            await google.colab.kernel.invokeFunction('convertToInteractive',\n",
              "                                                     [key], {});\n",
              "          if (!dataTable) return;\n",
              "\n",
              "          const docLinkHtml = 'Like what you see? Visit the ' +\n",
              "            '<a target=\"_blank\" href=https://colab.research.google.com/notebooks/data_table.ipynb>data table notebook</a>'\n",
              "            + ' to learn more about interactive tables.';\n",
              "          element.innerHTML = '';\n",
              "          dataTable['output_type'] = 'display_data';\n",
              "          await google.colab.output.renderOutput(dataTable, element);\n",
              "          const docLink = document.createElement('div');\n",
              "          docLink.innerHTML = docLinkHtml;\n",
              "          element.appendChild(docLink);\n",
              "        }\n",
              "      </script>\n",
              "    </div>\n",
              "  </div>\n",
              "  "
            ]
          },
          "metadata": {},
          "execution_count": 52
        }
      ],
      "id": "ispxoor_q6DN"
    },
    {
      "cell_type": "code",
      "source": [
        "mean"
      ],
      "metadata": {
        "colab": {
          "base_uri": "https://localhost:8080/"
        },
        "id": "whTSUvCJq_bf",
        "outputId": "aec10953-e1b2-455b-9352-591a16649f23"
      },
      "execution_count": 53,
      "outputs": [
        {
          "output_type": "execute_result",
          "data": {
            "text/plain": [
              "accuracy                         89.06\n",
              "balanced_accuracy                76.70\n",
              "normalized_mutual_information    50.81\n",
              "auc_tensorflow                   88.35\n",
              "auc_scikit_learn                 94.34\n",
              "dtype: float64"
            ]
          },
          "metadata": {},
          "execution_count": 53
        }
      ],
      "id": "whTSUvCJq_bf"
    },
    {
      "cell_type": "code",
      "source": [
        "std"
      ],
      "metadata": {
        "colab": {
          "base_uri": "https://localhost:8080/"
        },
        "id": "PH_iucZ1rJDD",
        "outputId": "ea0454a1-3d00-4116-ec1e-b5eb63a92439"
      },
      "execution_count": 54,
      "outputs": [
        {
          "output_type": "execute_result",
          "data": {
            "text/plain": [
              "accuracy                          4.12\n",
              "balanced_accuracy                 8.92\n",
              "normalized_mutual_information    11.95\n",
              "auc_tensorflow                    4.46\n",
              "auc_scikit_learn                  1.97\n",
              "dtype: float64"
            ]
          },
          "metadata": {},
          "execution_count": 54
        }
      ],
      "id": "PH_iucZ1rJDD"
    },
    {
      "cell_type": "code",
      "source": [
        "result_df = pd.concat([mean.rename('Mean'), std.rename('Std')], axis=1)"
      ],
      "metadata": {
        "id": "IZWYJ4cZus0i"
      },
      "execution_count": 55,
      "outputs": [],
      "id": "IZWYJ4cZus0i"
    },
    {
      "cell_type": "code",
      "source": [
        "result_df"
      ],
      "metadata": {
        "colab": {
          "base_uri": "https://localhost:8080/",
          "height": 206
        },
        "id": "j5oR79xIvOJf",
        "outputId": "6422f58d-ba3e-4aab-b44d-b4448379fca9"
      },
      "execution_count": 56,
      "outputs": [
        {
          "output_type": "execute_result",
          "data": {
            "text/plain": [
              "                                Mean    Std\n",
              "accuracy                       89.06   4.12\n",
              "balanced_accuracy              76.70   8.92\n",
              "normalized_mutual_information  50.81  11.95\n",
              "auc_tensorflow                 88.35   4.46\n",
              "auc_scikit_learn               94.34   1.97"
            ],
            "text/html": [
              "\n",
              "  <div id=\"df-34645bd1-de18-436c-b90f-a240d5dfa038\">\n",
              "    <div class=\"colab-df-container\">\n",
              "      <div>\n",
              "<style scoped>\n",
              "    .dataframe tbody tr th:only-of-type {\n",
              "        vertical-align: middle;\n",
              "    }\n",
              "\n",
              "    .dataframe tbody tr th {\n",
              "        vertical-align: top;\n",
              "    }\n",
              "\n",
              "    .dataframe thead th {\n",
              "        text-align: right;\n",
              "    }\n",
              "</style>\n",
              "<table border=\"1\" class=\"dataframe\">\n",
              "  <thead>\n",
              "    <tr style=\"text-align: right;\">\n",
              "      <th></th>\n",
              "      <th>Mean</th>\n",
              "      <th>Std</th>\n",
              "    </tr>\n",
              "  </thead>\n",
              "  <tbody>\n",
              "    <tr>\n",
              "      <th>accuracy</th>\n",
              "      <td>89.06</td>\n",
              "      <td>4.12</td>\n",
              "    </tr>\n",
              "    <tr>\n",
              "      <th>balanced_accuracy</th>\n",
              "      <td>76.70</td>\n",
              "      <td>8.92</td>\n",
              "    </tr>\n",
              "    <tr>\n",
              "      <th>normalized_mutual_information</th>\n",
              "      <td>50.81</td>\n",
              "      <td>11.95</td>\n",
              "    </tr>\n",
              "    <tr>\n",
              "      <th>auc_tensorflow</th>\n",
              "      <td>88.35</td>\n",
              "      <td>4.46</td>\n",
              "    </tr>\n",
              "    <tr>\n",
              "      <th>auc_scikit_learn</th>\n",
              "      <td>94.34</td>\n",
              "      <td>1.97</td>\n",
              "    </tr>\n",
              "  </tbody>\n",
              "</table>\n",
              "</div>\n",
              "      <button class=\"colab-df-convert\" onclick=\"convertToInteractive('df-34645bd1-de18-436c-b90f-a240d5dfa038')\"\n",
              "              title=\"Convert this dataframe to an interactive table.\"\n",
              "              style=\"display:none;\">\n",
              "        \n",
              "  <svg xmlns=\"http://www.w3.org/2000/svg\" height=\"24px\"viewBox=\"0 0 24 24\"\n",
              "       width=\"24px\">\n",
              "    <path d=\"M0 0h24v24H0V0z\" fill=\"none\"/>\n",
              "    <path d=\"M18.56 5.44l.94 2.06.94-2.06 2.06-.94-2.06-.94-.94-2.06-.94 2.06-2.06.94zm-11 1L8.5 8.5l.94-2.06 2.06-.94-2.06-.94L8.5 2.5l-.94 2.06-2.06.94zm10 10l.94 2.06.94-2.06 2.06-.94-2.06-.94-.94-2.06-.94 2.06-2.06.94z\"/><path d=\"M17.41 7.96l-1.37-1.37c-.4-.4-.92-.59-1.43-.59-.52 0-1.04.2-1.43.59L10.3 9.45l-7.72 7.72c-.78.78-.78 2.05 0 2.83L4 21.41c.39.39.9.59 1.41.59.51 0 1.02-.2 1.41-.59l7.78-7.78 2.81-2.81c.8-.78.8-2.07 0-2.86zM5.41 20L4 18.59l7.72-7.72 1.47 1.35L5.41 20z\"/>\n",
              "  </svg>\n",
              "      </button>\n",
              "      \n",
              "  <style>\n",
              "    .colab-df-container {\n",
              "      display:flex;\n",
              "      flex-wrap:wrap;\n",
              "      gap: 12px;\n",
              "    }\n",
              "\n",
              "    .colab-df-convert {\n",
              "      background-color: #E8F0FE;\n",
              "      border: none;\n",
              "      border-radius: 50%;\n",
              "      cursor: pointer;\n",
              "      display: none;\n",
              "      fill: #1967D2;\n",
              "      height: 32px;\n",
              "      padding: 0 0 0 0;\n",
              "      width: 32px;\n",
              "    }\n",
              "\n",
              "    .colab-df-convert:hover {\n",
              "      background-color: #E2EBFA;\n",
              "      box-shadow: 0px 1px 2px rgba(60, 64, 67, 0.3), 0px 1px 3px 1px rgba(60, 64, 67, 0.15);\n",
              "      fill: #174EA6;\n",
              "    }\n",
              "\n",
              "    [theme=dark] .colab-df-convert {\n",
              "      background-color: #3B4455;\n",
              "      fill: #D2E3FC;\n",
              "    }\n",
              "\n",
              "    [theme=dark] .colab-df-convert:hover {\n",
              "      background-color: #434B5C;\n",
              "      box-shadow: 0px 1px 3px 1px rgba(0, 0, 0, 0.15);\n",
              "      filter: drop-shadow(0px 1px 2px rgba(0, 0, 0, 0.3));\n",
              "      fill: #FFFFFF;\n",
              "    }\n",
              "  </style>\n",
              "\n",
              "      <script>\n",
              "        const buttonEl =\n",
              "          document.querySelector('#df-34645bd1-de18-436c-b90f-a240d5dfa038 button.colab-df-convert');\n",
              "        buttonEl.style.display =\n",
              "          google.colab.kernel.accessAllowed ? 'block' : 'none';\n",
              "\n",
              "        async function convertToInteractive(key) {\n",
              "          const element = document.querySelector('#df-34645bd1-de18-436c-b90f-a240d5dfa038');\n",
              "          const dataTable =\n",
              "            await google.colab.kernel.invokeFunction('convertToInteractive',\n",
              "                                                     [key], {});\n",
              "          if (!dataTable) return;\n",
              "\n",
              "          const docLinkHtml = 'Like what you see? Visit the ' +\n",
              "            '<a target=\"_blank\" href=https://colab.research.google.com/notebooks/data_table.ipynb>data table notebook</a>'\n",
              "            + ' to learn more about interactive tables.';\n",
              "          element.innerHTML = '';\n",
              "          dataTable['output_type'] = 'display_data';\n",
              "          await google.colab.output.renderOutput(dataTable, element);\n",
              "          const docLink = document.createElement('div');\n",
              "          docLink.innerHTML = docLinkHtml;\n",
              "          element.appendChild(docLink);\n",
              "        }\n",
              "      </script>\n",
              "    </div>\n",
              "  </div>\n",
              "  "
            ]
          },
          "metadata": {},
          "execution_count": 56
        }
      ],
      "id": "j5oR79xIvOJf"
    },
    {
      "cell_type": "code",
      "source": [
        "# Save the DataFrame to an excel file\n",
        "result_df.to_excel(database + custom_loss + \".xlsx\")"
      ],
      "metadata": {
        "id": "wrsupD_Qshl2"
      },
      "execution_count": 57,
      "outputs": [],
      "id": "wrsupD_Qshl2"
    },
    {
      "cell_type": "code",
      "source": [],
      "metadata": {
        "id": "ta46Hy3kb-dn"
      },
      "id": "ta46Hy3kb-dn",
      "execution_count": null,
      "outputs": []
    }
  ],
  "metadata": {
    "kernelspec": {
      "display_name": "Python 3",
      "language": "python",
      "name": "python3"
    },
    "language_info": {
      "codemirror_mode": {
        "name": "ipython",
        "version": 3
      },
      "file_extension": ".py",
      "mimetype": "text/x-python",
      "name": "python",
      "nbconvert_exporter": "python",
      "pygments_lexer": "ipython3",
      "version": "3.7.12"
    },
    "papermill": {
      "default_parameters": {},
      "duration": 3097.445153,
      "end_time": "2022-10-21T10:31:41.407966",
      "environment_variables": {},
      "exception": null,
      "input_path": "__notebook__.ipynb",
      "output_path": "__notebook__.ipynb",
      "parameters": {},
      "start_time": "2022-10-21T09:40:03.962813",
      "version": "2.3.4"
    },
    "colab": {
      "provenance": [],
      "include_colab_link": true
    }
  },
  "nbformat": 4,
  "nbformat_minor": 5
}