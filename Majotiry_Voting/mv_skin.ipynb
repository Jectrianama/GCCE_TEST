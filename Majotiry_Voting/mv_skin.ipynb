{
  "cells": [
    {
      "cell_type": "markdown",
      "metadata": {
        "id": "view-in-github",
        "colab_type": "text"
      },
      "source": [
        "<a href=\"https://colab.research.google.com/github/Jectrianama/GCCE_TEST/blob/main/Majotiry_Voting/mv_skin.ipynb\" target=\"_parent\"><img src=\"https://colab.research.google.com/assets/colab-badge.svg\" alt=\"Open In Colab\"/></a>"
      ]
    },
    {
      "cell_type": "code",
      "execution_count": 1,
      "id": "ae55f367",
      "metadata": {
        "execution": {
          "iopub.execute_input": "2022-10-25T12:30:28.007691Z",
          "iopub.status.busy": "2022-10-25T12:30:28.007263Z",
          "iopub.status.idle": "2022-10-25T12:30:28.012814Z",
          "shell.execute_reply": "2022-10-25T12:30:28.011654Z"
        },
        "id": "ae55f367",
        "papermill": {
          "duration": 0.018006,
          "end_time": "2022-10-25T12:30:28.015049",
          "exception": false,
          "start_time": "2022-10-25T12:30:27.997043",
          "status": "completed"
        },
        "tags": []
      },
      "outputs": [],
      "source": [
        "#!pip install tensorflow==2.7.0\n",
        "#!pip install scikeras"
      ]
    },
    {
      "cell_type": "markdown",
      "id": "26a50460",
      "metadata": {
        "id": "26a50460",
        "papermill": {
          "duration": 0.008047,
          "end_time": "2022-10-25T12:30:28.031793",
          "exception": false,
          "start_time": "2022-10-25T12:30:28.023746",
          "status": "completed"
        },
        "tags": []
      },
      "source": [
        "# Subclassing for MV"
      ]
    },
    {
      "cell_type": "code",
      "execution_count": 2,
      "id": "74b3909b",
      "metadata": {
        "execution": {
          "iopub.execute_input": "2022-10-25T12:30:28.050769Z",
          "iopub.status.busy": "2022-10-25T12:30:28.050408Z",
          "iopub.status.idle": "2022-10-25T12:30:35.870455Z",
          "shell.execute_reply": "2022-10-25T12:30:35.869291Z"
        },
        "id": "74b3909b",
        "papermill": {
          "duration": 7.832799,
          "end_time": "2022-10-25T12:30:35.873179",
          "exception": false,
          "start_time": "2022-10-25T12:30:28.040380",
          "status": "completed"
        },
        "tags": []
      },
      "outputs": [],
      "source": [
        "# -*- coding: utf-8 -*-\n",
        "import tensorflow as tf\n",
        "import matplotlib.pyplot as plt\n",
        "#from tensorflow.keras.wrappers.scikit_learn import KerasClassifier\n",
        "import tensorflow_probability as tfp\n",
        "from tensorflow.keras import regularizers\n",
        "from sklearn.base import  BaseEstimator, TransformerMixin, ClassifierMixin\n",
        "from sklearn.model_selection import train_test_split\n",
        "tf.keras.backend.clear_session()\n",
        "#tf.random.set_seed(42)\n",
        "import types\n",
        "import tempfile\n",
        "class Keras_MA_PRI(): #transformer no va\n",
        " #Constructor __init__. Special method: identified by a double underscore at either side of their name\n",
        " #work in the background\n",
        " # initialize data members to the object. lets the class initialize the object’s attributes and serves no other purpose.\n",
        "    def __init__(self,epochs=70,batch_size=30,R=5, K=2, dropout=0.5, learning_rate=1e-3,optimizer='Adam', \n",
        "                  l1_param=0, validation_split=0.2, verbose=1):\n",
        "        self.epochs=epochs\n",
        "        self.dropout=dropout\n",
        "        self.batch_size = batch_size\n",
        "        self.learning_rate=learning_rate \n",
        "        self.l1_param=l1_param \n",
        "        self.l2_param=l1_param\n",
        "        self.validation_split = validation_split\n",
        "        self.verbose = verbose\n",
        "        self.optimizer = optimizer\n",
        "        self.R=R\n",
        "        self.K=K\n",
        "\n",
        "    \n",
        " \n",
        " \n",
        " \n",
        "    def PRI_MA_loss(self, y_true, y_pred): #,  -> PRI\n",
        "        #Input ytrue: samples (N) x  annotators (R) \n",
        "        #Input ypred: samples (N) x  annotators+classes (R+K) \n",
        "        #PRI MA\n",
        "        cce_M = tf.keras.losses.CategoricalCrossentropy(reduction='none',axis=-1)\n",
        "        cce_C = tf.keras.losses.CategoricalCrossentropy(reduction='none',axis=1)\n",
        "\n",
        "      \n",
        "\n",
        "        #N = tf.cast(y_true.shape[0],dtype=tf.int32)\n",
        "        N = tf.shape(y_true)[0]\n",
        "        #Ground truth estimation samples (N) x  Classes(K)\n",
        "        y_pred_tf = y_pred[:,self.R:] \n",
        "        # Annotators reliability prediction: samples (N) x  annotators (R)\n",
        "        lambda_R_tf = y_pred[:,:self.R] #tf.ones(shape=(N,R)) \n",
        "        #Y_true 1 K: samples (N) x  Classes(1-K), annotators (R)\n",
        "        Y_true_1K = tf.one_hot(tf.cast(y_true,dtype=tf.int32),depth=self.K,axis=1)  \n",
        "        #Y_pred 1 - K: samples (N) x  Classes(1-K), annotators (R)\n",
        "        Y_hat = tf.repeat(tf.expand_dims(y_pred_tf,-1), self.R, axis = -1) \n",
        "        #marginal entropy\n",
        "        #cce along the K classes -> ypred_tf\n",
        "        Hm_ = cce_M(y_pred_tf,y_pred_tf)\n",
        "        #cross entropy\n",
        "        #cce along the K classes -> Y_hat\n",
        "        Hc_ = cce_C(Y_true_1K,Y_hat)\n",
        "        #PRI MA computation\n",
        "        LH = tf.linalg.matmul(lambda_R_tf,Hc_,transpose_a=True) # \\Lambda^\\top H_c\n",
        "        temp1 = tf.linalg.trace(LH) #trace(LH)\n",
        "        Hm1L = tf.linalg.matmul(tf.ones(shape=(N,self.R))-lambda_R_tf,tf.ones(shape=(self.R,1)))# 1_N 1_R^\\top - Lambda\n",
        "        Hm_t = tf.reshape(Hm_,shape=(N,1))\n",
        "        temp2 = tf.squeeze(tf.linalg.matmul(Hm_t,Hm1L,transpose_a=True)) # Hm^\\top Hm1L\n",
        "        loss_c = temp1+ temp2 #return loss\n",
        "\n",
        "        return loss_c\n",
        "\n",
        " \n",
        "    def fit(self, X, Y):\n",
        "        #input X numpy array first dimension samples (N)x features (P)\n",
        "        #input Y numpy array vector len = samples (N) x  annotators (R)\n",
        "        P = X.shape[1]\n",
        "        if self.optimizer == \"Adam\":\n",
        "            opt = tf.keras.optimizers.Adam(learning_rate=self.learning_rate,clipnorm=1.0)\n",
        "        elif self.optimizer == \"SGD\":\n",
        "            opt = tf.keras.optimizers.SGD(learning_rate=self.learning_rate,clipnorm=1.0)\n",
        "        else:\n",
        "            opt=self.optimizer\n",
        "\n",
        "        #capa de entrada\n",
        "        input_l = tf.keras.layers.Input(shape=(X_train.shape[1]), name='entrada')\n",
        "        #capas densas\n",
        "        h1 = tf.keras.layers.Dense(int(P*4*(self.K+self.R)),activation='selu',name='h1',\n",
        "                              kernel_regularizer=tf.keras.regularizers.l1_l2(l1=self.l1_param,l2=self.l2_param))(input_l)#argumento de entrada\n",
        "        h2 = tf.keras.layers.Dense(int(P*(self.K+self.R)),activation='selu',name='h2',\n",
        "                              kernel_regularizer=tf.keras.regularizers.l1_l2(l1=self.l1_param,l2=self.l2_param))(h1)\n",
        "        dout = tf.keras.layers.Dropout(rate=self.dropout)(h2)\n",
        "        #capa de salida\n",
        "        output = tf.keras.layers.Dense(self.K,activation=\"softmax\",name='output',\n",
        "                                   kernel_regularizer=tf.keras.regularizers.l1_l2(l1=self.l1_param,l2=self.l2_param))(dout)\n",
        "        self.model = tf.keras.Model(inputs= input_l,outputs=output)\n",
        "        self.model.compile(loss=tf.keras.losses.SparseCategoricalCrossentropy(), optimizer=opt,metrics=\"accuracy\")\n",
        "         \n",
        "            \n",
        " \n",
        "        self.history = self.model.fit(X, Y, epochs=self.epochs, validation_split=self.validation_split,   #\n",
        "                                      batch_size=self.batch_size,verbose=self.verbose)\n",
        " \n",
        "        return self\n",
        " \n",
        "  \n",
        "    \n",
        "    def predict(self, X, *_):\n",
        "       #input X numpy array first dimension samples (N)x features (P)\n",
        "      return  self.model.predict(X) \n",
        " \n",
        " \n",
        "\n",
        "    def fit_predict(self,X,y):\n",
        "        #input X numpy array first dimension samples (N)x features (P)\n",
        "        #input Y numpy array vector len = samples (N) x  annotators (R)\n",
        "        self.fit(X,y)\n",
        "        return self.predict(X)\n",
        "  \n",
        "     #graphics\n",
        "    def plot_history(self):\n",
        "        pd.DataFrame(self.history.history).plot(figsize=(8, 5))\n",
        "        plt.grid(True)\n",
        "        #plt.gca().set_ylim(0, 1)\n",
        "        #save_fig(\"keras_learning_curves_plot\")\n",
        "        plt.show()\n",
        "        return\n",
        "    \n",
        "    def set_params(self, **parameters):\n",
        "        for parameter, value in parameters.items():\n",
        "            setattr(self, parameter, value)\n",
        "\n",
        "        return self\n",
        "    \n",
        "    \n",
        "    \n",
        "    def get_params(self, deep=True):\n",
        "        return { 'l1_param':self.l1_param, 'dropout':self.dropout, 'optimizer':self.optimizer,\n",
        "                'learning_rate':self.learning_rate, 'batch_size':self.batch_size,\n",
        "                'epochs':self.epochs, 'verbose':self.verbose, 'validation_split':self.validation_split,\n",
        "                'R':self.R, 'K':self.K\n",
        "                }\n",
        "\n",
        "  \n",
        "        return self\n"
      ]
    },
    {
      "cell_type": "code",
      "execution_count": 2,
      "id": "047efd67",
      "metadata": {
        "id": "047efd67",
        "papermill": {
          "duration": 0.008217,
          "end_time": "2022-10-25T12:30:35.890099",
          "exception": false,
          "start_time": "2022-10-25T12:30:35.881882",
          "status": "completed"
        },
        "tags": []
      },
      "outputs": [],
      "source": [
        " "
      ]
    },
    {
      "cell_type": "markdown",
      "id": "f6be474e",
      "metadata": {
        "id": "f6be474e",
        "papermill": {
          "duration": 0.008294,
          "end_time": "2022-10-25T12:30:35.906953",
          "exception": false,
          "start_time": "2022-10-25T12:30:35.898659",
          "status": "completed"
        },
        "tags": []
      },
      "source": [
        "# Load Data"
      ]
    },
    {
      "cell_type": "code",
      "execution_count": 3,
      "id": "7600675a",
      "metadata": {
        "execution": {
          "iopub.execute_input": "2022-10-25T12:30:35.925743Z",
          "iopub.status.busy": "2022-10-25T12:30:35.925146Z",
          "iopub.status.idle": "2022-10-25T12:30:35.953954Z",
          "shell.execute_reply": "2022-10-25T12:30:35.953057Z"
        },
        "id": "7600675a",
        "papermill": {
          "duration": 0.04106,
          "end_time": "2022-10-25T12:30:35.956424",
          "exception": false,
          "start_time": "2022-10-25T12:30:35.915364",
          "status": "completed"
        },
        "tags": []
      },
      "outputs": [],
      "source": [
        "#load data\n",
        "import scipy.io as sio\n",
        "import matplotlib.pyplot as plt\n",
        "import pandas as pd\n",
        "import tensorflow as tf #importar tensorflow\n",
        "from sklearn.model_selection import GridSearchCV, RandomizedSearchCV\n",
        "from sklearn.preprocessing import StandardScaler,MinMaxScaler\n",
        "import numpy as np\n",
        "database = 'Ocupancy' #['bupa1', 'breast-cancer-wisconsin1','pima-indians-diabetes1', 'ionosphere1', 'tic-tac-toe1', 'iris1', 'wine1', 'segmentation1']\n",
        "\n",
        " "
      ]
    },
    {
      "cell_type": "code",
      "execution_count": 4,
      "metadata": {
        "execution": {
          "iopub.execute_input": "2022-10-25T15:27:15.744079Z",
          "iopub.status.busy": "2022-10-25T15:27:15.743469Z",
          "iopub.status.idle": "2022-10-25T15:27:23.538064Z",
          "shell.execute_reply": "2022-10-25T15:27:23.536790Z"
        },
        "id": "2109ab08",
        "outputId": "3a6aa99c-642e-4eaa-8469-c0d48f5d9f08",
        "papermill": {
          "duration": 7.806291,
          "end_time": "2022-10-25T15:27:23.540591",
          "exception": false,
          "start_time": "2022-10-25T15:27:15.734300",
          "status": "completed"
        },
        "tags": [],
        "colab": {
          "base_uri": "https://localhost:8080/"
        }
      },
      "outputs": [
        {
          "output_type": "stream",
          "name": "stdout",
          "text": [
            "--2023-02-03 17:43:42--  https://docs.google.com/uc?export=download&confirm=t&id=1SQnWXGROG2Xexs5vn3twuv7SqiWG5njW\n",
            "Resolving docs.google.com (docs.google.com)... 108.177.126.113, 108.177.126.100, 108.177.126.101, ...\n",
            "Connecting to docs.google.com (docs.google.com)|108.177.126.113|:443... connected.\n",
            "HTTP request sent, awaiting response... 303 See Other\n",
            "Location: https://doc-00-90-docs.googleusercontent.com/docs/securesc/ha0ro937gcuc7l7deffksulhg5h7mbp1/qmcc3rpfe8m2609gm93a4jtnsbba6p2o/1675446150000/07591141114418430227/*/1SQnWXGROG2Xexs5vn3twuv7SqiWG5njW?e=download&uuid=2f2bed97-8034-4c13-8444-6e3941c8fc34 [following]\n",
            "Warning: wildcards not supported in HTTP.\n",
            "--2023-02-03 17:43:43--  https://doc-00-90-docs.googleusercontent.com/docs/securesc/ha0ro937gcuc7l7deffksulhg5h7mbp1/qmcc3rpfe8m2609gm93a4jtnsbba6p2o/1675446150000/07591141114418430227/*/1SQnWXGROG2Xexs5vn3twuv7SqiWG5njW?e=download&uuid=2f2bed97-8034-4c13-8444-6e3941c8fc34\n",
            "Resolving doc-00-90-docs.googleusercontent.com (doc-00-90-docs.googleusercontent.com)... 108.177.126.132, 2a00:1450:4013:c01::84\n",
            "Connecting to doc-00-90-docs.googleusercontent.com (doc-00-90-docs.googleusercontent.com)|108.177.126.132|:443... connected.\n",
            "HTTP request sent, awaiting response... 200 OK\n",
            "Length: 156530728 (149M) [application/zip]\n",
            "Saving to: ‘MADatasets.zip’\n",
            "\n",
            "MADatasets.zip      100%[===================>] 149.28M   130MB/s    in 1.1s    \n",
            "\n",
            "2023-02-03 17:43:44 (130 MB/s) - ‘MADatasets.zip’ saved [156530728/156530728]\n",
            "\n",
            "Archive:  MADatasets.zip\n",
            "  inflating: MADatasets/util.py      \n",
            "  inflating: MADatasets/Iris1.mat    \n",
            "  inflating: MADatasets/Integra_Labels.mat  \n",
            "  inflating: MADatasets/MAGenerationClassification.py  \n",
            "  inflating: MADatasets/Voice.mat    \n",
            "  inflating: MADatasets/Iris.mat     \n",
            "  inflating: MADatasets/Sinthetic.mat  \n",
            "  inflating: MADatasets/MAGenerationClassification_1.py  \n",
            "  inflating: MADatasets/Bupa1.mat    \n",
            "  inflating: MADatasets/TicTacToe1.mat  \n",
            "  inflating: MADatasets/Wine.mat     \n",
            "  inflating: MADatasets/Breast1.mat  \n",
            "  inflating: MADatasets/Breast.mat   \n",
            "  inflating: MADatasets/Music.mat    \n",
            "  inflating: MADatasets/Pima.mat     \n",
            "  inflating: MADatasets/Ionosphere.mat  \n",
            "  inflating: MADatasets/TicTacToe.mat  \n",
            "  inflating: MADatasets/VoiceData.m  \n",
            "  inflating: MADatasets/util_1.py    \n",
            "  inflating: MADatasets/Ionosphere1.mat  \n",
            "  inflating: MADatasets/__pycache__/util_1.cpython-37.pyc  \n",
            "  inflating: MADatasets/Bupa.mat     \n",
            "  inflating: MADatasets/Wine1.mat    \n",
            "  inflating: MADatasets/__pycache__/util.cpython-37.pyc  \n",
            "  inflating: MADatasets/Pima1.mat    \n",
            "  inflating: MADatasets/Segmentation1.mat  \n",
            "  inflating: MADatasets/Western.mat  \n",
            "  inflating: MADatasets/Integra_Preprocesamiento_Seg_Caracterizacion_time_frec.mat  \n",
            "  inflating: MADatasets/Western1.mat  \n",
            "  inflating: MADatasets/Segmentation.mat  \n",
            "  inflating: MADatasets/Skin_NonSkin.mat  \n",
            "  inflating: MADatasets/Skin_NonSkin1.mat  \n",
            "  inflating: MADatasets/Occupancy1.mat  \n",
            "  inflating: MADatasets/Polarity.mat  \n",
            "  inflating: MADatasets/Occupancy.mat  \n",
            "MADatasets  MADatasets.zip  sample_data\n"
          ]
        }
      ],
      "source": [
        "#cargar datos desde drive acceso libre\n",
        "FILEID = \"1SQnWXGROG2Xexs5vn3twuv7SqiWG5njW\"\n",
        "#https://drive.google.com/file/d/1SQnWXGROG2Xexs5vn3twuv7SqiWG5njW/view?usp=sharing\n",
        "!wget --load-cookies /tmp/cookies.txt \"https://docs.google.com/uc?export=download&confirm=$(wget --quiet --save-cookies /tmp/cookies.txt --keep-session-cookies --no-check-certificate 'https://docs.google.com/uc?export=download&id='$FILEID -O- | sed -rn 's/.*confirm=([0-9A-Za-z_]+).*/\\1\\n/p')&id=\"$FILEID -O MADatasets.zip && rm -rf /tmp/cookies.txt\n",
        "!unzip -o MADatasets.zip\n",
        "!dir"
      ],
      "id": "2109ab08"
    },
    {
      "cell_type": "code",
      "execution_count": 5,
      "metadata": {
        "execution": {
          "iopub.execute_input": "2022-10-25T15:27:23.579757Z",
          "iopub.status.busy": "2022-10-25T15:27:23.578533Z",
          "iopub.status.idle": "2022-10-25T15:27:23.623422Z",
          "shell.execute_reply": "2022-10-25T15:27:23.622015Z"
        },
        "id": "e0c06840",
        "outputId": "cbe2f299-7578-47f1-efbd-f6b61810fde2",
        "papermill": {
          "duration": 0.057538,
          "end_time": "2022-10-25T15:27:23.625812",
          "exception": false,
          "start_time": "2022-10-25T15:27:23.568274",
          "status": "completed"
        },
        "tags": [],
        "colab": {
          "base_uri": "https://localhost:8080/"
        }
      },
      "outputs": [
        {
          "output_type": "execute_result",
          "data": {
            "text/plain": [
              "dict_keys(['__header__', '__version__', '__globals__', 'X', 'y', 'Y', 'iAnn', 'Exp', 'idxtr', 'idxte'])"
            ]
          },
          "metadata": {},
          "execution_count": 5
        }
      ],
      "source": [
        "#load data\n",
        "import scipy.io as sio\n",
        "import matplotlib.pyplot as plt\n",
        "import pandas as pd\n",
        "import tensorflow as tf #importar tensorflow\n",
        "from sklearn.model_selection import GridSearchCV, RandomizedSearchCV\n",
        "from sklearn.preprocessing import StandardScaler,MinMaxScaler\n",
        "import numpy as np\n",
        "database = 'Skin_NonSkin' #['bupa1', 'breast-cancer-wisconsin1','pima-indians-diabetes1', 'ionosphere1', 'tic-tac-toe1', 'iris1', 'wine1', 'segmentation1']\n",
        "\n",
        "\n",
        "path_ = 'MADatasets/'+ database+ '.mat' \n",
        "Xdata = sio.loadmat(path_)\n",
        "Xdata.keys()"
      ],
      "id": "e0c06840"
    },
    {
      "cell_type": "code",
      "execution_count": 6,
      "metadata": {
        "execution": {
          "iopub.execute_input": "2022-10-25T15:27:23.645709Z",
          "iopub.status.busy": "2022-10-25T15:27:23.645254Z",
          "iopub.status.idle": "2022-10-25T15:27:23.652187Z",
          "shell.execute_reply": "2022-10-25T15:27:23.650924Z"
        },
        "id": "e9f6101b",
        "outputId": "c7fda262-e5d6-4264-d0d5-6e3946b681f3",
        "papermill": {
          "duration": 0.019354,
          "end_time": "2022-10-25T15:27:23.654313",
          "exception": false,
          "start_time": "2022-10-25T15:27:23.634959",
          "status": "completed"
        },
        "tags": [],
        "colab": {
          "base_uri": "https://localhost:8080/"
        }
      },
      "outputs": [
        {
          "output_type": "stream",
          "name": "stdout",
          "text": [
            "X (245057, 3) t (245057,) Y (245057, 5)\n"
          ]
        }
      ],
      "source": [
        "\n",
        "\n",
        "X = Xdata['X']\n",
        "# Xte = Xdata['Xte']\n",
        "Y = Xdata['Y']\n",
        "t = Xdata['y'].reshape(-1)\n",
        "print('X',X.shape,'t',t.shape,'Y',Y.shape)\n",
        " "
      ],
      "id": "e9f6101b"
    },
    {
      "cell_type": "code",
      "execution_count": 7,
      "id": "381f16b4",
      "metadata": {
        "execution": {
          "iopub.execute_input": "2022-10-25T12:30:36.462009Z",
          "iopub.status.busy": "2022-10-25T12:30:36.461609Z",
          "iopub.status.idle": "2022-10-25T12:30:36.466819Z",
          "shell.execute_reply": "2022-10-25T12:30:36.465693Z"
        },
        "id": "381f16b4",
        "papermill": {
          "duration": 0.017747,
          "end_time": "2022-10-25T12:30:36.468884",
          "exception": false,
          "start_time": "2022-10-25T12:30:36.451137",
          "status": "completed"
        },
        "tags": [],
        "colab": {
          "base_uri": "https://localhost:8080/"
        },
        "outputId": "0316517b-a5ad-4f7b-bc14-e9858ce2b2df"
      },
      "outputs": [
        {
          "output_type": "execute_result",
          "data": {
            "text/plain": [
              "array([1, 1, 1, ..., 2, 2, 2])"
            ]
          },
          "metadata": {},
          "execution_count": 7
        }
      ],
      "source": [
        "t"
      ]
    },
    {
      "cell_type": "markdown",
      "id": "c498a0f4",
      "metadata": {
        "id": "c498a0f4",
        "papermill": {
          "duration": 0.008978,
          "end_time": "2022-10-25T12:30:36.486932",
          "exception": false,
          "start_time": "2022-10-25T12:30:36.477954",
          "status": "completed"
        },
        "tags": []
      },
      "source": [
        "# Labels Generation - 1 Cluster, 3 annotators"
      ]
    },
    {
      "cell_type": "code",
      "execution_count": 8,
      "id": "ef6ced85",
      "metadata": {
        "execution": {
          "iopub.execute_input": "2022-10-25T12:30:36.507546Z",
          "iopub.status.busy": "2022-10-25T12:30:36.507112Z",
          "iopub.status.idle": "2022-10-25T12:30:36.731139Z",
          "shell.execute_reply": "2022-10-25T12:30:36.730109Z"
        },
        "id": "ef6ced85",
        "papermill": {
          "duration": 0.237753,
          "end_time": "2022-10-25T12:30:36.733712",
          "exception": false,
          "start_time": "2022-10-25T12:30:36.495959",
          "status": "completed"
        },
        "tags": []
      },
      "outputs": [],
      "source": [
        "import random\n",
        "import warnings\n",
        "import numpy as np\n",
        "#import climin\n",
        "from functools import partial\n",
        "import matplotlib.pyplot as plt\n",
        "from sklearn.preprocessing import StandardScaler\n",
        "from sklearn.cluster import KMeans\n",
        "import matplotlib.pyplot as plt\n",
        "from sklearn.manifold import TSNE\n",
        "\n",
        "#Defining the Sigmoid function and Softmax function\n",
        "def Sigmoid(f_r):\n",
        "    lam_r = 1/(1 + np.exp(-f_r))\n",
        "    return lam_r\n",
        "\n",
        "def MAjVot(Y, K):\n",
        "    N,R = Y.shape\n",
        "    Yhat = np.zeros((N,1))\n",
        "    for n in range(N):\n",
        "        votes = np.zeros((K,1))\n",
        "        for r in range(R):\n",
        "            for k in range(K):\n",
        "                if Y[n,r] == k+1:\n",
        "                    votes[k] = votes[k]+1\n",
        "        Yhat[n] = np.argmax(votes) + 1\n",
        "    return Yhat\n",
        "\n",
        "\n",
        "def  MA_Clas_Gen(Xtrain,ytrain,R,NrP):\n",
        "\n",
        "    N = len(ytrain)\n",
        "    K = len(np.unique(ytrain))\n",
        "    Kn = np.unique(ytrain)\n",
        "    aux = 0\n",
        "    A = np.zeros((K,1))\n",
        "    for k in Kn:\n",
        "        A[aux] = (ytrain == k).sum()\n",
        "        aux = aux + 1\n",
        "    per = np.min(A)\n",
        "    if N < 25000:\n",
        "        Xtrain = TSNE(n_components=1,perplexity=per/2).fit_transform(Xtrain)\n",
        "    else:\n",
        "        Xtrain = np.sum(Xtrain,1)\n",
        "    # Xtrain = Xtrain-Xtrain.min()\n",
        "    # Xtrain = Xtrain/Xtrain.max()\n",
        "    #ytrain = y\n",
        "    # scaler = StandardScaler()\n",
        "    # scalerY = scaler.fit(y)\n",
        "    # ytrain = scaler.fit_transform(y)\n",
        "\n",
        "    \n",
        "    #miny = y.min()\n",
        "    #ytrain = y-miny\n",
        "    #maxy = ytrain.max()\n",
        "    #ytrain = ytrain/maxy\n",
        "  \n",
        "    # Xtrain = np.sum(Xtrain, axis=1)\n",
        "    Xtrain = Xtrain - Xtrain.min()\n",
        "    #print(Xtrain.min(), Xtrain.max())\n",
        "    Xtrain = Xtrain/Xtrain.max()\n",
        "    Xtrain = Xtrain.reshape((N,1))\n",
        "    yprueba = np.ones((N,1))\n",
        "    \n",
        "    \n",
        "    u_q = np.empty((Xtrain.shape[0],3))\n",
        "    u_q[:,0,None] = 4.5*np.cos(2*np.pi*Xtrain + 1.5*np.pi) - \\\n",
        "                               3*np.sin(4.3*np.pi*Xtrain + 0.3*np.pi)\n",
        "                    \n",
        "    u_q[:,1,None] = 4.5*np.cos(1.5*np.pi*Xtrain + 0.5*np.pi) + \\\n",
        "                       5*np.sin(3*np.pi*Xtrain + 1.5*np.pi)\n",
        "    \n",
        "    u_q[:,2,None] = 1\n",
        "    \n",
        "    W = []\n",
        "    # q=1\n",
        "    Wq1 = np.array(([[0.4],[0.7],[-0.5],[0],[-0.7]]))\n",
        "    W.append(Wq1)\n",
        "    # q=2\n",
        "    Wq2 = np.array(([[0.4],[-1.0],[-0.1],[-0.8],[1.0]]))\n",
        "    W.append(Wq2)\n",
        "    Wq3 = np.array(([[3.1],[-1.8],[-0.6],[-1.2],[1.0]]))\n",
        "    W.append(Wq3)\n",
        "\n",
        "    \n",
        "    F_r = []\n",
        "    Lam_r = []\n",
        "    for r in range(R):\n",
        "        f_r = np.zeros((Xtrain.shape[0], 1))\n",
        "        # rho_r = np.zeros((Xtrain.shape[0], 1))\n",
        "        for q in range(3):\n",
        "            f_r += W[q][r].T*u_q[:,q,None]\n",
        "        F_r.append(f_r)\n",
        "        lam_r = Sigmoid(f_r)\n",
        "        lam_r[lam_r>0.5] = 1\n",
        "        lam_r[lam_r<=0.5] = 0\n",
        "        Lam_r.append(lam_r)\n",
        "    plt.plot(Xtrain,Lam_r[2],'rx')\n",
        "    plt.show()\n",
        "    seed = 0\n",
        "    np.random.seed(seed)\n",
        "    Ytrain = np.ones((N, R))\n",
        "    for r in range(R):\n",
        "        aux = ytrain.copy()\n",
        "        for n in range(N):\n",
        "            if Lam_r[r][n] == 0:\n",
        "                labels = np.arange(1, K+1)\n",
        "                a = np.where(labels==ytrain[n])\n",
        "                labels = np.delete(labels, a)\n",
        "                idxlabels = np.random.permutation(K-1)\n",
        "                aux[n] = labels[idxlabels[0]]         \n",
        "        Ytrain[:,r] = aux.flatten()\n",
        "        \n",
        "   # Ytrain = (Ytrain*maxy) + miny\n",
        "        \n",
        "    iAnn = np.zeros((N, R), dtype=int) # this indicates if the annotator r labels the nth sample.\n",
        "    Nr = np.ones((R), dtype=int)*int(np.floor(N*NrP))  \n",
        "    for r in range(R):\n",
        "        if r < R-1:\n",
        "            indexR = np.random.permutation(range(N))[:Nr[r]]\n",
        "            iAnn[indexR,r] = 1\n",
        "        else:\n",
        "            iSimm = np.sum(iAnn, axis=1)\n",
        "            idxZero = np.asarray([i for (i, val) in enumerate(iSimm) if val == 0])\n",
        "            Nzeros = idxZero.shape[0]\n",
        "            idx2Choose = np.arange(N)\n",
        "            if Nzeros == 0:\n",
        "                indexR = np.random.permutation(range(N))[:Nr[r]]\n",
        "                iAnn[indexR,r] = 1\n",
        "            else:\n",
        "                idx2Choose = np.delete(idx2Choose, idxZero)\n",
        "                N2chose = idx2Choose.shape[0]\n",
        "                idxNoZero = np.random.permutation(N2chose)[:(Nr[r] - Nzeros)]\n",
        "                idxTot = np.concatenate((idxZero, idx2Choose[idxNoZero]))\n",
        "                iAnn[idxTot,r] = 1\n",
        "    \n",
        "    # Now, we verify that all the samples were labeled at least once\n",
        "    Nr = (np.sum(iAnn,0))\n",
        "    iSimm = np.sum(iAnn, axis=1)\n",
        "    if np.asarray([i for (i, val) in enumerate(iSimm) if val == 0]).sum() == 0:\n",
        "        ValueError(\"all the samples must be labeled at least once\")\n",
        "\n",
        "    # Finally, if iAnn=0 we assign a reference value to indicate a missing value\n",
        "    Vref = -1e-20\n",
        "    for r in range(R):\n",
        "        Ytrain[iAnn[:,r] == 0, r] = Vref \n",
        "\n",
        "    return Ytrain, iAnn, Lam_r\n",
        "\n",
        "\n",
        "def CrossVal(X, pp, Nk):\n",
        "    N = X.shape[0]\n",
        "    Ntr = int(N*pp)\n",
        "    Nte = N - Ntr\n",
        "    idxtr = np.zeros((Ntr,Nk))\n",
        "    idxte = np.zeros((Nte,Nk))\n",
        "    \n",
        "    for i in range(Nk):\n",
        "        index = np.random.permutation(range(N))\n",
        "        idxtr[:,i] = index[:Ntr]\n",
        "        idxte[:,i] = index[Ntr:]\n",
        "        \n",
        "    return idxtr, idxte\n",
        "    \n",
        "    \n",
        "        \n"
      ]
    },
    {
      "cell_type": "code",
      "execution_count": 9,
      "id": "acce336e",
      "metadata": {
        "execution": {
          "iopub.execute_input": "2022-10-25T12:30:36.754726Z",
          "iopub.status.busy": "2022-10-25T12:30:36.754187Z",
          "iopub.status.idle": "2022-10-25T12:31:16.926242Z",
          "shell.execute_reply": "2022-10-25T12:31:16.925199Z"
        },
        "id": "acce336e",
        "outputId": "a760a950-5494-4a87-cf8a-fa737dc25c56",
        "papermill": {
          "duration": 40.18552,
          "end_time": "2022-10-25T12:31:16.928758",
          "exception": false,
          "start_time": "2022-10-25T12:30:36.743238",
          "status": "completed"
        },
        "tags": [],
        "colab": {
          "base_uri": "https://localhost:8080/",
          "height": 265
        }
      },
      "outputs": [
        {
          "output_type": "display_data",
          "data": {
            "text/plain": [
              "<Figure size 432x288 with 1 Axes>"
            ],
            "image/png": "[encoded data removed]"
          },
          "metadata": {
            "needs_background": "light"
          }
        }
      ],
      "source": [
        "Y, iAnn, Lam_r = MA_Clas_Gen(X ,t, R=5, NrP=1)"
      ]
    },
    {
      "cell_type": "code",
      "execution_count": 10,
      "id": "bdc963a0",
      "metadata": {
        "execution": {
          "iopub.execute_input": "2022-10-25T12:31:16.949661Z",
          "iopub.status.busy": "2022-10-25T12:31:16.949292Z",
          "iopub.status.idle": "2022-10-25T12:31:16.954520Z",
          "shell.execute_reply": "2022-10-25T12:31:16.953583Z"
        },
        "id": "bdc963a0",
        "papermill": {
          "duration": 0.018438,
          "end_time": "2022-10-25T12:31:16.956961",
          "exception": false,
          "start_time": "2022-10-25T12:31:16.938523",
          "status": "completed"
        },
        "tags": []
      },
      "outputs": [],
      "source": [
        "\n",
        "Y = Y - 1\n",
        "t = t - 1\n",
        "#YMA = YMA-1\n"
      ]
    },
    {
      "cell_type": "code",
      "execution_count": 11,
      "id": "1805d6bd",
      "metadata": {
        "execution": {
          "iopub.execute_input": "2022-10-25T12:31:16.977285Z",
          "iopub.status.busy": "2022-10-25T12:31:16.976939Z",
          "iopub.status.idle": "2022-10-25T12:31:17.271777Z",
          "shell.execute_reply": "2022-10-25T12:31:17.270676Z"
        },
        "papermill": {
          "duration": 0.307992,
          "end_time": "2022-10-25T12:31:17.274453",
          "exception": false,
          "start_time": "2022-10-25T12:31:16.966461",
          "status": "completed"
        },
        "tags": [],
        "id": "1805d6bd"
      },
      "outputs": [],
      "source": [
        "import numpy as np\n",
        "from scipy import stats\n",
        "Ytr_mv  = []\n",
        "for i in range(Y.shape[0]):\n",
        "     #print(Y[i])\n",
        "     Ytr_mv   += [np.take(stats.mode(Y[i]),0)]\n",
        "     #print(mode_Y)\n",
        "#Ytr_mv "
      ]
    },
    {
      "cell_type": "code",
      "execution_count": 12,
      "id": "317eaf08",
      "metadata": {
        "execution": {
          "iopub.execute_input": "2022-10-25T12:31:17.295466Z",
          "iopub.status.busy": "2022-10-25T12:31:17.295086Z",
          "iopub.status.idle": "2022-10-25T12:31:17.302679Z",
          "shell.execute_reply": "2022-10-25T12:31:17.301634Z"
        },
        "papermill": {
          "duration": 0.020832,
          "end_time": "2022-10-25T12:31:17.304891",
          "exception": false,
          "start_time": "2022-10-25T12:31:17.284059",
          "status": "completed"
        },
        "tags": [],
        "colab": {
          "base_uri": "https://localhost:8080/"
        },
        "id": "317eaf08",
        "outputId": "28181143-ee08-4b2a-bf4a-1625a676b01b"
      },
      "outputs": [
        {
          "output_type": "execute_result",
          "data": {
            "text/plain": [
              "(245057, 1)"
            ]
          },
          "metadata": {},
          "execution_count": 12
        }
      ],
      "source": [
        "Ytr_mv = np.array(Ytr_mv).reshape(-1,1) \n",
        "Ytr_mv.shape"
      ]
    },
    {
      "cell_type": "code",
      "execution_count": 13,
      "id": "73a68c60",
      "metadata": {
        "execution": {
          "iopub.execute_input": "2022-10-25T12:31:17.325536Z",
          "iopub.status.busy": "2022-10-25T12:31:17.325175Z",
          "iopub.status.idle": "2022-10-25T12:31:17.339319Z",
          "shell.execute_reply": "2022-10-25T12:31:17.338036Z"
        },
        "papermill": {
          "duration": 0.026861,
          "end_time": "2022-10-25T12:31:17.341278",
          "exception": false,
          "start_time": "2022-10-25T12:31:17.314417",
          "status": "completed"
        },
        "tags": [],
        "colab": {
          "base_uri": "https://localhost:8080/"
        },
        "id": "73a68c60",
        "outputId": "ebbb4977-6b9d-4570-cf71-ea2fc4ca07bd"
      },
      "outputs": [
        {
          "output_type": "stream",
          "name": "stdout",
          "text": [
            "annotator 1\n",
            "              precision    recall  f1-score   support\n",
            "\n",
            "           0       0.53      0.77      0.63     50859\n",
            "           1       0.93      0.82      0.87    194198\n",
            "\n",
            "    accuracy                           0.81    245057\n",
            "   macro avg       0.73      0.79      0.75    245057\n",
            "weighted avg       0.85      0.81      0.82    245057\n",
            "\n"
          ]
        }
      ],
      "source": [
        "from sklearn.metrics import classification_report\n",
        "\n",
        "for i in range(Ytr_mv.shape[1]):\n",
        "  print('annotator',i+1)\n",
        "  print(classification_report(t,Ytr_mv))\n"
      ]
    },
    {
      "cell_type": "markdown",
      "id": "114abf40",
      "metadata": {
        "id": "114abf40",
        "papermill": {
          "duration": 0.009505,
          "end_time": "2022-10-25T12:31:17.386852",
          "exception": false,
          "start_time": "2022-10-25T12:31:17.377347",
          "status": "completed"
        },
        "tags": []
      },
      "source": [
        "# Split data"
      ]
    },
    {
      "cell_type": "code",
      "execution_count": 14,
      "id": "165674f3",
      "metadata": {
        "execution": {
          "iopub.execute_input": "2022-10-25T12:31:17.408480Z",
          "iopub.status.busy": "2022-10-25T12:31:17.407742Z",
          "iopub.status.idle": "2022-10-25T12:31:17.420337Z",
          "shell.execute_reply": "2022-10-25T12:31:17.419322Z"
        },
        "id": "165674f3",
        "outputId": "22888936-c401-45dc-c600-98a4f2b4604d",
        "papermill": {
          "duration": 0.025978,
          "end_time": "2022-10-25T12:31:17.422677",
          "exception": false,
          "start_time": "2022-10-25T12:31:17.396699",
          "status": "completed"
        },
        "tags": [],
        "colab": {
          "base_uri": "https://localhost:8080/"
        }
      },
      "outputs": [
        {
          "output_type": "stream",
          "name": "stdout",
          "text": [
            "[180274  23506 163905 ... 224310 148007  21836]\n",
            "(171539, 3) (171539, 1) (171539, 1)\n"
          ]
        }
      ],
      "source": [
        "import numpy.matlib\n",
        "from sklearn.model_selection import ShuffleSplit, StratifiedShuffleSplit\n",
        "Ns = 1\n",
        "ss = ShuffleSplit(n_splits=Ns, test_size=0.3, random_state=123)\n",
        "for train_index, test_index in ss.split(X):\n",
        "    print(test_index)\n",
        "    X_train, X_test,Y_train,Y_test = X[train_index,:], X[test_index,:], Ytr_mv[train_index,:], Ytr_mv[test_index,:]\n",
        "    Y_true_train, Y_true_test = t[train_index].reshape(-1,1), t[test_index].reshape(-1,1)\n",
        "print(X_train.shape, Y_train.shape, Y_true_train.shape)"
      ]
    },
    {
      "cell_type": "markdown",
      "id": "77ab4f92",
      "metadata": {
        "id": "77ab4f92",
        "papermill": {
          "duration": 0.009861,
          "end_time": "2022-10-25T12:31:17.442577",
          "exception": false,
          "start_time": "2022-10-25T12:31:17.432716",
          "status": "completed"
        },
        "tags": []
      },
      "source": [
        "# Apply MinMaxScaler"
      ]
    },
    {
      "cell_type": "code",
      "execution_count": 15,
      "id": "8ec20c36",
      "metadata": {
        "execution": {
          "iopub.execute_input": "2022-10-25T12:31:17.464174Z",
          "iopub.status.busy": "2022-10-25T12:31:17.463698Z",
          "iopub.status.idle": "2022-10-25T12:31:17.470548Z",
          "shell.execute_reply": "2022-10-25T12:31:17.469424Z"
        },
        "id": "8ec20c36",
        "papermill": {
          "duration": 0.02051,
          "end_time": "2022-10-25T12:31:17.472955",
          "exception": false,
          "start_time": "2022-10-25T12:31:17.452445",
          "status": "completed"
        },
        "tags": []
      },
      "outputs": [],
      "source": [
        "scaler = MinMaxScaler()\n",
        "scaler.fit(X_train)\n",
        "X_train = scaler.transform(X_train)\n",
        "X_test = scaler.transform(X_test)"
      ]
    },
    {
      "cell_type": "markdown",
      "id": "42e4d01a",
      "metadata": {
        "id": "42e4d01a",
        "papermill": {
          "duration": 0.009782,
          "end_time": "2022-10-25T12:31:17.492685",
          "exception": false,
          "start_time": "2022-10-25T12:31:17.482903",
          "status": "completed"
        },
        "tags": []
      },
      "source": [
        "# Testing the Class \n"
      ]
    },
    {
      "cell_type": "code",
      "source": [
        "from sklearn.metrics import classification_report, balanced_accuracy_score\n",
        "from sklearn.metrics import normalized_mutual_info_score, mutual_info_score, adjusted_mutual_info_score\n",
        "l1 =  0.0001\n",
        "NUM_RUNS =10\n",
        "ACC = np.zeros(NUM_RUNS)\n",
        "AUC = np.zeros(NUM_RUNS)\n",
        "MI = np.zeros(NUM_RUNS)\n",
        "NMI = np.zeros(NUM_RUNS)\n",
        "AMI = np.zeros(NUM_RUNS)\n",
        "BACC = np.zeros(NUM_RUNS)\n",
        "for i in range(NUM_RUNS): #10\n",
        "    print(\"iteration: \" + str(i))\n",
        "   \n",
        "    MA = Keras_MA_PRI(epochs=100,batch_size=256,R=5, K=2, dropout=0.2, learning_rate=0.01,optimizer='Adam', \n",
        "                l1_param=l1,  validation_split=0.3, verbose=0)\n",
        "    \n",
        "    MA.fit(X_train, Y_train)\n",
        "   # MA.plot_history()\n",
        "  \n",
        "    #Accuracy\n",
        "    pred_2 = MA.predict(X_test)\n",
        " \n",
        "    report = classification_report( pred_2.argmax(axis=1),Y_true_test.ravel(),output_dict=True)\n",
        "    ACC[i] = report['accuracy']\n",
        "    print(\"Validation ACC: %.4f\" % (float(ACC[i])))\n",
        "\n",
        "\n",
        "    # balanced. Accurcy\n",
        "    BACC[i] = balanced_accuracy_score(Y_true_test.squeeze(), pred_2.argmax(axis=1).squeeze(), adjusted=True)\n",
        "    print(\"Validation Balanced_ACC: %.4f\" % (float(BACC[i])))\n",
        "\n",
        "    #MI\n",
        "    \n",
        "    MI[i] = mutual_info_score(Y_true_test.squeeze(), pred_2.argmax(axis=1).squeeze())\n",
        "    print(\"Validation MI: %.4f\" % (float(MI[i]),))\n",
        "    NMI[i] = normalized_mutual_info_score(Y_true_test.squeeze(), pred_2.argmax(axis=1).squeeze())\n",
        "    print(\"Validation Normalized MI: %.4f\" % (float(NMI[i]),))\n",
        "    AMI[i]= adjusted_mutual_info_score(Y_true_test.squeeze(), pred_2.argmax(axis=1).squeeze())\n",
        "    print(\"Validation Adjusted MI: %.4f\" % (float(AMI[i]),))\n",
        "\n",
        "\n",
        "    #AUC\n",
        "    val_AUC_metric = tf.keras.metrics.AUC( from_logits = True)  \n",
        "   # val_logits =MA.predict(X_test) # model(X_test, training=False)\n",
        "    # tf.print(y_batch_val)\n",
        "    val_AUC_metric.update_state(Y_true_test, pred_2.argmax(axis=1).astype('float'))\n",
        "\n",
        "    val_AUC = val_AUC_metric.result()\n",
        "    val_AUC_metric.reset_states()\n",
        "    val_AUC = val_AUC.numpy()\n",
        "    print(\"Validation aUc: %.4f\" % (float(val_AUC),))\n",
        "    AUC[i] = val_AUC\n",
        "    "
      ],
      "metadata": {
        "id": "fsRBfThT8KOh",
        "colab": {
          "base_uri": "https://localhost:8080/"
        },
        "outputId": "9b8bb996-9928-4486-c460-36bfc0a894e6"
      },
      "id": "fsRBfThT8KOh",
      "execution_count": 16,
      "outputs": [
        {
          "output_type": "stream",
          "name": "stdout",
          "text": [
            "iteration: 0\n",
            "2298/2298 [==============================] - 3s 1ms/step\n",
            "Validation ACC: 0.8443\n",
            "Validation Balanced_ACC: 0.5533\n",
            "Validation MI: 0.1265\n",
            "Validation Normalized MI: 0.2431\n",
            "Validation Adjusted MI: 0.2431\n",
            "Validation aUc: 0.7766\n",
            "iteration: 1\n",
            "2298/2298 [==============================] - 3s 1ms/step\n",
            "Validation ACC: 0.7905\n",
            "Validation Balanced_ACC: 0.6068\n",
            "Validation MI: 0.1319\n",
            "Validation Normalized MI: 0.2283\n",
            "Validation Adjusted MI: 0.2283\n",
            "Validation aUc: 0.8034\n",
            "iteration: 2\n",
            "2298/2298 [==============================] - 3s 1ms/step\n",
            "Validation ACC: 0.8301\n",
            "Validation Balanced_ACC: 0.6162\n",
            "Validation MI: 0.1425\n",
            "Validation Normalized MI: 0.2576\n",
            "Validation Adjusted MI: 0.2576\n",
            "Validation aUc: 0.8081\n",
            "iteration: 3\n",
            "2298/2298 [==============================] - 3s 1ms/step\n",
            "Validation ACC: 0.8120\n",
            "Validation Balanced_ACC: 0.6170\n",
            "Validation MI: 0.1388\n",
            "Validation Normalized MI: 0.2450\n",
            "Validation Adjusted MI: 0.2450\n",
            "Validation aUc: 0.8085\n",
            "iteration: 4\n",
            "2298/2298 [==============================] - 3s 1ms/step\n",
            "Validation ACC: 0.8100\n",
            "Validation Balanced_ACC: 0.6126\n",
            "Validation MI: 0.1366\n",
            "Validation Normalized MI: 0.2410\n",
            "Validation Adjusted MI: 0.2410\n",
            "Validation aUc: 0.8063\n",
            "iteration: 5\n",
            "2298/2298 [==============================] - 3s 1ms/step\n",
            "Validation ACC: 0.8396\n",
            "Validation Balanced_ACC: 0.6027\n",
            "Validation MI: 0.1406\n",
            "Validation Normalized MI: 0.2598\n",
            "Validation Adjusted MI: 0.2598\n",
            "Validation aUc: 0.8014\n",
            "iteration: 6\n",
            "2298/2298 [==============================] - 3s 1ms/step\n",
            "Validation ACC: 0.6253\n",
            "Validation Balanced_ACC: 0.5059\n",
            "Validation MI: 0.1089\n",
            "Validation Normalized MI: 0.1825\n",
            "Validation Adjusted MI: 0.1824\n",
            "Validation aUc: 0.7530\n",
            "iteration: 7\n",
            "2298/2298 [==============================] - 3s 1ms/step\n",
            "Validation ACC: 0.8281\n",
            "Validation Balanced_ACC: 0.6309\n",
            "Validation MI: 0.1478\n",
            "Validation Normalized MI: 0.2647\n",
            "Validation Adjusted MI: 0.2647\n",
            "Validation aUc: 0.8154\n",
            "iteration: 8\n",
            "2298/2298 [==============================] - 3s 1ms/step\n",
            "Validation ACC: 0.8130\n",
            "Validation Balanced_ACC: 0.6124\n",
            "Validation MI: 0.1371\n",
            "Validation Normalized MI: 0.2427\n",
            "Validation Adjusted MI: 0.2427\n",
            "Validation aUc: 0.8062\n",
            "iteration: 9\n",
            "2298/2298 [==============================] - 3s 1ms/step\n",
            "Validation ACC: 0.8520\n",
            "Validation Balanced_ACC: 0.6029\n",
            "Validation MI: 0.1459\n",
            "Validation Normalized MI: 0.2756\n",
            "Validation Adjusted MI: 0.2756\n",
            "Validation aUc: 0.8015\n"
          ]
        }
      ]
    },
    {
      "cell_type": "code",
      "execution_count": 17,
      "metadata": {
        "execution": {
          "iopub.execute_input": "2022-10-25T16:26:01.902569Z",
          "iopub.status.busy": "2022-10-25T16:26:01.902170Z",
          "iopub.status.idle": "2022-10-25T16:26:20.506723Z",
          "shell.execute_reply": "2022-10-25T16:26:20.505052Z"
        },
        "id": "2251089a",
        "papermill": {
          "duration": 18.622195,
          "end_time": "2022-10-25T16:26:20.510089",
          "exception": false,
          "start_time": "2022-10-25T16:26:01.887894",
          "status": "completed"
        },
        "tags": []
      },
      "outputs": [],
      "source": [
        " \n",
        "# from sklearn.metrics import classification_report\n",
        "# l1 =  0.0001\n",
        "# NUM_RUNS =10\n",
        "# ACC = np.zeros(NUM_RUNS)\n",
        "# AUC = np.zeros(NUM_RUNS)\n",
        "# for i in range(NUM_RUNS): #10\n",
        "#     print(\"iteration: \" + str(i))\n",
        "\n",
        "#     MA = Keras_MA_PRI(epochs=100,batch_size=256,R=5, K=2, dropout=0.2, learning_rate=0.01,optimizer='Adam', \n",
        "#                 l1_param=l1,  validation_split=0.3, verbose=0)\n",
        "#     MA.fit(X_train, Y_train)\n",
        "#     MA.plot_history()\n",
        "  \n",
        "#     #Accuracy\n",
        "#     pred_2 = MA.predict(X_test)\n",
        " \n",
        "#     report = classification_report( pred_2.argmax(axis=1),Y_true_test.ravel(),output_dict=True)\n",
        "#     ACC[i] = report['accuracy']\n",
        "#     #AUC\n",
        "#     val_AUC_metric = tf.keras.metrics.AUC(num_thresholds=3, from_logits = True)  \n",
        "#     val_logits =MA.predict(X_test) # model(X_test, training=False)\n",
        "#     # tf.print(y_batch_val)\n",
        "#     val_AUC_metric.update_state(Y_true_test, val_logits.argmax(axis=1).astype('float'))\n",
        "\n",
        "#     val_AUC = val_AUC_metric.result()\n",
        "#     val_AUC_metric.reset_states()\n",
        "#     val_AUC = val_AUC.numpy()\n",
        "#     print(\"Validation aUc: %.4f\" % (float(val_AUC),))\n",
        "#     AUC[i] = val_AUC\n",
        "    \n",
        "  "
      ],
      "id": "2251089a"
    },
    {
      "cell_type": "code",
      "execution_count": 18,
      "metadata": {
        "execution": {
          "iopub.execute_input": "2022-10-25T16:26:20.535351Z",
          "iopub.status.busy": "2022-10-25T16:26:20.534704Z",
          "iopub.status.idle": "2022-10-25T16:26:20.638582Z",
          "shell.execute_reply": "2022-10-25T16:26:20.636858Z"
        },
        "id": "a7972f6e",
        "papermill": {
          "duration": 0.120287,
          "end_time": "2022-10-25T16:26:20.642336",
          "exception": false,
          "start_time": "2022-10-25T16:26:20.522049",
          "status": "completed"
        },
        "tags": [],
        "colab": {
          "base_uri": "https://localhost:8080/"
        },
        "outputId": "186c50d0-d0b5-4a81-acc0-92f23956b47c"
      },
      "outputs": [
        {
          "output_type": "execute_result",
          "data": {
            "text/plain": [
              "array([0.84429663, 0.79048668, 0.83006883, 0.81200522, 0.80999211,\n",
              "       0.83964471, 0.62531625, 0.82806932, 0.81302538, 0.85202263])"
            ]
          },
          "metadata": {},
          "execution_count": 18
        }
      ],
      "source": [
        "\n",
        "ACC"
      ],
      "id": "a7972f6e"
    },
    {
      "cell_type": "code",
      "source": [
        "\n",
        "AUC"
      ],
      "metadata": {
        "id": "bAgG_knDzvlM",
        "colab": {
          "base_uri": "https://localhost:8080/"
        },
        "outputId": "8697c678-288d-4239-8405-067fe69a65ca"
      },
      "execution_count": 19,
      "outputs": [
        {
          "output_type": "execute_result",
          "data": {
            "text/plain": [
              "array([0.77662742, 0.80341756, 0.80809259, 0.8085236 , 0.80631125,\n",
              "       0.80136299, 0.75296926, 0.81542665, 0.80619746, 0.8014726 ])"
            ]
          },
          "metadata": {},
          "execution_count": 19
        }
      ],
      "id": "bAgG_knDzvlM"
    },
    {
      "cell_type": "code",
      "source": [
        "print('Average Accuracy: ', np.round( ACC.mean(),4)*100) \n",
        "print('Average std: ',np.round(np.std( ACC),4)*100)\n",
        "print('==============================================')\n",
        "print('Average AUC: ', np.round( AUC.mean(),4)*100) \n",
        "print('Average AUC std: ',np.round(np.std( AUC),4)*100)\n",
        "print('==============================================')\n",
        "print('Average Balanced Accuracy: ', np.round( BACC.mean(),4)*100) \n",
        "print('Average std: ',np.round(np.std( BACC),4)*100)\n",
        "print('==============================================')\n",
        "print('Average MI: ', np.round( MI.mean(),4)*100) \n",
        "print('Average std: ',np.round(np.std(MI),4)*100)\n",
        "print('==============================================')\n",
        "print('Average Normalized MI: ', np.round( NMI.mean(),4)*100) \n",
        "print('Average std: ',np.round(np.std(NMI),4)*100)\n",
        "print('==============================================')\n",
        "print('Average Ajdusted MI: ', np.round( AMI.mean(),4)*100) \n",
        "print('Average std: ',np.round(np.std(AMI),4)*100)"
      ],
      "metadata": {
        "colab": {
          "base_uri": "https://localhost:8080/"
        },
        "id": "hmV9ABYNXxwQ",
        "outputId": "1376f391-4aea-4b81-9621-5f2da622d266"
      },
      "id": "hmV9ABYNXxwQ",
      "execution_count": 20,
      "outputs": [
        {
          "output_type": "stream",
          "name": "stdout",
          "text": [
            "Average Accuracy:  80.45\n",
            "Average std:  6.22\n",
            "==============================================\n",
            "Average AUC:  79.80000000000001\n",
            "Average AUC std:  1.79\n",
            "==============================================\n",
            "Average Balanced Accuracy:  59.61\n",
            "Average std:  3.5700000000000003\n",
            "==============================================\n",
            "Average MI:  13.569999999999999\n",
            "Average std:  1.0699999999999998\n",
            "==============================================\n",
            "Average Normalized MI:  24.4\n",
            "Average std:  2.4299999999999997\n",
            "==============================================\n",
            "Average Ajdusted MI:  24.4\n",
            "Average std:  2.4299999999999997\n"
          ]
        }
      ]
    }
  ],
  "metadata": {
    "kernelspec": {
      "display_name": "Python 3",
      "language": "python",
      "name": "python3"
    },
    "language_info": {
      "codemirror_mode": {
        "name": "ipython",
        "version": 3
      },
      "file_extension": ".py",
      "mimetype": "text/x-python",
      "name": "python",
      "nbconvert_exporter": "python",
      "pygments_lexer": "ipython3",
      "version": "3.7.12"
    },
    "papermill": {
      "default_parameters": {},
      "duration": 2468.825552,
      "end_time": "2022-10-25T13:11:28.808052",
      "environment_variables": {},
      "exception": null,
      "input_path": "__notebook__.ipynb",
      "output_path": "__notebook__.ipynb",
      "parameters": {},
      "start_time": "2022-10-25T12:30:19.982500",
      "version": "2.3.4"
    },
    "colab": {
      "provenance": [],
      "include_colab_link": true
    },
    "accelerator": "GPU",
    "gpuClass": "standard"
  },
  "nbformat": 4,
  "nbformat_minor": 5
}