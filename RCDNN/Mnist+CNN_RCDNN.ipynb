{
  "cells": [
    {
      "cell_type": "markdown",
      "metadata": {
        "id": "view-in-github",
        "colab_type": "text"
      },
      "source": [
        "<a href=\"https://colab.research.google.com/github/Jectrianama/GCCE_TEST/blob/main/RCDNN/Mnist%2BCNN_RCDNN.ipynb\" target=\"_parent\"><img src=\"https://colab.research.google.com/assets/colab-badge.svg\" alt=\"Open In Colab\"/></a>"
      ]
    },
    {
      "cell_type": "code",
      "execution_count": 54,
      "metadata": {
        "id": "86321f42"
      },
      "outputs": [],
      "source": [
        "#!pip install tensorflow==2.7.0\n",
        "#!pip install scikeras"
      ],
      "id": "86321f42"
    },
    {
      "cell_type": "markdown",
      "metadata": {
        "id": "13b0308c"
      },
      "source": [
        "# Subclassing for RCDNN"
      ],
      "id": "13b0308c"
    },
    {
      "cell_type": "code",
      "execution_count": 55,
      "metadata": {
        "id": "fefce825"
      },
      "outputs": [],
      "source": [
        "# -*- coding: utf-8 -*-\n",
        "import tensorflow as tf\n",
        "import matplotlib.pyplot as plt\n",
        "#from tensorflow.keras.wrappers.scikit_learn import KerasClassifier\n",
        "import tensorflow_probability as tfp\n",
        "from tensorflow.keras import regularizers\n",
        "from sklearn.base import  BaseEstimator, TransformerMixin, ClassifierMixin\n",
        "from sklearn.model_selection import train_test_split\n",
        "tf.keras.backend.clear_session()\n",
        "#tf.random.set_seed(42)\n",
        "import types\n",
        "import tempfile\n",
        "class Keras_MA_RCDNN(): #transformer no va\n",
        " #Constructor __init__. Special method: identified by a double underscore at either side of their name\n",
        " #work in the background\n",
        " # initialize data members to the object. lets the class initialize the object’s attributes and serves no other purpose.\n",
        "    def __init__(self,epochs=100,batch_size=30,R=5, K=2, dropout=0.5, learning_rate=1e-3,optimizer='Adam', \n",
        "                  l1_param=0, validation_split=0.3, verbose=1, q = 0.1):\n",
        "        self.epochs=epochs\n",
        "        self.dropout=dropout\n",
        "        self.batch_size = batch_size\n",
        "        self.learning_rate=learning_rate \n",
        "        self.l1_param=l1_param \n",
        "        self.l2_param=l1_param\n",
        "        self.validation_split = validation_split\n",
        "        self.verbose = verbose\n",
        "        self.optimizer = optimizer\n",
        "        self.R=R\n",
        "        self.K=K\n",
        "        self.q = q\n",
        "\n",
        "    \n",
        " \n",
        "    def custom_RCDNN_loss(self, y_true, y_pred):  #ytrue \\in N x R,  ypred \\in N x (R+K) -> PRI->JULI\n",
        "    \n",
        "        #Input ytrue: samples (N) x  annotators (R) \n",
        "        #Input ypred: samples (N) x  annotators+classes (R+K) \n",
        "\n",
        "        #Ground truth estimation samples (N) x  Classes(K)\n",
        "        pred = y_pred[:,self.R:]\n",
        "        pred = tf.clip_by_value(pred, clip_value_min=1e-9, clip_value_max=1-1e-9) #estabilidad numerica de la funcion de costo\n",
        "        # Annotators reliability prediction: samples (N) x  annotators (R)\n",
        "        ann_ = y_pred[:,:self.R]\n",
        "        #Y_true 1-K: samples (N) x  Classes(1-K), annotators (R)\n",
        "        Y_true = tf.one_hot(tf.cast(y_true, dtype=tf.int32), depth=self.K, axis=1)\n",
        "        #Y_pred 1 - K: samples (N) x  Classes(1-K), annotators (R)\n",
        "        Y_hat = tf.repeat(tf.expand_dims(pred,-1), self.R, axis = -1)\n",
        "        #loss computation\n",
        "        p_logreg = tf.math.reduce_prod(tf.math.pow(Y_hat, Y_true), axis=1)\n",
        "        temp1 = ann_*tf.math.log(p_logreg)  \n",
        "        temp2 = (1 - ann_)*tf.math.log(1/self.K)*tf.reduce_sum(Y_true,axis=1)\n",
        "        # temp2 = (tf.ones(tf.shape(ann_)) - ann_)*tf.math.log(1/K)\n",
        "        # print(tf.reduce_mean(Y_true,axis=1).numpy())\n",
        "        return -tf.math.reduce_sum((temp1 + temp2))\n",
        "\n",
        "        \n",
        "    def GCCE_MA_loss(self, y_true, y_pred):\n",
        "        # print(y_true,y_pred)\n",
        "       # q = 0.1\n",
        "        pred = y_pred[:, self.R:]\n",
        "        pred = tf.clip_by_value(pred, clip_value_min=1e-9, clip_value_max=1)\n",
        "        ann_ = y_pred[:, :self.R]\n",
        "        # ann_ = tf.clip_by_value(ann_, clip_value_min=1e-9, clip_value_max=1-1e-9)\n",
        "        Y_true = tf.one_hot(tf.cast(y_true, dtype=tf.int32), depth=self.K, axis=1)\n",
        "        Y_hat = tf.repeat(tf.expand_dims(pred,-1), self.R, axis = -1)\n",
        "\n",
        "        p_gcce = Y_true*(1 - Y_hat**self.q)/self.q\n",
        "        temp1 = ann_*tf.math.reduce_sum(p_gcce, axis=1)\n",
        "\n",
        "        # p_logreg = tf.math.reduce_prod(tf.math.pow(Y_hat, Y_true), axis=1)\n",
        "        # temp1 = ann_*tf.math.log(p_logreg)  \n",
        "        # temp2 = (1 - ann_)*tf.math.log(1/K)*tf.reduce_sum(Y_true,axis=1)\n",
        "        # aux = tf.repeat(tf.reduce_sum(pred*tf.math.log(pred),axis=1,keepdims=True), R, axis = 1)\n",
        "        # tf.print(tf.shape(aux))\n",
        "        # print(tf.shape(aux))\n",
        "        # temp2 = (1 - ann_)*aux*tf.reduce_sum(Y_true,axis=1)\n",
        "        # temp2 = (tf.ones(tf.shape(ann_)) - ann_)*tf.math.log(1/K)\n",
        "        # print(tf.reduce_mean(Y_true,axis=1).numpy())\n",
        "        # Y_true_1 = tf.clip_by_value(Y_true, clip_value_min=1e-9, clip_value_max=1)\n",
        "        # p_logreg_inv = tf.math.reduce_prod(tf.math.pow(Y_true_1, Y_hat), axis=1)\n",
        "        # temp2 = (1 - ann_)*tf.math.log(p_logreg_inv) \n",
        "        temp2 = (1 - ann_)*(1-(1/self.K)**self.q)/self.q*tf.reduce_sum(Y_true,axis=1)\n",
        "        return tf.math.reduce_sum((temp1 + temp2))\n",
        "\n",
        " \n",
        "    def PRI_MA_loss(self, y_true, y_pred): #,  -> PRI\n",
        "        #Input ytrue: samples (N) x  annotators (R) \n",
        "        #Input ypred: samples (N) x  annotators+classes (R+K) \n",
        "        #PRI MA\n",
        "        cce_M = tf.keras.losses.CategoricalCrossentropy(reduction='none',axis=-1)\n",
        "        cce_C = tf.keras.losses.CategoricalCrossentropy(reduction='none',axis=1)\n",
        "\n",
        "      \n",
        "\n",
        "        #N = tf.cast(y_true.shape[0],dtype=tf.int32)\n",
        "        N = tf.shape(y_true)[0]\n",
        "        #Ground truth estimation samples (N) x  Classes(K)\n",
        "        y_pred_tf = y_pred[:,self.R:] \n",
        "        # Annotators reliability prediction: samples (N) x  annotators (R)\n",
        "        lambda_R_tf = y_pred[:,:self.R] #tf.ones(shape=(N,R)) \n",
        "        #Y_true 1 K: samples (N) x  Classes(1-K), annotators (R)\n",
        "        Y_true_1K = tf.one_hot(tf.cast(y_true,dtype=tf.int32),depth=self.K,axis=1)  \n",
        "        #Y_pred 1 - K: samples (N) x  Classes(1-K), annotators (R)\n",
        "        Y_hat = tf.repeat(tf.expand_dims(y_pred_tf,-1), self.R, axis = -1) \n",
        "        #marginal entropy\n",
        "        #cce along the K classes -> ypred_tf\n",
        "        Hm_ = cce_M(y_pred_tf,y_pred_tf)\n",
        "        #cross entropy\n",
        "        #cce along the K classes -> Y_hat\n",
        "        Hc_ = cce_C(Y_true_1K,Y_hat)\n",
        "        #PRI MA computation\n",
        "        LH = tf.linalg.matmul(lambda_R_tf,Hc_,transpose_a=True) # \\Lambda^\\top H_c\n",
        "        temp1 = tf.linalg.trace(LH) #trace(LH)\n",
        "        Hm1L = tf.linalg.matmul(tf.ones(shape=(N,self.R))-lambda_R_tf,tf.ones(shape=(self.R,1)))# 1_N 1_R^\\top - Lambda\n",
        "        Hm_t = tf.reshape(Hm_,shape=(N,1))\n",
        "        temp2 = tf.squeeze(tf.linalg.matmul(Hm_t,Hm1L,transpose_a=True)) # Hm^\\top Hm1L\n",
        "        loss_c = temp1+ temp2 #return loss\n",
        "\n",
        "        return loss_c\n",
        "\n",
        " \n",
        "    def fit(self, X, Y):\n",
        "        #input X numpy array first dimension samples (N)x features (P)\n",
        "        #input Y numpy array vector len = samples (N) x  annotators (R)\n",
        "        P = X.shape[1]\n",
        "        if self.optimizer == \"Adam\":\n",
        "            opt = tf.keras.optimizers.Adam(learning_rate=self.learning_rate, clipnorm=1.0)\n",
        "        elif self.optimizer == \"SGD\":\n",
        "            opt = tf.keras.optimizers.SGD(learning_rate=self.learning_rate, clipnorm=1.0)\n",
        "        else:\n",
        "            opt=self.optimizer\n",
        "         \n",
        "    \n",
        "        # Block 1\n",
        "        input_l = tf.keras.layers.Input(shape=(28, 28, 1), name='entrada')\n",
        "        x = tf.keras.layers.Conv2D(32, (3, 3), activation=\"relu\" , name=\"block1_conv1\")(input_l)\n",
        "        x = tf.keras.layers.BatchNormalization(axis=-1)(x)\n",
        "       # x = tf.keras.layers.MaxPooling2D((2, 2), strides=(2, 2), name=\"block1_pool\")(x)\n",
        "\n",
        "\n",
        "        # Block 2\n",
        "        x = tf.keras.layers.Conv2D(32, (3, 3), activation=\"relu\", name=\"block2_conv1\")(x)\n",
        "        x = tf.keras.layers.BatchNormalization(axis=-1)(x)\n",
        "        x = tf.keras.layers.MaxPooling2D((2, 2), strides=(2, 2), name=\"block2_pool\")(x)\n",
        "\n",
        "        # Block 3\n",
        "        x = tf.keras.layers.Conv2D(64, (3, 3), activation=\"relu\", name=\"block3_conv1\" )(x)             \n",
        "        x = tf.keras.layers.BatchNormalization(axis=-1)(x)\n",
        "        #x = tf.keras.layers.MaxPooling2D((2, 2), strides=(2, 2), name=\"block3_pool\")(x)\n",
        "        \n",
        "        # Block 4\n",
        "        x = tf.keras.layers.Conv2D(64, (3, 3), activation=\"relu\", name=\"block4_conv1\")(x)            \n",
        "        x = tf.keras.layers.BatchNormalization()(x)\n",
        "        x = tf.keras.layers.MaxPooling2D((2, 2), strides=(2, 2), name=\"block4_pool\")(x)\n",
        "        \n",
        "         \n",
        "        x = tf.keras.layers.Flatten()(x)\n",
        "        x = tf.keras.layers.BatchNormalization()(x)\n",
        "        x = tf.keras.layers.Dense(128,activation=\"relu\")(x)\n",
        "        x = tf.keras.layers.BatchNormalization()(x)\n",
        "        x = tf.keras.layers.Dropout(0.5)(x)\n",
        "        output_R = tf.keras.layers.Dense(self.R,activation=\"sigmoid\", \n",
        "                                    kernel_regularizer=tf.keras.regularizers.l1_l2(l1=self.l1_param,l2=self.l2_param), name= 'out_R_GCCE' )(x)\n",
        " \n",
        "        output_K = tf.keras.layers.Dense(self.K,activation=\"softmax\", \n",
        "                                    kernel_regularizer=tf.keras.regularizers.l1_l2(l1=self.l1_param,l2=self.l2_param), name= 'out_K_GCCE')(x)\n",
        " \n",
        "        output = tf.keras.layers.concatenate([output_R, output_K])\n",
        "        self.model = tf.keras.Model(inputs= input_l,outputs=output)\n",
        "        self.model.compile(loss=self.custom_RCDNN_loss, optimizer=opt)\n",
        "        \n",
        " \n",
        "        self.history = self.model.fit(X, Y, epochs=self.epochs, validation_split=self.validation_split,   #\n",
        "                                      batch_size=self.batch_size,verbose=self.verbose)\n",
        " \n",
        "        return self\n",
        " \n",
        "  \n",
        "    \n",
        "    def predict(self, X, *_):\n",
        "       #input X numpy array first dimension samples (N)x features (P)\n",
        "      return  self.model.predict(X) \n",
        " \n",
        " \n",
        "\n",
        "    def fit_predict(self,X,y):\n",
        "        #input X numpy array first dimension samples (N)x features (P)\n",
        "        #input Y numpy array vector len = samples (N) x  annotators (R)\n",
        "        self.fit(X,y)\n",
        "        return self.predict(X)\n",
        "  \n",
        "     #graphics\n",
        "    def plot_history(self):\n",
        "        pd.DataFrame(self.history.history).plot(figsize=(8, 5))\n",
        "        plt.grid(True)\n",
        "        #plt.gca().set_ylim(0, 1)\n",
        "        #save_fig(\"keras_learning_curves_plot\")\n",
        "        plt.show()\n",
        "        return\n",
        "    \n",
        "    def set_params(self, **parameters):\n",
        "        for parameter, value in parameters.items():\n",
        "            setattr(self, parameter, value)\n",
        "\n",
        "        return self\n",
        "    \n",
        "    \n",
        "    \n",
        "    def get_params(self, deep=True):\n",
        "        return { 'l1_param':self.l1_param, 'dropout':self.dropout, 'optimizer':self.optimizer,\n",
        "                'learning_rate':self.learning_rate, 'batch_size':self.batch_size,\n",
        "                'epochs':self.epochs, 'verbose':self.verbose, 'validation_split':self.validation_split,\n",
        "                'R':self.R, 'K':self.K, 'q':self.q\n",
        "                }\n",
        "\n",
        "  \n",
        "        return self\n"
      ],
      "id": "fefce825"
    },
    {
      "cell_type": "markdown",
      "metadata": {
        "id": "5b055b86"
      },
      "source": [
        "# Load Data"
      ],
      "id": "5b055b86"
    },
    {
      "cell_type": "code",
      "execution_count": 56,
      "metadata": {
        "id": "b28bee07"
      },
      "outputs": [],
      "source": [
        "#load data\n",
        "import scipy.io as sio\n",
        "import matplotlib.pyplot as plt\n",
        "import pandas as pd\n",
        "import tensorflow as tf #importar tensorflow\n",
        "from sklearn.model_selection import GridSearchCV\n",
        "from sklearn.preprocessing import StandardScaler,MinMaxScaler\n",
        "import numpy as np\n",
        "database = 'Mnist_CNN' #['bupa1', 'breast-cancer-wisconsin1','pima-indians-diabetes1', 'ionosphere1', 'tic-tac-toe1', 'iris1', 'wine1', 'segmentation1']\n",
        "\n",
        "\n",
        "# path_ = 'MADatasets/'+ database+ '.mat' \n",
        "# Xdata = sio.loadmat(path_)\n",
        "# Xdata.keys()\n"
      ],
      "id": "b28bee07"
    },
    {
      "cell_type": "code",
      "execution_count": 57,
      "metadata": {
        "id": "Vk53uHwAdyDi"
      },
      "outputs": [],
      "source": [
        "(X, t), _ = tf.keras.datasets.mnist.load_data()\n",
        "t=t+1\n",
        "X = X.reshape(len(X),-1)"
      ],
      "id": "Vk53uHwAdyDi"
    },
    {
      "cell_type": "code",
      "execution_count": 58,
      "metadata": {
        "id": "9DOUsBtwQLbu"
      },
      "outputs": [],
      "source": [
        "(x_train, Y_true_train), (x_test, Y_true_test) = tf.keras.datasets.mnist.load_data()"
      ],
      "id": "9DOUsBtwQLbu"
    },
    {
      "cell_type": "code",
      "execution_count": 59,
      "metadata": {
        "id": "IqQ6LNPDQUrD"
      },
      "outputs": [],
      "source": [
        "input_shape = (28, 28, 1)\n",
        "\n",
        "X_train=x_train.reshape(x_train.shape[0], x_train.shape[1], x_train.shape[2], 1)\n",
        "X_train=X_train / 255.0\n",
        "X_test = x_test.reshape(x_test.shape[0], x_test.shape[1], x_test.shape[2], 1)\n",
        "X_test=X_test/255.0"
      ],
      "id": "IqQ6LNPDQUrD"
    },
    {
      "cell_type": "code",
      "execution_count": 60,
      "metadata": {
        "colab": {
          "base_uri": "https://localhost:8080/",
          "height": 283
        },
        "id": "SQorCvefQZHa",
        "outputId": "bf7aa2ab-fb4b-4352-d92c-65534e34b555"
      },
      "outputs": [
        {
          "output_type": "stream",
          "name": "stdout",
          "text": [
            "5\n"
          ]
        },
        {
          "output_type": "display_data",
          "data": {
            "text/plain": [
              "<Figure size 432x288 with 1 Axes>"
            ],
            "image/png": "[encoded data removed]"
          },
          "metadata": {
            "needs_background": "light"
          }
        }
      ],
      "source": [
        "\n",
        "plt.imshow(X_train[0][:,:,0])\n",
        "print(Y_true_train[100])"
      ],
      "id": "SQorCvefQZHa"
    },
    {
      "cell_type": "markdown",
      "metadata": {
        "id": "d41f9909"
      },
      "source": [
        "# Labels Generation - 1 Cluster, 3 annotators"
      ],
      "id": "d41f9909"
    },
    {
      "cell_type": "code",
      "execution_count": 61,
      "metadata": {
        "id": "921a7097"
      },
      "outputs": [],
      "source": [
        "import random\n",
        "import warnings\n",
        "import numpy as np\n",
        "#import climin\n",
        "from functools import partial\n",
        "import matplotlib.pyplot as plt\n",
        "from sklearn.preprocessing import StandardScaler\n",
        "from sklearn.cluster import KMeans\n",
        "import matplotlib.pyplot as plt\n",
        "from sklearn.manifold import TSNE\n",
        "\n",
        "#Defining the Sigmoid function and Softmax function\n",
        "def Sigmoid(f_r):\n",
        "    lam_r = 1/(1 + np.exp(-f_r))\n",
        "    return lam_r\n",
        "\n",
        "def MAjVot(Y, K):\n",
        "    N,R = Y.shape\n",
        "    Yhat = np.zeros((N,1))\n",
        "    for n in range(N):\n",
        "        votes = np.zeros((K,1))\n",
        "        for r in range(R):\n",
        "            for k in range(K):\n",
        "                if Y[n,r] == k+1:\n",
        "                    votes[k] = votes[k]+1\n",
        "        Yhat[n] = np.argmax(votes) + 1\n",
        "    return Yhat\n",
        "\n",
        "\n",
        "def  MA_Clas_Gen(Xtrain,ytrain,R,NrP):\n",
        "\n",
        "    N = len(ytrain)\n",
        "    K = len(np.unique(ytrain))\n",
        "    Kn = np.unique(ytrain)\n",
        "    aux = 0\n",
        "    A = np.zeros((K,1))\n",
        "    for k in Kn:\n",
        "        A[aux] = (ytrain == k).sum()\n",
        "        aux = aux + 1\n",
        "    per = np.min(A)\n",
        "    if N < 25000:\n",
        "        Xtrain = TSNE(n_components=1,perplexity=per/2).fit_transform(Xtrain)\n",
        "    else:\n",
        "        Xtrain = np.sum(Xtrain,1)\n",
        "    # Xtrain = Xtrain-Xtrain.min()\n",
        "    # Xtrain = Xtrain/Xtrain.max()\n",
        "    #ytrain = y\n",
        "    # scaler = StandardScaler()\n",
        "    # scalerY = scaler.fit(y)\n",
        "    # ytrain = scaler.fit_transform(y)\n",
        "\n",
        "    \n",
        "    #miny = y.min()\n",
        "    #ytrain = y-miny\n",
        "    #maxy = ytrain.max()\n",
        "    #ytrain = ytrain/maxy\n",
        "  \n",
        "    # Xtrain = np.sum(Xtrain, axis=1)\n",
        "    Xtrain = Xtrain - Xtrain.min()\n",
        "    #print(Xtrain.min(), Xtrain.max())\n",
        "    Xtrain = Xtrain/Xtrain.max()\n",
        "    Xtrain = Xtrain.reshape((N,1))\n",
        "    yprueba = np.ones((N,1))\n",
        "    \n",
        "    \n",
        "    u_q = np.empty((Xtrain.shape[0],3))\n",
        "    u_q[:,0,None] = 4.5*np.cos(2*np.pi*Xtrain + 1.5*np.pi) - \\\n",
        "                               3*np.sin(4.3*np.pi*Xtrain + 0.3*np.pi)\n",
        "                    \n",
        "    u_q[:,1,None] = 4.5*np.cos(1.5*np.pi*Xtrain + 0.5*np.pi) + \\\n",
        "                       5*np.sin(3*np.pi*Xtrain + 1.5*np.pi)\n",
        "    \n",
        "    u_q[:,2,None] = 1\n",
        "    \n",
        "    W = []\n",
        "    # q=1\n",
        "    Wq1 = np.array(([[0.4],[0.7],[-0.5],[0],[-0.7]]))\n",
        "    W.append(Wq1)\n",
        "    # q=2\n",
        "    Wq2 = np.array(([[0.4],[-1.0],[-0.1],[-0.8],[1.0]]))\n",
        "    W.append(Wq2)\n",
        "    Wq3 = np.array(([[3.1],[-1.8],[-0.6],[-1.2],[1.0]]))\n",
        "    W.append(Wq3)\n",
        "\n",
        "    \n",
        "    F_r = []\n",
        "    Lam_r = []\n",
        "    for r in range(R):\n",
        "        f_r = np.zeros((Xtrain.shape[0], 1))\n",
        "        # rho_r = np.zeros((Xtrain.shape[0], 1))\n",
        "        for q in range(3):\n",
        "            f_r += W[q][r].T*u_q[:,q,None]\n",
        "        F_r.append(f_r)\n",
        "        lam_r = Sigmoid(f_r)\n",
        "        lam_r[lam_r>0.5] = 1\n",
        "        lam_r[lam_r<=0.5] = 0\n",
        "        Lam_r.append(lam_r)\n",
        "    plt.plot(Xtrain,Lam_r[2],'rx')\n",
        "    plt.show()\n",
        "    seed = 0\n",
        "    np.random.seed(seed)\n",
        "    Ytrain = np.ones((N, R))\n",
        "    for r in range(R):\n",
        "        aux = ytrain.copy()\n",
        "        for n in range(N):\n",
        "            if Lam_r[r][n] == 0:\n",
        "                labels = np.arange(1, K+1)\n",
        "                a = np.where(labels==ytrain[n])\n",
        "                labels = np.delete(labels, a)\n",
        "                idxlabels = np.random.permutation(K-1)\n",
        "                aux[n] = labels[idxlabels[0]]         \n",
        "        Ytrain[:,r] = aux.flatten()\n",
        "        \n",
        "   # Ytrain = (Ytrain*maxy) + miny\n",
        "        \n",
        "    iAnn = np.zeros((N, R), dtype=int) # this indicates if the annotator r labels the nth sample.\n",
        "    Nr = np.ones((R), dtype=int)*int(np.floor(N*NrP))  \n",
        "    for r in range(R):\n",
        "        if r < R-1:\n",
        "            indexR = np.random.permutation(range(N))[:Nr[r]]\n",
        "            iAnn[indexR,r] = 1\n",
        "        else:\n",
        "            iSimm = np.sum(iAnn, axis=1)\n",
        "            idxZero = np.asarray([i for (i, val) in enumerate(iSimm) if val == 0])\n",
        "            Nzeros = idxZero.shape[0]\n",
        "            idx2Choose = np.arange(N)\n",
        "            if Nzeros == 0:\n",
        "                indexR = np.random.permutation(range(N))[:Nr[r]]\n",
        "                iAnn[indexR,r] = 1\n",
        "            else:\n",
        "                idx2Choose = np.delete(idx2Choose, idxZero)\n",
        "                N2chose = idx2Choose.shape[0]\n",
        "                idxNoZero = np.random.permutation(N2chose)[:(Nr[r] - Nzeros)]\n",
        "                idxTot = np.concatenate((idxZero, idx2Choose[idxNoZero]))\n",
        "                iAnn[idxTot,r] = 1\n",
        "    \n",
        "    # Now, we verify that all the samples were labeled at least once\n",
        "    Nr = (np.sum(iAnn,0))\n",
        "    iSimm = np.sum(iAnn, axis=1)\n",
        "    if np.asarray([i for (i, val) in enumerate(iSimm) if val == 0]).sum() == 0:\n",
        "        ValueError(\"all the samples must be labeled at least once\")\n",
        "\n",
        "    # Finally, if iAnn=0 we assign a reference value to indicate a missing value\n",
        "    Vref = -1e-20\n",
        "    for r in range(R):\n",
        "        Ytrain[iAnn[:,r] == 0, r] = Vref \n",
        "\n",
        "    return Ytrain, iAnn, Lam_r\n",
        "\n",
        "\n",
        "def CrossVal(X, pp, Nk):\n",
        "    N = X.shape[0]\n",
        "    Ntr = int(N*pp)\n",
        "    Nte = N - Ntr\n",
        "    idxtr = np.zeros((Ntr,Nk))\n",
        "    idxte = np.zeros((Nte,Nk))\n",
        "    \n",
        "    for i in range(Nk):\n",
        "        index = np.random.permutation(range(N))\n",
        "        idxtr[:,i] = index[:Ntr]\n",
        "        idxte[:,i] = index[Ntr:]\n",
        "        \n",
        "    return idxtr, idxte\n",
        "    \n",
        "    \n",
        "        \n"
      ],
      "id": "921a7097"
    },
    {
      "cell_type": "code",
      "execution_count": 62,
      "metadata": {
        "colab": {
          "base_uri": "https://localhost:8080/",
          "height": 265
        },
        "id": "5bfb3a90",
        "outputId": "b518e3ae-5220-46d8-bf24-2334a1a56d7a"
      },
      "outputs": [
        {
          "output_type": "display_data",
          "data": {
            "text/plain": [
              "<Figure size 432x288 with 1 Axes>"
            ],
            "image/png": "[encoded data removed]"
          },
          "metadata": {
            "needs_background": "light"
          }
        }
      ],
      "source": [
        "Y_train, iAnn, Lam_r = MA_Clas_Gen(X ,t, R=5, NrP=1)"
      ],
      "id": "5bfb3a90"
    },
    {
      "cell_type": "code",
      "execution_count": 63,
      "metadata": {
        "id": "125deea6"
      },
      "outputs": [],
      "source": [
        "\n",
        "Y_train = Y_train - 1\n",
        "t = t - 1\n",
        "#YMA = YMA-1\n"
      ],
      "id": "125deea6"
    },
    {
      "cell_type": "code",
      "execution_count": 64,
      "metadata": {
        "colab": {
          "base_uri": "https://localhost:8080/"
        },
        "id": "f665a11b",
        "outputId": "2027740f-ea05-42cc-9f47-926a294696c8"
      },
      "outputs": [
        {
          "output_type": "stream",
          "name": "stdout",
          "text": [
            "annotator 1\n",
            "              precision    recall  f1-score   support\n",
            "\n",
            "           0       0.98      0.89      0.94      5923\n",
            "           1       0.97      1.00      0.99      6742\n",
            "           2       0.98      0.97      0.97      5958\n",
            "           3       0.97      0.98      0.97      6131\n",
            "           4       0.97      0.99      0.98      5842\n",
            "           5       0.97      0.98      0.98      5421\n",
            "           6       0.98      0.98      0.98      5918\n",
            "           7       0.97      1.00      0.99      6265\n",
            "           8       0.98      0.96      0.97      5851\n",
            "           9       0.97      0.99      0.98      5949\n",
            "\n",
            "    accuracy                           0.97     60000\n",
            "   macro avg       0.97      0.97      0.97     60000\n",
            "weighted avg       0.97      0.97      0.97     60000\n",
            "\n",
            "annotator 2\n",
            "              precision    recall  f1-score   support\n",
            "\n",
            "           0       0.86      0.64      0.73      5923\n",
            "           1       0.89      1.00      0.94      6742\n",
            "           2       0.87      0.80      0.83      5958\n",
            "           3       0.87      0.84      0.86      6131\n",
            "           4       0.88      0.95      0.91      5842\n",
            "           5       0.87      0.90      0.89      5421\n",
            "           6       0.86      0.87      0.87      5918\n",
            "           7       0.87      0.97      0.92      6265\n",
            "           8       0.87      0.80      0.83      5851\n",
            "           9       0.88      0.95      0.91      5949\n",
            "\n",
            "    accuracy                           0.87     60000\n",
            "   macro avg       0.87      0.87      0.87     60000\n",
            "weighted avg       0.87      0.87      0.87     60000\n",
            "\n",
            "annotator 3\n",
            "              precision    recall  f1-score   support\n",
            "\n",
            "           0       0.24      0.29      0.26      5923\n",
            "           1       0.22      0.22      0.22      6742\n",
            "           2       0.12      0.12      0.12      5958\n",
            "           3       0.10      0.09      0.09      6131\n",
            "           4       0.03      0.03      0.03      5842\n",
            "           5       0.06      0.06      0.06      5421\n",
            "           6       0.08      0.08      0.08      5918\n",
            "           7       0.03      0.02      0.03      6265\n",
            "           8       0.12      0.13      0.13      5851\n",
            "           9       0.03      0.03      0.03      5949\n",
            "\n",
            "    accuracy                           0.11     60000\n",
            "   macro avg       0.10      0.11      0.10     60000\n",
            "weighted avg       0.10      0.11      0.11     60000\n",
            "\n",
            "annotator 4\n",
            "              precision    recall  f1-score   support\n",
            "\n",
            "           0       0.38      0.35      0.37      5923\n",
            "           1       0.61      0.91      0.73      6742\n",
            "           2       0.30      0.26      0.28      5958\n",
            "           3       0.33      0.28      0.30      6131\n",
            "           4       0.38      0.38      0.38      5842\n",
            "           5       0.35      0.36      0.35      5421\n",
            "           6       0.33      0.30      0.31      5918\n",
            "           7       0.44      0.46      0.45      6265\n",
            "           8       0.30      0.25      0.27      5851\n",
            "           9       0.38      0.37      0.38      5949\n",
            "\n",
            "    accuracy                           0.40     60000\n",
            "   macro avg       0.38      0.39      0.38     60000\n",
            "weighted avg       0.38      0.40      0.39     60000\n",
            "\n",
            "annotator 5\n",
            "              precision    recall  f1-score   support\n",
            "\n",
            "           0       0.00      0.00      0.00      5923\n",
            "           1       0.00      0.00      0.00      6742\n",
            "           2       0.00      0.00      0.00      5958\n",
            "           3       0.00      0.00      0.00      6131\n",
            "           4       0.00      0.00      0.00      5842\n",
            "           5       0.00      0.00      0.00      5421\n",
            "           6       0.00      0.00      0.00      5918\n",
            "           7       0.00      0.00      0.00      6265\n",
            "           8       0.00      0.00      0.00      5851\n",
            "           9       0.00      0.00      0.00      5949\n",
            "\n",
            "    accuracy                           0.00     60000\n",
            "   macro avg       0.00      0.00      0.00     60000\n",
            "weighted avg       0.00      0.00      0.00     60000\n",
            "\n"
          ]
        }
      ],
      "source": [
        "from sklearn.metrics import classification_report\n",
        "for i in range(Y_train.shape[1]):\n",
        "    print('annotator',i+1)\n",
        "    print(classification_report(Y_true_train,Y_train[:,i]))\n",
        "  #  unique, counts = np.unique(Y[:,i], return_counts=True)\n",
        "  #  plt.figure()\n",
        "  #  plt.bar(unique, counts)\n",
        "#     unique, counts = np.unique(Y_test[5], return_counts=True)\n",
        "#     plt.bar(unique, counts)\n",
        "\n",
        "#    plt.title('Class Frequency for Y_true')\n",
        " #   plt.xlabel('Class')\n",
        "  #  plt.ylabel('Frequency')\n"
      ],
      "id": "f665a11b"
    },
    {
      "cell_type": "code",
      "execution_count": 65,
      "metadata": {
        "id": "5be7ff83"
      },
      "outputs": [],
      "source": [
        "# from sklearn.metrics import classification_report\n",
        "# for i in range(Y.shape[1]):\n",
        "#   for j in range(len(np.unique(clusters.labels_))):\n",
        "#     print('annotator',i+1)\n",
        "#     print('cluster',j+1)\n",
        "#     print(classification_report(t[clusters.labels_==j],Y[clusters.labels_==j,i]))"
      ],
      "id": "5be7ff83"
    },
    {
      "cell_type": "markdown",
      "metadata": {
        "id": "4978b7ce"
      },
      "source": [
        "# Split data"
      ],
      "id": "4978b7ce"
    },
    {
      "cell_type": "code",
      "execution_count": 66,
      "metadata": {
        "id": "7b92d005"
      },
      "outputs": [],
      "source": [
        "# import numpy.matlib\n",
        "# from sklearn.model_selection import ShuffleSplit, StratifiedShuffleSplit\n",
        "# Ns = 1\n",
        "# ss = ShuffleSplit(n_splits=Ns, test_size=0.3,random_state =123)\n",
        "# for train_index, test_index in ss.split(X):\n",
        "#     print(test_index)\n",
        "#     X_train, X_test,Y_train,Y_test = X[train_index,:], X[test_index,:],Y[train_index,:], Y[test_index,:]\n",
        "#     Y_true_train, Y_true_test = t[train_index].reshape(-1,1), t[test_index].reshape(-1,1)\n",
        "# print(X_train.shape, Y_train.shape, Y_true_train.shape)"
      ],
      "id": "7b92d005"
    },
    {
      "cell_type": "code",
      "execution_count": 67,
      "metadata": {
        "id": "3f45d147"
      },
      "outputs": [],
      "source": [
        "# for i in range(Y.shape[1]):\n",
        "#     print('annotator',i+1)\n",
        "   \n",
        "#     unique, counts = np.unique(Y_train[:,i], return_counts=True)\n",
        "#     plt.figure()\n",
        "#     plt.bar(unique, counts)\n",
        "#     unique, counts = np.unique(Y_test[:,i], return_counts=True)\n",
        "#     plt.bar(unique, counts)\n",
        "\n",
        "#     plt.title('Class Frequency for Y_true')\n",
        "#     plt.xlabel('Class')\n",
        "#     plt.ylabel('Frequency')\n"
      ],
      "id": "3f45d147"
    },
    {
      "cell_type": "markdown",
      "metadata": {
        "id": "6c5da01e"
      },
      "source": [
        "# Apply MinMaxScaler"
      ],
      "id": "6c5da01e"
    },
    {
      "cell_type": "code",
      "execution_count": 68,
      "metadata": {
        "id": "f600859c"
      },
      "outputs": [],
      "source": [
        "# scaler = MinMaxScaler()\n",
        "# scaler.fit(X_train)\n",
        "# X_train = scaler.transform(X_train)\n",
        "# X_test = scaler.transform(X_test)"
      ],
      "id": "f600859c"
    },
    {
      "cell_type": "markdown",
      "metadata": {
        "id": "714a7a07"
      },
      "source": [
        "# Testing the Class \n"
      ],
      "id": "714a7a07"
    },
    {
      "cell_type": "code",
      "execution_count": 69,
      "metadata": {
        "id": "-L8TK2AnQOeI"
      },
      "outputs": [],
      "source": [
        "# from sklearn.metrics import classification_report, balanced_accuracy_score\n",
        "# from sklearn.metrics import normalized_mutual_info_score, mutual_info_score, adjusted_mutual_info_score\n",
        "# l1 =0.0001\n",
        "# NUM_RUNS =10\n",
        "# ACC = np.zeros(NUM_RUNS)\n",
        "# AUC = np.zeros(NUM_RUNS)\n",
        "# MI = np.zeros(NUM_RUNS)\n",
        "# NMI = np.zeros(NUM_RUNS)\n",
        "# AMI = np.zeros(NUM_RUNS)\n",
        "# BACC = np.zeros(NUM_RUNS)\n",
        "# for i in range(NUM_RUNS): #10\n",
        "#     print(\"iteration: \" + str(i))\n",
        "   \n",
        "    \n",
        "#     MA.fit(X_train, Y_train)\n",
        "#     MA.plot_history()\n",
        "  \n",
        "  \n",
        "    \n",
        "  "
      ],
      "id": "-L8TK2AnQOeI"
    },
    {
      "cell_type": "code",
      "execution_count": 70,
      "metadata": {
        "colab": {
          "base_uri": "https://localhost:8080/",
          "height": 1000
        },
        "id": "2251089a",
        "outputId": "32f35ca2-c8fb-460e-81d8-8e5e2552c816"
      },
      "outputs": [
        {
          "output_type": "stream",
          "name": "stdout",
          "text": [
            "iteration: 0\n"
          ]
        },
        {
          "output_type": "display_data",
          "data": {
            "text/plain": [
              "<Figure size 576x360 with 1 Axes>"
            ],
            "image/png": "[encoded data removed]"
          },
          "metadata": {
            "needs_background": "light"
          }
        },
        {
          "output_type": "stream",
          "name": "stdout",
          "text": [
            "313/313 [==============================] - 1s 2ms/step\n",
            "Validation ACC: 0.9914\n",
            "Validation Balanced_ACC: 0.9903\n",
            "Validation MI: 2.2417\n",
            "Validation Normalized MI: 0.9743\n",
            "Validation Adjusted MI: 0.9743\n",
            "Validation aUc: 0.9984\n",
            "iteration: 1\n"
          ]
        },
        {
          "output_type": "display_data",
          "data": {
            "text/plain": [
              "<Figure size 576x360 with 1 Axes>"
            ],
            "image/png": "[encoded data removed]"
          },
          "metadata": {
            "needs_background": "light"
          }
        },
        {
          "output_type": "stream",
          "name": "stdout",
          "text": [
            "313/313 [==============================] - 1s 2ms/step\n",
            "Validation ACC: 0.9906\n",
            "Validation Balanced_ACC: 0.9894\n",
            "Validation MI: 2.2368\n",
            "Validation Normalized MI: 0.9722\n",
            "Validation Adjusted MI: 0.9721\n",
            "Validation aUc: 0.9971\n",
            "iteration: 2\n"
          ]
        },
        {
          "output_type": "display_data",
          "data": {
            "text/plain": [
              "<Figure size 576x360 with 1 Axes>"
            ],
            "image/png": "[encoded data removed]"
          },
          "metadata": {
            "needs_background": "light"
          }
        },
        {
          "output_type": "stream",
          "name": "stdout",
          "text": [
            "313/313 [==============================] - 1s 3ms/step\n",
            "Validation ACC: 0.9908\n",
            "Validation Balanced_ACC: 0.9897\n",
            "Validation MI: 2.2368\n",
            "Validation Normalized MI: 0.9722\n",
            "Validation Adjusted MI: 0.9721\n",
            "Validation aUc: 0.9966\n",
            "iteration: 3\n"
          ]
        },
        {
          "output_type": "display_data",
          "data": {
            "text/plain": [
              "<Figure size 576x360 with 1 Axes>"
            ],
            "image/png": "[encoded data removed]"
          },
          "metadata": {
            "needs_background": "light"
          }
        },
        {
          "output_type": "stream",
          "name": "stdout",
          "text": [
            "313/313 [==============================] - 1s 2ms/step\n",
            "Validation ACC: 0.9906\n",
            "Validation Balanced_ACC: 0.9894\n",
            "Validation MI: 2.2372\n",
            "Validation Normalized MI: 0.9723\n",
            "Validation Adjusted MI: 0.9723\n",
            "Validation aUc: 0.9977\n",
            "iteration: 4\n"
          ]
        },
        {
          "output_type": "display_data",
          "data": {
            "text/plain": [
              "<Figure size 576x360 with 1 Axes>"
            ],
            "image/png": "[encoded data removed]"
          },
          "metadata": {
            "needs_background": "light"
          }
        },
        {
          "output_type": "stream",
          "name": "stdout",
          "text": [
            "313/313 [==============================] - 1s 2ms/step\n",
            "Validation ACC: 0.9905\n",
            "Validation Balanced_ACC: 0.9893\n",
            "Validation MI: 2.2365\n",
            "Validation Normalized MI: 0.9721\n",
            "Validation Adjusted MI: 0.9720\n",
            "Validation aUc: 0.9970\n",
            "iteration: 5\n"
          ]
        },
        {
          "output_type": "display_data",
          "data": {
            "text/plain": [
              "<Figure size 576x360 with 1 Axes>"
            ],
            "image/png": "[encoded data removed]"
          },
          "metadata": {
            "needs_background": "light"
          }
        },
        {
          "output_type": "stream",
          "name": "stdout",
          "text": [
            "313/313 [==============================] - 1s 2ms/step\n",
            "Validation ACC: 0.9907\n",
            "Validation Balanced_ACC: 0.9895\n",
            "Validation MI: 2.2366\n",
            "Validation Normalized MI: 0.9721\n",
            "Validation Adjusted MI: 0.9720\n",
            "Validation aUc: 0.9960\n",
            "iteration: 6\n"
          ]
        },
        {
          "output_type": "display_data",
          "data": {
            "text/plain": [
              "<Figure size 576x360 with 1 Axes>"
            ],
            "image/png": "[encoded data removed]"
          },
          "metadata": {
            "needs_background": "light"
          }
        },
        {
          "output_type": "stream",
          "name": "stdout",
          "text": [
            "313/313 [==============================] - 1s 2ms/step\n",
            "Validation ACC: 0.9908\n",
            "Validation Balanced_ACC: 0.9896\n",
            "Validation MI: 2.2386\n",
            "Validation Normalized MI: 0.9730\n",
            "Validation Adjusted MI: 0.9729\n",
            "Validation aUc: 0.9976\n",
            "iteration: 7\n"
          ]
        },
        {
          "output_type": "display_data",
          "data": {
            "text/plain": [
              "<Figure size 576x360 with 1 Axes>"
            ],
            "image/png": "[encoded data removed]"
          },
          "metadata": {
            "needs_background": "light"
          }
        },
        {
          "output_type": "stream",
          "name": "stdout",
          "text": [
            "313/313 [==============================] - 1s 2ms/step\n",
            "Validation ACC: 0.9919\n",
            "Validation Balanced_ACC: 0.9909\n",
            "Validation MI: 2.2427\n",
            "Validation Normalized MI: 0.9747\n",
            "Validation Adjusted MI: 0.9747\n",
            "Validation aUc: 0.9970\n",
            "iteration: 8\n"
          ]
        },
        {
          "output_type": "display_data",
          "data": {
            "text/plain": [
              "<Figure size 576x360 with 1 Axes>"
            ],
            "image/png": "[encoded data removed]"
          },
          "metadata": {
            "needs_background": "light"
          }
        },
        {
          "output_type": "stream",
          "name": "stdout",
          "text": [
            "313/313 [==============================] - 1s 2ms/step\n",
            "Validation ACC: 0.9917\n",
            "Validation Balanced_ACC: 0.9907\n",
            "Validation MI: 2.2427\n",
            "Validation Normalized MI: 0.9747\n",
            "Validation Adjusted MI: 0.9747\n",
            "Validation aUc: 0.9968\n",
            "iteration: 9\n"
          ]
        },
        {
          "output_type": "display_data",
          "data": {
            "text/plain": [
              "<Figure size 576x360 with 1 Axes>"
            ],
            "image/png": "[encoded data removed]"
          },
          "metadata": {
            "needs_background": "light"
          }
        },
        {
          "output_type": "stream",
          "name": "stdout",
          "text": [
            "313/313 [==============================] - 1s 2ms/step\n",
            "Validation ACC: 0.9904\n",
            "Validation Balanced_ACC: 0.9892\n",
            "Validation MI: 2.2359\n",
            "Validation Normalized MI: 0.9718\n",
            "Validation Adjusted MI: 0.9717\n",
            "Validation aUc: 0.9973\n"
          ]
        }
      ],
      "source": [
        "from sklearn.metrics import classification_report, balanced_accuracy_score\n",
        "from sklearn.metrics import normalized_mutual_info_score, mutual_info_score, adjusted_mutual_info_score\n",
        "l1 =0.0001\n",
        "NUM_RUNS =10\n",
        "ACC = np.zeros(NUM_RUNS)\n",
        "AUC = np.zeros(NUM_RUNS)\n",
        "MI = np.zeros(NUM_RUNS)\n",
        "NMI = np.zeros(NUM_RUNS)\n",
        "AMI = np.zeros(NUM_RUNS)\n",
        "BACC = np.zeros(NUM_RUNS)\n",
        " \n",
        "for i in range(NUM_RUNS): #10\n",
        "    print(\"iteration: \" + str(i))\n",
        "   \n",
        "    MA = Keras_MA_RCDNN(epochs=30,batch_size=64,R=5, K=len(np.unique(Y_true_train)), dropout=0.5, learning_rate=0.0001,optimizer='Adam', \n",
        "                l1_param=l1,  validation_split=0.30, verbose=0, q=0.01)\n",
        "\n",
        "   \n",
        "    MA.fit(X_train, Y_train)\n",
        "    MA.plot_history()\n",
        "  \n",
        "    #Accuracy\n",
        "    pred_2 = MA.predict(X_test)\n",
        " \n",
        "    report = classification_report( pred_2[:,Y_train.shape[1]:].argmax(axis=1),Y_true_test.ravel(),output_dict=True)\n",
        "    ACC[i] = report['accuracy']\n",
        "    print(\"Validation ACC: %.4f\" % (float(ACC[i])))\n",
        "\n",
        "\n",
        "    # balanced. Accurcy\n",
        "    BACC[i] = balanced_accuracy_score(Y_true_test.squeeze(), pred_2[:,Y_train.shape[1]:].argmax(axis=1).squeeze(), adjusted=True)\n",
        "    print(\"Validation Balanced_ACC: %.4f\" % (float(BACC[i])))\n",
        "    \n",
        "    #MI\n",
        "    \n",
        "    MI[i] = mutual_info_score(Y_true_test.squeeze(), pred_2[:,Y_train.shape[1]:].argmax(axis=1).squeeze())\n",
        "    print(\"Validation MI: %.4f\" % (float(MI[i]),))\n",
        "    NMI[i] = normalized_mutual_info_score(Y_true_test.squeeze(), pred_2[:,Y_train.shape[1]:].argmax(axis=1).squeeze())\n",
        "    print(\"Validation Normalized MI: %.4f\" % (float(NMI[i]),))\n",
        "    AMI[i]= adjusted_mutual_info_score(Y_true_test.squeeze(), pred_2[:,Y_train.shape[1]:].argmax(axis=1).squeeze())\n",
        "    print(\"Validation Adjusted MI: %.4f\" % (float(AMI[i]),))\n",
        "\n",
        "\n",
        "    #AUC\n",
        "    val_AUC_metric = tf.keras.metrics.AUC( from_logits = True)  \n",
        "   # val_logits =MA.predict(X_test) # model(X_test, training=False)\n",
        "    # tf.print(y_batch_val)\n",
        "    val_AUC_metric.update_state(Y_true_test, pred_2[:,Y_train.shape[1]:].argmax(axis=1).astype('float'))\n",
        "\n",
        "    val_AUC = val_AUC_metric.result()\n",
        "    val_AUC_metric.reset_states()\n",
        "    val_AUC = val_AUC.numpy()\n",
        "    print(\"Validation aUc: %.4f\" % (float(val_AUC),))\n",
        "    AUC[i] = val_AUC\n",
        "  "
      ],
      "id": "2251089a"
    },
    {
      "cell_type": "code",
      "execution_count": 71,
      "metadata": {
        "colab": {
          "base_uri": "https://localhost:8080/"
        },
        "id": "a7972f6e",
        "outputId": "c8aa1e6b-804a-430a-daea-a14de1e2512f"
      },
      "outputs": [
        {
          "output_type": "execute_result",
          "data": {
            "text/plain": [
              "array([0.9914, 0.9906, 0.9908, 0.9906, 0.9905, 0.9907, 0.9908, 0.9919,\n",
              "       0.9917, 0.9904])"
            ]
          },
          "metadata": {},
          "execution_count": 71
        }
      ],
      "source": [
        "\n",
        "ACC"
      ],
      "id": "a7972f6e"
    },
    {
      "cell_type": "code",
      "execution_count": 72,
      "metadata": {
        "colab": {
          "base_uri": "https://localhost:8080/"
        },
        "id": "bAgG_knDzvlM",
        "outputId": "c9075346-4a44-4077-9b9d-bbd2001d9ec8"
      },
      "outputs": [
        {
          "output_type": "execute_result",
          "data": {
            "text/plain": [
              "array([0.99842823, 0.99713171, 0.99659055, 0.99768531, 0.99698353,\n",
              "       0.9959591 , 0.99757612, 0.99700266, 0.99684209, 0.99729806])"
            ]
          },
          "metadata": {},
          "execution_count": 72
        }
      ],
      "source": [
        "\n",
        "AUC"
      ],
      "id": "bAgG_knDzvlM"
    },
    {
      "cell_type": "code",
      "execution_count": 73,
      "metadata": {
        "colab": {
          "base_uri": "https://localhost:8080/"
        },
        "id": "8UJC9pb7YUyy",
        "outputId": "4d86f739-9b43-4304-e698-4246436749b1"
      },
      "outputs": [
        {
          "output_type": "stream",
          "name": "stdout",
          "text": [
            "Average Accuracy:  99.09\n",
            "Average std:  0.05\n",
            "==============================================\n",
            "Average AUC:  99.71\n",
            "Average AUC std:  0.06\n",
            "==============================================\n",
            "Average Balanced Accuracy:  98.98\n",
            "Average std:  0.06\n",
            "==============================================\n",
            "Average MI:  223.85000000000002\n",
            "Average std:  0.26\n",
            "==============================================\n",
            "Average Normalized MI:  97.28999999999999\n",
            "Average std:  0.11\n",
            "==============================================\n",
            "Average Ajdusted MI:  97.28999999999999\n",
            "Average std:  0.11\n"
          ]
        }
      ],
      "source": [
        "print('Average Accuracy: ', np.round( ACC.mean(),4)*100) \n",
        "print('Average std: ',np.round(np.std( ACC),4)*100)\n",
        "print('==============================================')\n",
        "print('Average AUC: ', np.round( AUC.mean(),4)*100) \n",
        "print('Average AUC std: ',np.round(np.std( AUC),4)*100)\n",
        "print('==============================================')\n",
        "print('Average Balanced Accuracy: ', np.round( BACC.mean(),4)*100) \n",
        "print('Average std: ',np.round(np.std( BACC),4)*100)\n",
        "print('==============================================')\n",
        "print('Average MI: ', np.round( MI.mean(),4)*100) \n",
        "print('Average std: ',np.round(np.std(MI),4)*100)\n",
        "print('==============================================')\n",
        "print('Average Normalized MI: ', np.round( NMI.mean(),4)*100) \n",
        "print('Average std: ',np.round(np.std(NMI),4)*100)\n",
        "print('==============================================')\n",
        "print('Average Ajdusted MI: ', np.round( AMI.mean(),4)*100) \n",
        "print('Average std: ',np.round(np.std(AMI),4)*100)"
      ],
      "id": "8UJC9pb7YUyy"
    },
    {
      "cell_type": "code",
      "source": [
        "import pickle\n",
        "\n",
        "# create the dictionary with 6 scalar variables\n",
        "Metrics = {\n",
        "    'Accuracy': np.round( ACC.mean(),4)*100,\n",
        "    'Accuracy_std': np.round(np.std( ACC),4)*100,\n",
        "    'AUC': np.round( AUC.mean(),4)*100,\n",
        "    'AUC_std': np.round(np.std( AUC),4)*100,\n",
        "    'Balanced Accuracy': np.round( BACC.mean(),4)*100,\n",
        "    'Balanced Accuracy_std':  np.round(np.std(BACC),4)*100,\n",
        "    'MI': np.round( MI.mean(),4)*100,\n",
        "    'MI_std': np.round(np.std(MI),4)*100,\n",
        "    'Normalized MI': np.round( NMI.mean(),4)*100,\n",
        "    'Normalized MI_std': np.round(np.std(NMI),4)*100,\n",
        "    'Adjusted MI': np.round( AMI.mean(),4)*100,\n",
        "    'Adjusted MI_std': np.round(np.std(NMI),4)*100,\n",
        "}\n",
        "\n",
        "# save the dictionary to a file using pickle\n",
        "with open('data.pickle', 'wb') as handle:\n",
        "    pickle.dump(Metrics, handle, protocol=pickle.HIGHEST_PROTOCOL)\n"
      ],
      "metadata": {
        "id": "ct8oqP7Hoc5g"
      },
      "id": "ct8oqP7Hoc5g",
      "execution_count": 74,
      "outputs": []
    }
  ],
  "metadata": {
    "accelerator": "GPU",
    "colab": {
      "provenance": [],
      "include_colab_link": true
    },
    "gpuClass": "standard",
    "kernelspec": {
      "display_name": "Python 3",
      "language": "python",
      "name": "python3"
    },
    "language_info": {
      "codemirror_mode": {
        "name": "ipython",
        "version": 3
      },
      "file_extension": ".py",
      "mimetype": "text/x-python",
      "name": "python",
      "nbconvert_exporter": "python",
      "pygments_lexer": "ipython3",
      "version": "3.7.12"
    },
    "papermill": {
      "default_parameters": {},
      "duration": 3097.445153,
      "end_time": "2022-10-21T10:31:41.407966",
      "environment_variables": {},
      "exception": null,
      "input_path": "__notebook__.ipynb",
      "output_path": "__notebook__.ipynb",
      "parameters": {},
      "start_time": "2022-10-21T09:40:03.962813",
      "version": "2.3.4"
    }
  },
  "nbformat": 4,
  "nbformat_minor": 5
}