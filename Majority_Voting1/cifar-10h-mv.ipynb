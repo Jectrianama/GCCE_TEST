{
 "cells": [
  {
   "cell_type": "markdown",
   "id": "255a4f65",
   "metadata": {
    "id": "9rK94t33nwDC",
    "papermill": {
     "duration": 0.006957,
     "end_time": "2023-02-15T06:55:29.000620",
     "exception": false,
     "start_time": "2023-02-15T06:55:28.993663",
     "status": "completed"
    },
    "tags": []
   },
   "source": [
    "## Imports"
   ]
  },
  {
   "cell_type": "code",
   "execution_count": 1,
   "id": "8d032a50",
   "metadata": {
    "execution": {
     "iopub.execute_input": "2023-02-15T06:55:29.014209Z",
     "iopub.status.busy": "2023-02-15T06:55:29.013113Z",
     "iopub.status.idle": "2023-02-15T06:55:36.840224Z",
     "shell.execute_reply": "2023-02-15T06:55:36.839259Z"
    },
    "id": "zSyMHuCVys-O",
    "papermill": {
     "duration": 7.836299,
     "end_time": "2023-02-15T06:55:36.842738",
     "exception": false,
     "start_time": "2023-02-15T06:55:29.006439",
     "status": "completed"
    },
    "tags": []
   },
   "outputs": [],
   "source": [
    "import tensorflow_datasets as tfds\n",
    "import tensorflow as tf\n",
    "\n",
    "import keras\n",
    "from keras.models import Sequential,Model\n",
    "from keras.layers import Dense,Conv2D,Flatten,MaxPooling2D,GlobalAveragePooling2D\n",
    "from keras.utils.vis_utils import plot_model\n",
    "from tensorflow.keras import regularizers\n",
    "\n",
    "import numpy as np\n",
    "import matplotlib.pyplot as plt\n",
    "import scipy as sp\n",
    "import cv2\n",
    "import os\n",
    "import time\n",
    "import sys\n",
    "\n",
    "import tensorflow_datasets as tfds\n",
    "import tensorflow as tf\n",
    "\n",
    "import keras\n",
    "from keras.models import Sequential,Model\n",
    "from keras.layers import Dense,Conv2D,Flatten,MaxPooling2D,GlobalAveragePooling2D\n",
    "from keras.utils.vis_utils import plot_model\n",
    "import pandas as pd\n",
    "import pickle"
   ]
  },
  {
   "cell_type": "code",
   "execution_count": 2,
   "id": "663f26f3",
   "metadata": {
    "execution": {
     "iopub.execute_input": "2023-02-15T06:55:36.856117Z",
     "iopub.status.busy": "2023-02-15T06:55:36.855602Z",
     "iopub.status.idle": "2023-02-15T06:55:37.743907Z",
     "shell.execute_reply": "2023-02-15T06:55:37.742913Z"
    },
    "id": "-E1MJt8cxlwg",
    "outputId": "ea43c1c9-075f-44de-d2d8-e135799b6630",
    "papermill": {
     "duration": 0.897862,
     "end_time": "2023-02-15T06:55:37.746825",
     "exception": false,
     "start_time": "2023-02-15T06:55:36.848963",
     "status": "completed"
    },
    "tags": []
   },
   "outputs": [],
   "source": [
    "from sklearn.metrics import classification_report, accuracy_score, balanced_accuracy_score, roc_auc_score, mutual_info_score, normalized_mutual_info_score, adjusted_mutual_info_score\n",
    "import tensorflow as tf\n",
    "import numpy as np\n",
    "from scipy.io import loadmat\n",
    "from sklearn.preprocessing import StandardScaler\n",
    "from scipy.io import savemat\n",
    "from sklearn.metrics import roc_auc_score\n",
    "from sklearn.preprocessing import LabelBinarizer\n",
    "from sklearn.preprocessing import OneHotEncoder\n",
    "from scipy.stats import mode \n",
    "import pandas as pd\n",
    "import matplotlib.pyplot as plt \n",
    "from sklearn.metrics import roc_auc_score\n",
    "from sklearn.decomposition import PCA\n",
    "\n",
    "def ook(t):\n",
    "  lb = LabelBinarizer()\n",
    "  y_ook = lb.fit_transform(t)  \n",
    "\n",
    "  if len(np.unique(t))==2:\n",
    "    y_ook = np.concatenate((1-y_ook.astype(bool), y_ook), axis = 1) \n",
    "\n",
    "  return y_ook\n",
    "\n",
    "\n",
    "def scheduler1(step = 10, ratio = 1.2):\n",
    "  def scheduler(epoch, lr):\n",
    "    if epoch % step == 0 and epoch>1:\n",
    "      return lr/ratio\n",
    "    else:\n",
    "      return lr\n",
    "  return scheduler\n",
    "\n",
    "\n",
    "\n",
    "\n",
    "def evaluation_metrics(y_true, y_pred, print_result=True):\n",
    "    acc = 0\n",
    "    auc = 0\n",
    "    auc_sk = 0\n",
    "    #mi = 0\n",
    "    nmi = 0\n",
    "    #ami = 0\n",
    "    bacc = 0\n",
    "    \n",
    "    # Accuracy\n",
    "    #report = classification_report(y_pred.argmax(axis=1), y_true.ravel(), output_dict=True)\n",
    "    acc = accuracy_score( y_true.ravel(), y_pred.argmax(axis=1))  #report['accuracy']\n",
    "    \n",
    "    # Balanced accuracy\n",
    "    bacc = balanced_accuracy_score(y_true.squeeze(), y_pred.argmax(axis=1).squeeze(), adjusted=True)\n",
    "    \n",
    "   # # Mutual Information\n",
    "   # mi = mutual_info_score(y_true.squeeze(), y_pred.argmax(axis=1).squeeze())\n",
    "    \n",
    "    # Normalized Mutual Information\n",
    "    nmi = normalized_mutual_info_score(y_true.squeeze(), y_pred.argmax(axis=1).squeeze())\n",
    "    \n",
    "    # Adjusted Mutual Information\n",
    "    #ami = adjusted_mutual_info_score(y_true.squeeze(), y_pred.argmax(axis=1).squeeze())\n",
    "    \n",
    "    # AUC (Tensorflow)\n",
    "    auc_metric = tf.keras.metrics.AUC(from_logits=True)\n",
    "    auc_metric.update_state(y_true, y_pred.argmax(axis=1).astype('float'))\n",
    "    auc = auc_metric.result().numpy()\n",
    "    auc_metric.reset_states()\n",
    "    \n",
    "    # AUC (scikit-learn)\n",
    "    auc_sk = roc_auc_score(ook(y_true), y_pred)\n",
    "    \n",
    "    if print_result:\n",
    "        print(\"Accuracy: {:.4f}\".format(acc))\n",
    "        print(\"Balanced Accuracy: {:.4f}\".format(bacc))\n",
    "        print(\"Mutual Information: {:.4f}\".format(mi))\n",
    "        print(\"Normalized Mutual Information: {:.4f}\".format(nmi))\n",
    "        print(\"Adjusted Mutual Information: {:.4f}\".format(ami))\n",
    "        print(\"AUC (Tensorflow): {:.4f}\".format(auc))\n",
    "        print(\"AUC (scikit-learn): {:.4f}\".format(auc_sk))\n",
    "    \n",
    "    return acc, auc, auc_sk, nmi, bacc   # mi, , ami\n"
   ]
  },
  {
   "cell_type": "markdown",
   "id": "f6676520",
   "metadata": {
    "id": "Gw6K2Uey06kh",
    "papermill": {
     "duration": 0.005553,
     "end_time": "2023-02-15T06:55:37.758270",
     "exception": false,
     "start_time": "2023-02-15T06:55:37.752717",
     "status": "completed"
    },
    "tags": []
   },
   "source": [
    "# Multiple annotators model"
   ]
  },
  {
   "cell_type": "code",
   "execution_count": 3,
   "id": "6af068b9",
   "metadata": {
    "execution": {
     "iopub.execute_input": "2023-02-15T06:55:37.771205Z",
     "iopub.status.busy": "2023-02-15T06:55:37.770575Z",
     "iopub.status.idle": "2023-02-15T06:55:42.777043Z",
     "shell.execute_reply": "2023-02-15T06:55:42.775867Z"
    },
    "id": "xam4REp209Sd",
    "papermill": {
     "duration": 5.016127,
     "end_time": "2023-02-15T06:55:42.779961",
     "exception": false,
     "start_time": "2023-02-15T06:55:37.763834",
     "status": "completed"
    },
    "tags": []
   },
   "outputs": [
    {
     "name": "stdout",
     "output_type": "stream",
     "text": [
      "/bin/bash: /opt/conda/lib/libtinfo.so.6: no version information available (required by /bin/bash)\r\n",
      "--2023-02-15 06:55:38--  https://docs.google.com/uc?export=download&confirm=t&id=1zIcnmybob9XUBExCXzhCvqKkVgg4Qw5L\r\n",
      "Resolving docs.google.com (docs.google.com)... 74.125.196.113, 74.125.196.102, 74.125.196.100, ...\r\n",
      "Connecting to docs.google.com (docs.google.com)|74.125.196.113|:443... connected.\r\n",
      "HTTP request sent, awaiting response... 303 See Other\r\n",
      "Location: https://doc-08-90-docs.googleusercontent.com/docs/securesc/ha0ro937gcuc7l7deffksulhg5h7mbp1/mlgfcs18lke32qp6kuqr6vnc2h12e8if/1676444100000/07591141114418430227/*/1zIcnmybob9XUBExCXzhCvqKkVgg4Qw5L?e=download&uuid=b623db64-40fb-4bed-91e0-9f38a060e8cd [following]\r\n",
      "Warning: wildcards not supported in HTTP.\r\n",
      "--2023-02-15 06:55:39--  https://doc-08-90-docs.googleusercontent.com/docs/securesc/ha0ro937gcuc7l7deffksulhg5h7mbp1/mlgfcs18lke32qp6kuqr6vnc2h12e8if/1676444100000/07591141114418430227/*/1zIcnmybob9XUBExCXzhCvqKkVgg4Qw5L?e=download&uuid=b623db64-40fb-4bed-91e0-9f38a060e8cd\r\n",
      "Resolving doc-08-90-docs.googleusercontent.com (doc-08-90-docs.googleusercontent.com)... 74.125.31.132, 2607:f8b0:400c:c02::84\r\n",
      "Connecting to doc-08-90-docs.googleusercontent.com (doc-08-90-docs.googleusercontent.com)|74.125.31.132|:443... connected.\r\n",
      "HTTP request sent, awaiting response... 200 OK\r\n",
      "Length: 68469211 (65M) [application/zip]\r\n",
      "Saving to: ‘Cifar-10H.zip’\r\n",
      "\r\n",
      "Cifar-10H.zip       100%[===================>]  65.30M   241MB/s    in 0.3s    \r\n",
      "\r\n",
      "2023-02-15 06:55:39 (241 MB/s) - ‘Cifar-10H.zip’ saved [68469211/68469211]\r\n",
      "\r\n",
      "/bin/bash: /opt/conda/lib/libtinfo.so.6: no version information available (required by /bin/bash)\r\n",
      "Archive:  Cifar-10H.zip\r\n",
      "  inflating: Cifar-10H/DataProcessing.ipynb  \r\n",
      "  inflating: Cifar-10H/batches.meta  \r\n",
      "  inflating: Cifar-10H/Answers_Processed.csv  \r\n",
      "  inflating: Cifar-10H/data_batch_1  \r\n",
      "  inflating: Cifar-10H/cifar10h-raw.csv  \r\n",
      "  inflating: Cifar-10H/test_batch    \r\n",
      "/bin/bash: /opt/conda/lib/libtinfo.so.6: no version information available (required by /bin/bash)\r\n",
      "Cifar-10H  Cifar-10H.zip  __notebook__.ipynb\r\n"
     ]
    }
   ],
   "source": [
    "#cargar datos desde drive acceso libre \n",
    "FILEID = \"1zIcnmybob9XUBExCXzhCvqKkVgg4Qw5L\"\n",
    "#https://drive.google.com/file/d/1SQnWXGROG2Xexs5vn3twuv7SqiWG5njW/view?usp=sharing\n",
    "!wget --load-cookies /tmp/cookies.txt \"https://docs.google.com/uc?export=download&confirm=$(wget --quiet --save-cookies /tmp/cookies.txt --keep-session-cookies --no-check-certificate 'https://docs.google.com/uc?export=download&id='$FILEID -O- | sed -rn 's/.*confirm=([0-9A-Za-z_]+).*/\\1\\n/p')&id=\"$FILEID -O Cifar-10H.zip && rm -rf /tmp/cookies.txt\n",
    "!unzip -o Cifar-10H.zip\n",
    "!dir"
   ]
  },
  {
   "cell_type": "code",
   "execution_count": 4,
   "id": "b89fb95b",
   "metadata": {
    "execution": {
     "iopub.execute_input": "2023-02-15T06:55:42.796092Z",
     "iopub.status.busy": "2023-02-15T06:55:42.795766Z",
     "iopub.status.idle": "2023-02-15T06:55:42.800492Z",
     "shell.execute_reply": "2023-02-15T06:55:42.799531Z"
    },
    "id": "D_S0EJ3mFdfK",
    "outputId": "9ed3c2c7-50b4-4445-a01e-c9a3d780c403",
    "papermill": {
     "duration": 0.015165,
     "end_time": "2023-02-15T06:55:42.802418",
     "exception": false,
     "start_time": "2023-02-15T06:55:42.787253",
     "status": "completed"
    },
    "tags": []
   },
   "outputs": [],
   "source": [
    "Data_dir = '/kaggle/working/Cifar-10H/test_batch'\n",
    "labels_dir = '/kaggle/working/Cifar-10H/Answers_Processed.csv'"
   ]
  },
  {
   "cell_type": "code",
   "execution_count": 5,
   "id": "4be2683a",
   "metadata": {
    "execution": {
     "iopub.execute_input": "2023-02-15T06:55:42.817318Z",
     "iopub.status.busy": "2023-02-15T06:55:42.816519Z",
     "iopub.status.idle": "2023-02-15T06:55:42.821584Z",
     "shell.execute_reply": "2023-02-15T06:55:42.820741Z"
    },
    "papermill": {
     "duration": 0.014399,
     "end_time": "2023-02-15T06:55:42.823567",
     "exception": false,
     "start_time": "2023-02-15T06:55:42.809168",
     "status": "completed"
    },
    "tags": []
   },
   "outputs": [],
   "source": [
    "def unpickle(file):\n",
    "    with open(file, 'rb') as fo:\n",
    "        dict = pickle.load(fo, encoding='bytes')\n",
    "    return dict"
   ]
  },
  {
   "cell_type": "code",
   "execution_count": 6,
   "id": "ebffed2b",
   "metadata": {
    "execution": {
     "iopub.execute_input": "2023-02-15T06:55:42.838490Z",
     "iopub.status.busy": "2023-02-15T06:55:42.837689Z",
     "iopub.status.idle": "2023-02-15T06:55:42.843553Z",
     "shell.execute_reply": "2023-02-15T06:55:42.842733Z"
    },
    "papermill": {
     "duration": 0.014936,
     "end_time": "2023-02-15T06:55:42.845456",
     "exception": false,
     "start_time": "2023-02-15T06:55:42.830520",
     "status": "completed"
    },
    "tags": []
   },
   "outputs": [],
   "source": [
    "def arr_to_im(X):\n",
    "  N = X.shape[0]\n",
    "  X_tr = np.zeros((N,32,32,3))\n",
    "  for i,x in enumerate(X):\n",
    "    aux = x.reshape(3,32,32)/255\n",
    "    aux = aux.transpose(1,2,0)\n",
    "    X_tr[i,:] = cv2.resize(aux, (32,32))\n",
    "  return X_tr"
   ]
  },
  {
   "cell_type": "code",
   "execution_count": 7,
   "id": "060cf66b",
   "metadata": {
    "execution": {
     "iopub.execute_input": "2023-02-15T06:55:42.860152Z",
     "iopub.status.busy": "2023-02-15T06:55:42.859384Z",
     "iopub.status.idle": "2023-02-15T06:55:43.093851Z",
     "shell.execute_reply": "2023-02-15T06:55:43.092865Z"
    },
    "id": "opk5MXl4IwjC",
    "papermill": {
     "duration": 0.244197,
     "end_time": "2023-02-15T06:55:43.096352",
     "exception": false,
     "start_time": "2023-02-15T06:55:42.852155",
     "status": "completed"
    },
    "tags": []
   },
   "outputs": [],
   "source": [
    "X = unpickle(Data_dir)[b'data']\n",
    "Label = pd.read_csv(labels_dir, header=None)\n",
    "Label = Label.to_numpy()\n",
    "Y = Label[:,:-1]\n",
    "y = Label[:,-1][:,np.newaxis]\n",
    "N, R = Y.shape\n",
    "K = len(np.unique(y))\n",
    "# y = Label[:,np.newaxis]"
   ]
  },
  {
   "cell_type": "code",
   "execution_count": 8,
   "id": "97902260",
   "metadata": {
    "execution": {
     "iopub.execute_input": "2023-02-15T06:55:43.112265Z",
     "iopub.status.busy": "2023-02-15T06:55:43.111965Z",
     "iopub.status.idle": "2023-02-15T06:55:43.477076Z",
     "shell.execute_reply": "2023-02-15T06:55:43.476030Z"
    },
    "id": "-BydcVOQxcVh",
    "outputId": "8c1b4ed2-7c43-4675-f055-f9e4e3f5b3dd",
    "papermill": {
     "duration": 0.376579,
     "end_time": "2023-02-15T06:55:43.479900",
     "exception": false,
     "start_time": "2023-02-15T06:55:43.103321",
     "status": "completed"
    },
    "tags": []
   },
   "outputs": [],
   "source": [
    "# Se eliminan las muestras que no fueron etiquetadas por ningun anotador\n",
    "idx_ = np.sum(Y,axis=1) != R*(-999)\n",
    "X = X[idx_,:]\n",
    "Y = Y[idx_,:]\n",
    "N, R = Y.shape\n",
    "y = y[idx_,:]\n",
    "X = arr_to_im(X)"
   ]
  },
  {
   "cell_type": "markdown",
   "id": "2e396c6d",
   "metadata": {
    "papermill": {
     "duration": 0.006415,
     "end_time": "2023-02-15T06:55:43.493284",
     "exception": false,
     "start_time": "2023-02-15T06:55:43.486869",
     "status": "completed"
    },
    "tags": []
   },
   "source": [
    "## Test data"
   ]
  },
  {
   "cell_type": "code",
   "execution_count": 9,
   "id": "4a7e69e7",
   "metadata": {
    "execution": {
     "iopub.execute_input": "2023-02-15T06:55:43.507642Z",
     "iopub.status.busy": "2023-02-15T06:55:43.507342Z",
     "iopub.status.idle": "2023-02-15T06:55:43.511780Z",
     "shell.execute_reply": "2023-02-15T06:55:43.510845Z"
    },
    "papermill": {
     "duration": 0.014159,
     "end_time": "2023-02-15T06:55:43.513896",
     "exception": false,
     "start_time": "2023-02-15T06:55:43.499737",
     "status": "completed"
    },
    "tags": []
   },
   "outputs": [],
   "source": [
    "Test_dir = '/kaggle/working/Cifar-10H/data_batch_1'"
   ]
  },
  {
   "cell_type": "code",
   "execution_count": 10,
   "id": "d5aa72e0",
   "metadata": {
    "execution": {
     "iopub.execute_input": "2023-02-15T06:55:43.528365Z",
     "iopub.status.busy": "2023-02-15T06:55:43.527575Z",
     "iopub.status.idle": "2023-02-15T06:55:43.988132Z",
     "shell.execute_reply": "2023-02-15T06:55:43.987034Z"
    },
    "papermill": {
     "duration": 0.470502,
     "end_time": "2023-02-15T06:55:43.990656",
     "exception": false,
     "start_time": "2023-02-15T06:55:43.520154",
     "status": "completed"
    },
    "tags": []
   },
   "outputs": [],
   "source": [
    "X_te = unpickle(Test_dir)[b'data']\n",
    "X_te = arr_to_im(X_te)\n",
    "y_te = np.array(unpickle(Test_dir)[b'labels'])[:,np.newaxis]"
   ]
  },
  {
   "cell_type": "code",
   "execution_count": 11,
   "id": "87cbcd67",
   "metadata": {
    "execution": {
     "iopub.execute_input": "2023-02-15T06:55:44.006666Z",
     "iopub.status.busy": "2023-02-15T06:55:44.006267Z",
     "iopub.status.idle": "2023-02-15T06:55:46.911061Z",
     "shell.execute_reply": "2023-02-15T06:55:46.910105Z"
    },
    "papermill": {
     "duration": 2.915089,
     "end_time": "2023-02-15T06:55:46.913721",
     "exception": false,
     "start_time": "2023-02-15T06:55:43.998632",
     "status": "completed"
    },
    "tags": []
   },
   "outputs": [],
   "source": [
    "train_batchesMA = tf.data.Dataset.from_tensor_slices((X,y, Y))\n",
    "train_batchesMA = train_batchesMA.shuffle(1024).batch(64)"
   ]
  },
  {
   "cell_type": "code",
   "execution_count": 12,
   "id": "38350d8e",
   "metadata": {
    "execution": {
     "iopub.execute_input": "2023-02-15T06:55:46.928713Z",
     "iopub.status.busy": "2023-02-15T06:55:46.928399Z",
     "iopub.status.idle": "2023-02-15T06:55:48.187643Z",
     "shell.execute_reply": "2023-02-15T06:55:48.186667Z"
    },
    "papermill": {
     "duration": 1.269532,
     "end_time": "2023-02-15T06:55:48.190028",
     "exception": false,
     "start_time": "2023-02-15T06:55:46.920496",
     "status": "completed"
    },
    "tags": []
   },
   "outputs": [],
   "source": [
    "# -*- coding: utf-8 -*-\n",
    "import tensorflow as tf\n",
    "import matplotlib.pyplot as plt\n",
    "#from tensorflow.keras.wrappers.scikit_learn import KerasClassifier\n",
    "import tensorflow_probability as tfp\n",
    "from tensorflow.keras import regularizers\n",
    "from sklearn.base import  BaseEstimator, TransformerMixin, ClassifierMixin\n",
    "from sklearn.model_selection import train_test_split\n",
    "tf.keras.backend.clear_session()\n",
    "#tf.random.set_seed(42)\n",
    "import types\n",
    "import tempfile\n",
    "class Keras_MA_RCDNN(): #transformer no va\n",
    " #Constructor __init__. Special method: identified by a double underscore at either side of their name\n",
    " #work in the background\n",
    " # initialize data members to the object. lets the class initialize the object’s attributes and serves no other purpose.\n",
    "    def __init__(self,epochs=100,batch_size=30,R=5, K=2, dropout=0.5, learning_rate=1e-3,optimizer='Adam', \n",
    "                  l1_param=0, validation_split=0.3, verbose=1, q = 0.1):\n",
    "        self.epochs=epochs\n",
    "        self.dropout=dropout\n",
    "        self.batch_size = batch_size\n",
    "        self.learning_rate=learning_rate \n",
    "        self.l1_param=l1_param \n",
    "        self.l2_param=l1_param\n",
    "        self.validation_split = validation_split\n",
    "        self.verbose = verbose\n",
    "        self.optimizer = optimizer\n",
    "        self.R=R\n",
    "        self.K=K\n",
    "        self.q = q\n",
    "\n",
    "    \n",
    " \n",
    "    def custom_RCDNN_loss(self, y_true, y_pred):  #ytrue \\in N x R,  ypred \\in N x (R+K) -> PRI->JULI\n",
    "    \n",
    "        #Input ytrue: samples (N) x  annotators (R) \n",
    "        #Input ypred: samples (N) x  annotators+classes (R+K) \n",
    "\n",
    "        #Ground truth estimation samples (N) x  Classes(K)\n",
    "        pred = y_pred[:,self.R:]\n",
    "        pred = tf.clip_by_value(pred, clip_value_min=1e-9, clip_value_max=1-1e-9) #estabilidad numerica de la funcion de costo\n",
    "        # Annotators reliability prediction: samples (N) x  annotators (R)\n",
    "        ann_ = y_pred[:,:self.R]\n",
    "        #Y_true 1-K: samples (N) x  Classes(1-K), annotators (R)\n",
    "        Y_true = tf.one_hot(tf.cast(y_true, dtype=tf.int32), depth=self.K, axis=1)\n",
    "        #Y_pred 1 - K: samples (N) x  Classes(1-K), annotators (R)\n",
    "        Y_hat = tf.repeat(tf.expand_dims(pred,-1), self.R, axis = -1)\n",
    "        #loss computation\n",
    "        p_logreg = tf.math.reduce_prod(tf.math.pow(Y_hat, Y_true), axis=1)\n",
    "        temp1 = ann_*tf.math.log(p_logreg)  \n",
    "        temp2 = (1 - ann_)*tf.math.log(1/self.K)*tf.reduce_sum(Y_true,axis=1)\n",
    "        # temp2 = (tf.ones(tf.shape(ann_)) - ann_)*tf.math.log(1/K)\n",
    "        # print(tf.reduce_mean(Y_true,axis=1).numpy())\n",
    "        return -tf.math.reduce_sum((temp1 + temp2))\n",
    "\n",
    "        \n",
    "    def GCCE_MA_loss(self, y_true, y_pred):\n",
    "        # print(y_true,y_pred)\n",
    "       # q = 0.1\n",
    "        pred = y_pred[:, self.R:]\n",
    "        pred = tf.clip_by_value(pred, clip_value_min=1e-9, clip_value_max=1)\n",
    "        ann_ = y_pred[:, :self.R]\n",
    "        # ann_ = tf.clip_by_value(ann_, clip_value_min=1e-9, clip_value_max=1-1e-9)\n",
    "        Y_true = tf.one_hot(tf.cast(y_true, dtype=tf.int32), depth=self.K, axis=1)\n",
    "        Y_hat = tf.repeat(tf.expand_dims(pred,-1), self.R, axis = -1)\n",
    "\n",
    "        p_gcce = Y_true*(1 - Y_hat**self.q)/self.q\n",
    "        temp1 = ann_*tf.math.reduce_sum(p_gcce, axis=1)\n",
    "\n",
    "        # p_logreg = tf.math.reduce_prod(tf.math.pow(Y_hat, Y_true), axis=1)\n",
    "        # temp1 = ann_*tf.math.log(p_logreg)  \n",
    "        # temp2 = (1 - ann_)*tf.math.log(1/K)*tf.reduce_sum(Y_true,axis=1)\n",
    "        # aux = tf.repeat(tf.reduce_sum(pred*tf.math.log(pred),axis=1,keepdims=True), R, axis = 1)\n",
    "        # tf.print(tf.shape(aux))\n",
    "        # print(tf.shape(aux))\n",
    "        # temp2 = (1 - ann_)*aux*tf.reduce_sum(Y_true,axis=1)\n",
    "        # temp2 = (tf.ones(tf.shape(ann_)) - ann_)*tf.math.log(1/K)\n",
    "        # print(tf.reduce_mean(Y_true,axis=1).numpy())\n",
    "        # Y_true_1 = tf.clip_by_value(Y_true, clip_value_min=1e-9, clip_value_max=1)\n",
    "        # p_logreg_inv = tf.math.reduce_prod(tf.math.pow(Y_true_1, Y_hat), axis=1)\n",
    "        # temp2 = (1 - ann_)*tf.math.log(p_logreg_inv) \n",
    "        temp2 = (1 - ann_)*(1-(1/self.K)**self.q)/self.q*tf.reduce_sum(Y_true,axis=1)\n",
    "        return tf.math.reduce_sum((temp1 + temp2))\n",
    "\n",
    " \n",
    "    def PRI_MA_loss(self, y_true, y_pred): #,  -> PRI\n",
    "        #Input ytrue: samples (N) x  annotators (R) \n",
    "        #Input ypred: samples (N) x  annotators+classes (R+K) \n",
    "        #PRI MA\n",
    "        cce_M = tf.keras.losses.CategoricalCrossentropy(reduction='none',axis=-1)\n",
    "        cce_C = tf.keras.losses.CategoricalCrossentropy(reduction='none',axis=1)\n",
    "\n",
    "      \n",
    "\n",
    "        #N = tf.cast(y_true.shape[0],dtype=tf.int32)\n",
    "        N = tf.shape(y_true)[0]\n",
    "        #Ground truth estimation samples (N) x  Classes(K)\n",
    "        y_pred_tf = y_pred[:,self.R:] \n",
    "        # Annotators reliability prediction: samples (N) x  annotators (R)\n",
    "        lambda_R_tf = y_pred[:,:self.R] #tf.ones(shape=(N,R)) \n",
    "        #Y_true 1 K: samples (N) x  Classes(1-K), annotators (R)\n",
    "        Y_true_1K = tf.one_hot(tf.cast(y_true,dtype=tf.int32),depth=self.K,axis=1)  \n",
    "        #Y_pred 1 - K: samples (N) x  Classes(1-K), annotators (R)\n",
    "        Y_hat = tf.repeat(tf.expand_dims(y_pred_tf,-1), self.R, axis = -1) \n",
    "        #marginal entropy\n",
    "        #cce along the K classes -> ypred_tf\n",
    "        Hm_ = cce_M(y_pred_tf,y_pred_tf)\n",
    "        #cross entropy\n",
    "        #cce along the K classes -> Y_hat\n",
    "        Hc_ = cce_C(Y_true_1K,Y_hat)\n",
    "        #PRI MA computation\n",
    "        LH = tf.linalg.matmul(lambda_R_tf,Hc_,transpose_a=True) # \\Lambda^\\top H_c\n",
    "        temp1 = tf.linalg.trace(LH) #trace(LH)\n",
    "        Hm1L = tf.linalg.matmul(tf.ones(shape=(N,self.R))-lambda_R_tf,tf.ones(shape=(self.R,1)))# 1_N 1_R^\\top - Lambda\n",
    "        Hm_t = tf.reshape(Hm_,shape=(N,1))\n",
    "        temp2 = tf.squeeze(tf.linalg.matmul(Hm_t,Hm1L,transpose_a=True)) # Hm^\\top Hm1L\n",
    "        loss_c = temp1+ temp2 #return loss\n",
    "\n",
    "        return loss_c\n",
    "\n",
    " \n",
    "    def fit(self, X, Y):\n",
    "        #input X numpy array first dimension samples (N)x features (P)\n",
    "        #input Y numpy array vector len = samples (N) x  annotators (R)\n",
    "        P = X.shape[1]\n",
    "        if self.optimizer == \"Adam\":\n",
    "            opt = tf.keras.optimizers.Adam(learning_rate=self.learning_rate, clipnorm=1.0)\n",
    "        elif self.optimizer == \"SGD\":\n",
    "            opt = tf.keras.optimizers.SGD(learning_rate=self.learning_rate, clipnorm=1.0)\n",
    "        else:\n",
    "            opt=self.optimizer\n",
    "         \n",
    "        num_filters2 =32\n",
    "        # Block 1\n",
    "        input_l = tf.keras.layers.Input(shape=(32, 32, 3), name='entrada')\n",
    "        x = keras.layers.Conv2D(num_filters2, (3, 3), activation=\"relu\" , kernel_regularizer=tf.keras.regularizers.l1_l2(l1=self.l1_param, l2= self.l1_param),\n",
    "                            name=\"block1_conv1\")(input_l)\n",
    "        x = keras.layers.BatchNormalization()(x)\n",
    "        x = keras.layers.Conv2D(num_filters2, (3, 3), activation=\"relu\" , kernel_regularizer=tf.keras.regularizers.l1_l2(l1=self.l1_param, l2= self.l1_param),\n",
    "                            name=\"block1_conv2\")(x)\n",
    "        x = keras.layers.BatchNormalization()(x)\n",
    "        x = keras.layers.MaxPooling2D((2, 2),  name=\"block1_pool\")(x)\n",
    "        x = keras.layers.Dropout(self.dropout)(x)\n",
    "\n",
    "#         x = tf.keras.layers.Conv2D(32, (3, 3), activation=\"relu\" , name=\"block1_conv1\")(input_l)\n",
    "#         x = tf.keras.layers.BatchNormalization()(x)\n",
    "        # x = tf.keras.layers.MaxPooling2D((2, 2), strides=(2, 2), name=\"block1_pool\")(x)\n",
    "\n",
    "\n",
    "\n",
    "        # Block 2\n",
    "        #x = keras.layers.BatchNormalization()(x)\n",
    "        x = keras.layers.Conv2D(num_filters2*2, (3, 3), activation=\"relu\", \n",
    "                                kernel_regularizer=tf.keras.regularizers.l1_l2(l1=self.l1_param, l2= self.l1_param), name=\"block2_conv1\")(x)\n",
    "        x = keras.layers.BatchNormalization()(x)\n",
    "        x = keras.layers.Conv2D(num_filters2*2, (3, 3), activation=\"relu\", \n",
    "                                kernel_regularizer=tf.keras.regularizers.l1_l2(l1=self.l1_param, l2= self.l1_param), name=\"block2_conv2\")(x)\n",
    "        x = keras.layers.BatchNormalization()(x)\n",
    "        x = keras.layers.MaxPooling2D((2, 2),  name=\"block2_pool\")(x)\n",
    "        x = keras.layers.Dropout(self.dropout)(x)\n",
    "\n",
    "\n",
    "         # Block 3\n",
    "        #x = keras.layers.BatchNormalization()(x)\n",
    "        x = keras.layers.Conv2D(num_filters2*4, (3, 3), activation=\"relu\", \n",
    "                                kernel_regularizer= tf.keras.regularizers.l1_l2(l1=self.l1_param, l2= self.l1_param), name=\"block3_conv1\")(x)\n",
    "        x = keras.layers.BatchNormalization()(x)\n",
    "        x = keras.layers.Conv2D(num_filters2*4, (3, 3), activation=\"relu\", \n",
    "                                kernel_regularizer= tf.keras.regularizers.l1_l2(l1=self.l1_param, l2= self.l1_param), name=\"block3_conv2\")(x)\n",
    "        x = keras.layers.BatchNormalization()(x)\n",
    "        #x = keras.layers.MaxPooling2D((2, 2), name=\"block2_pool\")(x)\n",
    "        x = keras.layers.Dropout(self.dropout)(x)\n",
    "\n",
    "         \n",
    "        x = tf.keras.layers.Flatten()(x)\n",
    "        x = tf.keras.layers.BatchNormalization()(x)\n",
    "        x = tf.keras.layers.Dense(512,activation=\"relu\")(x)\n",
    "        x = tf.keras.layers.BatchNormalization()(x)\n",
    "        x = tf.keras.layers.Dropout(self.dropout)(x)\n",
    "        output = tf.keras.layers.Dense(self.K,activation=\"softmax\", \n",
    "                                    kernel_regularizer=tf.keras.regularizers.l1_l2(l1=self.l1_param,l2=self.l2_param), name= 'out_K_GCCE')(x)\n",
    "  \n",
    "        self.model = tf.keras.Model(inputs= input_l,outputs=output)\n",
    "        self.model.compile(loss='sparse_categorical_crossentropy', optimizer=opt)\n",
    "        \n",
    " \n",
    "        self.history = self.model.fit(X, Y, epochs=self.epochs, validation_split=self.validation_split,   #\n",
    "                                      batch_size=self.batch_size,verbose=self.verbose)\n",
    " \n",
    "        return self\n",
    " \n",
    "  \n",
    "    \n",
    "    def predict(self, X, *_):\n",
    "       #input X numpy array first dimension samples (N)x features (P)\n",
    "      return  self.model.predict(X) \n",
    " \n",
    " \n",
    "\n",
    "    def fit_predict(self,X,y):\n",
    "        #input X numpy array first dimension samples (N)x features (P)\n",
    "        #input Y numpy array vector len = samples (N) x  annotators (R)\n",
    "        self.fit(X,y)\n",
    "        return self.predict(X)\n",
    "  \n",
    "     #graphics\n",
    "    def plot_history(self):\n",
    "        pd.DataFrame(self.history.history).plot(figsize=(8, 5))\n",
    "        plt.grid(True)\n",
    "        #plt.gca().set_ylim(0, 1)\n",
    "        #save_fig(\"keras_learning_curves_plot\")\n",
    "        plt.show()\n",
    "        return\n",
    "    \n",
    "    def set_params(self, **parameters):\n",
    "        for parameter, value in parameters.items():\n",
    "            setattr(self, parameter, value)\n",
    "\n",
    "        return self\n",
    "    \n",
    "    \n",
    "    \n",
    "    def get_params(self, deep=True):\n",
    "        return { 'l1_param':self.l1_param, 'dropout':self.dropout, 'optimizer':self.optimizer,\n",
    "                'learning_rate':self.learning_rate, 'batch_size':self.batch_size,\n",
    "                'epochs':self.epochs, 'verbose':self.verbose, 'validation_split':self.validation_split,\n",
    "                'R':self.R, 'K':self.K, 'q':self.q\n",
    "                }\n",
    "\n",
    "  \n",
    "        return self\n"
   ]
  },
  {
   "cell_type": "code",
   "execution_count": 13,
   "id": "9c9c27ef",
   "metadata": {
    "execution": {
     "iopub.execute_input": "2023-02-15T06:55:48.206300Z",
     "iopub.status.busy": "2023-02-15T06:55:48.204580Z",
     "iopub.status.idle": "2023-02-15T06:55:49.132027Z",
     "shell.execute_reply": "2023-02-15T06:55:49.130664Z"
    },
    "papermill": {
     "duration": 0.939072,
     "end_time": "2023-02-15T06:55:49.135884",
     "exception": false,
     "start_time": "2023-02-15T06:55:48.196812",
     "status": "completed"
    },
    "tags": []
   },
   "outputs": [],
   "source": [
    "train_batches = tf.data.Dataset.from_tensor_slices((X,y))\n",
    "test_batches = tf.data.Dataset.from_tensor_slices((X_te,y_te))"
   ]
  },
  {
   "cell_type": "code",
   "execution_count": 14,
   "id": "82996f46",
   "metadata": {
    "execution": {
     "iopub.execute_input": "2023-02-15T06:55:49.179139Z",
     "iopub.status.busy": "2023-02-15T06:55:49.178510Z",
     "iopub.status.idle": "2023-02-15T06:55:50.149348Z",
     "shell.execute_reply": "2023-02-15T06:55:50.148366Z"
    },
    "papermill": {
     "duration": 0.989719,
     "end_time": "2023-02-15T06:55:50.151877",
     "exception": false,
     "start_time": "2023-02-15T06:55:49.162158",
     "status": "completed"
    },
    "tags": []
   },
   "outputs": [],
   "source": [
    "import numpy as np\n",
    "from scipy import stats\n",
    "Ytr_mv  = []\n",
    "\n",
    "for i in range(Y.shape[0]):\n",
    "     #print(Y_train[i])\n",
    "     Ytr_mv   += [np.take(stats.mode(Y[i,Y[i] != -999]),0)]\n",
    "     #print(mode_Y)\n",
    "#Ytr_mv "
   ]
  },
  {
   "cell_type": "code",
   "execution_count": 15,
   "id": "d331c944",
   "metadata": {
    "execution": {
     "iopub.execute_input": "2023-02-15T06:55:50.166615Z",
     "iopub.status.busy": "2023-02-15T06:55:50.166288Z",
     "iopub.status.idle": "2023-02-15T06:55:50.178349Z",
     "shell.execute_reply": "2023-02-15T06:55:50.177387Z"
    },
    "papermill": {
     "duration": 0.021659,
     "end_time": "2023-02-15T06:55:50.180291",
     "exception": false,
     "start_time": "2023-02-15T06:55:50.158632",
     "status": "completed"
    },
    "tags": []
   },
   "outputs": [
    {
     "data": {
      "text/plain": [
       "array([3., 8., 0., ..., 5., 0., 7.])"
      ]
     },
     "execution_count": 15,
     "metadata": {},
     "output_type": "execute_result"
    }
   ],
   "source": [
    "Ytr_mv = np.array(Ytr_mv )\n",
    "Ytr_mv"
   ]
  },
  {
   "cell_type": "code",
   "execution_count": null,
   "id": "1a0cce0e",
   "metadata": {
    "papermill": {
     "duration": 0.006307,
     "end_time": "2023-02-15T06:55:50.193082",
     "exception": false,
     "start_time": "2023-02-15T06:55:50.186775",
     "status": "completed"
    },
    "tags": []
   },
   "outputs": [],
   "source": []
  },
  {
   "cell_type": "markdown",
   "id": "699920aa",
   "metadata": {
    "id": "9AgOHREc1bmd",
    "papermill": {
     "duration": 0.006404,
     "end_time": "2023-02-15T06:55:50.205945",
     "exception": false,
     "start_time": "2023-02-15T06:55:50.199541",
     "status": "completed"
    },
    "tags": []
   },
   "source": [
    "## Build the classifier from multiple annotators"
   ]
  },
  {
   "cell_type": "code",
   "execution_count": 16,
   "id": "1d477a4e",
   "metadata": {
    "execution": {
     "iopub.execute_input": "2023-02-15T06:55:50.220388Z",
     "iopub.status.busy": "2023-02-15T06:55:50.219671Z",
     "iopub.status.idle": "2023-02-15T06:55:50.229408Z",
     "shell.execute_reply": "2023-02-15T06:55:50.228573Z"
    },
    "papermill": {
     "duration": 0.018881,
     "end_time": "2023-02-15T06:55:50.231266",
     "exception": false,
     "start_time": "2023-02-15T06:55:50.212385",
     "status": "completed"
    },
    "tags": []
   },
   "outputs": [],
   "source": [
    "\n",
    "import tensorflow as tf\n",
    "import numpy as np\n",
    "from scipy.io import loadmat\n",
    "from sklearn.preprocessing import StandardScaler\n",
    "from scipy.io import savemat\n",
    "from sklearn.metrics import roc_auc_score\n",
    "from sklearn.preprocessing import LabelBinarizer\n",
    "from sklearn.preprocessing import OneHotEncoder\n",
    "from scipy.stats import mode \n",
    "import pandas as pd\n",
    "import matplotlib.pyplot as plt \n",
    "from sklearn.metrics import roc_auc_score\n",
    "from sklearn.decomposition import PCA\n",
    "\n",
    "def ook(t):\n",
    "  lb = LabelBinarizer()\n",
    "  y_ook = lb.fit_transform(t)  \n",
    "\n",
    "  if len(np.unique(t))==2:\n",
    "    y_ook = np.concatenate((1-y_ook.astype(bool), y_ook), axis = 1) \n",
    "\n",
    "  return y_ook\n",
    "\n",
    "\n",
    "def scheduler1(step = 10, ratio = 1.2):\n",
    "  def scheduler(epoch, lr):\n",
    "    if epoch % step == 0 and epoch>1:\n",
    "      return lr/ratio\n",
    "    else:\n",
    "      return lr\n",
    "  return scheduler"
   ]
  },
  {
   "cell_type": "code",
   "execution_count": 17,
   "id": "979bfe6f",
   "metadata": {
    "execution": {
     "iopub.execute_input": "2023-02-15T06:55:50.245831Z",
     "iopub.status.busy": "2023-02-15T06:55:50.245079Z",
     "iopub.status.idle": "2023-02-15T07:06:27.666980Z",
     "shell.execute_reply": "2023-02-15T07:06:27.665742Z"
    },
    "papermill": {
     "duration": 637.431704,
     "end_time": "2023-02-15T07:06:27.669420",
     "exception": false,
     "start_time": "2023-02-15T06:55:50.237716",
     "status": "completed"
    },
    "tags": []
   },
   "outputs": [
    {
     "name": "stdout",
     "output_type": "stream",
     "text": [
      "iteration: 0\n"
     ]
    },
    {
     "data": {
      "image/png": "[encoded data removed]",
      "text/plain": [
       "<Figure size 800x500 with 1 Axes>"
      ]
     },
     "metadata": {},
     "output_type": "display_data"
    },
    {
     "name": "stdout",
     "output_type": "stream",
     "text": [
      "313/313 [==============================] - 1s 3ms/step\n",
      "iteration: 1\n"
     ]
    },
    {
     "data": {
      "image/png": "[encoded data removed]",
      "text/plain": [
       "<Figure size 800x500 with 1 Axes>"
      ]
     },
     "metadata": {},
     "output_type": "display_data"
    },
    {
     "name": "stdout",
     "output_type": "stream",
     "text": [
      "313/313 [==============================] - 1s 2ms/step\n",
      "iteration: 2\n"
     ]
    },
    {
     "data": {
      "image/png": "[encoded data removed]",
      "text/plain": [
       "<Figure size 800x500 with 1 Axes>"
      ]
     },
     "metadata": {},
     "output_type": "display_data"
    },
    {
     "name": "stdout",
     "output_type": "stream",
     "text": [
      "313/313 [==============================] - 1s 2ms/step\n",
      "iteration: 3\n"
     ]
    },
    {
     "data": {
      "image/png": "[encoded data removed]",
      "text/plain": [
       "<Figure size 800x500 with 1 Axes>"
      ]
     },
     "metadata": {},
     "output_type": "display_data"
    },
    {
     "name": "stdout",
     "output_type": "stream",
     "text": [
      "313/313 [==============================] - 1s 2ms/step\n",
      "iteration: 4\n"
     ]
    },
    {
     "data": {
      "image/png": "[encoded data removed]",
      "text/plain": [
       "<Figure size 800x500 with 1 Axes>"
      ]
     },
     "metadata": {},
     "output_type": "display_data"
    },
    {
     "name": "stdout",
     "output_type": "stream",
     "text": [
      "313/313 [==============================] - 1s 2ms/step\n",
      "iteration: 5\n"
     ]
    },
    {
     "data": {
      "image/png": "[encoded data removed]",
      "text/plain": [
       "<Figure size 800x500 with 1 Axes>"
      ]
     },
     "metadata": {},
     "output_type": "display_data"
    },
    {
     "name": "stdout",
     "output_type": "stream",
     "text": [
      "313/313 [==============================] - 1s 2ms/step\n",
      "iteration: 6\n"
     ]
    },
    {
     "data": {
      "image/png": "[encoded data removed]",
      "text/plain": [
       "<Figure size 800x500 with 1 Axes>"
      ]
     },
     "metadata": {},
     "output_type": "display_data"
    },
    {
     "name": "stdout",
     "output_type": "stream",
     "text": [
      "313/313 [==============================] - 1s 2ms/step\n",
      "iteration: 7\n"
     ]
    },
    {
     "data": {
      "image/png": "[encoded data removed]",
      "text/plain": [
       "<Figure size 800x500 with 1 Axes>"
      ]
     },
     "metadata": {},
     "output_type": "display_data"
    },
    {
     "name": "stdout",
     "output_type": "stream",
     "text": [
      "313/313 [==============================] - 1s 2ms/step\n",
      "iteration: 8\n"
     ]
    },
    {
     "data": {
      "image/png": "[encoded data removed]",
      "text/plain": [
       "<Figure size 800x500 with 1 Axes>"
      ]
     },
     "metadata": {},
     "output_type": "display_data"
    },
    {
     "name": "stdout",
     "output_type": "stream",
     "text": [
      "313/313 [==============================] - 1s 2ms/step\n",
      "iteration: 9\n"
     ]
    },
    {
     "data": {
      "image/png": "[encoded data removed]",
      "text/plain": [
       "<Figure size 800x500 with 1 Axes>"
      ]
     },
     "metadata": {},
     "output_type": "display_data"
    },
    {
     "name": "stdout",
     "output_type": "stream",
     "text": [
      "313/313 [==============================] - 1s 2ms/step\n"
     ]
    }
   ],
   "source": [
    "from sklearn.metrics import classification_report, balanced_accuracy_score\n",
    "from sklearn.metrics import normalized_mutual_info_score, mutual_info_score, adjusted_mutual_info_score\n",
    "l1 =0.0001\n",
    "NUM_RUNS =10\n",
    "\n",
    "  \n",
    "results = []\n",
    "for i in range(NUM_RUNS):\n",
    "\n",
    "    print(\"iteration: \" + str(i))\n",
    "   \n",
    "    MA = Keras_MA_RCDNN(epochs=50,batch_size=64,R=Y.shape[1], K=len(np.unique(y)), dropout=0.5, learning_rate=0.001,optimizer='Adam', \n",
    "                l1_param=l1,  validation_split=0, verbose=0, q=0.01)\n",
    "\n",
    "   \n",
    "    MA.fit(X , Ytr_mv )\n",
    "    MA.plot_history()\n",
    "    #MA.plot_history()\n",
    "  \n",
    "    # Generate the predictions for the current run\n",
    "    pred_2 = MA.predict(X_te)\n",
    "    Y_true_test = y_te\n",
    "     \n",
    "    acc, auc, auc_sk,  nmi,  bacc = evaluation_metrics(Y_true_test,  pred_2, print_result=False)  # mi, ami,\n",
    "    \n",
    "    # Save the results for the current run to the list of dictionaries\n",
    "    results.append({\n",
    "        #'run': i,\n",
    "        'accuracy': acc,\n",
    "        'balanced_accuracy': bacc,\n",
    "       # 'mutual_information': mi,\n",
    "        'normalized_mutual_information': nmi,\n",
    "     #   'adjusted_mutual_information': ami,\n",
    "        'auc_tensorflow': auc,\n",
    "        'auc_scikit_learn': auc_sk,\n",
    "    })\n",
    "    \n",
    "# Convert the list of dictionaries to a DataFrame\n",
    "df = np.round(pd.DataFrame(results)*100, 2)\n",
    "\n",
    "# Calculate the mean and standard deviation of each metric\n",
    "mean = np.round(df.mean(),2)\n",
    "std = np.round(df.std(),2)  \n"
   ]
  },
  {
   "cell_type": "code",
   "execution_count": 18,
   "id": "c039f971",
   "metadata": {
    "execution": {
     "iopub.execute_input": "2023-02-15T07:06:27.709534Z",
     "iopub.status.busy": "2023-02-15T07:06:27.709200Z",
     "iopub.status.idle": "2023-02-15T07:06:27.725642Z",
     "shell.execute_reply": "2023-02-15T07:06:27.724599Z"
    },
    "papermill": {
     "duration": 0.03912,
     "end_time": "2023-02-15T07:06:27.728188",
     "exception": false,
     "start_time": "2023-02-15T07:06:27.689068",
     "status": "completed"
    },
    "tags": []
   },
   "outputs": [
    {
     "data": {
      "text/html": [
       "<div>\n",
       "<style scoped>\n",
       "    .dataframe tbody tr th:only-of-type {\n",
       "        vertical-align: middle;\n",
       "    }\n",
       "\n",
       "    .dataframe tbody tr th {\n",
       "        vertical-align: top;\n",
       "    }\n",
       "\n",
       "    .dataframe thead th {\n",
       "        text-align: right;\n",
       "    }\n",
       "</style>\n",
       "<table border=\"1\" class=\"dataframe\">\n",
       "  <thead>\n",
       "    <tr style=\"text-align: right;\">\n",
       "      <th></th>\n",
       "      <th>accuracy</th>\n",
       "      <th>balanced_accuracy</th>\n",
       "      <th>normalized_mutual_information</th>\n",
       "      <th>auc_tensorflow</th>\n",
       "      <th>auc_scikit_learn</th>\n",
       "    </tr>\n",
       "  </thead>\n",
       "  <tbody>\n",
       "    <tr>\n",
       "      <th>0</th>\n",
       "      <td>67.58</td>\n",
       "      <td>63.92</td>\n",
       "      <td>47.96</td>\n",
       "      <td>82.860001</td>\n",
       "      <td>94.44</td>\n",
       "    </tr>\n",
       "    <tr>\n",
       "      <th>1</th>\n",
       "      <td>68.87</td>\n",
       "      <td>65.33</td>\n",
       "      <td>50.11</td>\n",
       "      <td>84.750000</td>\n",
       "      <td>94.82</td>\n",
       "    </tr>\n",
       "    <tr>\n",
       "      <th>2</th>\n",
       "      <td>68.97</td>\n",
       "      <td>65.57</td>\n",
       "      <td>50.12</td>\n",
       "      <td>84.930000</td>\n",
       "      <td>95.09</td>\n",
       "    </tr>\n",
       "    <tr>\n",
       "      <th>3</th>\n",
       "      <td>67.63</td>\n",
       "      <td>64.16</td>\n",
       "      <td>49.78</td>\n",
       "      <td>78.660004</td>\n",
       "      <td>94.82</td>\n",
       "    </tr>\n",
       "    <tr>\n",
       "      <th>4</th>\n",
       "      <td>66.65</td>\n",
       "      <td>62.90</td>\n",
       "      <td>47.61</td>\n",
       "      <td>77.930000</td>\n",
       "      <td>94.25</td>\n",
       "    </tr>\n",
       "    <tr>\n",
       "      <th>5</th>\n",
       "      <td>68.77</td>\n",
       "      <td>65.25</td>\n",
       "      <td>50.65</td>\n",
       "      <td>83.459999</td>\n",
       "      <td>95.25</td>\n",
       "    </tr>\n",
       "    <tr>\n",
       "      <th>6</th>\n",
       "      <td>66.56</td>\n",
       "      <td>62.72</td>\n",
       "      <td>47.27</td>\n",
       "      <td>82.059998</td>\n",
       "      <td>94.35</td>\n",
       "    </tr>\n",
       "    <tr>\n",
       "      <th>7</th>\n",
       "      <td>69.00</td>\n",
       "      <td>65.55</td>\n",
       "      <td>50.61</td>\n",
       "      <td>77.099998</td>\n",
       "      <td>94.90</td>\n",
       "    </tr>\n",
       "    <tr>\n",
       "      <th>8</th>\n",
       "      <td>69.48</td>\n",
       "      <td>66.04</td>\n",
       "      <td>51.26</td>\n",
       "      <td>85.010002</td>\n",
       "      <td>95.18</td>\n",
       "    </tr>\n",
       "    <tr>\n",
       "      <th>9</th>\n",
       "      <td>68.89</td>\n",
       "      <td>65.42</td>\n",
       "      <td>50.12</td>\n",
       "      <td>83.019997</td>\n",
       "      <td>95.04</td>\n",
       "    </tr>\n",
       "  </tbody>\n",
       "</table>\n",
       "</div>"
      ],
      "text/plain": [
       "   accuracy  balanced_accuracy  normalized_mutual_information  auc_tensorflow  \\\n",
       "0     67.58              63.92                          47.96       82.860001   \n",
       "1     68.87              65.33                          50.11       84.750000   \n",
       "2     68.97              65.57                          50.12       84.930000   \n",
       "3     67.63              64.16                          49.78       78.660004   \n",
       "4     66.65              62.90                          47.61       77.930000   \n",
       "5     68.77              65.25                          50.65       83.459999   \n",
       "6     66.56              62.72                          47.27       82.059998   \n",
       "7     69.00              65.55                          50.61       77.099998   \n",
       "8     69.48              66.04                          51.26       85.010002   \n",
       "9     68.89              65.42                          50.12       83.019997   \n",
       "\n",
       "   auc_scikit_learn  \n",
       "0             94.44  \n",
       "1             94.82  \n",
       "2             95.09  \n",
       "3             94.82  \n",
       "4             94.25  \n",
       "5             95.25  \n",
       "6             94.35  \n",
       "7             94.90  \n",
       "8             95.18  \n",
       "9             95.04  "
      ]
     },
     "execution_count": 18,
     "metadata": {},
     "output_type": "execute_result"
    }
   ],
   "source": [
    "df"
   ]
  },
  {
   "cell_type": "code",
   "execution_count": 19,
   "id": "52cf6af4",
   "metadata": {
    "execution": {
     "iopub.execute_input": "2023-02-15T07:06:27.767875Z",
     "iopub.status.busy": "2023-02-15T07:06:27.767590Z",
     "iopub.status.idle": "2023-02-15T07:06:27.775052Z",
     "shell.execute_reply": "2023-02-15T07:06:27.774158Z"
    },
    "papermill": {
     "duration": 0.029442,
     "end_time": "2023-02-15T07:06:27.777068",
     "exception": false,
     "start_time": "2023-02-15T07:06:27.747626",
     "status": "completed"
    },
    "tags": []
   },
   "outputs": [
    {
     "data": {
      "text/plain": [
       "accuracy                         68.24\n",
       "balanced_accuracy                64.69\n",
       "normalized_mutual_information    49.55\n",
       "auc_tensorflow                   81.98\n",
       "auc_scikit_learn                 94.81\n",
       "dtype: float64"
      ]
     },
     "execution_count": 19,
     "metadata": {},
     "output_type": "execute_result"
    }
   ],
   "source": [
    "mean"
   ]
  },
  {
   "cell_type": "code",
   "execution_count": 20,
   "id": "bd8eb4a0",
   "metadata": {
    "execution": {
     "iopub.execute_input": "2023-02-15T07:06:27.816592Z",
     "iopub.status.busy": "2023-02-15T07:06:27.816307Z",
     "iopub.status.idle": "2023-02-15T07:06:27.823313Z",
     "shell.execute_reply": "2023-02-15T07:06:27.822475Z"
    },
    "papermill": {
     "duration": 0.029269,
     "end_time": "2023-02-15T07:06:27.825459",
     "exception": false,
     "start_time": "2023-02-15T07:06:27.796190",
     "status": "completed"
    },
    "tags": []
   },
   "outputs": [
    {
     "data": {
      "text/plain": [
       "accuracy                         1.05\n",
       "balanced_accuracy                1.18\n",
       "normalized_mutual_information    1.40\n",
       "auc_tensorflow                   3.00\n",
       "auc_scikit_learn                 0.35\n",
       "dtype: float64"
      ]
     },
     "execution_count": 20,
     "metadata": {},
     "output_type": "execute_result"
    }
   ],
   "source": [
    "std"
   ]
  },
  {
   "cell_type": "code",
   "execution_count": 21,
   "id": "0df79bd9",
   "metadata": {
    "execution": {
     "iopub.execute_input": "2023-02-15T07:06:27.865786Z",
     "iopub.status.busy": "2023-02-15T07:06:27.865477Z",
     "iopub.status.idle": "2023-02-15T07:06:27.876952Z",
     "shell.execute_reply": "2023-02-15T07:06:27.875995Z"
    },
    "papermill": {
     "duration": 0.033996,
     "end_time": "2023-02-15T07:06:27.878915",
     "exception": false,
     "start_time": "2023-02-15T07:06:27.844919",
     "status": "completed"
    },
    "tags": []
   },
   "outputs": [
    {
     "data": {
      "text/html": [
       "<div>\n",
       "<style scoped>\n",
       "    .dataframe tbody tr th:only-of-type {\n",
       "        vertical-align: middle;\n",
       "    }\n",
       "\n",
       "    .dataframe tbody tr th {\n",
       "        vertical-align: top;\n",
       "    }\n",
       "\n",
       "    .dataframe thead th {\n",
       "        text-align: right;\n",
       "    }\n",
       "</style>\n",
       "<table border=\"1\" class=\"dataframe\">\n",
       "  <thead>\n",
       "    <tr style=\"text-align: right;\">\n",
       "      <th></th>\n",
       "      <th>Mean</th>\n",
       "      <th>Std</th>\n",
       "    </tr>\n",
       "  </thead>\n",
       "  <tbody>\n",
       "    <tr>\n",
       "      <th>accuracy</th>\n",
       "      <td>68.24</td>\n",
       "      <td>1.05</td>\n",
       "    </tr>\n",
       "    <tr>\n",
       "      <th>balanced_accuracy</th>\n",
       "      <td>64.69</td>\n",
       "      <td>1.18</td>\n",
       "    </tr>\n",
       "    <tr>\n",
       "      <th>normalized_mutual_information</th>\n",
       "      <td>49.55</td>\n",
       "      <td>1.40</td>\n",
       "    </tr>\n",
       "    <tr>\n",
       "      <th>auc_tensorflow</th>\n",
       "      <td>81.98</td>\n",
       "      <td>3.00</td>\n",
       "    </tr>\n",
       "    <tr>\n",
       "      <th>auc_scikit_learn</th>\n",
       "      <td>94.81</td>\n",
       "      <td>0.35</td>\n",
       "    </tr>\n",
       "  </tbody>\n",
       "</table>\n",
       "</div>"
      ],
      "text/plain": [
       "                                Mean   Std\n",
       "accuracy                       68.24  1.05\n",
       "balanced_accuracy              64.69  1.18\n",
       "normalized_mutual_information  49.55  1.40\n",
       "auc_tensorflow                 81.98  3.00\n",
       "auc_scikit_learn               94.81  0.35"
      ]
     },
     "execution_count": 21,
     "metadata": {},
     "output_type": "execute_result"
    }
   ],
   "source": [
    "\n",
    "\n",
    "result_df = pd.concat([mean.rename('Mean'), std.rename('Std')], axis=1)\n",
    "\n",
    "result_df\n"
   ]
  },
  {
   "cell_type": "code",
   "execution_count": 22,
   "id": "64d328b1",
   "metadata": {
    "execution": {
     "iopub.execute_input": "2023-02-15T07:06:27.919192Z",
     "iopub.status.busy": "2023-02-15T07:06:27.918898Z",
     "iopub.status.idle": "2023-02-15T07:06:27.923557Z",
     "shell.execute_reply": "2023-02-15T07:06:27.922650Z"
    },
    "papermill": {
     "duration": 0.027197,
     "end_time": "2023-02-15T07:06:27.925591",
     "exception": false,
     "start_time": "2023-02-15T07:06:27.898394",
     "status": "completed"
    },
    "tags": []
   },
   "outputs": [],
   "source": [
    "\n",
    "# # Save the DataFrame to an excel file\n",
    "# result_df.to_excel(database + custom_loss + \".xlsx\")"
   ]
  }
 ],
 "metadata": {
  "kernelspec": {
   "display_name": "Python 3",
   "language": "python",
   "name": "python3"
  },
  "language_info": {
   "codemirror_mode": {
    "name": "ipython",
    "version": 3
   },
   "file_extension": ".py",
   "mimetype": "text/x-python",
   "name": "python",
   "nbconvert_exporter": "python",
   "pygments_lexer": "ipython3",
   "version": "3.7.12"
  },
  "papermill": {
   "default_parameters": {},
   "duration": 670.593,
   "end_time": "2023-02-15T07:06:31.865821",
   "environment_variables": {},
   "exception": null,
   "input_path": "__notebook__.ipynb",
   "output_path": "__notebook__.ipynb",
   "parameters": {},
   "start_time": "2023-02-15T06:55:21.272821",
   "version": "2.3.4"
  }
 },
 "nbformat": 4,
 "nbformat_minor": 5
}
