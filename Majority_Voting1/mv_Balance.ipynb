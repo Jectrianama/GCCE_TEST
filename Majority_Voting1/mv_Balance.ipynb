{
  "cells": [
    {
      "cell_type": "markdown",
      "metadata": {
        "id": "view-in-github",
        "colab_type": "text"
      },
      "source": [
        "<a href=\"https://colab.research.google.com/github/Jectrianama/GCCE_TEST/blob/main/Majority_Voting1/mv_Balance.ipynb\" target=\"_parent\"><img src=\"https://colab.research.google.com/assets/colab-badge.svg\" alt=\"Open In Colab\"/></a>"
      ]
    },
    {
      "cell_type": "code",
      "source": [
        "import tensorflow as tf\n",
        "from sklearn.metrics import classification_report, accuracy_score, balanced_accuracy_score, roc_auc_score, mutual_info_score, normalized_mutual_info_score, adjusted_mutual_info_score\n",
        "from sklearn.preprocessing import LabelBinarizer\n",
        "from sklearn.preprocessing import OneHotEncoder\n",
        "from scipy.stats import mode \n",
        "import numpy as np\n",
        "\n",
        "def ook(t):\n",
        "  lb = LabelBinarizer()\n",
        "  y_ook = lb.fit_transform(t)  \n",
        "\n",
        "  if len(np.unique(t))==2:\n",
        "    y_ook = np.concatenate((1-y_ook.astype(bool), y_ook), axis = 1) \n",
        "\n",
        "  return y_ook\n",
        "\n",
        "\n",
        "def onehot_encode(df, columns):\n",
        "    df = df.copy()\n",
        "    for column in columns:\n",
        "        dummies = pd.get_dummies(df[column], prefix=column)\n",
        "        df = pd.concat([df, dummies], axis=1)\n",
        "        df = df.drop(column, axis=1)\n",
        "    return df\n",
        "\n",
        "def preprocess_inputs(df):\n",
        "    df = df.copy()\n",
        "    \n",
        "    # Encode label values as numbers\n",
        "    df['V10'] = df['V10'].replace({'negative': 0, 'positive': 1})\n",
        "    \n",
        "    # One-hot encode board space columns\n",
        "    df = onehot_encode(\n",
        "        df,\n",
        "        columns=['V' + str(i) for i in range(1, 10)]\n",
        "    )\n",
        "    \n",
        "    # Split df into X and y\n",
        "    y = df['V10'].copy()\n",
        "    X = df.drop('V10', axis=1).copy()\n",
        "    \n",
        "    # Train-test split\n",
        "   # X_train, X_test, y_train, y_test = train_test_split(X, y, train_size=0.7, random_state=123)\n",
        "    \n",
        "    return X, y\n",
        "\n",
        "\n",
        "\n",
        "def evaluation_metrics(y_true, y_pred, print_result=True):\n",
        "    acc = 0\n",
        "    auc = 0\n",
        "    auc_sk = 0\n",
        "    #mi = 0\n",
        "    nmi = 0\n",
        "    #ami = 0\n",
        "    bacc = 0\n",
        "    \n",
        "    # Accuracy\n",
        "    #report = classification_report(y_pred.argmax(axis=1), y_true.ravel(), output_dict=True)\n",
        "    acc = accuracy_score( y_true.ravel(), y_pred.argmax(axis=1))  #report['accuracy']\n",
        "    \n",
        "    # Balanced accuracy\n",
        "    bacc = balanced_accuracy_score(y_true.squeeze(), y_pred.argmax(axis=1).squeeze(), adjusted=True)\n",
        "    \n",
        "   # # Mutual Information\n",
        "   # mi = mutual_info_score(y_true.squeeze(), y_pred.argmax(axis=1).squeeze())\n",
        "    \n",
        "    # Normalized Mutual Information\n",
        "    nmi = normalized_mutual_info_score(y_true.squeeze(), y_pred.argmax(axis=1).squeeze())\n",
        "    \n",
        "    # Adjusted Mutual Information\n",
        "    #ami = adjusted_mutual_info_score(y_true.squeeze(), y_pred.argmax(axis=1).squeeze())\n",
        "    \n",
        "    # AUC (Tensorflow)\n",
        "    auc_metric = tf.keras.metrics.AUC(from_logits=True)\n",
        "    auc_metric.update_state(y_true, y_pred.argmax(axis=1).astype('float'))\n",
        "    auc = auc_metric.result().numpy()\n",
        "    auc_metric.reset_states()\n",
        "    \n",
        "    # AUC (scikit-learn)\n",
        "    auc_sk = roc_auc_score(ook(y_true), y_pred)\n",
        "    \n",
        "    if print_result:\n",
        "        print(\"Accuracy: {:.4f}\".format(acc))\n",
        "        print(\"Balanced Accuracy: {:.4f}\".format(bacc))\n",
        "        print(\"Mutual Information: {:.4f}\".format(mi))\n",
        "        print(\"Normalized Mutual Information: {:.4f}\".format(nmi))\n",
        "        print(\"Adjusted Mutual Information: {:.4f}\".format(ami))\n",
        "        print(\"AUC (Tensorflow): {:.4f}\".format(auc))\n",
        "        print(\"AUC (scikit-learn): {:.4f}\".format(auc_sk))\n",
        "    \n",
        "    return acc, auc, auc_sk, nmi, bacc   # mi, , ami\n",
        "\n",
        "\n"
      ],
      "metadata": {
        "id": "iE8WM__H0C5P"
      },
      "id": "iE8WM__H0C5P",
      "execution_count": 9,
      "outputs": []
    },
    {
      "cell_type": "code",
      "execution_count": 10,
      "metadata": {
        "execution": {
          "iopub.execute_input": "2022-10-25T15:29:54.227583Z",
          "iopub.status.busy": "2022-10-25T15:29:54.226029Z",
          "iopub.status.idle": "2022-10-25T15:29:54.231765Z",
          "shell.execute_reply": "2022-10-25T15:29:54.230959Z"
        },
        "id": "f6c3187a",
        "outputId": "a2dca481-24d1-46ed-881f-2254465ab2f4",
        "papermill": {
          "duration": 0.018811,
          "end_time": "2022-10-25T15:29:54.234132",
          "exception": false,
          "start_time": "2022-10-25T15:29:54.215321",
          "status": "completed"
        },
        "tags": [],
        "colab": {
          "base_uri": "https://localhost:8080/"
        }
      },
      "outputs": [
        {
          "output_type": "stream",
          "name": "stdout",
          "text": [
            "--2023-02-13 22:26:42--  https://docs.google.com/uc?export=download&confirm=&id=1sKe2Y8ySCqSjmBprPUUj7zVU5QiicaTV\n",
            "Resolving docs.google.com (docs.google.com)... 142.251.2.101, 142.251.2.113, 142.251.2.139, ...\n",
            "Connecting to docs.google.com (docs.google.com)|142.251.2.101|:443... connected.\n",
            "HTTP request sent, awaiting response... 303 See Other\n",
            "Location: https://doc-0c-90-docs.googleusercontent.com/docs/securesc/ha0ro937gcuc7l7deffksulhg5h7mbp1/bas8srtndsjdu99q60t9974ig0n080li/1676327175000/07591141114418430227/*/1sKe2Y8ySCqSjmBprPUUj7zVU5QiicaTV?e=download&uuid=f19747ec-1ad6-486a-97f9-73ca4f47deb3 [following]\n",
            "Warning: wildcards not supported in HTTP.\n",
            "--2023-02-13 22:26:42--  https://doc-0c-90-docs.googleusercontent.com/docs/securesc/ha0ro937gcuc7l7deffksulhg5h7mbp1/bas8srtndsjdu99q60t9974ig0n080li/1676327175000/07591141114418430227/*/1sKe2Y8ySCqSjmBprPUUj7zVU5QiicaTV?e=download&uuid=f19747ec-1ad6-486a-97f9-73ca4f47deb3\n",
            "Resolving doc-0c-90-docs.googleusercontent.com (doc-0c-90-docs.googleusercontent.com)... 74.125.137.132, 2607:f8b0:4023:c03::84\n",
            "Connecting to doc-0c-90-docs.googleusercontent.com (doc-0c-90-docs.googleusercontent.com)|74.125.137.132|:443... connected.\n",
            "HTTP request sent, awaiting response... 200 OK\n",
            "Length: 1429 (1.4K) [application/x-zip-compressed]\n",
            "Saving to: ‘balance-scale.zip’\n",
            "\n",
            "balance-scale.zip   100%[===================>]   1.40K  --.-KB/s    in 0s      \n",
            "\n",
            "2023-02-13 22:26:42 (58.3 MB/s) - ‘balance-scale.zip’ saved [1429/1429]\n",
            "\n",
            "Archive:  balance-scale.zip\n",
            "  inflating: balance-scale.csv       \n",
            "balance-scale.csv  balance-scale.zip  sample_data\n"
          ]
        }
      ],
      "source": [
        "#cargar datos desde drive acceso libre#\n",
        "#https://drive.google.com/file/d/1sKe2Y8ySCqSjmBprPUUj7zVU5QiicaTV/view?usp=share_link\n",
        "FILEID = \"1sKe2Y8ySCqSjmBprPUUj7zVU5QiicaTV\"\n",
        "#https://drive.google.com/file/d/1SQnWXGROG2Xexs5vn3twuv7SqiWG5njW/view?usp=sharing\n",
        "!wget --load-cookies /tmp/cookies.txt \"https://docs.google.com/uc?export=download&confirm=$(wget --quiet --save-cookies /tmp/cookies.txt --keep-session-cookies --no-check-certificate 'https://docs.google.com/uc?export=download&id='$FILEID -O- | sed -rn 's/.*confirm=([0-9A-Za-z_]+).*/\\1\\n/p')&id=\"$FILEID -O balance-scale.zip && rm -rf /tmp/cookies.txt\n",
        "!unzip -o balance-scale.zip\n",
        "!dir"
      ],
      "id": "f6c3187a"
    },
    {
      "cell_type": "code",
      "execution_count": 11,
      "metadata": {
        "execution": {
          "iopub.execute_input": "2022-10-25T15:29:54.274636Z",
          "iopub.status.busy": "2022-10-25T15:29:54.274135Z",
          "iopub.status.idle": "2022-10-25T15:29:54.349675Z",
          "shell.execute_reply": "2022-10-25T15:29:54.347735Z"
        },
        "id": "314154b6",
        "outputId": "60d9cbee-dbbf-4219-9cd6-2167aba74d20",
        "papermill": {
          "duration": 0.089199,
          "end_time": "2022-10-25T15:29:54.352328",
          "exception": false,
          "start_time": "2022-10-25T15:29:54.263129",
          "status": "completed"
        },
        "tags": [],
        "colab": {
          "base_uri": "https://localhost:8080/"
        }
      },
      "outputs": [
        {
          "output_type": "stream",
          "name": "stdout",
          "text": [
            "X (625, 4) t (625,)\n"
          ]
        },
        {
          "output_type": "execute_result",
          "data": {
            "text/plain": [
              "array([1, 3, 3, 3, 3, 3, 3, 3, 3, 3, 3, 3, 3, 3, 3, 3, 3, 3, 3, 3, 3, 3,\n",
              "       3, 3, 3, 2, 1, 3, 3, 3, 1, 3, 3, 3, 3, 3, 3, 3, 3, 3, 3, 3, 3, 3,\n",
              "       3, 3, 3, 3, 3, 3, 2, 2, 1, 3, 3, 2, 3, 3, 3, 3, 1, 3, 3, 3, 3, 3,\n",
              "       3, 3, 3, 3, 3, 3, 3, 3, 3, 2, 2, 2, 1, 3, 2, 1, 3, 3, 3, 2, 3, 3,\n",
              "       3, 3, 1, 3, 3, 3, 3, 3, 3, 3, 3, 3, 2, 2, 2, 2, 1, 2, 2, 3, 3, 3,\n",
              "       2, 3, 3, 3, 3, 2, 3, 3, 3, 3, 1, 3, 3, 3, 3, 2, 1, 3, 3, 3, 1, 3,\n",
              "       3, 3, 3, 3, 3, 3, 3, 3, 3, 3, 3, 3, 3, 3, 3, 3, 3, 3, 2, 2, 2, 1,\n",
              "       3, 2, 1, 3, 3, 3, 2, 3, 3, 3, 3, 1, 3, 3, 3, 3, 3, 3, 3, 3, 3, 2,\n",
              "       2, 2, 2, 2, 2, 2, 1, 3, 3, 2, 1, 3, 3, 3, 2, 3, 3, 3, 3, 2, 3, 3,\n",
              "       3, 3, 2, 2, 2, 2, 2, 2, 2, 2, 1, 3, 2, 2, 3, 3, 3, 2, 1, 3, 3, 3,\n",
              "       2, 3, 3, 3, 3, 2, 2, 2, 2, 2, 2, 2, 2, 2, 1, 2, 2, 2, 3, 3, 2, 2,\n",
              "       3, 3, 3, 2, 1, 3, 3, 3, 2, 2, 1, 3, 3, 2, 3, 3, 3, 3, 1, 3, 3, 3,\n",
              "       3, 3, 3, 3, 3, 3, 3, 3, 3, 3, 3, 2, 2, 2, 2, 2, 2, 2, 1, 3, 3, 2,\n",
              "       1, 3, 3, 3, 2, 3, 3, 3, 3, 2, 3, 3, 3, 3, 2, 2, 2, 2, 2, 2, 2, 2,\n",
              "       2, 3, 2, 2, 1, 3, 3, 2, 2, 3, 3, 3, 2, 3, 3, 3, 3, 2, 2, 2, 2, 2,\n",
              "       2, 2, 2, 2, 2, 2, 2, 2, 1, 3, 2, 2, 1, 3, 3, 2, 2, 3, 3, 3, 2, 2,\n",
              "       2, 2, 2, 2, 2, 2, 2, 2, 2, 2, 2, 2, 1, 2, 2, 2, 3, 3, 2, 2, 1, 3,\n",
              "       3, 2, 2, 2, 1, 3, 2, 1, 3, 3, 3, 2, 3, 3, 3, 3, 1, 3, 3, 3, 3, 3,\n",
              "       3, 3, 3, 3, 2, 2, 2, 2, 2, 2, 2, 2, 1, 3, 2, 2, 3, 3, 3, 2, 1, 3,\n",
              "       3, 3, 2, 3, 3, 3, 3, 2, 2, 2, 2, 2, 2, 2, 2, 2, 2, 2, 2, 2, 1, 3,\n",
              "       2, 2, 1, 3, 3, 2, 2, 3, 3, 3, 2, 2, 2, 2, 2, 2, 2, 2, 2, 2, 2, 2,\n",
              "       2, 2, 2, 2, 2, 2, 1, 3, 2, 2, 2, 3, 3, 2, 2, 2, 2, 2, 2, 2, 2, 2,\n",
              "       2, 2, 2, 2, 2, 2, 2, 2, 2, 2, 1, 2, 2, 2, 1, 3, 2, 2, 2, 2, 1, 2,\n",
              "       2, 3, 3, 3, 2, 3, 3, 3, 3, 2, 3, 3, 3, 3, 1, 3, 3, 3, 3, 2, 2, 2,\n",
              "       2, 2, 2, 2, 2, 2, 1, 2, 2, 2, 3, 3, 2, 2, 3, 3, 3, 2, 1, 3, 3, 3,\n",
              "       2, 2, 2, 2, 2, 2, 2, 2, 2, 2, 2, 2, 2, 2, 1, 2, 2, 2, 3, 3, 2, 2,\n",
              "       1, 3, 3, 2, 2, 2, 2, 2, 2, 2, 2, 2, 2, 2, 2, 2, 2, 2, 2, 2, 2, 2,\n",
              "       1, 2, 2, 2, 1, 3, 2, 2, 2, 2, 2, 2, 2, 2, 2, 2, 2, 2, 2, 2, 2, 2,\n",
              "       2, 2, 2, 2, 2, 2, 2, 2, 1])"
            ]
          },
          "metadata": {},
          "execution_count": 11
        }
      ],
      "source": [
        "#load data\n",
        "import scipy.io as sio\n",
        "import matplotlib.pyplot as plt\n",
        "import pandas as pd\n",
        "import tensorflow as tf #importar tensorflow\n",
        "from sklearn.model_selection import GridSearchCV, RandomizedSearchCV\n",
        "from sklearn.preprocessing import StandardScaler,MinMaxScaler\n",
        "import numpy as np\n",
        "database = 'Balance' #['bupa1', 'breast-cancer-wisconsin1','pima-indians-diabetes1', 'ionosphere1', 'tic-tac-toe1', 'iris1', 'wine1', 'segmentation1']\n",
        "\n",
        "\n",
        "import pandas as pd\n",
        "from sklearn.preprocessing import LabelEncoder\n",
        "df = pd.read_csv(r'/content/balance-scale.csv') \n",
        "df.head()\n",
        "\n",
        "#Dividing X and y\n",
        "t = np.array(LabelEncoder().fit_transform(df['Class'].tolist()))\n",
        "X = np.array(df.drop(['Class'], axis = 1).values)\n",
        "print('X',X.shape,'t',t.shape)\n",
        "t = t+1\n",
        "t\n",
        "    "
      ],
      "id": "314154b6"
    },
    {
      "cell_type": "code",
      "execution_count": 12,
      "id": "3a2674c2",
      "metadata": {
        "execution": {
          "iopub.execute_input": "2022-10-25T16:12:23.498115Z",
          "iopub.status.busy": "2022-10-25T16:12:23.497293Z",
          "iopub.status.idle": "2022-10-25T16:12:23.502869Z",
          "shell.execute_reply": "2022-10-25T16:12:23.501626Z"
        },
        "id": "3a2674c2",
        "papermill": {
          "duration": 0.018777,
          "end_time": "2022-10-25T16:12:23.505355",
          "exception": false,
          "start_time": "2022-10-25T16:12:23.486578",
          "status": "completed"
        },
        "tags": []
      },
      "outputs": [],
      "source": [
        "#!pip install tensorflow==2.7.0\n",
        "#!pip install scikeras"
      ]
    },
    {
      "cell_type": "markdown",
      "id": "a324070f",
      "metadata": {
        "id": "a324070f",
        "papermill": {
          "duration": 0.008801,
          "end_time": "2022-10-25T16:12:23.523949",
          "exception": false,
          "start_time": "2022-10-25T16:12:23.515148",
          "status": "completed"
        },
        "tags": []
      },
      "source": [
        "# Subclassing for GCCE"
      ]
    },
    {
      "cell_type": "code",
      "source": [
        "# -*- coding: utf-8 -*-\n",
        "import tensorflow as tf\n",
        "import matplotlib.pyplot as plt\n",
        "#from tensorflow.keras.wrappers.scikit_learn import KerasClassifier\n",
        "import tensorflow_probability as tfp\n",
        "from tensorflow.keras import regularizers\n",
        "from sklearn.base import  BaseEstimator, TransformerMixin, ClassifierMixin\n",
        "from sklearn.model_selection import train_test_split\n",
        "tf.keras.backend.clear_session()\n",
        "#tf.random.set_seed(42)\n",
        "import types\n",
        "import tempfile\n",
        "class Keras_MA_GCCE():  \n",
        " #Constructor __init__. Special method: identified by a double underscore at either side of their name\n",
        " #work in the background\n",
        " # initialize data members to the object. lets the class initialize the object’s attributes and serves no other purpose.\n",
        "    def __init__(self,epochs=100,batch_size=30,R=5, K=2, dropout=0.5, learning_rate=1e-3,optimizer='Adam', \n",
        "                  l1_param=0, validation_split=0.3, verbose=1, q = 0.1, neurons=1.5, loss = \"GCE\" ):\n",
        "        self.epochs=epochs\n",
        "        self.dropout=dropout\n",
        "        self.batch_size = batch_size\n",
        "        self.learning_rate=learning_rate \n",
        "        self.l1_param=l1_param \n",
        "        self.l2_param=l1_param\n",
        "        self.validation_split = validation_split\n",
        "        self.verbose = verbose\n",
        "        self.optimizer = optimizer\n",
        "        self.R=R\n",
        "        self.K=K\n",
        "        self.q = q\n",
        "        self.neurons = neurons\n",
        "        self.loss = loss\n",
        "    \n",
        "\n",
        "    \n",
        " \n",
        "    def GCE_MA_loss(self, y_true, y_pred):\n",
        "        # print(y_true,y_pred)\n",
        "       # q = 0.1\n",
        "        pred = y_pred[:, self.R:]\n",
        "        pred = tf.clip_by_value(pred, clip_value_min=1e-9, clip_value_max=1)\n",
        "        ann_ = y_pred[:, :self.R]\n",
        "        # ann_ = tf.clip_by_value(ann_, clip_value_min=1e-9, clip_value_max=1-1e-9)\n",
        "        Y_true = tf.one_hot(tf.cast(y_true, dtype=tf.int32), depth=self.K, axis=1)\n",
        "        #tf.print(tf.reduce_sum(Y_true[1,:,0]))\n",
        "        #tf.print(y_true[1,0])\n",
        "        Y_hat = tf.repeat(tf.expand_dims(pred,-1), self.R, axis = -1)\n",
        "\n",
        "        p_gcce = Y_true*(1 - Y_hat**self.q)/self.q\n",
        "        temp1 = ann_*tf.math.reduce_sum(p_gcce, axis=1)\n",
        "        temp2 = (1 - ann_)*(1-(1/self.K)**self.q)/self.q*tf.reduce_sum(Y_true,axis=1)\n",
        "        return tf.math.reduce_sum((temp1 + temp2))\n",
        "    \n",
        "    \n",
        "    def custom_RCDNN_loss(self, y_true, y_pred):  #ytrue \\in N x R,  ypred \\in N x (R+K) -> PRI->JULI\n",
        "    \n",
        "        #Input ytrue: samples (N) x  annotators (R) \n",
        "        #Input ypred: samples (N) x  annotators+classes (R+K) \n",
        "\n",
        "        #Ground truth estimation samples (N) x  Classes(K)\n",
        "        pred = y_pred[:,self.R:]\n",
        "        pred = tf.clip_by_value(pred, clip_value_min=1e-9, clip_value_max=1-1e-9) #estabilidad numerica de la funcion de costo\n",
        "        # Annotators reliability prediction: samples (N) x  annotators (R)\n",
        "        ann_ = y_pred[:,:self.R]\n",
        "        #Y_true 1-K: samples (N) x  Classes(1-K), annotators (R)\n",
        "        Y_true = tf.one_hot(tf.cast(y_true, dtype=tf.int32), depth=self.K, axis=1)\n",
        "        #Y_pred 1 - K: samples (N) x  Classes(1-K), annotators (R)\n",
        "        Y_hat = tf.repeat(tf.expand_dims(pred,-1), self.R, axis = -1)\n",
        "        #loss computation\n",
        "        p_logreg = tf.math.reduce_prod(tf.math.pow(Y_hat, Y_true), axis=1)\n",
        "        temp1 = ann_*tf.math.log(p_logreg)  \n",
        "        temp2 = (1 - ann_)*tf.math.log(1/self.K)*tf.reduce_sum(Y_true,axis=1)\n",
        "        # temp2 = (tf.ones(tf.shape(ann_)) - ann_)*tf.math.log(1/K)\n",
        "        # print(tf.reduce_mean(Y_true,axis=1).numpy())\n",
        "        return -tf.math.reduce_sum((temp1 + temp2))\n",
        "\n",
        " \n",
        "    def PRI_MA_loss(self, y_true, y_pred): #,  -> PRI\n",
        "        #Input ytrue: samples (N) x  annotators (R) \n",
        "        #Input ypred: samples (N) x  annotators+classes (R+K) \n",
        "        #PRI MA\n",
        "        cce_M = tf.keras.losses.CategoricalCrossentropy(reduction='none',axis=-1)\n",
        "        cce_C = tf.keras.losses.CategoricalCrossentropy(reduction='none',axis=1)\n",
        "\n",
        "      \n",
        "\n",
        "        #N = tf.cast(y_true.shape[0],dtype=tf.int32)\n",
        "        N = tf.shape(y_true)[0]\n",
        "        #Ground truth estimation samples (N) x  Classes(K)\n",
        "        y_pred_tf = y_pred[:,self.R:] \n",
        "        # Annotators reliability prediction: samples (N) x  annotators (R)\n",
        "        lambda_R_tf = y_pred[:,:self.R] #tf.ones(shape=(N,R)) \n",
        "        #Y_true 1 K: samples (N) x  Classes(1-K), annotators (R)\n",
        "        Y_true_1K = tf.one_hot(tf.cast(y_true,dtype=tf.int32),depth=self.K,axis=1)  \n",
        "        #Y_pred 1 - K: samples (N) x  Classes(1-K), annotators (R)\n",
        "        Y_hat = tf.repeat(tf.expand_dims(y_pred_tf,-1), self.R, axis = -1) \n",
        "        #marginal entropy\n",
        "        #cce along the K classes -> ypred_tf\n",
        "        Hm_ = cce_M(y_pred_tf,y_pred_tf)\n",
        "        #cross entropy\n",
        "        #cce along the K classes -> Y_hat\n",
        "        Hc_ = cce_C(Y_true_1K,Y_hat)\n",
        "        #PRI MA computation\n",
        "        LH = tf.linalg.matmul(lambda_R_tf,Hc_,transpose_a=True) # \\Lambda^\\top H_c\n",
        "        temp1 = tf.linalg.trace(LH) #trace(LH)\n",
        "        Hm1L = tf.linalg.matmul(tf.ones(shape=(N,self.R))-lambda_R_tf,tf.ones(shape=(self.R,1)))# 1_N 1_R^\\top - Lambda\n",
        "        Hm_t = tf.reshape(Hm_,shape=(N,1))\n",
        "        temp2 = tf.squeeze(tf.linalg.matmul(Hm_t,Hm1L,transpose_a=True)) # Hm^\\top Hm1L\n",
        "        loss_c = temp1+ temp2 #return loss\n",
        "\n",
        "        return loss_c\n",
        "\n",
        "    def fit(self, X, Y):\n",
        "        initializer = tf.keras.initializers.GlorotNormal(seed=100)\n",
        "        #input X numpy array first dimension samples (N)x features (P)\n",
        "        #input Y numpy array vector len = samples (N) x  annotators (R)\n",
        "\n",
        "        def scheduler1(step = 10, ratio = 1.2):\n",
        "          def scheduler(epoch, lr):\n",
        "            if epoch % step == 0 and epoch>1:\n",
        "              return lr/ratio\n",
        "            else:\n",
        "              return lr\n",
        "          return scheduler\n",
        "        P = X.shape[1]\n",
        "        \n",
        "        if self.optimizer == \"Adam\":\n",
        "            opt = tf.keras.optimizers.Adam(learning_rate=self.learning_rate)\n",
        "        elif self.optimizer == \"SGD\":\n",
        "            opt = tf.keras.optimizers.SGD(learning_rate=self.learning_rate)\n",
        "        elif self.optimizer == \"RMSprop\":\n",
        "            opt = tf.keras.optimizers.RMSprop(learning_rate=self.learning_rate)\n",
        "        elif self.optimizer == \"Adagrad\":\n",
        "            opt = tf.keras.optimizers.Adagrad(learning_rate=self.learning_rate)\n",
        "        else:\n",
        "            opt=self.optimizer\n",
        "\n",
        "\n",
        "        if self.loss == \"RCDNN\":\n",
        "          sel_loss = self.custom_RCDNN_loss\n",
        "        elif  sef.loss == \"GCE\":\n",
        "          sel_loss = self.GCE_MA_loss\n",
        "        \n",
        "        #capa de entrada\n",
        "        input_l = tf.keras.layers.Input(shape=(X_train.shape[1]), name='entrada')\n",
        "        input_l_b = tf.keras.layers.BatchNormalization()(input_l)        \n",
        "        input_l_do = tf.keras.layers.Dropout(rate=self.dropout)(input_l_b)    \n",
        "        #capas densas\n",
        "        h1 = tf.keras.layers.Dense(int(P*self.neurons*(self.K+self.R)),activation='selu',name='h1', bias_initializer='zeros', kernel_initializer=initializer,\n",
        "                              kernel_regularizer=tf.keras.regularizers.l1_l2(l1=self.l1_param,l2=self.l2_param))(input_l_do)#argumento de entrada\n",
        "       # h1 = tf.keras.layers.BatchNormalization()(h1)        \n",
        "        h1 = tf.keras.layers.AlphaDropout(rate=self.dropout)(h1)      \n",
        "        h2 = tf.keras.layers.Dense(int(P*(self.K+self.R)),activation='selu',name='h2', bias_initializer='zeros', kernel_initializer=initializer,\n",
        "                              kernel_regularizer=tf.keras.regularizers.l1_l2(l1=self.l1_param,l2=self.l2_param))(h1)\n",
        "        #h2 = tf.keras.layers.BatchNormalization()(h2)     \n",
        "        dout = tf.keras.layers.AlphaDropout(rate=self.dropout)(h2)\n",
        "        #capa de salida\n",
        "        output = tf.keras.layers.Dense(self.K,activation=\"softmax\",name='output',\n",
        "                                   kernel_regularizer=tf.keras.regularizers.l1_l2(l1=self.l1_param,l2=self.l2_param))(dout)\n",
        "        self.model = tf.keras.Model(inputs= input_l,outputs=output)\n",
        "        self.model.compile(loss=tf.keras.losses.SparseCategoricalCrossentropy(), optimizer=opt,metrics=[\"accuracy\"])\n",
        "         \n",
        "        \n",
        " \n",
        "\n",
        "        callback1 = tf.keras.callbacks.TerminateOnNaN()\n",
        "        callback2 = tf.keras.callbacks.LearningRateScheduler(scheduler1(ratio = 1))\n",
        "        #callback2 = tf.keras.callbacks.LearningRateScheduler(scheduler2)\n",
        "        callback3 = tf.keras.callbacks.EarlyStopping(monitor=\"loss\", min_delta=1e-2,\n",
        "                                                 patience=15, verbose=0, mode=\"auto\",\n",
        "                                                 baseline=None, restore_best_weights=True)\n",
        "            \n",
        " \n",
        "        self.history = self.model.fit(X, Y, epochs=self.epochs, validation_split=self.validation_split, callbacks = [callback1, callback2],   #\n",
        "                                      batch_size=self.batch_size,verbose=self.verbose)\n",
        " \n",
        "        return self\n",
        " \n",
        "  \n",
        "  \n",
        "    \n",
        "    def predict(self, X, *_):\n",
        "       #input X numpy array first dimension samples (N)x features (P)\n",
        "      return  self.model.predict(X) \n",
        " \n",
        " \n",
        "\n",
        "    def fit_predict(self,X,y):\n",
        "        #input X numpy array first dimension samples (N)x features (P)\n",
        "        #input Y numpy array vector len = samples (N) x  annotators (R)\n",
        "\n",
        "        self.fit(X,y)\n",
        "        return self.predict(X)\n",
        "    \n",
        "    def model_MC(self, X, *_):\n",
        "       #input X numpy array first dimension samples (N)x features (P)\n",
        "        return  self.model(X, training=True) \n",
        " \n",
        "  \n",
        "     #graphics\n",
        "    def plot_history(self):\n",
        "        pd.DataFrame(self.history.history).plot(figsize=(8, 5))\n",
        "        plt.grid(True)\n",
        "        #plt.gca().set_ylim(0, 1)\n",
        "        #save_fig(\"keras_learning_curves_plot\")\n",
        "        plt.show()\n",
        "        return\n",
        "    \n",
        "    def set_params(self, **parameters):\n",
        "        for parameter, value in parameters.items():\n",
        "            setattr(self, parameter, value)\n",
        "\n",
        "        return self\n",
        "    \n",
        "    \n",
        "    \n",
        "    def get_params(self, deep=True):\n",
        "        return { 'l1_param':self.l1_param, 'dropout':self.dropout, 'optimizer':self.optimizer,\n",
        "                'learning_rate':self.learning_rate, 'batch_size':self.batch_size,\n",
        "                'epochs':self.epochs, 'verbose':self.verbose, 'validation_split':self.validation_split,\n",
        "                'R':self.R, 'K':self.K, 'q':self.q\n",
        "                }\n",
        "\n",
        "  \n",
        "        return self\n"
      ],
      "metadata": {
        "id": "5iTxPx4-1Uel"
      },
      "id": "5iTxPx4-1Uel",
      "execution_count": 13,
      "outputs": []
    },
    {
      "cell_type": "code",
      "execution_count": 14,
      "id": "44996ad7",
      "metadata": {
        "execution": {
          "iopub.execute_input": "2022-10-25T16:12:23.544386Z",
          "iopub.status.busy": "2022-10-25T16:12:23.543966Z",
          "iopub.status.idle": "2022-10-25T16:12:33.410090Z",
          "shell.execute_reply": "2022-10-25T16:12:33.409061Z"
        },
        "id": "44996ad7",
        "papermill": {
          "duration": 9.879835,
          "end_time": "2022-10-25T16:12:33.412758",
          "exception": false,
          "start_time": "2022-10-25T16:12:23.532923",
          "status": "completed"
        },
        "tags": []
      },
      "outputs": [],
      "source": [
        "# -*- coding: utf-8 -*-\n",
        "import tensorflow as tf\n",
        "import matplotlib.pyplot as plt\n",
        "#from tensorflow.keras.wrappers.scikit_learn import KerasClassifier\n",
        "import tensorflow_probability as tfp\n",
        "from tensorflow.keras import regularizers\n",
        "from sklearn.base import  BaseEstimator, TransformerMixin, ClassifierMixin\n",
        "from sklearn.model_selection import train_test_split\n",
        "tf.keras.backend.clear_session()\n",
        "#tf.random.set_seed(42)\n",
        "import types\n",
        "import tempfile\n",
        "class Keras_MA_GCCE(): #transformer no va\n",
        " #Constructor __init__. Special method: identified by a double underscore at either side of their name\n",
        " #work in the background\n",
        " # initialize data members to the object. lets the class initialize the object’s attributes and serves no other purpose.\n",
        "    def __init__(self,epochs=100,batch_size=30,R=5, K=2, dropout=0.5, learning_rate=1e-3,optimizer='Adam', \n",
        "                  l1_param=0, validation_split=0.3, verbose=1, q = 0.1):\n",
        "        self.epochs=epochs\n",
        "        self.dropout=dropout\n",
        "        self.batch_size = batch_size\n",
        "        self.learning_rate=learning_rate \n",
        "        self.l1_param=l1_param \n",
        "        self.l2_param=l1_param\n",
        "        self.validation_split = validation_split\n",
        "        self.verbose = verbose\n",
        "        self.optimizer = optimizer\n",
        "        self.R=R\n",
        "        self.K=K\n",
        "        self.q = q\n",
        "\n",
        "    \n",
        " \n",
        "    def GCCE_MA_loss(self, y_true, y_pred):\n",
        "        # print(y_true,y_pred)\n",
        "       # q = 0.1\n",
        "        pred = y_pred[:, self.R:]\n",
        "        pred = tf.clip_by_value(pred, clip_value_min=1e-9, clip_value_max=1)\n",
        "        ann_ = y_pred[:, :self.R]\n",
        "        # ann_ = tf.clip_by_value(ann_, clip_value_min=1e-9, clip_value_max=1-1e-9)\n",
        "        Y_true = tf.one_hot(tf.cast(y_true, dtype=tf.int32), depth=self.K, axis=1)\n",
        "        Y_hat = tf.repeat(tf.expand_dims(pred,-1), self.R, axis = -1)\n",
        "\n",
        "        p_gcce = Y_true*(1 - Y_hat**self.q)/self.q\n",
        "        temp1 = ann_*tf.math.reduce_sum(p_gcce, axis=1)\n",
        "\n",
        "        # p_logreg = tf.math.reduce_prod(tf.math.pow(Y_hat, Y_true), axis=1)\n",
        "        # temp1 = ann_*tf.math.log(p_logreg)  \n",
        "        # temp2 = (1 - ann_)*tf.math.log(1/K)*tf.reduce_sum(Y_true,axis=1)\n",
        "        # aux = tf.repeat(tf.reduce_sum(pred*tf.math.log(pred),axis=1,keepdims=True), R, axis = 1)\n",
        "        # tf.print(tf.shape(aux))\n",
        "        # print(tf.shape(aux))\n",
        "        # temp2 = (1 - ann_)*aux*tf.reduce_sum(Y_true,axis=1)\n",
        "        # temp2 = (tf.ones(tf.shape(ann_)) - ann_)*tf.math.log(1/K)\n",
        "        # print(tf.reduce_mean(Y_true,axis=1).numpy())\n",
        "        # Y_true_1 = tf.clip_by_value(Y_true, clip_value_min=1e-9, clip_value_max=1)\n",
        "        # p_logreg_inv = tf.math.reduce_prod(tf.math.pow(Y_true_1, Y_hat), axis=1)\n",
        "        # temp2 = (1 - ann_)*tf.math.log(p_logreg_inv) \n",
        "        temp2 = (1 - ann_)*(1-(1/self.K)**self.q)/self.q*tf.reduce_sum(Y_true,axis=1)\n",
        "        return tf.math.reduce_sum((temp1 + temp2))\n",
        "\n",
        " \n",
        "    def PRI_MA_loss(self, y_true, y_pred): #,  -> PRI\n",
        "        #Input ytrue: samples (N) x  annotators (R) \n",
        "        #Input ypred: samples (N) x  annotators+classes (R+K) \n",
        "        #PRI MA\n",
        "        cce_M = tf.keras.losses.CategoricalCrossentropy(reduction='none',axis=-1)\n",
        "        cce_C = tf.keras.losses.CategoricalCrossentropy(reduction='none',axis=1)\n",
        "\n",
        "      \n",
        "\n",
        "        #N = tf.cast(y_true.shape[0],dtype=tf.int32)\n",
        "        N = tf.shape(y_true)[0]\n",
        "        #Ground truth estimation samples (N) x  Classes(K)\n",
        "        y_pred_tf = y_pred[:,self.R:] \n",
        "        # Annotators reliability prediction: samples (N) x  annotators (R)\n",
        "        lambda_R_tf = y_pred[:,:self.R] #tf.ones(shape=(N,R)) \n",
        "        #Y_true 1 K: samples (N) x  Classes(1-K), annotators (R)\n",
        "        Y_true_1K = tf.one_hot(tf.cast(y_true,dtype=tf.int32),depth=self.K,axis=1)  \n",
        "        #Y_pred 1 - K: samples (N) x  Classes(1-K), annotators (R)\n",
        "        Y_hat = tf.repeat(tf.expand_dims(y_pred_tf,-1), self.R, axis = -1) \n",
        "        #marginal entropy\n",
        "        #cce along the K classes -> ypred_tf\n",
        "        Hm_ = cce_M(y_pred_tf,y_pred_tf)\n",
        "        #cross entropy\n",
        "        #cce along the K classes -> Y_hat\n",
        "        Hc_ = cce_C(Y_true_1K,Y_hat)\n",
        "        #PRI MA computation\n",
        "        LH = tf.linalg.matmul(lambda_R_tf,Hc_,transpose_a=True) # \\Lambda^\\top H_c\n",
        "        temp1 = tf.linalg.trace(LH) #trace(LH)\n",
        "        Hm1L = tf.linalg.matmul(tf.ones(shape=(N,self.R))-lambda_R_tf,tf.ones(shape=(self.R,1)))# 1_N 1_R^\\top - Lambda\n",
        "        Hm_t = tf.reshape(Hm_,shape=(N,1))\n",
        "        temp2 = tf.squeeze(tf.linalg.matmul(Hm_t,Hm1L,transpose_a=True)) # Hm^\\top Hm1L\n",
        "        loss_c = temp1+ temp2 #return loss\n",
        "\n",
        "        return loss_c\n",
        "\n",
        " \n",
        "    def fit(self, X, Y):\n",
        "        #input X numpy array first dimension samples (N)x features (P)\n",
        "        #input Y numpy array vector len = samples (N) x  annotators (R)\n",
        "        P = X.shape[1]\n",
        "        if self.optimizer == \"Adam\":\n",
        "            opt = tf.keras.optimizers.Adam(learning_rate=self.learning_rate, clipnorm=1.0)\n",
        "        elif self.optimizer == \"SGD\":\n",
        "            opt = tf.keras.optimizers.SGD(learning_rate=self.learning_rate, clipnorm=1.0)\n",
        "        else:\n",
        "            opt=self.optimizer\n",
        "\n",
        "        #capa de entrada\n",
        "        input_l = tf.keras.layers.Input(shape=(X_train.shape[1]), name='entrada')\n",
        "        #capas densas\n",
        "        h1 = tf.keras.layers.Dense(int(P*4*(self.K+self.R)),activation='selu',name='h1',\n",
        "                              kernel_regularizer=tf.keras.regularizers.l1_l2(l1=self.l1_param,l2=self.l2_param))(input_l)#argumento de entrada\n",
        "        h2 = tf.keras.layers.Dense(int(P*(self.K+self.R)),activation='selu',name='h2',\n",
        "                              kernel_regularizer=tf.keras.regularizers.l1_l2(l1=self.l1_param,l2=self.l2_param))(h1)\n",
        "        dout = tf.keras.layers.Dropout(rate=self.dropout)(h2)\n",
        "        #capa de salida\n",
        "        output = tf.keras.layers.Dense(self.K,activation=\"softmax\",name='output',\n",
        "                                   kernel_regularizer=tf.keras.regularizers.l1_l2(l1=self.l1_param,l2=self.l2_param))(dout)\n",
        "        self.model = tf.keras.Model(inputs= input_l,outputs=output)\n",
        "        self.model.compile(loss=tf.keras.losses.SparseCategoricalCrossentropy(), optimizer=opt,metrics=[\"accuracy\"])\n",
        "         \n",
        "        self.history = self.model.fit(X, Y, epochs=self.epochs, validation_split=self.validation_split,   #\n",
        "                                      batch_size=self.batch_size,verbose=self.verbose)\n",
        " \n",
        "        return self\n",
        " \n",
        "  \n",
        "    \n",
        "    def predict(self, X, *_):\n",
        "       #input X numpy array first dimension samples (N)x features (P)\n",
        "      return  self.model.predict(X) \n",
        " \n",
        " \n",
        "\n",
        "    def fit_predict(self,X,y):\n",
        "        #input X numpy array first dimension samples (N)x features (P)\n",
        "        #input Y numpy array vector len = samples (N) x  annotators (R)\n",
        "        self.fit(X,y)\n",
        "        return self.predict(X)\n",
        "  \n",
        "     #graphics\n",
        "    def plot_history(self):\n",
        "        pd.DataFrame(self.history.history).plot(figsize=(8, 5))\n",
        "        plt.grid(True)\n",
        "        #plt.gca().set_ylim(0, 1)\n",
        "        #save_fig(\"keras_learning_curves_plot\")\n",
        "        plt.show()\n",
        "        return\n",
        "    \n",
        "    def set_params(self, **parameters):\n",
        "        for parameter, value in parameters.items():\n",
        "            setattr(self, parameter, value)\n",
        "\n",
        "        return self\n",
        "    \n",
        "    \n",
        "    \n",
        "    def get_params(self, deep=True):\n",
        "        return { 'l1_param':self.l1_param, 'dropout':self.dropout, 'optimizer':self.optimizer,\n",
        "                'learning_rate':self.learning_rate, 'batch_size':self.batch_size,\n",
        "                'epochs':self.epochs, 'verbose':self.verbose, 'validation_split':self.validation_split,\n",
        "                'R':self.R, 'K':self.K, 'q':self.q\n",
        "                }\n",
        "\n",
        "  \n",
        "        return self\n"
      ]
    },
    {
      "cell_type": "markdown",
      "id": "680206a1",
      "metadata": {
        "id": "680206a1",
        "papermill": {
          "duration": 0.008971,
          "end_time": "2022-10-25T16:12:33.603833",
          "exception": false,
          "start_time": "2022-10-25T16:12:33.594862",
          "status": "completed"
        },
        "tags": []
      },
      "source": [
        "# Labels Generation  "
      ]
    },
    {
      "cell_type": "code",
      "execution_count": 15,
      "id": "cd9b2bef",
      "metadata": {
        "execution": {
          "iopub.execute_input": "2022-10-25T16:12:33.625038Z",
          "iopub.status.busy": "2022-10-25T16:12:33.624338Z",
          "iopub.status.idle": "2022-10-25T16:12:33.914336Z",
          "shell.execute_reply": "2022-10-25T16:12:33.913366Z"
        },
        "id": "cd9b2bef",
        "papermill": {
          "duration": 0.303753,
          "end_time": "2022-10-25T16:12:33.916988",
          "exception": false,
          "start_time": "2022-10-25T16:12:33.613235",
          "status": "completed"
        },
        "tags": []
      },
      "outputs": [],
      "source": [
        "import random\n",
        "import warnings\n",
        "import numpy as np\n",
        "#import climin\n",
        "from functools import partial\n",
        "import matplotlib.pyplot as plt\n",
        "from sklearn.preprocessing import StandardScaler\n",
        "from sklearn.cluster import KMeans\n",
        "import matplotlib.pyplot as plt\n",
        "from sklearn.manifold import TSNE\n",
        "\n",
        "#Defining the Sigmoid function and Softmax function\n",
        "def Sigmoid(f_r):\n",
        "    lam_r = 1/(1 + np.exp(-f_r))\n",
        "    return lam_r\n",
        "\n",
        "def MAjVot(Y, K):\n",
        "    N,R = Y.shape\n",
        "    Yhat = np.zeros((N,1))\n",
        "    for n in range(N):\n",
        "        votes = np.zeros((K,1))\n",
        "        for r in range(R):\n",
        "            for k in range(K):\n",
        "                if Y[n,r] == k+1:\n",
        "                    votes[k] = votes[k]+1\n",
        "        Yhat[n] = np.argmax(votes) + 1\n",
        "    return Yhat\n",
        "\n",
        "\n",
        "def  MA_Clas_Gen(Xtrain,ytrain,R,NrP):\n",
        "\n",
        "    N = len(ytrain)\n",
        "    K = len(np.unique(ytrain))\n",
        "    Kn = np.unique(ytrain)\n",
        "    aux = 0\n",
        "    A = np.zeros((K,1))\n",
        "    for k in Kn:\n",
        "        A[aux] = (ytrain == k).sum()\n",
        "        aux = aux + 1\n",
        "    per = np.min(A)\n",
        "    if N < 25000:\n",
        "        Xtrain = TSNE(n_components=1,perplexity=per/2).fit_transform(Xtrain)\n",
        "    else:\n",
        "        Xtrain = np.sum(Xtrain,1)\n",
        "    # Xtrain = Xtrain-Xtrain.min()\n",
        "    # Xtrain = Xtrain/Xtrain.max()\n",
        "    #ytrain = y\n",
        "    # scaler = StandardScaler()\n",
        "    # scalerY = scaler.fit(y)\n",
        "    # ytrain = scaler.fit_transform(y)\n",
        "\n",
        "    \n",
        "    #miny = y.min()\n",
        "    #ytrain = y-miny\n",
        "    #maxy = ytrain.max()\n",
        "    #ytrain = ytrain/maxy\n",
        "  \n",
        "    # Xtrain = np.sum(Xtrain, axis=1)\n",
        "    Xtrain = Xtrain - Xtrain.min()\n",
        "    #print(Xtrain.min(), Xtrain.max())\n",
        "    Xtrain = Xtrain/Xtrain.max()\n",
        "    Xtrain = Xtrain.reshape((N,1))\n",
        "    yprueba = np.ones((N,1))\n",
        "    \n",
        "    \n",
        "    u_q = np.empty((Xtrain.shape[0],3))\n",
        "    u_q[:,0,None] = 4.5*np.cos(2*np.pi*Xtrain + 1.5*np.pi) - \\\n",
        "                               3*np.sin(4.3*np.pi*Xtrain + 0.3*np.pi)\n",
        "                    \n",
        "    u_q[:,1,None] = 4.5*np.cos(1.5*np.pi*Xtrain + 0.5*np.pi) + \\\n",
        "                       5*np.sin(3*np.pi*Xtrain + 1.5*np.pi)\n",
        "    \n",
        "    u_q[:,2,None] = 1\n",
        "    \n",
        "    W = []\n",
        "    # q=1\n",
        "    Wq1 = np.array(([[0.4],[0.7],[-0.5],[0],[-0.7]]))\n",
        "    W.append(Wq1)\n",
        "    # q=2\n",
        "    Wq2 = np.array(([[0.4],[-1.0],[-0.1],[-0.8],[1.0]]))\n",
        "    W.append(Wq2)\n",
        "    Wq3 = np.array(([[3.1],[-1.8],[-0.6],[-1.2],[1.0]]))\n",
        "    W.append(Wq3)\n",
        "\n",
        "    \n",
        "    F_r = []\n",
        "    Lam_r = []\n",
        "    for r in range(R):\n",
        "        f_r = np.zeros((Xtrain.shape[0], 1))\n",
        "        # rho_r = np.zeros((Xtrain.shape[0], 1))\n",
        "        for q in range(3):\n",
        "            f_r += W[q][r].T*u_q[:,q,None]\n",
        "        F_r.append(f_r)\n",
        "        lam_r = Sigmoid(f_r)\n",
        "        lam_r[lam_r>0.5] = 1\n",
        "        lam_r[lam_r<=0.5] = 0\n",
        "        Lam_r.append(lam_r)\n",
        "    plt.plot(Xtrain,Lam_r[2],'rx')\n",
        "    plt.show()\n",
        "    seed = 0\n",
        "    np.random.seed(seed)\n",
        "    Ytrain = np.ones((N, R))\n",
        "    for r in range(R):\n",
        "        aux = ytrain.copy()\n",
        "        for n in range(N):\n",
        "            if Lam_r[r][n] == 0:\n",
        "                labels = np.arange(1, K+1)\n",
        "                a = np.where(labels==ytrain[n])\n",
        "                labels = np.delete(labels, a)\n",
        "                idxlabels = np.random.permutation(K-1)\n",
        "                aux[n] = labels[idxlabels[0]]         \n",
        "        Ytrain[:,r] = aux.flatten()\n",
        "        \n",
        "   # Ytrain = (Ytrain*maxy) + miny\n",
        "        \n",
        "    iAnn = np.zeros((N, R), dtype=int) # this indicates if the annotator r labels the nth sample.\n",
        "    Nr = np.ones((R), dtype=int)*int(np.floor(N*NrP))  \n",
        "    for r in range(R):\n",
        "        if r < R-1:\n",
        "            indexR = np.random.permutation(range(N))[:Nr[r]]\n",
        "            iAnn[indexR,r] = 1\n",
        "        else:\n",
        "            iSimm = np.sum(iAnn, axis=1)\n",
        "            idxZero = np.asarray([i for (i, val) in enumerate(iSimm) if val == 0])\n",
        "            Nzeros = idxZero.shape[0]\n",
        "            idx2Choose = np.arange(N)\n",
        "            if Nzeros == 0:\n",
        "                indexR = np.random.permutation(range(N))[:Nr[r]]\n",
        "                iAnn[indexR,r] = 1\n",
        "            else:\n",
        "                idx2Choose = np.delete(idx2Choose, idxZero)\n",
        "                N2chose = idx2Choose.shape[0]\n",
        "                idxNoZero = np.random.permutation(N2chose)[:(Nr[r] - Nzeros)]\n",
        "                idxTot = np.concatenate((idxZero, idx2Choose[idxNoZero]))\n",
        "                iAnn[idxTot,r] = 1\n",
        "    \n",
        "    # Now, we verify that all the samples were labeled at least once\n",
        "    Nr = (np.sum(iAnn,0))\n",
        "    iSimm = np.sum(iAnn, axis=1)\n",
        "    if np.asarray([i for (i, val) in enumerate(iSimm) if val == 0]).sum() == 0:\n",
        "        ValueError(\"all the samples must be labeled at least once\")\n",
        "\n",
        "    # Finally, if iAnn=0 we assign a reference value to indicate a missing value\n",
        "    Vref = -1e-20\n",
        "    for r in range(R):\n",
        "        Ytrain[iAnn[:,r] == 0, r] = Vref \n",
        "\n",
        "    return Ytrain, iAnn, Lam_r\n",
        "\n",
        "\n",
        "def CrossVal(X, pp, Nk):\n",
        "    N = X.shape[0]\n",
        "    Ntr = int(N*pp)\n",
        "    Nte = N - Ntr\n",
        "    idxtr = np.zeros((Ntr,Nk))\n",
        "    idxte = np.zeros((Nte,Nk))\n",
        "    \n",
        "    for i in range(Nk):\n",
        "        index = np.random.permutation(range(N))\n",
        "        idxtr[:,i] = index[:Ntr]\n",
        "        idxte[:,i] = index[Ntr:]\n",
        "        \n",
        "    return idxtr, idxte\n",
        "    \n",
        "    \n",
        "        \n"
      ]
    },
    {
      "cell_type": "code",
      "execution_count": 16,
      "id": "69b98f78",
      "metadata": {
        "execution": {
          "iopub.execute_input": "2022-10-25T16:12:33.939126Z",
          "iopub.status.busy": "2022-10-25T16:12:33.938410Z",
          "iopub.status.idle": "2022-10-25T16:12:34.687433Z",
          "shell.execute_reply": "2022-10-25T16:12:34.686417Z"
        },
        "id": "69b98f78",
        "outputId": "3bfc9a0a-45b7-48a3-96dd-46725d22ac6b",
        "papermill": {
          "duration": 0.763709,
          "end_time": "2022-10-25T16:12:34.690261",
          "exception": false,
          "start_time": "2022-10-25T16:12:33.926552",
          "status": "completed"
        },
        "tags": [],
        "colab": {
          "base_uri": "https://localhost:8080/",
          "height": 354
        }
      },
      "outputs": [
        {
          "output_type": "stream",
          "name": "stderr",
          "text": [
            "/usr/local/lib/python3.8/dist-packages/sklearn/manifold/_t_sne.py:780: FutureWarning: The default initialization in TSNE will change from 'random' to 'pca' in 1.2.\n",
            "  warnings.warn(\n",
            "/usr/local/lib/python3.8/dist-packages/sklearn/manifold/_t_sne.py:790: FutureWarning: The default learning rate in TSNE will change from 200.0 to 'auto' in 1.2.\n",
            "  warnings.warn(\n"
          ]
        },
        {
          "output_type": "display_data",
          "data": {
            "text/plain": [
              "<Figure size 432x288 with 1 Axes>"
            ],
            "image/png": "[encoded data removed]"
          },
          "metadata": {
            "needs_background": "light"
          }
        }
      ],
      "source": [
        "Y, iAnn, Lam_r = MA_Clas_Gen(X ,t, R=5, NrP=1)"
      ]
    },
    {
      "cell_type": "code",
      "execution_count": 17,
      "id": "6f37afa8",
      "metadata": {
        "execution": {
          "iopub.execute_input": "2022-10-25T16:12:34.715023Z",
          "iopub.status.busy": "2022-10-25T16:12:34.714190Z",
          "iopub.status.idle": "2022-10-25T16:12:34.718612Z",
          "shell.execute_reply": "2022-10-25T16:12:34.717857Z"
        },
        "id": "6f37afa8",
        "papermill": {
          "duration": 0.019476,
          "end_time": "2022-10-25T16:12:34.720878",
          "exception": false,
          "start_time": "2022-10-25T16:12:34.701402",
          "status": "completed"
        },
        "tags": []
      },
      "outputs": [],
      "source": [
        "\n",
        "Y = Y - 1\n",
        "t = t - 1\n",
        "#YMA = YMA-1\n"
      ]
    },
    {
      "cell_type": "code",
      "execution_count": 18,
      "id": "afa39f4c",
      "metadata": {
        "execution": {
          "iopub.execute_input": "2022-10-25T16:12:34.742870Z",
          "iopub.status.busy": "2022-10-25T16:12:34.742193Z",
          "iopub.status.idle": "2022-10-25T16:12:34.772254Z",
          "shell.execute_reply": "2022-10-25T16:12:34.771351Z"
        },
        "papermill": {
          "duration": 0.043962,
          "end_time": "2022-10-25T16:12:34.774821",
          "exception": false,
          "start_time": "2022-10-25T16:12:34.730859",
          "status": "completed"
        },
        "tags": [],
        "id": "afa39f4c"
      },
      "outputs": [],
      "source": [
        "import numpy as np\n",
        "from scipy import stats\n",
        "Ytr_mv  = []\n",
        "for i in range(Y.shape[0]):\n",
        "     #print(Y[i])\n",
        "     Ytr_mv   += [np.take(stats.mode(Y[i]),0)]\n",
        "     #print(mode_Y)\n",
        "#Ytr_mv "
      ]
    },
    {
      "cell_type": "code",
      "execution_count": 19,
      "id": "34bc823c",
      "metadata": {
        "execution": {
          "iopub.execute_input": "2022-10-25T16:12:34.796440Z",
          "iopub.status.busy": "2022-10-25T16:12:34.795759Z",
          "iopub.status.idle": "2022-10-25T16:12:34.803243Z",
          "shell.execute_reply": "2022-10-25T16:12:34.802227Z"
        },
        "papermill": {
          "duration": 0.02088,
          "end_time": "2022-10-25T16:12:34.805450",
          "exception": false,
          "start_time": "2022-10-25T16:12:34.784570",
          "status": "completed"
        },
        "tags": [],
        "colab": {
          "base_uri": "https://localhost:8080/"
        },
        "id": "34bc823c",
        "outputId": "9e469d36-5337-43b7-c899-2072bf05ce1d"
      },
      "outputs": [
        {
          "output_type": "execute_result",
          "data": {
            "text/plain": [
              "(625, 1)"
            ]
          },
          "metadata": {},
          "execution_count": 19
        }
      ],
      "source": [
        "Ytr_mv = np.array(Ytr_mv).reshape(-1,1) \n",
        "Ytr_mv.shape"
      ]
    },
    {
      "cell_type": "code",
      "execution_count": 20,
      "id": "4f2da040",
      "metadata": {
        "execution": {
          "iopub.execute_input": "2022-10-25T16:12:34.827872Z",
          "iopub.status.busy": "2022-10-25T16:12:34.826951Z",
          "iopub.status.idle": "2022-10-25T16:12:34.839503Z",
          "shell.execute_reply": "2022-10-25T16:12:34.837722Z"
        },
        "papermill": {
          "duration": 0.027375,
          "end_time": "2022-10-25T16:12:34.842660",
          "exception": false,
          "start_time": "2022-10-25T16:12:34.815285",
          "status": "completed"
        },
        "tags": [],
        "colab": {
          "base_uri": "https://localhost:8080/"
        },
        "id": "4f2da040",
        "outputId": "c5a4c12d-c023-463e-c0cc-557b9931ac90"
      },
      "outputs": [
        {
          "output_type": "stream",
          "name": "stdout",
          "text": [
            "annotator 1\n",
            "              precision    recall  f1-score   support\n",
            "\n",
            "           0       0.36      0.92      0.52        49\n",
            "           1       0.89      0.80      0.84       288\n",
            "           2       0.93      0.79      0.86       288\n",
            "\n",
            "    accuracy                           0.80       625\n",
            "   macro avg       0.73      0.84      0.74       625\n",
            "weighted avg       0.87      0.80      0.82       625\n",
            "\n"
          ]
        }
      ],
      "source": [
        "from sklearn.metrics import classification_report\n",
        "\n",
        "for i in range(Ytr_mv.shape[1]):\n",
        "  print('annotator',i+1)\n",
        "  print(classification_report(t,Ytr_mv))\n"
      ]
    },
    {
      "cell_type": "markdown",
      "id": "f6e88fd2",
      "metadata": {
        "id": "f6e88fd2",
        "papermill": {
          "duration": 0.009664,
          "end_time": "2022-10-25T16:12:34.891265",
          "exception": false,
          "start_time": "2022-10-25T16:12:34.881601",
          "status": "completed"
        },
        "tags": []
      },
      "source": [
        "# Split data"
      ]
    },
    {
      "cell_type": "code",
      "execution_count": 21,
      "id": "76272cf8",
      "metadata": {
        "execution": {
          "iopub.execute_input": "2022-10-25T16:12:34.913036Z",
          "iopub.status.busy": "2022-10-25T16:12:34.912335Z",
          "iopub.status.idle": "2022-10-25T16:12:34.925122Z",
          "shell.execute_reply": "2022-10-25T16:12:34.923514Z"
        },
        "id": "76272cf8",
        "outputId": "c9767c60-1b88-4010-c8c7-bd5b33e36f7e",
        "papermill": {
          "duration": 0.026619,
          "end_time": "2022-10-25T16:12:34.927703",
          "exception": false,
          "start_time": "2022-10-25T16:12:34.901084",
          "status": "completed"
        },
        "tags": [],
        "colab": {
          "base_uri": "https://localhost:8080/"
        }
      },
      "outputs": [
        {
          "output_type": "stream",
          "name": "stdout",
          "text": [
            "[618 454 423 593 338 404 345 132 150 379  54 386 508 378 242  43 602  11\n",
            " 237 192 520  48 333 543 209 524  82 102 374 142 177 288 171 298 348 131\n",
            " 384 246 470 566 138 353 421 491 320 604 474  85 367 477 527 567  57 548\n",
            " 356 272 164 264 263 481 430 200 437   5 166  35 509 205 156 542 202 120\n",
            " 243 107   9 620 601  78 560 134 422 574 282  59 328 512  31 199 185 568\n",
            " 172 285 396 587 482 611 151 155 297 391  66 275 501 406 502 252 274 266\n",
            "  75 582 383 327  13 600 300 227 310 431 397 162  79 529 335 221 294 614\n",
            " 349 622 488 231 270 514 350  36 446 381 196 577 416 550  34  33 212 588\n",
            " 347 118  15 230 159 429 398  93 217 181 556 190 403 116 336 456 452 170\n",
            " 426 457 368 280  30   0  72 408 277 392 344 234 362  74 511  24 549 273\n",
            "  64 402 268 226 261 575  55 287]\n",
            "(437, 4) (437, 1) (437, 1)\n"
          ]
        }
      ],
      "source": [
        "import numpy.matlib\n",
        "from sklearn.model_selection import ShuffleSplit, StratifiedShuffleSplit\n",
        "Ns = 1\n",
        "ss = ShuffleSplit(n_splits=Ns, test_size=0.3,random_state =123)\n",
        "for train_index, test_index in ss.split(X):\n",
        "    print(test_index)\n",
        "    X_train, X_test,Y_train,Y_test = X[train_index,:], X[test_index,:],Ytr_mv[train_index,:], Ytr_mv[test_index,:]\n",
        "    Y_true_train, Y_true_test = t[train_index].reshape(-1,1), t[test_index].reshape(-1,1)\n",
        "print(X_train.shape, Y_train.shape, Y_true_train.shape)"
      ]
    },
    {
      "cell_type": "markdown",
      "id": "263cfae1",
      "metadata": {
        "id": "263cfae1",
        "papermill": {
          "duration": 0.009661,
          "end_time": "2022-10-25T16:12:34.975675",
          "exception": false,
          "start_time": "2022-10-25T16:12:34.966014",
          "status": "completed"
        },
        "tags": []
      },
      "source": [
        "# Apply MinMaxScaler"
      ]
    },
    {
      "cell_type": "code",
      "execution_count": 22,
      "id": "ff3525b2",
      "metadata": {
        "execution": {
          "iopub.execute_input": "2022-10-25T16:12:34.997040Z",
          "iopub.status.busy": "2022-10-25T16:12:34.996629Z",
          "iopub.status.idle": "2022-10-25T16:12:35.003410Z",
          "shell.execute_reply": "2022-10-25T16:12:35.002142Z"
        },
        "id": "ff3525b2",
        "papermill": {
          "duration": 0.020314,
          "end_time": "2022-10-25T16:12:35.005935",
          "exception": false,
          "start_time": "2022-10-25T16:12:34.985621",
          "status": "completed"
        },
        "tags": []
      },
      "outputs": [],
      "source": [
        "scaler = MinMaxScaler()\n",
        "scaler.fit(X_train)\n",
        "X_train = scaler.transform(X_train)\n",
        "X_test = scaler.transform(X_test)"
      ]
    },
    {
      "cell_type": "markdown",
      "id": "688b4989",
      "metadata": {
        "id": "688b4989",
        "papermill": {
          "duration": 0.009501,
          "end_time": "2022-10-25T16:12:35.025533",
          "exception": false,
          "start_time": "2022-10-25T16:12:35.016032",
          "status": "completed"
        },
        "tags": []
      },
      "source": [
        "# Testing the Class \n"
      ]
    },
    {
      "cell_type": "code",
      "source": [
        "# from sklearn.metrics import classification_report, balanced_accuracy_score\n",
        "# from sklearn.metrics import normalized_mutual_info_score, mutual_info_score, adjusted_mutual_info_score\n",
        "# l1 =0.01\n",
        "# NUM_RUNS =10\n",
        "# ACC = np.zeros(NUM_RUNS)\n",
        "# AUC = np.zeros(NUM_RUNS)\n",
        "# MI = np.zeros(NUM_RUNS)\n",
        "# NMI = np.zeros(NUM_RUNS)\n",
        "# AMI = np.zeros(NUM_RUNS)\n",
        "# BACC = np.zeros(NUM_RUNS)\n",
        "# for i in range(NUM_RUNS): #10\n",
        "#     print(\"iteration: \" + str(i))\n",
        "   \n",
        "#     MA = Keras_MA_GCCE(epochs=100,batch_size=32 ,R=5, K=len(np.unique(Y_true_train)), dropout=0.5, learning_rate=0.01,optimizer='Adam', \n",
        "#                 l1_param=l1,  validation_split=0.3, verbose=0)\n",
        "    \n",
        "#     MA.fit(X_train, Y_train)\n",
        "#     MA.plot_history()\n",
        "  \n",
        "#     #Accuracy\n",
        "#     pred_2 = MA.predict(X_test)\n",
        " \n",
        "#     report = classification_report( pred_2.argmax(axis=1),Y_true_test.ravel(),output_dict=True)\n",
        "#     ACC[i] = report['accuracy']\n",
        "#     print(\"Validation ACC: %.4f\" % (float(ACC[i])))\n",
        "\n",
        "\n",
        "#     # balanced. Accurcy\n",
        "#     BACC[i] = balanced_accuracy_score(Y_true_test.squeeze(), pred_2.argmax(axis=1).squeeze(), adjusted=True)\n",
        "#     print(\"Validation Balanced_ACC: %.4f\" % (float(BACC[i])))\n",
        "\n",
        "#     #MI\n",
        "    \n",
        "#     MI[i] = mutual_info_score(Y_true_test.squeeze(), pred_2.argmax(axis=1).squeeze())\n",
        "#     print(\"Validation MI: %.4f\" % (float(MI[i]),))\n",
        "#     NMI[i] = normalized_mutual_info_score(Y_true_test.squeeze(), pred_2.argmax(axis=1).squeeze())\n",
        "#     print(\"Validation Normalized MI: %.4f\" % (float(NMI[i]),))\n",
        "#     AMI[i]= adjusted_mutual_info_score(Y_true_test.squeeze(), pred_2.argmax(axis=1).squeeze())\n",
        "#     print(\"Validation Adjusted MI: %.4f\" % (float(AMI[i]),))\n",
        "\n",
        "\n",
        "#     #AUC\n",
        "#     val_AUC_metric = tf.keras.metrics.AUC( from_logits = True)  \n",
        "#    # val_logits =MA.predict(X_test) # model(X_test, training=False)\n",
        "#     # tf.print(y_batch_val)\n",
        "#     val_AUC_metric.update_state(Y_true_test, pred_2.argmax(axis=1).astype('float'))\n",
        "\n",
        "#     val_AUC = val_AUC_metric.result()\n",
        "#     val_AUC_metric.reset_states()\n",
        "#     val_AUC = val_AUC.numpy()\n",
        "#     print(\"Validation aUc: %.4f\" % (float(val_AUC),))\n",
        "#     AUC[i] = val_AUC\n",
        "    "
      ],
      "metadata": {
        "id": "hTWAQ3xc4SOh"
      },
      "id": "hTWAQ3xc4SOh",
      "execution_count": 23,
      "outputs": []
    },
    {
      "cell_type": "code",
      "source": [
        "from sklearn.metrics import classification_report, balanced_accuracy_score, roc_auc_score\n",
        "from sklearn.metrics import normalized_mutual_info_score, mutual_info_score, adjusted_mutual_info_score\n",
        "import pandas as pd\n",
        "l1 =0.01\n",
        "NUM_RUNS =10\n",
        "custom_loss = \"MV\"\n",
        "\n",
        "\n",
        "results = []\n",
        "for i in range(NUM_RUNS):\n",
        "\n",
        "    print(\"iteration: \" + str(i))\n",
        "   \n",
        "    MA = Keras_MA_GCCE(epochs=100,batch_size=32 ,R=5, K=len(np.unique(Y_true_train)), dropout=0.5, learning_rate=0.01,optimizer='Adam', \n",
        "                l1_param=l1,  validation_split=0.3, verbose=0)\n",
        "    \n",
        "    MA.fit(X_train, Y_train)\n",
        "    MA.plot_history()\n",
        "  \n",
        "    # Generate the predictions for the current run\n",
        "    pred_2 = MA.predict(X_test)\n",
        "     \n",
        "    acc, auc, auc_sk,  nmi,  bacc = evaluation_metrics(Y_true_test,  pred_2, print_result=False)  # mi, ami,\n",
        "    \n",
        "    # Save the results for the current run to the list of dictionaries\n",
        "    results.append({\n",
        "        #'run': i,\n",
        "        'accuracy': acc,\n",
        "        'balanced_accuracy': bacc,\n",
        "       # 'mutual_information': mi,\n",
        "        'normalized_mutual_information': nmi,\n",
        "     #   'adjusted_mutual_information': ami,\n",
        "        'auc_tensorflow': auc,\n",
        "        'auc_scikit_learn': auc_sk,\n",
        "    })\n",
        "    \n",
        "# Convert the list of dictionaries to a DataFrame\n",
        "df = np.round(pd.DataFrame(results)*100, 2)\n",
        "\n",
        "# Calculate the mean and standard deviation of each metric\n",
        "mean = np.round(df.mean(),2)\n",
        "std = np.round(df.std(),2)  \n",
        "\n",
        "\n"
      ],
      "metadata": {
        "colab": {
          "base_uri": "https://localhost:8080/",
          "height": 1000
        },
        "id": "du8C7Syro2p7",
        "outputId": "997abb91-3609-414e-fe8f-2ecd66c75dd3"
      },
      "execution_count": 24,
      "outputs": [
        {
          "output_type": "stream",
          "name": "stdout",
          "text": [
            "iteration: 0\n"
          ]
        },
        {
          "output_type": "display_data",
          "data": {
            "text/plain": [
              "<Figure size 576x360 with 1 Axes>"
            ],
            "image/png": "[encoded data removed]"
          },
          "metadata": {
            "needs_background": "light"
          }
        },
        {
          "output_type": "stream",
          "name": "stdout",
          "text": [
            "6/6 [==============================] - 0s 3ms/step\n",
            "iteration: 1\n"
          ]
        },
        {
          "output_type": "display_data",
          "data": {
            "text/plain": [
              "<Figure size 576x360 with 1 Axes>"
            ],
            "image/png": "[encoded data removed]"
          },
          "metadata": {
            "needs_background": "light"
          }
        },
        {
          "output_type": "stream",
          "name": "stdout",
          "text": [
            "6/6 [==============================] - 0s 3ms/step\n",
            "iteration: 2\n"
          ]
        },
        {
          "output_type": "display_data",
          "data": {
            "text/plain": [
              "<Figure size 576x360 with 1 Axes>"
            ],
            "image/png": "[encoded data removed]"
          },
          "metadata": {
            "needs_background": "light"
          }
        },
        {
          "output_type": "stream",
          "name": "stdout",
          "text": [
            "6/6 [==============================] - 0s 3ms/step\n",
            "iteration: 3\n"
          ]
        },
        {
          "output_type": "display_data",
          "data": {
            "text/plain": [
              "<Figure size 576x360 with 1 Axes>"
            ],
            "image/png": "[encoded data removed]"
          },
          "metadata": {
            "needs_background": "light"
          }
        },
        {
          "output_type": "stream",
          "name": "stdout",
          "text": [
            "6/6 [==============================] - 0s 2ms/step\n",
            "iteration: 4\n"
          ]
        },
        {
          "output_type": "display_data",
          "data": {
            "text/plain": [
              "<Figure size 576x360 with 1 Axes>"
            ],
            "image/png": "[encoded data removed]"
          },
          "metadata": {
            "needs_background": "light"
          }
        },
        {
          "output_type": "stream",
          "name": "stdout",
          "text": [
            "6/6 [==============================] - 0s 2ms/step\n",
            "iteration: 5\n"
          ]
        },
        {
          "output_type": "display_data",
          "data": {
            "text/plain": [
              "<Figure size 576x360 with 1 Axes>"
            ],
            "image/png": "[encoded data removed]"
          },
          "metadata": {
            "needs_background": "light"
          }
        },
        {
          "output_type": "stream",
          "name": "stdout",
          "text": [
            "6/6 [==============================] - 0s 2ms/step\n",
            "iteration: 6\n"
          ]
        },
        {
          "output_type": "display_data",
          "data": {
            "text/plain": [
              "<Figure size 576x360 with 1 Axes>"
            ],
            "image/png": "[encoded data removed]"
          },
          "metadata": {
            "needs_background": "light"
          }
        },
        {
          "output_type": "stream",
          "name": "stdout",
          "text": [
            "6/6 [==============================] - 0s 5ms/step\n",
            "iteration: 7\n"
          ]
        },
        {
          "output_type": "display_data",
          "data": {
            "text/plain": [
              "<Figure size 576x360 with 1 Axes>"
            ],
            "image/png": "[encoded data removed]"
          },
          "metadata": {
            "needs_background": "light"
          }
        },
        {
          "output_type": "stream",
          "name": "stdout",
          "text": [
            "6/6 [==============================] - 0s 3ms/step\n",
            "iteration: 8\n"
          ]
        },
        {
          "output_type": "display_data",
          "data": {
            "text/plain": [
              "<Figure size 576x360 with 1 Axes>"
            ],
            "image/png": "[encoded data removed]"
          },
          "metadata": {
            "needs_background": "light"
          }
        },
        {
          "output_type": "stream",
          "name": "stdout",
          "text": [
            "6/6 [==============================] - 0s 3ms/step\n",
            "iteration: 9\n"
          ]
        },
        {
          "output_type": "display_data",
          "data": {
            "text/plain": [
              "<Figure size 576x360 with 1 Axes>"
            ],
            "image/png": "[encoded data removed]"
          },
          "metadata": {
            "needs_background": "light"
          }
        },
        {
          "output_type": "stream",
          "name": "stdout",
          "text": [
            "6/6 [==============================] - 0s 3ms/step\n"
          ]
        }
      ],
      "id": "du8C7Syro2p7"
    },
    {
      "cell_type": "code",
      "source": [
        "df"
      ],
      "metadata": {
        "colab": {
          "base_uri": "https://localhost:8080/",
          "height": 363
        },
        "id": "ispxoor_q6DN",
        "outputId": "48dcf088-1479-44fa-ff5d-d10a171dee6d"
      },
      "execution_count": 25,
      "outputs": [
        {
          "output_type": "execute_result",
          "data": {
            "text/plain": [
              "   accuracy  balanced_accuracy  normalized_mutual_information  auc_tensorflow  \\\n",
              "0     84.04              41.85                          52.10       55.590000   \n",
              "1     81.91              39.67                          47.92       57.759998   \n",
              "2     83.51              41.30                          51.33       58.630001   \n",
              "3     81.91              39.67                          47.92       57.759998   \n",
              "4     84.04              41.85                          52.10       55.590000   \n",
              "5     84.57              42.39                          53.33       55.880001   \n",
              "6     84.57              42.32                          51.13       56.450001   \n",
              "7     83.51              41.30                          51.33       58.630001   \n",
              "8     82.45              40.22                          49.02       58.049999   \n",
              "9     84.04              41.85                          52.10       55.590000   \n",
              "\n",
              "   auc_scikit_learn  \n",
              "0             87.68  \n",
              "1             89.23  \n",
              "2             89.81  \n",
              "3             89.68  \n",
              "4             89.89  \n",
              "5             88.10  \n",
              "6             89.32  \n",
              "7             90.85  \n",
              "8             87.84  \n",
              "9             88.64  "
            ],
            "text/html": [
              "\n",
              "  <div id=\"df-d47d50b9-b9c2-471d-912a-fe0bb9367fea\">\n",
              "    <div class=\"colab-df-container\">\n",
              "      <div>\n",
              "<style scoped>\n",
              "    .dataframe tbody tr th:only-of-type {\n",
              "        vertical-align: middle;\n",
              "    }\n",
              "\n",
              "    .dataframe tbody tr th {\n",
              "        vertical-align: top;\n",
              "    }\n",
              "\n",
              "    .dataframe thead th {\n",
              "        text-align: right;\n",
              "    }\n",
              "</style>\n",
              "<table border=\"1\" class=\"dataframe\">\n",
              "  <thead>\n",
              "    <tr style=\"text-align: right;\">\n",
              "      <th></th>\n",
              "      <th>accuracy</th>\n",
              "      <th>balanced_accuracy</th>\n",
              "      <th>normalized_mutual_information</th>\n",
              "      <th>auc_tensorflow</th>\n",
              "      <th>auc_scikit_learn</th>\n",
              "    </tr>\n",
              "  </thead>\n",
              "  <tbody>\n",
              "    <tr>\n",
              "      <th>0</th>\n",
              "      <td>84.04</td>\n",
              "      <td>41.85</td>\n",
              "      <td>52.10</td>\n",
              "      <td>55.590000</td>\n",
              "      <td>87.68</td>\n",
              "    </tr>\n",
              "    <tr>\n",
              "      <th>1</th>\n",
              "      <td>81.91</td>\n",
              "      <td>39.67</td>\n",
              "      <td>47.92</td>\n",
              "      <td>57.759998</td>\n",
              "      <td>89.23</td>\n",
              "    </tr>\n",
              "    <tr>\n",
              "      <th>2</th>\n",
              "      <td>83.51</td>\n",
              "      <td>41.30</td>\n",
              "      <td>51.33</td>\n",
              "      <td>58.630001</td>\n",
              "      <td>89.81</td>\n",
              "    </tr>\n",
              "    <tr>\n",
              "      <th>3</th>\n",
              "      <td>81.91</td>\n",
              "      <td>39.67</td>\n",
              "      <td>47.92</td>\n",
              "      <td>57.759998</td>\n",
              "      <td>89.68</td>\n",
              "    </tr>\n",
              "    <tr>\n",
              "      <th>4</th>\n",
              "      <td>84.04</td>\n",
              "      <td>41.85</td>\n",
              "      <td>52.10</td>\n",
              "      <td>55.590000</td>\n",
              "      <td>89.89</td>\n",
              "    </tr>\n",
              "    <tr>\n",
              "      <th>5</th>\n",
              "      <td>84.57</td>\n",
              "      <td>42.39</td>\n",
              "      <td>53.33</td>\n",
              "      <td>55.880001</td>\n",
              "      <td>88.10</td>\n",
              "    </tr>\n",
              "    <tr>\n",
              "      <th>6</th>\n",
              "      <td>84.57</td>\n",
              "      <td>42.32</td>\n",
              "      <td>51.13</td>\n",
              "      <td>56.450001</td>\n",
              "      <td>89.32</td>\n",
              "    </tr>\n",
              "    <tr>\n",
              "      <th>7</th>\n",
              "      <td>83.51</td>\n",
              "      <td>41.30</td>\n",
              "      <td>51.33</td>\n",
              "      <td>58.630001</td>\n",
              "      <td>90.85</td>\n",
              "    </tr>\n",
              "    <tr>\n",
              "      <th>8</th>\n",
              "      <td>82.45</td>\n",
              "      <td>40.22</td>\n",
              "      <td>49.02</td>\n",
              "      <td>58.049999</td>\n",
              "      <td>87.84</td>\n",
              "    </tr>\n",
              "    <tr>\n",
              "      <th>9</th>\n",
              "      <td>84.04</td>\n",
              "      <td>41.85</td>\n",
              "      <td>52.10</td>\n",
              "      <td>55.590000</td>\n",
              "      <td>88.64</td>\n",
              "    </tr>\n",
              "  </tbody>\n",
              "</table>\n",
              "</div>\n",
              "      <button class=\"colab-df-convert\" onclick=\"convertToInteractive('df-d47d50b9-b9c2-471d-912a-fe0bb9367fea')\"\n",
              "              title=\"Convert this dataframe to an interactive table.\"\n",
              "              style=\"display:none;\">\n",
              "        \n",
              "  <svg xmlns=\"http://www.w3.org/2000/svg\" height=\"24px\"viewBox=\"0 0 24 24\"\n",
              "       width=\"24px\">\n",
              "    <path d=\"M0 0h24v24H0V0z\" fill=\"none\"/>\n",
              "    <path d=\"M18.56 5.44l.94 2.06.94-2.06 2.06-.94-2.06-.94-.94-2.06-.94 2.06-2.06.94zm-11 1L8.5 8.5l.94-2.06 2.06-.94-2.06-.94L8.5 2.5l-.94 2.06-2.06.94zm10 10l.94 2.06.94-2.06 2.06-.94-2.06-.94-.94-2.06-.94 2.06-2.06.94z\"/><path d=\"M17.41 7.96l-1.37-1.37c-.4-.4-.92-.59-1.43-.59-.52 0-1.04.2-1.43.59L10.3 9.45l-7.72 7.72c-.78.78-.78 2.05 0 2.83L4 21.41c.39.39.9.59 1.41.59.51 0 1.02-.2 1.41-.59l7.78-7.78 2.81-2.81c.8-.78.8-2.07 0-2.86zM5.41 20L4 18.59l7.72-7.72 1.47 1.35L5.41 20z\"/>\n",
              "  </svg>\n",
              "      </button>\n",
              "      \n",
              "  <style>\n",
              "    .colab-df-container {\n",
              "      display:flex;\n",
              "      flex-wrap:wrap;\n",
              "      gap: 12px;\n",
              "    }\n",
              "\n",
              "    .colab-df-convert {\n",
              "      background-color: #E8F0FE;\n",
              "      border: none;\n",
              "      border-radius: 50%;\n",
              "      cursor: pointer;\n",
              "      display: none;\n",
              "      fill: #1967D2;\n",
              "      height: 32px;\n",
              "      padding: 0 0 0 0;\n",
              "      width: 32px;\n",
              "    }\n",
              "\n",
              "    .colab-df-convert:hover {\n",
              "      background-color: #E2EBFA;\n",
              "      box-shadow: 0px 1px 2px rgba(60, 64, 67, 0.3), 0px 1px 3px 1px rgba(60, 64, 67, 0.15);\n",
              "      fill: #174EA6;\n",
              "    }\n",
              "\n",
              "    [theme=dark] .colab-df-convert {\n",
              "      background-color: #3B4455;\n",
              "      fill: #D2E3FC;\n",
              "    }\n",
              "\n",
              "    [theme=dark] .colab-df-convert:hover {\n",
              "      background-color: #434B5C;\n",
              "      box-shadow: 0px 1px 3px 1px rgba(0, 0, 0, 0.15);\n",
              "      filter: drop-shadow(0px 1px 2px rgba(0, 0, 0, 0.3));\n",
              "      fill: #FFFFFF;\n",
              "    }\n",
              "  </style>\n",
              "\n",
              "      <script>\n",
              "        const buttonEl =\n",
              "          document.querySelector('#df-d47d50b9-b9c2-471d-912a-fe0bb9367fea button.colab-df-convert');\n",
              "        buttonEl.style.display =\n",
              "          google.colab.kernel.accessAllowed ? 'block' : 'none';\n",
              "\n",
              "        async function convertToInteractive(key) {\n",
              "          const element = document.querySelector('#df-d47d50b9-b9c2-471d-912a-fe0bb9367fea');\n",
              "          const dataTable =\n",
              "            await google.colab.kernel.invokeFunction('convertToInteractive',\n",
              "                                                     [key], {});\n",
              "          if (!dataTable) return;\n",
              "\n",
              "          const docLinkHtml = 'Like what you see? Visit the ' +\n",
              "            '<a target=\"_blank\" href=https://colab.research.google.com/notebooks/data_table.ipynb>data table notebook</a>'\n",
              "            + ' to learn more about interactive tables.';\n",
              "          element.innerHTML = '';\n",
              "          dataTable['output_type'] = 'display_data';\n",
              "          await google.colab.output.renderOutput(dataTable, element);\n",
              "          const docLink = document.createElement('div');\n",
              "          docLink.innerHTML = docLinkHtml;\n",
              "          element.appendChild(docLink);\n",
              "        }\n",
              "      </script>\n",
              "    </div>\n",
              "  </div>\n",
              "  "
            ]
          },
          "metadata": {},
          "execution_count": 25
        }
      ],
      "id": "ispxoor_q6DN"
    },
    {
      "cell_type": "code",
      "source": [
        "mean"
      ],
      "metadata": {
        "colab": {
          "base_uri": "https://localhost:8080/"
        },
        "id": "whTSUvCJq_bf",
        "outputId": "0818e56f-07e3-4b93-8594-0a007728317d"
      },
      "execution_count": 26,
      "outputs": [
        {
          "output_type": "execute_result",
          "data": {
            "text/plain": [
              "accuracy                         83.46\n",
              "balanced_accuracy                41.24\n",
              "normalized_mutual_information    50.83\n",
              "auc_tensorflow                   56.99\n",
              "auc_scikit_learn                 89.10\n",
              "dtype: float64"
            ]
          },
          "metadata": {},
          "execution_count": 26
        }
      ],
      "id": "whTSUvCJq_bf"
    },
    {
      "cell_type": "code",
      "source": [
        "std"
      ],
      "metadata": {
        "colab": {
          "base_uri": "https://localhost:8080/"
        },
        "id": "PH_iucZ1rJDD",
        "outputId": "f78f7369-c473-460d-8664-7669652b2c9a"
      },
      "execution_count": 27,
      "outputs": [
        {
          "output_type": "execute_result",
          "data": {
            "text/plain": [
              "accuracy                         1.02\n",
              "balanced_accuracy                1.03\n",
              "normalized_mutual_information    1.88\n",
              "auc_tensorflow                   1.29\n",
              "auc_scikit_learn                 1.02\n",
              "dtype: float64"
            ]
          },
          "metadata": {},
          "execution_count": 27
        }
      ],
      "id": "PH_iucZ1rJDD"
    },
    {
      "cell_type": "code",
      "source": [
        "result_df = pd.concat([mean.rename('Mean'), std.rename('Std')], axis=1)"
      ],
      "metadata": {
        "id": "IZWYJ4cZus0i"
      },
      "execution_count": 28,
      "outputs": [],
      "id": "IZWYJ4cZus0i"
    },
    {
      "cell_type": "code",
      "source": [
        "result_df"
      ],
      "metadata": {
        "colab": {
          "base_uri": "https://localhost:8080/",
          "height": 206
        },
        "id": "j5oR79xIvOJf",
        "outputId": "06ad81bf-8290-4259-8a3a-df2f0a83a4c5"
      },
      "execution_count": 29,
      "outputs": [
        {
          "output_type": "execute_result",
          "data": {
            "text/plain": [
              "                                Mean   Std\n",
              "accuracy                       83.46  1.02\n",
              "balanced_accuracy              41.24  1.03\n",
              "normalized_mutual_information  50.83  1.88\n",
              "auc_tensorflow                 56.99  1.29\n",
              "auc_scikit_learn               89.10  1.02"
            ],
            "text/html": [
              "\n",
              "  <div id=\"df-e62bd695-325f-4d96-a151-d780cf767c06\">\n",
              "    <div class=\"colab-df-container\">\n",
              "      <div>\n",
              "<style scoped>\n",
              "    .dataframe tbody tr th:only-of-type {\n",
              "        vertical-align: middle;\n",
              "    }\n",
              "\n",
              "    .dataframe tbody tr th {\n",
              "        vertical-align: top;\n",
              "    }\n",
              "\n",
              "    .dataframe thead th {\n",
              "        text-align: right;\n",
              "    }\n",
              "</style>\n",
              "<table border=\"1\" class=\"dataframe\">\n",
              "  <thead>\n",
              "    <tr style=\"text-align: right;\">\n",
              "      <th></th>\n",
              "      <th>Mean</th>\n",
              "      <th>Std</th>\n",
              "    </tr>\n",
              "  </thead>\n",
              "  <tbody>\n",
              "    <tr>\n",
              "      <th>accuracy</th>\n",
              "      <td>83.46</td>\n",
              "      <td>1.02</td>\n",
              "    </tr>\n",
              "    <tr>\n",
              "      <th>balanced_accuracy</th>\n",
              "      <td>41.24</td>\n",
              "      <td>1.03</td>\n",
              "    </tr>\n",
              "    <tr>\n",
              "      <th>normalized_mutual_information</th>\n",
              "      <td>50.83</td>\n",
              "      <td>1.88</td>\n",
              "    </tr>\n",
              "    <tr>\n",
              "      <th>auc_tensorflow</th>\n",
              "      <td>56.99</td>\n",
              "      <td>1.29</td>\n",
              "    </tr>\n",
              "    <tr>\n",
              "      <th>auc_scikit_learn</th>\n",
              "      <td>89.10</td>\n",
              "      <td>1.02</td>\n",
              "    </tr>\n",
              "  </tbody>\n",
              "</table>\n",
              "</div>\n",
              "      <button class=\"colab-df-convert\" onclick=\"convertToInteractive('df-e62bd695-325f-4d96-a151-d780cf767c06')\"\n",
              "              title=\"Convert this dataframe to an interactive table.\"\n",
              "              style=\"display:none;\">\n",
              "        \n",
              "  <svg xmlns=\"http://www.w3.org/2000/svg\" height=\"24px\"viewBox=\"0 0 24 24\"\n",
              "       width=\"24px\">\n",
              "    <path d=\"M0 0h24v24H0V0z\" fill=\"none\"/>\n",
              "    <path d=\"M18.56 5.44l.94 2.06.94-2.06 2.06-.94-2.06-.94-.94-2.06-.94 2.06-2.06.94zm-11 1L8.5 8.5l.94-2.06 2.06-.94-2.06-.94L8.5 2.5l-.94 2.06-2.06.94zm10 10l.94 2.06.94-2.06 2.06-.94-2.06-.94-.94-2.06-.94 2.06-2.06.94z\"/><path d=\"M17.41 7.96l-1.37-1.37c-.4-.4-.92-.59-1.43-.59-.52 0-1.04.2-1.43.59L10.3 9.45l-7.72 7.72c-.78.78-.78 2.05 0 2.83L4 21.41c.39.39.9.59 1.41.59.51 0 1.02-.2 1.41-.59l7.78-7.78 2.81-2.81c.8-.78.8-2.07 0-2.86zM5.41 20L4 18.59l7.72-7.72 1.47 1.35L5.41 20z\"/>\n",
              "  </svg>\n",
              "      </button>\n",
              "      \n",
              "  <style>\n",
              "    .colab-df-container {\n",
              "      display:flex;\n",
              "      flex-wrap:wrap;\n",
              "      gap: 12px;\n",
              "    }\n",
              "\n",
              "    .colab-df-convert {\n",
              "      background-color: #E8F0FE;\n",
              "      border: none;\n",
              "      border-radius: 50%;\n",
              "      cursor: pointer;\n",
              "      display: none;\n",
              "      fill: #1967D2;\n",
              "      height: 32px;\n",
              "      padding: 0 0 0 0;\n",
              "      width: 32px;\n",
              "    }\n",
              "\n",
              "    .colab-df-convert:hover {\n",
              "      background-color: #E2EBFA;\n",
              "      box-shadow: 0px 1px 2px rgba(60, 64, 67, 0.3), 0px 1px 3px 1px rgba(60, 64, 67, 0.15);\n",
              "      fill: #174EA6;\n",
              "    }\n",
              "\n",
              "    [theme=dark] .colab-df-convert {\n",
              "      background-color: #3B4455;\n",
              "      fill: #D2E3FC;\n",
              "    }\n",
              "\n",
              "    [theme=dark] .colab-df-convert:hover {\n",
              "      background-color: #434B5C;\n",
              "      box-shadow: 0px 1px 3px 1px rgba(0, 0, 0, 0.15);\n",
              "      filter: drop-shadow(0px 1px 2px rgba(0, 0, 0, 0.3));\n",
              "      fill: #FFFFFF;\n",
              "    }\n",
              "  </style>\n",
              "\n",
              "      <script>\n",
              "        const buttonEl =\n",
              "          document.querySelector('#df-e62bd695-325f-4d96-a151-d780cf767c06 button.colab-df-convert');\n",
              "        buttonEl.style.display =\n",
              "          google.colab.kernel.accessAllowed ? 'block' : 'none';\n",
              "\n",
              "        async function convertToInteractive(key) {\n",
              "          const element = document.querySelector('#df-e62bd695-325f-4d96-a151-d780cf767c06');\n",
              "          const dataTable =\n",
              "            await google.colab.kernel.invokeFunction('convertToInteractive',\n",
              "                                                     [key], {});\n",
              "          if (!dataTable) return;\n",
              "\n",
              "          const docLinkHtml = 'Like what you see? Visit the ' +\n",
              "            '<a target=\"_blank\" href=https://colab.research.google.com/notebooks/data_table.ipynb>data table notebook</a>'\n",
              "            + ' to learn more about interactive tables.';\n",
              "          element.innerHTML = '';\n",
              "          dataTable['output_type'] = 'display_data';\n",
              "          await google.colab.output.renderOutput(dataTable, element);\n",
              "          const docLink = document.createElement('div');\n",
              "          docLink.innerHTML = docLinkHtml;\n",
              "          element.appendChild(docLink);\n",
              "        }\n",
              "      </script>\n",
              "    </div>\n",
              "  </div>\n",
              "  "
            ]
          },
          "metadata": {},
          "execution_count": 29
        }
      ],
      "id": "j5oR79xIvOJf"
    },
    {
      "cell_type": "code",
      "source": [
        "# Save the DataFrame to an excel file\n",
        "result_df.to_excel(database + custom_loss + \".xlsx\")"
      ],
      "metadata": {
        "id": "wrsupD_Qshl2"
      },
      "execution_count": 30,
      "outputs": [],
      "id": "wrsupD_Qshl2"
    },
    {
      "cell_type": "code",
      "source": [],
      "metadata": {
        "id": "XhO78Ca03RDz"
      },
      "id": "XhO78Ca03RDz",
      "execution_count": 30,
      "outputs": []
    }
  ],
  "metadata": {
    "kernelspec": {
      "display_name": "Python 3",
      "language": "python",
      "name": "python3"
    },
    "language_info": {
      "codemirror_mode": {
        "name": "ipython",
        "version": 3
      },
      "file_extension": ".py",
      "mimetype": "text/x-python",
      "name": "python",
      "nbconvert_exporter": "python",
      "pygments_lexer": "ipython3",
      "version": "3.7.12"
    },
    "papermill": {
      "default_parameters": {},
      "duration": 2010.780582,
      "end_time": "2022-10-25T16:45:45.296400",
      "environment_variables": {},
      "exception": null,
      "input_path": "__notebook__.ipynb",
      "output_path": "__notebook__.ipynb",
      "parameters": {},
      "start_time": "2022-10-25T16:12:14.515818",
      "version": "2.3.4"
    },
    "colab": {
      "provenance": [],
      "include_colab_link": true
    }
  },
  "nbformat": 4,
  "nbformat_minor": 5
}