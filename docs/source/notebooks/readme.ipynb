{
 "cells": [
  {
   "cell_type": "markdown",
   "id": "0",
   "metadata": {},
   "source": [
    "# GCECDL"
   ]
  },
  {
   "cell_type": "markdown",
   "id": "67f69a59-ba59-4f45-8920-9f465b11d47a",
   "metadata": {},
   "source": [
    "In this work, we propose a  Generalized Cross-Entropy-based framework using Chained Deep Learning, termed GCECDL, to code each annotator’s non-stationary patterns regarding the input space while preserving the inter-dependencies among experts through a  noise-robust loss function to deal with noisy labels, and a chained deep learning approach. Besides, network self-regularization is achieved by estimating each labeler’s reliability within the chained approach. \n",
    " \n",
    "Please, if you use this code, cite this paper: [Chained Deep Learning Using Generalized Cross-Entropy for Multiple Annotators Classification](https://www.mdpi.com/1424-8220/23/7/3518/)"
   ]
  }
 ],
 "metadata": {
  "kernelspec": {
   "display_name": "Python 3 (ipykernel)",
   "language": "python",
   "name": "python3"
  },
  "language_info": {
   "codemirror_mode": {
    "name": "ipython",
    "version": 3
   },
   "file_extension": ".py",
   "mimetype": "text/x-python",
   "name": "python",
   "nbconvert_exporter": "python",
   "pygments_lexer": "ipython3",
   "version": "3.11.3"
  }
 },
 "nbformat": 4,
 "nbformat_minor": 5
}
