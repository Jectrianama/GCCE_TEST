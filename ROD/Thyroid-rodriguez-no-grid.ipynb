{
 "cells": [
  {
   "cell_type": "markdown",
   "id": "86e965c3",
   "metadata": {
    "id": "Cy45HoPn5SpZ",
    "papermill": {
     "duration": 0.01179,
     "end_time": "2022-12-19T19:08:32.437625",
     "exception": false,
     "start_time": "2022-12-19T19:08:32.425835",
     "status": "completed"
    },
    "tags": []
   },
   "source": [
    "# Loss function Rodrigues\n",
    "\n",
    "$𝒟 = \\{ \\mathbf{x}_n, \\mathbf{y}_n\\}$ be a dataset of size $N$\n",
    "\n",
    "$\\mathbf{x}_n \\in \\mathbb{R}^D$\n",
    "\n",
    "${\\mathbf{y}}^r_n\\in[0,1]^K$:   label provided for the r-th annotator in a set of R annotators\n",
    "\n",
    "$𝒛_n$ Latent true class determined by a softmax output layer  of a DNN\n",
    "\n",
    "\n",
    "$\\mathbf{\\sigma}\\in \\mathbb{R} ^Q$: DNN-based feature representation. correspond to the output of a softmax layer\n",
    "\n",
    "$\\hat{\\mathbf{y}}^r_n = f_r(\\sigma)\\in[0,1]^{1 \\times K}$\n",
    "\n",
    "$\\hat{\\mathbf{y}}_n=[\\hat{\\mathbf{y}}^1_n,\\hat{\\mathbf{y}}^2_n,\\dots,\\hat{\\mathbf{y}}^R_n]\\in [0,1]^{1\\times (R\\times K)}$\n",
    "\n",
    "Activation of the crowd layer for each anotator  $ \\mathbf{a}^r = f_r(\\sigma)$, where $f_r$ is an annotator-specific function, and the output of the crowd layer simply as the softmax of the\n",
    "activations $o_c^r = e^{a_c^r}/\\sum_{l=1}^{C}e^{a_l^r}$.\n",
    "\n",
    "\n",
    " $f_r(\\sigma)= \\mathbf{W}^r\\mathbf{\\sigma}$\n",
    "\n",
    " $\\mathbf{W}^r$ is an annotator-specific matrix\n",
    "\n",
    " **Cost function**\n",
    "\n",
    " $E(\\mathbf{o}^r, y^r)$\n",
    " between the expected output of the r-th annotator and its actual label $y^r$,\n",
    "\n",
    "Then, \n",
    "\n",
    "if we make. $\\lambda_n^r(\\theta) = \\mathbf{1}$ in PRI loss\n",
    "\n",
    "\n",
    "\n",
    "$$\\min_\\theta \\sum_n\\left(\\sum_r \\lambda_n^r(\\theta)H({\\mathbf{y}}^r_n;\\hat{\\mathbf{y}}_n(\\theta))\\right)+\\left(H(\\hat{\\mathbf{y}}_n(\\theta))\\sum_r\\left(1-\\lambda_n^r(\\theta)\\right)\\right)$$\n",
    "\n",
    " \n",
    "we can obtain rodriguez\n",
    "\n",
    "\n",
    "$$\\min_\\theta \\sum_n\\left(\\sum_r (\\mathbf{1})H({\\mathbf{y}}^r_n;\\hat{\\mathbf{y}}_n(\\theta))\\right)+\\left(H(\\hat{\\mathbf{y}}_n(\\theta))\\sum_r\\left(1-\\mathbf{1}\\right)\\right)$$"
   ]
  },
  {
   "cell_type": "code",
   "execution_count": 1,
   "id": "db3a6a5f",
   "metadata": {
    "execution": {
     "iopub.execute_input": "2022-12-19T19:08:32.458612Z",
     "iopub.status.busy": "2022-12-19T19:08:32.457811Z",
     "iopub.status.idle": "2022-12-19T19:08:32.465433Z",
     "shell.execute_reply": "2022-12-19T19:08:32.463540Z"
    },
    "id": "Htu1kN9-jZO1",
    "papermill": {
     "duration": 0.023552,
     "end_time": "2022-12-19T19:08:32.468676",
     "exception": false,
     "start_time": "2022-12-19T19:08:32.445124",
     "status": "completed"
    },
    "tags": []
   },
   "outputs": [],
   "source": [
    "#!pip install tensorflow==2.7.0\n",
    "#!pip install scikeras"
   ]
  },
  {
   "cell_type": "code",
   "execution_count": 2,
   "id": "c6978cc7",
   "metadata": {
    "execution": {
     "iopub.execute_input": "2022-12-19T19:08:32.488985Z",
     "iopub.status.busy": "2022-12-19T19:08:32.488571Z",
     "iopub.status.idle": "2022-12-19T19:08:32.494868Z",
     "shell.execute_reply": "2022-12-19T19:08:32.492217Z"
    },
    "id": "Gw-I1LpOjkw3",
    "outputId": "ebc8e065-e200-4131-fc8b-2ae9efe8d1d7",
    "papermill": {
     "duration": 0.019153,
     "end_time": "2022-12-19T19:08:32.497717",
     "exception": false,
     "start_time": "2022-12-19T19:08:32.478564",
     "status": "completed"
    },
    "tags": []
   },
   "outputs": [],
   "source": [
    "#  #https://www.kaggle.com/datasets/mysticvalley/balance-scale\n",
    "# import pandas as pd\n",
    "# df = pd.read_csv(r'../input/balance-scale/balance-scale.csv') \n",
    "# df.head()\n",
    "    "
   ]
  },
  {
   "cell_type": "markdown",
   "id": "87ba06dc",
   "metadata": {
    "id": "lYGUr8mv4EuV",
    "papermill": {
     "duration": 0.008175,
     "end_time": "2022-12-19T19:08:32.515188",
     "exception": false,
     "start_time": "2022-12-19T19:08:32.507013",
     "status": "completed"
    },
    "tags": []
   },
   "source": [
    "# Subclassing for Crowdlayer Rodriguez"
   ]
  },
  {
   "cell_type": "code",
   "execution_count": 3,
   "id": "b1e0295f",
   "metadata": {
    "execution": {
     "iopub.execute_input": "2022-12-19T19:08:32.532874Z",
     "iopub.status.busy": "2022-12-19T19:08:32.532454Z",
     "iopub.status.idle": "2022-12-19T19:08:42.972920Z",
     "shell.execute_reply": "2022-12-19T19:08:42.971526Z"
    },
    "id": "p5fJiVgC3FKO",
    "papermill": {
     "duration": 10.452449,
     "end_time": "2022-12-19T19:08:42.975673",
     "exception": false,
     "start_time": "2022-12-19T19:08:32.523224",
     "status": "completed"
    },
    "tags": []
   },
   "outputs": [],
   "source": [
    "# -*- coding: utf-8 -*-\n",
    "import tensorflow as tf\n",
    "import matplotlib.pyplot as plt\n",
    "#from tensorflow.keras.wrappers.scikit_learn import KerasClassifier\n",
    "import tensorflow_probability as tfp\n",
    "from tensorflow.keras import regularizers\n",
    "from sklearn.base import  BaseEstimator, TransformerMixin, ClassifierMixin\n",
    "from sklearn.model_selection import train_test_split\n",
    "tf.keras.backend.clear_session()\n",
    "#tf.random.set_seed(42)\n",
    "import types\n",
    "import tempfile\n",
    "class Keras_MA_CrowdL(): #transformer no va\n",
    " #Constructor __init__. Special method: identified by a double underscore at either side of their name\n",
    " #work in the background\n",
    " # initialize data members to the object. lets the class initialize the object’s attributes and serves no other purpose.\n",
    "    def __init__(self,epochs=100,batch_size=30,R=5, K=2, dropout=0.5, learning_rate=1e-3,optimizer='Adam', \n",
    "                  l1_param=0, validation_split=0.3, verbose=0):\n",
    "        #print('init')\n",
    "        self.epochs=epochs\n",
    "        self.dropout=dropout\n",
    "        self.batch_size = batch_size\n",
    "        self.learning_rate=learning_rate \n",
    "        self.l1_param=l1_param \n",
    "        self.l2_param=l1_param\n",
    "        self.validation_split = validation_split\n",
    "        self.verbose = verbose\n",
    "        self.optimizer = optimizer\n",
    "        self.R=R\n",
    "        self.K=K\n",
    "\n",
    "    \n",
    " \n",
    "    def custom_CLR_loss(self, y_true, y_pred): #ytrue \\in N x R,  ypred \\in N x K x R  ->CrowdLayerRodriguez\n",
    "        #print(y_true.shape)\n",
    "        Y_true_1K = tf.one_hot(tf.cast(y_true,dtype=tf.int32),depth=self.K,axis=1) #samples, classes 1-K, annotators\n",
    "        #print(Y_true_1K.shape)    \n",
    "        vec = tf.nn.softmax_cross_entropy_with_logits(logits=y_pred, labels=Y_true_1K, axis = 1)\n",
    "        #print(vec.shape)\n",
    "        #mask = tf.equal(Y_true_1K[:,0,:], -1)\n",
    "        #zer = tf.zeros_like(vec)\n",
    "        #loss = tf.where(mask, x=zer, y=vec)\n",
    "        #tf.print(\"loss\", loss)\n",
    "        return tf.math.reduce_sum(vec)\n",
    "\n",
    " \n",
    "    def fit(self, X, Y):\n",
    "        P = X.shape[1]\n",
    "        if self.optimizer == \"Adam\":\n",
    "            opt = tf.keras.optimizers.Adam(learning_rate=self.learning_rate)\n",
    "        elif self.optimizer == \"SGD\":\n",
    "            opt = tf.keras.optimizers.SGD(learning_rate=self.learning_rate)\n",
    "        else:\n",
    "            opt=self.optimizer\n",
    "\n",
    "        #capa de entrada\n",
    "        input_l = tf.keras.layers.Input(shape=(X.shape[1]), name='entrada')\n",
    "        #capas densas\n",
    "        h1 = tf.keras.layers.Dense(int(P*4*(self.K+self.R)),activation='selu',name='h1',\n",
    "                              kernel_regularizer=tf.keras.regularizers.l1_l2(l1=self.l1_param,l2=self.l2_param))(input_l)#argumento de entrada\n",
    "        h2 = tf.keras.layers.Dense(int(P*(self.K+self.R)),activation='selu',name='h2',\n",
    "                              kernel_regularizer=tf.keras.regularizers.l1_l2(l1=self.l1_param,l2=self.l2_param))(h1)\n",
    "        dout = tf.keras.layers.Dropout(rate=self.dropout)(h2)\n",
    "        output_dense = tf.keras.layers.Dense(self.K,activation=\"softmax\",name='output',\n",
    "                               kernel_regularizer=tf.keras.regularizers.l1_l2(l1=self.l1_param,l2=self.l2_param))(dout)\n",
    "        output= CrowdsClassification(self.K, self.R, conn_type=\"MW\")(output_dense) #Classes x Annotators\n",
    "        self.model = tf.keras.Model(inputs= input_l,outputs=output)\n",
    "        self.model.compile(loss= self.custom_CLR_loss, optimizer=opt)\n",
    "        self.history = self.model.fit(X, Y, epochs=self.epochs, validation_split= self.validation_split,   #\n",
    "                                      batch_size=self.batch_size,verbose=self.verbose)\n",
    "        #model_p  to predict labels in gridsearch  \n",
    "        self.model_p = tf.keras.Model(inputs=self.model.inputs,outputs=self.model.get_layer('output').output) #se accede a capas por nombre\n",
    "        #resumen y gráfica del modelo\n",
    "        #print(self.model.summary())\n",
    "        \n",
    "        return self\n",
    "\n",
    "    def predict2(self, X, *_):\n",
    "      return  np.argmax(self.model_p.predict(X), axis=1)    \n",
    "     \n",
    "    def predict(self, X, *_):\n",
    "\n",
    "       #print('predict') \n",
    "       return  self.model.predict(X) \n",
    "\n",
    "    def fit_predict(self,X,y):\n",
    "        #input X numpy array first dimension samples (N)x features (P)\n",
    "        #input Y numpy array vector len = samples (N) x  annotators (R)\n",
    "        \n",
    "        self.fit(X,y)\n",
    "        return self.predict(X)\n",
    "  \n",
    "     #graphics\n",
    "    def plot_history(self):\n",
    "        pd.DataFrame(self.history.history).plot(figsize=(8, 5))\n",
    "        plt.grid(True)\n",
    "        #plt.gca().set_ylim(0, 1)\n",
    "        #save_fig(\"keras_learning_curves_plot\")\n",
    "        plt.show()\n",
    "        return\n",
    "    \n",
    "    def set_params(self, **parameters):\n",
    "        #print('set_params') \n",
    "        for parameter, value in parameters.items():\n",
    "            setattr(self, parameter, value)\n",
    "\n",
    "        return self\n",
    "    \n",
    "    \n",
    "    \n",
    "    def get_params(self, deep=True):\n",
    "        #print('get_params') \n",
    "        return { 'l1_param':self.l1_param, 'dropout':self.dropout, 'optimizer':self.optimizer,\n",
    "                'learning_rate':self.learning_rate, 'batch_size':self.batch_size,\n",
    "                'epochs':self.epochs, 'verbose':self.verbose, 'validation_split':self.validation_split,\n",
    "                'R':self.R, 'K':self.K\n",
    "                }"
   ]
  },
  {
   "cell_type": "markdown",
   "id": "2f267133",
   "metadata": {
    "id": "b9yV0N4v4U_3",
    "papermill": {
     "duration": 0.008313,
     "end_time": "2022-12-19T19:08:42.992097",
     "exception": false,
     "start_time": "2022-12-19T19:08:42.983784",
     "status": "completed"
    },
    "tags": []
   },
   "source": [
    "# Crowdlayer class"
   ]
  },
  {
   "cell_type": "code",
   "execution_count": 4,
   "id": "6da36400",
   "metadata": {
    "execution": {
     "iopub.execute_input": "2022-12-19T19:08:43.011568Z",
     "iopub.status.busy": "2022-12-19T19:08:43.010522Z",
     "iopub.status.idle": "2022-12-19T19:08:43.037017Z",
     "shell.execute_reply": "2022-12-19T19:08:43.035635Z"
    },
    "id": "4ysb7umL3FKN",
    "papermill": {
     "duration": 0.039663,
     "end_time": "2022-12-19T19:08:43.040048",
     "exception": false,
     "start_time": "2022-12-19T19:08:43.000385",
     "status": "completed"
    },
    "tags": []
   },
   "outputs": [],
   "source": [
    " \n",
    "import numpy as np\n",
    "import tensorflow as tf\n",
    "import tensorflow.keras as keras\n",
    "from tensorflow.keras import backend as K1\n",
    "from tensorflow.keras.layers import Layer\n",
    "#from tensorflow.keras.engine.topology import Layer\n",
    "\n",
    "def init_identities(shape, dtype=None):\n",
    "    out = np.zeros(shape)\n",
    "    for r in range(shape[2]):\n",
    "        for i in range(shape[0]):\n",
    "            out[i,i,r] = 1.0\n",
    "    return out\n",
    "    \n",
    "class CrowdsClassification(Layer):\n",
    "\n",
    "\n",
    "  \n",
    "  #The build() method’s role is to create the layer’s variables, by calling the \n",
    "  #add_weight() method for each weight.  which is often necessary to create some of the weights.\n",
    "  #we need to know the number of neurons in the previous layer in order to create the connection weights matrix (i.e., the \"kernel\"): \n",
    "  #this corresponds to the size of the last dimension of the inputs. \n",
    "   \n",
    "    def __init__(self, output_dim, num_annotators, conn_type=\"MW\", **kwargs):\n",
    "        self.output_dim = output_dim\n",
    "        self.num_annotators = num_annotators\n",
    "        self.conn_type = conn_type\n",
    "        super(CrowdsClassification, self).__init__(**kwargs)\n",
    "\n",
    "\n",
    "\n",
    "    def build(self, input_shape):\n",
    "        if self.conn_type == \"MW\":\n",
    "            # matrix of weights per annotator\n",
    "      #A layer is a callable object that takes as input one or more tensors and that outputs one or more tensors. \n",
    "      #It involves computation, defined in the call() method, and a state (weight variables). \n",
    "      #the method add_weight() offers a shortcut to create weights.\n",
    "\n",
    "            self.kernel = self.add_weight(\"CrowdLayer\", (self.output_dim, self.output_dim, self.num_annotators),\n",
    "                                            initializer=init_identities, #It is the stated initializer instance\n",
    "                                            trainable=True) # trainable weights, updated via backpropagation during training\n",
    "        elif self.conn_type == \"VW\":\n",
    "            # vector of weights (one scale per class) per annotator\n",
    "            self.kernel = self.add_weight(\"CrowdLayer\", (self.output_dim, self.num_annotators),\n",
    "                                            initializer=keras.initializers.Ones(), \n",
    "                                            trainable=True)\n",
    "        elif self.conn_type == \"VB\":\n",
    "            # two vectors of weights (one scale and one bias per class) per annotator\n",
    "            self.kernel = []\n",
    "            self.kernel.append(self.add_weight(\"CrowdLayer\", (self.output_dim, self.num_annotators),\n",
    "                                            initializer=keras.initializers.Zeros(),\n",
    "                                            trainable=True))\n",
    "        elif self.conn_type == \"VW+B\":\n",
    "            # two vectors of weights (one scale and one bias per class) per annotator\n",
    "            self.kernel = []\n",
    "            self.kernel.append(self.add_weight(\"CrowdLayer\", (self.output_dim, self.num_annotators),\n",
    "                                            initializer=keras.initializers.Ones(),\n",
    "                                            trainable=True))\n",
    "            self.kernel.append(self.add_weight(\"CrowdLayer\", (self.output_dim, self.num_annotators),\n",
    "                                            initializer=keras.initializers.Zeros(),\n",
    "                                            trainable=True))\n",
    "        elif self.conn_type == \"SW\":\n",
    "            # single weight value per annotator\n",
    "            self.kernel = self.add_weight(\"CrowdLayer\", (self.num_annotators,1),\n",
    "                                            initializer=keras.initializers.Ones(),\n",
    "                                            trainable=True)\n",
    "        else:\n",
    "            raise Exception(\"Unknown connection type for CrowdsClassification layer!\")\n",
    "    #At the end of the build() method (and only at the end), \n",
    "    #you must call the parent’s build() method: this tells Keras that the layer is built (it just sets self.built = True).\n",
    "        super(CrowdsClassification, self).build(input_shape)  # Be sure to call this somewhere!\n",
    "\n",
    "    def call(self, x):\n",
    "    \n",
    "    #The call() method actually performs the desired operations. In this case, \n",
    "    #we compute the matrix multiplication of the inputs X and the layer’s kernel and \n",
    "    #this gives us the output of the layer.\n",
    "     \n",
    " \n",
    "\n",
    "        if self.conn_type == \"MW\":\n",
    "            res = K1.dot(x, self.kernel)\n",
    "        elif self.conn_type == \"VW\" or self.conn_type == \"VB\" or self.conn_type == \"VW+B\" or self.conn_type == \"SW\":\n",
    "            out = []\n",
    "            for r in range(self.num_annotators):\n",
    "                if self.conn_type == \"VW\":\n",
    "                    out.append(x * self.kernel[:,r])\n",
    "                elif self.conn_type == \"VB\":\n",
    "                    out.append(x + self.kernel[0][:,r])\n",
    "                elif self.conn_type == \"VW+B\":\n",
    "                    out.append(x * self.kernel[0][:,r] + self.kernel[1][:,r])\n",
    "                elif self.conn_type == \"SW\":\n",
    "                    out.append(x * self.kernel[r,0])\n",
    "            res = tf.stack(out)\n",
    "            if len(res.shape) == 3:\n",
    "                res = tf.transpose(res, [1, 2, 0])\n",
    "            elif len(res.shape) == 4:\n",
    "                res = tf.transpose(res, [1, 2, 3, 0])\n",
    "            else:\n",
    "                raise Exception(\"Wrong number of dimensions for output\")\n",
    "        else:\n",
    "            raise Exception(\"Unknown connection type for CrowdsClassification layer!\") \n",
    "        \n",
    "        return res\n",
    " \n",
    "#The compute_output_shape() method simply returns the shape of this layer’s outputs. \n",
    "#In this case, it is the same shape as the inputs, except the last two dimensions is replaced \n",
    "#with the number of clases and # annotators in the layer.  \n",
    " \n",
    "\n",
    "    def compute_output_shape(self, input_shape):\n",
    "        return (input_shape[0], self.output_dim, self.num_annotators)"
   ]
  },
  {
   "cell_type": "markdown",
   "id": "1f9d12e8",
   "metadata": {
    "id": "xKzPN5lnHO13",
    "papermill": {
     "duration": 0.007623,
     "end_time": "2022-12-19T19:08:43.055389",
     "exception": false,
     "start_time": "2022-12-19T19:08:43.047766",
     "status": "completed"
    },
    "tags": []
   },
   "source": [
    "# Load Data"
   ]
  },
  {
   "cell_type": "code",
   "execution_count": 5,
   "id": "9f4ff6ba",
   "metadata": {
    "execution": {
     "iopub.execute_input": "2022-12-19T19:08:43.072894Z",
     "iopub.status.busy": "2022-12-19T19:08:43.072445Z",
     "iopub.status.idle": "2022-12-19T19:08:43.153922Z",
     "shell.execute_reply": "2022-12-19T19:08:43.151811Z"
    },
    "id": "hA1QFlPBjpbA",
    "outputId": "db5be05d-1fdc-4725-8064-5dc79e7a9a6a",
    "papermill": {
     "duration": 0.093872,
     "end_time": "2022-12-19T19:08:43.157219",
     "exception": false,
     "start_time": "2022-12-19T19:08:43.063347",
     "status": "completed"
    },
    "tags": []
   },
   "outputs": [
    {
     "name": "stdout",
     "output_type": "stream",
     "text": [
      "X (215, 5) t (215,)\n"
     ]
    }
   ],
   "source": [
    "#load data\n",
    "import scipy.io as sio\n",
    "import matplotlib.pyplot as plt\n",
    "import pandas as pd\n",
    "import tensorflow as tf #importar tensorflow\n",
    "from sklearn.model_selection import GridSearchCV, RandomizedSearchCV\n",
    "from sklearn.preprocessing import StandardScaler,MinMaxScaler\n",
    "from sklearn.preprocessing import LabelEncoder\n",
    "import numpy as np\n",
    "database = 'thyroid' #['bupa1', 'breast-cancer-wisconsin1','pima-indians-diabetes1', 'ionosphere1', 'tic-tac-toe1', 'iris1', 'wine1', 'segmentation1']\n",
    "\n",
    "\n",
    "\n",
    "import pandas as pd\n",
    "from sklearn.preprocessing import LabelEncoder\n",
    "df = pd.read_csv(r'../input/uci-new-thyroid/new-thyroid.csv') \n",
    "df.head()\n",
    "\n",
    "#Dividing X and y\n",
    "t = np.array(LabelEncoder().fit_transform(df['class'].tolist()))\n",
    "X = np.array(df.drop(['class'], axis = 1).values)\n",
    "print('X',X.shape,'t',t.shape)"
   ]
  },
  {
   "cell_type": "code",
   "execution_count": 6,
   "id": "bac7cf1e",
   "metadata": {
    "execution": {
     "iopub.execute_input": "2022-12-19T19:08:43.174957Z",
     "iopub.status.busy": "2022-12-19T19:08:43.173771Z",
     "iopub.status.idle": "2022-12-19T19:08:43.184197Z",
     "shell.execute_reply": "2022-12-19T19:08:43.183123Z"
    },
    "id": "xnqtxG_x3FKL",
    "papermill": {
     "duration": 0.023205,
     "end_time": "2022-12-19T19:08:43.188188",
     "exception": false,
     "start_time": "2022-12-19T19:08:43.164983",
     "status": "completed"
    },
    "tags": []
   },
   "outputs": [
    {
     "data": {
      "text/plain": [
       "array([1, 1, 1, 1, 1, 1, 1, 1, 1, 1, 1, 1, 1, 1, 1, 1, 1, 1, 1, 1, 1, 1,\n",
       "       1, 1, 1, 1, 1, 1, 1, 1, 1, 1, 1, 1, 1, 1, 1, 1, 1, 1, 1, 1, 1, 1,\n",
       "       1, 1, 1, 1, 1, 1, 1, 1, 1, 1, 1, 1, 1, 1, 1, 1, 1, 1, 1, 1, 1, 1,\n",
       "       1, 1, 1, 1, 1, 1, 1, 1, 1, 1, 1, 1, 1, 1, 1, 1, 1, 1, 1, 1, 1, 1,\n",
       "       1, 1, 1, 1, 1, 1, 1, 1, 1, 1, 1, 1, 1, 1, 1, 1, 1, 1, 1, 1, 1, 1,\n",
       "       1, 1, 1, 1, 1, 1, 1, 1, 1, 1, 1, 1, 1, 1, 1, 1, 1, 1, 1, 1, 1, 1,\n",
       "       1, 1, 1, 1, 1, 1, 1, 1, 1, 1, 1, 1, 1, 1, 1, 1, 1, 1, 2, 2, 2, 2,\n",
       "       2, 2, 2, 2, 2, 2, 2, 2, 2, 2, 2, 2, 2, 2, 2, 2, 2, 2, 2, 2, 2, 2,\n",
       "       2, 2, 2, 2, 2, 2, 2, 2, 2, 3, 3, 3, 3, 3, 3, 3, 3, 3, 3, 3, 3, 3,\n",
       "       3, 3, 3, 3, 3, 3, 3, 3, 3, 3, 3, 3, 3, 3, 3, 3, 3])"
      ]
     },
     "execution_count": 6,
     "metadata": {},
     "output_type": "execute_result"
    }
   ],
   "source": [
    "t = t+1\n",
    "t"
   ]
  },
  {
   "cell_type": "markdown",
   "id": "a0807337",
   "metadata": {
    "id": "avDA2pJIJgsf",
    "papermill": {
     "duration": 0.007199,
     "end_time": "2022-12-19T19:08:43.203241",
     "exception": false,
     "start_time": "2022-12-19T19:08:43.196042",
     "status": "completed"
    },
    "tags": []
   },
   "source": [
    "# Labels Generation  "
   ]
  },
  {
   "cell_type": "code",
   "execution_count": 7,
   "id": "67f19816",
   "metadata": {
    "execution": {
     "iopub.execute_input": "2022-12-19T19:08:43.221446Z",
     "iopub.status.busy": "2022-12-19T19:08:43.220971Z",
     "iopub.status.idle": "2022-12-19T19:08:43.522757Z",
     "shell.execute_reply": "2022-12-19T19:08:43.521368Z"
    },
    "id": "BupvL7KSocvu",
    "papermill": {
     "duration": 0.314667,
     "end_time": "2022-12-19T19:08:43.525786",
     "exception": false,
     "start_time": "2022-12-19T19:08:43.211119",
     "status": "completed"
    },
    "tags": []
   },
   "outputs": [],
   "source": [
    "import random\n",
    "import warnings\n",
    "import numpy as np\n",
    "#import climin\n",
    "from functools import partial\n",
    "import matplotlib.pyplot as plt\n",
    "from sklearn.preprocessing import StandardScaler\n",
    "from sklearn.cluster import KMeans\n",
    "import matplotlib.pyplot as plt\n",
    "from sklearn.manifold import TSNE\n",
    "\n",
    "#Defining the Sigmoid function and Softmax function\n",
    "def Sigmoid(f_r):\n",
    "    lam_r = 1/(1 + np.exp(-f_r))\n",
    "    return lam_r\n",
    "\n",
    "def MAjVot(Y, K):\n",
    "    N,R = Y.shape\n",
    "    Yhat = np.zeros((N,1))\n",
    "    for n in range(N):\n",
    "        votes = np.zeros((K,1))\n",
    "        for r in range(R):\n",
    "            for k in range(K):\n",
    "                if Y[n,r] == k+1:\n",
    "                    votes[k] = votes[k]+1\n",
    "        Yhat[n] = np.argmax(votes) + 1\n",
    "    return Yhat\n",
    "\n",
    "\n",
    "def  MA_Clas_Gen(Xtrain,ytrain,R,NrP):\n",
    "\n",
    "    N = len(ytrain)\n",
    "    K = len(np.unique(ytrain))\n",
    "    Kn = np.unique(ytrain)\n",
    "    aux = 0\n",
    "    A = np.zeros((K,1))\n",
    "    for k in Kn:\n",
    "        A[aux] = (ytrain == k).sum()\n",
    "        aux = aux + 1\n",
    "    per = np.min(A)\n",
    "    if N < 25000:\n",
    "        Xtrain = TSNE(n_components=1,perplexity=per/2).fit_transform(Xtrain)\n",
    "    else:\n",
    "        Xtrain = np.sum(Xtrain,1)\n",
    "    # Xtrain = Xtrain-Xtrain.min()\n",
    "    # Xtrain = Xtrain/Xtrain.max()\n",
    "    #ytrain = y\n",
    "    # scaler = StandardScaler()\n",
    "    # scalerY = scaler.fit(y)\n",
    "    # ytrain = scaler.fit_transform(y)\n",
    "\n",
    "    \n",
    "    #miny = y.min()\n",
    "    #ytrain = y-miny\n",
    "    #maxy = ytrain.max()\n",
    "    #ytrain = ytrain/maxy\n",
    "  \n",
    "    # Xtrain = np.sum(Xtrain, axis=1)\n",
    "    Xtrain = Xtrain - Xtrain.min()\n",
    "    #print(Xtrain.min(), Xtrain.max())\n",
    "    Xtrain = Xtrain/Xtrain.max()\n",
    "    Xtrain = Xtrain.reshape((N,1))\n",
    "    yprueba = np.ones((N,1))\n",
    "    \n",
    "    \n",
    "    u_q = np.empty((Xtrain.shape[0],3))\n",
    "    u_q[:,0,None] = 4.5*np.cos(2*np.pi*Xtrain + 1.5*np.pi) - \\\n",
    "                               3*np.sin(4.3*np.pi*Xtrain + 0.3*np.pi)\n",
    "                    \n",
    "    u_q[:,1,None] = 4.5*np.cos(1.5*np.pi*Xtrain + 0.5*np.pi) + \\\n",
    "                       5*np.sin(3*np.pi*Xtrain + 1.5*np.pi)\n",
    "    \n",
    "    u_q[:,2,None] = 1\n",
    "    \n",
    "    W = []\n",
    "    # q=1\n",
    "    Wq1 = np.array(([[0.4],[0.7],[-0.5],[0],[-0.7]]))\n",
    "    W.append(Wq1)\n",
    "    # q=2\n",
    "    Wq2 = np.array(([[0.4],[-1.0],[-0.1],[-0.8],[1.0]]))\n",
    "    W.append(Wq2)\n",
    "    Wq3 = np.array(([[3.1],[-1.8],[-0.6],[-1.2],[1.0]]))\n",
    "    W.append(Wq3)\n",
    "\n",
    "    \n",
    "    F_r = []\n",
    "    Lam_r = []\n",
    "    for r in range(R):\n",
    "        f_r = np.zeros((Xtrain.shape[0], 1))\n",
    "        # rho_r = np.zeros((Xtrain.shape[0], 1))\n",
    "        for q in range(3):\n",
    "            f_r += W[q][r].T*u_q[:,q,None]\n",
    "        F_r.append(f_r)\n",
    "        lam_r = Sigmoid(f_r)\n",
    "        lam_r[lam_r>0.5] = 1\n",
    "        lam_r[lam_r<=0.5] = 0\n",
    "        Lam_r.append(lam_r)\n",
    "    plt.plot(Xtrain,Lam_r[2],'rx')\n",
    "    plt.show()\n",
    "    seed = 0\n",
    "    np.random.seed(seed)\n",
    "    Ytrain = np.ones((N, R))\n",
    "    for r in range(R):\n",
    "        aux = ytrain.copy()\n",
    "        for n in range(N):\n",
    "            if Lam_r[r][n] == 0:\n",
    "                labels = np.arange(1, K+1)\n",
    "                a = np.where(labels==ytrain[n])\n",
    "                labels = np.delete(labels, a)\n",
    "                idxlabels = np.random.permutation(K-1)\n",
    "                aux[n] = labels[idxlabels[0]]         \n",
    "        Ytrain[:,r] = aux.flatten()\n",
    "        \n",
    "   # Ytrain = (Ytrain*maxy) + miny\n",
    "        \n",
    "    iAnn = np.zeros((N, R), dtype=int) # this indicates if the annotator r labels the nth sample.\n",
    "    Nr = np.ones((R), dtype=int)*int(np.floor(N*NrP))  \n",
    "    for r in range(R):\n",
    "        if r < R-1:\n",
    "            indexR = np.random.permutation(range(N))[:Nr[r]]\n",
    "            iAnn[indexR,r] = 1\n",
    "        else:\n",
    "            iSimm = np.sum(iAnn, axis=1)\n",
    "            idxZero = np.asarray([i for (i, val) in enumerate(iSimm) if val == 0])\n",
    "            Nzeros = idxZero.shape[0]\n",
    "            idx2Choose = np.arange(N)\n",
    "            if Nzeros == 0:\n",
    "                indexR = np.random.permutation(range(N))[:Nr[r]]\n",
    "                iAnn[indexR,r] = 1\n",
    "            else:\n",
    "                idx2Choose = np.delete(idx2Choose, idxZero)\n",
    "                N2chose = idx2Choose.shape[0]\n",
    "                idxNoZero = np.random.permutation(N2chose)[:(Nr[r] - Nzeros)]\n",
    "                idxTot = np.concatenate((idxZero, idx2Choose[idxNoZero]))\n",
    "                iAnn[idxTot,r] = 1\n",
    "    \n",
    "    # Now, we verify that all the samples were labeled at least once\n",
    "    Nr = (np.sum(iAnn,0))\n",
    "    iSimm = np.sum(iAnn, axis=1)\n",
    "    if np.asarray([i for (i, val) in enumerate(iSimm) if val == 0]).sum() == 0:\n",
    "        ValueError(\"all the samples must be labeled at least once\")\n",
    "\n",
    "    # Finally, if iAnn=0 we assign a reference value to indicate a missing value\n",
    "    Vref = -1e-20\n",
    "    for r in range(R):\n",
    "        Ytrain[iAnn[:,r] == 0, r] = Vref \n",
    "\n",
    "    return Ytrain, iAnn, Lam_r\n",
    "\n",
    "\n",
    "def CrossVal(X, pp, Nk):\n",
    "    N = X.shape[0]\n",
    "    Ntr = int(N*pp)\n",
    "    Nte = N - Ntr\n",
    "    idxtr = np.zeros((Ntr,Nk))\n",
    "    idxte = np.zeros((Nte,Nk))\n",
    "    \n",
    "    for i in range(Nk):\n",
    "        index = np.random.permutation(range(N))\n",
    "        idxtr[:,i] = index[:Ntr]\n",
    "        idxte[:,i] = index[Ntr:]\n",
    "        \n",
    "    return idxtr, idxte\n",
    "    \n",
    "    \n",
    "        \n"
   ]
  },
  {
   "cell_type": "code",
   "execution_count": 8,
   "id": "e2e6c91f",
   "metadata": {
    "execution": {
     "iopub.execute_input": "2022-12-19T19:08:43.544146Z",
     "iopub.status.busy": "2022-12-19T19:08:43.543400Z",
     "iopub.status.idle": "2022-12-19T19:08:44.311670Z",
     "shell.execute_reply": "2022-12-19T19:08:44.310487Z"
    },
    "id": "tK8MHObF3FKM",
    "outputId": "8f128bab-9644-4526-d91c-a3eb4c94fc10",
    "papermill": {
     "duration": 0.780566,
     "end_time": "2022-12-19T19:08:44.314587",
     "exception": false,
     "start_time": "2022-12-19T19:08:43.534021",
     "status": "completed"
    },
    "tags": []
   },
   "outputs": [
    {
     "name": "stderr",
     "output_type": "stream",
     "text": [
      "/opt/conda/lib/python3.7/site-packages/sklearn/manifold/_t_sne.py:783: FutureWarning: The default initialization in TSNE will change from 'random' to 'pca' in 1.2.\n",
      "  FutureWarning,\n",
      "/opt/conda/lib/python3.7/site-packages/sklearn/manifold/_t_sne.py:793: FutureWarning: The default learning rate in TSNE will change from 200.0 to 'auto' in 1.2.\n",
      "  FutureWarning,\n"
     ]
    },
    {
     "data": {
      "image/png": "[encoded data removed]",
      "text/plain": [
       "<Figure size 432x288 with 1 Axes>"
      ]
     },
     "metadata": {
      "needs_background": "light"
     },
     "output_type": "display_data"
    }
   ],
   "source": [
    "Y, iAnn, Lam_r = MA_Clas_Gen(X ,t, R=5, NrP=1)"
   ]
  },
  {
   "cell_type": "code",
   "execution_count": 9,
   "id": "010fd309",
   "metadata": {
    "execution": {
     "iopub.execute_input": "2022-12-19T19:08:44.333361Z",
     "iopub.status.busy": "2022-12-19T19:08:44.332899Z",
     "iopub.status.idle": "2022-12-19T19:08:44.338550Z",
     "shell.execute_reply": "2022-12-19T19:08:44.337370Z"
    },
    "id": "v0Y8m7E-3FKM",
    "papermill": {
     "duration": 0.017857,
     "end_time": "2022-12-19T19:08:44.341261",
     "exception": false,
     "start_time": "2022-12-19T19:08:44.323404",
     "status": "completed"
    },
    "tags": []
   },
   "outputs": [],
   "source": [
    "  Y = Y - 1\n",
    "  t = t - 1\n",
    "  #YMA = YMA-1"
   ]
  },
  {
   "cell_type": "code",
   "execution_count": 10,
   "id": "84acd226",
   "metadata": {
    "execution": {
     "iopub.execute_input": "2022-12-19T19:08:44.358814Z",
     "iopub.status.busy": "2022-12-19T19:08:44.358393Z",
     "iopub.status.idle": "2022-12-19T19:08:45.373516Z",
     "shell.execute_reply": "2022-12-19T19:08:45.372046Z"
    },
    "papermill": {
     "duration": 1.027162,
     "end_time": "2022-12-19T19:08:45.376284",
     "exception": false,
     "start_time": "2022-12-19T19:08:44.349122",
     "status": "completed"
    },
    "tags": []
   },
   "outputs": [
    {
     "name": "stdout",
     "output_type": "stream",
     "text": [
      "annotator 1\n",
      "              precision    recall  f1-score   support\n",
      "\n",
      "           0       0.98      0.83      0.90       150\n",
      "           1       0.71      0.91      0.80        35\n",
      "           2       0.71      1.00      0.83        30\n",
      "\n",
      "    accuracy                           0.87       215\n",
      "   macro avg       0.80      0.92      0.84       215\n",
      "weighted avg       0.90      0.87      0.87       215\n",
      "\n",
      "annotator 2\n",
      "              precision    recall  f1-score   support\n",
      "\n",
      "           0       0.86      0.62      0.72       150\n",
      "           1       0.15      0.17      0.16        35\n",
      "           2       0.40      0.90      0.55        30\n",
      "\n",
      "    accuracy                           0.59       215\n",
      "   macro avg       0.47      0.56      0.48       215\n",
      "weighted avg       0.68      0.59      0.61       215\n",
      "\n",
      "annotator 3\n",
      "              precision    recall  f1-score   support\n",
      "\n",
      "           0       0.90      0.62      0.74       150\n",
      "           1       0.39      0.89      0.54        35\n",
      "           2       0.15      0.17      0.16        30\n",
      "\n",
      "    accuracy                           0.60       215\n",
      "   macro avg       0.48      0.56      0.48       215\n",
      "weighted avg       0.71      0.60      0.62       215\n",
      "\n",
      "annotator 4\n",
      "              precision    recall  f1-score   support\n",
      "\n",
      "           0       0.79      0.54      0.64       150\n",
      "           1       0.20      0.29      0.23        35\n",
      "           2       0.24      0.50      0.33        30\n",
      "\n",
      "    accuracy                           0.49       215\n",
      "   macro avg       0.41      0.44      0.40       215\n",
      "weighted avg       0.62      0.49      0.53       215\n",
      "\n",
      "annotator 5\n",
      "              precision    recall  f1-score   support\n",
      "\n",
      "           0       0.65      0.20      0.31       150\n",
      "           1       0.23      0.71      0.34        35\n",
      "           2       0.05      0.10      0.07        30\n",
      "\n",
      "    accuracy                           0.27       215\n",
      "   macro avg       0.31      0.34      0.24       215\n",
      "weighted avg       0.50      0.27      0.28       215\n",
      "\n"
     ]
    },
    {
     "data": {
      "image/png": "[encoded data removed]",
      "text/plain": [
       "<Figure size 432x288 with 1 Axes>"
      ]
     },
     "metadata": {
      "needs_background": "light"
     },
     "output_type": "display_data"
    },
    {
     "data": {
      "image/png": "[encoded data removed]",
      "text/plain": [
       "<Figure size 432x288 with 1 Axes>"
      ]
     },
     "metadata": {
      "needs_background": "light"
     },
     "output_type": "display_data"
    },
    {
     "data": {
      "image/png": "[encoded data removed]",
      "text/plain": [
       "<Figure size 432x288 with 1 Axes>"
      ]
     },
     "metadata": {
      "needs_background": "light"
     },
     "output_type": "display_data"
    },
    {
     "data": {
      "image/png": "[encoded data removed]",
      "text/plain": [
       "<Figure size 432x288 with 1 Axes>"
      ]
     },
     "metadata": {
      "needs_background": "light"
     },
     "output_type": "display_data"
    },
    {
     "data": {
      "image/png": "[encoded data removed]",
      "text/plain": [
       "<Figure size 432x288 with 1 Axes>"
      ]
     },
     "metadata": {
      "needs_background": "light"
     },
     "output_type": "display_data"
    }
   ],
   "source": [
    "from sklearn.metrics import classification_report\n",
    "for i in range(Y.shape[1]):\n",
    "    print('annotator',i+1)\n",
    "    print(classification_report(t,Y[:,i]))\n",
    "    unique, counts = np.unique(Y[:,i], return_counts=True)\n",
    "    plt.figure()\n",
    "    plt.bar(unique, counts)\n",
    "    #     unique, counts = np.unique(Y_test[5], return_counts=True)\n",
    "    #     plt.bar(unique, counts)\n",
    "\n",
    "    plt.title('Class Frequency for Y_true')\n",
    "    plt.xlabel('Class')\n",
    "    plt.ylabel('Frequency')"
   ]
  },
  {
   "cell_type": "markdown",
   "id": "08040009",
   "metadata": {
    "id": "uudDcV4wHiuI",
    "papermill": {
     "duration": 0.009463,
     "end_time": "2022-12-19T19:08:45.400063",
     "exception": false,
     "start_time": "2022-12-19T19:08:45.390600",
     "status": "completed"
    },
    "tags": []
   },
   "source": [
    "# Split data"
   ]
  },
  {
   "cell_type": "code",
   "execution_count": 11,
   "id": "85645656",
   "metadata": {
    "execution": {
     "iopub.execute_input": "2022-12-19T19:08:45.420546Z",
     "iopub.status.busy": "2022-12-19T19:08:45.420086Z",
     "iopub.status.idle": "2022-12-19T19:08:45.432826Z",
     "shell.execute_reply": "2022-12-19T19:08:45.430987Z"
    },
    "id": "QCxEhJv_3FKN",
    "outputId": "20cf4b24-fde3-4b21-f26a-2809af8f2c5d",
    "papermill": {
     "duration": 0.026284,
     "end_time": "2022-12-19T19:08:45.435635",
     "exception": false,
     "start_time": "2022-12-19T19:08:45.409351",
     "status": "completed"
    },
    "tags": []
   },
   "outputs": [
    {
     "name": "stdout",
     "output_type": "stream",
     "text": [
      "[167 200  31 128  93 158 165 133 190 139 119  19 107 187  20 122 198 186\n",
      " 193  52 204  71 166 178   4 201  79 197 116 161 172  21 127  53 179  72\n",
      " 206 149  10  42  81  26  11 140  90 150 120  85 183 100  88 143 189  37\n",
      "  50  62 108  77 181  24 175 169  33  23 194]\n",
      "(150, 5) (150, 5) (150, 1)\n"
     ]
    }
   ],
   "source": [
    "import numpy.matlib\n",
    "from sklearn.model_selection import  StratifiedShuffleSplit, ShuffleSplit\n",
    "Ns = 1\n",
    "ss = ShuffleSplit(n_splits=Ns, test_size=0.3, random_state =123)\n",
    "for train_index, test_index in ss.split(X):\n",
    "    print(test_index)\n",
    "    X_train, X_test,Y_train,Y_test = X[train_index,:], X[test_index,:],Y[train_index,:], Y[test_index,:]\n",
    "    Y_true_train, Y_true_test = t[train_index].reshape(-1,1), t[test_index].reshape(-1,1)\n",
    "print(X_train.shape, Y_train.shape, Y_true_train.shape)"
   ]
  },
  {
   "cell_type": "code",
   "execution_count": 12,
   "id": "61e7aac0",
   "metadata": {
    "execution": {
     "iopub.execute_input": "2022-12-19T19:08:45.457530Z",
     "iopub.status.busy": "2022-12-19T19:08:45.457069Z",
     "iopub.status.idle": "2022-12-19T19:08:45.689554Z",
     "shell.execute_reply": "2022-12-19T19:08:45.688212Z"
    },
    "papermill": {
     "duration": 0.246824,
     "end_time": "2022-12-19T19:08:45.692453",
     "exception": false,
     "start_time": "2022-12-19T19:08:45.445629",
     "status": "completed"
    },
    "tags": []
   },
   "outputs": [
    {
     "data": {
      "text/plain": [
       "Text(0, 0.5, 'Frequency')"
      ]
     },
     "execution_count": 12,
     "metadata": {},
     "output_type": "execute_result"
    },
    {
     "data": {
      "image/png": "[encoded data removed]",
      "text/plain": [
       "<Figure size 432x288 with 1 Axes>"
      ]
     },
     "metadata": {
      "needs_background": "light"
     },
     "output_type": "display_data"
    }
   ],
   "source": [
    "unique, counts = np.unique(Y_true_train, return_counts=True)\n",
    "plt.bar(unique, counts)\n",
    "unique, counts = np.unique(Y_true_test, return_counts=True)\n",
    "plt.bar(unique, counts)\n",
    "\n",
    "plt.title('Class Frequency for Y_true')\n",
    "plt.xlabel('Class')\n",
    "plt.ylabel('Frequency')\n"
   ]
  },
  {
   "cell_type": "markdown",
   "id": "e8f521e7",
   "metadata": {
    "id": "kgDMRggXHo0X",
    "papermill": {
     "duration": 0.009439,
     "end_time": "2022-12-19T19:08:45.711862",
     "exception": false,
     "start_time": "2022-12-19T19:08:45.702423",
     "status": "completed"
    },
    "tags": []
   },
   "source": [
    "# Apply MinMaxScaler"
   ]
  },
  {
   "cell_type": "code",
   "execution_count": 13,
   "id": "16bbfea1",
   "metadata": {
    "execution": {
     "iopub.execute_input": "2022-12-19T19:08:45.734793Z",
     "iopub.status.busy": "2022-12-19T19:08:45.732670Z",
     "iopub.status.idle": "2022-12-19T19:08:45.739941Z",
     "shell.execute_reply": "2022-12-19T19:08:45.739019Z"
    },
    "id": "33XT7bGs3FKN",
    "papermill": {
     "duration": 0.020723,
     "end_time": "2022-12-19T19:08:45.742383",
     "exception": false,
     "start_time": "2022-12-19T19:08:45.721660",
     "status": "completed"
    },
    "tags": []
   },
   "outputs": [],
   "source": [
    "scaler = MinMaxScaler()\n",
    "scaler.fit(X_train)\n",
    "X_train = scaler.transform(X_train)\n",
    "X_test = scaler.transform(X_test)"
   ]
  },
  {
   "cell_type": "code",
   "execution_count": 14,
   "id": "42e80d8f",
   "metadata": {
    "execution": {
     "iopub.execute_input": "2022-12-19T19:08:45.765487Z",
     "iopub.status.busy": "2022-12-19T19:08:45.763182Z",
     "iopub.status.idle": "2022-12-19T19:08:45.771227Z",
     "shell.execute_reply": "2022-12-19T19:08:45.770239Z"
    },
    "id": "8JB57s89xbR3",
    "outputId": "5f7b5561-3e45-498d-9117-bf91a63d2fb9",
    "papermill": {
     "duration": 0.02124,
     "end_time": "2022-12-19T19:08:45.773521",
     "exception": false,
     "start_time": "2022-12-19T19:08:45.752281",
     "status": "completed"
    },
    "tags": []
   },
   "outputs": [
    {
     "data": {
      "text/plain": [
       "3"
      ]
     },
     "execution_count": 14,
     "metadata": {},
     "output_type": "execute_result"
    }
   ],
   "source": [
    "len(np.unique(Y_test))"
   ]
  },
  {
   "cell_type": "code",
   "execution_count": 15,
   "id": "4a999c0f",
   "metadata": {
    "execution": {
     "iopub.execute_input": "2022-12-19T19:08:45.795392Z",
     "iopub.status.busy": "2022-12-19T19:08:45.794683Z",
     "iopub.status.idle": "2022-12-19T19:08:45.800453Z",
     "shell.execute_reply": "2022-12-19T19:08:45.799351Z"
    },
    "id": "Ce-Lhs1K3FKO",
    "papermill": {
     "duration": 0.019235,
     "end_time": "2022-12-19T19:08:45.802899",
     "exception": false,
     "start_time": "2022-12-19T19:08:45.783664",
     "status": "completed"
    },
    "tags": []
   },
   "outputs": [],
   "source": [
    "#testing PRI as ground truth -> repeat true labels as multiple annotators\n",
    "Y_true_train_K = np.matlib.repmat(Y_true_train,1, Y_train.shape[1])#testing MA as classifier\n",
    "#print(X_train.shape,Y_true_train_K.shape)\n",
    "# Y_train_one_hot_targets = tf.one_hot(tf.cast(Y_train , tf.int32), len(np.unique(Y_true_test)), axis = 1, dtype=tf.int32)\n",
    "# Y_train_one_hot_targets.shape"
   ]
  },
  {
   "cell_type": "markdown",
   "id": "4fa7d3f3",
   "metadata": {
    "id": "pPoaMuiXH-Zm",
    "papermill": {
     "duration": 0.009393,
     "end_time": "2022-12-19T19:08:45.822088",
     "exception": false,
     "start_time": "2022-12-19T19:08:45.812695",
     "status": "completed"
    },
    "tags": []
   },
   "source": [
    "# Testing the Class "
   ]
  },
  {
   "cell_type": "code",
   "execution_count": 16,
   "id": "61d18cdd",
   "metadata": {
    "execution": {
     "iopub.execute_input": "2022-12-19T19:08:45.843675Z",
     "iopub.status.busy": "2022-12-19T19:08:45.843190Z",
     "iopub.status.idle": "2022-12-19T19:09:41.138169Z",
     "shell.execute_reply": "2022-12-19T19:09:41.135956Z"
    },
    "id": "No0pNZFXXd9h",
    "papermill": {
     "duration": 55.309664,
     "end_time": "2022-12-19T19:09:41.141630",
     "exception": false,
     "start_time": "2022-12-19T19:08:45.831966",
     "status": "completed"
    },
    "tags": []
   },
   "outputs": [
    {
     "name": "stdout",
     "output_type": "stream",
     "text": [
      "iteration: 0\n"
     ]
    },
    {
     "name": "stderr",
     "output_type": "stream",
     "text": [
      "2022-12-19 19:08:46.108386: I tensorflow/core/common_runtime/process_util.cc:146] Creating new thread pool with default inter op setting: 2. Tune using inter_op_parallelism_threads for best performance.\n",
      "2022-12-19 19:08:46.692068: I tensorflow/compiler/mlir/mlir_graph_optimization_pass.cc:185] None of the MLIR Optimization Passes are enabled (registered 2)\n"
     ]
    },
    {
     "name": "stdout",
     "output_type": "stream",
     "text": [
      "Validation ACC: 0.9692\n",
      "Validation aUc: 0.9735\n",
      "iteration: 1\n",
      "Validation ACC: 0.9538\n",
      "Validation aUc: 0.9550\n",
      "iteration: 2\n",
      "Validation ACC: 0.9692\n",
      "Validation aUc: 0.9735\n",
      "iteration: 3\n",
      "Validation ACC: 0.9692\n",
      "Validation aUc: 0.9735\n",
      "iteration: 4\n",
      "Validation ACC: 0.9538\n",
      "Validation aUc: 0.9530\n",
      "iteration: 5\n",
      "Validation ACC: 0.9692\n",
      "Validation aUc: 0.9735\n",
      "iteration: 6\n",
      "Validation ACC: 0.9692\n",
      "Validation aUc: 0.9735\n",
      "iteration: 7\n",
      "Validation ACC: 0.9692\n",
      "Validation aUc: 0.9735\n",
      "iteration: 8\n",
      "Validation ACC: 0.9692\n",
      "Validation aUc: 0.9735\n",
      "iteration: 9\n",
      "Validation ACC: 0.9692\n",
      "Validation aUc: 0.9735\n"
     ]
    }
   ],
   "source": [
    "from sklearn.metrics import classification_report\n",
    "\n",
    "l1 =0.1\n",
    "NUM_RUNS =10\n",
    "ACC = np.zeros(NUM_RUNS)\n",
    "AUC = np.zeros(NUM_RUNS)\n",
    "for i in range(NUM_RUNS): #10\n",
    "    print(\"iteration: \" + str(i))\n",
    "   \n",
    "    MA = Keras_MA_CrowdL(epochs=100,batch_size=64,R= Y_train.shape[1], K=len(np.unique(Y_true_test)), dropout=0.25, learning_rate=0.01,optimizer='Adam', \n",
    "                l1_param=l1,  validation_split=0.3, verbose=0)\n",
    "\n",
    "\n",
    "    MA.fit(X_train, Y_train)\n",
    "    #MA.plot_history()\n",
    "  \n",
    "    #Accuracy  \n",
    "    \n",
    "    #estimar etiquetas modelo rodiguez \n",
    "    preds_test_num =  MA.predict2(X_test)\n",
    "    \n",
    "    report = classification_report(Y_true_test,preds_test_num,output_dict=True)\n",
    "    ACC[i] = report['accuracy']\n",
    "    print(\"Validation ACC: %.4f\" % (float(report['accuracy']),))\n",
    "    \n",
    "    #AUC\n",
    "    val_AUC_metric = tf.keras.metrics.AUC( from_logits = True)  \n",
    "   # val_logits =MA.predict(X_test) # model(X_test, training=False)\n",
    "    # tf.print(y_batch_val)\n",
    "    val_AUC_metric.update_state(Y_true_test,  preds_test_num.astype('float'))\n",
    "\n",
    "    val_AUC = val_AUC_metric.result()\n",
    "    val_AUC_metric.reset_states()\n",
    "    val_AUC = val_AUC.numpy()\n",
    "    print(\"Validation aUc: %.4f\" % (float(val_AUC),))\n",
    "    AUC[i] = val_AUC\n",
    "    \n",
    "  "
   ]
  },
  {
   "cell_type": "code",
   "execution_count": 17,
   "id": "c08d0589",
   "metadata": {
    "execution": {
     "iopub.execute_input": "2022-12-19T19:09:41.165961Z",
     "iopub.status.busy": "2022-12-19T19:09:41.165505Z",
     "iopub.status.idle": "2022-12-19T19:09:41.173463Z",
     "shell.execute_reply": "2022-12-19T19:09:41.172343Z"
    },
    "papermill": {
     "duration": 0.022971,
     "end_time": "2022-12-19T19:09:41.175859",
     "exception": false,
     "start_time": "2022-12-19T19:09:41.152888",
     "status": "completed"
    },
    "tags": []
   },
   "outputs": [
    {
     "data": {
      "text/plain": [
       "array([0.96923077, 0.95384615, 0.96923077, 0.96923077, 0.95384615,\n",
       "       0.96923077, 0.96923077, 0.96923077, 0.96923077, 0.96923077])"
      ]
     },
     "execution_count": 17,
     "metadata": {},
     "output_type": "execute_result"
    }
   ],
   "source": [
    "ACC"
   ]
  },
  {
   "cell_type": "code",
   "execution_count": 18,
   "id": "ce4189fb",
   "metadata": {
    "execution": {
     "iopub.execute_input": "2022-12-19T19:09:41.199290Z",
     "iopub.status.busy": "2022-12-19T19:09:41.198828Z",
     "iopub.status.idle": "2022-12-19T19:09:41.206650Z",
     "shell.execute_reply": "2022-12-19T19:09:41.205389Z"
    },
    "papermill": {
     "duration": 0.022387,
     "end_time": "2022-12-19T19:09:41.209099",
     "exception": false,
     "start_time": "2022-12-19T19:09:41.186712",
     "status": "completed"
    },
    "tags": []
   },
   "outputs": [
    {
     "data": {
      "text/plain": [
       "array([0.97350007, 0.95499998, 0.97350007, 0.97350007, 0.95300007,\n",
       "       0.97350007, 0.97350007, 0.97350007, 0.97350007, 0.97350007])"
      ]
     },
     "execution_count": 18,
     "metadata": {},
     "output_type": "execute_result"
    }
   ],
   "source": [
    "AUC"
   ]
  },
  {
   "cell_type": "code",
   "execution_count": 19,
   "id": "7bc6bfe6",
   "metadata": {
    "execution": {
     "iopub.execute_input": "2022-12-19T19:09:41.233351Z",
     "iopub.status.busy": "2022-12-19T19:09:41.232910Z",
     "iopub.status.idle": "2022-12-19T19:09:41.240398Z",
     "shell.execute_reply": "2022-12-19T19:09:41.239021Z"
    },
    "papermill": {
     "duration": 0.023601,
     "end_time": "2022-12-19T19:09:41.244091",
     "exception": false,
     "start_time": "2022-12-19T19:09:41.220490",
     "status": "completed"
    },
    "tags": []
   },
   "outputs": [
    {
     "name": "stdout",
     "output_type": "stream",
     "text": [
      "Average Accuracy:  96.61999999999999\n",
      "Average std:  0.62\n"
     ]
    }
   ],
   "source": [
    "print('Average Accuracy: ', np.round( ACC.mean(),4)*100) \n",
    "print('Average std: ',np.round(np.std( ACC),4)*100)"
   ]
  },
  {
   "cell_type": "code",
   "execution_count": 20,
   "id": "e5097feb",
   "metadata": {
    "execution": {
     "iopub.execute_input": "2022-12-19T19:09:41.270572Z",
     "iopub.status.busy": "2022-12-19T19:09:41.269939Z",
     "iopub.status.idle": "2022-12-19T19:09:41.276918Z",
     "shell.execute_reply": "2022-12-19T19:09:41.275622Z"
    },
    "papermill": {
     "duration": 0.02315,
     "end_time": "2022-12-19T19:09:41.279937",
     "exception": false,
     "start_time": "2022-12-19T19:09:41.256787",
     "status": "completed"
    },
    "tags": []
   },
   "outputs": [
    {
     "name": "stdout",
     "output_type": "stream",
     "text": [
      "Average AUC:  96.96000000000001\n",
      "Average AUC std:  0.7799999999999999\n"
     ]
    }
   ],
   "source": [
    "print('Average AUC: ', np.round( AUC.mean(),4)*100) \n",
    "print('Average AUC std: ',np.round(np.std( AUC),4)*100)"
   ]
  }
 ],
 "metadata": {
  "kernelspec": {
   "display_name": "Python 3",
   "language": "python",
   "name": "python3"
  },
  "language_info": {
   "codemirror_mode": {
    "name": "ipython",
    "version": 3
   },
   "file_extension": ".py",
   "mimetype": "text/x-python",
   "name": "python",
   "nbconvert_exporter": "python",
   "pygments_lexer": "ipython3",
   "version": "3.7.12"
  },
  "papermill": {
   "default_parameters": {},
   "duration": 81.29481,
   "end_time": "2022-12-19T19:09:44.053429",
   "environment_variables": {},
   "exception": null,
   "input_path": "__notebook__.ipynb",
   "output_path": "__notebook__.ipynb",
   "parameters": {},
   "start_time": "2022-12-19T19:08:22.758619",
   "version": "2.3.4"
  }
 },
 "nbformat": 4,
 "nbformat_minor": 5
}
