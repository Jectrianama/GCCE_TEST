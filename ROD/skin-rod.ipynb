{
 "cells": [
  {
   "cell_type": "markdown",
   "id": "fb25baca",
   "metadata": {
    "id": "Cy45HoPn5SpZ",
    "papermill": {
     "duration": 0.009597,
     "end_time": "2023-02-03T12:05:48.033007",
     "exception": false,
     "start_time": "2023-02-03T12:05:48.023410",
     "status": "completed"
    },
    "tags": []
   },
   "source": [
    "# Loss function Rodrigues\n",
    "\n",
    "$𝒟 = \\{ \\mathbf{x}_n, \\mathbf{y}_n\\}$ be a dataset of size $N$\n",
    "\n",
    "$\\mathbf{x}_n \\in \\mathbb{R}^D$\n",
    "\n",
    "${\\mathbf{y}}^r_n\\in[0,1]^K$:   label provided for the r-th annotator in a set of R annotators\n",
    "\n",
    "$𝒛_n$ Latent true class determined by a softmax output layer  of a DNN\n",
    "\n",
    "\n",
    "$\\mathbf{\\sigma}\\in \\mathbb{R} ^Q$: DNN-based feature representation. correspond to the output of a softmax layer\n",
    "\n",
    "$\\hat{\\mathbf{y}}^r_n = f_r(\\sigma)\\in[0,1]^{1 \\times K}$\n",
    "\n",
    "$\\hat{\\mathbf{y}}_n=[\\hat{\\mathbf{y}}^1_n,\\hat{\\mathbf{y}}^2_n,\\dots,\\hat{\\mathbf{y}}^R_n]\\in [0,1]^{1\\times (R\\times K)}$\n",
    "\n",
    "Activation of the crowd layer for each anotator  $ \\mathbf{a}^r = f_r(\\sigma)$, where $f_r$ is an annotator-specific function, and the output of the crowd layer simply as the softmax of the\n",
    "activations $o_c^r = e^{a_c^r}/\\sum_{l=1}^{C}e^{a_l^r}$.\n",
    "\n",
    "\n",
    " $f_r(\\sigma)= \\mathbf{W}^r\\mathbf{\\sigma}$\n",
    "\n",
    " $\\mathbf{W}^r$ is an annotator-specific matrix\n",
    "\n",
    " **Cost function**\n",
    "\n",
    " $E(\\mathbf{o}^r, y^r)$\n",
    " between the expected output of the r-th annotator and its actual label $y^r$,\n",
    "\n",
    "Then, \n",
    "\n",
    "if we make. $\\lambda_n^r(\\theta) = \\mathbf{1}$ in PRI loss\n",
    "\n",
    "\n",
    "\n",
    "$$\\min_\\theta \\sum_n\\left(\\sum_r \\lambda_n^r(\\theta)H({\\mathbf{y}}^r_n;\\hat{\\mathbf{y}}_n(\\theta))\\right)+\\left(H(\\hat{\\mathbf{y}}_n(\\theta))\\sum_r\\left(1-\\lambda_n^r(\\theta)\\right)\\right)$$\n",
    "\n",
    " \n",
    "we can obtain rodriguez\n",
    "\n",
    "\n",
    "$$\\min_\\theta \\sum_n\\left(\\sum_r (\\mathbf{1})H({\\mathbf{y}}^r_n;\\hat{\\mathbf{y}}_n(\\theta))\\right)+\\left(H(\\hat{\\mathbf{y}}_n(\\theta))\\sum_r\\left(1-\\mathbf{1}\\right)\\right)$$"
   ]
  },
  {
   "cell_type": "code",
   "execution_count": 1,
   "id": "a4d81d8b",
   "metadata": {
    "execution": {
     "iopub.execute_input": "2023-02-03T12:05:48.052824Z",
     "iopub.status.busy": "2023-02-03T12:05:48.052280Z",
     "iopub.status.idle": "2023-02-03T12:05:48.059418Z",
     "shell.execute_reply": "2023-02-03T12:05:48.057897Z"
    },
    "id": "Htu1kN9-jZO1",
    "papermill": {
     "duration": 0.020861,
     "end_time": "2023-02-03T12:05:48.063295",
     "exception": false,
     "start_time": "2023-02-03T12:05:48.042434",
     "status": "completed"
    },
    "tags": []
   },
   "outputs": [],
   "source": [
    "#!pip install tensorflow==2.7.0\n",
    "#!pip install scikeras"
   ]
  },
  {
   "cell_type": "code",
   "execution_count": 2,
   "id": "14364779",
   "metadata": {
    "execution": {
     "iopub.execute_input": "2023-02-03T12:05:48.081604Z",
     "iopub.status.busy": "2023-02-03T12:05:48.081166Z",
     "iopub.status.idle": "2023-02-03T12:05:55.800294Z",
     "shell.execute_reply": "2023-02-03T12:05:55.798242Z"
    },
    "id": "Gw-I1LpOjkw3",
    "outputId": "ebc8e065-e200-4131-fc8b-2ae9efe8d1d7",
    "papermill": {
     "duration": 7.732133,
     "end_time": "2023-02-03T12:05:55.803669",
     "exception": false,
     "start_time": "2023-02-03T12:05:48.071536",
     "status": "completed"
    },
    "tags": []
   },
   "outputs": [
    {
     "name": "stdout",
     "output_type": "stream",
     "text": [
      "--2023-02-03 12:05:49--  https://docs.google.com/uc?export=download&confirm=t&id=1SQnWXGROG2Xexs5vn3twuv7SqiWG5njW\r\n",
      "Resolving docs.google.com (docs.google.com)... 173.194.213.139, 173.194.213.113, 173.194.213.100, ...\r\n",
      "Connecting to docs.google.com (docs.google.com)|173.194.213.139|:443... connected.\r\n",
      "HTTP request sent, awaiting response... 303 See Other\r\n",
      "Location: https://doc-00-90-docs.googleusercontent.com/docs/securesc/ha0ro937gcuc7l7deffksulhg5h7mbp1/u0d48brr9ntdof5lpvd9eg4o3k4bu39c/1675425900000/07591141114418430227/*/1SQnWXGROG2Xexs5vn3twuv7SqiWG5njW?e=download&uuid=d2ed68cb-7377-4522-a78d-fc54c38e2701 [following]\r\n",
      "Warning: wildcards not supported in HTTP.\r\n",
      "--2023-02-03 12:05:49--  https://doc-00-90-docs.googleusercontent.com/docs/securesc/ha0ro937gcuc7l7deffksulhg5h7mbp1/u0d48brr9ntdof5lpvd9eg4o3k4bu39c/1675425900000/07591141114418430227/*/1SQnWXGROG2Xexs5vn3twuv7SqiWG5njW?e=download&uuid=d2ed68cb-7377-4522-a78d-fc54c38e2701\r\n",
      "Resolving doc-00-90-docs.googleusercontent.com (doc-00-90-docs.googleusercontent.com)... 173.194.211.132, 2607:f8b0:400c:c07::84\r\n",
      "Connecting to doc-00-90-docs.googleusercontent.com (doc-00-90-docs.googleusercontent.com)|173.194.211.132|:443... connected.\r\n",
      "HTTP request sent, awaiting response... 200 OK\r\n",
      "Length: 156530728 (149M) [application/zip]\r\n",
      "Saving to: ‘MADatasets.zip’\r\n",
      "\r\n",
      "MADatasets.zip      100%[===================>] 149.28M   183MB/s    in 0.8s    \r\n",
      "\r\n",
      "2023-02-03 12:05:50 (183 MB/s) - ‘MADatasets.zip’ saved [156530728/156530728]\r\n",
      "\r\n",
      "Archive:  MADatasets.zip\r\n",
      "  inflating: MADatasets/util.py      \r\n",
      "  inflating: MADatasets/Iris1.mat    \r\n",
      "  inflating: MADatasets/Integra_Labels.mat  \r\n",
      "  inflating: MADatasets/MAGenerationClassification.py  \r\n",
      "  inflating: MADatasets/Voice.mat    \r\n",
      "  inflating: MADatasets/Iris.mat     \r\n",
      "  inflating: MADatasets/Sinthetic.mat  \r\n",
      "  inflating: MADatasets/MAGenerationClassification_1.py  \r\n",
      "  inflating: MADatasets/Bupa1.mat    \r\n",
      "  inflating: MADatasets/TicTacToe1.mat  \r\n",
      "  inflating: MADatasets/Wine.mat     \r\n",
      "  inflating: MADatasets/Breast1.mat  \r\n",
      "  inflating: MADatasets/Breast.mat   \r\n",
      "  inflating: MADatasets/Music.mat    \r\n",
      "  inflating: MADatasets/Pima.mat     \r\n",
      "  inflating: MADatasets/Ionosphere.mat  \r\n",
      "  inflating: MADatasets/TicTacToe.mat  \r\n",
      "  inflating: MADatasets/VoiceData.m  \r\n",
      "  inflating: MADatasets/util_1.py    \r\n",
      "  inflating: MADatasets/Ionosphere1.mat  \r\n",
      "  inflating: MADatasets/__pycache__/util_1.cpython-37.pyc  \r\n",
      "  inflating: MADatasets/Bupa.mat     \r\n",
      "  inflating: MADatasets/Wine1.mat    \r\n",
      "  inflating: MADatasets/__pycache__/util.cpython-37.pyc  \r\n",
      "  inflating: MADatasets/Pima1.mat    \r\n",
      "  inflating: MADatasets/Segmentation1.mat  \r\n",
      "  inflating: MADatasets/Western.mat  \r\n",
      "  inflating: MADatasets/Integra_Preprocesamiento_Seg_Caracterizacion_time_frec.mat  \r\n",
      "  inflating: MADatasets/Western1.mat  \r\n",
      "  inflating: MADatasets/Segmentation.mat  \r\n",
      "  inflating: MADatasets/Skin_NonSkin.mat  \r\n",
      "  inflating: MADatasets/Skin_NonSkin1.mat  \r\n",
      "  inflating: MADatasets/Occupancy1.mat  \r\n",
      "  inflating: MADatasets/Polarity.mat  \r\n",
      "  inflating: MADatasets/Occupancy.mat  \r\n",
      "MADatasets  MADatasets.zip  __notebook__.ipynb\r\n"
     ]
    }
   ],
   "source": [
    "#cargar datos desde drive acceso libre\n",
    "FILEID = \"1SQnWXGROG2Xexs5vn3twuv7SqiWG5njW\"\n",
    "#https://drive.google.com/file/d/1SQnWXGROG2Xexs5vn3twuv7SqiWG5njW/view?usp=sharing\n",
    "!wget --load-cookies /tmp/cookies.txt \"https://docs.google.com/uc?export=download&confirm=$(wget --quiet --save-cookies /tmp/cookies.txt --keep-session-cookies --no-check-certificate 'https://docs.google.com/uc?export=download&id='$FILEID -O- | sed -rn 's/.*confirm=([0-9A-Za-z_]+).*/\\1\\n/p')&id=\"$FILEID -O MADatasets.zip && rm -rf /tmp/cookies.txt\n",
    "!unzip -o MADatasets.zip\n",
    "!dir"
   ]
  },
  {
   "cell_type": "markdown",
   "id": "c99e16bc",
   "metadata": {
    "id": "lYGUr8mv4EuV",
    "papermill": {
     "duration": 0.007937,
     "end_time": "2023-02-03T12:05:55.820341",
     "exception": false,
     "start_time": "2023-02-03T12:05:55.812404",
     "status": "completed"
    },
    "tags": []
   },
   "source": [
    "# Subclassing for Crowdlayer Rodriguez"
   ]
  },
  {
   "cell_type": "code",
   "execution_count": 3,
   "id": "66eebdbe",
   "metadata": {
    "execution": {
     "iopub.execute_input": "2023-02-03T12:05:55.840936Z",
     "iopub.status.busy": "2023-02-03T12:05:55.840402Z",
     "iopub.status.idle": "2023-02-03T12:06:07.547608Z",
     "shell.execute_reply": "2023-02-03T12:06:07.546109Z"
    },
    "id": "p5fJiVgC3FKO",
    "papermill": {
     "duration": 11.721631,
     "end_time": "2023-02-03T12:06:07.550675",
     "exception": false,
     "start_time": "2023-02-03T12:05:55.829044",
     "status": "completed"
    },
    "tags": []
   },
   "outputs": [],
   "source": [
    "# -*- coding: utf-8 -*-\n",
    "import tensorflow as tf\n",
    "import matplotlib.pyplot as plt\n",
    "#from tensorflow.keras.wrappers.scikit_learn import KerasClassifier\n",
    "import tensorflow_probability as tfp\n",
    "from tensorflow.keras import regularizers\n",
    "from sklearn.base import  BaseEstimator, TransformerMixin, ClassifierMixin\n",
    "from sklearn.model_selection import train_test_split\n",
    "tf.keras.backend.clear_session()\n",
    "#tf.random.set_seed(42)\n",
    "import types\n",
    "import tempfile\n",
    "class Keras_MA_CrowdL(): #transformer no va\n",
    " #Constructor __init__. Special method: identified by a double underscore at either side of their name\n",
    " #work in the background\n",
    " # initialize data members to the object. lets the class initialize the object’s attributes and serves no other purpose.\n",
    "    def __init__(self,epochs=70,batch_size=30,R=5, K=2, dropout=0.5, learning_rate=1e-3,optimizer='Adam', \n",
    "                  l1_param=0, validation_split=0.3, verbose=0):\n",
    "        #print('init')\n",
    "        self.epochs=epochs\n",
    "        self.dropout=dropout\n",
    "        self.batch_size = batch_size\n",
    "        self.learning_rate=learning_rate \n",
    "        self.l1_param=l1_param \n",
    "        self.l2_param=l1_param\n",
    "        self.validation_split = validation_split\n",
    "        self.verbose = verbose\n",
    "        self.optimizer = optimizer\n",
    "        self.R=R\n",
    "        self.K=K\n",
    "\n",
    "    \n",
    " \n",
    "    def custom_CLR_loss(self, y_true, y_pred): #ytrue \\in N x R,  ypred \\in N x K x R  ->CrowdLayerRodriguez\n",
    "        #print(y_true.shape)\n",
    "        Y_true_1K = tf.one_hot(tf.cast(y_true,dtype=tf.int32),depth=self.K,axis=1) #samples, classes 1-K, annotators\n",
    "        #print(Y_true_1K.shape)    \n",
    "        vec = tf.nn.softmax_cross_entropy_with_logits(logits=y_pred, labels=Y_true_1K, axis = 1)\n",
    "        #print(vec.shape)\n",
    "        #mask = tf.equal(Y_true_1K[:,0,:], -1)\n",
    "        #zer = tf.zeros_like(vec)\n",
    "        #loss = tf.where(mask, x=zer, y=vec)\n",
    "        #tf.print(\"loss\", loss)\n",
    "        return tf.math.reduce_sum(vec)\n",
    "\n",
    " \n",
    "    def fit(self, X, Y):\n",
    "        P = X.shape[1]\n",
    "        if self.optimizer == \"Adam\":\n",
    "            opt = tf.keras.optimizers.Adam(learning_rate=self.learning_rate)\n",
    "        elif self.optimizer == \"SGD\":\n",
    "            opt = tf.keras.optimizers.SGD(learning_rate=self.learning_rate)\n",
    "        else:\n",
    "            opt=self.optimizer\n",
    "\n",
    "        #capa de entrada\n",
    "        input_l = tf.keras.layers.Input(shape=(X.shape[1]), name='entrada')\n",
    "        #capas densas\n",
    "        h1 = tf.keras.layers.Dense(int(P*4*(self.K+self.R)),activation='selu',name='h1',\n",
    "                              kernel_regularizer=tf.keras.regularizers.l1_l2(l1=self.l1_param,l2=self.l2_param))(input_l)#argumento de entrada\n",
    "        h2 = tf.keras.layers.Dense(int(P*(self.K+self.R)),activation='selu',name='h2',\n",
    "                              kernel_regularizer=tf.keras.regularizers.l1_l2(l1=self.l1_param,l2=self.l2_param))(h1)\n",
    "        dout = tf.keras.layers.Dropout(rate=self.dropout)(h2)\n",
    "        output_dense = tf.keras.layers.Dense(self.K,activation=\"softmax\",name='output',\n",
    "                               kernel_regularizer=tf.keras.regularizers.l1_l2(l1=self.l1_param,l2=self.l2_param))(dout)\n",
    "        output= CrowdsClassification(self.K, self.R, conn_type=\"MW\")(output_dense) #Classes x Annotators\n",
    "        self.model = tf.keras.Model(inputs= input_l,outputs=output)\n",
    "        self.model.compile(loss= self.custom_CLR_loss, optimizer=opt)\n",
    "        self.history = self.model.fit(X, Y, epochs=self.epochs, validation_split= self.validation_split,   #\n",
    "                                      batch_size=self.batch_size,verbose=self.verbose)\n",
    "        #model_p  to predict labels in gridsearch  \n",
    "        self.model_p = tf.keras.Model(inputs=self.model.inputs,outputs=self.model.get_layer('output').output) #se accede a capas por nombre\n",
    "        #resumen y gráfica del modelo\n",
    "        #print(self.model.summary())\n",
    "        \n",
    "        return self\n",
    "\n",
    "    def predict2(self, X, *_):\n",
    "      return  np.argmax(self.model_p.predict(X), axis=1)    \n",
    "     \n",
    "    def predict(self, X, *_):\n",
    "\n",
    "       #print('predict') \n",
    "       return  self.model.predict(X) \n",
    "\n",
    "    def fit_predict(self,X,y):\n",
    "        #input X numpy array first dimension samples (N)x features (P)\n",
    "        #input Y numpy array vector len = samples (N) x  annotators (R)\n",
    "        \n",
    "        self.fit(X,y)\n",
    "        return self.predict(X)\n",
    "  \n",
    "     #graphics\n",
    "    def plot_history(self):\n",
    "        pd.DataFrame(self.history.history).plot(figsize=(8, 5))\n",
    "        plt.grid(True)\n",
    "        #plt.gca().set_ylim(0, 1)\n",
    "        #save_fig(\"keras_learning_curves_plot\")\n",
    "        plt.show()\n",
    "        return\n",
    "    \n",
    "    def set_params(self, **parameters):\n",
    "        #print('set_params') \n",
    "        for parameter, value in parameters.items():\n",
    "            setattr(self, parameter, value)\n",
    "\n",
    "        return self\n",
    "    \n",
    "    \n",
    "    \n",
    "    def get_params(self, deep=True):\n",
    "        #print('get_params') \n",
    "        return { 'l1_param':self.l1_param, 'dropout':self.dropout, 'optimizer':self.optimizer,\n",
    "                'learning_rate':self.learning_rate, 'batch_size':self.batch_size,\n",
    "                'epochs':self.epochs, 'verbose':self.verbose, 'validation_split':self.validation_split,\n",
    "                'R':self.R, 'K':self.K\n",
    "                }"
   ]
  },
  {
   "cell_type": "markdown",
   "id": "23fd249c",
   "metadata": {
    "id": "b9yV0N4v4U_3",
    "papermill": {
     "duration": 0.007902,
     "end_time": "2023-02-03T12:06:07.567133",
     "exception": false,
     "start_time": "2023-02-03T12:06:07.559231",
     "status": "completed"
    },
    "tags": []
   },
   "source": [
    "# Crowdlayer class"
   ]
  },
  {
   "cell_type": "code",
   "execution_count": 4,
   "id": "72d18421",
   "metadata": {
    "execution": {
     "iopub.execute_input": "2023-02-03T12:06:07.586636Z",
     "iopub.status.busy": "2023-02-03T12:06:07.585816Z",
     "iopub.status.idle": "2023-02-03T12:06:07.611623Z",
     "shell.execute_reply": "2023-02-03T12:06:07.610275Z"
    },
    "id": "4ysb7umL3FKN",
    "papermill": {
     "duration": 0.039576,
     "end_time": "2023-02-03T12:06:07.614927",
     "exception": false,
     "start_time": "2023-02-03T12:06:07.575351",
     "status": "completed"
    },
    "tags": []
   },
   "outputs": [],
   "source": [
    " \n",
    "import numpy as np\n",
    "import tensorflow as tf\n",
    "import tensorflow.keras as keras\n",
    "from tensorflow.keras import backend as K1\n",
    "from tensorflow.keras.layers import Layer\n",
    "#from tensorflow.keras.engine.topology import Layer\n",
    "\n",
    "def init_identities(shape, dtype=None):\n",
    "    out = np.zeros(shape)\n",
    "    for r in range(shape[2]):\n",
    "        for i in range(shape[0]):\n",
    "            out[i,i,r] = 1.0\n",
    "    return out\n",
    "    \n",
    "class CrowdsClassification(Layer):\n",
    "\n",
    "\n",
    "  \n",
    "  #The build() method’s role is to create the layer’s variables, by calling the \n",
    "  #add_weight() method for each weight.  which is often necessary to create some of the weights.\n",
    "  #we need to know the number of neurons in the previous layer in order to create the connection weights matrix (i.e., the \"kernel\"): \n",
    "  #this corresponds to the size of the last dimension of the inputs. \n",
    "   \n",
    "    def __init__(self, output_dim, num_annotators, conn_type=\"MW\", **kwargs):\n",
    "        self.output_dim = output_dim\n",
    "        self.num_annotators = num_annotators\n",
    "        self.conn_type = conn_type\n",
    "        super(CrowdsClassification, self).__init__(**kwargs)\n",
    "\n",
    "\n",
    "\n",
    "    def build(self, input_shape):\n",
    "        if self.conn_type == \"MW\":\n",
    "            # matrix of weights per annotator\n",
    "      #A layer is a callable object that takes as input one or more tensors and that outputs one or more tensors. \n",
    "      #It involves computation, defined in the call() method, and a state (weight variables). \n",
    "      #the method add_weight() offers a shortcut to create weights.\n",
    "\n",
    "            self.kernel = self.add_weight(\"CrowdLayer\", (self.output_dim, self.output_dim, self.num_annotators),\n",
    "                                            initializer=init_identities, #It is the stated initializer instance\n",
    "                                            trainable=True) # trainable weights, updated via backpropagation during training\n",
    "        elif self.conn_type == \"VW\":\n",
    "            # vector of weights (one scale per class) per annotator\n",
    "            self.kernel = self.add_weight(\"CrowdLayer\", (self.output_dim, self.num_annotators),\n",
    "                                            initializer=keras.initializers.Ones(), \n",
    "                                            trainable=True)\n",
    "        elif self.conn_type == \"VB\":\n",
    "            # two vectors of weights (one scale and one bias per class) per annotator\n",
    "            self.kernel = []\n",
    "            self.kernel.append(self.add_weight(\"CrowdLayer\", (self.output_dim, self.num_annotators),\n",
    "                                            initializer=keras.initializers.Zeros(),\n",
    "                                            trainable=True))\n",
    "        elif self.conn_type == \"VW+B\":\n",
    "            # two vectors of weights (one scale and one bias per class) per annotator\n",
    "            self.kernel = []\n",
    "            self.kernel.append(self.add_weight(\"CrowdLayer\", (self.output_dim, self.num_annotators),\n",
    "                                            initializer=keras.initializers.Ones(),\n",
    "                                            trainable=True))\n",
    "            self.kernel.append(self.add_weight(\"CrowdLayer\", (self.output_dim, self.num_annotators),\n",
    "                                            initializer=keras.initializers.Zeros(),\n",
    "                                            trainable=True))\n",
    "        elif self.conn_type == \"SW\":\n",
    "            # single weight value per annotator\n",
    "            self.kernel = self.add_weight(\"CrowdLayer\", (self.num_annotators,1),\n",
    "                                            initializer=keras.initializers.Ones(),\n",
    "                                            trainable=True)\n",
    "        else:\n",
    "            raise Exception(\"Unknown connection type for CrowdsClassification layer!\")\n",
    "    #At the end of the build() method (and only at the end), \n",
    "    #you must call the parent’s build() method: this tells Keras that the layer is built (it just sets self.built = True).\n",
    "        super(CrowdsClassification, self).build(input_shape)  # Be sure to call this somewhere!\n",
    "\n",
    "    def call(self, x):\n",
    "    \n",
    "    #The call() method actually performs the desired operations. In this case, \n",
    "    #we compute the matrix multiplication of the inputs X and the layer’s kernel and \n",
    "    #this gives us the output of the layer.\n",
    "     \n",
    " \n",
    "\n",
    "        if self.conn_type == \"MW\":\n",
    "            res = K1.dot(x, self.kernel)\n",
    "        elif self.conn_type == \"VW\" or self.conn_type == \"VB\" or self.conn_type == \"VW+B\" or self.conn_type == \"SW\":\n",
    "            out = []\n",
    "            for r in range(self.num_annotators):\n",
    "                if self.conn_type == \"VW\":\n",
    "                    out.append(x * self.kernel[:,r])\n",
    "                elif self.conn_type == \"VB\":\n",
    "                    out.append(x + self.kernel[0][:,r])\n",
    "                elif self.conn_type == \"VW+B\":\n",
    "                    out.append(x * self.kernel[0][:,r] + self.kernel[1][:,r])\n",
    "                elif self.conn_type == \"SW\":\n",
    "                    out.append(x * self.kernel[r,0])\n",
    "            res = tf.stack(out)\n",
    "            if len(res.shape) == 3:\n",
    "                res = tf.transpose(res, [1, 2, 0])\n",
    "            elif len(res.shape) == 4:\n",
    "                res = tf.transpose(res, [1, 2, 3, 0])\n",
    "            else:\n",
    "                raise Exception(\"Wrong number of dimensions for output\")\n",
    "        else:\n",
    "            raise Exception(\"Unknown connection type for CrowdsClassification layer!\") \n",
    "        \n",
    "        return res\n",
    " \n",
    "#The compute_output_shape() method simply returns the shape of this layer’s outputs. \n",
    "#In this case, it is the same shape as the inputs, except the last two dimensions is replaced \n",
    "#with the number of clases and # annotators in the layer.  \n",
    " \n",
    "\n",
    "    def compute_output_shape(self, input_shape):\n",
    "        return (input_shape[0], self.output_dim, self.num_annotators)"
   ]
  },
  {
   "cell_type": "markdown",
   "id": "d6b2425d",
   "metadata": {
    "id": "xKzPN5lnHO13",
    "papermill": {
     "duration": 0.007948,
     "end_time": "2023-02-03T12:06:07.631463",
     "exception": false,
     "start_time": "2023-02-03T12:06:07.623515",
     "status": "completed"
    },
    "tags": []
   },
   "source": [
    "# Load Data"
   ]
  },
  {
   "cell_type": "code",
   "execution_count": 5,
   "id": "0252dfb1",
   "metadata": {
    "execution": {
     "iopub.execute_input": "2023-02-03T12:06:07.651391Z",
     "iopub.status.busy": "2023-02-03T12:06:07.650676Z",
     "iopub.status.idle": "2023-02-03T12:06:07.836259Z",
     "shell.execute_reply": "2023-02-03T12:06:07.834721Z"
    },
    "id": "hA1QFlPBjpbA",
    "outputId": "db5be05d-1fdc-4725-8064-5dc79e7a9a6a",
    "papermill": {
     "duration": 0.199213,
     "end_time": "2023-02-03T12:06:07.839004",
     "exception": false,
     "start_time": "2023-02-03T12:06:07.639791",
     "status": "completed"
    },
    "tags": []
   },
   "outputs": [
    {
     "data": {
      "text/plain": [
       "dict_keys(['__header__', '__version__', '__globals__', 'X', 'y', 'Y', 'iAnn', 'Exp', 'idxtr', 'idxte'])"
      ]
     },
     "execution_count": 5,
     "metadata": {},
     "output_type": "execute_result"
    }
   ],
   "source": [
    "#load data\n",
    "import scipy.io as sio\n",
    "import matplotlib.pyplot as plt\n",
    "import pandas as pd\n",
    "import tensorflow as tf #importar tensorflow\n",
    "from sklearn.model_selection import GridSearchCV, RandomizedSearchCV\n",
    "from sklearn.preprocessing import StandardScaler,MinMaxScaler\n",
    "import numpy as np\n",
    " \n",
    "database = 'Skin_NonSkin' #['bupa1', 'breast-cancer-wisconsin1','pima-indians-diabetes1', 'ionosphere1', 'tic-tac-toe1', 'iris1', 'wine1', 'segmentation1']\n",
    "\n",
    "\n",
    "path_ = 'MADatasets/'+ database+ '.mat' \n",
    "Xdata = sio.loadmat(path_)\n",
    "Xdata.keys()"
   ]
  },
  {
   "cell_type": "code",
   "execution_count": 6,
   "id": "1e4b3242",
   "metadata": {
    "execution": {
     "iopub.execute_input": "2023-02-03T12:06:07.860313Z",
     "iopub.status.busy": "2023-02-03T12:06:07.858906Z",
     "iopub.status.idle": "2023-02-03T12:06:07.867729Z",
     "shell.execute_reply": "2023-02-03T12:06:07.866140Z"
    },
    "id": "Hqmwm8kJj7HL",
    "papermill": {
     "duration": 0.022534,
     "end_time": "2023-02-03T12:06:07.870770",
     "exception": false,
     "start_time": "2023-02-03T12:06:07.848236",
     "status": "completed"
    },
    "tags": []
   },
   "outputs": [
    {
     "name": "stdout",
     "output_type": "stream",
     "text": [
      "X (245057, 3) t (245057,) Y (245057, 5)\n"
     ]
    }
   ],
   "source": [
    "#heads = data['MAData'].dtype\n",
    "# X = Xdata['MAData']['X'][0,0]\n",
    "# t = Xdata['MAData']['t'][0,0]\n",
    "# Y = Xdata['MAData']['Y1'][0,0]\n",
    "\n",
    "X = Xdata['X']\n",
    "# Xte = Xdata['Xte']\n",
    "Y = Xdata['Y']\n",
    "t = Xdata['y'].reshape(-1)\n",
    "print('X',X.shape,'t',t.shape,'Y',Y.shape)"
   ]
  },
  {
   "cell_type": "code",
   "execution_count": 7,
   "id": "8063f995",
   "metadata": {
    "execution": {
     "iopub.execute_input": "2023-02-03T12:06:07.892187Z",
     "iopub.status.busy": "2023-02-03T12:06:07.891408Z",
     "iopub.status.idle": "2023-02-03T12:06:07.898671Z",
     "shell.execute_reply": "2023-02-03T12:06:07.897599Z"
    },
    "id": "xnqtxG_x3FKL",
    "papermill": {
     "duration": 0.021144,
     "end_time": "2023-02-03T12:06:07.901227",
     "exception": false,
     "start_time": "2023-02-03T12:06:07.880083",
     "status": "completed"
    },
    "tags": []
   },
   "outputs": [
    {
     "data": {
      "text/plain": [
       "array([1, 1, 1, ..., 2, 2, 2])"
      ]
     },
     "execution_count": 7,
     "metadata": {},
     "output_type": "execute_result"
    }
   ],
   "source": [
    "t"
   ]
  },
  {
   "cell_type": "markdown",
   "id": "d54fe4ca",
   "metadata": {
    "id": "avDA2pJIJgsf",
    "papermill": {
     "duration": 0.009851,
     "end_time": "2023-02-03T12:06:07.920246",
     "exception": false,
     "start_time": "2023-02-03T12:06:07.910395",
     "status": "completed"
    },
    "tags": []
   },
   "source": [
    "# Labels Generation  "
   ]
  },
  {
   "cell_type": "code",
   "execution_count": 8,
   "id": "96d0814e",
   "metadata": {
    "execution": {
     "iopub.execute_input": "2023-02-03T12:06:07.942312Z",
     "iopub.status.busy": "2023-02-03T12:06:07.941505Z",
     "iopub.status.idle": "2023-02-03T12:06:08.257203Z",
     "shell.execute_reply": "2023-02-03T12:06:08.255553Z"
    },
    "id": "BupvL7KSocvu",
    "papermill": {
     "duration": 0.330802,
     "end_time": "2023-02-03T12:06:08.260724",
     "exception": false,
     "start_time": "2023-02-03T12:06:07.929922",
     "status": "completed"
    },
    "tags": []
   },
   "outputs": [],
   "source": [
    "import random\n",
    "import warnings\n",
    "import numpy as np\n",
    "#import climin\n",
    "from functools import partial\n",
    "import matplotlib.pyplot as plt\n",
    "from sklearn.preprocessing import StandardScaler\n",
    "from sklearn.cluster import KMeans\n",
    "import matplotlib.pyplot as plt\n",
    "from sklearn.manifold import TSNE\n",
    "\n",
    "#Defining the Sigmoid function and Softmax function\n",
    "def Sigmoid(f_r):\n",
    "    lam_r = 1/(1 + np.exp(-f_r))\n",
    "    return lam_r\n",
    "\n",
    "def MAjVot(Y, K):\n",
    "    N,R = Y.shape\n",
    "    Yhat = np.zeros((N,1))\n",
    "    for n in range(N):\n",
    "        votes = np.zeros((K,1))\n",
    "        for r in range(R):\n",
    "            for k in range(K):\n",
    "                if Y[n,r] == k+1:\n",
    "                    votes[k] = votes[k]+1\n",
    "        Yhat[n] = np.argmax(votes) + 1\n",
    "    return Yhat\n",
    "\n",
    "\n",
    "def  MA_Clas_Gen(Xtrain,ytrain,R,NrP):\n",
    "\n",
    "    N = len(ytrain)\n",
    "    K = len(np.unique(ytrain))\n",
    "    Kn = np.unique(ytrain)\n",
    "    aux = 0\n",
    "    A = np.zeros((K,1))\n",
    "    for k in Kn:\n",
    "        A[aux] = (ytrain == k).sum()\n",
    "        aux = aux + 1\n",
    "    per = np.min(A)\n",
    "    if N < 25000:\n",
    "        Xtrain = TSNE(n_components=1,perplexity=per/2).fit_transform(Xtrain)\n",
    "    else:\n",
    "        Xtrain = np.sum(Xtrain,1)\n",
    "    # Xtrain = Xtrain-Xtrain.min()\n",
    "    # Xtrain = Xtrain/Xtrain.max()\n",
    "    #ytrain = y\n",
    "    # scaler = StandardScaler()\n",
    "    # scalerY = scaler.fit(y)\n",
    "    # ytrain = scaler.fit_transform(y)\n",
    "\n",
    "    \n",
    "    #miny = y.min()\n",
    "    #ytrain = y-miny\n",
    "    #maxy = ytrain.max()\n",
    "    #ytrain = ytrain/maxy\n",
    "  \n",
    "    # Xtrain = np.sum(Xtrain, axis=1)\n",
    "    Xtrain = Xtrain - Xtrain.min()\n",
    "    #print(Xtrain.min(), Xtrain.max())\n",
    "    Xtrain = Xtrain/Xtrain.max()\n",
    "    Xtrain = Xtrain.reshape((N,1))\n",
    "    yprueba = np.ones((N,1))\n",
    "    \n",
    "    \n",
    "    u_q = np.empty((Xtrain.shape[0],3))\n",
    "    u_q[:,0,None] = 4.5*np.cos(2*np.pi*Xtrain + 1.5*np.pi) - \\\n",
    "                               3*np.sin(4.3*np.pi*Xtrain + 0.3*np.pi)\n",
    "                    \n",
    "    u_q[:,1,None] = 4.5*np.cos(1.5*np.pi*Xtrain + 0.5*np.pi) + \\\n",
    "                       5*np.sin(3*np.pi*Xtrain + 1.5*np.pi)\n",
    "    \n",
    "    u_q[:,2,None] = 1\n",
    "    \n",
    "    W = []\n",
    "    # q=1\n",
    "    Wq1 = np.array(([[0.4],[0.7],[-0.5],[0],[-0.7]]))\n",
    "    W.append(Wq1)\n",
    "    # q=2\n",
    "    Wq2 = np.array(([[0.4],[-1.0],[-0.1],[-0.8],[1.0]]))\n",
    "    W.append(Wq2)\n",
    "    Wq3 = np.array(([[3.1],[-1.8],[-0.6],[-1.2],[1.0]]))\n",
    "    W.append(Wq3)\n",
    "\n",
    "    \n",
    "    F_r = []\n",
    "    Lam_r = []\n",
    "    for r in range(R):\n",
    "        f_r = np.zeros((Xtrain.shape[0], 1))\n",
    "        # rho_r = np.zeros((Xtrain.shape[0], 1))\n",
    "        for q in range(3):\n",
    "            f_r += W[q][r].T*u_q[:,q,None]\n",
    "        F_r.append(f_r)\n",
    "        lam_r = Sigmoid(f_r)\n",
    "        lam_r[lam_r>0.5] = 1\n",
    "        lam_r[lam_r<=0.5] = 0\n",
    "        Lam_r.append(lam_r)\n",
    "    plt.plot(Xtrain,Lam_r[2],'rx')\n",
    "    plt.show()\n",
    "    seed = 0\n",
    "    np.random.seed(seed)\n",
    "    Ytrain = np.ones((N, R))\n",
    "    for r in range(R):\n",
    "        aux = ytrain.copy()\n",
    "        for n in range(N):\n",
    "            if Lam_r[r][n] == 0:\n",
    "                labels = np.arange(1, K+1)\n",
    "                a = np.where(labels==ytrain[n])\n",
    "                labels = np.delete(labels, a)\n",
    "                idxlabels = np.random.permutation(K-1)\n",
    "                aux[n] = labels[idxlabels[0]]         \n",
    "        Ytrain[:,r] = aux.flatten()\n",
    "        \n",
    "   # Ytrain = (Ytrain*maxy) + miny\n",
    "        \n",
    "    iAnn = np.zeros((N, R), dtype=int) # this indicates if the annotator r labels the nth sample.\n",
    "    Nr = np.ones((R), dtype=int)*int(np.floor(N*NrP))  \n",
    "    for r in range(R):\n",
    "        if r < R-1:\n",
    "            indexR = np.random.permutation(range(N))[:Nr[r]]\n",
    "            iAnn[indexR,r] = 1\n",
    "        else:\n",
    "            iSimm = np.sum(iAnn, axis=1)\n",
    "            idxZero = np.asarray([i for (i, val) in enumerate(iSimm) if val == 0])\n",
    "            Nzeros = idxZero.shape[0]\n",
    "            idx2Choose = np.arange(N)\n",
    "            if Nzeros == 0:\n",
    "                indexR = np.random.permutation(range(N))[:Nr[r]]\n",
    "                iAnn[indexR,r] = 1\n",
    "            else:\n",
    "                idx2Choose = np.delete(idx2Choose, idxZero)\n",
    "                N2chose = idx2Choose.shape[0]\n",
    "                idxNoZero = np.random.permutation(N2chose)[:(Nr[r] - Nzeros)]\n",
    "                idxTot = np.concatenate((idxZero, idx2Choose[idxNoZero]))\n",
    "                iAnn[idxTot,r] = 1\n",
    "    \n",
    "    # Now, we verify that all the samples were labeled at least once\n",
    "    Nr = (np.sum(iAnn,0))\n",
    "    iSimm = np.sum(iAnn, axis=1)\n",
    "    if np.asarray([i for (i, val) in enumerate(iSimm) if val == 0]).sum() == 0:\n",
    "        ValueError(\"all the samples must be labeled at least once\")\n",
    "\n",
    "    # Finally, if iAnn=0 we assign a reference value to indicate a missing value\n",
    "    Vref = -1e-20\n",
    "    for r in range(R):\n",
    "        Ytrain[iAnn[:,r] == 0, r] = Vref \n",
    "\n",
    "    return Ytrain, iAnn, Lam_r\n",
    "\n",
    "\n",
    "def CrossVal(X, pp, Nk):\n",
    "    N = X.shape[0]\n",
    "    Ntr = int(N*pp)\n",
    "    Nte = N - Ntr\n",
    "    idxtr = np.zeros((Ntr,Nk))\n",
    "    idxte = np.zeros((Nte,Nk))\n",
    "    \n",
    "    for i in range(Nk):\n",
    "        index = np.random.permutation(range(N))\n",
    "        idxtr[:,i] = index[:Ntr]\n",
    "        idxte[:,i] = index[Ntr:]\n",
    "        \n",
    "    return idxtr, idxte\n",
    "    \n",
    "    \n",
    "        \n"
   ]
  },
  {
   "cell_type": "code",
   "execution_count": 9,
   "id": "3ede5275",
   "metadata": {
    "execution": {
     "iopub.execute_input": "2023-02-03T12:06:08.281362Z",
     "iopub.status.busy": "2023-02-03T12:06:08.280903Z",
     "iopub.status.idle": "2023-02-03T12:06:20.664441Z",
     "shell.execute_reply": "2023-02-03T12:06:20.663146Z"
    },
    "id": "tK8MHObF3FKM",
    "outputId": "8f128bab-9644-4526-d91c-a3eb4c94fc10",
    "papermill": {
     "duration": 12.397475,
     "end_time": "2023-02-03T12:06:20.667676",
     "exception": false,
     "start_time": "2023-02-03T12:06:08.270201",
     "status": "completed"
    },
    "tags": []
   },
   "outputs": [
    {
     "data": {
      "image/png": "[encoded data removed]",
      "text/plain": [
       "<Figure size 432x288 with 1 Axes>"
      ]
     },
     "metadata": {
      "needs_background": "light"
     },
     "output_type": "display_data"
    }
   ],
   "source": [
    "Y, iAnn, Lam_r = MA_Clas_Gen(X ,t, R=5, NrP=1)"
   ]
  },
  {
   "cell_type": "code",
   "execution_count": 10,
   "id": "20cd13fb",
   "metadata": {
    "execution": {
     "iopub.execute_input": "2023-02-03T12:06:20.688997Z",
     "iopub.status.busy": "2023-02-03T12:06:20.687862Z",
     "iopub.status.idle": "2023-02-03T12:06:20.701888Z",
     "shell.execute_reply": "2023-02-03T12:06:20.700573Z"
    },
    "id": "v0Y8m7E-3FKM",
    "papermill": {
     "duration": 0.028119,
     "end_time": "2023-02-03T12:06:20.704875",
     "exception": false,
     "start_time": "2023-02-03T12:06:20.676756",
     "status": "completed"
    },
    "tags": []
   },
   "outputs": [],
   "source": [
    "  Y = Y - 1\n",
    "  t = t - 1\n",
    "  #YMA = YMA-1"
   ]
  },
  {
   "cell_type": "code",
   "execution_count": 11,
   "id": "cbb3972f",
   "metadata": {
    "execution": {
     "iopub.execute_input": "2023-02-03T12:06:20.725267Z",
     "iopub.status.busy": "2023-02-03T12:06:20.724444Z",
     "iopub.status.idle": "2023-02-03T12:06:24.604394Z",
     "shell.execute_reply": "2023-02-03T12:06:24.602741Z"
    },
    "papermill": {
     "duration": 3.893166,
     "end_time": "2023-02-03T12:06:24.607207",
     "exception": false,
     "start_time": "2023-02-03T12:06:20.714041",
     "status": "completed"
    },
    "tags": []
   },
   "outputs": [
    {
     "name": "stdout",
     "output_type": "stream",
     "text": [
      "annotator 1\n",
      "              precision    recall  f1-score   support\n",
      "\n",
      "           0       0.36      0.72      0.48     50859\n",
      "           1       0.90      0.66      0.76    194198\n",
      "\n",
      "    accuracy                           0.67    245057\n",
      "   macro avg       0.63      0.69      0.62    245057\n",
      "weighted avg       0.79      0.67      0.70    245057\n",
      "\n",
      "annotator 2\n",
      "              precision    recall  f1-score   support\n",
      "\n",
      "           0       0.38      0.58      0.46     50859\n",
      "           1       0.87      0.76      0.81    194198\n",
      "\n",
      "    accuracy                           0.72    245057\n",
      "   macro avg       0.63      0.67      0.64    245057\n",
      "weighted avg       0.77      0.72      0.74    245057\n",
      "\n",
      "annotator 3\n",
      "              precision    recall  f1-score   support\n",
      "\n",
      "           0       0.40      0.78      0.53     50859\n",
      "           1       0.93      0.70      0.79    194198\n",
      "\n",
      "    accuracy                           0.71    245057\n",
      "   macro avg       0.66      0.74      0.66    245057\n",
      "weighted avg       0.82      0.71      0.74    245057\n",
      "\n",
      "annotator 4\n",
      "              precision    recall  f1-score   support\n",
      "\n",
      "           0       0.47      0.61      0.53     50859\n",
      "           1       0.89      0.82      0.85    194198\n",
      "\n",
      "    accuracy                           0.77    245057\n",
      "   macro avg       0.68      0.71      0.69    245057\n",
      "weighted avg       0.80      0.77      0.78    245057\n",
      "\n",
      "annotator 5\n",
      "              precision    recall  f1-score   support\n",
      "\n",
      "           0       0.06      0.21      0.09     50859\n",
      "           1       0.18      0.05      0.07    194198\n",
      "\n",
      "    accuracy                           0.08    245057\n",
      "   macro avg       0.12      0.13      0.08    245057\n",
      "weighted avg       0.15      0.08      0.08    245057\n",
      "\n"
     ]
    },
    {
     "data": {
      "image/png": "[encoded data removed]",
      "text/plain": [
       "<Figure size 432x288 with 1 Axes>"
      ]
     },
     "metadata": {
      "needs_background": "light"
     },
     "output_type": "display_data"
    },
    {
     "data": {
      "image/png": "[encoded data removed]",
      "text/plain": [
       "<Figure size 432x288 with 1 Axes>"
      ]
     },
     "metadata": {
      "needs_background": "light"
     },
     "output_type": "display_data"
    },
    {
     "data": {
      "image/png": "[encoded data removed]",
      "text/plain": [
       "<Figure size 432x288 with 1 Axes>"
      ]
     },
     "metadata": {
      "needs_background": "light"
     },
     "output_type": "display_data"
    },
    {
     "data": {
      "image/png": "[encoded data removed]",
      "text/plain": [
       "<Figure size 432x288 with 1 Axes>"
      ]
     },
     "metadata": {
      "needs_background": "light"
     },
     "output_type": "display_data"
    },
    {
     "data": {
      "image/png": "[encoded data removed]",
      "text/plain": [
       "<Figure size 432x288 with 1 Axes>"
      ]
     },
     "metadata": {
      "needs_background": "light"
     },
     "output_type": "display_data"
    }
   ],
   "source": [
    "from sklearn.metrics import classification_report\n",
    "for i in range(Y.shape[1]):\n",
    "    print('annotator',i+1)\n",
    "    print(classification_report(t,Y[:,i]))\n",
    "    unique, counts = np.unique(Y[:,i], return_counts=True)\n",
    "    plt.figure()\n",
    "    plt.bar(unique, counts)\n",
    "    #     unique, counts = np.unique(Y_test[5], return_counts=True)\n",
    "    #     plt.bar(unique, counts)\n",
    "\n",
    "    plt.title('Class Frequency for Y_true')\n",
    "    plt.xlabel('Class')\n",
    "    plt.ylabel('Frequency')"
   ]
  },
  {
   "cell_type": "markdown",
   "id": "adcab56a",
   "metadata": {
    "id": "uudDcV4wHiuI",
    "papermill": {
     "duration": 0.01199,
     "end_time": "2023-02-03T12:06:24.632226",
     "exception": false,
     "start_time": "2023-02-03T12:06:24.620236",
     "status": "completed"
    },
    "tags": []
   },
   "source": [
    "# Split data"
   ]
  },
  {
   "cell_type": "code",
   "execution_count": 12,
   "id": "0c58143d",
   "metadata": {
    "execution": {
     "iopub.execute_input": "2023-02-03T12:06:24.657006Z",
     "iopub.status.busy": "2023-02-03T12:06:24.656504Z",
     "iopub.status.idle": "2023-02-03T12:06:24.727491Z",
     "shell.execute_reply": "2023-02-03T12:06:24.725558Z"
    },
    "id": "QCxEhJv_3FKN",
    "outputId": "20cf4b24-fde3-4b21-f26a-2809af8f2c5d",
    "papermill": {
     "duration": 0.086994,
     "end_time": "2023-02-03T12:06:24.730624",
     "exception": false,
     "start_time": "2023-02-03T12:06:24.643630",
     "status": "completed"
    },
    "tags": []
   },
   "outputs": [
    {
     "name": "stdout",
     "output_type": "stream",
     "text": [
      "[180274  23506 163905 ... 224310 148007  21836]\n",
      "(171539, 3) (171539, 5) (171539, 1)\n"
     ]
    }
   ],
   "source": [
    "import numpy.matlib\n",
    "from sklearn.model_selection import  StratifiedShuffleSplit, ShuffleSplit\n",
    "Ns = 1\n",
    "ss = ShuffleSplit(n_splits=Ns, test_size=0.3, random_state =123)\n",
    "for train_index, test_index in ss.split(X):\n",
    "    print(test_index)\n",
    "    X_train, X_test,Y_train,Y_test = X[train_index,:], X[test_index,:],Y[train_index,:], Y[test_index,:]\n",
    "    Y_true_train, Y_true_test = t[train_index].reshape(-1,1), t[test_index].reshape(-1,1)\n",
    "print(X_train.shape, Y_train.shape, Y_true_train.shape)"
   ]
  },
  {
   "cell_type": "markdown",
   "id": "ac58c6ce",
   "metadata": {
    "id": "kgDMRggXHo0X",
    "papermill": {
     "duration": 0.01101,
     "end_time": "2023-02-03T12:06:24.753720",
     "exception": false,
     "start_time": "2023-02-03T12:06:24.742710",
     "status": "completed"
    },
    "tags": []
   },
   "source": [
    "# Apply MinMaxScaler"
   ]
  },
  {
   "cell_type": "code",
   "execution_count": 13,
   "id": "7cf94dce",
   "metadata": {
    "execution": {
     "iopub.execute_input": "2023-02-03T12:06:24.779381Z",
     "iopub.status.busy": "2023-02-03T12:06:24.778930Z",
     "iopub.status.idle": "2023-02-03T12:06:24.810092Z",
     "shell.execute_reply": "2023-02-03T12:06:24.808339Z"
    },
    "id": "33XT7bGs3FKN",
    "papermill": {
     "duration": 0.048332,
     "end_time": "2023-02-03T12:06:24.814037",
     "exception": false,
     "start_time": "2023-02-03T12:06:24.765705",
     "status": "completed"
    },
    "tags": []
   },
   "outputs": [],
   "source": [
    "scaler = MinMaxScaler()\n",
    "scaler.fit(X_train)\n",
    "X_train = scaler.transform(X_train)\n",
    "X_test = scaler.transform(X_test)"
   ]
  },
  {
   "cell_type": "code",
   "execution_count": 14,
   "id": "23dc9777",
   "metadata": {
    "execution": {
     "iopub.execute_input": "2023-02-03T12:06:24.839845Z",
     "iopub.status.busy": "2023-02-03T12:06:24.839315Z",
     "iopub.status.idle": "2023-02-03T12:06:24.860786Z",
     "shell.execute_reply": "2023-02-03T12:06:24.859433Z"
    },
    "id": "8JB57s89xbR3",
    "outputId": "5f7b5561-3e45-498d-9117-bf91a63d2fb9",
    "papermill": {
     "duration": 0.038206,
     "end_time": "2023-02-03T12:06:24.863659",
     "exception": false,
     "start_time": "2023-02-03T12:06:24.825453",
     "status": "completed"
    },
    "tags": []
   },
   "outputs": [
    {
     "data": {
      "text/plain": [
       "2"
      ]
     },
     "execution_count": 14,
     "metadata": {},
     "output_type": "execute_result"
    }
   ],
   "source": [
    "len(np.unique(Y_test))"
   ]
  },
  {
   "cell_type": "markdown",
   "id": "e90af20f",
   "metadata": {
    "id": "pPoaMuiXH-Zm",
    "papermill": {
     "duration": 0.010808,
     "end_time": "2023-02-03T12:06:24.885771",
     "exception": false,
     "start_time": "2023-02-03T12:06:24.874963",
     "status": "completed"
    },
    "tags": []
   },
   "source": [
    "# Testing the Class "
   ]
  },
  {
   "cell_type": "code",
   "execution_count": 15,
   "id": "64af8c76",
   "metadata": {
    "execution": {
     "iopub.execute_input": "2023-02-03T12:06:24.910602Z",
     "iopub.status.busy": "2023-02-03T12:06:24.910093Z",
     "iopub.status.idle": "2023-02-03T12:40:05.760683Z",
     "shell.execute_reply": "2023-02-03T12:40:05.758741Z"
    },
    "papermill": {
     "duration": 2020.878072,
     "end_time": "2023-02-03T12:40:05.775172",
     "exception": false,
     "start_time": "2023-02-03T12:06:24.897100",
     "status": "completed"
    },
    "tags": []
   },
   "outputs": [
    {
     "name": "stdout",
     "output_type": "stream",
     "text": [
      "iteration: 0\n"
     ]
    },
    {
     "name": "stderr",
     "output_type": "stream",
     "text": [
      "2023-02-03 12:06:25.309537: I tensorflow/core/common_runtime/process_util.cc:146] Creating new thread pool with default inter op setting: 2. Tune using inter_op_parallelism_threads for best performance.\n",
      "2023-02-03 12:06:25.936945: I tensorflow/compiler/mlir/mlir_graph_optimization_pass.cc:185] None of the MLIR Optimization Passes are enabled (registered 2)\n"
     ]
    },
    {
     "name": "stdout",
     "output_type": "stream",
     "text": [
      "Validation ACC: 0.4791\n",
      "Validation aUc: 0.6713\n",
      "Validation Balanced_ACC: 0.3425\n",
      "Validation MI: 0.0754\n",
      "Validation Normalized MI: 0.1377\n",
      "Validation Adjusted MI: 0.1377\n",
      "iteration: 1\n",
      "Validation ACC: 0.4751\n",
      "Validation aUc: 0.6687\n",
      "Validation Balanced_ACC: 0.3374\n",
      "Validation MI: 0.0741\n",
      "Validation Normalized MI: 0.1357\n",
      "Validation Adjusted MI: 0.1357\n",
      "iteration: 2\n",
      "Validation ACC: 0.4551\n",
      "Validation aUc: 0.6561\n",
      "Validation Balanced_ACC: 0.3121\n",
      "Validation MI: 0.0675\n",
      "Validation Normalized MI: 0.1262\n",
      "Validation Adjusted MI: 0.1262\n",
      "iteration: 3\n",
      "Validation ACC: 0.4573\n",
      "Validation aUc: 0.6575\n",
      "Validation Balanced_ACC: 0.3150\n",
      "Validation MI: 0.0683\n",
      "Validation Normalized MI: 0.1272\n",
      "Validation Adjusted MI: 0.1272\n",
      "iteration: 4\n",
      "Validation ACC: 0.4627\n",
      "Validation aUc: 0.6609\n",
      "Validation Balanced_ACC: 0.3218\n",
      "Validation MI: 0.0700\n",
      "Validation Normalized MI: 0.1298\n",
      "Validation Adjusted MI: 0.1298\n",
      "iteration: 5\n",
      "Validation ACC: 0.4674\n",
      "Validation aUc: 0.6639\n",
      "Validation Balanced_ACC: 0.3277\n",
      "Validation MI: 0.0715\n",
      "Validation Normalized MI: 0.1320\n",
      "Validation Adjusted MI: 0.1320\n",
      "iteration: 6\n",
      "Validation ACC: 0.4172\n",
      "Validation aUc: 0.6322\n",
      "Validation Balanced_ACC: 0.2643\n",
      "Validation MI: 0.0556\n",
      "Validation Normalized MI: 0.1086\n",
      "Validation Adjusted MI: 0.1086\n",
      "iteration: 7\n",
      "Validation ACC: 0.4613\n",
      "Validation aUc: 0.6600\n",
      "Validation Balanced_ACC: 0.3201\n",
      "Validation MI: 0.0696\n",
      "Validation Normalized MI: 0.1291\n",
      "Validation Adjusted MI: 0.1291\n",
      "iteration: 8\n",
      "Validation ACC: 0.4884\n",
      "Validation aUc: 0.6771\n",
      "Validation Balanced_ACC: 0.3542\n",
      "Validation MI: 0.0786\n",
      "Validation Normalized MI: 0.1423\n",
      "Validation Adjusted MI: 0.1423\n",
      "iteration: 9\n",
      "Validation ACC: 0.4729\n",
      "Validation aUc: 0.6673\n",
      "Validation Balanced_ACC: 0.3347\n",
      "Validation MI: 0.0734\n",
      "Validation Normalized MI: 0.1347\n",
      "Validation Adjusted MI: 0.1347\n"
     ]
    }
   ],
   "source": [
    "from sklearn.metrics import classification_report, balanced_accuracy_score\n",
    "from sklearn.metrics import normalized_mutual_info_score, mutual_info_score, adjusted_mutual_info_score\n",
    "\n",
    "l1 =0.01\n",
    "NUM_RUNS =10\n",
    "ACC = np.zeros(NUM_RUNS)\n",
    "AUC = np.zeros(NUM_RUNS)\n",
    "MI = np.zeros(NUM_RUNS)\n",
    "NMI = np.zeros(NUM_RUNS)\n",
    "AMI = np.zeros(NUM_RUNS)\n",
    "BACC = np.zeros(NUM_RUNS)\n",
    "for i in range(NUM_RUNS): #10\n",
    "    print(\"iteration: \" + str(i))\n",
    "   \n",
    "    MA = Keras_MA_CrowdL(epochs=50,batch_size=128,R= Y_train.shape[1], K=len(np.unique(Y_true_test)), dropout=0.25, learning_rate=0.001,optimizer='Adam', \n",
    "                l1_param=l1,  validation_split=0.3, verbose=0)\n",
    "\n",
    "\n",
    "\n",
    "    MA.fit(X_train, Y_train)\n",
    "    #MA.plot_history()\n",
    "  \n",
    "    #Accuracy  \n",
    "    \n",
    "    #estimar etiquetas modelo rodiguez \n",
    "    preds_test_num =  MA.predict2(X_test)\n",
    "    \n",
    "    #Accuracy\n",
    "    report = classification_report(Y_true_test,preds_test_num,output_dict=True)\n",
    "    ACC[i] = report['accuracy']\n",
    "    \n",
    "    print(\"Validation ACC: %.4f\" % (float(report['accuracy']),))\n",
    "    \n",
    "    #AUC\n",
    "    val_AUC_metric = tf.keras.metrics.AUC( from_logits = True)  \n",
    "   # val_logits =MA.predict(X_test) # model(X_test, training=False)\n",
    "    # tf.print(y_batch_val)\n",
    "    val_AUC_metric.update_state(Y_true_test,  preds_test_num.astype('float'))\n",
    "\n",
    "    val_AUC = val_AUC_metric.result()\n",
    "    val_AUC_metric.reset_states()\n",
    "    val_AUC = val_AUC.numpy()\n",
    "    print(\"Validation aUc: %.4f\" % (float(val_AUC),))\n",
    "    AUC[i] = val_AUC\n",
    "    \n",
    "\n",
    "\n",
    "\n",
    "    # balanced. Accurcy\n",
    "    BACC[i] = balanced_accuracy_score(Y_true_test.squeeze(), preds_test_num.squeeze(), adjusted=True)\n",
    "    print(\"Validation Balanced_ACC: %.4f\" % (float(BACC[i])))\n",
    "\n",
    "    #MI\n",
    "    \n",
    "    MI[i] = mutual_info_score(Y_true_test.squeeze(), preds_test_num.squeeze())\n",
    "    print(\"Validation MI: %.4f\" % (float(MI[i]),))\n",
    "    NMI[i] = normalized_mutual_info_score(Y_true_test.squeeze(), preds_test_num.squeeze())\n",
    "    print(\"Validation Normalized MI: %.4f\" % (float(NMI[i]),))\n",
    "    AMI[i]= adjusted_mutual_info_score(Y_true_test.squeeze(), preds_test_num.squeeze())\n",
    "    print(\"Validation Adjusted MI: %.4f\" % (float(AMI[i]),))\n",
    "\n",
    "\n"
   ]
  },
  {
   "cell_type": "code",
   "execution_count": 16,
   "id": "ad1b92a3",
   "metadata": {
    "execution": {
     "iopub.execute_input": "2023-02-03T12:40:05.803212Z",
     "iopub.status.busy": "2023-02-03T12:40:05.801951Z",
     "iopub.status.idle": "2023-02-03T12:40:05.808505Z",
     "shell.execute_reply": "2023-02-03T12:40:05.807136Z"
    },
    "papermill": {
     "duration": 0.02455,
     "end_time": "2023-02-03T12:40:05.811750",
     "exception": false,
     "start_time": "2023-02-03T12:40:05.787200",
     "status": "completed"
    },
    "tags": []
   },
   "outputs": [],
   "source": [
    "# from sklearn.metrics import classification_report\n",
    "\n",
    "# l1 =0.01\n",
    "# NUM_RUNS =10\n",
    "# ACC = np.zeros(NUM_RUNS)\n",
    "# AUC = np.zeros(NUM_RUNS)\n",
    "# for i in range(NUM_RUNS): #10\n",
    "#     print(\"iteration: \" + str(i))\n",
    "   \n",
    "#     MA = Keras_MA_CrowdL(epochs=50,batch_size=128,R= Y_train.shape[1], K=len(np.unique(Y_true_test)), dropout=0.25, learning_rate=0.001,optimizer='Adam', \n",
    "#                 l1_param=l1,  validation_split=0.3, verbose=0)\n",
    "\n",
    "\n",
    "#     MA.fit(X_train, Y_train)\n",
    "#     #MA.plot_history()\n",
    "  \n",
    "#     #Accuracy  \n",
    "    \n",
    "#     #estimar etiquetas modelo rodiguez \n",
    "#     preds_test_num =  MA.predict2(X_test)\n",
    "    \n",
    "#     report = classification_report(Y_true_test,preds_test_num,output_dict=True)\n",
    "#     ACC[i] = report['accuracy']\n",
    "#     print(\"Validation ACC: %.4f\" % (float(report['accuracy']),))\n",
    "    \n",
    "#     #AUC\n",
    "#     val_AUC_metric = tf.keras.metrics.AUC( from_logits = True)  \n",
    "#    # val_logits =MA.predict(X_test) # model(X_test, training=False)\n",
    "#     # tf.print(y_batch_val)\n",
    "#     val_AUC_metric.update_state(Y_true_test,  preds_test_num.astype('float'))\n",
    "\n",
    "#     val_AUC = val_AUC_metric.result()\n",
    "#     val_AUC_metric.reset_states()\n",
    "#     val_AUC = val_AUC.numpy()\n",
    "#     print(\"Validation aUc: %.4f\" % (float(val_AUC),))\n",
    "#     AUC[i] = val_AUC\n",
    "    \n",
    "  "
   ]
  },
  {
   "cell_type": "code",
   "execution_count": 17,
   "id": "26910cd8",
   "metadata": {
    "execution": {
     "iopub.execute_input": "2023-02-03T12:40:05.843389Z",
     "iopub.status.busy": "2023-02-03T12:40:05.841671Z",
     "iopub.status.idle": "2023-02-03T12:40:05.852906Z",
     "shell.execute_reply": "2023-02-03T12:40:05.851246Z"
    },
    "papermill": {
     "duration": 0.029775,
     "end_time": "2023-02-03T12:40:05.856026",
     "exception": false,
     "start_time": "2023-02-03T12:40:05.826251",
     "status": "completed"
    },
    "tags": []
   },
   "outputs": [
    {
     "data": {
      "text/plain": [
       "array([0.47913436, 0.47506733, 0.45507223, 0.45734378, 0.46271661,\n",
       "       0.46740934, 0.41720395, 0.4613428 , 0.4883702 , 0.47290459])"
      ]
     },
     "execution_count": 17,
     "metadata": {},
     "output_type": "execute_result"
    }
   ],
   "source": [
    "ACC"
   ]
  },
  {
   "cell_type": "code",
   "execution_count": 18,
   "id": "8cffc370",
   "metadata": {
    "execution": {
     "iopub.execute_input": "2023-02-03T12:40:05.886123Z",
     "iopub.status.busy": "2023-02-03T12:40:05.885472Z",
     "iopub.status.idle": "2023-02-03T12:40:05.894034Z",
     "shell.execute_reply": "2023-02-03T12:40:05.892075Z"
    },
    "papermill": {
     "duration": 0.027579,
     "end_time": "2023-02-03T12:40:05.897513",
     "exception": false,
     "start_time": "2023-02-03T12:40:05.869934",
     "status": "completed"
    },
    "tags": []
   },
   "outputs": [
    {
     "data": {
      "text/plain": [
       "array([0.67125958, 0.66869271, 0.65607297, 0.65750659, 0.66089761,\n",
       "       0.66385943, 0.63217264, 0.66003054, 0.67708868, 0.6673277 ])"
      ]
     },
     "execution_count": 18,
     "metadata": {},
     "output_type": "execute_result"
    }
   ],
   "source": [
    "AUC"
   ]
  },
  {
   "cell_type": "code",
   "execution_count": 19,
   "id": "760b8396",
   "metadata": {
    "execution": {
     "iopub.execute_input": "2023-02-03T12:40:05.925998Z",
     "iopub.status.busy": "2023-02-03T12:40:05.925109Z",
     "iopub.status.idle": "2023-02-03T12:40:05.940803Z",
     "shell.execute_reply": "2023-02-03T12:40:05.938737Z"
    },
    "papermill": {
     "duration": 0.033694,
     "end_time": "2023-02-03T12:40:05.943868",
     "exception": false,
     "start_time": "2023-02-03T12:40:05.910174",
     "status": "completed"
    },
    "tags": []
   },
   "outputs": [
    {
     "name": "stdout",
     "output_type": "stream",
     "text": [
      "Average Accuracy:  46.37\n",
      "Average std:  1.83\n",
      "==============================================\n",
      "Average AUC:  66.14999999999999\n",
      "Average AUC std:  1.16\n",
      "==============================================\n",
      "Average Balanced Accuracy:  32.300000000000004\n",
      "Average std:  2.31\n",
      "==============================================\n",
      "Average MI:  7.04\n",
      "Average std:  0.59\n",
      "==============================================\n",
      "Average Normalized MI:  13.03\n",
      "Average std:  0.86\n",
      "==============================================\n",
      "Average Ajdusted MI:  13.03\n",
      "Average std:  0.86\n"
     ]
    }
   ],
   "source": [
    "print('Average Accuracy: ', np.round( ACC.mean(),4)*100) \n",
    "print('Average std: ',np.round(np.std( ACC),4)*100)\n",
    "print('==============================================')\n",
    "print('Average AUC: ', np.round( AUC.mean(),4)*100) \n",
    "print('Average AUC std: ',np.round(np.std( AUC),4)*100)\n",
    "print('==============================================')\n",
    "print('Average Balanced Accuracy: ', np.round( BACC.mean(),4)*100) \n",
    "print('Average std: ',np.round(np.std( BACC),4)*100)\n",
    "print('==============================================')\n",
    "print('Average MI: ', np.round( MI.mean(),4)*100) \n",
    "print('Average std: ',np.round(np.std(MI),4)*100)\n",
    "print('==============================================')\n",
    "print('Average Normalized MI: ', np.round( NMI.mean(),4)*100) \n",
    "print('Average std: ',np.round(np.std(NMI),4)*100)\n",
    "print('==============================================')\n",
    "print('Average Ajdusted MI: ', np.round( AMI.mean(),4)*100) \n",
    "print('Average std: ',np.round(np.std(AMI),4)*100)"
   ]
  }
 ],
 "metadata": {
  "kernelspec": {
   "display_name": "Python 3",
   "language": "python",
   "name": "python3"
  },
  "language_info": {
   "codemirror_mode": {
    "name": "ipython",
    "version": 3
   },
   "file_extension": ".py",
   "mimetype": "text/x-python",
   "name": "python",
   "nbconvert_exporter": "python",
   "pygments_lexer": "ipython3",
   "version": "3.7.12"
  },
  "papermill": {
   "default_parameters": {},
   "duration": 2071.451532,
   "end_time": "2023-02-03T12:40:08.751205",
   "environment_variables": {},
   "exception": null,
   "input_path": "__notebook__.ipynb",
   "output_path": "__notebook__.ipynb",
   "parameters": {},
   "start_time": "2023-02-03T12:05:37.299673",
   "version": "2.3.4"
  }
 },
 "nbformat": 4,
 "nbformat_minor": 5
}
