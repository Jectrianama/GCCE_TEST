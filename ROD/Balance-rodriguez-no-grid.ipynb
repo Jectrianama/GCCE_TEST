{
 "cells": [
  {
   "cell_type": "markdown",
   "id": "724b8394",
   "metadata": {
    "id": "Cy45HoPn5SpZ",
    "papermill": {
     "duration": 0.010306,
     "end_time": "2023-02-02T21:26:19.875490",
     "exception": false,
     "start_time": "2023-02-02T21:26:19.865184",
     "status": "completed"
    },
    "tags": []
   },
   "source": [
    "# Loss function Rodrigues\n",
    "\n",
    "$𝒟 = \\{ \\mathbf{x}_n, \\mathbf{y}_n\\}$ be a dataset of size $N$\n",
    "\n",
    "$\\mathbf{x}_n \\in \\mathbb{R}^D$\n",
    "\n",
    "${\\mathbf{y}}^r_n\\in[0,1]^K$:   label provided for the r-th annotator in a set of R annotators\n",
    "\n",
    "$𝒛_n$ Latent true class determined by a softmax output layer  of a DNN\n",
    "\n",
    "\n",
    "$\\mathbf{\\sigma}\\in \\mathbb{R} ^Q$: DNN-based feature representation. correspond to the output of a softmax layer\n",
    "\n",
    "$\\hat{\\mathbf{y}}^r_n = f_r(\\sigma)\\in[0,1]^{1 \\times K}$\n",
    "\n",
    "$\\hat{\\mathbf{y}}_n=[\\hat{\\mathbf{y}}^1_n,\\hat{\\mathbf{y}}^2_n,\\dots,\\hat{\\mathbf{y}}^R_n]\\in [0,1]^{1\\times (R\\times K)}$\n",
    "\n",
    "Activation of the crowd layer for each anotator  $ \\mathbf{a}^r = f_r(\\sigma)$, where $f_r$ is an annotator-specific function, and the output of the crowd layer simply as the softmax of the\n",
    "activations $o_c^r = e^{a_c^r}/\\sum_{l=1}^{C}e^{a_l^r}$.\n",
    "\n",
    "\n",
    " $f_r(\\sigma)= \\mathbf{W}^r\\mathbf{\\sigma}$\n",
    "\n",
    " $\\mathbf{W}^r$ is an annotator-specific matrix\n",
    "\n",
    " **Cost function**\n",
    "\n",
    " $E(\\mathbf{o}^r, y^r)$\n",
    " between the expected output of the r-th annotator and its actual label $y^r$,\n",
    "\n",
    "Then, \n",
    "\n",
    "if we make. $\\lambda_n^r(\\theta) = \\mathbf{1}$ in PRI loss\n",
    "\n",
    "\n",
    "\n",
    "$$\\min_\\theta \\sum_n\\left(\\sum_r \\lambda_n^r(\\theta)H({\\mathbf{y}}^r_n;\\hat{\\mathbf{y}}_n(\\theta))\\right)+\\left(H(\\hat{\\mathbf{y}}_n(\\theta))\\sum_r\\left(1-\\lambda_n^r(\\theta)\\right)\\right)$$\n",
    "\n",
    " \n",
    "we can obtain rodriguez\n",
    "\n",
    "\n",
    "$$\\min_\\theta \\sum_n\\left(\\sum_r (\\mathbf{1})H({\\mathbf{y}}^r_n;\\hat{\\mathbf{y}}_n(\\theta))\\right)+\\left(H(\\hat{\\mathbf{y}}_n(\\theta))\\sum_r\\left(1-\\mathbf{1}\\right)\\right)$$"
   ]
  },
  {
   "cell_type": "code",
   "execution_count": 1,
   "id": "7e81ee9c",
   "metadata": {
    "execution": {
     "iopub.execute_input": "2023-02-02T21:26:19.895248Z",
     "iopub.status.busy": "2023-02-02T21:26:19.894595Z",
     "iopub.status.idle": "2023-02-02T21:26:19.901468Z",
     "shell.execute_reply": "2023-02-02T21:26:19.900249Z"
    },
    "id": "Htu1kN9-jZO1",
    "papermill": {
     "duration": 0.020286,
     "end_time": "2023-02-02T21:26:19.904845",
     "exception": false,
     "start_time": "2023-02-02T21:26:19.884559",
     "status": "completed"
    },
    "tags": []
   },
   "outputs": [],
   "source": [
    "#!pip install tensorflow==2.7.0\n",
    "#!pip install scikeras"
   ]
  },
  {
   "cell_type": "code",
   "execution_count": 2,
   "id": "c5976894",
   "metadata": {
    "execution": {
     "iopub.execute_input": "2023-02-02T21:26:19.923361Z",
     "iopub.status.busy": "2023-02-02T21:26:19.922960Z",
     "iopub.status.idle": "2023-02-02T21:26:19.966201Z",
     "shell.execute_reply": "2023-02-02T21:26:19.964989Z"
    },
    "id": "Gw-I1LpOjkw3",
    "outputId": "ebc8e065-e200-4131-fc8b-2ae9efe8d1d7",
    "papermill": {
     "duration": 0.056223,
     "end_time": "2023-02-02T21:26:19.969524",
     "exception": false,
     "start_time": "2023-02-02T21:26:19.913301",
     "status": "completed"
    },
    "tags": []
   },
   "outputs": [
    {
     "data": {
      "text/html": [
       "<div>\n",
       "<style scoped>\n",
       "    .dataframe tbody tr th:only-of-type {\n",
       "        vertical-align: middle;\n",
       "    }\n",
       "\n",
       "    .dataframe tbody tr th {\n",
       "        vertical-align: top;\n",
       "    }\n",
       "\n",
       "    .dataframe thead th {\n",
       "        text-align: right;\n",
       "    }\n",
       "</style>\n",
       "<table border=\"1\" class=\"dataframe\">\n",
       "  <thead>\n",
       "    <tr style=\"text-align: right;\">\n",
       "      <th></th>\n",
       "      <th>Class</th>\n",
       "      <th>L-Weight</th>\n",
       "      <th>L-Distance</th>\n",
       "      <th>R-Weight</th>\n",
       "      <th>R-Distance</th>\n",
       "    </tr>\n",
       "  </thead>\n",
       "  <tbody>\n",
       "    <tr>\n",
       "      <th>0</th>\n",
       "      <td>B</td>\n",
       "      <td>1</td>\n",
       "      <td>1</td>\n",
       "      <td>1</td>\n",
       "      <td>1</td>\n",
       "    </tr>\n",
       "    <tr>\n",
       "      <th>1</th>\n",
       "      <td>R</td>\n",
       "      <td>1</td>\n",
       "      <td>1</td>\n",
       "      <td>1</td>\n",
       "      <td>2</td>\n",
       "    </tr>\n",
       "    <tr>\n",
       "      <th>2</th>\n",
       "      <td>R</td>\n",
       "      <td>1</td>\n",
       "      <td>1</td>\n",
       "      <td>1</td>\n",
       "      <td>3</td>\n",
       "    </tr>\n",
       "    <tr>\n",
       "      <th>3</th>\n",
       "      <td>R</td>\n",
       "      <td>1</td>\n",
       "      <td>1</td>\n",
       "      <td>1</td>\n",
       "      <td>4</td>\n",
       "    </tr>\n",
       "    <tr>\n",
       "      <th>4</th>\n",
       "      <td>R</td>\n",
       "      <td>1</td>\n",
       "      <td>1</td>\n",
       "      <td>1</td>\n",
       "      <td>5</td>\n",
       "    </tr>\n",
       "  </tbody>\n",
       "</table>\n",
       "</div>"
      ],
      "text/plain": [
       "  Class  L-Weight  L-Distance  R-Weight  R-Distance\n",
       "0     B         1           1         1           1\n",
       "1     R         1           1         1           2\n",
       "2     R         1           1         1           3\n",
       "3     R         1           1         1           4\n",
       "4     R         1           1         1           5"
      ]
     },
     "execution_count": 2,
     "metadata": {},
     "output_type": "execute_result"
    }
   ],
   "source": [
    " #https://www.kaggle.com/datasets/mysticvalley/balance-scale\n",
    "import pandas as pd\n",
    "df = pd.read_csv(r'../input/balance-scale/balance-scale.csv') \n",
    "df.head()\n",
    "    "
   ]
  },
  {
   "cell_type": "markdown",
   "id": "d2226bcc",
   "metadata": {
    "id": "lYGUr8mv4EuV",
    "papermill": {
     "duration": 0.008334,
     "end_time": "2023-02-02T21:26:19.986471",
     "exception": false,
     "start_time": "2023-02-02T21:26:19.978137",
     "status": "completed"
    },
    "tags": []
   },
   "source": [
    "# Subclassing for Crowdlayer Rodriguez"
   ]
  },
  {
   "cell_type": "code",
   "execution_count": 3,
   "id": "cc9ec6f1",
   "metadata": {
    "execution": {
     "iopub.execute_input": "2023-02-02T21:26:20.005696Z",
     "iopub.status.busy": "2023-02-02T21:26:20.005262Z",
     "iopub.status.idle": "2023-02-02T21:26:30.259303Z",
     "shell.execute_reply": "2023-02-02T21:26:30.258176Z"
    },
    "id": "p5fJiVgC3FKO",
    "papermill": {
     "duration": 10.26705,
     "end_time": "2023-02-02T21:26:30.262070",
     "exception": false,
     "start_time": "2023-02-02T21:26:19.995020",
     "status": "completed"
    },
    "tags": []
   },
   "outputs": [],
   "source": [
    "# -*- coding: utf-8 -*-\n",
    "import tensorflow as tf\n",
    "import matplotlib.pyplot as plt\n",
    "#from tensorflow.keras.wrappers.scikit_learn import KerasClassifier\n",
    "import tensorflow_probability as tfp\n",
    "from tensorflow.keras import regularizers\n",
    "from sklearn.base import  BaseEstimator, TransformerMixin, ClassifierMixin\n",
    "from sklearn.model_selection import train_test_split\n",
    "tf.keras.backend.clear_session()\n",
    "#tf.random.set_seed(42)\n",
    "import types\n",
    "import tempfile\n",
    "class Keras_MA_CrowdL(): #transformer no va\n",
    " #Constructor __init__. Special method: identified by a double underscore at either side of their name\n",
    " #work in the background\n",
    " # initialize data members to the object. lets the class initialize the object’s attributes and serves no other purpose.\n",
    "    def __init__(self,epochs=100,batch_size=30,R=5, K=2, dropout=0.5, learning_rate=1e-3,optimizer='Adam', \n",
    "                  l1_param=0, validation_split=0.3, verbose=0):\n",
    "        #print('init')\n",
    "        self.epochs=epochs\n",
    "        self.dropout=dropout\n",
    "        self.batch_size = batch_size\n",
    "        self.learning_rate=learning_rate \n",
    "        self.l1_param=l1_param \n",
    "        self.l2_param=l1_param\n",
    "        self.validation_split = validation_split\n",
    "        self.verbose = verbose\n",
    "        self.optimizer = optimizer\n",
    "        self.R=R\n",
    "        self.K=K\n",
    "\n",
    "    \n",
    " \n",
    "    def custom_CLR_loss(self, y_true, y_pred): #ytrue \\in N x R,  ypred \\in N x K x R  ->CrowdLayerRodriguez\n",
    "        #print(y_true.shape)\n",
    "        Y_true_1K = tf.one_hot(tf.cast(y_true,dtype=tf.int32),depth=self.K,axis=1) #samples, classes 1-K, annotators\n",
    "        #print(Y_true_1K.shape)    \n",
    "        vec = tf.nn.softmax_cross_entropy_with_logits(logits=y_pred, labels=Y_true_1K, axis = 1)\n",
    "        #print(vec.shape)\n",
    "        #mask = tf.equal(Y_true_1K[:,0,:], -1)\n",
    "        #zer = tf.zeros_like(vec)\n",
    "        #loss = tf.where(mask, x=zer, y=vec)\n",
    "        #tf.print(\"loss\", loss)\n",
    "        return tf.math.reduce_sum(vec)\n",
    "\n",
    " \n",
    "    def fit(self, X, Y):\n",
    "        P = X.shape[1]\n",
    "        if self.optimizer == \"Adam\":\n",
    "            opt = tf.keras.optimizers.Adam(learning_rate=self.learning_rate)\n",
    "        elif self.optimizer == \"SGD\":\n",
    "            opt = tf.keras.optimizers.SGD(learning_rate=self.learning_rate)\n",
    "        else:\n",
    "            opt=self.optimizer\n",
    "\n",
    "        #capa de entrada\n",
    "        input_l = tf.keras.layers.Input(shape=(X.shape[1]), name='entrada')\n",
    "        #capas densas\n",
    "        h1 = tf.keras.layers.Dense(int(P*4*(self.K+self.R)),activation='selu',name='h1',\n",
    "                              kernel_regularizer=tf.keras.regularizers.l1_l2(l1=self.l1_param,l2=self.l2_param))(input_l)#argumento de entrada\n",
    "        h2 = tf.keras.layers.Dense(int(P*(self.K+self.R)),activation='selu',name='h2',\n",
    "                              kernel_regularizer=tf.keras.regularizers.l1_l2(l1=self.l1_param,l2=self.l2_param))(h1)\n",
    "        dout = tf.keras.layers.Dropout(rate=self.dropout)(h2)\n",
    "        output_dense = tf.keras.layers.Dense(self.K,activation=\"softmax\",name='output',\n",
    "                               kernel_regularizer=tf.keras.regularizers.l1_l2(l1=self.l1_param,l2=self.l2_param))(dout)\n",
    "        output= CrowdsClassification(self.K, self.R, conn_type=\"MW\")(output_dense) #Classes x Annotators\n",
    "        self.model = tf.keras.Model(inputs= input_l,outputs=output)\n",
    "        self.model.compile(loss= self.custom_CLR_loss, optimizer=opt)\n",
    "        self.history = self.model.fit(X, Y, epochs=self.epochs, validation_split= self.validation_split,   #\n",
    "                                      batch_size=self.batch_size,verbose=self.verbose)\n",
    "        #model_p  to predict labels in gridsearch  \n",
    "        self.model_p = tf.keras.Model(inputs=self.model.inputs,outputs=self.model.get_layer('output').output) #se accede a capas por nombre\n",
    "        #resumen y gráfica del modelo\n",
    "        #print(self.model.summary())\n",
    "        \n",
    "        return self\n",
    "\n",
    "    def predict2(self, X, *_):\n",
    "      return  np.argmax(self.model_p.predict(X), axis=1)    \n",
    "     \n",
    "    def predict(self, X, *_):\n",
    "\n",
    "       #print('predict') \n",
    "       return  self.model.predict(X) \n",
    "\n",
    "    def fit_predict(self,X,y):\n",
    "        #input X numpy array first dimension samples (N)x features (P)\n",
    "        #input Y numpy array vector len = samples (N) x  annotators (R)\n",
    "        \n",
    "        self.fit(X,y)\n",
    "        return self.predict(X)\n",
    "  \n",
    "     #graphics\n",
    "    def plot_history(self):\n",
    "        pd.DataFrame(self.history.history).plot(figsize=(8, 5))\n",
    "        plt.grid(True)\n",
    "        #plt.gca().set_ylim(0, 1)\n",
    "        #save_fig(\"keras_learning_curves_plot\")\n",
    "        plt.show()\n",
    "        return\n",
    "    \n",
    "    def set_params(self, **parameters):\n",
    "        #print('set_params') \n",
    "        for parameter, value in parameters.items():\n",
    "            setattr(self, parameter, value)\n",
    "\n",
    "        return self\n",
    "    \n",
    "    \n",
    "    \n",
    "    def get_params(self, deep=True):\n",
    "        #print('get_params') \n",
    "        return { 'l1_param':self.l1_param, 'dropout':self.dropout, 'optimizer':self.optimizer,\n",
    "                'learning_rate':self.learning_rate, 'batch_size':self.batch_size,\n",
    "                'epochs':self.epochs, 'verbose':self.verbose, 'validation_split':self.validation_split,\n",
    "                'R':self.R, 'K':self.K\n",
    "                }"
   ]
  },
  {
   "cell_type": "markdown",
   "id": "95d0d317",
   "metadata": {
    "id": "b9yV0N4v4U_3",
    "papermill": {
     "duration": 0.007988,
     "end_time": "2023-02-02T21:26:30.278514",
     "exception": false,
     "start_time": "2023-02-02T21:26:30.270526",
     "status": "completed"
    },
    "tags": []
   },
   "source": [
    "# Crowdlayer class"
   ]
  },
  {
   "cell_type": "code",
   "execution_count": 4,
   "id": "d28fcd97",
   "metadata": {
    "execution": {
     "iopub.execute_input": "2023-02-02T21:26:30.298099Z",
     "iopub.status.busy": "2023-02-02T21:26:30.297360Z",
     "iopub.status.idle": "2023-02-02T21:26:30.322673Z",
     "shell.execute_reply": "2023-02-02T21:26:30.321087Z"
    },
    "id": "4ysb7umL3FKN",
    "papermill": {
     "duration": 0.038738,
     "end_time": "2023-02-02T21:26:30.325700",
     "exception": false,
     "start_time": "2023-02-02T21:26:30.286962",
     "status": "completed"
    },
    "tags": []
   },
   "outputs": [],
   "source": [
    " \n",
    "import numpy as np\n",
    "import tensorflow as tf\n",
    "import tensorflow.keras as keras\n",
    "from tensorflow.keras import backend as K1\n",
    "from tensorflow.keras.layers import Layer\n",
    "#from tensorflow.keras.engine.topology import Layer\n",
    "\n",
    "def init_identities(shape, dtype=None):\n",
    "    out = np.zeros(shape)\n",
    "    for r in range(shape[2]):\n",
    "        for i in range(shape[0]):\n",
    "            out[i,i,r] = 1.0\n",
    "    return out\n",
    "    \n",
    "class CrowdsClassification(Layer):\n",
    "\n",
    "\n",
    "  \n",
    "  #The build() method’s role is to create the layer’s variables, by calling the \n",
    "  #add_weight() method for each weight.  which is often necessary to create some of the weights.\n",
    "  #we need to know the number of neurons in the previous layer in order to create the connection weights matrix (i.e., the \"kernel\"): \n",
    "  #this corresponds to the size of the last dimension of the inputs. \n",
    "   \n",
    "    def __init__(self, output_dim, num_annotators, conn_type=\"MW\", **kwargs):\n",
    "        self.output_dim = output_dim\n",
    "        self.num_annotators = num_annotators\n",
    "        self.conn_type = conn_type\n",
    "        super(CrowdsClassification, self).__init__(**kwargs)\n",
    "\n",
    "\n",
    "\n",
    "    def build(self, input_shape):\n",
    "        if self.conn_type == \"MW\":\n",
    "            # matrix of weights per annotator\n",
    "      #A layer is a callable object that takes as input one or more tensors and that outputs one or more tensors. \n",
    "      #It involves computation, defined in the call() method, and a state (weight variables). \n",
    "      #the method add_weight() offers a shortcut to create weights.\n",
    "\n",
    "            self.kernel = self.add_weight(\"CrowdLayer\", (self.output_dim, self.output_dim, self.num_annotators),\n",
    "                                            initializer=init_identities, #It is the stated initializer instance\n",
    "                                            trainable=True) # trainable weights, updated via backpropagation during training\n",
    "        elif self.conn_type == \"VW\":\n",
    "            # vector of weights (one scale per class) per annotator\n",
    "            self.kernel = self.add_weight(\"CrowdLayer\", (self.output_dim, self.num_annotators),\n",
    "                                            initializer=keras.initializers.Ones(), \n",
    "                                            trainable=True)\n",
    "        elif self.conn_type == \"VB\":\n",
    "            # two vectors of weights (one scale and one bias per class) per annotator\n",
    "            self.kernel = []\n",
    "            self.kernel.append(self.add_weight(\"CrowdLayer\", (self.output_dim, self.num_annotators),\n",
    "                                            initializer=keras.initializers.Zeros(),\n",
    "                                            trainable=True))\n",
    "        elif self.conn_type == \"VW+B\":\n",
    "            # two vectors of weights (one scale and one bias per class) per annotator\n",
    "            self.kernel = []\n",
    "            self.kernel.append(self.add_weight(\"CrowdLayer\", (self.output_dim, self.num_annotators),\n",
    "                                            initializer=keras.initializers.Ones(),\n",
    "                                            trainable=True))\n",
    "            self.kernel.append(self.add_weight(\"CrowdLayer\", (self.output_dim, self.num_annotators),\n",
    "                                            initializer=keras.initializers.Zeros(),\n",
    "                                            trainable=True))\n",
    "        elif self.conn_type == \"SW\":\n",
    "            # single weight value per annotator\n",
    "            self.kernel = self.add_weight(\"CrowdLayer\", (self.num_annotators,1),\n",
    "                                            initializer=keras.initializers.Ones(),\n",
    "                                            trainable=True)\n",
    "        else:\n",
    "            raise Exception(\"Unknown connection type for CrowdsClassification layer!\")\n",
    "    #At the end of the build() method (and only at the end), \n",
    "    #you must call the parent’s build() method: this tells Keras that the layer is built (it just sets self.built = True).\n",
    "        super(CrowdsClassification, self).build(input_shape)  # Be sure to call this somewhere!\n",
    "\n",
    "    def call(self, x):\n",
    "    \n",
    "    #The call() method actually performs the desired operations. In this case, \n",
    "    #we compute the matrix multiplication of the inputs X and the layer’s kernel and \n",
    "    #this gives us the output of the layer.\n",
    "     \n",
    " \n",
    "\n",
    "        if self.conn_type == \"MW\":\n",
    "            res = K1.dot(x, self.kernel)\n",
    "        elif self.conn_type == \"VW\" or self.conn_type == \"VB\" or self.conn_type == \"VW+B\" or self.conn_type == \"SW\":\n",
    "            out = []\n",
    "            for r in range(self.num_annotators):\n",
    "                if self.conn_type == \"VW\":\n",
    "                    out.append(x * self.kernel[:,r])\n",
    "                elif self.conn_type == \"VB\":\n",
    "                    out.append(x + self.kernel[0][:,r])\n",
    "                elif self.conn_type == \"VW+B\":\n",
    "                    out.append(x * self.kernel[0][:,r] + self.kernel[1][:,r])\n",
    "                elif self.conn_type == \"SW\":\n",
    "                    out.append(x * self.kernel[r,0])\n",
    "            res = tf.stack(out)\n",
    "            if len(res.shape) == 3:\n",
    "                res = tf.transpose(res, [1, 2, 0])\n",
    "            elif len(res.shape) == 4:\n",
    "                res = tf.transpose(res, [1, 2, 3, 0])\n",
    "            else:\n",
    "                raise Exception(\"Wrong number of dimensions for output\")\n",
    "        else:\n",
    "            raise Exception(\"Unknown connection type for CrowdsClassification layer!\") \n",
    "        \n",
    "        return res\n",
    " \n",
    "#The compute_output_shape() method simply returns the shape of this layer’s outputs. \n",
    "#In this case, it is the same shape as the inputs, except the last two dimensions is replaced \n",
    "#with the number of clases and # annotators in the layer.  \n",
    " \n",
    "\n",
    "    def compute_output_shape(self, input_shape):\n",
    "        return (input_shape[0], self.output_dim, self.num_annotators)"
   ]
  },
  {
   "cell_type": "markdown",
   "id": "d6bc9872",
   "metadata": {
    "id": "xKzPN5lnHO13",
    "papermill": {
     "duration": 0.00797,
     "end_time": "2023-02-02T21:26:30.342434",
     "exception": false,
     "start_time": "2023-02-02T21:26:30.334464",
     "status": "completed"
    },
    "tags": []
   },
   "source": [
    "# Load Data"
   ]
  },
  {
   "cell_type": "code",
   "execution_count": 5,
   "id": "def12541",
   "metadata": {
    "execution": {
     "iopub.execute_input": "2023-02-02T21:26:30.360936Z",
     "iopub.status.busy": "2023-02-02T21:26:30.360249Z",
     "iopub.status.idle": "2023-02-02T21:26:30.409810Z",
     "shell.execute_reply": "2023-02-02T21:26:30.408403Z"
    },
    "id": "hA1QFlPBjpbA",
    "outputId": "db5be05d-1fdc-4725-8064-5dc79e7a9a6a",
    "papermill": {
     "duration": 0.062714,
     "end_time": "2023-02-02T21:26:30.413456",
     "exception": false,
     "start_time": "2023-02-02T21:26:30.350742",
     "status": "completed"
    },
    "tags": []
   },
   "outputs": [
    {
     "name": "stdout",
     "output_type": "stream",
     "text": [
      "X (625, 4) t (625,)\n"
     ]
    }
   ],
   "source": [
    "#load data\n",
    "import scipy.io as sio\n",
    "import matplotlib.pyplot as plt\n",
    "import pandas as pd\n",
    "import tensorflow as tf #importar tensorflow\n",
    "from sklearn.model_selection import GridSearchCV, RandomizedSearchCV\n",
    "from sklearn.preprocessing import StandardScaler,MinMaxScaler\n",
    "from sklearn.preprocessing import LabelEncoder\n",
    "import numpy as np\n",
    " \n",
    "database = 'Balance' #['bupa1', 'breast-cancer-wisconsin1','pima-indians-diabetes1', 'ionosphere1', 'tic-tac-toe1', 'iris1', 'wine1', 'segmentation1']\n",
    "\n",
    "#Dividing X and y\n",
    "t = np.array(LabelEncoder().fit_transform(df['Class'].tolist()))\n",
    "X = np.array(df.drop(['Class'], axis = 1).values)\n",
    "print('X',X.shape,'t',t.shape)\n",
    " "
   ]
  },
  {
   "cell_type": "code",
   "execution_count": 6,
   "id": "160bc0c8",
   "metadata": {
    "execution": {
     "iopub.execute_input": "2023-02-02T21:26:30.433856Z",
     "iopub.status.busy": "2023-02-02T21:26:30.433044Z",
     "iopub.status.idle": "2023-02-02T21:26:30.442381Z",
     "shell.execute_reply": "2023-02-02T21:26:30.440952Z"
    },
    "id": "xnqtxG_x3FKL",
    "papermill": {
     "duration": 0.021904,
     "end_time": "2023-02-02T21:26:30.445055",
     "exception": false,
     "start_time": "2023-02-02T21:26:30.423151",
     "status": "completed"
    },
    "tags": []
   },
   "outputs": [
    {
     "data": {
      "text/plain": [
       "array([1, 3, 3, 3, 3, 3, 3, 3, 3, 3, 3, 3, 3, 3, 3, 3, 3, 3, 3, 3, 3, 3,\n",
       "       3, 3, 3, 2, 1, 3, 3, 3, 1, 3, 3, 3, 3, 3, 3, 3, 3, 3, 3, 3, 3, 3,\n",
       "       3, 3, 3, 3, 3, 3, 2, 2, 1, 3, 3, 2, 3, 3, 3, 3, 1, 3, 3, 3, 3, 3,\n",
       "       3, 3, 3, 3, 3, 3, 3, 3, 3, 2, 2, 2, 1, 3, 2, 1, 3, 3, 3, 2, 3, 3,\n",
       "       3, 3, 1, 3, 3, 3, 3, 3, 3, 3, 3, 3, 2, 2, 2, 2, 1, 2, 2, 3, 3, 3,\n",
       "       2, 3, 3, 3, 3, 2, 3, 3, 3, 3, 1, 3, 3, 3, 3, 2, 1, 3, 3, 3, 1, 3,\n",
       "       3, 3, 3, 3, 3, 3, 3, 3, 3, 3, 3, 3, 3, 3, 3, 3, 3, 3, 2, 2, 2, 1,\n",
       "       3, 2, 1, 3, 3, 3, 2, 3, 3, 3, 3, 1, 3, 3, 3, 3, 3, 3, 3, 3, 3, 2,\n",
       "       2, 2, 2, 2, 2, 2, 1, 3, 3, 2, 1, 3, 3, 3, 2, 3, 3, 3, 3, 2, 3, 3,\n",
       "       3, 3, 2, 2, 2, 2, 2, 2, 2, 2, 1, 3, 2, 2, 3, 3, 3, 2, 1, 3, 3, 3,\n",
       "       2, 3, 3, 3, 3, 2, 2, 2, 2, 2, 2, 2, 2, 2, 1, 2, 2, 2, 3, 3, 2, 2,\n",
       "       3, 3, 3, 2, 1, 3, 3, 3, 2, 2, 1, 3, 3, 2, 3, 3, 3, 3, 1, 3, 3, 3,\n",
       "       3, 3, 3, 3, 3, 3, 3, 3, 3, 3, 3, 2, 2, 2, 2, 2, 2, 2, 1, 3, 3, 2,\n",
       "       1, 3, 3, 3, 2, 3, 3, 3, 3, 2, 3, 3, 3, 3, 2, 2, 2, 2, 2, 2, 2, 2,\n",
       "       2, 3, 2, 2, 1, 3, 3, 2, 2, 3, 3, 3, 2, 3, 3, 3, 3, 2, 2, 2, 2, 2,\n",
       "       2, 2, 2, 2, 2, 2, 2, 2, 1, 3, 2, 2, 1, 3, 3, 2, 2, 3, 3, 3, 2, 2,\n",
       "       2, 2, 2, 2, 2, 2, 2, 2, 2, 2, 2, 2, 1, 2, 2, 2, 3, 3, 2, 2, 1, 3,\n",
       "       3, 2, 2, 2, 1, 3, 2, 1, 3, 3, 3, 2, 3, 3, 3, 3, 1, 3, 3, 3, 3, 3,\n",
       "       3, 3, 3, 3, 2, 2, 2, 2, 2, 2, 2, 2, 1, 3, 2, 2, 3, 3, 3, 2, 1, 3,\n",
       "       3, 3, 2, 3, 3, 3, 3, 2, 2, 2, 2, 2, 2, 2, 2, 2, 2, 2, 2, 2, 1, 3,\n",
       "       2, 2, 1, 3, 3, 2, 2, 3, 3, 3, 2, 2, 2, 2, 2, 2, 2, 2, 2, 2, 2, 2,\n",
       "       2, 2, 2, 2, 2, 2, 1, 3, 2, 2, 2, 3, 3, 2, 2, 2, 2, 2, 2, 2, 2, 2,\n",
       "       2, 2, 2, 2, 2, 2, 2, 2, 2, 2, 1, 2, 2, 2, 1, 3, 2, 2, 2, 2, 1, 2,\n",
       "       2, 3, 3, 3, 2, 3, 3, 3, 3, 2, 3, 3, 3, 3, 1, 3, 3, 3, 3, 2, 2, 2,\n",
       "       2, 2, 2, 2, 2, 2, 1, 2, 2, 2, 3, 3, 2, 2, 3, 3, 3, 2, 1, 3, 3, 3,\n",
       "       2, 2, 2, 2, 2, 2, 2, 2, 2, 2, 2, 2, 2, 2, 1, 2, 2, 2, 3, 3, 2, 2,\n",
       "       1, 3, 3, 2, 2, 2, 2, 2, 2, 2, 2, 2, 2, 2, 2, 2, 2, 2, 2, 2, 2, 2,\n",
       "       1, 2, 2, 2, 1, 3, 2, 2, 2, 2, 2, 2, 2, 2, 2, 2, 2, 2, 2, 2, 2, 2,\n",
       "       2, 2, 2, 2, 2, 2, 2, 2, 1])"
      ]
     },
     "execution_count": 6,
     "metadata": {},
     "output_type": "execute_result"
    }
   ],
   "source": [
    "t = t+1\n",
    "t"
   ]
  },
  {
   "cell_type": "markdown",
   "id": "6346a39c",
   "metadata": {
    "id": "avDA2pJIJgsf",
    "papermill": {
     "duration": 0.008652,
     "end_time": "2023-02-02T21:26:30.462436",
     "exception": false,
     "start_time": "2023-02-02T21:26:30.453784",
     "status": "completed"
    },
    "tags": []
   },
   "source": [
    "# Labels Generation  "
   ]
  },
  {
   "cell_type": "code",
   "execution_count": 7,
   "id": "80de6218",
   "metadata": {
    "execution": {
     "iopub.execute_input": "2023-02-02T21:26:30.482187Z",
     "iopub.status.busy": "2023-02-02T21:26:30.481784Z",
     "iopub.status.idle": "2023-02-02T21:26:30.768526Z",
     "shell.execute_reply": "2023-02-02T21:26:30.767409Z"
    },
    "id": "BupvL7KSocvu",
    "papermill": {
     "duration": 0.300349,
     "end_time": "2023-02-02T21:26:30.771406",
     "exception": false,
     "start_time": "2023-02-02T21:26:30.471057",
     "status": "completed"
    },
    "tags": []
   },
   "outputs": [],
   "source": [
    "import random\n",
    "import warnings\n",
    "import numpy as np\n",
    "#import climin\n",
    "from functools import partial\n",
    "import matplotlib.pyplot as plt\n",
    "from sklearn.preprocessing import StandardScaler\n",
    "from sklearn.cluster import KMeans\n",
    "import matplotlib.pyplot as plt\n",
    "from sklearn.manifold import TSNE\n",
    "\n",
    "#Defining the Sigmoid function and Softmax function\n",
    "def Sigmoid(f_r):\n",
    "    lam_r = 1/(1 + np.exp(-f_r))\n",
    "    return lam_r\n",
    "\n",
    "def MAjVot(Y, K):\n",
    "    N,R = Y.shape\n",
    "    Yhat = np.zeros((N,1))\n",
    "    for n in range(N):\n",
    "        votes = np.zeros((K,1))\n",
    "        for r in range(R):\n",
    "            for k in range(K):\n",
    "                if Y[n,r] == k+1:\n",
    "                    votes[k] = votes[k]+1\n",
    "        Yhat[n] = np.argmax(votes) + 1\n",
    "    return Yhat\n",
    "\n",
    "\n",
    "def  MA_Clas_Gen(Xtrain,ytrain,R,NrP):\n",
    "\n",
    "    N = len(ytrain)\n",
    "    K = len(np.unique(ytrain))\n",
    "    Kn = np.unique(ytrain)\n",
    "    aux = 0\n",
    "    A = np.zeros((K,1))\n",
    "    for k in Kn:\n",
    "        A[aux] = (ytrain == k).sum()\n",
    "        aux = aux + 1\n",
    "    per = np.min(A)\n",
    "    if N < 25000:\n",
    "        Xtrain = TSNE(n_components=1,perplexity=per/2).fit_transform(Xtrain)\n",
    "    else:\n",
    "        Xtrain = np.sum(Xtrain,1)\n",
    "    # Xtrain = Xtrain-Xtrain.min()\n",
    "    # Xtrain = Xtrain/Xtrain.max()\n",
    "    #ytrain = y\n",
    "    # scaler = StandardScaler()\n",
    "    # scalerY = scaler.fit(y)\n",
    "    # ytrain = scaler.fit_transform(y)\n",
    "\n",
    "    \n",
    "    #miny = y.min()\n",
    "    #ytrain = y-miny\n",
    "    #maxy = ytrain.max()\n",
    "    #ytrain = ytrain/maxy\n",
    "  \n",
    "    # Xtrain = np.sum(Xtrain, axis=1)\n",
    "    Xtrain = Xtrain - Xtrain.min()\n",
    "    #print(Xtrain.min(), Xtrain.max())\n",
    "    Xtrain = Xtrain/Xtrain.max()\n",
    "    Xtrain = Xtrain.reshape((N,1))\n",
    "    yprueba = np.ones((N,1))\n",
    "    \n",
    "    \n",
    "    u_q = np.empty((Xtrain.shape[0],3))\n",
    "    u_q[:,0,None] = 4.5*np.cos(2*np.pi*Xtrain + 1.5*np.pi) - \\\n",
    "                               3*np.sin(4.3*np.pi*Xtrain + 0.3*np.pi)\n",
    "                    \n",
    "    u_q[:,1,None] = 4.5*np.cos(1.5*np.pi*Xtrain + 0.5*np.pi) + \\\n",
    "                       5*np.sin(3*np.pi*Xtrain + 1.5*np.pi)\n",
    "    \n",
    "    u_q[:,2,None] = 1\n",
    "    \n",
    "    W = []\n",
    "    # q=1\n",
    "    Wq1 = np.array(([[0.4],[0.7],[-0.5],[0],[-0.7]]))\n",
    "    W.append(Wq1)\n",
    "    # q=2\n",
    "    Wq2 = np.array(([[0.4],[-1.0],[-0.1],[-0.8],[1.0]]))\n",
    "    W.append(Wq2)\n",
    "    Wq3 = np.array(([[3.1],[-1.8],[-0.6],[-1.2],[1.0]]))\n",
    "    W.append(Wq3)\n",
    "\n",
    "    \n",
    "    F_r = []\n",
    "    Lam_r = []\n",
    "    for r in range(R):\n",
    "        f_r = np.zeros((Xtrain.shape[0], 1))\n",
    "        # rho_r = np.zeros((Xtrain.shape[0], 1))\n",
    "        for q in range(3):\n",
    "            f_r += W[q][r].T*u_q[:,q,None]\n",
    "        F_r.append(f_r)\n",
    "        lam_r = Sigmoid(f_r)\n",
    "        lam_r[lam_r>0.5] = 1\n",
    "        lam_r[lam_r<=0.5] = 0\n",
    "        Lam_r.append(lam_r)\n",
    "    plt.plot(Xtrain,Lam_r[2],'rx')\n",
    "    plt.show()\n",
    "    seed = 0\n",
    "    np.random.seed(seed)\n",
    "    Ytrain = np.ones((N, R))\n",
    "    for r in range(R):\n",
    "        aux = ytrain.copy()\n",
    "        for n in range(N):\n",
    "            if Lam_r[r][n] == 0:\n",
    "                labels = np.arange(1, K+1)\n",
    "                a = np.where(labels==ytrain[n])\n",
    "                labels = np.delete(labels, a)\n",
    "                idxlabels = np.random.permutation(K-1)\n",
    "                aux[n] = labels[idxlabels[0]]         \n",
    "        Ytrain[:,r] = aux.flatten()\n",
    "        \n",
    "   # Ytrain = (Ytrain*maxy) + miny\n",
    "        \n",
    "    iAnn = np.zeros((N, R), dtype=int) # this indicates if the annotator r labels the nth sample.\n",
    "    Nr = np.ones((R), dtype=int)*int(np.floor(N*NrP))  \n",
    "    for r in range(R):\n",
    "        if r < R-1:\n",
    "            indexR = np.random.permutation(range(N))[:Nr[r]]\n",
    "            iAnn[indexR,r] = 1\n",
    "        else:\n",
    "            iSimm = np.sum(iAnn, axis=1)\n",
    "            idxZero = np.asarray([i for (i, val) in enumerate(iSimm) if val == 0])\n",
    "            Nzeros = idxZero.shape[0]\n",
    "            idx2Choose = np.arange(N)\n",
    "            if Nzeros == 0:\n",
    "                indexR = np.random.permutation(range(N))[:Nr[r]]\n",
    "                iAnn[indexR,r] = 1\n",
    "            else:\n",
    "                idx2Choose = np.delete(idx2Choose, idxZero)\n",
    "                N2chose = idx2Choose.shape[0]\n",
    "                idxNoZero = np.random.permutation(N2chose)[:(Nr[r] - Nzeros)]\n",
    "                idxTot = np.concatenate((idxZero, idx2Choose[idxNoZero]))\n",
    "                iAnn[idxTot,r] = 1\n",
    "    \n",
    "    # Now, we verify that all the samples were labeled at least once\n",
    "    Nr = (np.sum(iAnn,0))\n",
    "    iSimm = np.sum(iAnn, axis=1)\n",
    "    if np.asarray([i for (i, val) in enumerate(iSimm) if val == 0]).sum() == 0:\n",
    "        ValueError(\"all the samples must be labeled at least once\")\n",
    "\n",
    "    # Finally, if iAnn=0 we assign a reference value to indicate a missing value\n",
    "    Vref = -1e-20\n",
    "    for r in range(R):\n",
    "        Ytrain[iAnn[:,r] == 0, r] = Vref \n",
    "\n",
    "    return Ytrain, iAnn, Lam_r\n",
    "\n",
    "\n",
    "def CrossVal(X, pp, Nk):\n",
    "    N = X.shape[0]\n",
    "    Ntr = int(N*pp)\n",
    "    Nte = N - Ntr\n",
    "    idxtr = np.zeros((Ntr,Nk))\n",
    "    idxte = np.zeros((Nte,Nk))\n",
    "    \n",
    "    for i in range(Nk):\n",
    "        index = np.random.permutation(range(N))\n",
    "        idxtr[:,i] = index[:Ntr]\n",
    "        idxte[:,i] = index[Ntr:]\n",
    "        \n",
    "    return idxtr, idxte\n",
    "    \n",
    "    \n",
    "        \n"
   ]
  },
  {
   "cell_type": "code",
   "execution_count": 8,
   "id": "ce74917c",
   "metadata": {
    "execution": {
     "iopub.execute_input": "2023-02-02T21:26:30.790689Z",
     "iopub.status.busy": "2023-02-02T21:26:30.790249Z",
     "iopub.status.idle": "2023-02-02T21:26:32.609706Z",
     "shell.execute_reply": "2023-02-02T21:26:32.608322Z"
    },
    "id": "tK8MHObF3FKM",
    "outputId": "8f128bab-9644-4526-d91c-a3eb4c94fc10",
    "papermill": {
     "duration": 1.833138,
     "end_time": "2023-02-02T21:26:32.613232",
     "exception": false,
     "start_time": "2023-02-02T21:26:30.780094",
     "status": "completed"
    },
    "tags": []
   },
   "outputs": [
    {
     "name": "stderr",
     "output_type": "stream",
     "text": [
      "/opt/conda/lib/python3.7/site-packages/sklearn/manifold/_t_sne.py:783: FutureWarning: The default initialization in TSNE will change from 'random' to 'pca' in 1.2.\n",
      "  FutureWarning,\n",
      "/opt/conda/lib/python3.7/site-packages/sklearn/manifold/_t_sne.py:793: FutureWarning: The default learning rate in TSNE will change from 200.0 to 'auto' in 1.2.\n",
      "  FutureWarning,\n"
     ]
    },
    {
     "data": {
      "image/png": "[encoded data removed]",
      "text/plain": [
       "<Figure size 432x288 with 1 Axes>"
      ]
     },
     "metadata": {
      "needs_background": "light"
     },
     "output_type": "display_data"
    }
   ],
   "source": [
    "Y, iAnn, Lam_r = MA_Clas_Gen(X ,t, R=5, NrP=1)"
   ]
  },
  {
   "cell_type": "code",
   "execution_count": 9,
   "id": "7a3a24c0",
   "metadata": {
    "execution": {
     "iopub.execute_input": "2023-02-02T21:26:32.633511Z",
     "iopub.status.busy": "2023-02-02T21:26:32.632456Z",
     "iopub.status.idle": "2023-02-02T21:26:32.638225Z",
     "shell.execute_reply": "2023-02-02T21:26:32.637082Z"
    },
    "id": "v0Y8m7E-3FKM",
    "papermill": {
     "duration": 0.018248,
     "end_time": "2023-02-02T21:26:32.640492",
     "exception": false,
     "start_time": "2023-02-02T21:26:32.622244",
     "status": "completed"
    },
    "tags": []
   },
   "outputs": [],
   "source": [
    "  Y = Y - 1\n",
    "  t = t - 1\n",
    "  #YMA = YMA-1"
   ]
  },
  {
   "cell_type": "code",
   "execution_count": 10,
   "id": "e3df6b9d",
   "metadata": {
    "execution": {
     "iopub.execute_input": "2023-02-02T21:26:32.660661Z",
     "iopub.status.busy": "2023-02-02T21:26:32.659364Z",
     "iopub.status.idle": "2023-02-02T21:26:33.736765Z",
     "shell.execute_reply": "2023-02-02T21:26:33.735620Z"
    },
    "papermill": {
     "duration": 1.090201,
     "end_time": "2023-02-02T21:26:33.739495",
     "exception": false,
     "start_time": "2023-02-02T21:26:32.649294",
     "status": "completed"
    },
    "tags": []
   },
   "outputs": [
    {
     "name": "stdout",
     "output_type": "stream",
     "text": [
      "annotator 1\n",
      "              precision    recall  f1-score   support\n",
      "\n",
      "           0       0.48      0.84      0.61        49\n",
      "           1       0.91      0.87      0.89       288\n",
      "           2       0.93      0.85      0.89       288\n",
      "\n",
      "    accuracy                           0.86       625\n",
      "   macro avg       0.77      0.85      0.79       625\n",
      "weighted avg       0.88      0.86      0.87       625\n",
      "\n",
      "annotator 2\n",
      "              precision    recall  f1-score   support\n",
      "\n",
      "           0       0.16      0.45      0.24        49\n",
      "           1       0.74      0.61      0.67       288\n",
      "           2       0.72      0.61      0.66       288\n",
      "\n",
      "    accuracy                           0.60       625\n",
      "   macro avg       0.54      0.56      0.52       625\n",
      "weighted avg       0.68      0.60      0.63       625\n",
      "\n",
      "annotator 3\n",
      "              precision    recall  f1-score   support\n",
      "\n",
      "           0       0.22      0.67      0.34        49\n",
      "           1       0.70      0.64      0.67       288\n",
      "           2       0.76      0.56      0.64       288\n",
      "\n",
      "    accuracy                           0.61       625\n",
      "   macro avg       0.56      0.62      0.55       625\n",
      "weighted avg       0.69      0.61      0.63       625\n",
      "\n",
      "annotator 4\n",
      "              precision    recall  f1-score   support\n",
      "\n",
      "           0       0.11      0.35      0.17        49\n",
      "           1       0.65      0.56      0.60       288\n",
      "           2       0.66      0.51      0.57       288\n",
      "\n",
      "    accuracy                           0.52       625\n",
      "   macro avg       0.47      0.47      0.45       625\n",
      "weighted avg       0.61      0.52      0.55       625\n",
      "\n",
      "annotator 5\n",
      "              precision    recall  f1-score   support\n",
      "\n",
      "           0       0.08      0.37      0.13        49\n",
      "           1       0.32      0.26      0.29       288\n",
      "           2       0.34      0.19      0.25       288\n",
      "\n",
      "    accuracy                           0.24       625\n",
      "   macro avg       0.25      0.27      0.22       625\n",
      "weighted avg       0.31      0.24      0.26       625\n",
      "\n"
     ]
    },
    {
     "data": {
      "image/png": "[encoded data removed]",
      "text/plain": [
       "<Figure size 432x288 with 1 Axes>"
      ]
     },
     "metadata": {
      "needs_background": "light"
     },
     "output_type": "display_data"
    },
    {
     "data": {
      "image/png": "[encoded data removed]",
      "text/plain": [
       "<Figure size 432x288 with 1 Axes>"
      ]
     },
     "metadata": {
      "needs_background": "light"
     },
     "output_type": "display_data"
    },
    {
     "data": {
      "image/png": "[encoded data removed]",
      "text/plain": [
       "<Figure size 432x288 with 1 Axes>"
      ]
     },
     "metadata": {
      "needs_background": "light"
     },
     "output_type": "display_data"
    },
    {
     "data": {
      "image/png": "[encoded data removed]",
      "text/plain": [
       "<Figure size 432x288 with 1 Axes>"
      ]
     },
     "metadata": {
      "needs_background": "light"
     },
     "output_type": "display_data"
    },
    {
     "data": {
      "image/png": "[encoded data removed]",
      "text/plain": [
       "<Figure size 432x288 with 1 Axes>"
      ]
     },
     "metadata": {
      "needs_background": "light"
     },
     "output_type": "display_data"
    }
   ],
   "source": [
    "from sklearn.metrics import classification_report\n",
    "for i in range(Y.shape[1]):\n",
    "    print('annotator',i+1)\n",
    "    print(classification_report(t,Y[:,i]))\n",
    "    unique, counts = np.unique(Y[:,i], return_counts=True)\n",
    "    plt.figure()\n",
    "    plt.bar(unique, counts)\n",
    "    #     unique, counts = np.unique(Y_test[5], return_counts=True)\n",
    "    #     plt.bar(unique, counts)\n",
    "\n",
    "    plt.title('Class Frequency for Y_true')\n",
    "    plt.xlabel('Class')\n",
    "    plt.ylabel('Frequency')"
   ]
  },
  {
   "cell_type": "markdown",
   "id": "5691d196",
   "metadata": {
    "id": "uudDcV4wHiuI",
    "papermill": {
     "duration": 0.010044,
     "end_time": "2023-02-02T21:26:33.760197",
     "exception": false,
     "start_time": "2023-02-02T21:26:33.750153",
     "status": "completed"
    },
    "tags": []
   },
   "source": [
    "# Split data"
   ]
  },
  {
   "cell_type": "code",
   "execution_count": 11,
   "id": "f7410c0c",
   "metadata": {
    "execution": {
     "iopub.execute_input": "2023-02-02T21:26:33.783390Z",
     "iopub.status.busy": "2023-02-02T21:26:33.782397Z",
     "iopub.status.idle": "2023-02-02T21:26:33.796569Z",
     "shell.execute_reply": "2023-02-02T21:26:33.795020Z"
    },
    "id": "QCxEhJv_3FKN",
    "outputId": "20cf4b24-fde3-4b21-f26a-2809af8f2c5d",
    "papermill": {
     "duration": 0.028768,
     "end_time": "2023-02-02T21:26:33.799336",
     "exception": false,
     "start_time": "2023-02-02T21:26:33.770568",
     "status": "completed"
    },
    "tags": []
   },
   "outputs": [
    {
     "name": "stdout",
     "output_type": "stream",
     "text": [
      "[618 454 423 593 338 404 345 132 150 379  54 386 508 378 242  43 602  11\n",
      " 237 192 520  48 333 543 209 524  82 102 374 142 177 288 171 298 348 131\n",
      " 384 246 470 566 138 353 421 491 320 604 474  85 367 477 527 567  57 548\n",
      " 356 272 164 264 263 481 430 200 437   5 166  35 509 205 156 542 202 120\n",
      " 243 107   9 620 601  78 560 134 422 574 282  59 328 512  31 199 185 568\n",
      " 172 285 396 587 482 611 151 155 297 391  66 275 501 406 502 252 274 266\n",
      "  75 582 383 327  13 600 300 227 310 431 397 162  79 529 335 221 294 614\n",
      " 349 622 488 231 270 514 350  36 446 381 196 577 416 550  34  33 212 588\n",
      " 347 118  15 230 159 429 398  93 217 181 556 190 403 116 336 456 452 170\n",
      " 426 457 368 280  30   0  72 408 277 392 344 234 362  74 511  24 549 273\n",
      "  64 402 268 226 261 575  55 287]\n",
      "(437, 4) (437, 5) (437, 1)\n"
     ]
    }
   ],
   "source": [
    "import numpy.matlib\n",
    "from sklearn.model_selection import  StratifiedShuffleSplit, ShuffleSplit\n",
    "Ns = 1\n",
    "ss = ShuffleSplit(n_splits=Ns, test_size=0.3, random_state =123)\n",
    "for train_index, test_index in ss.split(X):\n",
    "    print(test_index)\n",
    "    X_train, X_test,Y_train,Y_test = X[train_index,:], X[test_index,:],Y[train_index,:], Y[test_index,:]\n",
    "    Y_true_train, Y_true_test = t[train_index].reshape(-1,1), t[test_index].reshape(-1,1)\n",
    "print(X_train.shape, Y_train.shape, Y_true_train.shape)"
   ]
  },
  {
   "cell_type": "code",
   "execution_count": 12,
   "id": "e4ab13f7",
   "metadata": {
    "execution": {
     "iopub.execute_input": "2023-02-02T21:26:33.822553Z",
     "iopub.status.busy": "2023-02-02T21:26:33.821575Z",
     "iopub.status.idle": "2023-02-02T21:26:34.071605Z",
     "shell.execute_reply": "2023-02-02T21:26:34.070697Z"
    },
    "papermill": {
     "duration": 0.264042,
     "end_time": "2023-02-02T21:26:34.073895",
     "exception": false,
     "start_time": "2023-02-02T21:26:33.809853",
     "status": "completed"
    },
    "tags": []
   },
   "outputs": [
    {
     "data": {
      "text/plain": [
       "Text(0, 0.5, 'Frequency')"
      ]
     },
     "execution_count": 12,
     "metadata": {},
     "output_type": "execute_result"
    },
    {
     "data": {
      "image/png": "[encoded data removed]",
      "text/plain": [
       "<Figure size 432x288 with 1 Axes>"
      ]
     },
     "metadata": {
      "needs_background": "light"
     },
     "output_type": "display_data"
    }
   ],
   "source": [
    "unique, counts = np.unique(Y_true_train, return_counts=True)\n",
    "plt.bar(unique, counts)\n",
    "unique, counts = np.unique(Y_true_test, return_counts=True)\n",
    "plt.bar(unique, counts)\n",
    "\n",
    "plt.title('Class Frequency for Y_true')\n",
    "plt.xlabel('Class')\n",
    "plt.ylabel('Frequency')\n"
   ]
  },
  {
   "cell_type": "markdown",
   "id": "4163aee0",
   "metadata": {
    "id": "kgDMRggXHo0X",
    "papermill": {
     "duration": 0.010548,
     "end_time": "2023-02-02T21:26:34.095509",
     "exception": false,
     "start_time": "2023-02-02T21:26:34.084961",
     "status": "completed"
    },
    "tags": []
   },
   "source": [
    "# Apply MinMaxScaler"
   ]
  },
  {
   "cell_type": "code",
   "execution_count": 13,
   "id": "b7d90a08",
   "metadata": {
    "execution": {
     "iopub.execute_input": "2023-02-02T21:26:34.119937Z",
     "iopub.status.busy": "2023-02-02T21:26:34.118555Z",
     "iopub.status.idle": "2023-02-02T21:26:34.126055Z",
     "shell.execute_reply": "2023-02-02T21:26:34.124892Z"
    },
    "id": "33XT7bGs3FKN",
    "papermill": {
     "duration": 0.022366,
     "end_time": "2023-02-02T21:26:34.128677",
     "exception": false,
     "start_time": "2023-02-02T21:26:34.106311",
     "status": "completed"
    },
    "tags": []
   },
   "outputs": [],
   "source": [
    "scaler = MinMaxScaler()\n",
    "scaler.fit(X_train)\n",
    "X_train = scaler.transform(X_train)\n",
    "X_test = scaler.transform(X_test)"
   ]
  },
  {
   "cell_type": "code",
   "execution_count": 14,
   "id": "f1fdb79e",
   "metadata": {
    "execution": {
     "iopub.execute_input": "2023-02-02T21:26:34.153208Z",
     "iopub.status.busy": "2023-02-02T21:26:34.152491Z",
     "iopub.status.idle": "2023-02-02T21:26:34.157282Z",
     "shell.execute_reply": "2023-02-02T21:26:34.156419Z"
    },
    "id": "Ce-Lhs1K3FKO",
    "papermill": {
     "duration": 0.019861,
     "end_time": "2023-02-02T21:26:34.159664",
     "exception": false,
     "start_time": "2023-02-02T21:26:34.139803",
     "status": "completed"
    },
    "tags": []
   },
   "outputs": [],
   "source": [
    "#testing PRI as ground truth -> repeat true labels as multiple annotators\n",
    "Y_true_train_K = np.matlib.repmat(Y_true_train,1, Y_train.shape[1])#testing MA as classifier\n",
    "#print(X_train.shape,Y_true_train_K.shape)\n",
    "# Y_train_one_hot_targets = tf.one_hot(tf.cast(Y_train , tf.int32), len(np.unique(Y_true_test)), axis = 1, dtype=tf.int32)\n",
    "# Y_train_one_hot_targets.shape"
   ]
  },
  {
   "cell_type": "markdown",
   "id": "31b27059",
   "metadata": {
    "id": "pPoaMuiXH-Zm",
    "papermill": {
     "duration": 0.010951,
     "end_time": "2023-02-02T21:26:34.182322",
     "exception": false,
     "start_time": "2023-02-02T21:26:34.171371",
     "status": "completed"
    },
    "tags": []
   },
   "source": [
    "# Testing the Class "
   ]
  },
  {
   "cell_type": "code",
   "execution_count": 15,
   "id": "1182197d",
   "metadata": {
    "execution": {
     "iopub.execute_input": "2023-02-02T21:26:34.206567Z",
     "iopub.status.busy": "2023-02-02T21:26:34.205876Z",
     "iopub.status.idle": "2023-02-02T21:28:04.849332Z",
     "shell.execute_reply": "2023-02-02T21:28:04.848152Z"
    },
    "papermill": {
     "duration": 90.659854,
     "end_time": "2023-02-02T21:28:04.853300",
     "exception": false,
     "start_time": "2023-02-02T21:26:34.193446",
     "status": "completed"
    },
    "tags": []
   },
   "outputs": [
    {
     "name": "stdout",
     "output_type": "stream",
     "text": [
      "iteration: 0\n"
     ]
    },
    {
     "name": "stderr",
     "output_type": "stream",
     "text": [
      "2023-02-02 21:26:34.471890: I tensorflow/core/common_runtime/process_util.cc:146] Creating new thread pool with default inter op setting: 2. Tune using inter_op_parallelism_threads for best performance.\n",
      "2023-02-02 21:26:35.019713: I tensorflow/compiler/mlir/mlir_graph_optimization_pass.cc:185] None of the MLIR Optimization Passes are enabled (registered 2)\n"
     ]
    },
    {
     "name": "stdout",
     "output_type": "stream",
     "text": [
      "Validation ACC: 0.6809\n",
      "Validation aUc: 0.5620\n",
      "Validation Balanced_ACC: 0.2833\n",
      "Validation MI: 0.4677\n",
      "Validation Normalized MI: 0.4959\n",
      "Validation Adjusted MI: 0.4899\n",
      "iteration: 1\n",
      "Validation ACC: 0.6702\n",
      "Validation aUc: 0.5376\n",
      "Validation Balanced_ACC: 0.2446\n",
      "Validation MI: 0.4591\n",
      "Validation Normalized MI: 0.4913\n",
      "Validation Adjusted MI: 0.4851\n",
      "iteration: 2\n",
      "Validation ACC: 0.6968\n",
      "Validation aUc: 0.5549\n",
      "Validation Balanced_ACC: 0.2717\n",
      "Validation MI: 0.5044\n",
      "Validation Normalized MI: 0.5353\n",
      "Validation Adjusted MI: 0.5298\n",
      "iteration: 3\n",
      "Validation ACC: 0.6383\n",
      "Validation aUc: 0.5408\n",
      "Validation Balanced_ACC: 0.2678\n",
      "Validation MI: 0.4487\n",
      "Validation Normalized MI: 0.4748\n",
      "Validation Adjusted MI: 0.4685\n",
      "iteration: 4\n",
      "Validation ACC: 0.6649\n",
      "Validation aUc: 0.5376\n",
      "Validation Balanced_ACC: 0.2391\n",
      "Validation MI: 0.4384\n",
      "Validation Normalized MI: 0.4721\n",
      "Validation Adjusted MI: 0.4656\n",
      "iteration: 5\n",
      "Validation ACC: 0.6117\n",
      "Validation aUc: 0.4942\n",
      "Validation Balanced_ACC: 0.1848\n",
      "Validation MI: 0.3910\n",
      "Validation Normalized MI: 0.4268\n",
      "Validation Adjusted MI: 0.4196\n",
      "iteration: 6\n",
      "Validation ACC: 0.6489\n",
      "Validation aUc: 0.5202\n",
      "Validation Balanced_ACC: 0.2228\n",
      "Validation MI: 0.4384\n",
      "Validation Normalized MI: 0.4710\n",
      "Validation Adjusted MI: 0.4645\n",
      "iteration: 7\n",
      "Validation ACC: 0.6968\n",
      "Validation aUc: 0.6191\n",
      "Validation Balanced_ACC: 0.3554\n",
      "Validation MI: 0.4492\n",
      "Validation Normalized MI: 0.4751\n",
      "Validation Adjusted MI: 0.4689\n",
      "iteration: 8\n",
      "Validation ACC: 0.7128\n",
      "Validation aUc: 0.5723\n",
      "Validation Balanced_ACC: 0.2880\n",
      "Validation MI: 0.5044\n",
      "Validation Normalized MI: 0.5379\n",
      "Validation Adjusted MI: 0.5323\n",
      "iteration: 9\n",
      "Validation ACC: 0.6011\n",
      "Validation aUc: 0.5013\n",
      "Validation Balanced_ACC: 0.2018\n",
      "Validation MI: 0.3861\n",
      "Validation Normalized MI: 0.4194\n",
      "Validation Adjusted MI: 0.4122\n"
     ]
    }
   ],
   "source": [
    "from sklearn.metrics import classification_report, balanced_accuracy_score\n",
    "from sklearn.metrics import normalized_mutual_info_score, mutual_info_score, adjusted_mutual_info_score\n",
    "\n",
    "l1 =0.0001\n",
    "NUM_RUNS =10\n",
    "ACC = np.zeros(NUM_RUNS)\n",
    "AUC = np.zeros(NUM_RUNS)\n",
    "MI = np.zeros(NUM_RUNS)\n",
    "NMI = np.zeros(NUM_RUNS)\n",
    "AMI = np.zeros(NUM_RUNS)\n",
    "BACC = np.zeros(NUM_RUNS)\n",
    "for i in range(NUM_RUNS): #10\n",
    "    print(\"iteration: \" + str(i))\n",
    "   \n",
    "    MA = Keras_MA_CrowdL(epochs=100,batch_size=32,R= Y_train.shape[1], K=len(np.unique(Y_true_test)), dropout=0.5, learning_rate=0.01,optimizer='Adam', \n",
    "                l1_param=l1,  validation_split=0.3, verbose=0)\n",
    "\n",
    "\n",
    "    MA.fit(X_train, Y_train)\n",
    "    #MA.plot_history()\n",
    "  \n",
    "    #Accuracy  \n",
    "    \n",
    "    #estimar etiquetas modelo rodiguez \n",
    "    preds_test_num =  MA.predict2(X_test)\n",
    "    \n",
    "    #Accuracy\n",
    "    report = classification_report(Y_true_test,preds_test_num,output_dict=True)\n",
    "    ACC[i] = report['accuracy']\n",
    "    \n",
    "    print(\"Validation ACC: %.4f\" % (float(report['accuracy']),))\n",
    "    \n",
    "    #AUC\n",
    "    val_AUC_metric = tf.keras.metrics.AUC( from_logits = True)  \n",
    "   # val_logits =MA.predict(X_test) # model(X_test, training=False)\n",
    "    # tf.print(y_batch_val)\n",
    "    val_AUC_metric.update_state(Y_true_test,  preds_test_num.astype('float'))\n",
    "\n",
    "    val_AUC = val_AUC_metric.result()\n",
    "    val_AUC_metric.reset_states()\n",
    "    val_AUC = val_AUC.numpy()\n",
    "    print(\"Validation aUc: %.4f\" % (float(val_AUC),))\n",
    "    AUC[i] = val_AUC\n",
    "    \n",
    "\n",
    "\n",
    "\n",
    "    # balanced. Accurcy\n",
    "    BACC[i] = balanced_accuracy_score(Y_true_test.squeeze(), preds_test_num.squeeze(), adjusted=True)\n",
    "    print(\"Validation Balanced_ACC: %.4f\" % (float(BACC[i])))\n",
    "\n",
    "    #MI\n",
    "    \n",
    "    MI[i] = mutual_info_score(Y_true_test.squeeze(), preds_test_num.squeeze())\n",
    "    print(\"Validation MI: %.4f\" % (float(MI[i]),))\n",
    "    NMI[i] = normalized_mutual_info_score(Y_true_test.squeeze(), preds_test_num.squeeze())\n",
    "    print(\"Validation Normalized MI: %.4f\" % (float(NMI[i]),))\n",
    "    AMI[i]= adjusted_mutual_info_score(Y_true_test.squeeze(), preds_test_num.squeeze())\n",
    "    print(\"Validation Adjusted MI: %.4f\" % (float(AMI[i]),))\n",
    "\n",
    "\n"
   ]
  },
  {
   "cell_type": "code",
   "execution_count": 16,
   "id": "fa5b64f8",
   "metadata": {
    "execution": {
     "iopub.execute_input": "2023-02-02T21:28:04.879945Z",
     "iopub.status.busy": "2023-02-02T21:28:04.879509Z",
     "iopub.status.idle": "2023-02-02T21:28:04.887377Z",
     "shell.execute_reply": "2023-02-02T21:28:04.886110Z"
    },
    "papermill": {
     "duration": 0.023721,
     "end_time": "2023-02-02T21:28:04.890037",
     "exception": false,
     "start_time": "2023-02-02T21:28:04.866316",
     "status": "completed"
    },
    "tags": []
   },
   "outputs": [
    {
     "data": {
      "text/plain": [
       "array([0.68085106, 0.67021277, 0.69680851, 0.63829787, 0.66489362,\n",
       "       0.61170213, 0.64893617, 0.69680851, 0.71276596, 0.60106383])"
      ]
     },
     "execution_count": 16,
     "metadata": {},
     "output_type": "execute_result"
    }
   ],
   "source": [
    "ACC"
   ]
  },
  {
   "cell_type": "code",
   "execution_count": 17,
   "id": "ed24cf16",
   "metadata": {
    "execution": {
     "iopub.execute_input": "2023-02-02T21:28:04.915317Z",
     "iopub.status.busy": "2023-02-02T21:28:04.914914Z",
     "iopub.status.idle": "2023-02-02T21:28:04.922498Z",
     "shell.execute_reply": "2023-02-02T21:28:04.921215Z"
    },
    "papermill": {
     "duration": 0.023202,
     "end_time": "2023-02-02T21:28:04.924980",
     "exception": false,
     "start_time": "2023-02-02T21:28:04.901778",
     "status": "completed"
    },
    "tags": []
   },
   "outputs": [
    {
     "data": {
      "text/plain": [
       "array([0.56204242, 0.53757226, 0.55491328, 0.54084778, 0.53757226,\n",
       "       0.49421963, 0.52023125, 0.61907512, 0.5722543 , 0.50134873])"
      ]
     },
     "execution_count": 17,
     "metadata": {},
     "output_type": "execute_result"
    }
   ],
   "source": [
    "AUC"
   ]
  },
  {
   "cell_type": "code",
   "execution_count": 18,
   "id": "17ae0e68",
   "metadata": {
    "execution": {
     "iopub.execute_input": "2023-02-02T21:28:04.950322Z",
     "iopub.status.busy": "2023-02-02T21:28:04.949899Z",
     "iopub.status.idle": "2023-02-02T21:28:04.956476Z",
     "shell.execute_reply": "2023-02-02T21:28:04.955237Z"
    },
    "papermill": {
     "duration": 0.022585,
     "end_time": "2023-02-02T21:28:04.959505",
     "exception": false,
     "start_time": "2023-02-02T21:28:04.936920",
     "status": "completed"
    },
    "tags": []
   },
   "outputs": [
    {
     "name": "stdout",
     "output_type": "stream",
     "text": [
      "Average Accuracy:  66.22\n",
      "Average std:  3.52\n"
     ]
    }
   ],
   "source": [
    "print('Average Accuracy: ', np.round( ACC.mean(),4)*100) \n",
    "print('Average std: ',np.round(np.std( ACC),4)*100)"
   ]
  },
  {
   "cell_type": "code",
   "execution_count": 19,
   "id": "832652ca",
   "metadata": {
    "execution": {
     "iopub.execute_input": "2023-02-02T21:28:04.985786Z",
     "iopub.status.busy": "2023-02-02T21:28:04.984966Z",
     "iopub.status.idle": "2023-02-02T21:28:04.992758Z",
     "shell.execute_reply": "2023-02-02T21:28:04.991507Z"
    },
    "papermill": {
     "duration": 0.023639,
     "end_time": "2023-02-02T21:28:04.995205",
     "exception": false,
     "start_time": "2023-02-02T21:28:04.971566",
     "status": "completed"
    },
    "tags": []
   },
   "outputs": [
    {
     "name": "stdout",
     "output_type": "stream",
     "text": [
      "Average AUC:  54.400000000000006\n",
      "Average AUC std:  3.44\n"
     ]
    }
   ],
   "source": [
    "print('Average AUC: ', np.round( AUC.mean(),4)*100) \n",
    "print('Average AUC std: ',np.round(np.std( AUC),4)*100)"
   ]
  },
  {
   "cell_type": "code",
   "execution_count": 20,
   "id": "41a3b7a1",
   "metadata": {
    "execution": {
     "iopub.execute_input": "2023-02-02T21:28:05.021115Z",
     "iopub.status.busy": "2023-02-02T21:28:05.020352Z",
     "iopub.status.idle": "2023-02-02T21:28:05.026929Z",
     "shell.execute_reply": "2023-02-02T21:28:05.025672Z"
    },
    "papermill": {
     "duration": 0.022443,
     "end_time": "2023-02-02T21:28:05.029561",
     "exception": false,
     "start_time": "2023-02-02T21:28:05.007118",
     "status": "completed"
    },
    "tags": []
   },
   "outputs": [
    {
     "name": "stdout",
     "output_type": "stream",
     "text": [
      "Average Balanced Accuracy:  25.590000000000003\n",
      "Average std:  4.64\n"
     ]
    }
   ],
   "source": [
    "print('Average Balanced Accuracy: ', np.round( BACC.mean(),4)*100) \n",
    "print('Average std: ',np.round(np.std( BACC),4)*100)"
   ]
  },
  {
   "cell_type": "code",
   "execution_count": 21,
   "id": "8e2c4b96",
   "metadata": {
    "execution": {
     "iopub.execute_input": "2023-02-02T21:28:05.055189Z",
     "iopub.status.busy": "2023-02-02T21:28:05.054793Z",
     "iopub.status.idle": "2023-02-02T21:28:05.062123Z",
     "shell.execute_reply": "2023-02-02T21:28:05.060884Z"
    },
    "papermill": {
     "duration": 0.022948,
     "end_time": "2023-02-02T21:28:05.064651",
     "exception": false,
     "start_time": "2023-02-02T21:28:05.041703",
     "status": "completed"
    },
    "tags": []
   },
   "outputs": [
    {
     "name": "stdout",
     "output_type": "stream",
     "text": [
      "Average MI:  44.87\n",
      "Average std:  3.7600000000000002\n"
     ]
    }
   ],
   "source": [
    "print('Average MI: ', np.round( MI.mean(),4)*100) \n",
    "print('Average std: ',np.round(np.std(MI),4)*100)"
   ]
  },
  {
   "cell_type": "code",
   "execution_count": 22,
   "id": "592ef519",
   "metadata": {
    "execution": {
     "iopub.execute_input": "2023-02-02T21:28:05.090846Z",
     "iopub.status.busy": "2023-02-02T21:28:05.090348Z",
     "iopub.status.idle": "2023-02-02T21:28:05.096221Z",
     "shell.execute_reply": "2023-02-02T21:28:05.095194Z"
    },
    "papermill": {
     "duration": 0.022686,
     "end_time": "2023-02-02T21:28:05.099484",
     "exception": false,
     "start_time": "2023-02-02T21:28:05.076798",
     "status": "completed"
    },
    "tags": []
   },
   "outputs": [
    {
     "name": "stdout",
     "output_type": "stream",
     "text": [
      "Average Normalized MI:  48.0\n",
      "Average std:  3.6700000000000004\n"
     ]
    }
   ],
   "source": [
    "print('Average Normalized MI: ', np.round( NMI.mean(),4)*100) \n",
    "print('Average std: ',np.round(np.std(NMI),4)*100)"
   ]
  },
  {
   "cell_type": "code",
   "execution_count": 23,
   "id": "e83fa8f2",
   "metadata": {
    "execution": {
     "iopub.execute_input": "2023-02-02T21:28:05.126480Z",
     "iopub.status.busy": "2023-02-02T21:28:05.126070Z",
     "iopub.status.idle": "2023-02-02T21:28:05.133399Z",
     "shell.execute_reply": "2023-02-02T21:28:05.131955Z"
    },
    "papermill": {
     "duration": 0.023615,
     "end_time": "2023-02-02T21:28:05.136185",
     "exception": false,
     "start_time": "2023-02-02T21:28:05.112570",
     "status": "completed"
    },
    "tags": []
   },
   "outputs": [
    {
     "name": "stdout",
     "output_type": "stream",
     "text": [
      "Average Ajdusted MI:  47.36\n",
      "Average std:  3.7199999999999998\n"
     ]
    }
   ],
   "source": [
    "print('Average Ajdusted MI: ', np.round( AMI.mean(),4)*100) \n",
    "print('Average std: ',np.round(np.std(AMI),4)*100)"
   ]
  }
 ],
 "metadata": {
  "kernelspec": {
   "display_name": "Python 3",
   "language": "python",
   "name": "python3"
  },
  "language_info": {
   "codemirror_mode": {
    "name": "ipython",
    "version": 3
   },
   "file_extension": ".py",
   "mimetype": "text/x-python",
   "name": "python",
   "nbconvert_exporter": "python",
   "pygments_lexer": "ipython3",
   "version": "3.7.12"
  },
  "papermill": {
   "default_parameters": {},
   "duration": 117.391648,
   "end_time": "2023-02-02T21:28:08.114320",
   "environment_variables": {},
   "exception": null,
   "input_path": "__notebook__.ipynb",
   "output_path": "__notebook__.ipynb",
   "parameters": {},
   "start_time": "2023-02-02T21:26:10.722672",
   "version": "2.3.4"
  }
 },
 "nbformat": 4,
 "nbformat_minor": 5
}
