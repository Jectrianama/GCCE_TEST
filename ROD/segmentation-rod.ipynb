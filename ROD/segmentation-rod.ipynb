{
 "cells": [
  {
   "cell_type": "markdown",
   "id": "f9159cbb",
   "metadata": {
    "id": "Cy45HoPn5SpZ",
    "papermill": {
     "duration": 0.008248,
     "end_time": "2023-02-03T12:06:09.396545",
     "exception": false,
     "start_time": "2023-02-03T12:06:09.388297",
     "status": "completed"
    },
    "tags": []
   },
   "source": [
    "# Loss function Rodrigues\n",
    "\n",
    "$𝒟 = \\{ \\mathbf{x}_n, \\mathbf{y}_n\\}$ be a dataset of size $N$\n",
    "\n",
    "$\\mathbf{x}_n \\in \\mathbb{R}^D$\n",
    "\n",
    "${\\mathbf{y}}^r_n\\in[0,1]^K$:   label provided for the r-th annotator in a set of R annotators\n",
    "\n",
    "$𝒛_n$ Latent true class determined by a softmax output layer  of a DNN\n",
    "\n",
    "\n",
    "$\\mathbf{\\sigma}\\in \\mathbb{R} ^Q$: DNN-based feature representation. correspond to the output of a softmax layer\n",
    "\n",
    "$\\hat{\\mathbf{y}}^r_n = f_r(\\sigma)\\in[0,1]^{1 \\times K}$\n",
    "\n",
    "$\\hat{\\mathbf{y}}_n=[\\hat{\\mathbf{y}}^1_n,\\hat{\\mathbf{y}}^2_n,\\dots,\\hat{\\mathbf{y}}^R_n]\\in [0,1]^{1\\times (R\\times K)}$\n",
    "\n",
    "Activation of the crowd layer for each anotator  $ \\mathbf{a}^r = f_r(\\sigma)$, where $f_r$ is an annotator-specific function, and the output of the crowd layer simply as the softmax of the\n",
    "activations $o_c^r = e^{a_c^r}/\\sum_{l=1}^{C}e^{a_l^r}$.\n",
    "\n",
    "\n",
    " $f_r(\\sigma)= \\mathbf{W}^r\\mathbf{\\sigma}$\n",
    "\n",
    " $\\mathbf{W}^r$ is an annotator-specific matrix\n",
    "\n",
    " **Cost function**\n",
    "\n",
    " $E(\\mathbf{o}^r, y^r)$\n",
    " between the expected output of the r-th annotator and its actual label $y^r$,\n",
    "\n",
    "Then, \n",
    "\n",
    "if we make. $\\lambda_n^r(\\theta) = \\mathbf{1}$ in PRI loss\n",
    "\n",
    "\n",
    "\n",
    "$$\\min_\\theta \\sum_n\\left(\\sum_r \\lambda_n^r(\\theta)H({\\mathbf{y}}^r_n;\\hat{\\mathbf{y}}_n(\\theta))\\right)+\\left(H(\\hat{\\mathbf{y}}_n(\\theta))\\sum_r\\left(1-\\lambda_n^r(\\theta)\\right)\\right)$$\n",
    "\n",
    " \n",
    "we can obtain rodriguez\n",
    "\n",
    "\n",
    "$$\\min_\\theta \\sum_n\\left(\\sum_r (\\mathbf{1})H({\\mathbf{y}}^r_n;\\hat{\\mathbf{y}}_n(\\theta))\\right)+\\left(H(\\hat{\\mathbf{y}}_n(\\theta))\\sum_r\\left(1-\\mathbf{1}\\right)\\right)$$"
   ]
  },
  {
   "cell_type": "code",
   "execution_count": 1,
   "id": "a5cf792c",
   "metadata": {
    "execution": {
     "iopub.execute_input": "2023-02-03T12:06:09.412286Z",
     "iopub.status.busy": "2023-02-03T12:06:09.411802Z",
     "iopub.status.idle": "2023-02-03T12:06:09.418449Z",
     "shell.execute_reply": "2023-02-03T12:06:09.417249Z"
    },
    "id": "Htu1kN9-jZO1",
    "papermill": {
     "duration": 0.017833,
     "end_time": "2023-02-03T12:06:09.421339",
     "exception": false,
     "start_time": "2023-02-03T12:06:09.403506",
     "status": "completed"
    },
    "tags": []
   },
   "outputs": [],
   "source": [
    "#!pip install tensorflow==2.7.0\n",
    "#!pip install scikeras"
   ]
  },
  {
   "cell_type": "code",
   "execution_count": 2,
   "id": "4ddbdb7b",
   "metadata": {
    "execution": {
     "iopub.execute_input": "2023-02-03T12:06:09.437140Z",
     "iopub.status.busy": "2023-02-03T12:06:09.436674Z",
     "iopub.status.idle": "2023-02-03T12:06:16.533886Z",
     "shell.execute_reply": "2023-02-03T12:06:16.532178Z"
    },
    "id": "Gw-I1LpOjkw3",
    "outputId": "ebc8e065-e200-4131-fc8b-2ae9efe8d1d7",
    "papermill": {
     "duration": 7.108473,
     "end_time": "2023-02-03T12:06:16.536715",
     "exception": false,
     "start_time": "2023-02-03T12:06:09.428242",
     "status": "completed"
    },
    "tags": []
   },
   "outputs": [
    {
     "name": "stdout",
     "output_type": "stream",
     "text": [
      "--2023-02-03 12:06:10--  https://docs.google.com/uc?export=download&confirm=t&id=1SQnWXGROG2Xexs5vn3twuv7SqiWG5njW\r\n",
      "Resolving docs.google.com (docs.google.com)... 173.194.213.113, 173.194.213.102, 173.194.213.138, ...\r\n",
      "Connecting to docs.google.com (docs.google.com)|173.194.213.113|:443... connected.\r\n",
      "HTTP request sent, awaiting response... 303 See Other\r\n",
      "Location: https://doc-00-90-docs.googleusercontent.com/docs/securesc/ha0ro937gcuc7l7deffksulhg5h7mbp1/u0d48brr9ntdof5lpvd9eg4o3k4bu39c/1675425900000/07591141114418430227/*/1SQnWXGROG2Xexs5vn3twuv7SqiWG5njW?e=download&uuid=0eb212ca-ef91-4d29-9e4b-fe142a51f035 [following]\r\n",
      "Warning: wildcards not supported in HTTP.\r\n",
      "--2023-02-03 12:06:10--  https://doc-00-90-docs.googleusercontent.com/docs/securesc/ha0ro937gcuc7l7deffksulhg5h7mbp1/u0d48brr9ntdof5lpvd9eg4o3k4bu39c/1675425900000/07591141114418430227/*/1SQnWXGROG2Xexs5vn3twuv7SqiWG5njW?e=download&uuid=0eb212ca-ef91-4d29-9e4b-fe142a51f035\r\n",
      "Resolving doc-00-90-docs.googleusercontent.com (doc-00-90-docs.googleusercontent.com)... 173.194.211.132, 2607:f8b0:400c:c07::84\r\n",
      "Connecting to doc-00-90-docs.googleusercontent.com (doc-00-90-docs.googleusercontent.com)|173.194.211.132|:443... connected.\r\n",
      "HTTP request sent, awaiting response... 200 OK\r\n",
      "Length: 156530728 (149M) [application/zip]\r\n",
      "Saving to: ‘MADatasets.zip’\r\n",
      "\r\n",
      "MADatasets.zip      100%[===================>] 149.28M   208MB/s    in 0.7s    \r\n",
      "\r\n",
      "2023-02-03 12:06:11 (208 MB/s) - ‘MADatasets.zip’ saved [156530728/156530728]\r\n",
      "\r\n",
      "Archive:  MADatasets.zip\r\n",
      "  inflating: MADatasets/util.py      \r\n",
      "  inflating: MADatasets/Iris1.mat    \r\n",
      "  inflating: MADatasets/Integra_Labels.mat  \r\n",
      "  inflating: MADatasets/MAGenerationClassification.py  \r\n",
      "  inflating: MADatasets/Voice.mat    \r\n",
      "  inflating: MADatasets/Iris.mat     \r\n",
      "  inflating: MADatasets/Sinthetic.mat  \r\n",
      "  inflating: MADatasets/MAGenerationClassification_1.py  \r\n",
      "  inflating: MADatasets/Bupa1.mat    \r\n",
      "  inflating: MADatasets/TicTacToe1.mat  \r\n",
      "  inflating: MADatasets/Wine.mat     \r\n",
      "  inflating: MADatasets/Breast1.mat  \r\n",
      "  inflating: MADatasets/Breast.mat   \r\n",
      "  inflating: MADatasets/Music.mat    \r\n",
      "  inflating: MADatasets/Pima.mat     \r\n",
      "  inflating: MADatasets/Ionosphere.mat  \r\n",
      "  inflating: MADatasets/TicTacToe.mat  \r\n",
      "  inflating: MADatasets/VoiceData.m  \r\n",
      "  inflating: MADatasets/util_1.py    \r\n",
      "  inflating: MADatasets/Ionosphere1.mat  \r\n",
      "  inflating: MADatasets/__pycache__/util_1.cpython-37.pyc  \r\n",
      "  inflating: MADatasets/Bupa.mat     \r\n",
      "  inflating: MADatasets/Wine1.mat    \r\n",
      "  inflating: MADatasets/__pycache__/util.cpython-37.pyc  \r\n",
      "  inflating: MADatasets/Pima1.mat    \r\n",
      "  inflating: MADatasets/Segmentation1.mat  \r\n",
      "  inflating: MADatasets/Western.mat  \r\n",
      "  inflating: MADatasets/Integra_Preprocesamiento_Seg_Caracterizacion_time_frec.mat  \r\n",
      "  inflating: MADatasets/Western1.mat  \r\n",
      "  inflating: MADatasets/Segmentation.mat  \r\n",
      "  inflating: MADatasets/Skin_NonSkin.mat  \r\n",
      "  inflating: MADatasets/Skin_NonSkin1.mat  \r\n",
      "  inflating: MADatasets/Occupancy1.mat  \r\n",
      "  inflating: MADatasets/Polarity.mat  \r\n",
      "  inflating: MADatasets/Occupancy.mat  \r\n",
      "MADatasets  MADatasets.zip  __notebook__.ipynb\r\n"
     ]
    }
   ],
   "source": [
    "#cargar datos desde drive acceso libre\n",
    "FILEID = \"1SQnWXGROG2Xexs5vn3twuv7SqiWG5njW\"\n",
    "#https://drive.google.com/file/d/1SQnWXGROG2Xexs5vn3twuv7SqiWG5njW/view?usp=sharing\n",
    "!wget --load-cookies /tmp/cookies.txt \"https://docs.google.com/uc?export=download&confirm=$(wget --quiet --save-cookies /tmp/cookies.txt --keep-session-cookies --no-check-certificate 'https://docs.google.com/uc?export=download&id='$FILEID -O- | sed -rn 's/.*confirm=([0-9A-Za-z_]+).*/\\1\\n/p')&id=\"$FILEID -O MADatasets.zip && rm -rf /tmp/cookies.txt\n",
    "!unzip -o MADatasets.zip\n",
    "!dir"
   ]
  },
  {
   "cell_type": "markdown",
   "id": "b32991cc",
   "metadata": {
    "id": "lYGUr8mv4EuV",
    "papermill": {
     "duration": 0.007663,
     "end_time": "2023-02-03T12:06:16.552846",
     "exception": false,
     "start_time": "2023-02-03T12:06:16.545183",
     "status": "completed"
    },
    "tags": []
   },
   "source": [
    "# Subclassing for Crowdlayer Rodriguez"
   ]
  },
  {
   "cell_type": "code",
   "execution_count": 3,
   "id": "acc19b47",
   "metadata": {
    "execution": {
     "iopub.execute_input": "2023-02-03T12:06:16.571751Z",
     "iopub.status.busy": "2023-02-03T12:06:16.570990Z",
     "iopub.status.idle": "2023-02-03T12:06:27.163172Z",
     "shell.execute_reply": "2023-02-03T12:06:27.161704Z"
    },
    "id": "p5fJiVgC3FKO",
    "papermill": {
     "duration": 10.605868,
     "end_time": "2023-02-03T12:06:27.166917",
     "exception": false,
     "start_time": "2023-02-03T12:06:16.561049",
     "status": "completed"
    },
    "tags": []
   },
   "outputs": [],
   "source": [
    "# -*- coding: utf-8 -*-\n",
    "import tensorflow as tf\n",
    "import matplotlib.pyplot as plt\n",
    "#from tensorflow.keras.wrappers.scikit_learn import KerasClassifier\n",
    "import tensorflow_probability as tfp\n",
    "from tensorflow.keras import regularizers\n",
    "from sklearn.base import  BaseEstimator, TransformerMixin, ClassifierMixin\n",
    "from sklearn.model_selection import train_test_split\n",
    "tf.keras.backend.clear_session()\n",
    "#tf.random.set_seed(42)\n",
    "import types\n",
    "import tempfile\n",
    "class Keras_MA_CrowdL(): #transformer no va\n",
    " #Constructor __init__. Special method: identified by a double underscore at either side of their name\n",
    " #work in the background\n",
    " # initialize data members to the object. lets the class initialize the object’s attributes and serves no other purpose.\n",
    "    def __init__(self,epochs=70,batch_size=30,R=5, K=2, dropout=0.5, learning_rate=1e-3,optimizer='Adam', \n",
    "                  l1_param=0, validation_split=0.3, verbose=0):\n",
    "        #print('init')\n",
    "        self.epochs=epochs\n",
    "        self.dropout=dropout\n",
    "        self.batch_size = batch_size\n",
    "        self.learning_rate=learning_rate \n",
    "        self.l1_param=l1_param \n",
    "        self.l2_param=l1_param\n",
    "        self.validation_split = validation_split\n",
    "        self.verbose = verbose\n",
    "        self.optimizer = optimizer\n",
    "        self.R=R\n",
    "        self.K=K\n",
    "\n",
    "    \n",
    " \n",
    "    def custom_CLR_loss(self, y_true, y_pred): #ytrue \\in N x R,  ypred \\in N x K x R  ->CrowdLayerRodriguez\n",
    "        #print(y_true.shape)\n",
    "        Y_true_1K = tf.one_hot(tf.cast(y_true,dtype=tf.int32),depth=self.K,axis=1) #samples, classes 1-K, annotators\n",
    "        #print(Y_true_1K.shape)    \n",
    "        vec = tf.nn.softmax_cross_entropy_with_logits(logits=y_pred, labels=Y_true_1K, axis = 1)\n",
    "        #print(vec.shape)\n",
    "        #mask = tf.equal(Y_true_1K[:,0,:], -1)\n",
    "        #zer = tf.zeros_like(vec)\n",
    "        #loss = tf.where(mask, x=zer, y=vec)\n",
    "        #tf.print(\"loss\", loss)\n",
    "        return tf.math.reduce_sum(vec)\n",
    "\n",
    " \n",
    "    def fit(self, X, Y):\n",
    "        P = X.shape[1]\n",
    "        if self.optimizer == \"Adam\":\n",
    "            opt = tf.keras.optimizers.Adam(learning_rate=self.learning_rate)\n",
    "        elif self.optimizer == \"SGD\":\n",
    "            opt = tf.keras.optimizers.SGD(learning_rate=self.learning_rate)\n",
    "        else:\n",
    "            opt=self.optimizer\n",
    "\n",
    "        #capa de entrada\n",
    "        input_l = tf.keras.layers.Input(shape=(X.shape[1]), name='entrada')\n",
    "        #capas densas\n",
    "        h1 = tf.keras.layers.Dense(int(P*4*(self.K+self.R)),activation='selu',name='h1',\n",
    "                              kernel_regularizer=tf.keras.regularizers.l1_l2(l1=self.l1_param,l2=self.l2_param))(input_l)#argumento de entrada\n",
    "        h2 = tf.keras.layers.Dense(int(P*(self.K+self.R)),activation='selu',name='h2',\n",
    "                              kernel_regularizer=tf.keras.regularizers.l1_l2(l1=self.l1_param,l2=self.l2_param))(h1)\n",
    "        dout = tf.keras.layers.Dropout(rate=self.dropout)(h2)\n",
    "        output_dense = tf.keras.layers.Dense(self.K,activation=\"softmax\",name='output',\n",
    "                               kernel_regularizer=tf.keras.regularizers.l1_l2(l1=self.l1_param,l2=self.l2_param))(dout)\n",
    "        output= CrowdsClassification(self.K, self.R, conn_type=\"MW\")(output_dense) #Classes x Annotators\n",
    "        self.model = tf.keras.Model(inputs= input_l,outputs=output)\n",
    "        self.model.compile(loss= self.custom_CLR_loss, optimizer=opt)\n",
    "        self.history = self.model.fit(X, Y, epochs=self.epochs, validation_split= self.validation_split,   #\n",
    "                                      batch_size=self.batch_size,verbose=self.verbose)\n",
    "        #model_p  to predict labels in gridsearch  \n",
    "        self.model_p = tf.keras.Model(inputs=self.model.inputs,outputs=self.model.get_layer('output').output) #se accede a capas por nombre\n",
    "        #resumen y gráfica del modelo\n",
    "        #print(self.model.summary())\n",
    "        \n",
    "        return self\n",
    "\n",
    "    def predict2(self, X, *_):\n",
    "      return  np.argmax(self.model_p.predict(X), axis=1)    \n",
    "     \n",
    "    def predict(self, X, *_):\n",
    "\n",
    "       #print('predict') \n",
    "       return  self.model.predict(X) \n",
    "\n",
    "    def fit_predict(self,X,y):\n",
    "        #input X numpy array first dimension samples (N)x features (P)\n",
    "        #input Y numpy array vector len = samples (N) x  annotators (R)\n",
    "        \n",
    "        self.fit(X,y)\n",
    "        return self.predict(X)\n",
    "  \n",
    "     #graphics\n",
    "    def plot_history(self):\n",
    "        pd.DataFrame(self.history.history).plot(figsize=(8, 5))\n",
    "        plt.grid(True)\n",
    "        #plt.gca().set_ylim(0, 1)\n",
    "        #save_fig(\"keras_learning_curves_plot\")\n",
    "        plt.show()\n",
    "        return\n",
    "    \n",
    "    def set_params(self, **parameters):\n",
    "        #print('set_params') \n",
    "        for parameter, value in parameters.items():\n",
    "            setattr(self, parameter, value)\n",
    "\n",
    "        return self\n",
    "    \n",
    "    \n",
    "    \n",
    "    def get_params(self, deep=True):\n",
    "        #print('get_params') \n",
    "        return { 'l1_param':self.l1_param, 'dropout':self.dropout, 'optimizer':self.optimizer,\n",
    "                'learning_rate':self.learning_rate, 'batch_size':self.batch_size,\n",
    "                'epochs':self.epochs, 'verbose':self.verbose, 'validation_split':self.validation_split,\n",
    "                'R':self.R, 'K':self.K\n",
    "                }"
   ]
  },
  {
   "cell_type": "markdown",
   "id": "a91388de",
   "metadata": {
    "id": "b9yV0N4v4U_3",
    "papermill": {
     "duration": 0.007853,
     "end_time": "2023-02-03T12:06:27.186877",
     "exception": false,
     "start_time": "2023-02-03T12:06:27.179024",
     "status": "completed"
    },
    "tags": []
   },
   "source": [
    "# Crowdlayer class"
   ]
  },
  {
   "cell_type": "code",
   "execution_count": 4,
   "id": "178766c2",
   "metadata": {
    "execution": {
     "iopub.execute_input": "2023-02-03T12:06:27.205249Z",
     "iopub.status.busy": "2023-02-03T12:06:27.204602Z",
     "iopub.status.idle": "2023-02-03T12:06:27.237617Z",
     "shell.execute_reply": "2023-02-03T12:06:27.236443Z"
    },
    "id": "4ysb7umL3FKN",
    "papermill": {
     "duration": 0.045603,
     "end_time": "2023-02-03T12:06:27.240498",
     "exception": false,
     "start_time": "2023-02-03T12:06:27.194895",
     "status": "completed"
    },
    "tags": []
   },
   "outputs": [],
   "source": [
    " \n",
    "import numpy as np\n",
    "import tensorflow as tf\n",
    "import tensorflow.keras as keras\n",
    "from tensorflow.keras import backend as K1\n",
    "from tensorflow.keras.layers import Layer\n",
    "#from tensorflow.keras.engine.topology import Layer\n",
    "\n",
    "def init_identities(shape, dtype=None):\n",
    "    out = np.zeros(shape)\n",
    "    for r in range(shape[2]):\n",
    "        for i in range(shape[0]):\n",
    "            out[i,i,r] = 1.0\n",
    "    return out\n",
    "    \n",
    "class CrowdsClassification(Layer):\n",
    "\n",
    "\n",
    "  \n",
    "  #The build() method’s role is to create the layer’s variables, by calling the \n",
    "  #add_weight() method for each weight.  which is often necessary to create some of the weights.\n",
    "  #we need to know the number of neurons in the previous layer in order to create the connection weights matrix (i.e., the \"kernel\"): \n",
    "  #this corresponds to the size of the last dimension of the inputs. \n",
    "   \n",
    "    def __init__(self, output_dim, num_annotators, conn_type=\"MW\", **kwargs):\n",
    "        self.output_dim = output_dim\n",
    "        self.num_annotators = num_annotators\n",
    "        self.conn_type = conn_type\n",
    "        super(CrowdsClassification, self).__init__(**kwargs)\n",
    "\n",
    "\n",
    "\n",
    "    def build(self, input_shape):\n",
    "        if self.conn_type == \"MW\":\n",
    "            # matrix of weights per annotator\n",
    "      #A layer is a callable object that takes as input one or more tensors and that outputs one or more tensors. \n",
    "      #It involves computation, defined in the call() method, and a state (weight variables). \n",
    "      #the method add_weight() offers a shortcut to create weights.\n",
    "\n",
    "            self.kernel = self.add_weight(\"CrowdLayer\", (self.output_dim, self.output_dim, self.num_annotators),\n",
    "                                            initializer=init_identities, #It is the stated initializer instance\n",
    "                                            trainable=True) # trainable weights, updated via backpropagation during training\n",
    "        elif self.conn_type == \"VW\":\n",
    "            # vector of weights (one scale per class) per annotator\n",
    "            self.kernel = self.add_weight(\"CrowdLayer\", (self.output_dim, self.num_annotators),\n",
    "                                            initializer=keras.initializers.Ones(), \n",
    "                                            trainable=True)\n",
    "        elif self.conn_type == \"VB\":\n",
    "            # two vectors of weights (one scale and one bias per class) per annotator\n",
    "            self.kernel = []\n",
    "            self.kernel.append(self.add_weight(\"CrowdLayer\", (self.output_dim, self.num_annotators),\n",
    "                                            initializer=keras.initializers.Zeros(),\n",
    "                                            trainable=True))\n",
    "        elif self.conn_type == \"VW+B\":\n",
    "            # two vectors of weights (one scale and one bias per class) per annotator\n",
    "            self.kernel = []\n",
    "            self.kernel.append(self.add_weight(\"CrowdLayer\", (self.output_dim, self.num_annotators),\n",
    "                                            initializer=keras.initializers.Ones(),\n",
    "                                            trainable=True))\n",
    "            self.kernel.append(self.add_weight(\"CrowdLayer\", (self.output_dim, self.num_annotators),\n",
    "                                            initializer=keras.initializers.Zeros(),\n",
    "                                            trainable=True))\n",
    "        elif self.conn_type == \"SW\":\n",
    "            # single weight value per annotator\n",
    "            self.kernel = self.add_weight(\"CrowdLayer\", (self.num_annotators,1),\n",
    "                                            initializer=keras.initializers.Ones(),\n",
    "                                            trainable=True)\n",
    "        else:\n",
    "            raise Exception(\"Unknown connection type for CrowdsClassification layer!\")\n",
    "    #At the end of the build() method (and only at the end), \n",
    "    #you must call the parent’s build() method: this tells Keras that the layer is built (it just sets self.built = True).\n",
    "        super(CrowdsClassification, self).build(input_shape)  # Be sure to call this somewhere!\n",
    "\n",
    "    def call(self, x):\n",
    "    \n",
    "    #The call() method actually performs the desired operations. In this case, \n",
    "    #we compute the matrix multiplication of the inputs X and the layer’s kernel and \n",
    "    #this gives us the output of the layer.\n",
    "     \n",
    " \n",
    "\n",
    "        if self.conn_type == \"MW\":\n",
    "            res = K1.dot(x, self.kernel)\n",
    "        elif self.conn_type == \"VW\" or self.conn_type == \"VB\" or self.conn_type == \"VW+B\" or self.conn_type == \"SW\":\n",
    "            out = []\n",
    "            for r in range(self.num_annotators):\n",
    "                if self.conn_type == \"VW\":\n",
    "                    out.append(x * self.kernel[:,r])\n",
    "                elif self.conn_type == \"VB\":\n",
    "                    out.append(x + self.kernel[0][:,r])\n",
    "                elif self.conn_type == \"VW+B\":\n",
    "                    out.append(x * self.kernel[0][:,r] + self.kernel[1][:,r])\n",
    "                elif self.conn_type == \"SW\":\n",
    "                    out.append(x * self.kernel[r,0])\n",
    "            res = tf.stack(out)\n",
    "            if len(res.shape) == 3:\n",
    "                res = tf.transpose(res, [1, 2, 0])\n",
    "            elif len(res.shape) == 4:\n",
    "                res = tf.transpose(res, [1, 2, 3, 0])\n",
    "            else:\n",
    "                raise Exception(\"Wrong number of dimensions for output\")\n",
    "        else:\n",
    "            raise Exception(\"Unknown connection type for CrowdsClassification layer!\") \n",
    "        \n",
    "        return res\n",
    " \n",
    "#The compute_output_shape() method simply returns the shape of this layer’s outputs. \n",
    "#In this case, it is the same shape as the inputs, except the last two dimensions is replaced \n",
    "#with the number of clases and # annotators in the layer.  \n",
    " \n",
    "\n",
    "    def compute_output_shape(self, input_shape):\n",
    "        return (input_shape[0], self.output_dim, self.num_annotators)"
   ]
  },
  {
   "cell_type": "markdown",
   "id": "e55c05c9",
   "metadata": {
    "id": "xKzPN5lnHO13",
    "papermill": {
     "duration": 0.007481,
     "end_time": "2023-02-03T12:06:27.256519",
     "exception": false,
     "start_time": "2023-02-03T12:06:27.249038",
     "status": "completed"
    },
    "tags": []
   },
   "source": [
    "# Load Data"
   ]
  },
  {
   "cell_type": "code",
   "execution_count": 5,
   "id": "9cf3ecb6",
   "metadata": {
    "execution": {
     "iopub.execute_input": "2023-02-03T12:06:27.274438Z",
     "iopub.status.busy": "2023-02-03T12:06:27.274020Z",
     "iopub.status.idle": "2023-02-03T12:06:27.325341Z",
     "shell.execute_reply": "2023-02-03T12:06:27.324062Z"
    },
    "id": "hA1QFlPBjpbA",
    "outputId": "db5be05d-1fdc-4725-8064-5dc79e7a9a6a",
    "papermill": {
     "duration": 0.063466,
     "end_time": "2023-02-03T12:06:27.327801",
     "exception": false,
     "start_time": "2023-02-03T12:06:27.264335",
     "status": "completed"
    },
    "tags": []
   },
   "outputs": [
    {
     "data": {
      "text/plain": [
       "dict_keys(['__header__', '__version__', '__globals__', 'X', 'y', 'Y', 'iAnn', 'Exp', 'idxtr', 'idxte'])"
      ]
     },
     "execution_count": 5,
     "metadata": {},
     "output_type": "execute_result"
    }
   ],
   "source": [
    "#load data\n",
    "import scipy.io as sio\n",
    "import matplotlib.pyplot as plt\n",
    "import pandas as pd\n",
    "import tensorflow as tf #importar tensorflow\n",
    "from sklearn.model_selection import GridSearchCV, RandomizedSearchCV\n",
    "from sklearn.preprocessing import StandardScaler,MinMaxScaler\n",
    "import numpy as np\n",
    " \n",
    "database = 'Segmentation' #['bupa1', 'breast-cancer-wisconsin1','pima-indians-diabetes1', 'ionosphere1', 'tic-tac-toe1', 'iris1', 'wine1', 'segmentation1']\n",
    "\n",
    "\n",
    "path_ = 'MADatasets/'+ database+ '.mat' \n",
    "Xdata = sio.loadmat(path_)\n",
    "Xdata.keys()"
   ]
  },
  {
   "cell_type": "code",
   "execution_count": 6,
   "id": "31c478e6",
   "metadata": {
    "execution": {
     "iopub.execute_input": "2023-02-03T12:06:27.345674Z",
     "iopub.status.busy": "2023-02-03T12:06:27.345292Z",
     "iopub.status.idle": "2023-02-03T12:06:27.351607Z",
     "shell.execute_reply": "2023-02-03T12:06:27.350439Z"
    },
    "id": "Hqmwm8kJj7HL",
    "papermill": {
     "duration": 0.018231,
     "end_time": "2023-02-03T12:06:27.354085",
     "exception": false,
     "start_time": "2023-02-03T12:06:27.335854",
     "status": "completed"
    },
    "tags": []
   },
   "outputs": [
    {
     "name": "stdout",
     "output_type": "stream",
     "text": [
      "X (2310, 18) t (2310,) Y (2310, 5)\n"
     ]
    }
   ],
   "source": [
    "#heads = data['MAData'].dtype\n",
    "# X = Xdata['MAData']['X'][0,0]\n",
    "# t = Xdata['MAData']['t'][0,0]\n",
    "# Y = Xdata['MAData']['Y1'][0,0]\n",
    "\n",
    "X = Xdata['X']\n",
    "# Xte = Xdata['Xte']\n",
    "Y = Xdata['Y']\n",
    "t = Xdata['y'].reshape(-1)\n",
    "print('X',X.shape,'t',t.shape,'Y',Y.shape)"
   ]
  },
  {
   "cell_type": "code",
   "execution_count": 7,
   "id": "8d7d86b4",
   "metadata": {
    "execution": {
     "iopub.execute_input": "2023-02-03T12:06:27.372256Z",
     "iopub.status.busy": "2023-02-03T12:06:27.371823Z",
     "iopub.status.idle": "2023-02-03T12:06:27.380047Z",
     "shell.execute_reply": "2023-02-03T12:06:27.378695Z"
    },
    "id": "xnqtxG_x3FKL",
    "papermill": {
     "duration": 0.020736,
     "end_time": "2023-02-03T12:06:27.382880",
     "exception": false,
     "start_time": "2023-02-03T12:06:27.362144",
     "status": "completed"
    },
    "tags": []
   },
   "outputs": [
    {
     "data": {
      "text/plain": [
       "array([1, 1, 1, ..., 7, 7, 7], dtype=uint8)"
      ]
     },
     "execution_count": 7,
     "metadata": {},
     "output_type": "execute_result"
    }
   ],
   "source": [
    "t"
   ]
  },
  {
   "cell_type": "markdown",
   "id": "93285553",
   "metadata": {
    "id": "avDA2pJIJgsf",
    "papermill": {
     "duration": 0.008014,
     "end_time": "2023-02-03T12:06:27.399404",
     "exception": false,
     "start_time": "2023-02-03T12:06:27.391390",
     "status": "completed"
    },
    "tags": []
   },
   "source": [
    "# Labels Generation  "
   ]
  },
  {
   "cell_type": "code",
   "execution_count": 8,
   "id": "a8d6820e",
   "metadata": {
    "execution": {
     "iopub.execute_input": "2023-02-03T12:06:27.418239Z",
     "iopub.status.busy": "2023-02-03T12:06:27.417817Z",
     "iopub.status.idle": "2023-02-03T12:06:27.704237Z",
     "shell.execute_reply": "2023-02-03T12:06:27.702899Z"
    },
    "id": "BupvL7KSocvu",
    "papermill": {
     "duration": 0.299771,
     "end_time": "2023-02-03T12:06:27.707228",
     "exception": false,
     "start_time": "2023-02-03T12:06:27.407457",
     "status": "completed"
    },
    "tags": []
   },
   "outputs": [],
   "source": [
    "import random\n",
    "import warnings\n",
    "import numpy as np\n",
    "#import climin\n",
    "from functools import partial\n",
    "import matplotlib.pyplot as plt\n",
    "from sklearn.preprocessing import StandardScaler\n",
    "from sklearn.cluster import KMeans\n",
    "import matplotlib.pyplot as plt\n",
    "from sklearn.manifold import TSNE\n",
    "\n",
    "#Defining the Sigmoid function and Softmax function\n",
    "def Sigmoid(f_r):\n",
    "    lam_r = 1/(1 + np.exp(-f_r))\n",
    "    return lam_r\n",
    "\n",
    "def MAjVot(Y, K):\n",
    "    N,R = Y.shape\n",
    "    Yhat = np.zeros((N,1))\n",
    "    for n in range(N):\n",
    "        votes = np.zeros((K,1))\n",
    "        for r in range(R):\n",
    "            for k in range(K):\n",
    "                if Y[n,r] == k+1:\n",
    "                    votes[k] = votes[k]+1\n",
    "        Yhat[n] = np.argmax(votes) + 1\n",
    "    return Yhat\n",
    "\n",
    "\n",
    "def  MA_Clas_Gen(Xtrain,ytrain,R,NrP):\n",
    "\n",
    "    N = len(ytrain)\n",
    "    K = len(np.unique(ytrain))\n",
    "    Kn = np.unique(ytrain)\n",
    "    aux = 0\n",
    "    A = np.zeros((K,1))\n",
    "    for k in Kn:\n",
    "        A[aux] = (ytrain == k).sum()\n",
    "        aux = aux + 1\n",
    "    per = np.min(A)\n",
    "    if N < 25000:\n",
    "        Xtrain = TSNE(n_components=1,perplexity=per/2).fit_transform(Xtrain)\n",
    "    else:\n",
    "        Xtrain = np.sum(Xtrain,1)\n",
    "    # Xtrain = Xtrain-Xtrain.min()\n",
    "    # Xtrain = Xtrain/Xtrain.max()\n",
    "    #ytrain = y\n",
    "    # scaler = StandardScaler()\n",
    "    # scalerY = scaler.fit(y)\n",
    "    # ytrain = scaler.fit_transform(y)\n",
    "\n",
    "    \n",
    "    #miny = y.min()\n",
    "    #ytrain = y-miny\n",
    "    #maxy = ytrain.max()\n",
    "    #ytrain = ytrain/maxy\n",
    "  \n",
    "    # Xtrain = np.sum(Xtrain, axis=1)\n",
    "    Xtrain = Xtrain - Xtrain.min()\n",
    "    #print(Xtrain.min(), Xtrain.max())\n",
    "    Xtrain = Xtrain/Xtrain.max()\n",
    "    Xtrain = Xtrain.reshape((N,1))\n",
    "    yprueba = np.ones((N,1))\n",
    "    \n",
    "    \n",
    "    u_q = np.empty((Xtrain.shape[0],3))\n",
    "    u_q[:,0,None] = 4.5*np.cos(2*np.pi*Xtrain + 1.5*np.pi) - \\\n",
    "                               3*np.sin(4.3*np.pi*Xtrain + 0.3*np.pi)\n",
    "                    \n",
    "    u_q[:,1,None] = 4.5*np.cos(1.5*np.pi*Xtrain + 0.5*np.pi) + \\\n",
    "                       5*np.sin(3*np.pi*Xtrain + 1.5*np.pi)\n",
    "    \n",
    "    u_q[:,2,None] = 1\n",
    "    \n",
    "    W = []\n",
    "    # q=1\n",
    "    Wq1 = np.array(([[0.4],[0.7],[-0.5],[0],[-0.7]]))\n",
    "    W.append(Wq1)\n",
    "    # q=2\n",
    "    Wq2 = np.array(([[0.4],[-1.0],[-0.1],[-0.8],[1.0]]))\n",
    "    W.append(Wq2)\n",
    "    Wq3 = np.array(([[3.1],[-1.8],[-0.6],[-1.2],[1.0]]))\n",
    "    W.append(Wq3)\n",
    "\n",
    "    \n",
    "    F_r = []\n",
    "    Lam_r = []\n",
    "    for r in range(R):\n",
    "        f_r = np.zeros((Xtrain.shape[0], 1))\n",
    "        # rho_r = np.zeros((Xtrain.shape[0], 1))\n",
    "        for q in range(3):\n",
    "            f_r += W[q][r].T*u_q[:,q,None]\n",
    "        F_r.append(f_r)\n",
    "        lam_r = Sigmoid(f_r)\n",
    "        lam_r[lam_r>0.5] = 1\n",
    "        lam_r[lam_r<=0.5] = 0\n",
    "        Lam_r.append(lam_r)\n",
    "    plt.plot(Xtrain,Lam_r[2],'rx')\n",
    "    plt.show()\n",
    "    seed = 0\n",
    "    np.random.seed(seed)\n",
    "    Ytrain = np.ones((N, R))\n",
    "    for r in range(R):\n",
    "        aux = ytrain.copy()\n",
    "        for n in range(N):\n",
    "            if Lam_r[r][n] == 0:\n",
    "                labels = np.arange(1, K+1)\n",
    "                a = np.where(labels==ytrain[n])\n",
    "                labels = np.delete(labels, a)\n",
    "                idxlabels = np.random.permutation(K-1)\n",
    "                aux[n] = labels[idxlabels[0]]         \n",
    "        Ytrain[:,r] = aux.flatten()\n",
    "        \n",
    "   # Ytrain = (Ytrain*maxy) + miny\n",
    "        \n",
    "    iAnn = np.zeros((N, R), dtype=int) # this indicates if the annotator r labels the nth sample.\n",
    "    Nr = np.ones((R), dtype=int)*int(np.floor(N*NrP))  \n",
    "    for r in range(R):\n",
    "        if r < R-1:\n",
    "            indexR = np.random.permutation(range(N))[:Nr[r]]\n",
    "            iAnn[indexR,r] = 1\n",
    "        else:\n",
    "            iSimm = np.sum(iAnn, axis=1)\n",
    "            idxZero = np.asarray([i for (i, val) in enumerate(iSimm) if val == 0])\n",
    "            Nzeros = idxZero.shape[0]\n",
    "            idx2Choose = np.arange(N)\n",
    "            if Nzeros == 0:\n",
    "                indexR = np.random.permutation(range(N))[:Nr[r]]\n",
    "                iAnn[indexR,r] = 1\n",
    "            else:\n",
    "                idx2Choose = np.delete(idx2Choose, idxZero)\n",
    "                N2chose = idx2Choose.shape[0]\n",
    "                idxNoZero = np.random.permutation(N2chose)[:(Nr[r] - Nzeros)]\n",
    "                idxTot = np.concatenate((idxZero, idx2Choose[idxNoZero]))\n",
    "                iAnn[idxTot,r] = 1\n",
    "    \n",
    "    # Now, we verify that all the samples were labeled at least once\n",
    "    Nr = (np.sum(iAnn,0))\n",
    "    iSimm = np.sum(iAnn, axis=1)\n",
    "    if np.asarray([i for (i, val) in enumerate(iSimm) if val == 0]).sum() == 0:\n",
    "        ValueError(\"all the samples must be labeled at least once\")\n",
    "\n",
    "    # Finally, if iAnn=0 we assign a reference value to indicate a missing value\n",
    "    Vref = -1e-20\n",
    "    for r in range(R):\n",
    "        Ytrain[iAnn[:,r] == 0, r] = Vref \n",
    "\n",
    "    return Ytrain, iAnn, Lam_r\n",
    "\n",
    "\n",
    "def CrossVal(X, pp, Nk):\n",
    "    N = X.shape[0]\n",
    "    Ntr = int(N*pp)\n",
    "    Nte = N - Ntr\n",
    "    idxtr = np.zeros((Ntr,Nk))\n",
    "    idxte = np.zeros((Nte,Nk))\n",
    "    \n",
    "    for i in range(Nk):\n",
    "        index = np.random.permutation(range(N))\n",
    "        idxtr[:,i] = index[:Ntr]\n",
    "        idxte[:,i] = index[Ntr:]\n",
    "        \n",
    "    return idxtr, idxte\n",
    "    \n",
    "    \n",
    "        \n"
   ]
  },
  {
   "cell_type": "code",
   "execution_count": 9,
   "id": "30a42784",
   "metadata": {
    "execution": {
     "iopub.execute_input": "2023-02-03T12:06:27.725545Z",
     "iopub.status.busy": "2023-02-03T12:06:27.725165Z",
     "iopub.status.idle": "2023-02-03T12:06:42.568861Z",
     "shell.execute_reply": "2023-02-03T12:06:42.567756Z"
    },
    "id": "tK8MHObF3FKM",
    "outputId": "8f128bab-9644-4526-d91c-a3eb4c94fc10",
    "papermill": {
     "duration": 14.856256,
     "end_time": "2023-02-03T12:06:42.571713",
     "exception": false,
     "start_time": "2023-02-03T12:06:27.715457",
     "status": "completed"
    },
    "tags": []
   },
   "outputs": [
    {
     "name": "stderr",
     "output_type": "stream",
     "text": [
      "/opt/conda/lib/python3.7/site-packages/sklearn/manifold/_t_sne.py:783: FutureWarning: The default initialization in TSNE will change from 'random' to 'pca' in 1.2.\n",
      "  FutureWarning,\n",
      "/opt/conda/lib/python3.7/site-packages/sklearn/manifold/_t_sne.py:793: FutureWarning: The default learning rate in TSNE will change from 200.0 to 'auto' in 1.2.\n",
      "  FutureWarning,\n"
     ]
    },
    {
     "data": {
      "image/png": "[encoded data removed]",
      "text/plain": [
       "<Figure size 432x288 with 1 Axes>"
      ]
     },
     "metadata": {
      "needs_background": "light"
     },
     "output_type": "display_data"
    }
   ],
   "source": [
    "Y, iAnn, Lam_r = MA_Clas_Gen(X ,t, R=5, NrP=1)"
   ]
  },
  {
   "cell_type": "code",
   "execution_count": 10,
   "id": "938b72f8",
   "metadata": {
    "execution": {
     "iopub.execute_input": "2023-02-03T12:06:42.591188Z",
     "iopub.status.busy": "2023-02-03T12:06:42.590747Z",
     "iopub.status.idle": "2023-02-03T12:06:42.596460Z",
     "shell.execute_reply": "2023-02-03T12:06:42.595191Z"
    },
    "id": "v0Y8m7E-3FKM",
    "papermill": {
     "duration": 0.018232,
     "end_time": "2023-02-03T12:06:42.598963",
     "exception": false,
     "start_time": "2023-02-03T12:06:42.580731",
     "status": "completed"
    },
    "tags": []
   },
   "outputs": [],
   "source": [
    "  Y = Y - 1\n",
    "  t = t - 1\n",
    "  #YMA = YMA-1"
   ]
  },
  {
   "cell_type": "code",
   "execution_count": 11,
   "id": "ffd8f86c",
   "metadata": {
    "execution": {
     "iopub.execute_input": "2023-02-03T12:06:42.618044Z",
     "iopub.status.busy": "2023-02-03T12:06:42.617592Z",
     "iopub.status.idle": "2023-02-03T12:06:43.746458Z",
     "shell.execute_reply": "2023-02-03T12:06:43.745376Z"
    },
    "papermill": {
     "duration": 1.141371,
     "end_time": "2023-02-03T12:06:43.748865",
     "exception": false,
     "start_time": "2023-02-03T12:06:42.607494",
     "status": "completed"
    },
    "tags": []
   },
   "outputs": [
    {
     "name": "stdout",
     "output_type": "stream",
     "text": [
      "annotator 1\n",
      "              precision    recall  f1-score   support\n",
      "\n",
      "           0       0.83      0.57      0.68       330\n",
      "           1       0.85      1.00      0.92       330\n",
      "           2       0.80      0.82      0.81       330\n",
      "           3       0.87      0.60      0.71       330\n",
      "           4       0.84      0.91      0.87       330\n",
      "           5       0.86      1.00      0.93       330\n",
      "           6       0.85      1.00      0.92       330\n",
      "\n",
      "    accuracy                           0.84      2310\n",
      "   macro avg       0.84      0.84      0.83      2310\n",
      "weighted avg       0.84      0.84      0.83      2310\n",
      "\n",
      "annotator 2\n",
      "              precision    recall  f1-score   support\n",
      "\n",
      "           0       0.74      0.91      0.82       330\n",
      "           1       0.00      0.00      0.00       330\n",
      "           2       0.72      0.85      0.78       330\n",
      "           3       0.72      0.82      0.76       330\n",
      "           4       0.74      0.93      0.82       330\n",
      "           5       0.71      0.91      0.80       330\n",
      "           6       0.67      0.45      0.54       330\n",
      "\n",
      "    accuracy                           0.69      2310\n",
      "   macro avg       0.61      0.69      0.64      2310\n",
      "weighted avg       0.61      0.69      0.64      2310\n",
      "\n",
      "annotator 3\n",
      "              precision    recall  f1-score   support\n",
      "\n",
      "           0       0.61      0.72      0.66       330\n",
      "           1       0.71      0.93      0.80       330\n",
      "           2       0.59      0.72      0.65       330\n",
      "           3       0.54      0.43      0.48       330\n",
      "           4       0.63      0.72      0.67       330\n",
      "           5       0.22      0.09      0.13       330\n",
      "           6       0.52      0.48      0.50       330\n",
      "\n",
      "    accuracy                           0.59      2310\n",
      "   macro avg       0.55      0.59      0.56      2310\n",
      "weighted avg       0.55      0.59      0.56      2310\n",
      "\n",
      "annotator 4\n",
      "              precision    recall  f1-score   support\n",
      "\n",
      "           0       0.63      0.73      0.68       330\n",
      "           1       0.00      0.00      0.00       330\n",
      "           2       0.66      0.73      0.69       330\n",
      "           3       0.51      0.44      0.47       330\n",
      "           4       0.62      0.77      0.69       330\n",
      "           5       0.57      0.50      0.53       330\n",
      "           6       0.67      0.96      0.79       330\n",
      "\n",
      "    accuracy                           0.59      2310\n",
      "   macro avg       0.52      0.59      0.55      2310\n",
      "weighted avg       0.52      0.59      0.55      2310\n",
      "\n",
      "annotator 5\n",
      "              precision    recall  f1-score   support\n",
      "\n",
      "           0       0.00      0.00      0.00       330\n",
      "           1       0.49      1.00      0.66       330\n",
      "           2       0.00      0.00      0.00       330\n",
      "           3       0.00      0.00      0.00       330\n",
      "           4       0.00      0.00      0.00       330\n",
      "           5       0.00      0.00      0.00       330\n",
      "           6       0.00      0.00      0.00       330\n",
      "\n",
      "    accuracy                           0.14      2310\n",
      "   macro avg       0.07      0.14      0.09      2310\n",
      "weighted avg       0.07      0.14      0.09      2310\n",
      "\n"
     ]
    },
    {
     "data": {
      "image/png": "[encoded data removed]",
      "text/plain": [
       "<Figure size 432x288 with 1 Axes>"
      ]
     },
     "metadata": {
      "needs_background": "light"
     },
     "output_type": "display_data"
    },
    {
     "data": {
      "image/png": "[encoded data removed]",
      "text/plain": [
       "<Figure size 432x288 with 1 Axes>"
      ]
     },
     "metadata": {
      "needs_background": "light"
     },
     "output_type": "display_data"
    },
    {
     "data": {
      "image/png": "[encoded data removed]",
      "text/plain": [
       "<Figure size 432x288 with 1 Axes>"
      ]
     },
     "metadata": {
      "needs_background": "light"
     },
     "output_type": "display_data"
    },
    {
     "data": {
      "image/png": "[encoded data removed]",
      "text/plain": [
       "<Figure size 432x288 with 1 Axes>"
      ]
     },
     "metadata": {
      "needs_background": "light"
     },
     "output_type": "display_data"
    },
    {
     "data": {
      "image/png": "[encoded data removed]",
      "text/plain": [
       "<Figure size 432x288 with 1 Axes>"
      ]
     },
     "metadata": {
      "needs_background": "light"
     },
     "output_type": "display_data"
    }
   ],
   "source": [
    "from sklearn.metrics import classification_report\n",
    "for i in range(Y.shape[1]):\n",
    "    print('annotator',i+1)\n",
    "    print(classification_report(t,Y[:,i]))\n",
    "    unique, counts = np.unique(Y[:,i], return_counts=True)\n",
    "    plt.figure()\n",
    "    plt.bar(unique, counts)\n",
    "    #     unique, counts = np.unique(Y_test[5], return_counts=True)\n",
    "    #     plt.bar(unique, counts)\n",
    "\n",
    "    plt.title('Class Frequency for Y_true')\n",
    "    plt.xlabel('Class')\n",
    "    plt.ylabel('Frequency')"
   ]
  },
  {
   "cell_type": "markdown",
   "id": "504b68e3",
   "metadata": {
    "id": "uudDcV4wHiuI",
    "papermill": {
     "duration": 0.00964,
     "end_time": "2023-02-03T12:06:43.769261",
     "exception": false,
     "start_time": "2023-02-03T12:06:43.759621",
     "status": "completed"
    },
    "tags": []
   },
   "source": [
    "# Split data"
   ]
  },
  {
   "cell_type": "code",
   "execution_count": 12,
   "id": "7ec2075a",
   "metadata": {
    "execution": {
     "iopub.execute_input": "2023-02-03T12:06:43.791295Z",
     "iopub.status.busy": "2023-02-03T12:06:43.790827Z",
     "iopub.status.idle": "2023-02-03T12:06:43.805731Z",
     "shell.execute_reply": "2023-02-03T12:06:43.804328Z"
    },
    "id": "QCxEhJv_3FKN",
    "outputId": "20cf4b24-fde3-4b21-f26a-2809af8f2c5d",
    "papermill": {
     "duration": 0.029205,
     "end_time": "2023-02-03T12:06:43.808391",
     "exception": false,
     "start_time": "2023-02-03T12:06:43.779186",
     "status": "completed"
    },
    "tags": []
   },
   "outputs": [
    {
     "name": "stdout",
     "output_type": "stream",
     "text": [
      "[2031  671 1207 1236  343 1158  822  558   18 1644 2044 2257 1440 1290\n",
      " 1758 2263 1422 1633   33  689  206 1380 2291   25 1652  961  279 2076\n",
      " 1777  995 1424  493  132  224 1278 1162 1121 1496 2303  327 1233 1631\n",
      "  417 1036  977 1708 2248 1204  803  711  856   50 2249  511 1567 1068\n",
      " 1725   12 2097  704 1667 1253 2041  965 1055 1237 2071 2165 1106 1873\n",
      " 2153  141 1860 1033  266 1661 1730  978 1614  813 1148   45 2045 2030\n",
      " 1181 1209  746  421 2197 1331 2034  875 1049 1404 1137 1851  683  809\n",
      "  515 1195 1256 2102 1018  967  476 1337 2170 1982  615 2177  388 1548\n",
      " 1744  110  835 2100 1126 1109  935 1802 1977 1797  668  820  190 1707\n",
      " 1542 1541  289  784 1446 1979 1903  326  292  420  798  239 1831  310\n",
      "  449  708 1201 2176 1449   72  982  800 2213  403  381  148 1531  601\n",
      "  466 2152 1676  351 1269 1412  728 1143  116 1790 1843 1818  658 1525\n",
      " 2308 1333  735 1059  777 1637 2243 1686  409 1697 1978 1516 1217 2304\n",
      " 1757  701 2266  120  680 1728  906  988  670 2179  375 1373 1913 1182\n",
      "   58 1250 2307 1951  842  383 1836  304 2253 1335 1127 1244   75 1090\n",
      " 1627 1324 1039  882 1589 1483  655  410 2113  833 1587  184 2012 1450\n",
      " 2118 1670  878 2221 1457  879 2110 1116  999 2290 2051 1358  429  103\n",
      " 1687  925 1224  649 1174   43 2115  698 1724 2126 1041 1234 1077   28\n",
      " 2174  440 1097 1089  243 2306  853  898 1295 1152 1806 1432  712 1423\n",
      " 1573  537   13 1035 1895 2279 2008 2064  228 2061 1042 1461 1469  198\n",
      "  498 1144  352 1074 1680 2025   63  458  569 1700  749 2088  917 1756\n",
      "  155 1330 1451 2210  188 1738  645  189 1185 1599  994  563 1441 2194\n",
      " 1603 1850 2278 1304  256  395  953  501 1205 1745  973  895 2204  406\n",
      " 1848 1781  827 1716  807    7 1711 1011 1455 1317 1829 1800 2277  276\n",
      "  127 1925 1009 1397 2287 1574  772 1577 1523 2150 1134 1727 1420 1742\n",
      "  778 1208  553 1762  108  524  237 1502  546  891 1436 1468  776  682\n",
      " 1020 1881 1202 1002 2128  579  641  328 1747  222 2142  785 1065 1616\n",
      " 1276 1416 1685 1572  605  477 1943 1079  963 1754  706 2085 1904  142\n",
      " 1043 1803 1313 1696 1785  564 1459 1266 1123  585  590  167 1027 2067\n",
      "  828  318 1000 1906  628  267 1361 1187  384 1600  787 1841  684 1354\n",
      " 2104  805 1102 1630 1390 1944 1907 1753 1096  610 1856  353 2112  273\n",
      "  633 1165  738 2151  742 1642  234 1334  500  356  556   21  990  937\n",
      " 1026  308  415 1634 1606  667  504 1805  433  574 1822  314 1003  597\n",
      "  838  593  452 1396 1285  846  529  235  270  229 2053 1773    5  934\n",
      " 1613   91 1456 1519  623  554 2191  221  890 1709 2158  427 1695 1220\n",
      " 2159 2222 1228 1921  781 1029   81 1809  968  437 1227  307 2229 2247\n",
      "  971 1014 1017 1561 1868  792 1701 1733 1821  926   64  996  265  182\n",
      "  630  638 1801 2224  722  928 1876  627   35  385 2062  616 2131  714\n",
      " 2268 1563  824  209 1899 1869  348 2300 1883 1504 1402  927  104 1302\n",
      " 2087 2189  278  119  618 2296  847 2250 1970   94 1935  591 1006  678\n",
      " 1260  779 1287 1426 1911 1816  576 1108 1515 2305 1340 1535  775  573\n",
      "  535 1464 1462 1681 1270  562  691 2178 1947 2005  756  594 1702 1665\n",
      "  216   31  131 1769 2136   66  734 1347 1582  204 2055 2184 1376 1878\n",
      " 1668 1553 1811  260 1499 1294  850   86  647 1638 2198 1643 2225  478\n",
      "  600 1526  717 2171   54  114 1142 1482  707 1289 1592 1046  312 1892\n",
      " 1584  831 2125  218 1369  767  250 1274  450 1327 2021 2072 1712  397\n",
      "  533 1780 1549  614 1706 1356 1216  550 1595 2223 1569  710 1050 1001\n",
      " 1671   42  857  277  372  112  147 1886  226  178 1588 1787 1663 1188\n",
      "  336  991 1023 1094 2111  309  301 2216 2003  306   84  547  261  565\n",
      "  905  357 1763 1992  914 1351 1528]\n",
      "(1617, 18) (1617, 5) (1617, 1)\n"
     ]
    }
   ],
   "source": [
    "import numpy.matlib\n",
    "from sklearn.model_selection import  StratifiedShuffleSplit, ShuffleSplit\n",
    "Ns = 1\n",
    "ss = ShuffleSplit(n_splits=Ns, test_size=0.3, random_state =123)\n",
    "for train_index, test_index in ss.split(X):\n",
    "    print(test_index)\n",
    "    X_train, X_test,Y_train,Y_test = X[train_index,:], X[test_index,:],Y[train_index,:], Y[test_index,:]\n",
    "    Y_true_train, Y_true_test = t[train_index].reshape(-1,1), t[test_index].reshape(-1,1)\n",
    "print(X_train.shape, Y_train.shape, Y_true_train.shape)"
   ]
  },
  {
   "cell_type": "markdown",
   "id": "bed0ec6f",
   "metadata": {
    "id": "kgDMRggXHo0X",
    "papermill": {
     "duration": 0.009914,
     "end_time": "2023-02-03T12:06:43.828783",
     "exception": false,
     "start_time": "2023-02-03T12:06:43.818869",
     "status": "completed"
    },
    "tags": []
   },
   "source": [
    "# Apply MinMaxScaler"
   ]
  },
  {
   "cell_type": "code",
   "execution_count": 13,
   "id": "d4e23f1f",
   "metadata": {
    "execution": {
     "iopub.execute_input": "2023-02-03T12:06:43.852018Z",
     "iopub.status.busy": "2023-02-03T12:06:43.850870Z",
     "iopub.status.idle": "2023-02-03T12:06:43.858919Z",
     "shell.execute_reply": "2023-02-03T12:06:43.857897Z"
    },
    "id": "33XT7bGs3FKN",
    "papermill": {
     "duration": 0.022534,
     "end_time": "2023-02-03T12:06:43.861508",
     "exception": false,
     "start_time": "2023-02-03T12:06:43.838974",
     "status": "completed"
    },
    "tags": []
   },
   "outputs": [],
   "source": [
    "scaler = MinMaxScaler()\n",
    "scaler.fit(X_train)\n",
    "X_train = scaler.transform(X_train)\n",
    "X_test = scaler.transform(X_test)"
   ]
  },
  {
   "cell_type": "code",
   "execution_count": 14,
   "id": "b94bf10b",
   "metadata": {
    "execution": {
     "iopub.execute_input": "2023-02-03T12:06:43.884933Z",
     "iopub.status.busy": "2023-02-03T12:06:43.884088Z",
     "iopub.status.idle": "2023-02-03T12:06:43.892243Z",
     "shell.execute_reply": "2023-02-03T12:06:43.891098Z"
    },
    "id": "8JB57s89xbR3",
    "outputId": "5f7b5561-3e45-498d-9117-bf91a63d2fb9",
    "papermill": {
     "duration": 0.022745,
     "end_time": "2023-02-03T12:06:43.894499",
     "exception": false,
     "start_time": "2023-02-03T12:06:43.871754",
     "status": "completed"
    },
    "tags": []
   },
   "outputs": [
    {
     "data": {
      "text/plain": [
       "7"
      ]
     },
     "execution_count": 14,
     "metadata": {},
     "output_type": "execute_result"
    }
   ],
   "source": [
    "len(np.unique(Y_test))"
   ]
  },
  {
   "cell_type": "markdown",
   "id": "50b94b5e",
   "metadata": {
    "id": "pPoaMuiXH-Zm",
    "papermill": {
     "duration": 0.0102,
     "end_time": "2023-02-03T12:06:43.915186",
     "exception": false,
     "start_time": "2023-02-03T12:06:43.904986",
     "status": "completed"
    },
    "tags": []
   },
   "source": [
    "# Testing the Class "
   ]
  },
  {
   "cell_type": "code",
   "execution_count": 15,
   "id": "e45e70e8",
   "metadata": {
    "execution": {
     "iopub.execute_input": "2023-02-03T12:06:43.959184Z",
     "iopub.status.busy": "2023-02-03T12:06:43.958443Z",
     "iopub.status.idle": "2023-02-03T12:11:43.787243Z",
     "shell.execute_reply": "2023-02-03T12:11:43.785896Z"
    },
    "papermill": {
     "duration": 299.863962,
     "end_time": "2023-02-03T12:11:43.800359",
     "exception": false,
     "start_time": "2023-02-03T12:06:43.936397",
     "status": "completed"
    },
    "tags": []
   },
   "outputs": [
    {
     "name": "stdout",
     "output_type": "stream",
     "text": [
      "iteration: 0\n"
     ]
    },
    {
     "name": "stderr",
     "output_type": "stream",
     "text": [
      "2023-02-03 12:06:44.238023: I tensorflow/core/common_runtime/process_util.cc:146] Creating new thread pool with default inter op setting: 2. Tune using inter_op_parallelism_threads for best performance.\n",
      "2023-02-03 12:06:44.804882: I tensorflow/compiler/mlir/mlir_graph_optimization_pass.cc:185] None of the MLIR Optimization Passes are enabled (registered 2)\n"
     ]
    },
    {
     "name": "stdout",
     "output_type": "stream",
     "text": [
      "Validation ACC: 0.9437\n",
      "Validation aUc: 1.0000\n",
      "Validation Balanced_ACC: 0.9352\n",
      "Validation MI: 1.7561\n",
      "Validation Normalized MI: 0.9040\n",
      "Validation Adjusted MI: 0.9027\n",
      "iteration: 1\n",
      "Validation ACC: 0.9481\n",
      "Validation aUc: 0.9956\n",
      "Validation Balanced_ACC: 0.9400\n",
      "Validation MI: 1.7709\n",
      "Validation Normalized MI: 0.9109\n",
      "Validation Adjusted MI: 0.9097\n",
      "iteration: 2\n",
      "Validation ACC: 0.9293\n",
      "Validation aUc: 0.9954\n",
      "Validation Balanced_ACC: 0.9189\n",
      "Validation MI: 1.7124\n",
      "Validation Normalized MI: 0.8822\n",
      "Validation Adjusted MI: 0.8806\n",
      "iteration: 3\n",
      "Validation ACC: 0.9538\n",
      "Validation aUc: 0.9966\n",
      "Validation Balanced_ACC: 0.9465\n",
      "Validation MI: 1.7651\n",
      "Validation Normalized MI: 0.9085\n",
      "Validation Adjusted MI: 0.9073\n",
      "iteration: 4\n",
      "Validation ACC: 0.9509\n",
      "Validation aUc: 0.9956\n",
      "Validation Balanced_ACC: 0.9437\n",
      "Validation MI: 1.7641\n",
      "Validation Normalized MI: 0.9073\n",
      "Validation Adjusted MI: 0.9060\n",
      "iteration: 5\n",
      "Validation ACC: 0.9509\n",
      "Validation aUc: 1.0000\n",
      "Validation Balanced_ACC: 0.9426\n",
      "Validation MI: 1.7615\n",
      "Validation Normalized MI: 0.9068\n",
      "Validation Adjusted MI: 0.9055\n",
      "iteration: 6\n",
      "Validation ACC: 0.9625\n",
      "Validation aUc: 0.9992\n",
      "Validation Balanced_ACC: 0.9568\n",
      "Validation MI: 1.7981\n",
      "Validation Normalized MI: 0.9246\n",
      "Validation Adjusted MI: 0.9236\n",
      "iteration: 7\n",
      "Validation ACC: 0.9394\n",
      "Validation aUc: 0.9983\n",
      "Validation Balanced_ACC: 0.9287\n",
      "Validation MI: 1.7418\n",
      "Validation Normalized MI: 0.8979\n",
      "Validation Adjusted MI: 0.8965\n",
      "iteration: 8\n",
      "Validation ACC: 0.9524\n",
      "Validation aUc: 1.0000\n",
      "Validation Balanced_ACC: 0.9449\n",
      "Validation MI: 1.7665\n",
      "Validation Normalized MI: 0.9095\n",
      "Validation Adjusted MI: 0.9082\n",
      "iteration: 9\n",
      "Validation ACC: 0.9336\n",
      "Validation aUc: 0.9954\n",
      "Validation Balanced_ACC: 0.9237\n",
      "Validation MI: 1.7207\n",
      "Validation Normalized MI: 0.8857\n",
      "Validation Adjusted MI: 0.8842\n"
     ]
    }
   ],
   "source": [
    "from sklearn.metrics import classification_report, balanced_accuracy_score\n",
    "from sklearn.metrics import normalized_mutual_info_score, mutual_info_score, adjusted_mutual_info_score\n",
    "\n",
    "l1 =0.0001\n",
    "NUM_RUNS =10\n",
    "ACC = np.zeros(NUM_RUNS)\n",
    "AUC = np.zeros(NUM_RUNS)\n",
    "MI = np.zeros(NUM_RUNS)\n",
    "NMI = np.zeros(NUM_RUNS)\n",
    "AMI = np.zeros(NUM_RUNS)\n",
    "BACC = np.zeros(NUM_RUNS)\n",
    "for i in range(NUM_RUNS): #10\n",
    "    print(\"iteration: \" + str(i))\n",
    "   \n",
    "    MA = Keras_MA_CrowdL(epochs=100,batch_size=32,R= Y_train.shape[1], K=len(np.unique(Y_true_test)), dropout=0.25, learning_rate=0.001,optimizer='Adam', \n",
    "                l1_param=l1,  validation_split=0.3, verbose=0)\n",
    "\n",
    "\n",
    "\n",
    "    MA.fit(X_train, Y_train)\n",
    "    #MA.plot_history()\n",
    "  \n",
    "    #Accuracy  \n",
    "    \n",
    "    #estimar etiquetas modelo rodiguez \n",
    "    preds_test_num =  MA.predict2(X_test)\n",
    "    \n",
    "    #Accuracy\n",
    "    report = classification_report(Y_true_test,preds_test_num,output_dict=True)\n",
    "    ACC[i] = report['accuracy']\n",
    "    \n",
    "    print(\"Validation ACC: %.4f\" % (float(report['accuracy']),))\n",
    "    \n",
    "    #AUC\n",
    "    val_AUC_metric = tf.keras.metrics.AUC( from_logits = True)  \n",
    "   # val_logits =MA.predict(X_test) # model(X_test, training=False)\n",
    "    # tf.print(y_batch_val)\n",
    "    val_AUC_metric.update_state(Y_true_test,  preds_test_num.astype('float'))\n",
    "\n",
    "    val_AUC = val_AUC_metric.result()\n",
    "    val_AUC_metric.reset_states()\n",
    "    val_AUC = val_AUC.numpy()\n",
    "    print(\"Validation aUc: %.4f\" % (float(val_AUC),))\n",
    "    AUC[i] = val_AUC\n",
    "    \n",
    "\n",
    "\n",
    "\n",
    "    # balanced. Accurcy\n",
    "    BACC[i] = balanced_accuracy_score(Y_true_test.squeeze(), preds_test_num.squeeze(), adjusted=True)\n",
    "    print(\"Validation Balanced_ACC: %.4f\" % (float(BACC[i])))\n",
    "\n",
    "    #MI\n",
    "    \n",
    "    MI[i] = mutual_info_score(Y_true_test.squeeze(), preds_test_num.squeeze())\n",
    "    print(\"Validation MI: %.4f\" % (float(MI[i]),))\n",
    "    NMI[i] = normalized_mutual_info_score(Y_true_test.squeeze(), preds_test_num.squeeze())\n",
    "    print(\"Validation Normalized MI: %.4f\" % (float(NMI[i]),))\n",
    "    AMI[i]= adjusted_mutual_info_score(Y_true_test.squeeze(), preds_test_num.squeeze())\n",
    "    print(\"Validation Adjusted MI: %.4f\" % (float(AMI[i]),))\n",
    "\n",
    "\n"
   ]
  },
  {
   "cell_type": "code",
   "execution_count": 16,
   "id": "1735020b",
   "metadata": {
    "execution": {
     "iopub.execute_input": "2023-02-03T12:11:43.825149Z",
     "iopub.status.busy": "2023-02-03T12:11:43.824667Z",
     "iopub.status.idle": "2023-02-03T12:11:43.832968Z",
     "shell.execute_reply": "2023-02-03T12:11:43.831675Z"
    },
    "papermill": {
     "duration": 0.023646,
     "end_time": "2023-02-03T12:11:43.835375",
     "exception": false,
     "start_time": "2023-02-03T12:11:43.811729",
     "status": "completed"
    },
    "tags": []
   },
   "outputs": [
    {
     "data": {
      "text/plain": [
       "array([0.94372294, 0.94805195, 0.92929293, 0.95382395, 0.95093795,\n",
       "       0.95093795, 0.96248196, 0.93939394, 0.95238095, 0.93362193])"
      ]
     },
     "execution_count": 16,
     "metadata": {},
     "output_type": "execute_result"
    }
   ],
   "source": [
    "ACC"
   ]
  },
  {
   "cell_type": "code",
   "execution_count": 17,
   "id": "061d2a45",
   "metadata": {
    "execution": {
     "iopub.execute_input": "2023-02-03T12:11:43.859910Z",
     "iopub.status.busy": "2023-02-03T12:11:43.859472Z",
     "iopub.status.idle": "2023-02-03T12:11:43.867010Z",
     "shell.execute_reply": "2023-02-03T12:11:43.865773Z"
    },
    "papermill": {
     "duration": 0.022403,
     "end_time": "2023-02-03T12:11:43.869310",
     "exception": false,
     "start_time": "2023-02-03T12:11:43.846907",
     "status": "completed"
    },
    "tags": []
   },
   "outputs": [
    {
     "data": {
      "text/plain": [
       "array([1.        , 0.9955768 , 0.9954285 , 0.99664992, 0.99562919,\n",
       "       1.        , 0.99916244, 0.99832499, 1.        , 0.9954285 ])"
      ]
     },
     "execution_count": 17,
     "metadata": {},
     "output_type": "execute_result"
    }
   ],
   "source": [
    "AUC"
   ]
  },
  {
   "cell_type": "code",
   "execution_count": 18,
   "id": "a6f85445",
   "metadata": {
    "execution": {
     "iopub.execute_input": "2023-02-03T12:11:43.894674Z",
     "iopub.status.busy": "2023-02-03T12:11:43.894299Z",
     "iopub.status.idle": "2023-02-03T12:11:43.907590Z",
     "shell.execute_reply": "2023-02-03T12:11:43.905923Z"
    },
    "papermill": {
     "duration": 0.029032,
     "end_time": "2023-02-03T12:11:43.910110",
     "exception": false,
     "start_time": "2023-02-03T12:11:43.881078",
     "status": "completed"
    },
    "tags": []
   },
   "outputs": [
    {
     "name": "stdout",
     "output_type": "stream",
     "text": [
      "Average Accuracy:  94.65\n",
      "Average std:  0.95\n",
      "==============================================\n",
      "Average AUC:  99.76\n",
      "Average AUC std:  0.2\n",
      "==============================================\n",
      "Average Balanced Accuracy:  93.81\n",
      "Average std:  1.09\n",
      "==============================================\n",
      "Average MI:  175.57\n",
      "Average std:  2.37\n",
      "==============================================\n",
      "Average Normalized MI:  90.38000000000001\n",
      "Average std:  1.18\n",
      "==============================================\n",
      "Average Ajdusted MI:  90.24\n",
      "Average std:  1.1900000000000002\n"
     ]
    }
   ],
   "source": [
    "print('Average Accuracy: ', np.round( ACC.mean(),4)*100) \n",
    "print('Average std: ',np.round(np.std( ACC),4)*100)\n",
    "print('==============================================')\n",
    "print('Average AUC: ', np.round( AUC.mean(),4)*100) \n",
    "print('Average AUC std: ',np.round(np.std( AUC),4)*100)\n",
    "print('==============================================')\n",
    "print('Average Balanced Accuracy: ', np.round( BACC.mean(),4)*100) \n",
    "print('Average std: ',np.round(np.std( BACC),4)*100)\n",
    "print('==============================================')\n",
    "print('Average MI: ', np.round( MI.mean(),4)*100) \n",
    "print('Average std: ',np.round(np.std(MI),4)*100)\n",
    "print('==============================================')\n",
    "print('Average Normalized MI: ', np.round( NMI.mean(),4)*100) \n",
    "print('Average std: ',np.round(np.std(NMI),4)*100)\n",
    "print('==============================================')\n",
    "print('Average Ajdusted MI: ', np.round( AMI.mean(),4)*100) \n",
    "print('Average std: ',np.round(np.std(AMI),4)*100)"
   ]
  }
 ],
 "metadata": {
  "kernelspec": {
   "display_name": "Python 3",
   "language": "python",
   "name": "python3"
  },
  "language_info": {
   "codemirror_mode": {
    "name": "ipython",
    "version": 3
   },
   "file_extension": ".py",
   "mimetype": "text/x-python",
   "name": "python",
   "nbconvert_exporter": "python",
   "pygments_lexer": "ipython3",
   "version": "3.7.12"
  },
  "papermill": {
   "default_parameters": {},
   "duration": 346.415549,
   "end_time": "2023-02-03T12:11:46.744993",
   "environment_variables": {},
   "exception": null,
   "input_path": "__notebook__.ipynb",
   "output_path": "__notebook__.ipynb",
   "parameters": {},
   "start_time": "2023-02-03T12:06:00.329444",
   "version": "2.3.4"
  }
 },
 "nbformat": 4,
 "nbformat_minor": 5
}
