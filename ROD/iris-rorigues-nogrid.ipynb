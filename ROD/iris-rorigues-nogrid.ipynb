{
 "cells": [
  {
   "cell_type": "markdown",
   "id": "32cabeda",
   "metadata": {
    "id": "Cy45HoPn5SpZ",
    "papermill": {
     "duration": 0.010486,
     "end_time": "2022-12-19T15:58:42.917145",
     "exception": false,
     "start_time": "2022-12-19T15:58:42.906659",
     "status": "completed"
    },
    "tags": []
   },
   "source": [
    "# Loss function Rodrigues\n",
    "\n",
    "$𝒟 = \\{ \\mathbf{x}_n, \\mathbf{y}_n\\}$ be a dataset of size $N$\n",
    "\n",
    "$\\mathbf{x}_n \\in \\mathbb{R}^D$\n",
    "\n",
    "${\\mathbf{y}}^r_n\\in[0,1]^K$:   label provided for the r-th annotator in a set of R annotators\n",
    "\n",
    "$𝒛_n$ Latent true class determined by a softmax output layer  of a DNN\n",
    "\n",
    "\n",
    "$\\mathbf{\\sigma}\\in \\mathbb{R} ^Q$: DNN-based feature representation. correspond to the output of a softmax layer\n",
    "\n",
    "$\\hat{\\mathbf{y}}^r_n = f_r(\\sigma)\\in[0,1]^{1 \\times K}$\n",
    "\n",
    "$\\hat{\\mathbf{y}}_n=[\\hat{\\mathbf{y}}^1_n,\\hat{\\mathbf{y}}^2_n,\\dots,\\hat{\\mathbf{y}}^R_n]\\in [0,1]^{1\\times (R\\times K)}$\n",
    "\n",
    "Activation of the crowd layer for each anotator  $ \\mathbf{a}^r = f_r(\\sigma)$, where $f_r$ is an annotator-specific function, and the output of the crowd layer simply as the softmax of the\n",
    "activations $o_c^r = e^{a_c^r}/\\sum_{l=1}^{C}e^{a_l^r}$.\n",
    "\n",
    "\n",
    " $f_r(\\sigma)= \\mathbf{W}^r\\mathbf{\\sigma}$\n",
    "\n",
    " $\\mathbf{W}^r$ is an annotator-specific matrix\n",
    "\n",
    " **Cost function**\n",
    "\n",
    " $E(\\mathbf{o}^r, y^r)$\n",
    " between the expected output of the r-th annotator and its actual label $y^r$,\n",
    "\n",
    "Then, \n",
    "\n",
    "if we make. $\\lambda_n^r(\\theta) = \\mathbf{1}$ in PRI loss\n",
    "\n",
    "\n",
    "\n",
    "$$\\min_\\theta \\sum_n\\left(\\sum_r \\lambda_n^r(\\theta)H({\\mathbf{y}}^r_n;\\hat{\\mathbf{y}}_n(\\theta))\\right)+\\left(H(\\hat{\\mathbf{y}}_n(\\theta))\\sum_r\\left(1-\\lambda_n^r(\\theta)\\right)\\right)$$\n",
    "\n",
    " \n",
    "we can obtain rodriguez\n",
    "\n",
    "\n",
    "$$\\min_\\theta \\sum_n\\left(\\sum_r (\\mathbf{1})H({\\mathbf{y}}^r_n;\\hat{\\mathbf{y}}_n(\\theta))\\right)+\\left(H(\\hat{\\mathbf{y}}_n(\\theta))\\sum_r\\left(1-\\mathbf{1}\\right)\\right)$$"
   ]
  },
  {
   "cell_type": "code",
   "execution_count": 1,
   "id": "50ad5f61",
   "metadata": {
    "execution": {
     "iopub.execute_input": "2022-12-19T15:58:42.935214Z",
     "iopub.status.busy": "2022-12-19T15:58:42.934665Z",
     "iopub.status.idle": "2022-12-19T15:58:42.943953Z",
     "shell.execute_reply": "2022-12-19T15:58:42.941927Z"
    },
    "id": "Htu1kN9-jZO1",
    "papermill": {
     "duration": 0.024882,
     "end_time": "2022-12-19T15:58:42.950156",
     "exception": false,
     "start_time": "2022-12-19T15:58:42.925274",
     "status": "completed"
    },
    "tags": []
   },
   "outputs": [],
   "source": [
    "#!pip install tensorflow==2.7.0\n",
    "#!pip install scikeras"
   ]
  },
  {
   "cell_type": "code",
   "execution_count": 2,
   "id": "6dd0956a",
   "metadata": {
    "execution": {
     "iopub.execute_input": "2022-12-19T15:58:42.969884Z",
     "iopub.status.busy": "2022-12-19T15:58:42.969367Z",
     "iopub.status.idle": "2022-12-19T15:58:50.597269Z",
     "shell.execute_reply": "2022-12-19T15:58:50.595483Z"
    },
    "id": "Gw-I1LpOjkw3",
    "outputId": "ebc8e065-e200-4131-fc8b-2ae9efe8d1d7",
    "papermill": {
     "duration": 7.641175,
     "end_time": "2022-12-19T15:58:50.600664",
     "exception": false,
     "start_time": "2022-12-19T15:58:42.959489",
     "status": "completed"
    },
    "tags": []
   },
   "outputs": [
    {
     "name": "stdout",
     "output_type": "stream",
     "text": [
      "--2022-12-19 15:58:44--  https://docs.google.com/uc?export=download&confirm=t&id=1SQnWXGROG2Xexs5vn3twuv7SqiWG5njW\r\n",
      "Resolving docs.google.com (docs.google.com)... 173.194.211.100, 173.194.211.138, 173.194.211.113, ...\r\n",
      "Connecting to docs.google.com (docs.google.com)|173.194.211.100|:443... connected.\r\n",
      "HTTP request sent, awaiting response... 303 See Other\r\n",
      "Location: https://doc-00-90-docs.googleusercontent.com/docs/securesc/ha0ro937gcuc7l7deffksulhg5h7mbp1/5fhfp1elrada49msdh45lus9v0ouu7to/1671465450000/07591141114418430227/*/1SQnWXGROG2Xexs5vn3twuv7SqiWG5njW?e=download&uuid=01a0be02-13b7-445e-8e00-86750b0fe049 [following]\r\n",
      "Warning: wildcards not supported in HTTP.\r\n",
      "--2022-12-19 15:58:44--  https://doc-00-90-docs.googleusercontent.com/docs/securesc/ha0ro937gcuc7l7deffksulhg5h7mbp1/5fhfp1elrada49msdh45lus9v0ouu7to/1671465450000/07591141114418430227/*/1SQnWXGROG2Xexs5vn3twuv7SqiWG5njW?e=download&uuid=01a0be02-13b7-445e-8e00-86750b0fe049\r\n",
      "Resolving doc-00-90-docs.googleusercontent.com (doc-00-90-docs.googleusercontent.com)... 172.217.204.132, 2607:f8b0:400c:c15::84\r\n",
      "Connecting to doc-00-90-docs.googleusercontent.com (doc-00-90-docs.googleusercontent.com)|172.217.204.132|:443... connected.\r\n",
      "HTTP request sent, awaiting response... 200 OK\r\n",
      "Length: 156530728 (149M) [application/zip]\r\n",
      "Saving to: ‘MADatasets.zip’\r\n",
      "\r\n",
      "MADatasets.zip      100%[===================>] 149.28M   178MB/s    in 0.8s    \r\n",
      "\r\n",
      "2022-12-19 15:58:45 (178 MB/s) - ‘MADatasets.zip’ saved [156530728/156530728]\r\n",
      "\r\n",
      "Archive:  MADatasets.zip\r\n",
      "  inflating: MADatasets/util.py      \r\n",
      "  inflating: MADatasets/Iris1.mat    \r\n",
      "  inflating: MADatasets/Integra_Labels.mat  \r\n",
      "  inflating: MADatasets/MAGenerationClassification.py  \r\n",
      "  inflating: MADatasets/Voice.mat    \r\n",
      "  inflating: MADatasets/Iris.mat     \r\n",
      "  inflating: MADatasets/Sinthetic.mat  \r\n",
      "  inflating: MADatasets/MAGenerationClassification_1.py  \r\n",
      "  inflating: MADatasets/Bupa1.mat    \r\n",
      "  inflating: MADatasets/TicTacToe1.mat  \r\n",
      "  inflating: MADatasets/Wine.mat     \r\n",
      "  inflating: MADatasets/Breast1.mat  \r\n",
      "  inflating: MADatasets/Breast.mat   \r\n",
      "  inflating: MADatasets/Music.mat    \r\n",
      "  inflating: MADatasets/Pima.mat     \r\n",
      "  inflating: MADatasets/Ionosphere.mat  \r\n",
      "  inflating: MADatasets/TicTacToe.mat  \r\n",
      "  inflating: MADatasets/VoiceData.m  \r\n",
      "  inflating: MADatasets/util_1.py    \r\n",
      "  inflating: MADatasets/Ionosphere1.mat  \r\n",
      "  inflating: MADatasets/__pycache__/util_1.cpython-37.pyc  \r\n",
      "  inflating: MADatasets/Bupa.mat     \r\n",
      "  inflating: MADatasets/Wine1.mat    \r\n",
      "  inflating: MADatasets/__pycache__/util.cpython-37.pyc  \r\n",
      "  inflating: MADatasets/Pima1.mat    \r\n",
      "  inflating: MADatasets/Segmentation1.mat  \r\n",
      "  inflating: MADatasets/Western.mat  \r\n",
      "  inflating: MADatasets/Integra_Preprocesamiento_Seg_Caracterizacion_time_frec.mat  \r\n",
      "  inflating: MADatasets/Western1.mat  \r\n",
      "  inflating: MADatasets/Segmentation.mat  \r\n",
      "  inflating: MADatasets/Skin_NonSkin.mat  \r\n",
      "  inflating: MADatasets/Skin_NonSkin1.mat  \r\n",
      "  inflating: MADatasets/Occupancy1.mat  \r\n",
      "  inflating: MADatasets/Polarity.mat  \r\n",
      "  inflating: MADatasets/Occupancy.mat  \r\n",
      "MADatasets  MADatasets.zip  __notebook__.ipynb\r\n"
     ]
    }
   ],
   "source": [
    "#cargar datos desde drive acceso libre\n",
    "FILEID = \"1SQnWXGROG2Xexs5vn3twuv7SqiWG5njW\"\n",
    "#https://drive.google.com/file/d/1SQnWXGROG2Xexs5vn3twuv7SqiWG5njW/view?usp=sharing\n",
    "!wget --load-cookies /tmp/cookies.txt \"https://docs.google.com/uc?export=download&confirm=$(wget --quiet --save-cookies /tmp/cookies.txt --keep-session-cookies --no-check-certificate 'https://docs.google.com/uc?export=download&id='$FILEID -O- | sed -rn 's/.*confirm=([0-9A-Za-z_]+).*/\\1\\n/p')&id=\"$FILEID -O MADatasets.zip && rm -rf /tmp/cookies.txt\n",
    "!unzip -o MADatasets.zip\n",
    "!dir"
   ]
  },
  {
   "cell_type": "markdown",
   "id": "7de53d9f",
   "metadata": {
    "id": "lYGUr8mv4EuV",
    "papermill": {
     "duration": 0.008357,
     "end_time": "2022-12-19T15:58:50.617957",
     "exception": false,
     "start_time": "2022-12-19T15:58:50.609600",
     "status": "completed"
    },
    "tags": []
   },
   "source": [
    "# Subclassing for Crowdlayer Rodriguez"
   ]
  },
  {
   "cell_type": "code",
   "execution_count": 3,
   "id": "1ea8666a",
   "metadata": {
    "execution": {
     "iopub.execute_input": "2022-12-19T15:58:50.639102Z",
     "iopub.status.busy": "2022-12-19T15:58:50.637627Z",
     "iopub.status.idle": "2022-12-19T15:59:02.278360Z",
     "shell.execute_reply": "2022-12-19T15:59:02.276459Z"
    },
    "id": "p5fJiVgC3FKO",
    "papermill": {
     "duration": 11.654921,
     "end_time": "2022-12-19T15:59:02.281497",
     "exception": false,
     "start_time": "2022-12-19T15:58:50.626576",
     "status": "completed"
    },
    "tags": []
   },
   "outputs": [],
   "source": [
    "# -*- coding: utf-8 -*-\n",
    "import tensorflow as tf\n",
    "import matplotlib.pyplot as plt\n",
    "#from tensorflow.keras.wrappers.scikit_learn import KerasClassifier\n",
    "import tensorflow_probability as tfp\n",
    "from tensorflow.keras import regularizers\n",
    "from sklearn.base import  BaseEstimator, TransformerMixin, ClassifierMixin\n",
    "from sklearn.model_selection import train_test_split\n",
    "tf.keras.backend.clear_session()\n",
    "#tf.random.set_seed(42)\n",
    "import types\n",
    "import tempfile\n",
    "class Keras_MA_CrowdL(): #transformer no va\n",
    " #Constructor __init__. Special method: identified by a double underscore at either side of their name\n",
    " #work in the background\n",
    " # initialize data members to the object. lets the class initialize the object’s attributes and serves no other purpose.\n",
    "    def __init__(self,epochs=70,batch_size=30,R=5, K=2, dropout=0.5, learning_rate=1e-3,optimizer='Adam', \n",
    "                  l1_param=0, validation_split=0.3, verbose=0):\n",
    "        #print('init')\n",
    "        self.epochs=epochs\n",
    "        self.dropout=dropout\n",
    "        self.batch_size = batch_size\n",
    "        self.learning_rate=learning_rate \n",
    "        self.l1_param=l1_param \n",
    "        self.l2_param=l1_param\n",
    "        self.validation_split = validation_split\n",
    "        self.verbose = verbose\n",
    "        self.optimizer = optimizer\n",
    "        self.R=R\n",
    "        self.K=K\n",
    "\n",
    "    \n",
    " \n",
    "    def custom_CLR_loss(self, y_true, y_pred): #ytrue \\in N x R,  ypred \\in N x K x R  ->CrowdLayerRodriguez\n",
    "        #print(y_true.shape)\n",
    "        Y_true_1K = tf.one_hot(tf.cast(y_true,dtype=tf.int32),depth=self.K,axis=1) #samples, classes 1-K, annotators\n",
    "        #print(Y_true_1K.shape)    \n",
    "        vec = tf.nn.softmax_cross_entropy_with_logits(logits=y_pred, labels=Y_true_1K, axis = 1)\n",
    "        #print(vec.shape)\n",
    "        #mask = tf.equal(Y_true_1K[:,0,:], -1)\n",
    "        #zer = tf.zeros_like(vec)\n",
    "        #loss = tf.where(mask, x=zer, y=vec)\n",
    "        #tf.print(\"loss\", loss)\n",
    "        return tf.math.reduce_sum(vec)\n",
    "\n",
    " \n",
    "    def fit(self, X, Y):\n",
    "        P = X.shape[1]\n",
    "        if self.optimizer == \"Adam\":\n",
    "            opt = tf.keras.optimizers.Adam(learning_rate=self.learning_rate)\n",
    "        elif self.optimizer == \"SGD\":\n",
    "            opt = tf.keras.optimizers.SGD(learning_rate=self.learning_rate)\n",
    "        else:\n",
    "            opt=self.optimizer\n",
    "\n",
    "        #capa de entrada\n",
    "        input_l = tf.keras.layers.Input(shape=(X.shape[1]), name='entrada')\n",
    "        #capas densas\n",
    "        h1 = tf.keras.layers.Dense(int(P*4*(self.K+self.R)),activation='selu',name='h1',\n",
    "                              kernel_regularizer=tf.keras.regularizers.l1_l2(l1=self.l1_param,l2=self.l2_param))(input_l)#argumento de entrada\n",
    "        h2 = tf.keras.layers.Dense(int(P*(self.K+self.R)),activation='selu',name='h2',\n",
    "                              kernel_regularizer=tf.keras.regularizers.l1_l2(l1=self.l1_param,l2=self.l2_param))(h1)\n",
    "        dout = tf.keras.layers.Dropout(rate=self.dropout)(h2)\n",
    "        output_dense = tf.keras.layers.Dense(self.K,activation=\"softmax\",name='output',\n",
    "                               kernel_regularizer=tf.keras.regularizers.l1_l2(l1=self.l1_param,l2=self.l2_param))(dout)\n",
    "        output= CrowdsClassification(self.K, self.R, conn_type=\"MW\")(output_dense) #Classes x Annotators\n",
    "        self.model = tf.keras.Model(inputs= input_l,outputs=output)\n",
    "        self.model.compile(loss= self.custom_CLR_loss, optimizer=opt)\n",
    "        self.history = self.model.fit(X, Y, epochs=self.epochs, validation_split= self.validation_split,   #\n",
    "                                      batch_size=self.batch_size,verbose=self.verbose)\n",
    "        #model_p  to predict labels in gridsearch  \n",
    "        self.model_p = tf.keras.Model(inputs=self.model.inputs,outputs=self.model.get_layer('output').output) #se accede a capas por nombre\n",
    "        #resumen y gráfica del modelo\n",
    "        #print(self.model.summary())\n",
    "        \n",
    "        return self\n",
    "\n",
    "    def predict2(self, X, *_):\n",
    "      return  np.argmax(self.model_p.predict(X), axis=1)    \n",
    "     \n",
    "    def predict(self, X, *_):\n",
    "\n",
    "       #print('predict') \n",
    "       return  self.model.predict(X) \n",
    "\n",
    "    def fit_predict(self,X,y):\n",
    "        #input X numpy array first dimension samples (N)x features (P)\n",
    "        #input Y numpy array vector len = samples (N) x  annotators (R)\n",
    "        \n",
    "        self.fit(X,y)\n",
    "        return self.predict(X)\n",
    "  \n",
    "     #graphics\n",
    "    def plot_history(self):\n",
    "        pd.DataFrame(self.history.history).plot(figsize=(8, 5))\n",
    "        plt.grid(True)\n",
    "        #plt.gca().set_ylim(0, 1)\n",
    "        #save_fig(\"keras_learning_curves_plot\")\n",
    "        plt.show()\n",
    "        return\n",
    "    \n",
    "    def set_params(self, **parameters):\n",
    "        #print('set_params') \n",
    "        for parameter, value in parameters.items():\n",
    "            setattr(self, parameter, value)\n",
    "\n",
    "        return self\n",
    "    \n",
    "    \n",
    "    \n",
    "    def get_params(self, deep=True):\n",
    "        #print('get_params') \n",
    "        return { 'l1_param':self.l1_param, 'dropout':self.dropout, 'optimizer':self.optimizer,\n",
    "                'learning_rate':self.learning_rate, 'batch_size':self.batch_size,\n",
    "                'epochs':self.epochs, 'verbose':self.verbose, 'validation_split':self.validation_split,\n",
    "                'R':self.R, 'K':self.K\n",
    "                }"
   ]
  },
  {
   "cell_type": "markdown",
   "id": "fb7c853a",
   "metadata": {
    "id": "b9yV0N4v4U_3",
    "papermill": {
     "duration": 0.008385,
     "end_time": "2022-12-19T15:59:02.298881",
     "exception": false,
     "start_time": "2022-12-19T15:59:02.290496",
     "status": "completed"
    },
    "tags": []
   },
   "source": [
    "# Crowdlayer class"
   ]
  },
  {
   "cell_type": "code",
   "execution_count": 4,
   "id": "a901aa00",
   "metadata": {
    "execution": {
     "iopub.execute_input": "2022-12-19T15:59:02.321384Z",
     "iopub.status.busy": "2022-12-19T15:59:02.319482Z",
     "iopub.status.idle": "2022-12-19T15:59:02.346577Z",
     "shell.execute_reply": "2022-12-19T15:59:02.345189Z"
    },
    "id": "4ysb7umL3FKN",
    "papermill": {
     "duration": 0.0433,
     "end_time": "2022-12-19T15:59:02.350878",
     "exception": false,
     "start_time": "2022-12-19T15:59:02.307578",
     "status": "completed"
    },
    "tags": []
   },
   "outputs": [],
   "source": [
    " \n",
    "import numpy as np\n",
    "import tensorflow as tf\n",
    "import tensorflow.keras as keras\n",
    "from tensorflow.keras import backend as K1\n",
    "from tensorflow.keras.layers import Layer\n",
    "#from tensorflow.keras.engine.topology import Layer\n",
    "\n",
    "def init_identities(shape, dtype=None):\n",
    "    out = np.zeros(shape)\n",
    "    for r in range(shape[2]):\n",
    "        for i in range(shape[0]):\n",
    "            out[i,i,r] = 1.0\n",
    "    return out\n",
    "    \n",
    "class CrowdsClassification(Layer):\n",
    "\n",
    "\n",
    "  \n",
    "  #The build() method’s role is to create the layer’s variables, by calling the \n",
    "  #add_weight() method for each weight.  which is often necessary to create some of the weights.\n",
    "  #we need to know the number of neurons in the previous layer in order to create the connection weights matrix (i.e., the \"kernel\"): \n",
    "  #this corresponds to the size of the last dimension of the inputs. \n",
    "   \n",
    "    def __init__(self, output_dim, num_annotators, conn_type=\"MW\", **kwargs):\n",
    "        self.output_dim = output_dim\n",
    "        self.num_annotators = num_annotators\n",
    "        self.conn_type = conn_type\n",
    "        super(CrowdsClassification, self).__init__(**kwargs)\n",
    "\n",
    "\n",
    "\n",
    "    def build(self, input_shape):\n",
    "        if self.conn_type == \"MW\":\n",
    "            # matrix of weights per annotator\n",
    "      #A layer is a callable object that takes as input one or more tensors and that outputs one or more tensors. \n",
    "      #It involves computation, defined in the call() method, and a state (weight variables). \n",
    "      #the method add_weight() offers a shortcut to create weights.\n",
    "\n",
    "            self.kernel = self.add_weight(\"CrowdLayer\", (self.output_dim, self.output_dim, self.num_annotators),\n",
    "                                            initializer=init_identities, #It is the stated initializer instance\n",
    "                                            trainable=True) # trainable weights, updated via backpropagation during training\n",
    "        elif self.conn_type == \"VW\":\n",
    "            # vector of weights (one scale per class) per annotator\n",
    "            self.kernel = self.add_weight(\"CrowdLayer\", (self.output_dim, self.num_annotators),\n",
    "                                            initializer=keras.initializers.Ones(), \n",
    "                                            trainable=True)\n",
    "        elif self.conn_type == \"VB\":\n",
    "            # two vectors of weights (one scale and one bias per class) per annotator\n",
    "            self.kernel = []\n",
    "            self.kernel.append(self.add_weight(\"CrowdLayer\", (self.output_dim, self.num_annotators),\n",
    "                                            initializer=keras.initializers.Zeros(),\n",
    "                                            trainable=True))\n",
    "        elif self.conn_type == \"VW+B\":\n",
    "            # two vectors of weights (one scale and one bias per class) per annotator\n",
    "            self.kernel = []\n",
    "            self.kernel.append(self.add_weight(\"CrowdLayer\", (self.output_dim, self.num_annotators),\n",
    "                                            initializer=keras.initializers.Ones(),\n",
    "                                            trainable=True))\n",
    "            self.kernel.append(self.add_weight(\"CrowdLayer\", (self.output_dim, self.num_annotators),\n",
    "                                            initializer=keras.initializers.Zeros(),\n",
    "                                            trainable=True))\n",
    "        elif self.conn_type == \"SW\":\n",
    "            # single weight value per annotator\n",
    "            self.kernel = self.add_weight(\"CrowdLayer\", (self.num_annotators,1),\n",
    "                                            initializer=keras.initializers.Ones(),\n",
    "                                            trainable=True)\n",
    "        else:\n",
    "            raise Exception(\"Unknown connection type for CrowdsClassification layer!\")\n",
    "    #At the end of the build() method (and only at the end), \n",
    "    #you must call the parent’s build() method: this tells Keras that the layer is built (it just sets self.built = True).\n",
    "        super(CrowdsClassification, self).build(input_shape)  # Be sure to call this somewhere!\n",
    "\n",
    "    def call(self, x):\n",
    "    \n",
    "    #The call() method actually performs the desired operations. In this case, \n",
    "    #we compute the matrix multiplication of the inputs X and the layer’s kernel and \n",
    "    #this gives us the output of the layer.\n",
    "     \n",
    " \n",
    "\n",
    "        if self.conn_type == \"MW\":\n",
    "            res = K1.dot(x, self.kernel)\n",
    "        elif self.conn_type == \"VW\" or self.conn_type == \"VB\" or self.conn_type == \"VW+B\" or self.conn_type == \"SW\":\n",
    "            out = []\n",
    "            for r in range(self.num_annotators):\n",
    "                if self.conn_type == \"VW\":\n",
    "                    out.append(x * self.kernel[:,r])\n",
    "                elif self.conn_type == \"VB\":\n",
    "                    out.append(x + self.kernel[0][:,r])\n",
    "                elif self.conn_type == \"VW+B\":\n",
    "                    out.append(x * self.kernel[0][:,r] + self.kernel[1][:,r])\n",
    "                elif self.conn_type == \"SW\":\n",
    "                    out.append(x * self.kernel[r,0])\n",
    "            res = tf.stack(out)\n",
    "            if len(res.shape) == 3:\n",
    "                res = tf.transpose(res, [1, 2, 0])\n",
    "            elif len(res.shape) == 4:\n",
    "                res = tf.transpose(res, [1, 2, 3, 0])\n",
    "            else:\n",
    "                raise Exception(\"Wrong number of dimensions for output\")\n",
    "        else:\n",
    "            raise Exception(\"Unknown connection type for CrowdsClassification layer!\") \n",
    "        \n",
    "        return res\n",
    " \n",
    "#The compute_output_shape() method simply returns the shape of this layer’s outputs. \n",
    "#In this case, it is the same shape as the inputs, except the last two dimensions is replaced \n",
    "#with the number of clases and # annotators in the layer.  \n",
    " \n",
    "\n",
    "    def compute_output_shape(self, input_shape):\n",
    "        return (input_shape[0], self.output_dim, self.num_annotators)"
   ]
  },
  {
   "cell_type": "markdown",
   "id": "0b9b5718",
   "metadata": {
    "id": "xKzPN5lnHO13",
    "papermill": {
     "duration": 0.00964,
     "end_time": "2022-12-19T15:59:02.370250",
     "exception": false,
     "start_time": "2022-12-19T15:59:02.360610",
     "status": "completed"
    },
    "tags": []
   },
   "source": [
    "# Load Data"
   ]
  },
  {
   "cell_type": "code",
   "execution_count": 5,
   "id": "bdad2b0e",
   "metadata": {
    "execution": {
     "iopub.execute_input": "2022-12-19T15:59:02.391894Z",
     "iopub.status.busy": "2022-12-19T15:59:02.390997Z",
     "iopub.status.idle": "2022-12-19T15:59:02.446075Z",
     "shell.execute_reply": "2022-12-19T15:59:02.444790Z"
    },
    "id": "hA1QFlPBjpbA",
    "outputId": "db5be05d-1fdc-4725-8064-5dc79e7a9a6a",
    "papermill": {
     "duration": 0.06903,
     "end_time": "2022-12-19T15:59:02.449157",
     "exception": false,
     "start_time": "2022-12-19T15:59:02.380127",
     "status": "completed"
    },
    "tags": []
   },
   "outputs": [
    {
     "data": {
      "text/plain": [
       "dict_keys(['__header__', '__version__', '__globals__', 'X', 'y', 'Y', 'iAnn', 'Exp', 'idxtr', 'idxte'])"
      ]
     },
     "execution_count": 5,
     "metadata": {},
     "output_type": "execute_result"
    }
   ],
   "source": [
    "#load data\n",
    "import scipy.io as sio\n",
    "import matplotlib.pyplot as plt\n",
    "import pandas as pd\n",
    "import tensorflow as tf #importar tensorflow\n",
    "from sklearn.model_selection import GridSearchCV, RandomizedSearchCV\n",
    "from sklearn.preprocessing import StandardScaler,MinMaxScaler\n",
    "import numpy as np\n",
    " \n",
    "database = 'Iris' #['bupa1', 'breast-cancer-wisconsin1','pima-indians-diabetes1', 'ionosphere1', 'tic-tac-toe1', 'iris1', 'wine1', 'segmentation1']\n",
    "\n",
    "\n",
    "path_ = 'MADatasets/'+ database+ '.mat' \n",
    "Xdata = sio.loadmat(path_)\n",
    "Xdata.keys()"
   ]
  },
  {
   "cell_type": "code",
   "execution_count": 6,
   "id": "db42c896",
   "metadata": {
    "execution": {
     "iopub.execute_input": "2022-12-19T15:59:02.470550Z",
     "iopub.status.busy": "2022-12-19T15:59:02.470061Z",
     "iopub.status.idle": "2022-12-19T15:59:02.477859Z",
     "shell.execute_reply": "2022-12-19T15:59:02.476581Z"
    },
    "id": "Hqmwm8kJj7HL",
    "papermill": {
     "duration": 0.022344,
     "end_time": "2022-12-19T15:59:02.481535",
     "exception": false,
     "start_time": "2022-12-19T15:59:02.459191",
     "status": "completed"
    },
    "tags": []
   },
   "outputs": [
    {
     "name": "stdout",
     "output_type": "stream",
     "text": [
      "X (150, 4) t (150,) Y (150, 5)\n"
     ]
    }
   ],
   "source": [
    "#heads = data['MAData'].dtype\n",
    "# X = Xdata['MAData']['X'][0,0]\n",
    "# t = Xdata['MAData']['t'][0,0]\n",
    "# Y = Xdata['MAData']['Y1'][0,0]\n",
    "\n",
    "X = Xdata['X']\n",
    "# Xte = Xdata['Xte']\n",
    "Y = Xdata['Y']\n",
    "t = Xdata['y'].reshape(-1)\n",
    "print('X',X.shape,'t',t.shape,'Y',Y.shape)"
   ]
  },
  {
   "cell_type": "code",
   "execution_count": 7,
   "id": "40e783c7",
   "metadata": {
    "execution": {
     "iopub.execute_input": "2022-12-19T15:59:02.503511Z",
     "iopub.status.busy": "2022-12-19T15:59:02.502901Z",
     "iopub.status.idle": "2022-12-19T15:59:02.513322Z",
     "shell.execute_reply": "2022-12-19T15:59:02.511919Z"
    },
    "id": "xnqtxG_x3FKL",
    "papermill": {
     "duration": 0.025483,
     "end_time": "2022-12-19T15:59:02.516319",
     "exception": false,
     "start_time": "2022-12-19T15:59:02.490836",
     "status": "completed"
    },
    "tags": []
   },
   "outputs": [
    {
     "data": {
      "text/plain": [
       "array([1, 1, 1, 1, 1, 1, 1, 1, 1, 1, 1, 1, 1, 1, 1, 1, 1, 1, 1, 1, 1, 1,\n",
       "       1, 1, 1, 1, 1, 1, 1, 1, 1, 1, 1, 1, 1, 1, 1, 1, 1, 1, 1, 1, 1, 1,\n",
       "       1, 1, 1, 1, 1, 1, 2, 2, 2, 2, 2, 2, 2, 2, 2, 2, 2, 2, 2, 2, 2, 2,\n",
       "       2, 2, 2, 2, 2, 2, 2, 2, 2, 2, 2, 2, 2, 2, 2, 2, 2, 2, 2, 2, 2, 2,\n",
       "       2, 2, 2, 2, 2, 2, 2, 2, 2, 2, 2, 2, 3, 3, 3, 3, 3, 3, 3, 3, 3, 3,\n",
       "       3, 3, 3, 3, 3, 3, 3, 3, 3, 3, 3, 3, 3, 3, 3, 3, 3, 3, 3, 3, 3, 3,\n",
       "       3, 3, 3, 3, 3, 3, 3, 3, 3, 3, 3, 3, 3, 3, 3, 3, 3, 3], dtype=uint8)"
      ]
     },
     "execution_count": 7,
     "metadata": {},
     "output_type": "execute_result"
    }
   ],
   "source": [
    "t"
   ]
  },
  {
   "cell_type": "markdown",
   "id": "dbc22122",
   "metadata": {
    "id": "avDA2pJIJgsf",
    "papermill": {
     "duration": 0.008738,
     "end_time": "2022-12-19T15:59:02.534162",
     "exception": false,
     "start_time": "2022-12-19T15:59:02.525424",
     "status": "completed"
    },
    "tags": []
   },
   "source": [
    "# Labels Generation  "
   ]
  },
  {
   "cell_type": "code",
   "execution_count": 8,
   "id": "79504b14",
   "metadata": {
    "execution": {
     "iopub.execute_input": "2022-12-19T15:59:02.554443Z",
     "iopub.status.busy": "2022-12-19T15:59:02.554009Z",
     "iopub.status.idle": "2022-12-19T15:59:02.852668Z",
     "shell.execute_reply": "2022-12-19T15:59:02.851483Z"
    },
    "id": "BupvL7KSocvu",
    "papermill": {
     "duration": 0.312232,
     "end_time": "2022-12-19T15:59:02.855424",
     "exception": false,
     "start_time": "2022-12-19T15:59:02.543192",
     "status": "completed"
    },
    "tags": []
   },
   "outputs": [],
   "source": [
    "import random\n",
    "import warnings\n",
    "import numpy as np\n",
    "#import climin\n",
    "from functools import partial\n",
    "import matplotlib.pyplot as plt\n",
    "from sklearn.preprocessing import StandardScaler\n",
    "from sklearn.cluster import KMeans\n",
    "import matplotlib.pyplot as plt\n",
    "from sklearn.manifold import TSNE\n",
    "\n",
    "#Defining the Sigmoid function and Softmax function\n",
    "def Sigmoid(f_r):\n",
    "    lam_r = 1/(1 + np.exp(-f_r))\n",
    "    return lam_r\n",
    "\n",
    "def MAjVot(Y, K):\n",
    "    N,R = Y.shape\n",
    "    Yhat = np.zeros((N,1))\n",
    "    for n in range(N):\n",
    "        votes = np.zeros((K,1))\n",
    "        for r in range(R):\n",
    "            for k in range(K):\n",
    "                if Y[n,r] == k+1:\n",
    "                    votes[k] = votes[k]+1\n",
    "        Yhat[n] = np.argmax(votes) + 1\n",
    "    return Yhat\n",
    "\n",
    "\n",
    "def  MA_Clas_Gen(Xtrain,ytrain,R,NrP):\n",
    "\n",
    "    N = len(ytrain)\n",
    "    K = len(np.unique(ytrain))\n",
    "    Kn = np.unique(ytrain)\n",
    "    aux = 0\n",
    "    A = np.zeros((K,1))\n",
    "    for k in Kn:\n",
    "        A[aux] = (ytrain == k).sum()\n",
    "        aux = aux + 1\n",
    "    per = np.min(A)\n",
    "    if N < 25000:\n",
    "        Xtrain = TSNE(n_components=1,perplexity=per/2).fit_transform(Xtrain)\n",
    "    else:\n",
    "        Xtrain = np.sum(Xtrain,1)\n",
    "    # Xtrain = Xtrain-Xtrain.min()\n",
    "    # Xtrain = Xtrain/Xtrain.max()\n",
    "    #ytrain = y\n",
    "    # scaler = StandardScaler()\n",
    "    # scalerY = scaler.fit(y)\n",
    "    # ytrain = scaler.fit_transform(y)\n",
    "\n",
    "    \n",
    "    #miny = y.min()\n",
    "    #ytrain = y-miny\n",
    "    #maxy = ytrain.max()\n",
    "    #ytrain = ytrain/maxy\n",
    "  \n",
    "    # Xtrain = np.sum(Xtrain, axis=1)\n",
    "    Xtrain = Xtrain - Xtrain.min()\n",
    "    #print(Xtrain.min(), Xtrain.max())\n",
    "    Xtrain = Xtrain/Xtrain.max()\n",
    "    Xtrain = Xtrain.reshape((N,1))\n",
    "    yprueba = np.ones((N,1))\n",
    "    \n",
    "    \n",
    "    u_q = np.empty((Xtrain.shape[0],3))\n",
    "    u_q[:,0,None] = 4.5*np.cos(2*np.pi*Xtrain + 1.5*np.pi) - \\\n",
    "                               3*np.sin(4.3*np.pi*Xtrain + 0.3*np.pi)\n",
    "                    \n",
    "    u_q[:,1,None] = 4.5*np.cos(1.5*np.pi*Xtrain + 0.5*np.pi) + \\\n",
    "                       5*np.sin(3*np.pi*Xtrain + 1.5*np.pi)\n",
    "    \n",
    "    u_q[:,2,None] = 1\n",
    "    \n",
    "    W = []\n",
    "    # q=1\n",
    "    Wq1 = np.array(([[0.4],[0.7],[-0.5],[0],[-0.7]]))\n",
    "    W.append(Wq1)\n",
    "    # q=2\n",
    "    Wq2 = np.array(([[0.4],[-1.0],[-0.1],[-0.8],[1.0]]))\n",
    "    W.append(Wq2)\n",
    "    Wq3 = np.array(([[3.1],[-1.8],[-0.6],[-1.2],[1.0]]))\n",
    "    W.append(Wq3)\n",
    "\n",
    "    \n",
    "    F_r = []\n",
    "    Lam_r = []\n",
    "    for r in range(R):\n",
    "        f_r = np.zeros((Xtrain.shape[0], 1))\n",
    "        # rho_r = np.zeros((Xtrain.shape[0], 1))\n",
    "        for q in range(3):\n",
    "            f_r += W[q][r].T*u_q[:,q,None]\n",
    "        F_r.append(f_r)\n",
    "        lam_r = Sigmoid(f_r)\n",
    "        lam_r[lam_r>0.5] = 1\n",
    "        lam_r[lam_r<=0.5] = 0\n",
    "        Lam_r.append(lam_r)\n",
    "    plt.plot(Xtrain,Lam_r[2],'rx')\n",
    "    plt.show()\n",
    "    seed = 0\n",
    "    np.random.seed(seed)\n",
    "    Ytrain = np.ones((N, R))\n",
    "    for r in range(R):\n",
    "        aux = ytrain.copy()\n",
    "        for n in range(N):\n",
    "            if Lam_r[r][n] == 0:\n",
    "                labels = np.arange(1, K+1)\n",
    "                a = np.where(labels==ytrain[n])\n",
    "                labels = np.delete(labels, a)\n",
    "                idxlabels = np.random.permutation(K-1)\n",
    "                aux[n] = labels[idxlabels[0]]         \n",
    "        Ytrain[:,r] = aux.flatten()\n",
    "        \n",
    "   # Ytrain = (Ytrain*maxy) + miny\n",
    "        \n",
    "    iAnn = np.zeros((N, R), dtype=int) # this indicates if the annotator r labels the nth sample.\n",
    "    Nr = np.ones((R), dtype=int)*int(np.floor(N*NrP))  \n",
    "    for r in range(R):\n",
    "        if r < R-1:\n",
    "            indexR = np.random.permutation(range(N))[:Nr[r]]\n",
    "            iAnn[indexR,r] = 1\n",
    "        else:\n",
    "            iSimm = np.sum(iAnn, axis=1)\n",
    "            idxZero = np.asarray([i for (i, val) in enumerate(iSimm) if val == 0])\n",
    "            Nzeros = idxZero.shape[0]\n",
    "            idx2Choose = np.arange(N)\n",
    "            if Nzeros == 0:\n",
    "                indexR = np.random.permutation(range(N))[:Nr[r]]\n",
    "                iAnn[indexR,r] = 1\n",
    "            else:\n",
    "                idx2Choose = np.delete(idx2Choose, idxZero)\n",
    "                N2chose = idx2Choose.shape[0]\n",
    "                idxNoZero = np.random.permutation(N2chose)[:(Nr[r] - Nzeros)]\n",
    "                idxTot = np.concatenate((idxZero, idx2Choose[idxNoZero]))\n",
    "                iAnn[idxTot,r] = 1\n",
    "    \n",
    "    # Now, we verify that all the samples were labeled at least once\n",
    "    Nr = (np.sum(iAnn,0))\n",
    "    iSimm = np.sum(iAnn, axis=1)\n",
    "    if np.asarray([i for (i, val) in enumerate(iSimm) if val == 0]).sum() == 0:\n",
    "        ValueError(\"all the samples must be labeled at least once\")\n",
    "\n",
    "    # Finally, if iAnn=0 we assign a reference value to indicate a missing value\n",
    "    Vref = -1e-20\n",
    "    for r in range(R):\n",
    "        Ytrain[iAnn[:,r] == 0, r] = Vref \n",
    "\n",
    "    return Ytrain, iAnn, Lam_r\n",
    "\n",
    "\n",
    "def CrossVal(X, pp, Nk):\n",
    "    N = X.shape[0]\n",
    "    Ntr = int(N*pp)\n",
    "    Nte = N - Ntr\n",
    "    idxtr = np.zeros((Ntr,Nk))\n",
    "    idxte = np.zeros((Nte,Nk))\n",
    "    \n",
    "    for i in range(Nk):\n",
    "        index = np.random.permutation(range(N))\n",
    "        idxtr[:,i] = index[:Ntr]\n",
    "        idxte[:,i] = index[Ntr:]\n",
    "        \n",
    "    return idxtr, idxte\n",
    "    \n",
    "    \n",
    "        \n"
   ]
  },
  {
   "cell_type": "code",
   "execution_count": 9,
   "id": "84f58197",
   "metadata": {
    "execution": {
     "iopub.execute_input": "2022-12-19T15:59:02.884696Z",
     "iopub.status.busy": "2022-12-19T15:59:02.884224Z",
     "iopub.status.idle": "2022-12-19T15:59:03.713076Z",
     "shell.execute_reply": "2022-12-19T15:59:03.711756Z"
    },
    "id": "tK8MHObF3FKM",
    "outputId": "8f128bab-9644-4526-d91c-a3eb4c94fc10",
    "papermill": {
     "duration": 0.847158,
     "end_time": "2022-12-19T15:59:03.716472",
     "exception": false,
     "start_time": "2022-12-19T15:59:02.869314",
     "status": "completed"
    },
    "tags": []
   },
   "outputs": [
    {
     "name": "stderr",
     "output_type": "stream",
     "text": [
      "/opt/conda/lib/python3.7/site-packages/sklearn/manifold/_t_sne.py:783: FutureWarning: The default initialization in TSNE will change from 'random' to 'pca' in 1.2.\n",
      "  FutureWarning,\n",
      "/opt/conda/lib/python3.7/site-packages/sklearn/manifold/_t_sne.py:793: FutureWarning: The default learning rate in TSNE will change from 200.0 to 'auto' in 1.2.\n",
      "  FutureWarning,\n"
     ]
    },
    {
     "data": {
      "image/png": "[encoded data removed]",
      "text/plain": [
       "<Figure size 432x288 with 1 Axes>"
      ]
     },
     "metadata": {
      "needs_background": "light"
     },
     "output_type": "display_data"
    }
   ],
   "source": [
    "Y, iAnn, Lam_r = MA_Clas_Gen(X ,t, R=5, NrP=1)"
   ]
  },
  {
   "cell_type": "code",
   "execution_count": 10,
   "id": "cb18d8b9",
   "metadata": {
    "execution": {
     "iopub.execute_input": "2022-12-19T15:59:03.742949Z",
     "iopub.status.busy": "2022-12-19T15:59:03.742457Z",
     "iopub.status.idle": "2022-12-19T15:59:03.750581Z",
     "shell.execute_reply": "2022-12-19T15:59:03.748143Z"
    },
    "id": "v0Y8m7E-3FKM",
    "papermill": {
     "duration": 0.026001,
     "end_time": "2022-12-19T15:59:03.754002",
     "exception": false,
     "start_time": "2022-12-19T15:59:03.728001",
     "status": "completed"
    },
    "tags": []
   },
   "outputs": [],
   "source": [
    "  Y = Y - 1\n",
    "  t = t - 1\n",
    "  #YMA = YMA-1"
   ]
  },
  {
   "cell_type": "code",
   "execution_count": 11,
   "id": "19a9a40f",
   "metadata": {
    "execution": {
     "iopub.execute_input": "2022-12-19T15:59:03.774553Z",
     "iopub.status.busy": "2022-12-19T15:59:03.774054Z",
     "iopub.status.idle": "2022-12-19T15:59:04.925501Z",
     "shell.execute_reply": "2022-12-19T15:59:04.924242Z"
    },
    "papermill": {
     "duration": 1.164799,
     "end_time": "2022-12-19T15:59:04.928101",
     "exception": false,
     "start_time": "2022-12-19T15:59:03.763302",
     "status": "completed"
    },
    "tags": []
   },
   "outputs": [
    {
     "name": "stdout",
     "output_type": "stream",
     "text": [
      "annotator 1\n",
      "              precision    recall  f1-score   support\n",
      "\n",
      "           0       1.00      1.00      1.00        50\n",
      "           1       1.00      1.00      1.00        50\n",
      "           2       1.00      1.00      1.00        50\n",
      "\n",
      "    accuracy                           1.00       150\n",
      "   macro avg       1.00      1.00      1.00       150\n",
      "weighted avg       1.00      1.00      1.00       150\n",
      "\n",
      "annotator 2\n",
      "              precision    recall  f1-score   support\n",
      "\n",
      "           0       0.00      0.00      0.00        50\n",
      "           1       0.62      1.00      0.77        50\n",
      "           2       0.71      1.00      0.83        50\n",
      "\n",
      "    accuracy                           0.67       150\n",
      "   macro avg       0.45      0.67      0.53       150\n",
      "weighted avg       0.45      0.67      0.53       150\n",
      "\n",
      "annotator 3\n",
      "              precision    recall  f1-score   support\n",
      "\n",
      "           0       0.53      0.98      0.69        50\n",
      "           1       0.06      0.02      0.03        50\n",
      "           2       0.41      0.34      0.37        50\n",
      "\n",
      "    accuracy                           0.45       150\n",
      "   macro avg       0.33      0.45      0.36       150\n",
      "weighted avg       0.33      0.45      0.36       150\n",
      "\n",
      "annotator 4\n",
      "              precision    recall  f1-score   support\n",
      "\n",
      "           0       0.00      0.00      0.00        50\n",
      "           1       0.37      0.32      0.34        50\n",
      "           2       0.46      0.86      0.60        50\n",
      "\n",
      "    accuracy                           0.39       150\n",
      "   macro avg       0.28      0.39      0.31       150\n",
      "weighted avg       0.28      0.39      0.31       150\n",
      "\n",
      "annotator 5\n",
      "              precision    recall  f1-score   support\n",
      "\n",
      "           0       0.45      1.00      0.62        50\n",
      "           1       0.00      0.00      0.00        50\n",
      "           2       0.00      0.00      0.00        50\n",
      "\n",
      "    accuracy                           0.33       150\n",
      "   macro avg       0.15      0.33      0.21       150\n",
      "weighted avg       0.15      0.33      0.21       150\n",
      "\n"
     ]
    },
    {
     "name": "stderr",
     "output_type": "stream",
     "text": [
      "/opt/conda/lib/python3.7/site-packages/sklearn/metrics/_classification.py:1318: UndefinedMetricWarning: Precision and F-score are ill-defined and being set to 0.0 in labels with no predicted samples. Use `zero_division` parameter to control this behavior.\n",
      "  _warn_prf(average, modifier, msg_start, len(result))\n",
      "/opt/conda/lib/python3.7/site-packages/sklearn/metrics/_classification.py:1318: UndefinedMetricWarning: Precision and F-score are ill-defined and being set to 0.0 in labels with no predicted samples. Use `zero_division` parameter to control this behavior.\n",
      "  _warn_prf(average, modifier, msg_start, len(result))\n",
      "/opt/conda/lib/python3.7/site-packages/sklearn/metrics/_classification.py:1318: UndefinedMetricWarning: Precision and F-score are ill-defined and being set to 0.0 in labels with no predicted samples. Use `zero_division` parameter to control this behavior.\n",
      "  _warn_prf(average, modifier, msg_start, len(result))\n"
     ]
    },
    {
     "data": {
      "image/png": "[encoded data removed]",
      "text/plain": [
       "<Figure size 432x288 with 1 Axes>"
      ]
     },
     "metadata": {
      "needs_background": "light"
     },
     "output_type": "display_data"
    },
    {
     "data": {
      "image/png": "[encoded data removed]",
      "text/plain": [
       "<Figure size 432x288 with 1 Axes>"
      ]
     },
     "metadata": {
      "needs_background": "light"
     },
     "output_type": "display_data"
    },
    {
     "data": {
      "image/png": "[encoded data removed]",
      "text/plain": [
       "<Figure size 432x288 with 1 Axes>"
      ]
     },
     "metadata": {
      "needs_background": "light"
     },
     "output_type": "display_data"
    },
    {
     "data": {
      "image/png": "[encoded data removed]",
      "text/plain": [
       "<Figure size 432x288 with 1 Axes>"
      ]
     },
     "metadata": {
      "needs_background": "light"
     },
     "output_type": "display_data"
    },
    {
     "data": {
      "image/png": "[encoded data removed]",
      "text/plain": [
       "<Figure size 432x288 with 1 Axes>"
      ]
     },
     "metadata": {
      "needs_background": "light"
     },
     "output_type": "display_data"
    }
   ],
   "source": [
    "from sklearn.metrics import classification_report\n",
    "for i in range(Y.shape[1]):\n",
    "    print('annotator',i+1)\n",
    "    print(classification_report(t,Y[:,i]))\n",
    "    unique, counts = np.unique(Y[:,i], return_counts=True)\n",
    "    plt.figure()\n",
    "    plt.bar(unique, counts)\n",
    "    #     unique, counts = np.unique(Y_test[5], return_counts=True)\n",
    "    #     plt.bar(unique, counts)\n",
    "\n",
    "    plt.title('Class Frequency for Y_true')\n",
    "    plt.xlabel('Class')\n",
    "    plt.ylabel('Frequency')"
   ]
  },
  {
   "cell_type": "markdown",
   "id": "ae8c0ab3",
   "metadata": {
    "id": "uudDcV4wHiuI",
    "papermill": {
     "duration": 0.011511,
     "end_time": "2022-12-19T15:59:04.950961",
     "exception": false,
     "start_time": "2022-12-19T15:59:04.939450",
     "status": "completed"
    },
    "tags": []
   },
   "source": [
    "# Split data"
   ]
  },
  {
   "cell_type": "code",
   "execution_count": 12,
   "id": "493a50fc",
   "metadata": {
    "execution": {
     "iopub.execute_input": "2022-12-19T15:59:04.975862Z",
     "iopub.status.busy": "2022-12-19T15:59:04.975412Z",
     "iopub.status.idle": "2022-12-19T15:59:04.988440Z",
     "shell.execute_reply": "2022-12-19T15:59:04.986539Z"
    },
    "id": "QCxEhJv_3FKN",
    "outputId": "20cf4b24-fde3-4b21-f26a-2809af8f2c5d",
    "papermill": {
     "duration": 0.028945,
     "end_time": "2022-12-19T15:59:04.991291",
     "exception": false,
     "start_time": "2022-12-19T15:59:04.962346",
     "status": "completed"
    },
    "tags": []
   },
   "outputs": [
    {
     "name": "stdout",
     "output_type": "stream",
     "text": [
      "[ 72 112 132  88  37 138  87  42   8  90 141  33  59 116 135 104  36  13\n",
      "  63  45  28 133  24 127  46  20  31 121 117   4 130 119  29   0  62  93\n",
      " 131   5  16  82  60  35 143 145 142]\n",
      "(105, 4) (105, 5) (105, 1)\n"
     ]
    }
   ],
   "source": [
    "import numpy.matlib\n",
    "from sklearn.model_selection import  StratifiedShuffleSplit, ShuffleSplit\n",
    "Ns = 1\n",
    "ss = ShuffleSplit(n_splits=Ns, test_size=0.3, random_state =123)\n",
    "for train_index, test_index in ss.split(X):\n",
    "    print(test_index)\n",
    "    X_train, X_test,Y_train,Y_test = X[train_index,:], X[test_index,:],Y[train_index,:], Y[test_index,:]\n",
    "    Y_true_train, Y_true_test = t[train_index].reshape(-1,1), t[test_index].reshape(-1,1)\n",
    "print(X_train.shape, Y_train.shape, Y_true_train.shape)"
   ]
  },
  {
   "cell_type": "markdown",
   "id": "c7e291fb",
   "metadata": {
    "id": "kgDMRggXHo0X",
    "papermill": {
     "duration": 0.010764,
     "end_time": "2022-12-19T15:59:05.012809",
     "exception": false,
     "start_time": "2022-12-19T15:59:05.002045",
     "status": "completed"
    },
    "tags": []
   },
   "source": [
    "# Apply MinMaxScaler"
   ]
  },
  {
   "cell_type": "code",
   "execution_count": 13,
   "id": "19ef9f8a",
   "metadata": {
    "execution": {
     "iopub.execute_input": "2022-12-19T15:59:05.036634Z",
     "iopub.status.busy": "2022-12-19T15:59:05.035476Z",
     "iopub.status.idle": "2022-12-19T15:59:05.041893Z",
     "shell.execute_reply": "2022-12-19T15:59:05.040879Z"
    },
    "id": "33XT7bGs3FKN",
    "papermill": {
     "duration": 0.021271,
     "end_time": "2022-12-19T15:59:05.044647",
     "exception": false,
     "start_time": "2022-12-19T15:59:05.023376",
     "status": "completed"
    },
    "tags": []
   },
   "outputs": [],
   "source": [
    "scaler = MinMaxScaler()\n",
    "scaler.fit(X_train)\n",
    "X_train = scaler.transform(X_train)\n",
    "X_test = scaler.transform(X_test)"
   ]
  },
  {
   "cell_type": "code",
   "execution_count": 14,
   "id": "4f06a630",
   "metadata": {
    "execution": {
     "iopub.execute_input": "2022-12-19T15:59:05.069503Z",
     "iopub.status.busy": "2022-12-19T15:59:05.068201Z",
     "iopub.status.idle": "2022-12-19T15:59:05.076626Z",
     "shell.execute_reply": "2022-12-19T15:59:05.075379Z"
    },
    "id": "8JB57s89xbR3",
    "outputId": "5f7b5561-3e45-498d-9117-bf91a63d2fb9",
    "papermill": {
     "duration": 0.023005,
     "end_time": "2022-12-19T15:59:05.079220",
     "exception": false,
     "start_time": "2022-12-19T15:59:05.056215",
     "status": "completed"
    },
    "tags": []
   },
   "outputs": [
    {
     "data": {
      "text/plain": [
       "3"
      ]
     },
     "execution_count": 14,
     "metadata": {},
     "output_type": "execute_result"
    }
   ],
   "source": [
    "len(np.unique(Y_test))"
   ]
  },
  {
   "cell_type": "markdown",
   "id": "971a257e",
   "metadata": {
    "id": "pPoaMuiXH-Zm",
    "papermill": {
     "duration": 0.010366,
     "end_time": "2022-12-19T15:59:05.100550",
     "exception": false,
     "start_time": "2022-12-19T15:59:05.090184",
     "status": "completed"
    },
    "tags": []
   },
   "source": [
    "# Testing the Class "
   ]
  },
  {
   "cell_type": "code",
   "execution_count": 15,
   "id": "08020076",
   "metadata": {
    "execution": {
     "iopub.execute_input": "2022-12-19T15:59:05.125999Z",
     "iopub.status.busy": "2022-12-19T15:59:05.125496Z",
     "iopub.status.idle": "2022-12-19T16:00:04.720668Z",
     "shell.execute_reply": "2022-12-19T16:00:04.719329Z"
    },
    "papermill": {
     "duration": 59.612691,
     "end_time": "2022-12-19T16:00:04.724055",
     "exception": false,
     "start_time": "2022-12-19T15:59:05.111364",
     "status": "completed"
    },
    "tags": []
   },
   "outputs": [
    {
     "name": "stdout",
     "output_type": "stream",
     "text": [
      "iteration: 0\n"
     ]
    },
    {
     "name": "stderr",
     "output_type": "stream",
     "text": [
      "2022-12-19 15:59:05.415484: I tensorflow/core/common_runtime/process_util.cc:146] Creating new thread pool with default inter op setting: 2. Tune using inter_op_parallelism_threads for best performance.\n",
      "2022-12-19 15:59:06.006600: I tensorflow/compiler/mlir/mlir_graph_optimization_pass.cc:185] None of the MLIR Optimization Passes are enabled (registered 2)\n"
     ]
    },
    {
     "name": "stdout",
     "output_type": "stream",
     "text": [
      "Validation ACC: 0.9111\n",
      "Validation aUc: 1.0000\n",
      "iteration: 1\n",
      "Validation ACC: 0.9556\n",
      "Validation aUc: 1.0000\n",
      "iteration: 2\n",
      "Validation ACC: 0.8889\n",
      "Validation aUc: 1.0000\n",
      "iteration: 3\n",
      "Validation ACC: 0.8889\n",
      "Validation aUc: 1.0000\n",
      "iteration: 4\n",
      "Validation ACC: 0.9778\n",
      "Validation aUc: 1.0000\n",
      "iteration: 5\n",
      "Validation ACC: 0.9111\n",
      "Validation aUc: 1.0000\n",
      "iteration: 6\n",
      "Validation ACC: 0.9333\n",
      "Validation aUc: 1.0000\n",
      "iteration: 7\n",
      "Validation ACC: 0.8889\n",
      "Validation aUc: 1.0000\n",
      "iteration: 8\n",
      "Validation ACC: 0.9778\n",
      "Validation aUc: 1.0000\n",
      "iteration: 9\n",
      "Validation ACC: 0.9556\n",
      "Validation aUc: 1.0000\n"
     ]
    }
   ],
   "source": [
    "from sklearn.metrics import classification_report\n",
    "\n",
    "l1 =0.001\n",
    "NUM_RUNS =10\n",
    "ACC = np.zeros(NUM_RUNS)\n",
    "AUC = np.zeros(NUM_RUNS)\n",
    "for i in range(NUM_RUNS): #10\n",
    "    print(\"iteration: \" + str(i))\n",
    "   \n",
    "    MA = Keras_MA_CrowdL(epochs=100,batch_size=32,R= Y_train.shape[1], K=len(np.unique(Y_true_test)), dropout=0.2, learning_rate=0.01,optimizer='Adam', \n",
    "                l1_param=l1,  validation_split=0.3, verbose=0)\n",
    "\n",
    "\n",
    "    MA.fit(X_train, Y_train)\n",
    "    #MA.plot_history()\n",
    "  \n",
    "    #Accuracy  \n",
    "    \n",
    "    #estimar etiquetas modelo rodiguez \n",
    "    preds_test_num =  MA.predict2(X_test)\n",
    "    \n",
    "    report = classification_report(Y_true_test,preds_test_num,output_dict=True)\n",
    "    ACC[i] = report['accuracy']\n",
    "    print(\"Validation ACC: %.4f\" % (float(report['accuracy']),))\n",
    "    \n",
    "    #AUC\n",
    "    val_AUC_metric = tf.keras.metrics.AUC( from_logits = True)  \n",
    "   # val_logits =MA.predict(X_test) # model(X_test, training=False)\n",
    "    # tf.print(y_batch_val)\n",
    "    val_AUC_metric.update_state(Y_true_test,  preds_test_num.astype('float'))\n",
    "\n",
    "    val_AUC = val_AUC_metric.result()\n",
    "    val_AUC_metric.reset_states()\n",
    "    val_AUC = val_AUC.numpy()\n",
    "    print(\"Validation aUc: %.4f\" % (float(val_AUC),))\n",
    "    AUC[i] = val_AUC\n",
    "    \n",
    "  "
   ]
  },
  {
   "cell_type": "code",
   "execution_count": 16,
   "id": "9a7ba07f",
   "metadata": {
    "execution": {
     "iopub.execute_input": "2022-12-19T16:00:04.749179Z",
     "iopub.status.busy": "2022-12-19T16:00:04.748769Z",
     "iopub.status.idle": "2022-12-19T16:00:04.756370Z",
     "shell.execute_reply": "2022-12-19T16:00:04.755148Z"
    },
    "papermill": {
     "duration": 0.023021,
     "end_time": "2022-12-19T16:00:04.758915",
     "exception": false,
     "start_time": "2022-12-19T16:00:04.735894",
     "status": "completed"
    },
    "tags": []
   },
   "outputs": [
    {
     "data": {
      "text/plain": [
       "array([0.91111111, 0.95555556, 0.88888889, 0.88888889, 0.97777778,\n",
       "       0.91111111, 0.93333333, 0.88888889, 0.97777778, 0.95555556])"
      ]
     },
     "execution_count": 16,
     "metadata": {},
     "output_type": "execute_result"
    }
   ],
   "source": [
    "ACC"
   ]
  },
  {
   "cell_type": "code",
   "execution_count": 17,
   "id": "78f7c143",
   "metadata": {
    "execution": {
     "iopub.execute_input": "2022-12-19T16:00:04.783777Z",
     "iopub.status.busy": "2022-12-19T16:00:04.783314Z",
     "iopub.status.idle": "2022-12-19T16:00:04.791574Z",
     "shell.execute_reply": "2022-12-19T16:00:04.790393Z"
    },
    "papermill": {
     "duration": 0.023627,
     "end_time": "2022-12-19T16:00:04.794017",
     "exception": false,
     "start_time": "2022-12-19T16:00:04.770390",
     "status": "completed"
    },
    "tags": []
   },
   "outputs": [
    {
     "data": {
      "text/plain": [
       "array([1., 1., 1., 1., 1., 1., 1., 1., 1., 1.])"
      ]
     },
     "execution_count": 17,
     "metadata": {},
     "output_type": "execute_result"
    }
   ],
   "source": [
    "AUC"
   ]
  },
  {
   "cell_type": "code",
   "execution_count": 18,
   "id": "0ac4fd0a",
   "metadata": {
    "execution": {
     "iopub.execute_input": "2022-12-19T16:00:04.819504Z",
     "iopub.status.busy": "2022-12-19T16:00:04.818680Z",
     "iopub.status.idle": "2022-12-19T16:00:04.825617Z",
     "shell.execute_reply": "2022-12-19T16:00:04.824413Z"
    },
    "papermill": {
     "duration": 0.023063,
     "end_time": "2022-12-19T16:00:04.828889",
     "exception": false,
     "start_time": "2022-12-19T16:00:04.805826",
     "status": "completed"
    },
    "tags": []
   },
   "outputs": [
    {
     "name": "stdout",
     "output_type": "stream",
     "text": [
      "Average Accuracy:  92.89\n",
      "Average std:  3.4099999999999997\n"
     ]
    }
   ],
   "source": [
    "print('Average Accuracy: ', np.round( ACC.mean(),4)*100) \n",
    "print('Average std: ',np.round(np.std( ACC),4)*100)"
   ]
  },
  {
   "cell_type": "code",
   "execution_count": 19,
   "id": "b94fc0b8",
   "metadata": {
    "execution": {
     "iopub.execute_input": "2022-12-19T16:00:04.855765Z",
     "iopub.status.busy": "2022-12-19T16:00:04.854617Z",
     "iopub.status.idle": "2022-12-19T16:00:04.862364Z",
     "shell.execute_reply": "2022-12-19T16:00:04.860938Z"
    },
    "papermill": {
     "duration": 0.023252,
     "end_time": "2022-12-19T16:00:04.864908",
     "exception": false,
     "start_time": "2022-12-19T16:00:04.841656",
     "status": "completed"
    },
    "tags": []
   },
   "outputs": [
    {
     "name": "stdout",
     "output_type": "stream",
     "text": [
      "Average AUC:  100.0\n",
      "Average AUC std:  0.0\n"
     ]
    }
   ],
   "source": [
    "print('Average AUC: ', np.round( AUC.mean(),4)*100) \n",
    "print('Average AUC std: ',np.round(np.std( AUC),4)*100)"
   ]
  },
  {
   "cell_type": "code",
   "execution_count": null,
   "id": "c8b661b0",
   "metadata": {
    "papermill": {
     "duration": 0.011378,
     "end_time": "2022-12-19T16:00:04.888060",
     "exception": false,
     "start_time": "2022-12-19T16:00:04.876682",
     "status": "completed"
    },
    "tags": []
   },
   "outputs": [],
   "source": []
  }
 ],
 "metadata": {
  "kernelspec": {
   "display_name": "Python 3",
   "language": "python",
   "name": "python3"
  },
  "language_info": {
   "codemirror_mode": {
    "name": "ipython",
    "version": 3
   },
   "file_extension": ".py",
   "mimetype": "text/x-python",
   "name": "python",
   "nbconvert_exporter": "python",
   "pygments_lexer": "ipython3",
   "version": "3.7.12"
  },
  "papermill": {
   "default_parameters": {},
   "duration": 96.890011,
   "end_time": "2022-12-19T16:00:08.088327",
   "environment_variables": {},
   "exception": null,
   "input_path": "__notebook__.ipynb",
   "output_path": "__notebook__.ipynb",
   "parameters": {},
   "start_time": "2022-12-19T15:58:31.198316",
   "version": "2.3.4"
  }
 },
 "nbformat": 4,
 "nbformat_minor": 5
}
