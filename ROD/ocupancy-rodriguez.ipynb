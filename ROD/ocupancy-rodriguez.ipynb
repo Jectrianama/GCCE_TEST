{
 "cells": [
  {
   "cell_type": "markdown",
   "id": "9568df83",
   "metadata": {
    "id": "Cy45HoPn5SpZ",
    "papermill": {
     "duration": 0.009581,
     "end_time": "2023-02-03T04:27:32.857064",
     "exception": false,
     "start_time": "2023-02-03T04:27:32.847483",
     "status": "completed"
    },
    "tags": []
   },
   "source": [
    "# Loss function Rodrigues\n",
    "\n",
    "$𝒟 = \\{ \\mathbf{x}_n, \\mathbf{y}_n\\}$ be a dataset of size $N$\n",
    "\n",
    "$\\mathbf{x}_n \\in \\mathbb{R}^D$\n",
    "\n",
    "${\\mathbf{y}}^r_n\\in[0,1]^K$:   label provided for the r-th annotator in a set of R annotators\n",
    "\n",
    "$𝒛_n$ Latent true class determined by a softmax output layer  of a DNN\n",
    "\n",
    "\n",
    "$\\mathbf{\\sigma}\\in \\mathbb{R} ^Q$: DNN-based feature representation. correspond to the output of a softmax layer\n",
    "\n",
    "$\\hat{\\mathbf{y}}^r_n = f_r(\\sigma)\\in[0,1]^{1 \\times K}$\n",
    "\n",
    "$\\hat{\\mathbf{y}}_n=[\\hat{\\mathbf{y}}^1_n,\\hat{\\mathbf{y}}^2_n,\\dots,\\hat{\\mathbf{y}}^R_n]\\in [0,1]^{1\\times (R\\times K)}$\n",
    "\n",
    "Activation of the crowd layer for each anotator  $ \\mathbf{a}^r = f_r(\\sigma)$, where $f_r$ is an annotator-specific function, and the output of the crowd layer simply as the softmax of the\n",
    "activations $o_c^r = e^{a_c^r}/\\sum_{l=1}^{C}e^{a_l^r}$.\n",
    "\n",
    "\n",
    " $f_r(\\sigma)= \\mathbf{W}^r\\mathbf{\\sigma}$\n",
    "\n",
    " $\\mathbf{W}^r$ is an annotator-specific matrix\n",
    "\n",
    " **Cost function**\n",
    "\n",
    " $E(\\mathbf{o}^r, y^r)$\n",
    " between the expected output of the r-th annotator and its actual label $y^r$,\n",
    "\n",
    "Then, \n",
    "\n",
    "if we make. $\\lambda_n^r(\\theta) = \\mathbf{1}$ in PRI loss\n",
    "\n",
    "\n",
    "\n",
    "$$\\min_\\theta \\sum_n\\left(\\sum_r \\lambda_n^r(\\theta)H({\\mathbf{y}}^r_n;\\hat{\\mathbf{y}}_n(\\theta))\\right)+\\left(H(\\hat{\\mathbf{y}}_n(\\theta))\\sum_r\\left(1-\\lambda_n^r(\\theta)\\right)\\right)$$\n",
    "\n",
    " \n",
    "we can obtain rodriguez\n",
    "\n",
    "\n",
    "$$\\min_\\theta \\sum_n\\left(\\sum_r (\\mathbf{1})H({\\mathbf{y}}^r_n;\\hat{\\mathbf{y}}_n(\\theta))\\right)+\\left(H(\\hat{\\mathbf{y}}_n(\\theta))\\sum_r\\left(1-\\mathbf{1}\\right)\\right)$$"
   ]
  },
  {
   "cell_type": "code",
   "execution_count": 1,
   "id": "97246975",
   "metadata": {
    "execution": {
     "iopub.execute_input": "2023-02-03T04:27:32.875810Z",
     "iopub.status.busy": "2023-02-03T04:27:32.875166Z",
     "iopub.status.idle": "2023-02-03T04:27:32.881035Z",
     "shell.execute_reply": "2023-02-03T04:27:32.880225Z"
    },
    "id": "Htu1kN9-jZO1",
    "papermill": {
     "duration": 0.018289,
     "end_time": "2023-02-03T04:27:32.883482",
     "exception": false,
     "start_time": "2023-02-03T04:27:32.865193",
     "status": "completed"
    },
    "tags": []
   },
   "outputs": [],
   "source": [
    "#!pip install tensorflow==2.7.0\n",
    "#!pip install scikeras"
   ]
  },
  {
   "cell_type": "markdown",
   "id": "14858f33",
   "metadata": {
    "id": "lYGUr8mv4EuV",
    "papermill": {
     "duration": 0.008807,
     "end_time": "2023-02-03T04:27:32.900323",
     "exception": false,
     "start_time": "2023-02-03T04:27:32.891516",
     "status": "completed"
    },
    "tags": []
   },
   "source": [
    "# Subclassing for Crowdlayer Rodriguez"
   ]
  },
  {
   "cell_type": "code",
   "execution_count": 2,
   "id": "ee264227",
   "metadata": {
    "execution": {
     "iopub.execute_input": "2023-02-03T04:27:32.920083Z",
     "iopub.status.busy": "2023-02-03T04:27:32.919323Z",
     "iopub.status.idle": "2023-02-03T04:27:42.342820Z",
     "shell.execute_reply": "2023-02-03T04:27:42.341353Z"
    },
    "id": "p5fJiVgC3FKO",
    "papermill": {
     "duration": 9.437659,
     "end_time": "2023-02-03T04:27:42.346225",
     "exception": false,
     "start_time": "2023-02-03T04:27:32.908566",
     "status": "completed"
    },
    "tags": []
   },
   "outputs": [],
   "source": [
    "# -*- coding: utf-8 -*-\n",
    "import tensorflow as tf\n",
    "import matplotlib.pyplot as plt\n",
    "#from tensorflow.keras.wrappers.scikit_learn import KerasClassifier\n",
    "import tensorflow_probability as tfp\n",
    "from tensorflow.keras import regularizers\n",
    "from sklearn.base import  BaseEstimator, TransformerMixin, ClassifierMixin\n",
    "from sklearn.model_selection import train_test_split\n",
    "tf.keras.backend.clear_session()\n",
    "#tf.random.set_seed(42)\n",
    "import types\n",
    "import tempfile\n",
    "class Keras_MA_CrowdL(): #transformer no va\n",
    " #Constructor __init__. Special method: identified by a double underscore at either side of their name\n",
    " #work in the background\n",
    " # initialize data members to the object. lets the class initialize the object’s attributes and serves no other purpose.\n",
    "    def __init__(self,epochs=70,batch_size=30,R=5, K=2, dropout=0.5, learning_rate=1e-3,optimizer='Adam', \n",
    "                  l1_param=0, validation_split=0.3, verbose=0):\n",
    "        #print('init')\n",
    "        self.epochs=epochs\n",
    "        self.dropout=dropout\n",
    "        self.batch_size = batch_size\n",
    "        self.learning_rate=learning_rate \n",
    "        self.l1_param=l1_param \n",
    "        self.l2_param=l1_param\n",
    "        self.validation_split = validation_split\n",
    "        self.verbose = verbose\n",
    "        self.optimizer = optimizer\n",
    "        self.R=R\n",
    "        self.K=K\n",
    "\n",
    "    \n",
    " \n",
    "    def custom_CLR_loss(self, y_true, y_pred): #ytrue \\in N x R,  ypred \\in N x K x R  ->CrowdLayerRodriguez\n",
    "        #print(y_true.shape)\n",
    "        Y_true_1K = tf.one_hot(tf.cast(y_true,dtype=tf.int32),depth=self.K,axis=1) #samples, classes 1-K, annotators\n",
    "        #print(Y_true_1K.shape)    \n",
    "        vec = tf.nn.softmax_cross_entropy_with_logits(logits=y_pred, labels=Y_true_1K, axis = 1)\n",
    "        #print(vec.shape)\n",
    "        #mask = tf.equal(Y_true_1K[:,0,:], -1)\n",
    "        #zer = tf.zeros_like(vec)\n",
    "        #loss = tf.where(mask, x=zer, y=vec)\n",
    "        #tf.print(\"loss\", loss)\n",
    "        return tf.math.reduce_sum(vec)\n",
    "\n",
    " \n",
    "    def fit(self, X, Y):\n",
    "        P = X.shape[1]\n",
    "        if self.optimizer == \"Adam\":\n",
    "            opt = tf.keras.optimizers.Adam(learning_rate=self.learning_rate)\n",
    "        elif self.optimizer == \"SGD\":\n",
    "            opt = tf.keras.optimizers.SGD(learning_rate=self.learning_rate)\n",
    "        else:\n",
    "            opt=self.optimizer\n",
    "\n",
    "        #capa de entrada\n",
    "        input_l = tf.keras.layers.Input(shape=(X.shape[1]), name='entrada')\n",
    "        #capas densas\n",
    "        h1 = tf.keras.layers.Dense(int(P*4*(self.K+self.R)),activation='selu',name='h1',\n",
    "                              kernel_regularizer=tf.keras.regularizers.l1_l2(l1=self.l1_param,l2=self.l2_param))(input_l)#argumento de entrada\n",
    "        h2 = tf.keras.layers.Dense(int(P*(self.K+self.R)),activation='selu',name='h2',\n",
    "                              kernel_regularizer=tf.keras.regularizers.l1_l2(l1=self.l1_param,l2=self.l2_param))(h1)\n",
    "        dout = tf.keras.layers.Dropout(rate=self.dropout)(h2)\n",
    "        output_dense = tf.keras.layers.Dense(self.K,activation=\"softmax\",name='output',\n",
    "                               kernel_regularizer=tf.keras.regularizers.l1_l2(l1=self.l1_param,l2=self.l2_param))(dout)\n",
    "        output= CrowdsClassification(self.K, self.R, conn_type=\"MW\")(output_dense) #Classes x Annotators\n",
    "        self.model = tf.keras.Model(inputs= input_l,outputs=output)\n",
    "        self.model.compile(loss= self.custom_CLR_loss, optimizer=opt)\n",
    "        self.history = self.model.fit(X, Y, epochs=self.epochs, validation_split= self.validation_split,   #\n",
    "                                      batch_size=self.batch_size,verbose=self.verbose)\n",
    "        #model_p  to predict labels in gridsearch  \n",
    "        self.model_p = tf.keras.Model(inputs=self.model.inputs,outputs=self.model.get_layer('output').output) #se accede a capas por nombre\n",
    "        #resumen y gráfica del modelo\n",
    "        #print(self.model.summary())\n",
    "        \n",
    "        return self\n",
    "\n",
    "    def predict2(self, X, *_):\n",
    "      return  np.argmax(self.model_p.predict(X), axis=1)    \n",
    "     \n",
    "    def predict(self, X, *_):\n",
    "\n",
    "       #print('predict') \n",
    "       return  self.model.predict(X) \n",
    "\n",
    "    def fit_predict(self,X,y):\n",
    "        #input X numpy array first dimension samples (N)x features (P)\n",
    "        #input Y numpy array vector len = samples (N) x  annotators (R)\n",
    "        \n",
    "        self.fit(X,y)\n",
    "        return self.predict(X)\n",
    "  \n",
    "     #graphics\n",
    "    def plot_history(self):\n",
    "        pd.DataFrame(self.history.history).plot(figsize=(8, 5))\n",
    "        plt.grid(True)\n",
    "        #plt.gca().set_ylim(0, 1)\n",
    "        #save_fig(\"keras_learning_curves_plot\")\n",
    "        plt.show()\n",
    "        return\n",
    "    \n",
    "    def set_params(self, **parameters):\n",
    "        #print('set_params') \n",
    "        for parameter, value in parameters.items():\n",
    "            setattr(self, parameter, value)\n",
    "\n",
    "        return self\n",
    "    \n",
    "    \n",
    "    \n",
    "    def get_params(self, deep=True):\n",
    "        #print('get_params') \n",
    "        return { 'l1_param':self.l1_param, 'dropout':self.dropout, 'optimizer':self.optimizer,\n",
    "                'learning_rate':self.learning_rate, 'batch_size':self.batch_size,\n",
    "                'epochs':self.epochs, 'verbose':self.verbose, 'validation_split':self.validation_split,\n",
    "                'R':self.R, 'K':self.K\n",
    "                }"
   ]
  },
  {
   "cell_type": "markdown",
   "id": "0bd857df",
   "metadata": {
    "id": "b9yV0N4v4U_3",
    "papermill": {
     "duration": 0.007521,
     "end_time": "2023-02-03T04:27:42.361725",
     "exception": false,
     "start_time": "2023-02-03T04:27:42.354204",
     "status": "completed"
    },
    "tags": []
   },
   "source": [
    "# Crowdlayer class"
   ]
  },
  {
   "cell_type": "code",
   "execution_count": 3,
   "id": "1fd3a843",
   "metadata": {
    "execution": {
     "iopub.execute_input": "2023-02-03T04:27:42.380094Z",
     "iopub.status.busy": "2023-02-03T04:27:42.379435Z",
     "iopub.status.idle": "2023-02-03T04:27:42.405135Z",
     "shell.execute_reply": "2023-02-03T04:27:42.404016Z"
    },
    "id": "4ysb7umL3FKN",
    "papermill": {
     "duration": 0.03833,
     "end_time": "2023-02-03T04:27:42.408108",
     "exception": false,
     "start_time": "2023-02-03T04:27:42.369778",
     "status": "completed"
    },
    "tags": []
   },
   "outputs": [],
   "source": [
    " \n",
    "import numpy as np\n",
    "import tensorflow as tf\n",
    "import tensorflow.keras as keras\n",
    "from tensorflow.keras import backend as K1\n",
    "from tensorflow.keras.layers import Layer\n",
    "#from tensorflow.keras.engine.topology import Layer\n",
    "\n",
    "def init_identities(shape, dtype=None):\n",
    "    out = np.zeros(shape)\n",
    "    for r in range(shape[2]):\n",
    "        for i in range(shape[0]):\n",
    "            out[i,i,r] = 1.0\n",
    "    return out\n",
    "    \n",
    "class CrowdsClassification(Layer):\n",
    "\n",
    "\n",
    "  \n",
    "  #The build() method’s role is to create the layer’s variables, by calling the \n",
    "  #add_weight() method for each weight.  which is often necessary to create some of the weights.\n",
    "  #we need to know the number of neurons in the previous layer in order to create the connection weights matrix (i.e., the \"kernel\"): \n",
    "  #this corresponds to the size of the last dimension of the inputs. \n",
    "   \n",
    "    def __init__(self, output_dim, num_annotators, conn_type=\"MW\", **kwargs):\n",
    "        self.output_dim = output_dim\n",
    "        self.num_annotators = num_annotators\n",
    "        self.conn_type = conn_type\n",
    "        super(CrowdsClassification, self).__init__(**kwargs)\n",
    "\n",
    "\n",
    "\n",
    "    def build(self, input_shape):\n",
    "        if self.conn_type == \"MW\":\n",
    "            # matrix of weights per annotator\n",
    "      #A layer is a callable object that takes as input one or more tensors and that outputs one or more tensors. \n",
    "      #It involves computation, defined in the call() method, and a state (weight variables). \n",
    "      #the method add_weight() offers a shortcut to create weights.\n",
    "\n",
    "            self.kernel = self.add_weight(\"CrowdLayer\", (self.output_dim, self.output_dim, self.num_annotators),\n",
    "                                            initializer=init_identities, #It is the stated initializer instance\n",
    "                                            trainable=True) # trainable weights, updated via backpropagation during training\n",
    "        elif self.conn_type == \"VW\":\n",
    "            # vector of weights (one scale per class) per annotator\n",
    "            self.kernel = self.add_weight(\"CrowdLayer\", (self.output_dim, self.num_annotators),\n",
    "                                            initializer=keras.initializers.Ones(), \n",
    "                                            trainable=True)\n",
    "        elif self.conn_type == \"VB\":\n",
    "            # two vectors of weights (one scale and one bias per class) per annotator\n",
    "            self.kernel = []\n",
    "            self.kernel.append(self.add_weight(\"CrowdLayer\", (self.output_dim, self.num_annotators),\n",
    "                                            initializer=keras.initializers.Zeros(),\n",
    "                                            trainable=True))\n",
    "        elif self.conn_type == \"VW+B\":\n",
    "            # two vectors of weights (one scale and one bias per class) per annotator\n",
    "            self.kernel = []\n",
    "            self.kernel.append(self.add_weight(\"CrowdLayer\", (self.output_dim, self.num_annotators),\n",
    "                                            initializer=keras.initializers.Ones(),\n",
    "                                            trainable=True))\n",
    "            self.kernel.append(self.add_weight(\"CrowdLayer\", (self.output_dim, self.num_annotators),\n",
    "                                            initializer=keras.initializers.Zeros(),\n",
    "                                            trainable=True))\n",
    "        elif self.conn_type == \"SW\":\n",
    "            # single weight value per annotator\n",
    "            self.kernel = self.add_weight(\"CrowdLayer\", (self.num_annotators,1),\n",
    "                                            initializer=keras.initializers.Ones(),\n",
    "                                            trainable=True)\n",
    "        else:\n",
    "            raise Exception(\"Unknown connection type for CrowdsClassification layer!\")\n",
    "    #At the end of the build() method (and only at the end), \n",
    "    #you must call the parent’s build() method: this tells Keras that the layer is built (it just sets self.built = True).\n",
    "        super(CrowdsClassification, self).build(input_shape)  # Be sure to call this somewhere!\n",
    "\n",
    "    def call(self, x):\n",
    "    \n",
    "    #The call() method actually performs the desired operations. In this case, \n",
    "    #we compute the matrix multiplication of the inputs X and the layer’s kernel and \n",
    "    #this gives us the output of the layer.\n",
    "     \n",
    " \n",
    "\n",
    "        if self.conn_type == \"MW\":\n",
    "            res = K1.dot(x, self.kernel)\n",
    "        elif self.conn_type == \"VW\" or self.conn_type == \"VB\" or self.conn_type == \"VW+B\" or self.conn_type == \"SW\":\n",
    "            out = []\n",
    "            for r in range(self.num_annotators):\n",
    "                if self.conn_type == \"VW\":\n",
    "                    out.append(x * self.kernel[:,r])\n",
    "                elif self.conn_type == \"VB\":\n",
    "                    out.append(x + self.kernel[0][:,r])\n",
    "                elif self.conn_type == \"VW+B\":\n",
    "                    out.append(x * self.kernel[0][:,r] + self.kernel[1][:,r])\n",
    "                elif self.conn_type == \"SW\":\n",
    "                    out.append(x * self.kernel[r,0])\n",
    "            res = tf.stack(out)\n",
    "            if len(res.shape) == 3:\n",
    "                res = tf.transpose(res, [1, 2, 0])\n",
    "            elif len(res.shape) == 4:\n",
    "                res = tf.transpose(res, [1, 2, 3, 0])\n",
    "            else:\n",
    "                raise Exception(\"Wrong number of dimensions for output\")\n",
    "        else:\n",
    "            raise Exception(\"Unknown connection type for CrowdsClassification layer!\") \n",
    "        \n",
    "        return res\n",
    " \n",
    "#The compute_output_shape() method simply returns the shape of this layer’s outputs. \n",
    "#In this case, it is the same shape as the inputs, except the last two dimensions is replaced \n",
    "#with the number of clases and # annotators in the layer.  \n",
    " \n",
    "\n",
    "    def compute_output_shape(self, input_shape):\n",
    "        return (input_shape[0], self.output_dim, self.num_annotators)"
   ]
  },
  {
   "cell_type": "markdown",
   "id": "305d1212",
   "metadata": {
    "id": "xKzPN5lnHO13",
    "papermill": {
     "duration": 0.007559,
     "end_time": "2023-02-03T04:27:42.423598",
     "exception": false,
     "start_time": "2023-02-03T04:27:42.416039",
     "status": "completed"
    },
    "tags": []
   },
   "source": [
    "# Load Data"
   ]
  },
  {
   "cell_type": "code",
   "execution_count": 4,
   "id": "496eb19e",
   "metadata": {
    "execution": {
     "iopub.execute_input": "2023-02-03T04:27:42.441333Z",
     "iopub.status.busy": "2023-02-03T04:27:42.440924Z",
     "iopub.status.idle": "2023-02-03T04:27:42.476115Z",
     "shell.execute_reply": "2023-02-03T04:27:42.474481Z"
    },
    "id": "hA1QFlPBjpbA",
    "outputId": "db5be05d-1fdc-4725-8064-5dc79e7a9a6a",
    "papermill": {
     "duration": 0.04923,
     "end_time": "2023-02-03T04:27:42.480979",
     "exception": false,
     "start_time": "2023-02-03T04:27:42.431749",
     "status": "completed"
    },
    "tags": []
   },
   "outputs": [],
   "source": [
    "#load data\n",
    "import scipy.io as sio\n",
    "import matplotlib.pyplot as plt\n",
    "import pandas as pd\n",
    "import tensorflow as tf #importar tensorflow\n",
    "from sklearn.model_selection import GridSearchCV, RandomizedSearchCV\n",
    "from sklearn.preprocessing import StandardScaler,MinMaxScaler\n",
    "import numpy as np\n",
    " \n",
    "database = 'Ocupancy'"
   ]
  },
  {
   "cell_type": "code",
   "execution_count": 5,
   "id": "8c2cb3d3",
   "metadata": {
    "execution": {
     "iopub.execute_input": "2023-02-03T04:27:42.501973Z",
     "iopub.status.busy": "2023-02-03T04:27:42.501182Z",
     "iopub.status.idle": "2023-02-03T04:27:42.548454Z",
     "shell.execute_reply": "2023-02-03T04:27:42.547293Z"
    },
    "papermill": {
     "duration": 0.06307,
     "end_time": "2023-02-03T04:27:42.553809",
     "exception": false,
     "start_time": "2023-02-03T04:27:42.490739",
     "status": "completed"
    },
    "tags": []
   },
   "outputs": [
    {
     "data": {
      "text/html": [
       "<div>\n",
       "<style scoped>\n",
       "    .dataframe tbody tr th:only-of-type {\n",
       "        vertical-align: middle;\n",
       "    }\n",
       "\n",
       "    .dataframe tbody tr th {\n",
       "        vertical-align: top;\n",
       "    }\n",
       "\n",
       "    .dataframe thead th {\n",
       "        text-align: right;\n",
       "    }\n",
       "</style>\n",
       "<table border=\"1\" class=\"dataframe\">\n",
       "  <thead>\n",
       "    <tr style=\"text-align: right;\">\n",
       "      <th></th>\n",
       "      <th>Temperature</th>\n",
       "      <th>Humidity</th>\n",
       "      <th>Light</th>\n",
       "      <th>CO2</th>\n",
       "      <th>HumidityRatio</th>\n",
       "      <th>Occupancy</th>\n",
       "    </tr>\n",
       "  </thead>\n",
       "  <tbody>\n",
       "    <tr>\n",
       "      <th>0</th>\n",
       "      <td>23.700000</td>\n",
       "      <td>26.272000</td>\n",
       "      <td>585.200000</td>\n",
       "      <td>749.200000</td>\n",
       "      <td>0.004764</td>\n",
       "      <td>1</td>\n",
       "    </tr>\n",
       "    <tr>\n",
       "      <th>1</th>\n",
       "      <td>23.718000</td>\n",
       "      <td>26.290000</td>\n",
       "      <td>578.400000</td>\n",
       "      <td>760.400000</td>\n",
       "      <td>0.004773</td>\n",
       "      <td>1</td>\n",
       "    </tr>\n",
       "    <tr>\n",
       "      <th>2</th>\n",
       "      <td>23.730000</td>\n",
       "      <td>26.230000</td>\n",
       "      <td>572.666667</td>\n",
       "      <td>769.666667</td>\n",
       "      <td>0.004765</td>\n",
       "      <td>1</td>\n",
       "    </tr>\n",
       "    <tr>\n",
       "      <th>3</th>\n",
       "      <td>23.722500</td>\n",
       "      <td>26.125000</td>\n",
       "      <td>493.750000</td>\n",
       "      <td>774.750000</td>\n",
       "      <td>0.004744</td>\n",
       "      <td>1</td>\n",
       "    </tr>\n",
       "    <tr>\n",
       "      <th>4</th>\n",
       "      <td>23.754000</td>\n",
       "      <td>26.200000</td>\n",
       "      <td>488.600000</td>\n",
       "      <td>779.000000</td>\n",
       "      <td>0.004767</td>\n",
       "      <td>1</td>\n",
       "    </tr>\n",
       "    <tr>\n",
       "      <th>...</th>\n",
       "      <td>...</td>\n",
       "      <td>...</td>\n",
       "      <td>...</td>\n",
       "      <td>...</td>\n",
       "      <td>...</td>\n",
       "      <td>...</td>\n",
       "    </tr>\n",
       "    <tr>\n",
       "      <th>2660</th>\n",
       "      <td>24.290000</td>\n",
       "      <td>25.700000</td>\n",
       "      <td>808.000000</td>\n",
       "      <td>1150.250000</td>\n",
       "      <td>0.004829</td>\n",
       "      <td>1</td>\n",
       "    </tr>\n",
       "    <tr>\n",
       "      <th>2661</th>\n",
       "      <td>24.330000</td>\n",
       "      <td>25.736000</td>\n",
       "      <td>809.800000</td>\n",
       "      <td>1129.200000</td>\n",
       "      <td>0.004848</td>\n",
       "      <td>1</td>\n",
       "    </tr>\n",
       "    <tr>\n",
       "      <th>2662</th>\n",
       "      <td>24.330000</td>\n",
       "      <td>25.700000</td>\n",
       "      <td>817.000000</td>\n",
       "      <td>1125.800000</td>\n",
       "      <td>0.004841</td>\n",
       "      <td>1</td>\n",
       "    </tr>\n",
       "    <tr>\n",
       "      <th>2663</th>\n",
       "      <td>24.356667</td>\n",
       "      <td>25.700000</td>\n",
       "      <td>813.000000</td>\n",
       "      <td>1123.000000</td>\n",
       "      <td>0.004849</td>\n",
       "      <td>1</td>\n",
       "    </tr>\n",
       "    <tr>\n",
       "      <th>2664</th>\n",
       "      <td>24.408333</td>\n",
       "      <td>25.681667</td>\n",
       "      <td>798.000000</td>\n",
       "      <td>1124.000000</td>\n",
       "      <td>0.004860</td>\n",
       "      <td>1</td>\n",
       "    </tr>\n",
       "  </tbody>\n",
       "</table>\n",
       "<p>2665 rows × 6 columns</p>\n",
       "</div>"
      ],
      "text/plain": [
       "      Temperature   Humidity       Light          CO2  HumidityRatio  \\\n",
       "0       23.700000  26.272000  585.200000   749.200000       0.004764   \n",
       "1       23.718000  26.290000  578.400000   760.400000       0.004773   \n",
       "2       23.730000  26.230000  572.666667   769.666667       0.004765   \n",
       "3       23.722500  26.125000  493.750000   774.750000       0.004744   \n",
       "4       23.754000  26.200000  488.600000   779.000000       0.004767   \n",
       "...           ...        ...         ...          ...            ...   \n",
       "2660    24.290000  25.700000  808.000000  1150.250000       0.004829   \n",
       "2661    24.330000  25.736000  809.800000  1129.200000       0.004848   \n",
       "2662    24.330000  25.700000  817.000000  1125.800000       0.004841   \n",
       "2663    24.356667  25.700000  813.000000  1123.000000       0.004849   \n",
       "2664    24.408333  25.681667  798.000000  1124.000000       0.004860   \n",
       "\n",
       "      Occupancy  \n",
       "0             1  \n",
       "1             1  \n",
       "2             1  \n",
       "3             1  \n",
       "4             1  \n",
       "...         ...  \n",
       "2660          1  \n",
       "2661          1  \n",
       "2662          1  \n",
       "2663          1  \n",
       "2664          1  \n",
       "\n",
       "[2665 rows x 6 columns]"
      ]
     },
     "execution_count": 5,
     "metadata": {},
     "output_type": "execute_result"
    }
   ],
   "source": [
    "dfo= pd.read_csv(\"../input/room-occupancy/file.csv\")\n",
    "dfo"
   ]
  },
  {
   "cell_type": "code",
   "execution_count": 6,
   "id": "b894093d",
   "metadata": {
    "execution": {
     "iopub.execute_input": "2023-02-03T04:27:42.582951Z",
     "iopub.status.busy": "2023-02-03T04:27:42.581699Z",
     "iopub.status.idle": "2023-02-03T04:27:42.588525Z",
     "shell.execute_reply": "2023-02-03T04:27:42.587243Z"
    },
    "papermill": {
     "duration": 0.024983,
     "end_time": "2023-02-03T04:27:42.592648",
     "exception": false,
     "start_time": "2023-02-03T04:27:42.567665",
     "status": "completed"
    },
    "tags": []
   },
   "outputs": [
    {
     "name": "stdout",
     "output_type": "stream",
     "text": [
      "(2665, 6)\n"
     ]
    }
   ],
   "source": [
    "print(dfo.shape)"
   ]
  },
  {
   "cell_type": "code",
   "execution_count": 7,
   "id": "4ae964ca",
   "metadata": {
    "execution": {
     "iopub.execute_input": "2023-02-03T04:27:42.620710Z",
     "iopub.status.busy": "2023-02-03T04:27:42.619642Z",
     "iopub.status.idle": "2023-02-03T04:27:42.635997Z",
     "shell.execute_reply": "2023-02-03T04:27:42.634266Z"
    },
    "id": "Hqmwm8kJj7HL",
    "papermill": {
     "duration": 0.035507,
     "end_time": "2023-02-03T04:27:42.640509",
     "exception": false,
     "start_time": "2023-02-03T04:27:42.605002",
     "status": "completed"
    },
    "tags": []
   },
   "outputs": [
    {
     "data": {
      "text/plain": [
       "0    1693\n",
       "1     972\n",
       "Name: Occupancy, dtype: int64"
      ]
     },
     "execution_count": 7,
     "metadata": {},
     "output_type": "execute_result"
    }
   ],
   "source": [
    "dfo['Occupancy'].value_counts()"
   ]
  },
  {
   "cell_type": "code",
   "execution_count": 8,
   "id": "2461ed88",
   "metadata": {
    "execution": {
     "iopub.execute_input": "2023-02-03T04:27:42.666168Z",
     "iopub.status.busy": "2023-02-03T04:27:42.665291Z",
     "iopub.status.idle": "2023-02-03T04:27:43.102598Z",
     "shell.execute_reply": "2023-02-03T04:27:43.101277Z"
    },
    "papermill": {
     "duration": 0.451888,
     "end_time": "2023-02-03T04:27:43.105381",
     "exception": false,
     "start_time": "2023-02-03T04:27:42.653493",
     "status": "completed"
    },
    "tags": []
   },
   "outputs": [
    {
     "data": {
      "image/png": "[encoded data removed]",
      "text/plain": [
       "<Figure size 432x288 with 1 Axes>"
      ]
     },
     "metadata": {
      "needs_background": "light"
     },
     "output_type": "display_data"
    }
   ],
   "source": [
    "#Histogram showing distribution of 'OCCUPANCY'\n",
    "import seaborn as sns\n",
    "sns.countplot(data = dfo , x = 'Occupancy')\n",
    "plt.show()"
   ]
  },
  {
   "cell_type": "code",
   "execution_count": 9,
   "id": "7536def8",
   "metadata": {
    "execution": {
     "iopub.execute_input": "2023-02-03T04:27:43.124898Z",
     "iopub.status.busy": "2023-02-03T04:27:43.124482Z",
     "iopub.status.idle": "2023-02-03T04:27:43.131665Z",
     "shell.execute_reply": "2023-02-03T04:27:43.130477Z"
    },
    "id": "xnqtxG_x3FKL",
    "papermill": {
     "duration": 0.019943,
     "end_time": "2023-02-03T04:27:43.134156",
     "exception": false,
     "start_time": "2023-02-03T04:27:43.114213",
     "status": "completed"
    },
    "tags": []
   },
   "outputs": [],
   "source": [
    "#Removing the HumidityRatio attribute which is least correlated to the target attribute \n",
    "t=dfo['Occupancy'].values\n",
    "X = dfo.drop(['HumidityRatio','Occupancy'], axis = 1).values"
   ]
  },
  {
   "cell_type": "code",
   "execution_count": 10,
   "id": "544ffeb1",
   "metadata": {
    "execution": {
     "iopub.execute_input": "2023-02-03T04:27:43.154431Z",
     "iopub.status.busy": "2023-02-03T04:27:43.153682Z",
     "iopub.status.idle": "2023-02-03T04:27:43.159415Z",
     "shell.execute_reply": "2023-02-03T04:27:43.158415Z"
    },
    "papermill": {
     "duration": 0.018748,
     "end_time": "2023-02-03T04:27:43.161871",
     "exception": false,
     "start_time": "2023-02-03T04:27:43.143123",
     "status": "completed"
    },
    "tags": []
   },
   "outputs": [],
   "source": [
    "if len(np.unique(t))== 2:\n",
    "    t=t+1"
   ]
  },
  {
   "cell_type": "markdown",
   "id": "7003e0fa",
   "metadata": {
    "id": "avDA2pJIJgsf",
    "papermill": {
     "duration": 0.008397,
     "end_time": "2023-02-03T04:27:43.179779",
     "exception": false,
     "start_time": "2023-02-03T04:27:43.171382",
     "status": "completed"
    },
    "tags": []
   },
   "source": [
    "# Labels Generation  "
   ]
  },
  {
   "cell_type": "code",
   "execution_count": 11,
   "id": "37a6b730",
   "metadata": {
    "execution": {
     "iopub.execute_input": "2023-02-03T04:27:43.199364Z",
     "iopub.status.busy": "2023-02-03T04:27:43.198573Z",
     "iopub.status.idle": "2023-02-03T04:27:43.450790Z",
     "shell.execute_reply": "2023-02-03T04:27:43.449952Z"
    },
    "id": "BupvL7KSocvu",
    "papermill": {
     "duration": 0.265075,
     "end_time": "2023-02-03T04:27:43.453448",
     "exception": false,
     "start_time": "2023-02-03T04:27:43.188373",
     "status": "completed"
    },
    "tags": []
   },
   "outputs": [],
   "source": [
    "import random\n",
    "import warnings\n",
    "import numpy as np\n",
    "#import climin\n",
    "from functools import partial\n",
    "import matplotlib.pyplot as plt\n",
    "from sklearn.preprocessing import StandardScaler\n",
    "from sklearn.cluster import KMeans\n",
    "import matplotlib.pyplot as plt\n",
    "from sklearn.manifold import TSNE\n",
    "\n",
    "#Defining the Sigmoid function and Softmax function\n",
    "def Sigmoid(f_r):\n",
    "    lam_r = 1/(1 + np.exp(-f_r))\n",
    "    return lam_r\n",
    "\n",
    "def MAjVot(Y, K):\n",
    "    N,R = Y.shape\n",
    "    Yhat = np.zeros((N,1))\n",
    "    for n in range(N):\n",
    "        votes = np.zeros((K,1))\n",
    "        for r in range(R):\n",
    "            for k in range(K):\n",
    "                if Y[n,r] == k+1:\n",
    "                    votes[k] = votes[k]+1\n",
    "        Yhat[n] = np.argmax(votes) + 1\n",
    "    return Yhat\n",
    "\n",
    "\n",
    "def  MA_Clas_Gen(Xtrain,ytrain,R,NrP):\n",
    "\n",
    "    N = len(ytrain)\n",
    "    K = len(np.unique(ytrain))\n",
    "    Kn = np.unique(ytrain)\n",
    "    aux = 0\n",
    "    A = np.zeros((K,1))\n",
    "    for k in Kn:\n",
    "        A[aux] = (ytrain == k).sum()\n",
    "        aux = aux + 1\n",
    "    per = np.min(A)\n",
    "    if N < 25000:\n",
    "        Xtrain = TSNE(n_components=1,perplexity=per/2).fit_transform(Xtrain)\n",
    "    else:\n",
    "        Xtrain = np.sum(Xtrain,1)\n",
    "    # Xtrain = Xtrain-Xtrain.min()\n",
    "    # Xtrain = Xtrain/Xtrain.max()\n",
    "    #ytrain = y\n",
    "    # scaler = StandardScaler()\n",
    "    # scalerY = scaler.fit(y)\n",
    "    # ytrain = scaler.fit_transform(y)\n",
    "\n",
    "    \n",
    "    #miny = y.min()\n",
    "    #ytrain = y-miny\n",
    "    #maxy = ytrain.max()\n",
    "    #ytrain = ytrain/maxy\n",
    "  \n",
    "    # Xtrain = np.sum(Xtrain, axis=1)\n",
    "    Xtrain = Xtrain - Xtrain.min()\n",
    "    #print(Xtrain.min(), Xtrain.max())\n",
    "    Xtrain = Xtrain/Xtrain.max()\n",
    "    Xtrain = Xtrain.reshape((N,1))\n",
    "    yprueba = np.ones((N,1))\n",
    "    \n",
    "    \n",
    "    u_q = np.empty((Xtrain.shape[0],3))\n",
    "    u_q[:,0,None] = 4.5*np.cos(2*np.pi*Xtrain + 1.5*np.pi) - \\\n",
    "                               3*np.sin(4.3*np.pi*Xtrain + 0.3*np.pi)\n",
    "                    \n",
    "    u_q[:,1,None] = 4.5*np.cos(1.5*np.pi*Xtrain + 0.5*np.pi) + \\\n",
    "                       5*np.sin(3*np.pi*Xtrain + 1.5*np.pi)\n",
    "    \n",
    "    u_q[:,2,None] = 1\n",
    "    \n",
    "    W = []\n",
    "    # q=1\n",
    "    Wq1 = np.array(([[0.4],[0.7],[-0.5],[0],[-0.7]]))\n",
    "    W.append(Wq1)\n",
    "    # q=2\n",
    "    Wq2 = np.array(([[0.4],[-1.0],[-0.1],[-0.8],[1.0]]))\n",
    "    W.append(Wq2)\n",
    "    Wq3 = np.array(([[3.1],[-1.8],[-0.6],[-1.2],[1.0]]))\n",
    "    W.append(Wq3)\n",
    "\n",
    "    \n",
    "    F_r = []\n",
    "    Lam_r = []\n",
    "    for r in range(R):\n",
    "        f_r = np.zeros((Xtrain.shape[0], 1))\n",
    "        # rho_r = np.zeros((Xtrain.shape[0], 1))\n",
    "        for q in range(3):\n",
    "            f_r += W[q][r].T*u_q[:,q,None]\n",
    "        F_r.append(f_r)\n",
    "        lam_r = Sigmoid(f_r)\n",
    "        lam_r[lam_r>0.5] = 1\n",
    "        lam_r[lam_r<=0.5] = 0\n",
    "        Lam_r.append(lam_r)\n",
    "    plt.plot(Xtrain,Lam_r[2],'rx')\n",
    "    plt.show()\n",
    "    seed = 0\n",
    "    np.random.seed(seed)\n",
    "    Ytrain = np.ones((N, R))\n",
    "    for r in range(R):\n",
    "        aux = ytrain.copy()\n",
    "        for n in range(N):\n",
    "            if Lam_r[r][n] == 0:\n",
    "                labels = np.arange(1, K+1)\n",
    "                a = np.where(labels==ytrain[n])\n",
    "                labels = np.delete(labels, a)\n",
    "                idxlabels = np.random.permutation(K-1)\n",
    "                aux[n] = labels[idxlabels[0]]         \n",
    "        Ytrain[:,r] = aux.flatten()\n",
    "        \n",
    "   # Ytrain = (Ytrain*maxy) + miny\n",
    "        \n",
    "    iAnn = np.zeros((N, R), dtype=int) # this indicates if the annotator r labels the nth sample.\n",
    "    Nr = np.ones((R), dtype=int)*int(np.floor(N*NrP))  \n",
    "    for r in range(R):\n",
    "        if r < R-1:\n",
    "            indexR = np.random.permutation(range(N))[:Nr[r]]\n",
    "            iAnn[indexR,r] = 1\n",
    "        else:\n",
    "            iSimm = np.sum(iAnn, axis=1)\n",
    "            idxZero = np.asarray([i for (i, val) in enumerate(iSimm) if val == 0])\n",
    "            Nzeros = idxZero.shape[0]\n",
    "            idx2Choose = np.arange(N)\n",
    "            if Nzeros == 0:\n",
    "                indexR = np.random.permutation(range(N))[:Nr[r]]\n",
    "                iAnn[indexR,r] = 1\n",
    "            else:\n",
    "                idx2Choose = np.delete(idx2Choose, idxZero)\n",
    "                N2chose = idx2Choose.shape[0]\n",
    "                idxNoZero = np.random.permutation(N2chose)[:(Nr[r] - Nzeros)]\n",
    "                idxTot = np.concatenate((idxZero, idx2Choose[idxNoZero]))\n",
    "                iAnn[idxTot,r] = 1\n",
    "    \n",
    "    # Now, we verify that all the samples were labeled at least once\n",
    "    Nr = (np.sum(iAnn,0))\n",
    "    iSimm = np.sum(iAnn, axis=1)\n",
    "    if np.asarray([i for (i, val) in enumerate(iSimm) if val == 0]).sum() == 0:\n",
    "        ValueError(\"all the samples must be labeled at least once\")\n",
    "\n",
    "    # Finally, if iAnn=0 we assign a reference value to indicate a missing value\n",
    "    Vref = -1e-20\n",
    "    for r in range(R):\n",
    "        Ytrain[iAnn[:,r] == 0, r] = Vref \n",
    "\n",
    "    return Ytrain, iAnn, Lam_r\n",
    "\n",
    "\n",
    "def CrossVal(X, pp, Nk):\n",
    "    N = X.shape[0]\n",
    "    Ntr = int(N*pp)\n",
    "    Nte = N - Ntr\n",
    "    idxtr = np.zeros((Ntr,Nk))\n",
    "    idxte = np.zeros((Nte,Nk))\n",
    "    \n",
    "    for i in range(Nk):\n",
    "        index = np.random.permutation(range(N))\n",
    "        idxtr[:,i] = index[:Ntr]\n",
    "        idxte[:,i] = index[Ntr:]\n",
    "        \n",
    "    return idxtr, idxte\n",
    "    \n",
    "    \n",
    "        \n"
   ]
  },
  {
   "cell_type": "code",
   "execution_count": 12,
   "id": "8659ce6b",
   "metadata": {
    "execution": {
     "iopub.execute_input": "2023-02-03T04:27:43.472657Z",
     "iopub.status.busy": "2023-02-03T04:27:43.472229Z",
     "iopub.status.idle": "2023-02-03T04:28:24.041282Z",
     "shell.execute_reply": "2023-02-03T04:28:24.039879Z"
    },
    "id": "tK8MHObF3FKM",
    "outputId": "8f128bab-9644-4526-d91c-a3eb4c94fc10",
    "papermill": {
     "duration": 40.582105,
     "end_time": "2023-02-03T04:28:24.044262",
     "exception": false,
     "start_time": "2023-02-03T04:27:43.462157",
     "status": "completed"
    },
    "tags": []
   },
   "outputs": [
    {
     "name": "stderr",
     "output_type": "stream",
     "text": [
      "/opt/conda/lib/python3.7/site-packages/sklearn/manifold/_t_sne.py:783: FutureWarning: The default initialization in TSNE will change from 'random' to 'pca' in 1.2.\n",
      "  FutureWarning,\n",
      "/opt/conda/lib/python3.7/site-packages/sklearn/manifold/_t_sne.py:793: FutureWarning: The default learning rate in TSNE will change from 200.0 to 'auto' in 1.2.\n",
      "  FutureWarning,\n"
     ]
    },
    {
     "data": {
      "image/png": "[encoded data removed]",
      "text/plain": [
       "<Figure size 432x288 with 1 Axes>"
      ]
     },
     "metadata": {
      "needs_background": "light"
     },
     "output_type": "display_data"
    }
   ],
   "source": [
    "Y, iAnn, Lam_r = MA_Clas_Gen(X ,t, R=5, NrP=1)"
   ]
  },
  {
   "cell_type": "code",
   "execution_count": 13,
   "id": "42f31021",
   "metadata": {
    "execution": {
     "iopub.execute_input": "2023-02-03T04:28:24.064543Z",
     "iopub.status.busy": "2023-02-03T04:28:24.064093Z",
     "iopub.status.idle": "2023-02-03T04:28:24.069387Z",
     "shell.execute_reply": "2023-02-03T04:28:24.068218Z"
    },
    "id": "v0Y8m7E-3FKM",
    "papermill": {
     "duration": 0.018225,
     "end_time": "2023-02-03T04:28:24.071980",
     "exception": false,
     "start_time": "2023-02-03T04:28:24.053755",
     "status": "completed"
    },
    "tags": []
   },
   "outputs": [],
   "source": [
    "  Y = Y - 1\n",
    "  t = t - 1\n",
    "  #YMA = YMA-1"
   ]
  },
  {
   "cell_type": "code",
   "execution_count": 14,
   "id": "503e51f0",
   "metadata": {
    "execution": {
     "iopub.execute_input": "2023-02-03T04:28:24.092774Z",
     "iopub.status.busy": "2023-02-03T04:28:24.092295Z",
     "iopub.status.idle": "2023-02-03T04:28:25.217738Z",
     "shell.execute_reply": "2023-02-03T04:28:25.216276Z"
    },
    "papermill": {
     "duration": 1.139471,
     "end_time": "2023-02-03T04:28:25.220520",
     "exception": false,
     "start_time": "2023-02-03T04:28:24.081049",
     "status": "completed"
    },
    "tags": []
   },
   "outputs": [
    {
     "name": "stdout",
     "output_type": "stream",
     "text": [
      "annotator 1\n",
      "              precision    recall  f1-score   support\n",
      "\n",
      "           0       1.00      1.00      1.00      1693\n",
      "           1       0.99      1.00      1.00       972\n",
      "\n",
      "    accuracy                           1.00      2665\n",
      "   macro avg       1.00      1.00      1.00      2665\n",
      "weighted avg       1.00      1.00      1.00      2665\n",
      "\n",
      "annotator 2\n",
      "              precision    recall  f1-score   support\n",
      "\n",
      "           0       0.59      0.80      0.68      1693\n",
      "           1       0.10      0.04      0.06       972\n",
      "\n",
      "    accuracy                           0.52      2665\n",
      "   macro avg       0.34      0.42      0.37      2665\n",
      "weighted avg       0.41      0.52      0.45      2665\n",
      "\n",
      "annotator 3\n",
      "              precision    recall  f1-score   support\n",
      "\n",
      "           0       0.90      0.37      0.53      1693\n",
      "           1       0.46      0.93      0.61       972\n",
      "\n",
      "    accuracy                           0.57      2665\n",
      "   macro avg       0.68      0.65      0.57      2665\n",
      "weighted avg       0.74      0.57      0.56      2665\n",
      "\n",
      "annotator 4\n",
      "              precision    recall  f1-score   support\n",
      "\n",
      "           0       0.54      0.60      0.57      1693\n",
      "           1       0.14      0.11      0.12       972\n",
      "\n",
      "    accuracy                           0.42      2665\n",
      "   macro avg       0.34      0.36      0.35      2665\n",
      "weighted avg       0.39      0.42      0.41      2665\n",
      "\n",
      "annotator 5\n",
      "              precision    recall  f1-score   support\n",
      "\n",
      "           0       0.36      0.03      0.05      1693\n",
      "           1       0.35      0.91      0.51       972\n",
      "\n",
      "    accuracy                           0.35      2665\n",
      "   macro avg       0.35      0.47      0.28      2665\n",
      "weighted avg       0.35      0.35      0.22      2665\n",
      "\n"
     ]
    },
    {
     "data": {
      "image/png": "[encoded data removed]",
      "text/plain": [
       "<Figure size 432x288 with 1 Axes>"
      ]
     },
     "metadata": {
      "needs_background": "light"
     },
     "output_type": "display_data"
    },
    {
     "data": {
      "image/png": "[encoded data removed]",
      "text/plain": [
       "<Figure size 432x288 with 1 Axes>"
      ]
     },
     "metadata": {
      "needs_background": "light"
     },
     "output_type": "display_data"
    },
    {
     "data": {
      "image/png": "[encoded data removed]",
      "text/plain": [
       "<Figure size 432x288 with 1 Axes>"
      ]
     },
     "metadata": {
      "needs_background": "light"
     },
     "output_type": "display_data"
    },
    {
     "data": {
      "image/png": "[encoded data removed]",
      "text/plain": [
       "<Figure size 432x288 with 1 Axes>"
      ]
     },
     "metadata": {
      "needs_background": "light"
     },
     "output_type": "display_data"
    },
    {
     "data": {
      "image/png": "[encoded data removed]",
      "text/plain": [
       "<Figure size 432x288 with 1 Axes>"
      ]
     },
     "metadata": {
      "needs_background": "light"
     },
     "output_type": "display_data"
    }
   ],
   "source": [
    "from sklearn.metrics import classification_report\n",
    "for i in range(Y.shape[1]):\n",
    "    print('annotator',i+1)\n",
    "    print(classification_report(t,Y[:,i]))\n",
    "    unique, counts = np.unique(Y[:,i], return_counts=True)\n",
    "    plt.figure()\n",
    "    plt.bar(unique, counts)\n",
    "    #     unique, counts = np.unique(Y_test[5], return_counts=True)\n",
    "    #     plt.bar(unique, counts)\n",
    "\n",
    "    plt.title('Class Frequency for Y_true')\n",
    "    plt.xlabel('Class')\n",
    "    plt.ylabel('Frequency')"
   ]
  },
  {
   "cell_type": "markdown",
   "id": "5fca459a",
   "metadata": {
    "id": "uudDcV4wHiuI",
    "papermill": {
     "duration": 0.010956,
     "end_time": "2023-02-03T04:28:25.242808",
     "exception": false,
     "start_time": "2023-02-03T04:28:25.231852",
     "status": "completed"
    },
    "tags": []
   },
   "source": [
    "# Split data"
   ]
  },
  {
   "cell_type": "code",
   "execution_count": 15,
   "id": "fbc447ac",
   "metadata": {
    "execution": {
     "iopub.execute_input": "2023-02-03T04:28:25.265988Z",
     "iopub.status.busy": "2023-02-03T04:28:25.265550Z",
     "iopub.status.idle": "2023-02-03T04:28:25.281760Z",
     "shell.execute_reply": "2023-02-03T04:28:25.280432Z"
    },
    "id": "QCxEhJv_3FKN",
    "outputId": "20cf4b24-fde3-4b21-f26a-2809af8f2c5d",
    "papermill": {
     "duration": 0.030861,
     "end_time": "2023-02-03T04:28:25.284516",
     "exception": false,
     "start_time": "2023-02-03T04:28:25.253655",
     "status": "completed"
    },
    "tags": []
   },
   "outputs": [
    {
     "name": "stdout",
     "output_type": "stream",
     "text": [
      "[ 315  235 1480 1538 1087 1009 1677 1094  343 2175 1455 2535 2641  798\n",
      "  417 2238 1781 1445   85 1828 2029 1034 1067 1458 2455  732 2434 2247\n",
      " 2113 2386  689  853 2200 2500  179 1245 1758 1927  709 1826 2529 1099\n",
      "  805  601 1022 1730 2135 1361 2294 2644  206  420  878 2093 1400 1518\n",
      "  934 1622 1279  613  957  190   33 1450  335 1371 2634  103  304 1228\n",
      " 2242 2384 1637  673  222 2340 1765  360  289   25   45 1937  537 1237\n",
      " 1183 2095 2375 2379 2390 2170 2607  589 1833 2628  354  189 2016 1286\n",
      " 1116  556 1918  937 1740  803 2435  257  807 1697 2494 2538  249  683\n",
      " 1673 1391  871 1064 1364  814  184  498 1898 1017 1055  906  645  242\n",
      "  684  779  784 1696 1226  423  966 2596  649 1008 2402  101 1283 1529\n",
      " 2417 1449  616 1107 1845 1011 1572 2525 2380 2651  704 1089  466 1853\n",
      " 2462 1726 2502 2479 1710 1050  469  220  336  263 1535  554 2590 1273\n",
      " 2543  861  449 1224 1957 2537 1106  114 1213 2194  830  973 1504 2168\n",
      "  777 1975  996 2025 2094  707  994 2315 1970  748 1982 2430 1511   43\n",
      " 2291 1822 1547  958 2312 1598 1733 1587 1659  856 1654 2028 2648 2627\n",
      "  148 1347 1624 1688  383  565 2572 2296  381  714   58 1032 2160  353\n",
      " 2021 1000 1788 2445  524 2331 2420 1191 1278 1113  208  132 1621  875\n",
      " 2400  319  800  646 2353  403 1205 1203 1685  364  129 1941 2039 1426\n",
      "  591  252 2048 1489 1247  477 1633 1036 1603  706  440  576 1821 1523\n",
      " 2561 2488  618  590 1362 1464 1945  395 2458 1556 2041  632 1527  720\n",
      " 2337 2116 1260 1915 2211  108  658 2096 1374 1717  897 2421 2512 2003\n",
      " 1809  310 1997 1394  949 2395 1706 1791 2223 2215 2047 2271 1536  243\n",
      " 1310 1351   21  850 1385  723  511 2067  785  970 1840  822  439 2064\n",
      " 1456 1178 2098 2410 2595 2164 1083 2622 2253 2155 1027 1206 2002 2437\n",
      "  680 1727 1955 1842 1678  647 1690 1739  547 1413 1102  476 2612 1578\n",
      " 1832  368  569  116   12 1227 1127 1416 2088 1907 1837  471 1373  270\n",
      " 1356 2505  742 1448   24 2358  594 1938 2459 1269 2657 1925  621 2404\n",
      " 1143 1015 1751 2626  493   31 2653 1430  518  221  431 1319  982  167\n",
      "  671 2138  792 1867  841  110  799 2246 2115  239 1928 2317 2264  379\n",
      " 1878  553 1959 1397 1611 1943 1983  224   75 2316  402  256 1002  746\n",
      " 2035   63 1375 1801 2144 1265 1689 2280   18 2601 1911 2078 1342 1330\n",
      " 2580  141 1383 2642 1103  328 2233  813 1066 2472 1605 1724 2598  610\n",
      "  127 2051  948 1193  971 2178  682 2165 1266  988 1599  730 1077 2258\n",
      " 2325  266 2092  207 2411  215 1195 1415 2469  895 1065 1167 2192   50\n",
      " 1166 1035 1186 1802  196 2262 2578 2554 1156  857  380 2209  767  638\n",
      " 1827 2143 2506  984  501 2456  627 2112 1208 1923 1964 2287   86 2374\n",
      "  976  419 1379 1952 1380 1298 1285  597 1233 1569 2303 2569  429 1676\n",
      " 1482 2332  502 1559   26  738 1117 2012 2134 2329 2102 1200 1920 1703\n",
      "  991  426  327 1701  835 2151 1912 1411 1600 2497 2368 2423 1737 2193\n",
      " 1910 1834  693 1090 1549 2288  352 2487 1216  558 1848 1144 2311 2083\n",
      "   28 2361 1814 1420  641 2489 1657  279   72  536  909 2157  112  891\n",
      " 1204  563 1098 1924  318 1046  735  797 2549 1037 1750  917  838 1042\n",
      "  675  216 2565 2589  529 1179 1097 1612 2621  326 1123 1462  120 2348\n",
      " 2292    5   30 2152  292 2084 1068  667 1743 1617 1471  351  749   91\n",
      " 1461 2623 1020 1412 2511  593 2544 2114 2425 2352 2158 1668  228 1854\n",
      "  903 2180 1671 1121  452  585 2239 2101 2214  615  463 1334 1469 1058\n",
      "  100  444 1721 1808 1476 1187 1360 1670 2049 1830 1451 1798  969 2486\n",
      " 2045 1052  633 1933  952  515  968  809   13  961 2310  717 1843 1051\n",
      "  981 2136  410 2053  421 1967 1119 2068 1976  388  198 1695 2522 2594\n",
      "  564 1446 2520 2243 2119  698 1012 2190  183  155 1340 2508 1623  500\n",
      "  188 1613 2133 2122  409 1344 2476 1043 2231  406  926  504 1463 1459\n",
      " 1256  775  118  804 1960  275 1306  611 1754 2454 2406  914  630 2658\n",
      " 2218 1308    7  820 2422  574 1779  595  204  728  276 1276 2440 1199\n",
      "  972  978 1483 1887   74  236 1234  187 1324  923  375 1805  349  350\n",
      "  776 2221 2228 2020 1773 1280  606  237 2091  715  623  546 1295 2324\n",
      "   84 1800 1079 1995 2279  756 2126 1473  882 2199  734 1440  157 1846\n",
      " 1155 1818  193 2367 1965 2081  995 2245 1573  229   56 2125 1700  458\n",
      " 1126 2278]\n",
      "(1865, 4) (1865, 5) (1865, 1)\n"
     ]
    }
   ],
   "source": [
    "import numpy.matlib\n",
    "from sklearn.model_selection import  StratifiedShuffleSplit, ShuffleSplit\n",
    "Ns = 1\n",
    "ss = ShuffleSplit(n_splits=Ns, test_size=0.3, random_state =123)\n",
    "for train_index, test_index in ss.split(X):\n",
    "    print(test_index)\n",
    "    X_train, X_test,Y_train,Y_test = X[train_index,:], X[test_index,:],Y[train_index,:], Y[test_index,:]\n",
    "    Y_true_train, Y_true_test = t[train_index].reshape(-1,1), t[test_index].reshape(-1,1)\n",
    "print(X_train.shape, Y_train.shape, Y_true_train.shape)"
   ]
  },
  {
   "cell_type": "markdown",
   "id": "13b38368",
   "metadata": {
    "id": "kgDMRggXHo0X",
    "papermill": {
     "duration": 0.010906,
     "end_time": "2023-02-03T04:28:25.306763",
     "exception": false,
     "start_time": "2023-02-03T04:28:25.295857",
     "status": "completed"
    },
    "tags": []
   },
   "source": [
    "# Apply MinMaxScaler"
   ]
  },
  {
   "cell_type": "code",
   "execution_count": 16,
   "id": "4650eead",
   "metadata": {
    "execution": {
     "iopub.execute_input": "2023-02-03T04:28:25.330592Z",
     "iopub.status.busy": "2023-02-03T04:28:25.330038Z",
     "iopub.status.idle": "2023-02-03T04:28:25.337855Z",
     "shell.execute_reply": "2023-02-03T04:28:25.336803Z"
    },
    "id": "33XT7bGs3FKN",
    "papermill": {
     "duration": 0.022882,
     "end_time": "2023-02-03T04:28:25.340464",
     "exception": false,
     "start_time": "2023-02-03T04:28:25.317582",
     "status": "completed"
    },
    "tags": []
   },
   "outputs": [],
   "source": [
    "scaler = MinMaxScaler()\n",
    "scaler.fit(X_train)\n",
    "X_train = scaler.transform(X_train)\n",
    "X_test = scaler.transform(X_test)"
   ]
  },
  {
   "cell_type": "code",
   "execution_count": 17,
   "id": "436bc78c",
   "metadata": {
    "execution": {
     "iopub.execute_input": "2023-02-03T04:28:25.365318Z",
     "iopub.status.busy": "2023-02-03T04:28:25.364847Z",
     "iopub.status.idle": "2023-02-03T04:28:25.372809Z",
     "shell.execute_reply": "2023-02-03T04:28:25.371333Z"
    },
    "id": "8JB57s89xbR3",
    "outputId": "5f7b5561-3e45-498d-9117-bf91a63d2fb9",
    "papermill": {
     "duration": 0.024318,
     "end_time": "2023-02-03T04:28:25.375810",
     "exception": false,
     "start_time": "2023-02-03T04:28:25.351492",
     "status": "completed"
    },
    "tags": []
   },
   "outputs": [
    {
     "data": {
      "text/plain": [
       "2"
      ]
     },
     "execution_count": 17,
     "metadata": {},
     "output_type": "execute_result"
    }
   ],
   "source": [
    "len(np.unique(Y_test))"
   ]
  },
  {
   "cell_type": "code",
   "execution_count": 18,
   "id": "8cc010e4",
   "metadata": {
    "execution": {
     "iopub.execute_input": "2023-02-03T04:28:25.400751Z",
     "iopub.status.busy": "2023-02-03T04:28:25.399440Z",
     "iopub.status.idle": "2023-02-03T04:28:25.405512Z",
     "shell.execute_reply": "2023-02-03T04:28:25.404615Z"
    },
    "id": "Ce-Lhs1K3FKO",
    "papermill": {
     "duration": 0.02108,
     "end_time": "2023-02-03T04:28:25.408057",
     "exception": false,
     "start_time": "2023-02-03T04:28:25.386977",
     "status": "completed"
    },
    "tags": []
   },
   "outputs": [],
   "source": [
    "#testing PRI as ground truth -> repeat true labels as multiple annotators\n",
    "Y_true_train_K = np.matlib.repmat(Y_true_train,1, Y_train.shape[1])#testing MA as classifier\n",
    "#print(X_train.shape,Y_true_train_K.shape)\n",
    "# Y_train_one_hot_targets = tf.one_hot(tf.cast(Y_train , tf.int32), len(np.unique(Y_true_test)), axis = 1, dtype=tf.int32)\n",
    "# Y_train_one_hot_targets.shape"
   ]
  },
  {
   "cell_type": "markdown",
   "id": "3f1c158a",
   "metadata": {
    "id": "pPoaMuiXH-Zm",
    "papermill": {
     "duration": 0.010702,
     "end_time": "2023-02-03T04:28:25.429794",
     "exception": false,
     "start_time": "2023-02-03T04:28:25.419092",
     "status": "completed"
    },
    "tags": []
   },
   "source": [
    "# Testing the Class "
   ]
  },
  {
   "cell_type": "code",
   "execution_count": 19,
   "id": "b5eb26e6",
   "metadata": {
    "execution": {
     "iopub.execute_input": "2023-02-03T04:28:25.453866Z",
     "iopub.status.busy": "2023-02-03T04:28:25.453103Z",
     "iopub.status.idle": "2023-02-03T04:29:55.403974Z",
     "shell.execute_reply": "2023-02-03T04:29:55.402234Z"
    },
    "papermill": {
     "duration": 89.965931,
     "end_time": "2023-02-03T04:29:55.406581",
     "exception": false,
     "start_time": "2023-02-03T04:28:25.440650",
     "status": "completed"
    },
    "tags": []
   },
   "outputs": [
    {
     "name": "stdout",
     "output_type": "stream",
     "text": [
      "iteration: 0\n"
     ]
    },
    {
     "name": "stderr",
     "output_type": "stream",
     "text": [
      "2023-02-03 04:28:25.512200: I tensorflow/core/common_runtime/process_util.cc:146] Creating new thread pool with default inter op setting: 2. Tune using inter_op_parallelism_threads for best performance.\n",
      "2023-02-03 04:28:26.053521: I tensorflow/compiler/mlir/mlir_graph_optimization_pass.cc:185] None of the MLIR Optimization Passes are enabled (registered 2)\n"
     ]
    },
    {
     "name": "stdout",
     "output_type": "stream",
     "text": [
      "Validation ACC: 0.7212\n",
      "Validation aUc: 0.7872\n",
      "Validation Balanced_ACC: 0.5744\n",
      "Validation MI: 0.2155\n",
      "Validation Normalized MI: 0.3298\n",
      "Validation Adjusted MI: 0.3292\n",
      "iteration: 1\n",
      "Validation ACC: 0.7625\n",
      "Validation aUc: 0.8187\n",
      "Validation Balanced_ACC: 0.6374\n",
      "Validation MI: 0.2505\n",
      "Validation Normalized MI: 0.3785\n",
      "Validation Adjusted MI: 0.3779\n",
      "iteration: 2\n",
      "Validation ACC: 0.8700\n",
      "Validation aUc: 0.9008\n",
      "Validation Balanced_ACC: 0.8015\n",
      "Validation MI: 0.3655\n",
      "Validation Normalized MI: 0.5471\n",
      "Validation Adjusted MI: 0.5467\n",
      "iteration: 3\n",
      "Validation ACC: 0.8650\n",
      "Validation aUc: 0.8969\n",
      "Validation Balanced_ACC: 0.7939\n",
      "Validation MI: 0.3591\n",
      "Validation Normalized MI: 0.5373\n",
      "Validation Adjusted MI: 0.5369\n",
      "iteration: 4\n",
      "Validation ACC: 0.9587\n",
      "Validation aUc: 0.9668\n",
      "Validation Balanced_ACC: 0.9336\n",
      "Validation MI: 0.5027\n",
      "Validation Normalized MI: 0.7681\n",
      "Validation Adjusted MI: 0.7679\n",
      "iteration: 5\n",
      "Validation ACC: 0.7000\n",
      "Validation aUc: 0.7710\n",
      "Validation Balanced_ACC: 0.5420\n",
      "Validation MI: 0.1988\n",
      "Validation Normalized MI: 0.3071\n",
      "Validation Adjusted MI: 0.3064\n",
      "iteration: 6\n",
      "Validation ACC: 0.7113\n",
      "Validation aUc: 0.7796\n",
      "Validation Balanced_ACC: 0.5592\n",
      "Validation MI: 0.2075\n",
      "Validation Normalized MI: 0.3190\n",
      "Validation Adjusted MI: 0.3183\n",
      "iteration: 7\n",
      "Validation ACC: 0.7362\n",
      "Validation aUc: 0.7987\n",
      "Validation Balanced_ACC: 0.5973\n",
      "Validation MI: 0.2278\n",
      "Validation Normalized MI: 0.3468\n",
      "Validation Adjusted MI: 0.3462\n",
      "iteration: 8\n",
      "Validation ACC: 0.7438\n",
      "Validation aUc: 0.8044\n",
      "Validation Balanced_ACC: 0.6088\n",
      "Validation MI: 0.2341\n",
      "Validation Normalized MI: 0.3556\n",
      "Validation Adjusted MI: 0.3550\n",
      "iteration: 9\n",
      "Validation ACC: 0.7113\n",
      "Validation aUc: 0.7796\n",
      "Validation Balanced_ACC: 0.5592\n",
      "Validation MI: 0.2075\n",
      "Validation Normalized MI: 0.3190\n",
      "Validation Adjusted MI: 0.3183\n"
     ]
    }
   ],
   "source": [
    "from sklearn.metrics import classification_report, balanced_accuracy_score\n",
    "from sklearn.metrics import normalized_mutual_info_score, mutual_info_score, adjusted_mutual_info_score\n",
    "\n",
    "l1 =0.001\n",
    "NUM_RUNS =10\n",
    "ACC = np.zeros(NUM_RUNS)\n",
    "AUC = np.zeros(NUM_RUNS)\n",
    "MI = np.zeros(NUM_RUNS)\n",
    "NMI = np.zeros(NUM_RUNS)\n",
    "AMI = np.zeros(NUM_RUNS)\n",
    "BACC = np.zeros(NUM_RUNS)\n",
    "for i in range(NUM_RUNS): #10\n",
    "    print(\"iteration: \" + str(i))\n",
    "   \n",
    "    MA = Keras_MA_CrowdL(epochs=50,batch_size=32,R= Y_train.shape[1], K=len(np.unique(Y_true_test)), dropout=0.25, learning_rate=0.001,optimizer='Adam', \n",
    "                l1_param=l1,  validation_split=0.3, verbose=0)\n",
    "\n",
    "\n",
    "    MA.fit(X_train, Y_train)\n",
    "    #MA.plot_history()\n",
    "  \n",
    "    #Accuracy  \n",
    "    \n",
    "    #estimar etiquetas modelo rodiguez \n",
    "    preds_test_num =  MA.predict2(X_test)\n",
    "    \n",
    "    #Accuracy\n",
    "    report = classification_report(Y_true_test,preds_test_num,output_dict=True)\n",
    "    ACC[i] = report['accuracy']\n",
    "    \n",
    "    print(\"Validation ACC: %.4f\" % (float(report['accuracy']),))\n",
    "    \n",
    "    #AUC\n",
    "    val_AUC_metric = tf.keras.metrics.AUC( from_logits = True)  \n",
    "   # val_logits =MA.predict(X_test) # model(X_test, training=False)\n",
    "    # tf.print(y_batch_val)\n",
    "    val_AUC_metric.update_state(Y_true_test,  preds_test_num.astype('float'))\n",
    "\n",
    "    val_AUC = val_AUC_metric.result()\n",
    "    val_AUC_metric.reset_states()\n",
    "    val_AUC = val_AUC.numpy()\n",
    "    print(\"Validation aUc: %.4f\" % (float(val_AUC),))\n",
    "    AUC[i] = val_AUC\n",
    "    \n",
    "\n",
    "\n",
    "\n",
    "    # balanced. Accurcy\n",
    "    BACC[i] = balanced_accuracy_score(Y_true_test.squeeze(), preds_test_num.squeeze(), adjusted=True)\n",
    "    print(\"Validation Balanced_ACC: %.4f\" % (float(BACC[i])))\n",
    "\n",
    "    #MI\n",
    "    \n",
    "    MI[i] = mutual_info_score(Y_true_test.squeeze(), preds_test_num.squeeze())\n",
    "    print(\"Validation MI: %.4f\" % (float(MI[i]),))\n",
    "    NMI[i] = normalized_mutual_info_score(Y_true_test.squeeze(), preds_test_num.squeeze())\n",
    "    print(\"Validation Normalized MI: %.4f\" % (float(NMI[i]),))\n",
    "    AMI[i]= adjusted_mutual_info_score(Y_true_test.squeeze(), preds_test_num.squeeze())\n",
    "    print(\"Validation Adjusted MI: %.4f\" % (float(AMI[i]),))\n",
    "\n",
    "\n"
   ]
  },
  {
   "cell_type": "code",
   "execution_count": 20,
   "id": "09955bf5",
   "metadata": {
    "execution": {
     "iopub.execute_input": "2023-02-03T04:29:55.432183Z",
     "iopub.status.busy": "2023-02-03T04:29:55.431759Z",
     "iopub.status.idle": "2023-02-03T04:29:55.439942Z",
     "shell.execute_reply": "2023-02-03T04:29:55.438571Z"
    },
    "id": "No0pNZFXXd9h",
    "papermill": {
     "duration": 0.024199,
     "end_time": "2023-02-03T04:29:55.442477",
     "exception": false,
     "start_time": "2023-02-03T04:29:55.418278",
     "status": "completed"
    },
    "tags": []
   },
   "outputs": [
    {
     "data": {
      "text/plain": [
       "array([0.72125, 0.7625 , 0.87   , 0.865  , 0.95875, 0.7    , 0.71125,\n",
       "       0.73625, 0.74375, 0.71125])"
      ]
     },
     "execution_count": 20,
     "metadata": {},
     "output_type": "execute_result"
    }
   ],
   "source": [
    "ACC"
   ]
  },
  {
   "cell_type": "code",
   "execution_count": 21,
   "id": "3ef9ac19",
   "metadata": {
    "execution": {
     "iopub.execute_input": "2023-02-03T04:29:55.467754Z",
     "iopub.status.busy": "2023-02-03T04:29:55.467310Z",
     "iopub.status.idle": "2023-02-03T04:29:55.475854Z",
     "shell.execute_reply": "2023-02-03T04:29:55.474552Z"
    },
    "papermill": {
     "duration": 0.024155,
     "end_time": "2023-02-03T04:29:55.478182",
     "exception": false,
     "start_time": "2023-02-03T04:29:55.454027",
     "status": "completed"
    },
    "tags": []
   },
   "outputs": [
    {
     "data": {
      "text/plain": [
       "array([0.78721374, 0.81870228, 0.90076339, 0.89694655, 0.96679664,\n",
       "       0.7709924 , 0.77958012, 0.79866409, 0.8043893 , 0.77958012])"
      ]
     },
     "execution_count": 21,
     "metadata": {},
     "output_type": "execute_result"
    }
   ],
   "source": [
    "AUC"
   ]
  },
  {
   "cell_type": "code",
   "execution_count": 22,
   "id": "1344f111",
   "metadata": {
    "execution": {
     "iopub.execute_input": "2023-02-03T04:29:55.503914Z",
     "iopub.status.busy": "2023-02-03T04:29:55.503475Z",
     "iopub.status.idle": "2023-02-03T04:29:55.515930Z",
     "shell.execute_reply": "2023-02-03T04:29:55.515077Z"
    },
    "papermill": {
     "duration": 0.029232,
     "end_time": "2023-02-03T04:29:55.519121",
     "exception": false,
     "start_time": "2023-02-03T04:29:55.489889",
     "status": "completed"
    },
    "tags": []
   },
   "outputs": [
    {
     "name": "stdout",
     "output_type": "stream",
     "text": [
      "Average Accuracy:  77.8\n",
      "Average std:  8.37\n",
      "==============================================\n",
      "Average AUC:  83.04\n",
      "Average AUC std:  6.35\n",
      "==============================================\n",
      "Average Balanced Accuracy:  66.07\n",
      "Average std:  12.709999999999999\n",
      "==============================================\n",
      "Average MI:  27.689999999999998\n",
      "Average std:  9.49\n",
      "==============================================\n",
      "Average Normalized MI:  42.08\n",
      "Average std:  14.27\n",
      "==============================================\n",
      "Average Ajdusted MI:  42.03\n",
      "Average std:  14.280000000000001\n"
     ]
    }
   ],
   "source": [
    "print('Average Accuracy: ', np.round( ACC.mean(),4)*100) \n",
    "print('Average std: ',np.round(np.std( ACC),4)*100)\n",
    "print('==============================================')\n",
    "print('Average AUC: ', np.round( AUC.mean(),4)*100) \n",
    "print('Average AUC std: ',np.round(np.std( AUC),4)*100)\n",
    "print('==============================================')\n",
    "print('Average Balanced Accuracy: ', np.round( BACC.mean(),4)*100) \n",
    "print('Average std: ',np.round(np.std( BACC),4)*100)\n",
    "print('==============================================')\n",
    "print('Average MI: ', np.round( MI.mean(),4)*100) \n",
    "print('Average std: ',np.round(np.std(MI),4)*100)\n",
    "print('==============================================')\n",
    "print('Average Normalized MI: ', np.round( NMI.mean(),4)*100) \n",
    "print('Average std: ',np.round(np.std(NMI),4)*100)\n",
    "print('==============================================')\n",
    "print('Average Ajdusted MI: ', np.round( AMI.mean(),4)*100) \n",
    "print('Average std: ',np.round(np.std(AMI),4)*100)"
   ]
  }
 ],
 "metadata": {
  "kernelspec": {
   "display_name": "Python 3",
   "language": "python",
   "name": "python3"
  },
  "language_info": {
   "codemirror_mode": {
    "name": "ipython",
    "version": 3
   },
   "file_extension": ".py",
   "mimetype": "text/x-python",
   "name": "python",
   "nbconvert_exporter": "python",
   "pygments_lexer": "ipython3",
   "version": "3.7.12"
  },
  "papermill": {
   "default_parameters": {},
   "duration": 155.347758,
   "end_time": "2023-02-03T04:29:59.139440",
   "environment_variables": {},
   "exception": null,
   "input_path": "__notebook__.ipynb",
   "output_path": "__notebook__.ipynb",
   "parameters": {},
   "start_time": "2023-02-03T04:27:23.791682",
   "version": "2.3.4"
  }
 },
 "nbformat": 4,
 "nbformat_minor": 5
}
