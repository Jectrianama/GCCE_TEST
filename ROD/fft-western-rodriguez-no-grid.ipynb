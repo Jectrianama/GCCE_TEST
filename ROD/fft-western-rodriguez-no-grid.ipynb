{
 "cells": [
  {
   "cell_type": "markdown",
   "id": "4305a61d",
   "metadata": {
    "id": "Cy45HoPn5SpZ",
    "papermill": {
     "duration": 0.011002,
     "end_time": "2022-12-19T18:48:44.356125",
     "exception": false,
     "start_time": "2022-12-19T18:48:44.345123",
     "status": "completed"
    },
    "tags": []
   },
   "source": [
    "# Loss function Rodrigues\n",
    "\n",
    "$𝒟 = \\{ \\mathbf{x}_n, \\mathbf{y}_n\\}$ be a dataset of size $N$\n",
    "\n",
    "$\\mathbf{x}_n \\in \\mathbb{R}^D$\n",
    "\n",
    "${\\mathbf{y}}^r_n\\in[0,1]^K$:   label provided for the r-th annotator in a set of R annotators\n",
    "\n",
    "$𝒛_n$ Latent true class determined by a softmax output layer  of a DNN\n",
    "\n",
    "\n",
    "$\\mathbf{\\sigma}\\in \\mathbb{R} ^Q$: DNN-based feature representation. correspond to the output of a softmax layer\n",
    "\n",
    "$\\hat{\\mathbf{y}}^r_n = f_r(\\sigma)\\in[0,1]^{1 \\times K}$\n",
    "\n",
    "$\\hat{\\mathbf{y}}_n=[\\hat{\\mathbf{y}}^1_n,\\hat{\\mathbf{y}}^2_n,\\dots,\\hat{\\mathbf{y}}^R_n]\\in [0,1]^{1\\times (R\\times K)}$\n",
    "\n",
    "Activation of the crowd layer for each anotator  $ \\mathbf{a}^r = f_r(\\sigma)$, where $f_r$ is an annotator-specific function, and the output of the crowd layer simply as the softmax of the\n",
    "activations $o_c^r = e^{a_c^r}/\\sum_{l=1}^{C}e^{a_l^r}$.\n",
    "\n",
    "\n",
    " $f_r(\\sigma)= \\mathbf{W}^r\\mathbf{\\sigma}$\n",
    "\n",
    " $\\mathbf{W}^r$ is an annotator-specific matrix\n",
    "\n",
    " **Cost function**\n",
    "\n",
    " $E(\\mathbf{o}^r, y^r)$\n",
    " between the expected output of the r-th annotator and its actual label $y^r$,\n",
    "\n",
    "Then, \n",
    "\n",
    "if we make. $\\lambda_n^r(\\theta) = \\mathbf{1}$ in PRI loss\n",
    "\n",
    "\n",
    "\n",
    "$$\\min_\\theta \\sum_n\\left(\\sum_r \\lambda_n^r(\\theta)H({\\mathbf{y}}^r_n;\\hat{\\mathbf{y}}_n(\\theta))\\right)+\\left(H(\\hat{\\mathbf{y}}_n(\\theta))\\sum_r\\left(1-\\lambda_n^r(\\theta)\\right)\\right)$$\n",
    "\n",
    " \n",
    "we can obtain rodriguez\n",
    "\n",
    "\n",
    "$$\\min_\\theta \\sum_n\\left(\\sum_r (\\mathbf{1})H({\\mathbf{y}}^r_n;\\hat{\\mathbf{y}}_n(\\theta))\\right)+\\left(H(\\hat{\\mathbf{y}}_n(\\theta))\\sum_r\\left(1-\\mathbf{1}\\right)\\right)$$"
   ]
  },
  {
   "cell_type": "code",
   "execution_count": 1,
   "id": "cc5194b8",
   "metadata": {
    "execution": {
     "iopub.execute_input": "2022-12-19T18:48:44.378381Z",
     "iopub.status.busy": "2022-12-19T18:48:44.377873Z",
     "iopub.status.idle": "2022-12-19T18:48:44.384172Z",
     "shell.execute_reply": "2022-12-19T18:48:44.382875Z"
    },
    "id": "Htu1kN9-jZO1",
    "papermill": {
     "duration": 0.023128,
     "end_time": "2022-12-19T18:48:44.388627",
     "exception": false,
     "start_time": "2022-12-19T18:48:44.365499",
     "status": "completed"
    },
    "tags": []
   },
   "outputs": [],
   "source": [
    "#!pip install tensorflow==2.7.0\n",
    "#!pip install scikeras"
   ]
  },
  {
   "cell_type": "code",
   "execution_count": 2,
   "id": "a61280f8",
   "metadata": {
    "execution": {
     "iopub.execute_input": "2022-12-19T18:48:44.409652Z",
     "iopub.status.busy": "2022-12-19T18:48:44.408790Z",
     "iopub.status.idle": "2022-12-19T18:48:50.623041Z",
     "shell.execute_reply": "2022-12-19T18:48:50.621473Z"
    },
    "id": "Gw-I1LpOjkw3",
    "outputId": "ebc8e065-e200-4131-fc8b-2ae9efe8d1d7",
    "papermill": {
     "duration": 6.22848,
     "end_time": "2022-12-19T18:48:50.626250",
     "exception": false,
     "start_time": "2022-12-19T18:48:44.397770",
     "status": "completed"
    },
    "tags": []
   },
   "outputs": [
    {
     "name": "stdout",
     "output_type": "stream",
     "text": [
      "--2022-12-19 18:48:45--  https://docs.google.com/uc?export=download&confirm=t&id=1IC11LrPCZIo_Am5eXP2p2tDAlrGTlPjn\r\n",
      "Resolving docs.google.com (docs.google.com)... 74.125.28.102, 74.125.28.139, 74.125.28.100, ...\r\n",
      "Connecting to docs.google.com (docs.google.com)|74.125.28.102|:443... connected.\r\n",
      "HTTP request sent, awaiting response... 303 See Other\r\n",
      "Location: https://doc-10-0s-docs.googleusercontent.com/docs/securesc/ha0ro937gcuc7l7deffksulhg5h7mbp1/bd3ds57omub984e4i969pic4q55hliab/1671475725000/09173029842254050324/*/1IC11LrPCZIo_Am5eXP2p2tDAlrGTlPjn?e=download&uuid=72975f28-78f7-4154-b624-29d1586e63d0 [following]\r\n",
      "Warning: wildcards not supported in HTTP.\r\n",
      "--2022-12-19 18:48:46--  https://doc-10-0s-docs.googleusercontent.com/docs/securesc/ha0ro937gcuc7l7deffksulhg5h7mbp1/bd3ds57omub984e4i969pic4q55hliab/1671475725000/09173029842254050324/*/1IC11LrPCZIo_Am5eXP2p2tDAlrGTlPjn?e=download&uuid=72975f28-78f7-4154-b624-29d1586e63d0\r\n",
      "Resolving doc-10-0s-docs.googleusercontent.com (doc-10-0s-docs.googleusercontent.com)... 172.217.193.132, 2607:f8b0:400c:c03::84\r\n",
      "Connecting to doc-10-0s-docs.googleusercontent.com (doc-10-0s-docs.googleusercontent.com)|172.217.193.132|:443... connected.\r\n",
      "HTTP request sent, awaiting response... 200 OK\r\n",
      "Length: 125624679 (120M) [application/zip]\r\n",
      "Saving to: ‘datos.zip’\r\n",
      "\r\n",
      "datos.zip           100%[===================>] 119.80M   151MB/s    in 0.8s    \r\n",
      "\r\n",
      "2022-12-19 18:48:47 (151 MB/s) - ‘datos.zip’ saved [125624679/125624679]\r\n",
      "\r\n",
      "Archive:  datos.zip\r\n",
      "  inflating: Vibra.mat               \r\n",
      "  inflating: __MACOSX/._Vibra.mat    \r\n",
      "  inflating: CaractCE.mat            \r\n",
      "  inflating: __MACOSX/._CaractCE.mat  \r\n",
      "CaractCE.mat  Vibra.mat  __MACOSX  __notebook__.ipynb  datos.zip\r\n"
     ]
    }
   ],
   "source": [
    " #data downloaded for google drive\n",
    "FILEID = \"1IC11LrPCZIo_Am5eXP2p2tDAlrGTlPjn\"\n",
    "!wget --load-cookies /tmp/cookies.txt \"https://docs.google.com/uc?export=download&confirm=$(wget --quiet --save-cookies /tmp/cookies.txt --keep-session-cookies --no-check-certificate 'https://docs.google.com/uc?export=download&id='$FILEID -O- | sed -rn 's/.*confirm=([0-9A-Za-z_]+).*/\\1\\n/p')&id=\"$FILEID -O datos.zip && rm -rf /tmp/cookies.txt\n",
    "!unzip -o datos.zip\n",
    "!dir\n",
    "database = 'Western'"
   ]
  },
  {
   "cell_type": "markdown",
   "id": "6331ef4d",
   "metadata": {
    "id": "lYGUr8mv4EuV",
    "papermill": {
     "duration": 0.009627,
     "end_time": "2022-12-19T18:48:50.646398",
     "exception": false,
     "start_time": "2022-12-19T18:48:50.636771",
     "status": "completed"
    },
    "tags": []
   },
   "source": [
    "# Subclassing for Crowdlayer Rodriguez"
   ]
  },
  {
   "cell_type": "code",
   "execution_count": 3,
   "id": "2b7012da",
   "metadata": {
    "execution": {
     "iopub.execute_input": "2022-12-19T18:48:50.672175Z",
     "iopub.status.busy": "2022-12-19T18:48:50.670592Z",
     "iopub.status.idle": "2022-12-19T18:49:02.674618Z",
     "shell.execute_reply": "2022-12-19T18:49:02.672676Z"
    },
    "id": "p5fJiVgC3FKO",
    "papermill": {
     "duration": 12.020984,
     "end_time": "2022-12-19T18:49:02.677375",
     "exception": false,
     "start_time": "2022-12-19T18:48:50.656391",
     "status": "completed"
    },
    "tags": []
   },
   "outputs": [],
   "source": [
    "# -*- coding: utf-8 -*-\n",
    "import tensorflow as tf\n",
    "import matplotlib.pyplot as plt\n",
    "#from tensorflow.keras.wrappers.scikit_learn import KerasClassifier\n",
    "import tensorflow_probability as tfp\n",
    "from tensorflow.keras import regularizers\n",
    "from sklearn.base import  BaseEstimator, TransformerMixin, ClassifierMixin\n",
    "from sklearn.model_selection import train_test_split\n",
    "tf.keras.backend.clear_session()\n",
    "#tf.random.set_seed(42)\n",
    "import types\n",
    "import tempfile\n",
    "class Keras_MA_CrowdL(): #transformer no va\n",
    " #Constructor __init__. Special method: identified by a double underscore at either side of their name\n",
    " #work in the background\n",
    " # initialize data members to the object. lets the class initialize the object’s attributes and serves no other purpose.\n",
    "    def __init__(self,epochs=100,batch_size=30,R=5, K=2, dropout=0.5, learning_rate=1e-3,optimizer='Adam', \n",
    "                  l1_param=0, validation_split=0.3, verbose=0):\n",
    "        #print('init')\n",
    "        self.epochs=epochs\n",
    "        self.dropout=dropout\n",
    "        self.batch_size = batch_size\n",
    "        self.learning_rate=learning_rate \n",
    "        self.l1_param=l1_param \n",
    "        self.l2_param=l1_param\n",
    "        self.validation_split = validation_split\n",
    "        self.verbose = verbose\n",
    "        self.optimizer = optimizer\n",
    "        self.R=R\n",
    "        self.K=K\n",
    "\n",
    "    \n",
    " \n",
    "    def custom_CLR_loss(self, y_true, y_pred): #ytrue \\in N x R,  ypred \\in N x K x R  ->CrowdLayerRodriguez\n",
    "        #print(y_true.shape)\n",
    "        Y_true_1K = tf.one_hot(tf.cast(y_true,dtype=tf.int32),depth=self.K,axis=1) #samples, classes 1-K, annotators\n",
    "        #print(Y_true_1K.shape)    \n",
    "        vec = tf.nn.softmax_cross_entropy_with_logits(logits=y_pred, labels=Y_true_1K, axis = 1)\n",
    "        #print(vec.shape)\n",
    "        #mask = tf.equal(Y_true_1K[:,0,:], -1)\n",
    "        #zer = tf.zeros_like(vec)\n",
    "        #loss = tf.where(mask, x=zer, y=vec)\n",
    "        #tf.print(\"loss\", loss)\n",
    "        return tf.math.reduce_sum(vec)\n",
    "\n",
    " \n",
    "    def fit(self, X, Y):\n",
    "        P = X.shape[1]\n",
    "        if self.optimizer == \"Adam\":\n",
    "            opt = tf.keras.optimizers.Adam(learning_rate=self.learning_rate)\n",
    "        elif self.optimizer == \"SGD\":\n",
    "            opt = tf.keras.optimizers.SGD(learning_rate=self.learning_rate)\n",
    "        else:\n",
    "            opt=self.optimizer\n",
    "\n",
    "        #capa de entrada\n",
    "        input_l = tf.keras.layers.Input(shape=(X.shape[1]), name='entrada')\n",
    "        #capas densas\n",
    "        h1 = tf.keras.layers.Dense(200,activation='selu',name='h1', #int(P*4*(self.K+self.R))\n",
    "                              kernel_regularizer=tf.keras.regularizers.l1_l2(l1=self.l1_param,l2=self.l2_param))(input_l)#argumento de entrada\n",
    "        h2 = tf.keras.layers.Dense(50,activation='selu',name='h2', #int(P*(self.K+self.R))\n",
    "                              kernel_regularizer=tf.keras.regularizers.l1_l2(l1=self.l1_param,l2=self.l2_param))(h1)\n",
    "        dout = tf.keras.layers.Dropout(rate=self.dropout)(h2)\n",
    "        output_dense = tf.keras.layers.Dense(self.K,activation=\"softmax\",name='output',\n",
    "                               kernel_regularizer=tf.keras.regularizers.l1_l2(l1=self.l1_param,l2=self.l2_param))(dout)\n",
    "        output= CrowdsClassification(self.K, self.R, conn_type=\"MW\")(output_dense) #Classes x Annotators\n",
    "        self.model = tf.keras.Model(inputs= input_l,outputs=output)\n",
    "        self.model.compile(loss= self.custom_CLR_loss, optimizer=opt)\n",
    "        self.history = self.model.fit(X, Y, epochs=self.epochs, validation_split= self.validation_split,   #\n",
    "                                      batch_size=self.batch_size,verbose=self.verbose)\n",
    "        #model_p  to predict labels in gridsearch  \n",
    "        self.model_p = tf.keras.Model(inputs=self.model.inputs,outputs=self.model.get_layer('output').output) #se accede a capas por nombre\n",
    "        #resumen y gráfica del modelo\n",
    "        #print(self.model.summary())\n",
    "        \n",
    "        return self\n",
    "\n",
    "    def predict2(self, X, *_):\n",
    "      return  np.argmax(self.model_p.predict(X), axis=1)    \n",
    "     \n",
    "    def predict(self, X, *_):\n",
    "\n",
    "       #print('predict') \n",
    "       return  self.model.predict(X) \n",
    "\n",
    "    def fit_predict(self,X,y):\n",
    "        #input X numpy array first dimension samples (N)x features (P)\n",
    "        #input Y numpy array vector len = samples (N) x  annotators (R)\n",
    "        \n",
    "        self.fit(X,y)\n",
    "        return self.predict(X)\n",
    "  \n",
    "     #graphics\n",
    "    def plot_history(self):\n",
    "        pd.DataFrame(self.history.history).plot(figsize=(8, 5))\n",
    "        plt.grid(True)\n",
    "        #plt.gca().set_ylim(0, 1)\n",
    "        #save_fig(\"keras_learning_curves_plot\")\n",
    "        plt.show()\n",
    "        return\n",
    "    \n",
    "    def set_params(self, **parameters):\n",
    "        #print('set_params') \n",
    "        for parameter, value in parameters.items():\n",
    "            setattr(self, parameter, value)\n",
    "\n",
    "        return self\n",
    "    \n",
    "    \n",
    "    \n",
    "    def get_params(self, deep=True):\n",
    "        #print('get_params') \n",
    "        return { 'l1_param':self.l1_param, 'dropout':self.dropout, 'optimizer':self.optimizer,\n",
    "                'learning_rate':self.learning_rate, 'batch_size':self.batch_size,\n",
    "                'epochs':self.epochs, 'verbose':self.verbose, 'validation_split':self.validation_split,\n",
    "                'R':self.R, 'K':self.K\n",
    "                }"
   ]
  },
  {
   "cell_type": "markdown",
   "id": "369763db",
   "metadata": {
    "id": "b9yV0N4v4U_3",
    "papermill": {
     "duration": 0.009606,
     "end_time": "2022-12-19T18:49:02.697078",
     "exception": false,
     "start_time": "2022-12-19T18:49:02.687472",
     "status": "completed"
    },
    "tags": []
   },
   "source": [
    "# Crowdlayer class"
   ]
  },
  {
   "cell_type": "code",
   "execution_count": 4,
   "id": "bee7866c",
   "metadata": {
    "execution": {
     "iopub.execute_input": "2022-12-19T18:49:02.719321Z",
     "iopub.status.busy": "2022-12-19T18:49:02.718567Z",
     "iopub.status.idle": "2022-12-19T18:49:02.748648Z",
     "shell.execute_reply": "2022-12-19T18:49:02.747141Z"
    },
    "id": "4ysb7umL3FKN",
    "papermill": {
     "duration": 0.044871,
     "end_time": "2022-12-19T18:49:02.751831",
     "exception": false,
     "start_time": "2022-12-19T18:49:02.706960",
     "status": "completed"
    },
    "tags": []
   },
   "outputs": [],
   "source": [
    " \n",
    "import numpy as np\n",
    "import tensorflow as tf\n",
    "import tensorflow.keras as keras\n",
    "from tensorflow.keras import backend as K1\n",
    "from tensorflow.keras.layers import Layer\n",
    "#from tensorflow.keras.engine.topology import Layer\n",
    "\n",
    "def init_identities(shape, dtype=None):\n",
    "    out = np.zeros(shape)\n",
    "    for r in range(shape[2]):\n",
    "        for i in range(shape[0]):\n",
    "            out[i,i,r] = 1.0\n",
    "    return out\n",
    "    \n",
    "class CrowdsClassification(Layer):\n",
    "\n",
    "\n",
    "  \n",
    "  #The build() method’s role is to create the layer’s variables, by calling the \n",
    "  #add_weight() method for each weight.  which is often necessary to create some of the weights.\n",
    "  #we need to know the number of neurons in the previous layer in order to create the connection weights matrix (i.e., the \"kernel\"): \n",
    "  #this corresponds to the size of the last dimension of the inputs. \n",
    "   \n",
    "    def __init__(self, output_dim, num_annotators, conn_type=\"MW\", **kwargs):\n",
    "        self.output_dim = output_dim\n",
    "        self.num_annotators = num_annotators\n",
    "        self.conn_type = conn_type\n",
    "        super(CrowdsClassification, self).__init__(**kwargs)\n",
    "\n",
    "\n",
    "\n",
    "    def build(self, input_shape):\n",
    "        if self.conn_type == \"MW\":\n",
    "            # matrix of weights per annotator\n",
    "      #A layer is a callable object that takes as input one or more tensors and that outputs one or more tensors. \n",
    "      #It involves computation, defined in the call() method, and a state (weight variables). \n",
    "      #the method add_weight() offers a shortcut to create weights.\n",
    "\n",
    "            self.kernel = self.add_weight(\"CrowdLayer\", (self.output_dim, self.output_dim, self.num_annotators),\n",
    "                                            initializer=init_identities, #It is the stated initializer instance\n",
    "                                            trainable=True) # trainable weights, updated via backpropagation during training\n",
    "        elif self.conn_type == \"VW\":\n",
    "            # vector of weights (one scale per class) per annotator\n",
    "            self.kernel = self.add_weight(\"CrowdLayer\", (self.output_dim, self.num_annotators),\n",
    "                                            initializer=keras.initializers.Ones(), \n",
    "                                            trainable=True)\n",
    "        elif self.conn_type == \"VB\":\n",
    "            # two vectors of weights (one scale and one bias per class) per annotator\n",
    "            self.kernel = []\n",
    "            self.kernel.append(self.add_weight(\"CrowdLayer\", (self.output_dim, self.num_annotators),\n",
    "                                            initializer=keras.initializers.Zeros(),\n",
    "                                            trainable=True))\n",
    "        elif self.conn_type == \"VW+B\":\n",
    "            # two vectors of weights (one scale and one bias per class) per annotator\n",
    "            self.kernel = []\n",
    "            self.kernel.append(self.add_weight(\"CrowdLayer\", (self.output_dim, self.num_annotators),\n",
    "                                            initializer=keras.initializers.Ones(),\n",
    "                                            trainable=True))\n",
    "            self.kernel.append(self.add_weight(\"CrowdLayer\", (self.output_dim, self.num_annotators),\n",
    "                                            initializer=keras.initializers.Zeros(),\n",
    "                                            trainable=True))\n",
    "        elif self.conn_type == \"SW\":\n",
    "            # single weight value per annotator\n",
    "            self.kernel = self.add_weight(\"CrowdLayer\", (self.num_annotators,1),\n",
    "                                            initializer=keras.initializers.Ones(),\n",
    "                                            trainable=True)\n",
    "        else:\n",
    "            raise Exception(\"Unknown connection type for CrowdsClassification layer!\")\n",
    "    #At the end of the build() method (and only at the end), \n",
    "    #you must call the parent’s build() method: this tells Keras that the layer is built (it just sets self.built = True).\n",
    "        super(CrowdsClassification, self).build(input_shape)  # Be sure to call this somewhere!\n",
    "\n",
    "    def call(self, x):\n",
    "    \n",
    "    #The call() method actually performs the desired operations. In this case, \n",
    "    #we compute the matrix multiplication of the inputs X and the layer’s kernel and \n",
    "    #this gives us the output of the layer.\n",
    "     \n",
    " \n",
    "\n",
    "        if self.conn_type == \"MW\":\n",
    "            res = K1.dot(x, self.kernel)\n",
    "        elif self.conn_type == \"VW\" or self.conn_type == \"VB\" or self.conn_type == \"VW+B\" or self.conn_type == \"SW\":\n",
    "            out = []\n",
    "            for r in range(self.num_annotators):\n",
    "                if self.conn_type == \"VW\":\n",
    "                    out.append(x * self.kernel[:,r])\n",
    "                elif self.conn_type == \"VB\":\n",
    "                    out.append(x + self.kernel[0][:,r])\n",
    "                elif self.conn_type == \"VW+B\":\n",
    "                    out.append(x * self.kernel[0][:,r] + self.kernel[1][:,r])\n",
    "                elif self.conn_type == \"SW\":\n",
    "                    out.append(x * self.kernel[r,0])\n",
    "            res = tf.stack(out)\n",
    "            if len(res.shape) == 3:\n",
    "                res = tf.transpose(res, [1, 2, 0])\n",
    "            elif len(res.shape) == 4:\n",
    "                res = tf.transpose(res, [1, 2, 3, 0])\n",
    "            else:\n",
    "                raise Exception(\"Wrong number of dimensions for output\")\n",
    "        else:\n",
    "            raise Exception(\"Unknown connection type for CrowdsClassification layer!\") \n",
    "        \n",
    "        return res\n",
    " \n",
    "#The compute_output_shape() method simply returns the shape of this layer’s outputs. \n",
    "#In this case, it is the same shape as the inputs, except the last two dimensions is replaced \n",
    "#with the number of clases and # annotators in the layer.  \n",
    " \n",
    "\n",
    "    def compute_output_shape(self, input_shape):\n",
    "        return (input_shape[0], self.output_dim, self.num_annotators)"
   ]
  },
  {
   "cell_type": "markdown",
   "id": "c50f70c3",
   "metadata": {
    "id": "xKzPN5lnHO13",
    "papermill": {
     "duration": 0.009746,
     "end_time": "2022-12-19T18:49:02.773518",
     "exception": false,
     "start_time": "2022-12-19T18:49:02.763772",
     "status": "completed"
    },
    "tags": []
   },
   "source": [
    "# Load Data"
   ]
  },
  {
   "cell_type": "code",
   "execution_count": 5,
   "id": "024b7ba9",
   "metadata": {
    "execution": {
     "iopub.execute_input": "2022-12-19T18:49:02.796215Z",
     "iopub.status.busy": "2022-12-19T18:49:02.795788Z",
     "iopub.status.idle": "2022-12-19T18:49:03.362928Z",
     "shell.execute_reply": "2022-12-19T18:49:03.361744Z"
    },
    "id": "hA1QFlPBjpbA",
    "outputId": "db5be05d-1fdc-4725-8064-5dc79e7a9a6a",
    "papermill": {
     "duration": 0.582256,
     "end_time": "2022-12-19T18:49:03.365862",
     "exception": false,
     "start_time": "2022-12-19T18:49:02.783606",
     "status": "completed"
    },
    "tags": []
   },
   "outputs": [],
   "source": [
    "#load data\n",
    "import scipy.io as sio\n",
    "import matplotlib.pyplot as plt\n",
    "import pandas as pd\n",
    "import tensorflow as tf #importar tensorflow\n",
    "from sklearn.model_selection import GridSearchCV, RandomizedSearchCV\n",
    "from sklearn.preprocessing import StandardScaler,MinMaxScaler\n",
    "import numpy as np\n",
    " \n",
    "#main libraries and functions\n",
    "import scipy.io as sio\n",
    "from sklearn.decomposition import PCA\n",
    "from sklearn.manifold import TSNE\n",
    "from sklearn.preprocessing import MinMaxScaler, StandardScaler\n",
    "import numpy as np\n",
    "import matplotlib.pyplot as plt\n",
    "from matplotlib.ticker import FormatStrFormatter\n",
    "import warnings\n",
    "#compute centroid index \n",
    "from sklearn.metrics import pairwise_distances\n",
    "import matplotlib\n",
    "\n",
    "warnings.filterwarnings('ignore')\n",
    "\n",
    "\n",
    "def centroid_(X):\n",
    "  mean_X = X.mean(axis=0)#computing mean along samples\n",
    "  D = pairwise_distances(mean_X.reshape(1,-1),X)\n",
    "  return np.argmin(D)#return centroid index\n",
    "\n",
    "\n",
    "#loading data\n",
    "path_ = 'CaractCE.mat'#Case Western Database\n",
    "dicX = sio.loadmat(path_)"
   ]
  },
  {
   "cell_type": "code",
   "execution_count": 6,
   "id": "4be97952",
   "metadata": {
    "execution": {
     "iopub.execute_input": "2022-12-19T18:49:03.387361Z",
     "iopub.status.busy": "2022-12-19T18:49:03.386961Z",
     "iopub.status.idle": "2022-12-19T18:49:03.393306Z",
     "shell.execute_reply": "2022-12-19T18:49:03.391910Z"
    },
    "id": "Hqmwm8kJj7HL",
    "papermill": {
     "duration": 0.021108,
     "end_time": "2022-12-19T18:49:03.396610",
     "exception": false,
     "start_time": "2022-12-19T18:49:03.375502",
     "status": "completed"
    },
    "tags": []
   },
   "outputs": [
    {
     "name": "stdout",
     "output_type": "stream",
     "text": [
      "Xt shape: (1200, 4000)\n",
      "Time length [s] 0.3333333333333333\n"
     ]
    }
   ],
   "source": [
    "Xt = dicX['F'] #time segments\n",
    "Fs = 12000 #sampling frequency\n",
    "Tl = Xt.shape[1]/Fs\n",
    "print('Xt shape:',Xt.shape)\n",
    "print('Time length [s]', Tl)"
   ]
  },
  {
   "cell_type": "code",
   "execution_count": 7,
   "id": "0512c9f9",
   "metadata": {
    "execution": {
     "iopub.execute_input": "2022-12-19T18:49:03.419205Z",
     "iopub.status.busy": "2022-12-19T18:49:03.418773Z",
     "iopub.status.idle": "2022-12-19T18:49:03.424718Z",
     "shell.execute_reply": "2022-12-19T18:49:03.423541Z"
    },
    "id": "xnqtxG_x3FKL",
    "papermill": {
     "duration": 0.02009,
     "end_time": "2022-12-19T18:49:03.427390",
     "exception": false,
     "start_time": "2022-12-19T18:49:03.407300",
     "status": "completed"
    },
    "tags": []
   },
   "outputs": [
    {
     "name": "stdout",
     "output_type": "stream",
     "text": [
      "MPE feature matriz shape: (1200, 125)\n"
     ]
    }
   ],
   "source": [
    "#loading precalculated MPE features\n",
    "X = dicX['CE']\n",
    "print('MPE feature matriz shape:',X.shape)"
   ]
  },
  {
   "cell_type": "code",
   "execution_count": 8,
   "id": "26bcf5f3",
   "metadata": {
    "execution": {
     "iopub.execute_input": "2022-12-19T18:49:03.449797Z",
     "iopub.status.busy": "2022-12-19T18:49:03.449406Z",
     "iopub.status.idle": "2022-12-19T18:49:03.714182Z",
     "shell.execute_reply": "2022-12-19T18:49:03.713132Z"
    },
    "papermill": {
     "duration": 0.279113,
     "end_time": "2022-12-19T18:49:03.716781",
     "exception": false,
     "start_time": "2022-12-19T18:49:03.437668",
     "status": "completed"
    },
    "tags": []
   },
   "outputs": [
    {
     "data": {
      "image/png": "[encoded data removed]",
      "text/plain": [
       "<Figure size 432x288 with 1 Axes>"
      ]
     },
     "metadata": {
      "needs_background": "light"
     },
     "output_type": "display_data"
    }
   ],
   "source": [
    "Y = dicX['E']\n",
    "Ytrue = Y[:,2] #target classes\n",
    "\n",
    "labels_ = ['NOR','IR1_0.007´´','IR1_0.014´´','IR1_0.021´´',\n",
    "           'IR2_0.007´´','IR2_0.014´´','IR2_0.021´´',\n",
    "           'BE_0.007´´','BE_0.014´´','BE_0.021´´'\n",
    "           ] #classes name\n",
    "\n",
    "#histogram\n",
    "unique_elements, counts_elements = np.unique(Ytrue, return_counts=True)\n",
    "plt.bar(unique_elements,100*counts_elements/X.shape[0])\n",
    "plt.xticks(unique_elements)\n",
    "plt.ylabel('Samples percentange [%]')\n",
    "plt.gca().set_xticklabels(labels_,rotation=45)\n",
    "plt.show()"
   ]
  },
  {
   "cell_type": "code",
   "execution_count": 9,
   "id": "41d07cb8",
   "metadata": {
    "execution": {
     "iopub.execute_input": "2022-12-19T18:49:03.739338Z",
     "iopub.status.busy": "2022-12-19T18:49:03.738288Z",
     "iopub.status.idle": "2022-12-19T18:49:03.744776Z",
     "shell.execute_reply": "2022-12-19T18:49:03.743977Z"
    },
    "papermill": {
     "duration": 0.02017,
     "end_time": "2022-12-19T18:49:03.747093",
     "exception": false,
     "start_time": "2022-12-19T18:49:03.726923",
     "status": "completed"
    },
    "tags": []
   },
   "outputs": [],
   "source": [
    "#rpm labels\n",
    "nrpm = 30\n",
    "Yrpm_b = np.r_[0*np.ones(nrpm),np.ones(nrpm),2*np.ones(nrpm),3*np.ones(nrpm)]\n",
    "Yrpm_b.shape\n",
    "Yrpm = Yrpm_b\n",
    "for i in range(len(labels_)-1):\n",
    "  Yrpm = np.r_[Yrpm,Yrpm_b]\n"
   ]
  },
  {
   "cell_type": "code",
   "execution_count": 10,
   "id": "5108befd",
   "metadata": {
    "execution": {
     "iopub.execute_input": "2022-12-19T18:49:03.769847Z",
     "iopub.status.busy": "2022-12-19T18:49:03.769145Z",
     "iopub.status.idle": "2022-12-19T18:49:03.775554Z",
     "shell.execute_reply": "2022-12-19T18:49:03.774275Z"
    },
    "papermill": {
     "duration": 0.020716,
     "end_time": "2022-12-19T18:49:03.778154",
     "exception": false,
     "start_time": "2022-12-19T18:49:03.757438",
     "status": "completed"
    },
    "tags": []
   },
   "outputs": [],
   "source": [
    "Y = np.c_[Y,Yrpm]"
   ]
  },
  {
   "cell_type": "code",
   "execution_count": 11,
   "id": "8bf43ee3",
   "metadata": {
    "execution": {
     "iopub.execute_input": "2022-12-19T18:49:03.801732Z",
     "iopub.status.busy": "2022-12-19T18:49:03.800689Z",
     "iopub.status.idle": "2022-12-19T18:49:03.908455Z",
     "shell.execute_reply": "2022-12-19T18:49:03.907213Z"
    },
    "papermill": {
     "duration": 0.122166,
     "end_time": "2022-12-19T18:49:03.910909",
     "exception": false,
     "start_time": "2022-12-19T18:49:03.788743",
     "status": "completed"
    },
    "tags": []
   },
   "outputs": [
    {
     "data": {
      "text/plain": [
       "['CasaWestern_data.pkl']"
      ]
     },
     "execution_count": 11,
     "metadata": {},
     "output_type": "execute_result"
    }
   ],
   "source": [
    "import joblib\n",
    "\n",
    "CaseWestern_data = {'Xdata_time' : Xt, 'Fs' : Fs,\n",
    "                    'Xdata_MPE' : X, 'Y_labels' : Y}\n",
    "\n",
    "joblib.dump(CaseWestern_data,\"CasaWestern_data.pkl\")"
   ]
  },
  {
   "cell_type": "code",
   "execution_count": 12,
   "id": "02ecb91e",
   "metadata": {
    "execution": {
     "iopub.execute_input": "2022-12-19T18:49:03.935733Z",
     "iopub.status.busy": "2022-12-19T18:49:03.934568Z",
     "iopub.status.idle": "2022-12-19T18:49:14.779574Z",
     "shell.execute_reply": "2022-12-19T18:49:14.778064Z"
    },
    "papermill": {
     "duration": 10.861019,
     "end_time": "2022-12-19T18:49:14.783006",
     "exception": false,
     "start_time": "2022-12-19T18:49:03.921987",
     "status": "completed"
    },
    "tags": []
   },
   "outputs": [
    {
     "data": {
      "image/png": "[encoded data removed]",
      "text/plain": [
       "<Figure size 1152x576 with 17 Axes>"
      ]
     },
     "metadata": {
      "needs_background": "light"
     },
     "output_type": "display_data"
    }
   ],
   "source": [
    "#scatter plots\n",
    "scar = StandardScaler()\n",
    "sca = MinMaxScaler()\n",
    "red = TSNE(perplexity = 10,n_components=2,random_state=123)\n",
    "vt = np.arange(0,Tl,1/Fs)\n",
    "Ytrue_f = Y[:,1] # labels = [Normal, Internal, External, Ball]\n",
    "labels_f = ['NOR', 'IR1', 'IR2', 'BE']\n",
    "#scatter along fault lables\n",
    "fig, axs = plt.subplots(len(labels_f),4,figsize=(16, 8))\n",
    "j=0\n",
    "vf = np.fft.rfftfreq(Xt.shape[1],1/Fs) #freq vector\n",
    "Xw = 20*np.log10(abs(np.fft.rfft(Xt))) # FFT\n",
    "\n",
    "marker_s = ['2','v','x','*'] # RPM1, RPM2, RPM3, RPM4 as marker changes\n",
    "\n",
    "for i in np.unique(Ytrue_f):\n",
    "  X_ = Xt[Ytrue_f==i]\n",
    "  Xw_ = Xw[Ytrue_f==i]\n",
    "  XE_ = X[Ytrue_f==i]\n",
    "  Z_ = scar.fit_transform(red.fit_transform(sca.fit_transform(Xw_)))\n",
    "  Z_e = scar.fit_transform(red.fit_transform(sca.fit_transform(XE_)))\n",
    "   \n",
    "  #identify centroid RPM1 \n",
    "  ind = centroid_(Z_[Yrpm[Ytrue_f==i] == 0])\n",
    "  #time plots\n",
    "  axs[j,0].plot(vt,X_[ind])\n",
    "  axs[j,0].set_ylim([-2.3,2.3])\n",
    "  axs[j,0].yaxis.set_major_formatter(FormatStrFormatter('%.2f'))\n",
    "  axs[j,0].set_ylabel(labels_f[j]+' \\n Amp. [V]')\n",
    "  if j!=len(labels_f)-1: axs[j,0].set_xticklabels([])\n",
    "\n",
    "  #frequency plots\n",
    "  axs[j,1].plot(vf,Xw_[ind])\n",
    "  axs[j,1].set_ylim([-45,55])\n",
    "  axs[j,1].yaxis.set_major_formatter(FormatStrFormatter('%.2f'))\n",
    "  axs[j,1].set_ylabel('dBV')\n",
    "  if j!=len(labels_f)-1: axs[j,1].set_xticklabels([])\n",
    "\n",
    "  #scatter plots\n",
    "  cc = Ytrue[Ytrue_f==i]\n",
    "  #FFT-based features scatter plot\n",
    "  for ii in np.unique(Yrpm): \n",
    "      ind_ = Yrpm[Ytrue_f==i] == ii\n",
    "      im = axs[j,2].scatter(Z_[ind_,0],Z_[ind_,1],c=cc[ind_],marker=marker_s[int(ii)])\n",
    "      #axs[j,2].scatter(Z_[ind,0],Z_[ind,1],c='r',marker='v')\n",
    "      axs[j,2].set_xticklabels([])\n",
    "      axs[j,2].set_yticklabels([])\n",
    "\n",
    "      #MPE-based features scatter plot\n",
    "      im = axs[j,3].scatter(Z_e[ind_,0],Z_e[ind_,1],c=cc[ind_],marker=marker_s[int(ii)])\n",
    "      #axs[j,3].scatter(Z_e[ind,0],Z_e[ind,1],c='r',marker='v')\n",
    "      axs[j,3].set_xticklabels([])\n",
    "      axs[j,3].set_yticklabels([])\n",
    "  j+=1\n",
    "\n",
    "cax = fig.add_axes([0.925, 0.15, 0.01, 0.7])\n",
    "norm = matplotlib.colors.Normalize(vmin=0,vmax=2)\n",
    "sm = plt.cm.ScalarMappable(cmap=None, norm=norm)\n",
    "sm.set_array([])\n",
    "cbar = plt.colorbar(sm,cax=cax,ticks=[0, 1, 2])\n",
    "cbar.ax.set_yticklabels(['0.007´´', '0.014´´', '0.021´´'])\n",
    "\n",
    "axs[-1,0].set_xlabel('time [s]')\n",
    "axs[-1,1].set_xlabel('Frequency [Hz]')  \n",
    "axs[0,0].set_title('Vibration signal')\n",
    "axs[0,1].set_title('FFT')\n",
    "axs[0,2].set_title('tSNE from FFT')\n",
    "axs[0,3].set_title('tSNE from MPE')\n",
    "\n",
    "\n",
    "fig.subplots_adjust(wspace=0.4, hspace=0.25)\n",
    "plt.show()\n",
    "\n"
   ]
  },
  {
   "cell_type": "code",
   "execution_count": 13,
   "id": "8d4ceaa6",
   "metadata": {
    "execution": {
     "iopub.execute_input": "2022-12-19T18:49:14.815045Z",
     "iopub.status.busy": "2022-12-19T18:49:14.814559Z",
     "iopub.status.idle": "2022-12-19T18:49:14.824499Z",
     "shell.execute_reply": "2022-12-19T18:49:14.822663Z"
    },
    "papermill": {
     "duration": 0.029336,
     "end_time": "2022-12-19T18:49:14.827180",
     "exception": false,
     "start_time": "2022-12-19T18:49:14.797844",
     "status": "completed"
    },
    "tags": []
   },
   "outputs": [
    {
     "data": {
      "text/plain": [
       "(1200, 125)"
      ]
     },
     "execution_count": 13,
     "metadata": {},
     "output_type": "execute_result"
    }
   ],
   "source": [
    "X.shape"
   ]
  },
  {
   "cell_type": "code",
   "execution_count": 14,
   "id": "41c5d27a",
   "metadata": {
    "execution": {
     "iopub.execute_input": "2022-12-19T18:49:14.855410Z",
     "iopub.status.busy": "2022-12-19T18:49:14.854951Z",
     "iopub.status.idle": "2022-12-19T18:49:14.864144Z",
     "shell.execute_reply": "2022-12-19T18:49:14.862476Z"
    },
    "papermill": {
     "duration": 0.026747,
     "end_time": "2022-12-19T18:49:14.867176",
     "exception": false,
     "start_time": "2022-12-19T18:49:14.840429",
     "status": "completed"
    },
    "tags": []
   },
   "outputs": [
    {
     "data": {
      "text/plain": [
       "1"
      ]
     },
     "execution_count": 14,
     "metadata": {},
     "output_type": "execute_result"
    }
   ],
   "source": [
    "Ytrue.min()\n",
    "#X = Xw"
   ]
  },
  {
   "cell_type": "code",
   "execution_count": null,
   "id": "584579bc",
   "metadata": {
    "papermill": {
     "duration": 0.013366,
     "end_time": "2022-12-19T18:49:14.895316",
     "exception": false,
     "start_time": "2022-12-19T18:49:14.881950",
     "status": "completed"
    },
    "tags": []
   },
   "outputs": [],
   "source": []
  },
  {
   "cell_type": "markdown",
   "id": "9158d31b",
   "metadata": {
    "id": "avDA2pJIJgsf",
    "papermill": {
     "duration": 0.013513,
     "end_time": "2022-12-19T18:49:14.924064",
     "exception": false,
     "start_time": "2022-12-19T18:49:14.910551",
     "status": "completed"
    },
    "tags": []
   },
   "source": [
    "# Labels Generation  "
   ]
  },
  {
   "cell_type": "code",
   "execution_count": 15,
   "id": "30561db8",
   "metadata": {
    "execution": {
     "iopub.execute_input": "2022-12-19T18:49:14.953054Z",
     "iopub.status.busy": "2022-12-19T18:49:14.952297Z",
     "iopub.status.idle": "2022-12-19T18:49:15.033344Z",
     "shell.execute_reply": "2022-12-19T18:49:15.032385Z"
    },
    "id": "BupvL7KSocvu",
    "papermill": {
     "duration": 0.098588,
     "end_time": "2022-12-19T18:49:15.035919",
     "exception": false,
     "start_time": "2022-12-19T18:49:14.937331",
     "status": "completed"
    },
    "tags": []
   },
   "outputs": [],
   "source": [
    "import random\n",
    "import warnings\n",
    "import numpy as np\n",
    "#import climin\n",
    "from functools import partial\n",
    "import matplotlib.pyplot as plt\n",
    "from sklearn.preprocessing import StandardScaler\n",
    "from sklearn.cluster import KMeans\n",
    "import matplotlib.pyplot as plt\n",
    "from sklearn.manifold import TSNE\n",
    "\n",
    "#Defining the Sigmoid function and Softmax function\n",
    "def Sigmoid(f_r):\n",
    "    lam_r = 1/(1 + np.exp(-f_r))\n",
    "    return lam_r\n",
    "\n",
    "def MAjVot(Y, K):\n",
    "    N,R = Y.shape\n",
    "    Yhat = np.zeros((N,1))\n",
    "    for n in range(N):\n",
    "        votes = np.zeros((K,1))\n",
    "        for r in range(R):\n",
    "            for k in range(K):\n",
    "                if Y[n,r] == k+1:\n",
    "                    votes[k] = votes[k]+1\n",
    "        Yhat[n] = np.argmax(votes) + 1\n",
    "    return Yhat\n",
    "\n",
    "\n",
    "def  MA_Clas_Gen(Xtrain,ytrain,R,NrP):\n",
    "\n",
    "    N = len(ytrain)\n",
    "    K = len(np.unique(ytrain))\n",
    "    Kn = np.unique(ytrain)\n",
    "    aux = 0\n",
    "    A = np.zeros((K,1))\n",
    "    for k in Kn:\n",
    "        A[aux] = (ytrain == k).sum()\n",
    "        aux = aux + 1\n",
    "    per = np.min(A)\n",
    "    if N < 25000:\n",
    "        Xtrain = TSNE(n_components=1,perplexity=per/2).fit_transform(Xtrain)\n",
    "    else:\n",
    "        Xtrain = np.sum(Xtrain,1)\n",
    "    # Xtrain = Xtrain-Xtrain.min()\n",
    "    # Xtrain = Xtrain/Xtrain.max()\n",
    "    #ytrain = y\n",
    "    # scaler = StandardScaler()\n",
    "    # scalerY = scaler.fit(y)\n",
    "    # ytrain = scaler.fit_transform(y)\n",
    "\n",
    "    \n",
    "    #miny = y.min()\n",
    "    #ytrain = y-miny\n",
    "    #maxy = ytrain.max()\n",
    "    #ytrain = ytrain/maxy\n",
    "  \n",
    "    # Xtrain = np.sum(Xtrain, axis=1)\n",
    "    Xtrain = Xtrain - Xtrain.min()\n",
    "    #print(Xtrain.min(), Xtrain.max())\n",
    "    Xtrain = Xtrain/Xtrain.max()\n",
    "    Xtrain = Xtrain.reshape((N,1))\n",
    "    yprueba = np.ones((N,1))\n",
    "    \n",
    "    \n",
    "    u_q = np.empty((Xtrain.shape[0],3))\n",
    "    u_q[:,0,None] = 4.5*np.cos(2*np.pi*Xtrain + 1.5*np.pi) - \\\n",
    "                               3*np.sin(4.3*np.pi*Xtrain + 0.3*np.pi)\n",
    "                    \n",
    "    u_q[:,1,None] = 4.5*np.cos(1.5*np.pi*Xtrain + 0.5*np.pi) + \\\n",
    "                       5*np.sin(3*np.pi*Xtrain + 1.5*np.pi)\n",
    "    \n",
    "    u_q[:,2,None] = 1\n",
    "    \n",
    "    W = []\n",
    "    # q=1\n",
    "    Wq1 = np.array(([[0.4],[0.7],[-0.5],[0],[-0.7]]))\n",
    "    W.append(Wq1)\n",
    "    # q=2\n",
    "    Wq2 = np.array(([[0.4],[-1.0],[-0.1],[-0.8],[1.0]]))\n",
    "    W.append(Wq2)\n",
    "    Wq3 = np.array(([[3.1],[-1.8],[-0.6],[-1.2],[1.0]]))\n",
    "    W.append(Wq3)\n",
    "\n",
    "    \n",
    "    F_r = []\n",
    "    Lam_r = []\n",
    "    for r in range(R):\n",
    "        f_r = np.zeros((Xtrain.shape[0], 1))\n",
    "        # rho_r = np.zeros((Xtrain.shape[0], 1))\n",
    "        for q in range(3):\n",
    "            f_r += W[q][r].T*u_q[:,q,None]\n",
    "        F_r.append(f_r)\n",
    "        lam_r = Sigmoid(f_r)\n",
    "        lam_r[lam_r>0.5] = 1\n",
    "        lam_r[lam_r<=0.5] = 0\n",
    "        Lam_r.append(lam_r)\n",
    "    plt.plot(Xtrain,Lam_r[2],'rx')\n",
    "    plt.show()\n",
    "    seed = 0\n",
    "    np.random.seed(seed)\n",
    "    Ytrain = np.ones((N, R))\n",
    "    for r in range(R):\n",
    "        aux = ytrain.copy()\n",
    "        for n in range(N):\n",
    "            if Lam_r[r][n] == 0:\n",
    "                labels = np.arange(1, K+1)\n",
    "                a = np.where(labels==ytrain[n])\n",
    "                labels = np.delete(labels, a)\n",
    "                idxlabels = np.random.permutation(K-1)\n",
    "                aux[n] = labels[idxlabels[0]]         \n",
    "        Ytrain[:,r] = aux.flatten()\n",
    "        \n",
    "   # Ytrain = (Ytrain*maxy) + miny\n",
    "        \n",
    "    iAnn = np.zeros((N, R), dtype=int) # this indicates if the annotator r labels the nth sample.\n",
    "    Nr = np.ones((R), dtype=int)*int(np.floor(N*NrP))  \n",
    "    for r in range(R):\n",
    "        if r < R-1:\n",
    "            indexR = np.random.permutation(range(N))[:Nr[r]]\n",
    "            iAnn[indexR,r] = 1\n",
    "        else:\n",
    "            iSimm = np.sum(iAnn, axis=1)\n",
    "            idxZero = np.asarray([i for (i, val) in enumerate(iSimm) if val == 0])\n",
    "            Nzeros = idxZero.shape[0]\n",
    "            idx2Choose = np.arange(N)\n",
    "            if Nzeros == 0:\n",
    "                indexR = np.random.permutation(range(N))[:Nr[r]]\n",
    "                iAnn[indexR,r] = 1\n",
    "            else:\n",
    "                idx2Choose = np.delete(idx2Choose, idxZero)\n",
    "                N2chose = idx2Choose.shape[0]\n",
    "                idxNoZero = np.random.permutation(N2chose)[:(Nr[r] - Nzeros)]\n",
    "                idxTot = np.concatenate((idxZero, idx2Choose[idxNoZero]))\n",
    "                iAnn[idxTot,r] = 1\n",
    "    \n",
    "    # Now, we verify that all the samples were labeled at least once\n",
    "    Nr = (np.sum(iAnn,0))\n",
    "    iSimm = np.sum(iAnn, axis=1)\n",
    "    if np.asarray([i for (i, val) in enumerate(iSimm) if val == 0]).sum() == 0:\n",
    "        ValueError(\"all the samples must be labeled at least once\")\n",
    "\n",
    "    # Finally, if iAnn=0 we assign a reference value to indicate a missing value\n",
    "    Vref = -1e-20\n",
    "    for r in range(R):\n",
    "        Ytrain[iAnn[:,r] == 0, r] = Vref \n",
    "\n",
    "    return Ytrain, iAnn, Lam_r\n",
    "\n",
    "\n",
    "def CrossVal(X, pp, Nk):\n",
    "    N = X.shape[0]\n",
    "    Ntr = int(N*pp)\n",
    "    Nte = N - Ntr\n",
    "    idxtr = np.zeros((Ntr,Nk))\n",
    "    idxte = np.zeros((Nte,Nk))\n",
    "    \n",
    "    for i in range(Nk):\n",
    "        index = np.random.permutation(range(N))\n",
    "        idxtr[:,i] = index[:Ntr]\n",
    "        idxte[:,i] = index[Ntr:]\n",
    "        \n",
    "    return idxtr, idxte\n",
    "    \n",
    "    \n",
    "        \n"
   ]
  },
  {
   "cell_type": "code",
   "execution_count": 16,
   "id": "8c9f3040",
   "metadata": {
    "execution": {
     "iopub.execute_input": "2022-12-19T18:49:15.064759Z",
     "iopub.status.busy": "2022-12-19T18:49:15.063612Z",
     "iopub.status.idle": "2022-12-19T18:49:19.425431Z",
     "shell.execute_reply": "2022-12-19T18:49:19.424346Z"
    },
    "id": "tK8MHObF3FKM",
    "outputId": "8f128bab-9644-4526-d91c-a3eb4c94fc10",
    "papermill": {
     "duration": 4.37923,
     "end_time": "2022-12-19T18:49:19.428199",
     "exception": false,
     "start_time": "2022-12-19T18:49:15.048969",
     "status": "completed"
    },
    "tags": []
   },
   "outputs": [
    {
     "data": {
      "image/png": "[encoded data removed]",
      "text/plain": [
       "<Figure size 432x288 with 1 Axes>"
      ]
     },
     "metadata": {
      "needs_background": "light"
     },
     "output_type": "display_data"
    }
   ],
   "source": [
    "Y, iAnn, Lam_r = MA_Clas_Gen(X ,Ytrue, R=5, NrP=1)"
   ]
  },
  {
   "cell_type": "code",
   "execution_count": 17,
   "id": "29e2f03e",
   "metadata": {
    "execution": {
     "iopub.execute_input": "2022-12-19T18:49:19.457491Z",
     "iopub.status.busy": "2022-12-19T18:49:19.456674Z",
     "iopub.status.idle": "2022-12-19T18:49:19.462543Z",
     "shell.execute_reply": "2022-12-19T18:49:19.461231Z"
    },
    "id": "v0Y8m7E-3FKM",
    "papermill": {
     "duration": 0.023515,
     "end_time": "2022-12-19T18:49:19.465250",
     "exception": false,
     "start_time": "2022-12-19T18:49:19.441735",
     "status": "completed"
    },
    "tags": []
   },
   "outputs": [],
   "source": [
    "Y = Y - 1\n",
    "t = Ytrue- 1"
   ]
  },
  {
   "cell_type": "code",
   "execution_count": 18,
   "id": "7f1f8d52",
   "metadata": {
    "execution": {
     "iopub.execute_input": "2022-12-19T18:49:19.494645Z",
     "iopub.status.busy": "2022-12-19T18:49:19.494059Z",
     "iopub.status.idle": "2022-12-19T18:49:20.657373Z",
     "shell.execute_reply": "2022-12-19T18:49:20.655865Z"
    },
    "papermill": {
     "duration": 1.181292,
     "end_time": "2022-12-19T18:49:20.660338",
     "exception": false,
     "start_time": "2022-12-19T18:49:19.479046",
     "status": "completed"
    },
    "tags": []
   },
   "outputs": [
    {
     "name": "stdout",
     "output_type": "stream",
     "text": [
      "annotator 1\n",
      "              precision    recall  f1-score   support\n",
      "\n",
      "           0       0.82      1.00      0.90       120\n",
      "           1       0.86      1.00      0.93       120\n",
      "           2       0.87      0.59      0.70       120\n",
      "           3       0.83      0.95      0.89       120\n",
      "           4       0.86      1.00      0.92       120\n",
      "           5       0.88      0.95      0.92       120\n",
      "           6       0.00      0.00      0.00       120\n",
      "           7       0.82      1.00      0.90       120\n",
      "           8       0.88      1.00      0.93       120\n",
      "           9       0.88      1.00      0.94       120\n",
      "\n",
      "    accuracy                           0.85      1200\n",
      "   macro avg       0.77      0.85      0.80      1200\n",
      "weighted avg       0.77      0.85      0.80      1200\n",
      "\n",
      "annotator 2\n",
      "              precision    recall  f1-score   support\n",
      "\n",
      "           0       0.00      0.00      0.00       120\n",
      "           1       0.70      1.00      0.82       120\n",
      "           2       0.45      0.24      0.31       120\n",
      "           3       0.64      0.89      0.75       120\n",
      "           4       0.00      0.00      0.00       120\n",
      "           5       0.69      1.00      0.82       120\n",
      "           6       0.77      1.00      0.87       120\n",
      "           7       0.71      1.00      0.83       120\n",
      "           8       0.66      0.99      0.79       120\n",
      "           9       0.00      0.00      0.00       120\n",
      "\n",
      "    accuracy                           0.61      1200\n",
      "   macro avg       0.46      0.61      0.52      1200\n",
      "weighted avg       0.46      0.61      0.52      1200\n",
      "\n",
      "annotator 3\n",
      "              precision    recall  f1-score   support\n",
      "\n",
      "           0       0.70      1.00      0.82       120\n",
      "           1       0.00      0.00      0.00       120\n",
      "           2       0.60      0.57      0.59       120\n",
      "           3       0.26      0.09      0.14       120\n",
      "           4       0.74      1.00      0.85       120\n",
      "           5       0.78      1.00      0.88       120\n",
      "           6       0.69      1.00      0.82       120\n",
      "           7       0.00      0.00      0.00       120\n",
      "           8       0.73      0.99      0.84       120\n",
      "           9       0.65      0.85      0.74       120\n",
      "\n",
      "    accuracy                           0.65      1200\n",
      "   macro avg       0.51      0.65      0.57      1200\n",
      "weighted avg       0.51      0.65      0.57      1200\n",
      "\n",
      "annotator 4\n",
      "              precision    recall  f1-score   support\n",
      "\n",
      "           0       0.00      0.00      0.00       120\n",
      "           1       0.00      0.00      0.00       120\n",
      "           2       0.53      0.57      0.55       120\n",
      "           3       0.18      0.09      0.12       120\n",
      "           4       0.65      1.00      0.79       120\n",
      "           5       0.66      1.00      0.79       120\n",
      "           6       0.71      1.00      0.83       120\n",
      "           7       0.68      1.00      0.81       120\n",
      "           8       0.69      0.99      0.82       120\n",
      "           9       0.00      0.00      0.00       120\n",
      "\n",
      "    accuracy                           0.57      1200\n",
      "   macro avg       0.41      0.57      0.47      1200\n",
      "weighted avg       0.41      0.57      0.47      1200\n",
      "\n",
      "annotator 5\n",
      "              precision    recall  f1-score   support\n",
      "\n",
      "           0       0.53      1.00      0.69       120\n",
      "           1       0.00      0.00      0.00       120\n",
      "           2       0.00      0.00      0.00       120\n",
      "           3       0.00      0.00      0.00       120\n",
      "           4       0.00      0.00      0.00       120\n",
      "           5       0.00      0.00      0.00       120\n",
      "           6       0.00      0.00      0.00       120\n",
      "           7       0.00      0.00      0.00       120\n",
      "           8       0.00      0.00      0.00       120\n",
      "           9       0.52      1.00      0.69       120\n",
      "\n",
      "    accuracy                           0.20      1200\n",
      "   macro avg       0.11      0.20      0.14      1200\n",
      "weighted avg       0.11      0.20      0.14      1200\n",
      "\n"
     ]
    },
    {
     "data": {
      "image/png": "[encoded data removed]",
      "text/plain": [
       "<Figure size 432x288 with 1 Axes>"
      ]
     },
     "metadata": {
      "needs_background": "light"
     },
     "output_type": "display_data"
    },
    {
     "data": {
      "image/png": "[encoded data removed]",
      "text/plain": [
       "<Figure size 432x288 with 1 Axes>"
      ]
     },
     "metadata": {
      "needs_background": "light"
     },
     "output_type": "display_data"
    },
    {
     "data": {
      "image/png": "[encoded data removed]",
      "text/plain": [
       "<Figure size 432x288 with 1 Axes>"
      ]
     },
     "metadata": {
      "needs_background": "light"
     },
     "output_type": "display_data"
    },
    {
     "data": {
      "image/png": "[encoded data removed]",
      "text/plain": [
       "<Figure size 432x288 with 1 Axes>"
      ]
     },
     "metadata": {
      "needs_background": "light"
     },
     "output_type": "display_data"
    },
    {
     "data": {
      "image/png": "[encoded data removed]",
      "text/plain": [
       "<Figure size 432x288 with 1 Axes>"
      ]
     },
     "metadata": {
      "needs_background": "light"
     },
     "output_type": "display_data"
    }
   ],
   "source": [
    "import pandas as pd\n",
    "from sklearn.metrics import classification_report\n",
    "for i in range(Y.shape[1]):\n",
    "    print('annotator',i+1)\n",
    "    print(classification_report(t,Y[:,i]))\n",
    "    unique, counts = np.unique(Y[:,i], return_counts=True)\n",
    "    plt.figure()\n",
    "    plt.bar(unique, counts)\n",
    "    #     unique, counts = np.unique(Y_test[5], return_counts=True)\n",
    "    #     plt.bar(unique, counts)\n",
    "\n",
    "    plt.title('Class Frequency for Y_true')\n",
    "    plt.xlabel('Class')\n",
    "    plt.ylabel('Frequency')"
   ]
  },
  {
   "cell_type": "markdown",
   "id": "17ed35e7",
   "metadata": {
    "id": "uudDcV4wHiuI",
    "papermill": {
     "duration": 0.014981,
     "end_time": "2022-12-19T18:49:20.691333",
     "exception": false,
     "start_time": "2022-12-19T18:49:20.676352",
     "status": "completed"
    },
    "tags": []
   },
   "source": [
    "# Split data"
   ]
  },
  {
   "cell_type": "code",
   "execution_count": 19,
   "id": "634bfacf",
   "metadata": {
    "execution": {
     "iopub.execute_input": "2022-12-19T18:49:20.722804Z",
     "iopub.status.busy": "2022-12-19T18:49:20.722402Z",
     "iopub.status.idle": "2022-12-19T18:49:20.736774Z",
     "shell.execute_reply": "2022-12-19T18:49:20.734784Z"
    },
    "id": "QCxEhJv_3FKN",
    "outputId": "20cf4b24-fde3-4b21-f26a-2809af8f2c5d",
    "papermill": {
     "duration": 0.034409,
     "end_time": "2022-12-19T18:49:20.740385",
     "exception": false,
     "start_time": "2022-12-19T18:49:20.705976",
     "status": "completed"
    },
    "tags": []
   },
   "outputs": [
    {
     "name": "stdout",
     "output_type": "stream",
     "text": [
      "[ 156  920  971  897   35  599  567  553  891 1010  524  440 1141  579\n",
      "  138  566 1186  172  961  610  662  186  134  418  427  245  571  226\n",
      "  348 1071  637  203 1136  210  701  879  314  448 1088  406  375 1011\n",
      "  972  694  167  654 1069  678  982 1026  591 1195 1105  690  528  800\n",
      "  987  568  935   42  476  693  758  486   97  299  746  305    5  490\n",
      "  336  310  600  968  511  565   72  587  702  656   18   13  774  807\n",
      "  960  895  802 1117 1044  279  664   67  512  921  136 1157  150 1085\n",
      "   69  923  384 1106  964  456  825  204  318  196  362  887  417   85\n",
      " 1051  278  209  499 1019  154  779  844  351  739   98  560  462   86\n",
      "   45  590  304  228  898  332  103  882  688  429  178  319 1043  822\n",
      " 1182  294  188  943  229 1114   68  177  621  677 1123  507  376 1007\n",
      "  787  810  141  756 1033  163  120  240  976  252   95  529  352  431\n",
      "  617  309  437  870  161  902  772  627  681  266  861  206  909  725\n",
      "  221 1130 1116 1148  801  768  948  580  754  805 1119  373  973  594\n",
      "  839   84 1055  409 1135 1045  182  624  710  307  249  714  603  586\n",
      "  184  536  119  444  280 1154 1151  326  260  989  316  856 1100  733\n",
      " 1178  502 1198  198  145  685  812  674  453   31  811 1015  250  282\n",
      "  651   43 1048  738   15  777  171  933  543 1066  129  200  367 1013\n",
      " 1075  875  263 1072   50  723  986 1073  251  306  394  831  611  883\n",
      "  396  558  643  776  541 1171  244  372  109 1173  303  657    9  842\n",
      "  683  157  147   65  190  243  289  820    7  112  789  131 1127  164\n",
      " 1074  794  613  235  684  452  682  906  124  647  876  917  176  916\n",
      " 1050   90  905   57   40 1101  292  267  965  646 1125  421 1056  130\n",
      "  110  670   33 1124  966  668  208  114 1077 1143  706  399  212   52\n",
      " 1115  904 1049   41  300  907  614  764  705  854  261  598  616  663\n",
      "  491  388  732  727  274  356  869  317 1145  497]\n",
      "(840, 125) (840, 5) (840, 1)\n"
     ]
    }
   ],
   "source": [
    "import numpy.matlib\n",
    "from sklearn.model_selection import  StratifiedShuffleSplit, ShuffleSplit\n",
    "Ns = 1\n",
    "ss = ShuffleSplit(n_splits=Ns, test_size=0.3, random_state =123)\n",
    "for train_index, test_index in ss.split(X):\n",
    "    print(test_index)\n",
    "    X_train, X_test,Y_train,Y_test = X[train_index,:], X[test_index,:],Y[train_index,:], Y[test_index,:]\n",
    "    Y_true_train, Y_true_test = t[train_index].reshape(-1,1), t[test_index].reshape(-1,1)\n",
    "print(X_train.shape, Y_train.shape, Y_true_train.shape)"
   ]
  },
  {
   "cell_type": "markdown",
   "id": "14bc5031",
   "metadata": {
    "id": "kgDMRggXHo0X",
    "papermill": {
     "duration": 0.014558,
     "end_time": "2022-12-19T18:49:20.770733",
     "exception": false,
     "start_time": "2022-12-19T18:49:20.756175",
     "status": "completed"
    },
    "tags": []
   },
   "source": [
    "# Apply MinMaxScaler"
   ]
  },
  {
   "cell_type": "code",
   "execution_count": 20,
   "id": "e60f6fc0",
   "metadata": {
    "execution": {
     "iopub.execute_input": "2022-12-19T18:49:20.803523Z",
     "iopub.status.busy": "2022-12-19T18:49:20.802579Z",
     "iopub.status.idle": "2022-12-19T18:49:20.809729Z",
     "shell.execute_reply": "2022-12-19T18:49:20.808836Z"
    },
    "id": "33XT7bGs3FKN",
    "papermill": {
     "duration": 0.026426,
     "end_time": "2022-12-19T18:49:20.812385",
     "exception": false,
     "start_time": "2022-12-19T18:49:20.785959",
     "status": "completed"
    },
    "tags": []
   },
   "outputs": [],
   "source": [
    "scaler = MinMaxScaler()\n",
    "scaler.fit(X_train)\n",
    "X_train = scaler.transform(X_train)\n",
    "X_test = scaler.transform(X_test)"
   ]
  },
  {
   "cell_type": "code",
   "execution_count": 21,
   "id": "3ddc7b24",
   "metadata": {
    "execution": {
     "iopub.execute_input": "2022-12-19T18:49:20.844861Z",
     "iopub.status.busy": "2022-12-19T18:49:20.844106Z",
     "iopub.status.idle": "2022-12-19T18:49:20.850507Z",
     "shell.execute_reply": "2022-12-19T18:49:20.849580Z"
    },
    "id": "8JB57s89xbR3",
    "outputId": "5f7b5561-3e45-498d-9117-bf91a63d2fb9",
    "papermill": {
     "duration": 0.024903,
     "end_time": "2022-12-19T18:49:20.852632",
     "exception": false,
     "start_time": "2022-12-19T18:49:20.827729",
     "status": "completed"
    },
    "tags": []
   },
   "outputs": [
    {
     "data": {
      "text/plain": [
       "10"
      ]
     },
     "execution_count": 21,
     "metadata": {},
     "output_type": "execute_result"
    }
   ],
   "source": [
    "len(np.unique(Y_test))"
   ]
  },
  {
   "cell_type": "code",
   "execution_count": 22,
   "id": "268d34bd",
   "metadata": {
    "execution": {
     "iopub.execute_input": "2022-12-19T18:49:20.885190Z",
     "iopub.status.busy": "2022-12-19T18:49:20.884417Z",
     "iopub.status.idle": "2022-12-19T18:49:20.889413Z",
     "shell.execute_reply": "2022-12-19T18:49:20.888439Z"
    },
    "id": "Ce-Lhs1K3FKO",
    "papermill": {
     "duration": 0.024025,
     "end_time": "2022-12-19T18:49:20.891904",
     "exception": false,
     "start_time": "2022-12-19T18:49:20.867879",
     "status": "completed"
    },
    "tags": []
   },
   "outputs": [],
   "source": [
    "#testing PRI as ground truth -> repeat true labels as multiple annotators\n",
    "Y_true_train_K = np.matlib.repmat(Y_true_train,1, Y_train.shape[1])#testing MA as classifier\n",
    "#print(X_train.shape,Y_true_train_K.shape)\n",
    "# Y_train_one_hot_targets = tf.one_hot(tf.cast(Y_train , tf.int32), len(np.unique(Y_true_test)), axis = 1, dtype=tf.int32)\n",
    "# Y_train_one_hot_targets.shape"
   ]
  },
  {
   "cell_type": "markdown",
   "id": "ce1774df",
   "metadata": {
    "id": "pPoaMuiXH-Zm",
    "papermill": {
     "duration": 0.014847,
     "end_time": "2022-12-19T18:49:20.922532",
     "exception": false,
     "start_time": "2022-12-19T18:49:20.907685",
     "status": "completed"
    },
    "tags": []
   },
   "source": [
    "# Testing the Class "
   ]
  },
  {
   "cell_type": "code",
   "execution_count": 23,
   "id": "a47c7436",
   "metadata": {
    "execution": {
     "iopub.execute_input": "2022-12-19T18:49:20.953991Z",
     "iopub.status.busy": "2022-12-19T18:49:20.953526Z",
     "iopub.status.idle": "2022-12-19T18:51:27.641850Z",
     "shell.execute_reply": "2022-12-19T18:51:27.640286Z"
    },
    "papermill": {
     "duration": 126.707271,
     "end_time": "2022-12-19T18:51:27.644689",
     "exception": false,
     "start_time": "2022-12-19T18:49:20.937418",
     "status": "completed"
    },
    "tags": []
   },
   "outputs": [
    {
     "name": "stdout",
     "output_type": "stream",
     "text": [
      "iteration: 0\n"
     ]
    },
    {
     "name": "stderr",
     "output_type": "stream",
     "text": [
      "2022-12-19 18:49:21.009298: I tensorflow/core/common_runtime/process_util.cc:146] Creating new thread pool with default inter op setting: 2. Tune using inter_op_parallelism_threads for best performance.\n",
      "2022-12-19 18:49:21.572839: I tensorflow/compiler/mlir/mlir_graph_optimization_pass.cc:185] None of the MLIR Optimization Passes are enabled (registered 2)\n"
     ]
    },
    {
     "name": "stdout",
     "output_type": "stream",
     "text": [
      "Validation ACC: 0.9778\n",
      "Validation aUc: 1.0000\n",
      "iteration: 1\n",
      "Validation ACC: 0.9806\n",
      "Validation aUc: 1.0000\n",
      "iteration: 2\n",
      "Validation ACC: 0.8639\n",
      "Validation aUc: 1.0000\n",
      "iteration: 3\n",
      "Validation ACC: 0.9889\n",
      "Validation aUc: 1.0000\n",
      "iteration: 4\n",
      "Validation ACC: 0.9917\n",
      "Validation aUc: 1.0000\n",
      "iteration: 5\n",
      "Validation ACC: 0.9778\n",
      "Validation aUc: 1.0000\n",
      "iteration: 6\n",
      "Validation ACC: 0.9833\n",
      "Validation aUc: 1.0000\n",
      "iteration: 7\n",
      "Validation ACC: 0.8722\n",
      "Validation aUc: 1.0000\n",
      "iteration: 8\n",
      "Validation ACC: 0.7833\n",
      "Validation aUc: 1.0000\n",
      "iteration: 9\n",
      "Validation ACC: 0.8917\n",
      "Validation aUc: 1.0000\n"
     ]
    }
   ],
   "source": [
    "from sklearn.metrics import classification_report\n",
    "\n",
    "l1 =0.001\n",
    "NUM_RUNS =10\n",
    "ACC = np.zeros(NUM_RUNS)\n",
    "AUC = np.zeros(NUM_RUNS)\n",
    "for i in range(NUM_RUNS): #10\n",
    "    print(\"iteration: \" + str(i))\n",
    "   \n",
    "    MA = Keras_MA_CrowdL(epochs=100,batch_size=32,R= Y_train.shape[1], K=len(np.unique(Y_true_test)), dropout=0.25, learning_rate=0.001,optimizer='Adam', \n",
    "                l1_param=l1,  validation_split=0.3, verbose=0)\n",
    "\n",
    "\n",
    "    MA.fit(X_train, Y_train)\n",
    "    #MA.plot_history()\n",
    "  \n",
    "    #Accuracy  \n",
    "    \n",
    "    #estimar etiquetas modelo rodiguez \n",
    "    preds_test_num =  MA.predict2(X_test)\n",
    "    \n",
    "    report = classification_report(Y_true_test,preds_test_num,output_dict=True)\n",
    "    ACC[i] = report['accuracy']\n",
    "    print(\"Validation ACC: %.4f\" % (float(report['accuracy']),))\n",
    "    \n",
    "    #AUC\n",
    "    val_AUC_metric = tf.keras.metrics.AUC( from_logits = True)  \n",
    "   # val_logits =MA.predict(X_test) # model(X_test, training=False)\n",
    "    # tf.print(y_batch_val)\n",
    "    val_AUC_metric.update_state(Y_true_test,  preds_test_num.astype('float'))\n",
    "\n",
    "    val_AUC = val_AUC_metric.result()\n",
    "    val_AUC_metric.reset_states()\n",
    "    val_AUC = val_AUC.numpy()\n",
    "    print(\"Validation aUc: %.4f\" % (float(val_AUC),))\n",
    "    AUC[i] = val_AUC\n",
    "    \n",
    "  "
   ]
  },
  {
   "cell_type": "code",
   "execution_count": 24,
   "id": "f4034ee5",
   "metadata": {
    "execution": {
     "iopub.execute_input": "2022-12-19T18:51:27.680279Z",
     "iopub.status.busy": "2022-12-19T18:51:27.678923Z",
     "iopub.status.idle": "2022-12-19T18:51:27.687585Z",
     "shell.execute_reply": "2022-12-19T18:51:27.686292Z"
    },
    "papermill": {
     "duration": 0.028806,
     "end_time": "2022-12-19T18:51:27.690040",
     "exception": false,
     "start_time": "2022-12-19T18:51:27.661234",
     "status": "completed"
    },
    "tags": []
   },
   "outputs": [
    {
     "data": {
      "text/plain": [
       "array([0.97777778, 0.98055556, 0.86388889, 0.98888889, 0.99166667,\n",
       "       0.97777778, 0.98333333, 0.87222222, 0.78333333, 0.89166667])"
      ]
     },
     "execution_count": 24,
     "metadata": {},
     "output_type": "execute_result"
    }
   ],
   "source": [
    "ACC"
   ]
  },
  {
   "cell_type": "code",
   "execution_count": 25,
   "id": "71816461",
   "metadata": {
    "execution": {
     "iopub.execute_input": "2022-12-19T18:51:27.723454Z",
     "iopub.status.busy": "2022-12-19T18:51:27.723037Z",
     "iopub.status.idle": "2022-12-19T18:51:27.730909Z",
     "shell.execute_reply": "2022-12-19T18:51:27.729534Z"
    },
    "papermill": {
     "duration": 0.027793,
     "end_time": "2022-12-19T18:51:27.733510",
     "exception": false,
     "start_time": "2022-12-19T18:51:27.705717",
     "status": "completed"
    },
    "tags": []
   },
   "outputs": [
    {
     "data": {
      "text/plain": [
       "array([1., 1., 1., 1., 1., 1., 1., 1., 1., 1.])"
      ]
     },
     "execution_count": 25,
     "metadata": {},
     "output_type": "execute_result"
    }
   ],
   "source": [
    "AUC"
   ]
  },
  {
   "cell_type": "code",
   "execution_count": 26,
   "id": "8ddd0831",
   "metadata": {
    "execution": {
     "iopub.execute_input": "2022-12-19T18:51:27.767192Z",
     "iopub.status.busy": "2022-12-19T18:51:27.766771Z",
     "iopub.status.idle": "2022-12-19T18:51:27.773106Z",
     "shell.execute_reply": "2022-12-19T18:51:27.771890Z"
    },
    "papermill": {
     "duration": 0.026487,
     "end_time": "2022-12-19T18:51:27.775943",
     "exception": false,
     "start_time": "2022-12-19T18:51:27.749456",
     "status": "completed"
    },
    "tags": []
   },
   "outputs": [
    {
     "name": "stdout",
     "output_type": "stream",
     "text": [
      "Average Accuracy:  93.11\n",
      "Average std:  6.92\n"
     ]
    }
   ],
   "source": [
    "print('Average Accuracy: ', np.round( ACC.mean(),4)*100) \n",
    "print('Average std: ',np.round(np.std( ACC),4)*100)"
   ]
  },
  {
   "cell_type": "code",
   "execution_count": 27,
   "id": "a027d16b",
   "metadata": {
    "execution": {
     "iopub.execute_input": "2022-12-19T18:51:27.811729Z",
     "iopub.status.busy": "2022-12-19T18:51:27.811316Z",
     "iopub.status.idle": "2022-12-19T18:51:27.818775Z",
     "shell.execute_reply": "2022-12-19T18:51:27.817308Z"
    },
    "papermill": {
     "duration": 0.028722,
     "end_time": "2022-12-19T18:51:27.821509",
     "exception": false,
     "start_time": "2022-12-19T18:51:27.792787",
     "status": "completed"
    },
    "tags": []
   },
   "outputs": [
    {
     "name": "stdout",
     "output_type": "stream",
     "text": [
      "Average AUC:  100.0\n",
      "Average AUC std:  0.0\n"
     ]
    }
   ],
   "source": [
    "print('Average AUC: ', np.round( AUC.mean(),4)*100) \n",
    "print('Average AUC std: ',np.round(np.std( AUC),4)*100)"
   ]
  }
 ],
 "metadata": {
  "kernelspec": {
   "display_name": "Python 3",
   "language": "python",
   "name": "python3"
  },
  "language_info": {
   "codemirror_mode": {
    "name": "ipython",
    "version": 3
   },
   "file_extension": ".py",
   "mimetype": "text/x-python",
   "name": "python",
   "nbconvert_exporter": "python",
   "pygments_lexer": "ipython3",
   "version": "3.7.12"
  },
  "papermill": {
   "default_parameters": {},
   "duration": 180.362581,
   "end_time": "2022-12-19T18:51:30.969170",
   "environment_variables": {},
   "exception": null,
   "input_path": "__notebook__.ipynb",
   "output_path": "__notebook__.ipynb",
   "parameters": {},
   "start_time": "2022-12-19T18:48:30.606589",
   "version": "2.3.4"
  }
 },
 "nbformat": 4,
 "nbformat_minor": 5
}
