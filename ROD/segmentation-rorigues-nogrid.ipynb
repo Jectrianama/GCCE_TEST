{
 "cells": [
  {
   "cell_type": "markdown",
   "id": "619f22e5",
   "metadata": {
    "id": "Cy45HoPn5SpZ",
    "papermill": {
     "duration": 0.008692,
     "end_time": "2022-12-19T16:46:56.907965",
     "exception": false,
     "start_time": "2022-12-19T16:46:56.899273",
     "status": "completed"
    },
    "tags": []
   },
   "source": [
    "# Loss function Rodrigues\n",
    "\n",
    "$𝒟 = \\{ \\mathbf{x}_n, \\mathbf{y}_n\\}$ be a dataset of size $N$\n",
    "\n",
    "$\\mathbf{x}_n \\in \\mathbb{R}^D$\n",
    "\n",
    "${\\mathbf{y}}^r_n\\in[0,1]^K$:   label provided for the r-th annotator in a set of R annotators\n",
    "\n",
    "$𝒛_n$ Latent true class determined by a softmax output layer  of a DNN\n",
    "\n",
    "\n",
    "$\\mathbf{\\sigma}\\in \\mathbb{R} ^Q$: DNN-based feature representation. correspond to the output of a softmax layer\n",
    "\n",
    "$\\hat{\\mathbf{y}}^r_n = f_r(\\sigma)\\in[0,1]^{1 \\times K}$\n",
    "\n",
    "$\\hat{\\mathbf{y}}_n=[\\hat{\\mathbf{y}}^1_n,\\hat{\\mathbf{y}}^2_n,\\dots,\\hat{\\mathbf{y}}^R_n]\\in [0,1]^{1\\times (R\\times K)}$\n",
    "\n",
    "Activation of the crowd layer for each anotator  $ \\mathbf{a}^r = f_r(\\sigma)$, where $f_r$ is an annotator-specific function, and the output of the crowd layer simply as the softmax of the\n",
    "activations $o_c^r = e^{a_c^r}/\\sum_{l=1}^{C}e^{a_l^r}$.\n",
    "\n",
    "\n",
    " $f_r(\\sigma)= \\mathbf{W}^r\\mathbf{\\sigma}$\n",
    "\n",
    " $\\mathbf{W}^r$ is an annotator-specific matrix\n",
    "\n",
    " **Cost function**\n",
    "\n",
    " $E(\\mathbf{o}^r, y^r)$\n",
    " between the expected output of the r-th annotator and its actual label $y^r$,\n",
    "\n",
    "Then, \n",
    "\n",
    "if we make. $\\lambda_n^r(\\theta) = \\mathbf{1}$ in PRI loss\n",
    "\n",
    "\n",
    "\n",
    "$$\\min_\\theta \\sum_n\\left(\\sum_r \\lambda_n^r(\\theta)H({\\mathbf{y}}^r_n;\\hat{\\mathbf{y}}_n(\\theta))\\right)+\\left(H(\\hat{\\mathbf{y}}_n(\\theta))\\sum_r\\left(1-\\lambda_n^r(\\theta)\\right)\\right)$$\n",
    "\n",
    " \n",
    "we can obtain rodriguez\n",
    "\n",
    "\n",
    "$$\\min_\\theta \\sum_n\\left(\\sum_r (\\mathbf{1})H({\\mathbf{y}}^r_n;\\hat{\\mathbf{y}}_n(\\theta))\\right)+\\left(H(\\hat{\\mathbf{y}}_n(\\theta))\\sum_r\\left(1-\\mathbf{1}\\right)\\right)$$"
   ]
  },
  {
   "cell_type": "code",
   "execution_count": 1,
   "id": "06cb07a1",
   "metadata": {
    "execution": {
     "iopub.execute_input": "2022-12-19T16:46:56.926311Z",
     "iopub.status.busy": "2022-12-19T16:46:56.925694Z",
     "iopub.status.idle": "2022-12-19T16:46:56.935342Z",
     "shell.execute_reply": "2022-12-19T16:46:56.933651Z"
    },
    "id": "Htu1kN9-jZO1",
    "papermill": {
     "duration": 0.023366,
     "end_time": "2022-12-19T16:46:56.939390",
     "exception": false,
     "start_time": "2022-12-19T16:46:56.916024",
     "status": "completed"
    },
    "tags": []
   },
   "outputs": [],
   "source": [
    "#!pip install tensorflow==2.7.0\n",
    "#!pip install scikeras"
   ]
  },
  {
   "cell_type": "code",
   "execution_count": 2,
   "id": "893966c5",
   "metadata": {
    "execution": {
     "iopub.execute_input": "2022-12-19T16:46:56.956740Z",
     "iopub.status.busy": "2022-12-19T16:46:56.955889Z",
     "iopub.status.idle": "2022-12-19T16:47:06.080385Z",
     "shell.execute_reply": "2022-12-19T16:47:06.078680Z"
    },
    "id": "Gw-I1LpOjkw3",
    "outputId": "ebc8e065-e200-4131-fc8b-2ae9efe8d1d7",
    "papermill": {
     "duration": 9.136341,
     "end_time": "2022-12-19T16:47:06.083142",
     "exception": false,
     "start_time": "2022-12-19T16:46:56.946801",
     "status": "completed"
    },
    "tags": []
   },
   "outputs": [
    {
     "name": "stdout",
     "output_type": "stream",
     "text": [
      "--2022-12-19 16:46:58--  https://docs.google.com/uc?export=download&confirm=t&id=1SQnWXGROG2Xexs5vn3twuv7SqiWG5njW\r\n",
      "Resolving docs.google.com (docs.google.com)... 74.125.28.102, 74.125.28.138, 74.125.28.139, ...\r\n",
      "Connecting to docs.google.com (docs.google.com)|74.125.28.102|:443... connected.\r\n",
      "HTTP request sent, awaiting response... 303 See Other\r\n",
      "Location: https://doc-00-90-docs.googleusercontent.com/docs/securesc/ha0ro937gcuc7l7deffksulhg5h7mbp1/0d4onqej9mucb5asb2ffo0dsu6c72rvo/1671468375000/07591141114418430227/*/1SQnWXGROG2Xexs5vn3twuv7SqiWG5njW?e=download&uuid=ac99788c-aca2-475e-a780-917ffbc7cc83 [following]\r\n",
      "Warning: wildcards not supported in HTTP.\r\n",
      "--2022-12-19 16:46:59--  https://doc-00-90-docs.googleusercontent.com/docs/securesc/ha0ro937gcuc7l7deffksulhg5h7mbp1/0d4onqej9mucb5asb2ffo0dsu6c72rvo/1671468375000/07591141114418430227/*/1SQnWXGROG2Xexs5vn3twuv7SqiWG5njW?e=download&uuid=ac99788c-aca2-475e-a780-917ffbc7cc83\r\n",
      "Resolving doc-00-90-docs.googleusercontent.com (doc-00-90-docs.googleusercontent.com)... 74.125.26.132, 2607:f8b0:400c:c04::84\r\n",
      "Connecting to doc-00-90-docs.googleusercontent.com (doc-00-90-docs.googleusercontent.com)|74.125.26.132|:443... connected.\r\n",
      "HTTP request sent, awaiting response... 200 OK\r\n",
      "Length: 156530728 (149M) [application/zip]\r\n",
      "Saving to: ‘MADatasets.zip’\r\n",
      "\r\n",
      "MADatasets.zip      100%[===================>] 149.28M   151MB/s    in 1.0s    \r\n",
      "\r\n",
      "2022-12-19 16:47:01 (151 MB/s) - ‘MADatasets.zip’ saved [156530728/156530728]\r\n",
      "\r\n",
      "Archive:  MADatasets.zip\r\n",
      "  inflating: MADatasets/util.py      \r\n",
      "  inflating: MADatasets/Iris1.mat    \r\n",
      "  inflating: MADatasets/Integra_Labels.mat  \r\n",
      "  inflating: MADatasets/MAGenerationClassification.py  \r\n",
      "  inflating: MADatasets/Voice.mat    \r\n",
      "  inflating: MADatasets/Iris.mat     \r\n",
      "  inflating: MADatasets/Sinthetic.mat  \r\n",
      "  inflating: MADatasets/MAGenerationClassification_1.py  \r\n",
      "  inflating: MADatasets/Bupa1.mat    \r\n",
      "  inflating: MADatasets/TicTacToe1.mat  \r\n",
      "  inflating: MADatasets/Wine.mat     \r\n",
      "  inflating: MADatasets/Breast1.mat  \r\n",
      "  inflating: MADatasets/Breast.mat   \r\n",
      "  inflating: MADatasets/Music.mat    \r\n",
      "  inflating: MADatasets/Pima.mat     \r\n",
      "  inflating: MADatasets/Ionosphere.mat  \r\n",
      "  inflating: MADatasets/TicTacToe.mat  \r\n",
      "  inflating: MADatasets/VoiceData.m  \r\n",
      "  inflating: MADatasets/util_1.py    \r\n",
      "  inflating: MADatasets/Ionosphere1.mat  \r\n",
      "  inflating: MADatasets/__pycache__/util_1.cpython-37.pyc  \r\n",
      "  inflating: MADatasets/Bupa.mat     \r\n",
      "  inflating: MADatasets/Wine1.mat    \r\n",
      "  inflating: MADatasets/__pycache__/util.cpython-37.pyc  \r\n",
      "  inflating: MADatasets/Pima1.mat    \r\n",
      "  inflating: MADatasets/Segmentation1.mat  \r\n",
      "  inflating: MADatasets/Western.mat  \r\n",
      "  inflating: MADatasets/Integra_Preprocesamiento_Seg_Caracterizacion_time_frec.mat  \r\n",
      "  inflating: MADatasets/Western1.mat  \r\n",
      "  inflating: MADatasets/Segmentation.mat  \r\n",
      "  inflating: MADatasets/Skin_NonSkin.mat  \r\n",
      "  inflating: MADatasets/Skin_NonSkin1.mat  \r\n",
      "  inflating: MADatasets/Occupancy1.mat  \r\n",
      "  inflating: MADatasets/Polarity.mat  \r\n",
      "  inflating: MADatasets/Occupancy.mat  \r\n",
      "MADatasets  MADatasets.zip  __notebook__.ipynb\r\n"
     ]
    }
   ],
   "source": [
    "#cargar datos desde drive acceso libre\n",
    "FILEID = \"1SQnWXGROG2Xexs5vn3twuv7SqiWG5njW\"\n",
    "#https://drive.google.com/file/d/1SQnWXGROG2Xexs5vn3twuv7SqiWG5njW/view?usp=sharing\n",
    "!wget --load-cookies /tmp/cookies.txt \"https://docs.google.com/uc?export=download&confirm=$(wget --quiet --save-cookies /tmp/cookies.txt --keep-session-cookies --no-check-certificate 'https://docs.google.com/uc?export=download&id='$FILEID -O- | sed -rn 's/.*confirm=([0-9A-Za-z_]+).*/\\1\\n/p')&id=\"$FILEID -O MADatasets.zip && rm -rf /tmp/cookies.txt\n",
    "!unzip -o MADatasets.zip\n",
    "!dir"
   ]
  },
  {
   "cell_type": "markdown",
   "id": "2f5eafa3",
   "metadata": {
    "id": "lYGUr8mv4EuV",
    "papermill": {
     "duration": 0.008127,
     "end_time": "2022-12-19T16:47:06.100026",
     "exception": false,
     "start_time": "2022-12-19T16:47:06.091899",
     "status": "completed"
    },
    "tags": []
   },
   "source": [
    "# Subclassing for Crowdlayer Rodriguez"
   ]
  },
  {
   "cell_type": "code",
   "execution_count": 3,
   "id": "5b87cc68",
   "metadata": {
    "execution": {
     "iopub.execute_input": "2022-12-19T16:47:06.119842Z",
     "iopub.status.busy": "2022-12-19T16:47:06.119382Z",
     "iopub.status.idle": "2022-12-19T16:47:15.251104Z",
     "shell.execute_reply": "2022-12-19T16:47:15.249702Z"
    },
    "id": "p5fJiVgC3FKO",
    "papermill": {
     "duration": 9.145838,
     "end_time": "2022-12-19T16:47:15.254251",
     "exception": false,
     "start_time": "2022-12-19T16:47:06.108413",
     "status": "completed"
    },
    "tags": []
   },
   "outputs": [],
   "source": [
    "# -*- coding: utf-8 -*-\n",
    "import tensorflow as tf\n",
    "import matplotlib.pyplot as plt\n",
    "#from tensorflow.keras.wrappers.scikit_learn import KerasClassifier\n",
    "import tensorflow_probability as tfp\n",
    "from tensorflow.keras import regularizers\n",
    "from sklearn.base import  BaseEstimator, TransformerMixin, ClassifierMixin\n",
    "from sklearn.model_selection import train_test_split\n",
    "tf.keras.backend.clear_session()\n",
    "#tf.random.set_seed(42)\n",
    "import types\n",
    "import tempfile\n",
    "class Keras_MA_CrowdL(): #transformer no va\n",
    " #Constructor __init__. Special method: identified by a double underscore at either side of their name\n",
    " #work in the background\n",
    " # initialize data members to the object. lets the class initialize the object’s attributes and serves no other purpose.\n",
    "    def __init__(self,epochs=70,batch_size=30,R=5, K=2, dropout=0.5, learning_rate=1e-3,optimizer='Adam', \n",
    "                  l1_param=0, validation_split=0.3, verbose=0):\n",
    "        #print('init')\n",
    "        self.epochs=epochs\n",
    "        self.dropout=dropout\n",
    "        self.batch_size = batch_size\n",
    "        self.learning_rate=learning_rate \n",
    "        self.l1_param=l1_param \n",
    "        self.l2_param=l1_param\n",
    "        self.validation_split = validation_split\n",
    "        self.verbose = verbose\n",
    "        self.optimizer = optimizer\n",
    "        self.R=R\n",
    "        self.K=K\n",
    "\n",
    "    \n",
    " \n",
    "    def custom_CLR_loss(self, y_true, y_pred): #ytrue \\in N x R,  ypred \\in N x K x R  ->CrowdLayerRodriguez\n",
    "        #print(y_true.shape)\n",
    "        Y_true_1K = tf.one_hot(tf.cast(y_true,dtype=tf.int32),depth=self.K,axis=1) #samples, classes 1-K, annotators\n",
    "        #print(Y_true_1K.shape)    \n",
    "        vec = tf.nn.softmax_cross_entropy_with_logits(logits=y_pred, labels=Y_true_1K, axis = 1)\n",
    "        #print(vec.shape)\n",
    "        #mask = tf.equal(Y_true_1K[:,0,:], -1)\n",
    "        #zer = tf.zeros_like(vec)\n",
    "        #loss = tf.where(mask, x=zer, y=vec)\n",
    "        #tf.print(\"loss\", loss)\n",
    "        return tf.math.reduce_sum(vec)\n",
    "\n",
    " \n",
    "    def fit(self, X, Y):\n",
    "        P = X.shape[1]\n",
    "        if self.optimizer == \"Adam\":\n",
    "            opt = tf.keras.optimizers.Adam(learning_rate=self.learning_rate)\n",
    "        elif self.optimizer == \"SGD\":\n",
    "            opt = tf.keras.optimizers.SGD(learning_rate=self.learning_rate)\n",
    "        else:\n",
    "            opt=self.optimizer\n",
    "\n",
    "        #capa de entrada\n",
    "        input_l = tf.keras.layers.Input(shape=(X.shape[1]), name='entrada')\n",
    "        #capas densas\n",
    "        h1 = tf.keras.layers.Dense(int(P*4*(self.K+self.R)),activation='selu',name='h1',\n",
    "                              kernel_regularizer=tf.keras.regularizers.l1_l2(l1=self.l1_param,l2=self.l2_param))(input_l)#argumento de entrada\n",
    "        h2 = tf.keras.layers.Dense(int(P*(self.K+self.R)),activation='selu',name='h2',\n",
    "                              kernel_regularizer=tf.keras.regularizers.l1_l2(l1=self.l1_param,l2=self.l2_param))(h1)\n",
    "        dout = tf.keras.layers.Dropout(rate=self.dropout)(h2)\n",
    "        output_dense = tf.keras.layers.Dense(self.K,activation=\"softmax\",name='output',\n",
    "                               kernel_regularizer=tf.keras.regularizers.l1_l2(l1=self.l1_param,l2=self.l2_param))(dout)\n",
    "        output= CrowdsClassification(self.K, self.R, conn_type=\"MW\")(output_dense) #Classes x Annotators\n",
    "        self.model = tf.keras.Model(inputs= input_l,outputs=output)\n",
    "        self.model.compile(loss= self.custom_CLR_loss, optimizer=opt)\n",
    "        self.history = self.model.fit(X, Y, epochs=self.epochs, validation_split= self.validation_split,   #\n",
    "                                      batch_size=self.batch_size,verbose=self.verbose)\n",
    "        #model_p  to predict labels in gridsearch  \n",
    "        self.model_p = tf.keras.Model(inputs=self.model.inputs,outputs=self.model.get_layer('output').output) #se accede a capas por nombre\n",
    "        #resumen y gráfica del modelo\n",
    "        #print(self.model.summary())\n",
    "        \n",
    "        return self\n",
    "\n",
    "    def predict2(self, X, *_):\n",
    "      return  np.argmax(self.model_p.predict(X), axis=1)    \n",
    "     \n",
    "    def predict(self, X, *_):\n",
    "\n",
    "       #print('predict') \n",
    "       return  self.model.predict(X) \n",
    "\n",
    "    def fit_predict(self,X,y):\n",
    "        #input X numpy array first dimension samples (N)x features (P)\n",
    "        #input Y numpy array vector len = samples (N) x  annotators (R)\n",
    "        \n",
    "        self.fit(X,y)\n",
    "        return self.predict(X)\n",
    "  \n",
    "     #graphics\n",
    "    def plot_history(self):\n",
    "        pd.DataFrame(self.history.history).plot(figsize=(8, 5))\n",
    "        plt.grid(True)\n",
    "        #plt.gca().set_ylim(0, 1)\n",
    "        #save_fig(\"keras_learning_curves_plot\")\n",
    "        plt.show()\n",
    "        return\n",
    "    \n",
    "    def set_params(self, **parameters):\n",
    "        #print('set_params') \n",
    "        for parameter, value in parameters.items():\n",
    "            setattr(self, parameter, value)\n",
    "\n",
    "        return self\n",
    "    \n",
    "    \n",
    "    \n",
    "    def get_params(self, deep=True):\n",
    "        #print('get_params') \n",
    "        return { 'l1_param':self.l1_param, 'dropout':self.dropout, 'optimizer':self.optimizer,\n",
    "                'learning_rate':self.learning_rate, 'batch_size':self.batch_size,\n",
    "                'epochs':self.epochs, 'verbose':self.verbose, 'validation_split':self.validation_split,\n",
    "                'R':self.R, 'K':self.K\n",
    "                }"
   ]
  },
  {
   "cell_type": "markdown",
   "id": "04691c92",
   "metadata": {
    "id": "b9yV0N4v4U_3",
    "papermill": {
     "duration": 0.008472,
     "end_time": "2022-12-19T16:47:15.272845",
     "exception": false,
     "start_time": "2022-12-19T16:47:15.264373",
     "status": "completed"
    },
    "tags": []
   },
   "source": [
    "# Crowdlayer class"
   ]
  },
  {
   "cell_type": "code",
   "execution_count": 4,
   "id": "2762d134",
   "metadata": {
    "execution": {
     "iopub.execute_input": "2022-12-19T16:47:15.292987Z",
     "iopub.status.busy": "2022-12-19T16:47:15.292303Z",
     "iopub.status.idle": "2022-12-19T16:47:15.318158Z",
     "shell.execute_reply": "2022-12-19T16:47:15.317021Z"
    },
    "id": "4ysb7umL3FKN",
    "papermill": {
     "duration": 0.039199,
     "end_time": "2022-12-19T16:47:15.321124",
     "exception": false,
     "start_time": "2022-12-19T16:47:15.281925",
     "status": "completed"
    },
    "tags": []
   },
   "outputs": [],
   "source": [
    " \n",
    "import numpy as np\n",
    "import tensorflow as tf\n",
    "import tensorflow.keras as keras\n",
    "from tensorflow.keras import backend as K1\n",
    "from tensorflow.keras.layers import Layer\n",
    "#from tensorflow.keras.engine.topology import Layer\n",
    "\n",
    "def init_identities(shape, dtype=None):\n",
    "    out = np.zeros(shape)\n",
    "    for r in range(shape[2]):\n",
    "        for i in range(shape[0]):\n",
    "            out[i,i,r] = 1.0\n",
    "    return out\n",
    "    \n",
    "class CrowdsClassification(Layer):\n",
    "\n",
    "\n",
    "  \n",
    "  #The build() method’s role is to create the layer’s variables, by calling the \n",
    "  #add_weight() method for each weight.  which is often necessary to create some of the weights.\n",
    "  #we need to know the number of neurons in the previous layer in order to create the connection weights matrix (i.e., the \"kernel\"): \n",
    "  #this corresponds to the size of the last dimension of the inputs. \n",
    "   \n",
    "    def __init__(self, output_dim, num_annotators, conn_type=\"MW\", **kwargs):\n",
    "        self.output_dim = output_dim\n",
    "        self.num_annotators = num_annotators\n",
    "        self.conn_type = conn_type\n",
    "        super(CrowdsClassification, self).__init__(**kwargs)\n",
    "\n",
    "\n",
    "\n",
    "    def build(self, input_shape):\n",
    "        if self.conn_type == \"MW\":\n",
    "            # matrix of weights per annotator\n",
    "      #A layer is a callable object that takes as input one or more tensors and that outputs one or more tensors. \n",
    "      #It involves computation, defined in the call() method, and a state (weight variables). \n",
    "      #the method add_weight() offers a shortcut to create weights.\n",
    "\n",
    "            self.kernel = self.add_weight(\"CrowdLayer\", (self.output_dim, self.output_dim, self.num_annotators),\n",
    "                                            initializer=init_identities, #It is the stated initializer instance\n",
    "                                            trainable=True) # trainable weights, updated via backpropagation during training\n",
    "        elif self.conn_type == \"VW\":\n",
    "            # vector of weights (one scale per class) per annotator\n",
    "            self.kernel = self.add_weight(\"CrowdLayer\", (self.output_dim, self.num_annotators),\n",
    "                                            initializer=keras.initializers.Ones(), \n",
    "                                            trainable=True)\n",
    "        elif self.conn_type == \"VB\":\n",
    "            # two vectors of weights (one scale and one bias per class) per annotator\n",
    "            self.kernel = []\n",
    "            self.kernel.append(self.add_weight(\"CrowdLayer\", (self.output_dim, self.num_annotators),\n",
    "                                            initializer=keras.initializers.Zeros(),\n",
    "                                            trainable=True))\n",
    "        elif self.conn_type == \"VW+B\":\n",
    "            # two vectors of weights (one scale and one bias per class) per annotator\n",
    "            self.kernel = []\n",
    "            self.kernel.append(self.add_weight(\"CrowdLayer\", (self.output_dim, self.num_annotators),\n",
    "                                            initializer=keras.initializers.Ones(),\n",
    "                                            trainable=True))\n",
    "            self.kernel.append(self.add_weight(\"CrowdLayer\", (self.output_dim, self.num_annotators),\n",
    "                                            initializer=keras.initializers.Zeros(),\n",
    "                                            trainable=True))\n",
    "        elif self.conn_type == \"SW\":\n",
    "            # single weight value per annotator\n",
    "            self.kernel = self.add_weight(\"CrowdLayer\", (self.num_annotators,1),\n",
    "                                            initializer=keras.initializers.Ones(),\n",
    "                                            trainable=True)\n",
    "        else:\n",
    "            raise Exception(\"Unknown connection type for CrowdsClassification layer!\")\n",
    "    #At the end of the build() method (and only at the end), \n",
    "    #you must call the parent’s build() method: this tells Keras that the layer is built (it just sets self.built = True).\n",
    "        super(CrowdsClassification, self).build(input_shape)  # Be sure to call this somewhere!\n",
    "\n",
    "    def call(self, x):\n",
    "    \n",
    "    #The call() method actually performs the desired operations. In this case, \n",
    "    #we compute the matrix multiplication of the inputs X and the layer’s kernel and \n",
    "    #this gives us the output of the layer.\n",
    "     \n",
    " \n",
    "\n",
    "        if self.conn_type == \"MW\":\n",
    "            res = K1.dot(x, self.kernel)\n",
    "        elif self.conn_type == \"VW\" or self.conn_type == \"VB\" or self.conn_type == \"VW+B\" or self.conn_type == \"SW\":\n",
    "            out = []\n",
    "            for r in range(self.num_annotators):\n",
    "                if self.conn_type == \"VW\":\n",
    "                    out.append(x * self.kernel[:,r])\n",
    "                elif self.conn_type == \"VB\":\n",
    "                    out.append(x + self.kernel[0][:,r])\n",
    "                elif self.conn_type == \"VW+B\":\n",
    "                    out.append(x * self.kernel[0][:,r] + self.kernel[1][:,r])\n",
    "                elif self.conn_type == \"SW\":\n",
    "                    out.append(x * self.kernel[r,0])\n",
    "            res = tf.stack(out)\n",
    "            if len(res.shape) == 3:\n",
    "                res = tf.transpose(res, [1, 2, 0])\n",
    "            elif len(res.shape) == 4:\n",
    "                res = tf.transpose(res, [1, 2, 3, 0])\n",
    "            else:\n",
    "                raise Exception(\"Wrong number of dimensions for output\")\n",
    "        else:\n",
    "            raise Exception(\"Unknown connection type for CrowdsClassification layer!\") \n",
    "        \n",
    "        return res\n",
    " \n",
    "#The compute_output_shape() method simply returns the shape of this layer’s outputs. \n",
    "#In this case, it is the same shape as the inputs, except the last two dimensions is replaced \n",
    "#with the number of clases and # annotators in the layer.  \n",
    " \n",
    "\n",
    "    def compute_output_shape(self, input_shape):\n",
    "        return (input_shape[0], self.output_dim, self.num_annotators)"
   ]
  },
  {
   "cell_type": "markdown",
   "id": "ffa7ba9b",
   "metadata": {
    "id": "xKzPN5lnHO13",
    "papermill": {
     "duration": 0.009324,
     "end_time": "2022-12-19T16:47:15.339143",
     "exception": false,
     "start_time": "2022-12-19T16:47:15.329819",
     "status": "completed"
    },
    "tags": []
   },
   "source": [
    "# Load Data"
   ]
  },
  {
   "cell_type": "code",
   "execution_count": 5,
   "id": "07f5a453",
   "metadata": {
    "execution": {
     "iopub.execute_input": "2022-12-19T16:47:15.359159Z",
     "iopub.status.busy": "2022-12-19T16:47:15.358736Z",
     "iopub.status.idle": "2022-12-19T16:47:15.409077Z",
     "shell.execute_reply": "2022-12-19T16:47:15.407886Z"
    },
    "id": "hA1QFlPBjpbA",
    "outputId": "db5be05d-1fdc-4725-8064-5dc79e7a9a6a",
    "papermill": {
     "duration": 0.063463,
     "end_time": "2022-12-19T16:47:15.411537",
     "exception": false,
     "start_time": "2022-12-19T16:47:15.348074",
     "status": "completed"
    },
    "tags": []
   },
   "outputs": [
    {
     "data": {
      "text/plain": [
       "dict_keys(['__header__', '__version__', '__globals__', 'X', 'y', 'Y', 'iAnn', 'Exp', 'idxtr', 'idxte'])"
      ]
     },
     "execution_count": 5,
     "metadata": {},
     "output_type": "execute_result"
    }
   ],
   "source": [
    "#load data\n",
    "import scipy.io as sio\n",
    "import matplotlib.pyplot as plt\n",
    "import pandas as pd\n",
    "import tensorflow as tf #importar tensorflow\n",
    "from sklearn.model_selection import GridSearchCV, RandomizedSearchCV\n",
    "from sklearn.preprocessing import StandardScaler,MinMaxScaler\n",
    "import numpy as np\n",
    " \n",
    "database = 'Segmentation' #['bupa1', 'breast-cancer-wisconsin1','pima-indians-diabetes1', 'ionosphere1', 'tic-tac-toe1', 'iris1', 'wine1', 'segmentation1']\n",
    "\n",
    "\n",
    "path_ = 'MADatasets/'+ database+ '.mat' \n",
    "Xdata = sio.loadmat(path_)\n",
    "Xdata.keys()"
   ]
  },
  {
   "cell_type": "code",
   "execution_count": 6,
   "id": "79ea1585",
   "metadata": {
    "execution": {
     "iopub.execute_input": "2022-12-19T16:47:15.433759Z",
     "iopub.status.busy": "2022-12-19T16:47:15.433290Z",
     "iopub.status.idle": "2022-12-19T16:47:15.440265Z",
     "shell.execute_reply": "2022-12-19T16:47:15.439137Z"
    },
    "id": "Hqmwm8kJj7HL",
    "papermill": {
     "duration": 0.021046,
     "end_time": "2022-12-19T16:47:15.442952",
     "exception": false,
     "start_time": "2022-12-19T16:47:15.421906",
     "status": "completed"
    },
    "tags": []
   },
   "outputs": [
    {
     "name": "stdout",
     "output_type": "stream",
     "text": [
      "X (2310, 18) t (2310,) Y (2310, 5)\n"
     ]
    }
   ],
   "source": [
    "#heads = data['MAData'].dtype\n",
    "# X = Xdata['MAData']['X'][0,0]\n",
    "# t = Xdata['MAData']['t'][0,0]\n",
    "# Y = Xdata['MAData']['Y1'][0,0]\n",
    "\n",
    "X = Xdata['X']\n",
    "# Xte = Xdata['Xte']\n",
    "Y = Xdata['Y']\n",
    "t = Xdata['y'].reshape(-1)\n",
    "print('X',X.shape,'t',t.shape,'Y',Y.shape)"
   ]
  },
  {
   "cell_type": "code",
   "execution_count": 7,
   "id": "ac219f1c",
   "metadata": {
    "execution": {
     "iopub.execute_input": "2022-12-19T16:47:15.462132Z",
     "iopub.status.busy": "2022-12-19T16:47:15.461749Z",
     "iopub.status.idle": "2022-12-19T16:47:15.469032Z",
     "shell.execute_reply": "2022-12-19T16:47:15.467908Z"
    },
    "id": "xnqtxG_x3FKL",
    "papermill": {
     "duration": 0.019455,
     "end_time": "2022-12-19T16:47:15.471225",
     "exception": false,
     "start_time": "2022-12-19T16:47:15.451770",
     "status": "completed"
    },
    "tags": []
   },
   "outputs": [
    {
     "data": {
      "text/plain": [
       "array([1, 1, 1, ..., 7, 7, 7], dtype=uint8)"
      ]
     },
     "execution_count": 7,
     "metadata": {},
     "output_type": "execute_result"
    }
   ],
   "source": [
    "t"
   ]
  },
  {
   "cell_type": "markdown",
   "id": "282a7e9a",
   "metadata": {
    "id": "avDA2pJIJgsf",
    "papermill": {
     "duration": 0.008501,
     "end_time": "2022-12-19T16:47:15.489973",
     "exception": false,
     "start_time": "2022-12-19T16:47:15.481472",
     "status": "completed"
    },
    "tags": []
   },
   "source": [
    "# Labels Generation  "
   ]
  },
  {
   "cell_type": "code",
   "execution_count": 8,
   "id": "e7345c52",
   "metadata": {
    "execution": {
     "iopub.execute_input": "2022-12-19T16:47:15.509607Z",
     "iopub.status.busy": "2022-12-19T16:47:15.509161Z",
     "iopub.status.idle": "2022-12-19T16:47:15.744310Z",
     "shell.execute_reply": "2022-12-19T16:47:15.743012Z"
    },
    "id": "BupvL7KSocvu",
    "papermill": {
     "duration": 0.248747,
     "end_time": "2022-12-19T16:47:15.747432",
     "exception": false,
     "start_time": "2022-12-19T16:47:15.498685",
     "status": "completed"
    },
    "tags": []
   },
   "outputs": [],
   "source": [
    "import random\n",
    "import warnings\n",
    "import numpy as np\n",
    "#import climin\n",
    "from functools import partial\n",
    "import matplotlib.pyplot as plt\n",
    "from sklearn.preprocessing import StandardScaler\n",
    "from sklearn.cluster import KMeans\n",
    "import matplotlib.pyplot as plt\n",
    "from sklearn.manifold import TSNE\n",
    "\n",
    "#Defining the Sigmoid function and Softmax function\n",
    "def Sigmoid(f_r):\n",
    "    lam_r = 1/(1 + np.exp(-f_r))\n",
    "    return lam_r\n",
    "\n",
    "def MAjVot(Y, K):\n",
    "    N,R = Y.shape\n",
    "    Yhat = np.zeros((N,1))\n",
    "    for n in range(N):\n",
    "        votes = np.zeros((K,1))\n",
    "        for r in range(R):\n",
    "            for k in range(K):\n",
    "                if Y[n,r] == k+1:\n",
    "                    votes[k] = votes[k]+1\n",
    "        Yhat[n] = np.argmax(votes) + 1\n",
    "    return Yhat\n",
    "\n",
    "\n",
    "def  MA_Clas_Gen(Xtrain,ytrain,R,NrP):\n",
    "\n",
    "    N = len(ytrain)\n",
    "    K = len(np.unique(ytrain))\n",
    "    Kn = np.unique(ytrain)\n",
    "    aux = 0\n",
    "    A = np.zeros((K,1))\n",
    "    for k in Kn:\n",
    "        A[aux] = (ytrain == k).sum()\n",
    "        aux = aux + 1\n",
    "    per = np.min(A)\n",
    "    if N < 25000:\n",
    "        Xtrain = TSNE(n_components=1,perplexity=per/2).fit_transform(Xtrain)\n",
    "    else:\n",
    "        Xtrain = np.sum(Xtrain,1)\n",
    "    # Xtrain = Xtrain-Xtrain.min()\n",
    "    # Xtrain = Xtrain/Xtrain.max()\n",
    "    #ytrain = y\n",
    "    # scaler = StandardScaler()\n",
    "    # scalerY = scaler.fit(y)\n",
    "    # ytrain = scaler.fit_transform(y)\n",
    "\n",
    "    \n",
    "    #miny = y.min()\n",
    "    #ytrain = y-miny\n",
    "    #maxy = ytrain.max()\n",
    "    #ytrain = ytrain/maxy\n",
    "  \n",
    "    # Xtrain = np.sum(Xtrain, axis=1)\n",
    "    Xtrain = Xtrain - Xtrain.min()\n",
    "    #print(Xtrain.min(), Xtrain.max())\n",
    "    Xtrain = Xtrain/Xtrain.max()\n",
    "    Xtrain = Xtrain.reshape((N,1))\n",
    "    yprueba = np.ones((N,1))\n",
    "    \n",
    "    \n",
    "    u_q = np.empty((Xtrain.shape[0],3))\n",
    "    u_q[:,0,None] = 4.5*np.cos(2*np.pi*Xtrain + 1.5*np.pi) - \\\n",
    "                               3*np.sin(4.3*np.pi*Xtrain + 0.3*np.pi)\n",
    "                    \n",
    "    u_q[:,1,None] = 4.5*np.cos(1.5*np.pi*Xtrain + 0.5*np.pi) + \\\n",
    "                       5*np.sin(3*np.pi*Xtrain + 1.5*np.pi)\n",
    "    \n",
    "    u_q[:,2,None] = 1\n",
    "    \n",
    "    W = []\n",
    "    # q=1\n",
    "    Wq1 = np.array(([[0.4],[0.7],[-0.5],[0],[-0.7]]))\n",
    "    W.append(Wq1)\n",
    "    # q=2\n",
    "    Wq2 = np.array(([[0.4],[-1.0],[-0.1],[-0.8],[1.0]]))\n",
    "    W.append(Wq2)\n",
    "    Wq3 = np.array(([[3.1],[-1.8],[-0.6],[-1.2],[1.0]]))\n",
    "    W.append(Wq3)\n",
    "\n",
    "    \n",
    "    F_r = []\n",
    "    Lam_r = []\n",
    "    for r in range(R):\n",
    "        f_r = np.zeros((Xtrain.shape[0], 1))\n",
    "        # rho_r = np.zeros((Xtrain.shape[0], 1))\n",
    "        for q in range(3):\n",
    "            f_r += W[q][r].T*u_q[:,q,None]\n",
    "        F_r.append(f_r)\n",
    "        lam_r = Sigmoid(f_r)\n",
    "        lam_r[lam_r>0.5] = 1\n",
    "        lam_r[lam_r<=0.5] = 0\n",
    "        Lam_r.append(lam_r)\n",
    "    plt.plot(Xtrain,Lam_r[2],'rx')\n",
    "    plt.show()\n",
    "    seed = 0\n",
    "    np.random.seed(seed)\n",
    "    Ytrain = np.ones((N, R))\n",
    "    for r in range(R):\n",
    "        aux = ytrain.copy()\n",
    "        for n in range(N):\n",
    "            if Lam_r[r][n] == 0:\n",
    "                labels = np.arange(1, K+1)\n",
    "                a = np.where(labels==ytrain[n])\n",
    "                labels = np.delete(labels, a)\n",
    "                idxlabels = np.random.permutation(K-1)\n",
    "                aux[n] = labels[idxlabels[0]]         \n",
    "        Ytrain[:,r] = aux.flatten()\n",
    "        \n",
    "   # Ytrain = (Ytrain*maxy) + miny\n",
    "        \n",
    "    iAnn = np.zeros((N, R), dtype=int) # this indicates if the annotator r labels the nth sample.\n",
    "    Nr = np.ones((R), dtype=int)*int(np.floor(N*NrP))  \n",
    "    for r in range(R):\n",
    "        if r < R-1:\n",
    "            indexR = np.random.permutation(range(N))[:Nr[r]]\n",
    "            iAnn[indexR,r] = 1\n",
    "        else:\n",
    "            iSimm = np.sum(iAnn, axis=1)\n",
    "            idxZero = np.asarray([i for (i, val) in enumerate(iSimm) if val == 0])\n",
    "            Nzeros = idxZero.shape[0]\n",
    "            idx2Choose = np.arange(N)\n",
    "            if Nzeros == 0:\n",
    "                indexR = np.random.permutation(range(N))[:Nr[r]]\n",
    "                iAnn[indexR,r] = 1\n",
    "            else:\n",
    "                idx2Choose = np.delete(idx2Choose, idxZero)\n",
    "                N2chose = idx2Choose.shape[0]\n",
    "                idxNoZero = np.random.permutation(N2chose)[:(Nr[r] - Nzeros)]\n",
    "                idxTot = np.concatenate((idxZero, idx2Choose[idxNoZero]))\n",
    "                iAnn[idxTot,r] = 1\n",
    "    \n",
    "    # Now, we verify that all the samples were labeled at least once\n",
    "    Nr = (np.sum(iAnn,0))\n",
    "    iSimm = np.sum(iAnn, axis=1)\n",
    "    if np.asarray([i for (i, val) in enumerate(iSimm) if val == 0]).sum() == 0:\n",
    "        ValueError(\"all the samples must be labeled at least once\")\n",
    "\n",
    "    # Finally, if iAnn=0 we assign a reference value to indicate a missing value\n",
    "    Vref = -1e-20\n",
    "    for r in range(R):\n",
    "        Ytrain[iAnn[:,r] == 0, r] = Vref \n",
    "\n",
    "    return Ytrain, iAnn, Lam_r\n",
    "\n",
    "\n",
    "def CrossVal(X, pp, Nk):\n",
    "    N = X.shape[0]\n",
    "    Ntr = int(N*pp)\n",
    "    Nte = N - Ntr\n",
    "    idxtr = np.zeros((Ntr,Nk))\n",
    "    idxte = np.zeros((Nte,Nk))\n",
    "    \n",
    "    for i in range(Nk):\n",
    "        index = np.random.permutation(range(N))\n",
    "        idxtr[:,i] = index[:Ntr]\n",
    "        idxte[:,i] = index[Ntr:]\n",
    "        \n",
    "    return idxtr, idxte\n",
    "    \n",
    "    \n",
    "        \n"
   ]
  },
  {
   "cell_type": "code",
   "execution_count": 9,
   "id": "41e73459",
   "metadata": {
    "execution": {
     "iopub.execute_input": "2022-12-19T16:47:15.768976Z",
     "iopub.status.busy": "2022-12-19T16:47:15.768494Z",
     "iopub.status.idle": "2022-12-19T16:47:32.342131Z",
     "shell.execute_reply": "2022-12-19T16:47:32.340484Z"
    },
    "id": "tK8MHObF3FKM",
    "outputId": "8f128bab-9644-4526-d91c-a3eb4c94fc10",
    "papermill": {
     "duration": 16.587903,
     "end_time": "2022-12-19T16:47:32.345138",
     "exception": false,
     "start_time": "2022-12-19T16:47:15.757235",
     "status": "completed"
    },
    "tags": []
   },
   "outputs": [
    {
     "name": "stderr",
     "output_type": "stream",
     "text": [
      "/opt/conda/lib/python3.7/site-packages/sklearn/manifold/_t_sne.py:783: FutureWarning: The default initialization in TSNE will change from 'random' to 'pca' in 1.2.\n",
      "  FutureWarning,\n",
      "/opt/conda/lib/python3.7/site-packages/sklearn/manifold/_t_sne.py:793: FutureWarning: The default learning rate in TSNE will change from 200.0 to 'auto' in 1.2.\n",
      "  FutureWarning,\n"
     ]
    },
    {
     "data": {
      "image/png": "[encoded data removed]",
      "text/plain": [
       "<Figure size 432x288 with 1 Axes>"
      ]
     },
     "metadata": {
      "needs_background": "light"
     },
     "output_type": "display_data"
    }
   ],
   "source": [
    "Y, iAnn, Lam_r = MA_Clas_Gen(X ,t, R=5, NrP=1)"
   ]
  },
  {
   "cell_type": "code",
   "execution_count": 10,
   "id": "2dfd6c20",
   "metadata": {
    "execution": {
     "iopub.execute_input": "2022-12-19T16:47:32.365891Z",
     "iopub.status.busy": "2022-12-19T16:47:32.365438Z",
     "iopub.status.idle": "2022-12-19T16:47:32.372339Z",
     "shell.execute_reply": "2022-12-19T16:47:32.371046Z"
    },
    "id": "v0Y8m7E-3FKM",
    "papermill": {
     "duration": 0.020625,
     "end_time": "2022-12-19T16:47:32.375567",
     "exception": false,
     "start_time": "2022-12-19T16:47:32.354942",
     "status": "completed"
    },
    "tags": []
   },
   "outputs": [],
   "source": [
    "  Y = Y - 1\n",
    "  t = t - 1\n",
    "  #YMA = YMA-1"
   ]
  },
  {
   "cell_type": "code",
   "execution_count": 11,
   "id": "77cccd46",
   "metadata": {
    "execution": {
     "iopub.execute_input": "2022-12-19T16:47:32.397377Z",
     "iopub.status.busy": "2022-12-19T16:47:32.396941Z",
     "iopub.status.idle": "2022-12-19T16:47:33.587569Z",
     "shell.execute_reply": "2022-12-19T16:47:33.586149Z"
    },
    "papermill": {
     "duration": 1.204936,
     "end_time": "2022-12-19T16:47:33.590216",
     "exception": false,
     "start_time": "2022-12-19T16:47:32.385280",
     "status": "completed"
    },
    "tags": []
   },
   "outputs": [
    {
     "name": "stdout",
     "output_type": "stream",
     "text": [
      "annotator 1\n",
      "              precision    recall  f1-score   support\n",
      "\n",
      "           0       0.83      0.57      0.68       330\n",
      "           1       0.85      1.00      0.92       330\n",
      "           2       0.80      0.82      0.81       330\n",
      "           3       0.87      0.60      0.71       330\n",
      "           4       0.84      0.91      0.87       330\n",
      "           5       0.86      1.00      0.92       330\n",
      "           6       0.85      1.00      0.92       330\n",
      "\n",
      "    accuracy                           0.84      2310\n",
      "   macro avg       0.84      0.84      0.83      2310\n",
      "weighted avg       0.84      0.84      0.83      2310\n",
      "\n",
      "annotator 2\n",
      "              precision    recall  f1-score   support\n",
      "\n",
      "           0       0.74      0.91      0.82       330\n",
      "           1       0.00      0.00      0.00       330\n",
      "           2       0.72      0.85      0.78       330\n",
      "           3       0.72      0.82      0.76       330\n",
      "           4       0.74      0.94      0.83       330\n",
      "           5       0.71      0.91      0.80       330\n",
      "           6       0.67      0.45      0.54       330\n",
      "\n",
      "    accuracy                           0.69      2310\n",
      "   macro avg       0.61      0.69      0.65      2310\n",
      "weighted avg       0.61      0.69      0.65      2310\n",
      "\n",
      "annotator 3\n",
      "              precision    recall  f1-score   support\n",
      "\n",
      "           0       0.61      0.72      0.66       330\n",
      "           1       0.70      0.93      0.80       330\n",
      "           2       0.59      0.72      0.65       330\n",
      "           3       0.54      0.43      0.48       330\n",
      "           4       0.63      0.72      0.67       330\n",
      "           5       0.22      0.09      0.13       330\n",
      "           6       0.52      0.47      0.49       330\n",
      "\n",
      "    accuracy                           0.58      2310\n",
      "   macro avg       0.54      0.58      0.56      2310\n",
      "weighted avg       0.54      0.58      0.56      2310\n",
      "\n",
      "annotator 4\n",
      "              precision    recall  f1-score   support\n",
      "\n",
      "           0       0.63      0.73      0.68       330\n",
      "           1       0.00      0.00      0.00       330\n",
      "           2       0.66      0.73      0.69       330\n",
      "           3       0.51      0.44      0.47       330\n",
      "           4       0.62      0.77      0.68       330\n",
      "           5       0.57      0.50      0.53       330\n",
      "           6       0.67      0.96      0.79       330\n",
      "\n",
      "    accuracy                           0.59      2310\n",
      "   macro avg       0.52      0.59      0.55      2310\n",
      "weighted avg       0.52      0.59      0.55      2310\n",
      "\n",
      "annotator 5\n",
      "              precision    recall  f1-score   support\n",
      "\n",
      "           0       0.00      0.00      0.00       330\n",
      "           1       0.49      1.00      0.66       330\n",
      "           2       0.00      0.00      0.00       330\n",
      "           3       0.00      0.00      0.00       330\n",
      "           4       0.00      0.00      0.00       330\n",
      "           5       0.00      0.00      0.00       330\n",
      "           6       0.00      0.00      0.00       330\n",
      "\n",
      "    accuracy                           0.14      2310\n",
      "   macro avg       0.07      0.14      0.09      2310\n",
      "weighted avg       0.07      0.14      0.09      2310\n",
      "\n"
     ]
    },
    {
     "data": {
      "image/png": "[encoded data removed]",
      "text/plain": [
       "<Figure size 432x288 with 1 Axes>"
      ]
     },
     "metadata": {
      "needs_background": "light"
     },
     "output_type": "display_data"
    },
    {
     "data": {
      "image/png": "[encoded data removed]",
      "text/plain": [
       "<Figure size 432x288 with 1 Axes>"
      ]
     },
     "metadata": {
      "needs_background": "light"
     },
     "output_type": "display_data"
    },
    {
     "data": {
      "image/png": "[encoded data removed]",
      "text/plain": [
       "<Figure size 432x288 with 1 Axes>"
      ]
     },
     "metadata": {
      "needs_background": "light"
     },
     "output_type": "display_data"
    },
    {
     "data": {
      "image/png": "[encoded data removed]",
      "text/plain": [
       "<Figure size 432x288 with 1 Axes>"
      ]
     },
     "metadata": {
      "needs_background": "light"
     },
     "output_type": "display_data"
    },
    {
     "data": {
      "image/png": "[encoded data removed]",
      "text/plain": [
       "<Figure size 432x288 with 1 Axes>"
      ]
     },
     "metadata": {
      "needs_background": "light"
     },
     "output_type": "display_data"
    }
   ],
   "source": [
    "from sklearn.metrics import classification_report\n",
    "for i in range(Y.shape[1]):\n",
    "    print('annotator',i+1)\n",
    "    print(classification_report(t,Y[:,i]))\n",
    "    unique, counts = np.unique(Y[:,i], return_counts=True)\n",
    "    plt.figure()\n",
    "    plt.bar(unique, counts)\n",
    "    #     unique, counts = np.unique(Y_test[5], return_counts=True)\n",
    "    #     plt.bar(unique, counts)\n",
    "\n",
    "    plt.title('Class Frequency for Y_true')\n",
    "    plt.xlabel('Class')\n",
    "    plt.ylabel('Frequency')"
   ]
  },
  {
   "cell_type": "markdown",
   "id": "b2ed0632",
   "metadata": {
    "id": "uudDcV4wHiuI",
    "papermill": {
     "duration": 0.011157,
     "end_time": "2022-12-19T16:47:33.613274",
     "exception": false,
     "start_time": "2022-12-19T16:47:33.602117",
     "status": "completed"
    },
    "tags": []
   },
   "source": [
    "# Split data"
   ]
  },
  {
   "cell_type": "code",
   "execution_count": 12,
   "id": "510ffce0",
   "metadata": {
    "execution": {
     "iopub.execute_input": "2022-12-19T16:47:33.636439Z",
     "iopub.status.busy": "2022-12-19T16:47:33.636004Z",
     "iopub.status.idle": "2022-12-19T16:47:33.651555Z",
     "shell.execute_reply": "2022-12-19T16:47:33.649422Z"
    },
    "id": "QCxEhJv_3FKN",
    "outputId": "20cf4b24-fde3-4b21-f26a-2809af8f2c5d",
    "papermill": {
     "duration": 0.031002,
     "end_time": "2022-12-19T16:47:33.654980",
     "exception": false,
     "start_time": "2022-12-19T16:47:33.623978",
     "status": "completed"
    },
    "tags": []
   },
   "outputs": [
    {
     "name": "stdout",
     "output_type": "stream",
     "text": [
      "[2031  671 1207 1236  343 1158  822  558   18 1644 2044 2257 1440 1290\n",
      " 1758 2263 1422 1633   33  689  206 1380 2291   25 1652  961  279 2076\n",
      " 1777  995 1424  493  132  224 1278 1162 1121 1496 2303  327 1233 1631\n",
      "  417 1036  977 1708 2248 1204  803  711  856   50 2249  511 1567 1068\n",
      " 1725   12 2097  704 1667 1253 2041  965 1055 1237 2071 2165 1106 1873\n",
      " 2153  141 1860 1033  266 1661 1730  978 1614  813 1148   45 2045 2030\n",
      " 1181 1209  746  421 2197 1331 2034  875 1049 1404 1137 1851  683  809\n",
      "  515 1195 1256 2102 1018  967  476 1337 2170 1982  615 2177  388 1548\n",
      " 1744  110  835 2100 1126 1109  935 1802 1977 1797  668  820  190 1707\n",
      " 1542 1541  289  784 1446 1979 1903  326  292  420  798  239 1831  310\n",
      "  449  708 1201 2176 1449   72  982  800 2213  403  381  148 1531  601\n",
      "  466 2152 1676  351 1269 1412  728 1143  116 1790 1843 1818  658 1525\n",
      " 2308 1333  735 1059  777 1637 2243 1686  409 1697 1978 1516 1217 2304\n",
      " 1757  701 2266  120  680 1728  906  988  670 2179  375 1373 1913 1182\n",
      "   58 1250 2307 1951  842  383 1836  304 2253 1335 1127 1244   75 1090\n",
      " 1627 1324 1039  882 1589 1483  655  410 2113  833 1587  184 2012 1450\n",
      " 2118 1670  878 2221 1457  879 2110 1116  999 2290 2051 1358  429  103\n",
      " 1687  925 1224  649 1174   43 2115  698 1724 2126 1041 1234 1077   28\n",
      " 2174  440 1097 1089  243 2306  853  898 1295 1152 1806 1432  712 1423\n",
      " 1573  537   13 1035 1895 2279 2008 2064  228 2061 1042 1461 1469  198\n",
      "  498 1144  352 1074 1680 2025   63  458  569 1700  749 2088  917 1756\n",
      "  155 1330 1451 2210  188 1738  645  189 1185 1599  994  563 1441 2194\n",
      " 1603 1850 2278 1304  256  395  953  501 1205 1745  973  895 2204  406\n",
      " 1848 1781  827 1716  807    7 1711 1011 1455 1317 1829 1800 2277  276\n",
      "  127 1925 1009 1397 2287 1574  772 1577 1523 2150 1134 1727 1420 1742\n",
      "  778 1208  553 1762  108  524  237 1502  546  891 1436 1468  776  682\n",
      " 1020 1881 1202 1002 2128  579  641  328 1747  222 2142  785 1065 1616\n",
      " 1276 1416 1685 1572  605  477 1943 1079  963 1754  706 2085 1904  142\n",
      " 1043 1803 1313 1696 1785  564 1459 1266 1123  585  590  167 1027 2067\n",
      "  828  318 1000 1906  628  267 1361 1187  384 1600  787 1841  684 1354\n",
      " 2104  805 1102 1630 1390 1944 1907 1753 1096  610 1856  353 2112  273\n",
      "  633 1165  738 2151  742 1642  234 1334  500  356  556   21  990  937\n",
      " 1026  308  415 1634 1606  667  504 1805  433  574 1822  314 1003  597\n",
      "  838  593  452 1396 1285  846  529  235  270  229 2053 1773    5  934\n",
      " 1613   91 1456 1519  623  554 2191  221  890 1709 2158  427 1695 1220\n",
      " 2159 2222 1228 1921  781 1029   81 1809  968  437 1227  307 2229 2247\n",
      "  971 1014 1017 1561 1868  792 1701 1733 1821  926   64  996  265  182\n",
      "  630  638 1801 2224  722  928 1876  627   35  385 2062  616 2131  714\n",
      " 2268 1563  824  209 1899 1869  348 2300 1883 1504 1402  927  104 1302\n",
      " 2087 2189  278  119  618 2296  847 2250 1970   94 1935  591 1006  678\n",
      " 1260  779 1287 1426 1911 1816  576 1108 1515 2305 1340 1535  775  573\n",
      "  535 1464 1462 1681 1270  562  691 2178 1947 2005  756  594 1702 1665\n",
      "  216   31  131 1769 2136   66  734 1347 1582  204 2055 2184 1376 1878\n",
      " 1668 1553 1811  260 1499 1294  850   86  647 1638 2198 1643 2225  478\n",
      "  600 1526  717 2171   54  114 1142 1482  707 1289 1592 1046  312 1892\n",
      " 1584  831 2125  218 1369  767  250 1274  450 1327 2021 2072 1712  397\n",
      "  533 1780 1549  614 1706 1356 1216  550 1595 2223 1569  710 1050 1001\n",
      " 1671   42  857  277  372  112  147 1886  226  178 1588 1787 1663 1188\n",
      "  336  991 1023 1094 2111  309  301 2216 2003  306   84  547  261  565\n",
      "  905  357 1763 1992  914 1351 1528]\n",
      "(1617, 18) (1617, 5) (1617, 1)\n"
     ]
    }
   ],
   "source": [
    "import numpy.matlib\n",
    "from sklearn.model_selection import  StratifiedShuffleSplit, ShuffleSplit\n",
    "Ns = 1\n",
    "ss = ShuffleSplit(n_splits=Ns, test_size=0.3, random_state =123)\n",
    "for train_index, test_index in ss.split(X):\n",
    "    print(test_index)\n",
    "    X_train, X_test,Y_train,Y_test = X[train_index,:], X[test_index,:],Y[train_index,:], Y[test_index,:]\n",
    "    Y_true_train, Y_true_test = t[train_index].reshape(-1,1), t[test_index].reshape(-1,1)\n",
    "print(X_train.shape, Y_train.shape, Y_true_train.shape)"
   ]
  },
  {
   "cell_type": "markdown",
   "id": "32c706a0",
   "metadata": {
    "id": "kgDMRggXHo0X",
    "papermill": {
     "duration": 0.010937,
     "end_time": "2022-12-19T16:47:33.678263",
     "exception": false,
     "start_time": "2022-12-19T16:47:33.667326",
     "status": "completed"
    },
    "tags": []
   },
   "source": [
    "# Apply MinMaxScaler"
   ]
  },
  {
   "cell_type": "code",
   "execution_count": 13,
   "id": "90ec43a2",
   "metadata": {
    "execution": {
     "iopub.execute_input": "2022-12-19T16:47:33.702745Z",
     "iopub.status.busy": "2022-12-19T16:47:33.702287Z",
     "iopub.status.idle": "2022-12-19T16:47:33.709809Z",
     "shell.execute_reply": "2022-12-19T16:47:33.708649Z"
    },
    "id": "33XT7bGs3FKN",
    "papermill": {
     "duration": 0.022412,
     "end_time": "2022-12-19T16:47:33.712355",
     "exception": false,
     "start_time": "2022-12-19T16:47:33.689943",
     "status": "completed"
    },
    "tags": []
   },
   "outputs": [],
   "source": [
    "scaler = MinMaxScaler()\n",
    "scaler.fit(X_train)\n",
    "X_train = scaler.transform(X_train)\n",
    "X_test = scaler.transform(X_test)"
   ]
  },
  {
   "cell_type": "code",
   "execution_count": 14,
   "id": "235a6f55",
   "metadata": {
    "execution": {
     "iopub.execute_input": "2022-12-19T16:47:33.735959Z",
     "iopub.status.busy": "2022-12-19T16:47:33.735526Z",
     "iopub.status.idle": "2022-12-19T16:47:33.743235Z",
     "shell.execute_reply": "2022-12-19T16:47:33.741850Z"
    },
    "id": "8JB57s89xbR3",
    "outputId": "5f7b5561-3e45-498d-9117-bf91a63d2fb9",
    "papermill": {
     "duration": 0.023029,
     "end_time": "2022-12-19T16:47:33.746169",
     "exception": false,
     "start_time": "2022-12-19T16:47:33.723140",
     "status": "completed"
    },
    "tags": []
   },
   "outputs": [
    {
     "data": {
      "text/plain": [
       "7"
      ]
     },
     "execution_count": 14,
     "metadata": {},
     "output_type": "execute_result"
    }
   ],
   "source": [
    "len(np.unique(Y_test))"
   ]
  },
  {
   "cell_type": "markdown",
   "id": "89b28af3",
   "metadata": {
    "id": "pPoaMuiXH-Zm",
    "papermill": {
     "duration": 0.010622,
     "end_time": "2022-12-19T16:47:33.769797",
     "exception": false,
     "start_time": "2022-12-19T16:47:33.759175",
     "status": "completed"
    },
    "tags": []
   },
   "source": [
    "# Testing the Class "
   ]
  },
  {
   "cell_type": "code",
   "execution_count": 15,
   "id": "8dc072c6",
   "metadata": {
    "execution": {
     "iopub.execute_input": "2022-12-19T16:47:33.794146Z",
     "iopub.status.busy": "2022-12-19T16:47:33.793723Z",
     "iopub.status.idle": "2022-12-19T16:52:07.901466Z",
     "shell.execute_reply": "2022-12-19T16:52:07.898722Z"
    },
    "papermill": {
     "duration": 274.123816,
     "end_time": "2022-12-19T16:52:07.904939",
     "exception": false,
     "start_time": "2022-12-19T16:47:33.781123",
     "status": "completed"
    },
    "tags": []
   },
   "outputs": [
    {
     "name": "stdout",
     "output_type": "stream",
     "text": [
      "iteration: 0\n"
     ]
    },
    {
     "name": "stderr",
     "output_type": "stream",
     "text": [
      "2022-12-19 16:47:34.067654: I tensorflow/core/common_runtime/process_util.cc:146] Creating new thread pool with default inter op setting: 2. Tune using inter_op_parallelism_threads for best performance.\n",
      "2022-12-19 16:47:34.635947: I tensorflow/compiler/mlir/mlir_graph_optimization_pass.cc:185] None of the MLIR Optimization Passes are enabled (registered 2)\n"
     ]
    },
    {
     "name": "stdout",
     "output_type": "stream",
     "text": [
      "Validation ACC: 0.9365\n",
      "Validation aUc: 0.9956\n",
      "iteration: 1\n",
      "Validation ACC: 0.9538\n",
      "Validation aUc: 0.9950\n",
      "iteration: 2\n",
      "Validation ACC: 0.9582\n",
      "Validation aUc: 0.9958\n",
      "iteration: 3\n",
      "Validation ACC: 0.9452\n",
      "Validation aUc: 0.9950\n",
      "iteration: 4\n",
      "Validation ACC: 0.9509\n",
      "Validation aUc: 0.9956\n",
      "iteration: 5\n",
      "Validation ACC: 0.9582\n",
      "Validation aUc: 0.9883\n",
      "iteration: 6\n",
      "Validation ACC: 0.9610\n",
      "Validation aUc: 0.9992\n",
      "iteration: 7\n",
      "Validation ACC: 0.9278\n",
      "Validation aUc: 0.9883\n",
      "iteration: 8\n",
      "Validation ACC: 0.9149\n",
      "Validation aUc: 0.9983\n",
      "iteration: 9\n",
      "Validation ACC: 0.9524\n",
      "Validation aUc: 1.0000\n"
     ]
    }
   ],
   "source": [
    "from sklearn.metrics import classification_report\n",
    "l1 =0.0001\n",
    "NUM_RUNS =10\n",
    "ACC = np.zeros(NUM_RUNS)\n",
    "AUC = np.zeros(NUM_RUNS)\n",
    "for i in range(NUM_RUNS): #10\n",
    "    print(\"iteration: \" + str(i))\n",
    "   \n",
    "    MA = Keras_MA_CrowdL(epochs=100,batch_size=32,R= Y_train.shape[1], K=len(np.unique(Y_true_test)), dropout=0.25, learning_rate=0.001,optimizer='Adam', \n",
    "                l1_param=l1,  validation_split=0.3, verbose=0)\n",
    "\n",
    "\n",
    "    MA.fit(X_train, Y_train)\n",
    "    #MA.plot_history()\n",
    "  \n",
    "    #Accuracy  \n",
    "    \n",
    "    #estimar etiquetas modelo rodiguez \n",
    "    preds_test_num =  MA.predict2(X_test)\n",
    "    \n",
    "    report = classification_report(Y_true_test,preds_test_num,output_dict=True)\n",
    "    ACC[i] = report['accuracy']\n",
    "    print(\"Validation ACC: %.4f\" % (float(report['accuracy']),))\n",
    "    \n",
    "    #AUC\n",
    "    val_AUC_metric = tf.keras.metrics.AUC( from_logits = True)  \n",
    "   # val_logits =MA.predict(X_test) # model(X_test, training=False)\n",
    "    # tf.print(y_batch_val)\n",
    "    val_AUC_metric.update_state(Y_true_test,  preds_test_num.astype('float'))\n",
    "\n",
    "    val_AUC = val_AUC_metric.result()\n",
    "    val_AUC_metric.reset_states()\n",
    "    val_AUC = val_AUC.numpy()\n",
    "    print(\"Validation aUc: %.4f\" % (float(val_AUC),))\n",
    "    AUC[i] = val_AUC\n",
    "    \n",
    "  "
   ]
  },
  {
   "cell_type": "code",
   "execution_count": 16,
   "id": "d20ebbfa",
   "metadata": {
    "execution": {
     "iopub.execute_input": "2022-12-19T16:52:07.936418Z",
     "iopub.status.busy": "2022-12-19T16:52:07.935880Z",
     "iopub.status.idle": "2022-12-19T16:52:07.946332Z",
     "shell.execute_reply": "2022-12-19T16:52:07.945074Z"
    },
    "papermill": {
     "duration": 0.027988,
     "end_time": "2022-12-19T16:52:07.949165",
     "exception": false,
     "start_time": "2022-12-19T16:52:07.921177",
     "status": "completed"
    },
    "tags": []
   },
   "outputs": [
    {
     "data": {
      "text/plain": [
       "array([0.93650794, 0.95382395, 0.95815296, 0.94516595, 0.95093795,\n",
       "       0.95815296, 0.96103896, 0.92784993, 0.91486291, 0.95238095])"
      ]
     },
     "execution_count": 16,
     "metadata": {},
     "output_type": "execute_result"
    }
   ],
   "source": [
    "ACC"
   ]
  },
  {
   "cell_type": "code",
   "execution_count": 17,
   "id": "5e304341",
   "metadata": {
    "execution": {
     "iopub.execute_input": "2022-12-19T16:52:07.975853Z",
     "iopub.status.busy": "2022-12-19T16:52:07.975413Z",
     "iopub.status.idle": "2022-12-19T16:52:07.984935Z",
     "shell.execute_reply": "2022-12-19T16:52:07.983451Z"
    },
    "papermill": {
     "duration": 0.026503,
     "end_time": "2022-12-19T16:52:07.987785",
     "exception": false,
     "start_time": "2022-12-19T16:52:07.961282",
     "status": "completed"
    },
    "tags": []
   },
   "outputs": [
    {
     "data": {
      "text/plain": [
       "array([0.9956466 , 0.99500966, 0.99578619, 0.99497485, 0.99559426,\n",
       "       0.98827475, 0.99916244, 0.98833579, 0.99832499, 1.        ])"
      ]
     },
     "execution_count": 17,
     "metadata": {},
     "output_type": "execute_result"
    }
   ],
   "source": [
    "AUC"
   ]
  },
  {
   "cell_type": "code",
   "execution_count": 18,
   "id": "a0c68d3d",
   "metadata": {
    "execution": {
     "iopub.execute_input": "2022-12-19T16:52:08.014972Z",
     "iopub.status.busy": "2022-12-19T16:52:08.014511Z",
     "iopub.status.idle": "2022-12-19T16:52:08.021315Z",
     "shell.execute_reply": "2022-12-19T16:52:08.020060Z"
    },
    "papermill": {
     "duration": 0.023392,
     "end_time": "2022-12-19T16:52:08.024087",
     "exception": false,
     "start_time": "2022-12-19T16:52:08.000695",
     "status": "completed"
    },
    "tags": []
   },
   "outputs": [
    {
     "name": "stdout",
     "output_type": "stream",
     "text": [
      "Average Accuracy:  94.59\n",
      "Average std:  1.43\n"
     ]
    }
   ],
   "source": [
    "print('Average Accuracy: ', np.round( ACC.mean(),4)*100) \n",
    "print('Average std: ',np.round(np.std( ACC),4)*100)"
   ]
  },
  {
   "cell_type": "code",
   "execution_count": 19,
   "id": "fb94fb24",
   "metadata": {
    "execution": {
     "iopub.execute_input": "2022-12-19T16:52:08.052177Z",
     "iopub.status.busy": "2022-12-19T16:52:08.051435Z",
     "iopub.status.idle": "2022-12-19T16:52:08.058114Z",
     "shell.execute_reply": "2022-12-19T16:52:08.056937Z"
    },
    "papermill": {
     "duration": 0.023567,
     "end_time": "2022-12-19T16:52:08.060401",
     "exception": false,
     "start_time": "2022-12-19T16:52:08.036834",
     "status": "completed"
    },
    "tags": []
   },
   "outputs": [
    {
     "name": "stdout",
     "output_type": "stream",
     "text": [
      "Average AUC:  99.51\n",
      "Average AUC std:  0.38\n"
     ]
    }
   ],
   "source": [
    "print('Average AUC: ', np.round( AUC.mean(),4)*100) \n",
    "print('Average AUC std: ',np.round(np.std( AUC),4)*100)"
   ]
  },
  {
   "cell_type": "code",
   "execution_count": null,
   "id": "23d6264e",
   "metadata": {
    "papermill": {
     "duration": 0.011873,
     "end_time": "2022-12-19T16:52:08.084364",
     "exception": false,
     "start_time": "2022-12-19T16:52:08.072491",
     "status": "completed"
    },
    "tags": []
   },
   "outputs": [],
   "source": []
  }
 ],
 "metadata": {
  "kernelspec": {
   "display_name": "Python 3",
   "language": "python",
   "name": "python3"
  },
  "language_info": {
   "codemirror_mode": {
    "name": "ipython",
    "version": 3
   },
   "file_extension": ".py",
   "mimetype": "text/x-python",
   "name": "python",
   "nbconvert_exporter": "python",
   "pygments_lexer": "ipython3",
   "version": "3.7.12"
  },
  "papermill": {
   "default_parameters": {},
   "duration": 323.352519,
   "end_time": "2022-12-19T16:52:11.270266",
   "environment_variables": {},
   "exception": null,
   "input_path": "__notebook__.ipynb",
   "output_path": "__notebook__.ipynb",
   "parameters": {},
   "start_time": "2022-12-19T16:46:47.917747",
   "version": "2.3.4"
  }
 },
 "nbformat": 4,
 "nbformat_minor": 5
}
