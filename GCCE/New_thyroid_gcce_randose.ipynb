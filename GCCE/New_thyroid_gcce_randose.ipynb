{
  "cells": [
    {
      "cell_type": "markdown",
      "metadata": {
        "id": "view-in-github",
        "colab_type": "text"
      },
      "source": [
        "<a href=\"https://colab.research.google.com/github/Jectrianama/GCCE_TEST/blob/main/GCCE/New_thyroid_gcce_randose.ipynb\" target=\"_parent\"><img src=\"https://colab.research.google.com/assets/colab-badge.svg\" alt=\"Open In Colab\"/></a>"
      ]
    },
    {
      "cell_type": "code",
      "execution_count": 1,
      "metadata": {
        "id": "86321f42"
      },
      "outputs": [],
      "source": [
        "#!pip install tensorflow==2.7.0\n",
        "#!pip install scikeras"
      ],
      "id": "86321f42"
    },
    {
      "cell_type": "markdown",
      "metadata": {
        "id": "13b0308c"
      },
      "source": [
        "# Subclassing for GCCE"
      ],
      "id": "13b0308c"
    },
    {
      "cell_type": "code",
      "execution_count": 2,
      "metadata": {
        "id": "fefce825"
      },
      "outputs": [],
      "source": [
        "# -*- coding: utf-8 -*-\n",
        "import tensorflow as tf\n",
        "import matplotlib.pyplot as plt\n",
        "#from tensorflow.keras.wrappers.scikit_learn import KerasClassifier\n",
        "import tensorflow_probability as tfp\n",
        "from tensorflow.keras import regularizers\n",
        "from sklearn.base import  BaseEstimator, TransformerMixin, ClassifierMixin\n",
        "from sklearn.model_selection import train_test_split\n",
        "tf.keras.backend.clear_session()\n",
        "#tf.random.set_seed(42)\n",
        "import types\n",
        "import tempfile\n",
        "class Keras_MA_GCCE(): #transformer no va\n",
        " #Constructor __init__. Special method: identified by a double underscore at either side of their name\n",
        " #work in the background\n",
        " # initialize data members to the object. lets the class initialize the object’s attributes and serves no other purpose.\n",
        "    def __init__(self,epochs=100,batch_size=30,R=5, K=2, dropout=0.5, learning_rate=1e-3,optimizer='Adam', \n",
        "                  l1_param=0, validation_split=0.3, verbose=1, q = 0.1):\n",
        "        self.epochs=epochs\n",
        "        self.dropout=dropout\n",
        "        self.batch_size = batch_size\n",
        "        self.learning_rate=learning_rate \n",
        "        self.l1_param=l1_param \n",
        "        self.l2_param=l1_param\n",
        "        self.validation_split = validation_split\n",
        "        self.verbose = verbose\n",
        "        self.optimizer = optimizer\n",
        "        self.R=R\n",
        "        self.K=K\n",
        "        self.q = q\n",
        "\n",
        "    \n",
        " \n",
        "    def custom_RCDNN_loss(self, y_true, y_pred):  #ytrue \\in N x R,  ypred \\in N x (R+K) -> PRI->JULI\n",
        "    \n",
        "        #Input ytrue: samples (N) x  annotators (R) \n",
        "        #Input ypred: samples (N) x  annotators+classes (R+K) \n",
        "\n",
        "        #Ground truth estimation samples (N) x  Classes(K)\n",
        "        pred = y_pred[:,self.R:]\n",
        "        pred = tf.clip_by_value(pred, clip_value_min=1e-9, clip_value_max=1-1e-9) #estabilidad numerica de la funcion de costo\n",
        "        # Annotators reliability prediction: samples (N) x  annotators (R)\n",
        "        ann_ = y_pred[:,:self.R]\n",
        "        #Y_true 1-K: samples (N) x  Classes(1-K), annotators (R)\n",
        "        Y_true = tf.one_hot(tf.cast(y_true, dtype=tf.int32), depth=self.K, axis=1)\n",
        "        #Y_pred 1 - K: samples (N) x  Classes(1-K), annotators (R)\n",
        "        Y_hat = tf.repeat(tf.expand_dims(pred,-1), self.R, axis = -1)\n",
        "        #loss computation\n",
        "        p_logreg = tf.math.reduce_prod(tf.math.pow(Y_hat, Y_true), axis=1)\n",
        "        temp1 = ann_*tf.math.log(p_logreg)  \n",
        "        temp2 = (1 - ann_)*tf.math.log(1/self.K)*tf.reduce_sum(Y_true,axis=1)\n",
        "        # temp2 = (tf.ones(tf.shape(ann_)) - ann_)*tf.math.log(1/K)\n",
        "        # print(tf.reduce_mean(Y_true,axis=1).numpy())\n",
        "        return -tf.math.reduce_sum((temp1 + temp2))\n",
        "\n",
        "        \n",
        "    def GCCE_MA_loss(self, y_true, y_pred):\n",
        "        # print(y_true,y_pred)\n",
        "       # q = 0.1\n",
        "        pred = y_pred[:, self.R:]\n",
        "        pred = tf.clip_by_value(pred, clip_value_min=1e-9, clip_value_max=1)\n",
        "        ann_ = y_pred[:, :self.R]\n",
        "        # ann_ = tf.clip_by_value(ann_, clip_value_min=1e-9, clip_value_max=1-1e-9)\n",
        "        Y_true = tf.one_hot(tf.cast(y_true, dtype=tf.int32), depth=self.K, axis=1)\n",
        "        Y_hat = tf.repeat(tf.expand_dims(pred,-1), self.R, axis = -1)\n",
        "\n",
        "        p_gcce = Y_true*(1 - Y_hat**self.q)/self.q\n",
        "        temp1 = ann_*tf.math.reduce_sum(p_gcce, axis=1)\n",
        "\n",
        "        # p_logreg = tf.math.reduce_prod(tf.math.pow(Y_hat, Y_true), axis=1)\n",
        "        # temp1 = ann_*tf.math.log(p_logreg)  \n",
        "        # temp2 = (1 - ann_)*tf.math.log(1/K)*tf.reduce_sum(Y_true,axis=1)\n",
        "        # aux = tf.repeat(tf.reduce_sum(pred*tf.math.log(pred),axis=1,keepdims=True), R, axis = 1)\n",
        "        # tf.print(tf.shape(aux))\n",
        "        # print(tf.shape(aux))\n",
        "        # temp2 = (1 - ann_)*aux*tf.reduce_sum(Y_true,axis=1)\n",
        "        # temp2 = (tf.ones(tf.shape(ann_)) - ann_)*tf.math.log(1/K)\n",
        "        # print(tf.reduce_mean(Y_true,axis=1).numpy())\n",
        "        # Y_true_1 = tf.clip_by_value(Y_true, clip_value_min=1e-9, clip_value_max=1)\n",
        "        # p_logreg_inv = tf.math.reduce_prod(tf.math.pow(Y_true_1, Y_hat), axis=1)\n",
        "        # temp2 = (1 - ann_)*tf.math.log(p_logreg_inv) \n",
        "        temp2 = (1 - ann_)*(1-(1/self.K)**self.q)/self.q*tf.reduce_sum(Y_true,axis=1)\n",
        "        return tf.math.reduce_sum((temp1 + temp2))\n",
        "\n",
        " \n",
        "    def PRI_MA_loss(self, y_true, y_pred): #,  -> PRI\n",
        "        #Input ytrue: samples (N) x  annotators (R) \n",
        "        #Input ypred: samples (N) x  annotators+classes (R+K) \n",
        "        #PRI MA\n",
        "        cce_M = tf.keras.losses.CategoricalCrossentropy(reduction='none',axis=-1)\n",
        "        cce_C = tf.keras.losses.CategoricalCrossentropy(reduction='none',axis=1)\n",
        "\n",
        "      \n",
        "\n",
        "        #N = tf.cast(y_true.shape[0],dtype=tf.int32)\n",
        "        N = tf.shape(y_true)[0]\n",
        "        #Ground truth estimation samples (N) x  Classes(K)\n",
        "        y_pred_tf = y_pred[:,self.R:] \n",
        "        # Annotators reliability prediction: samples (N) x  annotators (R)\n",
        "        lambda_R_tf = y_pred[:,:self.R] #tf.ones(shape=(N,R)) \n",
        "        #Y_true 1 K: samples (N) x  Classes(1-K), annotators (R)\n",
        "        Y_true_1K = tf.one_hot(tf.cast(y_true,dtype=tf.int32),depth=self.K,axis=1)  \n",
        "        #Y_pred 1 - K: samples (N) x  Classes(1-K), annotators (R)\n",
        "        Y_hat = tf.repeat(tf.expand_dims(y_pred_tf,-1), self.R, axis = -1) \n",
        "        #marginal entropy\n",
        "        #cce along the K classes -> ypred_tf\n",
        "        Hm_ = cce_M(y_pred_tf,y_pred_tf)\n",
        "        #cross entropy\n",
        "        #cce along the K classes -> Y_hat\n",
        "        Hc_ = cce_C(Y_true_1K,Y_hat)\n",
        "        #PRI MA computation\n",
        "        LH = tf.linalg.matmul(lambda_R_tf,Hc_,transpose_a=True) # \\Lambda^\\top H_c\n",
        "        temp1 = tf.linalg.trace(LH) #trace(LH)\n",
        "        Hm1L = tf.linalg.matmul(tf.ones(shape=(N,self.R))-lambda_R_tf,tf.ones(shape=(self.R,1)))# 1_N 1_R^\\top - Lambda\n",
        "        Hm_t = tf.reshape(Hm_,shape=(N,1))\n",
        "        temp2 = tf.squeeze(tf.linalg.matmul(Hm_t,Hm1L,transpose_a=True)) # Hm^\\top Hm1L\n",
        "        loss_c = temp1+ temp2 #return loss\n",
        "\n",
        "        return loss_c\n",
        "\n",
        " \n",
        "    def fit(self, X, Y):\n",
        "        #input X numpy array first dimension samples (N)x features (P)\n",
        "        #input Y numpy array vector len = samples (N) x  annotators (R)\n",
        "        P = X.shape[1]\n",
        "        if self.optimizer == \"Adam\":\n",
        "            opt = tf.keras.optimizers.Adam(learning_rate=self.learning_rate, clipnorm=1.0)\n",
        "        elif self.optimizer == \"SGD\":\n",
        "            opt = tf.keras.optimizers.SGD(learning_rate=self.learning_rate, clipnorm=1.0)\n",
        "        else:\n",
        "            opt=self.optimizer\n",
        "\n",
        "        #capa de entrada\n",
        "        input_l = tf.keras.layers.Input(shape=(X_train.shape[1]), name='entrada')\n",
        "        #capas densas\n",
        "        h1 = tf.keras.layers.Dense(int(P*4*(self.K+self.R)),activation='selu',name='h1',\n",
        "                              kernel_regularizer=tf.keras.regularizers.l1_l2(l1=self.l1_param,l2=self.l2_param))(input_l)#argumento de entrada\n",
        "        h2 = tf.keras.layers.Dense(int(P*(self.K+self.R)),activation='selu',name='h2',\n",
        "                              kernel_regularizer=tf.keras.regularizers.l1_l2(l1=self.l1_param,l2=self.l2_param))(h1)\n",
        "        dout = tf.keras.layers.Dropout(rate=self.dropout)(h2)\n",
        "        output_R = tf.keras.layers.Dense(self.R,activation=\"sigmoid\", \n",
        "                                    kernel_regularizer=tf.keras.regularizers.l1_l2(l1=self.l1_param,l2=self.l2_param), name= 'out_R_GCCE' )(dout)\n",
        " \n",
        "        output_K = tf.keras.layers.Dense(self.K,activation=\"softmax\", \n",
        "                                    kernel_regularizer=tf.keras.regularizers.l1_l2(l1=self.l1_param,l2=self.l2_param), name= 'out_K_GCCE')(dout)\n",
        " \n",
        "        output = tf.keras.layers.concatenate([output_R, output_K])\n",
        "        self.model = tf.keras.Model(inputs= input_l,outputs=output)\n",
        "        self.model.compile(loss=self.GCCE_MA_loss, optimizer=opt)\n",
        " \n",
        "        self.history = self.model.fit(X, Y, epochs=self.epochs, validation_split=self.validation_split,   #\n",
        "                                      batch_size=self.batch_size,verbose=self.verbose)\n",
        " \n",
        "        return self\n",
        " \n",
        "  \n",
        "    \n",
        "    def predict(self, X, *_):\n",
        "       #input X numpy array first dimension samples (N)x features (P)\n",
        "      return  self.model.predict(X) \n",
        " \n",
        " \n",
        "\n",
        "    def fit_predict(self,X,y):\n",
        "        #input X numpy array first dimension samples (N)x features (P)\n",
        "        #input Y numpy array vector len = samples (N) x  annotators (R)\n",
        "        self.fit(X,y)\n",
        "        return self.predict(X)\n",
        "  \n",
        "     #graphics\n",
        "    def plot_history(self):\n",
        "        pd.DataFrame(self.history.history).plot(figsize=(8, 5))\n",
        "        plt.grid(True)\n",
        "        #plt.gca().set_ylim(0, 1)\n",
        "        #save_fig(\"keras_learning_curves_plot\")\n",
        "        plt.show()\n",
        "        return\n",
        "    \n",
        "    def set_params(self, **parameters):\n",
        "        for parameter, value in parameters.items():\n",
        "            setattr(self, parameter, value)\n",
        "\n",
        "        return self\n",
        "    \n",
        "    \n",
        "    \n",
        "    def get_params(self, deep=True):\n",
        "        return { 'l1_param':self.l1_param, 'dropout':self.dropout, 'optimizer':self.optimizer,\n",
        "                'learning_rate':self.learning_rate, 'batch_size':self.batch_size,\n",
        "                'epochs':self.epochs, 'verbose':self.verbose, 'validation_split':self.validation_split,\n",
        "                'R':self.R, 'K':self.K, 'q':self.q\n",
        "                }\n",
        "\n",
        "  \n",
        "        return self\n"
      ],
      "id": "fefce825"
    },
    {
      "cell_type": "code",
      "execution_count": 3,
      "metadata": {
        "colab": {
          "base_uri": "https://localhost:8080/"
        },
        "id": "AklUNYNDWVv2",
        "outputId": "79556740-9ba0-42e0-eb45-0dcb7f3a0331"
      },
      "outputs": [
        {
          "output_type": "stream",
          "name": "stdout",
          "text": [
            "--2022-12-19 03:24:39--  https://docs.google.com/uc?export=download&confirm=&id=1AU8pTtCLihBjCZjWITaAzpnEuL4RO436\n",
            "Resolving docs.google.com (docs.google.com)... 142.251.162.101, 142.251.162.139, 142.251.162.102, ...\n",
            "Connecting to docs.google.com (docs.google.com)|142.251.162.101|:443... connected.\n",
            "HTTP request sent, awaiting response... 303 See Other\n",
            "Location: https://doc-00-90-docs.googleusercontent.com/docs/securesc/ha0ro937gcuc7l7deffksulhg5h7mbp1/e17kthpthnq127ip8j61vp3m7v3gd7kd/1671420225000/07591141114418430227/*/1AU8pTtCLihBjCZjWITaAzpnEuL4RO436?e=download&uuid=01a8ecf0-e6ff-4c8d-b65c-fd8d2fe67636 [following]\n",
            "Warning: wildcards not supported in HTTP.\n",
            "--2022-12-19 03:24:39--  https://doc-00-90-docs.googleusercontent.com/docs/securesc/ha0ro937gcuc7l7deffksulhg5h7mbp1/e17kthpthnq127ip8j61vp3m7v3gd7kd/1671420225000/07591141114418430227/*/1AU8pTtCLihBjCZjWITaAzpnEuL4RO436?e=download&uuid=01a8ecf0-e6ff-4c8d-b65c-fd8d2fe67636\n",
            "Resolving doc-00-90-docs.googleusercontent.com (doc-00-90-docs.googleusercontent.com)... 173.194.216.132, 2607:f8b0:400c:c0c::84\n",
            "Connecting to doc-00-90-docs.googleusercontent.com (doc-00-90-docs.googleusercontent.com)|173.194.216.132|:443... connected.\n",
            "HTTP request sent, awaiting response... 200 OK\n",
            "Length: 38377 (37K) [application/x-zip-compressed]\n",
            "Saving to: ‘DataGCCE.zip’\n",
            "\n",
            "DataGCCE.zip        100%[===================>]  37.48K  --.-KB/s    in 0s      \n",
            "\n",
            "2022-12-19 03:24:40 (77.4 MB/s) - ‘DataGCCE.zip’ saved [38377/38377]\n",
            "\n",
            "Archive:  DataGCCE.zip\n",
            "  inflating: new-thyroid.csv         \n",
            "  inflating: tic-tac-toe-endgame.csv  \n",
            "  inflating: balance-scale.csv       \n",
            "  inflating: file.csv                \n",
            "balance-scale.csv  file.csv\t    sample_data\n",
            "DataGCCE.zip\t   new-thyroid.csv  tic-tac-toe-endgame.csv\n"
          ]
        }
      ],
      "source": [
        "#cargar datos desde drive otros dataset\n",
        "FILEID = \"1AU8pTtCLihBjCZjWITaAzpnEuL4RO436\"\n",
        "#https://drive.google.com/file/d/1AU8pTtCLihBjCZjWITaAzpnEuL4RO436/view?usp=sharing\n",
        "!wget --load-cookies /tmp/cookies.txt \"https://docs.google.com/uc?export=download&confirm=$(wget --quiet --save-cookies /tmp/cookies.txt --keep-session-cookies --no-check-certificate 'https://docs.google.com/uc?export=download&id='$FILEID -O- | sed -rn 's/.*confirm=([0-9A-Za-z_]+).*/\\1\\n/p')&id=\"$FILEID -O  DataGCCE.zip && rm -rf /tmp/cookies.txt\n",
        "!unzip -o DataGCCE.zip\n",
        "!dir"
      ],
      "id": "AklUNYNDWVv2"
    },
    {
      "cell_type": "code",
      "execution_count": 4,
      "metadata": {
        "colab": {
          "base_uri": "https://localhost:8080/"
        },
        "id": "4f2c39a8",
        "outputId": "a1b27d53-f416-404b-ff1f-6fd7a7a743d2"
      },
      "outputs": [
        {
          "output_type": "stream",
          "name": "stdout",
          "text": [
            "--2022-12-19 03:24:40--  https://docs.google.com/uc?export=download&confirm=t&id=1SQnWXGROG2Xexs5vn3twuv7SqiWG5njW\n",
            "Resolving docs.google.com (docs.google.com)... 142.251.162.101, 142.251.162.139, 142.251.162.102, ...\n",
            "Connecting to docs.google.com (docs.google.com)|142.251.162.101|:443... connected.\n",
            "HTTP request sent, awaiting response... 303 See Other\n",
            "Location: https://doc-00-90-docs.googleusercontent.com/docs/securesc/ha0ro937gcuc7l7deffksulhg5h7mbp1/pde1q0ds99l3aj4avqh2m2fj2upah9si/1671420225000/07591141114418430227/*/1SQnWXGROG2Xexs5vn3twuv7SqiWG5njW?e=download&uuid=29a7762a-72b9-4ec3-bf7c-38e345ee440f [following]\n",
            "Warning: wildcards not supported in HTTP.\n",
            "--2022-12-19 03:24:40--  https://doc-00-90-docs.googleusercontent.com/docs/securesc/ha0ro937gcuc7l7deffksulhg5h7mbp1/pde1q0ds99l3aj4avqh2m2fj2upah9si/1671420225000/07591141114418430227/*/1SQnWXGROG2Xexs5vn3twuv7SqiWG5njW?e=download&uuid=29a7762a-72b9-4ec3-bf7c-38e345ee440f\n",
            "Resolving doc-00-90-docs.googleusercontent.com (doc-00-90-docs.googleusercontent.com)... 173.194.216.132, 2607:f8b0:400c:c0c::84\n",
            "Connecting to doc-00-90-docs.googleusercontent.com (doc-00-90-docs.googleusercontent.com)|173.194.216.132|:443... connected.\n",
            "HTTP request sent, awaiting response... 200 OK\n",
            "Length: 156530728 (149M) [application/zip]\n",
            "Saving to: ‘MADatasets.zip’\n",
            "\n",
            "MADatasets.zip      100%[===================>] 149.28M   103MB/s    in 1.4s    \n",
            "\n",
            "2022-12-19 03:24:42 (103 MB/s) - ‘MADatasets.zip’ saved [156530728/156530728]\n",
            "\n",
            "Archive:  MADatasets.zip\n",
            "  inflating: MADatasets/util.py      \n",
            "  inflating: MADatasets/Iris1.mat    \n",
            "  inflating: MADatasets/Integra_Labels.mat  \n",
            "  inflating: MADatasets/MAGenerationClassification.py  \n",
            "  inflating: MADatasets/Voice.mat    \n",
            "  inflating: MADatasets/Iris.mat     \n",
            "  inflating: MADatasets/Sinthetic.mat  \n",
            "  inflating: MADatasets/MAGenerationClassification_1.py  \n",
            "  inflating: MADatasets/Bupa1.mat    \n",
            "  inflating: MADatasets/TicTacToe1.mat  \n",
            "  inflating: MADatasets/Wine.mat     \n",
            "  inflating: MADatasets/Breast1.mat  \n",
            "  inflating: MADatasets/Breast.mat   \n",
            "  inflating: MADatasets/Music.mat    \n",
            "  inflating: MADatasets/Pima.mat     \n",
            "  inflating: MADatasets/Ionosphere.mat  \n",
            "  inflating: MADatasets/TicTacToe.mat  \n",
            "  inflating: MADatasets/VoiceData.m  \n",
            "  inflating: MADatasets/util_1.py    \n",
            "  inflating: MADatasets/Ionosphere1.mat  \n",
            "  inflating: MADatasets/__pycache__/util_1.cpython-37.pyc  \n",
            "  inflating: MADatasets/Bupa.mat     \n",
            "  inflating: MADatasets/Wine1.mat    \n",
            "  inflating: MADatasets/__pycache__/util.cpython-37.pyc  \n",
            "  inflating: MADatasets/Pima1.mat    \n",
            "  inflating: MADatasets/Segmentation1.mat  \n",
            "  inflating: MADatasets/Western.mat  \n",
            "  inflating: MADatasets/Integra_Preprocesamiento_Seg_Caracterizacion_time_frec.mat  \n",
            "  inflating: MADatasets/Western1.mat  \n",
            "  inflating: MADatasets/Segmentation.mat  \n",
            "  inflating: MADatasets/Skin_NonSkin.mat  \n",
            "  inflating: MADatasets/Skin_NonSkin1.mat  \n",
            "  inflating: MADatasets/Occupancy1.mat  \n",
            "  inflating: MADatasets/Polarity.mat  \n",
            "  inflating: MADatasets/Occupancy.mat  \n",
            "balance-scale.csv  file.csv    MADatasets.zip\tsample_data\n",
            "DataGCCE.zip\t   MADatasets  new-thyroid.csv\ttic-tac-toe-endgame.csv\n"
          ]
        }
      ],
      "source": [
        "#cargar datos desde drive acceso libre\n",
        "FILEID = \"1SQnWXGROG2Xexs5vn3twuv7SqiWG5njW\"\n",
        "#https://drive.google.com/file/d/1SQnWXGROG2Xexs5vn3twuv7SqiWG5njW/view?usp=sharing\n",
        "!wget --load-cookies /tmp/cookies.txt \"https://docs.google.com/uc?export=download&confirm=$(wget --quiet --save-cookies /tmp/cookies.txt --keep-session-cookies --no-check-certificate 'https://docs.google.com/uc?export=download&id='$FILEID -O- | sed -rn 's/.*confirm=([0-9A-Za-z_]+).*/\\1\\n/p')&id=\"$FILEID -O MADatasets.zip && rm -rf /tmp/cookies.txt\n",
        "!unzip -o MADatasets.zip\n",
        "!dir"
      ],
      "id": "4f2c39a8"
    },
    {
      "cell_type": "markdown",
      "metadata": {
        "id": "5b055b86"
      },
      "source": [
        "# Load Data"
      ],
      "id": "5b055b86"
    },
    {
      "cell_type": "code",
      "source": [
        "#load data\n",
        "import scipy.io as sio\n",
        "import matplotlib.pyplot as plt\n",
        "import pandas as pd\n",
        "import tensorflow as tf #importar tensorflow\n",
        "from sklearn.model_selection import GridSearchCV, RandomizedSearchCV\n",
        "from sklearn.preprocessing import StandardScaler,MinMaxScaler\n",
        "import numpy as np\n",
        "database = 'thyroid' #['bupa1', 'breast-cancer-wisconsin1','pima-indians-diabetes1', 'ionosphere1', 'tic-tac-toe1', 'iris1', 'wine1', 'segmentation1']\n",
        "\n",
        "\n",
        "\n",
        "import pandas as pd\n",
        "from sklearn.preprocessing import LabelEncoder\n",
        "df = pd.read_csv(r'/content/new-thyroid.csv') \n",
        "df.head()\n",
        "\n",
        "#Dividing X and y\n",
        "t = np.array(LabelEncoder().fit_transform(df['class'].tolist()))\n",
        "X = np.array(df.drop(['class'], axis = 1).values)\n",
        "print('X',X.shape,'t',t.shape)\n",
        "t =t+1"
      ],
      "metadata": {
        "colab": {
          "base_uri": "https://localhost:8080/"
        },
        "id": "B4ulwTann8Fq",
        "outputId": "18d297cb-bb25-4194-e88f-0c5b9d87c345"
      },
      "id": "B4ulwTann8Fq",
      "execution_count": 5,
      "outputs": [
        {
          "output_type": "stream",
          "name": "stdout",
          "text": [
            "X (215, 5) t (215,)\n"
          ]
        }
      ]
    },
    {
      "cell_type": "markdown",
      "metadata": {
        "id": "d41f9909"
      },
      "source": [
        "# Labels Generation - 1 Cluster, 3 annotators"
      ],
      "id": "d41f9909"
    },
    {
      "cell_type": "code",
      "execution_count": 6,
      "metadata": {
        "id": "921a7097"
      },
      "outputs": [],
      "source": [
        "import random\n",
        "import warnings\n",
        "import numpy as np\n",
        "#import climin\n",
        "from functools import partial\n",
        "import matplotlib.pyplot as plt\n",
        "from sklearn.preprocessing import StandardScaler\n",
        "from sklearn.cluster import KMeans\n",
        "import matplotlib.pyplot as plt\n",
        "from sklearn.manifold import TSNE\n",
        "\n",
        "#Defining the Sigmoid function and Softmax function\n",
        "def Sigmoid(f_r):\n",
        "    lam_r = 1/(1 + np.exp(-f_r))\n",
        "    return lam_r\n",
        "\n",
        "def MAjVot(Y, K):\n",
        "    N,R = Y.shape\n",
        "    Yhat = np.zeros((N,1))\n",
        "    for n in range(N):\n",
        "        votes = np.zeros((K,1))\n",
        "        for r in range(R):\n",
        "            for k in range(K):\n",
        "                if Y[n,r] == k+1:\n",
        "                    votes[k] = votes[k]+1\n",
        "        Yhat[n] = np.argmax(votes) + 1\n",
        "    return Yhat\n",
        "\n",
        "\n",
        "def  MA_Clas_Gen(Xtrain,ytrain,R,NrP):\n",
        "\n",
        "    N = len(ytrain)\n",
        "    K = len(np.unique(ytrain))\n",
        "    Kn = np.unique(ytrain)\n",
        "    aux = 0\n",
        "    A = np.zeros((K,1))\n",
        "    for k in Kn:\n",
        "        A[aux] = (ytrain == k).sum()\n",
        "        aux = aux + 1\n",
        "    per = np.min(A)\n",
        "    if N < 25000:\n",
        "        Xtrain = TSNE(n_components=1,perplexity=per/2).fit_transform(Xtrain)\n",
        "    else:\n",
        "        Xtrain = np.sum(Xtrain,1)\n",
        "    # Xtrain = Xtrain-Xtrain.min()\n",
        "    # Xtrain = Xtrain/Xtrain.max()\n",
        "    #ytrain = y\n",
        "    # scaler = StandardScaler()\n",
        "    # scalerY = scaler.fit(y)\n",
        "    # ytrain = scaler.fit_transform(y)\n",
        "\n",
        "    \n",
        "    #miny = y.min()\n",
        "    #ytrain = y-miny\n",
        "    #maxy = ytrain.max()\n",
        "    #ytrain = ytrain/maxy\n",
        "  \n",
        "    # Xtrain = np.sum(Xtrain, axis=1)\n",
        "    Xtrain = Xtrain - Xtrain.min()\n",
        "    #print(Xtrain.min(), Xtrain.max())\n",
        "    Xtrain = Xtrain/Xtrain.max()\n",
        "    Xtrain = Xtrain.reshape((N,1))\n",
        "    yprueba = np.ones((N,1))\n",
        "    \n",
        "    \n",
        "    u_q = np.empty((Xtrain.shape[0],3))\n",
        "    u_q[:,0,None] = 4.5*np.cos(2*np.pi*Xtrain + 1.5*np.pi) - \\\n",
        "                               3*np.sin(4.3*np.pi*Xtrain + 0.3*np.pi)\n",
        "                    \n",
        "    u_q[:,1,None] = 4.5*np.cos(1.5*np.pi*Xtrain + 0.5*np.pi) + \\\n",
        "                       5*np.sin(3*np.pi*Xtrain + 1.5*np.pi)\n",
        "    \n",
        "    u_q[:,2,None] = 1\n",
        "    \n",
        "    W = []\n",
        "    # q=1\n",
        "    Wq1 = np.array(([[0.4],[0.7],[-0.5],[0],[-0.7]]))\n",
        "    W.append(Wq1)\n",
        "    # q=2\n",
        "    Wq2 = np.array(([[0.4],[-1.0],[-0.1],[-0.8],[1.0]]))\n",
        "    W.append(Wq2)\n",
        "    Wq3 = np.array(([[3.1],[-1.8],[-0.6],[-1.2],[1.0]]))\n",
        "    W.append(Wq3)\n",
        "\n",
        "    \n",
        "    F_r = []\n",
        "    Lam_r = []\n",
        "    for r in range(R):\n",
        "        f_r = np.zeros((Xtrain.shape[0], 1))\n",
        "        # rho_r = np.zeros((Xtrain.shape[0], 1))\n",
        "        for q in range(3):\n",
        "            f_r += W[q][r].T*u_q[:,q,None]\n",
        "        F_r.append(f_r)\n",
        "        lam_r = Sigmoid(f_r)\n",
        "        lam_r[lam_r>0.5] = 1\n",
        "        lam_r[lam_r<=0.5] = 0\n",
        "        Lam_r.append(lam_r)\n",
        "    plt.plot(Xtrain,Lam_r[2],'rx')\n",
        "    plt.show()\n",
        "    seed = 0\n",
        "    np.random.seed(seed)\n",
        "    Ytrain = np.ones((N, R))\n",
        "    for r in range(R):\n",
        "        aux = ytrain.copy()\n",
        "        for n in range(N):\n",
        "            if Lam_r[r][n] == 0:\n",
        "                labels = np.arange(1, K+1)\n",
        "                a = np.where(labels==ytrain[n])\n",
        "                labels = np.delete(labels, a)\n",
        "                idxlabels = np.random.permutation(K-1)\n",
        "                aux[n] = labels[idxlabels[0]]         \n",
        "        Ytrain[:,r] = aux.flatten()\n",
        "        \n",
        "   # Ytrain = (Ytrain*maxy) + miny\n",
        "        \n",
        "    iAnn = np.zeros((N, R), dtype=int) # this indicates if the annotator r labels the nth sample.\n",
        "    Nr = np.ones((R), dtype=int)*int(np.floor(N*NrP))  \n",
        "    for r in range(R):\n",
        "        if r < R-1:\n",
        "            indexR = np.random.permutation(range(N))[:Nr[r]]\n",
        "            iAnn[indexR,r] = 1\n",
        "        else:\n",
        "            iSimm = np.sum(iAnn, axis=1)\n",
        "            idxZero = np.asarray([i for (i, val) in enumerate(iSimm) if val == 0])\n",
        "            Nzeros = idxZero.shape[0]\n",
        "            idx2Choose = np.arange(N)\n",
        "            if Nzeros == 0:\n",
        "                indexR = np.random.permutation(range(N))[:Nr[r]]\n",
        "                iAnn[indexR,r] = 1\n",
        "            else:\n",
        "                idx2Choose = np.delete(idx2Choose, idxZero)\n",
        "                N2chose = idx2Choose.shape[0]\n",
        "                idxNoZero = np.random.permutation(N2chose)[:(Nr[r] - Nzeros)]\n",
        "                idxTot = np.concatenate((idxZero, idx2Choose[idxNoZero]))\n",
        "                iAnn[idxTot,r] = 1\n",
        "    \n",
        "    # Now, we verify that all the samples were labeled at least once\n",
        "    Nr = (np.sum(iAnn,0))\n",
        "    iSimm = np.sum(iAnn, axis=1)\n",
        "    if np.asarray([i for (i, val) in enumerate(iSimm) if val == 0]).sum() == 0:\n",
        "        ValueError(\"all the samples must be labeled at least once\")\n",
        "\n",
        "    # Finally, if iAnn=0 we assign a reference value to indicate a missing value\n",
        "    Vref = -1e-20\n",
        "    for r in range(R):\n",
        "        Ytrain[iAnn[:,r] == 0, r] = Vref \n",
        "\n",
        "    return Ytrain, iAnn, Lam_r\n",
        "\n",
        "\n",
        "def CrossVal(X, pp, Nk):\n",
        "    N = X.shape[0]\n",
        "    Ntr = int(N*pp)\n",
        "    Nte = N - Ntr\n",
        "    idxtr = np.zeros((Ntr,Nk))\n",
        "    idxte = np.zeros((Nte,Nk))\n",
        "    \n",
        "    for i in range(Nk):\n",
        "        index = np.random.permutation(range(N))\n",
        "        idxtr[:,i] = index[:Ntr]\n",
        "        idxte[:,i] = index[Ntr:]\n",
        "        \n",
        "    return idxtr, idxte\n",
        "    \n",
        "    \n",
        "        \n"
      ],
      "id": "921a7097"
    },
    {
      "cell_type": "code",
      "execution_count": 7,
      "metadata": {
        "colab": {
          "base_uri": "https://localhost:8080/",
          "height": 338
        },
        "id": "5bfb3a90",
        "outputId": "998d7cda-edaa-4f19-bf06-533eb3d0b8bc"
      },
      "outputs": [
        {
          "output_type": "stream",
          "name": "stderr",
          "text": [
            "/usr/local/lib/python3.8/dist-packages/sklearn/manifold/_t_sne.py:780: FutureWarning: The default initialization in TSNE will change from 'random' to 'pca' in 1.2.\n",
            "  warnings.warn(\n",
            "/usr/local/lib/python3.8/dist-packages/sklearn/manifold/_t_sne.py:790: FutureWarning: The default learning rate in TSNE will change from 200.0 to 'auto' in 1.2.\n",
            "  warnings.warn(\n"
          ]
        },
        {
          "output_type": "display_data",
          "data": {
            "text/plain": [
              "<Figure size 432x288 with 1 Axes>"
            ],
            "image/png": "[encoded data removed]"
          },
          "metadata": {
            "needs_background": "light"
          }
        }
      ],
      "source": [
        "Y, iAnn, Lam_r = MA_Clas_Gen(X ,t, R=5, NrP=1)"
      ],
      "id": "5bfb3a90"
    },
    {
      "cell_type": "code",
      "execution_count": 8,
      "metadata": {
        "id": "125deea6"
      },
      "outputs": [],
      "source": [
        "\n",
        "Y = Y - 1\n",
        "t = t - 1\n",
        "#YMA = YMA-1\n"
      ],
      "id": "125deea6"
    },
    {
      "cell_type": "code",
      "execution_count": 9,
      "metadata": {
        "colab": {
          "base_uri": "https://localhost:8080/",
          "height": 1000
        },
        "id": "f665a11b",
        "outputId": "d9ccd50a-da69-4e33-bde1-d1d4680abb76"
      },
      "outputs": [
        {
          "output_type": "stream",
          "name": "stdout",
          "text": [
            "annotator 1\n",
            "              precision    recall  f1-score   support\n",
            "\n",
            "           0       1.00      0.79      0.88       150\n",
            "           1       0.66      1.00      0.80        35\n",
            "           2       0.70      1.00      0.82        30\n",
            "\n",
            "    accuracy                           0.86       215\n",
            "   macro avg       0.79      0.93      0.83       215\n",
            "weighted avg       0.90      0.86      0.86       215\n",
            "\n",
            "annotator 2\n",
            "              precision    recall  f1-score   support\n",
            "\n",
            "           0       0.85      0.69      0.76       150\n",
            "           1       0.42      0.77      0.55        35\n",
            "           2       0.14      0.13      0.14        30\n",
            "\n",
            "    accuracy                           0.63       215\n",
            "   macro avg       0.47      0.53      0.48       215\n",
            "weighted avg       0.68      0.63      0.64       215\n",
            "\n",
            "annotator 3\n",
            "              precision    recall  f1-score   support\n",
            "\n",
            "           0       0.94      0.56      0.70       150\n",
            "           1       0.35      0.57      0.43        35\n",
            "           2       0.38      0.87      0.53        30\n",
            "\n",
            "    accuracy                           0.60       215\n",
            "   macro avg       0.56      0.67      0.55       215\n",
            "weighted avg       0.77      0.60      0.63       215\n",
            "\n",
            "annotator 4\n",
            "              precision    recall  f1-score   support\n",
            "\n",
            "           0       0.83      0.54      0.65       150\n",
            "           1       0.37      0.80      0.50        35\n",
            "           2       0.10      0.13      0.11        30\n",
            "\n",
            "    accuracy                           0.53       215\n",
            "   macro avg       0.43      0.49      0.42       215\n",
            "weighted avg       0.65      0.53      0.55       215\n",
            "\n",
            "annotator 5\n",
            "              precision    recall  f1-score   support\n",
            "\n",
            "           0       0.51      0.12      0.19       150\n",
            "           1       0.05      0.11      0.07        35\n",
            "           2       0.24      0.73      0.36        30\n",
            "\n",
            "    accuracy                           0.20       215\n",
            "   macro avg       0.27      0.32      0.21       215\n",
            "weighted avg       0.40      0.20      0.20       215\n",
            "\n"
          ]
        },
        {
          "output_type": "display_data",
          "data": {
            "text/plain": [
              "<Figure size 432x288 with 1 Axes>"
            ],
            "image/png": "[encoded data removed]"
          },
          "metadata": {
            "needs_background": "light"
          }
        },
        {
          "output_type": "display_data",
          "data": {
            "text/plain": [
              "<Figure size 432x288 with 1 Axes>"
            ],
            "image/png": "[encoded data removed]"
          },
          "metadata": {
            "needs_background": "light"
          }
        },
        {
          "output_type": "display_data",
          "data": {
            "text/plain": [
              "<Figure size 432x288 with 1 Axes>"
            ],
            "image/png": "[encoded data removed]"
          },
          "metadata": {
            "needs_background": "light"
          }
        },
        {
          "output_type": "display_data",
          "data": {
            "text/plain": [
              "<Figure size 432x288 with 1 Axes>"
            ],
            "image/png": "[encoded data removed]"
          },
          "metadata": {
            "needs_background": "light"
          }
        },
        {
          "output_type": "display_data",
          "data": {
            "text/plain": [
              "<Figure size 432x288 with 1 Axes>"
            ],
            "image/png": "[encoded data removed]"
          },
          "metadata": {
            "needs_background": "light"
          }
        }
      ],
      "source": [
        "from sklearn.metrics import classification_report\n",
        "for i in range(Y.shape[1]):\n",
        "    print('annotator',i+1)\n",
        "    print(classification_report(t,Y[:,i]))\n",
        "    unique, counts = np.unique(Y[:,i], return_counts=True)\n",
        "    plt.figure()\n",
        "    plt.bar(unique, counts)\n",
        "#     unique, counts = np.unique(Y_test[5], return_counts=True)\n",
        "#     plt.bar(unique, counts)\n",
        "\n",
        "    plt.title('Class Frequency for Y_true')\n",
        "    plt.xlabel('Class')\n",
        "    plt.ylabel('Frequency')\n"
      ],
      "id": "f665a11b"
    },
    {
      "cell_type": "code",
      "execution_count": 10,
      "metadata": {
        "id": "5be7ff83"
      },
      "outputs": [],
      "source": [
        "# from sklearn.metrics import classification_report\n",
        "# for i in range(Y.shape[1]):\n",
        "#   for j in range(len(np.unique(clusters.labels_))):\n",
        "#     print('annotator',i+1)\n",
        "#     print('cluster',j+1)\n",
        "#     print(classification_report(t[clusters.labels_==j],Y[clusters.labels_==j,i]))"
      ],
      "id": "5be7ff83"
    },
    {
      "cell_type": "markdown",
      "metadata": {
        "id": "4978b7ce"
      },
      "source": [
        "# Split data"
      ],
      "id": "4978b7ce"
    },
    {
      "cell_type": "code",
      "execution_count": 11,
      "metadata": {
        "colab": {
          "base_uri": "https://localhost:8080/"
        },
        "id": "7b92d005",
        "outputId": "bd301221-4f0e-4eb2-879a-1f20c56b0a72"
      },
      "outputs": [
        {
          "output_type": "stream",
          "name": "stdout",
          "text": [
            "[167 200  31 128  93 158 165 133 190 139 119  19 107 187  20 122 198 186\n",
            " 193  52 204  71 166 178   4 201  79 197 116 161 172  21 127  53 179  72\n",
            " 206 149  10  42  81  26  11 140  90 150 120  85 183 100  88 143 189  37\n",
            "  50  62 108  77 181  24 175 169  33  23 194]\n",
            "(150, 5) (150, 5) (150, 1)\n"
          ]
        }
      ],
      "source": [
        "import numpy.matlib\n",
        "from sklearn.model_selection import ShuffleSplit, StratifiedShuffleSplit\n",
        "Ns = 1\n",
        "ss = ShuffleSplit(n_splits=Ns, test_size=0.3,random_state =123)\n",
        "for train_index, test_index in ss.split(X):\n",
        "    print(test_index)\n",
        "    X_train, X_test,Y_train,Y_test = X[train_index,:], X[test_index,:],Y[train_index,:], Y[test_index,:]\n",
        "    Y_true_train, Y_true_test = t[train_index].reshape(-1,1), t[test_index].reshape(-1,1)\n",
        "print(X_train.shape, Y_train.shape, Y_true_train.shape)"
      ],
      "id": "7b92d005"
    },
    {
      "cell_type": "code",
      "execution_count": 12,
      "metadata": {
        "id": "3f45d147"
      },
      "outputs": [],
      "source": [
        "# for i in range(Y.shape[1]):\n",
        "#     print('annotator',i+1)\n",
        "   \n",
        "#     unique, counts = np.unique(Y_train[:,i], return_counts=True)\n",
        "#     plt.figure()\n",
        "#     plt.bar(unique, counts)\n",
        "#     unique, counts = np.unique(Y_test[:,i], return_counts=True)\n",
        "#     plt.bar(unique, counts)\n",
        "\n",
        "#     plt.title('Class Frequency for Y_true')\n",
        "#     plt.xlabel('Class')\n",
        "#     plt.ylabel('Frequency')\n"
      ],
      "id": "3f45d147"
    },
    {
      "cell_type": "markdown",
      "metadata": {
        "id": "6c5da01e"
      },
      "source": [
        "# Apply MinMaxScaler"
      ],
      "id": "6c5da01e"
    },
    {
      "cell_type": "code",
      "execution_count": 13,
      "metadata": {
        "id": "f600859c"
      },
      "outputs": [],
      "source": [
        "scaler = MinMaxScaler()\n",
        "scaler.fit(X_train)\n",
        "X_train = scaler.transform(X_train)\n",
        "X_test = scaler.transform(X_test)"
      ],
      "id": "f600859c"
    },
    {
      "cell_type": "markdown",
      "metadata": {
        "id": "714a7a07"
      },
      "source": [
        "# Testing the Class \n"
      ],
      "id": "714a7a07"
    },
    {
      "cell_type": "code",
      "execution_count": 14,
      "metadata": {
        "colab": {
          "base_uri": "https://localhost:8080/"
        },
        "id": "2251089a",
        "outputId": "b9235fd1-bd67-4808-c2fa-3099a7c41493"
      },
      "outputs": [
        {
          "output_type": "stream",
          "name": "stdout",
          "text": [
            "iteration: 0\n",
            "3/3 [==============================] - 0s 7ms/step\n",
            "3/3 [==============================] - 0s 4ms/step\n",
            "Validation aUc: 0.9400\n",
            "iteration: 1\n",
            "3/3 [==============================] - 0s 3ms/step\n",
            "3/3 [==============================] - 0s 4ms/step\n",
            "Validation aUc: 0.9735\n",
            "iteration: 2\n",
            "3/3 [==============================] - 0s 4ms/step\n",
            "3/3 [==============================] - 0s 4ms/step\n",
            "Validation aUc: 0.9460\n",
            "iteration: 3\n",
            "3/3 [==============================] - 0s 5ms/step\n",
            "3/3 [==============================] - 0s 4ms/step\n",
            "Validation aUc: 0.9800\n",
            "iteration: 4\n",
            "3/3 [==============================] - 0s 6ms/step\n",
            "3/3 [==============================] - 0s 3ms/step\n",
            "Validation aUc: 0.9735\n",
            "iteration: 5\n",
            "3/3 [==============================] - 0s 4ms/step\n",
            "3/3 [==============================] - 0s 3ms/step\n",
            "Validation aUc: 0.9200\n",
            "iteration: 6\n",
            "3/3 [==============================] - 0s 4ms/step\n",
            "3/3 [==============================] - 0s 4ms/step\n",
            "Validation aUc: 0.9400\n",
            "iteration: 7\n",
            "3/3 [==============================] - 0s 4ms/step\n",
            "3/3 [==============================] - 0s 5ms/step\n",
            "Validation aUc: 0.9530\n",
            "iteration: 8\n",
            "3/3 [==============================] - 0s 4ms/step\n",
            "3/3 [==============================] - 0s 4ms/step\n",
            "Validation aUc: 0.9735\n",
            "iteration: 9\n",
            "3/3 [==============================] - 0s 4ms/step\n",
            "3/3 [==============================] - 0s 4ms/step\n",
            "Validation aUc: 0.9200\n"
          ]
        }
      ],
      "source": [
        "from sklearn.metrics import classification_report\n",
        "\n",
        "l1 =0.001\n",
        "NUM_RUNS =10\n",
        "ACC = np.zeros(NUM_RUNS)\n",
        "AUC = np.zeros(NUM_RUNS)\n",
        "for i in range(NUM_RUNS): #10\n",
        "    print(\"iteration: \" + str(i))\n",
        "   \n",
        "    MA = Keras_MA_GCCE(epochs=50,batch_size=32,R=5, K=len(np.unique(Y_true_train)), dropout=0.2, learning_rate=0.01,optimizer='Adam', \n",
        "                l1_param=l1,  validation_split=0.30, verbose=0, q=0.01)\n",
        "\n",
        "    MA.fit(X_train, Y_train)\n",
        "    #MA.plot_history()\n",
        "  \n",
        "    #Accuracy\n",
        "    pred_2 = MA.predict(X_test)\n",
        " \n",
        "    report = classification_report( pred_2[:,Y.shape[1]:].argmax(axis=1),Y_true_test.ravel(),output_dict=True)\n",
        "    ACC[i] = report['accuracy']\n",
        "    #AUC\n",
        "    val_AUC_metric = tf.keras.metrics.AUC( from_logits = True)  \n",
        "    val_logits =MA.predict(X_test) # model(X_test, training=False)\n",
        "    # tf.print(y_batch_val)\n",
        "    val_AUC_metric.update_state(Y_true_test, val_logits[:,Y.shape[1]:].argmax(axis=1).astype('float'))\n",
        "\n",
        "    val_AUC = val_AUC_metric.result()\n",
        "    val_AUC_metric.reset_states()\n",
        "    val_AUC = val_AUC.numpy()\n",
        "    print(\"Validation aUc: %.4f\" % (float(val_AUC),))\n",
        "    AUC[i] = val_AUC\n",
        "    \n",
        "  "
      ],
      "id": "2251089a"
    },
    {
      "cell_type": "code",
      "execution_count": 15,
      "metadata": {
        "id": "a7972f6e",
        "colab": {
          "base_uri": "https://localhost:8080/"
        },
        "outputId": "595bdefa-aa90-4428-eff8-bba9f3295e1e"
      },
      "outputs": [
        {
          "output_type": "execute_result",
          "data": {
            "text/plain": [
              "array([0.95384615, 0.96923077, 0.93846154, 0.98461538, 0.96923077,\n",
              "       0.93846154, 0.95384615, 0.95384615, 0.96923077, 0.93846154])"
            ]
          },
          "metadata": {},
          "execution_count": 15
        }
      ],
      "source": [
        "\n",
        "ACC"
      ],
      "id": "a7972f6e"
    },
    {
      "cell_type": "code",
      "execution_count": 16,
      "metadata": {
        "id": "bAgG_knDzvlM",
        "colab": {
          "base_uri": "https://localhost:8080/"
        },
        "outputId": "21be302e-b1b4-49f8-e109-f722647888c4"
      },
      "outputs": [
        {
          "output_type": "execute_result",
          "data": {
            "text/plain": [
              "array([0.94      , 0.97350007, 0.94599998, 0.98000002, 0.97350007,\n",
              "       0.91999996, 0.94      , 0.95300007, 0.97350007, 0.91999996])"
            ]
          },
          "metadata": {},
          "execution_count": 16
        }
      ],
      "source": [
        "\n",
        "AUC"
      ],
      "id": "bAgG_knDzvlM"
    },
    {
      "cell_type": "code",
      "execution_count": 17,
      "metadata": {
        "id": "297b5917",
        "colab": {
          "base_uri": "https://localhost:8080/"
        },
        "outputId": "19382640-6960-443a-c08f-045de57c796d"
      },
      "outputs": [
        {
          "output_type": "stream",
          "name": "stdout",
          "text": [
            "Average Accuracy:  95.69\n",
            "Average std:  1.51\n"
          ]
        }
      ],
      "source": [
        "print('Average Accuracy: ', np.round( ACC.mean(),4)*100) \n",
        "print('Average std: ',np.round(np.std( ACC),4)*100)"
      ],
      "id": "297b5917"
    },
    {
      "cell_type": "code",
      "execution_count": 18,
      "metadata": {
        "id": "IsM5jKAAzx-l",
        "colab": {
          "base_uri": "https://localhost:8080/"
        },
        "outputId": "3e1e9330-d664-4147-c26f-ba6ce3f5b9f6"
      },
      "outputs": [
        {
          "output_type": "stream",
          "name": "stdout",
          "text": [
            "Average AUC:  95.19999999999999\n",
            "Average AUC std:  2.13\n"
          ]
        }
      ],
      "source": [
        "print('Average AUC: ', np.round( AUC.mean(),4)*100) \n",
        "print('Average AUC std: ',np.round(np.std( AUC),4)*100)"
      ],
      "id": "IsM5jKAAzx-l"
    },
    {
      "cell_type": "code",
      "execution_count": 18,
      "metadata": {
        "id": "8UJC9pb7YUyy"
      },
      "outputs": [],
      "source": [],
      "id": "8UJC9pb7YUyy"
    }
  ],
  "metadata": {
    "colab": {
      "provenance": [],
      "include_colab_link": true
    },
    "gpuClass": "standard",
    "kernelspec": {
      "display_name": "Python 3",
      "language": "python",
      "name": "python3"
    },
    "language_info": {
      "codemirror_mode": {
        "name": "ipython",
        "version": 3
      },
      "file_extension": ".py",
      "mimetype": "text/x-python",
      "name": "python",
      "nbconvert_exporter": "python",
      "pygments_lexer": "ipython3",
      "version": "3.7.12"
    },
    "papermill": {
      "default_parameters": {},
      "duration": 3097.445153,
      "end_time": "2022-10-21T10:31:41.407966",
      "environment_variables": {},
      "exception": null,
      "input_path": "__notebook__.ipynb",
      "output_path": "__notebook__.ipynb",
      "parameters": {},
      "start_time": "2022-10-21T09:40:03.962813",
      "version": "2.3.4"
    }
  },
  "nbformat": 4,
  "nbformat_minor": 5
}