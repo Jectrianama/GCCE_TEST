{
  "cells": [
    {
      "cell_type": "markdown",
      "metadata": {
        "id": "view-in-github",
        "colab_type": "text"
      },
      "source": [
        "<a href=\"https://colab.research.google.com/github/Jectrianama/GCCE_TEST/blob/main/GCCE/Fashion_Mnist_gcce_randose.ipynb\" target=\"_parent\"><img src=\"https://colab.research.google.com/assets/colab-badge.svg\" alt=\"Open In Colab\"/></a>"
      ]
    },
    {
      "cell_type": "code",
      "execution_count": 1,
      "metadata": {
        "id": "86321f42"
      },
      "outputs": [],
      "source": [
        "#!pip install tensorflow==2.7.0\n",
        "#!pip install scikeras"
      ],
      "id": "86321f42"
    },
    {
      "cell_type": "markdown",
      "metadata": {
        "id": "13b0308c"
      },
      "source": [
        "# Subclassing for GCCE"
      ],
      "id": "13b0308c"
    },
    {
      "cell_type": "code",
      "execution_count": 2,
      "metadata": {
        "id": "fefce825"
      },
      "outputs": [],
      "source": [
        "# -*- coding: utf-8 -*-\n",
        "import tensorflow as tf\n",
        "import matplotlib.pyplot as plt\n",
        "#from tensorflow.keras.wrappers.scikit_learn import KerasClassifier\n",
        "import tensorflow_probability as tfp\n",
        "from tensorflow.keras import regularizers\n",
        "from sklearn.base import  BaseEstimator, TransformerMixin, ClassifierMixin\n",
        "from sklearn.model_selection import train_test_split\n",
        "tf.keras.backend.clear_session()\n",
        "#tf.random.set_seed(42)\n",
        "import types\n",
        "import tempfile\n",
        "class Keras_MA_GCCE(): #transformer no va\n",
        " #Constructor __init__. Special method: identified by a double underscore at either side of their name\n",
        " #work in the background\n",
        " # initialize data members to the object. lets the class initialize the object’s attributes and serves no other purpose.\n",
        "    def __init__(self,epochs=100,batch_size=30,R=5, K=2, dropout=0.5, learning_rate=1e-3,optimizer='Adam', \n",
        "                  l1_param=0, validation_split=0.3, verbose=1, q = 0.1):\n",
        "        self.epochs=epochs\n",
        "        self.dropout=dropout\n",
        "        self.batch_size = batch_size\n",
        "        self.learning_rate=learning_rate \n",
        "        self.l1_param=l1_param \n",
        "        self.l2_param=l1_param\n",
        "        self.validation_split = validation_split\n",
        "        self.verbose = verbose\n",
        "        self.optimizer = optimizer\n",
        "        self.R=R\n",
        "        self.K=K\n",
        "        self.q = q\n",
        "\n",
        "    \n",
        " \n",
        "    def custom_RCDNN_loss(self, y_true, y_pred):  #ytrue \\in N x R,  ypred \\in N x (R+K) -> PRI->JULI\n",
        "    \n",
        "        #Input ytrue: samples (N) x  annotators (R) \n",
        "        #Input ypred: samples (N) x  annotators+classes (R+K) \n",
        "\n",
        "        #Ground truth estimation samples (N) x  Classes(K)\n",
        "        pred = y_pred[:,self.R:]\n",
        "        pred = tf.clip_by_value(pred, clip_value_min=1e-9, clip_value_max=1-1e-9) #estabilidad numerica de la funcion de costo\n",
        "        # Annotators reliability prediction: samples (N) x  annotators (R)\n",
        "        ann_ = y_pred[:,:self.R]\n",
        "        #Y_true 1-K: samples (N) x  Classes(1-K), annotators (R)\n",
        "        Y_true = tf.one_hot(tf.cast(y_true, dtype=tf.int32), depth=self.K, axis=1)\n",
        "        #Y_pred 1 - K: samples (N) x  Classes(1-K), annotators (R)\n",
        "        Y_hat = tf.repeat(tf.expand_dims(pred,-1), self.R, axis = -1)\n",
        "        #loss computation\n",
        "        p_logreg = tf.math.reduce_prod(tf.math.pow(Y_hat, Y_true), axis=1)\n",
        "        temp1 = ann_*tf.math.log(p_logreg)  \n",
        "        temp2 = (1 - ann_)*tf.math.log(1/self.K)*tf.reduce_sum(Y_true,axis=1)\n",
        "        # temp2 = (tf.ones(tf.shape(ann_)) - ann_)*tf.math.log(1/K)\n",
        "        # print(tf.reduce_mean(Y_true,axis=1).numpy())\n",
        "        return -tf.math.reduce_sum((temp1 + temp2))\n",
        "\n",
        "        \n",
        "    def GCCE_MA_loss(self, y_true, y_pred):\n",
        "        # print(y_true,y_pred)\n",
        "       # q = 0.1\n",
        "        pred = y_pred[:, self.R:]\n",
        "        pred = tf.clip_by_value(pred, clip_value_min=1e-9, clip_value_max=1)\n",
        "        ann_ = y_pred[:, :self.R]\n",
        "        # ann_ = tf.clip_by_value(ann_, clip_value_min=1e-9, clip_value_max=1-1e-9)\n",
        "        Y_true = tf.one_hot(tf.cast(y_true, dtype=tf.int32), depth=self.K, axis=1)\n",
        "        Y_hat = tf.repeat(tf.expand_dims(pred,-1), self.R, axis = -1)\n",
        "\n",
        "        p_gcce = Y_true*(1 - Y_hat**self.q)/self.q\n",
        "        temp1 = ann_*tf.math.reduce_sum(p_gcce, axis=1)\n",
        "\n",
        "        # p_logreg = tf.math.reduce_prod(tf.math.pow(Y_hat, Y_true), axis=1)\n",
        "        # temp1 = ann_*tf.math.log(p_logreg)  \n",
        "        # temp2 = (1 - ann_)*tf.math.log(1/K)*tf.reduce_sum(Y_true,axis=1)\n",
        "        # aux = tf.repeat(tf.reduce_sum(pred*tf.math.log(pred),axis=1,keepdims=True), R, axis = 1)\n",
        "        # tf.print(tf.shape(aux))\n",
        "        # print(tf.shape(aux))\n",
        "        # temp2 = (1 - ann_)*aux*tf.reduce_sum(Y_true,axis=1)\n",
        "        # temp2 = (tf.ones(tf.shape(ann_)) - ann_)*tf.math.log(1/K)\n",
        "        # print(tf.reduce_mean(Y_true,axis=1).numpy())\n",
        "        # Y_true_1 = tf.clip_by_value(Y_true, clip_value_min=1e-9, clip_value_max=1)\n",
        "        # p_logreg_inv = tf.math.reduce_prod(tf.math.pow(Y_true_1, Y_hat), axis=1)\n",
        "        # temp2 = (1 - ann_)*tf.math.log(p_logreg_inv) \n",
        "        temp2 = (1 - ann_)*(1-(1/self.K)**self.q)/self.q*tf.reduce_sum(Y_true,axis=1)\n",
        "        return tf.math.reduce_sum((temp1 + temp2))\n",
        "\n",
        " \n",
        "    def PRI_MA_loss(self, y_true, y_pred): #,  -> PRI\n",
        "        #Input ytrue: samples (N) x  annotators (R) \n",
        "        #Input ypred: samples (N) x  annotators+classes (R+K) \n",
        "        #PRI MA\n",
        "        cce_M = tf.keras.losses.CategoricalCrossentropy(reduction='none',axis=-1)\n",
        "        cce_C = tf.keras.losses.CategoricalCrossentropy(reduction='none',axis=1)\n",
        "\n",
        "      \n",
        "\n",
        "        #N = tf.cast(y_true.shape[0],dtype=tf.int32)\n",
        "        N = tf.shape(y_true)[0]\n",
        "        #Ground truth estimation samples (N) x  Classes(K)\n",
        "        y_pred_tf = y_pred[:,self.R:] \n",
        "        # Annotators reliability prediction: samples (N) x  annotators (R)\n",
        "        lambda_R_tf = y_pred[:,:self.R] #tf.ones(shape=(N,R)) \n",
        "        #Y_true 1 K: samples (N) x  Classes(1-K), annotators (R)\n",
        "        Y_true_1K = tf.one_hot(tf.cast(y_true,dtype=tf.int32),depth=self.K,axis=1)  \n",
        "        #Y_pred 1 - K: samples (N) x  Classes(1-K), annotators (R)\n",
        "        Y_hat = tf.repeat(tf.expand_dims(y_pred_tf,-1), self.R, axis = -1) \n",
        "        #marginal entropy\n",
        "        #cce along the K classes -> ypred_tf\n",
        "        Hm_ = cce_M(y_pred_tf,y_pred_tf)\n",
        "        #cross entropy\n",
        "        #cce along the K classes -> Y_hat\n",
        "        Hc_ = cce_C(Y_true_1K,Y_hat)\n",
        "        #PRI MA computation\n",
        "        LH = tf.linalg.matmul(lambda_R_tf,Hc_,transpose_a=True) # \\Lambda^\\top H_c\n",
        "        temp1 = tf.linalg.trace(LH) #trace(LH)\n",
        "        Hm1L = tf.linalg.matmul(tf.ones(shape=(N,self.R))-lambda_R_tf,tf.ones(shape=(self.R,1)))# 1_N 1_R^\\top - Lambda\n",
        "        Hm_t = tf.reshape(Hm_,shape=(N,1))\n",
        "        temp2 = tf.squeeze(tf.linalg.matmul(Hm_t,Hm1L,transpose_a=True)) # Hm^\\top Hm1L\n",
        "        loss_c = temp1+ temp2 #return loss\n",
        "\n",
        "        return loss_c\n",
        "\n",
        " \n",
        "    def fit(self, X, Y):\n",
        "        #input X numpy array first dimension samples (N)x features (P)\n",
        "        #input Y numpy array vector len = samples (N) x  annotators (R)\n",
        "        P = X.shape[1]\n",
        "        if self.optimizer == \"Adam\":\n",
        "            opt = tf.keras.optimizers.Adam(learning_rate=self.learning_rate, clipnorm=1.0)\n",
        "        elif self.optimizer == \"SGD\":\n",
        "            opt = tf.keras.optimizers.SGD(learning_rate=self.learning_rate, clipnorm=1.0)\n",
        "        else:\n",
        "            opt=self.optimizer\n",
        "\n",
        "        #capa de entrada\n",
        "        input_l = tf.keras.layers.Input(shape=(X_train.shape[1]), name='entrada')\n",
        "        #capas densas\n",
        "        h1 = tf.keras.layers.Dense(200,activation='selu',name='h1',\n",
        "                              kernel_regularizer=tf.keras.regularizers.l1_l2(l1=self.l1_param,l2=self.l2_param))(input_l)#argumento de entrada\n",
        "        h2 = tf.keras.layers.Dense(50,activation='selu',name='h2',\n",
        "                              kernel_regularizer=tf.keras.regularizers.l1_l2(l1=self.l1_param,l2=self.l2_param))(h1)\n",
        "        dout = tf.keras.layers.Dropout(rate=self.dropout)(h2)\n",
        "        output_R = tf.keras.layers.Dense(self.R,activation=\"sigmoid\", \n",
        "                                    kernel_regularizer=tf.keras.regularizers.l1_l2(l1=self.l1_param,l2=self.l2_param), name= 'out_R_GCCE' )(dout)\n",
        " \n",
        "        output_K = tf.keras.layers.Dense(self.K,activation=\"softmax\", \n",
        "                                    kernel_regularizer=tf.keras.regularizers.l1_l2(l1=self.l1_param,l2=self.l2_param), name= 'out_K_GCCE')(dout)\n",
        " \n",
        "        output = tf.keras.layers.concatenate([output_R, output_K])\n",
        "        self.model = tf.keras.Model(inputs= input_l,outputs=output)\n",
        "        self.model.compile(loss=self.GCCE_MA_loss, optimizer=opt)\n",
        " \n",
        "        self.history = self.model.fit(X, Y, epochs=self.epochs, validation_split=self.validation_split,   #\n",
        "                                      batch_size=self.batch_size,verbose=self.verbose)\n",
        " \n",
        "        return self\n",
        " \n",
        "  \n",
        "    \n",
        "    def predict(self, X, *_):\n",
        "       #input X numpy array first dimension samples (N)x features (P)\n",
        "      return  self.model.predict(X) \n",
        " \n",
        " \n",
        "\n",
        "    def fit_predict(self,X,y):\n",
        "        #input X numpy array first dimension samples (N)x features (P)\n",
        "        #input Y numpy array vector len = samples (N) x  annotators (R)\n",
        "        self.fit(X,y)\n",
        "        return self.predict(X)\n",
        "  \n",
        "     #graphics\n",
        "    def plot_history(self):\n",
        "        pd.DataFrame(self.history.history).plot(figsize=(8, 5))\n",
        "        plt.grid(True)\n",
        "        #plt.gca().set_ylim(0, 1)\n",
        "        #save_fig(\"keras_learning_curves_plot\")\n",
        "        plt.show()\n",
        "        return\n",
        "    \n",
        "    def set_params(self, **parameters):\n",
        "        for parameter, value in parameters.items():\n",
        "            setattr(self, parameter, value)\n",
        "\n",
        "        return self\n",
        "    \n",
        "    \n",
        "    \n",
        "    def get_params(self, deep=True):\n",
        "        return { 'l1_param':self.l1_param, 'dropout':self.dropout, 'optimizer':self.optimizer,\n",
        "                'learning_rate':self.learning_rate, 'batch_size':self.batch_size,\n",
        "                'epochs':self.epochs, 'verbose':self.verbose, 'validation_split':self.validation_split,\n",
        "                'R':self.R, 'K':self.K, 'q':self.q\n",
        "                }\n",
        "\n",
        "  \n",
        "        return self\n"
      ],
      "id": "fefce825"
    },
    {
      "cell_type": "markdown",
      "metadata": {
        "id": "5b055b86"
      },
      "source": [
        "# Load Data"
      ],
      "id": "5b055b86"
    },
    {
      "cell_type": "code",
      "execution_count": 3,
      "metadata": {
        "id": "b28bee07"
      },
      "outputs": [],
      "source": [
        "#load data\n",
        "import scipy.io as sio\n",
        "import matplotlib.pyplot as plt\n",
        "import pandas as pd\n",
        "import tensorflow as tf #importar tensorflow\n",
        "from sklearn.model_selection import GridSearchCV\n",
        "from sklearn.preprocessing import StandardScaler,MinMaxScaler\n",
        "import numpy as np\n",
        "database = 'Fashion-Mnist' #['bupa1', 'breast-cancer-wisconsin1','pima-indians-diabetes1', 'ionosphere1', 'tic-tac-toe1', 'iris1', 'wine1', 'segmentation1']\n",
        "\n",
        "\n",
        "# path_ = 'MADatasets/'+ database+ '.mat' \n",
        "# Xdata = sio.loadmat(path_)\n",
        "# Xdata.keys()\n"
      ],
      "id": "b28bee07"
    },
    {
      "cell_type": "code",
      "execution_count": 4,
      "metadata": {
        "id": "Vk53uHwAdyDi",
        "colab": {
          "base_uri": "https://localhost:8080/"
        },
        "outputId": "a66cbe38-f102-4b44-a338-894dcb1e88b8"
      },
      "outputs": [
        {
          "output_type": "stream",
          "name": "stdout",
          "text": [
            "Downloading data from https://storage.googleapis.com/tensorflow/tf-keras-datasets/train-labels-idx1-ubyte.gz\n",
            "29515/29515 [==============================] - 0s 0us/step\n",
            "Downloading data from https://storage.googleapis.com/tensorflow/tf-keras-datasets/train-images-idx3-ubyte.gz\n",
            "26421880/26421880 [==============================] - 2s 0us/step\n",
            "Downloading data from https://storage.googleapis.com/tensorflow/tf-keras-datasets/t10k-labels-idx1-ubyte.gz\n",
            "5148/5148 [==============================] - 0s 0us/step\n",
            "Downloading data from https://storage.googleapis.com/tensorflow/tf-keras-datasets/t10k-images-idx3-ubyte.gz\n",
            "4422102/4422102 [==============================] - 0s 0us/step\n"
          ]
        }
      ],
      "source": [
        "(X, t), _ = tf.keras.datasets.fashion_mnist.load_data()\n",
        "t=t+1\n",
        "X = X.reshape(len(X),-1)"
      ],
      "id": "Vk53uHwAdyDi"
    },
    {
      "cell_type": "markdown",
      "metadata": {
        "id": "d41f9909"
      },
      "source": [
        "# Labels Generation - 1 Cluster, 3 annotators"
      ],
      "id": "d41f9909"
    },
    {
      "cell_type": "code",
      "execution_count": 5,
      "metadata": {
        "id": "921a7097"
      },
      "outputs": [],
      "source": [
        "import random\n",
        "import warnings\n",
        "import numpy as np\n",
        "#import climin\n",
        "from functools import partial\n",
        "import matplotlib.pyplot as plt\n",
        "from sklearn.preprocessing import StandardScaler\n",
        "from sklearn.cluster import KMeans\n",
        "import matplotlib.pyplot as plt\n",
        "from sklearn.manifold import TSNE\n",
        "\n",
        "#Defining the Sigmoid function and Softmax function\n",
        "def Sigmoid(f_r):\n",
        "    lam_r = 1/(1 + np.exp(-f_r))\n",
        "    return lam_r\n",
        "\n",
        "def MAjVot(Y, K):\n",
        "    N,R = Y.shape\n",
        "    Yhat = np.zeros((N,1))\n",
        "    for n in range(N):\n",
        "        votes = np.zeros((K,1))\n",
        "        for r in range(R):\n",
        "            for k in range(K):\n",
        "                if Y[n,r] == k+1:\n",
        "                    votes[k] = votes[k]+1\n",
        "        Yhat[n] = np.argmax(votes) + 1\n",
        "    return Yhat\n",
        "\n",
        "\n",
        "def  MA_Clas_Gen(Xtrain,ytrain,R,NrP):\n",
        "\n",
        "    N = len(ytrain)\n",
        "    K = len(np.unique(ytrain))\n",
        "    Kn = np.unique(ytrain)\n",
        "    aux = 0\n",
        "    A = np.zeros((K,1))\n",
        "    for k in Kn:\n",
        "        A[aux] = (ytrain == k).sum()\n",
        "        aux = aux + 1\n",
        "    per = np.min(A)\n",
        "    if N < 25000:\n",
        "        Xtrain = TSNE(n_components=1,perplexity=per/2).fit_transform(Xtrain)\n",
        "    else:\n",
        "        Xtrain = np.sum(Xtrain,1)\n",
        "    # Xtrain = Xtrain-Xtrain.min()\n",
        "    # Xtrain = Xtrain/Xtrain.max()\n",
        "    #ytrain = y\n",
        "    # scaler = StandardScaler()\n",
        "    # scalerY = scaler.fit(y)\n",
        "    # ytrain = scaler.fit_transform(y)\n",
        "\n",
        "    \n",
        "    #miny = y.min()\n",
        "    #ytrain = y-miny\n",
        "    #maxy = ytrain.max()\n",
        "    #ytrain = ytrain/maxy\n",
        "  \n",
        "    # Xtrain = np.sum(Xtrain, axis=1)\n",
        "    Xtrain = Xtrain - Xtrain.min()\n",
        "    #print(Xtrain.min(), Xtrain.max())\n",
        "    Xtrain = Xtrain/Xtrain.max()\n",
        "    Xtrain = Xtrain.reshape((N,1))\n",
        "    yprueba = np.ones((N,1))\n",
        "    \n",
        "    \n",
        "    u_q = np.empty((Xtrain.shape[0],3))\n",
        "    u_q[:,0,None] = 4.5*np.cos(2*np.pi*Xtrain + 1.5*np.pi) - \\\n",
        "                               3*np.sin(4.3*np.pi*Xtrain + 0.3*np.pi)\n",
        "                    \n",
        "    u_q[:,1,None] = 4.5*np.cos(1.5*np.pi*Xtrain + 0.5*np.pi) + \\\n",
        "                       5*np.sin(3*np.pi*Xtrain + 1.5*np.pi)\n",
        "    \n",
        "    u_q[:,2,None] = 1\n",
        "    \n",
        "    W = []\n",
        "    # q=1\n",
        "    Wq1 = np.array(([[0.4],[0.7],[-0.5],[0],[-0.7]]))\n",
        "    W.append(Wq1)\n",
        "    # q=2\n",
        "    Wq2 = np.array(([[0.4],[-1.0],[-0.1],[-0.8],[1.0]]))\n",
        "    W.append(Wq2)\n",
        "    Wq3 = np.array(([[3.1],[-1.8],[-0.6],[-1.2],[1.0]]))\n",
        "    W.append(Wq3)\n",
        "\n",
        "    \n",
        "    F_r = []\n",
        "    Lam_r = []\n",
        "    for r in range(R):\n",
        "        f_r = np.zeros((Xtrain.shape[0], 1))\n",
        "        # rho_r = np.zeros((Xtrain.shape[0], 1))\n",
        "        for q in range(3):\n",
        "            f_r += W[q][r].T*u_q[:,q,None]\n",
        "        F_r.append(f_r)\n",
        "        lam_r = Sigmoid(f_r)\n",
        "        lam_r[lam_r>0.5] = 1\n",
        "        lam_r[lam_r<=0.5] = 0\n",
        "        Lam_r.append(lam_r)\n",
        "    plt.plot(Xtrain,Lam_r[2],'rx')\n",
        "    plt.show()\n",
        "    seed = 0\n",
        "    np.random.seed(seed)\n",
        "    Ytrain = np.ones((N, R))\n",
        "    for r in range(R):\n",
        "        aux = ytrain.copy()\n",
        "        for n in range(N):\n",
        "            if Lam_r[r][n] == 0:\n",
        "                labels = np.arange(1, K+1)\n",
        "                a = np.where(labels==ytrain[n])\n",
        "                labels = np.delete(labels, a)\n",
        "                idxlabels = np.random.permutation(K-1)\n",
        "                aux[n] = labels[idxlabels[0]]         \n",
        "        Ytrain[:,r] = aux.flatten()\n",
        "        \n",
        "   # Ytrain = (Ytrain*maxy) + miny\n",
        "        \n",
        "    iAnn = np.zeros((N, R), dtype=int) # this indicates if the annotator r labels the nth sample.\n",
        "    Nr = np.ones((R), dtype=int)*int(np.floor(N*NrP))  \n",
        "    for r in range(R):\n",
        "        if r < R-1:\n",
        "            indexR = np.random.permutation(range(N))[:Nr[r]]\n",
        "            iAnn[indexR,r] = 1\n",
        "        else:\n",
        "            iSimm = np.sum(iAnn, axis=1)\n",
        "            idxZero = np.asarray([i for (i, val) in enumerate(iSimm) if val == 0])\n",
        "            Nzeros = idxZero.shape[0]\n",
        "            idx2Choose = np.arange(N)\n",
        "            if Nzeros == 0:\n",
        "                indexR = np.random.permutation(range(N))[:Nr[r]]\n",
        "                iAnn[indexR,r] = 1\n",
        "            else:\n",
        "                idx2Choose = np.delete(idx2Choose, idxZero)\n",
        "                N2chose = idx2Choose.shape[0]\n",
        "                idxNoZero = np.random.permutation(N2chose)[:(Nr[r] - Nzeros)]\n",
        "                idxTot = np.concatenate((idxZero, idx2Choose[idxNoZero]))\n",
        "                iAnn[idxTot,r] = 1\n",
        "    \n",
        "    # Now, we verify that all the samples were labeled at least once\n",
        "    Nr = (np.sum(iAnn,0))\n",
        "    iSimm = np.sum(iAnn, axis=1)\n",
        "    if np.asarray([i for (i, val) in enumerate(iSimm) if val == 0]).sum() == 0:\n",
        "        ValueError(\"all the samples must be labeled at least once\")\n",
        "\n",
        "    # Finally, if iAnn=0 we assign a reference value to indicate a missing value\n",
        "    Vref = -1e-20\n",
        "    for r in range(R):\n",
        "        Ytrain[iAnn[:,r] == 0, r] = Vref \n",
        "\n",
        "    return Ytrain, iAnn, Lam_r\n",
        "\n",
        "\n",
        "def CrossVal(X, pp, Nk):\n",
        "    N = X.shape[0]\n",
        "    Ntr = int(N*pp)\n",
        "    Nte = N - Ntr\n",
        "    idxtr = np.zeros((Ntr,Nk))\n",
        "    idxte = np.zeros((Nte,Nk))\n",
        "    \n",
        "    for i in range(Nk):\n",
        "        index = np.random.permutation(range(N))\n",
        "        idxtr[:,i] = index[:Ntr]\n",
        "        idxte[:,i] = index[Ntr:]\n",
        "        \n",
        "    return idxtr, idxte\n",
        "    \n",
        "    \n",
        "        \n"
      ],
      "id": "921a7097"
    },
    {
      "cell_type": "code",
      "execution_count": 6,
      "metadata": {
        "colab": {
          "base_uri": "https://localhost:8080/",
          "height": 265
        },
        "id": "5bfb3a90",
        "outputId": "140133a5-8dea-4c06-c861-58fce2bbca99"
      },
      "outputs": [
        {
          "output_type": "display_data",
          "data": {
            "text/plain": [
              "<Figure size 432x288 with 1 Axes>"
            ],
            "image/png": "[encoded data removed]"
          },
          "metadata": {
            "needs_background": "light"
          }
        }
      ],
      "source": [
        "Y, iAnn, Lam_r = MA_Clas_Gen(X ,t, R=5, NrP=1)"
      ],
      "id": "5bfb3a90"
    },
    {
      "cell_type": "code",
      "execution_count": 7,
      "metadata": {
        "id": "125deea6"
      },
      "outputs": [],
      "source": [
        "\n",
        "Y = Y - 1\n",
        "t = t - 1\n",
        "#YMA = YMA-1\n"
      ],
      "id": "125deea6"
    },
    {
      "cell_type": "code",
      "execution_count": 8,
      "metadata": {
        "colab": {
          "base_uri": "https://localhost:8080/",
          "height": 1000
        },
        "id": "f665a11b",
        "outputId": "8de7765a-b7b2-41d4-9eab-799ec8a00c98"
      },
      "outputs": [
        {
          "output_type": "stream",
          "name": "stdout",
          "text": [
            "annotator 1\n",
            "              precision    recall  f1-score   support\n",
            "\n",
            "           0       0.84      0.76      0.80      6000\n",
            "           1       0.86      0.99      0.92      6000\n",
            "           2       0.84      0.70      0.76      6000\n",
            "           3       0.86      0.97      0.91      6000\n",
            "           4       0.84      0.61      0.70      6000\n",
            "           5       0.86      1.00      0.92      6000\n",
            "           6       0.84      0.78      0.81      6000\n",
            "           7       0.86      1.00      0.92      6000\n",
            "           8       0.84      0.77      0.81      6000\n",
            "           9       0.86      0.92      0.89      6000\n",
            "\n",
            "    accuracy                           0.85     60000\n",
            "   macro avg       0.85      0.85      0.85     60000\n",
            "weighted avg       0.85      0.85      0.85     60000\n",
            "\n",
            "annotator 2\n",
            "              precision    recall  f1-score   support\n",
            "\n",
            "           0       0.75      0.65      0.70      6000\n",
            "           1       0.79      0.96      0.87      6000\n",
            "           2       0.76      0.70      0.72      6000\n",
            "           3       0.77      0.77      0.77      6000\n",
            "           4       0.75      0.64      0.69      6000\n",
            "           5       0.79      0.99      0.88      6000\n",
            "           6       0.75      0.70      0.73      6000\n",
            "           7       0.80      0.99      0.89      6000\n",
            "           8       0.75      0.62      0.68      6000\n",
            "           9       0.75      0.66      0.70      6000\n",
            "\n",
            "    accuracy                           0.77     60000\n",
            "   macro avg       0.77      0.77      0.76     60000\n",
            "weighted avg       0.77      0.77      0.76     60000\n",
            "\n",
            "annotator 3\n",
            "              precision    recall  f1-score   support\n",
            "\n",
            "           0       0.42      0.47      0.44      6000\n",
            "           1       0.04      0.03      0.03      6000\n",
            "           2       0.47      0.61      0.53      6000\n",
            "           3       0.19      0.15      0.16      6000\n",
            "           4       0.50      0.69      0.58      6000\n",
            "           5       0.25      0.22      0.23      6000\n",
            "           6       0.41      0.47      0.44      6000\n",
            "           7       0.05      0.04      0.04      6000\n",
            "           8       0.42      0.50      0.46      6000\n",
            "           9       0.27      0.24      0.26      6000\n",
            "\n",
            "    accuracy                           0.34     60000\n",
            "   macro avg       0.30      0.34      0.32     60000\n",
            "weighted avg       0.30      0.34      0.32     60000\n",
            "\n",
            "annotator 4\n",
            "              precision    recall  f1-score   support\n",
            "\n",
            "           0       0.57      0.59      0.58      6000\n",
            "           1       0.35      0.23      0.28      6000\n",
            "           2       0.59      0.67      0.63      6000\n",
            "           3       0.44      0.35      0.39      6000\n",
            "           4       0.60      0.75      0.67      6000\n",
            "           5       0.63      0.80      0.70      6000\n",
            "           6       0.56      0.59      0.58      6000\n",
            "           7       0.57      0.63      0.60      6000\n",
            "           8       0.55      0.54      0.54      6000\n",
            "           9       0.40      0.29      0.34      6000\n",
            "\n",
            "    accuracy                           0.54     60000\n",
            "   macro avg       0.53      0.54      0.53     60000\n",
            "weighted avg       0.53      0.54      0.53     60000\n",
            "\n",
            "annotator 5\n",
            "              precision    recall  f1-score   support\n",
            "\n",
            "           0       0.01      0.01      0.01      6000\n",
            "           1       0.00      0.00      0.00      6000\n",
            "           2       0.04      0.04      0.04      6000\n",
            "           3       0.00      0.00      0.00      6000\n",
            "           4       0.01      0.01      0.01      6000\n",
            "           5       0.00      0.00      0.00      6000\n",
            "           6       0.02      0.02      0.02      6000\n",
            "           7       0.00      0.00      0.00      6000\n",
            "           8       0.04      0.04      0.04      6000\n",
            "           9       0.00      0.00      0.00      6000\n",
            "\n",
            "    accuracy                           0.01     60000\n",
            "   macro avg       0.01      0.01      0.01     60000\n",
            "weighted avg       0.01      0.01      0.01     60000\n",
            "\n"
          ]
        },
        {
          "output_type": "display_data",
          "data": {
            "text/plain": [
              "<Figure size 432x288 with 1 Axes>"
            ],
            "image/png": "[encoded data removed]"
          },
          "metadata": {
            "needs_background": "light"
          }
        },
        {
          "output_type": "display_data",
          "data": {
            "text/plain": [
              "<Figure size 432x288 with 1 Axes>"
            ],
            "image/png": "[encoded data removed]"
          },
          "metadata": {
            "needs_background": "light"
          }
        },
        {
          "output_type": "display_data",
          "data": {
            "text/plain": [
              "<Figure size 432x288 with 1 Axes>"
            ],
            "image/png": "[encoded data removed]"
          },
          "metadata": {
            "needs_background": "light"
          }
        },
        {
          "output_type": "display_data",
          "data": {
            "text/plain": [
              "<Figure size 432x288 with 1 Axes>"
            ],
            "image/png": "[encoded data removed]"
          },
          "metadata": {
            "needs_background": "light"
          }
        },
        {
          "output_type": "display_data",
          "data": {
            "text/plain": [
              "<Figure size 432x288 with 1 Axes>"
            ],
            "image/png": "[encoded data removed]"
          },
          "metadata": {
            "needs_background": "light"
          }
        }
      ],
      "source": [
        "from sklearn.metrics import classification_report\n",
        "for i in range(Y.shape[1]):\n",
        "    print('annotator',i+1)\n",
        "    print(classification_report(t,Y[:,i]))\n",
        "    unique, counts = np.unique(Y[:,i], return_counts=True)\n",
        "    plt.figure()\n",
        "    plt.bar(unique, counts)\n",
        "#     unique, counts = np.unique(Y_test[5], return_counts=True)\n",
        "#     plt.bar(unique, counts)\n",
        "\n",
        "    plt.title('Class Frequency for Y_true')\n",
        "    plt.xlabel('Class')\n",
        "    plt.ylabel('Frequency')\n"
      ],
      "id": "f665a11b"
    },
    {
      "cell_type": "code",
      "execution_count": 9,
      "metadata": {
        "id": "5be7ff83"
      },
      "outputs": [],
      "source": [
        "# from sklearn.metrics import classification_report\n",
        "# for i in range(Y.shape[1]):\n",
        "#   for j in range(len(np.unique(clusters.labels_))):\n",
        "#     print('annotator',i+1)\n",
        "#     print('cluster',j+1)\n",
        "#     print(classification_report(t[clusters.labels_==j],Y[clusters.labels_==j,i]))"
      ],
      "id": "5be7ff83"
    },
    {
      "cell_type": "markdown",
      "metadata": {
        "id": "4978b7ce"
      },
      "source": [
        "# Split data"
      ],
      "id": "4978b7ce"
    },
    {
      "cell_type": "code",
      "execution_count": 10,
      "metadata": {
        "colab": {
          "base_uri": "https://localhost:8080/"
        },
        "id": "7b92d005",
        "outputId": "5259ebf2-8d29-4af7-9675-f1fe01ae1e91"
      },
      "outputs": [
        {
          "output_type": "stream",
          "name": "stdout",
          "text": [
            "[29561 26640 24498 ... 18948 24384 48300]\n",
            "(42000, 784) (42000, 5) (42000, 1)\n"
          ]
        }
      ],
      "source": [
        "import numpy.matlib\n",
        "from sklearn.model_selection import ShuffleSplit, StratifiedShuffleSplit\n",
        "Ns = 1\n",
        "ss = ShuffleSplit(n_splits=Ns, test_size=0.3,random_state =123)\n",
        "for train_index, test_index in ss.split(X):\n",
        "    print(test_index)\n",
        "    X_train, X_test,Y_train,Y_test = X[train_index,:], X[test_index,:],Y[train_index,:], Y[test_index,:]\n",
        "    Y_true_train, Y_true_test = t[train_index].reshape(-1,1), t[test_index].reshape(-1,1)\n",
        "print(X_train.shape, Y_train.shape, Y_true_train.shape)"
      ],
      "id": "7b92d005"
    },
    {
      "cell_type": "code",
      "execution_count": 11,
      "metadata": {
        "id": "3f45d147"
      },
      "outputs": [],
      "source": [
        "# for i in range(Y.shape[1]):\n",
        "#     print('annotator',i+1)\n",
        "   \n",
        "#     unique, counts = np.unique(Y_train[:,i], return_counts=True)\n",
        "#     plt.figure()\n",
        "#     plt.bar(unique, counts)\n",
        "#     unique, counts = np.unique(Y_test[:,i], return_counts=True)\n",
        "#     plt.bar(unique, counts)\n",
        "\n",
        "#     plt.title('Class Frequency for Y_true')\n",
        "#     plt.xlabel('Class')\n",
        "#     plt.ylabel('Frequency')\n"
      ],
      "id": "3f45d147"
    },
    {
      "cell_type": "markdown",
      "metadata": {
        "id": "6c5da01e"
      },
      "source": [
        "# Apply MinMaxScaler"
      ],
      "id": "6c5da01e"
    },
    {
      "cell_type": "code",
      "execution_count": 12,
      "metadata": {
        "id": "f600859c"
      },
      "outputs": [],
      "source": [
        "scaler = MinMaxScaler()\n",
        "scaler.fit(X_train)\n",
        "X_train = scaler.transform(X_train)\n",
        "X_test = scaler.transform(X_test)"
      ],
      "id": "f600859c"
    },
    {
      "cell_type": "markdown",
      "metadata": {
        "id": "714a7a07"
      },
      "source": [
        "# Testing the Class \n"
      ],
      "id": "714a7a07"
    },
    {
      "cell_type": "code",
      "execution_count": 13,
      "metadata": {
        "colab": {
          "base_uri": "https://localhost:8080/"
        },
        "id": "2251089a",
        "outputId": "469af3c4-11b1-48e0-b5fa-30ed27462e76"
      },
      "outputs": [
        {
          "output_type": "stream",
          "name": "stdout",
          "text": [
            "iteration: 0\n",
            "563/563 [==============================] - 1s 1ms/step\n",
            "563/563 [==============================] - 1s 2ms/step\n",
            "Validation aUc: 0.8920\n",
            "iteration: 1\n",
            "563/563 [==============================] - 1s 1ms/step\n",
            "563/563 [==============================] - 1s 1ms/step\n",
            "Validation aUc: 0.8953\n",
            "iteration: 2\n",
            "563/563 [==============================] - 1s 1ms/step\n",
            "563/563 [==============================] - 1s 1ms/step\n",
            "Validation aUc: 0.9073\n",
            "iteration: 3\n",
            "563/563 [==============================] - 1s 1ms/step\n",
            "563/563 [==============================] - 1s 1ms/step\n",
            "Validation aUc: 0.8568\n",
            "iteration: 4\n",
            "563/563 [==============================] - 1s 1ms/step\n",
            "563/563 [==============================] - 1s 1ms/step\n",
            "Validation aUc: 0.8936\n",
            "iteration: 5\n",
            "563/563 [==============================] - 1s 1ms/step\n",
            "563/563 [==============================] - 1s 1ms/step\n",
            "Validation aUc: 0.9379\n",
            "iteration: 6\n",
            "563/563 [==============================] - 1s 1ms/step\n",
            "563/563 [==============================] - 1s 1ms/step\n",
            "Validation aUc: 0.7862\n",
            "iteration: 7\n",
            "563/563 [==============================] - 1s 1ms/step\n",
            "563/563 [==============================] - 1s 1ms/step\n",
            "Validation aUc: 0.8946\n",
            "iteration: 8\n",
            "563/563 [==============================] - 1s 1ms/step\n",
            "563/563 [==============================] - 1s 1ms/step\n",
            "Validation aUc: 0.9129\n",
            "iteration: 9\n",
            "563/563 [==============================] - 1s 1ms/step\n",
            "563/563 [==============================] - 1s 1ms/step\n",
            "Validation aUc: 0.8500\n"
          ]
        }
      ],
      "source": [
        "from sklearn.metrics import classification_report\n",
        "\n",
        "l1 =0.0001\n",
        "NUM_RUNS =10\n",
        "ACC = np.zeros(NUM_RUNS)\n",
        "AUC = np.zeros(NUM_RUNS)\n",
        "for i in range(NUM_RUNS): #10\n",
        "    print(\"iteration: \" + str(i))\n",
        "   \n",
        "    MA = Keras_MA_GCCE(epochs=100,batch_size=64,R=5, K=len(np.unique(Y_true_train)), dropout=0.5, learning_rate=0.001,optimizer='Adam', \n",
        "                l1_param=l1,  validation_split=0.30, verbose=0, q=0.01)\n",
        "\n",
        "    MA.fit(X_train, Y_train)\n",
        "    #MA.plot_history()\n",
        "  \n",
        "    #Accuracy\n",
        "    pred_2 = MA.predict(X_test)\n",
        " \n",
        "    report = classification_report( pred_2[:,Y.shape[1]:].argmax(axis=1),Y_true_test.ravel(),output_dict=True)\n",
        "    ACC[i] = report['accuracy']\n",
        "    #AUC\n",
        "    val_AUC_metric = tf.keras.metrics.AUC( from_logits = True)  \n",
        "    val_logits =MA.predict(X_test) # model(X_test, training=False)\n",
        "    # tf.print(y_batch_val)\n",
        "    val_AUC_metric.update_state(Y_true_test, val_logits[:,Y.shape[1]:].argmax(axis=1).astype('float'))\n",
        "\n",
        "    val_AUC = val_AUC_metric.result()\n",
        "    val_AUC_metric.reset_states()\n",
        "    val_AUC = val_AUC.numpy()\n",
        "    print(\"Validation aUc: %.4f\" % (float(val_AUC),))\n",
        "    AUC[i] = val_AUC\n",
        "    \n",
        "  "
      ],
      "id": "2251089a"
    },
    {
      "cell_type": "code",
      "execution_count": 14,
      "metadata": {
        "id": "a7972f6e",
        "colab": {
          "base_uri": "https://localhost:8080/"
        },
        "outputId": "96b955d9-8d0d-4223-c712-565c3c346c13"
      },
      "outputs": [
        {
          "output_type": "execute_result",
          "data": {
            "text/plain": [
              "array([0.87972222, 0.88083333, 0.89127778, 0.88505556, 0.87522222,\n",
              "       0.8815    , 0.87927778, 0.88738889, 0.88611111, 0.88155556])"
            ]
          },
          "metadata": {},
          "execution_count": 14
        }
      ],
      "source": [
        "\n",
        "ACC"
      ],
      "id": "a7972f6e"
    },
    {
      "cell_type": "code",
      "execution_count": 15,
      "metadata": {
        "id": "bAgG_knDzvlM",
        "colab": {
          "base_uri": "https://localhost:8080/"
        },
        "outputId": "45b462e6-24d8-4073-b014-dda3a8cf9df9"
      },
      "outputs": [
        {
          "output_type": "execute_result",
          "data": {
            "text/plain": [
              "array([0.89201981, 0.89534312, 0.90727079, 0.85684615, 0.89359558,\n",
              "       0.93785954, 0.78622538, 0.89455581, 0.91288632, 0.84999692])"
            ]
          },
          "metadata": {},
          "execution_count": 15
        }
      ],
      "source": [
        "\n",
        "AUC"
      ],
      "id": "bAgG_knDzvlM"
    },
    {
      "cell_type": "code",
      "execution_count": 16,
      "metadata": {
        "id": "297b5917",
        "colab": {
          "base_uri": "https://localhost:8080/"
        },
        "outputId": "afdb9d61-d588-40e7-81f1-24a80e710e8b"
      },
      "outputs": [
        {
          "output_type": "stream",
          "name": "stdout",
          "text": [
            "Average Accuracy:  88.28\n",
            "Average std:  0.44\n"
          ]
        }
      ],
      "source": [
        "print('Average Accuracy: ', np.round( ACC.mean(),4)*100) \n",
        "print('Average std: ',np.round(np.std( ACC),4)*100)"
      ],
      "id": "297b5917"
    },
    {
      "cell_type": "code",
      "execution_count": 17,
      "metadata": {
        "id": "IsM5jKAAzx-l",
        "colab": {
          "base_uri": "https://localhost:8080/"
        },
        "outputId": "ee8388cc-c008-46ba-e8a6-ea89ff0b26b3"
      },
      "outputs": [
        {
          "output_type": "stream",
          "name": "stdout",
          "text": [
            "Average Accuracy:  88.27000000000001\n",
            "Average std:  4.01\n"
          ]
        }
      ],
      "source": [
        "print('Average Accuracy: ', np.round( AUC.mean(),4)*100) \n",
        "print('Average std: ',np.round(np.std( AUC),4)*100)"
      ],
      "id": "IsM5jKAAzx-l"
    },
    {
      "cell_type": "code",
      "execution_count": 17,
      "metadata": {
        "id": "8UJC9pb7YUyy"
      },
      "outputs": [],
      "source": [],
      "id": "8UJC9pb7YUyy"
    }
  ],
  "metadata": {
    "colab": {
      "provenance": [],
      "include_colab_link": true
    },
    "gpuClass": "standard",
    "kernelspec": {
      "display_name": "Python 3",
      "language": "python",
      "name": "python3"
    },
    "language_info": {
      "codemirror_mode": {
        "name": "ipython",
        "version": 3
      },
      "file_extension": ".py",
      "mimetype": "text/x-python",
      "name": "python",
      "nbconvert_exporter": "python",
      "pygments_lexer": "ipython3",
      "version": "3.7.12"
    },
    "papermill": {
      "default_parameters": {},
      "duration": 3097.445153,
      "end_time": "2022-10-21T10:31:41.407966",
      "environment_variables": {},
      "exception": null,
      "input_path": "__notebook__.ipynb",
      "output_path": "__notebook__.ipynb",
      "parameters": {},
      "start_time": "2022-10-21T09:40:03.962813",
      "version": "2.3.4"
    },
    "accelerator": "GPU"
  },
  "nbformat": 4,
  "nbformat_minor": 5
}