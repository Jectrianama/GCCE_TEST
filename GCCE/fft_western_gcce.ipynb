{
  "cells": [
    {
      "cell_type": "markdown",
      "metadata": {
        "id": "view-in-github",
        "colab_type": "text"
      },
      "source": [
        "<a href=\"https://colab.research.google.com/github/Jectrianama/GCCE_TEST/blob/main/GCCE/fft_western_gcce.ipynb\" target=\"_parent\"><img src=\"https://colab.research.google.com/assets/colab-badge.svg\" alt=\"Open In Colab\"/></a>"
      ]
    },
    {
      "cell_type": "markdown",
      "id": "80943ca4",
      "metadata": {
        "id": "80943ca4",
        "papermill": {
          "duration": 0.012239,
          "end_time": "2022-10-24T23:56:35.509614",
          "exception": false,
          "start_time": "2022-10-24T23:56:35.497375",
          "status": "completed"
        },
        "tags": []
      },
      "source": [
        "# Multiscale Permutation Entropy using feature relevance analysis for vibration-based condition monitoring\n",
        "\n",
        "## Case Western Reserve Experiments\n",
        "\n",
        "Database link: https://engineering.case.edu/bearingdatacenter\n",
        "\n",
        "Vibration signals were collected according to the following conditions (classes): i) Normal bearing (Nor), fault in the internal train (IR1), fault in the external train (IR2), and fault in the rolling element-ball (BE). Moreover, the failure states were produced with three levels of severity (0.007′′, 0.014′′, and 0.021′′) and three operating speeds (1730, 1750, 1772, and 1797 [rpm]). Each experiment was repeated three times, and the data was collected at 12 kHz for 5 seconds. Each signal was divided into ten sub-signals. \n",
        "\n",
        "Accordingly, $F_s=12k$ [Hz], $N = 1200$, $T = 4096$, $C = 10$."
      ]
    },
    {
      "cell_type": "code",
      "execution_count": 1,
      "id": "ba3a3771",
      "metadata": {
        "execution": {
          "iopub.execute_input": "2022-10-24T23:56:35.533691Z",
          "iopub.status.busy": "2022-10-24T23:56:35.532962Z",
          "iopub.status.idle": "2022-10-24T23:56:43.723815Z",
          "shell.execute_reply": "2022-10-24T23:56:43.722802Z"
        },
        "papermill": {
          "duration": 8.20632,
          "end_time": "2022-10-24T23:56:43.726751",
          "exception": false,
          "start_time": "2022-10-24T23:56:35.520431",
          "status": "completed"
        },
        "tags": [],
        "id": "ba3a3771"
      },
      "outputs": [],
      "source": [
        "# -*- coding: utf-8 -*-\n",
        "import tensorflow as tf\n",
        "import matplotlib.pyplot as plt\n",
        "#from tensorflow.keras.wrappers.scikit_learn import KerasClassifier\n",
        "import tensorflow_probability as tfp\n",
        "from tensorflow.keras import regularizers\n",
        "from sklearn.base import  BaseEstimator, TransformerMixin, ClassifierMixin\n",
        "from sklearn.model_selection import train_test_split\n",
        "tf.keras.backend.clear_session()\n",
        "#tf.random.set_seed(42)\n",
        "import types\n",
        "import tempfile\n",
        "class Keras_MA_GCCE(): #transformer no va\n",
        " #Constructor __init__. Special method: identified by a double underscore at either side of their name\n",
        " #work in the background\n",
        " # initialize data members to the object. lets the class initialize the object’s attributes and serves no other purpose.\n",
        "    def __init__(self,epochs=100,batch_size=30,R=5, K=2, dropout=0.5, learning_rate=1e-3,optimizer='Adam', \n",
        "                  l1_param=0, validation_split=0.3, verbose=1, q = 0.1):\n",
        "        self.epochs=epochs\n",
        "        self.dropout=dropout\n",
        "        self.batch_size = batch_size\n",
        "        self.learning_rate=learning_rate \n",
        "        self.l1_param=l1_param \n",
        "        self.l2_param=l1_param\n",
        "        self.validation_split = validation_split\n",
        "        self.verbose = verbose\n",
        "        self.optimizer = optimizer\n",
        "        self.R=R\n",
        "        self.K=K\n",
        "        self.q = q\n",
        "\n",
        "    \n",
        " \n",
        "    def GCCE_MA_loss(self, y_true, y_pred):\n",
        "        # print(y_true,y_pred)\n",
        "       # q = 0.1\n",
        "        pred = y_pred[:, self.R:]\n",
        "        pred = tf.clip_by_value(pred, clip_value_min=1e-9, clip_value_max=1)\n",
        "        ann_ = y_pred[:, :self.R]\n",
        "        # ann_ = tf.clip_by_value(ann_, clip_value_min=1e-9, clip_value_max=1-1e-9)\n",
        "        Y_true = tf.one_hot(tf.cast(y_true, dtype=tf.int32), depth=self.K, axis=1)\n",
        "        Y_hat = tf.repeat(tf.expand_dims(pred,-1), self.R, axis = -1)\n",
        "\n",
        "        p_gcce = Y_true*(1 - Y_hat**self.q)/self.q\n",
        "        temp1 = ann_*tf.math.reduce_sum(p_gcce, axis=1)\n",
        "\n",
        "        # p_logreg = tf.math.reduce_prod(tf.math.pow(Y_hat, Y_true), axis=1)\n",
        "        # temp1 = ann_*tf.math.log(p_logreg)  \n",
        "        # temp2 = (1 - ann_)*tf.math.log(1/K)*tf.reduce_sum(Y_true,axis=1)\n",
        "        # aux = tf.repeat(tf.reduce_sum(pred*tf.math.log(pred),axis=1,keepdims=True), R, axis = 1)\n",
        "        # tf.print(tf.shape(aux))\n",
        "        # print(tf.shape(aux))\n",
        "        # temp2 = (1 - ann_)*aux*tf.reduce_sum(Y_true,axis=1)\n",
        "        # temp2 = (tf.ones(tf.shape(ann_)) - ann_)*tf.math.log(1/K)\n",
        "        # print(tf.reduce_mean(Y_true,axis=1).numpy())\n",
        "        # Y_true_1 = tf.clip_by_value(Y_true, clip_value_min=1e-9, clip_value_max=1)\n",
        "        # p_logreg_inv = tf.math.reduce_prod(tf.math.pow(Y_true_1, Y_hat), axis=1)\n",
        "        # temp2 = (1 - ann_)*tf.math.log(p_logreg_inv) \n",
        "        temp2 = (1 - ann_)*(1-(1/self.K)**self.q)/self.q*tf.reduce_sum(Y_true,axis=1)\n",
        "        return tf.math.reduce_sum((temp1 + temp2))\n",
        "\n",
        "    def custom_RCDNN_loss(self, y_true, y_pred):  #ytrue \\in N x R,  ypred \\in N x (R+K) -> PRI->JULI\n",
        "    \n",
        "        #Input ytrue: samples (N) x  annotators (R) \n",
        "        #Input ypred: samples (N) x  annotators+classes (R+K) \n",
        "\n",
        "        #Ground truth estimation samples (N) x  Classes(K)\n",
        "        pred = y_pred[:,self.R:]\n",
        "        pred = tf.clip_by_value(pred, clip_value_min=1e-9, clip_value_max=1-1e-9) #estabilidad numerica de la funcion de costo\n",
        "        # Annotators reliability prediction: samples (N) x  annotators (R)\n",
        "        ann_ = y_pred[:,:self.R]\n",
        "        #Y_true 1-K: samples (N) x  Classes(1-K), annotators (R)\n",
        "        Y_true = tf.one_hot(tf.cast(y_true, dtype=tf.int32), depth=self.K, axis=1)\n",
        "        #Y_pred 1 - K: samples (N) x  Classes(1-K), annotators (R)\n",
        "        Y_hat = tf.repeat(tf.expand_dims(pred,-1), self.R, axis = -1)\n",
        "        #loss computation\n",
        "        p_logreg = tf.math.reduce_prod(tf.math.pow(Y_hat, Y_true), axis=1)\n",
        "        temp1 = ann_*tf.math.log(p_logreg)  \n",
        "        temp2 = (1 - ann_)*tf.math.log(1/self.K)*tf.reduce_sum(Y_true,axis=1)\n",
        "        # temp2 = (tf.ones(tf.shape(ann_)) - ann_)*tf.math.log(1/K)\n",
        "        # print(tf.reduce_mean(Y_true,axis=1).numpy())\n",
        "        return -tf.math.reduce_sum((temp1 + temp2))\n",
        "\n",
        "    def PRI_MA_loss(self, y_true, y_pred): #,  -> PRI\n",
        "        #Input ytrue: samples (N) x  annotators (R) \n",
        "        #Input ypred: samples (N) x  annotators+classes (R+K) \n",
        "        #PRI MA\n",
        "        cce_M = tf.keras.losses.CategoricalCrossentropy(reduction='none',axis=-1)\n",
        "        cce_C = tf.keras.losses.CategoricalCrossentropy(reduction='none',axis=1)\n",
        "\n",
        "      \n",
        "\n",
        "        #N = tf.cast(y_true.shape[0],dtype=tf.int32)\n",
        "        N = tf.shape(y_true)[0]\n",
        "        #Ground truth estimation samples (N) x  Classes(K)\n",
        "        y_pred_tf = y_pred[:,self.R:] \n",
        "        # Annotators reliability prediction: samples (N) x  annotators (R)\n",
        "        lambda_R_tf = y_pred[:,:self.R] #tf.ones(shape=(N,R)) \n",
        "        #Y_true 1 K: samples (N) x  Classes(1-K), annotators (R)\n",
        "        Y_true_1K = tf.one_hot(tf.cast(y_true,dtype=tf.int32),depth=self.K,axis=1)  \n",
        "        #Y_pred 1 - K: samples (N) x  Classes(1-K), annotators (R)\n",
        "        Y_hat = tf.repeat(tf.expand_dims(y_pred_tf,-1), self.R, axis = -1) \n",
        "        #marginal entropy\n",
        "        #cce along the K classes -> ypred_tf\n",
        "        Hm_ = cce_M(y_pred_tf,y_pred_tf)\n",
        "        #cross entropy\n",
        "        #cce along the K classes -> Y_hat\n",
        "        Hc_ = cce_C(Y_true_1K,Y_hat)\n",
        "        #PRI MA computation\n",
        "        LH = tf.linalg.matmul(lambda_R_tf,Hc_,transpose_a=True) # \\Lambda^\\top H_c\n",
        "        temp1 = tf.linalg.trace(LH) #trace(LH)\n",
        "        Hm1L = tf.linalg.matmul(tf.ones(shape=(N,self.R))-lambda_R_tf,tf.ones(shape=(self.R,1)))# 1_N 1_R^\\top - Lambda\n",
        "        Hm_t = tf.reshape(Hm_,shape=(N,1))\n",
        "        temp2 = tf.squeeze(tf.linalg.matmul(Hm_t,Hm1L,transpose_a=True)) # Hm^\\top Hm1L\n",
        "        loss_c = temp1+ temp2 #return loss\n",
        "\n",
        "        return loss_c\n",
        "\n",
        " \n",
        "    def fit(self, X, Y):\n",
        "        #input X numpy array first dimension samples (N)x features (P)\n",
        "        #input Y numpy array vector len = samples (N) x  annotators (R)\n",
        "        P = X.shape[1]\n",
        "        if self.optimizer == \"Adam\":\n",
        "            opt = tf.keras.optimizers.Adam(learning_rate=self.learning_rate, clipnorm=1.0)\n",
        "        elif self.optimizer == \"SGD\":\n",
        "            opt = tf.keras.optimizers.SGD(learning_rate=self.learning_rate, clipnorm=1.0)\n",
        "        else:\n",
        "            opt=self.optimizer\n",
        "\n",
        "        #capa de entrada\n",
        "        input_l = tf.keras.layers.Input(shape=(X_train.shape[1]), name='entrada')\n",
        "        #capas densas\n",
        "        h1 = tf.keras.layers.Dense(200,activation='selu',name='h1',\n",
        "                              kernel_regularizer=tf.keras.regularizers.l1_l2(l1=self.l1_param,l2=self.l2_param))(input_l)#argumento de entrada\n",
        "        h2 = tf.keras.layers.Dense(50,activation='selu',name='h2',\n",
        "                              kernel_regularizer=tf.keras.regularizers.l1_l2(l1=self.l1_param,l2=self.l2_param))(h1)\n",
        "        dout = tf.keras.layers.Dropout(rate=self.dropout)(h2)\n",
        "        output_R = tf.keras.layers.Dense(self.R,activation=\"sigmoid\", \n",
        "                                    kernel_regularizer=tf.keras.regularizers.l1_l2(l1=self.l1_param,l2=self.l2_param), name= 'out_R_GCCE' )(dout)\n",
        " \n",
        "        output_K = tf.keras.layers.Dense(self.K,activation=\"softmax\", \n",
        "                                    kernel_regularizer=tf.keras.regularizers.l1_l2(l1=self.l1_param,l2=self.l2_param), name= 'out_K_GCCE')(dout)\n",
        " \n",
        "        output = tf.keras.layers.concatenate([output_R, output_K])\n",
        "        self.model = tf.keras.Model(inputs= input_l,outputs=output)\n",
        "        self.model.compile(loss=self.GCCE_MA_loss, optimizer=opt)\n",
        " \n",
        "        self.history = self.model.fit(X, Y, epochs=self.epochs, validation_split=self.validation_split,   #\n",
        "                                      batch_size=self.batch_size,verbose=self.verbose)\n",
        " \n",
        "        return self\n",
        " \n",
        "  \n",
        "    \n",
        "    def predict(self, X, *_):\n",
        "       #input X numpy array first dimension samples (N)x features (P)\n",
        "      return  self.model.predict(X) \n",
        " \n",
        " \n",
        "\n",
        "    def fit_predict(self,X,y):\n",
        "        #input X numpy array first dimension samples (N)x features (P)\n",
        "        #input Y numpy array vector len = samples (N) x  annotators (R)\n",
        "        self.fit(X,y)\n",
        "        return self.predict(X)\n",
        "  \n",
        "     #graphics\n",
        "    def plot_history(self):\n",
        "        pd.DataFrame(self.history.history).plot(figsize=(8, 5))\n",
        "        plt.grid(True)\n",
        "        #plt.gca().set_ylim(0, 1)\n",
        "        #save_fig(\"keras_learning_curves_plot\")\n",
        "        plt.show()\n",
        "        return\n",
        "    \n",
        "    def set_params(self, **parameters):\n",
        "        for parameter, value in parameters.items():\n",
        "            setattr(self, parameter, value)\n",
        "\n",
        "        return self\n",
        "    \n",
        "    \n",
        "    \n",
        "    def get_params(self, deep=True):\n",
        "        return { 'l1_param':self.l1_param, 'dropout':self.dropout, 'optimizer':self.optimizer,\n",
        "                'learning_rate':self.learning_rate, 'batch_size':self.batch_size,\n",
        "                'epochs':self.epochs, 'verbose':self.verbose, 'validation_split':self.validation_split,\n",
        "                'R':self.R, 'K':self.K, 'q':self.q\n",
        "                }\n",
        "\n",
        "  \n",
        "        return self\n"
      ]
    },
    {
      "cell_type": "code",
      "execution_count": 2,
      "id": "36d7ca57",
      "metadata": {
        "execution": {
          "iopub.execute_input": "2022-10-24T23:56:43.750481Z",
          "iopub.status.busy": "2022-10-24T23:56:43.749813Z",
          "iopub.status.idle": "2022-10-24T23:56:43.956137Z",
          "shell.execute_reply": "2022-10-24T23:56:43.955226Z"
        },
        "papermill": {
          "duration": 0.221398,
          "end_time": "2022-10-24T23:56:43.959042",
          "exception": false,
          "start_time": "2022-10-24T23:56:43.737644",
          "status": "completed"
        },
        "tags": [],
        "id": "36d7ca57"
      },
      "outputs": [],
      "source": [
        "import random\n",
        "import warnings\n",
        "import numpy as np\n",
        "#import climin\n",
        "from functools import partial\n",
        "import matplotlib.pyplot as plt\n",
        "from sklearn.preprocessing import StandardScaler\n",
        "from sklearn.cluster import KMeans\n",
        "import matplotlib.pyplot as plt\n",
        "from sklearn.manifold import TSNE\n",
        "\n",
        "\n",
        "#Defining the Sigmoid function and Softmax function\n",
        "def Sigmoid(f_r):\n",
        "    lam_r = 1/(1 + np.exp(-f_r))\n",
        "    return lam_r\n",
        "\n",
        "def MAjVot(Y, K):\n",
        "    N,R = Y.shape\n",
        "    Yhat = np.zeros((N,1))\n",
        "    for n in range(N):\n",
        "        votes = np.zeros((K,1))\n",
        "        for r in range(R):\n",
        "            for k in range(K):\n",
        "                if Y[n,r] == k+1:\n",
        "                    votes[k] = votes[k]+1\n",
        "        Yhat[n] = np.argmax(votes) + 1\n",
        "    return Yhat\n",
        "\n",
        "\n",
        "def  MA_Clas_Gen(Xtrain,ytrain,R,NrP):\n",
        "\n",
        "    N = len(ytrain)\n",
        "    K = len(np.unique(ytrain))\n",
        "    Kn = np.unique(ytrain)\n",
        "    aux = 0\n",
        "    A = np.zeros((K,1))\n",
        "    for k in Kn:\n",
        "        A[aux] = (ytrain == k).sum()\n",
        "        aux = aux + 1\n",
        "    per = np.min(A)\n",
        "    if N < 25000:\n",
        "        Xtrain = TSNE(n_components=1,perplexity=per/2).fit_transform(Xtrain)\n",
        "    else:\n",
        "        Xtrain = np.sum(Xtrain,1)\n",
        "    # Xtrain = Xtrain-Xtrain.min()\n",
        "    # Xtrain = Xtrain/Xtrain.max()\n",
        "    #ytrain = y\n",
        "    # scaler = StandardScaler()\n",
        "    # scalerY = scaler.fit(y)\n",
        "    # ytrain = scaler.fit_transform(y)\n",
        "\n",
        "    \n",
        "    #miny = y.min()\n",
        "    #ytrain = y-miny\n",
        "    #maxy = ytrain.max()\n",
        "    #ytrain = ytrain/maxy\n",
        "  \n",
        "    # Xtrain = np.sum(Xtrain, axis=1)\n",
        "    Xtrain = Xtrain - Xtrain.min()\n",
        "    #print(Xtrain.min(), Xtrain.max())\n",
        "    Xtrain = Xtrain/Xtrain.max()\n",
        "    Xtrain = Xtrain.reshape((N,1))\n",
        "    yprueba = np.ones((N,1))\n",
        "    \n",
        "    \n",
        "    u_q = np.empty((Xtrain.shape[0],3))\n",
        "    u_q[:,0,None] = 4.5*np.cos(2*np.pi*Xtrain + 1.5*np.pi) - \\\n",
        "                               3*np.sin(4.3*np.pi*Xtrain + 0.3*np.pi)\n",
        "                    \n",
        "    u_q[:,1,None] = 4.5*np.cos(1.5*np.pi*Xtrain + 0.5*np.pi) + \\\n",
        "                       5*np.sin(3*np.pi*Xtrain + 1.5*np.pi)\n",
        "    \n",
        "    u_q[:,2,None] = 1\n",
        "    \n",
        "    W = []\n",
        "    # q=1\n",
        "    Wq1 = np.array(([[0.4],[0.7],[-0.5],[0],[-0.7]]))\n",
        "    W.append(Wq1)\n",
        "    # q=2\n",
        "    Wq2 = np.array(([[0.4],[-1.0],[-0.1],[-0.8],[1.0]]))\n",
        "    W.append(Wq2)\n",
        "    Wq3 = np.array(([[3.1],[-1.8],[-0.6],[-1.2],[1.0]]))\n",
        "    W.append(Wq3)\n",
        "\n",
        "    \n",
        "    F_r = []\n",
        "    Lam_r = []\n",
        "    for r in range(R):\n",
        "        f_r = np.zeros((Xtrain.shape[0], 1))\n",
        "        # rho_r = np.zeros((Xtrain.shape[0], 1))\n",
        "        for q in range(3):\n",
        "            f_r += W[q][r].T*u_q[:,q,None]\n",
        "        F_r.append(f_r)\n",
        "        lam_r = Sigmoid(f_r)\n",
        "        lam_r[lam_r>0.5] = 1\n",
        "        lam_r[lam_r<=0.5] = 0\n",
        "        Lam_r.append(lam_r)\n",
        "    plt.plot(Xtrain,Lam_r[2],'rx')\n",
        "    plt.show()\n",
        "    seed = 0\n",
        "    np.random.seed(seed)\n",
        "    Ytrain = np.ones((N, R))\n",
        "    for r in range(R):\n",
        "        aux = ytrain.copy()\n",
        "        for n in range(N):\n",
        "            if Lam_r[r][n] == 0:\n",
        "                labels = np.arange(1, K+1)\n",
        "                a = np.where(labels==ytrain[n])\n",
        "                labels = np.delete(labels, a)\n",
        "                idxlabels = np.random.permutation(K-1)\n",
        "                aux[n] = labels[idxlabels[0]]         \n",
        "        Ytrain[:,r] = aux.flatten()\n",
        "        \n",
        "   # Ytrain = (Ytrain*maxy) + miny\n",
        "        \n",
        "    iAnn = np.zeros((N, R), dtype=int) # this indicates if the annotator r labels the nth sample.\n",
        "    Nr = np.ones((R), dtype=int)*int(np.floor(N*NrP))  \n",
        "    for r in range(R):\n",
        "        if r < R-1:\n",
        "            indexR = np.random.permutation(range(N))[:Nr[r]]\n",
        "            iAnn[indexR,r] = 1\n",
        "        else:\n",
        "            iSimm = np.sum(iAnn, axis=1)\n",
        "            idxZero = np.asarray([i for (i, val) in enumerate(iSimm) if val == 0])\n",
        "            Nzeros = idxZero.shape[0]\n",
        "            idx2Choose = np.arange(N)\n",
        "            if Nzeros == 0:\n",
        "                indexR = np.random.permutation(range(N))[:Nr[r]]\n",
        "                iAnn[indexR,r] = 1\n",
        "            else:\n",
        "                idx2Choose = np.delete(idx2Choose, idxZero)\n",
        "                N2chose = idx2Choose.shape[0]\n",
        "                idxNoZero = np.random.permutation(N2chose)[:(Nr[r] - Nzeros)]\n",
        "                idxTot = np.concatenate((idxZero, idx2Choose[idxNoZero]))\n",
        "                iAnn[idxTot,r] = 1\n",
        "    \n",
        "    # Now, we verify that all the samples were labeled at least once\n",
        "    Nr = (np.sum(iAnn,0))\n",
        "    iSimm = np.sum(iAnn, axis=1)\n",
        "    if np.asarray([i for (i, val) in enumerate(iSimm) if val == 0]).sum() == 0:\n",
        "        ValueError(\"all the samples must be labeled at least once\")\n",
        "\n",
        "    # Finally, if iAnn=0 we assign a reference value to indicate a missing value\n",
        "    Vref = -1e-20\n",
        "    for r in range(R):\n",
        "        Ytrain[iAnn[:,r] == 0, r] = Vref \n",
        "\n",
        "    return Ytrain, iAnn, Lam_r\n",
        "\n",
        "\n",
        "def CrossVal(X, pp, Nk):\n",
        "    N = X.shape[0]\n",
        "    Ntr = int(N*pp)\n",
        "    Nte = N - Ntr\n",
        "    idxtr = np.zeros((Ntr,Nk))\n",
        "    idxte = np.zeros((Nte,Nk))\n",
        "    \n",
        "    for i in range(Nk):\n",
        "        index = np.random.permutation(range(N))\n",
        "        idxtr[:,i] = index[:Ntr]\n",
        "        idxte[:,i] = index[Ntr:]\n",
        "        \n",
        "    return idxtr, idxte\n",
        "    "
      ]
    },
    {
      "cell_type": "code",
      "execution_count": 3,
      "id": "7868d91e",
      "metadata": {
        "execution": {
          "iopub.execute_input": "2022-10-24T23:56:43.984866Z",
          "iopub.status.busy": "2022-10-24T23:56:43.984098Z",
          "iopub.status.idle": "2022-10-24T23:56:50.485034Z",
          "shell.execute_reply": "2022-10-24T23:56:50.483427Z"
        },
        "id": "7868d91e",
        "outputId": "34ea4449-0326-412e-f777-b47112ad64d0",
        "papermill": {
          "duration": 6.516173,
          "end_time": "2022-10-24T23:56:50.487796",
          "exception": false,
          "start_time": "2022-10-24T23:56:43.971623",
          "status": "completed"
        },
        "tags": [],
        "colab": {
          "base_uri": "https://localhost:8080/"
        }
      },
      "outputs": [
        {
          "output_type": "stream",
          "name": "stdout",
          "text": [
            "--2022-12-18 05:01:44--  https://docs.google.com/uc?export=download&confirm=t&id=1IC11LrPCZIo_Am5eXP2p2tDAlrGTlPjn\n",
            "Resolving docs.google.com (docs.google.com)... 172.217.204.100, 172.217.204.102, 172.217.204.113, ...\n",
            "Connecting to docs.google.com (docs.google.com)|172.217.204.100|:443... connected.\n",
            "HTTP request sent, awaiting response... 303 See Other\n",
            "Location: https://doc-10-0s-docs.googleusercontent.com/docs/securesc/ha0ro937gcuc7l7deffksulhg5h7mbp1/2utt7ibiso3m6746c99bihsk9n1ruauv/1671339675000/09173029842254050324/*/1IC11LrPCZIo_Am5eXP2p2tDAlrGTlPjn?e=download&uuid=93cec38f-8a59-47f4-aa84-d3c4e3a4b5e9 [following]\n",
            "Warning: wildcards not supported in HTTP.\n",
            "--2022-12-18 05:01:44--  https://doc-10-0s-docs.googleusercontent.com/docs/securesc/ha0ro937gcuc7l7deffksulhg5h7mbp1/2utt7ibiso3m6746c99bihsk9n1ruauv/1671339675000/09173029842254050324/*/1IC11LrPCZIo_Am5eXP2p2tDAlrGTlPjn?e=download&uuid=93cec38f-8a59-47f4-aa84-d3c4e3a4b5e9\n",
            "Resolving doc-10-0s-docs.googleusercontent.com (doc-10-0s-docs.googleusercontent.com)... 172.217.203.132, 2607:f8b0:400c:c07::84\n",
            "Connecting to doc-10-0s-docs.googleusercontent.com (doc-10-0s-docs.googleusercontent.com)|172.217.203.132|:443... connected.\n",
            "HTTP request sent, awaiting response... 200 OK\n",
            "Length: 125624679 (120M) [application/zip]\n",
            "Saving to: ‘datos.zip’\n",
            "\n",
            "datos.zip           100%[===================>] 119.80M  84.0MB/s    in 1.4s    \n",
            "\n",
            "2022-12-18 05:01:45 (84.0 MB/s) - ‘datos.zip’ saved [125624679/125624679]\n",
            "\n",
            "Archive:  datos.zip\n",
            "  inflating: Vibra.mat               \n",
            "  inflating: __MACOSX/._Vibra.mat    \n",
            "  inflating: CaractCE.mat            \n",
            "  inflating: __MACOSX/._CaractCE.mat  \n",
            "CaractCE.mat  datos.zip  __MACOSX  sample_data\tVibra.mat\n"
          ]
        }
      ],
      "source": [
        "#data downloaded for google drive\n",
        "FILEID = \"1IC11LrPCZIo_Am5eXP2p2tDAlrGTlPjn\"\n",
        "!wget --load-cookies /tmp/cookies.txt \"https://docs.google.com/uc?export=download&confirm=$(wget --quiet --save-cookies /tmp/cookies.txt --keep-session-cookies --no-check-certificate 'https://docs.google.com/uc?export=download&id='$FILEID -O- | sed -rn 's/.*confirm=([0-9A-Za-z_]+).*/\\1\\n/p')&id=\"$FILEID -O datos.zip && rm -rf /tmp/cookies.txt\n",
        "!unzip -o datos.zip\n",
        "!dir\n",
        "database = 'Western'"
      ]
    },
    {
      "cell_type": "code",
      "execution_count": 4,
      "id": "5583c0ce",
      "metadata": {
        "execution": {
          "iopub.execute_input": "2022-10-24T23:56:50.513309Z",
          "iopub.status.busy": "2022-10-24T23:56:50.512849Z",
          "iopub.status.idle": "2022-10-24T23:56:50.831598Z",
          "shell.execute_reply": "2022-10-24T23:56:50.830547Z"
        },
        "id": "5583c0ce",
        "papermill": {
          "duration": 0.334414,
          "end_time": "2022-10-24T23:56:50.834105",
          "exception": false,
          "start_time": "2022-10-24T23:56:50.499691",
          "status": "completed"
        },
        "tags": []
      },
      "outputs": [],
      "source": [
        "#main libraries and functions\n",
        "import scipy.io as sio\n",
        "from sklearn.decomposition import PCA\n",
        "from sklearn.manifold import TSNE\n",
        "from sklearn.preprocessing import MinMaxScaler, StandardScaler\n",
        "import numpy as np\n",
        "import matplotlib.pyplot as plt\n",
        "from matplotlib.ticker import FormatStrFormatter\n",
        "import warnings\n",
        "#compute centroid index \n",
        "from sklearn.metrics import pairwise_distances\n",
        "import matplotlib\n",
        "\n",
        "warnings.filterwarnings('ignore')\n",
        "\n",
        "\n",
        "def centroid_(X):\n",
        "  mean_X = X.mean(axis=0)#computing mean along samples\n",
        "  D = pairwise_distances(mean_X.reshape(1,-1),X)\n",
        "  return np.argmin(D)#return centroid index\n",
        "\n",
        "\n",
        "#loading data\n",
        "path_ = 'CaractCE.mat'#Case Western Database\n",
        "dicX = sio.loadmat(path_)"
      ]
    },
    {
      "cell_type": "code",
      "execution_count": 5,
      "id": "0bdb906c",
      "metadata": {
        "execution": {
          "iopub.execute_input": "2022-10-24T23:56:50.859125Z",
          "iopub.status.busy": "2022-10-24T23:56:50.858367Z",
          "iopub.status.idle": "2022-10-24T23:56:50.868176Z",
          "shell.execute_reply": "2022-10-24T23:56:50.867130Z"
        },
        "id": "0bdb906c",
        "outputId": "11accf08-8917-4922-b294-1336402e46bb",
        "papermill": {
          "duration": 0.024388,
          "end_time": "2022-10-24T23:56:50.870443",
          "exception": false,
          "start_time": "2022-10-24T23:56:50.846055",
          "status": "completed"
        },
        "tags": [],
        "colab": {
          "base_uri": "https://localhost:8080/"
        }
      },
      "outputs": [
        {
          "output_type": "execute_result",
          "data": {
            "text/plain": [
              "dict_keys(['__header__', '__version__', '__globals__', 'CE', 'E', 'F'])"
            ]
          },
          "metadata": {},
          "execution_count": 5
        }
      ],
      "source": [
        "dicX.keys()\n"
      ]
    },
    {
      "cell_type": "code",
      "execution_count": 6,
      "id": "e282ec25",
      "metadata": {
        "execution": {
          "iopub.execute_input": "2022-10-24T23:56:50.895639Z",
          "iopub.status.busy": "2022-10-24T23:56:50.894786Z",
          "iopub.status.idle": "2022-10-24T23:56:50.901656Z",
          "shell.execute_reply": "2022-10-24T23:56:50.900468Z"
        },
        "id": "e282ec25",
        "outputId": "70f2e1d9-7173-4b38-8ad4-b85ed8c05f28",
        "papermill": {
          "duration": 0.021695,
          "end_time": "2022-10-24T23:56:50.903719",
          "exception": false,
          "start_time": "2022-10-24T23:56:50.882024",
          "status": "completed"
        },
        "tags": [],
        "colab": {
          "base_uri": "https://localhost:8080/"
        }
      },
      "outputs": [
        {
          "output_type": "stream",
          "name": "stdout",
          "text": [
            "Xt shape: (1200, 4000)\n",
            "Time length [s] 0.3333333333333333\n"
          ]
        }
      ],
      "source": [
        "Xt = dicX['F'] #time segments\n",
        "Fs = 12000 #sampling frequency\n",
        "Tl = Xt.shape[1]/Fs\n",
        "print('Xt shape:',Xt.shape)\n",
        "print('Time length [s]', Tl)"
      ]
    },
    {
      "cell_type": "markdown",
      "id": "6407591c",
      "metadata": {
        "id": "6407591c",
        "papermill": {
          "duration": 0.01141,
          "end_time": "2022-10-24T23:56:50.926959",
          "exception": false,
          "start_time": "2022-10-24T23:56:50.915549",
          "status": "completed"
        },
        "tags": []
      },
      "source": [
        "Multiscale permutation entropy was calculated for each time segment, fixing the delay within [xx,xx] and the embedding time within the range [xx,xxx]. See MPEVA.py for details."
      ]
    },
    {
      "cell_type": "markdown",
      "id": "88960cdc",
      "metadata": {
        "id": "88960cdc",
        "papermill": {
          "duration": 0.011322,
          "end_time": "2022-10-24T23:56:50.949798",
          "exception": false,
          "start_time": "2022-10-24T23:56:50.938476",
          "status": "completed"
        },
        "tags": []
      },
      "source": [
        "## Loading MPE features, time segments, and labels"
      ]
    },
    {
      "cell_type": "code",
      "execution_count": 7,
      "id": "8d3a2320",
      "metadata": {
        "execution": {
          "iopub.execute_input": "2022-10-24T23:56:50.975170Z",
          "iopub.status.busy": "2022-10-24T23:56:50.974629Z",
          "iopub.status.idle": "2022-10-24T23:56:50.982861Z",
          "shell.execute_reply": "2022-10-24T23:56:50.981991Z"
        },
        "id": "8d3a2320",
        "outputId": "195e1ad9-919c-410d-8a82-0dfa635f321c",
        "papermill": {
          "duration": 0.024037,
          "end_time": "2022-10-24T23:56:50.985326",
          "exception": false,
          "start_time": "2022-10-24T23:56:50.961289",
          "status": "completed"
        },
        "tags": [],
        "colab": {
          "base_uri": "https://localhost:8080/"
        }
      },
      "outputs": [
        {
          "output_type": "stream",
          "name": "stdout",
          "text": [
            "MPE feature matriz shape: (1200, 125)\n"
          ]
        }
      ],
      "source": [
        "#loading precalculated MPE features\n",
        "X = dicX['CE']\n",
        "print('MPE feature matriz shape:',X.shape)"
      ]
    },
    {
      "cell_type": "code",
      "execution_count": 8,
      "id": "e06bde0f",
      "metadata": {
        "execution": {
          "iopub.execute_input": "2022-10-24T23:56:51.010753Z",
          "iopub.status.busy": "2022-10-24T23:56:51.010362Z",
          "iopub.status.idle": "2022-10-24T23:56:51.247720Z",
          "shell.execute_reply": "2022-10-24T23:56:51.246513Z"
        },
        "id": "e06bde0f",
        "outputId": "51631287-725f-4f9e-fc68-6b5dc4d71400",
        "papermill": {
          "duration": 0.253106,
          "end_time": "2022-10-24T23:56:51.250134",
          "exception": false,
          "start_time": "2022-10-24T23:56:50.997028",
          "status": "completed"
        },
        "tags": [],
        "colab": {
          "base_uri": "https://localhost:8080/",
          "height": 306
        }
      },
      "outputs": [
        {
          "output_type": "display_data",
          "data": {
            "text/plain": [
              "<Figure size 432x288 with 1 Axes>"
            ],
            "image/png": "[encoded data removed]"
          },
          "metadata": {
            "needs_background": "light"
          }
        }
      ],
      "source": [
        "Y = dicX['E']\n",
        "Ytrue = Y[:,2] #target classes\n",
        "\n",
        "labels_ = ['NOR','IR1_0.007´´','IR1_0.014´´','IR1_0.021´´',\n",
        "           'IR2_0.007´´','IR2_0.014´´','IR2_0.021´´',\n",
        "           'BE_0.007´´','BE_0.014´´','BE_0.021´´'\n",
        "           ] #classes name\n",
        "\n",
        "#histogram\n",
        "unique_elements, counts_elements = np.unique(Ytrue, return_counts=True)\n",
        "plt.bar(unique_elements,100*counts_elements/X.shape[0])\n",
        "plt.xticks(unique_elements)\n",
        "plt.ylabel('Samples percentange [%]')\n",
        "plt.gca().set_xticklabels(labels_,rotation=45)\n",
        "plt.show()"
      ]
    },
    {
      "cell_type": "code",
      "execution_count": 9,
      "id": "f052f121",
      "metadata": {
        "execution": {
          "iopub.execute_input": "2022-10-24T23:56:51.275882Z",
          "iopub.status.busy": "2022-10-24T23:56:51.275521Z",
          "iopub.status.idle": "2022-10-24T23:56:51.281597Z",
          "shell.execute_reply": "2022-10-24T23:56:51.280816Z"
        },
        "id": "f052f121",
        "papermill": {
          "duration": 0.021412,
          "end_time": "2022-10-24T23:56:51.283602",
          "exception": false,
          "start_time": "2022-10-24T23:56:51.262190",
          "status": "completed"
        },
        "tags": []
      },
      "outputs": [],
      "source": [
        "#rpm labels\n",
        "nrpm = 30\n",
        "Yrpm_b = np.r_[0*np.ones(nrpm),np.ones(nrpm),2*np.ones(nrpm),3*np.ones(nrpm)]\n",
        "Yrpm_b.shape\n",
        "Yrpm = Yrpm_b\n",
        "for i in range(len(labels_)-1):\n",
        "  Yrpm = np.r_[Yrpm,Yrpm_b]\n",
        "\n"
      ]
    },
    {
      "cell_type": "code",
      "execution_count": 10,
      "id": "bf1de226",
      "metadata": {
        "execution": {
          "iopub.execute_input": "2022-10-24T23:56:51.309512Z",
          "iopub.status.busy": "2022-10-24T23:56:51.308786Z",
          "iopub.status.idle": "2022-10-24T23:56:51.313623Z",
          "shell.execute_reply": "2022-10-24T23:56:51.312589Z"
        },
        "id": "bf1de226",
        "papermill": {
          "duration": 0.020248,
          "end_time": "2022-10-24T23:56:51.315883",
          "exception": false,
          "start_time": "2022-10-24T23:56:51.295635",
          "status": "completed"
        },
        "tags": []
      },
      "outputs": [],
      "source": [
        "Y = np.c_[Y,Yrpm]"
      ]
    },
    {
      "cell_type": "code",
      "execution_count": 11,
      "id": "421e2ec1",
      "metadata": {
        "execution": {
          "iopub.execute_input": "2022-10-24T23:56:51.341473Z",
          "iopub.status.busy": "2022-10-24T23:56:51.341085Z",
          "iopub.status.idle": "2022-10-24T23:56:51.408956Z",
          "shell.execute_reply": "2022-10-24T23:56:51.407861Z"
        },
        "id": "421e2ec1",
        "outputId": "34e7dfb3-1566-44da-a550-3954a320c299",
        "papermill": {
          "duration": 0.083293,
          "end_time": "2022-10-24T23:56:51.411132",
          "exception": false,
          "start_time": "2022-10-24T23:56:51.327839",
          "status": "completed"
        },
        "tags": [],
        "colab": {
          "base_uri": "https://localhost:8080/"
        }
      },
      "outputs": [
        {
          "output_type": "execute_result",
          "data": {
            "text/plain": [
              "['CasaWestern_data.pkl']"
            ]
          },
          "metadata": {},
          "execution_count": 11
        }
      ],
      "source": [
        "import joblib\n",
        "\n",
        "CaseWestern_data = {'Xdata_time' : Xt, 'Fs' : Fs,\n",
        "                    'Xdata_MPE' : X, 'Y_labels' : Y}\n",
        "\n",
        "joblib.dump(CaseWestern_data,\"CasaWestern_data.pkl\")"
      ]
    },
    {
      "cell_type": "code",
      "execution_count": 12,
      "id": "8e535001",
      "metadata": {
        "execution": {
          "iopub.execute_input": "2022-10-24T23:56:51.437211Z",
          "iopub.status.busy": "2022-10-24T23:56:51.436793Z",
          "iopub.status.idle": "2022-10-24T23:56:51.443450Z",
          "shell.execute_reply": "2022-10-24T23:56:51.442445Z"
        },
        "id": "8e535001",
        "outputId": "190b3465-d054-4e5d-829e-fc1f0c3e7f8f",
        "papermill": {
          "duration": 0.022068,
          "end_time": "2022-10-24T23:56:51.445508",
          "exception": false,
          "start_time": "2022-10-24T23:56:51.423440",
          "status": "completed"
        },
        "tags": [],
        "colab": {
          "base_uri": "https://localhost:8080/"
        }
      },
      "outputs": [
        {
          "output_type": "execute_result",
          "data": {
            "text/plain": [
              "(1200, 4)"
            ]
          },
          "metadata": {},
          "execution_count": 12
        }
      ],
      "source": [
        "Y.shape"
      ]
    },
    {
      "cell_type": "code",
      "execution_count": 13,
      "id": "56a6b89f",
      "metadata": {
        "execution": {
          "iopub.execute_input": "2022-10-24T23:56:51.471450Z",
          "iopub.status.busy": "2022-10-24T23:56:51.471066Z",
          "iopub.status.idle": "2022-10-24T23:56:51.478013Z",
          "shell.execute_reply": "2022-10-24T23:56:51.476980Z"
        },
        "id": "56a6b89f",
        "outputId": "c0d0832e-6eec-4eef-df75-97965d0fecd1",
        "papermill": {
          "duration": 0.022594,
          "end_time": "2022-10-24T23:56:51.480193",
          "exception": false,
          "start_time": "2022-10-24T23:56:51.457599",
          "status": "completed"
        },
        "tags": [],
        "colab": {
          "base_uri": "https://localhost:8080/"
        }
      },
      "outputs": [
        {
          "output_type": "execute_result",
          "data": {
            "text/plain": [
              "array([[ 0.,  0.,  1.,  0.],\n",
              "       [ 0.,  0.,  1.,  0.],\n",
              "       [ 0.,  0.,  1.,  0.],\n",
              "       ...,\n",
              "       [ 1.,  3., 10.,  3.],\n",
              "       [ 1.,  3., 10.,  3.],\n",
              "       [ 1.,  3., 10.,  3.]])"
            ]
          },
          "metadata": {},
          "execution_count": 13
        }
      ],
      "source": [
        "Y"
      ]
    },
    {
      "cell_type": "markdown",
      "id": "983885a4",
      "metadata": {
        "id": "983885a4",
        "papermill": {
          "duration": 0.012068,
          "end_time": "2022-10-24T23:56:51.504767",
          "exception": false,
          "start_time": "2022-10-24T23:56:51.492699",
          "status": "completed"
        },
        "tags": []
      },
      "source": [
        "# Interpretability results"
      ]
    },
    {
      "cell_type": "code",
      "execution_count": 14,
      "id": "a27a9d10",
      "metadata": {
        "execution": {
          "iopub.execute_input": "2022-10-24T23:56:51.531077Z",
          "iopub.status.busy": "2022-10-24T23:56:51.530656Z",
          "iopub.status.idle": "2022-10-24T23:56:51.536752Z",
          "shell.execute_reply": "2022-10-24T23:56:51.535747Z"
        },
        "id": "a27a9d10",
        "outputId": "f708f0fb-a0aa-4eaa-c09e-c3d01ebc1e64",
        "papermill": {
          "duration": 0.021893,
          "end_time": "2022-10-24T23:56:51.538928",
          "exception": false,
          "start_time": "2022-10-24T23:56:51.517035",
          "status": "completed"
        },
        "tags": [],
        "colab": {
          "base_uri": "https://localhost:8080/"
        }
      },
      "outputs": [
        {
          "output_type": "execute_result",
          "data": {
            "text/plain": [
              "(1200, 4000)"
            ]
          },
          "metadata": {},
          "execution_count": 14
        }
      ],
      "source": [
        "Xt.shape"
      ]
    },
    {
      "cell_type": "code",
      "execution_count": 15,
      "id": "6af6ba55",
      "metadata": {
        "execution": {
          "iopub.execute_input": "2022-10-24T23:56:51.565568Z",
          "iopub.status.busy": "2022-10-24T23:56:51.564796Z",
          "iopub.status.idle": "2022-10-24T23:57:01.299041Z",
          "shell.execute_reply": "2022-10-24T23:57:01.298039Z"
        },
        "id": "6af6ba55",
        "outputId": "105c9dc2-6d3a-4b29-bfb3-6f941ea508c8",
        "papermill": {
          "duration": 9.750548,
          "end_time": "2022-10-24T23:57:01.301837",
          "exception": false,
          "start_time": "2022-10-24T23:56:51.551289",
          "status": "completed"
        },
        "tags": [],
        "colab": {
          "base_uri": "https://localhost:8080/",
          "height": 513
        }
      },
      "outputs": [
        {
          "output_type": "display_data",
          "data": {
            "text/plain": [
              "<Figure size 1152x576 with 17 Axes>"
            ],
            "image/png": "[encoded data removed]"
          },
          "metadata": {
            "needs_background": "light"
          }
        }
      ],
      "source": [
        "#scatter plots\n",
        "scar = StandardScaler()\n",
        "sca = MinMaxScaler()\n",
        "red = TSNE(perplexity = 10,n_components=2,random_state=123)\n",
        "vt = np.arange(0,Tl,1/Fs)\n",
        "Ytrue_f = Y[:,1] # labels = [Normal, Internal, External, Ball]\n",
        "labels_f = ['NOR', 'IR1', 'IR2', 'BE']\n",
        "#scatter along fault lables\n",
        "fig, axs = plt.subplots(len(labels_f),4,figsize=(16, 8))\n",
        "j=0\n",
        "vf = np.fft.rfftfreq(Xt.shape[1],1/Fs) #freq vector\n",
        "Xw = 20*np.log10(abs(np.fft.rfft(Xt))) # FFT\n",
        "\n",
        "marker_s = ['2','v','x','*'] # RPM1, RPM2, RPM3, RPM4 as marker changes\n",
        "\n",
        "for i in np.unique(Ytrue_f):\n",
        "  X_ = Xt[Ytrue_f==i]\n",
        "  Xw_ = Xw[Ytrue_f==i]\n",
        "  XE_ = X[Ytrue_f==i]\n",
        "  Z_ = scar.fit_transform(red.fit_transform(sca.fit_transform(Xw_)))\n",
        "  Z_e = scar.fit_transform(red.fit_transform(sca.fit_transform(XE_)))\n",
        "   \n",
        "  #identify centroid RPM1 \n",
        "  ind = centroid_(Z_[Yrpm[Ytrue_f==i] == 0])\n",
        "  #time plots\n",
        "  axs[j,0].plot(vt,X_[ind])\n",
        "  axs[j,0].set_ylim([-2.3,2.3])\n",
        "  axs[j,0].yaxis.set_major_formatter(FormatStrFormatter('%.2f'))\n",
        "  axs[j,0].set_ylabel(labels_f[j]+' \\n Amp. [V]')\n",
        "  if j!=len(labels_f)-1: axs[j,0].set_xticklabels([])\n",
        "\n",
        "  #frequency plots\n",
        "  axs[j,1].plot(vf,Xw_[ind])\n",
        "  axs[j,1].set_ylim([-45,55])\n",
        "  axs[j,1].yaxis.set_major_formatter(FormatStrFormatter('%.2f'))\n",
        "  axs[j,1].set_ylabel('dBV')\n",
        "  if j!=len(labels_f)-1: axs[j,1].set_xticklabels([])\n",
        "\n",
        "  #scatter plots\n",
        "  cc = Ytrue[Ytrue_f==i]\n",
        "  #FFT-based features scatter plot\n",
        "  for ii in np.unique(Yrpm): \n",
        "      ind_ = Yrpm[Ytrue_f==i] == ii\n",
        "      im = axs[j,2].scatter(Z_[ind_,0],Z_[ind_,1],c=cc[ind_],marker=marker_s[int(ii)])\n",
        "      #axs[j,2].scatter(Z_[ind,0],Z_[ind,1],c='r',marker='v')\n",
        "      axs[j,2].set_xticklabels([])\n",
        "      axs[j,2].set_yticklabels([])\n",
        "\n",
        "      #MPE-based features scatter plot\n",
        "      im = axs[j,3].scatter(Z_e[ind_,0],Z_e[ind_,1],c=cc[ind_],marker=marker_s[int(ii)])\n",
        "      #axs[j,3].scatter(Z_e[ind,0],Z_e[ind,1],c='r',marker='v')\n",
        "      axs[j,3].set_xticklabels([])\n",
        "      axs[j,3].set_yticklabels([])\n",
        "  j+=1\n",
        "\n",
        "cax = fig.add_axes([0.925, 0.15, 0.01, 0.7])\n",
        "norm = matplotlib.colors.Normalize(vmin=0,vmax=2)\n",
        "sm = plt.cm.ScalarMappable(cmap=None, norm=norm)\n",
        "sm.set_array([])\n",
        "cbar = plt.colorbar(sm,cax=cax,ticks=[0, 1, 2])\n",
        "cbar.ax.set_yticklabels(['0.007´´', '0.014´´', '0.021´´'])\n",
        "\n",
        "axs[-1,0].set_xlabel('time [s]')\n",
        "axs[-1,1].set_xlabel('Frequency [Hz]')  \n",
        "axs[0,0].set_title('Vibration signal')\n",
        "axs[0,1].set_title('FFT')\n",
        "axs[0,2].set_title('tSNE from FFT')\n",
        "axs[0,3].set_title('tSNE from MPE')\n",
        "\n",
        "\n",
        "fig.subplots_adjust(wspace=0.4, hspace=0.25)\n",
        "plt.show()\n",
        "\n"
      ]
    },
    {
      "cell_type": "code",
      "execution_count": 16,
      "id": "9d63dd87",
      "metadata": {
        "execution": {
          "iopub.execute_input": "2022-10-24T23:57:01.333987Z",
          "iopub.status.busy": "2022-10-24T23:57:01.332965Z",
          "iopub.status.idle": "2022-10-24T23:57:01.337214Z",
          "shell.execute_reply": "2022-10-24T23:57:01.336341Z"
        },
        "id": "9d63dd87",
        "papermill": {
          "duration": 0.022102,
          "end_time": "2022-10-24T23:57:01.339222",
          "exception": false,
          "start_time": "2022-10-24T23:57:01.317120",
          "status": "completed"
        },
        "tags": []
      },
      "outputs": [],
      "source": [
        "#X.shape"
      ]
    },
    {
      "cell_type": "code",
      "execution_count": 17,
      "id": "c8d6fd55",
      "metadata": {
        "execution": {
          "iopub.execute_input": "2022-10-24T23:57:01.370743Z",
          "iopub.status.busy": "2022-10-24T23:57:01.369664Z",
          "iopub.status.idle": "2022-10-24T23:57:01.376944Z",
          "shell.execute_reply": "2022-10-24T23:57:01.375756Z"
        },
        "papermill": {
          "duration": 0.025163,
          "end_time": "2022-10-24T23:57:01.379072",
          "exception": false,
          "start_time": "2022-10-24T23:57:01.353909",
          "status": "completed"
        },
        "tags": [],
        "colab": {
          "base_uri": "https://localhost:8080/"
        },
        "id": "c8d6fd55",
        "outputId": "31bff151-0ba1-43ef-b090-5df7002a480e"
      },
      "outputs": [
        {
          "output_type": "execute_result",
          "data": {
            "text/plain": [
              "1"
            ]
          },
          "metadata": {},
          "execution_count": 17
        }
      ],
      "source": [
        "Ytrue.min()\n",
        "#X = Xw\n"
      ]
    },
    {
      "cell_type": "code",
      "execution_count": 18,
      "id": "fd9f1cf8",
      "metadata": {
        "execution": {
          "iopub.execute_input": "2022-10-24T23:57:01.410876Z",
          "iopub.status.busy": "2022-10-24T23:57:01.410217Z",
          "iopub.status.idle": "2022-10-24T23:57:01.416808Z",
          "shell.execute_reply": "2022-10-24T23:57:01.415978Z"
        },
        "papermill": {
          "duration": 0.025179,
          "end_time": "2022-10-24T23:57:01.419078",
          "exception": false,
          "start_time": "2022-10-24T23:57:01.393899",
          "status": "completed"
        },
        "tags": [],
        "colab": {
          "base_uri": "https://localhost:8080/"
        },
        "id": "fd9f1cf8",
        "outputId": "a64a22df-241c-4067-a06f-86f0e4c76606"
      },
      "outputs": [
        {
          "output_type": "execute_result",
          "data": {
            "text/plain": [
              "(1200, 125)"
            ]
          },
          "metadata": {},
          "execution_count": 18
        }
      ],
      "source": [
        "X.shape"
      ]
    },
    {
      "cell_type": "code",
      "execution_count": 19,
      "id": "16a86b06",
      "metadata": {
        "execution": {
          "iopub.execute_input": "2022-10-24T23:57:01.450267Z",
          "iopub.status.busy": "2022-10-24T23:57:01.449852Z",
          "iopub.status.idle": "2022-10-24T23:57:06.170672Z",
          "shell.execute_reply": "2022-10-24T23:57:06.169408Z"
        },
        "papermill": {
          "duration": 4.739411,
          "end_time": "2022-10-24T23:57:06.173213",
          "exception": false,
          "start_time": "2022-10-24T23:57:01.433802",
          "status": "completed"
        },
        "tags": [],
        "colab": {
          "base_uri": "https://localhost:8080/",
          "height": 265
        },
        "id": "16a86b06",
        "outputId": "7cfc3219-a7fa-48af-9377-0f9523bd01e1"
      },
      "outputs": [
        {
          "output_type": "display_data",
          "data": {
            "text/plain": [
              "<Figure size 432x288 with 1 Axes>"
            ],
            "image/png": "[encoded data removed]"
          },
          "metadata": {
            "needs_background": "light"
          }
        }
      ],
      "source": [
        "Y, iAnn, Lam_r = MA_Clas_Gen(X ,Ytrue, R=5, NrP=1)"
      ]
    },
    {
      "cell_type": "code",
      "execution_count": 20,
      "id": "e645cea3",
      "metadata": {
        "execution": {
          "iopub.execute_input": "2022-10-24T23:57:06.205685Z",
          "iopub.status.busy": "2022-10-24T23:57:06.204909Z",
          "iopub.status.idle": "2022-10-24T23:57:06.210228Z",
          "shell.execute_reply": "2022-10-24T23:57:06.209172Z"
        },
        "papermill": {
          "duration": 0.0239,
          "end_time": "2022-10-24T23:57:06.212419",
          "exception": false,
          "start_time": "2022-10-24T23:57:06.188519",
          "status": "completed"
        },
        "tags": [],
        "id": "e645cea3"
      },
      "outputs": [],
      "source": [
        "Y = Y - 1\n",
        "t = Ytrue- 1"
      ]
    },
    {
      "cell_type": "code",
      "execution_count": 21,
      "id": "5c151ed5",
      "metadata": {
        "execution": {
          "iopub.execute_input": "2022-10-24T23:57:06.244334Z",
          "iopub.status.busy": "2022-10-24T23:57:06.243891Z",
          "iopub.status.idle": "2022-10-24T23:57:07.236149Z",
          "shell.execute_reply": "2022-10-24T23:57:07.235097Z"
        },
        "papermill": {
          "duration": 1.010693,
          "end_time": "2022-10-24T23:57:07.238251",
          "exception": false,
          "start_time": "2022-10-24T23:57:06.227558",
          "status": "completed"
        },
        "tags": [],
        "colab": {
          "base_uri": "https://localhost:8080/",
          "height": 1000
        },
        "id": "5c151ed5",
        "outputId": "1b38dac5-1ae0-48e0-a81e-a346a0cb2951"
      },
      "outputs": [
        {
          "output_type": "stream",
          "name": "stdout",
          "text": [
            "annotator 1\n",
            "              precision    recall  f1-score   support\n",
            "\n",
            "           0       0.81      1.00      0.90       120\n",
            "           1       0.83      1.00      0.91       120\n",
            "           2       0.61      0.21      0.31       120\n",
            "           3       0.85      0.90      0.87       120\n",
            "           4       0.50      0.12      0.19       120\n",
            "           5       0.82      0.99      0.89       120\n",
            "           6       0.87      0.97      0.92       120\n",
            "           7       0.80      1.00      0.89       120\n",
            "           8       0.84      1.00      0.91       120\n",
            "           9       0.86      1.00      0.93       120\n",
            "\n",
            "    accuracy                           0.82      1200\n",
            "   macro avg       0.78      0.82      0.77      1200\n",
            "weighted avg       0.78      0.82      0.77      1200\n",
            "\n",
            "annotator 2\n",
            "              precision    recall  f1-score   support\n",
            "\n",
            "           0       0.00      0.00      0.00       120\n",
            "           1       0.71      1.00      0.83       120\n",
            "           2       0.68      0.84      0.75       120\n",
            "           3       0.70      0.99      0.82       120\n",
            "           4       0.57      0.43      0.49       120\n",
            "           5       0.03      0.01      0.01       120\n",
            "           6       0.75      1.00      0.85       120\n",
            "           7       0.73      1.00      0.85       120\n",
            "           8       0.00      0.00      0.00       120\n",
            "           9       0.66      1.00      0.79       120\n",
            "\n",
            "    accuracy                           0.63      1200\n",
            "   macro avg       0.48      0.63      0.54      1200\n",
            "weighted avg       0.48      0.63      0.54      1200\n",
            "\n",
            "annotator 3\n",
            "              precision    recall  f1-score   support\n",
            "\n",
            "           0       0.66      0.86      0.75       120\n",
            "           1       0.00      0.00      0.00       120\n",
            "           2       0.68      0.95      0.79       120\n",
            "           3       0.30      0.11      0.16       120\n",
            "           4       0.72      1.00      0.84       120\n",
            "           5       0.75      1.00      0.86       120\n",
            "           6       0.69      1.00      0.81       120\n",
            "           7       0.71      1.00      0.83       120\n",
            "           8       0.55      0.39      0.46       120\n",
            "           9       0.00      0.00      0.00       120\n",
            "\n",
            "    accuracy                           0.63      1200\n",
            "   macro avg       0.51      0.63      0.55      1200\n",
            "weighted avg       0.51      0.63      0.55      1200\n",
            "\n",
            "annotator 4\n",
            "              precision    recall  f1-score   support\n",
            "\n",
            "           0       0.00      0.00      0.00       120\n",
            "           1       0.00      0.00      0.00       120\n",
            "           2       0.66      0.93      0.77       120\n",
            "           3       0.22      0.11      0.15       120\n",
            "           4       0.65      1.00      0.79       120\n",
            "           5       0.37      0.25      0.30       120\n",
            "           6       0.72      1.00      0.84       120\n",
            "           7       0.68      1.00      0.81       120\n",
            "           8       0.57      0.53      0.55       120\n",
            "           9       0.68      1.00      0.81       120\n",
            "\n",
            "    accuracy                           0.58      1200\n",
            "   macro avg       0.46      0.58      0.50      1200\n",
            "weighted avg       0.46      0.58      0.50      1200\n",
            "\n",
            "annotator 5\n",
            "              precision    recall  f1-score   support\n",
            "\n",
            "           0       0.52      1.00      0.69       120\n",
            "           1       0.00      0.00      0.00       120\n",
            "           2       0.07      0.06      0.06       120\n",
            "           3       0.00      0.00      0.00       120\n",
            "           4       0.00      0.00      0.00       120\n",
            "           5       0.56      0.84      0.67       120\n",
            "           6       0.00      0.00      0.00       120\n",
            "           7       0.00      0.00      0.00       120\n",
            "           8       0.00      0.00      0.00       120\n",
            "           9       0.00      0.00      0.00       120\n",
            "\n",
            "    accuracy                           0.19      1200\n",
            "   macro avg       0.11      0.19      0.14      1200\n",
            "weighted avg       0.11      0.19      0.14      1200\n",
            "\n"
          ]
        },
        {
          "output_type": "display_data",
          "data": {
            "text/plain": [
              "<Figure size 432x288 with 1 Axes>"
            ],
            "image/png": "[encoded data removed]"
          },
          "metadata": {
            "needs_background": "light"
          }
        },
        {
          "output_type": "display_data",
          "data": {
            "text/plain": [
              "<Figure size 432x288 with 1 Axes>"
            ],
            "image/png": "[encoded data removed]"
          },
          "metadata": {
            "needs_background": "light"
          }
        },
        {
          "output_type": "display_data",
          "data": {
            "text/plain": [
              "<Figure size 432x288 with 1 Axes>"
            ],
            "image/png": "[encoded data removed]"
          },
          "metadata": {
            "needs_background": "light"
          }
        },
        {
          "output_type": "display_data",
          "data": {
            "text/plain": [
              "<Figure size 432x288 with 1 Axes>"
            ],
            "image/png": "[encoded data removed]"
          },
          "metadata": {
            "needs_background": "light"
          }
        },
        {
          "output_type": "display_data",
          "data": {
            "text/plain": [
              "<Figure size 432x288 with 1 Axes>"
            ],
            "image/png": "[encoded data removed]"
          },
          "metadata": {
            "needs_background": "light"
          }
        }
      ],
      "source": [
        "import pandas as pd\n",
        "from sklearn.metrics import classification_report\n",
        "for i in range(Y.shape[1]):\n",
        "    print('annotator',i+1)\n",
        "    print(classification_report(t,Y[:,i]))\n",
        "    unique, counts = np.unique(Y[:,i], return_counts=True)\n",
        "    plt.figure()\n",
        "    plt.bar(unique, counts)\n",
        "#     unique, counts = np.unique(Y_test[5], return_counts=True)\n",
        "#     plt.bar(unique, counts)\n",
        "\n",
        "    plt.title('Class Frequency for Y_true')\n",
        "    plt.xlabel('Class')\n",
        "    plt.ylabel('Frequency')\n"
      ]
    },
    {
      "cell_type": "code",
      "execution_count": 22,
      "id": "7b0b5089",
      "metadata": {
        "execution": {
          "iopub.execute_input": "2022-10-24T23:57:07.273091Z",
          "iopub.status.busy": "2022-10-24T23:57:07.272375Z",
          "iopub.status.idle": "2022-10-24T23:57:07.286512Z",
          "shell.execute_reply": "2022-10-24T23:57:07.285004Z"
        },
        "papermill": {
          "duration": 0.034002,
          "end_time": "2022-10-24T23:57:07.288773",
          "exception": false,
          "start_time": "2022-10-24T23:57:07.254771",
          "status": "completed"
        },
        "tags": [],
        "colab": {
          "base_uri": "https://localhost:8080/"
        },
        "id": "7b0b5089",
        "outputId": "54b52ee4-8a88-4c93-a07a-5a38e2b7e6ee"
      },
      "outputs": [
        {
          "output_type": "stream",
          "name": "stdout",
          "text": [
            "[ 156  920  971  897   35  599  567  553  891 1010  524  440 1141  579\n",
            "  138  566 1186  172  961  610  662  186  134  418  427  245  571  226\n",
            "  348 1071  637  203 1136  210  701  879  314  448 1088  406  375 1011\n",
            "  972  694  167  654 1069  678  982 1026  591 1195 1105  690  528  800\n",
            "  987  568  935   42  476  693  758  486   97  299  746  305    5  490\n",
            "  336  310  600  968  511  565   72  587  702  656   18   13  774  807\n",
            "  960  895  802 1117 1044  279  664   67  512  921  136 1157  150 1085\n",
            "   69  923  384 1106  964  456  825  204  318  196  362  887  417   85\n",
            " 1051  278  209  499 1019  154  779  844  351  739   98  560  462   86\n",
            "   45  590  304  228  898  332  103  882  688  429  178  319 1043  822\n",
            " 1182  294  188  943  229 1114   68  177  621  677 1123  507  376 1007\n",
            "  787  810  141  756 1033  163  120  240  976  252   95  529  352  431\n",
            "  617  309  437  870  161  902  772  627  681  266  861  206  909  725\n",
            "  221 1130 1116 1148  801  768  948  580  754  805 1119  373  973  594\n",
            "  839   84 1055  409 1135 1045  182  624  710  307  249  714  603  586\n",
            "  184  536  119  444  280 1154 1151  326  260  989  316  856 1100  733\n",
            " 1178  502 1198  198  145  685  812  674  453   31  811 1015  250  282\n",
            "  651   43 1048  738   15  777  171  933  543 1066  129  200  367 1013\n",
            " 1075  875  263 1072   50  723  986 1073  251  306  394  831  611  883\n",
            "  396  558  643  776  541 1171  244  372  109 1173  303  657    9  842\n",
            "  683  157  147   65  190  243  289  820    7  112  789  131 1127  164\n",
            " 1074  794  613  235  684  452  682  906  124  647  876  917  176  916\n",
            " 1050   90  905   57   40 1101  292  267  965  646 1125  421 1056  130\n",
            "  110  670   33 1124  966  668  208  114 1077 1143  706  399  212   52\n",
            " 1115  904 1049   41  300  907  614  764  705  854  261  598  616  663\n",
            "  491  388  732  727  274  356  869  317 1145  497]\n",
            "(840, 125) (840, 5) (840, 1)\n"
          ]
        }
      ],
      "source": [
        "import numpy.matlib\n",
        "from sklearn.model_selection import ShuffleSplit, StratifiedShuffleSplit\n",
        "Ns = 1\n",
        "ss = ShuffleSplit(n_splits=Ns, test_size=0.3,random_state =123)\n",
        "for train_index, test_index in ss.split(X):\n",
        "    print(test_index)\n",
        "    X_train, X_test,Y_train,Y_test = X[train_index,:], X[test_index,:],Y[train_index,:], Y[test_index,:]\n",
        "    Y_true_train, Y_true_test = t[train_index].reshape(-1,1), t[test_index].reshape(-1,1)\n",
        "print(X_train.shape, Y_train.shape, Y_true_train.shape)"
      ]
    },
    {
      "cell_type": "code",
      "execution_count": 23,
      "id": "432a810b",
      "metadata": {
        "execution": {
          "iopub.execute_input": "2022-10-24T23:57:07.323646Z",
          "iopub.status.busy": "2022-10-24T23:57:07.323052Z",
          "iopub.status.idle": "2022-10-24T23:57:07.329119Z",
          "shell.execute_reply": "2022-10-24T23:57:07.328309Z"
        },
        "papermill": {
          "duration": 0.025709,
          "end_time": "2022-10-24T23:57:07.331085",
          "exception": false,
          "start_time": "2022-10-24T23:57:07.305376",
          "status": "completed"
        },
        "tags": [],
        "id": "432a810b"
      },
      "outputs": [],
      "source": [
        "scaler = MinMaxScaler()\n",
        "scaler.fit(X_train)\n",
        "X_train = scaler.transform(X_train)\n",
        "X_test = scaler.transform(X_test)"
      ]
    },
    {
      "cell_type": "code",
      "execution_count": 24,
      "metadata": {
        "execution": {
          "iopub.execute_input": "2022-10-25T16:26:01.902569Z",
          "iopub.status.busy": "2022-10-25T16:26:01.902170Z",
          "iopub.status.idle": "2022-10-25T16:26:20.506723Z",
          "shell.execute_reply": "2022-10-25T16:26:20.505052Z"
        },
        "id": "2251089a",
        "papermill": {
          "duration": 18.622195,
          "end_time": "2022-10-25T16:26:20.510089",
          "exception": false,
          "start_time": "2022-10-25T16:26:01.887894",
          "status": "completed"
        },
        "tags": [],
        "colab": {
          "base_uri": "https://localhost:8080/"
        },
        "outputId": "46053be6-ccbf-4a12-a4d7-51f430165d8d"
      },
      "outputs": [
        {
          "output_type": "stream",
          "name": "stdout",
          "text": [
            "iteration: 0\n",
            "12/12 [==============================] - 0s 2ms/step\n",
            "12/12 [==============================] - 0s 2ms/step\n",
            "Validation aUc: 1.0000\n",
            "iteration: 1\n",
            "12/12 [==============================] - 0s 2ms/step\n",
            "12/12 [==============================] - 0s 2ms/step\n",
            "Validation aUc: 1.0000\n",
            "iteration: 2\n",
            "12/12 [==============================] - 0s 2ms/step\n",
            "12/12 [==============================] - 0s 2ms/step\n",
            "Validation aUc: 0.7857\n",
            "iteration: 3\n",
            "12/12 [==============================] - 0s 2ms/step\n",
            "12/12 [==============================] - 0s 2ms/step\n",
            "Validation aUc: 1.0000\n",
            "iteration: 4\n",
            "12/12 [==============================] - 0s 2ms/step\n",
            "12/12 [==============================] - 0s 2ms/step\n",
            "Validation aUc: 1.0000\n",
            "iteration: 5\n",
            "12/12 [==============================] - 0s 2ms/step\n",
            "12/12 [==============================] - 0s 2ms/step\n",
            "Validation aUc: 1.0000\n",
            "iteration: 6\n",
            "12/12 [==============================] - 0s 2ms/step\n",
            "12/12 [==============================] - 0s 2ms/step\n",
            "Validation aUc: 1.0000\n",
            "iteration: 7\n",
            "12/12 [==============================] - 0s 2ms/step\n",
            "12/12 [==============================] - 0s 2ms/step\n",
            "Validation aUc: 1.0000\n",
            "iteration: 8\n",
            "12/12 [==============================] - 0s 2ms/step\n",
            "12/12 [==============================] - 0s 2ms/step\n",
            "Validation aUc: 1.0000\n",
            "iteration: 9\n",
            "12/12 [==============================] - 0s 2ms/step\n",
            "12/12 [==============================] - 0s 2ms/step\n",
            "Validation aUc: 1.0000\n"
          ]
        }
      ],
      "source": [
        "from sklearn.metrics import classification_report\n",
        "\n",
        "l1 =0.01\n",
        "NUM_RUNS =10\n",
        "ACC = np.zeros(NUM_RUNS)\n",
        "AUC = np.zeros(NUM_RUNS)\n",
        "for i in range(NUM_RUNS): #10\n",
        "    print(\"iteration: \" + str(i))\n",
        "   \n",
        "    MA = Keras_MA_GCCE(epochs=100,batch_size=64,R=5, K=len(np.unique(Y_true_train)), dropout=0.25, learning_rate=0.01,optimizer='Adam', \n",
        "                l1_param=l1,  validation_split=0.30, verbose=0, q=0.01)\n",
        "\n",
        "    MA.fit(X_train, Y_train)\n",
        "    #MA.plot_history()\n",
        "  \n",
        "    #Accuracy\n",
        "    pred_2 = MA.predict(X_test)\n",
        " \n",
        "    report = classification_report( pred_2[:,Y.shape[1]:].argmax(axis=1),Y_true_test.ravel(),output_dict=True)\n",
        "    ACC[i] = report['accuracy']\n",
        "    #AUC\n",
        "    val_AUC_metric = tf.keras.metrics.AUC(num_thresholds=3, from_logits = True)  \n",
        "    val_logits =MA.predict(X_test) # model(X_test, training=False)\n",
        "    # tf.print(y_batch_val)\n",
        "    val_AUC_metric.update_state(Y_true_test, val_logits[:,Y.shape[1]:].argmax(axis=1).astype('float'))\n",
        "\n",
        "    val_AUC = val_AUC_metric.result()\n",
        "    val_AUC_metric.reset_states()\n",
        "    val_AUC = val_AUC.numpy()\n",
        "    print(\"Validation aUc: %.4f\" % (float(val_AUC),))\n",
        "    AUC[i] = val_AUC\n",
        "    \n",
        "  "
      ],
      "id": "2251089a"
    },
    {
      "cell_type": "code",
      "execution_count": 25,
      "metadata": {
        "execution": {
          "iopub.execute_input": "2022-10-25T16:26:20.535351Z",
          "iopub.status.busy": "2022-10-25T16:26:20.534704Z",
          "iopub.status.idle": "2022-10-25T16:26:20.638582Z",
          "shell.execute_reply": "2022-10-25T16:26:20.636858Z"
        },
        "id": "a7972f6e",
        "papermill": {
          "duration": 0.120287,
          "end_time": "2022-10-25T16:26:20.642336",
          "exception": false,
          "start_time": "2022-10-25T16:26:20.522049",
          "status": "completed"
        },
        "tags": [],
        "colab": {
          "base_uri": "https://localhost:8080/"
        },
        "outputId": "65891e4f-2969-4351-fbe3-1787943d3497"
      },
      "outputs": [
        {
          "output_type": "execute_result",
          "data": {
            "text/plain": [
              "array([0.98888889, 0.98611111, 0.925     , 0.97222222, 0.95833333,\n",
              "       0.97777778, 0.98333333, 0.96388889, 0.975     , 0.97777778])"
            ]
          },
          "metadata": {},
          "execution_count": 25
        }
      ],
      "source": [
        "\n",
        "ACC"
      ],
      "id": "a7972f6e"
    },
    {
      "cell_type": "code",
      "source": [
        "\n",
        "AUC"
      ],
      "metadata": {
        "colab": {
          "base_uri": "https://localhost:8080/"
        },
        "id": "bAgG_knDzvlM",
        "outputId": "e903e217-19ce-4d1b-b857-894786c47881"
      },
      "execution_count": 26,
      "outputs": [
        {
          "output_type": "execute_result",
          "data": {
            "text/plain": [
              "array([1.        , 1.        , 0.78571427, 1.        , 1.        ,\n",
              "       1.        , 1.        , 1.        , 1.        , 1.        ])"
            ]
          },
          "metadata": {},
          "execution_count": 26
        }
      ],
      "id": "bAgG_knDzvlM"
    },
    {
      "cell_type": "code",
      "execution_count": 27,
      "metadata": {
        "execution": {
          "iopub.execute_input": "2022-10-25T16:26:20.669590Z",
          "iopub.status.busy": "2022-10-25T16:26:20.669121Z",
          "iopub.status.idle": "2022-10-25T16:26:20.673772Z",
          "shell.execute_reply": "2022-10-25T16:26:20.672863Z"
        },
        "id": "297b5917",
        "papermill": {
          "duration": 0.020783,
          "end_time": "2022-10-25T16:26:20.675918",
          "exception": false,
          "start_time": "2022-10-25T16:26:20.655135",
          "status": "completed"
        },
        "tags": [],
        "colab": {
          "base_uri": "https://localhost:8080/"
        },
        "outputId": "5e1f4af7-4808-4d00-8adc-8ced2f6cefcb"
      },
      "outputs": [
        {
          "output_type": "stream",
          "name": "stdout",
          "text": [
            "Average Accuracy:  97.08\n",
            "Average std:  1.77\n"
          ]
        }
      ],
      "source": [
        "print('Average Accuracy: ', np.round( ACC.mean(),4)*100) \n",
        "print('Average std: ',np.round(np.std( ACC),4)*100)"
      ],
      "id": "297b5917"
    },
    {
      "cell_type": "code",
      "source": [
        "print('Average Accuracy: ', np.round( AUC.mean(),4)*100) \n",
        "print('Average std: ',np.round(np.std( AUC),4)*100)"
      ],
      "metadata": {
        "colab": {
          "base_uri": "https://localhost:8080/"
        },
        "id": "IsM5jKAAzx-l",
        "outputId": "a112c3e6-880f-4846-f09a-98513fb3c663"
      },
      "execution_count": 28,
      "outputs": [
        {
          "output_type": "stream",
          "name": "stdout",
          "text": [
            "Average Accuracy:  97.86\n",
            "Average std:  6.43\n"
          ]
        }
      ],
      "id": "IsM5jKAAzx-l"
    }
  ],
  "metadata": {
    "kernelspec": {
      "display_name": "Python 3",
      "language": "python",
      "name": "python3"
    },
    "language_info": {
      "codemirror_mode": {
        "name": "ipython",
        "version": 3
      },
      "file_extension": ".py",
      "mimetype": "text/x-python",
      "name": "python",
      "nbconvert_exporter": "python",
      "pygments_lexer": "ipython3",
      "version": "3.7.12"
    },
    "papermill": {
      "default_parameters": {},
      "duration": 3238.520813,
      "end_time": "2022-10-25T00:50:24.487759",
      "environment_variables": {},
      "exception": null,
      "input_path": "__notebook__.ipynb",
      "output_path": "__notebook__.ipynb",
      "parameters": {},
      "start_time": "2022-10-24T23:56:25.966946",
      "version": "2.3.4"
    },
    "colab": {
      "provenance": [],
      "include_colab_link": true
    }
  },
  "nbformat": 4,
  "nbformat_minor": 5
}