{
  "cells": [
    {
      "cell_type": "markdown",
      "metadata": {
        "id": "view-in-github",
        "colab_type": "text"
      },
      "source": [
        "<a href=\"https://colab.research.google.com/github/Jectrianama/GCCE_TEST/blob/main/GoldStandard/golds_ocupancy.ipynb\" target=\"_parent\"><img src=\"https://colab.research.google.com/assets/colab-badge.svg\" alt=\"Open In Colab\"/></a>"
      ]
    },
    {
      "cell_type": "code",
      "execution_count": 1,
      "id": "9d28c6c1",
      "metadata": {
        "execution": {
          "iopub.execute_input": "2022-10-25T16:25:07.984466Z",
          "iopub.status.busy": "2022-10-25T16:25:07.983586Z",
          "iopub.status.idle": "2022-10-25T16:25:07.989904Z",
          "shell.execute_reply": "2022-10-25T16:25:07.988800Z"
        },
        "id": "9d28c6c1",
        "papermill": {
          "duration": 0.020234,
          "end_time": "2022-10-25T16:25:07.992996",
          "exception": false,
          "start_time": "2022-10-25T16:25:07.972762",
          "status": "completed"
        },
        "tags": []
      },
      "outputs": [],
      "source": [
        "#!pip install tensorflow==2.7.0\n",
        "#!pip install scikeras"
      ]
    },
    {
      "cell_type": "markdown",
      "id": "c1aabccf",
      "metadata": {
        "id": "c1aabccf",
        "papermill": {
          "duration": 0.01014,
          "end_time": "2022-10-25T16:25:08.012045",
          "exception": false,
          "start_time": "2022-10-25T16:25:08.001905",
          "status": "completed"
        },
        "tags": []
      },
      "source": [
        "# Subclassing for GS"
      ]
    },
    {
      "cell_type": "code",
      "execution_count": 2,
      "id": "3df48288",
      "metadata": {
        "execution": {
          "iopub.execute_input": "2022-10-25T16:25:08.032487Z",
          "iopub.status.busy": "2022-10-25T16:25:08.032006Z",
          "iopub.status.idle": "2022-10-25T16:25:17.115343Z",
          "shell.execute_reply": "2022-10-25T16:25:17.114491Z"
        },
        "id": "3df48288",
        "papermill": {
          "duration": 9.096989,
          "end_time": "2022-10-25T16:25:17.118382",
          "exception": false,
          "start_time": "2022-10-25T16:25:08.021393",
          "status": "completed"
        },
        "tags": []
      },
      "outputs": [],
      "source": [
        "# -*- coding: utf-8 -*-\n",
        "import tensorflow as tf\n",
        "import matplotlib.pyplot as plt\n",
        "#from tensorflow.keras.wrappers.scikit_learn import KerasClassifier\n",
        "import tensorflow_probability as tfp\n",
        "from tensorflow.keras import regularizers\n",
        "from sklearn.base import  BaseEstimator, TransformerMixin, ClassifierMixin\n",
        "from sklearn.model_selection import train_test_split\n",
        "tf.keras.backend.clear_session()\n",
        "#tf.random.set_seed(42)\n",
        "import types\n",
        "import tempfile\n",
        "class Keras_MA_PRI(): #transformer no va\n",
        " #Constructor __init__. Special method: identified by a double underscore at either side of their name\n",
        " #work in the background\n",
        " # initialize data members to the object. lets the class initialize the object’s attributes and serves no other purpose.\n",
        "    def __init__(self,epochs=70,batch_size=30,R=5, K=2, dropout=0.5, learning_rate=1e-3,optimizer='Adam', \n",
        "                  l1_param=0, validation_split=0.2, verbose=1):\n",
        "        self.epochs=epochs\n",
        "        self.dropout=dropout\n",
        "        self.batch_size = batch_size\n",
        "        self.learning_rate=learning_rate \n",
        "        self.l1_param=l1_param \n",
        "        self.l2_param=l1_param\n",
        "        self.validation_split = validation_split\n",
        "        self.verbose = verbose\n",
        "        self.optimizer = optimizer\n",
        "        self.R=R\n",
        "        self.K=K\n",
        "\n",
        "    \n",
        " \n",
        " \n",
        " \n",
        "    def PRI_MA_loss(self, y_true, y_pred): #,  -> PRI\n",
        "        #Input ytrue: samples (N) x  annotators (R) \n",
        "        #Input ypred: samples (N) x  annotators+classes (R+K) \n",
        "        #PRI MA\n",
        "        cce_M = tf.keras.losses.CategoricalCrossentropy(reduction='none',axis=-1)\n",
        "        cce_C = tf.keras.losses.CategoricalCrossentropy(reduction='none',axis=1)\n",
        "\n",
        "      \n",
        "\n",
        "        #N = tf.cast(y_true.shape[0],dtype=tf.int32)\n",
        "        N = tf.shape(y_true)[0]\n",
        "        #Ground truth estimation samples (N) x  Classes(K)\n",
        "        y_pred_tf = y_pred[:,self.R:] \n",
        "        # Annotators reliability prediction: samples (N) x  annotators (R)\n",
        "        lambda_R_tf = y_pred[:,:self.R] #tf.ones(shape=(N,R)) \n",
        "        #Y_true 1 K: samples (N) x  Classes(1-K), annotators (R)\n",
        "        Y_true_1K = tf.one_hot(tf.cast(y_true,dtype=tf.int32),depth=self.K,axis=1)  \n",
        "        #Y_pred 1 - K: samples (N) x  Classes(1-K), annotators (R)\n",
        "        Y_hat = tf.repeat(tf.expand_dims(y_pred_tf,-1), self.R, axis = -1) \n",
        "        #marginal entropy\n",
        "        #cce along the K classes -> ypred_tf\n",
        "        Hm_ = cce_M(y_pred_tf,y_pred_tf)\n",
        "        #cross entropy\n",
        "        #cce along the K classes -> Y_hat\n",
        "        Hc_ = cce_C(Y_true_1K,Y_hat)\n",
        "        #PRI MA computation\n",
        "        LH = tf.linalg.matmul(lambda_R_tf,Hc_,transpose_a=True) # \\Lambda^\\top H_c\n",
        "        temp1 = tf.linalg.trace(LH) #trace(LH)\n",
        "        Hm1L = tf.linalg.matmul(tf.ones(shape=(N,self.R))-lambda_R_tf,tf.ones(shape=(self.R,1)))# 1_N 1_R^\\top - Lambda\n",
        "        Hm_t = tf.reshape(Hm_,shape=(N,1))\n",
        "        temp2 = tf.squeeze(tf.linalg.matmul(Hm_t,Hm1L,transpose_a=True)) # Hm^\\top Hm1L\n",
        "        loss_c = temp1+ temp2 #return loss\n",
        "\n",
        "        return loss_c\n",
        "\n",
        " \n",
        "    def fit(self, X, Y):\n",
        "        #input X numpy array first dimension samples (N)x features (P)\n",
        "        #input Y numpy array vector len = samples (N) x  annotators (R)\n",
        "        P = X.shape[1]\n",
        "        if self.optimizer == \"Adam\":\n",
        "            opt = tf.keras.optimizers.Adam(learning_rate=self.learning_rate,clipnorm=1.0)\n",
        "        elif self.optimizer == \"SGD\":\n",
        "            opt = tf.keras.optimizers.SGD(learning_rate=self.learning_rate,clipnorm=1.0)\n",
        "        else:\n",
        "            opt=self.optimizer\n",
        "\n",
        "        #capa de entrada\n",
        "        input_l = tf.keras.layers.Input(shape=(X_train.shape[1]), name='entrada')\n",
        "        #capas densas\n",
        "        h1 = tf.keras.layers.Dense(int(P*4*(self.K+self.R)),activation='selu',name='h1',\n",
        "                              kernel_regularizer=tf.keras.regularizers.l1_l2(l1=self.l1_param,l2=self.l2_param))(input_l)#argumento de entrada\n",
        "        h2 = tf.keras.layers.Dense(int(P*(self.K+self.R)),activation='selu',name='h2',\n",
        "                              kernel_regularizer=tf.keras.regularizers.l1_l2(l1=self.l1_param,l2=self.l2_param))(h1)\n",
        "        dout = tf.keras.layers.Dropout(rate=self.dropout)(h2)\n",
        "        #capa de salida\n",
        "        output = tf.keras.layers.Dense(self.K,activation=\"softmax\",name='output',\n",
        "                                   kernel_regularizer=tf.keras.regularizers.l1_l2(l1=self.l1_param,l2=self.l2_param))(dout)\n",
        "        self.model = tf.keras.Model(inputs= input_l,outputs=output)\n",
        "        self.model.compile(loss=tf.keras.losses.SparseCategoricalCrossentropy(), optimizer=opt,metrics=\"accuracy\")\n",
        "         \n",
        "            \n",
        " \n",
        "        self.history = self.model.fit(X, Y, epochs=self.epochs, validation_split=self.validation_split,   #\n",
        "                                      batch_size=self.batch_size,verbose=self.verbose)\n",
        " \n",
        "        return self\n",
        " \n",
        "  \n",
        "    \n",
        "    def predict(self, X, *_):\n",
        "       #input X numpy array first dimension samples (N)x features (P)\n",
        "      return  self.model.predict(X) \n",
        " \n",
        " \n",
        "\n",
        "    def fit_predict(self,X,y):\n",
        "        #input X numpy array first dimension samples (N)x features (P)\n",
        "        #input Y numpy array vector len = samples (N) x  annotators (R)\n",
        "        self.fit(X,y)\n",
        "        return self.predict(X)\n",
        "  \n",
        "     #graphics\n",
        "    def plot_history(self):\n",
        "        pd.DataFrame(self.history.history).plot(figsize=(8, 5))\n",
        "        plt.grid(True)\n",
        "        #plt.gca().set_ylim(0, 1)\n",
        "        #save_fig(\"keras_learning_curves_plot\")\n",
        "        plt.show()\n",
        "        return\n",
        "    \n",
        "    def set_params(self, **parameters):\n",
        "        for parameter, value in parameters.items():\n",
        "            setattr(self, parameter, value)\n",
        "\n",
        "        return self\n",
        "    \n",
        "    \n",
        "    \n",
        "    def get_params(self, deep=True):\n",
        "        return { 'l1_param':self.l1_param, 'dropout':self.dropout, 'optimizer':self.optimizer,\n",
        "                'learning_rate':self.learning_rate, 'batch_size':self.batch_size,\n",
        "                'epochs':self.epochs, 'verbose':self.verbose, 'validation_split':self.validation_split,\n",
        "                'R':self.R, 'K':self.K\n",
        "                }\n",
        "\n",
        "  \n",
        "        return self\n"
      ]
    },
    {
      "cell_type": "code",
      "execution_count": 3,
      "id": "980a02a2",
      "metadata": {
        "id": "980a02a2",
        "outputId": "671506ff-6747-4bf1-9887-3b43cbffd0c8",
        "papermill": {
          "duration": 0.008309,
          "end_time": "2022-10-25T16:25:17.135737",
          "exception": false,
          "start_time": "2022-10-25T16:25:17.127428",
          "status": "completed"
        },
        "tags": [],
        "colab": {
          "base_uri": "https://localhost:8080/"
        }
      },
      "outputs": [
        {
          "output_type": "stream",
          "name": "stdout",
          "text": [
            "--2023-02-03 04:06:51--  https://docs.google.com/uc?export=download&confirm=&id=1QQDt-NXoqbgRQShQ92WTSI84RY628tHy\n",
            "Resolving docs.google.com (docs.google.com)... 108.177.12.139, 108.177.12.138, 108.177.12.101, ...\n",
            "Connecting to docs.google.com (docs.google.com)|108.177.12.139|:443... connected.\n",
            "HTTP request sent, awaiting response... 303 See Other\n",
            "Location: https://doc-00-90-docs.googleusercontent.com/docs/securesc/ha0ro937gcuc7l7deffksulhg5h7mbp1/h86is9a7glvf1mup4iu6mmtmavhbuu1p/1675397175000/07591141114418430227/*/1QQDt-NXoqbgRQShQ92WTSI84RY628tHy?e=download&uuid=650ff054-b963-4ec0-9601-31f5ee8338e7 [following]\n",
            "Warning: wildcards not supported in HTTP.\n",
            "--2023-02-03 04:06:51--  https://doc-00-90-docs.googleusercontent.com/docs/securesc/ha0ro937gcuc7l7deffksulhg5h7mbp1/h86is9a7glvf1mup4iu6mmtmavhbuu1p/1675397175000/07591141114418430227/*/1QQDt-NXoqbgRQShQ92WTSI84RY628tHy?e=download&uuid=650ff054-b963-4ec0-9601-31f5ee8338e7\n",
            "Resolving doc-00-90-docs.googleusercontent.com (doc-00-90-docs.googleusercontent.com)... 108.177.12.132, 2607:f8b0:400c:c08::84\n",
            "Connecting to doc-00-90-docs.googleusercontent.com (doc-00-90-docs.googleusercontent.com)|108.177.12.132|:443... connected.\n",
            "HTTP request sent, awaiting response... 200 OK\n",
            "Length: 31910 (31K) [application/x-zip-compressed]\n",
            "Saving to: ‘file.zip’\n",
            "\n",
            "file.zip            100%[===================>]  31.16K  --.-KB/s    in 0.001s  \n",
            "\n",
            "2023-02-03 04:06:51 (60.7 MB/s) - ‘file.zip’ saved [31910/31910]\n",
            "\n",
            "Archive:  file.zip\n",
            "  inflating: file.csv                \n",
            "file.csv  file.zip  sample_data\n"
          ]
        }
      ],
      "source": [
        " #https://drive.google.com/file/d/1QQDt-NXoqbgRQShQ92WTSI84RY628tHy/view?usp=sharing\n",
        "\n",
        " #cargar datos desde drive acceso libre\n",
        "FILEID = \"1QQDt-NXoqbgRQShQ92WTSI84RY628tHy\"\n",
        "!wget --load-cookies /tmp/cookies.txt \"https://docs.google.com/uc?export=download&confirm=$(wget --quiet --save-cookies /tmp/cookies.txt --keep-session-cookies --no-check-certificate 'https://docs.google.com/uc?export=download&id='$FILEID -O- | sed -rn 's/.*confirm=([0-9A-Za-z_]+).*/\\1\\n/p')&id=\"$FILEID -O file.zip && rm -rf /tmp/cookies.txt\n",
        "!unzip -o file.zip\n",
        "!dir"
      ]
    },
    {
      "cell_type": "markdown",
      "id": "b95f0f2c",
      "metadata": {
        "id": "b95f0f2c",
        "papermill": {
          "duration": 0.008245,
          "end_time": "2022-10-25T16:25:17.152611",
          "exception": false,
          "start_time": "2022-10-25T16:25:17.144366",
          "status": "completed"
        },
        "tags": []
      },
      "source": [
        "# Load Data"
      ]
    },
    {
      "cell_type": "code",
      "execution_count": 4,
      "id": "89f9586d",
      "metadata": {
        "execution": {
          "iopub.execute_input": "2022-10-25T16:25:17.172670Z",
          "iopub.status.busy": "2022-10-25T16:25:17.171708Z",
          "iopub.status.idle": "2022-10-25T16:25:17.205103Z",
          "shell.execute_reply": "2022-10-25T16:25:17.204307Z"
        },
        "id": "89f9586d",
        "papermill": {
          "duration": 0.046175,
          "end_time": "2022-10-25T16:25:17.207621",
          "exception": false,
          "start_time": "2022-10-25T16:25:17.161446",
          "status": "completed"
        },
        "tags": []
      },
      "outputs": [],
      "source": [
        "#load data\n",
        "import scipy.io as sio\n",
        "import matplotlib.pyplot as plt\n",
        "import pandas as pd\n",
        "import tensorflow as tf #importar tensorflow\n",
        "from sklearn.model_selection import GridSearchCV, RandomizedSearchCV\n",
        "from sklearn.preprocessing import StandardScaler,MinMaxScaler\n",
        "import numpy as np\n",
        "database = 'Ocupancy' #['bupa1', 'breast-cancer-wisconsin1','pima-indians-diabetes1', 'ionosphere1', 'tic-tac-toe1', 'iris1', 'wine1', 'segmentation1']\n",
        "\n",
        " "
      ]
    },
    {
      "cell_type": "code",
      "execution_count": 5,
      "id": "8e2ffef0",
      "metadata": {
        "execution": {
          "iopub.execute_input": "2022-10-25T16:25:17.228927Z",
          "iopub.status.busy": "2022-10-25T16:25:17.228346Z",
          "iopub.status.idle": "2022-10-25T16:25:17.271738Z",
          "shell.execute_reply": "2022-10-25T16:25:17.270218Z"
        },
        "papermill": {
          "duration": 0.057125,
          "end_time": "2022-10-25T16:25:17.274807",
          "exception": false,
          "start_time": "2022-10-25T16:25:17.217682",
          "status": "completed"
        },
        "tags": [],
        "colab": {
          "base_uri": "https://localhost:8080/",
          "height": 424
        },
        "id": "8e2ffef0",
        "outputId": "7452093c-6548-4696-e973-6087a1c780ac"
      },
      "outputs": [
        {
          "output_type": "execute_result",
          "data": {
            "text/plain": [
              "      Temperature   Humidity       Light          CO2  HumidityRatio  \\\n",
              "0       23.700000  26.272000  585.200000   749.200000       0.004764   \n",
              "1       23.718000  26.290000  578.400000   760.400000       0.004773   \n",
              "2       23.730000  26.230000  572.666667   769.666667       0.004765   \n",
              "3       23.722500  26.125000  493.750000   774.750000       0.004744   \n",
              "4       23.754000  26.200000  488.600000   779.000000       0.004767   \n",
              "...           ...        ...         ...          ...            ...   \n",
              "2660    24.290000  25.700000  808.000000  1150.250000       0.004829   \n",
              "2661    24.330000  25.736000  809.800000  1129.200000       0.004848   \n",
              "2662    24.330000  25.700000  817.000000  1125.800000       0.004841   \n",
              "2663    24.356667  25.700000  813.000000  1123.000000       0.004849   \n",
              "2664    24.408333  25.681667  798.000000  1124.000000       0.004860   \n",
              "\n",
              "      Occupancy  \n",
              "0             1  \n",
              "1             1  \n",
              "2             1  \n",
              "3             1  \n",
              "4             1  \n",
              "...         ...  \n",
              "2660          1  \n",
              "2661          1  \n",
              "2662          1  \n",
              "2663          1  \n",
              "2664          1  \n",
              "\n",
              "[2665 rows x 6 columns]"
            ],
            "text/html": [
              "\n",
              "  <div id=\"df-4088424d-6d48-4779-bfaf-3ebd0895a52c\">\n",
              "    <div class=\"colab-df-container\">\n",
              "      <div>\n",
              "<style scoped>\n",
              "    .dataframe tbody tr th:only-of-type {\n",
              "        vertical-align: middle;\n",
              "    }\n",
              "\n",
              "    .dataframe tbody tr th {\n",
              "        vertical-align: top;\n",
              "    }\n",
              "\n",
              "    .dataframe thead th {\n",
              "        text-align: right;\n",
              "    }\n",
              "</style>\n",
              "<table border=\"1\" class=\"dataframe\">\n",
              "  <thead>\n",
              "    <tr style=\"text-align: right;\">\n",
              "      <th></th>\n",
              "      <th>Temperature</th>\n",
              "      <th>Humidity</th>\n",
              "      <th>Light</th>\n",
              "      <th>CO2</th>\n",
              "      <th>HumidityRatio</th>\n",
              "      <th>Occupancy</th>\n",
              "    </tr>\n",
              "  </thead>\n",
              "  <tbody>\n",
              "    <tr>\n",
              "      <th>0</th>\n",
              "      <td>23.700000</td>\n",
              "      <td>26.272000</td>\n",
              "      <td>585.200000</td>\n",
              "      <td>749.200000</td>\n",
              "      <td>0.004764</td>\n",
              "      <td>1</td>\n",
              "    </tr>\n",
              "    <tr>\n",
              "      <th>1</th>\n",
              "      <td>23.718000</td>\n",
              "      <td>26.290000</td>\n",
              "      <td>578.400000</td>\n",
              "      <td>760.400000</td>\n",
              "      <td>0.004773</td>\n",
              "      <td>1</td>\n",
              "    </tr>\n",
              "    <tr>\n",
              "      <th>2</th>\n",
              "      <td>23.730000</td>\n",
              "      <td>26.230000</td>\n",
              "      <td>572.666667</td>\n",
              "      <td>769.666667</td>\n",
              "      <td>0.004765</td>\n",
              "      <td>1</td>\n",
              "    </tr>\n",
              "    <tr>\n",
              "      <th>3</th>\n",
              "      <td>23.722500</td>\n",
              "      <td>26.125000</td>\n",
              "      <td>493.750000</td>\n",
              "      <td>774.750000</td>\n",
              "      <td>0.004744</td>\n",
              "      <td>1</td>\n",
              "    </tr>\n",
              "    <tr>\n",
              "      <th>4</th>\n",
              "      <td>23.754000</td>\n",
              "      <td>26.200000</td>\n",
              "      <td>488.600000</td>\n",
              "      <td>779.000000</td>\n",
              "      <td>0.004767</td>\n",
              "      <td>1</td>\n",
              "    </tr>\n",
              "    <tr>\n",
              "      <th>...</th>\n",
              "      <td>...</td>\n",
              "      <td>...</td>\n",
              "      <td>...</td>\n",
              "      <td>...</td>\n",
              "      <td>...</td>\n",
              "      <td>...</td>\n",
              "    </tr>\n",
              "    <tr>\n",
              "      <th>2660</th>\n",
              "      <td>24.290000</td>\n",
              "      <td>25.700000</td>\n",
              "      <td>808.000000</td>\n",
              "      <td>1150.250000</td>\n",
              "      <td>0.004829</td>\n",
              "      <td>1</td>\n",
              "    </tr>\n",
              "    <tr>\n",
              "      <th>2661</th>\n",
              "      <td>24.330000</td>\n",
              "      <td>25.736000</td>\n",
              "      <td>809.800000</td>\n",
              "      <td>1129.200000</td>\n",
              "      <td>0.004848</td>\n",
              "      <td>1</td>\n",
              "    </tr>\n",
              "    <tr>\n",
              "      <th>2662</th>\n",
              "      <td>24.330000</td>\n",
              "      <td>25.700000</td>\n",
              "      <td>817.000000</td>\n",
              "      <td>1125.800000</td>\n",
              "      <td>0.004841</td>\n",
              "      <td>1</td>\n",
              "    </tr>\n",
              "    <tr>\n",
              "      <th>2663</th>\n",
              "      <td>24.356667</td>\n",
              "      <td>25.700000</td>\n",
              "      <td>813.000000</td>\n",
              "      <td>1123.000000</td>\n",
              "      <td>0.004849</td>\n",
              "      <td>1</td>\n",
              "    </tr>\n",
              "    <tr>\n",
              "      <th>2664</th>\n",
              "      <td>24.408333</td>\n",
              "      <td>25.681667</td>\n",
              "      <td>798.000000</td>\n",
              "      <td>1124.000000</td>\n",
              "      <td>0.004860</td>\n",
              "      <td>1</td>\n",
              "    </tr>\n",
              "  </tbody>\n",
              "</table>\n",
              "<p>2665 rows × 6 columns</p>\n",
              "</div>\n",
              "      <button class=\"colab-df-convert\" onclick=\"convertToInteractive('df-4088424d-6d48-4779-bfaf-3ebd0895a52c')\"\n",
              "              title=\"Convert this dataframe to an interactive table.\"\n",
              "              style=\"display:none;\">\n",
              "        \n",
              "  <svg xmlns=\"http://www.w3.org/2000/svg\" height=\"24px\"viewBox=\"0 0 24 24\"\n",
              "       width=\"24px\">\n",
              "    <path d=\"M0 0h24v24H0V0z\" fill=\"none\"/>\n",
              "    <path d=\"M18.56 5.44l.94 2.06.94-2.06 2.06-.94-2.06-.94-.94-2.06-.94 2.06-2.06.94zm-11 1L8.5 8.5l.94-2.06 2.06-.94-2.06-.94L8.5 2.5l-.94 2.06-2.06.94zm10 10l.94 2.06.94-2.06 2.06-.94-2.06-.94-.94-2.06-.94 2.06-2.06.94z\"/><path d=\"M17.41 7.96l-1.37-1.37c-.4-.4-.92-.59-1.43-.59-.52 0-1.04.2-1.43.59L10.3 9.45l-7.72 7.72c-.78.78-.78 2.05 0 2.83L4 21.41c.39.39.9.59 1.41.59.51 0 1.02-.2 1.41-.59l7.78-7.78 2.81-2.81c.8-.78.8-2.07 0-2.86zM5.41 20L4 18.59l7.72-7.72 1.47 1.35L5.41 20z\"/>\n",
              "  </svg>\n",
              "      </button>\n",
              "      \n",
              "  <style>\n",
              "    .colab-df-container {\n",
              "      display:flex;\n",
              "      flex-wrap:wrap;\n",
              "      gap: 12px;\n",
              "    }\n",
              "\n",
              "    .colab-df-convert {\n",
              "      background-color: #E8F0FE;\n",
              "      border: none;\n",
              "      border-radius: 50%;\n",
              "      cursor: pointer;\n",
              "      display: none;\n",
              "      fill: #1967D2;\n",
              "      height: 32px;\n",
              "      padding: 0 0 0 0;\n",
              "      width: 32px;\n",
              "    }\n",
              "\n",
              "    .colab-df-convert:hover {\n",
              "      background-color: #E2EBFA;\n",
              "      box-shadow: 0px 1px 2px rgba(60, 64, 67, 0.3), 0px 1px 3px 1px rgba(60, 64, 67, 0.15);\n",
              "      fill: #174EA6;\n",
              "    }\n",
              "\n",
              "    [theme=dark] .colab-df-convert {\n",
              "      background-color: #3B4455;\n",
              "      fill: #D2E3FC;\n",
              "    }\n",
              "\n",
              "    [theme=dark] .colab-df-convert:hover {\n",
              "      background-color: #434B5C;\n",
              "      box-shadow: 0px 1px 3px 1px rgba(0, 0, 0, 0.15);\n",
              "      filter: drop-shadow(0px 1px 2px rgba(0, 0, 0, 0.3));\n",
              "      fill: #FFFFFF;\n",
              "    }\n",
              "  </style>\n",
              "\n",
              "      <script>\n",
              "        const buttonEl =\n",
              "          document.querySelector('#df-4088424d-6d48-4779-bfaf-3ebd0895a52c button.colab-df-convert');\n",
              "        buttonEl.style.display =\n",
              "          google.colab.kernel.accessAllowed ? 'block' : 'none';\n",
              "\n",
              "        async function convertToInteractive(key) {\n",
              "          const element = document.querySelector('#df-4088424d-6d48-4779-bfaf-3ebd0895a52c');\n",
              "          const dataTable =\n",
              "            await google.colab.kernel.invokeFunction('convertToInteractive',\n",
              "                                                     [key], {});\n",
              "          if (!dataTable) return;\n",
              "\n",
              "          const docLinkHtml = 'Like what you see? Visit the ' +\n",
              "            '<a target=\"_blank\" href=https://colab.research.google.com/notebooks/data_table.ipynb>data table notebook</a>'\n",
              "            + ' to learn more about interactive tables.';\n",
              "          element.innerHTML = '';\n",
              "          dataTable['output_type'] = 'display_data';\n",
              "          await google.colab.output.renderOutput(dataTable, element);\n",
              "          const docLink = document.createElement('div');\n",
              "          docLink.innerHTML = docLinkHtml;\n",
              "          element.appendChild(docLink);\n",
              "        }\n",
              "      </script>\n",
              "    </div>\n",
              "  </div>\n",
              "  "
            ]
          },
          "metadata": {},
          "execution_count": 5
        }
      ],
      "source": [
        "dfo= pd.read_csv(\"/content/file.csv\")\n",
        "dfo"
      ]
    },
    {
      "cell_type": "code",
      "execution_count": 6,
      "id": "81976f3a",
      "metadata": {
        "execution": {
          "iopub.execute_input": "2022-10-25T16:25:17.298417Z",
          "iopub.status.busy": "2022-10-25T16:25:17.297253Z",
          "iopub.status.idle": "2022-10-25T16:25:17.313281Z",
          "shell.execute_reply": "2022-10-25T16:25:17.311940Z"
        },
        "id": "81976f3a",
        "outputId": "0e7b2b72-447f-4c77-abb3-2c1ebc4958ea",
        "papermill": {
          "duration": 0.030374,
          "end_time": "2022-10-25T16:25:17.315978",
          "exception": false,
          "start_time": "2022-10-25T16:25:17.285604",
          "status": "completed"
        },
        "tags": [],
        "colab": {
          "base_uri": "https://localhost:8080/"
        }
      },
      "outputs": [
        {
          "output_type": "execute_result",
          "data": {
            "text/plain": [
              "0    1693\n",
              "1     972\n",
              "Name: Occupancy, dtype: int64"
            ]
          },
          "metadata": {},
          "execution_count": 6
        }
      ],
      "source": [
        "dfo['Occupancy'].value_counts()"
      ]
    },
    {
      "cell_type": "code",
      "execution_count": 7,
      "id": "edff54f4",
      "metadata": {
        "execution": {
          "iopub.execute_input": "2022-10-25T16:25:17.340022Z",
          "iopub.status.busy": "2022-10-25T16:25:17.338776Z",
          "iopub.status.idle": "2022-10-25T16:25:17.730489Z",
          "shell.execute_reply": "2022-10-25T16:25:17.729532Z"
        },
        "papermill": {
          "duration": 0.40686,
          "end_time": "2022-10-25T16:25:17.733378",
          "exception": false,
          "start_time": "2022-10-25T16:25:17.326518",
          "status": "completed"
        },
        "tags": [],
        "colab": {
          "base_uri": "https://localhost:8080/",
          "height": 279
        },
        "id": "edff54f4",
        "outputId": "98a56880-eb6d-4907-9499-08cb49069dc9"
      },
      "outputs": [
        {
          "output_type": "display_data",
          "data": {
            "text/plain": [
              "<Figure size 432x288 with 1 Axes>"
            ],
            "image/png": "[encoded data removed]"
          },
          "metadata": {
            "needs_background": "light"
          }
        }
      ],
      "source": [
        "#Histogram showing distribution of 'OCCUPANCY'\n",
        "import seaborn as sns\n",
        "sns.countplot(data = dfo , x = 'Occupancy')\n",
        "plt.show()"
      ]
    },
    {
      "cell_type": "code",
      "execution_count": 8,
      "id": "07ff54f8",
      "metadata": {
        "execution": {
          "iopub.execute_input": "2022-10-25T16:25:17.755704Z",
          "iopub.status.busy": "2022-10-25T16:25:17.755319Z",
          "iopub.status.idle": "2022-10-25T16:25:17.762815Z",
          "shell.execute_reply": "2022-10-25T16:25:17.761521Z"
        },
        "papermill": {
          "duration": 0.021375,
          "end_time": "2022-10-25T16:25:17.765158",
          "exception": false,
          "start_time": "2022-10-25T16:25:17.743783",
          "status": "completed"
        },
        "tags": [],
        "id": "07ff54f8"
      },
      "outputs": [],
      "source": [
        "#Removing the HumidityRatio attribute which is least correlated to the target attribute \n",
        "t=dfo['Occupancy'].values\n",
        "X = dfo.drop(['HumidityRatio','Occupancy'], axis = 1).values"
      ]
    },
    {
      "cell_type": "code",
      "execution_count": 9,
      "id": "12be7836",
      "metadata": {
        "execution": {
          "iopub.execute_input": "2022-10-25T16:25:17.787472Z",
          "iopub.status.busy": "2022-10-25T16:25:17.786234Z",
          "iopub.status.idle": "2022-10-25T16:25:17.792384Z",
          "shell.execute_reply": "2022-10-25T16:25:17.791435Z"
        },
        "id": "12be7836",
        "papermill": {
          "duration": 0.019731,
          "end_time": "2022-10-25T16:25:17.794755",
          "exception": false,
          "start_time": "2022-10-25T16:25:17.775024",
          "status": "completed"
        },
        "tags": []
      },
      "outputs": [],
      "source": [
        "if len(np.unique(t))== 2:\n",
        "    t=t+1"
      ]
    },
    {
      "cell_type": "markdown",
      "id": "d5b1f855",
      "metadata": {
        "id": "d5b1f855",
        "papermill": {
          "duration": 0.009735,
          "end_time": "2022-10-25T16:25:17.814529",
          "exception": false,
          "start_time": "2022-10-25T16:25:17.804794",
          "status": "completed"
        },
        "tags": []
      },
      "source": [
        "# Labels Generation  "
      ]
    },
    {
      "cell_type": "code",
      "execution_count": 10,
      "id": "21c1f87e",
      "metadata": {
        "execution": {
          "iopub.execute_input": "2022-10-25T16:26:01.281892Z",
          "iopub.status.busy": "2022-10-25T16:26:01.281497Z",
          "iopub.status.idle": "2022-10-25T16:26:01.286822Z",
          "shell.execute_reply": "2022-10-25T16:26:01.285534Z"
        },
        "id": "21c1f87e",
        "papermill": {
          "duration": 0.021199,
          "end_time": "2022-10-25T16:26:01.289217",
          "exception": false,
          "start_time": "2022-10-25T16:26:01.268018",
          "status": "completed"
        },
        "tags": []
      },
      "outputs": [],
      "source": [
        "t = t - 1"
      ]
    },
    {
      "cell_type": "markdown",
      "id": "b523c406",
      "metadata": {
        "id": "b523c406",
        "papermill": {
          "duration": 0.011199,
          "end_time": "2022-10-25T16:26:01.755879",
          "exception": false,
          "start_time": "2022-10-25T16:26:01.744680",
          "status": "completed"
        },
        "tags": []
      },
      "source": [
        "# Split data"
      ]
    },
    {
      "cell_type": "code",
      "execution_count": 11,
      "id": "19b2d1d7",
      "metadata": {
        "execution": {
          "iopub.execute_input": "2022-10-25T16:26:01.780531Z",
          "iopub.status.busy": "2022-10-25T16:26:01.780063Z",
          "iopub.status.idle": "2022-10-25T16:26:01.793341Z",
          "shell.execute_reply": "2022-10-25T16:26:01.791904Z"
        },
        "id": "19b2d1d7",
        "outputId": "c02ac132-945f-45c6-e6f7-3c4b89f25d9d",
        "papermill": {
          "duration": 0.029665,
          "end_time": "2022-10-25T16:26:01.796838",
          "exception": false,
          "start_time": "2022-10-25T16:26:01.767173",
          "status": "completed"
        },
        "tags": [],
        "colab": {
          "base_uri": "https://localhost:8080/"
        }
      },
      "outputs": [
        {
          "output_type": "stream",
          "name": "stdout",
          "text": [
            "[ 315  235 1480 1538 1087 1009 1677 1094  343 2175 1455 2535 2641  798\n",
            "  417 2238 1781 1445   85 1828 2029 1034 1067 1458 2455  732 2434 2247\n",
            " 2113 2386  689  853 2200 2500  179 1245 1758 1927  709 1826 2529 1099\n",
            "  805  601 1022 1730 2135 1361 2294 2644  206  420  878 2093 1400 1518\n",
            "  934 1622 1279  613  957  190   33 1450  335 1371 2634  103  304 1228\n",
            " 2242 2384 1637  673  222 2340 1765  360  289   25   45 1937  537 1237\n",
            " 1183 2095 2375 2379 2390 2170 2607  589 1833 2628  354  189 2016 1286\n",
            " 1116  556 1918  937 1740  803 2435  257  807 1697 2494 2538  249  683\n",
            " 1673 1391  871 1064 1364  814  184  498 1898 1017 1055  906  645  242\n",
            "  684  779  784 1696 1226  423  966 2596  649 1008 2402  101 1283 1529\n",
            " 2417 1449  616 1107 1845 1011 1572 2525 2380 2651  704 1089  466 1853\n",
            " 2462 1726 2502 2479 1710 1050  469  220  336  263 1535  554 2590 1273\n",
            " 2543  861  449 1224 1957 2537 1106  114 1213 2194  830  973 1504 2168\n",
            "  777 1975  996 2025 2094  707  994 2315 1970  748 1982 2430 1511   43\n",
            " 2291 1822 1547  958 2312 1598 1733 1587 1659  856 1654 2028 2648 2627\n",
            "  148 1347 1624 1688  383  565 2572 2296  381  714   58 1032 2160  353\n",
            " 2021 1000 1788 2445  524 2331 2420 1191 1278 1113  208  132 1621  875\n",
            " 2400  319  800  646 2353  403 1205 1203 1685  364  129 1941 2039 1426\n",
            "  591  252 2048 1489 1247  477 1633 1036 1603  706  440  576 1821 1523\n",
            " 2561 2488  618  590 1362 1464 1945  395 2458 1556 2041  632 1527  720\n",
            " 2337 2116 1260 1915 2211  108  658 2096 1374 1717  897 2421 2512 2003\n",
            " 1809  310 1997 1394  949 2395 1706 1791 2223 2215 2047 2271 1536  243\n",
            " 1310 1351   21  850 1385  723  511 2067  785  970 1840  822  439 2064\n",
            " 1456 1178 2098 2410 2595 2164 1083 2622 2253 2155 1027 1206 2002 2437\n",
            "  680 1727 1955 1842 1678  647 1690 1739  547 1413 1102  476 2612 1578\n",
            " 1832  368  569  116   12 1227 1127 1416 2088 1907 1837  471 1373  270\n",
            " 1356 2505  742 1448   24 2358  594 1938 2459 1269 2657 1925  621 2404\n",
            " 1143 1015 1751 2626  493   31 2653 1430  518  221  431 1319  982  167\n",
            "  671 2138  792 1867  841  110  799 2246 2115  239 1928 2317 2264  379\n",
            " 1878  553 1959 1397 1611 1943 1983  224   75 2316  402  256 1002  746\n",
            " 2035   63 1375 1801 2144 1265 1689 2280   18 2601 1911 2078 1342 1330\n",
            " 2580  141 1383 2642 1103  328 2233  813 1066 2472 1605 1724 2598  610\n",
            "  127 2051  948 1193  971 2178  682 2165 1266  988 1599  730 1077 2258\n",
            " 2325  266 2092  207 2411  215 1195 1415 2469  895 1065 1167 2192   50\n",
            " 1166 1035 1186 1802  196 2262 2578 2554 1156  857  380 2209  767  638\n",
            " 1827 2143 2506  984  501 2456  627 2112 1208 1923 1964 2287   86 2374\n",
            "  976  419 1379 1952 1380 1298 1285  597 1233 1569 2303 2569  429 1676\n",
            " 1482 2332  502 1559   26  738 1117 2012 2134 2329 2102 1200 1920 1703\n",
            "  991  426  327 1701  835 2151 1912 1411 1600 2497 2368 2423 1737 2193\n",
            " 1910 1834  693 1090 1549 2288  352 2487 1216  558 1848 1144 2311 2083\n",
            "   28 2361 1814 1420  641 2489 1657  279   72  536  909 2157  112  891\n",
            " 1204  563 1098 1924  318 1046  735  797 2549 1037 1750  917  838 1042\n",
            "  675  216 2565 2589  529 1179 1097 1612 2621  326 1123 1462  120 2348\n",
            " 2292    5   30 2152  292 2084 1068  667 1743 1617 1471  351  749   91\n",
            " 1461 2623 1020 1412 2511  593 2544 2114 2425 2352 2158 1668  228 1854\n",
            "  903 2180 1671 1121  452  585 2239 2101 2214  615  463 1334 1469 1058\n",
            "  100  444 1721 1808 1476 1187 1360 1670 2049 1830 1451 1798  969 2486\n",
            " 2045 1052  633 1933  952  515  968  809   13  961 2310  717 1843 1051\n",
            "  981 2136  410 2053  421 1967 1119 2068 1976  388  198 1695 2522 2594\n",
            "  564 1446 2520 2243 2119  698 1012 2190  183  155 1340 2508 1623  500\n",
            "  188 1613 2133 2122  409 1344 2476 1043 2231  406  926  504 1463 1459\n",
            " 1256  775  118  804 1960  275 1306  611 1754 2454 2406  914  630 2658\n",
            " 2218 1308    7  820 2422  574 1779  595  204  728  276 1276 2440 1199\n",
            "  972  978 1483 1887   74  236 1234  187 1324  923  375 1805  349  350\n",
            "  776 2221 2228 2020 1773 1280  606  237 2091  715  623  546 1295 2324\n",
            "   84 1800 1079 1995 2279  756 2126 1473  882 2199  734 1440  157 1846\n",
            " 1155 1818  193 2367 1965 2081  995 2245 1573  229   56 2125 1700  458\n",
            " 1126 2278]\n",
            "(1865, 4) (1865, 1)\n"
          ]
        }
      ],
      "source": [
        "import numpy.matlib\n",
        "from sklearn.model_selection import ShuffleSplit, StratifiedShuffleSplit\n",
        "Ns = 1\n",
        "ss = ShuffleSplit(n_splits=Ns, test_size=0.3, random_state=123)\n",
        "for train_index, test_index in ss.split(X):\n",
        "    print(test_index)\n",
        "    X_train, X_test = X[train_index,:], X[test_index,:]  #, Ytr_mv[train_index,:], Ytr_mv[test_index,:]\n",
        "    Y_true_train, Y_true_test = t[train_index].reshape(-1,1), t[test_index].reshape(-1,1)\n",
        "print(X_train.shape,  Y_true_train.shape)"
      ]
    },
    {
      "cell_type": "markdown",
      "id": "a5f85edd",
      "metadata": {
        "id": "a5f85edd",
        "papermill": {
          "duration": 0.01083,
          "end_time": "2022-10-25T16:26:01.819576",
          "exception": false,
          "start_time": "2022-10-25T16:26:01.808746",
          "status": "completed"
        },
        "tags": []
      },
      "source": [
        "# Apply MinMaxScaler"
      ]
    },
    {
      "cell_type": "code",
      "execution_count": 12,
      "id": "67232c9f",
      "metadata": {
        "execution": {
          "iopub.execute_input": "2022-10-25T16:26:01.843210Z",
          "iopub.status.busy": "2022-10-25T16:26:01.842786Z",
          "iopub.status.idle": "2022-10-25T16:26:01.850551Z",
          "shell.execute_reply": "2022-10-25T16:26:01.849189Z"
        },
        "id": "67232c9f",
        "papermill": {
          "duration": 0.022954,
          "end_time": "2022-10-25T16:26:01.853601",
          "exception": false,
          "start_time": "2022-10-25T16:26:01.830647",
          "status": "completed"
        },
        "tags": []
      },
      "outputs": [],
      "source": [
        "scaler = MinMaxScaler()\n",
        "scaler.fit(X_train)\n",
        "X_train = scaler.transform(X_train)\n",
        "X_test = scaler.transform(X_test)"
      ]
    },
    {
      "cell_type": "markdown",
      "id": "85c26282",
      "metadata": {
        "id": "85c26282",
        "papermill": {
          "duration": 0.011418,
          "end_time": "2022-10-25T16:26:01.876124",
          "exception": false,
          "start_time": "2022-10-25T16:26:01.864706",
          "status": "completed"
        },
        "tags": []
      },
      "source": [
        "# Testing the Class \n"
      ]
    },
    {
      "cell_type": "code",
      "source": [
        "from sklearn.metrics import classification_report, balanced_accuracy_score\n",
        "from sklearn.metrics import normalized_mutual_info_score, mutual_info_score, adjusted_mutual_info_score\n",
        "l1 =  0.0001\n",
        "NUM_RUNS =10\n",
        "ACC = np.zeros(NUM_RUNS)\n",
        "AUC = np.zeros(NUM_RUNS)\n",
        "MI = np.zeros(NUM_RUNS)\n",
        "NMI = np.zeros(NUM_RUNS)\n",
        "AMI = np.zeros(NUM_RUNS)\n",
        "BACC = np.zeros(NUM_RUNS)\n",
        "for i in range(NUM_RUNS): #10\n",
        "    print(\"iteration: \" + str(i))\n",
        "   \n",
        "    MA = Keras_MA_PRI(epochs=100,batch_size=256,R=5, K=2, dropout=0.5, learning_rate=0.01,optimizer='Adam', \n",
        "                    l1_param=l1,  validation_split=0.3, verbose=0)\n",
        "    \n",
        "    MA.fit(X_train,  Y_true_train)\n",
        "    MA.plot_history()\n",
        "  \n",
        "    #Accuracy\n",
        "    pred_2 = MA.predict(X_test)\n",
        " \n",
        "    report = classification_report( pred_2.argmax(axis=1),Y_true_test.ravel(),output_dict=True)\n",
        "    ACC[i] = report['accuracy']\n",
        "    print(\"Validation ACC: %.4f\" % (float(ACC[i])))\n",
        "\n",
        "\n",
        "    # balanced. Accurcy\n",
        "    BACC[i] = balanced_accuracy_score(Y_true_test.squeeze(), pred_2.argmax(axis=1).squeeze(), adjusted=True)\n",
        "    print(\"Validation Balanced_ACC: %.4f\" % (float(BACC[i])))\n",
        "\n",
        "    #MI\n",
        "    \n",
        "    MI[i] = mutual_info_score(Y_true_test.squeeze(), pred_2.argmax(axis=1).squeeze())\n",
        "    print(\"Validation MI: %.4f\" % (float(MI[i]),))\n",
        "    NMI[i] = normalized_mutual_info_score(Y_true_test.squeeze(), pred_2.argmax(axis=1).squeeze())\n",
        "    print(\"Validation Normalized MI: %.4f\" % (float(NMI[i]),))\n",
        "    AMI[i]= adjusted_mutual_info_score(Y_true_test.squeeze(), pred_2.argmax(axis=1).squeeze())\n",
        "    print(\"Validation Adjusted MI: %.4f\" % (float(AMI[i]),))\n",
        "\n",
        "\n",
        "    #AUC\n",
        "    val_AUC_metric = tf.keras.metrics.AUC( from_logits = True)  \n",
        "   # val_logits =MA.predict(X_test) # model(X_test, training=False)\n",
        "    # tf.print(y_batch_val)\n",
        "    val_AUC_metric.update_state(Y_true_test, pred_2.argmax(axis=1).astype('float'))\n",
        "\n",
        "    val_AUC = val_AUC_metric.result()\n",
        "    val_AUC_metric.reset_states()\n",
        "    val_AUC = val_AUC.numpy()\n",
        "    print(\"Validation aUc: %.4f\" % (float(val_AUC),))\n",
        "    AUC[i] = val_AUC\n",
        "    "
      ],
      "metadata": {
        "colab": {
          "base_uri": "https://localhost:8080/",
          "height": 1000
        },
        "id": "6XkGRu6uc371",
        "outputId": "c59e1923-4dc2-45f1-ed5f-84bde84091bf"
      },
      "id": "6XkGRu6uc371",
      "execution_count": 13,
      "outputs": [
        {
          "output_type": "stream",
          "name": "stdout",
          "text": [
            "iteration: 0\n"
          ]
        },
        {
          "output_type": "display_data",
          "data": {
            "text/plain": [
              "<Figure size 576x360 with 1 Axes>"
            ],
            "image/png": "[encoded data removed]"
          },
          "metadata": {
            "needs_background": "light"
          }
        },
        {
          "output_type": "stream",
          "name": "stdout",
          "text": [
            "25/25 [==============================] - 0s 1ms/step\n",
            "Validation ACC: 0.9762\n",
            "Validation Balanced_ACC: 0.9603\n",
            "Validation MI: 0.5470\n",
            "Validation Normalized MI: 0.8416\n",
            "Validation Adjusted MI: 0.8415\n",
            "Validation aUc: 0.9802\n",
            "iteration: 1\n"
          ]
        },
        {
          "output_type": "display_data",
          "data": {
            "text/plain": [
              "<Figure size 576x360 with 1 Axes>"
            ],
            "image/png": "[encoded data removed]"
          },
          "metadata": {
            "needs_background": "light"
          }
        },
        {
          "output_type": "stream",
          "name": "stdout",
          "text": [
            "25/25 [==============================] - 0s 1ms/step\n",
            "Validation ACC: 0.9750\n",
            "Validation Balanced_ACC: 0.9584\n",
            "Validation MI: 0.5435\n",
            "Validation Normalized MI: 0.8358\n",
            "Validation Adjusted MI: 0.8356\n",
            "Validation aUc: 0.9792\n",
            "iteration: 2\n"
          ]
        },
        {
          "output_type": "display_data",
          "data": {
            "text/plain": [
              "<Figure size 576x360 with 1 Axes>"
            ],
            "image/png": "[encoded data removed]"
          },
          "metadata": {
            "needs_background": "light"
          }
        },
        {
          "output_type": "stream",
          "name": "stdout",
          "text": [
            "25/25 [==============================] - 0s 1ms/step\n",
            "Validation ACC: 0.9750\n",
            "Validation Balanced_ACC: 0.9584\n",
            "Validation MI: 0.5435\n",
            "Validation Normalized MI: 0.8358\n",
            "Validation Adjusted MI: 0.8356\n",
            "Validation aUc: 0.9792\n",
            "iteration: 3\n"
          ]
        },
        {
          "output_type": "display_data",
          "data": {
            "text/plain": [
              "<Figure size 576x360 with 1 Axes>"
            ],
            "image/png": "[encoded data removed]"
          },
          "metadata": {
            "needs_background": "light"
          }
        },
        {
          "output_type": "stream",
          "name": "stdout",
          "text": [
            "25/25 [==============================] - 0s 1ms/step\n",
            "Validation ACC: 0.9788\n",
            "Validation Balanced_ACC: 0.9590\n",
            "Validation MI: 0.5470\n",
            "Validation Normalized MI: 0.8454\n",
            "Validation Adjusted MI: 0.8453\n",
            "Validation aUc: 0.9795\n",
            "iteration: 4\n"
          ]
        },
        {
          "output_type": "display_data",
          "data": {
            "text/plain": [
              "<Figure size 576x360 with 1 Axes>"
            ],
            "image/png": "[encoded data removed]"
          },
          "metadata": {
            "needs_background": "light"
          }
        },
        {
          "output_type": "stream",
          "name": "stdout",
          "text": [
            "25/25 [==============================] - 0s 2ms/step\n",
            "Validation ACC: 0.9762\n",
            "Validation Balanced_ACC: 0.9603\n",
            "Validation MI: 0.5470\n",
            "Validation Normalized MI: 0.8416\n",
            "Validation Adjusted MI: 0.8415\n",
            "Validation aUc: 0.9802\n",
            "iteration: 5\n"
          ]
        },
        {
          "output_type": "display_data",
          "data": {
            "text/plain": [
              "<Figure size 576x360 with 1 Axes>"
            ],
            "image/png": "[encoded data removed]"
          },
          "metadata": {
            "needs_background": "light"
          }
        },
        {
          "output_type": "stream",
          "name": "stdout",
          "text": [
            "25/25 [==============================] - 0s 1ms/step\n",
            "Validation ACC: 0.9762\n",
            "Validation Balanced_ACC: 0.9603\n",
            "Validation MI: 0.5470\n",
            "Validation Normalized MI: 0.8416\n",
            "Validation Adjusted MI: 0.8415\n",
            "Validation aUc: 0.9802\n",
            "iteration: 6\n"
          ]
        },
        {
          "output_type": "display_data",
          "data": {
            "text/plain": [
              "<Figure size 576x360 with 1 Axes>"
            ],
            "image/png": "[encoded data removed]"
          },
          "metadata": {
            "needs_background": "light"
          }
        },
        {
          "output_type": "stream",
          "name": "stdout",
          "text": [
            "25/25 [==============================] - 0s 2ms/step\n",
            "Validation ACC: 0.9762\n",
            "Validation Balanced_ACC: 0.9603\n",
            "Validation MI: 0.5470\n",
            "Validation Normalized MI: 0.8416\n",
            "Validation Adjusted MI: 0.8415\n",
            "Validation aUc: 0.9802\n",
            "iteration: 7\n"
          ]
        },
        {
          "output_type": "display_data",
          "data": {
            "text/plain": [
              "<Figure size 576x360 with 1 Axes>"
            ],
            "image/png": "[encoded data removed]"
          },
          "metadata": {
            "needs_background": "light"
          }
        },
        {
          "output_type": "stream",
          "name": "stdout",
          "text": [
            "25/25 [==============================] - 0s 1ms/step\n",
            "Validation ACC: 0.9750\n",
            "Validation Balanced_ACC: 0.9584\n",
            "Validation MI: 0.5435\n",
            "Validation Normalized MI: 0.8358\n",
            "Validation Adjusted MI: 0.8356\n",
            "Validation aUc: 0.9792\n",
            "iteration: 8\n"
          ]
        },
        {
          "output_type": "display_data",
          "data": {
            "text/plain": [
              "<Figure size 576x360 with 1 Axes>"
            ],
            "image/png": "[encoded data removed]"
          },
          "metadata": {
            "needs_background": "light"
          }
        },
        {
          "output_type": "stream",
          "name": "stdout",
          "text": [
            "25/25 [==============================] - 0s 1ms/step\n",
            "Validation ACC: 0.9750\n",
            "Validation Balanced_ACC: 0.9584\n",
            "Validation MI: 0.5435\n",
            "Validation Normalized MI: 0.8358\n",
            "Validation Adjusted MI: 0.8356\n",
            "Validation aUc: 0.9792\n",
            "iteration: 9\n"
          ]
        },
        {
          "output_type": "display_data",
          "data": {
            "text/plain": [
              "<Figure size 576x360 with 1 Axes>"
            ],
            "image/png": "[encoded data removed]"
          },
          "metadata": {
            "needs_background": "light"
          }
        },
        {
          "output_type": "stream",
          "name": "stdout",
          "text": [
            "25/25 [==============================] - 0s 2ms/step\n",
            "Validation ACC: 0.9750\n",
            "Validation Balanced_ACC: 0.9584\n",
            "Validation MI: 0.5435\n",
            "Validation Normalized MI: 0.8358\n",
            "Validation Adjusted MI: 0.8356\n",
            "Validation aUc: 0.9792\n"
          ]
        }
      ]
    },
    {
      "cell_type": "code",
      "execution_count": 15,
      "id": "a7972f6e",
      "metadata": {
        "execution": {
          "iopub.execute_input": "2022-10-25T16:26:20.535351Z",
          "iopub.status.busy": "2022-10-25T16:26:20.534704Z",
          "iopub.status.idle": "2022-10-25T16:26:20.638582Z",
          "shell.execute_reply": "2022-10-25T16:26:20.636858Z"
        },
        "id": "a7972f6e",
        "papermill": {
          "duration": 0.120287,
          "end_time": "2022-10-25T16:26:20.642336",
          "exception": false,
          "start_time": "2022-10-25T16:26:20.522049",
          "status": "completed"
        },
        "tags": [],
        "colab": {
          "base_uri": "https://localhost:8080/"
        },
        "outputId": "063a1b9e-45f6-437e-f15b-b3e8fad6ec52"
      },
      "outputs": [
        {
          "output_type": "execute_result",
          "data": {
            "text/plain": [
              "array([0.97625, 0.975  , 0.975  , 0.97875, 0.97625, 0.97625, 0.97625,\n",
              "       0.975  , 0.975  , 0.975  ])"
            ]
          },
          "metadata": {},
          "execution_count": 15
        }
      ],
      "source": [
        "\n",
        "ACC"
      ]
    },
    {
      "cell_type": "code",
      "source": [
        "\n",
        "AUC"
      ],
      "metadata": {
        "colab": {
          "base_uri": "https://localhost:8080/"
        },
        "id": "bAgG_knDzvlM",
        "outputId": "36782218-68d2-4043-9927-2e06702492c6"
      },
      "id": "bAgG_knDzvlM",
      "execution_count": 16,
      "outputs": [
        {
          "output_type": "execute_result",
          "data": {
            "text/plain": [
              "array([0.98015541, 0.9792012 , 0.9792012 , 0.97949159, 0.98015541,\n",
              "       0.98015541, 0.98015541, 0.9792012 , 0.9792012 , 0.9792012 ])"
            ]
          },
          "metadata": {},
          "execution_count": 16
        }
      ]
    },
    {
      "cell_type": "markdown",
      "source": [
        "# Accuracy Results"
      ],
      "metadata": {
        "id": "lsN8TxQCz8ck"
      },
      "id": "lsN8TxQCz8ck"
    },
    {
      "cell_type": "code",
      "execution_count": 17,
      "id": "297b5917",
      "metadata": {
        "execution": {
          "iopub.execute_input": "2022-10-25T16:26:20.669590Z",
          "iopub.status.busy": "2022-10-25T16:26:20.669121Z",
          "iopub.status.idle": "2022-10-25T16:26:20.673772Z",
          "shell.execute_reply": "2022-10-25T16:26:20.672863Z"
        },
        "id": "297b5917",
        "papermill": {
          "duration": 0.020783,
          "end_time": "2022-10-25T16:26:20.675918",
          "exception": false,
          "start_time": "2022-10-25T16:26:20.655135",
          "status": "completed"
        },
        "tags": [],
        "colab": {
          "base_uri": "https://localhost:8080/"
        },
        "outputId": "499b68a4-2339-4c48-9c58-733bd966cf20"
      },
      "outputs": [
        {
          "output_type": "stream",
          "name": "stdout",
          "text": [
            "Average Accuracy:  97.59\n",
            "Average std:  0.11\n"
          ]
        }
      ],
      "source": [
        "print('Average Accuracy: ', np.round( ACC.mean(),4)*100) \n",
        "print('Average std: ',np.round(np.std( ACC),4)*100)"
      ]
    },
    {
      "cell_type": "markdown",
      "source": [
        "#AUC results"
      ],
      "metadata": {
        "id": "lUEnXPiT0AJ6"
      },
      "id": "lUEnXPiT0AJ6"
    },
    {
      "cell_type": "code",
      "source": [
        "print('Average Accuracy: ', np.round( AUC.mean(),4)*100) \n",
        "print('Average std: ',np.round(np.std( AUC),4)*100)"
      ],
      "metadata": {
        "colab": {
          "base_uri": "https://localhost:8080/"
        },
        "id": "IsM5jKAAzx-l",
        "outputId": "3b78f08e-65eb-40a4-da9e-757c19cdec41"
      },
      "id": "IsM5jKAAzx-l",
      "execution_count": 18,
      "outputs": [
        {
          "output_type": "stream",
          "name": "stdout",
          "text": [
            "Average Accuracy:  97.96000000000001\n",
            "Average std:  0.05\n"
          ]
        }
      ]
    },
    {
      "cell_type": "code",
      "source": [
        "print('Average Accuracy: ', np.round( ACC.mean(),4)*100) \n",
        "print('Average std: ',np.round(np.std( ACC),4)*100)\n",
        "print('==============================================')\n",
        "print('Average AUC: ', np.round( AUC.mean(),4)*100) \n",
        "print('Average AUC std: ',np.round(np.std( AUC),4)*100)\n",
        "print('==============================================')\n",
        "print('Average Balanced Accuracy: ', np.round( BACC.mean(),4)*100) \n",
        "print('Average std: ',np.round(np.std( BACC),4)*100)\n",
        "print('==============================================')\n",
        "print('Average MI: ', np.round( MI.mean(),4)*100) \n",
        "print('Average std: ',np.round(np.std(MI),4)*100)\n",
        "print('==============================================')\n",
        "print('Average Normalized MI: ', np.round( NMI.mean(),4)*100) \n",
        "print('Average std: ',np.round(np.std(NMI),4)*100)\n",
        "print('==============================================')\n",
        "print('Average Ajdusted MI: ', np.round( AMI.mean(),4)*100) \n",
        "print('Average std: ',np.round(np.std(AMI),4)*100)"
      ],
      "metadata": {
        "id": "JPEPCMjF0Ex2",
        "colab": {
          "base_uri": "https://localhost:8080/"
        },
        "outputId": "e4b8dfa6-e084-406d-9d71-9888c7142cd7"
      },
      "id": "JPEPCMjF0Ex2",
      "execution_count": 19,
      "outputs": [
        {
          "output_type": "stream",
          "name": "stdout",
          "text": [
            "Average Accuracy:  97.59\n",
            "Average std:  0.11\n",
            "==============================================\n",
            "Average AUC:  97.96000000000001\n",
            "Average AUC std:  0.05\n",
            "==============================================\n",
            "Average Balanced Accuracy:  95.92\n",
            "Average std:  0.09\n",
            "==============================================\n",
            "Average MI:  54.52\n",
            "Average std:  0.18\n",
            "==============================================\n",
            "Average Normalized MI:  83.91\n",
            "Average std:  0.35000000000000003\n",
            "==============================================\n",
            "Average Ajdusted MI:  83.89\n",
            "Average std:  0.35000000000000003\n"
          ]
        }
      ]
    }
  ],
  "metadata": {
    "kernelspec": {
      "display_name": "Python 3",
      "language": "python",
      "name": "python3"
    },
    "language_info": {
      "codemirror_mode": {
        "name": "ipython",
        "version": 3
      },
      "file_extension": ".py",
      "mimetype": "text/x-python",
      "name": "python",
      "nbconvert_exporter": "python",
      "pygments_lexer": "ipython3",
      "version": "3.7.12"
    },
    "papermill": {
      "default_parameters": {},
      "duration": 3108.374222,
      "end_time": "2022-10-25T17:16:47.784802",
      "environment_variables": {},
      "exception": null,
      "input_path": "__notebook__.ipynb",
      "output_path": "__notebook__.ipynb",
      "parameters": {},
      "start_time": "2022-10-25T16:24:59.410580",
      "version": "2.3.4"
    },
    "colab": {
      "provenance": [],
      "include_colab_link": true
    },
    "accelerator": "GPU",
    "gpuClass": "standard"
  },
  "nbformat": 4,
  "nbformat_minor": 5
}