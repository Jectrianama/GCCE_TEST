{
  "cells": [
    {
      "cell_type": "markdown",
      "metadata": {
        "id": "view-in-github",
        "colab_type": "text"
      },
      "source": [
        "<a href=\"https://colab.research.google.com/github/Jectrianama/GCCE_TEST/blob/main/Majority_Voting/mv_Balance_randose.ipynb\" target=\"_parent\"><img src=\"https://colab.research.google.com/assets/colab-badge.svg\" alt=\"Open In Colab\"/></a>"
      ]
    },
    {
      "cell_type": "markdown",
      "id": "2a315ed1",
      "metadata": {
        "id": "2a315ed1",
        "papermill": {
          "duration": 0.01063,
          "end_time": "2022-10-25T16:12:23.477305",
          "exception": false,
          "start_time": "2022-10-25T16:12:23.466675",
          "status": "completed"
        },
        "tags": []
      },
      "source": [
        "\n",
        "\n",
        "## Principle of relevant information for MA\n",
        "\n",
        "$$\\min_X H(X)+\\lambda D_{KL}(X||X_o) = H(X)+\\lambda (H(X;X_o) - H(X)))$$\n",
        "\n",
        "$$\\min_X (1-\\lambda)H(X)+\\lambda H(X;X_o)$$\n",
        "\n",
        "## Principle of relevant information for RCDNN MA\n",
        "\n",
        "$$\\min_\\theta \\sum_n \\sum_{r\\in\\Psi_n} (1-\\lambda^r_n(\\theta))H(\\hat{\\mathbf{y}}_n(\\theta))+\\lambda_n^r(\\theta)H({\\mathbf{y}}^r_n;\\hat{\\mathbf{y}}_n(\\theta))$$\n",
        "\n",
        "${\\mathbf{y}}^r_n\\in[0,1]^K$: 1-K label vector for the r-th annotator\n",
        "\n",
        "$\\hat{{\\mathbf{y}}}_n\\in[0,1]^K$: 1-K label vector for the RCDNN prediction\n",
        "\n",
        "$\\lambda_n^r(\\theta)\\in[0,1]$: annotator reliability\n",
        "\n",
        "$\\theta$: RCDNN parameters (network weights and bias)\n",
        "\n",
        "$H(\\hat{\\mathbf{y}}_n(\\theta))= \\sum_k \\hat{y}_{n,k}\\log\\left(\\hat{y}_{n,k}\\right)$: marginal entropy\n",
        "\n",
        "$H({\\mathbf{y}}^r_n;\\hat{\\mathbf{y}}_n(\\theta)) = \\sum_k {y}^r_{n,k}\\log\\left(\\hat{y}_{n,k}\\right)$: cross-entropy\n",
        "\n",
        "Then:\n",
        "\n",
        "\n",
        "$$\\min_\\theta \\sum_n\\left(\\sum_r \\lambda_n^r(\\theta)H({\\mathbf{y}}^r_n;\\hat{\\mathbf{y}}_n(\\theta))\\right)+\\left(H(\\hat{\\mathbf{y}}_n(\\theta))\\sum_r\\left(1-\\lambda_n^r(\\theta)\\right)\\right)$$\n",
        "\n",
        "\n",
        "\n",
        "## Matrix-based computation\n",
        "\n",
        "$$\\min_\\theta \\text{tr}\\left(\\mathbf{\\Lambda}^\\top\\mathbf{H}_{y,\\hat{y}}\\right) + \\mathbf{H}_{\\hat{y}}^\\top(\\mathbf{1}_N\\mathbf{1}^\\top_R-\\mathbf{\\Lambda})\\mathbf{1}_R$$\n",
        "\n",
        "$\\mathbf{1}_N\\in\\mathbb{R}^{N\\times 1}$, $\\mathbf{1}_R\\in\\mathbb{R}^{R\\times 1}$\n",
        "\n",
        "$\\mathbf{\\Lambda}\\in[0,1]^{N\\times R}$\n",
        "\n",
        "$\\mathbf{H}_{\\hat{y}}\\in\\mathbb{R}^{N\\times 1}$\n",
        "\n",
        "$\\mathbf{H}_{y,\\hat{y}}\\in\\mathbb{R}^{N\\times R}$"
      ]
    },
    {
      "cell_type": "markdown",
      "metadata": {
        "id": "4f9c5ef6",
        "papermill": {
          "duration": 0.010632,
          "end_time": "2022-10-25T15:29:44.364990",
          "exception": false,
          "start_time": "2022-10-25T15:29:44.354358",
          "status": "completed"
        },
        "tags": []
      },
      "source": [
        "\n",
        "\n",
        "## Principle of relevant information for MA\n",
        "\n",
        "$$\\min_X H(X)+\\lambda D_{KL}(X||X_o) = H(X)+\\lambda (H(X;X_o) - H(X)))$$\n",
        "\n",
        "$$\\min_X (1-\\lambda)H(X)+\\lambda H(X;X_o)$$\n",
        "\n",
        "## Principle of relevant information for RCDNN MA\n",
        "\n",
        "$$\\min_\\theta \\sum_n \\sum_{r\\in\\Psi_n} (1-\\lambda^r_n(\\theta))H(\\hat{\\mathbf{y}}_n(\\theta))+\\lambda_n^r(\\theta)H({\\mathbf{y}}^r_n;\\hat{\\mathbf{y}}_n(\\theta))$$\n",
        "\n",
        "${\\mathbf{y}}^r_n\\in[0,1]^K$: 1-K label vector for the r-th annotator\n",
        "\n",
        "$\\hat{{\\mathbf{y}}}_n\\in[0,1]^K$: 1-K label vector for the RCDNN prediction\n",
        "\n",
        "$\\lambda_n^r(\\theta)\\in[0,1]$: annotator reliability\n",
        "\n",
        "$\\theta$: RCDNN parameters (network weights and bias)\n",
        "\n",
        "$H(\\hat{\\mathbf{y}}_n(\\theta))= \\sum_k \\hat{y}_{n,k}\\log\\left(\\hat{y}_{n,k}\\right)$: marginal entropy\n",
        "\n",
        "$H({\\mathbf{y}}^r_n;\\hat{\\mathbf{y}}_n(\\theta)) = \\sum_k {y}^r_{n,k}\\log\\left(\\hat{y}_{n,k}\\right)$: cross-entropy\n",
        "\n",
        "Then:\n",
        "\n",
        "\n",
        "$$\\min_\\theta \\sum_n\\left(\\sum_r \\lambda_n^r(\\theta)H({\\mathbf{y}}^r_n;\\hat{\\mathbf{y}}_n(\\theta))\\right)+\\left(H(\\hat{\\mathbf{y}}_n(\\theta))\\sum_r\\left(1-\\lambda_n^r(\\theta)\\right)\\right)$$\n",
        "\n",
        "\n",
        "\n",
        "## Matrix-based computation\n",
        "\n",
        "$$\\min_\\theta \\text{tr}\\left(\\mathbf{\\Lambda}^\\top\\mathbf{H}_{y,\\hat{y}}\\right) + \\mathbf{H}_{\\hat{y}}^\\top(\\mathbf{1}_N\\mathbf{1}^\\top_R-\\mathbf{\\Lambda})\\mathbf{1}_R$$\n",
        "\n",
        "$\\mathbf{1}_N\\in\\mathbb{R}^{N\\times 1}$, $\\mathbf{1}_R\\in\\mathbb{R}^{R\\times 1}$\n",
        "\n",
        "$\\mathbf{\\Lambda}\\in[0,1]^{N\\times R}$\n",
        "\n",
        "$\\mathbf{H}_{\\hat{y}}\\in\\mathbb{R}^{N\\times 1}$\n",
        "\n",
        "$\\mathbf{H}_{y,\\hat{y}}\\in\\mathbb{R}^{N\\times R}$"
      ],
      "id": "4f9c5ef6"
    },
    {
      "cell_type": "code",
      "execution_count": 80,
      "metadata": {
        "execution": {
          "iopub.execute_input": "2022-10-25T15:29:54.227583Z",
          "iopub.status.busy": "2022-10-25T15:29:54.226029Z",
          "iopub.status.idle": "2022-10-25T15:29:54.231765Z",
          "shell.execute_reply": "2022-10-25T15:29:54.230959Z"
        },
        "id": "f6c3187a",
        "outputId": "2f1624ba-78e5-4594-bb80-692a057e5162",
        "papermill": {
          "duration": 0.018811,
          "end_time": "2022-10-25T15:29:54.234132",
          "exception": false,
          "start_time": "2022-10-25T15:29:54.215321",
          "status": "completed"
        },
        "tags": [],
        "colab": {
          "base_uri": "https://localhost:8080/"
        }
      },
      "outputs": [
        {
          "output_type": "stream",
          "name": "stdout",
          "text": [
            "--2022-12-17 23:41:43--  https://docs.google.com/uc?export=download&confirm=&id=1sKe2Y8ySCqSjmBprPUUj7zVU5QiicaTV\n",
            "Resolving docs.google.com (docs.google.com)... 172.217.212.100, 172.217.212.101, 172.217.212.139, ...\n",
            "Connecting to docs.google.com (docs.google.com)|172.217.212.100|:443... connected.\n",
            "HTTP request sent, awaiting response... 303 See Other\n",
            "Location: https://doc-0c-90-docs.googleusercontent.com/docs/securesc/ha0ro937gcuc7l7deffksulhg5h7mbp1/5v1nnfr5o6dvb8e8l583v6j9ria5230q/1671320475000/07591141114418430227/*/1sKe2Y8ySCqSjmBprPUUj7zVU5QiicaTV?e=download&uuid=8851a363-be7b-48f5-924d-68b08fd5b9b7 [following]\n",
            "Warning: wildcards not supported in HTTP.\n",
            "--2022-12-17 23:41:43--  https://doc-0c-90-docs.googleusercontent.com/docs/securesc/ha0ro937gcuc7l7deffksulhg5h7mbp1/5v1nnfr5o6dvb8e8l583v6j9ria5230q/1671320475000/07591141114418430227/*/1sKe2Y8ySCqSjmBprPUUj7zVU5QiicaTV?e=download&uuid=8851a363-be7b-48f5-924d-68b08fd5b9b7\n",
            "Resolving doc-0c-90-docs.googleusercontent.com (doc-0c-90-docs.googleusercontent.com)... 173.194.195.132, 2607:f8b0:4001:c11::84\n",
            "Connecting to doc-0c-90-docs.googleusercontent.com (doc-0c-90-docs.googleusercontent.com)|173.194.195.132|:443... connected.\n",
            "HTTP request sent, awaiting response... 200 OK\n",
            "Length: 1429 (1.4K) [application/x-zip-compressed]\n",
            "Saving to: ‘balance-scale.zip’\n",
            "\n",
            "balance-scale.zip   100%[===================>]   1.40K  --.-KB/s    in 0s      \n",
            "\n",
            "2022-12-17 23:41:43 (59.6 MB/s) - ‘balance-scale.zip’ saved [1429/1429]\n",
            "\n",
            "Archive:  balance-scale.zip\n",
            "  inflating: balance-scale.csv       \n",
            "balance-scale.csv  balance-scale.zip  sample_data\n"
          ]
        }
      ],
      "source": [
        "#cargar datos desde drive acceso libre#\n",
        "#https://drive.google.com/file/d/1sKe2Y8ySCqSjmBprPUUj7zVU5QiicaTV/view?usp=share_link\n",
        "FILEID = \"1sKe2Y8ySCqSjmBprPUUj7zVU5QiicaTV\"\n",
        "#https://drive.google.com/file/d/1SQnWXGROG2Xexs5vn3twuv7SqiWG5njW/view?usp=sharing\n",
        "!wget --load-cookies /tmp/cookies.txt \"https://docs.google.com/uc?export=download&confirm=$(wget --quiet --save-cookies /tmp/cookies.txt --keep-session-cookies --no-check-certificate 'https://docs.google.com/uc?export=download&id='$FILEID -O- | sed -rn 's/.*confirm=([0-9A-Za-z_]+).*/\\1\\n/p')&id=\"$FILEID -O balance-scale.zip && rm -rf /tmp/cookies.txt\n",
        "!unzip -o balance-scale.zip\n",
        "!dir"
      ],
      "id": "f6c3187a"
    },
    {
      "cell_type": "code",
      "execution_count": 81,
      "metadata": {
        "execution": {
          "iopub.execute_input": "2022-10-25T15:29:54.274636Z",
          "iopub.status.busy": "2022-10-25T15:29:54.274135Z",
          "iopub.status.idle": "2022-10-25T15:29:54.349675Z",
          "shell.execute_reply": "2022-10-25T15:29:54.347735Z"
        },
        "id": "314154b6",
        "outputId": "d05ddffb-1c9b-48f4-a767-23f7707aa0f5",
        "papermill": {
          "duration": 0.089199,
          "end_time": "2022-10-25T15:29:54.352328",
          "exception": false,
          "start_time": "2022-10-25T15:29:54.263129",
          "status": "completed"
        },
        "tags": [],
        "colab": {
          "base_uri": "https://localhost:8080/"
        }
      },
      "outputs": [
        {
          "output_type": "stream",
          "name": "stdout",
          "text": [
            "X (625, 4) t (625,)\n"
          ]
        },
        {
          "output_type": "execute_result",
          "data": {
            "text/plain": [
              "array([1, 3, 3, 3, 3, 3, 3, 3, 3, 3, 3, 3, 3, 3, 3, 3, 3, 3, 3, 3, 3, 3,\n",
              "       3, 3, 3, 2, 1, 3, 3, 3, 1, 3, 3, 3, 3, 3, 3, 3, 3, 3, 3, 3, 3, 3,\n",
              "       3, 3, 3, 3, 3, 3, 2, 2, 1, 3, 3, 2, 3, 3, 3, 3, 1, 3, 3, 3, 3, 3,\n",
              "       3, 3, 3, 3, 3, 3, 3, 3, 3, 2, 2, 2, 1, 3, 2, 1, 3, 3, 3, 2, 3, 3,\n",
              "       3, 3, 1, 3, 3, 3, 3, 3, 3, 3, 3, 3, 2, 2, 2, 2, 1, 2, 2, 3, 3, 3,\n",
              "       2, 3, 3, 3, 3, 2, 3, 3, 3, 3, 1, 3, 3, 3, 3, 2, 1, 3, 3, 3, 1, 3,\n",
              "       3, 3, 3, 3, 3, 3, 3, 3, 3, 3, 3, 3, 3, 3, 3, 3, 3, 3, 2, 2, 2, 1,\n",
              "       3, 2, 1, 3, 3, 3, 2, 3, 3, 3, 3, 1, 3, 3, 3, 3, 3, 3, 3, 3, 3, 2,\n",
              "       2, 2, 2, 2, 2, 2, 1, 3, 3, 2, 1, 3, 3, 3, 2, 3, 3, 3, 3, 2, 3, 3,\n",
              "       3, 3, 2, 2, 2, 2, 2, 2, 2, 2, 1, 3, 2, 2, 3, 3, 3, 2, 1, 3, 3, 3,\n",
              "       2, 3, 3, 3, 3, 2, 2, 2, 2, 2, 2, 2, 2, 2, 1, 2, 2, 2, 3, 3, 2, 2,\n",
              "       3, 3, 3, 2, 1, 3, 3, 3, 2, 2, 1, 3, 3, 2, 3, 3, 3, 3, 1, 3, 3, 3,\n",
              "       3, 3, 3, 3, 3, 3, 3, 3, 3, 3, 3, 2, 2, 2, 2, 2, 2, 2, 1, 3, 3, 2,\n",
              "       1, 3, 3, 3, 2, 3, 3, 3, 3, 2, 3, 3, 3, 3, 2, 2, 2, 2, 2, 2, 2, 2,\n",
              "       2, 3, 2, 2, 1, 3, 3, 2, 2, 3, 3, 3, 2, 3, 3, 3, 3, 2, 2, 2, 2, 2,\n",
              "       2, 2, 2, 2, 2, 2, 2, 2, 1, 3, 2, 2, 1, 3, 3, 2, 2, 3, 3, 3, 2, 2,\n",
              "       2, 2, 2, 2, 2, 2, 2, 2, 2, 2, 2, 2, 1, 2, 2, 2, 3, 3, 2, 2, 1, 3,\n",
              "       3, 2, 2, 2, 1, 3, 2, 1, 3, 3, 3, 2, 3, 3, 3, 3, 1, 3, 3, 3, 3, 3,\n",
              "       3, 3, 3, 3, 2, 2, 2, 2, 2, 2, 2, 2, 1, 3, 2, 2, 3, 3, 3, 2, 1, 3,\n",
              "       3, 3, 2, 3, 3, 3, 3, 2, 2, 2, 2, 2, 2, 2, 2, 2, 2, 2, 2, 2, 1, 3,\n",
              "       2, 2, 1, 3, 3, 2, 2, 3, 3, 3, 2, 2, 2, 2, 2, 2, 2, 2, 2, 2, 2, 2,\n",
              "       2, 2, 2, 2, 2, 2, 1, 3, 2, 2, 2, 3, 3, 2, 2, 2, 2, 2, 2, 2, 2, 2,\n",
              "       2, 2, 2, 2, 2, 2, 2, 2, 2, 2, 1, 2, 2, 2, 1, 3, 2, 2, 2, 2, 1, 2,\n",
              "       2, 3, 3, 3, 2, 3, 3, 3, 3, 2, 3, 3, 3, 3, 1, 3, 3, 3, 3, 2, 2, 2,\n",
              "       2, 2, 2, 2, 2, 2, 1, 2, 2, 2, 3, 3, 2, 2, 3, 3, 3, 2, 1, 3, 3, 3,\n",
              "       2, 2, 2, 2, 2, 2, 2, 2, 2, 2, 2, 2, 2, 2, 1, 2, 2, 2, 3, 3, 2, 2,\n",
              "       1, 3, 3, 2, 2, 2, 2, 2, 2, 2, 2, 2, 2, 2, 2, 2, 2, 2, 2, 2, 2, 2,\n",
              "       1, 2, 2, 2, 1, 3, 2, 2, 2, 2, 2, 2, 2, 2, 2, 2, 2, 2, 2, 2, 2, 2,\n",
              "       2, 2, 2, 2, 2, 2, 2, 2, 1])"
            ]
          },
          "metadata": {},
          "execution_count": 81
        }
      ],
      "source": [
        "#load data\n",
        "import scipy.io as sio\n",
        "import matplotlib.pyplot as plt\n",
        "import pandas as pd\n",
        "import tensorflow as tf #importar tensorflow\n",
        "from sklearn.model_selection import GridSearchCV, RandomizedSearchCV\n",
        "from sklearn.preprocessing import StandardScaler,MinMaxScaler\n",
        "import numpy as np\n",
        "database = 'Balance' #['bupa1', 'breast-cancer-wisconsin1','pima-indians-diabetes1', 'ionosphere1', 'tic-tac-toe1', 'iris1', 'wine1', 'segmentation1']\n",
        "\n",
        "\n",
        "import pandas as pd\n",
        "from sklearn.preprocessing import LabelEncoder\n",
        "df = pd.read_csv(r'/content/balance-scale.csv') \n",
        "df.head()\n",
        "\n",
        "#Dividing X and y\n",
        "t = np.array(LabelEncoder().fit_transform(df['Class'].tolist()))\n",
        "X = np.array(df.drop(['Class'], axis = 1).values)\n",
        "print('X',X.shape,'t',t.shape)\n",
        "t = t+1\n",
        "t\n",
        "    "
      ],
      "id": "314154b6"
    },
    {
      "cell_type": "code",
      "execution_count": 82,
      "id": "3a2674c2",
      "metadata": {
        "execution": {
          "iopub.execute_input": "2022-10-25T16:12:23.498115Z",
          "iopub.status.busy": "2022-10-25T16:12:23.497293Z",
          "iopub.status.idle": "2022-10-25T16:12:23.502869Z",
          "shell.execute_reply": "2022-10-25T16:12:23.501626Z"
        },
        "id": "3a2674c2",
        "papermill": {
          "duration": 0.018777,
          "end_time": "2022-10-25T16:12:23.505355",
          "exception": false,
          "start_time": "2022-10-25T16:12:23.486578",
          "status": "completed"
        },
        "tags": []
      },
      "outputs": [],
      "source": [
        "#!pip install tensorflow==2.7.0\n",
        "#!pip install scikeras"
      ]
    },
    {
      "cell_type": "markdown",
      "id": "a324070f",
      "metadata": {
        "id": "a324070f",
        "papermill": {
          "duration": 0.008801,
          "end_time": "2022-10-25T16:12:23.523949",
          "exception": false,
          "start_time": "2022-10-25T16:12:23.515148",
          "status": "completed"
        },
        "tags": []
      },
      "source": [
        "# Subclassing for GCCE"
      ]
    },
    {
      "cell_type": "code",
      "execution_count": 83,
      "id": "44996ad7",
      "metadata": {
        "execution": {
          "iopub.execute_input": "2022-10-25T16:12:23.544386Z",
          "iopub.status.busy": "2022-10-25T16:12:23.543966Z",
          "iopub.status.idle": "2022-10-25T16:12:33.410090Z",
          "shell.execute_reply": "2022-10-25T16:12:33.409061Z"
        },
        "id": "44996ad7",
        "papermill": {
          "duration": 9.879835,
          "end_time": "2022-10-25T16:12:33.412758",
          "exception": false,
          "start_time": "2022-10-25T16:12:23.532923",
          "status": "completed"
        },
        "tags": []
      },
      "outputs": [],
      "source": [
        "# -*- coding: utf-8 -*-\n",
        "import tensorflow as tf\n",
        "import matplotlib.pyplot as plt\n",
        "#from tensorflow.keras.wrappers.scikit_learn import KerasClassifier\n",
        "import tensorflow_probability as tfp\n",
        "from tensorflow.keras import regularizers\n",
        "from sklearn.base import  BaseEstimator, TransformerMixin, ClassifierMixin\n",
        "from sklearn.model_selection import train_test_split\n",
        "tf.keras.backend.clear_session()\n",
        "#tf.random.set_seed(42)\n",
        "import types\n",
        "import tempfile\n",
        "class Keras_MA_GCCE(): #transformer no va\n",
        " #Constructor __init__. Special method: identified by a double underscore at either side of their name\n",
        " #work in the background\n",
        " # initialize data members to the object. lets the class initialize the object’s attributes and serves no other purpose.\n",
        "    def __init__(self,epochs=100,batch_size=30,R=5, K=2, dropout=0.5, learning_rate=1e-3,optimizer='Adam', \n",
        "                  l1_param=0, validation_split=0.3, verbose=1, q = 0.1):\n",
        "        self.epochs=epochs\n",
        "        self.dropout=dropout\n",
        "        self.batch_size = batch_size\n",
        "        self.learning_rate=learning_rate \n",
        "        self.l1_param=l1_param \n",
        "        self.l2_param=l1_param\n",
        "        self.validation_split = validation_split\n",
        "        self.verbose = verbose\n",
        "        self.optimizer = optimizer\n",
        "        self.R=R\n",
        "        self.K=K\n",
        "        self.q = q\n",
        "\n",
        "    \n",
        " \n",
        "    def GCCE_MA_loss(self, y_true, y_pred):\n",
        "        # print(y_true,y_pred)\n",
        "       # q = 0.1\n",
        "        pred = y_pred[:, self.R:]\n",
        "        pred = tf.clip_by_value(pred, clip_value_min=1e-9, clip_value_max=1)\n",
        "        ann_ = y_pred[:, :self.R]\n",
        "        # ann_ = tf.clip_by_value(ann_, clip_value_min=1e-9, clip_value_max=1-1e-9)\n",
        "        Y_true = tf.one_hot(tf.cast(y_true, dtype=tf.int32), depth=self.K, axis=1)\n",
        "        Y_hat = tf.repeat(tf.expand_dims(pred,-1), self.R, axis = -1)\n",
        "\n",
        "        p_gcce = Y_true*(1 - Y_hat**self.q)/self.q\n",
        "        temp1 = ann_*tf.math.reduce_sum(p_gcce, axis=1)\n",
        "\n",
        "        # p_logreg = tf.math.reduce_prod(tf.math.pow(Y_hat, Y_true), axis=1)\n",
        "        # temp1 = ann_*tf.math.log(p_logreg)  \n",
        "        # temp2 = (1 - ann_)*tf.math.log(1/K)*tf.reduce_sum(Y_true,axis=1)\n",
        "        # aux = tf.repeat(tf.reduce_sum(pred*tf.math.log(pred),axis=1,keepdims=True), R, axis = 1)\n",
        "        # tf.print(tf.shape(aux))\n",
        "        # print(tf.shape(aux))\n",
        "        # temp2 = (1 - ann_)*aux*tf.reduce_sum(Y_true,axis=1)\n",
        "        # temp2 = (tf.ones(tf.shape(ann_)) - ann_)*tf.math.log(1/K)\n",
        "        # print(tf.reduce_mean(Y_true,axis=1).numpy())\n",
        "        # Y_true_1 = tf.clip_by_value(Y_true, clip_value_min=1e-9, clip_value_max=1)\n",
        "        # p_logreg_inv = tf.math.reduce_prod(tf.math.pow(Y_true_1, Y_hat), axis=1)\n",
        "        # temp2 = (1 - ann_)*tf.math.log(p_logreg_inv) \n",
        "        temp2 = (1 - ann_)*(1-(1/self.K)**self.q)/self.q*tf.reduce_sum(Y_true,axis=1)\n",
        "        return tf.math.reduce_sum((temp1 + temp2))\n",
        "\n",
        " \n",
        "    def PRI_MA_loss(self, y_true, y_pred): #,  -> PRI\n",
        "        #Input ytrue: samples (N) x  annotators (R) \n",
        "        #Input ypred: samples (N) x  annotators+classes (R+K) \n",
        "        #PRI MA\n",
        "        cce_M = tf.keras.losses.CategoricalCrossentropy(reduction='none',axis=-1)\n",
        "        cce_C = tf.keras.losses.CategoricalCrossentropy(reduction='none',axis=1)\n",
        "\n",
        "      \n",
        "\n",
        "        #N = tf.cast(y_true.shape[0],dtype=tf.int32)\n",
        "        N = tf.shape(y_true)[0]\n",
        "        #Ground truth estimation samples (N) x  Classes(K)\n",
        "        y_pred_tf = y_pred[:,self.R:] \n",
        "        # Annotators reliability prediction: samples (N) x  annotators (R)\n",
        "        lambda_R_tf = y_pred[:,:self.R] #tf.ones(shape=(N,R)) \n",
        "        #Y_true 1 K: samples (N) x  Classes(1-K), annotators (R)\n",
        "        Y_true_1K = tf.one_hot(tf.cast(y_true,dtype=tf.int32),depth=self.K,axis=1)  \n",
        "        #Y_pred 1 - K: samples (N) x  Classes(1-K), annotators (R)\n",
        "        Y_hat = tf.repeat(tf.expand_dims(y_pred_tf,-1), self.R, axis = -1) \n",
        "        #marginal entropy\n",
        "        #cce along the K classes -> ypred_tf\n",
        "        Hm_ = cce_M(y_pred_tf,y_pred_tf)\n",
        "        #cross entropy\n",
        "        #cce along the K classes -> Y_hat\n",
        "        Hc_ = cce_C(Y_true_1K,Y_hat)\n",
        "        #PRI MA computation\n",
        "        LH = tf.linalg.matmul(lambda_R_tf,Hc_,transpose_a=True) # \\Lambda^\\top H_c\n",
        "        temp1 = tf.linalg.trace(LH) #trace(LH)\n",
        "        Hm1L = tf.linalg.matmul(tf.ones(shape=(N,self.R))-lambda_R_tf,tf.ones(shape=(self.R,1)))# 1_N 1_R^\\top - Lambda\n",
        "        Hm_t = tf.reshape(Hm_,shape=(N,1))\n",
        "        temp2 = tf.squeeze(tf.linalg.matmul(Hm_t,Hm1L,transpose_a=True)) # Hm^\\top Hm1L\n",
        "        loss_c = temp1+ temp2 #return loss\n",
        "\n",
        "        return loss_c\n",
        "\n",
        " \n",
        "    def fit(self, X, Y):\n",
        "        #input X numpy array first dimension samples (N)x features (P)\n",
        "        #input Y numpy array vector len = samples (N) x  annotators (R)\n",
        "        P = X.shape[1]\n",
        "        if self.optimizer == \"Adam\":\n",
        "            opt = tf.keras.optimizers.Adam(learning_rate=self.learning_rate, clipnorm=1.0)\n",
        "        elif self.optimizer == \"SGD\":\n",
        "            opt = tf.keras.optimizers.SGD(learning_rate=self.learning_rate, clipnorm=1.0)\n",
        "        else:\n",
        "            opt=self.optimizer\n",
        "\n",
        "        #capa de entrada\n",
        "        input_l = tf.keras.layers.Input(shape=(X_train.shape[1]), name='entrada')\n",
        "        #capas densas\n",
        "        h1 = tf.keras.layers.Dense(int(P*4*(self.K+self.R)),activation='selu',name='h1',\n",
        "                              kernel_regularizer=tf.keras.regularizers.l1_l2(l1=self.l1_param,l2=self.l2_param))(input_l)#argumento de entrada\n",
        "        h2 = tf.keras.layers.Dense(int(P*(self.K+self.R)),activation='selu',name='h2',\n",
        "                              kernel_regularizer=tf.keras.regularizers.l1_l2(l1=self.l1_param,l2=self.l2_param))(h1)\n",
        "        dout = tf.keras.layers.Dropout(rate=self.dropout)(h2)\n",
        "        #capa de salida\n",
        "        output = tf.keras.layers.Dense(self.K,activation=\"softmax\",name='output',\n",
        "                                   kernel_regularizer=tf.keras.regularizers.l1_l2(l1=self.l1_param,l2=self.l2_param))(dout)\n",
        "        self.model = tf.keras.Model(inputs= input_l,outputs=output)\n",
        "        self.model.compile(loss=tf.keras.losses.SparseCategoricalCrossentropy(), optimizer=opt,metrics=[\"accuracy\"])\n",
        "         \n",
        "        self.history = self.model.fit(X, Y, epochs=self.epochs, validation_split=self.validation_split,   #\n",
        "                                      batch_size=self.batch_size,verbose=self.verbose)\n",
        " \n",
        "        return self\n",
        " \n",
        "  \n",
        "    \n",
        "    def predict(self, X, *_):\n",
        "       #input X numpy array first dimension samples (N)x features (P)\n",
        "      return  self.model.predict(X) \n",
        " \n",
        " \n",
        "\n",
        "    def fit_predict(self,X,y):\n",
        "        #input X numpy array first dimension samples (N)x features (P)\n",
        "        #input Y numpy array vector len = samples (N) x  annotators (R)\n",
        "        self.fit(X,y)\n",
        "        return self.predict(X)\n",
        "  \n",
        "     #graphics\n",
        "    def plot_history(self):\n",
        "        pd.DataFrame(self.history.history).plot(figsize=(8, 5))\n",
        "        plt.grid(True)\n",
        "        #plt.gca().set_ylim(0, 1)\n",
        "        #save_fig(\"keras_learning_curves_plot\")\n",
        "        plt.show()\n",
        "        return\n",
        "    \n",
        "    def set_params(self, **parameters):\n",
        "        for parameter, value in parameters.items():\n",
        "            setattr(self, parameter, value)\n",
        "\n",
        "        return self\n",
        "    \n",
        "    \n",
        "    \n",
        "    def get_params(self, deep=True):\n",
        "        return { 'l1_param':self.l1_param, 'dropout':self.dropout, 'optimizer':self.optimizer,\n",
        "                'learning_rate':self.learning_rate, 'batch_size':self.batch_size,\n",
        "                'epochs':self.epochs, 'verbose':self.verbose, 'validation_split':self.validation_split,\n",
        "                'R':self.R, 'K':self.K, 'q':self.q\n",
        "                }\n",
        "\n",
        "  \n",
        "        return self\n"
      ]
    },
    {
      "cell_type": "code",
      "source": [],
      "metadata": {
        "id": "Ovfm-K9QXYOw"
      },
      "id": "Ovfm-K9QXYOw",
      "execution_count": 83,
      "outputs": []
    },
    {
      "cell_type": "markdown",
      "metadata": {
        "id": "5d24d16b",
        "papermill": {
          "duration": 0.010608,
          "end_time": "2022-10-25T20:27:30.045384",
          "exception": false,
          "start_time": "2022-10-25T20:27:30.034776",
          "status": "completed"
        },
        "tags": []
      },
      "source": [
        "\n",
        "\n",
        "## Principle of relevant information for MA\n",
        "\n",
        "$$\\min_X H(X)+\\lambda D_{KL}(X||X_o) = H(X)+\\lambda (H(X;X_o) - H(X)))$$\n",
        "\n",
        "$$\\min_X (1-\\lambda)H(X)+\\lambda H(X;X_o)$$\n",
        "\n",
        "## Principle of relevant information for RCDNN MA\n",
        "\n",
        "$$\\min_\\theta \\sum_n \\sum_{r\\in\\Psi_n} (1-\\lambda^r_n(\\theta))H(\\hat{\\mathbf{y}}_n(\\theta))+\\lambda_n^r(\\theta)H({\\mathbf{y}}^r_n;\\hat{\\mathbf{y}}_n(\\theta))$$\n",
        "\n",
        "${\\mathbf{y}}^r_n\\in[0,1]^K$: 1-K label vector for the r-th annotator\n",
        "\n",
        "$\\hat{{\\mathbf{y}}}_n\\in[0,1]^K$: 1-K label vector for the RCDNN prediction\n",
        "\n",
        "$\\lambda_n^r(\\theta)\\in[0,1]$: annotator reliability\n",
        "\n",
        "$\\theta$: RCDNN parameters (network weights and bias)\n",
        "\n",
        "$H(\\hat{\\mathbf{y}}_n(\\theta))= \\sum_k \\hat{y}_{n,k}\\log\\left(\\hat{y}_{n,k}\\right)$: marginal entropy\n",
        "\n",
        "$H({\\mathbf{y}}^r_n;\\hat{\\mathbf{y}}_n(\\theta)) = \\sum_k {y}^r_{n,k}\\log\\left(\\hat{y}_{n,k}\\right)$: cross-entropy\n",
        "\n",
        "Then:\n",
        "\n",
        "\n",
        "$$\\min_\\theta \\sum_n\\left(\\sum_r \\lambda_n^r(\\theta)H({\\mathbf{y}}^r_n;\\hat{\\mathbf{y}}_n(\\theta))\\right)+\\left(H(\\hat{\\mathbf{y}}_n(\\theta))\\sum_r\\left(1-\\lambda_n^r(\\theta)\\right)\\right)$$\n",
        "\n",
        "\n",
        "\n",
        "## Matrix-based computation\n",
        "\n",
        "$$\\min_\\theta \\text{tr}\\left(\\mathbf{\\Lambda}^\\top\\mathbf{H}_{y,\\hat{y}}\\right) + \\mathbf{H}_{\\hat{y}}^\\top(\\mathbf{1}_N\\mathbf{1}^\\top_R-\\mathbf{\\Lambda})\\mathbf{1}_R$$\n",
        "\n",
        "$\\mathbf{1}_N\\in\\mathbb{R}^{N\\times 1}$, $\\mathbf{1}_R\\in\\mathbb{R}^{R\\times 1}$\n",
        "\n",
        "$\\mathbf{\\Lambda}\\in[0,1]^{N\\times R}$\n",
        "\n",
        "$\\mathbf{H}_{\\hat{y}}\\in\\mathbb{R}^{N\\times 1}$\n",
        "\n",
        "$\\mathbf{H}_{y,\\hat{y}}\\in\\mathbb{R}^{N\\times R}$"
      ],
      "id": "5d24d16b"
    },
    {
      "cell_type": "markdown",
      "id": "680206a1",
      "metadata": {
        "id": "680206a1",
        "papermill": {
          "duration": 0.008971,
          "end_time": "2022-10-25T16:12:33.603833",
          "exception": false,
          "start_time": "2022-10-25T16:12:33.594862",
          "status": "completed"
        },
        "tags": []
      },
      "source": [
        "# Labels Generation - 1 Cluster, 3 annotators"
      ]
    },
    {
      "cell_type": "code",
      "execution_count": 84,
      "id": "cd9b2bef",
      "metadata": {
        "execution": {
          "iopub.execute_input": "2022-10-25T16:12:33.625038Z",
          "iopub.status.busy": "2022-10-25T16:12:33.624338Z",
          "iopub.status.idle": "2022-10-25T16:12:33.914336Z",
          "shell.execute_reply": "2022-10-25T16:12:33.913366Z"
        },
        "id": "cd9b2bef",
        "papermill": {
          "duration": 0.303753,
          "end_time": "2022-10-25T16:12:33.916988",
          "exception": false,
          "start_time": "2022-10-25T16:12:33.613235",
          "status": "completed"
        },
        "tags": []
      },
      "outputs": [],
      "source": [
        "import random\n",
        "import warnings\n",
        "import numpy as np\n",
        "#import climin\n",
        "from functools import partial\n",
        "import matplotlib.pyplot as plt\n",
        "from sklearn.preprocessing import StandardScaler\n",
        "from sklearn.cluster import KMeans\n",
        "import matplotlib.pyplot as plt\n",
        "from sklearn.manifold import TSNE\n",
        "\n",
        "#Defining the Sigmoid function and Softmax function\n",
        "def Sigmoid(f_r):\n",
        "    lam_r = 1/(1 + np.exp(-f_r))\n",
        "    return lam_r\n",
        "\n",
        "def MAjVot(Y, K):\n",
        "    N,R = Y.shape\n",
        "    Yhat = np.zeros((N,1))\n",
        "    for n in range(N):\n",
        "        votes = np.zeros((K,1))\n",
        "        for r in range(R):\n",
        "            for k in range(K):\n",
        "                if Y[n,r] == k+1:\n",
        "                    votes[k] = votes[k]+1\n",
        "        Yhat[n] = np.argmax(votes) + 1\n",
        "    return Yhat\n",
        "\n",
        "\n",
        "def  MA_Clas_Gen(Xtrain,ytrain,R,NrP):\n",
        "\n",
        "    N = len(ytrain)\n",
        "    K = len(np.unique(ytrain))\n",
        "    Kn = np.unique(ytrain)\n",
        "    aux = 0\n",
        "    A = np.zeros((K,1))\n",
        "    for k in Kn:\n",
        "        A[aux] = (ytrain == k).sum()\n",
        "        aux = aux + 1\n",
        "    per = np.min(A)\n",
        "    if N < 25000:\n",
        "        Xtrain = TSNE(n_components=1,perplexity=per/2).fit_transform(Xtrain)\n",
        "    else:\n",
        "        Xtrain = np.sum(Xtrain,1)\n",
        "    # Xtrain = Xtrain-Xtrain.min()\n",
        "    # Xtrain = Xtrain/Xtrain.max()\n",
        "    #ytrain = y\n",
        "    # scaler = StandardScaler()\n",
        "    # scalerY = scaler.fit(y)\n",
        "    # ytrain = scaler.fit_transform(y)\n",
        "\n",
        "    \n",
        "    #miny = y.min()\n",
        "    #ytrain = y-miny\n",
        "    #maxy = ytrain.max()\n",
        "    #ytrain = ytrain/maxy\n",
        "  \n",
        "    # Xtrain = np.sum(Xtrain, axis=1)\n",
        "    Xtrain = Xtrain - Xtrain.min()\n",
        "    #print(Xtrain.min(), Xtrain.max())\n",
        "    Xtrain = Xtrain/Xtrain.max()\n",
        "    Xtrain = Xtrain.reshape((N,1))\n",
        "    yprueba = np.ones((N,1))\n",
        "    \n",
        "    \n",
        "    u_q = np.empty((Xtrain.shape[0],3))\n",
        "    u_q[:,0,None] = 4.5*np.cos(2*np.pi*Xtrain + 1.5*np.pi) - \\\n",
        "                               3*np.sin(4.3*np.pi*Xtrain + 0.3*np.pi)\n",
        "                    \n",
        "    u_q[:,1,None] = 4.5*np.cos(1.5*np.pi*Xtrain + 0.5*np.pi) + \\\n",
        "                       5*np.sin(3*np.pi*Xtrain + 1.5*np.pi)\n",
        "    \n",
        "    u_q[:,2,None] = 1\n",
        "    \n",
        "    W = []\n",
        "    # q=1\n",
        "    Wq1 = np.array(([[0.4],[0.7],[-0.5],[0],[-0.7]]))\n",
        "    W.append(Wq1)\n",
        "    # q=2\n",
        "    Wq2 = np.array(([[0.4],[-1.0],[-0.1],[-0.8],[1.0]]))\n",
        "    W.append(Wq2)\n",
        "    Wq3 = np.array(([[3.1],[-1.8],[-0.6],[-1.2],[1.0]]))\n",
        "    W.append(Wq3)\n",
        "\n",
        "    \n",
        "    F_r = []\n",
        "    Lam_r = []\n",
        "    for r in range(R):\n",
        "        f_r = np.zeros((Xtrain.shape[0], 1))\n",
        "        # rho_r = np.zeros((Xtrain.shape[0], 1))\n",
        "        for q in range(3):\n",
        "            f_r += W[q][r].T*u_q[:,q,None]\n",
        "        F_r.append(f_r)\n",
        "        lam_r = Sigmoid(f_r)\n",
        "        lam_r[lam_r>0.5] = 1\n",
        "        lam_r[lam_r<=0.5] = 0\n",
        "        Lam_r.append(lam_r)\n",
        "    plt.plot(Xtrain,Lam_r[2],'rx')\n",
        "    plt.show()\n",
        "    seed = 0\n",
        "    np.random.seed(seed)\n",
        "    Ytrain = np.ones((N, R))\n",
        "    for r in range(R):\n",
        "        aux = ytrain.copy()\n",
        "        for n in range(N):\n",
        "            if Lam_r[r][n] == 0:\n",
        "                labels = np.arange(1, K+1)\n",
        "                a = np.where(labels==ytrain[n])\n",
        "                labels = np.delete(labels, a)\n",
        "                idxlabels = np.random.permutation(K-1)\n",
        "                aux[n] = labels[idxlabels[0]]         \n",
        "        Ytrain[:,r] = aux.flatten()\n",
        "        \n",
        "   # Ytrain = (Ytrain*maxy) + miny\n",
        "        \n",
        "    iAnn = np.zeros((N, R), dtype=int) # this indicates if the annotator r labels the nth sample.\n",
        "    Nr = np.ones((R), dtype=int)*int(np.floor(N*NrP))  \n",
        "    for r in range(R):\n",
        "        if r < R-1:\n",
        "            indexR = np.random.permutation(range(N))[:Nr[r]]\n",
        "            iAnn[indexR,r] = 1\n",
        "        else:\n",
        "            iSimm = np.sum(iAnn, axis=1)\n",
        "            idxZero = np.asarray([i for (i, val) in enumerate(iSimm) if val == 0])\n",
        "            Nzeros = idxZero.shape[0]\n",
        "            idx2Choose = np.arange(N)\n",
        "            if Nzeros == 0:\n",
        "                indexR = np.random.permutation(range(N))[:Nr[r]]\n",
        "                iAnn[indexR,r] = 1\n",
        "            else:\n",
        "                idx2Choose = np.delete(idx2Choose, idxZero)\n",
        "                N2chose = idx2Choose.shape[0]\n",
        "                idxNoZero = np.random.permutation(N2chose)[:(Nr[r] - Nzeros)]\n",
        "                idxTot = np.concatenate((idxZero, idx2Choose[idxNoZero]))\n",
        "                iAnn[idxTot,r] = 1\n",
        "    \n",
        "    # Now, we verify that all the samples were labeled at least once\n",
        "    Nr = (np.sum(iAnn,0))\n",
        "    iSimm = np.sum(iAnn, axis=1)\n",
        "    if np.asarray([i for (i, val) in enumerate(iSimm) if val == 0]).sum() == 0:\n",
        "        ValueError(\"all the samples must be labeled at least once\")\n",
        "\n",
        "    # Finally, if iAnn=0 we assign a reference value to indicate a missing value\n",
        "    Vref = -1e-20\n",
        "    for r in range(R):\n",
        "        Ytrain[iAnn[:,r] == 0, r] = Vref \n",
        "\n",
        "    return Ytrain, iAnn, Lam_r\n",
        "\n",
        "\n",
        "def CrossVal(X, pp, Nk):\n",
        "    N = X.shape[0]\n",
        "    Ntr = int(N*pp)\n",
        "    Nte = N - Ntr\n",
        "    idxtr = np.zeros((Ntr,Nk))\n",
        "    idxte = np.zeros((Nte,Nk))\n",
        "    \n",
        "    for i in range(Nk):\n",
        "        index = np.random.permutation(range(N))\n",
        "        idxtr[:,i] = index[:Ntr]\n",
        "        idxte[:,i] = index[Ntr:]\n",
        "        \n",
        "    return idxtr, idxte\n",
        "    \n",
        "    \n",
        "        \n"
      ]
    },
    {
      "cell_type": "code",
      "execution_count": 85,
      "id": "69b98f78",
      "metadata": {
        "execution": {
          "iopub.execute_input": "2022-10-25T16:12:33.939126Z",
          "iopub.status.busy": "2022-10-25T16:12:33.938410Z",
          "iopub.status.idle": "2022-10-25T16:12:34.687433Z",
          "shell.execute_reply": "2022-10-25T16:12:34.686417Z"
        },
        "id": "69b98f78",
        "outputId": "5e5f1da1-a790-4e4a-f8c2-758eb5e01179",
        "papermill": {
          "duration": 0.763709,
          "end_time": "2022-10-25T16:12:34.690261",
          "exception": false,
          "start_time": "2022-10-25T16:12:33.926552",
          "status": "completed"
        },
        "tags": [],
        "colab": {
          "base_uri": "https://localhost:8080/",
          "height": 338
        }
      },
      "outputs": [
        {
          "output_type": "stream",
          "name": "stderr",
          "text": [
            "/usr/local/lib/python3.8/dist-packages/sklearn/manifold/_t_sne.py:780: FutureWarning: The default initialization in TSNE will change from 'random' to 'pca' in 1.2.\n",
            "  warnings.warn(\n",
            "/usr/local/lib/python3.8/dist-packages/sklearn/manifold/_t_sne.py:790: FutureWarning: The default learning rate in TSNE will change from 200.0 to 'auto' in 1.2.\n",
            "  warnings.warn(\n"
          ]
        },
        {
          "output_type": "display_data",
          "data": {
            "text/plain": [
              "<Figure size 432x288 with 1 Axes>"
            ],
            "image/png": "[encoded data removed]"
          },
          "metadata": {
            "needs_background": "light"
          }
        }
      ],
      "source": [
        "Y, iAnn, Lam_r = MA_Clas_Gen(X ,t, R=5, NrP=1)"
      ]
    },
    {
      "cell_type": "code",
      "execution_count": 86,
      "id": "6f37afa8",
      "metadata": {
        "execution": {
          "iopub.execute_input": "2022-10-25T16:12:34.715023Z",
          "iopub.status.busy": "2022-10-25T16:12:34.714190Z",
          "iopub.status.idle": "2022-10-25T16:12:34.718612Z",
          "shell.execute_reply": "2022-10-25T16:12:34.717857Z"
        },
        "id": "6f37afa8",
        "papermill": {
          "duration": 0.019476,
          "end_time": "2022-10-25T16:12:34.720878",
          "exception": false,
          "start_time": "2022-10-25T16:12:34.701402",
          "status": "completed"
        },
        "tags": []
      },
      "outputs": [],
      "source": [
        "\n",
        "Y = Y - 1\n",
        "t = t - 1\n",
        "#YMA = YMA-1\n"
      ]
    },
    {
      "cell_type": "code",
      "execution_count": 87,
      "id": "afa39f4c",
      "metadata": {
        "execution": {
          "iopub.execute_input": "2022-10-25T16:12:34.742870Z",
          "iopub.status.busy": "2022-10-25T16:12:34.742193Z",
          "iopub.status.idle": "2022-10-25T16:12:34.772254Z",
          "shell.execute_reply": "2022-10-25T16:12:34.771351Z"
        },
        "papermill": {
          "duration": 0.043962,
          "end_time": "2022-10-25T16:12:34.774821",
          "exception": false,
          "start_time": "2022-10-25T16:12:34.730859",
          "status": "completed"
        },
        "tags": [],
        "id": "afa39f4c"
      },
      "outputs": [],
      "source": [
        "import numpy as np\n",
        "from scipy import stats\n",
        "Ytr_mv  = []\n",
        "for i in range(Y.shape[0]):\n",
        "     #print(Y[i])\n",
        "     Ytr_mv   += [np.take(stats.mode(Y[i]),0)]\n",
        "     #print(mode_Y)\n",
        "#Ytr_mv "
      ]
    },
    {
      "cell_type": "code",
      "execution_count": 88,
      "id": "34bc823c",
      "metadata": {
        "execution": {
          "iopub.execute_input": "2022-10-25T16:12:34.796440Z",
          "iopub.status.busy": "2022-10-25T16:12:34.795759Z",
          "iopub.status.idle": "2022-10-25T16:12:34.803243Z",
          "shell.execute_reply": "2022-10-25T16:12:34.802227Z"
        },
        "papermill": {
          "duration": 0.02088,
          "end_time": "2022-10-25T16:12:34.805450",
          "exception": false,
          "start_time": "2022-10-25T16:12:34.784570",
          "status": "completed"
        },
        "tags": [],
        "colab": {
          "base_uri": "https://localhost:8080/"
        },
        "id": "34bc823c",
        "outputId": "9cc6588f-8ed6-4301-ca53-09382bc6601a"
      },
      "outputs": [
        {
          "output_type": "execute_result",
          "data": {
            "text/plain": [
              "(625, 1)"
            ]
          },
          "metadata": {},
          "execution_count": 88
        }
      ],
      "source": [
        "Ytr_mv = np.array(Ytr_mv).reshape(-1,1) \n",
        "Ytr_mv.shape"
      ]
    },
    {
      "cell_type": "code",
      "execution_count": 89,
      "id": "4f2da040",
      "metadata": {
        "execution": {
          "iopub.execute_input": "2022-10-25T16:12:34.827872Z",
          "iopub.status.busy": "2022-10-25T16:12:34.826951Z",
          "iopub.status.idle": "2022-10-25T16:12:34.839503Z",
          "shell.execute_reply": "2022-10-25T16:12:34.837722Z"
        },
        "papermill": {
          "duration": 0.027375,
          "end_time": "2022-10-25T16:12:34.842660",
          "exception": false,
          "start_time": "2022-10-25T16:12:34.815285",
          "status": "completed"
        },
        "tags": [],
        "colab": {
          "base_uri": "https://localhost:8080/"
        },
        "id": "4f2da040",
        "outputId": "397f595d-a59b-435a-aa1e-5b76f47ab0de"
      },
      "outputs": [
        {
          "output_type": "stream",
          "name": "stdout",
          "text": [
            "annotator 1\n",
            "              precision    recall  f1-score   support\n",
            "\n",
            "           0       0.37      0.94      0.53        49\n",
            "           1       0.79      0.91      0.85       288\n",
            "           2       0.98      0.59      0.73       288\n",
            "\n",
            "    accuracy                           0.76       625\n",
            "   macro avg       0.72      0.81      0.71       625\n",
            "weighted avg       0.85      0.76      0.77       625\n",
            "\n"
          ]
        }
      ],
      "source": [
        "from sklearn.metrics import classification_report\n",
        "\n",
        "for i in range(Ytr_mv.shape[1]):\n",
        "  print('annotator',i+1)\n",
        "  print(classification_report(t,Ytr_mv))\n"
      ]
    },
    {
      "cell_type": "code",
      "execution_count": 90,
      "id": "0ab44576",
      "metadata": {
        "execution": {
          "iopub.execute_input": "2022-10-25T16:12:34.864741Z",
          "iopub.status.busy": "2022-10-25T16:12:34.864314Z",
          "iopub.status.idle": "2022-10-25T16:12:34.869262Z",
          "shell.execute_reply": "2022-10-25T16:12:34.868004Z"
        },
        "id": "0ab44576",
        "papermill": {
          "duration": 0.018423,
          "end_time": "2022-10-25T16:12:34.871657",
          "exception": false,
          "start_time": "2022-10-25T16:12:34.853234",
          "status": "completed"
        },
        "tags": []
      },
      "outputs": [],
      "source": [
        "# from sklearn.metrics import classification_report\n",
        "# for i in range(Y.shape[1]):\n",
        "#   for j in range(len(np.unique(clusters.labels_))):\n",
        "#     print('annotator',i+1)\n",
        "#     print('cluster',j+1)\n",
        "#     print(classification_report(t[clusters.labels_==j],Y[clusters.labels_==j,i]))"
      ]
    },
    {
      "cell_type": "markdown",
      "id": "f6e88fd2",
      "metadata": {
        "id": "f6e88fd2",
        "papermill": {
          "duration": 0.009664,
          "end_time": "2022-10-25T16:12:34.891265",
          "exception": false,
          "start_time": "2022-10-25T16:12:34.881601",
          "status": "completed"
        },
        "tags": []
      },
      "source": [
        "# Split data"
      ]
    },
    {
      "cell_type": "code",
      "execution_count": 91,
      "id": "76272cf8",
      "metadata": {
        "execution": {
          "iopub.execute_input": "2022-10-25T16:12:34.913036Z",
          "iopub.status.busy": "2022-10-25T16:12:34.912335Z",
          "iopub.status.idle": "2022-10-25T16:12:34.925122Z",
          "shell.execute_reply": "2022-10-25T16:12:34.923514Z"
        },
        "id": "76272cf8",
        "outputId": "fc2b6d15-8c36-4f63-9a6e-09c5975da456",
        "papermill": {
          "duration": 0.026619,
          "end_time": "2022-10-25T16:12:34.927703",
          "exception": false,
          "start_time": "2022-10-25T16:12:34.901084",
          "status": "completed"
        },
        "tags": [],
        "colab": {
          "base_uri": "https://localhost:8080/"
        }
      },
      "outputs": [
        {
          "output_type": "stream",
          "name": "stdout",
          "text": [
            "[618 454 423 593 338 404 345 132 150 379  54 386 508 378 242  43 602  11\n",
            " 237 192 520  48 333 543 209 524  82 102 374 142 177 288 171 298 348 131\n",
            " 384 246 470 566 138 353 421 491 320 604 474  85 367 477 527 567  57 548\n",
            " 356 272 164 264 263 481 430 200 437   5 166  35 509 205 156 542 202 120\n",
            " 243 107   9 620 601  78 560 134 422 574 282  59 328 512  31 199 185 568\n",
            " 172 285 396 587 482 611 151 155 297 391  66 275 501 406 502 252 274 266\n",
            "  75 582 383 327  13 600 300 227 310 431 397 162  79 529 335 221 294 614\n",
            " 349 622 488 231 270 514 350  36 446 381 196 577 416 550  34  33 212 588\n",
            " 347 118  15 230 159 429 398  93 217 181 556 190 403 116 336 456 452 170\n",
            " 426 457 368 280  30   0  72 408 277 392 344 234 362  74 511  24 549 273\n",
            "  64 402 268 226 261 575  55 287]\n",
            "(437, 4) (437, 1) (437, 1)\n"
          ]
        }
      ],
      "source": [
        "import numpy.matlib\n",
        "from sklearn.model_selection import ShuffleSplit, StratifiedShuffleSplit\n",
        "Ns = 1\n",
        "ss = ShuffleSplit(n_splits=Ns, test_size=0.3,random_state =123)\n",
        "for train_index, test_index in ss.split(X):\n",
        "    print(test_index)\n",
        "    X_train, X_test,Y_train,Y_test = X[train_index,:], X[test_index,:],Ytr_mv[train_index,:], Ytr_mv[test_index,:]\n",
        "    Y_true_train, Y_true_test = t[train_index].reshape(-1,1), t[test_index].reshape(-1,1)\n",
        "print(X_train.shape, Y_train.shape, Y_true_train.shape)"
      ]
    },
    {
      "cell_type": "code",
      "execution_count": 92,
      "id": "b9db6f42",
      "metadata": {
        "execution": {
          "iopub.execute_input": "2022-10-25T16:12:34.950342Z",
          "iopub.status.busy": "2022-10-25T16:12:34.949195Z",
          "iopub.status.idle": "2022-10-25T16:12:34.953747Z",
          "shell.execute_reply": "2022-10-25T16:12:34.952982Z"
        },
        "papermill": {
          "duration": 0.017877,
          "end_time": "2022-10-25T16:12:34.955998",
          "exception": false,
          "start_time": "2022-10-25T16:12:34.938121",
          "status": "completed"
        },
        "tags": [],
        "id": "b9db6f42"
      },
      "outputs": [],
      "source": [
        "# for i in range(Y.shape[1]):\n",
        "#     print('annotator',i+1)\n",
        "   \n",
        "#     unique, counts = np.unique(Y_train[:,i], return_counts=True)\n",
        "#     plt.figure()\n",
        "#     plt.bar(unique, counts)\n",
        "#     unique, counts = np.unique(Y_test[:,i], return_counts=True)\n",
        "#     plt.bar(unique, counts)\n",
        "\n",
        "#     plt.title('Class Frequency for Y_true')\n",
        "#     plt.xlabel('Class')\n",
        "#     plt.ylabel('Frequency')\n"
      ]
    },
    {
      "cell_type": "markdown",
      "id": "263cfae1",
      "metadata": {
        "id": "263cfae1",
        "papermill": {
          "duration": 0.009661,
          "end_time": "2022-10-25T16:12:34.975675",
          "exception": false,
          "start_time": "2022-10-25T16:12:34.966014",
          "status": "completed"
        },
        "tags": []
      },
      "source": [
        "# Apply MinMaxScaler"
      ]
    },
    {
      "cell_type": "code",
      "execution_count": 93,
      "id": "ff3525b2",
      "metadata": {
        "execution": {
          "iopub.execute_input": "2022-10-25T16:12:34.997040Z",
          "iopub.status.busy": "2022-10-25T16:12:34.996629Z",
          "iopub.status.idle": "2022-10-25T16:12:35.003410Z",
          "shell.execute_reply": "2022-10-25T16:12:35.002142Z"
        },
        "id": "ff3525b2",
        "papermill": {
          "duration": 0.020314,
          "end_time": "2022-10-25T16:12:35.005935",
          "exception": false,
          "start_time": "2022-10-25T16:12:34.985621",
          "status": "completed"
        },
        "tags": []
      },
      "outputs": [],
      "source": [
        "scaler = MinMaxScaler()\n",
        "scaler.fit(X_train)\n",
        "X_train = scaler.transform(X_train)\n",
        "X_test = scaler.transform(X_test)"
      ]
    },
    {
      "cell_type": "markdown",
      "id": "688b4989",
      "metadata": {
        "id": "688b4989",
        "papermill": {
          "duration": 0.009501,
          "end_time": "2022-10-25T16:12:35.025533",
          "exception": false,
          "start_time": "2022-10-25T16:12:35.016032",
          "status": "completed"
        },
        "tags": []
      },
      "source": [
        "# Testing the Class \n"
      ]
    },
    {
      "cell_type": "code",
      "execution_count": 100,
      "metadata": {
        "execution": {
          "iopub.execute_input": "2022-10-25T16:26:01.902569Z",
          "iopub.status.busy": "2022-10-25T16:26:01.902170Z",
          "iopub.status.idle": "2022-10-25T16:26:20.506723Z",
          "shell.execute_reply": "2022-10-25T16:26:20.505052Z"
        },
        "id": "2251089a",
        "papermill": {
          "duration": 18.622195,
          "end_time": "2022-10-25T16:26:20.510089",
          "exception": false,
          "start_time": "2022-10-25T16:26:01.887894",
          "status": "completed"
        },
        "tags": [],
        "colab": {
          "base_uri": "https://localhost:8080/",
          "height": 1000
        },
        "outputId": "6ed1ca71-876e-450b-9f32-283226c224f5"
      },
      "outputs": [
        {
          "output_type": "stream",
          "name": "stdout",
          "text": [
            "iteration: 0\n"
          ]
        },
        {
          "output_type": "display_data",
          "data": {
            "text/plain": [
              "<Figure size 576x360 with 1 Axes>"
            ],
            "image/png": "[encoded data removed]"
          },
          "metadata": {
            "needs_background": "light"
          }
        },
        {
          "output_type": "stream",
          "name": "stdout",
          "text": [
            "6/6 [==============================] - 0s 2ms/step\n",
            "6/6 [==============================] - 0s 3ms/step\n",
            "Validation aUc: 0.6285\n",
            "iteration: 1\n"
          ]
        },
        {
          "output_type": "stream",
          "name": "stderr",
          "text": [
            "/usr/local/lib/python3.8/dist-packages/sklearn/metrics/_classification.py:1318: UndefinedMetricWarning: Recall and F-score are ill-defined and being set to 0.0 in labels with no true samples. Use `zero_division` parameter to control this behavior.\n",
            "  _warn_prf(average, modifier, msg_start, len(result))\n",
            "/usr/local/lib/python3.8/dist-packages/sklearn/metrics/_classification.py:1318: UndefinedMetricWarning: Recall and F-score are ill-defined and being set to 0.0 in labels with no true samples. Use `zero_division` parameter to control this behavior.\n",
            "  _warn_prf(average, modifier, msg_start, len(result))\n",
            "/usr/local/lib/python3.8/dist-packages/sklearn/metrics/_classification.py:1318: UndefinedMetricWarning: Recall and F-score are ill-defined and being set to 0.0 in labels with no true samples. Use `zero_division` parameter to control this behavior.\n",
            "  _warn_prf(average, modifier, msg_start, len(result))\n"
          ]
        },
        {
          "output_type": "display_data",
          "data": {
            "text/plain": [
              "<Figure size 576x360 with 1 Axes>"
            ],
            "image/png": "[encoded data removed]"
          },
          "metadata": {
            "needs_background": "light"
          }
        },
        {
          "output_type": "stream",
          "name": "stdout",
          "text": [
            "6/6 [==============================] - 0s 2ms/step\n",
            "6/6 [==============================] - 0s 3ms/step\n",
            "Validation aUc: 0.6487\n",
            "iteration: 2\n"
          ]
        },
        {
          "output_type": "stream",
          "name": "stderr",
          "text": [
            "/usr/local/lib/python3.8/dist-packages/sklearn/metrics/_classification.py:1318: UndefinedMetricWarning: Recall and F-score are ill-defined and being set to 0.0 in labels with no true samples. Use `zero_division` parameter to control this behavior.\n",
            "  _warn_prf(average, modifier, msg_start, len(result))\n",
            "/usr/local/lib/python3.8/dist-packages/sklearn/metrics/_classification.py:1318: UndefinedMetricWarning: Recall and F-score are ill-defined and being set to 0.0 in labels with no true samples. Use `zero_division` parameter to control this behavior.\n",
            "  _warn_prf(average, modifier, msg_start, len(result))\n",
            "/usr/local/lib/python3.8/dist-packages/sklearn/metrics/_classification.py:1318: UndefinedMetricWarning: Recall and F-score are ill-defined and being set to 0.0 in labels with no true samples. Use `zero_division` parameter to control this behavior.\n",
            "  _warn_prf(average, modifier, msg_start, len(result))\n"
          ]
        },
        {
          "output_type": "display_data",
          "data": {
            "text/plain": [
              "<Figure size 576x360 with 1 Axes>"
            ],
            "image/png": "[encoded data removed]"
          },
          "metadata": {
            "needs_background": "light"
          }
        },
        {
          "output_type": "stream",
          "name": "stdout",
          "text": [
            "6/6 [==============================] - 0s 3ms/step\n",
            "6/6 [==============================] - 0s 4ms/step\n",
            "Validation aUc: 0.6372\n",
            "iteration: 3\n"
          ]
        },
        {
          "output_type": "stream",
          "name": "stderr",
          "text": [
            "/usr/local/lib/python3.8/dist-packages/sklearn/metrics/_classification.py:1318: UndefinedMetricWarning: Recall and F-score are ill-defined and being set to 0.0 in labels with no true samples. Use `zero_division` parameter to control this behavior.\n",
            "  _warn_prf(average, modifier, msg_start, len(result))\n",
            "/usr/local/lib/python3.8/dist-packages/sklearn/metrics/_classification.py:1318: UndefinedMetricWarning: Recall and F-score are ill-defined and being set to 0.0 in labels with no true samples. Use `zero_division` parameter to control this behavior.\n",
            "  _warn_prf(average, modifier, msg_start, len(result))\n",
            "/usr/local/lib/python3.8/dist-packages/sklearn/metrics/_classification.py:1318: UndefinedMetricWarning: Recall and F-score are ill-defined and being set to 0.0 in labels with no true samples. Use `zero_division` parameter to control this behavior.\n",
            "  _warn_prf(average, modifier, msg_start, len(result))\n"
          ]
        },
        {
          "output_type": "display_data",
          "data": {
            "text/plain": [
              "<Figure size 576x360 with 1 Axes>"
            ],
            "image/png": "[encoded data removed]"
          },
          "metadata": {
            "needs_background": "light"
          }
        },
        {
          "output_type": "stream",
          "name": "stdout",
          "text": [
            "6/6 [==============================] - 0s 2ms/step\n",
            "6/6 [==============================] - 0s 3ms/step\n",
            "Validation aUc: 0.6285\n",
            "iteration: 4\n"
          ]
        },
        {
          "output_type": "stream",
          "name": "stderr",
          "text": [
            "/usr/local/lib/python3.8/dist-packages/sklearn/metrics/_classification.py:1318: UndefinedMetricWarning: Recall and F-score are ill-defined and being set to 0.0 in labels with no true samples. Use `zero_division` parameter to control this behavior.\n",
            "  _warn_prf(average, modifier, msg_start, len(result))\n",
            "/usr/local/lib/python3.8/dist-packages/sklearn/metrics/_classification.py:1318: UndefinedMetricWarning: Recall and F-score are ill-defined and being set to 0.0 in labels with no true samples. Use `zero_division` parameter to control this behavior.\n",
            "  _warn_prf(average, modifier, msg_start, len(result))\n",
            "/usr/local/lib/python3.8/dist-packages/sklearn/metrics/_classification.py:1318: UndefinedMetricWarning: Recall and F-score are ill-defined and being set to 0.0 in labels with no true samples. Use `zero_division` parameter to control this behavior.\n",
            "  _warn_prf(average, modifier, msg_start, len(result))\n"
          ]
        },
        {
          "output_type": "display_data",
          "data": {
            "text/plain": [
              "<Figure size 576x360 with 1 Axes>"
            ],
            "image/png": "[encoded data removed]"
          },
          "metadata": {
            "needs_background": "light"
          }
        },
        {
          "output_type": "stream",
          "name": "stdout",
          "text": [
            "6/6 [==============================] - 0s 2ms/step\n",
            "6/6 [==============================] - 0s 3ms/step\n",
            "Validation aUc: 0.6705\n",
            "iteration: 5\n"
          ]
        },
        {
          "output_type": "stream",
          "name": "stderr",
          "text": [
            "/usr/local/lib/python3.8/dist-packages/sklearn/metrics/_classification.py:1318: UndefinedMetricWarning: Recall and F-score are ill-defined and being set to 0.0 in labels with no true samples. Use `zero_division` parameter to control this behavior.\n",
            "  _warn_prf(average, modifier, msg_start, len(result))\n",
            "/usr/local/lib/python3.8/dist-packages/sklearn/metrics/_classification.py:1318: UndefinedMetricWarning: Recall and F-score are ill-defined and being set to 0.0 in labels with no true samples. Use `zero_division` parameter to control this behavior.\n",
            "  _warn_prf(average, modifier, msg_start, len(result))\n",
            "/usr/local/lib/python3.8/dist-packages/sklearn/metrics/_classification.py:1318: UndefinedMetricWarning: Recall and F-score are ill-defined and being set to 0.0 in labels with no true samples. Use `zero_division` parameter to control this behavior.\n",
            "  _warn_prf(average, modifier, msg_start, len(result))\n"
          ]
        },
        {
          "output_type": "display_data",
          "data": {
            "text/plain": [
              "<Figure size 576x360 with 1 Axes>"
            ],
            "image/png": "[encoded data removed]"
          },
          "metadata": {
            "needs_background": "light"
          }
        },
        {
          "output_type": "stream",
          "name": "stdout",
          "text": [
            "6/6 [==============================] - 0s 3ms/step\n",
            "6/6 [==============================] - 0s 3ms/step\n",
            "Validation aUc: 0.6372\n",
            "iteration: 6\n"
          ]
        },
        {
          "output_type": "stream",
          "name": "stderr",
          "text": [
            "/usr/local/lib/python3.8/dist-packages/sklearn/metrics/_classification.py:1318: UndefinedMetricWarning: Recall and F-score are ill-defined and being set to 0.0 in labels with no true samples. Use `zero_division` parameter to control this behavior.\n",
            "  _warn_prf(average, modifier, msg_start, len(result))\n",
            "/usr/local/lib/python3.8/dist-packages/sklearn/metrics/_classification.py:1318: UndefinedMetricWarning: Recall and F-score are ill-defined and being set to 0.0 in labels with no true samples. Use `zero_division` parameter to control this behavior.\n",
            "  _warn_prf(average, modifier, msg_start, len(result))\n",
            "/usr/local/lib/python3.8/dist-packages/sklearn/metrics/_classification.py:1318: UndefinedMetricWarning: Recall and F-score are ill-defined and being set to 0.0 in labels with no true samples. Use `zero_division` parameter to control this behavior.\n",
            "  _warn_prf(average, modifier, msg_start, len(result))\n"
          ]
        },
        {
          "output_type": "display_data",
          "data": {
            "text/plain": [
              "<Figure size 576x360 with 1 Axes>"
            ],
            "image/png": "[encoded data removed]"
          },
          "metadata": {
            "needs_background": "light"
          }
        },
        {
          "output_type": "stream",
          "name": "stdout",
          "text": [
            "6/6 [==============================] - 0s 2ms/step\n",
            "6/6 [==============================] - 0s 2ms/step\n",
            "Validation aUc: 0.6647\n",
            "iteration: 7\n"
          ]
        },
        {
          "output_type": "stream",
          "name": "stderr",
          "text": [
            "/usr/local/lib/python3.8/dist-packages/sklearn/metrics/_classification.py:1318: UndefinedMetricWarning: Recall and F-score are ill-defined and being set to 0.0 in labels with no true samples. Use `zero_division` parameter to control this behavior.\n",
            "  _warn_prf(average, modifier, msg_start, len(result))\n",
            "/usr/local/lib/python3.8/dist-packages/sklearn/metrics/_classification.py:1318: UndefinedMetricWarning: Recall and F-score are ill-defined and being set to 0.0 in labels with no true samples. Use `zero_division` parameter to control this behavior.\n",
            "  _warn_prf(average, modifier, msg_start, len(result))\n",
            "/usr/local/lib/python3.8/dist-packages/sklearn/metrics/_classification.py:1318: UndefinedMetricWarning: Recall and F-score are ill-defined and being set to 0.0 in labels with no true samples. Use `zero_division` parameter to control this behavior.\n",
            "  _warn_prf(average, modifier, msg_start, len(result))\n"
          ]
        },
        {
          "output_type": "display_data",
          "data": {
            "text/plain": [
              "<Figure size 576x360 with 1 Axes>"
            ],
            "image/png": "[encoded data removed]"
          },
          "metadata": {
            "needs_background": "light"
          }
        },
        {
          "output_type": "stream",
          "name": "stdout",
          "text": [
            "6/6 [==============================] - 0s 3ms/step\n",
            "6/6 [==============================] - 0s 3ms/step\n",
            "Validation aUc: 0.6545\n",
            "iteration: 8\n"
          ]
        },
        {
          "output_type": "stream",
          "name": "stderr",
          "text": [
            "/usr/local/lib/python3.8/dist-packages/sklearn/metrics/_classification.py:1318: UndefinedMetricWarning: Recall and F-score are ill-defined and being set to 0.0 in labels with no true samples. Use `zero_division` parameter to control this behavior.\n",
            "  _warn_prf(average, modifier, msg_start, len(result))\n",
            "/usr/local/lib/python3.8/dist-packages/sklearn/metrics/_classification.py:1318: UndefinedMetricWarning: Recall and F-score are ill-defined and being set to 0.0 in labels with no true samples. Use `zero_division` parameter to control this behavior.\n",
            "  _warn_prf(average, modifier, msg_start, len(result))\n",
            "/usr/local/lib/python3.8/dist-packages/sklearn/metrics/_classification.py:1318: UndefinedMetricWarning: Recall and F-score are ill-defined and being set to 0.0 in labels with no true samples. Use `zero_division` parameter to control this behavior.\n",
            "  _warn_prf(average, modifier, msg_start, len(result))\n"
          ]
        },
        {
          "output_type": "display_data",
          "data": {
            "text/plain": [
              "<Figure size 576x360 with 1 Axes>"
            ],
            "image/png": "[encoded data removed]"
          },
          "metadata": {
            "needs_background": "light"
          }
        },
        {
          "output_type": "stream",
          "name": "stdout",
          "text": [
            "6/6 [==============================] - 0s 2ms/step\n",
            "6/6 [==============================] - 0s 3ms/step\n",
            "Validation aUc: 0.6676\n",
            "iteration: 9\n"
          ]
        },
        {
          "output_type": "stream",
          "name": "stderr",
          "text": [
            "/usr/local/lib/python3.8/dist-packages/sklearn/metrics/_classification.py:1318: UndefinedMetricWarning: Recall and F-score are ill-defined and being set to 0.0 in labels with no true samples. Use `zero_division` parameter to control this behavior.\n",
            "  _warn_prf(average, modifier, msg_start, len(result))\n",
            "/usr/local/lib/python3.8/dist-packages/sklearn/metrics/_classification.py:1318: UndefinedMetricWarning: Recall and F-score are ill-defined and being set to 0.0 in labels with no true samples. Use `zero_division` parameter to control this behavior.\n",
            "  _warn_prf(average, modifier, msg_start, len(result))\n",
            "/usr/local/lib/python3.8/dist-packages/sklearn/metrics/_classification.py:1318: UndefinedMetricWarning: Recall and F-score are ill-defined and being set to 0.0 in labels with no true samples. Use `zero_division` parameter to control this behavior.\n",
            "  _warn_prf(average, modifier, msg_start, len(result))\n"
          ]
        },
        {
          "output_type": "display_data",
          "data": {
            "text/plain": [
              "<Figure size 576x360 with 1 Axes>"
            ],
            "image/png": "[encoded data removed]"
          },
          "metadata": {
            "needs_background": "light"
          }
        },
        {
          "output_type": "stream",
          "name": "stdout",
          "text": [
            "6/6 [==============================] - 0s 2ms/step\n",
            "6/6 [==============================] - 0s 4ms/step\n",
            "Validation aUc: 0.6459\n"
          ]
        },
        {
          "output_type": "stream",
          "name": "stderr",
          "text": [
            "/usr/local/lib/python3.8/dist-packages/sklearn/metrics/_classification.py:1318: UndefinedMetricWarning: Recall and F-score are ill-defined and being set to 0.0 in labels with no true samples. Use `zero_division` parameter to control this behavior.\n",
            "  _warn_prf(average, modifier, msg_start, len(result))\n",
            "/usr/local/lib/python3.8/dist-packages/sklearn/metrics/_classification.py:1318: UndefinedMetricWarning: Recall and F-score are ill-defined and being set to 0.0 in labels with no true samples. Use `zero_division` parameter to control this behavior.\n",
            "  _warn_prf(average, modifier, msg_start, len(result))\n",
            "/usr/local/lib/python3.8/dist-packages/sklearn/metrics/_classification.py:1318: UndefinedMetricWarning: Recall and F-score are ill-defined and being set to 0.0 in labels with no true samples. Use `zero_division` parameter to control this behavior.\n",
            "  _warn_prf(average, modifier, msg_start, len(result))\n"
          ]
        }
      ],
      "source": [
        " \n",
        "from sklearn.metrics import classification_report\n",
        "l1 =  0.01\n",
        "NUM_RUNS =10\n",
        "ACC = np.zeros(NUM_RUNS)\n",
        "AUC = np.zeros(NUM_RUNS)\n",
        "for i in range(NUM_RUNS): #10\n",
        "    print(\"iteration: \" + str(i))\n",
        "\n",
        "    MA = Keras_MA_GCCE(epochs=100,batch_size=32 ,R=5, K=len(np.unique(Y_true_train)), dropout=0.5, learning_rate=0.01,optimizer='Adam', \n",
        "                l1_param=l1,  validation_split=0.3, verbose=0)\n",
        "    MA.fit(X_train, Y_train)\n",
        "    MA.plot_history()\n",
        "  \n",
        "    #Accuracy\n",
        "    pred_2 = MA.predict(X_test)\n",
        " \n",
        "    report = classification_report( pred_2.argmax(axis=1),Y_true_test.ravel(),output_dict=True)\n",
        "    ACC[i] = report['accuracy']\n",
        "    #AUC\n",
        "    val_AUC_metric = tf.keras.metrics.AUC(from_logits = True)  \n",
        "    val_logits =MA.predict(X_test) # model(X_test, training=False)\n",
        "    # tf.print(y_batch_val)\n",
        "    val_AUC_metric.update_state(Y_true_test, val_logits.argmax(axis=1).astype('float'))\n",
        "\n",
        "    val_AUC = val_AUC_metric.result()\n",
        "    val_AUC_metric.reset_states()\n",
        "    val_AUC = val_AUC.numpy()\n",
        "    print(\"Validation aUc: %.4f\" % (float(val_AUC),))\n",
        "    AUC[i] = val_AUC\n",
        "    \n",
        "  "
      ],
      "id": "2251089a"
    },
    {
      "cell_type": "code",
      "source": [
        "ACC"
      ],
      "metadata": {
        "colab": {
          "base_uri": "https://localhost:8080/"
        },
        "id": "V8VWEF-JV14U",
        "outputId": "8db8d032-bed7-4a25-fc37-0102caad894a"
      },
      "execution_count": 101,
      "outputs": [
        {
          "output_type": "execute_result",
          "data": {
            "text/plain": [
              "array([0.71808511, 0.75531915, 0.73404255, 0.71808511, 0.73404255,\n",
              "       0.73404255, 0.72340426, 0.76595745, 0.7393617 , 0.75      ])"
            ]
          },
          "metadata": {},
          "execution_count": 101
        }
      ],
      "id": "V8VWEF-JV14U"
    },
    {
      "cell_type": "code",
      "source": [
        "\n",
        "AUC"
      ],
      "metadata": {
        "colab": {
          "base_uri": "https://localhost:8080/"
        },
        "id": "bAgG_knDzvlM",
        "outputId": "5549d2ff-3b46-437e-9c04-a8c8d57ff761"
      },
      "execution_count": 102,
      "outputs": [
        {
          "output_type": "execute_result",
          "data": {
            "text/plain": [
              "array([0.62851644, 0.64874756, 0.63718694, 0.62851644, 0.67052025,\n",
              "       0.63718694, 0.66473985, 0.6545279 , 0.66763008, 0.64585739])"
            ]
          },
          "metadata": {},
          "execution_count": 102
        }
      ],
      "id": "bAgG_knDzvlM"
    },
    {
      "cell_type": "code",
      "execution_count": 103,
      "metadata": {
        "execution": {
          "iopub.execute_input": "2022-10-25T16:26:20.669590Z",
          "iopub.status.busy": "2022-10-25T16:26:20.669121Z",
          "iopub.status.idle": "2022-10-25T16:26:20.673772Z",
          "shell.execute_reply": "2022-10-25T16:26:20.672863Z"
        },
        "id": "297b5917",
        "papermill": {
          "duration": 0.020783,
          "end_time": "2022-10-25T16:26:20.675918",
          "exception": false,
          "start_time": "2022-10-25T16:26:20.655135",
          "status": "completed"
        },
        "tags": [],
        "colab": {
          "base_uri": "https://localhost:8080/"
        },
        "outputId": "0b67c843-9409-4593-9bd3-0c816a1ff483"
      },
      "outputs": [
        {
          "output_type": "stream",
          "name": "stdout",
          "text": [
            "Average Accuracy:  73.72\n",
            "Average std:  1.51\n"
          ]
        }
      ],
      "source": [
        "print('Average Accuracy: ', np.round( ACC.mean(),4)*100) \n",
        "print('Average std: ',np.round(np.std( ACC),4)*100)"
      ],
      "id": "297b5917"
    },
    {
      "cell_type": "code",
      "source": [
        "print('Average Accuracy: ', np.round( AUC.mean(),4)*100) \n",
        "print('Average std: ',np.round(np.std( AUC),4)*100)"
      ],
      "metadata": {
        "colab": {
          "base_uri": "https://localhost:8080/"
        },
        "id": "IsM5jKAAzx-l",
        "outputId": "6fcafcc7-ef9f-4c05-b751-bdfc35376291"
      },
      "execution_count": 104,
      "outputs": [
        {
          "output_type": "stream",
          "name": "stdout",
          "text": [
            "Average Accuracy:  64.83\n",
            "Average std:  1.49\n"
          ]
        }
      ],
      "id": "IsM5jKAAzx-l"
    },
    {
      "cell_type": "code",
      "source": [],
      "metadata": {
        "id": "zeZZm4AqZnxX"
      },
      "id": "zeZZm4AqZnxX",
      "execution_count": 98,
      "outputs": []
    }
  ],
  "metadata": {
    "kernelspec": {
      "display_name": "Python 3",
      "language": "python",
      "name": "python3"
    },
    "language_info": {
      "codemirror_mode": {
        "name": "ipython",
        "version": 3
      },
      "file_extension": ".py",
      "mimetype": "text/x-python",
      "name": "python",
      "nbconvert_exporter": "python",
      "pygments_lexer": "ipython3",
      "version": "3.7.12"
    },
    "papermill": {
      "default_parameters": {},
      "duration": 2010.780582,
      "end_time": "2022-10-25T16:45:45.296400",
      "environment_variables": {},
      "exception": null,
      "input_path": "__notebook__.ipynb",
      "output_path": "__notebook__.ipynb",
      "parameters": {},
      "start_time": "2022-10-25T16:12:14.515818",
      "version": "2.3.4"
    },
    "colab": {
      "provenance": [],
      "include_colab_link": true
    }
  },
  "nbformat": 4,
  "nbformat_minor": 5
}