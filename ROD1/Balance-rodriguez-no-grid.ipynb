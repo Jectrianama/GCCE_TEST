{
 "cells": [
  {
   "cell_type": "markdown",
   "id": "38cf60d6",
   "metadata": {
    "id": "Cy45HoPn5SpZ",
    "papermill": {
     "duration": 0.009527,
     "end_time": "2023-02-13T08:05:16.432104",
     "exception": false,
     "start_time": "2023-02-13T08:05:16.422577",
     "status": "completed"
    },
    "tags": []
   },
   "source": [
    "# Loss function Rodrigues\n",
    "\n",
    "$𝒟 = \\{ \\mathbf{x}_n, \\mathbf{y}_n\\}$ be a dataset of size $N$\n",
    "\n",
    "$\\mathbf{x}_n \\in \\mathbb{R}^D$\n",
    "\n",
    "${\\mathbf{y}}^r_n\\in[0,1]^K$:   label provided for the r-th annotator in a set of R annotators\n",
    "\n",
    "$𝒛_n$ Latent true class determined by a softmax output layer  of a DNN\n",
    "\n",
    "\n",
    "$\\mathbf{\\sigma}\\in \\mathbb{R} ^Q$: DNN-based feature representation. correspond to the output of a softmax layer\n",
    "\n",
    "$\\hat{\\mathbf{y}}^r_n = f_r(\\sigma)\\in[0,1]^{1 \\times K}$\n",
    "\n",
    "$\\hat{\\mathbf{y}}_n=[\\hat{\\mathbf{y}}^1_n,\\hat{\\mathbf{y}}^2_n,\\dots,\\hat{\\mathbf{y}}^R_n]\\in [0,1]^{1\\times (R\\times K)}$\n",
    "\n",
    "Activation of the crowd layer for each anotator  $ \\mathbf{a}^r = f_r(\\sigma)$, where $f_r$ is an annotator-specific function, and the output of the crowd layer simply as the softmax of the\n",
    "activations $o_c^r = e^{a_c^r}/\\sum_{l=1}^{C}e^{a_l^r}$.\n",
    "\n",
    "\n",
    " $f_r(\\sigma)= \\mathbf{W}^r\\mathbf{\\sigma}$\n",
    "\n",
    " $\\mathbf{W}^r$ is an annotator-specific matrix\n",
    "\n",
    " **Cost function**\n",
    "\n",
    " $E(\\mathbf{o}^r, y^r)$\n",
    " between the expected output of the r-th annotator and its actual label $y^r$,\n",
    "\n",
    "Then, \n",
    "\n",
    "if we make. $\\lambda_n^r(\\theta) = \\mathbf{1}$ in PRI loss\n",
    "\n",
    "\n",
    "\n",
    "$$\\min_\\theta \\sum_n\\left(\\sum_r \\lambda_n^r(\\theta)H({\\mathbf{y}}^r_n;\\hat{\\mathbf{y}}_n(\\theta))\\right)+\\left(H(\\hat{\\mathbf{y}}_n(\\theta))\\sum_r\\left(1-\\lambda_n^r(\\theta)\\right)\\right)$$\n",
    "\n",
    " \n",
    "we can obtain rodriguez\n",
    "\n",
    "\n",
    "$$\\min_\\theta \\sum_n\\left(\\sum_r (\\mathbf{1})H({\\mathbf{y}}^r_n;\\hat{\\mathbf{y}}_n(\\theta))\\right)+\\left(H(\\hat{\\mathbf{y}}_n(\\theta))\\sum_r\\left(1-\\mathbf{1}\\right)\\right)$$"
   ]
  },
  {
   "cell_type": "code",
   "execution_count": 1,
   "id": "8645628a",
   "metadata": {
    "execution": {
     "iopub.execute_input": "2023-02-13T08:05:16.451901Z",
     "iopub.status.busy": "2023-02-13T08:05:16.450686Z",
     "iopub.status.idle": "2023-02-13T08:05:23.420256Z",
     "shell.execute_reply": "2023-02-13T08:05:23.419018Z"
    },
    "id": "Htu1kN9-jZO1",
    "papermill": {
     "duration": 6.983353,
     "end_time": "2023-02-13T08:05:23.423849",
     "exception": false,
     "start_time": "2023-02-13T08:05:16.440496",
     "status": "completed"
    },
    "tags": []
   },
   "outputs": [],
   "source": [
    "import tensorflow as tf\n",
    "from sklearn.metrics import classification_report, accuracy_score, balanced_accuracy_score, roc_auc_score, mutual_info_score, normalized_mutual_info_score, adjusted_mutual_info_score\n",
    "from sklearn.preprocessing import LabelBinarizer\n",
    "from sklearn.preprocessing import OneHotEncoder\n",
    "from scipy.stats import mode \n",
    "import numpy as np\n",
    "\n",
    "def ook(t):\n",
    "  lb = LabelBinarizer()\n",
    "  y_ook = lb.fit_transform(t)  \n",
    "\n",
    "  if len(np.unique(t))==2:\n",
    "    y_ook = np.concatenate((1-y_ook.astype(bool), y_ook), axis = 1) \n",
    "\n",
    "  return y_ook\n",
    "\n",
    " \n",
    "\n",
    "def evaluation_metrics(y_true, y_pred, print_result=True):\n",
    "    acc = 0\n",
    "    auc = 0\n",
    "    auc_sk = 0\n",
    "    #mi = 0\n",
    "    nmi = 0\n",
    "    #ami = 0\n",
    "    bacc = 0\n",
    "    \n",
    "    # Accuracy\n",
    "    #report = classification_report(y_pred.argmax(axis=1), y_true.ravel(), output_dict=True)\n",
    "    acc = accuracy_score( y_true.ravel(), y_pred.argmax(axis=1))  #report['accuracy']\n",
    "    \n",
    "    # Balanced accuracy\n",
    "    bacc = balanced_accuracy_score(y_true.squeeze(), y_pred.argmax(axis=1).squeeze(), adjusted=True)\n",
    "    \n",
    "   # # Mutual Information\n",
    "   # mi = mutual_info_score(y_true.squeeze(), y_pred.argmax(axis=1).squeeze())\n",
    "    \n",
    "    # Normalized Mutual Information\n",
    "    nmi = normalized_mutual_info_score(y_true.squeeze(), y_pred.argmax(axis=1).squeeze())\n",
    "    \n",
    "    # Adjusted Mutual Information\n",
    "    #ami = adjusted_mutual_info_score(y_true.squeeze(), y_pred.argmax(axis=1).squeeze())\n",
    "    \n",
    "    # AUC (Tensorflow)\n",
    "    auc_metric = tf.keras.metrics.AUC(from_logits=True)\n",
    "    auc_metric.update_state(y_true, y_pred.argmax(axis=1).astype('float'))\n",
    "    auc = auc_metric.result().numpy()\n",
    "    auc_metric.reset_states()\n",
    "    \n",
    "    # AUC (scikit-learn)\n",
    "    auc_sk = roc_auc_score(ook(y_true), y_pred)\n",
    "    \n",
    "    if print_result:\n",
    "        print(\"Accuracy: {:.4f}\".format(acc))\n",
    "        print(\"Balanced Accuracy: {:.4f}\".format(bacc))\n",
    "        print(\"Mutual Information: {:.4f}\".format(mi))\n",
    "        print(\"Normalized Mutual Information: {:.4f}\".format(nmi))\n",
    "        print(\"Adjusted Mutual Information: {:.4f}\".format(ami))\n",
    "        print(\"AUC (Tensorflow): {:.4f}\".format(auc))\n",
    "        print(\"AUC (scikit-learn): {:.4f}\".format(auc_sk))\n",
    "    \n",
    "    return acc, auc, auc_sk, nmi, bacc   # mi, , ami\n",
    "\n",
    "\n"
   ]
  },
  {
   "cell_type": "code",
   "execution_count": 2,
   "id": "a33df7a8",
   "metadata": {
    "execution": {
     "iopub.execute_input": "2023-02-13T08:05:23.443433Z",
     "iopub.status.busy": "2023-02-13T08:05:23.442574Z",
     "iopub.status.idle": "2023-02-13T08:05:23.488745Z",
     "shell.execute_reply": "2023-02-13T08:05:23.487783Z"
    },
    "id": "Gw-I1LpOjkw3",
    "outputId": "ebc8e065-e200-4131-fc8b-2ae9efe8d1d7",
    "papermill": {
     "duration": 0.059053,
     "end_time": "2023-02-13T08:05:23.491641",
     "exception": false,
     "start_time": "2023-02-13T08:05:23.432588",
     "status": "completed"
    },
    "tags": []
   },
   "outputs": [
    {
     "data": {
      "text/html": [
       "<div>\n",
       "<style scoped>\n",
       "    .dataframe tbody tr th:only-of-type {\n",
       "        vertical-align: middle;\n",
       "    }\n",
       "\n",
       "    .dataframe tbody tr th {\n",
       "        vertical-align: top;\n",
       "    }\n",
       "\n",
       "    .dataframe thead th {\n",
       "        text-align: right;\n",
       "    }\n",
       "</style>\n",
       "<table border=\"1\" class=\"dataframe\">\n",
       "  <thead>\n",
       "    <tr style=\"text-align: right;\">\n",
       "      <th></th>\n",
       "      <th>Class</th>\n",
       "      <th>L-Weight</th>\n",
       "      <th>L-Distance</th>\n",
       "      <th>R-Weight</th>\n",
       "      <th>R-Distance</th>\n",
       "    </tr>\n",
       "  </thead>\n",
       "  <tbody>\n",
       "    <tr>\n",
       "      <th>0</th>\n",
       "      <td>B</td>\n",
       "      <td>1</td>\n",
       "      <td>1</td>\n",
       "      <td>1</td>\n",
       "      <td>1</td>\n",
       "    </tr>\n",
       "    <tr>\n",
       "      <th>1</th>\n",
       "      <td>R</td>\n",
       "      <td>1</td>\n",
       "      <td>1</td>\n",
       "      <td>1</td>\n",
       "      <td>2</td>\n",
       "    </tr>\n",
       "    <tr>\n",
       "      <th>2</th>\n",
       "      <td>R</td>\n",
       "      <td>1</td>\n",
       "      <td>1</td>\n",
       "      <td>1</td>\n",
       "      <td>3</td>\n",
       "    </tr>\n",
       "    <tr>\n",
       "      <th>3</th>\n",
       "      <td>R</td>\n",
       "      <td>1</td>\n",
       "      <td>1</td>\n",
       "      <td>1</td>\n",
       "      <td>4</td>\n",
       "    </tr>\n",
       "    <tr>\n",
       "      <th>4</th>\n",
       "      <td>R</td>\n",
       "      <td>1</td>\n",
       "      <td>1</td>\n",
       "      <td>1</td>\n",
       "      <td>5</td>\n",
       "    </tr>\n",
       "  </tbody>\n",
       "</table>\n",
       "</div>"
      ],
      "text/plain": [
       "  Class  L-Weight  L-Distance  R-Weight  R-Distance\n",
       "0     B         1           1         1           1\n",
       "1     R         1           1         1           2\n",
       "2     R         1           1         1           3\n",
       "3     R         1           1         1           4\n",
       "4     R         1           1         1           5"
      ]
     },
     "execution_count": 2,
     "metadata": {},
     "output_type": "execute_result"
    }
   ],
   "source": [
    " #https://www.kaggle.com/datasets/mysticvalley/balance-scale\n",
    "import pandas as pd\n",
    "df = pd.read_csv(r'../input/balance-scale/balance-scale.csv') \n",
    "df.head()\n",
    "    "
   ]
  },
  {
   "cell_type": "markdown",
   "id": "67bf3381",
   "metadata": {
    "id": "lYGUr8mv4EuV",
    "papermill": {
     "duration": 0.007888,
     "end_time": "2023-02-13T08:05:23.507985",
     "exception": false,
     "start_time": "2023-02-13T08:05:23.500097",
     "status": "completed"
    },
    "tags": []
   },
   "source": [
    "# Subclassing for Crowdlayer Rodriguez"
   ]
  },
  {
   "cell_type": "code",
   "execution_count": 3,
   "id": "c53a91ca",
   "metadata": {
    "execution": {
     "iopub.execute_input": "2023-02-13T08:05:23.527485Z",
     "iopub.status.busy": "2023-02-13T08:05:23.526538Z",
     "iopub.status.idle": "2023-02-13T08:05:27.043903Z",
     "shell.execute_reply": "2023-02-13T08:05:27.042417Z"
    },
    "id": "p5fJiVgC3FKO",
    "papermill": {
     "duration": 3.530918,
     "end_time": "2023-02-13T08:05:27.047104",
     "exception": false,
     "start_time": "2023-02-13T08:05:23.516186",
     "status": "completed"
    },
    "tags": []
   },
   "outputs": [],
   "source": [
    "# -*- coding: utf-8 -*-\n",
    "import tensorflow as tf\n",
    "import matplotlib.pyplot as plt\n",
    "#from tensorflow.keras.wrappers.scikit_learn import KerasClassifier\n",
    "import tensorflow_probability as tfp\n",
    "from tensorflow.keras import regularizers\n",
    "from sklearn.base import  BaseEstimator, TransformerMixin, ClassifierMixin\n",
    "from sklearn.model_selection import train_test_split\n",
    "tf.keras.backend.clear_session()\n",
    "#tf.random.set_seed(42)\n",
    "import types\n",
    "import tempfile\n",
    "class Keras_MA_CrowdL(): #transformer no va\n",
    " #Constructor __init__. Special method: identified by a double underscore at either side of their name\n",
    " #work in the background\n",
    " # initialize data members to the object. lets the class initialize the object’s attributes and serves no other purpose.\n",
    "    def __init__(self,epochs=100,batch_size=30,R=5, K=2, dropout=0.5, learning_rate=1e-3,optimizer='Adam', \n",
    "                  l1_param=0, validation_split=0.3, verbose=0, neurons=4):\n",
    "        #print('init')\n",
    "        self.epochs=epochs\n",
    "        self.dropout=dropout\n",
    "        self.batch_size = batch_size\n",
    "        self.learning_rate=learning_rate \n",
    "        self.l1_param=l1_param \n",
    "        self.l2_param=l1_param\n",
    "        self.validation_split = validation_split\n",
    "        self.verbose = verbose\n",
    "        self.optimizer = optimizer\n",
    "        self.R=R\n",
    "        self.K=K\n",
    "        self.neurons = neurons\n",
    "\n",
    "    \n",
    " \n",
    "    def custom_CLR_loss(self, y_true, y_pred): #ytrue \\in N x R,  ypred \\in N x K x R  ->CrowdLayerRodriguez\n",
    "        #print(y_true.shape)\n",
    "        Y_true_1K = tf.one_hot(tf.cast(y_true,dtype=tf.int32),depth=self.K,axis=1) #samples, classes 1-K, annotators\n",
    "        #print(Y_true_1K.shape)    \n",
    "        vec = tf.nn.softmax_cross_entropy_with_logits(logits=y_pred, labels=Y_true_1K, axis = 1)\n",
    "        #print(vec.shape)\n",
    "        #mask = tf.equal(Y_true_1K[:,0,:], -1)\n",
    "        #zer = tf.zeros_like(vec)\n",
    "        #loss = tf.where(mask, x=zer, y=vec)\n",
    "        #tf.print(\"loss\", loss)\n",
    "        return tf.math.reduce_sum(vec)\n",
    "    \n",
    "    def fit(self, X, Y):\n",
    "            \n",
    "        def scheduler1(step = 10, ratio = 1.2):\n",
    "          def scheduler(epoch, lr):\n",
    "            if epoch % step == 0 and epoch>1:\n",
    "              return lr/ratio\n",
    "            else:\n",
    "              return lr\n",
    "          return scheduler\n",
    "\n",
    "        initializer = tf.keras.initializers.GlorotNormal(seed=100)\n",
    "        #input X numpy array first dimension samples (N)x features (P)\n",
    "        #input Y numpy array vector len = samples (N) x  annotators (R)\n",
    "        P = X.shape[1]\n",
    "        \n",
    "        if self.optimizer == \"Adam\":\n",
    "            opt = tf.keras.optimizers.Adam(learning_rate=self.learning_rate)\n",
    "        elif self.optimizer == \"SGD\":\n",
    "            opt = tf.keras.optimizers.SGD(learning_rate=self.learning_rate)\n",
    "        elif self.optimizer == \"RMSprop\":\n",
    "            opt = tf.keras.optimizers.RMSprop(learning_rate=self.learning_rate)\n",
    "        elif self.optimizer == \"Adagrad\":\n",
    "            opt = tf.keras.optimizers.Adagrad(learning_rate=self.learning_rate)\n",
    "        else:\n",
    "            opt=self.optimizer\n",
    "\n",
    "\n",
    "#         if self.loss == \"RCDNN\":\n",
    "#           sel_loss = self.custom_RCDNN_loss\n",
    "#         elif  self.loss == \"GCE\":\n",
    "#           sel_loss = self.GCE_MA_loss\n",
    "        \n",
    "        #capa de entrada\n",
    "        input_l = tf.keras.layers.Input(shape=(X.shape[1]), name='entrada')\n",
    "        input_l_b = tf.keras.layers.BatchNormalization()(input_l)        \n",
    "        input_l_do = tf.keras.layers.Dropout(rate=self.dropout)(input_l_b)    \n",
    "        #capas densas\n",
    "        h1 = tf.keras.layers.Dense(int(P*self.neurons*(self.K+self.R)),activation='selu',name='h1', bias_initializer='zeros', kernel_initializer=initializer,\n",
    "                              kernel_regularizer=tf.keras.regularizers.l1_l2(l1=self.l1_param,l2=self.l2_param))(input_l_do)#argumento de entrada\n",
    "       # h1 = tf.keras.layers.BatchNormalization()(h1)        \n",
    "        h1 = tf.keras.layers.AlphaDropout(rate=self.dropout)(h1)      \n",
    "        h2 = tf.keras.layers.Dense(int(P*(self.K+self.R)),activation='selu',name='h2', bias_initializer='zeros', kernel_initializer=initializer,\n",
    "                              kernel_regularizer=tf.keras.regularizers.l1_l2(l1=self.l1_param,l2=self.l2_param))(h1)\n",
    "        #h2 = tf.keras.layers.BatchNormalization()(h2)     \n",
    "        dout = tf.keras.layers.AlphaDropout(rate=self.dropout)(h2)\n",
    "        output_dense = tf.keras.layers.Dense(self.K,activation=\"softmax\",name='output',\n",
    "                               kernel_regularizer=tf.keras.regularizers.l1_l2(l1=self.l1_param,l2=self.l2_param))(dout)\n",
    "        output= CrowdsClassification(self.K, self.R, conn_type=\"MW\")(output_dense) #Classes x Annotators\n",
    "        self.model = tf.keras.Model(inputs= input_l,outputs=output)\n",
    "        self.model.compile(loss= self.custom_CLR_loss, optimizer=opt)\n",
    "        \n",
    "        callback1 = tf.keras.callbacks.TerminateOnNaN()\n",
    "        callback2 = tf.keras.callbacks.LearningRateScheduler(scheduler1(ratio = 1))\n",
    "        #callback2 = tf.keras.callbacks.LearningRateScheduler(scheduler2)\n",
    "        callback3 = tf.keras.callbacks.EarlyStopping(monitor=\"loss\", min_delta=1e-2,\n",
    "                                                 patience=15, verbose=0, mode=\"auto\",\n",
    "                                                 baseline=None, restore_best_weights=True)\n",
    "        \n",
    "        \n",
    "        self.history = self.model.fit(X, Y, epochs=self.epochs, validation_split= self.validation_split, callbacks = [callback1, callback2],     #\n",
    "                                      batch_size=self.batch_size,verbose=self.verbose)\n",
    "        #model_p  to predict labels in gridsearch  \n",
    "        self.model_p = tf.keras.Model(inputs=self.model.inputs,outputs=self.model.get_layer('output').output) #se accede a capas por nombre\n",
    "        #resumen y gráfica del modelo\n",
    "        #print(self.model.summary())\n",
    "        \n",
    "        return self\n",
    " \n",
    " \n",
    "\n",
    "    def predict2(self, X, *_):\n",
    "      return  self.model_p.predict(X)\n",
    "\n",
    "     \n",
    "    def predict(self, X, *_):\n",
    "\n",
    "       #print('predict') \n",
    "       return  self.model.predict(X) \n",
    "\n",
    "    def fit_predict(self,X,y):\n",
    "        #input X numpy array first dimension samples (N)x features (P)\n",
    "        #input Y numpy array vector len = samples (N) x  annotators (R)\n",
    "        \n",
    "        self.fit(X,y)\n",
    "        return self.predict(X)\n",
    "  \n",
    "     #graphics\n",
    "    def plot_history(self):\n",
    "        pd.DataFrame(self.history.history).plot(figsize=(8, 5))\n",
    "        plt.grid(True)\n",
    "        #plt.gca().set_ylim(0, 1)\n",
    "        #save_fig(\"keras_learning_curves_plot\")\n",
    "        plt.show()\n",
    "        return\n",
    "    \n",
    "    def set_params(self, **parameters):\n",
    "        #print('set_params') \n",
    "        for parameter, value in parameters.items():\n",
    "            setattr(self, parameter, value)\n",
    "\n",
    "        return self\n",
    "    \n",
    "    \n",
    "    \n",
    "    def get_params(self, deep=True):\n",
    "        #print('get_params') \n",
    "        return { 'l1_param':self.l1_param, 'dropout':self.dropout, 'optimizer':self.optimizer,\n",
    "                'learning_rate':self.learning_rate, 'batch_size':self.batch_size,\n",
    "                'epochs':self.epochs, 'verbose':self.verbose, 'validation_split':self.validation_split,\n",
    "                'R':self.R, 'K':self.K\n",
    "                }"
   ]
  },
  {
   "cell_type": "markdown",
   "id": "7b65ed32",
   "metadata": {
    "id": "b9yV0N4v4U_3",
    "papermill": {
     "duration": 0.007994,
     "end_time": "2023-02-13T08:05:27.063471",
     "exception": false,
     "start_time": "2023-02-13T08:05:27.055477",
     "status": "completed"
    },
    "tags": []
   },
   "source": [
    "# Crowdlayer class"
   ]
  },
  {
   "cell_type": "code",
   "execution_count": 4,
   "id": "c80e4853",
   "metadata": {
    "execution": {
     "iopub.execute_input": "2023-02-13T08:05:27.083128Z",
     "iopub.status.busy": "2023-02-13T08:05:27.082555Z",
     "iopub.status.idle": "2023-02-13T08:05:27.109542Z",
     "shell.execute_reply": "2023-02-13T08:05:27.108264Z"
    },
    "id": "4ysb7umL3FKN",
    "papermill": {
     "duration": 0.041064,
     "end_time": "2023-02-13T08:05:27.112983",
     "exception": false,
     "start_time": "2023-02-13T08:05:27.071919",
     "status": "completed"
    },
    "tags": []
   },
   "outputs": [],
   "source": [
    " \n",
    "import numpy as np\n",
    "import tensorflow as tf\n",
    "import tensorflow.keras as keras\n",
    "from tensorflow.keras import backend as K1\n",
    "from tensorflow.keras.layers import Layer\n",
    "#from tensorflow.keras.engine.topology import Layer\n",
    "\n",
    "def init_identities(shape, dtype=None):\n",
    "    out = np.zeros(shape)\n",
    "    for r in range(shape[2]):\n",
    "        for i in range(shape[0]):\n",
    "            out[i,i,r] = 1.0\n",
    "    return out\n",
    "    \n",
    "class CrowdsClassification(Layer):\n",
    "\n",
    "\n",
    "  \n",
    "  #The build() method’s role is to create the layer’s variables, by calling the \n",
    "  #add_weight() method for each weight.  which is often necessary to create some of the weights.\n",
    "  #we need to know the number of neurons in the previous layer in order to create the connection weights matrix (i.e., the \"kernel\"): \n",
    "  #this corresponds to the size of the last dimension of the inputs. \n",
    "   \n",
    "    def __init__(self, output_dim, num_annotators, conn_type=\"MW\", **kwargs):\n",
    "        self.output_dim = output_dim\n",
    "        self.num_annotators = num_annotators\n",
    "        self.conn_type = conn_type\n",
    "        super(CrowdsClassification, self).__init__(**kwargs)\n",
    "\n",
    "\n",
    "\n",
    "    def build(self, input_shape):\n",
    "        if self.conn_type == \"MW\":\n",
    "            # matrix of weights per annotator\n",
    "      #A layer is a callable object that takes as input one or more tensors and that outputs one or more tensors. \n",
    "      #It involves computation, defined in the call() method, and a state (weight variables). \n",
    "      #the method add_weight() offers a shortcut to create weights.\n",
    "\n",
    "            self.kernel = self.add_weight(\"CrowdLayer\", (self.output_dim, self.output_dim, self.num_annotators),\n",
    "                                            initializer=init_identities, #It is the stated initializer instance\n",
    "                                            trainable=True) # trainable weights, updated via backpropagation during training\n",
    "        elif self.conn_type == \"VW\":\n",
    "            # vector of weights (one scale per class) per annotator\n",
    "            self.kernel = self.add_weight(\"CrowdLayer\", (self.output_dim, self.num_annotators),\n",
    "                                            initializer=keras.initializers.Ones(), \n",
    "                                            trainable=True)\n",
    "        elif self.conn_type == \"VB\":\n",
    "            # two vectors of weights (one scale and one bias per class) per annotator\n",
    "            self.kernel = []\n",
    "            self.kernel.append(self.add_weight(\"CrowdLayer\", (self.output_dim, self.num_annotators),\n",
    "                                            initializer=keras.initializers.Zeros(),\n",
    "                                            trainable=True))\n",
    "        elif self.conn_type == \"VW+B\":\n",
    "            # two vectors of weights (one scale and one bias per class) per annotator\n",
    "            self.kernel = []\n",
    "            self.kernel.append(self.add_weight(\"CrowdLayer\", (self.output_dim, self.num_annotators),\n",
    "                                            initializer=keras.initializers.Ones(),\n",
    "                                            trainable=True))\n",
    "            self.kernel.append(self.add_weight(\"CrowdLayer\", (self.output_dim, self.num_annotators),\n",
    "                                            initializer=keras.initializers.Zeros(),\n",
    "                                            trainable=True))\n",
    "        elif self.conn_type == \"SW\":\n",
    "            # single weight value per annotator\n",
    "            self.kernel = self.add_weight(\"CrowdLayer\", (self.num_annotators,1),\n",
    "                                            initializer=keras.initializers.Ones(),\n",
    "                                            trainable=True)\n",
    "        else:\n",
    "            raise Exception(\"Unknown connection type for CrowdsClassification layer!\")\n",
    "    #At the end of the build() method (and only at the end), \n",
    "    #you must call the parent’s build() method: this tells Keras that the layer is built (it just sets self.built = True).\n",
    "        super(CrowdsClassification, self).build(input_shape)  # Be sure to call this somewhere!\n",
    "\n",
    "    def call(self, x):\n",
    "    \n",
    "    #The call() method actually performs the desired operations. In this case, \n",
    "    #we compute the matrix multiplication of the inputs X and the layer’s kernel and \n",
    "    #this gives us the output of the layer.\n",
    "     \n",
    " \n",
    "\n",
    "        if self.conn_type == \"MW\":\n",
    "            res = K1.dot(x, self.kernel)\n",
    "        elif self.conn_type == \"VW\" or self.conn_type == \"VB\" or self.conn_type == \"VW+B\" or self.conn_type == \"SW\":\n",
    "            out = []\n",
    "            for r in range(self.num_annotators):\n",
    "                if self.conn_type == \"VW\":\n",
    "                    out.append(x * self.kernel[:,r])\n",
    "                elif self.conn_type == \"VB\":\n",
    "                    out.append(x + self.kernel[0][:,r])\n",
    "                elif self.conn_type == \"VW+B\":\n",
    "                    out.append(x * self.kernel[0][:,r] + self.kernel[1][:,r])\n",
    "                elif self.conn_type == \"SW\":\n",
    "                    out.append(x * self.kernel[r,0])\n",
    "            res = tf.stack(out)\n",
    "            if len(res.shape) == 3:\n",
    "                res = tf.transpose(res, [1, 2, 0])\n",
    "            elif len(res.shape) == 4:\n",
    "                res = tf.transpose(res, [1, 2, 3, 0])\n",
    "            else:\n",
    "                raise Exception(\"Wrong number of dimensions for output\")\n",
    "        else:\n",
    "            raise Exception(\"Unknown connection type for CrowdsClassification layer!\") \n",
    "        \n",
    "        return res\n",
    " \n",
    "#The compute_output_shape() method simply returns the shape of this layer’s outputs. \n",
    "#In this case, it is the same shape as the inputs, except the last two dimensions is replaced \n",
    "#with the number of clases and # annotators in the layer.  \n",
    " \n",
    "\n",
    "    def compute_output_shape(self, input_shape):\n",
    "        return (input_shape[0], self.output_dim, self.num_annotators)"
   ]
  },
  {
   "cell_type": "markdown",
   "id": "9747e2ec",
   "metadata": {
    "id": "xKzPN5lnHO13",
    "papermill": {
     "duration": 0.008181,
     "end_time": "2023-02-13T08:05:27.129608",
     "exception": false,
     "start_time": "2023-02-13T08:05:27.121427",
     "status": "completed"
    },
    "tags": []
   },
   "source": [
    "# Load Data"
   ]
  },
  {
   "cell_type": "code",
   "execution_count": 5,
   "id": "ff5ce893",
   "metadata": {
    "execution": {
     "iopub.execute_input": "2023-02-13T08:05:27.149658Z",
     "iopub.status.busy": "2023-02-13T08:05:27.149156Z",
     "iopub.status.idle": "2023-02-13T08:05:27.227046Z",
     "shell.execute_reply": "2023-02-13T08:05:27.225510Z"
    },
    "id": "hA1QFlPBjpbA",
    "outputId": "db5be05d-1fdc-4725-8064-5dc79e7a9a6a",
    "papermill": {
     "duration": 0.091921,
     "end_time": "2023-02-13T08:05:27.230164",
     "exception": false,
     "start_time": "2023-02-13T08:05:27.138243",
     "status": "completed"
    },
    "tags": []
   },
   "outputs": [
    {
     "name": "stdout",
     "output_type": "stream",
     "text": [
      "X (625, 4) t (625,)\n"
     ]
    }
   ],
   "source": [
    "#load data\n",
    "import scipy.io as sio\n",
    "import matplotlib.pyplot as plt\n",
    "import pandas as pd\n",
    "import tensorflow as tf #importar tensorflow\n",
    "from sklearn.model_selection import GridSearchCV, RandomizedSearchCV\n",
    "from sklearn.preprocessing import StandardScaler,MinMaxScaler\n",
    "from sklearn.preprocessing import LabelEncoder\n",
    "import numpy as np\n",
    " \n",
    "database = 'Balance' #['bupa1', 'breast-cancer-wisconsin1','pima-indians-diabetes1', 'ionosphere1', 'tic-tac-toe1', 'iris1', 'wine1', 'segmentation1']\n",
    "\n",
    "#Dividing X and y\n",
    "t = np.array(LabelEncoder().fit_transform(df['Class'].tolist()))\n",
    "X = np.array(df.drop(['Class'], axis = 1).values)\n",
    "print('X',X.shape,'t',t.shape)\n",
    " "
   ]
  },
  {
   "cell_type": "code",
   "execution_count": 6,
   "id": "7777c8f6",
   "metadata": {
    "execution": {
     "iopub.execute_input": "2023-02-13T08:05:27.250311Z",
     "iopub.status.busy": "2023-02-13T08:05:27.249754Z",
     "iopub.status.idle": "2023-02-13T08:05:27.260279Z",
     "shell.execute_reply": "2023-02-13T08:05:27.258847Z"
    },
    "id": "xnqtxG_x3FKL",
    "papermill": {
     "duration": 0.023943,
     "end_time": "2023-02-13T08:05:27.263128",
     "exception": false,
     "start_time": "2023-02-13T08:05:27.239185",
     "status": "completed"
    },
    "tags": []
   },
   "outputs": [
    {
     "data": {
      "text/plain": [
       "array([1, 3, 3, 3, 3, 3, 3, 3, 3, 3, 3, 3, 3, 3, 3, 3, 3, 3, 3, 3, 3, 3,\n",
       "       3, 3, 3, 2, 1, 3, 3, 3, 1, 3, 3, 3, 3, 3, 3, 3, 3, 3, 3, 3, 3, 3,\n",
       "       3, 3, 3, 3, 3, 3, 2, 2, 1, 3, 3, 2, 3, 3, 3, 3, 1, 3, 3, 3, 3, 3,\n",
       "       3, 3, 3, 3, 3, 3, 3, 3, 3, 2, 2, 2, 1, 3, 2, 1, 3, 3, 3, 2, 3, 3,\n",
       "       3, 3, 1, 3, 3, 3, 3, 3, 3, 3, 3, 3, 2, 2, 2, 2, 1, 2, 2, 3, 3, 3,\n",
       "       2, 3, 3, 3, 3, 2, 3, 3, 3, 3, 1, 3, 3, 3, 3, 2, 1, 3, 3, 3, 1, 3,\n",
       "       3, 3, 3, 3, 3, 3, 3, 3, 3, 3, 3, 3, 3, 3, 3, 3, 3, 3, 2, 2, 2, 1,\n",
       "       3, 2, 1, 3, 3, 3, 2, 3, 3, 3, 3, 1, 3, 3, 3, 3, 3, 3, 3, 3, 3, 2,\n",
       "       2, 2, 2, 2, 2, 2, 1, 3, 3, 2, 1, 3, 3, 3, 2, 3, 3, 3, 3, 2, 3, 3,\n",
       "       3, 3, 2, 2, 2, 2, 2, 2, 2, 2, 1, 3, 2, 2, 3, 3, 3, 2, 1, 3, 3, 3,\n",
       "       2, 3, 3, 3, 3, 2, 2, 2, 2, 2, 2, 2, 2, 2, 1, 2, 2, 2, 3, 3, 2, 2,\n",
       "       3, 3, 3, 2, 1, 3, 3, 3, 2, 2, 1, 3, 3, 2, 3, 3, 3, 3, 1, 3, 3, 3,\n",
       "       3, 3, 3, 3, 3, 3, 3, 3, 3, 3, 3, 2, 2, 2, 2, 2, 2, 2, 1, 3, 3, 2,\n",
       "       1, 3, 3, 3, 2, 3, 3, 3, 3, 2, 3, 3, 3, 3, 2, 2, 2, 2, 2, 2, 2, 2,\n",
       "       2, 3, 2, 2, 1, 3, 3, 2, 2, 3, 3, 3, 2, 3, 3, 3, 3, 2, 2, 2, 2, 2,\n",
       "       2, 2, 2, 2, 2, 2, 2, 2, 1, 3, 2, 2, 1, 3, 3, 2, 2, 3, 3, 3, 2, 2,\n",
       "       2, 2, 2, 2, 2, 2, 2, 2, 2, 2, 2, 2, 1, 2, 2, 2, 3, 3, 2, 2, 1, 3,\n",
       "       3, 2, 2, 2, 1, 3, 2, 1, 3, 3, 3, 2, 3, 3, 3, 3, 1, 3, 3, 3, 3, 3,\n",
       "       3, 3, 3, 3, 2, 2, 2, 2, 2, 2, 2, 2, 1, 3, 2, 2, 3, 3, 3, 2, 1, 3,\n",
       "       3, 3, 2, 3, 3, 3, 3, 2, 2, 2, 2, 2, 2, 2, 2, 2, 2, 2, 2, 2, 1, 3,\n",
       "       2, 2, 1, 3, 3, 2, 2, 3, 3, 3, 2, 2, 2, 2, 2, 2, 2, 2, 2, 2, 2, 2,\n",
       "       2, 2, 2, 2, 2, 2, 1, 3, 2, 2, 2, 3, 3, 2, 2, 2, 2, 2, 2, 2, 2, 2,\n",
       "       2, 2, 2, 2, 2, 2, 2, 2, 2, 2, 1, 2, 2, 2, 1, 3, 2, 2, 2, 2, 1, 2,\n",
       "       2, 3, 3, 3, 2, 3, 3, 3, 3, 2, 3, 3, 3, 3, 1, 3, 3, 3, 3, 2, 2, 2,\n",
       "       2, 2, 2, 2, 2, 2, 1, 2, 2, 2, 3, 3, 2, 2, 3, 3, 3, 2, 1, 3, 3, 3,\n",
       "       2, 2, 2, 2, 2, 2, 2, 2, 2, 2, 2, 2, 2, 2, 1, 2, 2, 2, 3, 3, 2, 2,\n",
       "       1, 3, 3, 2, 2, 2, 2, 2, 2, 2, 2, 2, 2, 2, 2, 2, 2, 2, 2, 2, 2, 2,\n",
       "       1, 2, 2, 2, 1, 3, 2, 2, 2, 2, 2, 2, 2, 2, 2, 2, 2, 2, 2, 2, 2, 2,\n",
       "       2, 2, 2, 2, 2, 2, 2, 2, 1])"
      ]
     },
     "execution_count": 6,
     "metadata": {},
     "output_type": "execute_result"
    }
   ],
   "source": [
    "t = t+1\n",
    "t"
   ]
  },
  {
   "cell_type": "markdown",
   "id": "4965686a",
   "metadata": {
    "id": "avDA2pJIJgsf",
    "papermill": {
     "duration": 0.008545,
     "end_time": "2023-02-13T08:05:27.280498",
     "exception": false,
     "start_time": "2023-02-13T08:05:27.271953",
     "status": "completed"
    },
    "tags": []
   },
   "source": [
    "# Labels Generation  "
   ]
  },
  {
   "cell_type": "code",
   "execution_count": 7,
   "id": "518103b3",
   "metadata": {
    "execution": {
     "iopub.execute_input": "2023-02-13T08:05:27.302767Z",
     "iopub.status.busy": "2023-02-13T08:05:27.301626Z",
     "iopub.status.idle": "2023-02-13T08:05:27.681646Z",
     "shell.execute_reply": "2023-02-13T08:05:27.680224Z"
    },
    "id": "BupvL7KSocvu",
    "papermill": {
     "duration": 0.395709,
     "end_time": "2023-02-13T08:05:27.684860",
     "exception": false,
     "start_time": "2023-02-13T08:05:27.289151",
     "status": "completed"
    },
    "tags": []
   },
   "outputs": [],
   "source": [
    "import random\n",
    "import warnings\n",
    "import numpy as np\n",
    "#import climin\n",
    "from functools import partial\n",
    "import matplotlib.pyplot as plt\n",
    "from sklearn.preprocessing import StandardScaler\n",
    "from sklearn.cluster import KMeans\n",
    "import matplotlib.pyplot as plt\n",
    "from sklearn.manifold import TSNE\n",
    "\n",
    "#Defining the Sigmoid function and Softmax function\n",
    "def Sigmoid(f_r):\n",
    "    lam_r = 1/(1 + np.exp(-f_r))\n",
    "    return lam_r\n",
    "\n",
    "def MAjVot(Y, K):\n",
    "    N,R = Y.shape\n",
    "    Yhat = np.zeros((N,1))\n",
    "    for n in range(N):\n",
    "        votes = np.zeros((K,1))\n",
    "        for r in range(R):\n",
    "            for k in range(K):\n",
    "                if Y[n,r] == k+1:\n",
    "                    votes[k] = votes[k]+1\n",
    "        Yhat[n] = np.argmax(votes) + 1\n",
    "    return Yhat\n",
    "\n",
    "\n",
    "def  MA_Clas_Gen(Xtrain,ytrain,R,NrP):\n",
    "\n",
    "    N = len(ytrain)\n",
    "    K = len(np.unique(ytrain))\n",
    "    Kn = np.unique(ytrain)\n",
    "    aux = 0\n",
    "    A = np.zeros((K,1))\n",
    "    for k in Kn:\n",
    "        A[aux] = (ytrain == k).sum()\n",
    "        aux = aux + 1\n",
    "    per = np.min(A)\n",
    "    if N < 25000:\n",
    "        Xtrain = TSNE(n_components=1,perplexity=per/2).fit_transform(Xtrain)\n",
    "    else:\n",
    "        Xtrain = np.sum(Xtrain,1)\n",
    "    # Xtrain = Xtrain-Xtrain.min()\n",
    "    # Xtrain = Xtrain/Xtrain.max()\n",
    "    #ytrain = y\n",
    "    # scaler = StandardScaler()\n",
    "    # scalerY = scaler.fit(y)\n",
    "    # ytrain = scaler.fit_transform(y)\n",
    "\n",
    "    \n",
    "    #miny = y.min()\n",
    "    #ytrain = y-miny\n",
    "    #maxy = ytrain.max()\n",
    "    #ytrain = ytrain/maxy\n",
    "  \n",
    "    # Xtrain = np.sum(Xtrain, axis=1)\n",
    "    Xtrain = Xtrain - Xtrain.min()\n",
    "    #print(Xtrain.min(), Xtrain.max())\n",
    "    Xtrain = Xtrain/Xtrain.max()\n",
    "    Xtrain = Xtrain.reshape((N,1))\n",
    "    yprueba = np.ones((N,1))\n",
    "    \n",
    "    \n",
    "    u_q = np.empty((Xtrain.shape[0],3))\n",
    "    u_q[:,0,None] = 4.5*np.cos(2*np.pi*Xtrain + 1.5*np.pi) - \\\n",
    "                               3*np.sin(4.3*np.pi*Xtrain + 0.3*np.pi)\n",
    "                    \n",
    "    u_q[:,1,None] = 4.5*np.cos(1.5*np.pi*Xtrain + 0.5*np.pi) + \\\n",
    "                       5*np.sin(3*np.pi*Xtrain + 1.5*np.pi)\n",
    "    \n",
    "    u_q[:,2,None] = 1\n",
    "    \n",
    "    W = []\n",
    "    # q=1\n",
    "    Wq1 = np.array(([[0.4],[0.7],[-0.5],[0],[-0.7]]))\n",
    "    W.append(Wq1)\n",
    "    # q=2\n",
    "    Wq2 = np.array(([[0.4],[-1.0],[-0.1],[-0.8],[1.0]]))\n",
    "    W.append(Wq2)\n",
    "    Wq3 = np.array(([[3.1],[-1.8],[-0.6],[-1.2],[1.0]]))\n",
    "    W.append(Wq3)\n",
    "\n",
    "    \n",
    "    F_r = []\n",
    "    Lam_r = []\n",
    "    for r in range(R):\n",
    "        f_r = np.zeros((Xtrain.shape[0], 1))\n",
    "        # rho_r = np.zeros((Xtrain.shape[0], 1))\n",
    "        for q in range(3):\n",
    "            f_r += W[q][r].T*u_q[:,q,None]\n",
    "        F_r.append(f_r)\n",
    "        lam_r = Sigmoid(f_r)\n",
    "        lam_r[lam_r>0.5] = 1\n",
    "        lam_r[lam_r<=0.5] = 0\n",
    "        Lam_r.append(lam_r)\n",
    "    plt.plot(Xtrain,Lam_r[2],'rx')\n",
    "    plt.show()\n",
    "    seed = 0\n",
    "    np.random.seed(seed)\n",
    "    Ytrain = np.ones((N, R))\n",
    "    for r in range(R):\n",
    "        aux = ytrain.copy()\n",
    "        for n in range(N):\n",
    "            if Lam_r[r][n] == 0:\n",
    "                labels = np.arange(1, K+1)\n",
    "                a = np.where(labels==ytrain[n])\n",
    "                labels = np.delete(labels, a)\n",
    "                idxlabels = np.random.permutation(K-1)\n",
    "                aux[n] = labels[idxlabels[0]]         \n",
    "        Ytrain[:,r] = aux.flatten()\n",
    "        \n",
    "   # Ytrain = (Ytrain*maxy) + miny\n",
    "        \n",
    "    iAnn = np.zeros((N, R), dtype=int) # this indicates if the annotator r labels the nth sample.\n",
    "    Nr = np.ones((R), dtype=int)*int(np.floor(N*NrP))  \n",
    "    for r in range(R):\n",
    "        if r < R-1:\n",
    "            indexR = np.random.permutation(range(N))[:Nr[r]]\n",
    "            iAnn[indexR,r] = 1\n",
    "        else:\n",
    "            iSimm = np.sum(iAnn, axis=1)\n",
    "            idxZero = np.asarray([i for (i, val) in enumerate(iSimm) if val == 0])\n",
    "            Nzeros = idxZero.shape[0]\n",
    "            idx2Choose = np.arange(N)\n",
    "            if Nzeros == 0:\n",
    "                indexR = np.random.permutation(range(N))[:Nr[r]]\n",
    "                iAnn[indexR,r] = 1\n",
    "            else:\n",
    "                idx2Choose = np.delete(idx2Choose, idxZero)\n",
    "                N2chose = idx2Choose.shape[0]\n",
    "                idxNoZero = np.random.permutation(N2chose)[:(Nr[r] - Nzeros)]\n",
    "                idxTot = np.concatenate((idxZero, idx2Choose[idxNoZero]))\n",
    "                iAnn[idxTot,r] = 1\n",
    "    \n",
    "    # Now, we verify that all the samples were labeled at least once\n",
    "    Nr = (np.sum(iAnn,0))\n",
    "    iSimm = np.sum(iAnn, axis=1)\n",
    "    if np.asarray([i for (i, val) in enumerate(iSimm) if val == 0]).sum() == 0:\n",
    "        ValueError(\"all the samples must be labeled at least once\")\n",
    "\n",
    "    # Finally, if iAnn=0 we assign a reference value to indicate a missing value\n",
    "    Vref = -1e-20\n",
    "    for r in range(R):\n",
    "        Ytrain[iAnn[:,r] == 0, r] = Vref \n",
    "\n",
    "    return Ytrain, iAnn, Lam_r\n",
    "\n",
    "\n",
    "def CrossVal(X, pp, Nk):\n",
    "    N = X.shape[0]\n",
    "    Ntr = int(N*pp)\n",
    "    Nte = N - Ntr\n",
    "    idxtr = np.zeros((Ntr,Nk))\n",
    "    idxte = np.zeros((Nte,Nk))\n",
    "    \n",
    "    for i in range(Nk):\n",
    "        index = np.random.permutation(range(N))\n",
    "        idxtr[:,i] = index[:Ntr]\n",
    "        idxte[:,i] = index[Ntr:]\n",
    "        \n",
    "    return idxtr, idxte\n",
    "    \n",
    "    \n",
    "        \n"
   ]
  },
  {
   "cell_type": "code",
   "execution_count": 8,
   "id": "b2c1f9da",
   "metadata": {
    "execution": {
     "iopub.execute_input": "2023-02-13T08:05:27.704663Z",
     "iopub.status.busy": "2023-02-13T08:05:27.704190Z",
     "iopub.status.idle": "2023-02-13T08:05:29.594851Z",
     "shell.execute_reply": "2023-02-13T08:05:29.593537Z"
    },
    "id": "tK8MHObF3FKM",
    "outputId": "8f128bab-9644-4526-d91c-a3eb4c94fc10",
    "papermill": {
     "duration": 1.904643,
     "end_time": "2023-02-13T08:05:29.598603",
     "exception": false,
     "start_time": "2023-02-13T08:05:27.693960",
     "status": "completed"
    },
    "tags": []
   },
   "outputs": [
    {
     "name": "stderr",
     "output_type": "stream",
     "text": [
      "/opt/conda/lib/python3.7/site-packages/sklearn/manifold/_t_sne.py:783: FutureWarning: The default initialization in TSNE will change from 'random' to 'pca' in 1.2.\n",
      "  FutureWarning,\n",
      "/opt/conda/lib/python3.7/site-packages/sklearn/manifold/_t_sne.py:793: FutureWarning: The default learning rate in TSNE will change from 200.0 to 'auto' in 1.2.\n",
      "  FutureWarning,\n"
     ]
    },
    {
     "data": {
      "image/png": "[encoded data removed]",
      "text/plain": [
       "<Figure size 432x288 with 1 Axes>"
      ]
     },
     "metadata": {
      "needs_background": "light"
     },
     "output_type": "display_data"
    }
   ],
   "source": [
    "Y, iAnn, Lam_r = MA_Clas_Gen(X ,t, R=5, NrP=1)"
   ]
  },
  {
   "cell_type": "code",
   "execution_count": 9,
   "id": "b0edc2e3",
   "metadata": {
    "execution": {
     "iopub.execute_input": "2023-02-13T08:05:29.620738Z",
     "iopub.status.busy": "2023-02-13T08:05:29.619932Z",
     "iopub.status.idle": "2023-02-13T08:05:29.625413Z",
     "shell.execute_reply": "2023-02-13T08:05:29.624210Z"
    },
    "id": "v0Y8m7E-3FKM",
    "papermill": {
     "duration": 0.020025,
     "end_time": "2023-02-13T08:05:29.628127",
     "exception": false,
     "start_time": "2023-02-13T08:05:29.608102",
     "status": "completed"
    },
    "tags": []
   },
   "outputs": [],
   "source": [
    "  Y = Y - 1\n",
    "  t = t - 1\n",
    "  #YMA = YMA-1"
   ]
  },
  {
   "cell_type": "code",
   "execution_count": 10,
   "id": "7ffe2326",
   "metadata": {
    "execution": {
     "iopub.execute_input": "2023-02-13T08:05:29.648687Z",
     "iopub.status.busy": "2023-02-13T08:05:29.648120Z",
     "iopub.status.idle": "2023-02-13T08:05:30.931355Z",
     "shell.execute_reply": "2023-02-13T08:05:30.929997Z"
    },
    "papermill": {
     "duration": 1.297082,
     "end_time": "2023-02-13T08:05:30.934239",
     "exception": false,
     "start_time": "2023-02-13T08:05:29.637157",
     "status": "completed"
    },
    "tags": []
   },
   "outputs": [
    {
     "name": "stdout",
     "output_type": "stream",
     "text": [
      "annotator 1\n",
      "              precision    recall  f1-score   support\n",
      "\n",
      "           0       0.51      0.88      0.65        49\n",
      "           1       0.95      0.79      0.86       288\n",
      "           2       0.90      0.94      0.92       288\n",
      "\n",
      "    accuracy                           0.87       625\n",
      "   macro avg       0.79      0.87      0.81       625\n",
      "weighted avg       0.89      0.87      0.87       625\n",
      "\n",
      "annotator 2\n",
      "              precision    recall  f1-score   support\n",
      "\n",
      "           0       0.22      0.67      0.33        49\n",
      "           1       0.71      0.77      0.74       288\n",
      "           2       0.76      0.42      0.54       288\n",
      "\n",
      "    accuracy                           0.60       625\n",
      "   macro avg       0.56      0.62      0.54       625\n",
      "weighted avg       0.70      0.60      0.62       625\n",
      "\n",
      "annotator 3\n",
      "              precision    recall  f1-score   support\n",
      "\n",
      "           0       0.21      0.65      0.32        49\n",
      "           1       0.75      0.44      0.56       288\n",
      "           2       0.73      0.76      0.74       288\n",
      "\n",
      "    accuracy                           0.61       625\n",
      "   macro avg       0.56      0.62      0.54       625\n",
      "weighted avg       0.70      0.61      0.62       625\n",
      "\n",
      "annotator 4\n",
      "              precision    recall  f1-score   support\n",
      "\n",
      "           0       0.17      0.61      0.27        49\n",
      "           1       0.66      0.55      0.60       288\n",
      "           2       0.63      0.46      0.53       288\n",
      "\n",
      "    accuracy                           0.51       625\n",
      "   macro avg       0.49      0.54      0.47       625\n",
      "weighted avg       0.61      0.51      0.54       625\n",
      "\n",
      "annotator 5\n",
      "              precision    recall  f1-score   support\n",
      "\n",
      "           0       0.05      0.20      0.08        49\n",
      "           1       0.09      0.03      0.05       288\n",
      "           2       0.46      0.47      0.46       288\n",
      "\n",
      "    accuracy                           0.25       625\n",
      "   macro avg       0.20      0.24      0.20       625\n",
      "weighted avg       0.25      0.25      0.24       625\n",
      "\n"
     ]
    },
    {
     "data": {
      "image/png": "[encoded data removed]",
      "text/plain": [
       "<Figure size 432x288 with 1 Axes>"
      ]
     },
     "metadata": {
      "needs_background": "light"
     },
     "output_type": "display_data"
    },
    {
     "data": {
      "image/png": "[encoded data removed]",
      "text/plain": [
       "<Figure size 432x288 with 1 Axes>"
      ]
     },
     "metadata": {
      "needs_background": "light"
     },
     "output_type": "display_data"
    },
    {
     "data": {
      "image/png": "[encoded data removed]",
      "text/plain": [
       "<Figure size 432x288 with 1 Axes>"
      ]
     },
     "metadata": {
      "needs_background": "light"
     },
     "output_type": "display_data"
    },
    {
     "data": {
      "image/png": "[encoded data removed]",
      "text/plain": [
       "<Figure size 432x288 with 1 Axes>"
      ]
     },
     "metadata": {
      "needs_background": "light"
     },
     "output_type": "display_data"
    },
    {
     "data": {
      "image/png": "[encoded data removed]",
      "text/plain": [
       "<Figure size 432x288 with 1 Axes>"
      ]
     },
     "metadata": {
      "needs_background": "light"
     },
     "output_type": "display_data"
    }
   ],
   "source": [
    "from sklearn.metrics import classification_report\n",
    "for i in range(Y.shape[1]):\n",
    "    print('annotator',i+1)\n",
    "    print(classification_report(t,Y[:,i]))\n",
    "    unique, counts = np.unique(Y[:,i], return_counts=True)\n",
    "    plt.figure()\n",
    "    plt.bar(unique, counts)\n",
    "    #     unique, counts = np.unique(Y_test[5], return_counts=True)\n",
    "    #     plt.bar(unique, counts)\n",
    "\n",
    "    plt.title('Class Frequency for Y_true')\n",
    "    plt.xlabel('Class')\n",
    "    plt.ylabel('Frequency')"
   ]
  },
  {
   "cell_type": "markdown",
   "id": "a67f0613",
   "metadata": {
    "id": "uudDcV4wHiuI",
    "papermill": {
     "duration": 0.009924,
     "end_time": "2023-02-13T08:05:30.954996",
     "exception": false,
     "start_time": "2023-02-13T08:05:30.945072",
     "status": "completed"
    },
    "tags": []
   },
   "source": [
    "# Split data"
   ]
  },
  {
   "cell_type": "code",
   "execution_count": 11,
   "id": "b1531e32",
   "metadata": {
    "execution": {
     "iopub.execute_input": "2023-02-13T08:05:30.977906Z",
     "iopub.status.busy": "2023-02-13T08:05:30.977344Z",
     "iopub.status.idle": "2023-02-13T08:05:30.991935Z",
     "shell.execute_reply": "2023-02-13T08:05:30.990370Z"
    },
    "id": "QCxEhJv_3FKN",
    "outputId": "20cf4b24-fde3-4b21-f26a-2809af8f2c5d",
    "papermill": {
     "duration": 0.029378,
     "end_time": "2023-02-13T08:05:30.994770",
     "exception": false,
     "start_time": "2023-02-13T08:05:30.965392",
     "status": "completed"
    },
    "tags": []
   },
   "outputs": [
    {
     "name": "stdout",
     "output_type": "stream",
     "text": [
      "[618 454 423 593 338 404 345 132 150 379  54 386 508 378 242  43 602  11\n",
      " 237 192 520  48 333 543 209 524  82 102 374 142 177 288 171 298 348 131\n",
      " 384 246 470 566 138 353 421 491 320 604 474  85 367 477 527 567  57 548\n",
      " 356 272 164 264 263 481 430 200 437   5 166  35 509 205 156 542 202 120\n",
      " 243 107   9 620 601  78 560 134 422 574 282  59 328 512  31 199 185 568\n",
      " 172 285 396 587 482 611 151 155 297 391  66 275 501 406 502 252 274 266\n",
      "  75 582 383 327  13 600 300 227 310 431 397 162  79 529 335 221 294 614\n",
      " 349 622 488 231 270 514 350  36 446 381 196 577 416 550  34  33 212 588\n",
      " 347 118  15 230 159 429 398  93 217 181 556 190 403 116 336 456 452 170\n",
      " 426 457 368 280  30   0  72 408 277 392 344 234 362  74 511  24 549 273\n",
      "  64 402 268 226 261 575  55 287]\n",
      "(437, 4) (437, 5) (437, 1)\n"
     ]
    }
   ],
   "source": [
    "import numpy.matlib\n",
    "from sklearn.model_selection import  StratifiedShuffleSplit, ShuffleSplit\n",
    "Ns = 1\n",
    "ss = ShuffleSplit(n_splits=Ns, test_size=0.3, random_state =123)\n",
    "for train_index, test_index in ss.split(X):\n",
    "    print(test_index)\n",
    "    X_train, X_test,Y_train,Y_test = X[train_index,:], X[test_index,:],Y[train_index,:], Y[test_index,:]\n",
    "    Y_true_train, Y_true_test = t[train_index].reshape(-1,1), t[test_index].reshape(-1,1)\n",
    "print(X_train.shape, Y_train.shape, Y_true_train.shape)"
   ]
  },
  {
   "cell_type": "code",
   "execution_count": 12,
   "id": "d46c2cbd",
   "metadata": {
    "execution": {
     "iopub.execute_input": "2023-02-13T08:05:31.018890Z",
     "iopub.status.busy": "2023-02-13T08:05:31.017779Z",
     "iopub.status.idle": "2023-02-13T08:05:31.289339Z",
     "shell.execute_reply": "2023-02-13T08:05:31.287907Z"
    },
    "papermill": {
     "duration": 0.286621,
     "end_time": "2023-02-13T08:05:31.292162",
     "exception": false,
     "start_time": "2023-02-13T08:05:31.005541",
     "status": "completed"
    },
    "tags": []
   },
   "outputs": [
    {
     "data": {
      "text/plain": [
       "Text(0, 0.5, 'Frequency')"
      ]
     },
     "execution_count": 12,
     "metadata": {},
     "output_type": "execute_result"
    },
    {
     "data": {
      "image/png": "[encoded data removed]",
      "text/plain": [
       "<Figure size 432x288 with 1 Axes>"
      ]
     },
     "metadata": {
      "needs_background": "light"
     },
     "output_type": "display_data"
    }
   ],
   "source": [
    "unique, counts = np.unique(Y_true_train, return_counts=True)\n",
    "plt.bar(unique, counts)\n",
    "unique, counts = np.unique(Y_true_test, return_counts=True)\n",
    "plt.bar(unique, counts)\n",
    "\n",
    "plt.title('Class Frequency for Y_true')\n",
    "plt.xlabel('Class')\n",
    "plt.ylabel('Frequency')\n"
   ]
  },
  {
   "cell_type": "markdown",
   "id": "6fad45c8",
   "metadata": {
    "id": "kgDMRggXHo0X",
    "papermill": {
     "duration": 0.010672,
     "end_time": "2023-02-13T08:05:31.315045",
     "exception": false,
     "start_time": "2023-02-13T08:05:31.304373",
     "status": "completed"
    },
    "tags": []
   },
   "source": [
    "# Apply MinMaxScaler"
   ]
  },
  {
   "cell_type": "code",
   "execution_count": 13,
   "id": "e4a6d22b",
   "metadata": {
    "execution": {
     "iopub.execute_input": "2023-02-13T08:05:31.339127Z",
     "iopub.status.busy": "2023-02-13T08:05:31.338624Z",
     "iopub.status.idle": "2023-02-13T08:05:31.346443Z",
     "shell.execute_reply": "2023-02-13T08:05:31.345189Z"
    },
    "id": "33XT7bGs3FKN",
    "papermill": {
     "duration": 0.023043,
     "end_time": "2023-02-13T08:05:31.349057",
     "exception": false,
     "start_time": "2023-02-13T08:05:31.326014",
     "status": "completed"
    },
    "tags": []
   },
   "outputs": [],
   "source": [
    "scaler = MinMaxScaler()\n",
    "scaler.fit(X_train)\n",
    "X_train = scaler.transform(X_train)\n",
    "X_test = scaler.transform(X_test)"
   ]
  },
  {
   "cell_type": "code",
   "execution_count": 14,
   "id": "4368c70b",
   "metadata": {
    "execution": {
     "iopub.execute_input": "2023-02-13T08:05:31.373983Z",
     "iopub.status.busy": "2023-02-13T08:05:31.373463Z",
     "iopub.status.idle": "2023-02-13T08:05:31.379877Z",
     "shell.execute_reply": "2023-02-13T08:05:31.378304Z"
    },
    "id": "Ce-Lhs1K3FKO",
    "papermill": {
     "duration": 0.022077,
     "end_time": "2023-02-13T08:05:31.382470",
     "exception": false,
     "start_time": "2023-02-13T08:05:31.360393",
     "status": "completed"
    },
    "tags": []
   },
   "outputs": [],
   "source": [
    "#testing PRI as ground truth -> repeat true labels as multiple annotators\n",
    "Y_true_train_K = np.matlib.repmat(Y_true_train,1, Y_train.shape[1])#testing MA as classifier\n",
    "#print(X_train.shape,Y_true_train_K.shape)\n",
    "# Y_train_one_hot_targets = tf.one_hot(tf.cast(Y_train , tf.int32), len(np.unique(Y_true_test)), axis = 1, dtype=tf.int32)\n",
    "# Y_train_one_hot_targets.shape"
   ]
  },
  {
   "cell_type": "markdown",
   "id": "ccfcbc42",
   "metadata": {
    "id": "pPoaMuiXH-Zm",
    "papermill": {
     "duration": 0.010717,
     "end_time": "2023-02-13T08:05:31.404172",
     "exception": false,
     "start_time": "2023-02-13T08:05:31.393455",
     "status": "completed"
    },
    "tags": []
   },
   "source": [
    "# Testing the Class "
   ]
  },
  {
   "cell_type": "code",
   "execution_count": 15,
   "id": "84e617ec",
   "metadata": {
    "execution": {
     "iopub.execute_input": "2023-02-13T08:05:31.428669Z",
     "iopub.status.busy": "2023-02-13T08:05:31.428179Z",
     "iopub.status.idle": "2023-02-13T08:05:31.435394Z",
     "shell.execute_reply": "2023-02-13T08:05:31.434054Z"
    },
    "papermill": {
     "duration": 0.022902,
     "end_time": "2023-02-13T08:05:31.438207",
     "exception": false,
     "start_time": "2023-02-13T08:05:31.415305",
     "status": "completed"
    },
    "tags": []
   },
   "outputs": [],
   "source": [
    "# from sklearn.metrics import classification_report, balanced_accuracy_score\n",
    "# from sklearn.metrics import normalized_mutual_info_score, mutual_info_score, adjusted_mutual_info_score\n",
    "\n",
    "# l1 =0.0001\n",
    "# NUM_RUNS =10\n",
    "# ACC = np.zeros(NUM_RUNS)\n",
    "# AUC = np.zeros(NUM_RUNS)\n",
    "# MI = np.zeros(NUM_RUNS)\n",
    "# NMI = np.zeros(NUM_RUNS)\n",
    "# AMI = np.zeros(NUM_RUNS)\n",
    "# BACC = np.zeros(NUM_RUNS)\n",
    "# for i in range(NUM_RUNS): #10\n",
    "#     print(\"iteration: \" + str(i))\n",
    "   \n",
    "#     MA = Keras_MA_CrowdL(epochs=100,batch_size=32,R= Y_train.shape[1], K=len(np.unique(Y_true_test)), dropout=0.5, learning_rate=0.01,optimizer='Adam', \n",
    "#                 l1_param=l1,  validation_split=0.3, verbose=0)\n",
    "\n",
    "\n",
    "#     MA.fit(X_train, Y_train)\n",
    "#     #MA.plot_history()\n",
    "  \n",
    "#     #Accuracy  \n",
    "    \n",
    "#     #estimar etiquetas modelo rodiguez \n",
    "#     preds_test_num =  MA.predict2(X_test)\n",
    "    \n",
    "#     #Accuracy\n",
    "#     report = classification_report(Y_true_test,preds_test_num,output_dict=True)\n",
    "#     ACC[i] = report['accuracy']\n",
    "    \n",
    "#     print(\"Validation ACC: %.4f\" % (float(report['accuracy']),))\n",
    "    \n",
    "#     #AUC\n",
    "#     val_AUC_metric = tf.keras.metrics.AUC( from_logits = True)  \n",
    "#    # val_logits =MA.predict(X_test) # model(X_test, training=False)\n",
    "#     # tf.print(y_batch_val)\n",
    "#     val_AUC_metric.update_state(Y_true_test,  preds_test_num.astype('float'))\n",
    "\n",
    "#     val_AUC = val_AUC_metric.result()\n",
    "#     val_AUC_metric.reset_states()\n",
    "#     val_AUC = val_AUC.numpy()\n",
    "#     print(\"Validation aUc: %.4f\" % (float(val_AUC),))\n",
    "#     AUC[i] = val_AUC\n",
    "    \n",
    "\n",
    "\n",
    "\n",
    "#     # balanced. Accurcy\n",
    "#     BACC[i] = balanced_accuracy_score(Y_true_test.squeeze(), preds_test_num.squeeze(), adjusted=True)\n",
    "#     print(\"Validation Balanced_ACC: %.4f\" % (float(BACC[i])))\n",
    "\n",
    "#     #MI\n",
    "    \n",
    "#     MI[i] = mutual_info_score(Y_true_test.squeeze(), preds_test_num.squeeze())\n",
    "#     print(\"Validation MI: %.4f\" % (float(MI[i]),))\n",
    "#     NMI[i] = normalized_mutual_info_score(Y_true_test.squeeze(), preds_test_num.squeeze())\n",
    "#     print(\"Validation Normalized MI: %.4f\" % (float(NMI[i]),))\n",
    "#     AMI[i]= adjusted_mutual_info_score(Y_true_test.squeeze(), preds_test_num.squeeze())\n",
    "#     print(\"Validation Adjusted MI: %.4f\" % (float(AMI[i]),))\n",
    "\n",
    "\n"
   ]
  },
  {
   "cell_type": "code",
   "execution_count": 16,
   "id": "587c73bf",
   "metadata": {
    "execution": {
     "iopub.execute_input": "2023-02-13T08:05:31.462925Z",
     "iopub.status.busy": "2023-02-13T08:05:31.462384Z",
     "iopub.status.idle": "2023-02-13T08:07:31.625524Z",
     "shell.execute_reply": "2023-02-13T08:07:31.623888Z"
    },
    "papermill": {
     "duration": 120.179499,
     "end_time": "2023-02-13T08:07:31.628824",
     "exception": false,
     "start_time": "2023-02-13T08:05:31.449325",
     "status": "completed"
    },
    "tags": []
   },
   "outputs": [
    {
     "name": "stdout",
     "output_type": "stream",
     "text": [
      "iteration: 0\n"
     ]
    },
    {
     "name": "stderr",
     "output_type": "stream",
     "text": [
      "2023-02-13 08:05:31.841992: I tensorflow/core/common_runtime/process_util.cc:146] Creating new thread pool with default inter op setting: 2. Tune using inter_op_parallelism_threads for best performance.\n",
      "2023-02-13 08:05:32.480587: I tensorflow/compiler/mlir/mlir_graph_optimization_pass.cc:185] None of the MLIR Optimization Passes are enabled (registered 2)\n"
     ]
    },
    {
     "data": {
      "image/png": "[encoded data removed]",
      "text/plain": [
       "<Figure size 576x360 with 1 Axes>"
      ]
     },
     "metadata": {
      "needs_background": "light"
     },
     "output_type": "display_data"
    },
    {
     "name": "stdout",
     "output_type": "stream",
     "text": [
      "iteration: 1\n"
     ]
    },
    {
     "data": {
      "image/png": "[encoded data removed]",
      "text/plain": [
       "<Figure size 576x360 with 1 Axes>"
      ]
     },
     "metadata": {
      "needs_background": "light"
     },
     "output_type": "display_data"
    },
    {
     "name": "stdout",
     "output_type": "stream",
     "text": [
      "iteration: 2\n"
     ]
    },
    {
     "data": {
      "image/png": "[encoded data removed]",
      "text/plain": [
       "<Figure size 576x360 with 1 Axes>"
      ]
     },
     "metadata": {
      "needs_background": "light"
     },
     "output_type": "display_data"
    },
    {
     "name": "stdout",
     "output_type": "stream",
     "text": [
      "iteration: 3\n"
     ]
    },
    {
     "data": {
      "image/png": "[encoded data removed]",
      "text/plain": [
       "<Figure size 576x360 with 1 Axes>"
      ]
     },
     "metadata": {
      "needs_background": "light"
     },
     "output_type": "display_data"
    },
    {
     "name": "stdout",
     "output_type": "stream",
     "text": [
      "iteration: 4\n"
     ]
    },
    {
     "data": {
      "image/png": "[encoded data removed]",
      "text/plain": [
       "<Figure size 576x360 with 1 Axes>"
      ]
     },
     "metadata": {
      "needs_background": "light"
     },
     "output_type": "display_data"
    },
    {
     "name": "stdout",
     "output_type": "stream",
     "text": [
      "iteration: 5\n"
     ]
    },
    {
     "data": {
      "image/png": "[encoded data removed]",
      "text/plain": [
       "<Figure size 576x360 with 1 Axes>"
      ]
     },
     "metadata": {
      "needs_background": "light"
     },
     "output_type": "display_data"
    },
    {
     "name": "stdout",
     "output_type": "stream",
     "text": [
      "iteration: 6\n"
     ]
    },
    {
     "data": {
      "image/png": "[encoded data removed]",
      "text/plain": [
       "<Figure size 576x360 with 1 Axes>"
      ]
     },
     "metadata": {
      "needs_background": "light"
     },
     "output_type": "display_data"
    },
    {
     "name": "stdout",
     "output_type": "stream",
     "text": [
      "iteration: 7\n"
     ]
    },
    {
     "data": {
      "image/png": "[encoded data removed]",
      "text/plain": [
       "<Figure size 576x360 with 1 Axes>"
      ]
     },
     "metadata": {
      "needs_background": "light"
     },
     "output_type": "display_data"
    },
    {
     "name": "stdout",
     "output_type": "stream",
     "text": [
      "iteration: 8\n"
     ]
    },
    {
     "data": {
      "image/png": "[encoded data removed]",
      "text/plain": [
       "<Figure size 576x360 with 1 Axes>"
      ]
     },
     "metadata": {
      "needs_background": "light"
     },
     "output_type": "display_data"
    },
    {
     "name": "stdout",
     "output_type": "stream",
     "text": [
      "iteration: 9\n"
     ]
    },
    {
     "data": {
      "image/png": "[encoded data removed]",
      "text/plain": [
       "<Figure size 576x360 with 1 Axes>"
      ]
     },
     "metadata": {
      "needs_background": "light"
     },
     "output_type": "display_data"
    },
    {
     "name": "stdout",
     "output_type": "stream",
     "text": [
      "Collecting openpyxl\r\n",
      "  Downloading openpyxl-3.1.0-py2.py3-none-any.whl (250 kB)\r\n",
      "\u001b[2K     \u001b[90m━━━━━━━━━━━━━━━━━━━━━━━━━━━━━━━━━━━━━━━\u001b[0m \u001b[32m250.0/250.0 kB\u001b[0m \u001b[31m1.1 MB/s\u001b[0m eta \u001b[36m0:00:00\u001b[0m\r\n",
      "\u001b[?25hCollecting et-xmlfile\r\n",
      "  Downloading et_xmlfile-1.1.0-py3-none-any.whl (4.7 kB)\r\n",
      "Installing collected packages: et-xmlfile, openpyxl\r\n",
      "Successfully installed et-xmlfile-1.1.0 openpyxl-3.1.0\r\n",
      "\u001b[33mWARNING: Running pip as the 'root' user can result in broken permissions and conflicting behaviour with the system package manager. It is recommended to use a virtual environment instead: https://pip.pypa.io/warnings/venv\u001b[0m\u001b[33m\r\n",
      "\u001b[0m"
     ]
    }
   ],
   "source": [
    "from sklearn.metrics import classification_report, balanced_accuracy_score, roc_auc_score\n",
    "from sklearn.metrics import normalized_mutual_info_score, mutual_info_score, adjusted_mutual_info_score\n",
    "import pandas as pd\n",
    "l1 =0.0001\n",
    "NUM_RUNS =10\n",
    "custom_loss = \"Rod\"\n",
    "\n",
    "\n",
    "results = []\n",
    "for i in range(NUM_RUNS):\n",
    "\n",
    "    print(\"iteration: \" + str(i))\n",
    "   \n",
    "       \n",
    "    MA = Keras_MA_CrowdL(epochs=100,batch_size=32,R= Y_train.shape[1], K=len(np.unique(Y_true_test)), dropout=0.5, learning_rate=0.01,optimizer='Adam', \n",
    "                l1_param=l1,  validation_split=0.3, verbose=0, neurons = 4)\n",
    "    \n",
    "    MA.fit(X_train, Y_train)\n",
    "    MA.plot_history()\n",
    "  \n",
    "    # Generate the predictions for the current run\n",
    "    pred_2 = MA.predict2(X_test)\n",
    "     \n",
    "    acc, auc, auc_sk,  nmi,  bacc = evaluation_metrics(Y_true_test,  pred_2, print_result=False)  # mi, ami,\n",
    "    \n",
    "    # Save the results for the current run to the list of dictionaries\n",
    "    results.append({\n",
    "        #'run': i,\n",
    "        'accuracy': acc,\n",
    "        'balanced_accuracy': bacc,\n",
    "       # 'mutual_information': mi,\n",
    "        'normalized_mutual_information': nmi,\n",
    "     #   'adjusted_mutual_information': ami,\n",
    "        'auc_tensorflow': auc,\n",
    "        'auc_scikit_learn': auc_sk,\n",
    "    })\n",
    "    \n",
    "# Convert the list of dictionaries to a DataFrame\n",
    "df = np.round(pd.DataFrame(results)*100, 2)\n",
    "\n",
    "# Calculate the mean and standard deviation of each metric\n",
    "mean = np.round(df.mean(),2)\n",
    "std = np.round(df.std(),2)  \n",
    "\n",
    "\n",
    "\n",
    " \n",
    "\n",
    "result_df = pd.concat([mean.rename('Mean'), std.rename('Std')], axis=1)\n",
    "\n",
    "\n",
    "\n",
    "# Save the DataFrame to an excel file\n",
    "!pip install openpyxl\n",
    "result_df.to_excel('/kaggle/working/'+ database + custom_loss + \".xlsx\")"
   ]
  },
  {
   "cell_type": "code",
   "execution_count": 17,
   "id": "9e276565",
   "metadata": {
    "execution": {
     "iopub.execute_input": "2023-02-13T08:07:31.666675Z",
     "iopub.status.busy": "2023-02-13T08:07:31.666075Z",
     "iopub.status.idle": "2023-02-13T08:07:31.686561Z",
     "shell.execute_reply": "2023-02-13T08:07:31.685093Z"
    },
    "papermill": {
     "duration": 0.042642,
     "end_time": "2023-02-13T08:07:31.689219",
     "exception": false,
     "start_time": "2023-02-13T08:07:31.646577",
     "status": "completed"
    },
    "tags": []
   },
   "outputs": [
    {
     "data": {
      "text/html": [
       "<div>\n",
       "<style scoped>\n",
       "    .dataframe tbody tr th:only-of-type {\n",
       "        vertical-align: middle;\n",
       "    }\n",
       "\n",
       "    .dataframe tbody tr th {\n",
       "        vertical-align: top;\n",
       "    }\n",
       "\n",
       "    .dataframe thead th {\n",
       "        text-align: right;\n",
       "    }\n",
       "</style>\n",
       "<table border=\"1\" class=\"dataframe\">\n",
       "  <thead>\n",
       "    <tr style=\"text-align: right;\">\n",
       "      <th></th>\n",
       "      <th>accuracy</th>\n",
       "      <th>balanced_accuracy</th>\n",
       "      <th>normalized_mutual_information</th>\n",
       "      <th>auc_tensorflow</th>\n",
       "      <th>auc_scikit_learn</th>\n",
       "    </tr>\n",
       "  </thead>\n",
       "  <tbody>\n",
       "    <tr>\n",
       "      <th>0</th>\n",
       "      <td>67.55</td>\n",
       "      <td>33.15</td>\n",
       "      <td>52.78</td>\n",
       "      <td>40.439999</td>\n",
       "      <td>84.16</td>\n",
       "    </tr>\n",
       "    <tr>\n",
       "      <th>1</th>\n",
       "      <td>60.11</td>\n",
       "      <td>30.90</td>\n",
       "      <td>38.17</td>\n",
       "      <td>57.709999</td>\n",
       "      <td>80.80</td>\n",
       "    </tr>\n",
       "    <tr>\n",
       "      <th>2</th>\n",
       "      <td>65.43</td>\n",
       "      <td>38.75</td>\n",
       "      <td>39.15</td>\n",
       "      <td>58.959999</td>\n",
       "      <td>81.67</td>\n",
       "    </tr>\n",
       "    <tr>\n",
       "      <th>3</th>\n",
       "      <td>58.51</td>\n",
       "      <td>26.70</td>\n",
       "      <td>39.37</td>\n",
       "      <td>54.240002</td>\n",
       "      <td>81.62</td>\n",
       "    </tr>\n",
       "    <tr>\n",
       "      <th>4</th>\n",
       "      <td>60.64</td>\n",
       "      <td>26.23</td>\n",
       "      <td>42.34</td>\n",
       "      <td>53.869999</td>\n",
       "      <td>80.40</td>\n",
       "    </tr>\n",
       "    <tr>\n",
       "      <th>5</th>\n",
       "      <td>63.30</td>\n",
       "      <td>34.16</td>\n",
       "      <td>46.12</td>\n",
       "      <td>47.110001</td>\n",
       "      <td>79.95</td>\n",
       "    </tr>\n",
       "    <tr>\n",
       "      <th>6</th>\n",
       "      <td>66.49</td>\n",
       "      <td>23.90</td>\n",
       "      <td>27.86</td>\n",
       "      <td>42.740002</td>\n",
       "      <td>80.77</td>\n",
       "    </tr>\n",
       "    <tr>\n",
       "      <th>7</th>\n",
       "      <td>60.11</td>\n",
       "      <td>25.61</td>\n",
       "      <td>44.41</td>\n",
       "      <td>52.430000</td>\n",
       "      <td>82.02</td>\n",
       "    </tr>\n",
       "    <tr>\n",
       "      <th>8</th>\n",
       "      <td>58.51</td>\n",
       "      <td>31.39</td>\n",
       "      <td>27.17</td>\n",
       "      <td>61.560001</td>\n",
       "      <td>80.32</td>\n",
       "    </tr>\n",
       "    <tr>\n",
       "      <th>9</th>\n",
       "      <td>61.17</td>\n",
       "      <td>21.19</td>\n",
       "      <td>47.38</td>\n",
       "      <td>46.220001</td>\n",
       "      <td>82.34</td>\n",
       "    </tr>\n",
       "  </tbody>\n",
       "</table>\n",
       "</div>"
      ],
      "text/plain": [
       "   accuracy  balanced_accuracy  normalized_mutual_information  auc_tensorflow  \\\n",
       "0     67.55              33.15                          52.78       40.439999   \n",
       "1     60.11              30.90                          38.17       57.709999   \n",
       "2     65.43              38.75                          39.15       58.959999   \n",
       "3     58.51              26.70                          39.37       54.240002   \n",
       "4     60.64              26.23                          42.34       53.869999   \n",
       "5     63.30              34.16                          46.12       47.110001   \n",
       "6     66.49              23.90                          27.86       42.740002   \n",
       "7     60.11              25.61                          44.41       52.430000   \n",
       "8     58.51              31.39                          27.17       61.560001   \n",
       "9     61.17              21.19                          47.38       46.220001   \n",
       "\n",
       "   auc_scikit_learn  \n",
       "0             84.16  \n",
       "1             80.80  \n",
       "2             81.67  \n",
       "3             81.62  \n",
       "4             80.40  \n",
       "5             79.95  \n",
       "6             80.77  \n",
       "7             82.02  \n",
       "8             80.32  \n",
       "9             82.34  "
      ]
     },
     "execution_count": 17,
     "metadata": {},
     "output_type": "execute_result"
    }
   ],
   "source": [
    "df"
   ]
  },
  {
   "cell_type": "code",
   "execution_count": 18,
   "id": "76dae3f7",
   "metadata": {
    "execution": {
     "iopub.execute_input": "2023-02-13T08:07:31.727158Z",
     "iopub.status.busy": "2023-02-13T08:07:31.726328Z",
     "iopub.status.idle": "2023-02-13T08:07:31.735992Z",
     "shell.execute_reply": "2023-02-13T08:07:31.734680Z"
    },
    "papermill": {
     "duration": 0.031505,
     "end_time": "2023-02-13T08:07:31.738537",
     "exception": false,
     "start_time": "2023-02-13T08:07:31.707032",
     "status": "completed"
    },
    "tags": []
   },
   "outputs": [
    {
     "data": {
      "text/plain": [
       "array([[1],\n",
       "       [1],\n",
       "       [2],\n",
       "       [1],\n",
       "       [0],\n",
       "       [1],\n",
       "       [1],\n",
       "       [2],\n",
       "       [1],\n",
       "       [2],\n",
       "       [2],\n",
       "       [2],\n",
       "       [2],\n",
       "       [0],\n",
       "       [2],\n",
       "       [2],\n",
       "       [1],\n",
       "       [2],\n",
       "       [1],\n",
       "       [2],\n",
       "       [0],\n",
       "       [2],\n",
       "       [1],\n",
       "       [2],\n",
       "       [2],\n",
       "       [2],\n",
       "       [2],\n",
       "       [1],\n",
       "       [2],\n",
       "       [2],\n",
       "       [1],\n",
       "       [2],\n",
       "       [2],\n",
       "       [2],\n",
       "       [2],\n",
       "       [2],\n",
       "       [2],\n",
       "       [0],\n",
       "       [1],\n",
       "       [1],\n",
       "       [2],\n",
       "       [1],\n",
       "       [2],\n",
       "       [1],\n",
       "       [1],\n",
       "       [1],\n",
       "       [2],\n",
       "       [1],\n",
       "       [1],\n",
       "       [1],\n",
       "       [1],\n",
       "       [1],\n",
       "       [2],\n",
       "       [2],\n",
       "       [1],\n",
       "       [2],\n",
       "       [2],\n",
       "       [2],\n",
       "       [2],\n",
       "       [1],\n",
       "       [1],\n",
       "       [1],\n",
       "       [1],\n",
       "       [2],\n",
       "       [2],\n",
       "       [2],\n",
       "       [2],\n",
       "       [1],\n",
       "       [0],\n",
       "       [2],\n",
       "       [1],\n",
       "       [0],\n",
       "       [2],\n",
       "       [2],\n",
       "       [2],\n",
       "       [1],\n",
       "       [1],\n",
       "       [0],\n",
       "       [1],\n",
       "       [2],\n",
       "       [2],\n",
       "       [2],\n",
       "       [0],\n",
       "       [2],\n",
       "       [1],\n",
       "       [2],\n",
       "       [2],\n",
       "       [2],\n",
       "       [1],\n",
       "       [2],\n",
       "       [2],\n",
       "       [1],\n",
       "       [2],\n",
       "       [1],\n",
       "       [1],\n",
       "       [1],\n",
       "       [1],\n",
       "       [1],\n",
       "       [2],\n",
       "       [2],\n",
       "       [2],\n",
       "       [1],\n",
       "       [1],\n",
       "       [1],\n",
       "       [1],\n",
       "       [0],\n",
       "       [2],\n",
       "       [2],\n",
       "       [1],\n",
       "       [1],\n",
       "       [2],\n",
       "       [1],\n",
       "       [2],\n",
       "       [1],\n",
       "       [1],\n",
       "       [1],\n",
       "       [1],\n",
       "       [1],\n",
       "       [2],\n",
       "       [2],\n",
       "       [2],\n",
       "       [1],\n",
       "       [1],\n",
       "       [2],\n",
       "       [2],\n",
       "       [1],\n",
       "       [2],\n",
       "       [1],\n",
       "       [1],\n",
       "       [1],\n",
       "       [2],\n",
       "       [2],\n",
       "       [1],\n",
       "       [2],\n",
       "       [1],\n",
       "       [0],\n",
       "       [2],\n",
       "       [1],\n",
       "       [0],\n",
       "       [1],\n",
       "       [2],\n",
       "       [2],\n",
       "       [2],\n",
       "       [1],\n",
       "       [2],\n",
       "       [2],\n",
       "       [2],\n",
       "       [1],\n",
       "       [2],\n",
       "       [1],\n",
       "       [2],\n",
       "       [2],\n",
       "       [2],\n",
       "       [1],\n",
       "       [1],\n",
       "       [1],\n",
       "       [1],\n",
       "       [2],\n",
       "       [1],\n",
       "       [1],\n",
       "       [1],\n",
       "       [2],\n",
       "       [1],\n",
       "       [1],\n",
       "       [2],\n",
       "       [1],\n",
       "       [0],\n",
       "       [0],\n",
       "       [2],\n",
       "       [0],\n",
       "       [1],\n",
       "       [2],\n",
       "       [2],\n",
       "       [0],\n",
       "       [1],\n",
       "       [2],\n",
       "       [2],\n",
       "       [2],\n",
       "       [2],\n",
       "       [2],\n",
       "       [2],\n",
       "       [1],\n",
       "       [2],\n",
       "       [1],\n",
       "       [2],\n",
       "       [1],\n",
       "       [1],\n",
       "       [2]])"
      ]
     },
     "execution_count": 18,
     "metadata": {},
     "output_type": "execute_result"
    }
   ],
   "source": [
    "Y_true_test"
   ]
  },
  {
   "cell_type": "code",
   "execution_count": null,
   "id": "d7e2cec1",
   "metadata": {
    "papermill": {
     "duration": 0.017473,
     "end_time": "2023-02-13T08:07:31.774849",
     "exception": false,
     "start_time": "2023-02-13T08:07:31.757376",
     "status": "completed"
    },
    "tags": []
   },
   "outputs": [],
   "source": []
  },
  {
   "cell_type": "code",
   "execution_count": 19,
   "id": "c5b279a5",
   "metadata": {
    "execution": {
     "iopub.execute_input": "2023-02-13T08:07:31.813608Z",
     "iopub.status.busy": "2023-02-13T08:07:31.812720Z",
     "iopub.status.idle": "2023-02-13T08:07:31.825787Z",
     "shell.execute_reply": "2023-02-13T08:07:31.824502Z"
    },
    "papermill": {
     "duration": 0.035565,
     "end_time": "2023-02-13T08:07:31.828341",
     "exception": false,
     "start_time": "2023-02-13T08:07:31.792776",
     "status": "completed"
    },
    "tags": []
   },
   "outputs": [
    {
     "data": {
      "text/html": [
       "<div>\n",
       "<style scoped>\n",
       "    .dataframe tbody tr th:only-of-type {\n",
       "        vertical-align: middle;\n",
       "    }\n",
       "\n",
       "    .dataframe tbody tr th {\n",
       "        vertical-align: top;\n",
       "    }\n",
       "\n",
       "    .dataframe thead th {\n",
       "        text-align: right;\n",
       "    }\n",
       "</style>\n",
       "<table border=\"1\" class=\"dataframe\">\n",
       "  <thead>\n",
       "    <tr style=\"text-align: right;\">\n",
       "      <th></th>\n",
       "      <th>Mean</th>\n",
       "      <th>Std</th>\n",
       "    </tr>\n",
       "  </thead>\n",
       "  <tbody>\n",
       "    <tr>\n",
       "      <th>accuracy</th>\n",
       "      <td>62.18</td>\n",
       "      <td>3.30</td>\n",
       "    </tr>\n",
       "    <tr>\n",
       "      <th>balanced_accuracy</th>\n",
       "      <td>29.20</td>\n",
       "      <td>5.37</td>\n",
       "    </tr>\n",
       "    <tr>\n",
       "      <th>normalized_mutual_information</th>\n",
       "      <td>40.48</td>\n",
       "      <td>8.13</td>\n",
       "    </tr>\n",
       "    <tr>\n",
       "      <th>auc_tensorflow</th>\n",
       "      <td>51.53</td>\n",
       "      <td>7.12</td>\n",
       "    </tr>\n",
       "    <tr>\n",
       "      <th>auc_scikit_learn</th>\n",
       "      <td>81.40</td>\n",
       "      <td>1.25</td>\n",
       "    </tr>\n",
       "  </tbody>\n",
       "</table>\n",
       "</div>"
      ],
      "text/plain": [
       "                                Mean   Std\n",
       "accuracy                       62.18  3.30\n",
       "balanced_accuracy              29.20  5.37\n",
       "normalized_mutual_information  40.48  8.13\n",
       "auc_tensorflow                 51.53  7.12\n",
       "auc_scikit_learn               81.40  1.25"
      ]
     },
     "execution_count": 19,
     "metadata": {},
     "output_type": "execute_result"
    }
   ],
   "source": [
    "result_df"
   ]
  },
  {
   "cell_type": "code",
   "execution_count": null,
   "id": "7ace3f46",
   "metadata": {
    "papermill": {
     "duration": 0.017883,
     "end_time": "2023-02-13T08:07:31.864184",
     "exception": false,
     "start_time": "2023-02-13T08:07:31.846301",
     "status": "completed"
    },
    "tags": []
   },
   "outputs": [],
   "source": []
  }
 ],
 "metadata": {
  "kernelspec": {
   "display_name": "Python 3",
   "language": "python",
   "name": "python3"
  },
  "language_info": {
   "codemirror_mode": {
    "name": "ipython",
    "version": 3
   },
   "file_extension": ".py",
   "mimetype": "text/x-python",
   "name": "python",
   "nbconvert_exporter": "python",
   "pygments_lexer": "ipython3",
   "version": "3.7.12"
  },
  "papermill": {
   "default_parameters": {},
   "duration": 148.461177,
   "end_time": "2023-02-13T08:07:34.623344",
   "environment_variables": {},
   "exception": null,
   "input_path": "__notebook__.ipynb",
   "output_path": "__notebook__.ipynb",
   "parameters": {},
   "start_time": "2023-02-13T08:05:06.162167",
   "version": "2.3.4"
  }
 },
 "nbformat": 4,
 "nbformat_minor": 5
}
