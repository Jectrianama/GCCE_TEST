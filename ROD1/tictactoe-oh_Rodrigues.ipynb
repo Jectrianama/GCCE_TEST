{
 "cells": [
  {
   "cell_type": "markdown",
   "id": "6df753c4",
   "metadata": {
    "id": "Cy45HoPn5SpZ",
    "papermill": {
     "duration": 0.01015,
     "end_time": "2023-02-13T14:39:29.242850",
     "exception": false,
     "start_time": "2023-02-13T14:39:29.232700",
     "status": "completed"
    },
    "tags": []
   },
   "source": [
    "# Loss function Rodrigues\n",
    "\n",
    "$𝒟 = \\{ \\mathbf{x}_n, \\mathbf{y}_n\\}$ be a dataset of size $N$\n",
    "\n",
    "$\\mathbf{x}_n \\in \\mathbb{R}^D$\n",
    "\n",
    "${\\mathbf{y}}^r_n\\in[0,1]^K$:   label provided for the r-th annotator in a set of R annotators\n",
    "\n",
    "$𝒛_n$ Latent true class determined by a softmax output layer  of a DNN\n",
    "\n",
    "\n",
    "$\\mathbf{\\sigma}\\in \\mathbb{R} ^Q$: DNN-based feature representation. correspond to the output of a softmax layer\n",
    "\n",
    "$\\hat{\\mathbf{y}}^r_n = f_r(\\sigma)\\in[0,1]^{1 \\times K}$\n",
    "\n",
    "$\\hat{\\mathbf{y}}_n=[\\hat{\\mathbf{y}}^1_n,\\hat{\\mathbf{y}}^2_n,\\dots,\\hat{\\mathbf{y}}^R_n]\\in [0,1]^{1\\times (R\\times K)}$\n",
    "\n",
    "Activation of the crowd layer for each anotator  $ \\mathbf{a}^r = f_r(\\sigma)$, where $f_r$ is an annotator-specific function, and the output of the crowd layer simply as the softmax of the\n",
    "activations $o_c^r = e^{a_c^r}/\\sum_{l=1}^{C}e^{a_l^r}$.\n",
    "\n",
    "\n",
    " $f_r(\\sigma)= \\mathbf{W}^r\\mathbf{\\sigma}$\n",
    "\n",
    " $\\mathbf{W}^r$ is an annotator-specific matrix\n",
    "\n",
    " **Cost function**\n",
    "\n",
    " $E(\\mathbf{o}^r, y^r)$\n",
    " between the expected output of the r-th annotator and its actual label $y^r$,\n",
    "\n",
    "Then, \n",
    "\n",
    "if we make. $\\lambda_n^r(\\theta) = \\mathbf{1}$ in PRI loss\n",
    "\n",
    "\n",
    "\n",
    "$$\\min_\\theta \\sum_n\\left(\\sum_r \\lambda_n^r(\\theta)H({\\mathbf{y}}^r_n;\\hat{\\mathbf{y}}_n(\\theta))\\right)+\\left(H(\\hat{\\mathbf{y}}_n(\\theta))\\sum_r\\left(1-\\lambda_n^r(\\theta)\\right)\\right)$$\n",
    "\n",
    " \n",
    "we can obtain rodriguez\n",
    "\n",
    "\n",
    "$$\\min_\\theta \\sum_n\\left(\\sum_r (\\mathbf{1})H({\\mathbf{y}}^r_n;\\hat{\\mathbf{y}}_n(\\theta))\\right)+\\left(H(\\hat{\\mathbf{y}}_n(\\theta))\\sum_r\\left(1-\\mathbf{1}\\right)\\right)$$"
   ]
  },
  {
   "cell_type": "code",
   "execution_count": 1,
   "id": "29ab3e58",
   "metadata": {
    "execution": {
     "iopub.execute_input": "2023-02-13T14:39:29.264310Z",
     "iopub.status.busy": "2023-02-13T14:39:29.263737Z",
     "iopub.status.idle": "2023-02-13T14:39:29.269869Z",
     "shell.execute_reply": "2023-02-13T14:39:29.268780Z"
    },
    "id": "Htu1kN9-jZO1",
    "papermill": {
     "duration": 0.021161,
     "end_time": "2023-02-13T14:39:29.273758",
     "exception": false,
     "start_time": "2023-02-13T14:39:29.252597",
     "status": "completed"
    },
    "tags": []
   },
   "outputs": [],
   "source": [
    "#!pip install tensorflow==2.7.0\n",
    "#!pip install scikeras"
   ]
  },
  {
   "cell_type": "code",
   "execution_count": 2,
   "id": "7d9de2f4",
   "metadata": {
    "execution": {
     "iopub.execute_input": "2023-02-13T14:39:29.294488Z",
     "iopub.status.busy": "2023-02-13T14:39:29.293494Z",
     "iopub.status.idle": "2023-02-13T14:39:37.799470Z",
     "shell.execute_reply": "2023-02-13T14:39:37.798272Z"
    },
    "id": "Gw-I1LpOjkw3",
    "outputId": "ebc8e065-e200-4131-fc8b-2ae9efe8d1d7",
    "papermill": {
     "duration": 8.520406,
     "end_time": "2023-02-13T14:39:37.802595",
     "exception": false,
     "start_time": "2023-02-13T14:39:29.282189",
     "status": "completed"
    },
    "tags": []
   },
   "outputs": [],
   "source": [
    "import tensorflow as tf\n",
    "from sklearn.metrics import classification_report, accuracy_score, balanced_accuracy_score, roc_auc_score, mutual_info_score, normalized_mutual_info_score, adjusted_mutual_info_score\n",
    "from sklearn.preprocessing import LabelBinarizer\n",
    "from sklearn.preprocessing import OneHotEncoder\n",
    "from scipy.stats import mode \n",
    "import numpy as np\n",
    "\n",
    "def ook(t):\n",
    "  lb = LabelBinarizer()\n",
    "  y_ook = lb.fit_transform(t)  \n",
    "\n",
    "  if len(np.unique(t))==2:\n",
    "    y_ook = np.concatenate((1-y_ook.astype(bool), y_ook), axis = 1) \n",
    "\n",
    "  return y_ook\n",
    "\n",
    " \n",
    "\n",
    "def evaluation_metrics(y_true, y_pred, print_result=True):\n",
    "    acc = 0\n",
    "    auc = 0\n",
    "    auc_sk = 0\n",
    "    #mi = 0\n",
    "    nmi = 0\n",
    "    #ami = 0\n",
    "    bacc = 0\n",
    "    \n",
    "    # Accuracy\n",
    "    #report = classification_report(y_pred.argmax(axis=1), y_true.ravel(), output_dict=True)\n",
    "    acc = accuracy_score( y_true.ravel(), y_pred.argmax(axis=1))  #report['accuracy']\n",
    "    \n",
    "    # Balanced accuracy\n",
    "    bacc = balanced_accuracy_score(y_true.squeeze(), y_pred.argmax(axis=1).squeeze(), adjusted=True)\n",
    "    \n",
    "   # # Mutual Information\n",
    "   # mi = mutual_info_score(y_true.squeeze(), y_pred.argmax(axis=1).squeeze())\n",
    "    \n",
    "    # Normalized Mutual Information\n",
    "    nmi = normalized_mutual_info_score(y_true.squeeze(), y_pred.argmax(axis=1).squeeze())\n",
    "    \n",
    "    # Adjusted Mutual Information\n",
    "    #ami = adjusted_mutual_info_score(y_true.squeeze(), y_pred.argmax(axis=1).squeeze())\n",
    "    \n",
    "    # AUC (Tensorflow)\n",
    "    auc_metric = tf.keras.metrics.AUC(from_logits=True)\n",
    "    auc_metric.update_state(y_true, y_pred.argmax(axis=1).astype('float'))\n",
    "    auc = auc_metric.result().numpy()\n",
    "    auc_metric.reset_states()\n",
    "    \n",
    "    # AUC (scikit-learn)\n",
    "    auc_sk = roc_auc_score(ook(y_true), y_pred)\n",
    "    \n",
    "    if print_result:\n",
    "        print(\"Accuracy: {:.4f}\".format(acc))\n",
    "        print(\"Balanced Accuracy: {:.4f}\".format(bacc))\n",
    "        print(\"Mutual Information: {:.4f}\".format(mi))\n",
    "        print(\"Normalized Mutual Information: {:.4f}\".format(nmi))\n",
    "        print(\"Adjusted Mutual Information: {:.4f}\".format(ami))\n",
    "        print(\"AUC (Tensorflow): {:.4f}\".format(auc))\n",
    "        print(\"AUC (scikit-learn): {:.4f}\".format(auc_sk))\n",
    "    \n",
    "    return acc, auc, auc_sk, nmi, bacc   # mi, , ami\n",
    "\n",
    "\n"
   ]
  },
  {
   "cell_type": "markdown",
   "id": "c5c3bb5b",
   "metadata": {
    "id": "lYGUr8mv4EuV",
    "papermill": {
     "duration": 0.007822,
     "end_time": "2023-02-13T14:39:37.818671",
     "exception": false,
     "start_time": "2023-02-13T14:39:37.810849",
     "status": "completed"
    },
    "tags": []
   },
   "source": [
    "# Subclassing for Crowdlayer Rodriguez"
   ]
  },
  {
   "cell_type": "code",
   "execution_count": 3,
   "id": "1179d6d4",
   "metadata": {
    "execution": {
     "iopub.execute_input": "2023-02-13T14:39:37.837783Z",
     "iopub.status.busy": "2023-02-13T14:39:37.836936Z",
     "iopub.status.idle": "2023-02-13T14:39:41.527938Z",
     "shell.execute_reply": "2023-02-13T14:39:41.526113Z"
    },
    "id": "p5fJiVgC3FKO",
    "papermill": {
     "duration": 3.704628,
     "end_time": "2023-02-13T14:39:41.531361",
     "exception": false,
     "start_time": "2023-02-13T14:39:37.826733",
     "status": "completed"
    },
    "tags": []
   },
   "outputs": [],
   "source": [
    "# -*- coding: utf-8 -*-\n",
    "import tensorflow as tf\n",
    "import matplotlib.pyplot as plt\n",
    "#from tensorflow.keras.wrappers.scikit_learn import KerasClassifier\n",
    "import tensorflow_probability as tfp\n",
    "from tensorflow.keras import regularizers\n",
    "from sklearn.base import  BaseEstimator, TransformerMixin, ClassifierMixin\n",
    "from sklearn.model_selection import train_test_split\n",
    "tf.keras.backend.clear_session()\n",
    "#tf.random.set_seed(42)\n",
    "import types\n",
    "import tempfile\n",
    "class Keras_MA_CrowdL(): #transformer no va\n",
    " #Constructor __init__. Special method: identified by a double underscore at either side of their name\n",
    " #work in the background\n",
    " # initialize data members to the object. lets the class initialize the object’s attributes and serves no other purpose.\n",
    "    def __init__(self,epochs=100,batch_size=30,R=5, K=2, dropout=0.5, learning_rate=1e-3,optimizer='Adam', \n",
    "                  l1_param=0, validation_split=0.3, verbose=0, neurons=4):\n",
    "        #print('init')\n",
    "        self.epochs=epochs\n",
    "        self.dropout=dropout\n",
    "        self.batch_size = batch_size\n",
    "        self.learning_rate=learning_rate \n",
    "        self.l1_param=l1_param \n",
    "        self.l2_param=l1_param\n",
    "        self.validation_split = validation_split\n",
    "        self.verbose = verbose\n",
    "        self.optimizer = optimizer\n",
    "        self.R=R\n",
    "        self.K=K\n",
    "        self.neurons = neurons\n",
    "\n",
    "    \n",
    " \n",
    "    def custom_CLR_loss(self, y_true, y_pred): #ytrue \\in N x R,  ypred \\in N x K x R  ->CrowdLayerRodriguez\n",
    "        #print(y_true.shape)\n",
    "        Y_true_1K = tf.one_hot(tf.cast(y_true,dtype=tf.int32),depth=self.K,axis=1) #samples, classes 1-K, annotators\n",
    "        #print(Y_true_1K.shape)    \n",
    "        vec = tf.nn.softmax_cross_entropy_with_logits(logits=y_pred, labels=Y_true_1K, axis = 1)\n",
    "        #print(vec.shape)\n",
    "        #mask = tf.equal(Y_true_1K[:,0,:], -1)\n",
    "        #zer = tf.zeros_like(vec)\n",
    "        #loss = tf.where(mask, x=zer, y=vec)\n",
    "        #tf.print(\"loss\", loss)\n",
    "        return tf.math.reduce_sum(vec)\n",
    "    \n",
    "    def fit(self, X, Y):\n",
    "            \n",
    "        def scheduler1(step = 10, ratio = 1.2):\n",
    "          def scheduler(epoch, lr):\n",
    "            if epoch % step == 0 and epoch>1:\n",
    "              return lr/ratio\n",
    "            else:\n",
    "              return lr\n",
    "          return scheduler\n",
    "\n",
    "        initializer = tf.keras.initializers.GlorotNormal(seed=100)\n",
    "        #input X numpy array first dimension samples (N)x features (P)\n",
    "        #input Y numpy array vector len = samples (N) x  annotators (R)\n",
    "        P = X.shape[1]\n",
    "        \n",
    "        if self.optimizer == \"Adam\":\n",
    "            opt = tf.keras.optimizers.Adam(learning_rate=self.learning_rate)\n",
    "        elif self.optimizer == \"SGD\":\n",
    "            opt = tf.keras.optimizers.SGD(learning_rate=self.learning_rate)\n",
    "        elif self.optimizer == \"RMSprop\":\n",
    "            opt = tf.keras.optimizers.RMSprop(learning_rate=self.learning_rate)\n",
    "        elif self.optimizer == \"Adagrad\":\n",
    "            opt = tf.keras.optimizers.Adagrad(learning_rate=self.learning_rate)\n",
    "        else:\n",
    "            opt=self.optimizer\n",
    "\n",
    "\n",
    "#         if self.loss == \"RCDNN\":\n",
    "#           sel_loss = self.custom_RCDNN_loss\n",
    "#         elif  self.loss == \"GCE\":\n",
    "#           sel_loss = self.GCE_MA_loss\n",
    "        \n",
    "        #capa de entrada\n",
    "        input_l = tf.keras.layers.Input(shape=(X.shape[1]), name='entrada')\n",
    "        input_l_b = tf.keras.layers.BatchNormalization()(input_l)        \n",
    "        input_l_do = tf.keras.layers.Dropout(rate=self.dropout)(input_l_b)    \n",
    "        #capas densas\n",
    "        h1 = tf.keras.layers.Dense(int(P*self.neurons*(self.K+self.R)),activation='selu',name='h1', bias_initializer='zeros', kernel_initializer=initializer,\n",
    "                              kernel_regularizer=tf.keras.regularizers.l1_l2(l1=self.l1_param,l2=self.l2_param))(input_l_do)#argumento de entrada\n",
    "       # h1 = tf.keras.layers.BatchNormalization()(h1)        \n",
    "        h1 = tf.keras.layers.AlphaDropout(rate=self.dropout)(h1)      \n",
    "        h2 = tf.keras.layers.Dense(int(P*(self.K+self.R)),activation='selu',name='h2', bias_initializer='zeros', kernel_initializer=initializer,\n",
    "                              kernel_regularizer=tf.keras.regularizers.l1_l2(l1=self.l1_param,l2=self.l2_param))(h1)\n",
    "        #h2 = tf.keras.layers.BatchNormalization()(h2)     \n",
    "        dout = tf.keras.layers.AlphaDropout(rate=self.dropout)(h2)\n",
    "        output_dense = tf.keras.layers.Dense(self.K,activation=\"softmax\",name='output',\n",
    "                               kernel_regularizer=tf.keras.regularizers.l1_l2(l1=self.l1_param,l2=self.l2_param))(dout)\n",
    "        output= CrowdsClassification(self.K, self.R, conn_type=\"MW\")(output_dense) #Classes x Annotators\n",
    "        self.model = tf.keras.Model(inputs= input_l,outputs=output)\n",
    "        self.model.compile(loss= self.custom_CLR_loss, optimizer=opt)\n",
    "        \n",
    "        callback1 = tf.keras.callbacks.TerminateOnNaN()\n",
    "        callback2 = tf.keras.callbacks.LearningRateScheduler(scheduler1(ratio = 1))\n",
    "        #callback2 = tf.keras.callbacks.LearningRateScheduler(scheduler2)\n",
    "        callback3 = tf.keras.callbacks.EarlyStopping(monitor=\"loss\", min_delta=1e-2,\n",
    "                                                 patience=15, verbose=0, mode=\"auto\",\n",
    "                                                 baseline=None, restore_best_weights=True)\n",
    "        \n",
    "        \n",
    "        self.history = self.model.fit(X, Y, epochs=self.epochs, validation_split= self.validation_split, callbacks = [callback1, callback2],     #\n",
    "                                      batch_size=self.batch_size,verbose=self.verbose)\n",
    "        #model_p  to predict labels in gridsearch  \n",
    "        self.model_p = tf.keras.Model(inputs=self.model.inputs,outputs=self.model.get_layer('output').output) #se accede a capas por nombre\n",
    "        #resumen y gráfica del modelo\n",
    "        #print(self.model.summary())\n",
    "        \n",
    "        return self\n",
    " \n",
    " \n",
    "\n",
    "    def predict2(self, X, *_):\n",
    "      return  self.model_p.predict(X)\n",
    "\n",
    "     \n",
    "    def predict(self, X, *_):\n",
    "\n",
    "       #print('predict') \n",
    "       return  self.model.predict(X) \n",
    "\n",
    "    def fit_predict(self,X,y):\n",
    "        #input X numpy array first dimension samples (N)x features (P)\n",
    "        #input Y numpy array vector len = samples (N) x  annotators (R)\n",
    "        \n",
    "        self.fit(X,y)\n",
    "        return self.predict(X)\n",
    "  \n",
    "     #graphics\n",
    "    def plot_history(self):\n",
    "        pd.DataFrame(self.history.history).plot(figsize=(8, 5))\n",
    "        plt.grid(True)\n",
    "        #plt.gca().set_ylim(0, 1)\n",
    "        #save_fig(\"keras_learning_curves_plot\")\n",
    "        plt.show()\n",
    "        return\n",
    "    \n",
    "    def set_params(self, **parameters):\n",
    "        #print('set_params') \n",
    "        for parameter, value in parameters.items():\n",
    "            setattr(self, parameter, value)\n",
    "\n",
    "        return self\n",
    "    \n",
    "    \n",
    "    \n",
    "    def get_params(self, deep=True):\n",
    "        #print('get_params') \n",
    "        return { 'l1_param':self.l1_param, 'dropout':self.dropout, 'optimizer':self.optimizer,\n",
    "                'learning_rate':self.learning_rate, 'batch_size':self.batch_size,\n",
    "                'epochs':self.epochs, 'verbose':self.verbose, 'validation_split':self.validation_split,\n",
    "                'R':self.R, 'K':self.K\n",
    "                }"
   ]
  },
  {
   "cell_type": "markdown",
   "id": "9d64b05c",
   "metadata": {
    "id": "b9yV0N4v4U_3",
    "papermill": {
     "duration": 0.007751,
     "end_time": "2023-02-13T14:39:41.547417",
     "exception": false,
     "start_time": "2023-02-13T14:39:41.539666",
     "status": "completed"
    },
    "tags": []
   },
   "source": [
    "# Crowdlayer class"
   ]
  },
  {
   "cell_type": "code",
   "execution_count": 4,
   "id": "a0e8e5cb",
   "metadata": {
    "execution": {
     "iopub.execute_input": "2023-02-13T14:39:41.568760Z",
     "iopub.status.busy": "2023-02-13T14:39:41.567669Z",
     "iopub.status.idle": "2023-02-13T14:39:41.596692Z",
     "shell.execute_reply": "2023-02-13T14:39:41.595141Z"
    },
    "id": "4ysb7umL3FKN",
    "papermill": {
     "duration": 0.043351,
     "end_time": "2023-02-13T14:39:41.600136",
     "exception": false,
     "start_time": "2023-02-13T14:39:41.556785",
     "status": "completed"
    },
    "tags": []
   },
   "outputs": [],
   "source": [
    " \n",
    "import numpy as np\n",
    "import tensorflow as tf\n",
    "import tensorflow.keras as keras\n",
    "from tensorflow.keras import backend as K1\n",
    "from tensorflow.keras.layers import Layer\n",
    "#from tensorflow.keras.engine.topology import Layer\n",
    "\n",
    "def init_identities(shape, dtype=None):\n",
    "    out = np.zeros(shape)\n",
    "    for r in range(shape[2]):\n",
    "        for i in range(shape[0]):\n",
    "            out[i,i,r] = 1.0\n",
    "    return out\n",
    "    \n",
    "class CrowdsClassification(Layer):\n",
    "\n",
    "\n",
    "  \n",
    "  #The build() method’s role is to create the layer’s variables, by calling the \n",
    "  #add_weight() method for each weight.  which is often necessary to create some of the weights.\n",
    "  #we need to know the number of neurons in the previous layer in order to create the connection weights matrix (i.e., the \"kernel\"): \n",
    "  #this corresponds to the size of the last dimension of the inputs. \n",
    "   \n",
    "    def __init__(self, output_dim, num_annotators, conn_type=\"MW\", **kwargs):\n",
    "        self.output_dim = output_dim\n",
    "        self.num_annotators = num_annotators\n",
    "        self.conn_type = conn_type\n",
    "        super(CrowdsClassification, self).__init__(**kwargs)\n",
    "\n",
    "\n",
    "\n",
    "    def build(self, input_shape):\n",
    "        if self.conn_type == \"MW\":\n",
    "            # matrix of weights per annotator\n",
    "      #A layer is a callable object that takes as input one or more tensors and that outputs one or more tensors. \n",
    "      #It involves computation, defined in the call() method, and a state (weight variables). \n",
    "      #the method add_weight() offers a shortcut to create weights.\n",
    "\n",
    "            self.kernel = self.add_weight(\"CrowdLayer\", (self.output_dim, self.output_dim, self.num_annotators),\n",
    "                                            initializer=init_identities, #It is the stated initializer instance\n",
    "                                            trainable=True) # trainable weights, updated via backpropagation during training\n",
    "        elif self.conn_type == \"VW\":\n",
    "            # vector of weights (one scale per class) per annotator\n",
    "            self.kernel = self.add_weight(\"CrowdLayer\", (self.output_dim, self.num_annotators),\n",
    "                                            initializer=keras.initializers.Ones(), \n",
    "                                            trainable=True)\n",
    "        elif self.conn_type == \"VB\":\n",
    "            # two vectors of weights (one scale and one bias per class) per annotator\n",
    "            self.kernel = []\n",
    "            self.kernel.append(self.add_weight(\"CrowdLayer\", (self.output_dim, self.num_annotators),\n",
    "                                            initializer=keras.initializers.Zeros(),\n",
    "                                            trainable=True))\n",
    "        elif self.conn_type == \"VW+B\":\n",
    "            # two vectors of weights (one scale and one bias per class) per annotator\n",
    "            self.kernel = []\n",
    "            self.kernel.append(self.add_weight(\"CrowdLayer\", (self.output_dim, self.num_annotators),\n",
    "                                            initializer=keras.initializers.Ones(),\n",
    "                                            trainable=True))\n",
    "            self.kernel.append(self.add_weight(\"CrowdLayer\", (self.output_dim, self.num_annotators),\n",
    "                                            initializer=keras.initializers.Zeros(),\n",
    "                                            trainable=True))\n",
    "        elif self.conn_type == \"SW\":\n",
    "            # single weight value per annotator\n",
    "            self.kernel = self.add_weight(\"CrowdLayer\", (self.num_annotators,1),\n",
    "                                            initializer=keras.initializers.Ones(),\n",
    "                                            trainable=True)\n",
    "        else:\n",
    "            raise Exception(\"Unknown connection type for CrowdsClassification layer!\")\n",
    "    #At the end of the build() method (and only at the end), \n",
    "    #you must call the parent’s build() method: this tells Keras that the layer is built (it just sets self.built = True).\n",
    "        super(CrowdsClassification, self).build(input_shape)  # Be sure to call this somewhere!\n",
    "\n",
    "    def call(self, x):\n",
    "    \n",
    "    #The call() method actually performs the desired operations. In this case, \n",
    "    #we compute the matrix multiplication of the inputs X and the layer’s kernel and \n",
    "    #this gives us the output of the layer.\n",
    "     \n",
    " \n",
    "\n",
    "        if self.conn_type == \"MW\":\n",
    "            res = K1.dot(x, self.kernel)\n",
    "        elif self.conn_type == \"VW\" or self.conn_type == \"VB\" or self.conn_type == \"VW+B\" or self.conn_type == \"SW\":\n",
    "            out = []\n",
    "            for r in range(self.num_annotators):\n",
    "                if self.conn_type == \"VW\":\n",
    "                    out.append(x * self.kernel[:,r])\n",
    "                elif self.conn_type == \"VB\":\n",
    "                    out.append(x + self.kernel[0][:,r])\n",
    "                elif self.conn_type == \"VW+B\":\n",
    "                    out.append(x * self.kernel[0][:,r] + self.kernel[1][:,r])\n",
    "                elif self.conn_type == \"SW\":\n",
    "                    out.append(x * self.kernel[r,0])\n",
    "            res = tf.stack(out)\n",
    "            if len(res.shape) == 3:\n",
    "                res = tf.transpose(res, [1, 2, 0])\n",
    "            elif len(res.shape) == 4:\n",
    "                res = tf.transpose(res, [1, 2, 3, 0])\n",
    "            else:\n",
    "                raise Exception(\"Wrong number of dimensions for output\")\n",
    "        else:\n",
    "            raise Exception(\"Unknown connection type for CrowdsClassification layer!\") \n",
    "        \n",
    "        return res\n",
    " \n",
    "#The compute_output_shape() method simply returns the shape of this layer’s outputs. \n",
    "#In this case, it is the same shape as the inputs, except the last two dimensions is replaced \n",
    "#with the number of clases and # annotators in the layer.  \n",
    " \n",
    "\n",
    "    def compute_output_shape(self, input_shape):\n",
    "        return (input_shape[0], self.output_dim, self.num_annotators)"
   ]
  },
  {
   "cell_type": "markdown",
   "id": "42d62913",
   "metadata": {
    "id": "xKzPN5lnHO13",
    "papermill": {
     "duration": 0.008788,
     "end_time": "2023-02-13T14:39:41.617245",
     "exception": false,
     "start_time": "2023-02-13T14:39:41.608457",
     "status": "completed"
    },
    "tags": []
   },
   "source": [
    "# Load Data"
   ]
  },
  {
   "cell_type": "code",
   "execution_count": 5,
   "id": "6dbd7ed2",
   "metadata": {
    "execution": {
     "iopub.execute_input": "2023-02-13T14:39:41.636790Z",
     "iopub.status.busy": "2023-02-13T14:39:41.636285Z",
     "iopub.status.idle": "2023-02-13T14:39:41.702206Z",
     "shell.execute_reply": "2023-02-13T14:39:41.700063Z"
    },
    "id": "hA1QFlPBjpbA",
    "outputId": "db5be05d-1fdc-4725-8064-5dc79e7a9a6a",
    "papermill": {
     "duration": 0.0804,
     "end_time": "2023-02-13T14:39:41.706131",
     "exception": false,
     "start_time": "2023-02-13T14:39:41.625731",
     "status": "completed"
    },
    "tags": []
   },
   "outputs": [],
   "source": [
    "#load data\n",
    "import scipy.io as sio\n",
    "import matplotlib.pyplot as plt\n",
    "import pandas as pd\n",
    "import tensorflow as tf #importar tensorflow\n",
    "from sklearn.model_selection import GridSearchCV, RandomizedSearchCV\n",
    "from sklearn.preprocessing import StandardScaler,MinMaxScaler\n",
    "import numpy as np\n",
    " \n",
    "database = 'TicTacToe' #['bupa1', 'breast-cancer-wisconsin1','pima-indians-diabetes1', 'ionosphere1', 'tic-tac-toe1', 'iris1', 'wine1', 'segmentation1']\n",
    "\n",
    "data = pd.read_csv('../input/tictactoe-endgame-dataset-uci/tic-tac-toe-endgame.csv')\n",
    " "
   ]
  },
  {
   "cell_type": "code",
   "execution_count": 6,
   "id": "285419dd",
   "metadata": {
    "execution": {
     "iopub.execute_input": "2023-02-13T14:39:41.725812Z",
     "iopub.status.busy": "2023-02-13T14:39:41.724881Z",
     "iopub.status.idle": "2023-02-13T14:39:41.736069Z",
     "shell.execute_reply": "2023-02-13T14:39:41.734604Z"
    },
    "id": "Hqmwm8kJj7HL",
    "papermill": {
     "duration": 0.023875,
     "end_time": "2023-02-13T14:39:41.738757",
     "exception": false,
     "start_time": "2023-02-13T14:39:41.714882",
     "status": "completed"
    },
    "tags": []
   },
   "outputs": [],
   "source": [
    "def onehot_encode(df, columns):\n",
    "    df = df.copy()\n",
    "    for column in columns:\n",
    "        dummies = pd.get_dummies(df[column], prefix=column)\n",
    "        df = pd.concat([df, dummies], axis=1)\n",
    "        df = df.drop(column, axis=1)\n",
    "    return df\n",
    "\n",
    "def preprocess_inputs(df):\n",
    "    df = df.copy()\n",
    "    \n",
    "    # Encode label values as numbers\n",
    "    df['V10'] = df['V10'].replace({'negative': 0, 'positive': 1})\n",
    "    \n",
    "    # One-hot encode board space columns\n",
    "    df = onehot_encode(\n",
    "        df,\n",
    "        columns=['V' + str(i) for i in range(1, 10)]\n",
    "    )\n",
    "    \n",
    "    # Split df into X and y\n",
    "    y = df['V10'].copy()\n",
    "    X = df.drop('V10', axis=1).copy()\n",
    "    \n",
    "    # Train-test split\n",
    "   # X_train, X_test, y_train, y_test = train_test_split(X, y, train_size=0.7, random_state=123)\n",
    "    \n",
    "    return X, y"
   ]
  },
  {
   "cell_type": "code",
   "execution_count": 7,
   "id": "7a505e41",
   "metadata": {
    "execution": {
     "iopub.execute_input": "2023-02-13T14:39:41.758202Z",
     "iopub.status.busy": "2023-02-13T14:39:41.757695Z",
     "iopub.status.idle": "2023-02-13T14:39:41.803306Z",
     "shell.execute_reply": "2023-02-13T14:39:41.801833Z"
    },
    "papermill": {
     "duration": 0.059571,
     "end_time": "2023-02-13T14:39:41.806712",
     "exception": false,
     "start_time": "2023-02-13T14:39:41.747141",
     "status": "completed"
    },
    "tags": []
   },
   "outputs": [],
   "source": [
    "X, t = preprocess_inputs(data)"
   ]
  },
  {
   "cell_type": "code",
   "execution_count": 8,
   "id": "db638f47",
   "metadata": {
    "execution": {
     "iopub.execute_input": "2023-02-13T14:39:41.827672Z",
     "iopub.status.busy": "2023-02-13T14:39:41.826903Z",
     "iopub.status.idle": "2023-02-13T14:39:41.841972Z",
     "shell.execute_reply": "2023-02-13T14:39:41.840298Z"
    },
    "id": "xnqtxG_x3FKL",
    "papermill": {
     "duration": 0.029307,
     "end_time": "2023-02-13T14:39:41.845263",
     "exception": false,
     "start_time": "2023-02-13T14:39:41.815956",
     "status": "completed"
    },
    "tags": []
   },
   "outputs": [
    {
     "data": {
      "text/plain": [
       "array([[0, 0, 1, ..., 0, 1, 0],\n",
       "       [0, 0, 1, ..., 0, 1, 0],\n",
       "       [0, 0, 1, ..., 0, 0, 1],\n",
       "       ...,\n",
       "       [0, 1, 0, ..., 0, 0, 1],\n",
       "       [0, 1, 0, ..., 0, 0, 1],\n",
       "       [0, 1, 0, ..., 0, 0, 1]], dtype=uint8)"
      ]
     },
     "execution_count": 8,
     "metadata": {},
     "output_type": "execute_result"
    }
   ],
   "source": [
    "X = np.array(X.values)\n",
    "X"
   ]
  },
  {
   "cell_type": "code",
   "execution_count": null,
   "id": "b5b9fc5a",
   "metadata": {
    "papermill": {
     "duration": 0.008071,
     "end_time": "2023-02-13T14:39:41.862633",
     "exception": false,
     "start_time": "2023-02-13T14:39:41.854562",
     "status": "completed"
    },
    "tags": []
   },
   "outputs": [],
   "source": []
  },
  {
   "cell_type": "code",
   "execution_count": 9,
   "id": "7b745d50",
   "metadata": {
    "execution": {
     "iopub.execute_input": "2023-02-13T14:39:41.882205Z",
     "iopub.status.busy": "2023-02-13T14:39:41.881640Z",
     "iopub.status.idle": "2023-02-13T14:39:41.893782Z",
     "shell.execute_reply": "2023-02-13T14:39:41.892409Z"
    },
    "papermill": {
     "duration": 0.025871,
     "end_time": "2023-02-13T14:39:41.897072",
     "exception": false,
     "start_time": "2023-02-13T14:39:41.871201",
     "status": "completed"
    },
    "tags": []
   },
   "outputs": [
    {
     "data": {
      "text/plain": [
       "array([1, 1, 1, 1, 1, 1, 1, 1, 1, 1, 1, 1, 1, 1, 1, 1, 1, 1, 1, 1, 1, 1,\n",
       "       1, 1, 1, 1, 1, 1, 1, 1, 1, 1, 1, 1, 1, 1, 1, 1, 1, 1, 1, 1, 1, 1,\n",
       "       1, 1, 1, 1, 1, 1, 1, 1, 1, 1, 1, 1, 1, 1, 1, 1, 1, 1, 1, 1, 1, 1,\n",
       "       1, 1, 1, 1, 1, 1, 1, 1, 1, 1, 1, 1, 1, 1, 1, 1, 1, 1, 1, 1, 1, 1,\n",
       "       1, 1, 1, 1, 1, 1, 1, 1, 1, 1, 1, 1, 1, 1, 1, 1, 1, 1, 1, 1, 1, 1,\n",
       "       1, 1, 1, 1, 1, 1, 1, 1, 1, 1, 1, 1, 1, 1, 1, 1, 1, 1, 1, 1, 1, 1,\n",
       "       1, 1, 1, 1, 1, 1, 1, 1, 1, 1, 1, 1, 1, 1, 1, 1, 1, 1, 1, 1, 1, 1,\n",
       "       1, 1, 1, 1, 1, 1, 1, 1, 1, 1, 1, 1, 1, 1, 1, 1, 1, 1, 1, 1, 1, 1,\n",
       "       1, 1, 1, 1, 1, 1, 1, 1, 1, 1, 1, 1, 1, 1, 1, 1, 1, 1, 1, 1, 1, 1,\n",
       "       1, 1, 1, 1, 1, 1, 1, 1, 1, 1, 1, 1, 1, 1, 1, 1, 1, 1, 1, 1, 1, 1,\n",
       "       1, 1, 1, 1, 1, 1, 1, 1, 1, 1, 1, 1, 1, 1, 1, 1, 1, 1, 1, 1, 1, 1,\n",
       "       1, 1, 1, 1, 1, 1, 1, 1, 1, 1, 1, 1, 1, 1, 1, 1, 1, 1, 1, 1, 1, 1,\n",
       "       1, 1, 1, 1, 1, 1, 1, 1, 1, 1, 1, 1, 1, 1, 1, 1, 1, 1, 1, 1, 1, 1,\n",
       "       1, 1, 1, 1, 1, 1, 1, 1, 1, 1, 1, 1, 1, 1, 1, 1, 1, 1, 1, 1, 1, 1,\n",
       "       1, 1, 1, 1, 1, 1, 1, 1, 1, 1, 1, 1, 1, 1, 1, 1, 1, 1, 1, 1, 1, 1,\n",
       "       1, 1, 1, 1, 1, 1, 1, 1, 1, 1, 1, 1, 1, 1, 1, 1, 1, 1, 1, 1, 1, 1,\n",
       "       1, 1, 1, 1, 1, 1, 1, 1, 1, 1, 1, 1, 1, 1, 1, 1, 1, 1, 1, 1, 1, 1,\n",
       "       1, 1, 1, 1, 1, 1, 1, 1, 1, 1, 1, 1, 1, 1, 1, 1, 1, 1, 1, 1, 1, 1,\n",
       "       1, 1, 1, 1, 1, 1, 1, 1, 1, 1, 1, 1, 1, 1, 1, 1, 1, 1, 1, 1, 1, 1,\n",
       "       1, 1, 1, 1, 1, 1, 1, 1, 1, 1, 1, 1, 1, 1, 1, 1, 1, 1, 1, 1, 1, 1,\n",
       "       1, 1, 1, 1, 1, 1, 1, 1, 1, 1, 1, 1, 1, 1, 1, 1, 1, 1, 1, 1, 1, 1,\n",
       "       1, 1, 1, 1, 1, 1, 1, 1, 1, 1, 1, 1, 1, 1, 1, 1, 1, 1, 1, 1, 1, 1,\n",
       "       1, 1, 1, 1, 1, 1, 1, 1, 1, 1, 1, 1, 1, 1, 1, 1, 1, 1, 1, 1, 1, 1,\n",
       "       1, 1, 1, 1, 1, 1, 1, 1, 1, 1, 1, 1, 1, 1, 1, 1, 1, 1, 1, 1, 1, 1,\n",
       "       1, 1, 1, 1, 1, 1, 1, 1, 1, 1, 1, 1, 1, 1, 1, 1, 1, 1, 1, 1, 1, 1,\n",
       "       1, 1, 1, 1, 1, 1, 1, 1, 1, 1, 1, 1, 1, 1, 1, 1, 1, 1, 1, 1, 1, 1,\n",
       "       1, 1, 1, 1, 1, 1, 1, 1, 1, 1, 1, 1, 1, 1, 1, 1, 1, 1, 1, 1, 1, 1,\n",
       "       1, 1, 1, 1, 1, 1, 1, 1, 1, 1, 1, 1, 1, 1, 1, 1, 1, 1, 1, 1, 1, 1,\n",
       "       1, 1, 1, 1, 1, 1, 1, 1, 1, 1, 0, 0, 0, 0, 0, 0, 0, 0, 0, 0, 0, 0,\n",
       "       0, 0, 0, 0, 0, 0, 0, 0, 0, 0, 0, 0, 0, 0, 0, 0, 0, 0, 0, 0, 0, 0,\n",
       "       0, 0, 0, 0, 0, 0, 0, 0, 0, 0, 0, 0, 0, 0, 0, 0, 0, 0, 0, 0, 0, 0,\n",
       "       0, 0, 0, 0, 0, 0, 0, 0, 0, 0, 0, 0, 0, 0, 0, 0, 0, 0, 0, 0, 0, 0,\n",
       "       0, 0, 0, 0, 0, 0, 0, 0, 0, 0, 0, 0, 0, 0, 0, 0, 0, 0, 0, 0, 0, 0,\n",
       "       0, 0, 0, 0, 0, 0, 0, 0, 0, 0, 0, 0, 0, 0, 0, 0, 0, 0, 0, 0, 0, 0,\n",
       "       0, 0, 0, 0, 0, 0, 0, 0, 0, 0, 0, 0, 0, 0, 0, 0, 0, 0, 0, 0, 0, 0,\n",
       "       0, 0, 0, 0, 0, 0, 0, 0, 0, 0, 0, 0, 0, 0, 0, 0, 0, 0, 0, 0, 0, 0,\n",
       "       0, 0, 0, 0, 0, 0, 0, 0, 0, 0, 0, 0, 0, 0, 0, 0, 0, 0, 0, 0, 0, 0,\n",
       "       0, 0, 0, 0, 0, 0, 0, 0, 0, 0, 0, 0, 0, 0, 0, 0, 0, 0, 0, 0, 0, 0,\n",
       "       0, 0, 0, 0, 0, 0, 0, 0, 0, 0, 0, 0, 0, 0, 0, 0, 0, 0, 0, 0, 0, 0,\n",
       "       0, 0, 0, 0, 0, 0, 0, 0, 0, 0, 0, 0, 0, 0, 0, 0, 0, 0, 0, 0, 0, 0,\n",
       "       0, 0, 0, 0, 0, 0, 0, 0, 0, 0, 0, 0, 0, 0, 0, 0, 0, 0, 0, 0, 0, 0,\n",
       "       0, 0, 0, 0, 0, 0, 0, 0, 0, 0, 0, 0, 0, 0, 0, 0, 0, 0, 0, 0, 0, 0,\n",
       "       0, 0, 0, 0, 0, 0, 0, 0, 0, 0, 0, 0, 0, 0, 0, 0, 0, 0, 0, 0, 0, 0,\n",
       "       0, 0, 0, 0, 0, 0, 0, 0, 0, 0, 0, 0])"
      ]
     },
     "execution_count": 9,
     "metadata": {},
     "output_type": "execute_result"
    }
   ],
   "source": [
    "t = np.array(t.values)\n",
    "t"
   ]
  },
  {
   "cell_type": "code",
   "execution_count": 10,
   "id": "ed0c3ee0",
   "metadata": {
    "execution": {
     "iopub.execute_input": "2023-02-13T14:39:41.916955Z",
     "iopub.status.busy": "2023-02-13T14:39:41.916387Z",
     "iopub.status.idle": "2023-02-13T14:39:41.928566Z",
     "shell.execute_reply": "2023-02-13T14:39:41.927145Z"
    },
    "papermill": {
     "duration": 0.025589,
     "end_time": "2023-02-13T14:39:41.931441",
     "exception": false,
     "start_time": "2023-02-13T14:39:41.905852",
     "status": "completed"
    },
    "tags": []
   },
   "outputs": [
    {
     "data": {
      "text/plain": [
       "array([2, 2, 2, 2, 2, 2, 2, 2, 2, 2, 2, 2, 2, 2, 2, 2, 2, 2, 2, 2, 2, 2,\n",
       "       2, 2, 2, 2, 2, 2, 2, 2, 2, 2, 2, 2, 2, 2, 2, 2, 2, 2, 2, 2, 2, 2,\n",
       "       2, 2, 2, 2, 2, 2, 2, 2, 2, 2, 2, 2, 2, 2, 2, 2, 2, 2, 2, 2, 2, 2,\n",
       "       2, 2, 2, 2, 2, 2, 2, 2, 2, 2, 2, 2, 2, 2, 2, 2, 2, 2, 2, 2, 2, 2,\n",
       "       2, 2, 2, 2, 2, 2, 2, 2, 2, 2, 2, 2, 2, 2, 2, 2, 2, 2, 2, 2, 2, 2,\n",
       "       2, 2, 2, 2, 2, 2, 2, 2, 2, 2, 2, 2, 2, 2, 2, 2, 2, 2, 2, 2, 2, 2,\n",
       "       2, 2, 2, 2, 2, 2, 2, 2, 2, 2, 2, 2, 2, 2, 2, 2, 2, 2, 2, 2, 2, 2,\n",
       "       2, 2, 2, 2, 2, 2, 2, 2, 2, 2, 2, 2, 2, 2, 2, 2, 2, 2, 2, 2, 2, 2,\n",
       "       2, 2, 2, 2, 2, 2, 2, 2, 2, 2, 2, 2, 2, 2, 2, 2, 2, 2, 2, 2, 2, 2,\n",
       "       2, 2, 2, 2, 2, 2, 2, 2, 2, 2, 2, 2, 2, 2, 2, 2, 2, 2, 2, 2, 2, 2,\n",
       "       2, 2, 2, 2, 2, 2, 2, 2, 2, 2, 2, 2, 2, 2, 2, 2, 2, 2, 2, 2, 2, 2,\n",
       "       2, 2, 2, 2, 2, 2, 2, 2, 2, 2, 2, 2, 2, 2, 2, 2, 2, 2, 2, 2, 2, 2,\n",
       "       2, 2, 2, 2, 2, 2, 2, 2, 2, 2, 2, 2, 2, 2, 2, 2, 2, 2, 2, 2, 2, 2,\n",
       "       2, 2, 2, 2, 2, 2, 2, 2, 2, 2, 2, 2, 2, 2, 2, 2, 2, 2, 2, 2, 2, 2,\n",
       "       2, 2, 2, 2, 2, 2, 2, 2, 2, 2, 2, 2, 2, 2, 2, 2, 2, 2, 2, 2, 2, 2,\n",
       "       2, 2, 2, 2, 2, 2, 2, 2, 2, 2, 2, 2, 2, 2, 2, 2, 2, 2, 2, 2, 2, 2,\n",
       "       2, 2, 2, 2, 2, 2, 2, 2, 2, 2, 2, 2, 2, 2, 2, 2, 2, 2, 2, 2, 2, 2,\n",
       "       2, 2, 2, 2, 2, 2, 2, 2, 2, 2, 2, 2, 2, 2, 2, 2, 2, 2, 2, 2, 2, 2,\n",
       "       2, 2, 2, 2, 2, 2, 2, 2, 2, 2, 2, 2, 2, 2, 2, 2, 2, 2, 2, 2, 2, 2,\n",
       "       2, 2, 2, 2, 2, 2, 2, 2, 2, 2, 2, 2, 2, 2, 2, 2, 2, 2, 2, 2, 2, 2,\n",
       "       2, 2, 2, 2, 2, 2, 2, 2, 2, 2, 2, 2, 2, 2, 2, 2, 2, 2, 2, 2, 2, 2,\n",
       "       2, 2, 2, 2, 2, 2, 2, 2, 2, 2, 2, 2, 2, 2, 2, 2, 2, 2, 2, 2, 2, 2,\n",
       "       2, 2, 2, 2, 2, 2, 2, 2, 2, 2, 2, 2, 2, 2, 2, 2, 2, 2, 2, 2, 2, 2,\n",
       "       2, 2, 2, 2, 2, 2, 2, 2, 2, 2, 2, 2, 2, 2, 2, 2, 2, 2, 2, 2, 2, 2,\n",
       "       2, 2, 2, 2, 2, 2, 2, 2, 2, 2, 2, 2, 2, 2, 2, 2, 2, 2, 2, 2, 2, 2,\n",
       "       2, 2, 2, 2, 2, 2, 2, 2, 2, 2, 2, 2, 2, 2, 2, 2, 2, 2, 2, 2, 2, 2,\n",
       "       2, 2, 2, 2, 2, 2, 2, 2, 2, 2, 2, 2, 2, 2, 2, 2, 2, 2, 2, 2, 2, 2,\n",
       "       2, 2, 2, 2, 2, 2, 2, 2, 2, 2, 2, 2, 2, 2, 2, 2, 2, 2, 2, 2, 2, 2,\n",
       "       2, 2, 2, 2, 2, 2, 2, 2, 2, 2, 1, 1, 1, 1, 1, 1, 1, 1, 1, 1, 1, 1,\n",
       "       1, 1, 1, 1, 1, 1, 1, 1, 1, 1, 1, 1, 1, 1, 1, 1, 1, 1, 1, 1, 1, 1,\n",
       "       1, 1, 1, 1, 1, 1, 1, 1, 1, 1, 1, 1, 1, 1, 1, 1, 1, 1, 1, 1, 1, 1,\n",
       "       1, 1, 1, 1, 1, 1, 1, 1, 1, 1, 1, 1, 1, 1, 1, 1, 1, 1, 1, 1, 1, 1,\n",
       "       1, 1, 1, 1, 1, 1, 1, 1, 1, 1, 1, 1, 1, 1, 1, 1, 1, 1, 1, 1, 1, 1,\n",
       "       1, 1, 1, 1, 1, 1, 1, 1, 1, 1, 1, 1, 1, 1, 1, 1, 1, 1, 1, 1, 1, 1,\n",
       "       1, 1, 1, 1, 1, 1, 1, 1, 1, 1, 1, 1, 1, 1, 1, 1, 1, 1, 1, 1, 1, 1,\n",
       "       1, 1, 1, 1, 1, 1, 1, 1, 1, 1, 1, 1, 1, 1, 1, 1, 1, 1, 1, 1, 1, 1,\n",
       "       1, 1, 1, 1, 1, 1, 1, 1, 1, 1, 1, 1, 1, 1, 1, 1, 1, 1, 1, 1, 1, 1,\n",
       "       1, 1, 1, 1, 1, 1, 1, 1, 1, 1, 1, 1, 1, 1, 1, 1, 1, 1, 1, 1, 1, 1,\n",
       "       1, 1, 1, 1, 1, 1, 1, 1, 1, 1, 1, 1, 1, 1, 1, 1, 1, 1, 1, 1, 1, 1,\n",
       "       1, 1, 1, 1, 1, 1, 1, 1, 1, 1, 1, 1, 1, 1, 1, 1, 1, 1, 1, 1, 1, 1,\n",
       "       1, 1, 1, 1, 1, 1, 1, 1, 1, 1, 1, 1, 1, 1, 1, 1, 1, 1, 1, 1, 1, 1,\n",
       "       1, 1, 1, 1, 1, 1, 1, 1, 1, 1, 1, 1, 1, 1, 1, 1, 1, 1, 1, 1, 1, 1,\n",
       "       1, 1, 1, 1, 1, 1, 1, 1, 1, 1, 1, 1, 1, 1, 1, 1, 1, 1, 1, 1, 1, 1,\n",
       "       1, 1, 1, 1, 1, 1, 1, 1, 1, 1, 1, 1])"
      ]
     },
     "execution_count": 10,
     "metadata": {},
     "output_type": "execute_result"
    }
   ],
   "source": [
    "t =t+1\n",
    "t"
   ]
  },
  {
   "cell_type": "markdown",
   "id": "1f1af770",
   "metadata": {
    "id": "avDA2pJIJgsf",
    "papermill": {
     "duration": 0.008354,
     "end_time": "2023-02-13T14:39:41.948927",
     "exception": false,
     "start_time": "2023-02-13T14:39:41.940573",
     "status": "completed"
    },
    "tags": []
   },
   "source": [
    "# Labels Generation  "
   ]
  },
  {
   "cell_type": "code",
   "execution_count": 11,
   "id": "c48752ff",
   "metadata": {
    "execution": {
     "iopub.execute_input": "2023-02-13T14:39:41.969338Z",
     "iopub.status.busy": "2023-02-13T14:39:41.968782Z",
     "iopub.status.idle": "2023-02-13T14:39:42.285757Z",
     "shell.execute_reply": "2023-02-13T14:39:42.284490Z"
    },
    "id": "BupvL7KSocvu",
    "papermill": {
     "duration": 0.331159,
     "end_time": "2023-02-13T14:39:42.288989",
     "exception": false,
     "start_time": "2023-02-13T14:39:41.957830",
     "status": "completed"
    },
    "tags": []
   },
   "outputs": [],
   "source": [
    "import random\n",
    "import warnings\n",
    "import numpy as np\n",
    "#import climin\n",
    "from functools import partial\n",
    "import matplotlib.pyplot as plt\n",
    "from sklearn.preprocessing import StandardScaler\n",
    "from sklearn.cluster import KMeans\n",
    "import matplotlib.pyplot as plt\n",
    "from sklearn.manifold import TSNE\n",
    "\n",
    "#Defining the Sigmoid function and Softmax function\n",
    "def Sigmoid(f_r):\n",
    "    lam_r = 1/(1 + np.exp(-f_r))\n",
    "    return lam_r\n",
    "\n",
    "def MAjVot(Y, K):\n",
    "    N,R = Y.shape\n",
    "    Yhat = np.zeros((N,1))\n",
    "    for n in range(N):\n",
    "        votes = np.zeros((K,1))\n",
    "        for r in range(R):\n",
    "            for k in range(K):\n",
    "                if Y[n,r] == k+1:\n",
    "                    votes[k] = votes[k]+1\n",
    "        Yhat[n] = np.argmax(votes) + 1\n",
    "    return Yhat\n",
    "\n",
    "\n",
    "def  MA_Clas_Gen(Xtrain,ytrain,R,NrP):\n",
    "\n",
    "    N = len(ytrain)\n",
    "    K = len(np.unique(ytrain))\n",
    "    Kn = np.unique(ytrain)\n",
    "    aux = 0\n",
    "    A = np.zeros((K,1))\n",
    "    for k in Kn:\n",
    "        A[aux] = (ytrain == k).sum()\n",
    "        aux = aux + 1\n",
    "    per = np.min(A)\n",
    "    if N < 25000:\n",
    "        Xtrain = TSNE(n_components=1,perplexity=per/2).fit_transform(Xtrain)\n",
    "    else:\n",
    "        Xtrain = np.sum(Xtrain,1)\n",
    "    # Xtrain = Xtrain-Xtrain.min()\n",
    "    # Xtrain = Xtrain/Xtrain.max()\n",
    "    #ytrain = y\n",
    "    # scaler = StandardScaler()\n",
    "    # scalerY = scaler.fit(y)\n",
    "    # ytrain = scaler.fit_transform(y)\n",
    "\n",
    "    \n",
    "    #miny = y.min()\n",
    "    #ytrain = y-miny\n",
    "    #maxy = ytrain.max()\n",
    "    #ytrain = ytrain/maxy\n",
    "  \n",
    "    # Xtrain = np.sum(Xtrain, axis=1)\n",
    "    Xtrain = Xtrain - Xtrain.min()\n",
    "    #print(Xtrain.min(), Xtrain.max())\n",
    "    Xtrain = Xtrain/Xtrain.max()\n",
    "    Xtrain = Xtrain.reshape((N,1))\n",
    "    yprueba = np.ones((N,1))\n",
    "    \n",
    "    \n",
    "    u_q = np.empty((Xtrain.shape[0],3))\n",
    "    u_q[:,0,None] = 4.5*np.cos(2*np.pi*Xtrain + 1.5*np.pi) - \\\n",
    "                               3*np.sin(4.3*np.pi*Xtrain + 0.3*np.pi)\n",
    "                    \n",
    "    u_q[:,1,None] = 4.5*np.cos(1.5*np.pi*Xtrain + 0.5*np.pi) + \\\n",
    "                       5*np.sin(3*np.pi*Xtrain + 1.5*np.pi)\n",
    "    \n",
    "    u_q[:,2,None] = 1\n",
    "    \n",
    "    W = []\n",
    "    # q=1\n",
    "    Wq1 = np.array(([[0.4],[0.7],[-0.5],[0],[-0.7]]))\n",
    "    W.append(Wq1)\n",
    "    # q=2\n",
    "    Wq2 = np.array(([[0.4],[-1.0],[-0.1],[-0.8],[1.0]]))\n",
    "    W.append(Wq2)\n",
    "    Wq3 = np.array(([[3.1],[-1.8],[-0.6],[-1.2],[1.0]]))\n",
    "    W.append(Wq3)\n",
    "\n",
    "    \n",
    "    F_r = []\n",
    "    Lam_r = []\n",
    "    for r in range(R):\n",
    "        f_r = np.zeros((Xtrain.shape[0], 1))\n",
    "        # rho_r = np.zeros((Xtrain.shape[0], 1))\n",
    "        for q in range(3):\n",
    "            f_r += W[q][r].T*u_q[:,q,None]\n",
    "        F_r.append(f_r)\n",
    "        lam_r = Sigmoid(f_r)\n",
    "        lam_r[lam_r>0.5] = 1\n",
    "        lam_r[lam_r<=0.5] = 0\n",
    "        Lam_r.append(lam_r)\n",
    "    plt.plot(Xtrain,Lam_r[2],'rx')\n",
    "    plt.show()\n",
    "    seed = 0\n",
    "    np.random.seed(seed)\n",
    "    Ytrain = np.ones((N, R))\n",
    "    for r in range(R):\n",
    "        aux = ytrain.copy()\n",
    "        for n in range(N):\n",
    "            if Lam_r[r][n] == 0:\n",
    "                labels = np.arange(1, K+1)\n",
    "                a = np.where(labels==ytrain[n])\n",
    "                labels = np.delete(labels, a)\n",
    "                idxlabels = np.random.permutation(K-1)\n",
    "                aux[n] = labels[idxlabels[0]]         \n",
    "        Ytrain[:,r] = aux.flatten()\n",
    "        \n",
    "   # Ytrain = (Ytrain*maxy) + miny\n",
    "        \n",
    "    iAnn = np.zeros((N, R), dtype=int) # this indicates if the annotator r labels the nth sample.\n",
    "    Nr = np.ones((R), dtype=int)*int(np.floor(N*NrP))  \n",
    "    for r in range(R):\n",
    "        if r < R-1:\n",
    "            indexR = np.random.permutation(range(N))[:Nr[r]]\n",
    "            iAnn[indexR,r] = 1\n",
    "        else:\n",
    "            iSimm = np.sum(iAnn, axis=1)\n",
    "            idxZero = np.asarray([i for (i, val) in enumerate(iSimm) if val == 0])\n",
    "            Nzeros = idxZero.shape[0]\n",
    "            idx2Choose = np.arange(N)\n",
    "            if Nzeros == 0:\n",
    "                indexR = np.random.permutation(range(N))[:Nr[r]]\n",
    "                iAnn[indexR,r] = 1\n",
    "            else:\n",
    "                idx2Choose = np.delete(idx2Choose, idxZero)\n",
    "                N2chose = idx2Choose.shape[0]\n",
    "                idxNoZero = np.random.permutation(N2chose)[:(Nr[r] - Nzeros)]\n",
    "                idxTot = np.concatenate((idxZero, idx2Choose[idxNoZero]))\n",
    "                iAnn[idxTot,r] = 1\n",
    "    \n",
    "    # Now, we verify that all the samples were labeled at least once\n",
    "    Nr = (np.sum(iAnn,0))\n",
    "    iSimm = np.sum(iAnn, axis=1)\n",
    "    if np.asarray([i for (i, val) in enumerate(iSimm) if val == 0]).sum() == 0:\n",
    "        ValueError(\"all the samples must be labeled at least once\")\n",
    "\n",
    "    # Finally, if iAnn=0 we assign a reference value to indicate a missing value\n",
    "    Vref = -1e-20\n",
    "    for r in range(R):\n",
    "        Ytrain[iAnn[:,r] == 0, r] = Vref \n",
    "\n",
    "    return Ytrain, iAnn, Lam_r\n",
    "\n",
    "\n",
    "def CrossVal(X, pp, Nk):\n",
    "    N = X.shape[0]\n",
    "    Ntr = int(N*pp)\n",
    "    Nte = N - Ntr\n",
    "    idxtr = np.zeros((Ntr,Nk))\n",
    "    idxte = np.zeros((Nte,Nk))\n",
    "    \n",
    "    for i in range(Nk):\n",
    "        index = np.random.permutation(range(N))\n",
    "        idxtr[:,i] = index[:Ntr]\n",
    "        idxte[:,i] = index[Ntr:]\n",
    "        \n",
    "    return idxtr, idxte\n",
    "    \n",
    "    \n",
    "        \n"
   ]
  },
  {
   "cell_type": "code",
   "execution_count": 12,
   "id": "11968c99",
   "metadata": {
    "execution": {
     "iopub.execute_input": "2023-02-13T14:39:42.309660Z",
     "iopub.status.busy": "2023-02-13T14:39:42.309190Z",
     "iopub.status.idle": "2023-02-13T14:39:47.510118Z",
     "shell.execute_reply": "2023-02-13T14:39:47.508756Z"
    },
    "id": "tK8MHObF3FKM",
    "outputId": "8f128bab-9644-4526-d91c-a3eb4c94fc10",
    "papermill": {
     "duration": 5.215113,
     "end_time": "2023-02-13T14:39:47.513883",
     "exception": false,
     "start_time": "2023-02-13T14:39:42.298770",
     "status": "completed"
    },
    "tags": []
   },
   "outputs": [
    {
     "name": "stderr",
     "output_type": "stream",
     "text": [
      "/opt/conda/lib/python3.7/site-packages/sklearn/manifold/_t_sne.py:783: FutureWarning: The default initialization in TSNE will change from 'random' to 'pca' in 1.2.\n",
      "  FutureWarning,\n",
      "/opt/conda/lib/python3.7/site-packages/sklearn/manifold/_t_sne.py:793: FutureWarning: The default learning rate in TSNE will change from 200.0 to 'auto' in 1.2.\n",
      "  FutureWarning,\n"
     ]
    },
    {
     "data": {
      "image/png": "[encoded data removed]",
      "text/plain": [
       "<Figure size 432x288 with 1 Axes>"
      ]
     },
     "metadata": {
      "needs_background": "light"
     },
     "output_type": "display_data"
    }
   ],
   "source": [
    "Y, iAnn, Lam_r = MA_Clas_Gen(X ,t, R=5, NrP=1)"
   ]
  },
  {
   "cell_type": "code",
   "execution_count": 13,
   "id": "3625c3f2",
   "metadata": {
    "execution": {
     "iopub.execute_input": "2023-02-13T14:39:47.539853Z",
     "iopub.status.busy": "2023-02-13T14:39:47.539309Z",
     "iopub.status.idle": "2023-02-13T14:39:47.546924Z",
     "shell.execute_reply": "2023-02-13T14:39:47.545302Z"
    },
    "id": "v0Y8m7E-3FKM",
    "papermill": {
     "duration": 0.024674,
     "end_time": "2023-02-13T14:39:47.550470",
     "exception": false,
     "start_time": "2023-02-13T14:39:47.525796",
     "status": "completed"
    },
    "tags": []
   },
   "outputs": [],
   "source": [
    "  Y = Y - 1\n",
    "  t = t - 1\n",
    "  #YMA = YMA-1"
   ]
  },
  {
   "cell_type": "code",
   "execution_count": 14,
   "id": "b3a9a046",
   "metadata": {
    "execution": {
     "iopub.execute_input": "2023-02-13T14:39:47.573424Z",
     "iopub.status.busy": "2023-02-13T14:39:47.572668Z",
     "iopub.status.idle": "2023-02-13T14:39:48.596161Z",
     "shell.execute_reply": "2023-02-13T14:39:48.594412Z"
    },
    "papermill": {
     "duration": 1.039147,
     "end_time": "2023-02-13T14:39:48.599888",
     "exception": false,
     "start_time": "2023-02-13T14:39:47.560741",
     "status": "completed"
    },
    "tags": []
   },
   "outputs": [
    {
     "name": "stdout",
     "output_type": "stream",
     "text": [
      "annotator 1\n",
      "              precision    recall  f1-score   support\n",
      "\n",
      "           0       0.72      0.89      0.80       332\n",
      "           1       0.93      0.82      0.87       626\n",
      "\n",
      "    accuracy                           0.84       958\n",
      "   macro avg       0.83      0.85      0.84       958\n",
      "weighted avg       0.86      0.84      0.85       958\n",
      "\n",
      "annotator 2\n",
      "              precision    recall  f1-score   support\n",
      "\n",
      "           0       0.44      0.70      0.54       332\n",
      "           1       0.77      0.53      0.63       626\n",
      "\n",
      "    accuracy                           0.59       958\n",
      "   macro avg       0.61      0.62      0.59       958\n",
      "weighted avg       0.66      0.59      0.60       958\n",
      "\n",
      "annotator 3\n",
      "              precision    recall  f1-score   support\n",
      "\n",
      "           0       0.46      0.51      0.48       332\n",
      "           1       0.72      0.68      0.70       626\n",
      "\n",
      "    accuracy                           0.62       958\n",
      "   macro avg       0.59      0.59      0.59       958\n",
      "weighted avg       0.63      0.62      0.63       958\n",
      "\n",
      "annotator 4\n",
      "              precision    recall  f1-score   support\n",
      "\n",
      "           0       0.39      0.53      0.45       332\n",
      "           1       0.69      0.56      0.62       626\n",
      "\n",
      "    accuracy                           0.55       958\n",
      "   macro avg       0.54      0.54      0.53       958\n",
      "weighted avg       0.59      0.55      0.56       958\n",
      "\n",
      "annotator 5\n",
      "              precision    recall  f1-score   support\n",
      "\n",
      "           0       0.12      0.19      0.14       332\n",
      "           1       0.36      0.25      0.29       626\n",
      "\n",
      "    accuracy                           0.23       958\n",
      "   macro avg       0.24      0.22      0.22       958\n",
      "weighted avg       0.28      0.23      0.24       958\n",
      "\n"
     ]
    },
    {
     "data": {
      "image/png": "[encoded data removed]",
      "text/plain": [
       "<Figure size 432x288 with 1 Axes>"
      ]
     },
     "metadata": {
      "needs_background": "light"
     },
     "output_type": "display_data"
    },
    {
     "data": {
      "image/png": "[encoded data removed]",
      "text/plain": [
       "<Figure size 432x288 with 1 Axes>"
      ]
     },
     "metadata": {
      "needs_background": "light"
     },
     "output_type": "display_data"
    },
    {
     "data": {
      "image/png": "[encoded data removed]",
      "text/plain": [
       "<Figure size 432x288 with 1 Axes>"
      ]
     },
     "metadata": {
      "needs_background": "light"
     },
     "output_type": "display_data"
    },
    {
     "data": {
      "image/png": "[encoded data removed]",
      "text/plain": [
       "<Figure size 432x288 with 1 Axes>"
      ]
     },
     "metadata": {
      "needs_background": "light"
     },
     "output_type": "display_data"
    },
    {
     "data": {
      "image/png": "[encoded data removed]",
      "text/plain": [
       "<Figure size 432x288 with 1 Axes>"
      ]
     },
     "metadata": {
      "needs_background": "light"
     },
     "output_type": "display_data"
    }
   ],
   "source": [
    "from sklearn.metrics import classification_report\n",
    "for i in range(Y.shape[1]):\n",
    "    print('annotator',i+1)\n",
    "    print(classification_report(t,Y[:,i]))\n",
    "    unique, counts = np.unique(Y[:,i], return_counts=True)\n",
    "    plt.figure()\n",
    "    plt.bar(unique, counts)\n",
    "    #     unique, counts = np.unique(Y_test[5], return_counts=True)\n",
    "    #     plt.bar(unique, counts)\n",
    "\n",
    "    plt.title('Class Frequency for Y_true')\n",
    "    plt.xlabel('Class')\n",
    "    plt.ylabel('Frequency')"
   ]
  },
  {
   "cell_type": "markdown",
   "id": "2c2d589b",
   "metadata": {
    "id": "uudDcV4wHiuI",
    "papermill": {
     "duration": 0.010935,
     "end_time": "2023-02-13T14:39:48.622463",
     "exception": false,
     "start_time": "2023-02-13T14:39:48.611528",
     "status": "completed"
    },
    "tags": []
   },
   "source": [
    "# Split data"
   ]
  },
  {
   "cell_type": "code",
   "execution_count": 15,
   "id": "265321a4",
   "metadata": {
    "execution": {
     "iopub.execute_input": "2023-02-13T14:39:48.648392Z",
     "iopub.status.busy": "2023-02-13T14:39:48.647361Z",
     "iopub.status.idle": "2023-02-13T14:39:48.661816Z",
     "shell.execute_reply": "2023-02-13T14:39:48.660645Z"
    },
    "id": "QCxEhJv_3FKN",
    "outputId": "20cf4b24-fde3-4b21-f26a-2809af8f2c5d",
    "papermill": {
     "duration": 0.031562,
     "end_time": "2023-02-13T14:39:48.665059",
     "exception": false,
     "start_time": "2023-02-13T14:39:48.633497",
     "status": "completed"
    },
    "tags": []
   },
   "outputs": [
    {
     "name": "stdout",
     "output_type": "stream",
     "text": [
      "[246 188 392 518 854 291 802 164 674 861 863 606 138   7 203 525 204 770\n",
      " 343 185 591 663 774 914 270 455 900 161 261 353 396 260 210 524 752 147\n",
      " 605 907 925 363 453 316 735 566 883 818 568 318 684  85 267 370 252 773\n",
      " 789 683 376 660 715 565 878   5 677 571 167  41 184 200 272 814 732 893\n",
      " 731 719 458 689  48 795 131 701 172 775 195 955  35 832 613 134 885 426\n",
      "   4 753 478 415 381 650 399 430  50 888 882 617 328 560 280 227 274 388\n",
      " 546 598  57 687 926 338 417  52 279 913 303  55 384  28 336 314 145 758\n",
      " 103 114 500 706 345 811 512  54 117 619 171 462 348 221  31 444 610  36\n",
      " 804 727 421 643 844 327 100 884 897 162 644 275 483 809 892 738 760  78\n",
      " 463 659 306  79 177 369 310 904 351 346 229  91 170 920  90  75 372 929\n",
      " 299 855 521 874 273 859 239 898 694 236 678 209 335 196 648 776  13  74\n",
      " 889 249 461  59 690 456 437 151 567  11 858 769 856 285 692 733  95 797\n",
      " 623 833 754 798 726 877 793 269 368 903 387 739 266 551 235 317 729 182\n",
      " 374 666 107 482  97 767 538  43 908 944 781 226 156 447 953 805 352 416\n",
      " 825 927 662 102 710 389 641 810 918 294 298 931 237 397 425 875 849 896\n",
      " 693 240 947 725 561 178 699 243 548 202 545 230 166 624 724 263 300 232]\n",
      "(670, 27) (670, 5) (670, 1)\n"
     ]
    }
   ],
   "source": [
    "import numpy.matlib\n",
    "from sklearn.model_selection import  StratifiedShuffleSplit, ShuffleSplit\n",
    "Ns = 1\n",
    "ss = ShuffleSplit(n_splits=Ns, test_size=0.3, random_state =123)\n",
    "for train_index, test_index in ss.split(X):\n",
    "    print(test_index)\n",
    "    X_train, X_test,Y_train,Y_test = X[train_index,:], X[test_index,:],Y[train_index,:], Y[test_index,:]\n",
    "    Y_true_train, Y_true_test = t[train_index].reshape(-1,1), t[test_index].reshape(-1,1)\n",
    "print(X_train.shape, Y_train.shape, Y_true_train.shape)"
   ]
  },
  {
   "cell_type": "markdown",
   "id": "b9ea0d38",
   "metadata": {
    "id": "kgDMRggXHo0X",
    "papermill": {
     "duration": 0.010964,
     "end_time": "2023-02-13T14:39:48.687601",
     "exception": false,
     "start_time": "2023-02-13T14:39:48.676637",
     "status": "completed"
    },
    "tags": []
   },
   "source": [
    "# Apply MinMaxScaler"
   ]
  },
  {
   "cell_type": "code",
   "execution_count": 16,
   "id": "f9691579",
   "metadata": {
    "execution": {
     "iopub.execute_input": "2023-02-13T14:39:48.714837Z",
     "iopub.status.busy": "2023-02-13T14:39:48.713887Z",
     "iopub.status.idle": "2023-02-13T14:39:48.721566Z",
     "shell.execute_reply": "2023-02-13T14:39:48.720209Z"
    },
    "id": "33XT7bGs3FKN",
    "papermill": {
     "duration": 0.024213,
     "end_time": "2023-02-13T14:39:48.724700",
     "exception": false,
     "start_time": "2023-02-13T14:39:48.700487",
     "status": "completed"
    },
    "tags": []
   },
   "outputs": [],
   "source": [
    "scaler = MinMaxScaler()\n",
    "scaler.fit(X_train)\n",
    "X_train = scaler.transform(X_train)\n",
    "X_test = scaler.transform(X_test)"
   ]
  },
  {
   "cell_type": "code",
   "execution_count": 17,
   "id": "359fc62d",
   "metadata": {
    "execution": {
     "iopub.execute_input": "2023-02-13T14:39:48.750052Z",
     "iopub.status.busy": "2023-02-13T14:39:48.748811Z",
     "iopub.status.idle": "2023-02-13T14:39:48.759273Z",
     "shell.execute_reply": "2023-02-13T14:39:48.757723Z"
    },
    "id": "8JB57s89xbR3",
    "outputId": "5f7b5561-3e45-498d-9117-bf91a63d2fb9",
    "papermill": {
     "duration": 0.025793,
     "end_time": "2023-02-13T14:39:48.761916",
     "exception": false,
     "start_time": "2023-02-13T14:39:48.736123",
     "status": "completed"
    },
    "tags": []
   },
   "outputs": [
    {
     "data": {
      "text/plain": [
       "2"
      ]
     },
     "execution_count": 17,
     "metadata": {},
     "output_type": "execute_result"
    }
   ],
   "source": [
    "len(np.unique(Y_test))"
   ]
  },
  {
   "cell_type": "code",
   "execution_count": 18,
   "id": "821f8dc0",
   "metadata": {
    "execution": {
     "iopub.execute_input": "2023-02-13T14:39:48.788172Z",
     "iopub.status.busy": "2023-02-13T14:39:48.787112Z",
     "iopub.status.idle": "2023-02-13T14:39:48.794007Z",
     "shell.execute_reply": "2023-02-13T14:39:48.792751Z"
    },
    "id": "Ce-Lhs1K3FKO",
    "papermill": {
     "duration": 0.023322,
     "end_time": "2023-02-13T14:39:48.797070",
     "exception": false,
     "start_time": "2023-02-13T14:39:48.773748",
     "status": "completed"
    },
    "tags": []
   },
   "outputs": [],
   "source": [
    "#testing PRI as ground truth -> repeat true labels as multiple annotators\n",
    "Y_true_train_K = np.matlib.repmat(Y_true_train,1, Y_train.shape[1])#testing MA as classifier\n",
    "#print(X_train.shape,Y_true_train_K.shape)\n",
    "# Y_train_one_hot_targets = tf.one_hot(tf.cast(Y_train , tf.int32), len(np.unique(Y_true_test)), axis = 1, dtype=tf.int32)\n",
    "# Y_train_one_hot_targets.shape"
   ]
  },
  {
   "cell_type": "markdown",
   "id": "bb0fdcc6",
   "metadata": {
    "id": "pPoaMuiXH-Zm",
    "papermill": {
     "duration": 0.010834,
     "end_time": "2023-02-13T14:39:48.819154",
     "exception": false,
     "start_time": "2023-02-13T14:39:48.808320",
     "status": "completed"
    },
    "tags": []
   },
   "source": [
    "# Testing the Class "
   ]
  },
  {
   "cell_type": "code",
   "execution_count": 19,
   "id": "8b8ca2de",
   "metadata": {
    "execution": {
     "iopub.execute_input": "2023-02-13T14:39:48.843887Z",
     "iopub.status.busy": "2023-02-13T14:39:48.842963Z",
     "iopub.status.idle": "2023-02-13T14:41:48.358108Z",
     "shell.execute_reply": "2023-02-13T14:41:48.356478Z"
    },
    "papermill": {
     "duration": 119.531294,
     "end_time": "2023-02-13T14:41:48.361453",
     "exception": false,
     "start_time": "2023-02-13T14:39:48.830159",
     "status": "completed"
    },
    "tags": []
   },
   "outputs": [
    {
     "name": "stdout",
     "output_type": "stream",
     "text": [
      "iteration: 0\n"
     ]
    },
    {
     "name": "stderr",
     "output_type": "stream",
     "text": [
      "2023-02-13 14:39:49.255302: I tensorflow/core/common_runtime/process_util.cc:146] Creating new thread pool with default inter op setting: 2. Tune using inter_op_parallelism_threads for best performance.\n",
      "2023-02-13 14:39:49.989861: I tensorflow/compiler/mlir/mlir_graph_optimization_pass.cc:185] None of the MLIR Optimization Passes are enabled (registered 2)\n"
     ]
    },
    {
     "data": {
      "image/png": "[encoded data removed]",
      "text/plain": [
       "<Figure size 576x360 with 1 Axes>"
      ]
     },
     "metadata": {
      "needs_background": "light"
     },
     "output_type": "display_data"
    },
    {
     "name": "stdout",
     "output_type": "stream",
     "text": [
      "iteration: 1\n"
     ]
    },
    {
     "data": {
      "image/png": "[encoded data removed]",
      "text/plain": [
       "<Figure size 576x360 with 1 Axes>"
      ]
     },
     "metadata": {
      "needs_background": "light"
     },
     "output_type": "display_data"
    },
    {
     "name": "stdout",
     "output_type": "stream",
     "text": [
      "iteration: 2\n"
     ]
    },
    {
     "data": {
      "image/png": "[encoded data removed]",
      "text/plain": [
       "<Figure size 576x360 with 1 Axes>"
      ]
     },
     "metadata": {
      "needs_background": "light"
     },
     "output_type": "display_data"
    },
    {
     "name": "stdout",
     "output_type": "stream",
     "text": [
      "iteration: 3\n"
     ]
    },
    {
     "data": {
      "image/png": "[encoded data removed]",
      "text/plain": [
       "<Figure size 576x360 with 1 Axes>"
      ]
     },
     "metadata": {
      "needs_background": "light"
     },
     "output_type": "display_data"
    },
    {
     "name": "stdout",
     "output_type": "stream",
     "text": [
      "iteration: 4\n"
     ]
    },
    {
     "data": {
      "image/png": "[encoded data removed]",
      "text/plain": [
       "<Figure size 576x360 with 1 Axes>"
      ]
     },
     "metadata": {
      "needs_background": "light"
     },
     "output_type": "display_data"
    },
    {
     "name": "stdout",
     "output_type": "stream",
     "text": [
      "iteration: 5\n"
     ]
    },
    {
     "data": {
      "image/png": "[encoded data removed]",
      "text/plain": [
       "<Figure size 576x360 with 1 Axes>"
      ]
     },
     "metadata": {
      "needs_background": "light"
     },
     "output_type": "display_data"
    },
    {
     "name": "stdout",
     "output_type": "stream",
     "text": [
      "iteration: 6\n"
     ]
    },
    {
     "data": {
      "image/png": "[encoded data removed]",
      "text/plain": [
       "<Figure size 576x360 with 1 Axes>"
      ]
     },
     "metadata": {
      "needs_background": "light"
     },
     "output_type": "display_data"
    },
    {
     "name": "stdout",
     "output_type": "stream",
     "text": [
      "iteration: 7\n"
     ]
    },
    {
     "data": {
      "image/png": "[encoded data removed]",
      "text/plain": [
       "<Figure size 576x360 with 1 Axes>"
      ]
     },
     "metadata": {
      "needs_background": "light"
     },
     "output_type": "display_data"
    },
    {
     "name": "stdout",
     "output_type": "stream",
     "text": [
      "iteration: 8\n"
     ]
    },
    {
     "data": {
      "image/png": "[encoded data removed]",
      "text/plain": [
       "<Figure size 576x360 with 1 Axes>"
      ]
     },
     "metadata": {
      "needs_background": "light"
     },
     "output_type": "display_data"
    },
    {
     "name": "stdout",
     "output_type": "stream",
     "text": [
      "iteration: 9\n"
     ]
    },
    {
     "data": {
      "image/png": "[encoded data removed]",
      "text/plain": [
       "<Figure size 576x360 with 1 Axes>"
      ]
     },
     "metadata": {
      "needs_background": "light"
     },
     "output_type": "display_data"
    },
    {
     "name": "stdout",
     "output_type": "stream",
     "text": [
      "Collecting openpyxl\r\n",
      "  Downloading openpyxl-3.1.0-py2.py3-none-any.whl (250 kB)\r\n",
      "\u001b[2K     \u001b[90m━━━━━━━━━━━━━━━━━━━━━━━━━━━━━━━━━━━━━━━\u001b[0m \u001b[32m250.0/250.0 kB\u001b[0m \u001b[31m1.6 MB/s\u001b[0m eta \u001b[36m0:00:00\u001b[0m\r\n",
      "\u001b[?25hCollecting et-xmlfile\r\n",
      "  Downloading et_xmlfile-1.1.0-py3-none-any.whl (4.7 kB)\r\n",
      "Installing collected packages: et-xmlfile, openpyxl\r\n",
      "Successfully installed et-xmlfile-1.1.0 openpyxl-3.1.0\r\n",
      "\u001b[33mWARNING: Running pip as the 'root' user can result in broken permissions and conflicting behaviour with the system package manager. It is recommended to use a virtual environment instead: https://pip.pypa.io/warnings/venv\u001b[0m\u001b[33m\r\n",
      "\u001b[0m"
     ]
    }
   ],
   "source": [
    "from sklearn.metrics import classification_report, balanced_accuracy_score, roc_auc_score\n",
    "from sklearn.metrics import normalized_mutual_info_score, mutual_info_score, adjusted_mutual_info_score\n",
    "import pandas as pd\n",
    "l1 =0.1\n",
    "NUM_RUNS =10\n",
    "custom_loss = \"Rod\"\n",
    "\n",
    "\n",
    "results = []\n",
    "for i in range(NUM_RUNS):\n",
    "\n",
    "    print(\"iteration: \" + str(i))\n",
    "   \n",
    "    MA = Keras_MA_CrowdL(epochs=100,batch_size=64,R= Y_train.shape[1], K=len(np.unique(Y_true_test)), dropout=0.25, learning_rate=0.001,optimizer='Adam', \n",
    "                l1_param=l1,  validation_split=0, verbose=0)\n",
    "    \n",
    "    MA.fit(X_train, Y_train)\n",
    "    MA.plot_history()\n",
    "  \n",
    "    # Generate the predictions for the current run\n",
    "    pred_2 = MA.predict2(X_test)\n",
    "     \n",
    "    acc, auc, auc_sk,  nmi,  bacc = evaluation_metrics(Y_true_test,  pred_2, print_result=False)  # mi, ami,\n",
    "    \n",
    "    # Save the results for the current run to the list of dictionaries\n",
    "    results.append({\n",
    "        #'run': i,\n",
    "        'accuracy': acc,\n",
    "        'balanced_accuracy': bacc,\n",
    "       # 'mutual_information': mi,\n",
    "        'normalized_mutual_information': nmi,\n",
    "     #   'adjusted_mutual_information': ami,\n",
    "        'auc_tensorflow': auc,\n",
    "        'auc_scikit_learn': auc_sk,\n",
    "    })\n",
    "    \n",
    "# Convert the list of dictionaries to a DataFrame\n",
    "df = np.round(pd.DataFrame(results)*100, 2)\n",
    "\n",
    "# Calculate the mean and standard deviation of each metric\n",
    "mean = np.round(df.mean(),2)\n",
    "std = np.round(df.std(),2)  \n",
    "\n",
    "\n",
    "\n",
    " \n",
    "\n",
    "result_df = pd.concat([mean.rename('Mean'), std.rename('Std')], axis=1)\n",
    "\n",
    "\n",
    "\n",
    "# Save the DataFrame to an excel file\n",
    "!pip install openpyxl\n",
    "result_df.to_excel('/kaggle/working/'+ database + custom_loss + \".xlsx\")"
   ]
  },
  {
   "cell_type": "code",
   "execution_count": 20,
   "id": "f50a7c54",
   "metadata": {
    "execution": {
     "iopub.execute_input": "2023-02-13T14:41:48.397887Z",
     "iopub.status.busy": "2023-02-13T14:41:48.396841Z",
     "iopub.status.idle": "2023-02-13T14:41:48.422961Z",
     "shell.execute_reply": "2023-02-13T14:41:48.421514Z"
    },
    "papermill": {
     "duration": 0.049422,
     "end_time": "2023-02-13T14:41:48.426625",
     "exception": false,
     "start_time": "2023-02-13T14:41:48.377203",
     "status": "completed"
    },
    "tags": []
   },
   "outputs": [
    {
     "data": {
      "text/html": [
       "<div>\n",
       "<style scoped>\n",
       "    .dataframe tbody tr th:only-of-type {\n",
       "        vertical-align: middle;\n",
       "    }\n",
       "\n",
       "    .dataframe tbody tr th {\n",
       "        vertical-align: top;\n",
       "    }\n",
       "\n",
       "    .dataframe thead th {\n",
       "        text-align: right;\n",
       "    }\n",
       "</style>\n",
       "<table border=\"1\" class=\"dataframe\">\n",
       "  <thead>\n",
       "    <tr style=\"text-align: right;\">\n",
       "      <th></th>\n",
       "      <th>accuracy</th>\n",
       "      <th>balanced_accuracy</th>\n",
       "      <th>normalized_mutual_information</th>\n",
       "      <th>auc_tensorflow</th>\n",
       "      <th>auc_scikit_learn</th>\n",
       "    </tr>\n",
       "  </thead>\n",
       "  <tbody>\n",
       "    <tr>\n",
       "      <th>0</th>\n",
       "      <td>62.15</td>\n",
       "      <td>0.0</td>\n",
       "      <td>0.0</td>\n",
       "      <td>50.0</td>\n",
       "      <td>55.82</td>\n",
       "    </tr>\n",
       "    <tr>\n",
       "      <th>1</th>\n",
       "      <td>62.15</td>\n",
       "      <td>0.0</td>\n",
       "      <td>0.0</td>\n",
       "      <td>50.0</td>\n",
       "      <td>44.65</td>\n",
       "    </tr>\n",
       "    <tr>\n",
       "      <th>2</th>\n",
       "      <td>62.15</td>\n",
       "      <td>0.0</td>\n",
       "      <td>0.0</td>\n",
       "      <td>50.0</td>\n",
       "      <td>48.99</td>\n",
       "    </tr>\n",
       "    <tr>\n",
       "      <th>3</th>\n",
       "      <td>62.15</td>\n",
       "      <td>0.0</td>\n",
       "      <td>0.0</td>\n",
       "      <td>50.0</td>\n",
       "      <td>37.78</td>\n",
       "    </tr>\n",
       "    <tr>\n",
       "      <th>4</th>\n",
       "      <td>62.15</td>\n",
       "      <td>0.0</td>\n",
       "      <td>0.0</td>\n",
       "      <td>50.0</td>\n",
       "      <td>50.57</td>\n",
       "    </tr>\n",
       "    <tr>\n",
       "      <th>5</th>\n",
       "      <td>62.15</td>\n",
       "      <td>0.0</td>\n",
       "      <td>0.0</td>\n",
       "      <td>50.0</td>\n",
       "      <td>61.61</td>\n",
       "    </tr>\n",
       "    <tr>\n",
       "      <th>6</th>\n",
       "      <td>62.15</td>\n",
       "      <td>0.0</td>\n",
       "      <td>0.0</td>\n",
       "      <td>50.0</td>\n",
       "      <td>57.94</td>\n",
       "    </tr>\n",
       "    <tr>\n",
       "      <th>7</th>\n",
       "      <td>62.15</td>\n",
       "      <td>0.0</td>\n",
       "      <td>0.0</td>\n",
       "      <td>50.0</td>\n",
       "      <td>33.05</td>\n",
       "    </tr>\n",
       "    <tr>\n",
       "      <th>8</th>\n",
       "      <td>62.15</td>\n",
       "      <td>0.0</td>\n",
       "      <td>0.0</td>\n",
       "      <td>50.0</td>\n",
       "      <td>43.84</td>\n",
       "    </tr>\n",
       "    <tr>\n",
       "      <th>9</th>\n",
       "      <td>62.15</td>\n",
       "      <td>0.0</td>\n",
       "      <td>0.0</td>\n",
       "      <td>50.0</td>\n",
       "      <td>59.62</td>\n",
       "    </tr>\n",
       "  </tbody>\n",
       "</table>\n",
       "</div>"
      ],
      "text/plain": [
       "   accuracy  balanced_accuracy  normalized_mutual_information  auc_tensorflow  \\\n",
       "0     62.15                0.0                            0.0            50.0   \n",
       "1     62.15                0.0                            0.0            50.0   \n",
       "2     62.15                0.0                            0.0            50.0   \n",
       "3     62.15                0.0                            0.0            50.0   \n",
       "4     62.15                0.0                            0.0            50.0   \n",
       "5     62.15                0.0                            0.0            50.0   \n",
       "6     62.15                0.0                            0.0            50.0   \n",
       "7     62.15                0.0                            0.0            50.0   \n",
       "8     62.15                0.0                            0.0            50.0   \n",
       "9     62.15                0.0                            0.0            50.0   \n",
       "\n",
       "   auc_scikit_learn  \n",
       "0             55.82  \n",
       "1             44.65  \n",
       "2             48.99  \n",
       "3             37.78  \n",
       "4             50.57  \n",
       "5             61.61  \n",
       "6             57.94  \n",
       "7             33.05  \n",
       "8             43.84  \n",
       "9             59.62  "
      ]
     },
     "execution_count": 20,
     "metadata": {},
     "output_type": "execute_result"
    }
   ],
   "source": [
    "df"
   ]
  },
  {
   "cell_type": "code",
   "execution_count": 21,
   "id": "e68334ba",
   "metadata": {
    "execution": {
     "iopub.execute_input": "2023-02-13T14:41:48.461942Z",
     "iopub.status.busy": "2023-02-13T14:41:48.460706Z",
     "iopub.status.idle": "2023-02-13T14:41:48.473813Z",
     "shell.execute_reply": "2023-02-13T14:41:48.472483Z"
    },
    "papermill": {
     "duration": 0.033368,
     "end_time": "2023-02-13T14:41:48.476678",
     "exception": false,
     "start_time": "2023-02-13T14:41:48.443310",
     "status": "completed"
    },
    "tags": []
   },
   "outputs": [
    {
     "data": {
      "text/html": [
       "<div>\n",
       "<style scoped>\n",
       "    .dataframe tbody tr th:only-of-type {\n",
       "        vertical-align: middle;\n",
       "    }\n",
       "\n",
       "    .dataframe tbody tr th {\n",
       "        vertical-align: top;\n",
       "    }\n",
       "\n",
       "    .dataframe thead th {\n",
       "        text-align: right;\n",
       "    }\n",
       "</style>\n",
       "<table border=\"1\" class=\"dataframe\">\n",
       "  <thead>\n",
       "    <tr style=\"text-align: right;\">\n",
       "      <th></th>\n",
       "      <th>Mean</th>\n",
       "      <th>Std</th>\n",
       "    </tr>\n",
       "  </thead>\n",
       "  <tbody>\n",
       "    <tr>\n",
       "      <th>accuracy</th>\n",
       "      <td>62.15</td>\n",
       "      <td>0.00</td>\n",
       "    </tr>\n",
       "    <tr>\n",
       "      <th>balanced_accuracy</th>\n",
       "      <td>0.00</td>\n",
       "      <td>0.00</td>\n",
       "    </tr>\n",
       "    <tr>\n",
       "      <th>normalized_mutual_information</th>\n",
       "      <td>0.00</td>\n",
       "      <td>0.00</td>\n",
       "    </tr>\n",
       "    <tr>\n",
       "      <th>auc_tensorflow</th>\n",
       "      <td>50.00</td>\n",
       "      <td>0.00</td>\n",
       "    </tr>\n",
       "    <tr>\n",
       "      <th>auc_scikit_learn</th>\n",
       "      <td>49.39</td>\n",
       "      <td>9.57</td>\n",
       "    </tr>\n",
       "  </tbody>\n",
       "</table>\n",
       "</div>"
      ],
      "text/plain": [
       "                                Mean   Std\n",
       "accuracy                       62.15  0.00\n",
       "balanced_accuracy               0.00  0.00\n",
       "normalized_mutual_information   0.00  0.00\n",
       "auc_tensorflow                 50.00  0.00\n",
       "auc_scikit_learn               49.39  9.57"
      ]
     },
     "execution_count": 21,
     "metadata": {},
     "output_type": "execute_result"
    }
   ],
   "source": [
    "result_df"
   ]
  }
 ],
 "metadata": {
  "kernelspec": {
   "display_name": "Python 3",
   "language": "python",
   "name": "python3"
  },
  "language_info": {
   "codemirror_mode": {
    "name": "ipython",
    "version": 3
   },
   "file_extension": ".py",
   "mimetype": "text/x-python",
   "name": "python",
   "nbconvert_exporter": "python",
   "pygments_lexer": "ipython3",
   "version": "3.7.12"
  },
  "papermill": {
   "default_parameters": {},
   "duration": 154.620267,
   "end_time": "2023-02-13T14:41:51.603541",
   "environment_variables": {},
   "exception": null,
   "input_path": "__notebook__.ipynb",
   "output_path": "__notebook__.ipynb",
   "parameters": {},
   "start_time": "2023-02-13T14:39:16.983274",
   "version": "2.3.4"
  }
 },
 "nbformat": 4,
 "nbformat_minor": 5
}
